{
  "nbformat": 4,
  "nbformat_minor": 0,
  "metadata": {
    "colab": {
      "name": "05_standardization.ipynb",
      "provenance": [],
      "collapsed_sections": []
    },
    "kernelspec": {
      "name": "python3",
      "display_name": "Python 3"
    },
    "language_info": {
      "name": "python"
    }
  },
  "cells": [
    {
      "cell_type": "markdown",
      "metadata": {
        "id": "RA_zd5BvsXyk"
      },
      "source": [
        "## Google Driveのマウント"
      ]
    },
    {
      "cell_type": "code",
      "metadata": {
        "colab": {
          "base_uri": "https://localhost:8080/"
        },
        "id": "ARmR6Kdbsayr",
        "outputId": "d9a8d087-ef81-4344-b029-33fdcb4cc37d"
      },
      "source": [
        "from google.colab import drive\n",
        "drive.mount('/content/drive')"
      ],
      "execution_count": null,
      "outputs": [
        {
          "output_type": "stream",
          "name": "stdout",
          "text": [
            "Mounted at /content/drive\n"
          ]
        }
      ]
    },
    {
      "cell_type": "markdown",
      "metadata": {
        "id": "TCEUaFVvsc6a"
      },
      "source": [
        "## データセットの準備"
      ]
    },
    {
      "cell_type": "code",
      "metadata": {
        "id": "yFYRlGskoctf",
        "colab": {
          "base_uri": "https://localhost:8080/"
        },
        "outputId": "8b94c8e3-bcfb-40ed-8780-734183e80d97"
      },
      "source": [
        "# kaggle ライブラリのインストール\n",
        "!pip install kaggle\n",
        "\n",
        "# 一時フォルダに .kaggleフォルダを作成\n",
        "!mkdir ~/.kaggle\n",
        "\n",
        "# MyDrive の kaggle.json を一時フォルダ内の .kaggleフォルダにコピー\n",
        "!cp /content/drive/MyDrive/kaggle/kaggle.json ~/.kaggle/\n",
        "\n",
        "# アクセス権限の設定\n",
        "!chmod 600 ~/.kaggle/kaggle.json\n",
        "\n",
        "!mkdir ~/.kaggle\n",
        "\n",
        "# zipファイルのダウンロード\n",
        "!kaggle datasets download -d ashaheedq/video-games-sales-2019 -p /content/drive/MyDrive/kaggle\n",
        "\n",
        "# 解凍\n",
        "!unzip /content/drive/MyDrive/kaggle/video-games-sales-2019.zip -d /content/drive/MyDrive/kaggle\n",
        "\n",
        "!rm /content/drive/MyDrive/kaggle/video-games-sales-2019.zip"
      ],
      "execution_count": null,
      "outputs": [
        {
          "output_type": "stream",
          "name": "stdout",
          "text": [
            "Requirement already satisfied: kaggle in /usr/local/lib/python3.7/dist-packages (1.5.12)\n",
            "Requirement already satisfied: python-dateutil in /usr/local/lib/python3.7/dist-packages (from kaggle) (2.8.2)\n",
            "Requirement already satisfied: six>=1.10 in /usr/local/lib/python3.7/dist-packages (from kaggle) (1.15.0)\n",
            "Requirement already satisfied: certifi in /usr/local/lib/python3.7/dist-packages (from kaggle) (2021.10.8)\n",
            "Requirement already satisfied: python-slugify in /usr/local/lib/python3.7/dist-packages (from kaggle) (5.0.2)\n",
            "Requirement already satisfied: urllib3 in /usr/local/lib/python3.7/dist-packages (from kaggle) (1.24.3)\n",
            "Requirement already satisfied: requests in /usr/local/lib/python3.7/dist-packages (from kaggle) (2.23.0)\n",
            "Requirement already satisfied: tqdm in /usr/local/lib/python3.7/dist-packages (from kaggle) (4.62.3)\n",
            "Requirement already satisfied: text-unidecode>=1.3 in /usr/local/lib/python3.7/dist-packages (from python-slugify->kaggle) (1.3)\n",
            "Requirement already satisfied: idna<3,>=2.5 in /usr/local/lib/python3.7/dist-packages (from requests->kaggle) (2.10)\n",
            "Requirement already satisfied: chardet<4,>=3.0.2 in /usr/local/lib/python3.7/dist-packages (from requests->kaggle) (3.0.4)\n",
            "mkdir: cannot create directory ‘/root/.kaggle’: File exists\n",
            "Downloading video-games-sales-2019.zip to /content/drive/MyDrive/kaggle\n",
            "  0% 0.00/3.98M [00:00<?, ?B/s]\n",
            "100% 3.98M/3.98M [00:00<00:00, 63.3MB/s]\n",
            "Archive:  /content/drive/MyDrive/kaggle/video-games-sales-2019.zip\n",
            "replace /content/drive/MyDrive/kaggle/vgsales-12-4-2019-short.csv? [y]es, [n]o, [A]ll, [N]one, [r]ename: None\n"
          ]
        }
      ]
    },
    {
      "cell_type": "markdown",
      "metadata": {
        "id": "PBqKPKFtsiKi"
      },
      "source": [
        "## データの読込"
      ]
    },
    {
      "cell_type": "code",
      "metadata": {
        "colab": {
          "base_uri": "https://localhost:8080/",
          "height": 250
        },
        "id": "TSY5GPLirTwt",
        "outputId": "11fdde6e-4eab-4644-b104-ecca555a7787"
      },
      "source": [
        "import pandas as pd\n",
        "df = pd.read_csv(\"/content/drive/MyDrive/kaggle/vgsales-12-4-2019.csv\")\n",
        "df.head(3)"
      ],
      "execution_count": null,
      "outputs": [
        {
          "output_type": "execute_result",
          "data": {
            "text/html": [
              "<div>\n",
              "<style scoped>\n",
              "    .dataframe tbody tr th:only-of-type {\n",
              "        vertical-align: middle;\n",
              "    }\n",
              "\n",
              "    .dataframe tbody tr th {\n",
              "        vertical-align: top;\n",
              "    }\n",
              "\n",
              "    .dataframe thead th {\n",
              "        text-align: right;\n",
              "    }\n",
              "</style>\n",
              "<table border=\"1\" class=\"dataframe\">\n",
              "  <thead>\n",
              "    <tr style=\"text-align: right;\">\n",
              "      <th></th>\n",
              "      <th>Rank</th>\n",
              "      <th>Name</th>\n",
              "      <th>basename</th>\n",
              "      <th>Genre</th>\n",
              "      <th>ESRB_Rating</th>\n",
              "      <th>Platform</th>\n",
              "      <th>Publisher</th>\n",
              "      <th>Developer</th>\n",
              "      <th>VGChartz_Score</th>\n",
              "      <th>Critic_Score</th>\n",
              "      <th>User_Score</th>\n",
              "      <th>Total_Shipped</th>\n",
              "      <th>Global_Sales</th>\n",
              "      <th>NA_Sales</th>\n",
              "      <th>PAL_Sales</th>\n",
              "      <th>JP_Sales</th>\n",
              "      <th>Other_Sales</th>\n",
              "      <th>Year</th>\n",
              "      <th>Last_Update</th>\n",
              "      <th>url</th>\n",
              "      <th>status</th>\n",
              "      <th>Vgchartzscore</th>\n",
              "      <th>img_url</th>\n",
              "    </tr>\n",
              "  </thead>\n",
              "  <tbody>\n",
              "    <tr>\n",
              "      <th>0</th>\n",
              "      <td>1</td>\n",
              "      <td>Wii Sports</td>\n",
              "      <td>wii-sports</td>\n",
              "      <td>Sports</td>\n",
              "      <td>E</td>\n",
              "      <td>Wii</td>\n",
              "      <td>Nintendo</td>\n",
              "      <td>Nintendo EAD</td>\n",
              "      <td>NaN</td>\n",
              "      <td>7.7</td>\n",
              "      <td>NaN</td>\n",
              "      <td>82.86</td>\n",
              "      <td>NaN</td>\n",
              "      <td>NaN</td>\n",
              "      <td>NaN</td>\n",
              "      <td>NaN</td>\n",
              "      <td>NaN</td>\n",
              "      <td>2006.0</td>\n",
              "      <td>NaN</td>\n",
              "      <td>http://www.vgchartz.com/game/2667/wii-sports/?...</td>\n",
              "      <td>1</td>\n",
              "      <td>NaN</td>\n",
              "      <td>/games/boxart/full_2258645AmericaFrontccc.jpg</td>\n",
              "    </tr>\n",
              "    <tr>\n",
              "      <th>1</th>\n",
              "      <td>2</td>\n",
              "      <td>Super Mario Bros.</td>\n",
              "      <td>super-mario-bros</td>\n",
              "      <td>Platform</td>\n",
              "      <td>NaN</td>\n",
              "      <td>NES</td>\n",
              "      <td>Nintendo</td>\n",
              "      <td>Nintendo EAD</td>\n",
              "      <td>NaN</td>\n",
              "      <td>10.0</td>\n",
              "      <td>NaN</td>\n",
              "      <td>40.24</td>\n",
              "      <td>NaN</td>\n",
              "      <td>NaN</td>\n",
              "      <td>NaN</td>\n",
              "      <td>NaN</td>\n",
              "      <td>NaN</td>\n",
              "      <td>1985.0</td>\n",
              "      <td>NaN</td>\n",
              "      <td>http://www.vgchartz.com/game/6455/super-mario-...</td>\n",
              "      <td>1</td>\n",
              "      <td>NaN</td>\n",
              "      <td>/games/boxart/8972270ccc.jpg</td>\n",
              "    </tr>\n",
              "    <tr>\n",
              "      <th>2</th>\n",
              "      <td>3</td>\n",
              "      <td>Mario Kart Wii</td>\n",
              "      <td>mario-kart-wii</td>\n",
              "      <td>Racing</td>\n",
              "      <td>E</td>\n",
              "      <td>Wii</td>\n",
              "      <td>Nintendo</td>\n",
              "      <td>Nintendo EAD</td>\n",
              "      <td>NaN</td>\n",
              "      <td>8.2</td>\n",
              "      <td>9.1</td>\n",
              "      <td>37.14</td>\n",
              "      <td>NaN</td>\n",
              "      <td>NaN</td>\n",
              "      <td>NaN</td>\n",
              "      <td>NaN</td>\n",
              "      <td>NaN</td>\n",
              "      <td>2008.0</td>\n",
              "      <td>11th Apr 18</td>\n",
              "      <td>http://www.vgchartz.com/game/6968/mario-kart-w...</td>\n",
              "      <td>1</td>\n",
              "      <td>8.7</td>\n",
              "      <td>/games/boxart/full_8932480AmericaFrontccc.jpg</td>\n",
              "    </tr>\n",
              "  </tbody>\n",
              "</table>\n",
              "</div>"
            ],
            "text/plain": [
              "   Rank  ...                                        img_url\n",
              "0     1  ...  /games/boxart/full_2258645AmericaFrontccc.jpg\n",
              "1     2  ...                   /games/boxart/8972270ccc.jpg\n",
              "2     3  ...  /games/boxart/full_8932480AmericaFrontccc.jpg\n",
              "\n",
              "[3 rows x 23 columns]"
            ]
          },
          "metadata": {},
          "execution_count": 3
        }
      ]
    },
    {
      "cell_type": "markdown",
      "metadata": {
        "id": "YBGaW5_Kxg_E"
      },
      "source": [
        "## 正規化"
      ]
    },
    {
      "cell_type": "code",
      "metadata": {
        "id": "4LET_zvUxhHD"
      },
      "source": [
        "import os\n",
        "import random\n",
        "import numpy as np\n",
        "import lightgbm as lgb\n",
        "from sklearn.model_selection import train_test_split\n",
        "from matplotlib import pyplot as plt\n",
        "import numpy as np\n",
        "from sklearn.metrics import mean_squared_error\n",
        "\n",
        "from sklearn.preprocessing import StandardScaler\n",
        "from sklearn.preprocessing import MinMaxScaler"
      ],
      "execution_count": null,
      "outputs": []
    },
    {
      "cell_type": "code",
      "metadata": {
        "id": "rc3u7Mzi0Amv"
      },
      "source": [
        "# シード値の固定\n",
        "SEED = 42\n",
        "\n",
        "random.seed(SEED)\n",
        "os.environ['PYTHONHASHSEED'] = str(SEED)\n",
        "np.random.seed(SEED)"
      ],
      "execution_count": null,
      "outputs": []
    },
    {
      "cell_type": "code",
      "metadata": {
        "id": "XMikPXSDsFqS"
      },
      "source": [
        "X_train, X_test, y_train, y_test = train_test_split(\n",
        "                                                    df.dropna(subset=[\"Global_Sales\"]).drop([\"Global_Sales\",  \"NA_Sales\", \"PAL_Sales\", \"JP_Sales\", \"Other_Sales\"], axis=1).select_dtypes(include=\"number\"), \n",
        "                                                    df.dropna(subset=[\"Global_Sales\"])[\"Global_Sales\"],  \n",
        "                                                    test_size=0.3,\n",
        "                                                    shuffle=True, \n",
        "                                                    random_state=42\n",
        "                                                    ) "
      ],
      "execution_count": null,
      "outputs": []
    },
    {
      "cell_type": "code",
      "metadata": {
        "id": "_pAbHDd9L_rT"
      },
      "source": [
        "# 欠損値の除去\n",
        "X_train = X_train.fillna(X_train.median())\n",
        "X_train = X_train.dropna(axis=1)\n",
        "\n",
        "X_test = X_test.fillna(X_test.median())\n",
        "X_test = X_test.dropna(axis=1)"
      ],
      "execution_count": null,
      "outputs": []
    },
    {
      "cell_type": "markdown",
      "metadata": {
        "id": "8AQ_fglTlb3t"
      },
      "source": [
        "## 標準化・正規化前"
      ]
    },
    {
      "cell_type": "code",
      "metadata": {
        "id": "Sd-STk-mxL4v"
      },
      "source": [
        "# データセットを登録\n",
        "lgb_train = lgb.Dataset(X_train, y_train)\n",
        "lgb_test = lgb.Dataset(X_test, y_test, reference=lgb_train)"
      ],
      "execution_count": null,
      "outputs": []
    },
    {
      "cell_type": "code",
      "metadata": {
        "id": "Sk5rDkRJxN7_"
      },
      "source": [
        "params = {\n",
        "          'task': 'train',                      # タスクを訓練に設定\n",
        "          'boosting_type': 'gbdt',      # GBDTを指定\n",
        "          'objective': 'regression',    # 回帰を指定\n",
        "          'metric': {'rmse'},              # 回帰の損失（誤差）\n",
        "          'learning_rate': 0.1,         # 学習率\n",
        "          }"
      ],
      "execution_count": null,
      "outputs": []
    },
    {
      "cell_type": "code",
      "metadata": {
        "colab": {
          "base_uri": "https://localhost:8080/"
        },
        "id": "i60ddrQdxT3u",
        "outputId": "ebf3305a-0c84-4ea8-e8cb-6d7ce237db33"
      },
      "source": [
        "lgb_results = {}                                    # 学習の履歴を入れる入物\n",
        "\n",
        "model = lgb.train(\n",
        "                  params=params,                    # ハイパーパラメータをセット\n",
        "                  train_set=lgb_train,              # 訓練データを訓練用にセット\n",
        "                  valid_sets=[lgb_train, lgb_test], # 訓練データとテストデータをセット\n",
        "                  valid_names=['Train', 'Test'],    # データセットの名前をそれぞれ設定\n",
        "                  num_boost_round=100,              # 計算回数\n",
        "                  early_stopping_rounds=50,         # アーリーストッピング設定\n",
        "                  evals_result=lgb_results,\n",
        "                  verbose_eval=-1,                           # ログを最後の1つだけ表示\n",
        "                  )  "
      ],
      "execution_count": null,
      "outputs": [
        {
          "output_type": "stream",
          "name": "stdout",
          "text": [
            "Training until validation scores don't improve for 50 rounds.\n",
            "Early stopping, best iteration is:\n",
            "[47]\tTrain's rmse: 0.186339\tTest's rmse: 0.242908\n"
          ]
        }
      ]
    },
    {
      "cell_type": "code",
      "metadata": {
        "colab": {
          "base_uri": "https://localhost:8080/",
          "height": 279
        },
        "id": "6ZMtF34ZKEmp",
        "outputId": "4168f2b7-85b5-4f34-e465-8cd5ac8ceb50"
      },
      "source": [
        "### 損失推移を表示\n",
        "loss_train = lgb_results['Train']['rmse']\n",
        "loss_test = lgb_results['Test']['rmse']   \n",
        "  \n",
        "fig = plt.figure()\n",
        "ax1 = fig.add_subplot(111)\n",
        "  \n",
        "ax1.set_xlabel('Iteration')\n",
        "ax1.set_ylabel('logloss')\n",
        " \n",
        "ax1.plot(loss_train, label='train loss')\n",
        "ax1.plot(loss_test, label='test loss')\n",
        " \n",
        "plt.legend()\n",
        "plt.show()"
      ],
      "execution_count": null,
      "outputs": [
        {
          "output_type": "display_data",
          "data": {
            "image/png": "[encoded data removed]",
            "text/plain": [
              "<Figure size 432x288 with 1 Axes>"
            ]
          },
          "metadata": {
            "needs_background": "light"
          }
        }
      ]
    },
    {
      "cell_type": "code",
      "metadata": {
        "id": "QnaQ4WO6xWGP",
        "colab": {
          "base_uri": "https://localhost:8080/"
        },
        "outputId": "f7fc665c-7a29-4b19-a7f1-0f3a4f1f4ca9"
      },
      "source": [
        "y_pred = model.predict(X_test)\n",
        "\n",
        "rmse = mean_squared_error(y_test, y_pred, squared=False)\n",
        "print(rmse)"
      ],
      "execution_count": null,
      "outputs": [
        {
          "output_type": "stream",
          "name": "stdout",
          "text": [
            "0.24290787668071306\n"
          ]
        }
      ]
    },
    {
      "cell_type": "markdown",
      "metadata": {
        "id": "Ndg6zopAleab"
      },
      "source": [
        "## 標準化後"
      ]
    },
    {
      "cell_type": "code",
      "metadata": {
        "id": "NfoWWdUClr5m"
      },
      "source": [
        "sc = StandardScaler()"
      ],
      "execution_count": null,
      "outputs": []
    },
    {
      "cell_type": "code",
      "metadata": {
        "id": "wEK0nCSelvJE"
      },
      "source": [
        "X_train_sc = pd.DataFrame(\n",
        "                            sc.fit_transform(X_train),\n",
        "                            columns=X_train.columns\n",
        "                            )"
      ],
      "execution_count": null,
      "outputs": []
    },
    {
      "cell_type": "code",
      "metadata": {
        "id": "sIvSsOaGmhKO"
      },
      "source": [
        "X_test_sc = pd.DataFrame(\n",
        "                            sc.transform(X_test),\n",
        "                            columns=X_test.columns\n",
        "                            )"
      ],
      "execution_count": null,
      "outputs": []
    },
    {
      "cell_type": "code",
      "metadata": {
        "id": "uuBaQWdmyuDp"
      },
      "source": [
        "# データセットを登録\n",
        "lgb_train_sc = lgb.Dataset(X_train_sc, y_train)\n",
        "lgb_test_sc = lgb.Dataset(X_test_sc, y_test, reference=lgb_train_sc)"
      ],
      "execution_count": null,
      "outputs": []
    },
    {
      "cell_type": "code",
      "metadata": {
        "colab": {
          "base_uri": "https://localhost:8080/"
        },
        "id": "iWhGorQfmqTe",
        "outputId": "e3300003-fe2b-4637-b936-06f953234304"
      },
      "source": [
        "lgb_results = {}                                    # 学習の履歴を入れる入物\n",
        "\n",
        "model = lgb.train(\n",
        "                  params=params,                    # ハイパーパラメータをセット\n",
        "                  train_set=lgb_train_sc,              # 訓練データを訓練用にセット\n",
        "                  valid_sets=[lgb_train_sc, lgb_test_sc], # 訓練データとテストデータをセット\n",
        "                  valid_names=['Train', 'Test'],    # データセットの名前をそれぞれ設定\n",
        "                  num_boost_round=100,              # 計算回数\n",
        "                  early_stopping_rounds=50,         # アーリーストッピング設定\n",
        "                  evals_result=lgb_results,\n",
        "                  verbose_eval=-1,                           # ログを最後の1つだけ表示\n",
        "                  )  "
      ],
      "execution_count": null,
      "outputs": [
        {
          "output_type": "stream",
          "name": "stdout",
          "text": [
            "Training until validation scores don't improve for 50 rounds.\n",
            "Early stopping, best iteration is:\n",
            "[48]\tTrain's rmse: 0.185752\tTest's rmse: 0.242391\n"
          ]
        }
      ]
    },
    {
      "cell_type": "code",
      "metadata": {
        "colab": {
          "base_uri": "https://localhost:8080/",
          "height": 279
        },
        "id": "rSJSwbljJ6lh",
        "outputId": "544d7d91-eee0-4cca-e433-bfce9a1c0ebb"
      },
      "source": [
        "### 損失推移を表示\n",
        "loss_train = lgb_results['Train']['rmse']\n",
        "loss_test = lgb_results['Test']['rmse']   \n",
        "  \n",
        "fig = plt.figure()\n",
        "ax1 = fig.add_subplot(111)\n",
        "  \n",
        "ax1.set_xlabel('Iteration')\n",
        "ax1.set_ylabel('logloss')\n",
        " \n",
        "ax1.plot(loss_train, label='train loss')\n",
        "ax1.plot(loss_test, label='test loss')\n",
        " \n",
        "plt.legend()\n",
        "plt.show()"
      ],
      "execution_count": null,
      "outputs": [
        {
          "output_type": "display_data",
          "data": {
            "image/png": "[encoded data removed]",
            "text/plain": [
              "<Figure size 432x288 with 1 Axes>"
            ]
          },
          "metadata": {
            "needs_background": "light"
          }
        }
      ]
    },
    {
      "cell_type": "code",
      "metadata": {
        "id": "gbHnDJUpmzzI",
        "colab": {
          "base_uri": "https://localhost:8080/"
        },
        "outputId": "dc91359f-fd0a-4200-9fa4-95520d66f5e7"
      },
      "source": [
        "y_pred = model.predict(X_test_sc)\n",
        "\n",
        "rmse_sc = mean_squared_error(y_test, y_pred, squared=False)\n",
        "print(rmse_sc)"
      ],
      "execution_count": null,
      "outputs": [
        {
          "output_type": "stream",
          "name": "stdout",
          "text": [
            "0.24239129822702232\n"
          ]
        }
      ]
    },
    {
      "cell_type": "markdown",
      "metadata": {
        "id": "TjUUFvmOKL7A"
      },
      "source": [
        "## 標準化"
      ]
    },
    {
      "cell_type": "code",
      "metadata": {
        "id": "7-XDKSRsKOUf"
      },
      "source": [
        "nl = MinMaxScaler()"
      ],
      "execution_count": null,
      "outputs": []
    },
    {
      "cell_type": "code",
      "metadata": {
        "id": "I4_N_228KOWu"
      },
      "source": [
        "X_train_mm = pd.DataFrame(\n",
        "                            nl.fit_transform(X_train),\n",
        "                            columns=X_train.columns\n",
        "                            )"
      ],
      "execution_count": null,
      "outputs": []
    },
    {
      "cell_type": "code",
      "metadata": {
        "id": "r_g6ODzzKOZQ"
      },
      "source": [
        "X_test_mm = pd.DataFrame(\n",
        "                            nl.transform(X_test),\n",
        "                            columns=X_test.columns\n",
        "                            )"
      ],
      "execution_count": null,
      "outputs": []
    },
    {
      "cell_type": "code",
      "metadata": {
        "id": "wrXhhl3BKObu"
      },
      "source": [
        "# データセットを登録\n",
        "lgb_train_mm = lgb.Dataset(X_train_mm, y_train)\n",
        "lgb_test_mm = lgb.Dataset(X_test_mm, y_test, reference=lgb_train_mm)"
      ],
      "execution_count": null,
      "outputs": []
    },
    {
      "cell_type": "code",
      "metadata": {
        "colab": {
          "base_uri": "https://localhost:8080/"
        },
        "id": "q93TztLeKrcX",
        "outputId": "08ecd15e-a239-4ca0-f0d4-26f2f2288bed"
      },
      "source": [
        "lgb_results = {}                                    # 学習の履歴を入れる入物\n",
        "\n",
        "model = lgb.train(\n",
        "                  params=params,                    # ハイパーパラメータをセット\n",
        "                  train_set=lgb_train_mm,              # 訓練データを訓練用にセット\n",
        "                  valid_sets=[lgb_train_mm, lgb_test_mm], # 訓練データとテストデータをセット\n",
        "                  valid_names=['Train', 'Test'],    # データセットの名前をそれぞれ設定\n",
        "                  num_boost_round=100,              # 計算回数\n",
        "                  early_stopping_rounds=50,         # アーリーストッピング設定\n",
        "                  evals_result=lgb_results,\n",
        "                  verbose_eval=-1,                           # ログを最後の1つだけ表示\n",
        "                  )  "
      ],
      "execution_count": null,
      "outputs": [
        {
          "output_type": "stream",
          "name": "stdout",
          "text": [
            "Training until validation scores don't improve for 50 rounds.\n",
            "Did not meet early stopping. Best iteration is:\n",
            "[100]\tTrain's rmse: 0.182075\tTest's rmse: 0.254707\n"
          ]
        }
      ]
    },
    {
      "cell_type": "code",
      "metadata": {
        "colab": {
          "base_uri": "https://localhost:8080/",
          "height": 279
        },
        "id": "gVSfBE1rKrea",
        "outputId": "d60be2dd-1ee7-4deb-b5dd-5aae031bd31a"
      },
      "source": [
        "### 損失推移を表示\n",
        "loss_train = lgb_results['Train']['rmse']\n",
        "loss_test = lgb_results['Test']['rmse']   \n",
        "  \n",
        "fig = plt.figure()\n",
        "ax1 = fig.add_subplot(111)\n",
        "  \n",
        "ax1.set_xlabel('Iteration')\n",
        "ax1.set_ylabel('logloss')\n",
        " \n",
        "ax1.plot(loss_train, label='train loss')\n",
        "ax1.plot(loss_test, label='test loss')\n",
        " \n",
        "plt.legend()\n",
        "plt.show()"
      ],
      "execution_count": null,
      "outputs": [
        {
          "output_type": "display_data",
          "data": {
            "image/png": "[encoded data removed]",
            "text/plain": [
              "<Figure size 432x288 with 1 Axes>"
            ]
          },
          "metadata": {
            "needs_background": "light"
          }
        }
      ]
    },
    {
      "cell_type": "code",
      "metadata": {
        "colab": {
          "base_uri": "https://localhost:8080/"
        },
        "id": "iIj7ZxXwK9Ui",
        "outputId": "f9eb09e6-3942-4e91-e53f-568d1fb0d407"
      },
      "source": [
        "y_pred = model.predict(X_test_mm)\n",
        "\n",
        "rmse_mm = mean_squared_error(y_test, y_pred, squared=False)\n",
        "print(rmse_mm)"
      ],
      "execution_count": null,
      "outputs": [
        {
          "output_type": "stream",
          "name": "stdout",
          "text": [
            "0.25470676902648787\n"
          ]
        }
      ]
    },
    {
      "cell_type": "code",
      "metadata": {
        "colab": {
          "base_uri": "https://localhost:8080/"
        },
        "id": "H4et2P98m1ab",
        "outputId": "5d4ba522-e82a-4a95-97bc-a20001bdf8cf"
      },
      "source": [
        "print(\"標準化・正規化前 RMSE:\", round(rmse, 4))\n",
        "print(\"標準化後 RMSE:\", round(rmse_sc, 4))\n",
        "print(\"正規化後 RMSE:\", round(rmse_mm, 4))"
      ],
      "execution_count": null,
      "outputs": [
        {
          "output_type": "stream",
          "name": "stdout",
          "text": [
            "標準化・正規化前 RMSE: 0.2429\n",
            "標準化後 RMSE: 0.2424\n",
            "正規化後 RMSE: 0.2547\n"
          ]
        }
      ]
    },
    {
      "cell_type": "code",
      "metadata": {
        "id": "BUQsU9fJ89OP"
      },
      "source": [
        ""
      ],
      "execution_count": null,
      "outputs": []
    }
  ]
}