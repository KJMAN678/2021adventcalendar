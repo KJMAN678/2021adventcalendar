{
 "cells": [
  {
   "cell_type": "markdown",
   "metadata": {
    "id": "PBqKPKFtsiKi"
   },
   "source": [
    "## データの読込"
   ]
  },
  {
   "cell_type": "code",
   "execution_count": 1,
   "metadata": {
    "colab": {
     "base_uri": "https://localhost:8080/",
     "height": 294
    },
    "id": "TSY5GPLirTwt",
    "outputId": "6738e631-3c72-4f7c-fa70-9f42cb641f8e"
   },
   "outputs": [
    {
     "data": {
      "text/html": [
       "<div>\n",
       "<style scoped>\n",
       "    .dataframe tbody tr th:only-of-type {\n",
       "        vertical-align: middle;\n",
       "    }\n",
       "\n",
       "    .dataframe tbody tr th {\n",
       "        vertical-align: top;\n",
       "    }\n",
       "\n",
       "    .dataframe thead th {\n",
       "        text-align: right;\n",
       "    }\n",
       "</style>\n",
       "<table border=\"1\" class=\"dataframe\">\n",
       "  <thead>\n",
       "    <tr style=\"text-align: right;\">\n",
       "      <th></th>\n",
       "      <th>Rank</th>\n",
       "      <th>Name</th>\n",
       "      <th>basename</th>\n",
       "      <th>Genre</th>\n",
       "      <th>ESRB_Rating</th>\n",
       "      <th>Platform</th>\n",
       "      <th>Publisher</th>\n",
       "      <th>Developer</th>\n",
       "      <th>VGChartz_Score</th>\n",
       "      <th>Critic_Score</th>\n",
       "      <th>...</th>\n",
       "      <th>NA_Sales</th>\n",
       "      <th>PAL_Sales</th>\n",
       "      <th>JP_Sales</th>\n",
       "      <th>Other_Sales</th>\n",
       "      <th>Year</th>\n",
       "      <th>Last_Update</th>\n",
       "      <th>url</th>\n",
       "      <th>status</th>\n",
       "      <th>Vgchartzscore</th>\n",
       "      <th>img_url</th>\n",
       "    </tr>\n",
       "  </thead>\n",
       "  <tbody>\n",
       "    <tr>\n",
       "      <th>0</th>\n",
       "      <td>1</td>\n",
       "      <td>Wii Sports</td>\n",
       "      <td>wii-sports</td>\n",
       "      <td>Sports</td>\n",
       "      <td>E</td>\n",
       "      <td>Wii</td>\n",
       "      <td>Nintendo</td>\n",
       "      <td>Nintendo EAD</td>\n",
       "      <td>NaN</td>\n",
       "      <td>7.7</td>\n",
       "      <td>...</td>\n",
       "      <td>NaN</td>\n",
       "      <td>NaN</td>\n",
       "      <td>NaN</td>\n",
       "      <td>NaN</td>\n",
       "      <td>2006.0</td>\n",
       "      <td>NaN</td>\n",
       "      <td>http://www.vgchartz.com/game/2667/wii-sports/?...</td>\n",
       "      <td>1</td>\n",
       "      <td>NaN</td>\n",
       "      <td>/games/boxart/full_2258645AmericaFrontccc.jpg</td>\n",
       "    </tr>\n",
       "    <tr>\n",
       "      <th>1</th>\n",
       "      <td>2</td>\n",
       "      <td>Super Mario Bros.</td>\n",
       "      <td>super-mario-bros</td>\n",
       "      <td>Platform</td>\n",
       "      <td>NaN</td>\n",
       "      <td>NES</td>\n",
       "      <td>Nintendo</td>\n",
       "      <td>Nintendo EAD</td>\n",
       "      <td>NaN</td>\n",
       "      <td>10.0</td>\n",
       "      <td>...</td>\n",
       "      <td>NaN</td>\n",
       "      <td>NaN</td>\n",
       "      <td>NaN</td>\n",
       "      <td>NaN</td>\n",
       "      <td>1985.0</td>\n",
       "      <td>NaN</td>\n",
       "      <td>http://www.vgchartz.com/game/6455/super-mario-...</td>\n",
       "      <td>1</td>\n",
       "      <td>NaN</td>\n",
       "      <td>/games/boxart/8972270ccc.jpg</td>\n",
       "    </tr>\n",
       "    <tr>\n",
       "      <th>2</th>\n",
       "      <td>3</td>\n",
       "      <td>Mario Kart Wii</td>\n",
       "      <td>mario-kart-wii</td>\n",
       "      <td>Racing</td>\n",
       "      <td>E</td>\n",
       "      <td>Wii</td>\n",
       "      <td>Nintendo</td>\n",
       "      <td>Nintendo EAD</td>\n",
       "      <td>NaN</td>\n",
       "      <td>8.2</td>\n",
       "      <td>...</td>\n",
       "      <td>NaN</td>\n",
       "      <td>NaN</td>\n",
       "      <td>NaN</td>\n",
       "      <td>NaN</td>\n",
       "      <td>2008.0</td>\n",
       "      <td>11th Apr 18</td>\n",
       "      <td>http://www.vgchartz.com/game/6968/mario-kart-w...</td>\n",
       "      <td>1</td>\n",
       "      <td>8.7</td>\n",
       "      <td>/games/boxart/full_8932480AmericaFrontccc.jpg</td>\n",
       "    </tr>\n",
       "  </tbody>\n",
       "</table>\n",
       "<p>3 rows × 23 columns</p>\n",
       "</div>"
      ],
      "text/plain": [
       "   Rank               Name          basename     Genre ESRB_Rating Platform  \\\n",
       "0     1         Wii Sports        wii-sports    Sports           E      Wii   \n",
       "1     2  Super Mario Bros.  super-mario-bros  Platform         NaN      NES   \n",
       "2     3     Mario Kart Wii    mario-kart-wii    Racing           E      Wii   \n",
       "\n",
       "  Publisher     Developer  VGChartz_Score  Critic_Score  ...  NA_Sales  \\\n",
       "0  Nintendo  Nintendo EAD             NaN           7.7  ...       NaN   \n",
       "1  Nintendo  Nintendo EAD             NaN          10.0  ...       NaN   \n",
       "2  Nintendo  Nintendo EAD             NaN           8.2  ...       NaN   \n",
       "\n",
       "   PAL_Sales  JP_Sales  Other_Sales    Year  Last_Update  \\\n",
       "0        NaN       NaN          NaN  2006.0          NaN   \n",
       "1        NaN       NaN          NaN  1985.0          NaN   \n",
       "2        NaN       NaN          NaN  2008.0  11th Apr 18   \n",
       "\n",
       "                                                 url  status Vgchartzscore  \\\n",
       "0  http://www.vgchartz.com/game/2667/wii-sports/?...       1           NaN   \n",
       "1  http://www.vgchartz.com/game/6455/super-mario-...       1           NaN   \n",
       "2  http://www.vgchartz.com/game/6968/mario-kart-w...       1           8.7   \n",
       "\n",
       "                                         img_url  \n",
       "0  /games/boxart/full_2258645AmericaFrontccc.jpg  \n",
       "1                   /games/boxart/8972270ccc.jpg  \n",
       "2  /games/boxart/full_8932480AmericaFrontccc.jpg  \n",
       "\n",
       "[3 rows x 23 columns]"
      ]
     },
     "execution_count": 1,
     "metadata": {},
     "output_type": "execute_result"
    }
   ],
   "source": [
    "import pandas as pd\n",
    "df = pd.read_csv(\"vgsales-12-4-2019.csv\")\n",
    "df.head(3)"
   ]
  },
  {
   "cell_type": "code",
   "execution_count": 2,
   "metadata": {
    "id": "e5_iXLzc74y7"
   },
   "outputs": [
    {
     "ename": "ModuleNotFoundError",
     "evalue": "No module named 'autogluon'",
     "output_type": "error",
     "traceback": [
      "\u001b[1;31m---------------------------------------------------------------------------\u001b[0m",
      "\u001b[1;31mModuleNotFoundError\u001b[0m                       Traceback (most recent call last)",
      "\u001b[1;32m~\\AppData\\Local\\Temp/ipykernel_20412/1708176265.py\u001b[0m in \u001b[0;36m<module>\u001b[1;34m\u001b[0m\n\u001b[0;32m     19\u001b[0m \u001b[1;32mfrom\u001b[0m \u001b[0msklearn\u001b[0m\u001b[1;33m.\u001b[0m\u001b[0mpipeline\u001b[0m \u001b[1;32mimport\u001b[0m \u001b[0mPipeline\u001b[0m\u001b[1;33m\u001b[0m\u001b[1;33m\u001b[0m\u001b[0m\n\u001b[0;32m     20\u001b[0m \u001b[1;33m\u001b[0m\u001b[0m\n\u001b[1;32m---> 21\u001b[1;33m \u001b[1;32mfrom\u001b[0m \u001b[0mautogluon\u001b[0m\u001b[1;33m.\u001b[0m\u001b[0mtabular\u001b[0m \u001b[1;32mimport\u001b[0m \u001b[0mTabularPredictor\u001b[0m\u001b[1;33m\u001b[0m\u001b[1;33m\u001b[0m\u001b[0m\n\u001b[0m\u001b[0;32m     22\u001b[0m \u001b[1;33m\u001b[0m\u001b[0m\n\u001b[0;32m     23\u001b[0m \u001b[1;32mimport\u001b[0m \u001b[0mwarnings\u001b[0m\u001b[1;33m\u001b[0m\u001b[1;33m\u001b[0m\u001b[0m\n",
      "\u001b[1;31mModuleNotFoundError\u001b[0m: No module named 'autogluon'"
     ]
    }
   ],
   "source": [
    "import time\n",
    "import random\n",
    "import pickle\n",
    "import pandas as pd\n",
    "import numpy as np\n",
    "import matplotlib.pyplot as plt\n",
    "import japanize_matplotlib\n",
    "from natsort import natsorted \n",
    "\n",
    "import lightgbm as lgb\n",
    "from sklearn.model_selection import train_test_split\n",
    "from sklearn.metrics import mean_squared_error\n",
    "from sklearn.preprocessing import StandardScaler\n",
    "from sklearn.model_selection import GroupKFold\n",
    "from sklearn.impute import SimpleImputer\n",
    "from sklearn.preprocessing import OrdinalEncoder\n",
    "from sklearn.preprocessing import OneHotEncoder\n",
    "from sklearn.compose import ColumnTransformer\n",
    "from sklearn.pipeline import Pipeline\n",
    "\n",
    "from autogluon.tabular import TabularPredictor\n",
    "\n",
    "import warnings\n",
    "warnings.simplefilter('ignore')"
   ]
  },
  {
   "cell_type": "code",
   "execution_count": null,
   "metadata": {
    "id": "HkFpknim8KG8"
   },
   "outputs": [],
   "source": [
    "# シード値の固定\n",
    "SEED = 42\n",
    "\n",
    "random.seed(SEED)\n",
    "os.environ['PYTHONHASHSEED'] = str(SEED)\n",
    "np.random.seed(SEED)"
   ]
  },
  {
   "cell_type": "code",
   "execution_count": null,
   "metadata": {
    "id": "puROc5hoZXp9"
   },
   "outputs": [],
   "source": [
    "# 目的変数にNull値があっても学習・予測できるが、評価時にエラーが出るのでNull値を補完する\n",
    "\n",
    "df[\"Global_Sales\"] = df[\"Global_Sales\"].fillna(df[\"Global_Sales\"].mean())"
   ]
  },
  {
   "cell_type": "code",
   "execution_count": null,
   "metadata": {
    "id": "WJyX7oLv8RZi"
   },
   "outputs": [],
   "source": [
    "train, test = train_test_split(\n",
    "                            df.drop([\"NA_Sales\", \"PAL_Sales\", \"JP_Sales\", \"Other_Sales\"], axis=1), \n",
    "                            test_size=0.3,\n",
    "                            shuffle=True, \n",
    "                            random_state=SEED\n",
    "                        )"
   ]
  },
  {
   "cell_type": "markdown",
   "metadata": {
    "id": "Sy-zSQmAy2RO"
   },
   "source": [
    "## AutoGluon"
   ]
  },
  {
   "cell_type": "code",
   "execution_count": null,
   "metadata": {
    "colab": {
     "base_uri": "https://localhost:8080/",
     "height": 1000
    },
    "id": "yAy1Upzb8pRE",
    "outputId": "2a6e4c2f-aa2a-4560-a23c-6c43d5973e18"
   },
   "outputs": [],
   "source": [
    "# 学習・推論\n",
    "gkf = GroupKFold(n_splits=5)\n",
    "\n",
    "groups = train[\"Genre\"]\n",
    "\n",
    "cv_result_gln_eval = []\n",
    "\n",
    "for i, (train_index, test_index) in enumerate(gkf.split(train, train, groups)):\n",
    "    train_gkf, test_gkf = train.iloc[train_index], train.iloc[test_index]\n",
    "    \n",
    "    print(f\"Fold {i}\")\n",
    "\n",
    "    model = TabularPredictor(\n",
    "                    label = \"Global_Sales\",                  # 目的変数\n",
    "                    problem_type = \"regression\",             # 回帰を指定\n",
    "                    eval_metric = \"root_mean_squared_error\", # 評価指標\n",
    "                    verbosity = 0,                           # ログの非表示\n",
    "                )\n",
    "\n",
    "    # 学習\n",
    "    model.fit(\n",
    "            train_data=train_gkf,\n",
    "            ag_args_fit={'num_gpus': 1}, # GPUの使用\n",
    "            time_limit = 30,             # 学習時間の上限\n",
    "            )\n",
    "\n",
    "    # 予測\n",
    "    y_pred = model.predict(test_gkf.drop([\"Global_Sales\"], axis=1))\n",
    "\n",
    "    # AutoGluon の解釈性機能\n",
    "    print(\"特徴量の重要度\")\n",
    "    feature_importance_df = model.feature_importance(\n",
    "                                test_gkf,\n",
    "                                silent = True\n",
    "                            )\n",
    "\n",
    "    display(feature_importance_df)\n",
    "    \n",
    "    # 特徴量の重要度をグラフ表示\n",
    "    plt.figure(figsize=(12, 8))\n",
    "    plt.title(f\"Fold {i} 特徴量の重要度\")\n",
    "    plt.xlabel(\"重要度\")\n",
    "    plt.ylabel(\"特徴量\")\n",
    "    \n",
    "    plt.barh(\n",
    "        feature_importance_df.index,\n",
    "        feature_importance_df[\"importance\"],\n",
    "        )\n",
    "    plt.show()\n",
    "    print()\n",
    "\n",
    "    # AutoGluon の機能\n",
    "    print(\"リーダーボード\")\n",
    "    display(\n",
    "        model.leaderboard(\n",
    "            test_gkf,\n",
    "            silent = True\n",
    "        )\n",
    "    )\n",
    "    print()\n",
    "\n",
    "    # AutoGluon の評価機能\n",
    "    score = model.evaluate_predictions(y_true=test_gkf[\"Global_Sales\"], y_pred=y_pred)\n",
    "\n",
    "    rmse_gln_eval = score['root_mean_squared_error']\n",
    "\n",
    "    cv_result_gln_eval.append(rmse_gln_eval)\n",
    "\n",
    "print(\"RMSE:\", np.mean(cv_result_skl_eval))"
   ]
  },
  {
   "cell_type": "code",
   "execution_count": null,
   "metadata": {
    "colab": {
     "base_uri": "https://localhost:8080/"
    },
    "id": "UxCyWpioaFoW",
    "outputId": "3fe206e0-2760-417d-c77f-961c2b3f9684"
   },
   "outputs": [],
   "source": [
    "print(\"RMSE:\", round(np.mean(cv_result_skl_eval), 3))"
   ]
  },
  {
   "cell_type": "code",
   "execution_count": null,
   "metadata": {
    "id": "nrgL9xZq9YQI"
   },
   "outputs": [],
   "source": []
  }
 ],
 "metadata": {
  "accelerator": "GPU",
  "colab": {
   "collapsed_sections": [],
   "name": "20_AutoGluon.ipynb",
   "provenance": []
  },
  "kernelspec": {
   "display_name": "Python 3 (ipykernel)",
   "language": "python",
   "name": "python3"
  },
  "language_info": {
   "codemirror_mode": {
    "name": "ipython",
    "version": 3
   },
   "file_extension": ".py",
   "mimetype": "text/x-python",
   "name": "python",
   "nbconvert_exporter": "python",
   "pygments_lexer": "ipython3",
   "version": "3.7.11"
  }
 },
 "nbformat": 4,
 "nbformat_minor": 1
}
