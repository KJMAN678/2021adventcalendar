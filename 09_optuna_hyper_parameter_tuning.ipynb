{
  "nbformat": 4,
  "nbformat_minor": 0,
  "metadata": {
    "colab": {
      "name": "09_optuna_hyper_parameter_tuning.ipynb",
      "provenance": [],
      "collapsed_sections": []
    },
    "kernelspec": {
      "name": "python3",
      "display_name": "Python 3"
    },
    "language_info": {
      "name": "python"
    }
  },
  "cells": [
    {
      "cell_type": "markdown",
      "metadata": {
        "id": "RA_zd5BvsXyk"
      },
      "source": [
        "## Google Driveのマウント"
      ]
    },
    {
      "cell_type": "code",
      "metadata": {
        "id": "ARmR6Kdbsayr",
        "colab": {
          "base_uri": "https://localhost:8080/"
        },
        "outputId": "d26b6be8-5cc0-4e39-841e-e307d1e23532"
      },
      "source": [
        "from google.colab import drive\n",
        "drive.mount('/content/drive')"
      ],
      "execution_count": null,
      "outputs": [
        {
          "output_type": "stream",
          "name": "stdout",
          "text": [
            "Mounted at /content/drive\n"
          ]
        }
      ]
    },
    {
      "cell_type": "markdown",
      "metadata": {
        "id": "TCEUaFVvsc6a"
      },
      "source": [
        "## データセットの準備"
      ]
    },
    {
      "cell_type": "code",
      "metadata": {
        "id": "yFYRlGskoctf",
        "colab": {
          "base_uri": "https://localhost:8080/"
        },
        "outputId": "1af988a9-25cf-42d7-bf1c-76c26b773af5"
      },
      "source": [
        "# kaggle ライブラリのインストール\n",
        "!pip install kaggle\n",
        "\n",
        "# 一時フォルダに .kaggleフォルダを作成\n",
        "!mkdir ~/.kaggle\n",
        "\n",
        "# MyDrive の kaggle.json を一時フォルダ内の .kaggleフォルダにコピー\n",
        "!cp /content/drive/MyDrive/kaggle/kaggle.json ~/.kaggle/\n",
        "\n",
        "# アクセス権限の設定\n",
        "!chmod 600 ~/.kaggle/kaggle.json\n",
        "\n",
        "!mkdir ~/.kaggle\n",
        "\n",
        "# zipファイルのダウンロード\n",
        "!kaggle datasets download -d ashaheedq/video-games-sales-2019 -p /content/drive/MyDrive/kaggle\n",
        "\n",
        "# 解凍\n",
        "!unzip /content/drive/MyDrive/kaggle/video-games-sales-2019.zip -d /content/drive/MyDrive/kaggle\n",
        "\n",
        "!rm /content/drive/MyDrive/kaggle/video-games-sales-2019.zip"
      ],
      "execution_count": null,
      "outputs": [
        {
          "output_type": "stream",
          "name": "stdout",
          "text": [
            "Requirement already satisfied: kaggle in /usr/local/lib/python3.7/dist-packages (1.5.12)\n",
            "Requirement already satisfied: python-slugify in /usr/local/lib/python3.7/dist-packages (from kaggle) (5.0.2)\n",
            "Requirement already satisfied: requests in /usr/local/lib/python3.7/dist-packages (from kaggle) (2.23.0)\n",
            "Requirement already satisfied: urllib3 in /usr/local/lib/python3.7/dist-packages (from kaggle) (1.24.3)\n",
            "Requirement already satisfied: python-dateutil in /usr/local/lib/python3.7/dist-packages (from kaggle) (2.8.2)\n",
            "Requirement already satisfied: tqdm in /usr/local/lib/python3.7/dist-packages (from kaggle) (4.62.3)\n",
            "Requirement already satisfied: six>=1.10 in /usr/local/lib/python3.7/dist-packages (from kaggle) (1.15.0)\n",
            "Requirement already satisfied: certifi in /usr/local/lib/python3.7/dist-packages (from kaggle) (2021.10.8)\n",
            "Requirement already satisfied: text-unidecode>=1.3 in /usr/local/lib/python3.7/dist-packages (from python-slugify->kaggle) (1.3)\n",
            "Requirement already satisfied: idna<3,>=2.5 in /usr/local/lib/python3.7/dist-packages (from requests->kaggle) (2.10)\n",
            "Requirement already satisfied: chardet<4,>=3.0.2 in /usr/local/lib/python3.7/dist-packages (from requests->kaggle) (3.0.4)\n",
            "mkdir: cannot create directory ‘/root/.kaggle’: File exists\n",
            "Downloading video-games-sales-2019.zip to /content/drive/MyDrive/kaggle\n",
            "  0% 0.00/3.98M [00:00<?, ?B/s]\n",
            "100% 3.98M/3.98M [00:00<00:00, 63.1MB/s]\n",
            "Archive:  /content/drive/MyDrive/kaggle/video-games-sales-2019.zip\n",
            "replace /content/drive/MyDrive/kaggle/vgsales-12-4-2019-short.csv? [y]es, [n]o, [A]ll, [N]one, [r]ename: None\n"
          ]
        }
      ]
    },
    {
      "cell_type": "markdown",
      "metadata": {
        "id": "PBqKPKFtsiKi"
      },
      "source": [
        "## データの読込"
      ]
    },
    {
      "cell_type": "code",
      "metadata": {
        "id": "TSY5GPLirTwt",
        "colab": {
          "base_uri": "https://localhost:8080/",
          "height": 250
        },
        "outputId": "e2812df2-85c3-45b9-9891-d35b4b9cb7c5"
      },
      "source": [
        "import pandas as pd\n",
        "df = pd.read_csv(\"/content/drive/MyDrive/kaggle/vgsales-12-4-2019.csv\")\n",
        "df.head(3)"
      ],
      "execution_count": null,
      "outputs": [
        {
          "output_type": "execute_result",
          "data": {
            "text/html": [
              "<div>\n",
              "<style scoped>\n",
              "    .dataframe tbody tr th:only-of-type {\n",
              "        vertical-align: middle;\n",
              "    }\n",
              "\n",
              "    .dataframe tbody tr th {\n",
              "        vertical-align: top;\n",
              "    }\n",
              "\n",
              "    .dataframe thead th {\n",
              "        text-align: right;\n",
              "    }\n",
              "</style>\n",
              "<table border=\"1\" class=\"dataframe\">\n",
              "  <thead>\n",
              "    <tr style=\"text-align: right;\">\n",
              "      <th></th>\n",
              "      <th>Rank</th>\n",
              "      <th>Name</th>\n",
              "      <th>basename</th>\n",
              "      <th>Genre</th>\n",
              "      <th>ESRB_Rating</th>\n",
              "      <th>Platform</th>\n",
              "      <th>Publisher</th>\n",
              "      <th>Developer</th>\n",
              "      <th>VGChartz_Score</th>\n",
              "      <th>Critic_Score</th>\n",
              "      <th>User_Score</th>\n",
              "      <th>Total_Shipped</th>\n",
              "      <th>Global_Sales</th>\n",
              "      <th>NA_Sales</th>\n",
              "      <th>PAL_Sales</th>\n",
              "      <th>JP_Sales</th>\n",
              "      <th>Other_Sales</th>\n",
              "      <th>Year</th>\n",
              "      <th>Last_Update</th>\n",
              "      <th>url</th>\n",
              "      <th>status</th>\n",
              "      <th>Vgchartzscore</th>\n",
              "      <th>img_url</th>\n",
              "    </tr>\n",
              "  </thead>\n",
              "  <tbody>\n",
              "    <tr>\n",
              "      <th>0</th>\n",
              "      <td>1</td>\n",
              "      <td>Wii Sports</td>\n",
              "      <td>wii-sports</td>\n",
              "      <td>Sports</td>\n",
              "      <td>E</td>\n",
              "      <td>Wii</td>\n",
              "      <td>Nintendo</td>\n",
              "      <td>Nintendo EAD</td>\n",
              "      <td>NaN</td>\n",
              "      <td>7.7</td>\n",
              "      <td>NaN</td>\n",
              "      <td>82.86</td>\n",
              "      <td>NaN</td>\n",
              "      <td>NaN</td>\n",
              "      <td>NaN</td>\n",
              "      <td>NaN</td>\n",
              "      <td>NaN</td>\n",
              "      <td>2006.0</td>\n",
              "      <td>NaN</td>\n",
              "      <td>http://www.vgchartz.com/game/2667/wii-sports/?...</td>\n",
              "      <td>1</td>\n",
              "      <td>NaN</td>\n",
              "      <td>/games/boxart/full_2258645AmericaFrontccc.jpg</td>\n",
              "    </tr>\n",
              "    <tr>\n",
              "      <th>1</th>\n",
              "      <td>2</td>\n",
              "      <td>Super Mario Bros.</td>\n",
              "      <td>super-mario-bros</td>\n",
              "      <td>Platform</td>\n",
              "      <td>NaN</td>\n",
              "      <td>NES</td>\n",
              "      <td>Nintendo</td>\n",
              "      <td>Nintendo EAD</td>\n",
              "      <td>NaN</td>\n",
              "      <td>10.0</td>\n",
              "      <td>NaN</td>\n",
              "      <td>40.24</td>\n",
              "      <td>NaN</td>\n",
              "      <td>NaN</td>\n",
              "      <td>NaN</td>\n",
              "      <td>NaN</td>\n",
              "      <td>NaN</td>\n",
              "      <td>1985.0</td>\n",
              "      <td>NaN</td>\n",
              "      <td>http://www.vgchartz.com/game/6455/super-mario-...</td>\n",
              "      <td>1</td>\n",
              "      <td>NaN</td>\n",
              "      <td>/games/boxart/8972270ccc.jpg</td>\n",
              "    </tr>\n",
              "    <tr>\n",
              "      <th>2</th>\n",
              "      <td>3</td>\n",
              "      <td>Mario Kart Wii</td>\n",
              "      <td>mario-kart-wii</td>\n",
              "      <td>Racing</td>\n",
              "      <td>E</td>\n",
              "      <td>Wii</td>\n",
              "      <td>Nintendo</td>\n",
              "      <td>Nintendo EAD</td>\n",
              "      <td>NaN</td>\n",
              "      <td>8.2</td>\n",
              "      <td>9.1</td>\n",
              "      <td>37.14</td>\n",
              "      <td>NaN</td>\n",
              "      <td>NaN</td>\n",
              "      <td>NaN</td>\n",
              "      <td>NaN</td>\n",
              "      <td>NaN</td>\n",
              "      <td>2008.0</td>\n",
              "      <td>11th Apr 18</td>\n",
              "      <td>http://www.vgchartz.com/game/6968/mario-kart-w...</td>\n",
              "      <td>1</td>\n",
              "      <td>8.7</td>\n",
              "      <td>/games/boxart/full_8932480AmericaFrontccc.jpg</td>\n",
              "    </tr>\n",
              "  </tbody>\n",
              "</table>\n",
              "</div>"
            ],
            "text/plain": [
              "   Rank  ...                                        img_url\n",
              "0     1  ...  /games/boxart/full_2258645AmericaFrontccc.jpg\n",
              "1     2  ...                   /games/boxart/8972270ccc.jpg\n",
              "2     3  ...  /games/boxart/full_8932480AmericaFrontccc.jpg\n",
              "\n",
              "[3 rows x 23 columns]"
            ]
          },
          "metadata": {},
          "execution_count": 3
        }
      ]
    },
    {
      "cell_type": "markdown",
      "metadata": {
        "id": "4jFtERsyeJBr"
      },
      "source": [
        "## Optunaによるハイパーパラメーターチューニング"
      ]
    },
    {
      "cell_type": "code",
      "metadata": {
        "id": "IfPnIMwfeftM",
        "colab": {
          "base_uri": "https://localhost:8080/"
        },
        "outputId": "2d2ad853-b701-4bf2-a081-a74820766474"
      },
      "source": [
        "!pip install optuna\n",
        "!pip install category_encoders\n",
        "!pip install pandas"
      ],
      "execution_count": null,
      "outputs": [
        {
          "output_type": "stream",
          "name": "stdout",
          "text": [
            "Collecting optuna\n",
            "  Downloading optuna-2.10.0-py3-none-any.whl (308 kB)\n",
            "\u001b[?25l\r\u001b[K     |█                               | 10 kB 19.6 MB/s eta 0:00:01\r\u001b[K     |██▏                             | 20 kB 26.3 MB/s eta 0:00:01\r\u001b[K     |███▏                            | 30 kB 29.4 MB/s eta 0:00:01\r\u001b[K     |████▎                           | 40 kB 15.0 MB/s eta 0:00:01\r\u001b[K     |█████▎                          | 51 kB 5.9 MB/s eta 0:00:01\r\u001b[K     |██████▍                         | 61 kB 5.6 MB/s eta 0:00:01\r\u001b[K     |███████▍                        | 71 kB 5.5 MB/s eta 0:00:01\r\u001b[K     |████████▌                       | 81 kB 6.2 MB/s eta 0:00:01\r\u001b[K     |█████████▋                      | 92 kB 6.0 MB/s eta 0:00:01\r\u001b[K     |██████████▋                     | 102 kB 5.3 MB/s eta 0:00:01\r\u001b[K     |███████████▊                    | 112 kB 5.3 MB/s eta 0:00:01\r\u001b[K     |████████████▊                   | 122 kB 5.3 MB/s eta 0:00:01\r\u001b[K     |█████████████▉                  | 133 kB 5.3 MB/s eta 0:00:01\r\u001b[K     |██████████████▉                 | 143 kB 5.3 MB/s eta 0:00:01\r\u001b[K     |████████████████                | 153 kB 5.3 MB/s eta 0:00:01\r\u001b[K     |█████████████████               | 163 kB 5.3 MB/s eta 0:00:01\r\u001b[K     |██████████████████              | 174 kB 5.3 MB/s eta 0:00:01\r\u001b[K     |███████████████████▏            | 184 kB 5.3 MB/s eta 0:00:01\r\u001b[K     |████████████████████▏           | 194 kB 5.3 MB/s eta 0:00:01\r\u001b[K     |█████████████████████▎          | 204 kB 5.3 MB/s eta 0:00:01\r\u001b[K     |██████████████████████▎         | 215 kB 5.3 MB/s eta 0:00:01\r\u001b[K     |███████████████████████▍        | 225 kB 5.3 MB/s eta 0:00:01\r\u001b[K     |████████████████████████▌       | 235 kB 5.3 MB/s eta 0:00:01\r\u001b[K     |█████████████████████████▌      | 245 kB 5.3 MB/s eta 0:00:01\r\u001b[K     |██████████████████████████▋     | 256 kB 5.3 MB/s eta 0:00:01\r\u001b[K     |███████████████████████████▋    | 266 kB 5.3 MB/s eta 0:00:01\r\u001b[K     |████████████████████████████▊   | 276 kB 5.3 MB/s eta 0:00:01\r\u001b[K     |█████████████████████████████▊  | 286 kB 5.3 MB/s eta 0:00:01\r\u001b[K     |██████████████████████████████▉ | 296 kB 5.3 MB/s eta 0:00:01\r\u001b[K     |████████████████████████████████| 307 kB 5.3 MB/s eta 0:00:01\r\u001b[K     |████████████████████████████████| 308 kB 5.3 MB/s \n",
            "\u001b[?25hCollecting colorlog\n",
            "  Downloading colorlog-6.6.0-py2.py3-none-any.whl (11 kB)\n",
            "Requirement already satisfied: tqdm in /usr/local/lib/python3.7/dist-packages (from optuna) (4.62.3)\n",
            "Collecting cmaes>=0.8.2\n",
            "  Downloading cmaes-0.8.2-py3-none-any.whl (15 kB)\n",
            "Collecting alembic\n",
            "  Downloading alembic-1.7.5-py3-none-any.whl (209 kB)\n",
            "\u001b[K     |████████████████████████████████| 209 kB 44.5 MB/s \n",
            "\u001b[?25hRequirement already satisfied: scipy!=1.4.0 in /usr/local/lib/python3.7/dist-packages (from optuna) (1.4.1)\n",
            "Requirement already satisfied: numpy in /usr/local/lib/python3.7/dist-packages (from optuna) (1.19.5)\n",
            "Collecting cliff\n",
            "  Downloading cliff-3.10.0-py3-none-any.whl (80 kB)\n",
            "\u001b[K     |████████████████████████████████| 80 kB 8.9 MB/s \n",
            "\u001b[?25hRequirement already satisfied: PyYAML in /usr/local/lib/python3.7/dist-packages (from optuna) (3.13)\n",
            "Requirement already satisfied: sqlalchemy>=1.1.0 in /usr/local/lib/python3.7/dist-packages (from optuna) (1.4.27)\n",
            "Requirement already satisfied: packaging>=20.0 in /usr/local/lib/python3.7/dist-packages (from optuna) (21.3)\n",
            "Requirement already satisfied: pyparsing!=3.0.5,>=2.0.2 in /usr/local/lib/python3.7/dist-packages (from packaging>=20.0->optuna) (3.0.6)\n",
            "Requirement already satisfied: greenlet!=0.4.17 in /usr/local/lib/python3.7/dist-packages (from sqlalchemy>=1.1.0->optuna) (1.1.2)\n",
            "Requirement already satisfied: importlib-metadata in /usr/local/lib/python3.7/dist-packages (from sqlalchemy>=1.1.0->optuna) (4.8.2)\n",
            "Requirement already satisfied: importlib-resources in /usr/local/lib/python3.7/dist-packages (from alembic->optuna) (5.4.0)\n",
            "Collecting Mako\n",
            "  Downloading Mako-1.1.6-py2.py3-none-any.whl (75 kB)\n",
            "\u001b[K     |████████████████████████████████| 75 kB 3.8 MB/s \n",
            "\u001b[?25hCollecting pbr!=2.1.0,>=2.0.0\n",
            "  Downloading pbr-5.8.0-py2.py3-none-any.whl (112 kB)\n",
            "\u001b[K     |████████████████████████████████| 112 kB 59.7 MB/s \n",
            "\u001b[?25hRequirement already satisfied: PrettyTable>=0.7.2 in /usr/local/lib/python3.7/dist-packages (from cliff->optuna) (2.4.0)\n",
            "Collecting cmd2>=1.0.0\n",
            "  Downloading cmd2-2.3.3-py3-none-any.whl (149 kB)\n",
            "\u001b[K     |████████████████████████████████| 149 kB 36.3 MB/s \n",
            "\u001b[?25hCollecting stevedore>=2.0.1\n",
            "  Downloading stevedore-3.5.0-py3-none-any.whl (49 kB)\n",
            "\u001b[K     |████████████████████████████████| 49 kB 5.2 MB/s \n",
            "\u001b[?25hCollecting autopage>=0.4.0\n",
            "  Downloading autopage-0.4.0-py3-none-any.whl (20 kB)\n",
            "Collecting pyperclip>=1.6\n",
            "  Downloading pyperclip-1.8.2.tar.gz (20 kB)\n",
            "Requirement already satisfied: wcwidth>=0.1.7 in /usr/local/lib/python3.7/dist-packages (from cmd2>=1.0.0->cliff->optuna) (0.2.5)\n",
            "Requirement already satisfied: typing-extensions in /usr/local/lib/python3.7/dist-packages (from cmd2>=1.0.0->cliff->optuna) (3.10.0.2)\n",
            "Requirement already satisfied: attrs>=16.3.0 in /usr/local/lib/python3.7/dist-packages (from cmd2>=1.0.0->cliff->optuna) (21.2.0)\n",
            "Requirement already satisfied: zipp>=0.5 in /usr/local/lib/python3.7/dist-packages (from importlib-metadata->sqlalchemy>=1.1.0->optuna) (3.6.0)\n",
            "Requirement already satisfied: MarkupSafe>=0.9.2 in /usr/local/lib/python3.7/dist-packages (from Mako->alembic->optuna) (2.0.1)\n",
            "Building wheels for collected packages: pyperclip\n",
            "  Building wheel for pyperclip (setup.py) ... \u001b[?25l\u001b[?25hdone\n",
            "  Created wheel for pyperclip: filename=pyperclip-1.8.2-py3-none-any.whl size=11136 sha256=60b8ec4dcb828a3d84284e4140ddd75d46f14c4f050aa954725d29777d266327\n",
            "  Stored in directory: /root/.cache/pip/wheels/9f/18/84/8f69f8b08169c7bae2dde6bd7daf0c19fca8c8e500ee620a28\n",
            "Successfully built pyperclip\n",
            "Installing collected packages: pyperclip, pbr, stevedore, Mako, cmd2, autopage, colorlog, cmaes, cliff, alembic, optuna\n",
            "Successfully installed Mako-1.1.6 alembic-1.7.5 autopage-0.4.0 cliff-3.10.0 cmaes-0.8.2 cmd2-2.3.3 colorlog-6.6.0 optuna-2.10.0 pbr-5.8.0 pyperclip-1.8.2 stevedore-3.5.0\n",
            "Collecting category_encoders\n",
            "  Downloading category_encoders-2.3.0-py2.py3-none-any.whl (82 kB)\n",
            "\u001b[K     |████████████████████████████████| 82 kB 357 kB/s \n",
            "\u001b[?25hRequirement already satisfied: statsmodels>=0.9.0 in /usr/local/lib/python3.7/dist-packages (from category_encoders) (0.10.2)\n",
            "Requirement already satisfied: numpy>=1.14.0 in /usr/local/lib/python3.7/dist-packages (from category_encoders) (1.19.5)\n",
            "Requirement already satisfied: scipy>=1.0.0 in /usr/local/lib/python3.7/dist-packages (from category_encoders) (1.4.1)\n",
            "Requirement already satisfied: scikit-learn>=0.20.0 in /usr/local/lib/python3.7/dist-packages (from category_encoders) (1.0.1)\n",
            "Requirement already satisfied: pandas>=0.21.1 in /usr/local/lib/python3.7/dist-packages (from category_encoders) (1.1.5)\n",
            "Requirement already satisfied: patsy>=0.5.1 in /usr/local/lib/python3.7/dist-packages (from category_encoders) (0.5.2)\n",
            "Requirement already satisfied: pytz>=2017.2 in /usr/local/lib/python3.7/dist-packages (from pandas>=0.21.1->category_encoders) (2018.9)\n",
            "Requirement already satisfied: python-dateutil>=2.7.3 in /usr/local/lib/python3.7/dist-packages (from pandas>=0.21.1->category_encoders) (2.8.2)\n",
            "Requirement already satisfied: six in /usr/local/lib/python3.7/dist-packages (from patsy>=0.5.1->category_encoders) (1.15.0)\n",
            "Requirement already satisfied: threadpoolctl>=2.0.0 in /usr/local/lib/python3.7/dist-packages (from scikit-learn>=0.20.0->category_encoders) (3.0.0)\n",
            "Requirement already satisfied: joblib>=0.11 in /usr/local/lib/python3.7/dist-packages (from scikit-learn>=0.20.0->category_encoders) (1.1.0)\n",
            "Installing collected packages: category-encoders\n",
            "Successfully installed category-encoders-2.3.0\n",
            "Requirement already satisfied: pandas in /usr/local/lib/python3.7/dist-packages (1.1.5)\n",
            "Requirement already satisfied: pytz>=2017.2 in /usr/local/lib/python3.7/dist-packages (from pandas) (2018.9)\n",
            "Requirement already satisfied: python-dateutil>=2.7.3 in /usr/local/lib/python3.7/dist-packages (from pandas) (2.8.2)\n",
            "Requirement already satisfied: numpy>=1.15.4 in /usr/local/lib/python3.7/dist-packages (from pandas) (1.19.5)\n",
            "Requirement already satisfied: six>=1.5 in /usr/local/lib/python3.7/dist-packages (from python-dateutil>=2.7.3->pandas) (1.15.0)\n"
          ]
        }
      ]
    },
    {
      "cell_type": "code",
      "metadata": {
        "id": "T-3ptRZReJHh",
        "colab": {
          "base_uri": "https://localhost:8080/"
        },
        "outputId": "c3ee7955-155d-49e1-c978-015dfab5223e"
      },
      "source": [
        "import os\n",
        "import random\n",
        "import numpy as np\n",
        "from matplotlib import pyplot as plt\n",
        "from natsort import natsorted \n",
        "\n",
        "import lightgbm as lgb\n",
        "import optuna.integration.lightgbm as opt_lgb\n",
        "import optuna\n",
        "\n",
        "from sklearn.model_selection import train_test_split\n",
        "from sklearn.metrics import mean_squared_error\n",
        "from sklearn.preprocessing import StandardScaler\n",
        "import category_encoders as ce\n",
        "\n",
        "from sklearn.model_selection import GroupKFold\n",
        "\n",
        "import warnings\n",
        "warnings.simplefilter('ignore')"
      ],
      "execution_count": null,
      "outputs": [
        {
          "output_type": "stream",
          "name": "stderr",
          "text": [
            "/usr/local/lib/python3.7/dist-packages/statsmodels/tools/_testing.py:19: FutureWarning:\n",
            "\n",
            "pandas.util.testing is deprecated. Use the functions in the public API at pandas.testing instead.\n",
            "\n"
          ]
        }
      ]
    },
    {
      "cell_type": "code",
      "metadata": {
        "id": "ixrhYZWzeeLB"
      },
      "source": [
        "# シード値の固定\n",
        "SEED = 42\n",
        "\n",
        "random.seed(SEED)\n",
        "os.environ['PYTHONHASHSEED'] = str(SEED)\n",
        "np.random.seed(SEED)"
      ],
      "execution_count": null,
      "outputs": []
    },
    {
      "cell_type": "code",
      "metadata": {
        "id": "XBxmLMFEex0k"
      },
      "source": [
        "X_train, X_test, y_train, y_test = train_test_split(\n",
        "                                                    df.dropna(subset=[\"Global_Sales\"]).drop([\"Global_Sales\",  \"NA_Sales\", \"PAL_Sales\", \"JP_Sales\", \"Other_Sales\"], axis=1), \n",
        "                                                    df.dropna(subset=[\"Global_Sales\"])[\"Global_Sales\"],  \n",
        "                                                    test_size=0.3,\n",
        "                                                    shuffle=True, \n",
        "                                                    random_state=SEED\n",
        "                                                    ) "
      ],
      "execution_count": null,
      "outputs": []
    },
    {
      "cell_type": "code",
      "metadata": {
        "id": "vR0hQtv_e6lV"
      },
      "source": [
        "### 欠損値補完\n",
        "X_train_ff = X_train.fillna(method='ffill')\n",
        "X_test_ff = X_test.fillna(method='ffill')\n",
        "\n",
        "#### カテゴリーエンコーディング\n",
        "\n",
        "# ユニーク数に応じてカラムを分割する\n",
        "category_unique_num = X_train_ff.select_dtypes(include=\"object\").nunique()\n",
        "\n",
        "few_kinds_category_columns = category_unique_num[category_unique_num < 10].index\n",
        "many_kinds_category_columns = category_unique_num[category_unique_num >= 10].index\n",
        "\n",
        "\n",
        "# カテゴリーのエンコーディング法則を指定する\n",
        "ordinal_all_cols_mapping_ce = []\n",
        "\n",
        "for i, column in enumerate(many_kinds_category_columns):\n",
        "    ordinal_one_cols_mapping = {}\n",
        "    ordinal_one_cols_mapping_breakdown = {}\n",
        "    for j, category in enumerate(natsorted(X_train_ff[column].unique())):\n",
        "        ordinal_one_cols_mapping_breakdown[category] = j\n",
        "\n",
        "    ordinal_one_cols_mapping[\"col\"] = column\n",
        "    ordinal_one_cols_mapping[\"mapping\"] = ordinal_one_cols_mapping_breakdown\n",
        "    ordinal_all_cols_mapping_ce.append(ordinal_one_cols_mapping)\n",
        "\n",
        "\n",
        "# エンコーディング設定\n",
        "ode = ce.OrdinalEncoder(\n",
        "    mapping = ordinal_all_cols_mapping_ce,\n",
        "    cols = many_kinds_category_columns\n",
        ")\n",
        "\n",
        "ohe = ce.OneHotEncoder(\n",
        "    use_cat_names=True,\n",
        "    cols = few_kinds_category_columns\n",
        ")\n",
        "\n",
        "# 元データをコピー\n",
        "X_train_ce = X_train_ff.copy()\n",
        "X_test_ce = X_test_ff.copy()\n",
        "\n",
        "# OneHotEncoder\n",
        "X_train_ce = ohe.fit_transform(X_train_ce)\n",
        "X_test_ce = ohe.transform(X_test_ce)\n",
        "\n",
        "# OrdinalHotEncoder\n",
        "X_train_ce = ode.fit_transform(X_train_ce)\n",
        "X_test_ce = ode.transform(X_test_ce)\n",
        "\n",
        "# 正規化\n",
        "sc = StandardScaler()\n",
        "X_train_ce = pd.DataFrame(\n",
        "                            sc.fit_transform(X_train_ce),\n",
        "                            columns=X_train_ce.columns\n",
        "                            )\n",
        "\n",
        "X_test_ce = pd.DataFrame(\n",
        "                            sc.transform(X_test_ce),\n",
        "                            columns=X_test_ce.columns\n",
        "                            )"
      ],
      "execution_count": null,
      "outputs": []
    },
    {
      "cell_type": "code",
      "metadata": {
        "id": "DTolOrbwiZNk",
        "colab": {
          "base_uri": "https://localhost:8080/",
          "height": 1000
        },
        "outputId": "03e08605-f0f0-4f37-805b-d27aa3ecf015"
      },
      "source": [
        "y_train = y_train.reset_index(drop=True)\n",
        "\n",
        "gkf = GroupKFold(n_splits=5)\n",
        "\n",
        "groups = X_train_ce[\"Genre\"]\n",
        "\n",
        "params = {\n",
        "          'task': 'train',              # タスクを訓練に設定\n",
        "          'boosting_type': 'gbdt',      # GBDTを指定\n",
        "          'objective': 'regression',    # 回帰を指定\n",
        "          'metric': {'rmse'},           # 回帰の損失（誤差）\n",
        "          'learning_rate': 0.1,         # 学習率\n",
        "          'seed': SEED                   # シード値\n",
        "          }\n",
        "\n",
        "cv_result = []\n",
        "\n",
        "for fold, (train_index, test_index) in enumerate(gkf.split(X_train_ce, y_train, groups)):\n",
        "    X_train_gkf, X_test_gkf = X_train_ce.iloc[train_index], X_train_ce.iloc[test_index]\n",
        "    y_train_gkf, y_test_gkf = y_train.iloc[train_index], y_train.iloc[test_index]\n",
        "\n",
        "    # 学習、推論\n",
        "    lgb_train = lgb.Dataset(X_train_gkf, y_train_gkf)\n",
        "    lgb_test = lgb.Dataset(X_test_gkf, y_test_gkf, reference=lgb_train)\n",
        "\n",
        "    lgb_results = {}                                    # 学習の履歴を入れる入物\n",
        "\n",
        "    model = lgb.train(\n",
        "                    params=params,                    # ハイパーパラメータをセット\n",
        "                    train_set=lgb_train,              # 訓練データを訓練用にセット\n",
        "                    valid_sets=[lgb_train, lgb_test], # 訓練データとテストデータをセット\n",
        "                    valid_names=['Train', 'Test'],    # データセットの名前をそれぞれ設定\n",
        "                    num_boost_round=100,              # 計算回数\n",
        "                    early_stopping_rounds=50,         # アーリーストッピング設定\n",
        "                    evals_result=lgb_results,\n",
        "                    verbose_eval=-1,                  # ログを最後の1つだけ表示\n",
        "                    )  \n",
        "\n",
        "    # 損失推移を表示\n",
        "    loss_train = lgb_results['Train']['rmse']\n",
        "    loss_test = lgb_results['Test']['rmse']   \n",
        "    \n",
        "    fig = plt.figure()\n",
        "    \n",
        "    plt.xlabel('Iteration')\n",
        "    plt.ylabel('logloss')\n",
        "\n",
        "    plt.title(f\"fold:{fold}\")\n",
        "    plt.plot(loss_train, label='train loss')\n",
        "    plt.plot(loss_test, label='test loss')\n",
        "    \n",
        "    plt.legend()\n",
        "    plt.show()\n",
        "\n",
        "    # 推論\n",
        "    y_pred = model.predict(X_test_gkf)\n",
        "\n",
        "    # 評価\n",
        "    rmse = mean_squared_error(y_test_gkf, y_pred, squared=False)\n",
        "    cv_result.append(rmse)\n",
        "\n",
        "print(\"RMSE:\", cv_result)\n",
        "print(\"RMSE:\", np.mean(cv_result))"
      ],
      "execution_count": null,
      "outputs": [
        {
          "output_type": "stream",
          "name": "stdout",
          "text": [
            "Training until validation scores don't improve for 50 rounds.\n",
            "Early stopping, best iteration is:\n",
            "[46]\tTrain's rmse: 0.145024\tTest's rmse: 0.345074\n"
          ]
        },
        {
          "output_type": "display_data",
          "data": {
            "image/png": "[encoded data removed]",
            "text/plain": [
              "<Figure size 432x288 with 1 Axes>"
            ]
          },
          "metadata": {
            "needs_background": "light"
          }
        },
        {
          "output_type": "stream",
          "name": "stdout",
          "text": [
            "Training until validation scores don't improve for 50 rounds.\n",
            "Did not meet early stopping. Best iteration is:\n",
            "[100]\tTrain's rmse: 0.148628\tTest's rmse: 0.111997\n"
          ]
        },
        {
          "output_type": "display_data",
          "data": {
            "image/png": "[encoded data removed]",
            "text/plain": [
              "<Figure size 432x288 with 1 Axes>"
            ]
          },
          "metadata": {
            "needs_background": "light"
          }
        },
        {
          "output_type": "stream",
          "name": "stdout",
          "text": [
            "Training until validation scores don't improve for 50 rounds.\n",
            "Did not meet early stopping. Best iteration is:\n",
            "[100]\tTrain's rmse: 0.146988\tTest's rmse: 0.141503\n"
          ]
        },
        {
          "output_type": "display_data",
          "data": {
            "image/png": "[encoded data removed]",
            "text/plain": [
              "<Figure size 432x288 with 1 Axes>"
            ]
          },
          "metadata": {
            "needs_background": "light"
          }
        },
        {
          "output_type": "stream",
          "name": "stdout",
          "text": [
            "Training until validation scores don't improve for 50 rounds.\n",
            "Early stopping, best iteration is:\n",
            "[43]\tTrain's rmse: 0.165773\tTest's rmse: 0.0217725\n"
          ]
        },
        {
          "output_type": "display_data",
          "data": {
            "image/png": "[encoded data removed]",
            "text/plain": [
              "<Figure size 432x288 with 1 Axes>"
            ]
          },
          "metadata": {
            "needs_background": "light"
          }
        },
        {
          "output_type": "stream",
          "name": "stdout",
          "text": [
            "Training until validation scores don't improve for 50 rounds.\n",
            "Early stopping, best iteration is:\n",
            "[32]\tTrain's rmse: 0.15906\tTest's rmse: 0.373033\n"
          ]
        },
        {
          "output_type": "display_data",
          "data": {
            "image/png": "[encoded data removed]",
            "text/plain": [
              "<Figure size 432x288 with 1 Axes>"
            ]
          },
          "metadata": {
            "needs_background": "light"
          }
        },
        {
          "output_type": "stream",
          "name": "stdout",
          "text": [
            "RMSE: [0.3450743092184951, 0.1119966357028154, 0.141502625741997, 0.021772539884382606, 0.37303280298429786]\n",
            "RMSE: 0.1986757827063976\n"
          ]
        }
      ]
    },
    {
      "cell_type": "markdown",
      "metadata": {
        "id": "jio6I7-pjVxD"
      },
      "source": [
        "### optuna.integration.lightgbm によるハイパーパラメーター調整実施\n",
        "\n"
      ]
    },
    {
      "cell_type": "code",
      "metadata": {
        "id": "tkisg38iezSL",
        "colab": {
          "base_uri": "https://localhost:8080/",
          "height": 1000
        },
        "outputId": "03f0bcc4-c5aa-4685-f3c0-8cdb05bae12e"
      },
      "source": [
        "y_train = y_train.reset_index(drop=True)\n",
        "\n",
        "gkf = GroupKFold(n_splits=5)\n",
        "\n",
        "groups = X_train_ce[\"Genre\"]\n",
        "\n",
        "params = {\n",
        "          'task': 'train',              # タスクを訓練に設定\n",
        "          'boosting_type': 'gbdt',      # GBDTを指定\n",
        "          'objective': 'regression',    # 回帰を指定\n",
        "          'metric': 'rmse',             # 回帰の損失（誤差）\n",
        "          'learning_rate': 0.1,         # 学習率\n",
        "          'seed': SEED                   # シード値\n",
        "          }\n",
        "\n",
        "best_params, history = {}, []\n",
        "\n",
        "cv_result_opt = []\n",
        "\n",
        "for fold, (train_index, test_index) in enumerate(gkf.split(X_train_ce, y_train, groups)):\n",
        "    X_train_gkf, X_test_gkf = X_train_ce.iloc[train_index], X_train_ce.iloc[test_index]\n",
        "    y_train_gkf, y_test_gkf = y_train.iloc[train_index], y_train.iloc[test_index]\n",
        "\n",
        "    # 学習、推論\n",
        "    lgb_train = opt_lgb.Dataset(X_train_gkf, y_train_gkf)\n",
        "    lgb_test = opt_lgb.Dataset(X_test_gkf, y_test_gkf, reference=lgb_train)\n",
        "\n",
        "    lgb_results = {}                                    # 学習の履歴を入れる入物\n",
        "\n",
        "    model = opt_lgb.train(\n",
        "                    params,                    # ハイパーパラメータをセット\n",
        "                    lgb_train,              # 訓練データを訓練用にセット\n",
        "                    valid_sets=[lgb_train, lgb_test], # 訓練データとテストデータをセット\n",
        "                    valid_names=['Train', 'Test'],    # データセットの名前をそれぞれ設定\n",
        "                    num_boost_round=100,              # 計算回数\n",
        "                    early_stopping_rounds=50,         # アーリーストッピング設定\n",
        "                    evals_result=lgb_results,\n",
        "                    verbose_eval=-1,                  # ログを最後の1つだけ表示\n",
        "                    )  \n",
        "    \n",
        "    best_params = model.params\n",
        "\n",
        "    # 損失推移を表示\n",
        "    loss_train = lgb_results['Train']['rmse']\n",
        "    loss_test = lgb_results['Test']['rmse']   \n",
        "    \n",
        "    fig = plt.figure()\n",
        "    \n",
        "    plt.xlabel('Iteration')\n",
        "    plt.ylabel('logloss')\n",
        "\n",
        "    plt.title(f\"fold:{fold}\")\n",
        "    plt.plot(loss_train, label='train loss')\n",
        "    plt.plot(loss_test, label='test loss')\n",
        "    \n",
        "    plt.legend()\n",
        "    plt.show()\n",
        "\n",
        "    # 推論\n",
        "    y_pred = model.predict(X_test_gkf, num_iteration=model.best_iteration)\n",
        "\n",
        "    # 評価\n",
        "    rmse = mean_squared_error(y_test_gkf, y_pred, squared=False)\n",
        "    cv_result_opt.append(rmse)\n",
        "\n",
        "print(\"RMSE:\", cv_result_opt)\n",
        "print(\"RMSE:\", np.mean(cv_result_opt))"
      ],
      "execution_count": null,
      "outputs": [
        {
          "output_type": "stream",
          "name": "stderr",
          "text": [
            "\u001b[32m[I 2021-12-12 02:43:59,433]\u001b[0m A new study created in memory with name: no-name-b9fe2414-c26e-4127-810d-06d887f942cd\u001b[0m\n",
            "feature_fraction, val_score: inf:   0%|          | 0/7 [00:00<?, ?it/s]"
          ]
        },
        {
          "output_type": "stream",
          "name": "stdout",
          "text": [
            "Training until validation scores don't improve for 50 rounds.\n"
          ]
        },
        {
          "output_type": "stream",
          "name": "stderr",
          "text": [
            "feature_fraction, val_score: 0.345643:  14%|#4        | 1/7 [00:00<00:02,  2.15it/s]\u001b[32m[I 2021-12-12 02:43:59,912]\u001b[0m Trial 0 finished with value: 0.34564286351667656 and parameters: {'feature_fraction': 0.8999999999999999}. Best is trial 0 with value: 0.34564286351667656.\u001b[0m\n",
            "feature_fraction, val_score: 0.345643:  14%|#4        | 1/7 [00:00<00:02,  2.15it/s]"
          ]
        },
        {
          "output_type": "stream",
          "name": "stdout",
          "text": [
            "Early stopping, best iteration is:\n",
            "[47]\tTrain's rmse: 0.142844\tTest's rmse: 0.345643\n",
            "Training until validation scores don't improve for 50 rounds.\n"
          ]
        },
        {
          "output_type": "stream",
          "name": "stderr",
          "text": [
            "feature_fraction, val_score: 0.345643:  29%|##8       | 2/7 [00:00<00:02,  2.45it/s]\u001b[32m[I 2021-12-12 02:44:00,281]\u001b[0m Trial 1 finished with value: 0.3573903807852102 and parameters: {'feature_fraction': 0.4}. Best is trial 0 with value: 0.34564286351667656.\u001b[0m\n",
            "feature_fraction, val_score: 0.345643:  29%|##8       | 2/7 [00:00<00:02,  2.45it/s]"
          ]
        },
        {
          "output_type": "stream",
          "name": "stdout",
          "text": [
            "Did not meet early stopping. Best iteration is:\n",
            "[100]\tTrain's rmse: 0.121108\tTest's rmse: 0.35739\n",
            "Training until validation scores don't improve for 50 rounds.\n"
          ]
        },
        {
          "output_type": "stream",
          "name": "stderr",
          "text": [
            "feature_fraction, val_score: 0.345643:  43%|####2     | 3/7 [00:01<00:01,  2.53it/s]\u001b[32m[I 2021-12-12 02:44:00,657]\u001b[0m Trial 2 finished with value: 0.35741087866232285 and parameters: {'feature_fraction': 0.5}. Best is trial 0 with value: 0.34564286351667656.\u001b[0m\n",
            "feature_fraction, val_score: 0.345643:  43%|####2     | 3/7 [00:01<00:01,  2.53it/s]"
          ]
        },
        {
          "output_type": "stream",
          "name": "stdout",
          "text": [
            "Did not meet early stopping. Best iteration is:\n",
            "[100]\tTrain's rmse: 0.116552\tTest's rmse: 0.357411\n",
            "Training until validation scores don't improve for 50 rounds.\n"
          ]
        },
        {
          "output_type": "stream",
          "name": "stderr",
          "text": [
            "feature_fraction, val_score: 0.340763:  57%|#####7    | 4/7 [00:01<00:01,  2.40it/s]\u001b[32m[I 2021-12-12 02:44:01,107]\u001b[0m Trial 3 finished with value: 0.3407631315214147 and parameters: {'feature_fraction': 0.8}. Best is trial 3 with value: 0.3407631315214147.\u001b[0m\n",
            "feature_fraction, val_score: 0.340763:  57%|#####7    | 4/7 [00:01<00:01,  2.40it/s]"
          ]
        },
        {
          "output_type": "stream",
          "name": "stdout",
          "text": [
            "Did not meet early stopping. Best iteration is:\n",
            "[100]\tTrain's rmse: 0.108445\tTest's rmse: 0.340763\n",
            "Training until validation scores don't improve for 50 rounds.\n"
          ]
        },
        {
          "output_type": "stream",
          "name": "stderr",
          "text": [
            "feature_fraction, val_score: 0.340763:  71%|#######1  | 5/7 [00:02<00:00,  2.34it/s]\u001b[32m[I 2021-12-12 02:44:01,552]\u001b[0m Trial 4 finished with value: 0.3641209844575373 and parameters: {'feature_fraction': 0.6}. Best is trial 3 with value: 0.3407631315214147.\u001b[0m\n",
            "feature_fraction, val_score: 0.340763:  71%|#######1  | 5/7 [00:02<00:00,  2.34it/s]"
          ]
        },
        {
          "output_type": "stream",
          "name": "stdout",
          "text": [
            "Did not meet early stopping. Best iteration is:\n",
            "[100]\tTrain's rmse: 0.108089\tTest's rmse: 0.364121\n",
            "Training until validation scores don't improve for 50 rounds.\n"
          ]
        },
        {
          "output_type": "stream",
          "name": "stderr",
          "text": [
            "feature_fraction, val_score: 0.340763:  86%|########5 | 6/7 [00:02<00:00,  2.28it/s]\u001b[32m[I 2021-12-12 02:44:02,013]\u001b[0m Trial 5 finished with value: 0.35225673206710856 and parameters: {'feature_fraction': 0.7}. Best is trial 3 with value: 0.3407631315214147.\u001b[0m\n",
            "feature_fraction, val_score: 0.340763:  86%|########5 | 6/7 [00:02<00:00,  2.28it/s]"
          ]
        },
        {
          "output_type": "stream",
          "name": "stdout",
          "text": [
            "Did not meet early stopping. Best iteration is:\n",
            "[100]\tTrain's rmse: 0.104324\tTest's rmse: 0.352257\n",
            "Training until validation scores don't improve for 50 rounds.\n"
          ]
        },
        {
          "output_type": "stream",
          "name": "stderr",
          "text": [
            "feature_fraction, val_score: 0.340763: 100%|##########| 7/7 [00:03<00:00,  2.18it/s]\u001b[32m[I 2021-12-12 02:44:02,512]\u001b[0m Trial 6 finished with value: 0.34507429978353893 and parameters: {'feature_fraction': 1.0}. Best is trial 3 with value: 0.3407631315214147.\u001b[0m\n",
            "feature_fraction, val_score: 0.340763: 100%|##########| 7/7 [00:03<00:00,  2.27it/s]\n"
          ]
        },
        {
          "output_type": "stream",
          "name": "stdout",
          "text": [
            "Early stopping, best iteration is:\n",
            "[46]\tTrain's rmse: 0.145024\tTest's rmse: 0.345074\n"
          ]
        },
        {
          "output_type": "stream",
          "name": "stderr",
          "text": [
            "num_leaves, val_score: 0.340763:   0%|          | 0/20 [00:00<?, ?it/s]"
          ]
        },
        {
          "output_type": "stream",
          "name": "stdout",
          "text": [
            "Training until validation scores don't improve for 50 rounds.\n"
          ]
        },
        {
          "output_type": "stream",
          "name": "stderr",
          "text": [
            "num_leaves, val_score: 0.340763:   5%|5         | 1/20 [00:00<00:17,  1.10it/s]\u001b[32m[I 2021-12-12 02:44:03,447]\u001b[0m Trial 7 finished with value: 0.34487591966740877 and parameters: {'num_leaves': 96}. Best is trial 7 with value: 0.34487591966740877.\u001b[0m\n",
            "num_leaves, val_score: 0.340763:   5%|5         | 1/20 [00:00<00:17,  1.10it/s]"
          ]
        },
        {
          "output_type": "stream",
          "name": "stdout",
          "text": [
            "Did not meet early stopping. Best iteration is:\n",
            "[100]\tTrain's rmse: 0.109824\tTest's rmse: 0.344876\n",
            "Training until validation scores don't improve for 50 rounds.\n"
          ]
        },
        {
          "output_type": "stream",
          "name": "stderr",
          "text": [
            "num_leaves, val_score: 0.340763:  10%|#         | 2/20 [00:02<00:25,  1.44s/it]\u001b[32m[I 2021-12-12 02:44:05,251]\u001b[0m Trial 8 finished with value: 0.3487369458891203 and parameters: {'num_leaves': 242}. Best is trial 7 with value: 0.34487591966740877.\u001b[0m\n",
            "num_leaves, val_score: 0.340763:  10%|#         | 2/20 [00:02<00:25,  1.44s/it]"
          ]
        },
        {
          "output_type": "stream",
          "name": "stdout",
          "text": [
            "Did not meet early stopping. Best iteration is:\n",
            "[100]\tTrain's rmse: 0.111376\tTest's rmse: 0.348737\n"
          ]
        },
        {
          "output_type": "stream",
          "name": "stderr",
          "text": [
            "num_leaves, val_score: 0.340763:  15%|#5        | 3/20 [00:02<00:15,  1.10it/s]"
          ]
        },
        {
          "output_type": "stream",
          "name": "stdout",
          "text": [
            "Training until validation scores don't improve for 50 rounds.\n",
            "Did not meet early stopping. Best iteration is:\n",
            "[100]\tTrain's rmse: 0.121768\tTest's rmse: 0.343894\n"
          ]
        },
        {
          "output_type": "stream",
          "name": "stderr",
          "text": [
            "\u001b[32m[I 2021-12-12 02:44:05,535]\u001b[0m Trial 9 finished with value: 0.3438937342933316 and parameters: {'num_leaves': 10}. Best is trial 9 with value: 0.3438937342933316.\u001b[0m\n",
            "num_leaves, val_score: 0.340763:  15%|#5        | 3/20 [00:03<00:15,  1.10it/s]"
          ]
        },
        {
          "output_type": "stream",
          "name": "stdout",
          "text": [
            "Training until validation scores don't improve for 50 rounds.\n"
          ]
        },
        {
          "output_type": "stream",
          "name": "stderr",
          "text": [
            "num_leaves, val_score: 0.340763:  20%|##        | 4/20 [00:04<00:18,  1.13s/it]\u001b[32m[I 2021-12-12 02:44:06,996]\u001b[0m Trial 10 finished with value: 0.3476354881204518 and parameters: {'num_leaves': 182}. Best is trial 9 with value: 0.3438937342933316.\u001b[0m\n",
            "num_leaves, val_score: 0.340763:  20%|##        | 4/20 [00:04<00:18,  1.13s/it]"
          ]
        },
        {
          "output_type": "stream",
          "name": "stdout",
          "text": [
            "Did not meet early stopping. Best iteration is:\n",
            "[100]\tTrain's rmse: 0.111744\tTest's rmse: 0.347635\n",
            "Training until validation scores don't improve for 50 rounds.\n"
          ]
        },
        {
          "output_type": "stream",
          "name": "stderr",
          "text": [
            "num_leaves, val_score: 0.340763:  25%|##5       | 5/20 [00:04<00:13,  1.11it/s]\u001b[32m[I 2021-12-12 02:44:07,494]\u001b[0m Trial 11 finished with value: 0.3407631315214147 and parameters: {'num_leaves': 31}. Best is trial 11 with value: 0.3407631315214147.\u001b[0m\n",
            "num_leaves, val_score: 0.340763:  25%|##5       | 5/20 [00:04<00:13,  1.11it/s]"
          ]
        },
        {
          "output_type": "stream",
          "name": "stdout",
          "text": [
            "Did not meet early stopping. Best iteration is:\n",
            "[100]\tTrain's rmse: 0.108445\tTest's rmse: 0.340763\n",
            "Training until validation scores don't improve for 50 rounds.\n"
          ]
        },
        {
          "output_type": "stream",
          "name": "stderr",
          "text": [
            "num_leaves, val_score: 0.340763:  30%|###       | 6/20 [00:06<00:13,  1.03it/s]\u001b[32m[I 2021-12-12 02:44:08,610]\u001b[0m Trial 12 finished with value: 0.3472464776001428 and parameters: {'num_leaves': 125}. Best is trial 11 with value: 0.3407631315214147.\u001b[0m\n",
            "num_leaves, val_score: 0.340763:  30%|###       | 6/20 [00:06<00:13,  1.03it/s]"
          ]
        },
        {
          "output_type": "stream",
          "name": "stdout",
          "text": [
            "Did not meet early stopping. Best iteration is:\n",
            "[100]\tTrain's rmse: 0.113673\tTest's rmse: 0.347246\n",
            "Training until validation scores don't improve for 50 rounds.\n"
          ]
        },
        {
          "output_type": "stream",
          "name": "stderr",
          "text": [
            "num_leaves, val_score: 0.340763:  35%|###5      | 7/20 [00:07<00:15,  1.17s/it]\u001b[32m[I 2021-12-12 02:44:10,186]\u001b[0m Trial 13 finished with value: 0.3450096897649498 and parameters: {'num_leaves': 200}. Best is trial 11 with value: 0.3407631315214147.\u001b[0m\n",
            "num_leaves, val_score: 0.340763:  35%|###5      | 7/20 [00:07<00:15,  1.17s/it]"
          ]
        },
        {
          "output_type": "stream",
          "name": "stdout",
          "text": [
            "Did not meet early stopping. Best iteration is:\n",
            "[100]\tTrain's rmse: 0.112893\tTest's rmse: 0.34501\n",
            "Training until validation scores don't improve for 50 rounds.\n"
          ]
        },
        {
          "output_type": "stream",
          "name": "stderr",
          "text": [
            "num_leaves, val_score: 0.340763:  40%|####      | 8/20 [00:09<00:15,  1.26s/it]\u001b[32m[I 2021-12-12 02:44:11,651]\u001b[0m Trial 14 finished with value: 0.3476354881204518 and parameters: {'num_leaves': 182}. Best is trial 11 with value: 0.3407631315214147.\u001b[0m\n",
            "num_leaves, val_score: 0.340763:  40%|####      | 8/20 [00:09<00:15,  1.26s/it]"
          ]
        },
        {
          "output_type": "stream",
          "name": "stdout",
          "text": [
            "Did not meet early stopping. Best iteration is:\n",
            "[100]\tTrain's rmse: 0.111744\tTest's rmse: 0.347635\n",
            "Training until validation scores don't improve for 50 rounds.\n"
          ]
        },
        {
          "output_type": "stream",
          "name": "stderr",
          "text": [
            "num_leaves, val_score: 0.340763:  45%|####5     | 9/20 [00:10<00:15,  1.39s/it]\u001b[32m[I 2021-12-12 02:44:13,317]\u001b[0m Trial 15 finished with value: 0.3472453495823644 and parameters: {'num_leaves': 221}. Best is trial 11 with value: 0.3407631315214147.\u001b[0m\n",
            "num_leaves, val_score: 0.340763:  45%|####5     | 9/20 [00:10<00:15,  1.39s/it]"
          ]
        },
        {
          "output_type": "stream",
          "name": "stdout",
          "text": [
            "Did not meet early stopping. Best iteration is:\n",
            "[100]\tTrain's rmse: 0.113853\tTest's rmse: 0.347245\n",
            "Training until validation scores don't improve for 50 rounds.\n"
          ]
        },
        {
          "output_type": "stream",
          "name": "stderr",
          "text": [
            "num_leaves, val_score: 0.340763:  50%|#####     | 10/20 [00:12<00:14,  1.49s/it]\u001b[32m[I 2021-12-12 02:44:15,028]\u001b[0m Trial 16 finished with value: 0.34875414314019065 and parameters: {'num_leaves': 219}. Best is trial 11 with value: 0.3407631315214147.\u001b[0m\n",
            "num_leaves, val_score: 0.340763:  50%|#####     | 10/20 [00:12<00:14,  1.49s/it]"
          ]
        },
        {
          "output_type": "stream",
          "name": "stdout",
          "text": [
            "Did not meet early stopping. Best iteration is:\n",
            "[100]\tTrain's rmse: 0.113671\tTest's rmse: 0.348754\n"
          ]
        },
        {
          "output_type": "stream",
          "name": "stderr",
          "text": [
            "num_leaves, val_score: 0.328947:  55%|#####5    | 11/20 [00:12<00:09,  1.08s/it]\u001b[32m[I 2021-12-12 02:44:15,175]\u001b[0m Trial 17 finished with value: 0.3289474878708628 and parameters: {'num_leaves': 2}. Best is trial 17 with value: 0.3289474878708628.\u001b[0m\n",
            "num_leaves, val_score: 0.328947:  55%|#####5    | 11/20 [00:12<00:09,  1.08s/it]"
          ]
        },
        {
          "output_type": "stream",
          "name": "stdout",
          "text": [
            "Training until validation scores don't improve for 50 rounds.\n",
            "Did not meet early stopping. Best iteration is:\n",
            "[100]\tTrain's rmse: 0.183369\tTest's rmse: 0.328947\n",
            "Training until validation scores don't improve for 50 rounds.\n"
          ]
        },
        {
          "output_type": "stream",
          "name": "stderr",
          "text": [
            "num_leaves, val_score: 0.328947:  60%|######    | 12/20 [00:12<00:06,  1.26it/s]\u001b[32m[I 2021-12-12 02:44:15,325]\u001b[0m Trial 18 finished with value: 0.3289474878708628 and parameters: {'num_leaves': 2}. Best is trial 17 with value: 0.3289474878708628.\u001b[0m\n",
            "num_leaves, val_score: 0.328947:  60%|######    | 12/20 [00:12<00:06,  1.26it/s]"
          ]
        },
        {
          "output_type": "stream",
          "name": "stdout",
          "text": [
            "Did not meet early stopping. Best iteration is:\n",
            "[100]\tTrain's rmse: 0.183369\tTest's rmse: 0.328947\n",
            "Training until validation scores don't improve for 50 rounds.\n"
          ]
        },
        {
          "output_type": "stream",
          "name": "stderr",
          "text": [
            "num_leaves, val_score: 0.328947:  65%|######5   | 13/20 [00:13<00:05,  1.30it/s]\u001b[32m[I 2021-12-12 02:44:16,024]\u001b[0m Trial 19 finished with value: 0.34461082231010626 and parameters: {'num_leaves': 65}. Best is trial 17 with value: 0.3289474878708628.\u001b[0m\n",
            "num_leaves, val_score: 0.328947:  70%|#######   | 14/20 [00:13<00:03,  1.72it/s]\u001b[32m[I 2021-12-12 02:44:16,173]\u001b[0m Trial 20 finished with value: 0.3289474878708628 and parameters: {'num_leaves': 2}. Best is trial 17 with value: 0.3289474878708628.\u001b[0m\n",
            "num_leaves, val_score: 0.328947:  70%|#######   | 14/20 [00:13<00:03,  1.72it/s]"
          ]
        },
        {
          "output_type": "stream",
          "name": "stdout",
          "text": [
            "Did not meet early stopping. Best iteration is:\n",
            "[100]\tTrain's rmse: 0.109634\tTest's rmse: 0.344611\n",
            "Training until validation scores don't improve for 50 rounds.\n",
            "Did not meet early stopping. Best iteration is:\n",
            "[100]\tTrain's rmse: 0.183369\tTest's rmse: 0.328947\n",
            "Training until validation scores don't improve for 50 rounds.\n"
          ]
        },
        {
          "output_type": "stream",
          "name": "stderr",
          "text": [
            "num_leaves, val_score: 0.328947:  75%|#######5  | 15/20 [00:14<00:03,  1.64it/s]\u001b[32m[I 2021-12-12 02:44:16,860]\u001b[0m Trial 21 finished with value: 0.34368363648804934 and parameters: {'num_leaves': 59}. Best is trial 17 with value: 0.3289474878708628.\u001b[0m\n",
            "num_leaves, val_score: 0.328947:  75%|#######5  | 15/20 [00:14<00:03,  1.64it/s]"
          ]
        },
        {
          "output_type": "stream",
          "name": "stdout",
          "text": [
            "Did not meet early stopping. Best iteration is:\n",
            "[100]\tTrain's rmse: 0.10679\tTest's rmse: 0.343684\n",
            "Training until validation scores don't improve for 50 rounds.\n"
          ]
        },
        {
          "output_type": "stream",
          "name": "stderr",
          "text": [
            "num_leaves, val_score: 0.328947:  80%|########  | 16/20 [00:14<00:02,  1.65it/s]\u001b[32m[I 2021-12-12 02:44:17,457]\u001b[0m Trial 22 finished with value: 0.3413115761865733 and parameters: {'num_leaves': 47}. Best is trial 17 with value: 0.3289474878708628.\u001b[0m\n",
            "num_leaves, val_score: 0.328947:  80%|########  | 16/20 [00:14<00:02,  1.65it/s]"
          ]
        },
        {
          "output_type": "stream",
          "name": "stdout",
          "text": [
            "Did not meet early stopping. Best iteration is:\n",
            "[100]\tTrain's rmse: 0.110652\tTest's rmse: 0.341312\n",
            "Training until validation scores don't improve for 50 rounds.\n"
          ]
        },
        {
          "output_type": "stream",
          "name": "stderr",
          "text": [
            "num_leaves, val_score: 0.328947:  85%|########5 | 17/20 [00:15<00:02,  1.44it/s]\u001b[32m[I 2021-12-12 02:44:18,352]\u001b[0m Trial 23 finished with value: 0.3475179480073615 and parameters: {'num_leaves': 92}. Best is trial 17 with value: 0.3289474878708628.\u001b[0m\n",
            "num_leaves, val_score: 0.328947:  85%|########5 | 17/20 [00:15<00:02,  1.44it/s]"
          ]
        },
        {
          "output_type": "stream",
          "name": "stdout",
          "text": [
            "Did not meet early stopping. Best iteration is:\n",
            "[100]\tTrain's rmse: 0.112236\tTest's rmse: 0.347518\n",
            "Training until validation scores don't improve for 50 rounds.\n"
          ]
        },
        {
          "output_type": "stream",
          "name": "stderr",
          "text": [
            "num_leaves, val_score: 0.328947:  90%|######### | 18/20 [00:16<00:01,  1.19it/s]\u001b[32m[I 2021-12-12 02:44:19,537]\u001b[0m Trial 24 finished with value: 0.34696493364961656 and parameters: {'num_leaves': 135}. Best is trial 17 with value: 0.3289474878708628.\u001b[0m\n",
            "num_leaves, val_score: 0.328947:  90%|######### | 18/20 [00:17<00:01,  1.19it/s]"
          ]
        },
        {
          "output_type": "stream",
          "name": "stdout",
          "text": [
            "Did not meet early stopping. Best iteration is:\n",
            "[100]\tTrain's rmse: 0.112286\tTest's rmse: 0.346965\n",
            "Training until validation scores don't improve for 50 rounds.\n"
          ]
        },
        {
          "output_type": "stream",
          "name": "stderr",
          "text": [
            "num_leaves, val_score: 0.328947:  95%|#########5| 19/20 [00:17<00:00,  1.38it/s]\u001b[32m[I 2021-12-12 02:44:19,995]\u001b[0m Trial 25 finished with value: 0.33815576191585706 and parameters: {'num_leaves': 30}. Best is trial 17 with value: 0.3289474878708628.\u001b[0m\n",
            "num_leaves, val_score: 0.328947:  95%|#########5| 19/20 [00:17<00:00,  1.38it/s]"
          ]
        },
        {
          "output_type": "stream",
          "name": "stdout",
          "text": [
            "Did not meet early stopping. Best iteration is:\n",
            "[100]\tTrain's rmse: 0.110435\tTest's rmse: 0.338156\n",
            "Training until validation scores don't improve for 50 rounds.\n"
          ]
        },
        {
          "output_type": "stream",
          "name": "stderr",
          "text": [
            "num_leaves, val_score: 0.328947: 100%|##########| 20/20 [00:18<00:00,  1.30it/s]\u001b[32m[I 2021-12-12 02:44:20,866]\u001b[0m Trial 26 finished with value: 0.34464377659642004 and parameters: {'num_leaves': 88}. Best is trial 17 with value: 0.3289474878708628.\u001b[0m\n",
            "num_leaves, val_score: 0.328947: 100%|##########| 20/20 [00:18<00:00,  1.09it/s]\n"
          ]
        },
        {
          "output_type": "stream",
          "name": "stdout",
          "text": [
            "Did not meet early stopping. Best iteration is:\n",
            "[100]\tTrain's rmse: 0.104423\tTest's rmse: 0.344644\n"
          ]
        },
        {
          "output_type": "stream",
          "name": "stderr",
          "text": [
            "bagging, val_score: 0.328947:   0%|          | 0/10 [00:00<?, ?it/s]"
          ]
        },
        {
          "output_type": "stream",
          "name": "stdout",
          "text": [
            "Training until validation scores don't improve for 50 rounds.\n"
          ]
        },
        {
          "output_type": "stream",
          "name": "stderr",
          "text": [
            "bagging, val_score: 0.328947:  10%|#         | 1/10 [00:00<00:01,  5.67it/s]\u001b[32m[I 2021-12-12 02:44:21,056]\u001b[0m Trial 27 finished with value: 0.32898538095895874 and parameters: {'bagging_fraction': 0.9056195006019316, 'bagging_freq': 4}. Best is trial 27 with value: 0.32898538095895874.\u001b[0m\n",
            "bagging, val_score: 0.328947:  10%|#         | 1/10 [00:00<00:01,  5.67it/s]"
          ]
        },
        {
          "output_type": "stream",
          "name": "stdout",
          "text": [
            "Did not meet early stopping. Best iteration is:\n",
            "[100]\tTrain's rmse: 0.183272\tTest's rmse: 0.328985\n",
            "Training until validation scores don't improve for 50 rounds.\n"
          ]
        },
        {
          "output_type": "stream",
          "name": "stderr",
          "text": [
            "bagging, val_score: 0.328947:  20%|##        | 2/10 [00:00<00:01,  5.84it/s]\u001b[32m[I 2021-12-12 02:44:21,223]\u001b[0m Trial 28 finished with value: 0.3290279423602913 and parameters: {'bagging_fraction': 0.9571127250107713, 'bagging_freq': 7}. Best is trial 27 with value: 0.32898538095895874.\u001b[0m\n",
            "bagging, val_score: 0.328947:  20%|##        | 2/10 [00:00<00:01,  5.84it/s]"
          ]
        },
        {
          "output_type": "stream",
          "name": "stdout",
          "text": [
            "Did not meet early stopping. Best iteration is:\n",
            "[100]\tTrain's rmse: 0.183294\tTest's rmse: 0.329028\n"
          ]
        },
        {
          "output_type": "stream",
          "name": "stderr",
          "text": [
            "bagging, val_score: 0.328947:  30%|###       | 3/10 [00:00<00:01,  6.13it/s]\u001b[32m[I 2021-12-12 02:44:21,380]\u001b[0m Trial 29 finished with value: 0.3295604481555849 and parameters: {'bagging_fraction': 0.6373258703513405, 'bagging_freq': 6}. Best is trial 27 with value: 0.32898538095895874.\u001b[0m\n",
            "bagging, val_score: 0.328947:  30%|###       | 3/10 [00:00<00:01,  6.13it/s]"
          ]
        },
        {
          "output_type": "stream",
          "name": "stdout",
          "text": [
            "Training until validation scores don't improve for 50 rounds.\n",
            "Did not meet early stopping. Best iteration is:\n",
            "[100]\tTrain's rmse: 0.183279\tTest's rmse: 0.32956\n",
            "Training until validation scores don't improve for 50 rounds.\n"
          ]
        },
        {
          "output_type": "stream",
          "name": "stderr",
          "text": [
            "bagging, val_score: 0.328763:  40%|####      | 4/10 [00:00<00:00,  6.19it/s]\u001b[32m[I 2021-12-12 02:44:21,538]\u001b[0m Trial 30 finished with value: 0.32876253649426906 and parameters: {'bagging_fraction': 0.7686740193610699, 'bagging_freq': 5}. Best is trial 30 with value: 0.32876253649426906.\u001b[0m\n",
            "bagging, val_score: 0.328763:  40%|####      | 4/10 [00:00<00:00,  6.19it/s]"
          ]
        },
        {
          "output_type": "stream",
          "name": "stdout",
          "text": [
            "Did not meet early stopping. Best iteration is:\n",
            "[100]\tTrain's rmse: 0.182833\tTest's rmse: 0.328763\n",
            "Training until validation scores don't improve for 50 rounds.\n"
          ]
        },
        {
          "output_type": "stream",
          "name": "stderr",
          "text": [
            "bagging, val_score: 0.328757:  50%|#####     | 5/10 [00:00<00:00,  5.86it/s]\u001b[32m[I 2021-12-12 02:44:21,722]\u001b[0m Trial 31 finished with value: 0.3287573669091682 and parameters: {'bagging_fraction': 0.9184034541236111, 'bagging_freq': 3}. Best is trial 31 with value: 0.3287573669091682.\u001b[0m\n",
            "bagging, val_score: 0.328757:  50%|#####     | 5/10 [00:00<00:00,  5.86it/s]"
          ]
        },
        {
          "output_type": "stream",
          "name": "stdout",
          "text": [
            "Did not meet early stopping. Best iteration is:\n",
            "[100]\tTrain's rmse: 0.183217\tTest's rmse: 0.328757\n"
          ]
        },
        {
          "output_type": "stream",
          "name": "stderr",
          "text": [
            "bagging, val_score: 0.328757:  60%|######    | 6/10 [00:00<00:00,  6.14it/s]\u001b[32m[I 2021-12-12 02:44:21,871]\u001b[0m Trial 32 finished with value: 0.3297833257582371 and parameters: {'bagging_fraction': 0.6535568692716299, 'bagging_freq': 7}. Best is trial 31 with value: 0.3287573669091682.\u001b[0m\n",
            "bagging, val_score: 0.328757:  60%|######    | 6/10 [00:01<00:00,  6.14it/s]"
          ]
        },
        {
          "output_type": "stream",
          "name": "stdout",
          "text": [
            "Training until validation scores don't improve for 50 rounds.\n",
            "Did not meet early stopping. Best iteration is:\n",
            "[100]\tTrain's rmse: 0.183121\tTest's rmse: 0.329783\n",
            "Training until validation scores don't improve for 50 rounds.\n"
          ]
        },
        {
          "output_type": "stream",
          "name": "stderr",
          "text": [
            "bagging, val_score: 0.328757:  70%|#######   | 7/10 [00:01<00:00,  6.05it/s]\u001b[32m[I 2021-12-12 02:44:22,044]\u001b[0m Trial 33 finished with value: 0.3287691635996081 and parameters: {'bagging_fraction': 0.4657293176160864, 'bagging_freq': 5}. Best is trial 31 with value: 0.3287573669091682.\u001b[0m\n",
            "bagging, val_score: 0.328757:  70%|#######   | 7/10 [00:01<00:00,  6.05it/s]"
          ]
        },
        {
          "output_type": "stream",
          "name": "stdout",
          "text": [
            "Did not meet early stopping. Best iteration is:\n",
            "[100]\tTrain's rmse: 0.185193\tTest's rmse: 0.328769\n",
            "Training until validation scores don't improve for 50 rounds.\n"
          ]
        },
        {
          "output_type": "stream",
          "name": "stderr",
          "text": [
            "bagging, val_score: 0.328757:  80%|########  | 8/10 [00:01<00:00,  6.09it/s]\u001b[32m[I 2021-12-12 02:44:22,203]\u001b[0m Trial 34 finished with value: 0.32948718651694586 and parameters: {'bagging_fraction': 0.512107966690728, 'bagging_freq': 3}. Best is trial 31 with value: 0.3287573669091682.\u001b[0m\n",
            "bagging, val_score: 0.328757:  80%|########  | 8/10 [00:01<00:00,  6.09it/s]"
          ]
        },
        {
          "output_type": "stream",
          "name": "stdout",
          "text": [
            "Did not meet early stopping. Best iteration is:\n",
            "[100]\tTrain's rmse: 0.183665\tTest's rmse: 0.329487\n"
          ]
        },
        {
          "output_type": "stream",
          "name": "stderr",
          "text": [
            "bagging, val_score: 0.328757:  90%|######### | 9/10 [00:01<00:00,  6.09it/s]\u001b[32m[I 2021-12-12 02:44:22,367]\u001b[0m Trial 35 finished with value: 0.32882394814852406 and parameters: {'bagging_fraction': 0.8507524913244346, 'bagging_freq': 5}. Best is trial 31 with value: 0.3287573669091682.\u001b[0m\n",
            "bagging, val_score: 0.328757:  90%|######### | 9/10 [00:01<00:00,  6.09it/s]"
          ]
        },
        {
          "output_type": "stream",
          "name": "stdout",
          "text": [
            "Training until validation scores don't improve for 50 rounds.\n",
            "Did not meet early stopping. Best iteration is:\n",
            "[100]\tTrain's rmse: 0.183049\tTest's rmse: 0.328824\n",
            "Training until validation scores don't improve for 50 rounds.\n"
          ]
        },
        {
          "output_type": "stream",
          "name": "stderr",
          "text": [
            "bagging, val_score: 0.328550: 100%|##########| 10/10 [00:01<00:00,  5.98it/s]\u001b[32m[I 2021-12-12 02:44:22,544]\u001b[0m Trial 36 finished with value: 0.32855025755778605 and parameters: {'bagging_fraction': 0.8563315623585397, 'bagging_freq': 3}. Best is trial 36 with value: 0.32855025755778605.\u001b[0m\n",
            "bagging, val_score: 0.328550: 100%|##########| 10/10 [00:01<00:00,  5.97it/s]\n"
          ]
        },
        {
          "output_type": "stream",
          "name": "stdout",
          "text": [
            "Did not meet early stopping. Best iteration is:\n",
            "[100]\tTrain's rmse: 0.182678\tTest's rmse: 0.32855\n"
          ]
        },
        {
          "output_type": "stream",
          "name": "stderr",
          "text": [
            "feature_fraction_stage2, val_score: 0.328550:   0%|          | 0/6 [00:00<?, ?it/s]"
          ]
        },
        {
          "output_type": "stream",
          "name": "stdout",
          "text": [
            "Training until validation scores don't improve for 50 rounds.\n"
          ]
        },
        {
          "output_type": "stream",
          "name": "stderr",
          "text": [
            "feature_fraction_stage2, val_score: 0.328461:  17%|#6        | 1/6 [00:00<00:00,  5.60it/s]\u001b[32m[I 2021-12-12 02:44:22,754]\u001b[0m Trial 37 finished with value: 0.32846070592270915 and parameters: {'feature_fraction': 0.88}. Best is trial 37 with value: 0.32846070592270915.\u001b[0m\n",
            "feature_fraction_stage2, val_score: 0.328461:  17%|#6        | 1/6 [00:00<00:00,  5.60it/s]"
          ]
        },
        {
          "output_type": "stream",
          "name": "stdout",
          "text": [
            "Did not meet early stopping. Best iteration is:\n",
            "[100]\tTrain's rmse: 0.182286\tTest's rmse: 0.328461\n",
            "Training until validation scores don't improve for 50 rounds.\n"
          ]
        },
        {
          "output_type": "stream",
          "name": "stderr",
          "text": [
            "feature_fraction_stage2, val_score: 0.328461:  33%|###3      | 2/6 [00:00<00:00,  5.81it/s]\u001b[32m[I 2021-12-12 02:44:22,919]\u001b[0m Trial 38 finished with value: 0.3298512827443691 and parameters: {'feature_fraction': 0.7200000000000001}. Best is trial 37 with value: 0.32846070592270915.\u001b[0m\n",
            "feature_fraction_stage2, val_score: 0.328461:  33%|###3      | 2/6 [00:00<00:00,  5.81it/s]"
          ]
        },
        {
          "output_type": "stream",
          "name": "stdout",
          "text": [
            "Did not meet early stopping. Best iteration is:\n",
            "[100]\tTrain's rmse: 0.185309\tTest's rmse: 0.329851\n"
          ]
        },
        {
          "output_type": "stream",
          "name": "stderr",
          "text": [
            "feature_fraction_stage2, val_score: 0.328461:  50%|#####     | 3/6 [00:00<00:00,  6.00it/s]\u001b[32m[I 2021-12-12 02:44:23,080]\u001b[0m Trial 39 finished with value: 0.3292273376315589 and parameters: {'feature_fraction': 0.7520000000000001}. Best is trial 37 with value: 0.32846070592270915.\u001b[0m\n",
            "feature_fraction_stage2, val_score: 0.328461:  50%|#####     | 3/6 [00:00<00:00,  6.00it/s]"
          ]
        },
        {
          "output_type": "stream",
          "name": "stdout",
          "text": [
            "Training until validation scores don't improve for 50 rounds.\n",
            "Did not meet early stopping. Best iteration is:\n",
            "[100]\tTrain's rmse: 0.183463\tTest's rmse: 0.329227\n",
            "Training until validation scores don't improve for 50 rounds.\n"
          ]
        },
        {
          "output_type": "stream",
          "name": "stderr",
          "text": [
            "feature_fraction_stage2, val_score: 0.328461:  67%|######6   | 4/6 [00:00<00:00,  5.93it/s]\u001b[32m[I 2021-12-12 02:44:23,257]\u001b[0m Trial 40 finished with value: 0.32855025755778605 and parameters: {'feature_fraction': 0.8480000000000001}. Best is trial 37 with value: 0.32846070592270915.\u001b[0m\n",
            "feature_fraction_stage2, val_score: 0.328461:  67%|######6   | 4/6 [00:00<00:00,  5.93it/s]"
          ]
        },
        {
          "output_type": "stream",
          "name": "stdout",
          "text": [
            "Did not meet early stopping. Best iteration is:\n",
            "[100]\tTrain's rmse: 0.182678\tTest's rmse: 0.32855\n",
            "Training until validation scores don't improve for 50 rounds.\n"
          ]
        },
        {
          "output_type": "stream",
          "name": "stderr",
          "text": [
            "feature_fraction_stage2, val_score: 0.328461:  83%|########3 | 5/6 [00:00<00:00,  5.83it/s]\u001b[32m[I 2021-12-12 02:44:23,431]\u001b[0m Trial 41 finished with value: 0.32855025755778605 and parameters: {'feature_fraction': 0.8160000000000001}. Best is trial 37 with value: 0.32846070592270915.\u001b[0m\n",
            "feature_fraction_stage2, val_score: 0.328461:  83%|########3 | 5/6 [00:00<00:00,  5.83it/s]"
          ]
        },
        {
          "output_type": "stream",
          "name": "stdout",
          "text": [
            "Did not meet early stopping. Best iteration is:\n",
            "[100]\tTrain's rmse: 0.182678\tTest's rmse: 0.32855\n"
          ]
        },
        {
          "output_type": "stream",
          "name": "stderr",
          "text": [
            "\rfeature_fraction_stage2, val_score: 0.328461:  83%|########3 | 5/6 [00:01<00:00,  5.83it/s]"
          ]
        },
        {
          "output_type": "stream",
          "name": "stdout",
          "text": [
            "Training until validation scores don't improve for 50 rounds.\n",
            "Did not meet early stopping. Best iteration is:\n",
            "[100]\tTrain's rmse: 0.183463\tTest's rmse: 0.329227\n"
          ]
        },
        {
          "output_type": "stream",
          "name": "stderr",
          "text": [
            "feature_fraction_stage2, val_score: 0.328461: 100%|##########| 6/6 [00:01<00:00,  5.58it/s]\u001b[32m[I 2021-12-12 02:44:23,624]\u001b[0m Trial 42 finished with value: 0.3292273376315589 and parameters: {'feature_fraction': 0.784}. Best is trial 37 with value: 0.32846070592270915.\u001b[0m\n",
            "feature_fraction_stage2, val_score: 0.328461: 100%|##########| 6/6 [00:01<00:00,  5.65it/s]\n",
            "regularization_factors, val_score: 0.328461:   0%|          | 0/20 [00:00<?, ?it/s]"
          ]
        },
        {
          "output_type": "stream",
          "name": "stdout",
          "text": [
            "Training until validation scores don't improve for 50 rounds.\n"
          ]
        },
        {
          "output_type": "stream",
          "name": "stderr",
          "text": [
            "regularization_factors, val_score: 0.328461:   5%|5         | 1/20 [00:00<00:03,  5.19it/s]\u001b[32m[I 2021-12-12 02:44:23,843]\u001b[0m Trial 43 finished with value: 0.32846073504273254 and parameters: {'lambda_l1': 0.00015638426985890386, 'lambda_l2': 0.00011154769332901595}. Best is trial 43 with value: 0.32846073504273254.\u001b[0m\n",
            "regularization_factors, val_score: 0.328461:   5%|5         | 1/20 [00:00<00:03,  5.19it/s]"
          ]
        },
        {
          "output_type": "stream",
          "name": "stdout",
          "text": [
            "Did not meet early stopping. Best iteration is:\n",
            "[100]\tTrain's rmse: 0.182286\tTest's rmse: 0.328461\n",
            "Training until validation scores don't improve for 50 rounds.\n"
          ]
        },
        {
          "output_type": "stream",
          "name": "stderr",
          "text": [
            "regularization_factors, val_score: 0.328461:  10%|#         | 2/20 [00:00<00:03,  5.61it/s]\u001b[32m[I 2021-12-12 02:44:24,009]\u001b[0m Trial 44 finished with value: 0.32846101869438 and parameters: {'lambda_l1': 0.0015503434162714796, 'lambda_l2': 4.2553675057400784e-05}. Best is trial 43 with value: 0.32846073504273254.\u001b[0m\n",
            "regularization_factors, val_score: 0.328461:  10%|#         | 2/20 [00:00<00:03,  5.61it/s]"
          ]
        },
        {
          "output_type": "stream",
          "name": "stdout",
          "text": [
            "Did not meet early stopping. Best iteration is:\n",
            "[100]\tTrain's rmse: 0.182286\tTest's rmse: 0.328461\n"
          ]
        },
        {
          "output_type": "stream",
          "name": "stderr",
          "text": [
            "regularization_factors, val_score: 0.328461:  15%|#5        | 3/20 [00:00<00:02,  5.68it/s]\u001b[32m[I 2021-12-12 02:44:24,183]\u001b[0m Trial 45 finished with value: 0.3284606848944996 and parameters: {'lambda_l1': 2.859470793547068e-07, 'lambda_l2': 0.0009397901044058864}. Best is trial 45 with value: 0.3284606848944996.\u001b[0m\n",
            "regularization_factors, val_score: 0.328461:  15%|#5        | 3/20 [00:00<00:02,  5.68it/s]"
          ]
        },
        {
          "output_type": "stream",
          "name": "stdout",
          "text": [
            "Training until validation scores don't improve for 50 rounds.\n",
            "Did not meet early stopping. Best iteration is:\n",
            "[100]\tTrain's rmse: 0.182286\tTest's rmse: 0.328461\n",
            "Training until validation scores don't improve for 50 rounds.\n"
          ]
        },
        {
          "output_type": "stream",
          "name": "stderr",
          "text": [
            "regularization_factors, val_score: 0.328461:  20%|##        | 4/20 [00:00<00:02,  5.60it/s]\u001b[32m[I 2021-12-12 02:44:24,367]\u001b[0m Trial 46 finished with value: 0.328618155791561 and parameters: {'lambda_l1': 0.3316337108036504, 'lambda_l2': 6.717797383077713e-08}. Best is trial 45 with value: 0.3284606848944996.\u001b[0m\n",
            "regularization_factors, val_score: 0.328461:  20%|##        | 4/20 [00:00<00:02,  5.60it/s]"
          ]
        },
        {
          "output_type": "stream",
          "name": "stdout",
          "text": [
            "Did not meet early stopping. Best iteration is:\n",
            "[100]\tTrain's rmse: 0.182334\tTest's rmse: 0.328618\n",
            "Training until validation scores don't improve for 50 rounds.\n"
          ]
        },
        {
          "output_type": "stream",
          "name": "stderr",
          "text": [
            "regularization_factors, val_score: 0.328461:  25%|##5       | 5/20 [00:00<00:02,  5.62it/s]\u001b[32m[I 2021-12-12 02:44:24,542]\u001b[0m Trial 47 finished with value: 0.32846068832650255 and parameters: {'lambda_l1': 8.806580025193785e-08, 'lambda_l2': 0.0007853883131590064}. Best is trial 45 with value: 0.3284606848944996.\u001b[0m\n",
            "regularization_factors, val_score: 0.328461:  25%|##5       | 5/20 [00:00<00:02,  5.62it/s]"
          ]
        },
        {
          "output_type": "stream",
          "name": "stdout",
          "text": [
            "Did not meet early stopping. Best iteration is:\n",
            "[100]\tTrain's rmse: 0.182286\tTest's rmse: 0.328461\n"
          ]
        },
        {
          "output_type": "stream",
          "name": "stderr",
          "text": [
            "regularization_factors, val_score: 0.328461:  30%|###       | 6/20 [00:01<00:02,  5.65it/s]\u001b[32m[I 2021-12-12 02:44:24,721]\u001b[0m Trial 48 finished with value: 0.3294929126075381 and parameters: {'lambda_l1': 3.423430870149969, 'lambda_l2': 3.3658296330225725e-08}. Best is trial 45 with value: 0.3284606848944996.\u001b[0m\n",
            "regularization_factors, val_score: 0.328461:  30%|###       | 6/20 [00:01<00:02,  5.65it/s]"
          ]
        },
        {
          "output_type": "stream",
          "name": "stdout",
          "text": [
            "Training until validation scores don't improve for 50 rounds.\n",
            "Did not meet early stopping. Best iteration is:\n",
            "[100]\tTrain's rmse: 0.182628\tTest's rmse: 0.329493\n",
            "Training until validation scores don't improve for 50 rounds.\n"
          ]
        },
        {
          "output_type": "stream",
          "name": "stderr",
          "text": [
            "regularization_factors, val_score: 0.328461:  35%|###5      | 7/20 [00:01<00:02,  5.49it/s]\u001b[32m[I 2021-12-12 02:44:24,909]\u001b[0m Trial 49 finished with value: 0.32846580898480293 and parameters: {'lambda_l1': 0.025191837992474243, 'lambda_l2': 1.3412360942424544e-05}. Best is trial 45 with value: 0.3284606848944996.\u001b[0m\n",
            "regularization_factors, val_score: 0.328461:  35%|###5      | 7/20 [00:01<00:02,  5.49it/s]"
          ]
        },
        {
          "output_type": "stream",
          "name": "stdout",
          "text": [
            "Did not meet early stopping. Best iteration is:\n",
            "[100]\tTrain's rmse: 0.182288\tTest's rmse: 0.328466\n",
            "Training until validation scores don't improve for 50 rounds.\n"
          ]
        },
        {
          "output_type": "stream",
          "name": "stderr",
          "text": [
            "regularization_factors, val_score: 0.328461:  40%|####      | 8/20 [00:01<00:02,  5.50it/s]\u001b[32m[I 2021-12-12 02:44:25,093]\u001b[0m Trial 50 finished with value: 0.32846070577403286 and parameters: {'lambda_l1': 5.677196077727817e-08, 'lambda_l2': 6.99734932192018e-06}. Best is trial 45 with value: 0.3284606848944996.\u001b[0m\n",
            "regularization_factors, val_score: 0.328461:  40%|####      | 8/20 [00:01<00:02,  5.50it/s]"
          ]
        },
        {
          "output_type": "stream",
          "name": "stdout",
          "text": [
            "Did not meet early stopping. Best iteration is:\n",
            "[100]\tTrain's rmse: 0.182286\tTest's rmse: 0.328461\n"
          ]
        },
        {
          "output_type": "stream",
          "name": "stderr",
          "text": [
            "regularization_factors, val_score: 0.328461:  45%|####5     | 9/20 [00:01<00:01,  5.56it/s]\u001b[32m[I 2021-12-12 02:44:25,269]\u001b[0m Trial 51 finished with value: 0.3289434834989465 and parameters: {'lambda_l1': 3.789259896639094e-05, 'lambda_l2': 7.012255895817883}. Best is trial 45 with value: 0.3284606848944996.\u001b[0m\n",
            "regularization_factors, val_score: 0.328461:  45%|####5     | 9/20 [00:01<00:01,  5.56it/s]"
          ]
        },
        {
          "output_type": "stream",
          "name": "stdout",
          "text": [
            "Training until validation scores don't improve for 50 rounds.\n",
            "Did not meet early stopping. Best iteration is:\n",
            "[100]\tTrain's rmse: 0.182738\tTest's rmse: 0.328943\n",
            "Training until validation scores don't improve for 50 rounds.\n"
          ]
        },
        {
          "output_type": "stream",
          "name": "stderr",
          "text": [
            "regularization_factors, val_score: 0.328461:  50%|#####     | 10/20 [00:01<00:01,  5.54it/s]\u001b[32m[I 2021-12-12 02:44:25,451]\u001b[0m Trial 52 finished with value: 0.32846097902978894 and parameters: {'lambda_l1': 0.0018178038005267822, 'lambda_l2': 0.0042314126618059845}. Best is trial 45 with value: 0.3284606848944996.\u001b[0m\n",
            "regularization_factors, val_score: 0.328461:  50%|#####     | 10/20 [00:01<00:01,  5.54it/s]"
          ]
        },
        {
          "output_type": "stream",
          "name": "stdout",
          "text": [
            "Did not meet early stopping. Best iteration is:\n",
            "[100]\tTrain's rmse: 0.182286\tTest's rmse: 0.328461\n",
            "Training until validation scores don't improve for 50 rounds.\n"
          ]
        },
        {
          "output_type": "stream",
          "name": "stderr",
          "text": [
            "regularization_factors, val_score: 0.328362:  55%|#####5    | 11/20 [00:01<00:01,  5.49it/s]"
          ]
        },
        {
          "output_type": "stream",
          "name": "stdout",
          "text": [
            "Did not meet early stopping. Best iteration is:\n",
            "[100]\tTrain's rmse: 0.182233\tTest's rmse: 0.328362\n"
          ]
        },
        {
          "output_type": "stream",
          "name": "stderr",
          "text": [
            "\u001b[32m[I 2021-12-12 02:44:25,641]\u001b[0m Trial 53 finished with value: 0.32836225425372106 and parameters: {'lambda_l1': 2.8155870429723693e-06, 'lambda_l2': 0.0893827882237657}. Best is trial 53 with value: 0.32836225425372106.\u001b[0m\n",
            "regularization_factors, val_score: 0.328362:  55%|#####5    | 11/20 [00:02<00:01,  5.49it/s]"
          ]
        },
        {
          "output_type": "stream",
          "name": "stdout",
          "text": [
            "Training until validation scores don't improve for 50 rounds.\n",
            "Did not meet early stopping. Best iteration is:\n",
            "[100]\tTrain's rmse: 0.182235\tTest's rmse: 0.328362\n"
          ]
        },
        {
          "output_type": "stream",
          "name": "stderr",
          "text": [
            "regularization_factors, val_score: 0.328362:  60%|######    | 12/20 [00:02<00:01,  5.38it/s]\u001b[32m[I 2021-12-12 02:44:25,828]\u001b[0m Trial 54 finished with value: 0.32836164025907494 and parameters: {'lambda_l1': 2.428004938529949e-06, 'lambda_l2': 0.13288905791438274}. Best is trial 54 with value: 0.32836164025907494.\u001b[0m\n",
            "regularization_factors, val_score: 0.328362:  60%|######    | 12/20 [00:02<00:01,  5.38it/s]"
          ]
        },
        {
          "output_type": "stream",
          "name": "stdout",
          "text": [
            "Training until validation scores don't improve for 50 rounds.\n"
          ]
        },
        {
          "output_type": "stream",
          "name": "stderr",
          "text": [
            "regularization_factors, val_score: 0.328362:  65%|######5   | 13/20 [00:02<00:01,  5.34it/s]\u001b[32m[I 2021-12-12 02:44:26,022]\u001b[0m Trial 55 finished with value: 0.3283750491036949 and parameters: {'lambda_l1': 4.1736033074768046e-06, 'lambda_l2': 0.19801148326296927}. Best is trial 54 with value: 0.32836164025907494.\u001b[0m\n",
            "regularization_factors, val_score: 0.328362:  65%|######5   | 13/20 [00:02<00:01,  5.34it/s]"
          ]
        },
        {
          "output_type": "stream",
          "name": "stdout",
          "text": [
            "Did not meet early stopping. Best iteration is:\n",
            "[100]\tTrain's rmse: 0.182242\tTest's rmse: 0.328375\n",
            "Training until validation scores don't improve for 50 rounds.\n"
          ]
        },
        {
          "output_type": "stream",
          "name": "stderr",
          "text": [
            "regularization_factors, val_score: 0.328362:  70%|#######   | 14/20 [00:02<00:01,  5.42it/s]\u001b[32m[I 2021-12-12 02:44:26,198]\u001b[0m Trial 56 finished with value: 0.3283622926919174 and parameters: {'lambda_l1': 2.9397747415260117e-06, 'lambda_l2': 0.08672714030577025}. Best is trial 54 with value: 0.32836164025907494.\u001b[0m\n",
            "regularization_factors, val_score: 0.328362:  70%|#######   | 14/20 [00:02<00:01,  5.42it/s]"
          ]
        },
        {
          "output_type": "stream",
          "name": "stdout",
          "text": [
            "Did not meet early stopping. Best iteration is:\n",
            "[100]\tTrain's rmse: 0.182233\tTest's rmse: 0.328362\n"
          ]
        },
        {
          "output_type": "stream",
          "name": "stderr",
          "text": [
            "regularization_factors, val_score: 0.328362:  75%|#######5  | 15/20 [00:02<00:00,  5.53it/s]\u001b[32m[I 2021-12-12 02:44:26,370]\u001b[0m Trial 57 finished with value: 0.32903321961837306 and parameters: {'lambda_l1': 4.351154473052534e-06, 'lambda_l2': 5.11580366933709}. Best is trial 54 with value: 0.32836164025907494.\u001b[0m\n",
            "regularization_factors, val_score: 0.328362:  75%|#######5  | 15/20 [00:02<00:00,  5.53it/s]"
          ]
        },
        {
          "output_type": "stream",
          "name": "stdout",
          "text": [
            "Training until validation scores don't improve for 50 rounds.\n",
            "Did not meet early stopping. Best iteration is:\n",
            "[100]\tTrain's rmse: 0.182681\tTest's rmse: 0.329033\n",
            "Training until validation scores don't improve for 50 rounds.\n"
          ]
        },
        {
          "output_type": "stream",
          "name": "stderr",
          "text": [
            "regularization_factors, val_score: 0.328362:  80%|########  | 16/20 [00:02<00:00,  5.44it/s]\u001b[32m[I 2021-12-12 02:44:26,561]\u001b[0m Trial 58 finished with value: 0.3283627990668686 and parameters: {'lambda_l1': 1.056607807498295e-08, 'lambda_l2': 0.052351871169742915}. Best is trial 54 with value: 0.32836164025907494.\u001b[0m\n",
            "regularization_factors, val_score: 0.328362:  80%|########  | 16/20 [00:02<00:00,  5.44it/s]"
          ]
        },
        {
          "output_type": "stream",
          "name": "stdout",
          "text": [
            "Did not meet early stopping. Best iteration is:\n",
            "[100]\tTrain's rmse: 0.182232\tTest's rmse: 0.328363\n",
            "Training until validation scores don't improve for 50 rounds.\n"
          ]
        },
        {
          "output_type": "stream",
          "name": "stderr",
          "text": [
            "regularization_factors, val_score: 0.328362:  85%|########5 | 17/20 [00:03<00:00,  5.47it/s]\u001b[32m[I 2021-12-12 02:44:26,741]\u001b[0m Trial 59 finished with value: 0.3284973721575211 and parameters: {'lambda_l1': 3.2436807231591296e-05, 'lambda_l2': 0.6418688356950396}. Best is trial 54 with value: 0.32836164025907494.\u001b[0m\n",
            "regularization_factors, val_score: 0.328362:  85%|########5 | 17/20 [00:03<00:00,  5.47it/s]"
          ]
        },
        {
          "output_type": "stream",
          "name": "stdout",
          "text": [
            "Did not meet early stopping. Best iteration is:\n",
            "[100]\tTrain's rmse: 0.182308\tTest's rmse: 0.328497\n"
          ]
        },
        {
          "output_type": "stream",
          "name": "stderr",
          "text": [
            "regularization_factors, val_score: 0.328362:  90%|######### | 18/20 [00:03<00:00,  5.40it/s]"
          ]
        },
        {
          "output_type": "stream",
          "name": "stdout",
          "text": [
            "Training until validation scores don't improve for 50 rounds.\n",
            "Did not meet early stopping. Best iteration is:\n",
            "[100]\tTrain's rmse: 0.182231\tTest's rmse: 0.328363\n"
          ]
        },
        {
          "output_type": "stream",
          "name": "stderr",
          "text": [
            "\u001b[32m[I 2021-12-12 02:44:26,939]\u001b[0m Trial 60 finished with value: 0.32836322065584944 and parameters: {'lambda_l1': 8.328840177163545e-07, 'lambda_l2': 0.02466559985362528}. Best is trial 54 with value: 0.32836164025907494.\u001b[0m\n",
            "regularization_factors, val_score: 0.328362:  90%|######### | 18/20 [00:03<00:00,  5.40it/s]"
          ]
        },
        {
          "output_type": "stream",
          "name": "stdout",
          "text": [
            "Training until validation scores don't improve for 50 rounds.\n"
          ]
        },
        {
          "output_type": "stream",
          "name": "stderr",
          "text": [
            "regularization_factors, val_score: 0.328362:  95%|#########5| 19/20 [00:03<00:00,  5.41it/s]\u001b[32m[I 2021-12-12 02:44:27,116]\u001b[0m Trial 61 finished with value: 0.32846052299697975 and parameters: {'lambda_l1': 0.00010250951898896503, 'lambda_l2': 0.009106696163610905}. Best is trial 54 with value: 0.32836164025907494.\u001b[0m\n",
            "regularization_factors, val_score: 0.328362:  95%|#########5| 19/20 [00:03<00:00,  5.41it/s]"
          ]
        },
        {
          "output_type": "stream",
          "name": "stdout",
          "text": [
            "Did not meet early stopping. Best iteration is:\n",
            "[100]\tTrain's rmse: 0.182286\tTest's rmse: 0.328461\n",
            "Training until validation scores don't improve for 50 rounds.\n"
          ]
        },
        {
          "output_type": "stream",
          "name": "stderr",
          "text": [
            "regularization_factors, val_score: 0.328362: 100%|##########| 20/20 [00:03<00:00,  5.36it/s]"
          ]
        },
        {
          "output_type": "stream",
          "name": "stdout",
          "text": [
            "Did not meet early stopping. Best iteration is:\n",
            "[100]\tTrain's rmse: 0.182327\tTest's rmse: 0.328626\n"
          ]
        },
        {
          "output_type": "stream",
          "name": "stderr",
          "text": [
            "\u001b[32m[I 2021-12-12 02:44:27,311]\u001b[0m Trial 62 finished with value: 0.3286256642782288 and parameters: {'lambda_l1': 0.0013772688953234476, 'lambda_l2': 0.9213013326961217}. Best is trial 54 with value: 0.32836164025907494.\u001b[0m\n",
            "regularization_factors, val_score: 0.328362: 100%|##########| 20/20 [00:03<00:00,  5.44it/s]\n",
            "min_data_in_leaf, val_score: 0.328362:  20%|##        | 1/5 [00:00<00:00,  6.17it/s]"
          ]
        },
        {
          "output_type": "stream",
          "name": "stdout",
          "text": [
            "Training until validation scores don't improve for 50 rounds.\n",
            "Did not meet early stopping. Best iteration is:\n",
            "[100]\tTrain's rmse: 0.182053\tTest's rmse: 0.329219\n"
          ]
        },
        {
          "output_type": "stream",
          "name": "stderr",
          "text": [
            "\u001b[32m[I 2021-12-12 02:44:27,493]\u001b[0m Trial 63 finished with value: 0.32921909395633936 and parameters: {'min_child_samples': 5}. Best is trial 63 with value: 0.32921909395633936.\u001b[0m\n",
            "min_data_in_leaf, val_score: 0.328362:  20%|##        | 1/5 [00:00<00:00,  6.17it/s]"
          ]
        },
        {
          "output_type": "stream",
          "name": "stdout",
          "text": [
            "Training until validation scores don't improve for 50 rounds.\n"
          ]
        },
        {
          "output_type": "stream",
          "name": "stderr",
          "text": [
            "min_data_in_leaf, val_score: 0.328362:  40%|####      | 2/5 [00:00<00:00,  5.80it/s]\u001b[32m[I 2021-12-12 02:44:27,673]\u001b[0m Trial 64 finished with value: 0.32921909395633936 and parameters: {'min_child_samples': 10}. Best is trial 63 with value: 0.32921909395633936.\u001b[0m\n",
            "min_data_in_leaf, val_score: 0.328362:  40%|####      | 2/5 [00:00<00:00,  5.80it/s]"
          ]
        },
        {
          "output_type": "stream",
          "name": "stdout",
          "text": [
            "Did not meet early stopping. Best iteration is:\n",
            "[100]\tTrain's rmse: 0.182053\tTest's rmse: 0.329219\n",
            "Training until validation scores don't improve for 50 rounds.\n"
          ]
        },
        {
          "output_type": "stream",
          "name": "stderr",
          "text": [
            "min_data_in_leaf, val_score: 0.328362:  60%|######    | 3/5 [00:00<00:00,  5.39it/s]\u001b[32m[I 2021-12-12 02:44:27,874]\u001b[0m Trial 65 finished with value: 0.3293506783886849 and parameters: {'min_child_samples': 25}. Best is trial 63 with value: 0.32921909395633936.\u001b[0m\n",
            "min_data_in_leaf, val_score: 0.328362:  80%|########  | 4/5 [00:00<00:00,  5.72it/s]\u001b[32m[I 2021-12-12 02:44:28,033]\u001b[0m Trial 66 finished with value: 0.37883513020685833 and parameters: {'min_child_samples': 50}. Best is trial 63 with value: 0.32921909395633936.\u001b[0m\n",
            "min_data_in_leaf, val_score: 0.328362:  80%|########  | 4/5 [00:00<00:00,  5.72it/s]"
          ]
        },
        {
          "output_type": "stream",
          "name": "stdout",
          "text": [
            "Did not meet early stopping. Best iteration is:\n",
            "[100]\tTrain's rmse: 0.182511\tTest's rmse: 0.329351\n",
            "Training until validation scores don't improve for 50 rounds.\n",
            "Did not meet early stopping. Best iteration is:\n",
            "[100]\tTrain's rmse: 0.245037\tTest's rmse: 0.378835\n"
          ]
        },
        {
          "output_type": "stream",
          "name": "stderr",
          "text": [
            "min_data_in_leaf, val_score: 0.328362: 100%|##########| 5/5 [00:00<00:00,  5.78it/s]\u001b[32m[I 2021-12-12 02:44:28,206]\u001b[0m Trial 67 finished with value: 0.414406654934557 and parameters: {'min_child_samples': 100}. Best is trial 63 with value: 0.32921909395633936.\u001b[0m\n",
            "min_data_in_leaf, val_score: 0.328362: 100%|##########| 5/5 [00:00<00:00,  5.66it/s]\n"
          ]
        },
        {
          "output_type": "stream",
          "name": "stdout",
          "text": [
            "Training until validation scores don't improve for 50 rounds.\n",
            "Did not meet early stopping. Best iteration is:\n",
            "[99]\tTrain's rmse: 0.280304\tTest's rmse: 0.414407\n"
          ]
        },
        {
          "output_type": "display_data",
          "data": {
            "image/png": "[encoded data removed]",
            "text/plain": [
              "<Figure size 432x288 with 1 Axes>"
            ]
          },
          "metadata": {
            "needs_background": "light"
          }
        },
        {
          "output_type": "stream",
          "name": "stderr",
          "text": [
            "\u001b[32m[I 2021-12-12 02:44:28,426]\u001b[0m A new study created in memory with name: no-name-4ddc5fef-114d-4076-8f8e-4320cdb67665\u001b[0m\n",
            "feature_fraction, val_score: inf:   0%|          | 0/7 [00:00<?, ?it/s]"
          ]
        },
        {
          "output_type": "stream",
          "name": "stdout",
          "text": [
            "Training until validation scores don't improve for 50 rounds.\n"
          ]
        },
        {
          "output_type": "stream",
          "name": "stderr",
          "text": [
            "feature_fraction, val_score: 0.107196:  14%|#4        | 1/7 [00:00<00:02,  2.23it/s]\u001b[32m[I 2021-12-12 02:44:28,886]\u001b[0m Trial 0 finished with value: 0.10719557951928363 and parameters: {'feature_fraction': 0.8}. Best is trial 0 with value: 0.10719557951928363.\u001b[0m\n",
            "feature_fraction, val_score: 0.107196:  14%|#4        | 1/7 [00:00<00:02,  2.23it/s]"
          ]
        },
        {
          "output_type": "stream",
          "name": "stdout",
          "text": [
            "Did not meet early stopping. Best iteration is:\n",
            "[100]\tTrain's rmse: 0.131381\tTest's rmse: 0.107196\n",
            "Training until validation scores don't improve for 50 rounds.\n"
          ]
        },
        {
          "output_type": "stream",
          "name": "stderr",
          "text": [
            "feature_fraction, val_score: 0.107196:  29%|##8       | 2/7 [00:00<00:02,  2.39it/s]\u001b[32m[I 2021-12-12 02:44:29,284]\u001b[0m Trial 1 finished with value: 0.13610145954023592 and parameters: {'feature_fraction': 0.5}. Best is trial 0 with value: 0.10719557951928363.\u001b[0m\n",
            "feature_fraction, val_score: 0.107196:  29%|##8       | 2/7 [00:00<00:02,  2.39it/s]"
          ]
        },
        {
          "output_type": "stream",
          "name": "stdout",
          "text": [
            "Did not meet early stopping. Best iteration is:\n",
            "[100]\tTrain's rmse: 0.133052\tTest's rmse: 0.136101\n",
            "Training until validation scores don't improve for 50 rounds.\n"
          ]
        },
        {
          "output_type": "stream",
          "name": "stderr",
          "text": [
            "feature_fraction, val_score: 0.107196:  43%|####2     | 3/7 [00:01<00:01,  2.20it/s]\u001b[32m[I 2021-12-12 02:44:29,792]\u001b[0m Trial 2 finished with value: 0.11199663372018694 and parameters: {'feature_fraction': 1.0}. Best is trial 0 with value: 0.10719557951928363.\u001b[0m\n",
            "feature_fraction, val_score: 0.107196:  43%|####2     | 3/7 [00:01<00:01,  2.20it/s]"
          ]
        },
        {
          "output_type": "stream",
          "name": "stdout",
          "text": [
            "Did not meet early stopping. Best iteration is:\n",
            "[100]\tTrain's rmse: 0.148628\tTest's rmse: 0.111997\n",
            "Training until validation scores don't improve for 50 rounds.\n"
          ]
        },
        {
          "output_type": "stream",
          "name": "stderr",
          "text": [
            "feature_fraction, val_score: 0.107196:  57%|#####7    | 4/7 [00:01<00:01,  2.09it/s]\u001b[32m[I 2021-12-12 02:44:30,296]\u001b[0m Trial 3 finished with value: 0.11007959705896872 and parameters: {'feature_fraction': 0.8999999999999999}. Best is trial 0 with value: 0.10719557951928363.\u001b[0m\n",
            "feature_fraction, val_score: 0.107196:  57%|#####7    | 4/7 [00:01<00:01,  2.09it/s]"
          ]
        },
        {
          "output_type": "stream",
          "name": "stdout",
          "text": [
            "Did not meet early stopping. Best iteration is:\n",
            "[100]\tTrain's rmse: 0.146464\tTest's rmse: 0.11008\n",
            "Training until validation scores don't improve for 50 rounds.\n"
          ]
        },
        {
          "output_type": "stream",
          "name": "stderr",
          "text": [
            "feature_fraction, val_score: 0.107196:  71%|#######1  | 5/7 [00:02<00:00,  2.31it/s]\u001b[32m[I 2021-12-12 02:44:30,647]\u001b[0m Trial 4 finished with value: 0.13951428268921193 and parameters: {'feature_fraction': 0.4}. Best is trial 0 with value: 0.10719557951928363.\u001b[0m\n",
            "feature_fraction, val_score: 0.107196:  71%|#######1  | 5/7 [00:02<00:00,  2.31it/s]"
          ]
        },
        {
          "output_type": "stream",
          "name": "stdout",
          "text": [
            "Did not meet early stopping. Best iteration is:\n",
            "[100]\tTrain's rmse: 0.140926\tTest's rmse: 0.139514\n",
            "Training until validation scores don't improve for 50 rounds.\n"
          ]
        },
        {
          "output_type": "stream",
          "name": "stderr",
          "text": [
            "feature_fraction, val_score: 0.107196:  86%|########5 | 6/7 [00:02<00:00,  2.29it/s]\u001b[32m[I 2021-12-12 02:44:31,095]\u001b[0m Trial 5 finished with value: 0.10971220492343477 and parameters: {'feature_fraction': 0.7}. Best is trial 0 with value: 0.10719557951928363.\u001b[0m\n",
            "feature_fraction, val_score: 0.107196:  86%|########5 | 6/7 [00:02<00:00,  2.29it/s]"
          ]
        },
        {
          "output_type": "stream",
          "name": "stdout",
          "text": [
            "Did not meet early stopping. Best iteration is:\n",
            "[100]\tTrain's rmse: 0.128728\tTest's rmse: 0.109712\n",
            "Training until validation scores don't improve for 50 rounds.\n"
          ]
        },
        {
          "output_type": "stream",
          "name": "stderr",
          "text": [
            "feature_fraction, val_score: 0.107196: 100%|##########| 7/7 [00:03<00:00,  2.34it/s]\u001b[32m[I 2021-12-12 02:44:31,503]\u001b[0m Trial 6 finished with value: 0.12471472614397411 and parameters: {'feature_fraction': 0.6}. Best is trial 0 with value: 0.10719557951928363.\u001b[0m\n",
            "feature_fraction, val_score: 0.107196: 100%|##########| 7/7 [00:03<00:00,  2.28it/s]\n"
          ]
        },
        {
          "output_type": "stream",
          "name": "stdout",
          "text": [
            "Did not meet early stopping. Best iteration is:\n",
            "[100]\tTrain's rmse: 0.131213\tTest's rmse: 0.124715\n"
          ]
        },
        {
          "output_type": "stream",
          "name": "stderr",
          "text": [
            "num_leaves, val_score: 0.107196:   0%|          | 0/20 [00:00<?, ?it/s]"
          ]
        },
        {
          "output_type": "stream",
          "name": "stdout",
          "text": [
            "Training until validation scores don't improve for 50 rounds.\n"
          ]
        },
        {
          "output_type": "stream",
          "name": "stderr",
          "text": [
            "num_leaves, val_score: 0.107196:   5%|5         | 1/20 [00:00<00:16,  1.18it/s]\u001b[32m[I 2021-12-12 02:44:32,379]\u001b[0m Trial 7 finished with value: 0.11035719150660497 and parameters: {'num_leaves': 85}. Best is trial 7 with value: 0.11035719150660497.\u001b[0m\n",
            "num_leaves, val_score: 0.107196:   5%|5         | 1/20 [00:00<00:16,  1.18it/s]"
          ]
        },
        {
          "output_type": "stream",
          "name": "stdout",
          "text": [
            "Did not meet early stopping. Best iteration is:\n",
            "[100]\tTrain's rmse: 0.13535\tTest's rmse: 0.110357\n",
            "Training until validation scores don't improve for 50 rounds.\n"
          ]
        },
        {
          "output_type": "stream",
          "name": "stderr",
          "text": [
            "num_leaves, val_score: 0.107196:  10%|#         | 2/20 [00:02<00:24,  1.37s/it]\u001b[32m[I 2021-12-12 02:44:34,114]\u001b[0m Trial 8 finished with value: 0.11621459104795319 and parameters: {'num_leaves': 239}. Best is trial 7 with value: 0.11035719150660497.\u001b[0m\n",
            "num_leaves, val_score: 0.107196:  10%|#         | 2/20 [00:02<00:24,  1.37s/it]"
          ]
        },
        {
          "output_type": "stream",
          "name": "stdout",
          "text": [
            "Did not meet early stopping. Best iteration is:\n",
            "[100]\tTrain's rmse: 0.137463\tTest's rmse: 0.116215\n",
            "Training until validation scores don't improve for 50 rounds.\n"
          ]
        },
        {
          "output_type": "stream",
          "name": "stderr",
          "text": [
            "num_leaves, val_score: 0.107196:  15%|#5        | 3/20 [00:04<00:24,  1.44s/it]\u001b[32m[I 2021-12-12 02:44:35,646]\u001b[0m Trial 9 finished with value: 0.11288293271889294 and parameters: {'num_leaves': 197}. Best is trial 7 with value: 0.11035719150660497.\u001b[0m\n",
            "num_leaves, val_score: 0.107196:  15%|#5        | 3/20 [00:04<00:24,  1.44s/it]"
          ]
        },
        {
          "output_type": "stream",
          "name": "stdout",
          "text": [
            "Did not meet early stopping. Best iteration is:\n",
            "[100]\tTrain's rmse: 0.129382\tTest's rmse: 0.112883\n",
            "Training until validation scores don't improve for 50 rounds.\n"
          ]
        },
        {
          "output_type": "stream",
          "name": "stderr",
          "text": [
            "num_leaves, val_score: 0.107196:  20%|##        | 4/20 [00:05<00:23,  1.44s/it]\u001b[32m[I 2021-12-12 02:44:37,074]\u001b[0m Trial 10 finished with value: 0.11125910894468961 and parameters: {'num_leaves': 177}. Best is trial 7 with value: 0.11035719150660497.\u001b[0m\n",
            "num_leaves, val_score: 0.107196:  20%|##        | 4/20 [00:05<00:23,  1.44s/it]"
          ]
        },
        {
          "output_type": "stream",
          "name": "stdout",
          "text": [
            "Did not meet early stopping. Best iteration is:\n",
            "[100]\tTrain's rmse: 0.132664\tTest's rmse: 0.111259\n",
            "Training until validation scores don't improve for 50 rounds.\n"
          ]
        },
        {
          "output_type": "stream",
          "name": "stderr",
          "text": [
            "num_leaves, val_score: 0.107196:  25%|##5       | 5/20 [00:07<00:22,  1.48s/it]\u001b[32m[I 2021-12-12 02:44:38,631]\u001b[0m Trial 11 finished with value: 0.11572619833537044 and parameters: {'num_leaves': 198}. Best is trial 7 with value: 0.11035719150660497.\u001b[0m\n",
            "num_leaves, val_score: 0.107196:  25%|##5       | 5/20 [00:07<00:22,  1.48s/it]"
          ]
        },
        {
          "output_type": "stream",
          "name": "stdout",
          "text": [
            "Did not meet early stopping. Best iteration is:\n",
            "[100]\tTrain's rmse: 0.134159\tTest's rmse: 0.115726\n",
            "Training until validation scores don't improve for 50 rounds.\n"
          ]
        },
        {
          "output_type": "stream",
          "name": "stderr",
          "text": [
            "num_leaves, val_score: 0.107196:  30%|###       | 6/20 [00:08<00:19,  1.38s/it]\u001b[32m[I 2021-12-12 02:44:39,813]\u001b[0m Trial 12 finished with value: 0.11360992129056817 and parameters: {'num_leaves': 130}. Best is trial 7 with value: 0.11035719150660497.\u001b[0m\n",
            "num_leaves, val_score: 0.107196:  30%|###       | 6/20 [00:08<00:19,  1.38s/it]"
          ]
        },
        {
          "output_type": "stream",
          "name": "stdout",
          "text": [
            "Did not meet early stopping. Best iteration is:\n",
            "[100]\tTrain's rmse: 0.131767\tTest's rmse: 0.11361\n",
            "Training until validation scores don't improve for 50 rounds.\n"
          ]
        },
        {
          "output_type": "stream",
          "name": "stderr",
          "text": [
            "num_leaves, val_score: 0.107196:  35%|###5      | 7/20 [00:09<00:18,  1.44s/it]\u001b[32m[I 2021-12-12 02:44:41,378]\u001b[0m Trial 13 finished with value: 0.11505250458871294 and parameters: {'num_leaves': 195}. Best is trial 7 with value: 0.11035719150660497.\u001b[0m\n",
            "num_leaves, val_score: 0.107196:  35%|###5      | 7/20 [00:09<00:18,  1.44s/it]"
          ]
        },
        {
          "output_type": "stream",
          "name": "stdout",
          "text": [
            "Did not meet early stopping. Best iteration is:\n",
            "[100]\tTrain's rmse: 0.13488\tTest's rmse: 0.115053\n",
            "Training until validation scores don't improve for 50 rounds.\n"
          ]
        },
        {
          "output_type": "stream",
          "name": "stderr",
          "text": [
            "num_leaves, val_score: 0.107196:  40%|####      | 8/20 [00:10<00:14,  1.25s/it]\u001b[32m[I 2021-12-12 02:44:42,223]\u001b[0m Trial 14 finished with value: 0.11150977898424971 and parameters: {'num_leaves': 83}. Best is trial 7 with value: 0.11035719150660497.\u001b[0m\n",
            "num_leaves, val_score: 0.107196:  40%|####      | 8/20 [00:10<00:14,  1.25s/it]"
          ]
        },
        {
          "output_type": "stream",
          "name": "stdout",
          "text": [
            "Did not meet early stopping. Best iteration is:\n",
            "[100]\tTrain's rmse: 0.131032\tTest's rmse: 0.11151\n",
            "Training until validation scores don't improve for 50 rounds.\n"
          ]
        },
        {
          "output_type": "stream",
          "name": "stderr",
          "text": [
            "num_leaves, val_score: 0.106743:  45%|####5     | 9/20 [00:11<00:11,  1.03s/it]\u001b[32m[I 2021-12-12 02:44:42,773]\u001b[0m Trial 15 finished with value: 0.10674330702006886 and parameters: {'num_leaves': 42}. Best is trial 15 with value: 0.10674330702006886.\u001b[0m\n",
            "num_leaves, val_score: 0.106743:  45%|####5     | 9/20 [00:11<00:11,  1.03s/it]"
          ]
        },
        {
          "output_type": "stream",
          "name": "stdout",
          "text": [
            "Did not meet early stopping. Best iteration is:\n",
            "[100]\tTrain's rmse: 0.131326\tTest's rmse: 0.106743\n",
            "Training until validation scores don't improve for 50 rounds.\n"
          ]
        },
        {
          "output_type": "stream",
          "name": "stderr",
          "text": [
            "num_leaves, val_score: 0.106743:  50%|#####     | 10/20 [00:12<00:10,  1.06s/it]\u001b[32m[I 2021-12-12 02:44:43,898]\u001b[0m Trial 16 finished with value: 0.11575937371741327 and parameters: {'num_leaves': 125}. Best is trial 15 with value: 0.10674330702006886.\u001b[0m\n",
            "num_leaves, val_score: 0.106743:  50%|#####     | 10/20 [00:12<00:10,  1.06s/it]"
          ]
        },
        {
          "output_type": "stream",
          "name": "stdout",
          "text": [
            "Did not meet early stopping. Best iteration is:\n",
            "[100]\tTrain's rmse: 0.138359\tTest's rmse: 0.115759\n",
            "Training until validation scores don't improve for 50 rounds.\n"
          ]
        },
        {
          "output_type": "stream",
          "name": "stderr",
          "text": [
            "num_leaves, val_score: 0.103469:  55%|#####5    | 11/20 [00:12<00:07,  1.17it/s]\u001b[32m[I 2021-12-12 02:44:44,292]\u001b[0m Trial 17 finished with value: 0.10346934564683326 and parameters: {'num_leaves': 21}. Best is trial 17 with value: 0.10346934564683326.\u001b[0m\n",
            "num_leaves, val_score: 0.103469:  55%|#####5    | 11/20 [00:12<00:07,  1.17it/s]"
          ]
        },
        {
          "output_type": "stream",
          "name": "stdout",
          "text": [
            "Did not meet early stopping. Best iteration is:\n",
            "[100]\tTrain's rmse: 0.132837\tTest's rmse: 0.103469\n",
            "Training until validation scores don't improve for 50 rounds.\n"
          ]
        },
        {
          "output_type": "stream",
          "name": "stderr",
          "text": [
            "num_leaves, val_score: 0.100578:  60%|######    | 12/20 [00:13<00:05,  1.43it/s]\u001b[32m[I 2021-12-12 02:44:44,638]\u001b[0m Trial 18 finished with value: 0.10057772456165265 and parameters: {'num_leaves': 18}. Best is trial 18 with value: 0.10057772456165265.\u001b[0m\n",
            "num_leaves, val_score: 0.100578:  60%|######    | 12/20 [00:13<00:05,  1.43it/s]"
          ]
        },
        {
          "output_type": "stream",
          "name": "stdout",
          "text": [
            "Did not meet early stopping. Best iteration is:\n",
            "[100]\tTrain's rmse: 0.134322\tTest's rmse: 0.100578\n",
            "Training until validation scores don't improve for 50 rounds.\n"
          ]
        },
        {
          "output_type": "stream",
          "name": "stderr",
          "text": [
            "num_leaves, val_score: 0.100578:  65%|######5   | 13/20 [00:13<00:03,  1.81it/s]\u001b[32m[I 2021-12-12 02:44:44,850]\u001b[0m Trial 19 finished with value: 0.11254464585910298 and parameters: {'num_leaves': 5}. Best is trial 18 with value: 0.10057772456165265.\u001b[0m\n",
            "num_leaves, val_score: 0.100578:  70%|#######   | 14/20 [00:13<00:02,  2.27it/s]"
          ]
        },
        {
          "output_type": "stream",
          "name": "stdout",
          "text": [
            "Did not meet early stopping. Best iteration is:\n",
            "[100]\tTrain's rmse: 0.162988\tTest's rmse: 0.112545\n",
            "Training until validation scores don't improve for 50 rounds.\n",
            "Did not meet early stopping. Best iteration is:\n",
            "[100]\tTrain's rmse: 0.199375\tTest's rmse: 0.119861\n"
          ]
        },
        {
          "output_type": "stream",
          "name": "stderr",
          "text": [
            "\u001b[32m[I 2021-12-12 02:44:45,032]\u001b[0m Trial 20 finished with value: 0.1198610325151871 and parameters: {'num_leaves': 3}. Best is trial 18 with value: 0.10057772456165265.\u001b[0m\n",
            "num_leaves, val_score: 0.100578:  70%|#######   | 14/20 [00:13<00:02,  2.27it/s]"
          ]
        },
        {
          "output_type": "stream",
          "name": "stdout",
          "text": [
            "Training until validation scores don't improve for 50 rounds.\n"
          ]
        },
        {
          "output_type": "stream",
          "name": "stderr",
          "text": [
            "num_leaves, val_score: 0.100578:  75%|#######5  | 15/20 [00:14<00:02,  2.03it/s]\u001b[32m[I 2021-12-12 02:44:45,644]\u001b[0m Trial 21 finished with value: 0.10789413669069797 and parameters: {'num_leaves': 48}. Best is trial 18 with value: 0.10057772456165265.\u001b[0m\n",
            "num_leaves, val_score: 0.100578:  75%|#######5  | 15/20 [00:14<00:02,  2.03it/s]"
          ]
        },
        {
          "output_type": "stream",
          "name": "stdout",
          "text": [
            "Did not meet early stopping. Best iteration is:\n",
            "[100]\tTrain's rmse: 0.129319\tTest's rmse: 0.107894\n",
            "Training until validation scores don't improve for 50 rounds.\n"
          ]
        },
        {
          "output_type": "stream",
          "name": "stderr",
          "text": [
            "num_leaves, val_score: 0.100578:  80%|########  | 16/20 [00:14<00:02,  1.95it/s]\u001b[32m[I 2021-12-12 02:44:46,198]\u001b[0m Trial 22 finished with value: 0.10736038207062858 and parameters: {'num_leaves': 41}. Best is trial 18 with value: 0.10057772456165265.\u001b[0m\n",
            "num_leaves, val_score: 0.100578:  80%|########  | 16/20 [00:14<00:02,  1.95it/s]"
          ]
        },
        {
          "output_type": "stream",
          "name": "stdout",
          "text": [
            "Did not meet early stopping. Best iteration is:\n",
            "[100]\tTrain's rmse: 0.130904\tTest's rmse: 0.10736\n",
            "Training until validation scores don't improve for 50 rounds.\n"
          ]
        },
        {
          "output_type": "stream",
          "name": "stderr",
          "text": [
            "num_leaves, val_score: 0.100578:  85%|########5 | 17/20 [00:15<00:01,  1.66it/s]\u001b[32m[I 2021-12-12 02:44:47,015]\u001b[0m Trial 23 finished with value: 0.11194286340831494 and parameters: {'num_leaves': 78}. Best is trial 18 with value: 0.10057772456165265.\u001b[0m\n",
            "num_leaves, val_score: 0.100578:  85%|########5 | 17/20 [00:15<00:01,  1.66it/s]"
          ]
        },
        {
          "output_type": "stream",
          "name": "stdout",
          "text": [
            "Did not meet early stopping. Best iteration is:\n",
            "[100]\tTrain's rmse: 0.131103\tTest's rmse: 0.111943\n",
            "Training until validation scores don't improve for 50 rounds.\n"
          ]
        },
        {
          "output_type": "stream",
          "name": "stderr",
          "text": [
            "num_leaves, val_score: 0.100578:  90%|######### | 18/20 [00:16<00:01,  1.34it/s]\u001b[32m[I 2021-12-12 02:44:48,094]\u001b[0m Trial 24 finished with value: 0.1126298405180178 and parameters: {'num_leaves': 115}. Best is trial 18 with value: 0.10057772456165265.\u001b[0m\n",
            "num_leaves, val_score: 0.100578:  90%|######### | 18/20 [00:16<00:01,  1.34it/s]"
          ]
        },
        {
          "output_type": "stream",
          "name": "stdout",
          "text": [
            "Did not meet early stopping. Best iteration is:\n",
            "[100]\tTrain's rmse: 0.132426\tTest's rmse: 0.11263\n",
            "Training until validation scores don't improve for 50 rounds.\n"
          ]
        },
        {
          "output_type": "stream",
          "name": "stderr",
          "text": [
            "num_leaves, val_score: 0.100578:  95%|#########5| 19/20 [00:16<00:00,  1.59it/s]\u001b[32m[I 2021-12-12 02:44:48,450]\u001b[0m Trial 25 finished with value: 0.10157218724222121 and parameters: {'num_leaves': 17}. Best is trial 18 with value: 0.10057772456165265.\u001b[0m\n",
            "num_leaves, val_score: 0.100578:  95%|#########5| 19/20 [00:16<00:00,  1.59it/s]"
          ]
        },
        {
          "output_type": "stream",
          "name": "stdout",
          "text": [
            "Did not meet early stopping. Best iteration is:\n",
            "[100]\tTrain's rmse: 0.132442\tTest's rmse: 0.101572\n",
            "Training until validation scores don't improve for 50 rounds.\n"
          ]
        },
        {
          "output_type": "stream",
          "name": "stderr",
          "text": [
            "num_leaves, val_score: 0.100578: 100%|##########| 20/20 [00:17<00:00,  1.56it/s]\u001b[32m[I 2021-12-12 02:44:49,123]\u001b[0m Trial 26 finished with value: 0.1112255188980976 and parameters: {'num_leaves': 60}. Best is trial 18 with value: 0.10057772456165265.\u001b[0m\n",
            "num_leaves, val_score: 0.100578: 100%|##########| 20/20 [00:17<00:00,  1.14it/s]\n"
          ]
        },
        {
          "output_type": "stream",
          "name": "stdout",
          "text": [
            "Did not meet early stopping. Best iteration is:\n",
            "[100]\tTrain's rmse: 0.131141\tTest's rmse: 0.111226\n"
          ]
        },
        {
          "output_type": "stream",
          "name": "stderr",
          "text": [
            "bagging, val_score: 0.100578:   0%|          | 0/10 [00:00<?, ?it/s]"
          ]
        },
        {
          "output_type": "stream",
          "name": "stdout",
          "text": [
            "Training until validation scores don't improve for 50 rounds.\n"
          ]
        },
        {
          "output_type": "stream",
          "name": "stderr",
          "text": [
            "bagging, val_score: 0.100578:  10%|#         | 1/10 [00:00<00:03,  2.53it/s]\u001b[32m[I 2021-12-12 02:44:49,536]\u001b[0m Trial 27 finished with value: 0.11963728304679937 and parameters: {'bagging_fraction': 0.5544986284465498, 'bagging_freq': 7}. Best is trial 27 with value: 0.11963728304679937.\u001b[0m\n",
            "bagging, val_score: 0.100578:  10%|#         | 1/10 [00:00<00:03,  2.53it/s]"
          ]
        },
        {
          "output_type": "stream",
          "name": "stdout",
          "text": [
            "Did not meet early stopping. Best iteration is:\n",
            "[100]\tTrain's rmse: 0.180824\tTest's rmse: 0.119637\n",
            "Training until validation scores don't improve for 50 rounds.\n"
          ]
        },
        {
          "output_type": "stream",
          "name": "stderr",
          "text": [
            "bagging, val_score: 0.100578:  20%|##        | 2/10 [00:00<00:03,  2.64it/s]\u001b[32m[I 2021-12-12 02:44:49,904]\u001b[0m Trial 28 finished with value: 0.11743757563608478 and parameters: {'bagging_fraction': 0.7122705799549917, 'bagging_freq': 1}. Best is trial 28 with value: 0.11743757563608478.\u001b[0m\n",
            "bagging, val_score: 0.100578:  20%|##        | 2/10 [00:00<00:03,  2.64it/s]"
          ]
        },
        {
          "output_type": "stream",
          "name": "stdout",
          "text": [
            "Did not meet early stopping. Best iteration is:\n",
            "[99]\tTrain's rmse: 0.166585\tTest's rmse: 0.117438\n",
            "Training until validation scores don't improve for 50 rounds.\n"
          ]
        },
        {
          "output_type": "stream",
          "name": "stderr",
          "text": [
            "bagging, val_score: 0.100578:  30%|###       | 3/10 [00:01<00:02,  2.54it/s]\u001b[32m[I 2021-12-12 02:44:50,317]\u001b[0m Trial 29 finished with value: 0.11065294087624825 and parameters: {'bagging_fraction': 0.9333040582639237, 'bagging_freq': 2}. Best is trial 29 with value: 0.11065294087624825.\u001b[0m\n",
            "bagging, val_score: 0.100578:  30%|###       | 3/10 [00:01<00:02,  2.54it/s]"
          ]
        },
        {
          "output_type": "stream",
          "name": "stdout",
          "text": [
            "Did not meet early stopping. Best iteration is:\n",
            "[100]\tTrain's rmse: 0.144969\tTest's rmse: 0.110653\n",
            "Training until validation scores don't improve for 50 rounds.\n"
          ]
        },
        {
          "output_type": "stream",
          "name": "stderr",
          "text": [
            "bagging, val_score: 0.100578:  40%|####      | 4/10 [00:01<00:02,  2.52it/s]\u001b[32m[I 2021-12-12 02:44:50,716]\u001b[0m Trial 30 finished with value: 0.11192360104664245 and parameters: {'bagging_fraction': 0.9390029458957859, 'bagging_freq': 6}. Best is trial 29 with value: 0.11065294087624825.\u001b[0m\n",
            "bagging, val_score: 0.100578:  40%|####      | 4/10 [00:01<00:02,  2.52it/s]"
          ]
        },
        {
          "output_type": "stream",
          "name": "stdout",
          "text": [
            "Did not meet early stopping. Best iteration is:\n",
            "[100]\tTrain's rmse: 0.144683\tTest's rmse: 0.111924\n",
            "Training until validation scores don't improve for 50 rounds.\n"
          ]
        },
        {
          "output_type": "stream",
          "name": "stderr",
          "text": [
            "bagging, val_score: 0.100578:  50%|#####     | 5/10 [00:01<00:01,  2.50it/s]\u001b[32m[I 2021-12-12 02:44:51,121]\u001b[0m Trial 31 finished with value: 0.10115306754677317 and parameters: {'bagging_fraction': 0.99378964446151, 'bagging_freq': 4}. Best is trial 31 with value: 0.10115306754677317.\u001b[0m\n",
            "bagging, val_score: 0.100578:  50%|#####     | 5/10 [00:01<00:01,  2.50it/s]"
          ]
        },
        {
          "output_type": "stream",
          "name": "stdout",
          "text": [
            "Did not meet early stopping. Best iteration is:\n",
            "[100]\tTrain's rmse: 0.130993\tTest's rmse: 0.101153\n",
            "Training until validation scores don't improve for 50 rounds.\n"
          ]
        },
        {
          "output_type": "stream",
          "name": "stderr",
          "text": [
            "bagging, val_score: 0.100578:  60%|######    | 6/10 [00:02<00:01,  2.56it/s]\u001b[32m[I 2021-12-12 02:44:51,496]\u001b[0m Trial 32 finished with value: 0.1111705970899394 and parameters: {'bagging_fraction': 0.6695972681310389, 'bagging_freq': 1}. Best is trial 31 with value: 0.10115306754677317.\u001b[0m\n",
            "bagging, val_score: 0.100578:  60%|######    | 6/10 [00:02<00:01,  2.56it/s]"
          ]
        },
        {
          "output_type": "stream",
          "name": "stdout",
          "text": [
            "Did not meet early stopping. Best iteration is:\n",
            "[100]\tTrain's rmse: 0.164271\tTest's rmse: 0.111171\n",
            "Training until validation scores don't improve for 50 rounds.\n"
          ]
        },
        {
          "output_type": "stream",
          "name": "stderr",
          "text": [
            "bagging, val_score: 0.100578:  70%|#######   | 7/10 [00:02<00:01,  2.61it/s]\u001b[32m[I 2021-12-12 02:44:51,862]\u001b[0m Trial 33 finished with value: 0.11706239570732585 and parameters: {'bagging_fraction': 0.5397933348789324, 'bagging_freq': 4}. Best is trial 31 with value: 0.10115306754677317.\u001b[0m\n",
            "bagging, val_score: 0.100578:  70%|#######   | 7/10 [00:02<00:01,  2.61it/s]"
          ]
        },
        {
          "output_type": "stream",
          "name": "stdout",
          "text": [
            "Did not meet early stopping. Best iteration is:\n",
            "[100]\tTrain's rmse: 0.179325\tTest's rmse: 0.117062\n",
            "Training until validation scores don't improve for 50 rounds.\n"
          ]
        },
        {
          "output_type": "stream",
          "name": "stderr",
          "text": [
            "bagging, val_score: 0.100578:  80%|########  | 8/10 [00:03<00:00,  2.61it/s]\u001b[32m[I 2021-12-12 02:44:52,249]\u001b[0m Trial 34 finished with value: 0.11862343855220624 and parameters: {'bagging_fraction': 0.5275958820531306, 'bagging_freq': 7}. Best is trial 31 with value: 0.10115306754677317.\u001b[0m\n",
            "bagging, val_score: 0.100578:  80%|########  | 8/10 [00:03<00:00,  2.61it/s]"
          ]
        },
        {
          "output_type": "stream",
          "name": "stdout",
          "text": [
            "Did not meet early stopping. Best iteration is:\n",
            "[100]\tTrain's rmse: 0.181077\tTest's rmse: 0.118623\n",
            "Training until validation scores don't improve for 50 rounds.\n"
          ]
        },
        {
          "output_type": "stream",
          "name": "stderr",
          "text": [
            "bagging, val_score: 0.100578:  90%|######### | 9/10 [00:03<00:00,  2.57it/s]\u001b[32m[I 2021-12-12 02:44:52,650]\u001b[0m Trial 35 finished with value: 0.1262001021905039 and parameters: {'bagging_fraction': 0.7108671116786334, 'bagging_freq': 7}. Best is trial 31 with value: 0.10115306754677317.\u001b[0m\n",
            "bagging, val_score: 0.100578:  90%|######### | 9/10 [00:03<00:00,  2.57it/s]"
          ]
        },
        {
          "output_type": "stream",
          "name": "stdout",
          "text": [
            "Did not meet early stopping. Best iteration is:\n",
            "[100]\tTrain's rmse: 0.170054\tTest's rmse: 0.1262\n",
            "Training until validation scores don't improve for 50 rounds.\n"
          ]
        },
        {
          "output_type": "stream",
          "name": "stderr",
          "text": [
            "bagging, val_score: 0.100578: 100%|##########| 10/10 [00:03<00:00,  2.52it/s]\u001b[32m[I 2021-12-12 02:44:53,062]\u001b[0m Trial 36 finished with value: 0.10434754022872324 and parameters: {'bagging_fraction': 0.9701757087957151, 'bagging_freq': 6}. Best is trial 31 with value: 0.10115306754677317.\u001b[0m\n",
            "bagging, val_score: 0.100578: 100%|##########| 10/10 [00:03<00:00,  2.54it/s]\n"
          ]
        },
        {
          "output_type": "stream",
          "name": "stdout",
          "text": [
            "Did not meet early stopping. Best iteration is:\n",
            "[100]\tTrain's rmse: 0.133063\tTest's rmse: 0.104348\n"
          ]
        },
        {
          "output_type": "stream",
          "name": "stderr",
          "text": [
            "feature_fraction_stage2, val_score: 0.100578:   0%|          | 0/6 [00:00<?, ?it/s]"
          ]
        },
        {
          "output_type": "stream",
          "name": "stdout",
          "text": [
            "Training until validation scores don't improve for 50 rounds.\n"
          ]
        },
        {
          "output_type": "stream",
          "name": "stderr",
          "text": [
            "feature_fraction_stage2, val_score: 0.100578:  17%|#6        | 1/6 [00:00<00:01,  2.90it/s]\u001b[32m[I 2021-12-12 02:44:53,438]\u001b[0m Trial 37 finished with value: 0.10702171149994354 and parameters: {'feature_fraction': 0.7200000000000001}. Best is trial 37 with value: 0.10702171149994354.\u001b[0m\n",
            "feature_fraction_stage2, val_score: 0.100578:  17%|#6        | 1/6 [00:00<00:01,  2.90it/s]"
          ]
        },
        {
          "output_type": "stream",
          "name": "stdout",
          "text": [
            "Did not meet early stopping. Best iteration is:\n",
            "[100]\tTrain's rmse: 0.129347\tTest's rmse: 0.107022\n",
            "Training until validation scores don't improve for 50 rounds.\n"
          ]
        },
        {
          "output_type": "stream",
          "name": "stderr",
          "text": [
            "feature_fraction_stage2, val_score: 0.100578:  33%|###3      | 2/6 [00:00<00:01,  2.90it/s]\u001b[32m[I 2021-12-12 02:44:53,782]\u001b[0m Trial 38 finished with value: 0.10801977485361107 and parameters: {'feature_fraction': 0.784}. Best is trial 37 with value: 0.10702171149994354.\u001b[0m\n",
            "feature_fraction_stage2, val_score: 0.100578:  33%|###3      | 2/6 [00:00<00:01,  2.90it/s]"
          ]
        },
        {
          "output_type": "stream",
          "name": "stdout",
          "text": [
            "Did not meet early stopping. Best iteration is:\n",
            "[100]\tTrain's rmse: 0.127834\tTest's rmse: 0.10802\n",
            "Training until validation scores don't improve for 50 rounds.\n"
          ]
        },
        {
          "output_type": "stream",
          "name": "stderr",
          "text": [
            "feature_fraction_stage2, val_score: 0.100578:  50%|#####     | 3/6 [00:01<00:01,  2.85it/s]\u001b[32m[I 2021-12-12 02:44:54,145]\u001b[0m Trial 39 finished with value: 0.10237354015878272 and parameters: {'feature_fraction': 0.88}. Best is trial 39 with value: 0.10237354015878272.\u001b[0m\n",
            "feature_fraction_stage2, val_score: 0.100578:  50%|#####     | 3/6 [00:01<00:01,  2.85it/s]"
          ]
        },
        {
          "output_type": "stream",
          "name": "stdout",
          "text": [
            "Did not meet early stopping. Best iteration is:\n",
            "[100]\tTrain's rmse: 0.130775\tTest's rmse: 0.102374\n",
            "Training until validation scores don't improve for 50 rounds.\n"
          ]
        },
        {
          "output_type": "stream",
          "name": "stderr",
          "text": [
            "feature_fraction_stage2, val_score: 0.100578:  67%|######6   | 4/6 [00:01<00:00,  2.83it/s]\u001b[32m[I 2021-12-12 02:44:54,496]\u001b[0m Trial 40 finished with value: 0.10057772456165265 and parameters: {'feature_fraction': 0.8160000000000001}. Best is trial 40 with value: 0.10057772456165265.\u001b[0m\n",
            "feature_fraction_stage2, val_score: 0.100578:  67%|######6   | 4/6 [00:01<00:00,  2.83it/s]"
          ]
        },
        {
          "output_type": "stream",
          "name": "stdout",
          "text": [
            "Did not meet early stopping. Best iteration is:\n",
            "[100]\tTrain's rmse: 0.134322\tTest's rmse: 0.100578\n",
            "Training until validation scores don't improve for 50 rounds.\n"
          ]
        },
        {
          "output_type": "stream",
          "name": "stderr",
          "text": [
            "feature_fraction_stage2, val_score: 0.100578:  83%|########3 | 5/6 [00:01<00:00,  2.78it/s]\u001b[32m[I 2021-12-12 02:44:54,867]\u001b[0m Trial 41 finished with value: 0.10057772456165265 and parameters: {'feature_fraction': 0.8480000000000001}. Best is trial 40 with value: 0.10057772456165265.\u001b[0m\n",
            "feature_fraction_stage2, val_score: 0.100578:  83%|########3 | 5/6 [00:01<00:00,  2.78it/s]"
          ]
        },
        {
          "output_type": "stream",
          "name": "stdout",
          "text": [
            "Did not meet early stopping. Best iteration is:\n",
            "[100]\tTrain's rmse: 0.134322\tTest's rmse: 0.100578\n",
            "Training until validation scores don't improve for 50 rounds.\n"
          ]
        },
        {
          "output_type": "stream",
          "name": "stderr",
          "text": [
            "feature_fraction_stage2, val_score: 0.100578: 100%|##########| 6/6 [00:02<00:00,  2.80it/s]\u001b[32m[I 2021-12-12 02:44:55,218]\u001b[0m Trial 42 finished with value: 0.10801977485361107 and parameters: {'feature_fraction': 0.7520000000000001}. Best is trial 40 with value: 0.10057772456165265.\u001b[0m\n",
            "feature_fraction_stage2, val_score: 0.100578: 100%|##########| 6/6 [00:02<00:00,  2.81it/s]\n"
          ]
        },
        {
          "output_type": "stream",
          "name": "stdout",
          "text": [
            "Did not meet early stopping. Best iteration is:\n",
            "[100]\tTrain's rmse: 0.127834\tTest's rmse: 0.10802\n"
          ]
        },
        {
          "output_type": "stream",
          "name": "stderr",
          "text": [
            "regularization_factors, val_score: 0.100578:   0%|          | 0/20 [00:00<?, ?it/s]"
          ]
        },
        {
          "output_type": "stream",
          "name": "stdout",
          "text": [
            "Training until validation scores don't improve for 50 rounds.\n"
          ]
        },
        {
          "output_type": "stream",
          "name": "stderr",
          "text": [
            "regularization_factors, val_score: 0.100578:   5%|5         | 1/20 [00:00<00:06,  2.74it/s]\u001b[32m[I 2021-12-12 02:44:55,601]\u001b[0m Trial 43 finished with value: 0.10372724317891474 and parameters: {'lambda_l1': 1.786930725817779e-08, 'lambda_l2': 0.05965511776160628}. Best is trial 43 with value: 0.10372724317891474.\u001b[0m\n",
            "regularization_factors, val_score: 0.100578:   5%|5         | 1/20 [00:00<00:06,  2.74it/s]"
          ]
        },
        {
          "output_type": "stream",
          "name": "stdout",
          "text": [
            "Did not meet early stopping. Best iteration is:\n",
            "[100]\tTrain's rmse: 0.131551\tTest's rmse: 0.103727\n",
            "Training until validation scores don't improve for 50 rounds.\n"
          ]
        },
        {
          "output_type": "stream",
          "name": "stderr",
          "text": [
            "regularization_factors, val_score: 0.100578:  10%|#         | 2/20 [00:00<00:06,  2.84it/s]\u001b[32m[I 2021-12-12 02:44:55,945]\u001b[0m Trial 44 finished with value: 0.1063008468304819 and parameters: {'lambda_l1': 1.567629665559739e-07, 'lambda_l2': 2.496480721027592}. Best is trial 43 with value: 0.10372724317891474.\u001b[0m\n",
            "regularization_factors, val_score: 0.100578:  10%|#         | 2/20 [00:00<00:06,  2.84it/s]"
          ]
        },
        {
          "output_type": "stream",
          "name": "stdout",
          "text": [
            "Did not meet early stopping. Best iteration is:\n",
            "[100]\tTrain's rmse: 0.135842\tTest's rmse: 0.106301\n",
            "Training until validation scores don't improve for 50 rounds.\n"
          ]
        },
        {
          "output_type": "stream",
          "name": "stderr",
          "text": [
            "regularization_factors, val_score: 0.100578:  15%|#5        | 3/20 [00:01<00:05,  2.92it/s]\u001b[32m[I 2021-12-12 02:44:56,278]\u001b[0m Trial 45 finished with value: 0.11224439760244767 and parameters: {'lambda_l1': 4.883792665846067, 'lambda_l2': 0.0007837080385593669}. Best is trial 43 with value: 0.10372724317891474.\u001b[0m\n",
            "regularization_factors, val_score: 0.100578:  15%|#5        | 3/20 [00:01<00:05,  2.92it/s]"
          ]
        },
        {
          "output_type": "stream",
          "name": "stdout",
          "text": [
            "Did not meet early stopping. Best iteration is:\n",
            "[100]\tTrain's rmse: 0.142564\tTest's rmse: 0.112244\n",
            "Training until validation scores don't improve for 50 rounds.\n"
          ]
        },
        {
          "output_type": "stream",
          "name": "stderr",
          "text": [
            "regularization_factors, val_score: 0.100578:  20%|##        | 4/20 [00:01<00:05,  2.85it/s]\u001b[32m[I 2021-12-12 02:44:56,643]\u001b[0m Trial 46 finished with value: 0.10572205258252347 and parameters: {'lambda_l1': 0.09481838885320185, 'lambda_l2': 0.0003593580129912063}. Best is trial 43 with value: 0.10372724317891474.\u001b[0m\n",
            "regularization_factors, val_score: 0.100578:  20%|##        | 4/20 [00:01<00:05,  2.85it/s]"
          ]
        },
        {
          "output_type": "stream",
          "name": "stdout",
          "text": [
            "Did not meet early stopping. Best iteration is:\n",
            "[100]\tTrain's rmse: 0.136035\tTest's rmse: 0.105722\n",
            "Training until validation scores don't improve for 50 rounds.\n"
          ]
        },
        {
          "output_type": "stream",
          "name": "stderr",
          "text": [
            "regularization_factors, val_score: 0.100578:  25%|##5       | 5/20 [00:01<00:05,  2.87it/s]\u001b[32m[I 2021-12-12 02:44:56,986]\u001b[0m Trial 47 finished with value: 0.10057782795663012 and parameters: {'lambda_l1': 1.5597208837060667e-06, 'lambda_l2': 0.0013204655847043447}. Best is trial 47 with value: 0.10057782795663012.\u001b[0m\n",
            "regularization_factors, val_score: 0.100578:  25%|##5       | 5/20 [00:01<00:05,  2.87it/s]"
          ]
        },
        {
          "output_type": "stream",
          "name": "stdout",
          "text": [
            "Did not meet early stopping. Best iteration is:\n",
            "[100]\tTrain's rmse: 0.134324\tTest's rmse: 0.100578\n",
            "Training until validation scores don't improve for 50 rounds.\n"
          ]
        },
        {
          "output_type": "stream",
          "name": "stderr",
          "text": [
            "regularization_factors, val_score: 0.100578:  30%|###       | 6/20 [00:02<00:04,  2.88it/s]\u001b[32m[I 2021-12-12 02:44:57,335]\u001b[0m Trial 48 finished with value: 0.11047210121766399 and parameters: {'lambda_l1': 1.2313648198888045e-08, 'lambda_l2': 1.5961508998672462}. Best is trial 47 with value: 0.10057782795663012.\u001b[0m\n",
            "regularization_factors, val_score: 0.100578:  30%|###       | 6/20 [00:02<00:04,  2.88it/s]"
          ]
        },
        {
          "output_type": "stream",
          "name": "stdout",
          "text": [
            "Did not meet early stopping. Best iteration is:\n",
            "[100]\tTrain's rmse: 0.134503\tTest's rmse: 0.110472\n",
            "Training until validation scores don't improve for 50 rounds.\n"
          ]
        },
        {
          "output_type": "stream",
          "name": "stderr",
          "text": [
            "regularization_factors, val_score: 0.100578:  35%|###5      | 7/20 [00:02<00:04,  2.83it/s]\u001b[32m[I 2021-12-12 02:44:57,696]\u001b[0m Trial 49 finished with value: 0.10057778903938401 and parameters: {'lambda_l1': 7.196885053118364e-06, 'lambda_l2': 0.000776765847380184}. Best is trial 49 with value: 0.10057778903938401.\u001b[0m\n",
            "regularization_factors, val_score: 0.100578:  35%|###5      | 7/20 [00:02<00:04,  2.83it/s]"
          ]
        },
        {
          "output_type": "stream",
          "name": "stdout",
          "text": [
            "Did not meet early stopping. Best iteration is:\n",
            "[100]\tTrain's rmse: 0.134323\tTest's rmse: 0.100578\n",
            "Training until validation scores don't improve for 50 rounds.\n"
          ]
        },
        {
          "output_type": "stream",
          "name": "stderr",
          "text": [
            "regularization_factors, val_score: 0.100578:  40%|####      | 8/20 [00:02<00:04,  2.83it/s]\u001b[32m[I 2021-12-12 02:44:58,051]\u001b[0m Trial 50 finished with value: 0.100577731782947 and parameters: {'lambda_l1': 1.1828108220882184e-05, 'lambda_l2': 4.2341169038405555e-06}. Best is trial 50 with value: 0.100577731782947.\u001b[0m\n",
            "regularization_factors, val_score: 0.100578:  40%|####      | 8/20 [00:02<00:04,  2.83it/s]"
          ]
        },
        {
          "output_type": "stream",
          "name": "stdout",
          "text": [
            "Did not meet early stopping. Best iteration is:\n",
            "[100]\tTrain's rmse: 0.134322\tTest's rmse: 0.100578\n",
            "Training until validation scores don't improve for 50 rounds.\n"
          ]
        },
        {
          "output_type": "stream",
          "name": "stderr",
          "text": [
            "regularization_factors, val_score: 0.100578:  45%|####5     | 9/20 [00:03<00:03,  2.86it/s]\u001b[32m[I 2021-12-12 02:44:58,389]\u001b[0m Trial 51 finished with value: 0.10057791457620154 and parameters: {'lambda_l1': 1.2918597867867586e-08, 'lambda_l2': 0.0024517201379376696}. Best is trial 50 with value: 0.100577731782947.\u001b[0m\n",
            "regularization_factors, val_score: 0.100578:  45%|####5     | 9/20 [00:03<00:03,  2.86it/s]"
          ]
        },
        {
          "output_type": "stream",
          "name": "stdout",
          "text": [
            "Did not meet early stopping. Best iteration is:\n",
            "[100]\tTrain's rmse: 0.134325\tTest's rmse: 0.100578\n",
            "Training until validation scores don't improve for 50 rounds.\n"
          ]
        },
        {
          "output_type": "stream",
          "name": "stderr",
          "text": [
            "regularization_factors, val_score: 0.100578:  50%|#####     | 10/20 [00:03<00:03,  2.89it/s]\u001b[32m[I 2021-12-12 02:44:58,732]\u001b[0m Trial 52 finished with value: 0.10146765454616984 and parameters: {'lambda_l1': 0.20590175900748484, 'lambda_l2': 0.00011017225183580098}. Best is trial 50 with value: 0.100577731782947.\u001b[0m\n",
            "regularization_factors, val_score: 0.100578:  50%|#####     | 10/20 [00:03<00:03,  2.89it/s]"
          ]
        },
        {
          "output_type": "stream",
          "name": "stdout",
          "text": [
            "Did not meet early stopping. Best iteration is:\n",
            "[100]\tTrain's rmse: 0.134947\tTest's rmse: 0.101468\n",
            "Training until validation scores don't improve for 50 rounds.\n"
          ]
        },
        {
          "output_type": "stream",
          "name": "stderr",
          "text": [
            "regularization_factors, val_score: 0.100578:  55%|#####5    | 11/20 [00:03<00:03,  2.87it/s]\u001b[32m[I 2021-12-12 02:44:59,087]\u001b[0m Trial 53 finished with value: 0.10057789056731575 and parameters: {'lambda_l1': 0.00028841944835837716, 'lambda_l2': 9.843730219756307e-08}. Best is trial 50 with value: 0.100577731782947.\u001b[0m\n",
            "regularization_factors, val_score: 0.100578:  55%|#####5    | 11/20 [00:03<00:03,  2.87it/s]"
          ]
        },
        {
          "output_type": "stream",
          "name": "stdout",
          "text": [
            "Did not meet early stopping. Best iteration is:\n",
            "[100]\tTrain's rmse: 0.134323\tTest's rmse: 0.100578\n",
            "Training until validation scores don't improve for 50 rounds.\n"
          ]
        },
        {
          "output_type": "stream",
          "name": "stderr",
          "text": [
            "regularization_factors, val_score: 0.100578:  60%|######    | 12/20 [00:04<00:02,  2.87it/s]\u001b[32m[I 2021-12-12 02:44:59,437]\u001b[0m Trial 54 finished with value: 0.10057774063124787 and parameters: {'lambda_l1': 2.7073860648339505e-05, 'lambda_l2': 1.3490562839926888e-06}. Best is trial 50 with value: 0.100577731782947.\u001b[0m\n",
            "regularization_factors, val_score: 0.100578:  60%|######    | 12/20 [00:04<00:02,  2.87it/s]"
          ]
        },
        {
          "output_type": "stream",
          "name": "stdout",
          "text": [
            "Did not meet early stopping. Best iteration is:\n",
            "[100]\tTrain's rmse: 0.134322\tTest's rmse: 0.100578\n",
            "Training until validation scores don't improve for 50 rounds.\n"
          ]
        },
        {
          "output_type": "stream",
          "name": "stderr",
          "text": [
            "regularization_factors, val_score: 0.100578:  65%|######5   | 13/20 [00:04<00:02,  2.82it/s]\u001b[32m[I 2021-12-12 02:44:59,797]\u001b[0m Trial 55 finished with value: 0.10057779061971651 and parameters: {'lambda_l1': 0.00011483291857371061, 'lambda_l2': 3.1433400313283785e-07}. Best is trial 50 with value: 0.100577731782947.\u001b[0m\n",
            "regularization_factors, val_score: 0.100578:  65%|######5   | 13/20 [00:04<00:02,  2.82it/s]"
          ]
        },
        {
          "output_type": "stream",
          "name": "stdout",
          "text": [
            "Did not meet early stopping. Best iteration is:\n",
            "[100]\tTrain's rmse: 0.134322\tTest's rmse: 0.100578\n",
            "Training until validation scores don't improve for 50 rounds.\n"
          ]
        },
        {
          "output_type": "stream",
          "name": "stderr",
          "text": [
            "regularization_factors, val_score: 0.100578:  70%|#######   | 14/20 [00:04<00:02,  2.82it/s]\u001b[32m[I 2021-12-12 02:45:00,154]\u001b[0m Trial 56 finished with value: 0.10225276831273784 and parameters: {'lambda_l1': 0.005146098068421584, 'lambda_l2': 2.1345449517857465e-06}. Best is trial 50 with value: 0.100577731782947.\u001b[0m\n",
            "regularization_factors, val_score: 0.100578:  70%|#######   | 14/20 [00:04<00:02,  2.82it/s]"
          ]
        },
        {
          "output_type": "stream",
          "name": "stdout",
          "text": [
            "Did not meet early stopping. Best iteration is:\n",
            "[100]\tTrain's rmse: 0.136016\tTest's rmse: 0.102253\n",
            "Training until validation scores don't improve for 50 rounds.\n"
          ]
        },
        {
          "output_type": "stream",
          "name": "stderr",
          "text": [
            "regularization_factors, val_score: 0.100578:  75%|#######5  | 15/20 [00:05<00:01,  2.84it/s]\u001b[32m[I 2021-12-12 02:45:00,501]\u001b[0m Trial 57 finished with value: 0.10057772996604063 and parameters: {'lambda_l1': 7.591533020799168e-06, 'lambda_l2': 6.909894651449645e-06}. Best is trial 57 with value: 0.10057772996604063.\u001b[0m\n",
            "regularization_factors, val_score: 0.100578:  75%|#######5  | 15/20 [00:05<00:01,  2.84it/s]"
          ]
        },
        {
          "output_type": "stream",
          "name": "stdout",
          "text": [
            "Did not meet early stopping. Best iteration is:\n",
            "[100]\tTrain's rmse: 0.134322\tTest's rmse: 0.100578\n",
            "Training until validation scores don't improve for 50 rounds.\n"
          ]
        },
        {
          "output_type": "stream",
          "name": "stderr",
          "text": [
            "regularization_factors, val_score: 0.100578:  80%|########  | 16/20 [00:05<00:01,  2.81it/s]\u001b[32m[I 2021-12-12 02:45:00,868]\u001b[0m Trial 58 finished with value: 0.10057772539979408 and parameters: {'lambda_l1': 9.216034410077339e-07, 'lambda_l2': 1.2344076882026617e-08}. Best is trial 58 with value: 0.10057772539979408.\u001b[0m\n",
            "regularization_factors, val_score: 0.100578:  80%|########  | 16/20 [00:05<00:01,  2.81it/s]"
          ]
        },
        {
          "output_type": "stream",
          "name": "stdout",
          "text": [
            "Did not meet early stopping. Best iteration is:\n",
            "[100]\tTrain's rmse: 0.134322\tTest's rmse: 0.100578\n",
            "Training until validation scores don't improve for 50 rounds.\n"
          ]
        },
        {
          "output_type": "stream",
          "name": "stderr",
          "text": [
            "regularization_factors, val_score: 0.100578:  85%|########5 | 17/20 [00:05<00:01,  2.81it/s]\u001b[32m[I 2021-12-12 02:45:01,222]\u001b[0m Trial 59 finished with value: 0.10057772522061119 and parameters: {'lambda_l1': 5.973570824094077e-07, 'lambda_l2': 1.505830234984227e-08}. Best is trial 59 with value: 0.10057772522061119.\u001b[0m\n",
            "regularization_factors, val_score: 0.100578:  85%|########5 | 17/20 [00:05<00:01,  2.81it/s]"
          ]
        },
        {
          "output_type": "stream",
          "name": "stdout",
          "text": [
            "Did not meet early stopping. Best iteration is:\n",
            "[100]\tTrain's rmse: 0.134322\tTest's rmse: 0.100578\n",
            "Training until validation scores don't improve for 50 rounds.\n"
          ]
        },
        {
          "output_type": "stream",
          "name": "stderr",
          "text": [
            "regularization_factors, val_score: 0.100578:  90%|######### | 18/20 [00:06<00:00,  2.82it/s]\u001b[32m[I 2021-12-12 02:45:01,573]\u001b[0m Trial 60 finished with value: 0.10057772488338874 and parameters: {'lambda_l1': 4.0554784363432173e-07, 'lambda_l2': 1.8535159169152564e-08}. Best is trial 60 with value: 0.10057772488338874.\u001b[0m\n",
            "regularization_factors, val_score: 0.100578:  90%|######### | 18/20 [00:06<00:00,  2.82it/s]"
          ]
        },
        {
          "output_type": "stream",
          "name": "stdout",
          "text": [
            "Did not meet early stopping. Best iteration is:\n",
            "[100]\tTrain's rmse: 0.134322\tTest's rmse: 0.100578\n",
            "Training until validation scores don't improve for 50 rounds.\n"
          ]
        },
        {
          "output_type": "stream",
          "name": "stderr",
          "text": [
            "regularization_factors, val_score: 0.100578:  95%|#########5| 19/20 [00:06<00:00,  2.71it/s]\u001b[32m[I 2021-12-12 02:45:01,974]\u001b[0m Trial 61 finished with value: 0.10057772463290092 and parameters: {'lambda_l1': 1.4560904878591786e-07, 'lambda_l2': 2.0354188209467544e-08}. Best is trial 61 with value: 0.10057772463290092.\u001b[0m\n",
            "regularization_factors, val_score: 0.100578:  95%|#########5| 19/20 [00:06<00:00,  2.71it/s]"
          ]
        },
        {
          "output_type": "stream",
          "name": "stdout",
          "text": [
            "Did not meet early stopping. Best iteration is:\n",
            "[100]\tTrain's rmse: 0.134322\tTest's rmse: 0.100578\n",
            "Training until validation scores don't improve for 50 rounds.\n"
          ]
        },
        {
          "output_type": "stream",
          "name": "stderr",
          "text": [
            "regularization_factors, val_score: 0.100578: 100%|##########| 20/20 [00:07<00:00,  2.74it/s]\u001b[32m[I 2021-12-12 02:45:02,338]\u001b[0m Trial 62 finished with value: 0.10057772713341004 and parameters: {'lambda_l1': 1.713324196581683e-07, 'lambda_l2': 3.214190880836108e-05}. Best is trial 61 with value: 0.10057772463290092.\u001b[0m\n",
            "regularization_factors, val_score: 0.100578: 100%|##########| 20/20 [00:07<00:00,  2.81it/s]\n"
          ]
        },
        {
          "output_type": "stream",
          "name": "stdout",
          "text": [
            "Did not meet early stopping. Best iteration is:\n",
            "[100]\tTrain's rmse: 0.134322\tTest's rmse: 0.100578\n"
          ]
        },
        {
          "output_type": "stream",
          "name": "stderr",
          "text": [
            "min_data_in_leaf, val_score: 0.100578:   0%|          | 0/5 [00:00<?, ?it/s]"
          ]
        },
        {
          "output_type": "stream",
          "name": "stdout",
          "text": [
            "Training until validation scores don't improve for 50 rounds.\n"
          ]
        },
        {
          "output_type": "stream",
          "name": "stderr",
          "text": [
            "min_data_in_leaf, val_score: 0.092042:  20%|##        | 1/5 [00:00<00:01,  3.06it/s]\u001b[32m[I 2021-12-12 02:45:02,689]\u001b[0m Trial 63 finished with value: 0.09204166253687741 and parameters: {'min_child_samples': 10}. Best is trial 63 with value: 0.09204166253687741.\u001b[0m\n",
            "min_data_in_leaf, val_score: 0.092042:  20%|##        | 1/5 [00:00<00:01,  3.06it/s]"
          ]
        },
        {
          "output_type": "stream",
          "name": "stdout",
          "text": [
            "Early stopping, best iteration is:\n",
            "[43]\tTrain's rmse: 0.126122\tTest's rmse: 0.0920417\n",
            "Training until validation scores don't improve for 50 rounds.\n"
          ]
        },
        {
          "output_type": "stream",
          "name": "stderr",
          "text": [
            "min_data_in_leaf, val_score: 0.092042:  40%|####      | 2/5 [00:00<00:01,  2.74it/s]\u001b[32m[I 2021-12-12 02:45:03,089]\u001b[0m Trial 64 finished with value: 0.1867453816433405 and parameters: {'min_child_samples': 50}. Best is trial 63 with value: 0.09204166253687741.\u001b[0m\n",
            "min_data_in_leaf, val_score: 0.092042:  40%|####      | 2/5 [00:00<00:01,  2.74it/s]"
          ]
        },
        {
          "output_type": "stream",
          "name": "stdout",
          "text": [
            "Did not meet early stopping. Best iteration is:\n",
            "[100]\tTrain's rmse: 0.240819\tTest's rmse: 0.186745\n",
            "Training until validation scores don't improve for 50 rounds.\n"
          ]
        },
        {
          "output_type": "stream",
          "name": "stderr",
          "text": [
            "min_data_in_leaf, val_score: 0.092042:  60%|######    | 3/5 [00:01<00:00,  2.88it/s]\u001b[32m[I 2021-12-12 02:45:03,406]\u001b[0m Trial 65 finished with value: 0.13102886349489407 and parameters: {'min_child_samples': 5}. Best is trial 63 with value: 0.09204166253687741.\u001b[0m\n",
            "min_data_in_leaf, val_score: 0.092042:  60%|######    | 3/5 [00:01<00:00,  2.88it/s]"
          ]
        },
        {
          "output_type": "stream",
          "name": "stdout",
          "text": [
            "Early stopping, best iteration is:\n",
            "[43]\tTrain's rmse: 0.071446\tTest's rmse: 0.131029\n",
            "Training until validation scores don't improve for 50 rounds.\n"
          ]
        },
        {
          "output_type": "stream",
          "name": "stderr",
          "text": [
            "min_data_in_leaf, val_score: 0.092042:  80%|########  | 4/5 [00:01<00:00,  2.81it/s]\u001b[32m[I 2021-12-12 02:45:03,782]\u001b[0m Trial 66 finished with value: 0.11350399389294055 and parameters: {'min_child_samples': 25}. Best is trial 63 with value: 0.09204166253687741.\u001b[0m\n",
            "min_data_in_leaf, val_score: 0.092042:  80%|########  | 4/5 [00:01<00:00,  2.81it/s]"
          ]
        },
        {
          "output_type": "stream",
          "name": "stdout",
          "text": [
            "Did not meet early stopping. Best iteration is:\n",
            "[100]\tTrain's rmse: 0.154752\tTest's rmse: 0.113504\n",
            "Training until validation scores don't improve for 50 rounds.\n"
          ]
        },
        {
          "output_type": "stream",
          "name": "stderr",
          "text": [
            "min_data_in_leaf, val_score: 0.092042: 100%|##########| 5/5 [00:01<00:00,  2.99it/s]\u001b[32m[I 2021-12-12 02:45:04,079]\u001b[0m Trial 67 finished with value: 0.2285874685047996 and parameters: {'min_child_samples': 100}. Best is trial 63 with value: 0.09204166253687741.\u001b[0m\n",
            "min_data_in_leaf, val_score: 0.092042: 100%|##########| 5/5 [00:01<00:00,  2.89it/s]"
          ]
        },
        {
          "output_type": "stream",
          "name": "stdout",
          "text": [
            "Early stopping, best iteration is:\n",
            "[24]\tTrain's rmse: 0.337578\tTest's rmse: 0.228587\n"
          ]
        },
        {
          "output_type": "stream",
          "name": "stderr",
          "text": [
            "\n"
          ]
        },
        {
          "output_type": "display_data",
          "data": {
            "image/png": "[encoded data removed]",
            "text/plain": [
              "<Figure size 432x288 with 1 Axes>"
            ]
          },
          "metadata": {
            "needs_background": "light"
          }
        },
        {
          "output_type": "stream",
          "name": "stderr",
          "text": [
            "\u001b[32m[I 2021-12-12 02:45:04,300]\u001b[0m A new study created in memory with name: no-name-a4cad350-69bc-469f-95ae-198f8c810b71\u001b[0m\n",
            "feature_fraction, val_score: inf:   0%|          | 0/7 [00:00<?, ?it/s]"
          ]
        },
        {
          "output_type": "stream",
          "name": "stdout",
          "text": [
            "Training until validation scores don't improve for 50 rounds.\n"
          ]
        },
        {
          "output_type": "stream",
          "name": "stderr",
          "text": [
            "feature_fraction, val_score: 0.174646:  14%|#4        | 1/7 [00:00<00:02,  2.95it/s]\u001b[32m[I 2021-12-12 02:45:04,649]\u001b[0m Trial 0 finished with value: 0.17464593003271933 and parameters: {'feature_fraction': 0.4}. Best is trial 0 with value: 0.17464593003271933.\u001b[0m\n",
            "feature_fraction, val_score: 0.174646:  14%|#4        | 1/7 [00:00<00:02,  2.95it/s]"
          ]
        },
        {
          "output_type": "stream",
          "name": "stdout",
          "text": [
            "Did not meet early stopping. Best iteration is:\n",
            "[100]\tTrain's rmse: 0.140306\tTest's rmse: 0.174646\n",
            "Training until validation scores don't improve for 50 rounds.\n"
          ]
        },
        {
          "output_type": "stream",
          "name": "stderr",
          "text": [
            "feature_fraction, val_score: 0.142317:  29%|##8       | 2/7 [00:00<00:02,  2.44it/s]\u001b[32m[I 2021-12-12 02:45:05,114]\u001b[0m Trial 1 finished with value: 0.14231731003631473 and parameters: {'feature_fraction': 0.7}. Best is trial 1 with value: 0.14231731003631473.\u001b[0m\n",
            "feature_fraction, val_score: 0.142317:  29%|##8       | 2/7 [00:00<00:02,  2.44it/s]"
          ]
        },
        {
          "output_type": "stream",
          "name": "stdout",
          "text": [
            "Did not meet early stopping. Best iteration is:\n",
            "[100]\tTrain's rmse: 0.124599\tTest's rmse: 0.142317\n",
            "Training until validation scores don't improve for 50 rounds.\n"
          ]
        },
        {
          "output_type": "stream",
          "name": "stderr",
          "text": [
            "feature_fraction, val_score: 0.139256:  43%|####2     | 3/7 [00:01<00:01,  2.30it/s]\u001b[32m[I 2021-12-12 02:45:05,577]\u001b[0m Trial 2 finished with value: 0.13925631595127572 and parameters: {'feature_fraction': 0.8}. Best is trial 2 with value: 0.13925631595127572.\u001b[0m\n",
            "feature_fraction, val_score: 0.139256:  43%|####2     | 3/7 [00:01<00:01,  2.30it/s]"
          ]
        },
        {
          "output_type": "stream",
          "name": "stdout",
          "text": [
            "Did not meet early stopping. Best iteration is:\n",
            "[100]\tTrain's rmse: 0.128875\tTest's rmse: 0.139256\n",
            "Training until validation scores don't improve for 50 rounds.\n"
          ]
        },
        {
          "output_type": "stream",
          "name": "stderr",
          "text": [
            "feature_fraction, val_score: 0.139256:  57%|#####7    | 4/7 [00:01<00:01,  2.11it/s]\u001b[32m[I 2021-12-12 02:45:06,111]\u001b[0m Trial 3 finished with value: 0.139473228921955 and parameters: {'feature_fraction': 0.8999999999999999}. Best is trial 2 with value: 0.13925631595127572.\u001b[0m\n",
            "feature_fraction, val_score: 0.139256:  57%|#####7    | 4/7 [00:01<00:01,  2.11it/s]"
          ]
        },
        {
          "output_type": "stream",
          "name": "stdout",
          "text": [
            "Did not meet early stopping. Best iteration is:\n",
            "[100]\tTrain's rmse: 0.141856\tTest's rmse: 0.139473\n",
            "Training until validation scores don't improve for 50 rounds.\n"
          ]
        },
        {
          "output_type": "stream",
          "name": "stderr",
          "text": [
            "feature_fraction, val_score: 0.139256:  71%|#######1  | 5/7 [00:02<00:00,  2.25it/s]\u001b[32m[I 2021-12-12 02:45:06,496]\u001b[0m Trial 4 finished with value: 0.16167365823684848 and parameters: {'feature_fraction': 0.5}. Best is trial 2 with value: 0.13925631595127572.\u001b[0m\n",
            "feature_fraction, val_score: 0.139256:  71%|#######1  | 5/7 [00:02<00:00,  2.25it/s]"
          ]
        },
        {
          "output_type": "stream",
          "name": "stdout",
          "text": [
            "Did not meet early stopping. Best iteration is:\n",
            "[100]\tTrain's rmse: 0.130492\tTest's rmse: 0.161674\n",
            "Training until validation scores don't improve for 50 rounds.\n"
          ]
        },
        {
          "output_type": "stream",
          "name": "stderr",
          "text": [
            "feature_fraction, val_score: 0.139256:  86%|########5 | 6/7 [00:02<00:00,  2.13it/s]\u001b[32m[I 2021-12-12 02:45:07,023]\u001b[0m Trial 5 finished with value: 0.14150262343439804 and parameters: {'feature_fraction': 1.0}. Best is trial 2 with value: 0.13925631595127572.\u001b[0m\n",
            "feature_fraction, val_score: 0.139256:  86%|########5 | 6/7 [00:02<00:00,  2.13it/s]"
          ]
        },
        {
          "output_type": "stream",
          "name": "stdout",
          "text": [
            "Did not meet early stopping. Best iteration is:\n",
            "[100]\tTrain's rmse: 0.146988\tTest's rmse: 0.141503\n",
            "Training until validation scores don't improve for 50 rounds.\n"
          ]
        },
        {
          "output_type": "stream",
          "name": "stderr",
          "text": [
            "feature_fraction, val_score: 0.139256: 100%|##########| 7/7 [00:03<00:00,  2.19it/s]\u001b[32m[I 2021-12-12 02:45:07,449]\u001b[0m Trial 6 finished with value: 0.1442742824485471 and parameters: {'feature_fraction': 0.6}. Best is trial 2 with value: 0.13925631595127572.\u001b[0m\n",
            "feature_fraction, val_score: 0.139256: 100%|##########| 7/7 [00:03<00:00,  2.22it/s]\n"
          ]
        },
        {
          "output_type": "stream",
          "name": "stdout",
          "text": [
            "Did not meet early stopping. Best iteration is:\n",
            "[100]\tTrain's rmse: 0.123915\tTest's rmse: 0.144274\n"
          ]
        },
        {
          "output_type": "stream",
          "name": "stderr",
          "text": [
            "num_leaves, val_score: 0.139256:   0%|          | 0/20 [00:00<?, ?it/s]"
          ]
        },
        {
          "output_type": "stream",
          "name": "stdout",
          "text": [
            "Training until validation scores don't improve for 50 rounds.\n"
          ]
        },
        {
          "output_type": "stream",
          "name": "stderr",
          "text": [
            "num_leaves, val_score: 0.139256:   5%|5         | 1/20 [00:01<00:24,  1.28s/it]\u001b[32m[I 2021-12-12 02:45:08,751]\u001b[0m Trial 7 finished with value: 0.1451725691030875 and parameters: {'num_leaves': 152}. Best is trial 7 with value: 0.1451725691030875.\u001b[0m\n",
            "num_leaves, val_score: 0.139256:   5%|5         | 1/20 [00:01<00:24,  1.28s/it]"
          ]
        },
        {
          "output_type": "stream",
          "name": "stdout",
          "text": [
            "Did not meet early stopping. Best iteration is:\n",
            "[100]\tTrain's rmse: 0.13594\tTest's rmse: 0.145173\n",
            "Training until validation scores don't improve for 50 rounds.\n"
          ]
        },
        {
          "output_type": "stream",
          "name": "stderr",
          "text": [
            "num_leaves, val_score: 0.139256:  10%|#         | 2/20 [00:03<00:27,  1.54s/it]\u001b[32m[I 2021-12-12 02:45:10,482]\u001b[0m Trial 8 finished with value: 0.14852631933175836 and parameters: {'num_leaves': 227}. Best is trial 7 with value: 0.1451725691030875.\u001b[0m\n",
            "num_leaves, val_score: 0.139256:  10%|#         | 2/20 [00:03<00:27,  1.54s/it]"
          ]
        },
        {
          "output_type": "stream",
          "name": "stdout",
          "text": [
            "Did not meet early stopping. Best iteration is:\n",
            "[100]\tTrain's rmse: 0.134677\tTest's rmse: 0.148526\n",
            "Training until validation scores don't improve for 50 rounds.\n"
          ]
        },
        {
          "output_type": "stream",
          "name": "stderr",
          "text": [
            "num_leaves, val_score: 0.139256:  15%|#5        | 3/20 [00:04<00:23,  1.40s/it]\u001b[32m[I 2021-12-12 02:45:11,718]\u001b[0m Trial 9 finished with value: 0.14803269902319427 and parameters: {'num_leaves': 138}. Best is trial 7 with value: 0.1451725691030875.\u001b[0m\n",
            "num_leaves, val_score: 0.139256:  15%|#5        | 3/20 [00:04<00:23,  1.40s/it]"
          ]
        },
        {
          "output_type": "stream",
          "name": "stdout",
          "text": [
            "Did not meet early stopping. Best iteration is:\n",
            "[100]\tTrain's rmse: 0.136029\tTest's rmse: 0.148033\n",
            "Training until validation scores don't improve for 50 rounds.\n"
          ]
        },
        {
          "output_type": "stream",
          "name": "stderr",
          "text": [
            "num_leaves, val_score: 0.139256:  20%|##        | 4/20 [00:05<00:21,  1.37s/it]\u001b[32m[I 2021-12-12 02:45:13,034]\u001b[0m Trial 10 finished with value: 0.14521368590807787 and parameters: {'num_leaves': 154}. Best is trial 7 with value: 0.1451725691030875.\u001b[0m\n",
            "num_leaves, val_score: 0.139256:  20%|##        | 4/20 [00:05<00:21,  1.37s/it]"
          ]
        },
        {
          "output_type": "stream",
          "name": "stdout",
          "text": [
            "Did not meet early stopping. Best iteration is:\n",
            "[100]\tTrain's rmse: 0.136445\tTest's rmse: 0.145214\n",
            "Training until validation scores don't improve for 50 rounds.\n"
          ]
        },
        {
          "output_type": "stream",
          "name": "stderr",
          "text": [
            "num_leaves, val_score: 0.139256:  25%|##5       | 5/20 [00:06<00:17,  1.18s/it]\u001b[32m[I 2021-12-12 02:45:13,875]\u001b[0m Trial 11 finished with value: 0.14467110332889127 and parameters: {'num_leaves': 80}. Best is trial 11 with value: 0.14467110332889127.\u001b[0m\n",
            "num_leaves, val_score: 0.139256:  25%|##5       | 5/20 [00:06<00:17,  1.18s/it]"
          ]
        },
        {
          "output_type": "stream",
          "name": "stdout",
          "text": [
            "Did not meet early stopping. Best iteration is:\n",
            "[100]\tTrain's rmse: 0.140979\tTest's rmse: 0.144671\n",
            "Training until validation scores don't improve for 50 rounds.\n"
          ]
        },
        {
          "output_type": "stream",
          "name": "stderr",
          "text": [
            "num_leaves, val_score: 0.139256:  30%|###       | 6/20 [00:06<00:13,  1.06it/s]\u001b[32m[I 2021-12-12 02:45:14,355]\u001b[0m Trial 12 finished with value: 0.13988650282726336 and parameters: {'num_leaves': 28}. Best is trial 12 with value: 0.13988650282726336.\u001b[0m\n",
            "num_leaves, val_score: 0.139256:  30%|###       | 6/20 [00:06<00:13,  1.06it/s]"
          ]
        },
        {
          "output_type": "stream",
          "name": "stdout",
          "text": [
            "Did not meet early stopping. Best iteration is:\n",
            "[100]\tTrain's rmse: 0.131055\tTest's rmse: 0.139887\n",
            "Training until validation scores don't improve for 50 rounds.\n"
          ]
        },
        {
          "output_type": "stream",
          "name": "stderr",
          "text": [
            "num_leaves, val_score: 0.139256:  35%|###5      | 7/20 [00:07<00:11,  1.17it/s]\u001b[32m[I 2021-12-12 02:45:15,026]\u001b[0m Trial 13 finished with value: 0.14344032340350074 and parameters: {'num_leaves': 57}. Best is trial 12 with value: 0.13988650282726336.\u001b[0m\n",
            "num_leaves, val_score: 0.139256:  35%|###5      | 7/20 [00:07<00:11,  1.17it/s]"
          ]
        },
        {
          "output_type": "stream",
          "name": "stdout",
          "text": [
            "Did not meet early stopping. Best iteration is:\n",
            "[100]\tTrain's rmse: 0.131985\tTest's rmse: 0.14344\n",
            "Training until validation scores don't improve for 50 rounds.\n"
          ]
        },
        {
          "output_type": "stream",
          "name": "stderr",
          "text": [
            "num_leaves, val_score: 0.139256:  40%|####      | 8/20 [00:07<00:07,  1.53it/s]\u001b[32m[I 2021-12-12 02:45:15,254]\u001b[0m Trial 14 finished with value: 0.15530449849320757 and parameters: {'num_leaves': 4}. Best is trial 12 with value: 0.13988650282726336.\u001b[0m\n",
            "num_leaves, val_score: 0.139256:  40%|####      | 8/20 [00:07<00:07,  1.53it/s]"
          ]
        },
        {
          "output_type": "stream",
          "name": "stdout",
          "text": [
            "Did not meet early stopping. Best iteration is:\n",
            "[100]\tTrain's rmse: 0.176276\tTest's rmse: 0.155304\n",
            "Training until validation scores don't improve for 50 rounds.\n"
          ]
        },
        {
          "output_type": "stream",
          "name": "stderr",
          "text": [
            "num_leaves, val_score: 0.139256:  45%|####5     | 9/20 [00:09<00:09,  1.12it/s]\u001b[32m[I 2021-12-12 02:45:16,665]\u001b[0m Trial 15 finished with value: 0.14592220737497266 and parameters: {'num_leaves': 170}. Best is trial 12 with value: 0.13988650282726336.\u001b[0m\n",
            "num_leaves, val_score: 0.139256:  45%|####5     | 9/20 [00:09<00:09,  1.12it/s]"
          ]
        },
        {
          "output_type": "stream",
          "name": "stdout",
          "text": [
            "Did not meet early stopping. Best iteration is:\n",
            "[100]\tTrain's rmse: 0.134563\tTest's rmse: 0.145922\n",
            "Training until validation scores don't improve for 50 rounds.\n"
          ]
        },
        {
          "output_type": "stream",
          "name": "stderr",
          "text": [
            "num_leaves, val_score: 0.139256:  50%|#####     | 10/20 [00:10<00:09,  1.02it/s]\u001b[32m[I 2021-12-12 02:45:17,863]\u001b[0m Trial 16 finished with value: 0.14679166991656362 and parameters: {'num_leaves': 131}. Best is trial 12 with value: 0.13988650282726336.\u001b[0m\n",
            "num_leaves, val_score: 0.139256:  50%|#####     | 10/20 [00:10<00:09,  1.02it/s]"
          ]
        },
        {
          "output_type": "stream",
          "name": "stdout",
          "text": [
            "Did not meet early stopping. Best iteration is:\n",
            "[100]\tTrain's rmse: 0.139476\tTest's rmse: 0.146792\n",
            "Training until validation scores don't improve for 50 rounds.\n"
          ]
        },
        {
          "output_type": "stream",
          "name": "stderr",
          "text": [
            "num_leaves, val_score: 0.138130:  55%|#####5    | 11/20 [00:10<00:07,  1.23it/s]\u001b[32m[I 2021-12-12 02:45:18,286]\u001b[0m Trial 17 finished with value: 0.13812988019366296 and parameters: {'num_leaves': 23}. Best is trial 17 with value: 0.13812988019366296.\u001b[0m\n",
            "num_leaves, val_score: 0.138130:  55%|#####5    | 11/20 [00:10<00:07,  1.23it/s]"
          ]
        },
        {
          "output_type": "stream",
          "name": "stdout",
          "text": [
            "Did not meet early stopping. Best iteration is:\n",
            "[100]\tTrain's rmse: 0.129791\tTest's rmse: 0.13813\n",
            "Training until validation scores don't improve for 50 rounds.\n"
          ]
        },
        {
          "output_type": "stream",
          "name": "stderr",
          "text": [
            "num_leaves, val_score: 0.138130:  60%|######    | 12/20 [00:11<00:05,  1.47it/s]\u001b[32m[I 2021-12-12 02:45:18,651]\u001b[0m Trial 18 finished with value: 0.14129205852690715 and parameters: {'num_leaves': 19}. Best is trial 17 with value: 0.13812988019366296.\u001b[0m\n",
            "num_leaves, val_score: 0.138130:  60%|######    | 12/20 [00:11<00:05,  1.47it/s]"
          ]
        },
        {
          "output_type": "stream",
          "name": "stdout",
          "text": [
            "Did not meet early stopping. Best iteration is:\n",
            "[100]\tTrain's rmse: 0.133789\tTest's rmse: 0.141292\n",
            "Training until validation scores don't improve for 50 rounds.\n"
          ]
        },
        {
          "output_type": "stream",
          "name": "stderr",
          "text": [
            "num_leaves, val_score: 0.138130:  65%|######5   | 13/20 [00:11<00:04,  1.43it/s]\u001b[32m[I 2021-12-12 02:45:19,394]\u001b[0m Trial 19 finished with value: 0.1406224248407748 and parameters: {'num_leaves': 66}. Best is trial 17 with value: 0.13812988019366296.\u001b[0m\n",
            "num_leaves, val_score: 0.138130:  65%|######5   | 13/20 [00:11<00:04,  1.43it/s]"
          ]
        },
        {
          "output_type": "stream",
          "name": "stdout",
          "text": [
            "Did not meet early stopping. Best iteration is:\n",
            "[100]\tTrain's rmse: 0.134337\tTest's rmse: 0.140622\n",
            "Training until validation scores don't improve for 50 rounds.\n"
          ]
        },
        {
          "output_type": "stream",
          "name": "stderr",
          "text": [
            "num_leaves, val_score: 0.138130:  70%|#######   | 14/20 [00:12<00:03,  1.56it/s]\u001b[32m[I 2021-12-12 02:45:19,900]\u001b[0m Trial 20 finished with value: 0.1440702808301605 and parameters: {'num_leaves': 36}. Best is trial 17 with value: 0.13812988019366296.\u001b[0m\n",
            "num_leaves, val_score: 0.138130:  70%|#######   | 14/20 [00:12<00:03,  1.56it/s]"
          ]
        },
        {
          "output_type": "stream",
          "name": "stdout",
          "text": [
            "Did not meet early stopping. Best iteration is:\n",
            "[100]\tTrain's rmse: 0.139068\tTest's rmse: 0.14407\n",
            "Training until validation scores don't improve for 50 rounds.\n"
          ]
        },
        {
          "output_type": "stream",
          "name": "stderr",
          "text": [
            "num_leaves, val_score: 0.138130:  75%|#######5  | 15/20 [00:13<00:03,  1.38it/s]\u001b[32m[I 2021-12-12 02:45:20,819]\u001b[0m Trial 21 finished with value: 0.14148378889044302 and parameters: {'num_leaves': 93}. Best is trial 17 with value: 0.13812988019366296.\u001b[0m\n",
            "num_leaves, val_score: 0.138130:  75%|#######5  | 15/20 [00:13<00:03,  1.38it/s]"
          ]
        },
        {
          "output_type": "stream",
          "name": "stdout",
          "text": [
            "Did not meet early stopping. Best iteration is:\n",
            "[100]\tTrain's rmse: 0.124657\tTest's rmse: 0.141484\n",
            "Training until validation scores don't improve for 50 rounds.\n"
          ]
        },
        {
          "output_type": "stream",
          "name": "stderr",
          "text": [
            "num_leaves, val_score: 0.138130:  80%|########  | 16/20 [00:13<00:02,  1.52it/s]\u001b[32m[I 2021-12-12 02:45:21,325]\u001b[0m Trial 22 finished with value: 0.13940448967860555 and parameters: {'num_leaves': 33}. Best is trial 17 with value: 0.13812988019366296.\u001b[0m\n",
            "num_leaves, val_score: 0.138130:  80%|########  | 16/20 [00:13<00:02,  1.52it/s]"
          ]
        },
        {
          "output_type": "stream",
          "name": "stdout",
          "text": [
            "Did not meet early stopping. Best iteration is:\n",
            "[100]\tTrain's rmse: 0.12953\tTest's rmse: 0.139404\n",
            "Training until validation scores don't improve for 50 rounds.\n"
          ]
        },
        {
          "output_type": "stream",
          "name": "stderr",
          "text": [
            "num_leaves, val_score: 0.138130:  85%|########5 | 17/20 [00:14<00:02,  1.34it/s]\u001b[32m[I 2021-12-12 02:45:22,289]\u001b[0m Trial 23 finished with value: 0.14498770608611924 and parameters: {'num_leaves': 100}. Best is trial 17 with value: 0.13812988019366296.\u001b[0m\n",
            "num_leaves, val_score: 0.138130:  85%|########5 | 17/20 [00:14<00:02,  1.34it/s]"
          ]
        },
        {
          "output_type": "stream",
          "name": "stdout",
          "text": [
            "Did not meet early stopping. Best iteration is:\n",
            "[100]\tTrain's rmse: 0.13461\tTest's rmse: 0.144988\n",
            "Training until validation scores don't improve for 50 rounds.\n"
          ]
        },
        {
          "output_type": "stream",
          "name": "stderr",
          "text": [
            "num_leaves, val_score: 0.138130:  90%|######### | 18/20 [00:16<00:02,  1.01s/it]\u001b[32m[I 2021-12-12 02:45:23,896]\u001b[0m Trial 24 finished with value: 0.1464149052067657 and parameters: {'num_leaves': 203}. Best is trial 17 with value: 0.13812988019366296.\u001b[0m\n",
            "num_leaves, val_score: 0.138130:  90%|######### | 18/20 [00:16<00:02,  1.01s/it]"
          ]
        },
        {
          "output_type": "stream",
          "name": "stdout",
          "text": [
            "Did not meet early stopping. Best iteration is:\n",
            "[100]\tTrain's rmse: 0.133618\tTest's rmse: 0.146415\n",
            "Training until validation scores don't improve for 50 rounds.\n"
          ]
        },
        {
          "output_type": "stream",
          "name": "stderr",
          "text": [
            "num_leaves, val_score: 0.138130:  95%|#########5| 19/20 [00:17<00:00,  1.11it/s]\u001b[32m[I 2021-12-12 02:45:24,540]\u001b[0m Trial 25 finished with value: 0.14335483372711305 and parameters: {'num_leaves': 52}. Best is trial 17 with value: 0.13812988019366296.\u001b[0m\n",
            "num_leaves, val_score: 0.138130:  95%|#########5| 19/20 [00:17<00:00,  1.11it/s]"
          ]
        },
        {
          "output_type": "stream",
          "name": "stdout",
          "text": [
            "Did not meet early stopping. Best iteration is:\n",
            "[100]\tTrain's rmse: 0.132758\tTest's rmse: 0.143355\n",
            "Training until validation scores don't improve for 50 rounds.\n"
          ]
        },
        {
          "output_type": "stream",
          "name": "stderr",
          "text": [
            "num_leaves, val_score: 0.138130: 100%|##########| 20/20 [00:18<00:00,  1.06it/s]\u001b[32m[I 2021-12-12 02:45:25,580]\u001b[0m Trial 26 finished with value: 0.14501437574210155 and parameters: {'num_leaves': 109}. Best is trial 17 with value: 0.13812988019366296.\u001b[0m\n",
            "num_leaves, val_score: 0.138130: 100%|##########| 20/20 [00:18<00:00,  1.10it/s]\n"
          ]
        },
        {
          "output_type": "stream",
          "name": "stdout",
          "text": [
            "Did not meet early stopping. Best iteration is:\n",
            "[100]\tTrain's rmse: 0.138591\tTest's rmse: 0.145014\n"
          ]
        },
        {
          "output_type": "stream",
          "name": "stderr",
          "text": [
            "bagging, val_score: 0.138130:   0%|          | 0/10 [00:00<?, ?it/s]"
          ]
        },
        {
          "output_type": "stream",
          "name": "stdout",
          "text": [
            "Training until validation scores don't improve for 50 rounds.\n"
          ]
        },
        {
          "output_type": "stream",
          "name": "stderr",
          "text": [
            "bagging, val_score: 0.138130:  10%|#         | 1/10 [00:00<00:04,  2.05it/s]\u001b[32m[I 2021-12-12 02:45:26,084]\u001b[0m Trial 27 finished with value: 0.14495367854702046 and parameters: {'bagging_fraction': 0.9101748826043548, 'bagging_freq': 2}. Best is trial 27 with value: 0.14495367854702046.\u001b[0m\n",
            "bagging, val_score: 0.138130:  10%|#         | 1/10 [00:00<00:04,  2.05it/s]"
          ]
        },
        {
          "output_type": "stream",
          "name": "stdout",
          "text": [
            "Did not meet early stopping. Best iteration is:\n",
            "[100]\tTrain's rmse: 0.142664\tTest's rmse: 0.144954\n",
            "Training until validation scores don't improve for 50 rounds.\n"
          ]
        },
        {
          "output_type": "stream",
          "name": "stderr",
          "text": [
            "bagging, val_score: 0.138130:  20%|##        | 2/10 [00:00<00:03,  2.04it/s]\u001b[32m[I 2021-12-12 02:45:26,576]\u001b[0m Trial 28 finished with value: 0.14686384566446523 and parameters: {'bagging_fraction': 0.9396376803041082, 'bagging_freq': 2}. Best is trial 27 with value: 0.14495367854702046.\u001b[0m\n",
            "bagging, val_score: 0.138130:  20%|##        | 2/10 [00:00<00:03,  2.04it/s]"
          ]
        },
        {
          "output_type": "stream",
          "name": "stdout",
          "text": [
            "Did not meet early stopping. Best iteration is:\n",
            "[100]\tTrain's rmse: 0.138824\tTest's rmse: 0.146864\n",
            "Training until validation scores don't improve for 50 rounds.\n"
          ]
        },
        {
          "output_type": "stream",
          "name": "stderr",
          "text": [
            "bagging, val_score: 0.138130:  30%|###       | 3/10 [00:01<00:03,  2.15it/s]\u001b[32m[I 2021-12-12 02:45:27,011]\u001b[0m Trial 29 finished with value: 0.1556070226689715 and parameters: {'bagging_fraction': 0.62379919167321, 'bagging_freq': 5}. Best is trial 27 with value: 0.14495367854702046.\u001b[0m\n",
            "bagging, val_score: 0.138130:  30%|###       | 3/10 [00:01<00:03,  2.15it/s]"
          ]
        },
        {
          "output_type": "stream",
          "name": "stdout",
          "text": [
            "Did not meet early stopping. Best iteration is:\n",
            "[97]\tTrain's rmse: 0.164577\tTest's rmse: 0.155607\n",
            "Training until validation scores don't improve for 50 rounds.\n"
          ]
        },
        {
          "output_type": "stream",
          "name": "stderr",
          "text": [
            "bagging, val_score: 0.138130:  40%|####      | 4/10 [00:01<00:02,  2.14it/s]\u001b[32m[I 2021-12-12 02:45:27,487]\u001b[0m Trial 30 finished with value: 0.1435828174176075 and parameters: {'bagging_fraction': 0.9828898170827047, 'bagging_freq': 6}. Best is trial 30 with value: 0.1435828174176075.\u001b[0m\n",
            "bagging, val_score: 0.138130:  40%|####      | 4/10 [00:01<00:02,  2.14it/s]"
          ]
        },
        {
          "output_type": "stream",
          "name": "stdout",
          "text": [
            "Did not meet early stopping. Best iteration is:\n",
            "[100]\tTrain's rmse: 0.135829\tTest's rmse: 0.143583\n",
            "Training until validation scores don't improve for 50 rounds.\n"
          ]
        },
        {
          "output_type": "stream",
          "name": "stderr",
          "text": [
            "bagging, val_score: 0.138130:  50%|#####     | 5/10 [00:02<00:02,  2.14it/s]\u001b[32m[I 2021-12-12 02:45:27,961]\u001b[0m Trial 31 finished with value: 0.14546658575199425 and parameters: {'bagging_fraction': 0.9659578381763719, 'bagging_freq': 2}. Best is trial 30 with value: 0.1435828174176075.\u001b[0m\n",
            "bagging, val_score: 0.138130:  50%|#####     | 5/10 [00:02<00:02,  2.14it/s]"
          ]
        },
        {
          "output_type": "stream",
          "name": "stdout",
          "text": [
            "Did not meet early stopping. Best iteration is:\n",
            "[100]\tTrain's rmse: 0.132462\tTest's rmse: 0.145467\n",
            "Training until validation scores don't improve for 50 rounds.\n"
          ]
        },
        {
          "output_type": "stream",
          "name": "stderr",
          "text": [
            "bagging, val_score: 0.138130:  60%|######    | 6/10 [00:02<00:01,  2.11it/s]\u001b[32m[I 2021-12-12 02:45:28,433]\u001b[0m Trial 32 finished with value: 0.15533082844327897 and parameters: {'bagging_fraction': 0.8647010713661628, 'bagging_freq': 4}. Best is trial 30 with value: 0.1435828174176075.\u001b[0m\n",
            "bagging, val_score: 0.138130:  60%|######    | 6/10 [00:02<00:01,  2.11it/s]"
          ]
        },
        {
          "output_type": "stream",
          "name": "stdout",
          "text": [
            "Did not meet early stopping. Best iteration is:\n",
            "[100]\tTrain's rmse: 0.151906\tTest's rmse: 0.155331\n",
            "Training until validation scores don't improve for 50 rounds.\n"
          ]
        },
        {
          "output_type": "stream",
          "name": "stderr",
          "text": [
            "bagging, val_score: 0.138130:  70%|#######   | 7/10 [00:03<00:01,  2.17it/s]\u001b[32m[I 2021-12-12 02:45:28,871]\u001b[0m Trial 33 finished with value: 0.15091678600453792 and parameters: {'bagging_fraction': 0.735130573567891, 'bagging_freq': 1}. Best is trial 30 with value: 0.1435828174176075.\u001b[0m\n",
            "bagging, val_score: 0.138130:  70%|#######   | 7/10 [00:03<00:01,  2.17it/s]"
          ]
        },
        {
          "output_type": "stream",
          "name": "stdout",
          "text": [
            "Did not meet early stopping. Best iteration is:\n",
            "[100]\tTrain's rmse: 0.158163\tTest's rmse: 0.150917\n",
            "Training until validation scores don't improve for 50 rounds.\n"
          ]
        },
        {
          "output_type": "stream",
          "name": "stderr",
          "text": [
            "bagging, val_score: 0.138130:  80%|########  | 8/10 [00:03<00:00,  2.16it/s]\u001b[32m[I 2021-12-12 02:45:29,337]\u001b[0m Trial 34 finished with value: 0.15993451105675235 and parameters: {'bagging_fraction': 0.47276763605966715, 'bagging_freq': 3}. Best is trial 30 with value: 0.1435828174176075.\u001b[0m\n",
            "bagging, val_score: 0.138130:  80%|########  | 8/10 [00:03<00:00,  2.16it/s]"
          ]
        },
        {
          "output_type": "stream",
          "name": "stdout",
          "text": [
            "Did not meet early stopping. Best iteration is:\n",
            "[97]\tTrain's rmse: 0.177937\tTest's rmse: 0.159935\n",
            "Training until validation scores don't improve for 50 rounds.\n"
          ]
        },
        {
          "output_type": "stream",
          "name": "stderr",
          "text": [
            "bagging, val_score: 0.138130:  90%|######### | 9/10 [00:04<00:00,  2.15it/s]\u001b[32m[I 2021-12-12 02:45:29,808]\u001b[0m Trial 35 finished with value: 0.15663257457391339 and parameters: {'bagging_fraction': 0.817425258665663, 'bagging_freq': 4}. Best is trial 30 with value: 0.1435828174176075.\u001b[0m\n",
            "bagging, val_score: 0.138130:  90%|######### | 9/10 [00:04<00:00,  2.15it/s]"
          ]
        },
        {
          "output_type": "stream",
          "name": "stdout",
          "text": [
            "Did not meet early stopping. Best iteration is:\n",
            "[100]\tTrain's rmse: 0.153117\tTest's rmse: 0.156633\n",
            "Training until validation scores don't improve for 50 rounds.\n"
          ]
        },
        {
          "output_type": "stream",
          "name": "stderr",
          "text": [
            "bagging, val_score: 0.138130: 100%|##########| 10/10 [00:04<00:00,  2.17it/s]\u001b[32m[I 2021-12-12 02:45:30,259]\u001b[0m Trial 36 finished with value: 0.1446306501688431 and parameters: {'bagging_fraction': 0.9638061281740382, 'bagging_freq': 7}. Best is trial 30 with value: 0.1435828174176075.\u001b[0m\n",
            "bagging, val_score: 0.138130: 100%|##########| 10/10 [00:04<00:00,  2.14it/s]\n"
          ]
        },
        {
          "output_type": "stream",
          "name": "stdout",
          "text": [
            "Did not meet early stopping. Best iteration is:\n",
            "[100]\tTrain's rmse: 0.136831\tTest's rmse: 0.144631\n"
          ]
        },
        {
          "output_type": "stream",
          "name": "stderr",
          "text": [
            "feature_fraction_stage2, val_score: 0.138130:   0%|          | 0/6 [00:00<?, ?it/s]"
          ]
        },
        {
          "output_type": "stream",
          "name": "stdout",
          "text": [
            "Training until validation scores don't improve for 50 rounds.\n"
          ]
        },
        {
          "output_type": "stream",
          "name": "stderr",
          "text": [
            "feature_fraction_stage2, val_score: 0.138130:  17%|#6        | 1/6 [00:00<00:02,  2.25it/s]\u001b[32m[I 2021-12-12 02:45:30,718]\u001b[0m Trial 37 finished with value: 0.13812988019366296 and parameters: {'feature_fraction': 0.8160000000000001}. Best is trial 37 with value: 0.13812988019366296.\u001b[0m\n",
            "feature_fraction_stage2, val_score: 0.138130:  17%|#6        | 1/6 [00:00<00:02,  2.25it/s]"
          ]
        },
        {
          "output_type": "stream",
          "name": "stdout",
          "text": [
            "Did not meet early stopping. Best iteration is:\n",
            "[100]\tTrain's rmse: 0.129791\tTest's rmse: 0.13813\n",
            "Training until validation scores don't improve for 50 rounds.\n"
          ]
        },
        {
          "output_type": "stream",
          "name": "stderr",
          "text": [
            "feature_fraction_stage2, val_score: 0.138130:  33%|###3      | 2/6 [00:00<00:01,  2.44it/s]\u001b[32m[I 2021-12-12 02:45:31,107]\u001b[0m Trial 38 finished with value: 0.1456287387171367 and parameters: {'feature_fraction': 0.7200000000000001}. Best is trial 37 with value: 0.13812988019366296.\u001b[0m\n",
            "feature_fraction_stage2, val_score: 0.138130:  33%|###3      | 2/6 [00:00<00:01,  2.44it/s]"
          ]
        },
        {
          "output_type": "stream",
          "name": "stdout",
          "text": [
            "Did not meet early stopping. Best iteration is:\n",
            "[100]\tTrain's rmse: 0.122274\tTest's rmse: 0.145629\n",
            "Training until validation scores don't improve for 50 rounds.\n"
          ]
        },
        {
          "output_type": "stream",
          "name": "stderr",
          "text": [
            "feature_fraction_stage2, val_score: 0.138130:  50%|#####     | 3/6 [00:01<00:01,  2.39it/s]\u001b[32m[I 2021-12-12 02:45:31,532]\u001b[0m Trial 39 finished with value: 0.14130753669439966 and parameters: {'feature_fraction': 0.8480000000000001}. Best is trial 37 with value: 0.13812988019366296.\u001b[0m\n",
            "feature_fraction_stage2, val_score: 0.138130:  50%|#####     | 3/6 [00:01<00:01,  2.39it/s]"
          ]
        },
        {
          "output_type": "stream",
          "name": "stdout",
          "text": [
            "Did not meet early stopping. Best iteration is:\n",
            "[100]\tTrain's rmse: 0.141972\tTest's rmse: 0.141308\n",
            "Training until validation scores don't improve for 50 rounds.\n"
          ]
        },
        {
          "output_type": "stream",
          "name": "stderr",
          "text": [
            "feature_fraction_stage2, val_score: 0.138130:  67%|######6   | 4/6 [00:01<00:00,  2.38it/s]\u001b[32m[I 2021-12-12 02:45:31,953]\u001b[0m Trial 40 finished with value: 0.14130753669439966 and parameters: {'feature_fraction': 0.88}. Best is trial 37 with value: 0.13812988019366296.\u001b[0m\n",
            "feature_fraction_stage2, val_score: 0.138130:  67%|######6   | 4/6 [00:01<00:00,  2.38it/s]"
          ]
        },
        {
          "output_type": "stream",
          "name": "stdout",
          "text": [
            "Did not meet early stopping. Best iteration is:\n",
            "[100]\tTrain's rmse: 0.141972\tTest's rmse: 0.141308\n",
            "Training until validation scores don't improve for 50 rounds.\n"
          ]
        },
        {
          "output_type": "stream",
          "name": "stderr",
          "text": [
            "feature_fraction_stage2, val_score: 0.138130:  83%|########3 | 5/6 [00:02<00:00,  2.44it/s]\u001b[32m[I 2021-12-12 02:45:32,348]\u001b[0m Trial 41 finished with value: 0.14188551222064058 and parameters: {'feature_fraction': 0.784}. Best is trial 37 with value: 0.13812988019366296.\u001b[0m\n",
            "feature_fraction_stage2, val_score: 0.138130:  83%|########3 | 5/6 [00:02<00:00,  2.44it/s]"
          ]
        },
        {
          "output_type": "stream",
          "name": "stdout",
          "text": [
            "Did not meet early stopping. Best iteration is:\n",
            "[100]\tTrain's rmse: 0.132598\tTest's rmse: 0.141886\n",
            "Training until validation scores don't improve for 50 rounds.\n"
          ]
        },
        {
          "output_type": "stream",
          "name": "stderr",
          "text": [
            "feature_fraction_stage2, val_score: 0.138130: 100%|##########| 6/6 [00:02<00:00,  2.45it/s]\u001b[32m[I 2021-12-12 02:45:32,748]\u001b[0m Trial 42 finished with value: 0.14188551222064058 and parameters: {'feature_fraction': 0.7520000000000001}. Best is trial 37 with value: 0.13812988019366296.\u001b[0m\n",
            "feature_fraction_stage2, val_score: 0.138130: 100%|##########| 6/6 [00:02<00:00,  2.42it/s]\n"
          ]
        },
        {
          "output_type": "stream",
          "name": "stdout",
          "text": [
            "Did not meet early stopping. Best iteration is:\n",
            "[100]\tTrain's rmse: 0.132598\tTest's rmse: 0.141886\n"
          ]
        },
        {
          "output_type": "stream",
          "name": "stderr",
          "text": [
            "regularization_factors, val_score: 0.138130:   0%|          | 0/20 [00:00<?, ?it/s]"
          ]
        },
        {
          "output_type": "stream",
          "name": "stdout",
          "text": [
            "Training until validation scores don't improve for 50 rounds.\n"
          ]
        },
        {
          "output_type": "stream",
          "name": "stderr",
          "text": [
            "regularization_factors, val_score: 0.138130:   5%|5         | 1/20 [00:00<00:07,  2.49it/s]\u001b[32m[I 2021-12-12 02:45:33,172]\u001b[0m Trial 43 finished with value: 0.14895307873148228 and parameters: {'lambda_l1': 0.6969756223652351, 'lambda_l2': 4.751762195225087e-05}. Best is trial 43 with value: 0.14895307873148228.\u001b[0m\n",
            "regularization_factors, val_score: 0.138130:   5%|5         | 1/20 [00:00<00:07,  2.49it/s]"
          ]
        },
        {
          "output_type": "stream",
          "name": "stdout",
          "text": [
            "Did not meet early stopping. Best iteration is:\n",
            "[100]\tTrain's rmse: 0.125002\tTest's rmse: 0.148953\n",
            "Training until validation scores don't improve for 50 rounds.\n"
          ]
        },
        {
          "output_type": "stream",
          "name": "stderr",
          "text": [
            "regularization_factors, val_score: 0.138130:  10%|#         | 2/20 [00:00<00:07,  2.55it/s]\u001b[32m[I 2021-12-12 02:45:33,550]\u001b[0m Trial 44 finished with value: 0.14910060852651388 and parameters: {'lambda_l1': 3.6376973713065084, 'lambda_l2': 5.307724407839569e-07}. Best is trial 43 with value: 0.14895307873148228.\u001b[0m\n",
            "regularization_factors, val_score: 0.138130:  10%|#         | 2/20 [00:00<00:07,  2.55it/s]"
          ]
        },
        {
          "output_type": "stream",
          "name": "stdout",
          "text": [
            "Did not meet early stopping. Best iteration is:\n",
            "[100]\tTrain's rmse: 0.130982\tTest's rmse: 0.149101\n",
            "Training until validation scores don't improve for 50 rounds.\n"
          ]
        },
        {
          "output_type": "stream",
          "name": "stderr",
          "text": [
            "regularization_factors, val_score: 0.138130:  15%|#5        | 3/20 [00:01<00:06,  2.61it/s]\u001b[32m[I 2021-12-12 02:45:33,924]\u001b[0m Trial 45 finished with value: 0.1442983368179915 and parameters: {'lambda_l1': 0.33262889392672157, 'lambda_l2': 0.0036282019099026395}. Best is trial 45 with value: 0.1442983368179915.\u001b[0m\n",
            "regularization_factors, val_score: 0.138130:  15%|#5        | 3/20 [00:01<00:06,  2.61it/s]"
          ]
        },
        {
          "output_type": "stream",
          "name": "stdout",
          "text": [
            "Did not meet early stopping. Best iteration is:\n",
            "[100]\tTrain's rmse: 0.128508\tTest's rmse: 0.144298\n",
            "Training until validation scores don't improve for 50 rounds.\n"
          ]
        },
        {
          "output_type": "stream",
          "name": "stderr",
          "text": [
            "regularization_factors, val_score: 0.138130:  20%|##        | 4/20 [00:01<00:06,  2.53it/s]\u001b[32m[I 2021-12-12 02:45:34,338]\u001b[0m Trial 46 finished with value: 0.13812989534153533 and parameters: {'lambda_l1': 8.309112347739913e-06, 'lambda_l2': 1.1210272282969264e-05}. Best is trial 46 with value: 0.13812989534153533.\u001b[0m\n",
            "regularization_factors, val_score: 0.138130:  20%|##        | 4/20 [00:01<00:06,  2.53it/s]"
          ]
        },
        {
          "output_type": "stream",
          "name": "stdout",
          "text": [
            "Did not meet early stopping. Best iteration is:\n",
            "[100]\tTrain's rmse: 0.129791\tTest's rmse: 0.13813\n",
            "Training until validation scores don't improve for 50 rounds.\n"
          ]
        },
        {
          "output_type": "stream",
          "name": "stderr",
          "text": [
            "regularization_factors, val_score: 0.138130:  25%|##5       | 5/20 [00:01<00:06,  2.49it/s]\u001b[32m[I 2021-12-12 02:45:34,754]\u001b[0m Trial 47 finished with value: 0.13812991387153165 and parameters: {'lambda_l1': 2.583866655735471e-05, 'lambda_l2': 6.187953664304444e-08}. Best is trial 46 with value: 0.13812989534153533.\u001b[0m\n",
            "regularization_factors, val_score: 0.138130:  25%|##5       | 5/20 [00:01<00:06,  2.49it/s]"
          ]
        },
        {
          "output_type": "stream",
          "name": "stdout",
          "text": [
            "Did not meet early stopping. Best iteration is:\n",
            "[100]\tTrain's rmse: 0.129791\tTest's rmse: 0.13813\n",
            "Training until validation scores don't improve for 50 rounds.\n"
          ]
        },
        {
          "output_type": "stream",
          "name": "stderr",
          "text": [
            "regularization_factors, val_score: 0.138130:  30%|###       | 6/20 [00:02<00:05,  2.49it/s]\u001b[32m[I 2021-12-12 02:45:35,154]\u001b[0m Trial 48 finished with value: 0.14158194481576042 and parameters: {'lambda_l1': 0.00013820231505592563, 'lambda_l2': 0.0018820374364090795}. Best is trial 46 with value: 0.13812989534153533.\u001b[0m\n",
            "regularization_factors, val_score: 0.138130:  30%|###       | 6/20 [00:02<00:05,  2.49it/s]"
          ]
        },
        {
          "output_type": "stream",
          "name": "stdout",
          "text": [
            "Did not meet early stopping. Best iteration is:\n",
            "[100]\tTrain's rmse: 0.128084\tTest's rmse: 0.141582\n",
            "Training until validation scores don't improve for 50 rounds.\n"
          ]
        },
        {
          "output_type": "stream",
          "name": "stderr",
          "text": [
            "regularization_factors, val_score: 0.138130:  35%|###5      | 7/20 [00:02<00:05,  2.44it/s]\u001b[32m[I 2021-12-12 02:45:35,582]\u001b[0m Trial 49 finished with value: 0.13813010763410488 and parameters: {'lambda_l1': 1.3265546618209143e-07, 'lambda_l2': 0.0006030377529645151}. Best is trial 46 with value: 0.13812989534153533.\u001b[0m\n",
            "regularization_factors, val_score: 0.138130:  35%|###5      | 7/20 [00:02<00:05,  2.44it/s]"
          ]
        },
        {
          "output_type": "stream",
          "name": "stdout",
          "text": [
            "Did not meet early stopping. Best iteration is:\n",
            "[100]\tTrain's rmse: 0.129792\tTest's rmse: 0.13813\n",
            "Training until validation scores don't improve for 50 rounds.\n"
          ]
        },
        {
          "output_type": "stream",
          "name": "stderr",
          "text": [
            "regularization_factors, val_score: 0.138130:  40%|####      | 8/20 [00:03<00:04,  2.45it/s]\u001b[32m[I 2021-12-12 02:45:35,986]\u001b[0m Trial 50 finished with value: 0.13813037250579158 and parameters: {'lambda_l1': 0.00012868145401905438, 'lambda_l2': 0.0008574358227227147}. Best is trial 46 with value: 0.13812989534153533.\u001b[0m\n",
            "regularization_factors, val_score: 0.138130:  40%|####      | 8/20 [00:03<00:04,  2.45it/s]"
          ]
        },
        {
          "output_type": "stream",
          "name": "stdout",
          "text": [
            "Did not meet early stopping. Best iteration is:\n",
            "[100]\tTrain's rmse: 0.129793\tTest's rmse: 0.13813\n",
            "Training until validation scores don't improve for 50 rounds.\n"
          ]
        },
        {
          "output_type": "stream",
          "name": "stderr",
          "text": [
            "regularization_factors, val_score: 0.138130:  45%|####5     | 9/20 [00:03<00:04,  2.48it/s]\u001b[32m[I 2021-12-12 02:45:36,381]\u001b[0m Trial 51 finished with value: 0.15090313570592676 and parameters: {'lambda_l1': 0.00021276193046461563, 'lambda_l2': 6.213507397970652}. Best is trial 46 with value: 0.13812989534153533.\u001b[0m\n",
            "regularization_factors, val_score: 0.138130:  45%|####5     | 9/20 [00:03<00:04,  2.48it/s]"
          ]
        },
        {
          "output_type": "stream",
          "name": "stdout",
          "text": [
            "Did not meet early stopping. Best iteration is:\n",
            "[100]\tTrain's rmse: 0.14049\tTest's rmse: 0.150903\n",
            "Training until validation scores don't improve for 50 rounds.\n"
          ]
        },
        {
          "output_type": "stream",
          "name": "stderr",
          "text": [
            "regularization_factors, val_score: 0.138130:  50%|#####     | 10/20 [00:04<00:04,  2.45it/s]\u001b[32m[I 2021-12-12 02:45:36,799]\u001b[0m Trial 52 finished with value: 0.13812990552133053 and parameters: {'lambda_l1': 1.936348654615517e-05, 'lambda_l2': 1.228498874734337e-07}. Best is trial 46 with value: 0.13812989534153533.\u001b[0m\n",
            "regularization_factors, val_score: 0.138130:  50%|#####     | 10/20 [00:04<00:04,  2.45it/s]"
          ]
        },
        {
          "output_type": "stream",
          "name": "stdout",
          "text": [
            "Did not meet early stopping. Best iteration is:\n",
            "[100]\tTrain's rmse: 0.129791\tTest's rmse: 0.13813\n",
            "Training until validation scores don't improve for 50 rounds.\n"
          ]
        },
        {
          "output_type": "stream",
          "name": "stderr",
          "text": [
            "regularization_factors, val_score: 0.138130:  55%|#####5    | 11/20 [00:04<00:03,  2.43it/s]\u001b[32m[I 2021-12-12 02:45:37,226]\u001b[0m Trial 53 finished with value: 0.13812988320568426 and parameters: {'lambda_l1': 1.7536609708290752e-08, 'lambda_l2': 8.430469498045517e-06}. Best is trial 53 with value: 0.13812988320568426.\u001b[0m\n",
            "regularization_factors, val_score: 0.138130:  55%|#####5    | 11/20 [00:04<00:03,  2.43it/s]"
          ]
        },
        {
          "output_type": "stream",
          "name": "stdout",
          "text": [
            "Did not meet early stopping. Best iteration is:\n",
            "[100]\tTrain's rmse: 0.129791\tTest's rmse: 0.13813\n",
            "Training until validation scores don't improve for 50 rounds.\n"
          ]
        },
        {
          "output_type": "stream",
          "name": "stderr",
          "text": [
            "regularization_factors, val_score: 0.138130:  60%|######    | 12/20 [00:04<00:03,  2.39it/s]\u001b[32m[I 2021-12-12 02:45:37,650]\u001b[0m Trial 54 finished with value: 0.13812988284463287 and parameters: {'lambda_l1': 1.0810524781021486e-08, 'lambda_l2': 7.105222789434497e-06}. Best is trial 54 with value: 0.13812988284463287.\u001b[0m\n",
            "regularization_factors, val_score: 0.138130:  60%|######    | 12/20 [00:04<00:03,  2.39it/s]"
          ]
        },
        {
          "output_type": "stream",
          "name": "stdout",
          "text": [
            "Did not meet early stopping. Best iteration is:\n",
            "[100]\tTrain's rmse: 0.129791\tTest's rmse: 0.13813\n",
            "Training until validation scores don't improve for 50 rounds.\n"
          ]
        },
        {
          "output_type": "stream",
          "name": "stderr",
          "text": [
            "regularization_factors, val_score: 0.138130:  65%|######5   | 13/20 [00:05<00:02,  2.43it/s]\u001b[32m[I 2021-12-12 02:45:38,044]\u001b[0m Trial 55 finished with value: 0.13812988131728118 and parameters: {'lambda_l1': 1.039938857523485e-08, 'lambda_l2': 3.0787758248212044e-06}. Best is trial 55 with value: 0.13812988131728118.\u001b[0m\n",
            "regularization_factors, val_score: 0.138130:  65%|######5   | 13/20 [00:05<00:02,  2.43it/s]"
          ]
        },
        {
          "output_type": "stream",
          "name": "stdout",
          "text": [
            "Did not meet early stopping. Best iteration is:\n",
            "[100]\tTrain's rmse: 0.129791\tTest's rmse: 0.13813\n",
            "Training until validation scores don't improve for 50 rounds.\n"
          ]
        },
        {
          "output_type": "stream",
          "name": "stderr",
          "text": [
            "regularization_factors, val_score: 0.138130:  70%|#######   | 14/20 [00:05<00:02,  2.43it/s]\u001b[32m[I 2021-12-12 02:45:38,460]\u001b[0m Trial 56 finished with value: 0.14208990027013535 and parameters: {'lambda_l1': 6.532634543519383e-07, 'lambda_l2': 0.16026597906054896}. Best is trial 55 with value: 0.13812988131728118.\u001b[0m\n",
            "regularization_factors, val_score: 0.138130:  70%|#######   | 14/20 [00:05<00:02,  2.43it/s]"
          ]
        },
        {
          "output_type": "stream",
          "name": "stdout",
          "text": [
            "Did not meet early stopping. Best iteration is:\n",
            "[100]\tTrain's rmse: 0.13099\tTest's rmse: 0.14209\n",
            "Training until validation scores don't improve for 50 rounds.\n"
          ]
        },
        {
          "output_type": "stream",
          "name": "stderr",
          "text": [
            "regularization_factors, val_score: 0.138130:  75%|#######5  | 15/20 [00:06<00:02,  2.39it/s]\u001b[32m[I 2021-12-12 02:45:38,893]\u001b[0m Trial 57 finished with value: 0.13812988045930502 and parameters: {'lambda_l1': 1.0300462758384846e-08, 'lambda_l2': 1.1488197472062128e-06}. Best is trial 57 with value: 0.13812988045930502.\u001b[0m\n",
            "regularization_factors, val_score: 0.138130:  75%|#######5  | 15/20 [00:06<00:02,  2.39it/s]"
          ]
        },
        {
          "output_type": "stream",
          "name": "stdout",
          "text": [
            "Did not meet early stopping. Best iteration is:\n",
            "[100]\tTrain's rmse: 0.129791\tTest's rmse: 0.13813\n",
            "Training until validation scores don't improve for 50 rounds.\n"
          ]
        },
        {
          "output_type": "stream",
          "name": "stderr",
          "text": [
            "regularization_factors, val_score: 0.138130:  80%|########  | 16/20 [00:06<00:01,  2.43it/s]\u001b[32m[I 2021-12-12 02:45:39,290]\u001b[0m Trial 58 finished with value: 0.13883436214251765 and parameters: {'lambda_l1': 0.020344150896871756, 'lambda_l2': 1.1384858139640365e-08}. Best is trial 57 with value: 0.13812988045930502.\u001b[0m\n",
            "regularization_factors, val_score: 0.138130:  80%|########  | 16/20 [00:06<00:01,  2.43it/s]"
          ]
        },
        {
          "output_type": "stream",
          "name": "stdout",
          "text": [
            "Did not meet early stopping. Best iteration is:\n",
            "[100]\tTrain's rmse: 0.135153\tTest's rmse: 0.138834\n",
            "Training until validation scores don't improve for 50 rounds.\n"
          ]
        },
        {
          "output_type": "stream",
          "name": "stderr",
          "text": [
            "regularization_factors, val_score: 0.138130:  85%|########5 | 17/20 [00:06<00:01,  2.40it/s]\u001b[32m[I 2021-12-12 02:45:39,721]\u001b[0m Trial 59 finished with value: 0.13812988139660365 and parameters: {'lambda_l1': 7.630117906101714e-07, 'lambda_l2': 7.478845567472293e-07}. Best is trial 57 with value: 0.13812988045930502.\u001b[0m\n",
            "regularization_factors, val_score: 0.138130:  85%|########5 | 17/20 [00:06<00:01,  2.40it/s]"
          ]
        },
        {
          "output_type": "stream",
          "name": "stdout",
          "text": [
            "Did not meet early stopping. Best iteration is:\n",
            "[100]\tTrain's rmse: 0.129791\tTest's rmse: 0.13813\n",
            "Training until validation scores don't improve for 50 rounds.\n"
          ]
        },
        {
          "output_type": "stream",
          "name": "stderr",
          "text": [
            "regularization_factors, val_score: 0.138130:  90%|######### | 18/20 [00:07<00:00,  2.42it/s]\u001b[32m[I 2021-12-12 02:45:40,119]\u001b[0m Trial 60 finished with value: 0.1390729309257701 and parameters: {'lambda_l1': 0.017518122169751536, 'lambda_l2': 0.00010777056384726805}. Best is trial 57 with value: 0.13812988045930502.\u001b[0m\n",
            "regularization_factors, val_score: 0.138130:  90%|######### | 18/20 [00:07<00:00,  2.42it/s]"
          ]
        },
        {
          "output_type": "stream",
          "name": "stdout",
          "text": [
            "Did not meet early stopping. Best iteration is:\n",
            "[100]\tTrain's rmse: 0.131324\tTest's rmse: 0.139073\n",
            "Training until validation scores don't improve for 50 rounds.\n"
          ]
        },
        {
          "output_type": "stream",
          "name": "stderr",
          "text": [
            "regularization_factors, val_score: 0.138130:  95%|#########5| 19/20 [00:07<00:00,  2.41it/s]\u001b[32m[I 2021-12-12 02:45:40,538]\u001b[0m Trial 61 finished with value: 0.13812988075477173 and parameters: {'lambda_l1': 2.3044528696554075e-07, 'lambda_l2': 9.577811375339162e-07}. Best is trial 57 with value: 0.13812988045930502.\u001b[0m\n",
            "regularization_factors, val_score: 0.138130:  95%|#########5| 19/20 [00:07<00:00,  2.41it/s]"
          ]
        },
        {
          "output_type": "stream",
          "name": "stdout",
          "text": [
            "Did not meet early stopping. Best iteration is:\n",
            "[100]\tTrain's rmse: 0.129791\tTest's rmse: 0.13813\n",
            "Training until validation scores don't improve for 50 rounds.\n"
          ]
        },
        {
          "output_type": "stream",
          "name": "stderr",
          "text": [
            "regularization_factors, val_score: 0.138130: 100%|##########| 20/20 [00:08<00:00,  2.40it/s]\u001b[32m[I 2021-12-12 02:45:40,961]\u001b[0m Trial 62 finished with value: 0.13812988035251245 and parameters: {'lambda_l1': 1.9492792130454693e-07, 'lambda_l2': 1.8631550755712178e-08}. Best is trial 62 with value: 0.13812988035251245.\u001b[0m\n",
            "regularization_factors, val_score: 0.138130: 100%|##########| 20/20 [00:08<00:00,  2.44it/s]\n"
          ]
        },
        {
          "output_type": "stream",
          "name": "stdout",
          "text": [
            "Did not meet early stopping. Best iteration is:\n",
            "[100]\tTrain's rmse: 0.129791\tTest's rmse: 0.13813\n"
          ]
        },
        {
          "output_type": "stream",
          "name": "stderr",
          "text": [
            "min_data_in_leaf, val_score: 0.138130:   0%|          | 0/5 [00:00<?, ?it/s]"
          ]
        },
        {
          "output_type": "stream",
          "name": "stdout",
          "text": [
            "Training until validation scores don't improve for 50 rounds.\n"
          ]
        },
        {
          "output_type": "stream",
          "name": "stderr",
          "text": [
            "min_data_in_leaf, val_score: 0.138130:  20%|##        | 1/5 [00:00<00:01,  2.53it/s]\u001b[32m[I 2021-12-12 02:45:41,370]\u001b[0m Trial 63 finished with value: 0.14900707144420355 and parameters: {'min_child_samples': 5}. Best is trial 63 with value: 0.14900707144420355.\u001b[0m\n",
            "min_data_in_leaf, val_score: 0.138130:  20%|##        | 1/5 [00:00<00:01,  2.53it/s]"
          ]
        },
        {
          "output_type": "stream",
          "name": "stdout",
          "text": [
            "Early stopping, best iteration is:\n",
            "[43]\tTrain's rmse: 0.0688108\tTest's rmse: 0.149007\n",
            "Training until validation scores don't improve for 50 rounds.\n"
          ]
        },
        {
          "output_type": "stream",
          "name": "stderr",
          "text": [
            "min_data_in_leaf, val_score: 0.138130:  40%|####      | 2/5 [00:00<00:01,  2.48it/s]\u001b[32m[I 2021-12-12 02:45:41,779]\u001b[0m Trial 64 finished with value: 0.15181298206844696 and parameters: {'min_child_samples': 10}. Best is trial 63 with value: 0.14900707144420355.\u001b[0m\n",
            "min_data_in_leaf, val_score: 0.138130:  40%|####      | 2/5 [00:00<00:01,  2.48it/s]"
          ]
        },
        {
          "output_type": "stream",
          "name": "stdout",
          "text": [
            "Did not meet early stopping. Best iteration is:\n",
            "[100]\tTrain's rmse: 0.0707732\tTest's rmse: 0.151813\n",
            "Training until validation scores don't improve for 50 rounds.\n"
          ]
        },
        {
          "output_type": "stream",
          "name": "stderr",
          "text": [
            "min_data_in_leaf, val_score: 0.138130:  60%|######    | 3/5 [00:01<00:00,  2.40it/s]\u001b[32m[I 2021-12-12 02:45:42,209]\u001b[0m Trial 65 finished with value: 0.19695971306961832 and parameters: {'min_child_samples': 100}. Best is trial 63 with value: 0.14900707144420355.\u001b[0m\n",
            "min_data_in_leaf, val_score: 0.138130:  60%|######    | 3/5 [00:01<00:00,  2.40it/s]"
          ]
        },
        {
          "output_type": "stream",
          "name": "stdout",
          "text": [
            "Did not meet early stopping. Best iteration is:\n",
            "[100]\tTrain's rmse: 0.281813\tTest's rmse: 0.19696\n",
            "Training until validation scores don't improve for 50 rounds.\n"
          ]
        },
        {
          "output_type": "stream",
          "name": "stderr",
          "text": [
            "min_data_in_leaf, val_score: 0.138130:  80%|########  | 4/5 [00:01<00:00,  2.41it/s]\u001b[32m[I 2021-12-12 02:45:42,622]\u001b[0m Trial 66 finished with value: 0.15176064842797757 and parameters: {'min_child_samples': 25}. Best is trial 63 with value: 0.14900707144420355.\u001b[0m\n",
            "min_data_in_leaf, val_score: 0.138130:  80%|########  | 4/5 [00:01<00:00,  2.41it/s]"
          ]
        },
        {
          "output_type": "stream",
          "name": "stdout",
          "text": [
            "Did not meet early stopping. Best iteration is:\n",
            "[100]\tTrain's rmse: 0.145796\tTest's rmse: 0.151761\n",
            "Training until validation scores don't improve for 50 rounds.\n"
          ]
        },
        {
          "output_type": "stream",
          "name": "stderr",
          "text": [
            "min_data_in_leaf, val_score: 0.138130: 100%|##########| 5/5 [00:02<00:00,  2.39it/s]\u001b[32m[I 2021-12-12 02:45:43,046]\u001b[0m Trial 67 finished with value: 0.17569884674188344 and parameters: {'min_child_samples': 50}. Best is trial 63 with value: 0.14900707144420355.\u001b[0m\n",
            "min_data_in_leaf, val_score: 0.138130: 100%|##########| 5/5 [00:02<00:00,  2.41it/s]"
          ]
        },
        {
          "output_type": "stream",
          "name": "stdout",
          "text": [
            "Did not meet early stopping. Best iteration is:\n",
            "[100]\tTrain's rmse: 0.228578\tTest's rmse: 0.175699\n"
          ]
        },
        {
          "output_type": "stream",
          "name": "stderr",
          "text": [
            "\n"
          ]
        },
        {
          "output_type": "display_data",
          "data": {
            "image/png": "[encoded data removed]",
            "text/plain": [
              "<Figure size 432x288 with 1 Axes>"
            ]
          },
          "metadata": {
            "needs_background": "light"
          }
        },
        {
          "output_type": "stream",
          "name": "stderr",
          "text": [
            "\u001b[32m[I 2021-12-12 02:45:43,281]\u001b[0m A new study created in memory with name: no-name-72bf0dfd-5444-4378-9451-9661bd475ef4\u001b[0m\n",
            "feature_fraction, val_score: inf:   0%|          | 0/7 [00:00<?, ?it/s]"
          ]
        },
        {
          "output_type": "stream",
          "name": "stdout",
          "text": [
            "Training until validation scores don't improve for 50 rounds.\n"
          ]
        },
        {
          "output_type": "stream",
          "name": "stderr",
          "text": [
            "feature_fraction, val_score: 0.106158:  14%|#4        | 1/7 [00:00<00:02,  2.91it/s]\u001b[32m[I 2021-12-12 02:45:43,637]\u001b[0m Trial 0 finished with value: 0.10615833108191376 and parameters: {'feature_fraction': 0.4}. Best is trial 0 with value: 0.10615833108191376.\u001b[0m\n",
            "feature_fraction, val_score: 0.106158:  14%|#4        | 1/7 [00:00<00:02,  2.91it/s]"
          ]
        },
        {
          "output_type": "stream",
          "name": "stdout",
          "text": [
            "Did not meet early stopping. Best iteration is:\n",
            "[100]\tTrain's rmse: 0.142166\tTest's rmse: 0.106158\n",
            "Training until validation scores don't improve for 50 rounds.\n"
          ]
        },
        {
          "output_type": "stream",
          "name": "stderr",
          "text": [
            "feature_fraction, val_score: 0.083282:  29%|##8       | 2/7 [00:00<00:02,  2.42it/s]\u001b[32m[I 2021-12-12 02:45:44,098]\u001b[0m Trial 1 finished with value: 0.08328249485144172 and parameters: {'feature_fraction': 0.6}. Best is trial 1 with value: 0.08328249485144172.\u001b[0m\n",
            "feature_fraction, val_score: 0.083282:  29%|##8       | 2/7 [00:00<00:02,  2.42it/s]"
          ]
        },
        {
          "output_type": "stream",
          "name": "stdout",
          "text": [
            "Did not meet early stopping. Best iteration is:\n",
            "[100]\tTrain's rmse: 0.13123\tTest's rmse: 0.0832825\n",
            "Training until validation scores don't improve for 50 rounds.\n"
          ]
        },
        {
          "output_type": "stream",
          "name": "stderr",
          "text": [
            "feature_fraction, val_score: 0.083282:  43%|####2     | 3/7 [00:01<00:01,  2.45it/s]\u001b[32m[I 2021-12-12 02:45:44,504]\u001b[0m Trial 2 finished with value: 0.10061889839855907 and parameters: {'feature_fraction': 0.5}. Best is trial 1 with value: 0.08328249485144172.\u001b[0m\n",
            "feature_fraction, val_score: 0.083282:  43%|####2     | 3/7 [00:01<00:01,  2.45it/s]"
          ]
        },
        {
          "output_type": "stream",
          "name": "stdout",
          "text": [
            "Did not meet early stopping. Best iteration is:\n",
            "[100]\tTrain's rmse: 0.137443\tTest's rmse: 0.100619\n",
            "Training until validation scores don't improve for 50 rounds.\n"
          ]
        },
        {
          "output_type": "stream",
          "name": "stderr",
          "text": [
            "feature_fraction, val_score: 0.021773:  57%|#####7    | 4/7 [00:01<00:01,  2.27it/s]\u001b[32m[I 2021-12-12 02:45:44,989]\u001b[0m Trial 3 finished with value: 0.02177254108325357 and parameters: {'feature_fraction': 1.0}. Best is trial 3 with value: 0.02177254108325357.\u001b[0m\n",
            "feature_fraction, val_score: 0.021773:  57%|#####7    | 4/7 [00:01<00:01,  2.27it/s]"
          ]
        },
        {
          "output_type": "stream",
          "name": "stdout",
          "text": [
            "Early stopping, best iteration is:\n",
            "[43]\tTrain's rmse: 0.165773\tTest's rmse: 0.0217725\n",
            "Training until validation scores don't improve for 50 rounds.\n"
          ]
        },
        {
          "output_type": "stream",
          "name": "stderr",
          "text": [
            "feature_fraction, val_score: 0.021773:  71%|#######1  | 5/7 [00:02<00:00,  2.23it/s]\u001b[32m[I 2021-12-12 02:45:45,457]\u001b[0m Trial 4 finished with value: 0.047424802730389466 and parameters: {'feature_fraction': 0.8}. Best is trial 3 with value: 0.02177254108325357.\u001b[0m\n",
            "feature_fraction, val_score: 0.021773:  71%|#######1  | 5/7 [00:02<00:00,  2.23it/s]"
          ]
        },
        {
          "output_type": "stream",
          "name": "stdout",
          "text": [
            "Did not meet early stopping. Best iteration is:\n",
            "[100]\tTrain's rmse: 0.12607\tTest's rmse: 0.0474248\n",
            "Training until validation scores don't improve for 50 rounds.\n"
          ]
        },
        {
          "output_type": "stream",
          "name": "stderr",
          "text": [
            "feature_fraction, val_score: 0.021773:  86%|########5 | 6/7 [00:02<00:00,  2.14it/s]\u001b[32m[I 2021-12-12 02:45:45,959]\u001b[0m Trial 5 finished with value: 0.03958827496350937 and parameters: {'feature_fraction': 0.8999999999999999}. Best is trial 3 with value: 0.02177254108325357.\u001b[0m\n",
            "feature_fraction, val_score: 0.021773:  86%|########5 | 6/7 [00:02<00:00,  2.14it/s]"
          ]
        },
        {
          "output_type": "stream",
          "name": "stdout",
          "text": [
            "Did not meet early stopping. Best iteration is:\n",
            "[100]\tTrain's rmse: 0.153403\tTest's rmse: 0.0395883\n",
            "Training until validation scores don't improve for 50 rounds.\n"
          ]
        },
        {
          "output_type": "stream",
          "name": "stderr",
          "text": [
            "feature_fraction, val_score: 0.021773: 100%|##########| 7/7 [00:03<00:00,  2.18it/s]\u001b[32m[I 2021-12-12 02:45:46,395]\u001b[0m Trial 6 finished with value: 0.06638633431207216 and parameters: {'feature_fraction': 0.7}. Best is trial 3 with value: 0.02177254108325357.\u001b[0m\n",
            "feature_fraction, val_score: 0.021773: 100%|##########| 7/7 [00:03<00:00,  2.25it/s]\n"
          ]
        },
        {
          "output_type": "stream",
          "name": "stdout",
          "text": [
            "Did not meet early stopping. Best iteration is:\n",
            "[100]\tTrain's rmse: 0.132491\tTest's rmse: 0.0663863\n"
          ]
        },
        {
          "output_type": "stream",
          "name": "stderr",
          "text": [
            "num_leaves, val_score: 0.021773:   0%|          | 0/20 [00:00<?, ?it/s]"
          ]
        },
        {
          "output_type": "stream",
          "name": "stdout",
          "text": [
            "Training until validation scores don't improve for 50 rounds.\n"
          ]
        },
        {
          "output_type": "stream",
          "name": "stderr",
          "text": [
            "num_leaves, val_score: 0.021773:   5%|5         | 1/20 [00:01<00:32,  1.70s/it]\u001b[32m[I 2021-12-12 02:45:48,114]\u001b[0m Trial 7 finished with value: 0.022160602183683334 and parameters: {'num_leaves': 232}. Best is trial 7 with value: 0.022160602183683334.\u001b[0m\n",
            "num_leaves, val_score: 0.021773:   5%|5         | 1/20 [00:01<00:32,  1.70s/it]"
          ]
        },
        {
          "output_type": "stream",
          "name": "stdout",
          "text": [
            "Early stopping, best iteration is:\n",
            "[45]\tTrain's rmse: 0.165303\tTest's rmse: 0.0221606\n",
            "Training until validation scores don't improve for 50 rounds.\n"
          ]
        },
        {
          "output_type": "stream",
          "name": "stderr",
          "text": [
            "num_leaves, val_score: 0.021773:  10%|#         | 2/20 [00:03<00:28,  1.59s/it]\u001b[32m[I 2021-12-12 02:45:49,625]\u001b[0m Trial 8 finished with value: 0.022071378240390342 and parameters: {'num_leaves': 206}. Best is trial 8 with value: 0.022071378240390342.\u001b[0m\n",
            "num_leaves, val_score: 0.021773:  10%|#         | 2/20 [00:03<00:28,  1.59s/it]"
          ]
        },
        {
          "output_type": "stream",
          "name": "stdout",
          "text": [
            "Early stopping, best iteration is:\n",
            "[45]\tTrain's rmse: 0.165287\tTest's rmse: 0.0220714\n",
            "Training until validation scores don't improve for 50 rounds.\n"
          ]
        },
        {
          "output_type": "stream",
          "name": "stderr",
          "text": [
            "num_leaves, val_score: 0.021644:  15%|#5        | 3/20 [00:03<00:19,  1.14s/it]\u001b[32m[I 2021-12-12 02:45:50,223]\u001b[0m Trial 9 finished with value: 0.021644185934094985 and parameters: {'num_leaves': 43}. Best is trial 9 with value: 0.021644185934094985.\u001b[0m\n",
            "num_leaves, val_score: 0.021644:  15%|#5        | 3/20 [00:03<00:19,  1.14s/it]"
          ]
        },
        {
          "output_type": "stream",
          "name": "stdout",
          "text": [
            "Early stopping, best iteration is:\n",
            "[47]\tTrain's rmse: 0.164229\tTest's rmse: 0.0216442\n",
            "Training until validation scores don't improve for 50 rounds.\n"
          ]
        },
        {
          "output_type": "stream",
          "name": "stderr",
          "text": [
            "num_leaves, val_score: 0.021644:  20%|##        | 4/20 [00:04<00:14,  1.12it/s]\u001b[32m[I 2021-12-12 02:45:50,749]\u001b[0m Trial 10 finished with value: 0.021851436353579588 and parameters: {'num_leaves': 37}. Best is trial 9 with value: 0.021644185934094985.\u001b[0m\n",
            "num_leaves, val_score: 0.021644:  20%|##        | 4/20 [00:04<00:14,  1.12it/s]"
          ]
        },
        {
          "output_type": "stream",
          "name": "stdout",
          "text": [
            "Early stopping, best iteration is:\n",
            "[46]\tTrain's rmse: 0.166609\tTest's rmse: 0.0218514\n",
            "Training until validation scores don't improve for 50 rounds.\n"
          ]
        },
        {
          "output_type": "stream",
          "name": "stderr",
          "text": [
            "num_leaves, val_score: 0.021644:  25%|##5       | 5/20 [00:05<00:17,  1.15s/it]\u001b[32m[I 2021-12-12 02:45:52,354]\u001b[0m Trial 11 finished with value: 0.022147277564784424 and parameters: {'num_leaves': 216}. Best is trial 9 with value: 0.021644185934094985.\u001b[0m\n",
            "num_leaves, val_score: 0.021644:  25%|##5       | 5/20 [00:05<00:17,  1.15s/it]"
          ]
        },
        {
          "output_type": "stream",
          "name": "stdout",
          "text": [
            "Early stopping, best iteration is:\n",
            "[45]\tTrain's rmse: 0.165304\tTest's rmse: 0.0221473\n",
            "Training until validation scores don't improve for 50 rounds.\n"
          ]
        },
        {
          "output_type": "stream",
          "name": "stderr",
          "text": [
            "num_leaves, val_score: 0.021353:  30%|###       | 6/20 [00:06<00:11,  1.17it/s]\u001b[32m[I 2021-12-12 02:45:52,626]\u001b[0m Trial 12 finished with value: 0.021353008637956243 and parameters: {'num_leaves': 10}. Best is trial 12 with value: 0.021353008637956243.\u001b[0m\n",
            "num_leaves, val_score: 0.021353:  30%|###       | 6/20 [00:06<00:11,  1.17it/s]"
          ]
        },
        {
          "output_type": "stream",
          "name": "stdout",
          "text": [
            "Early stopping, best iteration is:\n",
            "[42]\tTrain's rmse: 0.168897\tTest's rmse: 0.021353\n",
            "Training until validation scores don't improve for 50 rounds.\n"
          ]
        },
        {
          "output_type": "stream",
          "name": "stderr",
          "text": [
            "num_leaves, val_score: 0.021353:  35%|###5      | 7/20 [00:07<00:14,  1.14s/it]\u001b[32m[I 2021-12-12 02:45:54,361]\u001b[0m Trial 13 finished with value: 0.022159563169070542 and parameters: {'num_leaves': 244}. Best is trial 12 with value: 0.021353008637956243.\u001b[0m\n",
            "num_leaves, val_score: 0.021353:  35%|###5      | 7/20 [00:07<00:14,  1.14s/it]"
          ]
        },
        {
          "output_type": "stream",
          "name": "stdout",
          "text": [
            "Early stopping, best iteration is:\n",
            "[45]\tTrain's rmse: 0.165303\tTest's rmse: 0.0221596\n",
            "Training until validation scores don't improve for 50 rounds.\n"
          ]
        },
        {
          "output_type": "stream",
          "name": "stderr",
          "text": [
            "num_leaves, val_score: 0.021353:  40%|####      | 8/20 [00:09<00:15,  1.29s/it]\u001b[32m[I 2021-12-12 02:45:55,960]\u001b[0m Trial 14 finished with value: 0.022161503491620813 and parameters: {'num_leaves': 217}. Best is trial 12 with value: 0.021353008637956243.\u001b[0m\n",
            "num_leaves, val_score: 0.021353:  40%|####      | 8/20 [00:09<00:15,  1.29s/it]"
          ]
        },
        {
          "output_type": "stream",
          "name": "stdout",
          "text": [
            "Early stopping, best iteration is:\n",
            "[45]\tTrain's rmse: 0.165304\tTest's rmse: 0.0221615\n",
            "Training until validation scores don't improve for 50 rounds.\n"
          ]
        },
        {
          "output_type": "stream",
          "name": "stderr",
          "text": [
            "num_leaves, val_score: 0.021353:  45%|####5     | 9/20 [00:10<00:14,  1.29s/it]\u001b[32m[I 2021-12-12 02:45:57,247]\u001b[0m Trial 15 finished with value: 0.022031566156415227 and parameters: {'num_leaves': 147}. Best is trial 12 with value: 0.021353008637956243.\u001b[0m\n",
            "num_leaves, val_score: 0.021353:  45%|####5     | 9/20 [00:10<00:14,  1.29s/it]"
          ]
        },
        {
          "output_type": "stream",
          "name": "stdout",
          "text": [
            "Early stopping, best iteration is:\n",
            "[47]\tTrain's rmse: 0.16419\tTest's rmse: 0.0220316\n",
            "Training until validation scores don't improve for 50 rounds.\n"
          ]
        },
        {
          "output_type": "stream",
          "name": "stderr",
          "text": [
            "num_leaves, val_score: 0.021353:  50%|#####     | 10/20 [00:11<00:12,  1.23s/it]\u001b[32m[I 2021-12-12 02:45:58,337]\u001b[0m Trial 16 finished with value: 0.03043293800188965 and parameters: {'num_leaves': 108}. Best is trial 12 with value: 0.021353008637956243.\u001b[0m\n",
            "num_leaves, val_score: 0.021353:  50%|#####     | 10/20 [00:11<00:12,  1.23s/it]"
          ]
        },
        {
          "output_type": "stream",
          "name": "stdout",
          "text": [
            "Did not meet early stopping. Best iteration is:\n",
            "[100]\tTrain's rmse: 0.147497\tTest's rmse: 0.0304329\n",
            "Training until validation scores don't improve for 50 rounds.\n"
          ]
        },
        {
          "output_type": "stream",
          "name": "stderr",
          "text": [
            "num_leaves, val_score: 0.021238:  55%|#####5    | 11/20 [00:12<00:08,  1.05it/s]\u001b[32m[I 2021-12-12 02:45:58,656]\u001b[0m Trial 17 finished with value: 0.02123761012688943 and parameters: {'num_leaves': 14}. Best is trial 17 with value: 0.02123761012688943.\u001b[0m\n",
            "num_leaves, val_score: 0.021238:  55%|#####5    | 11/20 [00:12<00:08,  1.05it/s]"
          ]
        },
        {
          "output_type": "stream",
          "name": "stdout",
          "text": [
            "Early stopping, best iteration is:\n",
            "[44]\tTrain's rmse: 0.16651\tTest's rmse: 0.0212376\n",
            "Training until validation scores don't improve for 50 rounds.\n"
          ]
        },
        {
          "output_type": "stream",
          "name": "stderr",
          "text": [
            "num_leaves, val_score: 0.021238:  60%|######    | 12/20 [00:12<00:05,  1.36it/s]\u001b[32m[I 2021-12-12 02:45:58,906]\u001b[0m Trial 18 finished with value: 0.02395617644002167 and parameters: {'num_leaves': 6}. Best is trial 17 with value: 0.02123761012688943.\u001b[0m\n",
            "num_leaves, val_score: 0.021238:  60%|######    | 12/20 [00:12<00:05,  1.36it/s]"
          ]
        },
        {
          "output_type": "stream",
          "name": "stdout",
          "text": [
            "Did not meet early stopping. Best iteration is:\n",
            "[100]\tTrain's rmse: 0.157789\tTest's rmse: 0.0239562\n",
            "Training until validation scores don't improve for 50 rounds.\n"
          ]
        },
        {
          "output_type": "stream",
          "name": "stderr",
          "text": [
            "num_leaves, val_score: 0.021238:  65%|######5   | 13/20 [00:13<00:05,  1.31it/s]\u001b[32m[I 2021-12-12 02:45:59,738]\u001b[0m Trial 19 finished with value: 0.021994020722606825 and parameters: {'num_leaves': 72}. Best is trial 17 with value: 0.02123761012688943.\u001b[0m\n",
            "num_leaves, val_score: 0.021238:  65%|######5   | 13/20 [00:13<00:05,  1.31it/s]"
          ]
        },
        {
          "output_type": "stream",
          "name": "stdout",
          "text": [
            "Early stopping, best iteration is:\n",
            "[45]\tTrain's rmse: 0.165359\tTest's rmse: 0.021994\n",
            "Training until validation scores don't improve for 50 rounds.\n"
          ]
        },
        {
          "output_type": "stream",
          "name": "stderr",
          "text": [
            "num_leaves, val_score: 0.021238:  70%|#######   | 14/20 [00:13<00:03,  1.61it/s]\u001b[32m[I 2021-12-12 02:46:00,033]\u001b[0m Trial 20 finished with value: 0.021353008637956243 and parameters: {'num_leaves': 10}. Best is trial 17 with value: 0.02123761012688943.\u001b[0m\n",
            "num_leaves, val_score: 0.021238:  70%|#######   | 14/20 [00:13<00:03,  1.61it/s]"
          ]
        },
        {
          "output_type": "stream",
          "name": "stdout",
          "text": [
            "Early stopping, best iteration is:\n",
            "[42]\tTrain's rmse: 0.168897\tTest's rmse: 0.021353\n",
            "Training until validation scores don't improve for 50 rounds.\n"
          ]
        },
        {
          "output_type": "stream",
          "name": "stderr",
          "text": [
            "num_leaves, val_score: 0.021238:  75%|#######5  | 15/20 [00:14<00:03,  1.42it/s]\u001b[32m[I 2021-12-12 02:46:00,929]\u001b[0m Trial 21 finished with value: 0.021883500715414294 and parameters: {'num_leaves': 89}. Best is trial 17 with value: 0.02123761012688943.\u001b[0m\n",
            "num_leaves, val_score: 0.021238:  75%|#######5  | 15/20 [00:14<00:03,  1.42it/s]"
          ]
        },
        {
          "output_type": "stream",
          "name": "stdout",
          "text": [
            "Early stopping, best iteration is:\n",
            "[42]\tTrain's rmse: 0.167427\tTest's rmse: 0.0218835\n",
            "Training until validation scores don't improve for 50 rounds.\n"
          ]
        },
        {
          "output_type": "stream",
          "name": "stderr",
          "text": [
            "num_leaves, val_score: 0.021238:  80%|########  | 16/20 [00:15<00:03,  1.10it/s]\u001b[32m[I 2021-12-12 02:46:02,297]\u001b[0m Trial 22 finished with value: 0.02215162428372338 and parameters: {'num_leaves': 168}. Best is trial 17 with value: 0.02123761012688943.\u001b[0m\n",
            "num_leaves, val_score: 0.021238:  80%|########  | 16/20 [00:15<00:03,  1.10it/s]"
          ]
        },
        {
          "output_type": "stream",
          "name": "stdout",
          "text": [
            "Early stopping, best iteration is:\n",
            "[43]\tTrain's rmse: 0.166137\tTest's rmse: 0.0221516\n",
            "Training until validation scores don't improve for 50 rounds.\n"
          ]
        },
        {
          "output_type": "stream",
          "name": "stderr",
          "text": [
            "num_leaves, val_score: 0.021238:  85%|########5 | 17/20 [00:16<00:02,  1.20it/s]\u001b[32m[I 2021-12-12 02:46:02,973]\u001b[0m Trial 23 finished with value: 0.027293264744248206 and parameters: {'num_leaves': 47}. Best is trial 17 with value: 0.02123761012688943.\u001b[0m\n",
            "num_leaves, val_score: 0.021238:  85%|########5 | 17/20 [00:16<00:02,  1.20it/s]"
          ]
        },
        {
          "output_type": "stream",
          "name": "stdout",
          "text": [
            "Did not meet early stopping. Best iteration is:\n",
            "[100]\tTrain's rmse: 0.150644\tTest's rmse: 0.0272933\n",
            "Training until validation scores don't improve for 50 rounds.\n"
          ]
        },
        {
          "output_type": "stream",
          "name": "stderr",
          "text": [
            "num_leaves, val_score: 0.021238:  90%|######### | 18/20 [00:17<00:01,  1.21it/s]\u001b[32m[I 2021-12-12 02:46:03,765]\u001b[0m Trial 24 finished with value: 0.022150151271895593 and parameters: {'num_leaves': 68}. Best is trial 17 with value: 0.02123761012688943.\u001b[0m\n",
            "num_leaves, val_score: 0.021238:  90%|######### | 18/20 [00:17<00:01,  1.21it/s]"
          ]
        },
        {
          "output_type": "stream",
          "name": "stdout",
          "text": [
            "Early stopping, best iteration is:\n",
            "[47]\tTrain's rmse: 0.164264\tTest's rmse: 0.0221502\n",
            "Training until validation scores don't improve for 50 rounds.\n"
          ]
        },
        {
          "output_type": "stream",
          "name": "stderr",
          "text": [
            "num_leaves, val_score: 0.021238:  95%|#########5| 19/20 [00:18<00:00,  1.13it/s]\u001b[32m[I 2021-12-12 02:46:04,788]\u001b[0m Trial 25 finished with value: 0.021933656125155736 and parameters: {'num_leaves': 115}. Best is trial 17 with value: 0.02123761012688943.\u001b[0m\n",
            "num_leaves, val_score: 0.021238:  95%|#########5| 19/20 [00:18<00:00,  1.13it/s]"
          ]
        },
        {
          "output_type": "stream",
          "name": "stdout",
          "text": [
            "Early stopping, best iteration is:\n",
            "[43]\tTrain's rmse: 0.166215\tTest's rmse: 0.0219337\n",
            "Training until validation scores don't improve for 50 rounds.\n"
          ]
        },
        {
          "output_type": "stream",
          "name": "stderr",
          "text": [
            "num_leaves, val_score: 0.021238: 100%|##########| 20/20 [00:18<00:00,  1.32it/s]\u001b[32m[I 2021-12-12 02:46:05,258]\u001b[0m Trial 26 finished with value: 0.021839823093791438 and parameters: {'num_leaves': 28}. Best is trial 17 with value: 0.02123761012688943.\u001b[0m\n",
            "num_leaves, val_score: 0.021238: 100%|##########| 20/20 [00:18<00:00,  1.06it/s]\n"
          ]
        },
        {
          "output_type": "stream",
          "name": "stdout",
          "text": [
            "Early stopping, best iteration is:\n",
            "[43]\tTrain's rmse: 0.166045\tTest's rmse: 0.0218398\n"
          ]
        },
        {
          "output_type": "stream",
          "name": "stderr",
          "text": [
            "bagging, val_score: 0.021238:   0%|          | 0/10 [00:00<?, ?it/s]"
          ]
        },
        {
          "output_type": "stream",
          "name": "stdout",
          "text": [
            "Training until validation scores don't improve for 50 rounds.\n"
          ]
        },
        {
          "output_type": "stream",
          "name": "stderr",
          "text": [
            "bagging, val_score: 0.021238:  10%|#         | 1/10 [00:00<00:03,  2.47it/s]\u001b[32m[I 2021-12-12 02:46:05,680]\u001b[0m Trial 27 finished with value: 0.028095494369447235 and parameters: {'bagging_fraction': 0.9901371157989663, 'bagging_freq': 7}. Best is trial 27 with value: 0.028095494369447235.\u001b[0m\n",
            "bagging, val_score: 0.021238:  10%|#         | 1/10 [00:00<00:03,  2.47it/s]"
          ]
        },
        {
          "output_type": "stream",
          "name": "stdout",
          "text": [
            "Did not meet early stopping. Best iteration is:\n",
            "[100]\tTrain's rmse: 0.152111\tTest's rmse: 0.0280955\n",
            "Training until validation scores don't improve for 50 rounds.\n"
          ]
        },
        {
          "output_type": "stream",
          "name": "stderr",
          "text": [
            "bagging, val_score: 0.020079:  20%|##        | 2/10 [00:00<00:02,  2.71it/s]\u001b[32m[I 2021-12-12 02:46:06,027]\u001b[0m Trial 28 finished with value: 0.020078970725572284 and parameters: {'bagging_fraction': 0.9909519065510889, 'bagging_freq': 1}. Best is trial 28 with value: 0.020078970725572284.\u001b[0m\n",
            "bagging, val_score: 0.020079:  20%|##        | 2/10 [00:00<00:02,  2.71it/s]"
          ]
        },
        {
          "output_type": "stream",
          "name": "stdout",
          "text": [
            "Early stopping, best iteration is:\n",
            "[47]\tTrain's rmse: 0.166184\tTest's rmse: 0.020079\n",
            "Training until validation scores don't improve for 50 rounds.\n"
          ]
        },
        {
          "output_type": "stream",
          "name": "stderr",
          "text": [
            "bagging, val_score: 0.020079:  30%|###       | 3/10 [00:01<00:02,  2.64it/s]\u001b[32m[I 2021-12-12 02:46:06,412]\u001b[0m Trial 29 finished with value: 0.024998551122878222 and parameters: {'bagging_fraction': 0.47377783852791505, 'bagging_freq': 7}. Best is trial 28 with value: 0.020078970725572284.\u001b[0m\n",
            "bagging, val_score: 0.020079:  30%|###       | 3/10 [00:01<00:02,  2.64it/s]"
          ]
        },
        {
          "output_type": "stream",
          "name": "stdout",
          "text": [
            "Did not meet early stopping. Best iteration is:\n",
            "[100]\tTrain's rmse: 0.186522\tTest's rmse: 0.0249986\n",
            "Training until validation scores don't improve for 50 rounds.\n"
          ]
        },
        {
          "output_type": "stream",
          "name": "stderr",
          "text": [
            "bagging, val_score: 0.020079:  40%|####      | 4/10 [00:01<00:02,  2.59it/s]\u001b[32m[I 2021-12-12 02:46:06,812]\u001b[0m Trial 30 finished with value: 0.027857556175362886 and parameters: {'bagging_fraction': 0.8524915795413481, 'bagging_freq': 2}. Best is trial 28 with value: 0.020078970725572284.\u001b[0m\n",
            "bagging, val_score: 0.020079:  40%|####      | 4/10 [00:01<00:02,  2.59it/s]"
          ]
        },
        {
          "output_type": "stream",
          "name": "stdout",
          "text": [
            "Did not meet early stopping. Best iteration is:\n",
            "[98]\tTrain's rmse: 0.169823\tTest's rmse: 0.0278576\n",
            "Training until validation scores don't improve for 50 rounds.\n"
          ]
        },
        {
          "output_type": "stream",
          "name": "stderr",
          "text": [
            "bagging, val_score: 0.020079:  50%|#####     | 5/10 [00:01<00:01,  2.52it/s]\u001b[32m[I 2021-12-12 02:46:07,233]\u001b[0m Trial 31 finished with value: 0.025068013815091397 and parameters: {'bagging_fraction': 0.9777880064396878, 'bagging_freq': 4}. Best is trial 28 with value: 0.020078970725572284.\u001b[0m\n",
            "bagging, val_score: 0.020079:  50%|#####     | 5/10 [00:01<00:01,  2.52it/s]"
          ]
        },
        {
          "output_type": "stream",
          "name": "stdout",
          "text": [
            "Did not meet early stopping. Best iteration is:\n",
            "[100]\tTrain's rmse: 0.148972\tTest's rmse: 0.025068\n",
            "Training until validation scores don't improve for 50 rounds.\n"
          ]
        },
        {
          "output_type": "stream",
          "name": "stderr",
          "text": [
            "bagging, val_score: 0.020079:  60%|######    | 6/10 [00:02<00:01,  2.52it/s]\u001b[32m[I 2021-12-12 02:46:07,629]\u001b[0m Trial 32 finished with value: 0.029984454101911574 and parameters: {'bagging_fraction': 0.4089926495468639, 'bagging_freq': 4}. Best is trial 28 with value: 0.020078970725572284.\u001b[0m\n",
            "bagging, val_score: 0.020079:  60%|######    | 6/10 [00:02<00:01,  2.52it/s]"
          ]
        },
        {
          "output_type": "stream",
          "name": "stdout",
          "text": [
            "Did not meet early stopping. Best iteration is:\n",
            "[100]\tTrain's rmse: 0.190327\tTest's rmse: 0.0299845\n",
            "Training until validation scores don't improve for 50 rounds.\n"
          ]
        },
        {
          "output_type": "stream",
          "name": "stderr",
          "text": [
            "bagging, val_score: 0.020079:  70%|#######   | 7/10 [00:02<00:01,  2.52it/s]\u001b[32m[I 2021-12-12 02:46:08,022]\u001b[0m Trial 33 finished with value: 0.028891776761600325 and parameters: {'bagging_fraction': 0.4627765371533742, 'bagging_freq': 1}. Best is trial 28 with value: 0.020078970725572284.\u001b[0m\n",
            "bagging, val_score: 0.020079:  70%|#######   | 7/10 [00:02<00:01,  2.52it/s]"
          ]
        },
        {
          "output_type": "stream",
          "name": "stdout",
          "text": [
            "Did not meet early stopping. Best iteration is:\n",
            "[100]\tTrain's rmse: 0.183012\tTest's rmse: 0.0288918\n",
            "Training until validation scores don't improve for 50 rounds.\n"
          ]
        },
        {
          "output_type": "stream",
          "name": "stderr",
          "text": [
            "bagging, val_score: 0.020079:  80%|########  | 8/10 [00:03<00:00,  2.47it/s]\u001b[32m[I 2021-12-12 02:46:08,441]\u001b[0m Trial 34 finished with value: 0.02765383741670743 and parameters: {'bagging_fraction': 0.9076544499054728, 'bagging_freq': 3}. Best is trial 28 with value: 0.020078970725572284.\u001b[0m\n",
            "bagging, val_score: 0.020079:  80%|########  | 8/10 [00:03<00:00,  2.47it/s]"
          ]
        },
        {
          "output_type": "stream",
          "name": "stdout",
          "text": [
            "Did not meet early stopping. Best iteration is:\n",
            "[100]\tTrain's rmse: 0.163777\tTest's rmse: 0.0276538\n",
            "Training until validation scores don't improve for 50 rounds.\n"
          ]
        },
        {
          "output_type": "stream",
          "name": "stderr",
          "text": [
            "bagging, val_score: 0.020079:  90%|######### | 9/10 [00:03<00:00,  2.50it/s]\u001b[32m[I 2021-12-12 02:46:08,837]\u001b[0m Trial 35 finished with value: 0.025992885642097452 and parameters: {'bagging_fraction': 0.724048342772503, 'bagging_freq': 4}. Best is trial 28 with value: 0.020078970725572284.\u001b[0m\n",
            "bagging, val_score: 0.020079:  90%|######### | 9/10 [00:03<00:00,  2.50it/s]"
          ]
        },
        {
          "output_type": "stream",
          "name": "stdout",
          "text": [
            "Did not meet early stopping. Best iteration is:\n",
            "[100]\tTrain's rmse: 0.176258\tTest's rmse: 0.0259929\n",
            "Training until validation scores don't improve for 50 rounds.\n"
          ]
        },
        {
          "output_type": "stream",
          "name": "stderr",
          "text": [
            "bagging, val_score: 0.020079: 100%|##########| 10/10 [00:03<00:00,  2.56it/s]\u001b[32m[I 2021-12-12 02:46:09,206]\u001b[0m Trial 36 finished with value: 0.028791463401056382 and parameters: {'bagging_fraction': 0.41741250874526703, 'bagging_freq': 6}. Best is trial 28 with value: 0.020078970725572284.\u001b[0m\n",
            "bagging, val_score: 0.020079: 100%|##########| 10/10 [00:03<00:00,  2.53it/s]\n"
          ]
        },
        {
          "output_type": "stream",
          "name": "stdout",
          "text": [
            "Did not meet early stopping. Best iteration is:\n",
            "[100]\tTrain's rmse: 0.179807\tTest's rmse: 0.0287915\n"
          ]
        },
        {
          "output_type": "stream",
          "name": "stderr",
          "text": [
            "feature_fraction_stage2, val_score: 0.020079:   0%|          | 0/3 [00:00<?, ?it/s]"
          ]
        },
        {
          "output_type": "stream",
          "name": "stdout",
          "text": [
            "Training until validation scores don't improve for 50 rounds.\n"
          ]
        },
        {
          "output_type": "stream",
          "name": "stderr",
          "text": [
            "feature_fraction_stage2, val_score: 0.020079:  33%|###3      | 1/3 [00:00<00:00,  2.67it/s]\u001b[32m[I 2021-12-12 02:46:09,613]\u001b[0m Trial 37 finished with value: 0.031653201726009106 and parameters: {'feature_fraction': 0.92}. Best is trial 37 with value: 0.031653201726009106.\u001b[0m\n",
            "feature_fraction_stage2, val_score: 0.020079:  33%|###3      | 1/3 [00:00<00:00,  2.67it/s]"
          ]
        },
        {
          "output_type": "stream",
          "name": "stdout",
          "text": [
            "Did not meet early stopping. Best iteration is:\n",
            "[100]\tTrain's rmse: 0.155766\tTest's rmse: 0.0316532\n",
            "Training until validation scores don't improve for 50 rounds.\n"
          ]
        },
        {
          "output_type": "stream",
          "name": "stderr",
          "text": [
            "feature_fraction_stage2, val_score: 0.020079:  67%|######6   | 2/3 [00:00<00:00,  2.68it/s]\u001b[32m[I 2021-12-12 02:46:09,985]\u001b[0m Trial 38 finished with value: 0.030452479652166378 and parameters: {'feature_fraction': 0.9840000000000001}. Best is trial 38 with value: 0.030452479652166378.\u001b[0m\n",
            "feature_fraction_stage2, val_score: 0.020079:  67%|######6   | 2/3 [00:00<00:00,  2.68it/s]"
          ]
        },
        {
          "output_type": "stream",
          "name": "stdout",
          "text": [
            "Did not meet early stopping. Best iteration is:\n",
            "[100]\tTrain's rmse: 0.151913\tTest's rmse: 0.0304525\n",
            "Training until validation scores don't improve for 50 rounds.\n"
          ]
        },
        {
          "output_type": "stream",
          "name": "stderr",
          "text": [
            "feature_fraction_stage2, val_score: 0.020079: 100%|##########| 3/3 [00:01<00:00,  2.70it/s]\u001b[32m[I 2021-12-12 02:46:10,355]\u001b[0m Trial 39 finished with value: 0.030452479652166378 and parameters: {'feature_fraction': 0.9520000000000001}. Best is trial 38 with value: 0.030452479652166378.\u001b[0m\n",
            "feature_fraction_stage2, val_score: 0.020079: 100%|##########| 3/3 [00:01<00:00,  2.66it/s]\n"
          ]
        },
        {
          "output_type": "stream",
          "name": "stdout",
          "text": [
            "Did not meet early stopping. Best iteration is:\n",
            "[100]\tTrain's rmse: 0.151913\tTest's rmse: 0.0304525\n"
          ]
        },
        {
          "output_type": "stream",
          "name": "stderr",
          "text": [
            "regularization_factors, val_score: 0.020079:   0%|          | 0/20 [00:00<?, ?it/s]"
          ]
        },
        {
          "output_type": "stream",
          "name": "stdout",
          "text": [
            "Training until validation scores don't improve for 50 rounds.\n"
          ]
        },
        {
          "output_type": "stream",
          "name": "stderr",
          "text": [
            "regularization_factors, val_score: 0.020079:   5%|5         | 1/20 [00:00<00:06,  2.84it/s]\u001b[32m[I 2021-12-12 02:46:10,734]\u001b[0m Trial 40 finished with value: 0.024857286588639543 and parameters: {'lambda_l1': 5.344937589519263e-05, 'lambda_l2': 9.085085742585377}. Best is trial 40 with value: 0.024857286588639543.\u001b[0m\n",
            "regularization_factors, val_score: 0.020079:   5%|5         | 1/20 [00:00<00:06,  2.84it/s]"
          ]
        },
        {
          "output_type": "stream",
          "name": "stdout",
          "text": [
            "Did not meet early stopping. Best iteration is:\n",
            "[100]\tTrain's rmse: 0.159019\tTest's rmse: 0.0248573\n",
            "Training until validation scores don't improve for 50 rounds.\n"
          ]
        },
        {
          "output_type": "stream",
          "name": "stderr",
          "text": [
            "regularization_factors, val_score: 0.019712:  10%|#         | 2/20 [00:00<00:06,  2.84it/s]\u001b[32m[I 2021-12-12 02:46:11,087]\u001b[0m Trial 41 finished with value: 0.019712232713848962 and parameters: {'lambda_l1': 0.030916765035975242, 'lambda_l2': 1.931322463057573e-05}. Best is trial 41 with value: 0.019712232713848962.\u001b[0m\n",
            "regularization_factors, val_score: 0.019712:  10%|#         | 2/20 [00:00<00:06,  2.84it/s]"
          ]
        },
        {
          "output_type": "stream",
          "name": "stdout",
          "text": [
            "Early stopping, best iteration is:\n",
            "[47]\tTrain's rmse: 0.166977\tTest's rmse: 0.0197122\n",
            "Training until validation scores don't improve for 50 rounds.\n"
          ]
        },
        {
          "output_type": "stream",
          "name": "stderr",
          "text": [
            "regularization_factors, val_score: 0.019712:  15%|#5        | 3/20 [00:01<00:06,  2.83it/s]\u001b[32m[I 2021-12-12 02:46:11,450]\u001b[0m Trial 42 finished with value: 0.020079845866155497 and parameters: {'lambda_l1': 0.003936349366350129, 'lambda_l2': 0.00021409220999284216}. Best is trial 41 with value: 0.019712232713848962.\u001b[0m\n",
            "regularization_factors, val_score: 0.019712:  15%|#5        | 3/20 [00:01<00:06,  2.83it/s]"
          ]
        },
        {
          "output_type": "stream",
          "name": "stdout",
          "text": [
            "Early stopping, best iteration is:\n",
            "[47]\tTrain's rmse: 0.166189\tTest's rmse: 0.0200798\n",
            "Training until validation scores don't improve for 50 rounds.\n"
          ]
        },
        {
          "output_type": "stream",
          "name": "stderr",
          "text": [
            "regularization_factors, val_score: 0.019712:  20%|##        | 4/20 [00:01<00:05,  2.87it/s]\u001b[32m[I 2021-12-12 02:46:11,786]\u001b[0m Trial 43 finished with value: 0.02007897068957268 and parameters: {'lambda_l1': 1.9319682195683935e-07, 'lambda_l2': 6.299197925650691e-07}. Best is trial 41 with value: 0.019712232713848962.\u001b[0m\n",
            "regularization_factors, val_score: 0.019712:  20%|##        | 4/20 [00:01<00:05,  2.87it/s]"
          ]
        },
        {
          "output_type": "stream",
          "name": "stdout",
          "text": [
            "Early stopping, best iteration is:\n",
            "[47]\tTrain's rmse: 0.166184\tTest's rmse: 0.020079\n",
            "Training until validation scores don't improve for 50 rounds.\n"
          ]
        },
        {
          "output_type": "stream",
          "name": "stderr",
          "text": [
            "regularization_factors, val_score: 0.019712:  25%|##5       | 5/20 [00:01<00:05,  2.91it/s]\u001b[32m[I 2021-12-12 02:46:12,119]\u001b[0m Trial 44 finished with value: 0.023087005453710147 and parameters: {'lambda_l1': 2.62260930573964, 'lambda_l2': 1.0283964730095385e-05}. Best is trial 41 with value: 0.019712232713848962.\u001b[0m\n",
            "regularization_factors, val_score: 0.019712:  25%|##5       | 5/20 [00:01<00:05,  2.91it/s]"
          ]
        },
        {
          "output_type": "stream",
          "name": "stdout",
          "text": [
            "Did not meet early stopping. Best iteration is:\n",
            "[100]\tTrain's rmse: 0.144553\tTest's rmse: 0.023087\n",
            "Training until validation scores don't improve for 50 rounds.\n"
          ]
        },
        {
          "output_type": "stream",
          "name": "stderr",
          "text": [
            "regularization_factors, val_score: 0.019712:  30%|###       | 6/20 [00:02<00:04,  2.90it/s]\u001b[32m[I 2021-12-12 02:46:12,466]\u001b[0m Trial 45 finished with value: 0.020078970760822466 and parameters: {'lambda_l1': 7.948365666588416e-08, 'lambda_l2': 1.1405387635435352e-08}. Best is trial 41 with value: 0.019712232713848962.\u001b[0m\n",
            "regularization_factors, val_score: 0.019712:  30%|###       | 6/20 [00:02<00:04,  2.90it/s]"
          ]
        },
        {
          "output_type": "stream",
          "name": "stdout",
          "text": [
            "Early stopping, best iteration is:\n",
            "[47]\tTrain's rmse: 0.166184\tTest's rmse: 0.020079\n",
            "Training until validation scores don't improve for 50 rounds.\n"
          ]
        },
        {
          "output_type": "stream",
          "name": "stderr",
          "text": [
            "regularization_factors, val_score: 0.019712:  35%|###5      | 7/20 [00:02<00:04,  2.88it/s]\u001b[32m[I 2021-12-12 02:46:12,818]\u001b[0m Trial 46 finished with value: 0.02007895325539191 and parameters: {'lambda_l1': 1.3109423538506769e-08, 'lambda_l2': 0.00016101243447527415}. Best is trial 41 with value: 0.019712232713848962.\u001b[0m\n",
            "regularization_factors, val_score: 0.019712:  35%|###5      | 7/20 [00:02<00:04,  2.88it/s]"
          ]
        },
        {
          "output_type": "stream",
          "name": "stdout",
          "text": [
            "Early stopping, best iteration is:\n",
            "[47]\tTrain's rmse: 0.166184\tTest's rmse: 0.020079\n",
            "Training until validation scores don't improve for 50 rounds.\n"
          ]
        },
        {
          "output_type": "stream",
          "name": "stderr",
          "text": [
            "regularization_factors, val_score: 0.019712:  40%|####      | 8/20 [00:02<00:04,  2.89it/s]\u001b[32m[I 2021-12-12 02:46:13,160]\u001b[0m Trial 47 finished with value: 0.020875398880421666 and parameters: {'lambda_l1': 0.1806733856230749, 'lambda_l2': 0.005631256720814517}. Best is trial 41 with value: 0.019712232713848962.\u001b[0m\n",
            "regularization_factors, val_score: 0.019712:  40%|####      | 8/20 [00:02<00:04,  2.89it/s]"
          ]
        },
        {
          "output_type": "stream",
          "name": "stdout",
          "text": [
            "Early stopping, best iteration is:\n",
            "[49]\tTrain's rmse: 0.163832\tTest's rmse: 0.0208754\n",
            "Training until validation scores don't improve for 50 rounds.\n"
          ]
        },
        {
          "output_type": "stream",
          "name": "stderr",
          "text": [
            "regularization_factors, val_score: 0.019712:  45%|####5     | 9/20 [00:03<00:03,  2.92it/s]\u001b[32m[I 2021-12-12 02:46:13,498]\u001b[0m Trial 48 finished with value: 0.020066312842208816 and parameters: {'lambda_l1': 0.03887797874340381, 'lambda_l2': 1.085281344693818e-05}. Best is trial 41 with value: 0.019712232713848962.\u001b[0m\n",
            "regularization_factors, val_score: 0.019712:  45%|####5     | 9/20 [00:03<00:03,  2.92it/s]"
          ]
        },
        {
          "output_type": "stream",
          "name": "stdout",
          "text": [
            "Early stopping, best iteration is:\n",
            "[49]\tTrain's rmse: 0.166227\tTest's rmse: 0.0200663\n",
            "Training until validation scores don't improve for 50 rounds.\n"
          ]
        },
        {
          "output_type": "stream",
          "name": "stderr",
          "text": [
            "regularization_factors, val_score: 0.019712:  50%|#####     | 10/20 [00:03<00:03,  2.89it/s]\u001b[32m[I 2021-12-12 02:46:13,855]\u001b[0m Trial 49 finished with value: 0.02007896887262831 and parameters: {'lambda_l1': 4.341341248197017e-06, 'lambda_l2': 2.657052481272594e-05}. Best is trial 41 with value: 0.019712232713848962.\u001b[0m\n",
            "regularization_factors, val_score: 0.019712:  50%|#####     | 10/20 [00:03<00:03,  2.89it/s]"
          ]
        },
        {
          "output_type": "stream",
          "name": "stdout",
          "text": [
            "Early stopping, best iteration is:\n",
            "[47]\tTrain's rmse: 0.166184\tTest's rmse: 0.020079\n",
            "Training until validation scores don't improve for 50 rounds.\n"
          ]
        },
        {
          "output_type": "stream",
          "name": "stderr",
          "text": [
            "regularization_factors, val_score: 0.019712:  55%|#####5    | 11/20 [00:03<00:03,  2.87it/s]\u001b[32m[I 2021-12-12 02:46:14,211]\u001b[0m Trial 50 finished with value: 0.020954193800782204 and parameters: {'lambda_l1': 0.0006650826584350153, 'lambda_l2': 0.021307139658562013}. Best is trial 41 with value: 0.019712232713848962.\u001b[0m\n",
            "regularization_factors, val_score: 0.019712:  55%|#####5    | 11/20 [00:03<00:03,  2.87it/s]"
          ]
        },
        {
          "output_type": "stream",
          "name": "stdout",
          "text": [
            "Early stopping, best iteration is:\n",
            "[48]\tTrain's rmse: 0.166332\tTest's rmse: 0.0209542\n",
            "Training until validation scores don't improve for 50 rounds.\n"
          ]
        },
        {
          "output_type": "stream",
          "name": "stderr",
          "text": [
            "regularization_factors, val_score: 0.019712:  60%|######    | 12/20 [00:04<00:02,  2.87it/s]\u001b[32m[I 2021-12-12 02:46:14,555]\u001b[0m Trial 51 finished with value: 0.019712339620677748 and parameters: {'lambda_l1': 0.034907219403890126, 'lambda_l2': 2.676277456696581e-07}. Best is trial 41 with value: 0.019712232713848962.\u001b[0m\n",
            "regularization_factors, val_score: 0.019712:  60%|######    | 12/20 [00:04<00:02,  2.87it/s]"
          ]
        },
        {
          "output_type": "stream",
          "name": "stdout",
          "text": [
            "Early stopping, best iteration is:\n",
            "[47]\tTrain's rmse: 0.166983\tTest's rmse: 0.0197123\n",
            "Training until validation scores don't improve for 50 rounds.\n"
          ]
        },
        {
          "output_type": "stream",
          "name": "stderr",
          "text": [
            "regularization_factors, val_score: 0.019712:  65%|######5   | 13/20 [00:04<00:02,  2.93it/s]\u001b[32m[I 2021-12-12 02:46:14,879]\u001b[0m Trial 52 finished with value: 0.02719038929369436 and parameters: {'lambda_l1': 9.390741350244685, 'lambda_l2': 6.967581068004623e-08}. Best is trial 41 with value: 0.019712232713848962.\u001b[0m\n",
            "regularization_factors, val_score: 0.019712:  65%|######5   | 13/20 [00:04<00:02,  2.93it/s]"
          ]
        },
        {
          "output_type": "stream",
          "name": "stdout",
          "text": [
            "Did not meet early stopping. Best iteration is:\n",
            "[100]\tTrain's rmse: 0.152675\tTest's rmse: 0.0271904\n",
            "Training until validation scores don't improve for 50 rounds.\n"
          ]
        },
        {
          "output_type": "stream",
          "name": "stderr",
          "text": [
            "regularization_factors, val_score: 0.019712:  70%|#######   | 14/20 [00:04<00:02,  2.89it/s]\u001b[32m[I 2021-12-12 02:46:15,237]\u001b[0m Trial 53 finished with value: 0.02004726251319817 and parameters: {'lambda_l1': 0.046752798245172415, 'lambda_l2': 5.109930750026465e-07}. Best is trial 41 with value: 0.019712232713848962.\u001b[0m\n",
            "regularization_factors, val_score: 0.019712:  70%|#######   | 14/20 [00:04<00:02,  2.89it/s]"
          ]
        },
        {
          "output_type": "stream",
          "name": "stdout",
          "text": [
            "Early stopping, best iteration is:\n",
            "[49]\tTrain's rmse: 0.166244\tTest's rmse: 0.0200473\n",
            "Training until validation scores don't improve for 50 rounds.\n"
          ]
        },
        {
          "output_type": "stream",
          "name": "stderr",
          "text": [
            "regularization_factors, val_score: 0.019712:  75%|#######5  | 15/20 [00:05<00:01,  2.89it/s]\u001b[32m[I 2021-12-12 02:46:15,579]\u001b[0m Trial 54 finished with value: 0.020079662786114814 and parameters: {'lambda_l1': 0.0030347331391228456, 'lambda_l2': 3.8555283918487075e-07}. Best is trial 41 with value: 0.019712232713848962.\u001b[0m\n",
            "regularization_factors, val_score: 0.019712:  75%|#######5  | 15/20 [00:05<00:01,  2.89it/s]"
          ]
        },
        {
          "output_type": "stream",
          "name": "stdout",
          "text": [
            "Early stopping, best iteration is:\n",
            "[47]\tTrain's rmse: 0.166188\tTest's rmse: 0.0200797\n",
            "Training until validation scores don't improve for 50 rounds.\n"
          ]
        },
        {
          "output_type": "stream",
          "name": "stderr",
          "text": [
            "regularization_factors, val_score: 0.019712:  80%|########  | 16/20 [00:05<00:01,  2.91it/s]\u001b[32m[I 2021-12-12 02:46:15,919]\u001b[0m Trial 55 finished with value: 0.027474197255884777 and parameters: {'lambda_l1': 0.37902441061547804, 'lambda_l2': 0.0065056029776145744}. Best is trial 41 with value: 0.019712232713848962.\u001b[0m\n",
            "regularization_factors, val_score: 0.019712:  80%|########  | 16/20 [00:05<00:01,  2.91it/s]"
          ]
        },
        {
          "output_type": "stream",
          "name": "stdout",
          "text": [
            "Did not meet early stopping. Best iteration is:\n",
            "[100]\tTrain's rmse: 0.14856\tTest's rmse: 0.0274742\n",
            "Training until validation scores don't improve for 50 rounds.\n"
          ]
        },
        {
          "output_type": "stream",
          "name": "stderr",
          "text": [
            "regularization_factors, val_score: 0.019712:  85%|########5 | 17/20 [00:05<00:01,  2.86it/s]\u001b[32m[I 2021-12-12 02:46:16,280]\u001b[0m Trial 56 finished with value: 0.020078995109709293 and parameters: {'lambda_l1': 0.00010932075496188345, 'lambda_l2': 4.30831858315743e-06}. Best is trial 41 with value: 0.019712232713848962.\u001b[0m\n",
            "regularization_factors, val_score: 0.019712:  85%|########5 | 17/20 [00:05<00:01,  2.86it/s]"
          ]
        },
        {
          "output_type": "stream",
          "name": "stdout",
          "text": [
            "Early stopping, best iteration is:\n",
            "[47]\tTrain's rmse: 0.166184\tTest's rmse: 0.020079\n",
            "Training until validation scores don't improve for 50 rounds.\n"
          ]
        },
        {
          "output_type": "stream",
          "name": "stderr",
          "text": [
            "regularization_factors, val_score: 0.019712:  90%|######### | 18/20 [00:06<00:00,  2.87it/s]\u001b[32m[I 2021-12-12 02:46:16,630]\u001b[0m Trial 57 finished with value: 0.028615190844061847 and parameters: {'lambda_l1': 0.011806148662009214, 'lambda_l2': 1.479899048936346e-08}. Best is trial 41 with value: 0.019712232713848962.\u001b[0m\n",
            "regularization_factors, val_score: 0.019712:  90%|######### | 18/20 [00:06<00:00,  2.87it/s]"
          ]
        },
        {
          "output_type": "stream",
          "name": "stdout",
          "text": [
            "Did not meet early stopping. Best iteration is:\n",
            "[100]\tTrain's rmse: 0.150041\tTest's rmse: 0.0286152\n",
            "Training until validation scores don't improve for 50 rounds.\n"
          ]
        },
        {
          "output_type": "stream",
          "name": "stderr",
          "text": [
            "regularization_factors, val_score: 0.019712:  95%|#########5| 19/20 [00:06<00:00,  2.80it/s]\u001b[32m[I 2021-12-12 02:46:17,006]\u001b[0m Trial 58 finished with value: 0.025651869697901796 and parameters: {'lambda_l1': 0.6279765637273819, 'lambda_l2': 0.3659150842989296}. Best is trial 41 with value: 0.019712232713848962.\u001b[0m\n",
            "regularization_factors, val_score: 0.019712:  95%|#########5| 19/20 [00:06<00:00,  2.80it/s]"
          ]
        },
        {
          "output_type": "stream",
          "name": "stdout",
          "text": [
            "Did not meet early stopping. Best iteration is:\n",
            "[100]\tTrain's rmse: 0.144139\tTest's rmse: 0.0256519\n",
            "Training until validation scores don't improve for 50 rounds.\n"
          ]
        },
        {
          "output_type": "stream",
          "name": "stderr",
          "text": [
            "regularization_factors, val_score: 0.019712: 100%|##########| 20/20 [00:06<00:00,  2.83it/s]\u001b[32m[I 2021-12-12 02:46:17,355]\u001b[0m Trial 59 finished with value: 0.02007897334534949 and parameters: {'lambda_l1': 1.2358736059921263e-05, 'lambda_l2': 2.2568033468610126e-06}. Best is trial 41 with value: 0.019712232713848962.\u001b[0m\n",
            "regularization_factors, val_score: 0.019712: 100%|##########| 20/20 [00:06<00:00,  2.87it/s]\n"
          ]
        },
        {
          "output_type": "stream",
          "name": "stdout",
          "text": [
            "Early stopping, best iteration is:\n",
            "[47]\tTrain's rmse: 0.166184\tTest's rmse: 0.020079\n"
          ]
        },
        {
          "output_type": "stream",
          "name": "stderr",
          "text": [
            "min_data_in_leaf, val_score: 0.019712:   0%|          | 0/5 [00:00<?, ?it/s]"
          ]
        },
        {
          "output_type": "stream",
          "name": "stdout",
          "text": [
            "Training until validation scores don't improve for 50 rounds.\n"
          ]
        },
        {
          "output_type": "stream",
          "name": "stderr",
          "text": [
            "min_data_in_leaf, val_score: 0.019712:  20%|##        | 1/5 [00:00<00:01,  2.71it/s]\u001b[32m[I 2021-12-12 02:46:17,741]\u001b[0m Trial 60 finished with value: 0.026233830703431504 and parameters: {'min_child_samples': 10}. Best is trial 60 with value: 0.026233830703431504.\u001b[0m\n",
            "min_data_in_leaf, val_score: 0.019712:  20%|##        | 1/5 [00:00<00:01,  2.71it/s]"
          ]
        },
        {
          "output_type": "stream",
          "name": "stdout",
          "text": [
            "Early stopping, best iteration is:\n",
            "[41]\tTrain's rmse: 0.115197\tTest's rmse: 0.0262338\n",
            "Training until validation scores don't improve for 50 rounds.\n"
          ]
        },
        {
          "output_type": "stream",
          "name": "stderr",
          "text": [
            "min_data_in_leaf, val_score: 0.019712:  40%|####      | 2/5 [00:00<00:01,  2.87it/s]\u001b[32m[I 2021-12-12 02:46:18,077]\u001b[0m Trial 61 finished with value: 0.05542601287857018 and parameters: {'min_child_samples': 50}. Best is trial 60 with value: 0.026233830703431504.\u001b[0m\n",
            "min_data_in_leaf, val_score: 0.019712:  40%|####      | 2/5 [00:00<00:01,  2.87it/s]"
          ]
        },
        {
          "output_type": "stream",
          "name": "stdout",
          "text": [
            "Early stopping, best iteration is:\n",
            "[41]\tTrain's rmse: 0.256282\tTest's rmse: 0.055426\n",
            "Training until validation scores don't improve for 50 rounds.\n"
          ]
        },
        {
          "output_type": "stream",
          "name": "stderr",
          "text": [
            "min_data_in_leaf, val_score: 0.019712:  60%|######    | 3/5 [00:01<00:00,  2.82it/s]\u001b[32m[I 2021-12-12 02:46:18,443]\u001b[0m Trial 62 finished with value: 0.0843530503918933 and parameters: {'min_child_samples': 100}. Best is trial 60 with value: 0.026233830703431504.\u001b[0m\n",
            "min_data_in_leaf, val_score: 0.019712:  60%|######    | 3/5 [00:01<00:00,  2.82it/s]"
          ]
        },
        {
          "output_type": "stream",
          "name": "stdout",
          "text": [
            "Did not meet early stopping. Best iteration is:\n",
            "[100]\tTrain's rmse: 0.292222\tTest's rmse: 0.0843531\n",
            "Training until validation scores don't improve for 50 rounds.\n"
          ]
        },
        {
          "output_type": "stream",
          "name": "stderr",
          "text": [
            "min_data_in_leaf, val_score: 0.019712:  80%|########  | 4/5 [00:01<00:00,  2.90it/s]\u001b[32m[I 2021-12-12 02:46:18,768]\u001b[0m Trial 63 finished with value: 0.023671473566511423 and parameters: {'min_child_samples': 5}. Best is trial 63 with value: 0.023671473566511423.\u001b[0m\n",
            "min_data_in_leaf, val_score: 0.019712:  80%|########  | 4/5 [00:01<00:00,  2.90it/s]"
          ]
        },
        {
          "output_type": "stream",
          "name": "stdout",
          "text": [
            "Early stopping, best iteration is:\n",
            "[47]\tTrain's rmse: 0.0511655\tTest's rmse: 0.0236715\n",
            "Training until validation scores don't improve for 50 rounds.\n"
          ]
        },
        {
          "output_type": "stream",
          "name": "stderr",
          "text": [
            "min_data_in_leaf, val_score: 0.019712: 100%|##########| 5/5 [00:01<00:00,  2.89it/s]\u001b[32m[I 2021-12-12 02:46:19,122]\u001b[0m Trial 64 finished with value: 0.027359139471837757 and parameters: {'min_child_samples': 25}. Best is trial 63 with value: 0.023671473566511423.\u001b[0m\n",
            "min_data_in_leaf, val_score: 0.019712: 100%|##########| 5/5 [00:01<00:00,  2.84it/s]"
          ]
        },
        {
          "output_type": "stream",
          "name": "stdout",
          "text": [
            "Early stopping, best iteration is:\n",
            "[44]\tTrain's rmse: 0.175037\tTest's rmse: 0.0273591\n"
          ]
        },
        {
          "output_type": "stream",
          "name": "stderr",
          "text": [
            "\n"
          ]
        },
        {
          "output_type": "display_data",
          "data": {
            "image/png": "[encoded data removed]",
            "text/plain": [
              "<Figure size 432x288 with 1 Axes>"
            ]
          },
          "metadata": {
            "needs_background": "light"
          }
        },
        {
          "output_type": "stream",
          "name": "stderr",
          "text": [
            "\u001b[32m[I 2021-12-12 02:46:19,370]\u001b[0m A new study created in memory with name: no-name-17699522-2f52-4865-a948-4dae1d8c1762\u001b[0m\n",
            "feature_fraction, val_score: inf:   0%|          | 0/7 [00:00<?, ?it/s]"
          ]
        },
        {
          "output_type": "stream",
          "name": "stdout",
          "text": [
            "Training until validation scores don't improve for 50 rounds.\n"
          ]
        },
        {
          "output_type": "stream",
          "name": "stderr",
          "text": [
            "feature_fraction, val_score: 0.388546:  14%|#4        | 1/7 [00:00<00:02,  2.07it/s]\u001b[32m[I 2021-12-12 02:46:19,873]\u001b[0m Trial 0 finished with value: 0.38854610452293914 and parameters: {'feature_fraction': 0.8}. Best is trial 0 with value: 0.38854610452293914.\u001b[0m\n",
            "feature_fraction, val_score: 0.388546:  14%|#4        | 1/7 [00:00<00:02,  2.07it/s]"
          ]
        },
        {
          "output_type": "stream",
          "name": "stdout",
          "text": [
            "Early stopping, best iteration is:\n",
            "[48]\tTrain's rmse: 0.15319\tTest's rmse: 0.388546\n",
            "Training until validation scores don't improve for 50 rounds.\n"
          ]
        },
        {
          "output_type": "stream",
          "name": "stderr",
          "text": [
            "feature_fraction, val_score: 0.373033:  29%|##8       | 2/7 [00:00<00:02,  2.14it/s]\u001b[32m[I 2021-12-12 02:46:20,330]\u001b[0m Trial 1 finished with value: 0.37303280377763515 and parameters: {'feature_fraction': 1.0}. Best is trial 1 with value: 0.37303280377763515.\u001b[0m\n",
            "feature_fraction, val_score: 0.373033:  29%|##8       | 2/7 [00:00<00:02,  2.14it/s]"
          ]
        },
        {
          "output_type": "stream",
          "name": "stdout",
          "text": [
            "Early stopping, best iteration is:\n",
            "[32]\tTrain's rmse: 0.15906\tTest's rmse: 0.373033\n",
            "Training until validation scores don't improve for 50 rounds.\n"
          ]
        },
        {
          "output_type": "stream",
          "name": "stderr",
          "text": [
            "feature_fraction, val_score: 0.373033:  43%|####2     | 3/7 [00:01<00:01,  2.26it/s]\u001b[32m[I 2021-12-12 02:46:20,750]\u001b[0m Trial 2 finished with value: 0.41325813010412743 and parameters: {'feature_fraction': 0.5}. Best is trial 1 with value: 0.37303280377763515.\u001b[0m\n",
            "feature_fraction, val_score: 0.373033:  43%|####2     | 3/7 [00:01<00:01,  2.26it/s]"
          ]
        },
        {
          "output_type": "stream",
          "name": "stdout",
          "text": [
            "Did not meet early stopping. Best iteration is:\n",
            "[100]\tTrain's rmse: 0.121666\tTest's rmse: 0.413258\n",
            "Training until validation scores don't improve for 50 rounds.\n"
          ]
        },
        {
          "output_type": "stream",
          "name": "stderr",
          "text": [
            "feature_fraction, val_score: 0.373033:  57%|#####7    | 4/7 [00:01<00:01,  2.21it/s]\u001b[32m[I 2021-12-12 02:46:21,218]\u001b[0m Trial 3 finished with value: 0.407667454479844 and parameters: {'feature_fraction': 0.6}. Best is trial 1 with value: 0.37303280377763515.\u001b[0m\n",
            "feature_fraction, val_score: 0.373033:  57%|#####7    | 4/7 [00:01<00:01,  2.21it/s]"
          ]
        },
        {
          "output_type": "stream",
          "name": "stdout",
          "text": [
            "Did not meet early stopping. Best iteration is:\n",
            "[100]\tTrain's rmse: 0.119068\tTest's rmse: 0.407667\n",
            "Training until validation scores don't improve for 50 rounds.\n"
          ]
        },
        {
          "output_type": "stream",
          "name": "stderr",
          "text": [
            "feature_fraction, val_score: 0.373033:  71%|#######1  | 5/7 [00:02<00:00,  2.20it/s]\u001b[32m[I 2021-12-12 02:46:21,679]\u001b[0m Trial 4 finished with value: 0.39792690629008476 and parameters: {'feature_fraction': 0.7}. Best is trial 1 with value: 0.37303280377763515.\u001b[0m\n",
            "feature_fraction, val_score: 0.373033:  71%|#######1  | 5/7 [00:02<00:00,  2.20it/s]"
          ]
        },
        {
          "output_type": "stream",
          "name": "stdout",
          "text": [
            "Did not meet early stopping. Best iteration is:\n",
            "[100]\tTrain's rmse: 0.119956\tTest's rmse: 0.397927\n",
            "Training until validation scores don't improve for 50 rounds.\n"
          ]
        },
        {
          "output_type": "stream",
          "name": "stderr",
          "text": [
            "feature_fraction, val_score: 0.373033:  86%|########5 | 6/7 [00:02<00:00,  2.14it/s]\u001b[32m[I 2021-12-12 02:46:22,165]\u001b[0m Trial 5 finished with value: 0.38020058278906177 and parameters: {'feature_fraction': 0.8999999999999999}. Best is trial 1 with value: 0.37303280377763515.\u001b[0m\n",
            "feature_fraction, val_score: 0.373033:  86%|########5 | 6/7 [00:02<00:00,  2.14it/s]"
          ]
        },
        {
          "output_type": "stream",
          "name": "stdout",
          "text": [
            "Early stopping, best iteration is:\n",
            "[36]\tTrain's rmse: 0.157903\tTest's rmse: 0.380201\n",
            "Training until validation scores don't improve for 50 rounds.\n"
          ]
        },
        {
          "output_type": "stream",
          "name": "stderr",
          "text": [
            "feature_fraction, val_score: 0.373033: 100%|##########| 7/7 [00:03<00:00,  2.27it/s]\u001b[32m[I 2021-12-12 02:46:22,556]\u001b[0m Trial 6 finished with value: 0.41194801855330004 and parameters: {'feature_fraction': 0.4}. Best is trial 1 with value: 0.37303280377763515.\u001b[0m\n",
            "feature_fraction, val_score: 0.373033: 100%|##########| 7/7 [00:03<00:00,  2.20it/s]\n"
          ]
        },
        {
          "output_type": "stream",
          "name": "stdout",
          "text": [
            "Did not meet early stopping. Best iteration is:\n",
            "[100]\tTrain's rmse: 0.127532\tTest's rmse: 0.411948\n"
          ]
        },
        {
          "output_type": "stream",
          "name": "stderr",
          "text": [
            "num_leaves, val_score: 0.373033:   0%|          | 0/20 [00:00<?, ?it/s]"
          ]
        },
        {
          "output_type": "stream",
          "name": "stdout",
          "text": [
            "Training until validation scores don't improve for 50 rounds.\n"
          ]
        },
        {
          "output_type": "stream",
          "name": "stderr",
          "text": [
            "num_leaves, val_score: 0.373033:   5%|5         | 1/20 [00:01<00:27,  1.43s/it]\u001b[32m[I 2021-12-12 02:46:24,022]\u001b[0m Trial 7 finished with value: 0.376064196302643 and parameters: {'num_leaves': 222}. Best is trial 7 with value: 0.376064196302643.\u001b[0m\n",
            "num_leaves, val_score: 0.373033:   5%|5         | 1/20 [00:01<00:27,  1.43s/it]"
          ]
        },
        {
          "output_type": "stream",
          "name": "stdout",
          "text": [
            "Early stopping, best iteration is:\n",
            "[32]\tTrain's rmse: 0.15918\tTest's rmse: 0.376064\n",
            "Training until validation scores don't improve for 50 rounds.\n"
          ]
        },
        {
          "output_type": "stream",
          "name": "stderr",
          "text": [
            "num_leaves, val_score: 0.373033:  10%|#         | 2/20 [00:02<00:18,  1.03s/it]\u001b[32m[I 2021-12-12 02:46:24,774]\u001b[0m Trial 8 finished with value: 0.3760664359712334 and parameters: {'num_leaves': 78}. Best is trial 7 with value: 0.376064196302643.\u001b[0m\n",
            "num_leaves, val_score: 0.373033:  10%|#         | 2/20 [00:02<00:18,  1.03s/it]"
          ]
        },
        {
          "output_type": "stream",
          "name": "stdout",
          "text": [
            "Early stopping, best iteration is:\n",
            "[32]\tTrain's rmse: 0.159189\tTest's rmse: 0.376066\n",
            "Training until validation scores don't improve for 50 rounds.\n"
          ]
        },
        {
          "output_type": "stream",
          "name": "stderr",
          "text": [
            "num_leaves, val_score: 0.373033:  15%|#5        | 3/20 [00:03<00:21,  1.27s/it]\u001b[32m[I 2021-12-12 02:46:26,329]\u001b[0m Trial 9 finished with value: 0.3757680898326886 and parameters: {'num_leaves': 213}. Best is trial 9 with value: 0.3757680898326886.\u001b[0m\n",
            "num_leaves, val_score: 0.373033:  15%|#5        | 3/20 [00:03<00:21,  1.27s/it]"
          ]
        },
        {
          "output_type": "stream",
          "name": "stdout",
          "text": [
            "Early stopping, best iteration is:\n",
            "[39]\tTrain's rmse: 0.153026\tTest's rmse: 0.375768\n",
            "Training until validation scores don't improve for 50 rounds.\n"
          ]
        },
        {
          "output_type": "stream",
          "name": "stderr",
          "text": [
            "num_leaves, val_score: 0.354284:  20%|##        | 4/20 [00:03<00:13,  1.15it/s]\u001b[32m[I 2021-12-12 02:46:26,576]\u001b[0m Trial 10 finished with value: 0.35428351987857704 and parameters: {'num_leaves': 6}. Best is trial 10 with value: 0.35428351987857704.\u001b[0m\n",
            "num_leaves, val_score: 0.354284:  20%|##        | 4/20 [00:03<00:13,  1.15it/s]"
          ]
        },
        {
          "output_type": "stream",
          "name": "stdout",
          "text": [
            "Early stopping, best iteration is:\n",
            "[40]\tTrain's rmse: 0.155086\tTest's rmse: 0.354284\n",
            "Training until validation scores don't improve for 50 rounds.\n"
          ]
        },
        {
          "output_type": "stream",
          "name": "stderr",
          "text": [
            "num_leaves, val_score: 0.354284:  25%|##5       | 5/20 [00:05<00:17,  1.16s/it]\u001b[32m[I 2021-12-12 02:46:28,238]\u001b[0m Trial 11 finished with value: 0.37576811398537724 and parameters: {'num_leaves': 242}. Best is trial 10 with value: 0.35428351987857704.\u001b[0m\n",
            "num_leaves, val_score: 0.354284:  25%|##5       | 5/20 [00:05<00:17,  1.16s/it]"
          ]
        },
        {
          "output_type": "stream",
          "name": "stdout",
          "text": [
            "Early stopping, best iteration is:\n",
            "[39]\tTrain's rmse: 0.153025\tTest's rmse: 0.375768\n",
            "Training until validation scores don't improve for 50 rounds.\n"
          ]
        },
        {
          "output_type": "stream",
          "name": "stderr",
          "text": [
            "num_leaves, val_score: 0.354284:  30%|###       | 6/20 [00:06<00:15,  1.11s/it]\u001b[32m[I 2021-12-12 02:46:29,273]\u001b[0m Trial 12 finished with value: 0.3760695212220065 and parameters: {'num_leaves': 127}. Best is trial 10 with value: 0.35428351987857704.\u001b[0m\n",
            "num_leaves, val_score: 0.354284:  30%|###       | 6/20 [00:06<00:15,  1.11s/it]"
          ]
        },
        {
          "output_type": "stream",
          "name": "stdout",
          "text": [
            "Early stopping, best iteration is:\n",
            "[32]\tTrain's rmse: 0.159188\tTest's rmse: 0.37607\n",
            "Training until validation scores don't improve for 50 rounds.\n"
          ]
        },
        {
          "output_type": "stream",
          "name": "stderr",
          "text": [
            "num_leaves, val_score: 0.354284:  35%|###5      | 7/20 [00:07<00:12,  1.00it/s]\u001b[32m[I 2021-12-12 02:46:30,023]\u001b[0m Trial 13 finished with value: 0.3760664359712334 and parameters: {'num_leaves': 78}. Best is trial 10 with value: 0.35428351987857704.\u001b[0m\n",
            "num_leaves, val_score: 0.354284:  35%|###5      | 7/20 [00:07<00:12,  1.00it/s]"
          ]
        },
        {
          "output_type": "stream",
          "name": "stdout",
          "text": [
            "Early stopping, best iteration is:\n",
            "[32]\tTrain's rmse: 0.159189\tTest's rmse: 0.376066\n",
            "Training until validation scores don't improve for 50 rounds.\n"
          ]
        },
        {
          "output_type": "stream",
          "name": "stderr",
          "text": [
            "num_leaves, val_score: 0.354284:  40%|####      | 8/20 [00:08<00:10,  1.12it/s]\u001b[32m[I 2021-12-12 02:46:30,696]\u001b[0m Trial 14 finished with value: 0.3761133924605225 and parameters: {'num_leaves': 67}. Best is trial 10 with value: 0.35428351987857704.\u001b[0m\n",
            "num_leaves, val_score: 0.354284:  40%|####      | 8/20 [00:08<00:10,  1.12it/s]"
          ]
        },
        {
          "output_type": "stream",
          "name": "stdout",
          "text": [
            "Early stopping, best iteration is:\n",
            "[32]\tTrain's rmse: 0.159226\tTest's rmse: 0.376113\n",
            "Training until validation scores don't improve for 50 rounds.\n"
          ]
        },
        {
          "output_type": "stream",
          "name": "stderr",
          "text": [
            "num_leaves, val_score: 0.354284:  45%|####5     | 9/20 [00:08<00:08,  1.26it/s]\u001b[32m[I 2021-12-12 02:46:31,276]\u001b[0m Trial 15 finished with value: 0.3744455151090015 and parameters: {'num_leaves': 46}. Best is trial 10 with value: 0.35428351987857704.\u001b[0m\n",
            "num_leaves, val_score: 0.354284:  45%|####5     | 9/20 [00:08<00:08,  1.26it/s]"
          ]
        },
        {
          "output_type": "stream",
          "name": "stdout",
          "text": [
            "Early stopping, best iteration is:\n",
            "[31]\tTrain's rmse: 0.159509\tTest's rmse: 0.374446\n",
            "Training until validation scores don't improve for 50 rounds.\n"
          ]
        },
        {
          "output_type": "stream",
          "name": "stderr",
          "text": [
            "num_leaves, val_score: 0.354284:  50%|#####     | 10/20 [00:10<00:10,  1.05s/it]\u001b[32m[I 2021-12-12 02:46:32,892]\u001b[0m Trial 16 finished with value: 0.37576797430770675 and parameters: {'num_leaves': 239}. Best is trial 10 with value: 0.35428351987857704.\u001b[0m\n",
            "num_leaves, val_score: 0.354284:  50%|#####     | 10/20 [00:10<00:10,  1.05s/it]"
          ]
        },
        {
          "output_type": "stream",
          "name": "stdout",
          "text": [
            "Early stopping, best iteration is:\n",
            "[39]\tTrain's rmse: 0.153025\tTest's rmse: 0.375768\n",
            "Training until validation scores don't improve for 50 rounds.\n"
          ]
        },
        {
          "output_type": "stream",
          "name": "stderr",
          "text": [
            "num_leaves, val_score: 0.354284:  55%|#####5    | 11/20 [00:10<00:07,  1.22it/s]\u001b[32m[I 2021-12-12 02:46:33,196]\u001b[0m Trial 17 finished with value: 0.3742711469595676 and parameters: {'num_leaves': 14}. Best is trial 10 with value: 0.35428351987857704.\u001b[0m\n",
            "num_leaves, val_score: 0.343336:  55%|#####5    | 11/20 [00:10<00:07,  1.22it/s]"
          ]
        },
        {
          "output_type": "stream",
          "name": "stdout",
          "text": [
            "Early stopping, best iteration is:\n",
            "[30]\tTrain's rmse: 0.161338\tTest's rmse: 0.374271\n",
            "Training until validation scores don't improve for 50 rounds.\n",
            "Did not meet early stopping. Best iteration is:\n",
            "[100]\tTrain's rmse: 0.169751\tTest's rmse: 0.343336\n"
          ]
        },
        {
          "output_type": "stream",
          "name": "stderr",
          "text": [
            "num_leaves, val_score: 0.343336:  60%|######    | 12/20 [00:10<00:05,  1.58it/s]\u001b[32m[I 2021-12-12 02:46:33,397]\u001b[0m Trial 18 finished with value: 0.34333627326933497 and parameters: {'num_leaves': 3}. Best is trial 18 with value: 0.34333627326933497.\u001b[0m\n",
            "num_leaves, val_score: 0.343336:  65%|######5   | 13/20 [00:11<00:03,  1.92it/s]\u001b[32m[I 2021-12-12 02:46:33,661]\u001b[0m Trial 19 finished with value: 0.36105902060784245 and parameters: {'num_leaves': 8}. Best is trial 18 with value: 0.34333627326933497.\u001b[0m\n",
            "num_leaves, val_score: 0.343336:  65%|######5   | 13/20 [00:11<00:03,  1.92it/s]"
          ]
        },
        {
          "output_type": "stream",
          "name": "stdout",
          "text": [
            "Training until validation scores don't improve for 50 rounds.\n",
            "Early stopping, best iteration is:\n",
            "[38]\tTrain's rmse: 0.15377\tTest's rmse: 0.361059\n",
            "Training until validation scores don't improve for 50 rounds.\n"
          ]
        },
        {
          "output_type": "stream",
          "name": "stderr",
          "text": [
            "num_leaves, val_score: 0.343336:  70%|#######   | 14/20 [00:12<00:04,  1.42it/s]\u001b[32m[I 2021-12-12 02:46:34,796]\u001b[0m Trial 20 finished with value: 0.3757660303044145 and parameters: {'num_leaves': 133}. Best is trial 18 with value: 0.34333627326933497.\u001b[0m\n",
            "num_leaves, val_score: 0.343336:  70%|#######   | 14/20 [00:12<00:04,  1.42it/s]"
          ]
        },
        {
          "output_type": "stream",
          "name": "stdout",
          "text": [
            "Early stopping, best iteration is:\n",
            "[39]\tTrain's rmse: 0.153043\tTest's rmse: 0.375766\n",
            "Training until validation scores don't improve for 50 rounds.\n"
          ]
        },
        {
          "output_type": "stream",
          "name": "stderr",
          "text": [
            "num_leaves, val_score: 0.343336:  75%|#######5  | 15/20 [00:13<00:03,  1.25it/s]\u001b[32m[I 2021-12-12 02:46:35,813]\u001b[0m Trial 21 finished with value: 0.3760694402302203 and parameters: {'num_leaves': 128}. Best is trial 18 with value: 0.34333627326933497.\u001b[0m\n",
            "num_leaves, val_score: 0.343336:  75%|#######5  | 15/20 [00:13<00:03,  1.25it/s]"
          ]
        },
        {
          "output_type": "stream",
          "name": "stdout",
          "text": [
            "Early stopping, best iteration is:\n",
            "[32]\tTrain's rmse: 0.159187\tTest's rmse: 0.376069\n",
            "Training until validation scores don't improve for 50 rounds.\n"
          ]
        },
        {
          "output_type": "stream",
          "name": "stderr",
          "text": [
            "num_leaves, val_score: 0.343336:  80%|########  | 16/20 [00:13<00:02,  1.43it/s]\u001b[32m[I 2021-12-12 02:46:36,290]\u001b[0m Trial 22 finished with value: 0.37223590678785495 and parameters: {'num_leaves': 34}. Best is trial 18 with value: 0.34333627326933497.\u001b[0m\n",
            "num_leaves, val_score: 0.343336:  80%|########  | 16/20 [00:13<00:02,  1.43it/s]"
          ]
        },
        {
          "output_type": "stream",
          "name": "stdout",
          "text": [
            "Early stopping, best iteration is:\n",
            "[31]\tTrain's rmse: 0.159727\tTest's rmse: 0.372236\n",
            "Training until validation scores don't improve for 50 rounds.\n"
          ]
        },
        {
          "output_type": "stream",
          "name": "stderr",
          "text": [
            "num_leaves, val_score: 0.343336:  85%|########5 | 17/20 [00:13<00:01,  1.76it/s]\u001b[32m[I 2021-12-12 02:46:36,544]\u001b[0m Trial 23 finished with value: 0.35826844049559214 and parameters: {'num_leaves': 7}. Best is trial 18 with value: 0.34333627326933497.\u001b[0m\n",
            "num_leaves, val_score: 0.343336:  85%|########5 | 17/20 [00:13<00:01,  1.76it/s]"
          ]
        },
        {
          "output_type": "stream",
          "name": "stdout",
          "text": [
            "Early stopping, best iteration is:\n",
            "[35]\tTrain's rmse: 0.158953\tTest's rmse: 0.358268\n",
            "Training until validation scores don't improve for 50 rounds.\n"
          ]
        },
        {
          "output_type": "stream",
          "name": "stderr",
          "text": [
            "num_leaves, val_score: 0.343336:  90%|######### | 18/20 [00:15<00:01,  1.24it/s]\u001b[32m[I 2021-12-12 02:46:37,915]\u001b[0m Trial 24 finished with value: 0.3757677219664701 and parameters: {'num_leaves': 183}. Best is trial 18 with value: 0.34333627326933497.\u001b[0m\n",
            "num_leaves, val_score: 0.343336:  90%|######### | 18/20 [00:15<00:01,  1.24it/s]"
          ]
        },
        {
          "output_type": "stream",
          "name": "stdout",
          "text": [
            "Early stopping, best iteration is:\n",
            "[39]\tTrain's rmse: 0.153026\tTest's rmse: 0.375768\n",
            "Training until validation scores don't improve for 50 rounds.\n"
          ]
        },
        {
          "output_type": "stream",
          "name": "stderr",
          "text": [
            "num_leaves, val_score: 0.343336:  95%|#########5| 19/20 [00:16<00:00,  1.18it/s]\u001b[32m[I 2021-12-12 02:46:38,864]\u001b[0m Trial 25 finished with value: 0.3757763297953136 and parameters: {'num_leaves': 102}. Best is trial 18 with value: 0.34333627326933497.\u001b[0m\n",
            "num_leaves, val_score: 0.343336:  95%|#########5| 19/20 [00:16<00:00,  1.18it/s]"
          ]
        },
        {
          "output_type": "stream",
          "name": "stdout",
          "text": [
            "Early stopping, best iteration is:\n",
            "[39]\tTrain's rmse: 0.153033\tTest's rmse: 0.375776\n",
            "Training until validation scores don't improve for 50 rounds.\n"
          ]
        },
        {
          "output_type": "stream",
          "name": "stderr",
          "text": [
            "num_leaves, val_score: 0.343336: 100%|##########| 20/20 [00:16<00:00,  1.30it/s]\u001b[32m[I 2021-12-12 02:46:39,440]\u001b[0m Trial 26 finished with value: 0.3730384452124601 and parameters: {'num_leaves': 43}. Best is trial 18 with value: 0.34333627326933497.\u001b[0m\n",
            "num_leaves, val_score: 0.343336: 100%|##########| 20/20 [00:16<00:00,  1.19it/s]\n"
          ]
        },
        {
          "output_type": "stream",
          "name": "stdout",
          "text": [
            "Early stopping, best iteration is:\n",
            "[38]\tTrain's rmse: 0.152838\tTest's rmse: 0.373038\n"
          ]
        },
        {
          "output_type": "stream",
          "name": "stderr",
          "text": [
            "bagging, val_score: 0.343336:   0%|          | 0/10 [00:00<?, ?it/s]"
          ]
        },
        {
          "output_type": "stream",
          "name": "stdout",
          "text": [
            "Training until validation scores don't improve for 50 rounds.\n"
          ]
        },
        {
          "output_type": "stream",
          "name": "stderr",
          "text": [
            "bagging, val_score: 0.341366:  10%|#         | 1/10 [00:00<00:02,  4.46it/s]\u001b[32m[I 2021-12-12 02:46:39,697]\u001b[0m Trial 27 finished with value: 0.34136618368596655 and parameters: {'bagging_fraction': 0.736389076801282, 'bagging_freq': 1}. Best is trial 27 with value: 0.34136618368596655.\u001b[0m\n",
            "bagging, val_score: 0.341366:  10%|#         | 1/10 [00:00<00:02,  4.46it/s]"
          ]
        },
        {
          "output_type": "stream",
          "name": "stdout",
          "text": [
            "Did not meet early stopping. Best iteration is:\n",
            "[100]\tTrain's rmse: 0.171177\tTest's rmse: 0.341366\n",
            "Training until validation scores don't improve for 50 rounds.\n"
          ]
        },
        {
          "output_type": "stream",
          "name": "stderr",
          "text": [
            "bagging, val_score: 0.337302:  20%|##        | 2/10 [00:00<00:01,  4.30it/s]\u001b[32m[I 2021-12-12 02:46:39,936]\u001b[0m Trial 28 finished with value: 0.33730226469974434 and parameters: {'bagging_fraction': 0.8100378841649807, 'bagging_freq': 5}. Best is trial 28 with value: 0.33730226469974434.\u001b[0m\n",
            "bagging, val_score: 0.337302:  20%|##        | 2/10 [00:00<00:01,  4.30it/s]"
          ]
        },
        {
          "output_type": "stream",
          "name": "stdout",
          "text": [
            "Did not meet early stopping. Best iteration is:\n",
            "[100]\tTrain's rmse: 0.170925\tTest's rmse: 0.337302\n",
            "Training until validation scores don't improve for 50 rounds.\n"
          ]
        },
        {
          "output_type": "stream",
          "name": "stderr",
          "text": [
            "bagging, val_score: 0.337302:  30%|###       | 3/10 [00:00<00:01,  4.35it/s]\u001b[32m[I 2021-12-12 02:46:40,164]\u001b[0m Trial 29 finished with value: 0.34620000360844816 and parameters: {'bagging_fraction': 0.4959089590278462, 'bagging_freq': 3}. Best is trial 28 with value: 0.33730226469974434.\u001b[0m\n",
            "bagging, val_score: 0.337302:  30%|###       | 3/10 [00:00<00:01,  4.35it/s]"
          ]
        },
        {
          "output_type": "stream",
          "name": "stdout",
          "text": [
            "Did not meet early stopping. Best iteration is:\n",
            "[100]\tTrain's rmse: 0.176927\tTest's rmse: 0.3462\n",
            "Training until validation scores don't improve for 50 rounds.\n"
          ]
        },
        {
          "output_type": "stream",
          "name": "stderr",
          "text": [
            "bagging, val_score: 0.337302:  40%|####      | 4/10 [00:00<00:01,  4.28it/s]\u001b[32m[I 2021-12-12 02:46:40,403]\u001b[0m Trial 30 finished with value: 0.35914554008831606 and parameters: {'bagging_fraction': 0.40938020708791606, 'bagging_freq': 4}. Best is trial 28 with value: 0.33730226469974434.\u001b[0m\n",
            "bagging, val_score: 0.337302:  40%|####      | 4/10 [00:00<00:01,  4.28it/s]"
          ]
        },
        {
          "output_type": "stream",
          "name": "stdout",
          "text": [
            "Did not meet early stopping. Best iteration is:\n",
            "[100]\tTrain's rmse: 0.179848\tTest's rmse: 0.359146\n",
            "Training until validation scores don't improve for 50 rounds.\n",
            "Did not meet early stopping. Best iteration is:\n",
            "[99]\tTrain's rmse: 0.176908\tTest's rmse: 0.354585\n"
          ]
        },
        {
          "output_type": "stream",
          "name": "stderr",
          "text": [
            "bagging, val_score: 0.337302:  50%|#####     | 5/10 [00:01<00:01,  4.44it/s]\u001b[32m[I 2021-12-12 02:46:40,614]\u001b[0m Trial 31 finished with value: 0.35458495035604093 and parameters: {'bagging_fraction': 0.43277388187777516, 'bagging_freq': 5}. Best is trial 28 with value: 0.33730226469974434.\u001b[0m\n",
            "bagging, val_score: 0.337302:  50%|#####     | 5/10 [00:01<00:01,  4.44it/s]"
          ]
        },
        {
          "output_type": "stream",
          "name": "stdout",
          "text": [
            "Training until validation scores don't improve for 50 rounds.\n"
          ]
        },
        {
          "output_type": "stream",
          "name": "stderr",
          "text": [
            "bagging, val_score: 0.337302:  60%|######    | 6/10 [00:01<00:00,  4.35it/s]\u001b[32m[I 2021-12-12 02:46:40,850]\u001b[0m Trial 32 finished with value: 0.34575534311297285 and parameters: {'bagging_fraction': 0.9849551781851774, 'bagging_freq': 5}. Best is trial 28 with value: 0.33730226469974434.\u001b[0m\n",
            "bagging, val_score: 0.337302:  60%|######    | 6/10 [00:01<00:00,  4.35it/s]"
          ]
        },
        {
          "output_type": "stream",
          "name": "stdout",
          "text": [
            "Did not meet early stopping. Best iteration is:\n",
            "[100]\tTrain's rmse: 0.168143\tTest's rmse: 0.345755\n",
            "Training until validation scores don't improve for 50 rounds.\n"
          ]
        },
        {
          "output_type": "stream",
          "name": "stderr",
          "text": [
            "bagging, val_score: 0.337302:  70%|#######   | 7/10 [00:01<00:00,  4.42it/s]\u001b[32m[I 2021-12-12 02:46:41,073]\u001b[0m Trial 33 finished with value: 0.34010818246391183 and parameters: {'bagging_fraction': 0.61871456890698, 'bagging_freq': 6}. Best is trial 28 with value: 0.33730226469974434.\u001b[0m\n",
            "bagging, val_score: 0.337302:  70%|#######   | 7/10 [00:01<00:00,  4.42it/s]"
          ]
        },
        {
          "output_type": "stream",
          "name": "stdout",
          "text": [
            "Did not meet early stopping. Best iteration is:\n",
            "[100]\tTrain's rmse: 0.174192\tTest's rmse: 0.340108\n",
            "Training until validation scores don't improve for 50 rounds.\n"
          ]
        },
        {
          "output_type": "stream",
          "name": "stderr",
          "text": [
            "bagging, val_score: 0.337302:  80%|########  | 8/10 [00:01<00:00,  4.36it/s]\u001b[32m[I 2021-12-12 02:46:41,309]\u001b[0m Trial 34 finished with value: 0.36122690508146965 and parameters: {'bagging_fraction': 0.5431228667088931, 'bagging_freq': 4}. Best is trial 28 with value: 0.33730226469974434.\u001b[0m\n",
            "bagging, val_score: 0.337302:  80%|########  | 8/10 [00:01<00:00,  4.36it/s]"
          ]
        },
        {
          "output_type": "stream",
          "name": "stdout",
          "text": [
            "Did not meet early stopping. Best iteration is:\n",
            "[100]\tTrain's rmse: 0.176644\tTest's rmse: 0.361227\n",
            "Training until validation scores don't improve for 50 rounds.\n"
          ]
        },
        {
          "output_type": "stream",
          "name": "stderr",
          "text": [
            "bagging, val_score: 0.337302:  90%|######### | 9/10 [00:02<00:00,  4.34it/s]\u001b[32m[I 2021-12-12 02:46:41,539]\u001b[0m Trial 35 finished with value: 0.35358081749252174 and parameters: {'bagging_fraction': 0.6624343657616403, 'bagging_freq': 4}. Best is trial 28 with value: 0.33730226469974434.\u001b[0m\n",
            "bagging, val_score: 0.337302:  90%|######### | 9/10 [00:02<00:00,  4.34it/s]"
          ]
        },
        {
          "output_type": "stream",
          "name": "stdout",
          "text": [
            "Did not meet early stopping. Best iteration is:\n",
            "[100]\tTrain's rmse: 0.171951\tTest's rmse: 0.353581\n",
            "Training until validation scores don't improve for 50 rounds.\n"
          ]
        },
        {
          "output_type": "stream",
          "name": "stderr",
          "text": [
            "bagging, val_score: 0.337302: 100%|##########| 10/10 [00:02<00:00,  4.19it/s]\u001b[32m[I 2021-12-12 02:46:41,802]\u001b[0m Trial 36 finished with value: 0.3466941380412164 and parameters: {'bagging_fraction': 0.7690574741837739, 'bagging_freq': 3}. Best is trial 28 with value: 0.33730226469974434.\u001b[0m\n",
            "bagging, val_score: 0.337302: 100%|##########| 10/10 [00:02<00:00,  4.27it/s]\n"
          ]
        },
        {
          "output_type": "stream",
          "name": "stdout",
          "text": [
            "Did not meet early stopping. Best iteration is:\n",
            "[100]\tTrain's rmse: 0.173412\tTest's rmse: 0.346694\n"
          ]
        },
        {
          "output_type": "stream",
          "name": "stderr",
          "text": [
            "feature_fraction_stage2, val_score: 0.337302:   0%|          | 0/3 [00:00<?, ?it/s]"
          ]
        },
        {
          "output_type": "stream",
          "name": "stdout",
          "text": [
            "Training until validation scores don't improve for 50 rounds.\n"
          ]
        },
        {
          "output_type": "stream",
          "name": "stderr",
          "text": [
            "feature_fraction_stage2, val_score: 0.337302:  33%|###3      | 1/3 [00:00<00:00,  4.11it/s]\u001b[32m[I 2021-12-12 02:46:42,065]\u001b[0m Trial 37 finished with value: 0.3384257559719779 and parameters: {'feature_fraction': 0.9840000000000001}. Best is trial 37 with value: 0.3384257559719779.\u001b[0m\n",
            "feature_fraction_stage2, val_score: 0.337302:  33%|###3      | 1/3 [00:00<00:00,  4.11it/s]"
          ]
        },
        {
          "output_type": "stream",
          "name": "stdout",
          "text": [
            "Did not meet early stopping. Best iteration is:\n",
            "[100]\tTrain's rmse: 0.172444\tTest's rmse: 0.338426\n",
            "Training until validation scores don't improve for 50 rounds.\n"
          ]
        },
        {
          "output_type": "stream",
          "name": "stderr",
          "text": [
            "feature_fraction_stage2, val_score: 0.335718:  67%|######6   | 2/3 [00:00<00:00,  3.98it/s]\u001b[32m[I 2021-12-12 02:46:42,321]\u001b[0m Trial 38 finished with value: 0.3357175909270218 and parameters: {'feature_fraction': 0.92}. Best is trial 38 with value: 0.3357175909270218.\u001b[0m\n",
            "feature_fraction_stage2, val_score: 0.335718:  67%|######6   | 2/3 [00:00<00:00,  3.98it/s]"
          ]
        },
        {
          "output_type": "stream",
          "name": "stdout",
          "text": [
            "Did not meet early stopping. Best iteration is:\n",
            "[100]\tTrain's rmse: 0.172974\tTest's rmse: 0.335718\n",
            "Training until validation scores don't improve for 50 rounds.\n"
          ]
        },
        {
          "output_type": "stream",
          "name": "stderr",
          "text": [
            "feature_fraction_stage2, val_score: 0.335718: 100%|##########| 3/3 [00:00<00:00,  4.20it/s]\u001b[32m[I 2021-12-12 02:46:42,546]\u001b[0m Trial 39 finished with value: 0.3384257559719779 and parameters: {'feature_fraction': 0.9520000000000001}. Best is trial 38 with value: 0.3357175909270218.\u001b[0m\n",
            "feature_fraction_stage2, val_score: 0.335718: 100%|##########| 3/3 [00:00<00:00,  4.06it/s]\n"
          ]
        },
        {
          "output_type": "stream",
          "name": "stdout",
          "text": [
            "Did not meet early stopping. Best iteration is:\n",
            "[100]\tTrain's rmse: 0.172444\tTest's rmse: 0.338426\n"
          ]
        },
        {
          "output_type": "stream",
          "name": "stderr",
          "text": [
            "regularization_factors, val_score: 0.335718:   0%|          | 0/20 [00:00<?, ?it/s]"
          ]
        },
        {
          "output_type": "stream",
          "name": "stdout",
          "text": [
            "Training until validation scores don't improve for 50 rounds.\n"
          ]
        },
        {
          "output_type": "stream",
          "name": "stderr",
          "text": [
            "regularization_factors, val_score: 0.335718:   5%|5         | 1/20 [00:00<00:04,  4.10it/s]\u001b[32m[I 2021-12-12 02:46:42,814]\u001b[0m Trial 40 finished with value: 0.336605368511759 and parameters: {'lambda_l1': 0.09165084282287275, 'lambda_l2': 4.465257787102535e-06}. Best is trial 40 with value: 0.336605368511759.\u001b[0m\n",
            "regularization_factors, val_score: 0.335718:   5%|5         | 1/20 [00:00<00:04,  4.10it/s]"
          ]
        },
        {
          "output_type": "stream",
          "name": "stdout",
          "text": [
            "Did not meet early stopping. Best iteration is:\n",
            "[100]\tTrain's rmse: 0.17123\tTest's rmse: 0.336605\n",
            "Training until validation scores don't improve for 50 rounds.\n"
          ]
        },
        {
          "output_type": "stream",
          "name": "stderr",
          "text": [
            "regularization_factors, val_score: 0.335718:  10%|#         | 2/20 [00:00<00:04,  4.04it/s]\u001b[32m[I 2021-12-12 02:46:43,071]\u001b[0m Trial 41 finished with value: 0.33571824895534597 and parameters: {'lambda_l1': 0.005170003488334938, 'lambda_l2': 2.170163562863516e-08}. Best is trial 41 with value: 0.33571824895534597.\u001b[0m\n",
            "regularization_factors, val_score: 0.335718:  10%|#         | 2/20 [00:00<00:04,  4.04it/s]"
          ]
        },
        {
          "output_type": "stream",
          "name": "stdout",
          "text": [
            "Did not meet early stopping. Best iteration is:\n",
            "[100]\tTrain's rmse: 0.172978\tTest's rmse: 0.335718\n",
            "Training until validation scores don't improve for 50 rounds.\n"
          ]
        },
        {
          "output_type": "stream",
          "name": "stderr",
          "text": [
            "regularization_factors, val_score: 0.335718:  15%|#5        | 3/20 [00:00<00:04,  3.91it/s]\u001b[32m[I 2021-12-12 02:46:43,330]\u001b[0m Trial 42 finished with value: 0.3366872166345273 and parameters: {'lambda_l1': 0.22405985011839147, 'lambda_l2': 0.08727030741072071}. Best is trial 41 with value: 0.33571824895534597.\u001b[0m\n",
            "regularization_factors, val_score: 0.335718:  15%|#5        | 3/20 [00:00<00:04,  3.91it/s]"
          ]
        },
        {
          "output_type": "stream",
          "name": "stdout",
          "text": [
            "Did not meet early stopping. Best iteration is:\n",
            "[100]\tTrain's rmse: 0.170814\tTest's rmse: 0.336687\n",
            "Training until validation scores don't improve for 50 rounds.\n"
          ]
        },
        {
          "output_type": "stream",
          "name": "stderr",
          "text": [
            "regularization_factors, val_score: 0.335717:  20%|##        | 4/20 [00:00<00:03,  4.11it/s]\u001b[32m[I 2021-12-12 02:46:43,561]\u001b[0m Trial 43 finished with value: 0.3357173964066825 and parameters: {'lambda_l1': 2.2841576821390164e-08, 'lambda_l2': 0.001712515645981054}. Best is trial 43 with value: 0.3357173964066825.\u001b[0m\n",
            "regularization_factors, val_score: 0.335717:  20%|##        | 4/20 [00:00<00:03,  4.11it/s]"
          ]
        },
        {
          "output_type": "stream",
          "name": "stdout",
          "text": [
            "Did not meet early stopping. Best iteration is:\n",
            "[100]\tTrain's rmse: 0.172975\tTest's rmse: 0.335717\n",
            "Training until validation scores don't improve for 50 rounds.\n"
          ]
        },
        {
          "output_type": "stream",
          "name": "stderr",
          "text": [
            "regularization_factors, val_score: 0.335717:  25%|##5       | 5/20 [00:01<00:03,  4.22it/s]\u001b[32m[I 2021-12-12 02:46:43,784]\u001b[0m Trial 44 finished with value: 0.34064664842422415 and parameters: {'lambda_l1': 0.022513943325582302, 'lambda_l2': 5.6560305165310085}. Best is trial 43 with value: 0.3357173964066825.\u001b[0m\n",
            "regularization_factors, val_score: 0.335717:  25%|##5       | 5/20 [00:01<00:03,  4.22it/s]"
          ]
        },
        {
          "output_type": "stream",
          "name": "stdout",
          "text": [
            "Did not meet early stopping. Best iteration is:\n",
            "[100]\tTrain's rmse: 0.173373\tTest's rmse: 0.340647\n",
            "Training until validation scores don't improve for 50 rounds.\n"
          ]
        },
        {
          "output_type": "stream",
          "name": "stderr",
          "text": [
            "regularization_factors, val_score: 0.335717:  30%|###       | 6/20 [00:01<00:03,  4.21it/s]\u001b[32m[I 2021-12-12 02:46:44,020]\u001b[0m Trial 45 finished with value: 0.33571759078633356 and parameters: {'lambda_l1': 9.283654183100007e-07, 'lambda_l2': 2.4351904249234285e-06}. Best is trial 43 with value: 0.3357173964066825.\u001b[0m\n",
            "regularization_factors, val_score: 0.335717:  30%|###       | 6/20 [00:01<00:03,  4.21it/s]"
          ]
        },
        {
          "output_type": "stream",
          "name": "stdout",
          "text": [
            "Did not meet early stopping. Best iteration is:\n",
            "[100]\tTrain's rmse: 0.172974\tTest's rmse: 0.335718\n",
            "Training until validation scores don't improve for 50 rounds.\n"
          ]
        },
        {
          "output_type": "stream",
          "name": "stderr",
          "text": [
            "regularization_factors, val_score: 0.335717:  35%|###5      | 7/20 [00:01<00:03,  4.22it/s]\u001b[32m[I 2021-12-12 02:46:44,256]\u001b[0m Trial 46 finished with value: 0.33788852935377167 and parameters: {'lambda_l1': 5.237861850487219e-07, 'lambda_l2': 1.0118655113084076}. Best is trial 43 with value: 0.3357173964066825.\u001b[0m\n",
            "regularization_factors, val_score: 0.335717:  35%|###5      | 7/20 [00:01<00:03,  4.22it/s]"
          ]
        },
        {
          "output_type": "stream",
          "name": "stdout",
          "text": [
            "Did not meet early stopping. Best iteration is:\n",
            "[100]\tTrain's rmse: 0.173005\tTest's rmse: 0.337889\n",
            "Training until validation scores don't improve for 50 rounds.\n"
          ]
        },
        {
          "output_type": "stream",
          "name": "stderr",
          "text": [
            "regularization_factors, val_score: 0.335717:  40%|####      | 8/20 [00:01<00:02,  4.25it/s]\u001b[32m[I 2021-12-12 02:46:44,491]\u001b[0m Trial 47 finished with value: 0.3357170368143525 and parameters: {'lambda_l1': 1.0858927097573643e-05, 'lambda_l2': 0.004897522433207904}. Best is trial 47 with value: 0.3357170368143525.\u001b[0m\n",
            "regularization_factors, val_score: 0.335717:  40%|####      | 8/20 [00:01<00:02,  4.25it/s]"
          ]
        },
        {
          "output_type": "stream",
          "name": "stdout",
          "text": [
            "Did not meet early stopping. Best iteration is:\n",
            "[100]\tTrain's rmse: 0.172976\tTest's rmse: 0.335717\n",
            "Training until validation scores don't improve for 50 rounds.\n"
          ]
        },
        {
          "output_type": "stream",
          "name": "stderr",
          "text": [
            "regularization_factors, val_score: 0.335717:  45%|####5     | 9/20 [00:02<00:02,  4.23it/s]\u001b[32m[I 2021-12-12 02:46:44,729]\u001b[0m Trial 48 finished with value: 0.33571759179341215 and parameters: {'lambda_l1': 8.62880614592252e-06, 'lambda_l2': 9.454583181704584e-07}. Best is trial 47 with value: 0.3357170368143525.\u001b[0m\n",
            "regularization_factors, val_score: 0.335717:  45%|####5     | 9/20 [00:02<00:02,  4.23it/s]"
          ]
        },
        {
          "output_type": "stream",
          "name": "stdout",
          "text": [
            "Did not meet early stopping. Best iteration is:\n",
            "[100]\tTrain's rmse: 0.172974\tTest's rmse: 0.335718\n",
            "Training until validation scores don't improve for 50 rounds.\n"
          ]
        },
        {
          "output_type": "stream",
          "name": "stderr",
          "text": [
            "regularization_factors, val_score: 0.335717:  50%|#####     | 10/20 [00:02<00:02,  4.18it/s]\u001b[32m[I 2021-12-12 02:46:44,973]\u001b[0m Trial 49 finished with value: 0.33571759130621986 and parameters: {'lambda_l1': 2.806842193900522e-06, 'lambda_l2': 1.2297948094158009e-08}. Best is trial 47 with value: 0.3357170368143525.\u001b[0m\n",
            "regularization_factors, val_score: 0.335717:  50%|#####     | 10/20 [00:02<00:02,  4.18it/s]"
          ]
        },
        {
          "output_type": "stream",
          "name": "stdout",
          "text": [
            "Did not meet early stopping. Best iteration is:\n",
            "[100]\tTrain's rmse: 0.172974\tTest's rmse: 0.335718\n",
            "Training until validation scores don't improve for 50 rounds.\n"
          ]
        },
        {
          "output_type": "stream",
          "name": "stderr",
          "text": [
            "regularization_factors, val_score: 0.335717:  55%|#####5    | 11/20 [00:02<00:02,  4.22it/s]\u001b[32m[I 2021-12-12 02:46:45,212]\u001b[0m Trial 50 finished with value: 0.3357172720973531 and parameters: {'lambda_l1': 0.00021084739834465678, 'lambda_l2': 0.003048592311780323}. Best is trial 47 with value: 0.3357170368143525.\u001b[0m\n",
            "regularization_factors, val_score: 0.335717:  55%|#####5    | 11/20 [00:02<00:02,  4.22it/s]"
          ]
        },
        {
          "output_type": "stream",
          "name": "stdout",
          "text": [
            "Did not meet early stopping. Best iteration is:\n",
            "[100]\tTrain's rmse: 0.172975\tTest's rmse: 0.335717\n",
            "Training until validation scores don't improve for 50 rounds.\n"
          ]
        },
        {
          "output_type": "stream",
          "name": "stderr",
          "text": [
            "regularization_factors, val_score: 0.335717:  60%|######    | 12/20 [00:02<00:01,  4.13it/s]\u001b[32m[I 2021-12-12 02:46:45,456]\u001b[0m Trial 51 finished with value: 0.33571739717799576 and parameters: {'lambda_l1': 0.0003787261416689499, 'lambda_l2': 0.0021332887338018827}. Best is trial 47 with value: 0.3357170368143525.\u001b[0m\n",
            "regularization_factors, val_score: 0.335717:  60%|######    | 12/20 [00:02<00:01,  4.13it/s]"
          ]
        },
        {
          "output_type": "stream",
          "name": "stdout",
          "text": [
            "Did not meet early stopping. Best iteration is:\n",
            "[100]\tTrain's rmse: 0.172975\tTest's rmse: 0.335717\n",
            "Training until validation scores don't improve for 50 rounds.\n"
          ]
        },
        {
          "output_type": "stream",
          "name": "stderr",
          "text": [
            "regularization_factors, val_score: 0.335714:  65%|######5   | 13/20 [00:03<00:01,  4.12it/s]\u001b[32m[I 2021-12-12 02:46:45,706]\u001b[0m Trial 52 finished with value: 0.33571444205115875 and parameters: {'lambda_l1': 0.00011581194121947833, 'lambda_l2': 0.0280006568506575}. Best is trial 52 with value: 0.33571444205115875.\u001b[0m\n",
            "regularization_factors, val_score: 0.335714:  65%|######5   | 13/20 [00:03<00:01,  4.12it/s]"
          ]
        },
        {
          "output_type": "stream",
          "name": "stdout",
          "text": [
            "Did not meet early stopping. Best iteration is:\n",
            "[100]\tTrain's rmse: 0.172987\tTest's rmse: 0.335714\n",
            "Training until validation scores don't improve for 50 rounds.\n"
          ]
        },
        {
          "output_type": "stream",
          "name": "stderr",
          "text": [
            "regularization_factors, val_score: 0.335714:  70%|#######   | 14/20 [00:03<00:01,  4.17it/s]\u001b[32m[I 2021-12-12 02:46:45,935]\u001b[0m Trial 53 finished with value: 0.3371343841942271 and parameters: {'lambda_l1': 7.597636185723688e-05, 'lambda_l2': 0.20832649094582525}. Best is trial 52 with value: 0.33571444205115875.\u001b[0m\n",
            "regularization_factors, val_score: 0.335714:  70%|#######   | 14/20 [00:03<00:01,  4.17it/s]"
          ]
        },
        {
          "output_type": "stream",
          "name": "stdout",
          "text": [
            "Did not meet early stopping. Best iteration is:\n",
            "[100]\tTrain's rmse: 0.170965\tTest's rmse: 0.337134\n",
            "Training until validation scores don't improve for 50 rounds.\n"
          ]
        },
        {
          "output_type": "stream",
          "name": "stderr",
          "text": [
            "regularization_factors, val_score: 0.335714:  75%|#######5  | 15/20 [00:03<00:01,  4.12it/s]\u001b[32m[I 2021-12-12 02:46:46,190]\u001b[0m Trial 54 finished with value: 0.3357177246075951 and parameters: {'lambda_l1': 0.0011088076517313593, 'lambda_l2': 6.326437800305443e-05}. Best is trial 52 with value: 0.33571444205115875.\u001b[0m\n",
            "regularization_factors, val_score: 0.335714:  75%|#######5  | 15/20 [00:03<00:01,  4.12it/s]"
          ]
        },
        {
          "output_type": "stream",
          "name": "stdout",
          "text": [
            "Did not meet early stopping. Best iteration is:\n",
            "[100]\tTrain's rmse: 0.172975\tTest's rmse: 0.335718\n",
            "Training until validation scores don't improve for 50 rounds.\n"
          ]
        },
        {
          "output_type": "stream",
          "name": "stderr",
          "text": [
            "regularization_factors, val_score: 0.333169:  80%|########  | 16/20 [00:03<00:00,  4.05it/s]\u001b[32m[I 2021-12-12 02:46:46,441]\u001b[0m Trial 55 finished with value: 0.33316858256853116 and parameters: {'lambda_l1': 4.535049260099115, 'lambda_l2': 0.030996324138152183}. Best is trial 55 with value: 0.33316858256853116.\u001b[0m\n",
            "regularization_factors, val_score: 0.333169:  80%|########  | 16/20 [00:03<00:00,  4.05it/s]"
          ]
        },
        {
          "output_type": "stream",
          "name": "stdout",
          "text": [
            "Did not meet early stopping. Best iteration is:\n",
            "[100]\tTrain's rmse: 0.175305\tTest's rmse: 0.333169\n",
            "Training until validation scores don't improve for 50 rounds.\n"
          ]
        },
        {
          "output_type": "stream",
          "name": "stderr",
          "text": [
            "regularization_factors, val_score: 0.333169:  85%|########5 | 17/20 [00:04<00:00,  4.12it/s]\u001b[32m[I 2021-12-12 02:46:46,673]\u001b[0m Trial 56 finished with value: 0.33718057295048615 and parameters: {'lambda_l1': 2.0512440215192758, 'lambda_l2': 0.04519061530756441}. Best is trial 55 with value: 0.33316858256853116.\u001b[0m\n",
            "regularization_factors, val_score: 0.333169:  85%|########5 | 17/20 [00:04<00:00,  4.12it/s]"
          ]
        },
        {
          "output_type": "stream",
          "name": "stdout",
          "text": [
            "Did not meet early stopping. Best iteration is:\n",
            "[100]\tTrain's rmse: 0.172326\tTest's rmse: 0.337181\n",
            "Training until validation scores don't improve for 50 rounds.\n"
          ]
        },
        {
          "output_type": "stream",
          "name": "stderr",
          "text": [
            "regularization_factors, val_score: 0.333169:  90%|######### | 18/20 [00:04<00:00,  4.18it/s]\u001b[32m[I 2021-12-12 02:46:46,907]\u001b[0m Trial 57 finished with value: 0.33547641316349536 and parameters: {'lambda_l1': 1.8612375242995531, 'lambda_l2': 0.00017463526697379875}. Best is trial 55 with value: 0.33316858256853116.\u001b[0m\n",
            "regularization_factors, val_score: 0.333169:  90%|######### | 18/20 [00:04<00:00,  4.18it/s]"
          ]
        },
        {
          "output_type": "stream",
          "name": "stdout",
          "text": [
            "Did not meet early stopping. Best iteration is:\n",
            "[100]\tTrain's rmse: 0.175208\tTest's rmse: 0.335476\n",
            "Training until validation scores don't improve for 50 rounds.\n"
          ]
        },
        {
          "output_type": "stream",
          "name": "stderr",
          "text": [
            "regularization_factors, val_score: 0.333169:  95%|#########5| 19/20 [00:04<00:00,  4.17it/s]\u001b[32m[I 2021-12-12 02:46:47,151]\u001b[0m Trial 58 finished with value: 0.3352856300621726 and parameters: {'lambda_l1': 8.407766991428677, 'lambda_l2': 0.0001264263994331124}. Best is trial 55 with value: 0.33316858256853116.\u001b[0m\n",
            "regularization_factors, val_score: 0.333169:  95%|#########5| 19/20 [00:04<00:00,  4.17it/s]"
          ]
        },
        {
          "output_type": "stream",
          "name": "stdout",
          "text": [
            "Did not meet early stopping. Best iteration is:\n",
            "[100]\tTrain's rmse: 0.180125\tTest's rmse: 0.335286\n",
            "Training until validation scores don't improve for 50 rounds.\n"
          ]
        },
        {
          "output_type": "stream",
          "name": "stderr",
          "text": [
            "regularization_factors, val_score: 0.333169: 100%|##########| 20/20 [00:04<00:00,  4.22it/s]\u001b[32m[I 2021-12-12 02:46:47,375]\u001b[0m Trial 59 finished with value: 0.3365571464865285 and parameters: {'lambda_l1': 8.443034418165725, 'lambda_l2': 2.730594814695874e-05}. Best is trial 55 with value: 0.33316858256853116.\u001b[0m\n",
            "regularization_factors, val_score: 0.333169: 100%|##########| 20/20 [00:04<00:00,  4.16it/s]\n"
          ]
        },
        {
          "output_type": "stream",
          "name": "stdout",
          "text": [
            "Did not meet early stopping. Best iteration is:\n",
            "[100]\tTrain's rmse: 0.180153\tTest's rmse: 0.336557\n"
          ]
        },
        {
          "output_type": "stream",
          "name": "stderr",
          "text": [
            "min_data_in_leaf, val_score: 0.333169:   0%|          | 0/5 [00:00<?, ?it/s]"
          ]
        },
        {
          "output_type": "stream",
          "name": "stdout",
          "text": [
            "Training until validation scores don't improve for 50 rounds.\n"
          ]
        },
        {
          "output_type": "stream",
          "name": "stderr",
          "text": [
            "min_data_in_leaf, val_score: 0.333169:  20%|##        | 1/5 [00:00<00:01,  3.78it/s]\u001b[32m[I 2021-12-12 02:46:47,662]\u001b[0m Trial 60 finished with value: 0.3476817045899821 and parameters: {'min_child_samples': 5}. Best is trial 60 with value: 0.3476817045899821.\u001b[0m\n",
            "min_data_in_leaf, val_score: 0.333169:  20%|##        | 1/5 [00:00<00:01,  3.78it/s]"
          ]
        },
        {
          "output_type": "stream",
          "name": "stdout",
          "text": [
            "Did not meet early stopping. Best iteration is:\n",
            "[100]\tTrain's rmse: 0.157542\tTest's rmse: 0.347682\n",
            "Training until validation scores don't improve for 50 rounds.\n"
          ]
        },
        {
          "output_type": "stream",
          "name": "stderr",
          "text": [
            "min_data_in_leaf, val_score: 0.333156:  40%|####      | 2/5 [00:00<00:00,  4.07it/s]\u001b[32m[I 2021-12-12 02:46:47,893]\u001b[0m Trial 61 finished with value: 0.33315587206236735 and parameters: {'min_child_samples': 25}. Best is trial 61 with value: 0.33315587206236735.\u001b[0m\n",
            "min_data_in_leaf, val_score: 0.333156:  40%|####      | 2/5 [00:00<00:00,  4.07it/s]"
          ]
        },
        {
          "output_type": "stream",
          "name": "stdout",
          "text": [
            "Did not meet early stopping. Best iteration is:\n",
            "[100]\tTrain's rmse: 0.181055\tTest's rmse: 0.333156\n",
            "Training until validation scores don't improve for 50 rounds.\n"
          ]
        },
        {
          "output_type": "stream",
          "name": "stderr",
          "text": [
            "min_data_in_leaf, val_score: 0.333156:  60%|######    | 3/5 [00:00<00:00,  4.21it/s]\u001b[32m[I 2021-12-12 02:46:48,114]\u001b[0m Trial 62 finished with value: 0.33855111661299647 and parameters: {'min_child_samples': 10}. Best is trial 61 with value: 0.33315587206236735.\u001b[0m\n",
            "min_data_in_leaf, val_score: 0.333156:  60%|######    | 3/5 [00:00<00:00,  4.21it/s]"
          ]
        },
        {
          "output_type": "stream",
          "name": "stdout",
          "text": [
            "Did not meet early stopping. Best iteration is:\n",
            "[100]\tTrain's rmse: 0.162504\tTest's rmse: 0.338551\n",
            "Training until validation scores don't improve for 50 rounds.\n"
          ]
        },
        {
          "output_type": "stream",
          "name": "stderr",
          "text": [
            "min_data_in_leaf, val_score: 0.333156:  80%|########  | 4/5 [00:00<00:00,  4.23it/s]\u001b[32m[I 2021-12-12 02:46:48,349]\u001b[0m Trial 63 finished with value: 0.4768420251213244 and parameters: {'min_child_samples': 100}. Best is trial 61 with value: 0.33315587206236735.\u001b[0m\n",
            "min_data_in_leaf, val_score: 0.333156:  80%|########  | 4/5 [00:00<00:00,  4.23it/s]"
          ]
        },
        {
          "output_type": "stream",
          "name": "stdout",
          "text": [
            "Did not meet early stopping. Best iteration is:\n",
            "[100]\tTrain's rmse: 0.25024\tTest's rmse: 0.476842\n",
            "Training until validation scores don't improve for 50 rounds.\n"
          ]
        },
        {
          "output_type": "stream",
          "name": "stderr",
          "text": [
            "min_data_in_leaf, val_score: 0.333156: 100%|##########| 5/5 [00:01<00:00,  4.11it/s]\u001b[32m[I 2021-12-12 02:46:48,613]\u001b[0m Trial 64 finished with value: 0.4317862196268671 and parameters: {'min_child_samples': 50}. Best is trial 61 with value: 0.33315587206236735.\u001b[0m\n",
            "min_data_in_leaf, val_score: 0.333156: 100%|##########| 5/5 [00:01<00:00,  4.06it/s]"
          ]
        },
        {
          "output_type": "stream",
          "name": "stdout",
          "text": [
            "Did not meet early stopping. Best iteration is:\n",
            "[100]\tTrain's rmse: 0.213971\tTest's rmse: 0.431786\n"
          ]
        },
        {
          "output_type": "stream",
          "name": "stderr",
          "text": [
            "\n"
          ]
        },
        {
          "output_type": "display_data",
          "data": {
            "image/png": "[encoded data removed]",
            "text/plain": [
              "<Figure size 432x288 with 1 Axes>"
            ]
          },
          "metadata": {
            "needs_background": "light"
          }
        },
        {
          "output_type": "stream",
          "name": "stdout",
          "text": [
            "RMSE: [0.3283616499658815, 0.09204166165281427, 0.13812988298145246, 0.019712231693102582, 0.3331558716653759]\n",
            "RMSE: 0.18228025959172536\n"
          ]
        }
      ]
    },
    {
      "cell_type": "markdown",
      "source": [
        "## Optuna によるハイパーパラメーターチューニング"
      ],
      "metadata": {
        "id": "WIhzdczVEHBY"
      }
    },
    {
      "cell_type": "code",
      "source": [
        "def objective(trial):\n",
        "\n",
        "    learning_rate = trial.suggest_uniform('learning_rate', 0.1, 1.0)\n",
        "    num_leaves =  trial.suggest_int(\"num_leaves\", 5, 50)\n",
        "    tree_learner = trial.suggest_categorical('tree_learner', [\"serial\", \"feature\", \"data\", \"voting\"])\n",
        "\n",
        "    params = {\n",
        "            'task': 'train',                 # タスクを訓練に設定\n",
        "            'boosting_type': 'gbdt',         # GBDTを指定\n",
        "            'objective': 'regression',       # 回帰を指定\n",
        "            'metric': {'rmse'},              # 回帰の損失（誤差）\n",
        "            'learning_rate': learning_rate,  # 学習率\n",
        "            'num_leaves': num_leaves,\n",
        "            'tree_learner': tree_learner,\n",
        "            'seed': SEED                     # シード値\n",
        "            }\n",
        "\n",
        "    model = lgb.train(\n",
        "                    params=params,                    # ハイパーパラメータをセット\n",
        "                    train_set=lgb_train,              # 訓練データを訓練用にセット\n",
        "                    valid_sets=[lgb_train, lgb_test], # 訓練データとテストデータをセット\n",
        "                    valid_names=['Train', 'Test'],    # データセットの名前をそれぞれ設定\n",
        "                    num_boost_round=100,              # 計算回数\n",
        "                    early_stopping_rounds=50,         # アーリーストッピング設定\n",
        "                    evals_result=lgb_results,\n",
        "                    verbose_eval=-1,                  # ログを最後の1つだけ表示\n",
        "                    )\n",
        "    \n",
        "    # 推論\n",
        "    y_pred = model.predict(X_test_gkf)\n",
        "\n",
        "    # 評価\n",
        "    rmse = mean_squared_error(y_test_gkf, y_pred, squared=False)\n",
        "\n",
        "    return rmse"
      ],
      "metadata": {
        "id": "Q-MEp1_lEehR"
      },
      "execution_count": null,
      "outputs": []
    },
    {
      "cell_type": "code",
      "source": [
        "y_train = y_train.reset_index(drop=True)\n",
        "\n",
        "gkf = GroupKFold(n_splits=5)\n",
        "\n",
        "groups = X_train_ce[\"Genre\"]\n",
        "\n",
        "params = {\n",
        "          'task': 'train',              # タスクを訓練に設定\n",
        "          'boosting_type': 'gbdt',      # GBDTを指定\n",
        "          'objective': 'regression',    # 回帰を指定\n",
        "          'metric': 'rmse',             # 回帰の損失（誤差）\n",
        "          'learning_rate': 0.1,         # 学習率\n",
        "          'seed': SEED                   # シード値\n",
        "          }\n",
        "\n",
        "cv_result_opt2 = []\n",
        "\n",
        "for fold, (train_index, test_index) in enumerate(gkf.split(X_train_ce, y_train, groups)):\n",
        "    X_train_gkf, X_test_gkf = X_train_ce.iloc[train_index], X_train_ce.iloc[test_index]\n",
        "    y_train_gkf, y_test_gkf = y_train.iloc[train_index], y_train.iloc[test_index]\n",
        "\n",
        "    # 学習、推論\n",
        "    lgb_train = lgb.Dataset(X_train_gkf, y_train_gkf)\n",
        "    lgb_test = lgb.Dataset(X_test_gkf, y_test_gkf, reference=lgb_train)\n",
        "\n",
        "    lgb_results = {}                                    # 学習の履歴を入れる入物\n",
        "    \n",
        "    study = optuna.create_study()\n",
        "    study.optimize(objective, n_trials=100)\n",
        "\n",
        "    print(study.best_params)\n",
        "\n",
        "    best_params = study.best_params\n",
        "\n",
        "    add_params = {\n",
        "        'objective':'regression', \n",
        "        'metric': 'rmse', \n",
        "        'task': 'train', \n",
        "        'seed': SEED\n",
        "        }\n",
        "\n",
        "    best_params.update(add_params)\n",
        "\n",
        "    print(best_params)\n",
        "\n",
        "    model = lgb.train(\n",
        "                    params=best_params,               # ハイパーパラメータをセット\n",
        "                    train_set=lgb_train,              # 訓練データを訓練用にセット\n",
        "                    valid_sets=[lgb_train, lgb_test], # 訓練データとテストデータをセット\n",
        "                    valid_names=['Train', 'Test'],    # データセットの名前をそれぞれ設定\n",
        "                    num_boost_round=100,              # 計算回数\n",
        "                    early_stopping_rounds=50,         # アーリーストッピング設定\n",
        "                    evals_result=lgb_results,\n",
        "                    verbose_eval=-1,                  # ログを最後の1つだけ表示\n",
        "                    )\n",
        "\n",
        "    # 損失推移を表示\n",
        "    loss_train = lgb_results['Train']['rmse']\n",
        "    loss_test = lgb_results['Test']['rmse']   \n",
        "    \n",
        "    fig = plt.figure()\n",
        "    \n",
        "    plt.xlabel('Iteration')\n",
        "    plt.ylabel('logloss')\n",
        "\n",
        "    plt.title(f\"fold:{fold}\")\n",
        "    plt.plot(loss_train, label='train loss')\n",
        "    plt.plot(loss_test, label='test loss')\n",
        "    \n",
        "    plt.legend()\n",
        "    plt.show()\n",
        "\n",
        "    # 推論\n",
        "    y_pred = model.predict(X_test_gkf)\n",
        "\n",
        "    # 評価\n",
        "    rmse = mean_squared_error(y_test_gkf, y_pred, squared=False)\n",
        "    cv_result_opt2.append(rmse)\n",
        "\n",
        "print(\"RMSE:\", cv_result_opt2)\n",
        "print(\"RMSE:\", np.mean(cv_result_opt2))"
      ],
      "metadata": {
        "id": "KRskOyAGEFcR",
        "colab": {
          "base_uri": "https://localhost:8080/",
          "height": 1000
        },
        "outputId": "d67bf7f9-ebe3-48d0-a974-c5e9844dfbba"
      },
      "execution_count": null,
      "outputs": [
        {
          "output_type": "stream",
          "name": "stderr",
          "text": [
            "\u001b[32m[I 2021-12-12 02:46:48,948]\u001b[0m A new study created in memory with name: no-name-52fd1db5-fe9d-4586-94ba-f79167f43516\u001b[0m\n"
          ]
        },
        {
          "output_type": "stream",
          "name": "stdout",
          "text": [
            "Training until validation scores don't improve for 50 rounds.\n"
          ]
        },
        {
          "output_type": "stream",
          "name": "stderr",
          "text": [
            "\u001b[32m[I 2021-12-12 02:46:49,152]\u001b[0m Trial 0 finished with value: 0.3362880591516736 and parameters: {'learning_rate': 0.9908370333158163, 'num_leaves': 20, 'tree_learner': 'serial'}. Best is trial 0 with value: 0.3362880591516736.\u001b[0m\n"
          ]
        },
        {
          "output_type": "stream",
          "name": "stdout",
          "text": [
            "Early stopping, best iteration is:\n",
            "[17]\tTrain's rmse: 0.12222\tTest's rmse: 0.336288\n",
            "Training until validation scores don't improve for 50 rounds.\n"
          ]
        },
        {
          "output_type": "stream",
          "name": "stderr",
          "text": [
            "\u001b[32m[I 2021-12-12 02:46:49,400]\u001b[0m Trial 1 finished with value: 0.3475316569155363 and parameters: {'learning_rate': 0.23308185371586515, 'num_leaves': 33, 'tree_learner': 'feature'}. Best is trial 0 with value: 0.3362880591516736.\u001b[0m\n"
          ]
        },
        {
          "output_type": "stream",
          "name": "stdout",
          "text": [
            "Early stopping, best iteration is:\n",
            "[15]\tTrain's rmse: 0.149192\tTest's rmse: 0.347532\n",
            "Training until validation scores don't improve for 50 rounds.\n"
          ]
        },
        {
          "output_type": "stream",
          "name": "stderr",
          "text": [
            "\u001b[32m[I 2021-12-12 02:46:49,669]\u001b[0m Trial 2 finished with value: 0.35092130923900716 and parameters: {'learning_rate': 0.3679367102402814, 'num_leaves': 44, 'tree_learner': 'data'}. Best is trial 0 with value: 0.3362880591516736.\u001b[0m\n",
            "\u001b[32m[I 2021-12-12 02:46:49,804]\u001b[0m Trial 3 finished with value: 0.3478238822692373 and parameters: {'learning_rate': 0.734228896248205, 'num_leaves': 19, 'tree_learner': 'voting'}. Best is trial 0 with value: 0.3362880591516736.\u001b[0m\n"
          ]
        },
        {
          "output_type": "stream",
          "name": "stdout",
          "text": [
            "Early stopping, best iteration is:\n",
            "[6]\tTrain's rmse: 0.168844\tTest's rmse: 0.350921\n",
            "Training until validation scores don't improve for 50 rounds.\n",
            "Early stopping, best iteration is:\n",
            "[2]\tTrain's rmse: 0.175001\tTest's rmse: 0.347824\n",
            "Training until validation scores don't improve for 50 rounds.\n"
          ]
        },
        {
          "output_type": "stream",
          "name": "stderr",
          "text": [
            "\u001b[32m[I 2021-12-12 02:46:50,026]\u001b[0m Trial 4 finished with value: 0.3352494322949689 and parameters: {'learning_rate': 0.8699724773623708, 'num_leaves': 34, 'tree_learner': 'data'}. Best is trial 4 with value: 0.3352494322949689.\u001b[0m\n"
          ]
        },
        {
          "output_type": "stream",
          "name": "stdout",
          "text": [
            "Early stopping, best iteration is:\n",
            "[6]\tTrain's rmse: 0.147118\tTest's rmse: 0.335249\n",
            "Training until validation scores don't improve for 50 rounds.\n"
          ]
        },
        {
          "output_type": "stream",
          "name": "stderr",
          "text": [
            "\u001b[32m[I 2021-12-12 02:46:50,322]\u001b[0m Trial 5 finished with value: 0.3496905982843817 and parameters: {'learning_rate': 0.2018245402832104, 'num_leaves': 38, 'tree_learner': 'feature'}. Best is trial 4 with value: 0.3352494322949689.\u001b[0m\n"
          ]
        },
        {
          "output_type": "stream",
          "name": "stdout",
          "text": [
            "Early stopping, best iteration is:\n",
            "[21]\tTrain's rmse: 0.148303\tTest's rmse: 0.349691\n",
            "Training until validation scores don't improve for 50 rounds.\n"
          ]
        },
        {
          "output_type": "stream",
          "name": "stderr",
          "text": [
            "\u001b[32m[I 2021-12-12 02:46:50,588]\u001b[0m Trial 6 finished with value: 0.3314876278336539 and parameters: {'learning_rate': 0.5043332350102016, 'num_leaves': 41, 'tree_learner': 'serial'}. Best is trial 6 with value: 0.3314876278336539.\u001b[0m\n",
            "\u001b[32m[I 2021-12-12 02:46:50,695]\u001b[0m Trial 7 finished with value: 0.3382626748218088 and parameters: {'learning_rate': 0.3285832511665075, 'num_leaves': 10, 'tree_learner': 'voting'}. Best is trial 6 with value: 0.3314876278336539.\u001b[0m\n"
          ]
        },
        {
          "output_type": "stream",
          "name": "stdout",
          "text": [
            "Early stopping, best iteration is:\n",
            "[10]\tTrain's rmse: 0.134302\tTest's rmse: 0.331488\n",
            "Training until validation scores don't improve for 50 rounds.\n",
            "Early stopping, best iteration is:\n",
            "[8]\tTrain's rmse: 0.160721\tTest's rmse: 0.338263\n",
            "Training until validation scores don't improve for 50 rounds.\n"
          ]
        },
        {
          "output_type": "stream",
          "name": "stderr",
          "text": [
            "\u001b[32m[I 2021-12-12 02:46:50,943]\u001b[0m Trial 8 finished with value: 0.3482210375545659 and parameters: {'learning_rate': 0.33622743908338937, 'num_leaves': 34, 'tree_learner': 'data'}. Best is trial 6 with value: 0.3314876278336539.\u001b[0m\n"
          ]
        },
        {
          "output_type": "stream",
          "name": "stdout",
          "text": [
            "Early stopping, best iteration is:\n",
            "[14]\tTrain's rmse: 0.149711\tTest's rmse: 0.348221\n",
            "Training until validation scores don't improve for 50 rounds.\n"
          ]
        },
        {
          "output_type": "stream",
          "name": "stderr",
          "text": [
            "\u001b[32m[I 2021-12-12 02:46:51,258]\u001b[0m Trial 9 finished with value: 0.33225481401365614 and parameters: {'learning_rate': 0.4777742702567739, 'num_leaves': 47, 'tree_learner': 'serial'}. Best is trial 6 with value: 0.3314876278336539.\u001b[0m\n",
            "\u001b[32m[I 2021-12-12 02:46:51,406]\u001b[0m Trial 10 finished with value: 0.346844961372521 and parameters: {'learning_rate': 0.5894815596766031, 'num_leaves': 24, 'tree_learner': 'serial'}. Best is trial 6 with value: 0.3314876278336539.\u001b[0m\n"
          ]
        },
        {
          "output_type": "stream",
          "name": "stdout",
          "text": [
            "Early stopping, best iteration is:\n",
            "[19]\tTrain's rmse: 0.125706\tTest's rmse: 0.332255\n",
            "Training until validation scores don't improve for 50 rounds.\n",
            "Early stopping, best iteration is:\n",
            "[3]\tTrain's rmse: 0.171799\tTest's rmse: 0.346845\n",
            "Training until validation scores don't improve for 50 rounds.\n"
          ]
        },
        {
          "output_type": "stream",
          "name": "stderr",
          "text": [
            "\u001b[32m[I 2021-12-12 02:46:51,693]\u001b[0m Trial 11 finished with value: 0.3345461361324125 and parameters: {'learning_rate': 0.5398808029048686, 'num_leaves': 50, 'tree_learner': 'serial'}. Best is trial 6 with value: 0.3314876278336539.\u001b[0m\n"
          ]
        },
        {
          "output_type": "stream",
          "name": "stdout",
          "text": [
            "Early stopping, best iteration is:\n",
            "[8]\tTrain's rmse: 0.145158\tTest's rmse: 0.334546\n",
            "Training until validation scores don't improve for 50 rounds.\n"
          ]
        },
        {
          "output_type": "stream",
          "name": "stderr",
          "text": [
            "\u001b[32m[I 2021-12-12 02:46:51,984]\u001b[0m Trial 12 finished with value: 0.3324588301197215 and parameters: {'learning_rate': 0.5276530014616095, 'num_leaves': 48, 'tree_learner': 'serial'}. Best is trial 6 with value: 0.3314876278336539.\u001b[0m\n"
          ]
        },
        {
          "output_type": "stream",
          "name": "stdout",
          "text": [
            "Early stopping, best iteration is:\n",
            "[11]\tTrain's rmse: 0.133779\tTest's rmse: 0.332459\n",
            "Training until validation scores don't improve for 50 rounds.\n"
          ]
        },
        {
          "output_type": "stream",
          "name": "stderr",
          "text": [
            "\u001b[32m[I 2021-12-12 02:46:52,216]\u001b[0m Trial 13 finished with value: 0.34231255321728166 and parameters: {'learning_rate': 0.6681785002063154, 'num_leaves': 42, 'tree_learner': 'serial'}. Best is trial 6 with value: 0.3314876278336539.\u001b[0m\n"
          ]
        },
        {
          "output_type": "stream",
          "name": "stdout",
          "text": [
            "Early stopping, best iteration is:\n",
            "[3]\tTrain's rmse: 0.164665\tTest's rmse: 0.342313\n",
            "Training until validation scores don't improve for 50 rounds.\n"
          ]
        },
        {
          "output_type": "stream",
          "name": "stderr",
          "text": [
            "\u001b[32m[I 2021-12-12 02:46:52,492]\u001b[0m Trial 14 finished with value: 0.3369662983062257 and parameters: {'learning_rate': 0.453792927874429, 'num_leaves': 42, 'tree_learner': 'serial'}. Best is trial 6 with value: 0.3314876278336539.\u001b[0m\n"
          ]
        },
        {
          "output_type": "stream",
          "name": "stdout",
          "text": [
            "Early stopping, best iteration is:\n",
            "[11]\tTrain's rmse: 0.137282\tTest's rmse: 0.336966\n",
            "Training until validation scores don't improve for 50 rounds.\n"
          ]
        },
        {
          "output_type": "stream",
          "name": "stderr",
          "text": [
            "\u001b[32m[I 2021-12-12 02:46:52,955]\u001b[0m Trial 15 finished with value: 0.3444561254300842 and parameters: {'learning_rate': 0.10980611742433544, 'num_leaves': 50, 'tree_learner': 'serial'}. Best is trial 6 with value: 0.3314876278336539.\u001b[0m\n",
            "\u001b[32m[I 2021-12-12 02:46:53,111]\u001b[0m Trial 16 finished with value: 0.3472571665587087 and parameters: {'learning_rate': 0.7356912391726833, 'num_leaves': 28, 'tree_learner': 'serial'}. Best is trial 6 with value: 0.3314876278336539.\u001b[0m\n"
          ]
        },
        {
          "output_type": "stream",
          "name": "stdout",
          "text": [
            "Early stopping, best iteration is:\n",
            "[38]\tTrain's rmse: 0.145237\tTest's rmse: 0.344456\n",
            "Training until validation scores don't improve for 50 rounds.\n",
            "Early stopping, best iteration is:\n",
            "[2]\tTrain's rmse: 0.173727\tTest's rmse: 0.347257\n",
            "Training until validation scores don't improve for 50 rounds.\n"
          ]
        },
        {
          "output_type": "stream",
          "name": "stderr",
          "text": [
            "\u001b[32m[I 2021-12-12 02:46:53,444]\u001b[0m Trial 17 finished with value: 0.34145404286915937 and parameters: {'learning_rate': 0.43317057713943624, 'num_leaves': 39, 'tree_learner': 'feature'}. Best is trial 6 with value: 0.3314876278336539.\u001b[0m\n"
          ]
        },
        {
          "output_type": "stream",
          "name": "stdout",
          "text": [
            "Early stopping, best iteration is:\n",
            "[32]\tTrain's rmse: 0.12391\tTest's rmse: 0.341454\n",
            "Training until validation scores don't improve for 50 rounds.\n"
          ]
        },
        {
          "output_type": "stream",
          "name": "stderr",
          "text": [
            "\u001b[32m[I 2021-12-12 02:46:53,703]\u001b[0m Trial 18 finished with value: 0.3431290186208778 and parameters: {'learning_rate': 0.6478818966375968, 'num_leaves': 45, 'tree_learner': 'voting'}. Best is trial 6 with value: 0.3314876278336539.\u001b[0m\n",
            "\u001b[32m[I 2021-12-12 02:46:53,883]\u001b[0m Trial 19 finished with value: 0.3394125204769424 and parameters: {'learning_rate': 0.47373021355478184, 'num_leaves': 29, 'tree_learner': 'serial'}. Best is trial 6 with value: 0.3314876278336539.\u001b[0m\n"
          ]
        },
        {
          "output_type": "stream",
          "name": "stdout",
          "text": [
            "Early stopping, best iteration is:\n",
            "[3]\tTrain's rmse: 0.165827\tTest's rmse: 0.343129\n",
            "Training until validation scores don't improve for 50 rounds.\n",
            "Early stopping, best iteration is:\n",
            "[5]\tTrain's rmse: 0.159671\tTest's rmse: 0.339413\n"
          ]
        },
        {
          "output_type": "stream",
          "name": "stderr",
          "text": [
            "\u001b[32m[I 2021-12-12 02:46:54,001]\u001b[0m Trial 20 finished with value: 0.33303590834265406 and parameters: {'learning_rate': 0.8312717021669336, 'num_leaves': 5, 'tree_learner': 'serial'}. Best is trial 6 with value: 0.3314876278336539.\u001b[0m\n"
          ]
        },
        {
          "output_type": "stream",
          "name": "stdout",
          "text": [
            "Training until validation scores don't improve for 50 rounds.\n",
            "Early stopping, best iteration is:\n",
            "[32]\tTrain's rmse: 0.108728\tTest's rmse: 0.333036\n",
            "Training until validation scores don't improve for 50 rounds.\n"
          ]
        },
        {
          "output_type": "stream",
          "name": "stderr",
          "text": [
            "\u001b[32m[I 2021-12-12 02:46:54,275]\u001b[0m Trial 21 finished with value: 0.3317925888215943 and parameters: {'learning_rate': 0.5263597168776509, 'num_leaves': 47, 'tree_learner': 'serial'}. Best is trial 6 with value: 0.3314876278336539.\u001b[0m\n"
          ]
        },
        {
          "output_type": "stream",
          "name": "stdout",
          "text": [
            "Early stopping, best iteration is:\n",
            "[12]\tTrain's rmse: 0.132325\tTest's rmse: 0.331793\n",
            "Training until validation scores don't improve for 50 rounds.\n"
          ]
        },
        {
          "output_type": "stream",
          "name": "stderr",
          "text": [
            "\u001b[32m[I 2021-12-12 02:46:54,519]\u001b[0m Trial 22 finished with value: 0.3460483927937558 and parameters: {'learning_rate': 0.601013740301753, 'num_leaves': 46, 'tree_learner': 'serial'}. Best is trial 6 with value: 0.3314876278336539.\u001b[0m\n"
          ]
        },
        {
          "output_type": "stream",
          "name": "stdout",
          "text": [
            "Early stopping, best iteration is:\n",
            "[3]\tTrain's rmse: 0.169975\tTest's rmse: 0.346048\n",
            "Training until validation scores don't improve for 50 rounds.\n"
          ]
        },
        {
          "output_type": "stream",
          "name": "stderr",
          "text": [
            "\u001b[32m[I 2021-12-12 02:46:54,841]\u001b[0m Trial 23 finished with value: 0.3437811037629939 and parameters: {'learning_rate': 0.39524209989279707, 'num_leaves': 38, 'tree_learner': 'serial'}. Best is trial 6 with value: 0.3314876278336539.\u001b[0m\n"
          ]
        },
        {
          "output_type": "stream",
          "name": "stdout",
          "text": [
            "Early stopping, best iteration is:\n",
            "[24]\tTrain's rmse: 0.131328\tTest's rmse: 0.343781\n",
            "Training until validation scores don't improve for 50 rounds.\n"
          ]
        },
        {
          "output_type": "stream",
          "name": "stderr",
          "text": [
            "\u001b[32m[I 2021-12-12 02:46:55,103]\u001b[0m Trial 24 finished with value: 0.33021222357307617 and parameters: {'learning_rate': 0.49958333077839084, 'num_leaves': 42, 'tree_learner': 'serial'}. Best is trial 24 with value: 0.33021222357307617.\u001b[0m\n"
          ]
        },
        {
          "output_type": "stream",
          "name": "stdout",
          "text": [
            "Early stopping, best iteration is:\n",
            "[10]\tTrain's rmse: 0.133263\tTest's rmse: 0.330212\n",
            "Training until validation scores don't improve for 50 rounds.\n"
          ]
        },
        {
          "output_type": "stream",
          "name": "stderr",
          "text": [
            "\u001b[32m[I 2021-12-12 02:46:55,485]\u001b[0m Trial 25 finished with value: 0.34897604326517473 and parameters: {'learning_rate': 0.5349378515530822, 'num_leaves': 40, 'tree_learner': 'serial'}. Best is trial 24 with value: 0.33021222357307617.\u001b[0m\n"
          ]
        },
        {
          "output_type": "stream",
          "name": "stdout",
          "text": [
            "Early stopping, best iteration is:\n",
            "[41]\tTrain's rmse: 0.109166\tTest's rmse: 0.348976\n",
            "Training until validation scores don't improve for 50 rounds.\n"
          ]
        },
        {
          "output_type": "stream",
          "name": "stderr",
          "text": [
            "\u001b[32m[I 2021-12-12 02:46:55,708]\u001b[0m Trial 26 finished with value: 0.34197801671412364 and parameters: {'learning_rate': 0.6796125765753254, 'num_leaves': 36, 'tree_learner': 'feature'}. Best is trial 24 with value: 0.33021222357307617.\u001b[0m\n"
          ]
        },
        {
          "output_type": "stream",
          "name": "stdout",
          "text": [
            "Early stopping, best iteration is:\n",
            "[3]\tTrain's rmse: 0.164189\tTest's rmse: 0.341978\n",
            "Training until validation scores don't improve for 50 rounds.\n"
          ]
        },
        {
          "output_type": "stream",
          "name": "stderr",
          "text": [
            "\u001b[32m[I 2021-12-12 02:46:56,065]\u001b[0m Trial 27 finished with value: 0.3476826725113396 and parameters: {'learning_rate': 0.27500235962912417, 'num_leaves': 31, 'tree_learner': 'data'}. Best is trial 24 with value: 0.33021222357307617.\u001b[0m\n"
          ]
        },
        {
          "output_type": "stream",
          "name": "stdout",
          "text": [
            "Did not meet early stopping. Best iteration is:\n",
            "[100]\tTrain's rmse: 0.105391\tTest's rmse: 0.347683\n",
            "Training until validation scores don't improve for 50 rounds.\n"
          ]
        },
        {
          "output_type": "stream",
          "name": "stderr",
          "text": [
            "\u001b[32m[I 2021-12-12 02:46:56,312]\u001b[0m Trial 28 finished with value: 0.3419556864574393 and parameters: {'learning_rate': 0.5881326260670029, 'num_leaves': 43, 'tree_learner': 'voting'}. Best is trial 24 with value: 0.33021222357307617.\u001b[0m\n",
            "\u001b[32m[I 2021-12-12 02:46:56,458]\u001b[0m Trial 29 finished with value: 0.35503590708093624 and parameters: {'learning_rate': 0.9152224265445053, 'num_leaves': 23, 'tree_learner': 'serial'}. Best is trial 24 with value: 0.33021222357307617.\u001b[0m\n"
          ]
        },
        {
          "output_type": "stream",
          "name": "stdout",
          "text": [
            "Early stopping, best iteration is:\n",
            "[6]\tTrain's rmse: 0.15186\tTest's rmse: 0.341956\n",
            "Training until validation scores don't improve for 50 rounds.\n",
            "Early stopping, best iteration is:\n",
            "[4]\tTrain's rmse: 0.150913\tTest's rmse: 0.355036\n",
            "Training until validation scores don't improve for 50 rounds.\n"
          ]
        },
        {
          "output_type": "stream",
          "name": "stderr",
          "text": [
            "\u001b[32m[I 2021-12-12 02:46:56,613]\u001b[0m Trial 30 finished with value: 0.32706618506768675 and parameters: {'learning_rate': 0.7670415590966797, 'num_leaves': 14, 'tree_learner': 'serial'}. Best is trial 30 with value: 0.32706618506768675.\u001b[0m\n",
            "\u001b[32m[I 2021-12-12 02:46:56,740]\u001b[0m Trial 31 finished with value: 0.34363758544542283 and parameters: {'learning_rate': 0.8125540010692589, 'num_leaves': 12, 'tree_learner': 'serial'}. Best is trial 30 with value: 0.32706618506768675.\u001b[0m\n"
          ]
        },
        {
          "output_type": "stream",
          "name": "stdout",
          "text": [
            "Early stopping, best iteration is:\n",
            "[24]\tTrain's rmse: 0.106323\tTest's rmse: 0.327066\n",
            "Training until validation scores don't improve for 50 rounds.\n",
            "Early stopping, best iteration is:\n",
            "[2]\tTrain's rmse: 0.172084\tTest's rmse: 0.343638\n",
            "Training until validation scores don't improve for 50 rounds.\n"
          ]
        },
        {
          "output_type": "stream",
          "name": "stderr",
          "text": [
            "\u001b[32m[I 2021-12-12 02:46:56,863]\u001b[0m Trial 32 finished with value: 0.34521199160250055 and parameters: {'learning_rate': 0.9755606758561073, 'num_leaves': 15, 'tree_learner': 'serial'}. Best is trial 30 with value: 0.32706618506768675.\u001b[0m\n",
            "\u001b[32m[I 2021-12-12 02:46:56,989]\u001b[0m Trial 33 finished with value: 0.3486066274068783 and parameters: {'learning_rate': 0.730029487505834, 'num_leaves': 18, 'tree_learner': 'serial'}. Best is trial 30 with value: 0.32706618506768675.\u001b[0m\n"
          ]
        },
        {
          "output_type": "stream",
          "name": "stdout",
          "text": [
            "Early stopping, best iteration is:\n",
            "[1]\tTrain's rmse: 0.175924\tTest's rmse: 0.345212\n",
            "Training until validation scores don't improve for 50 rounds.\n",
            "Early stopping, best iteration is:\n",
            "[2]\tTrain's rmse: 0.175872\tTest's rmse: 0.348607\n",
            "Training until validation scores don't improve for 50 rounds.\n"
          ]
        },
        {
          "output_type": "stream",
          "name": "stderr",
          "text": [
            "\u001b[32m[I 2021-12-12 02:46:57,148]\u001b[0m Trial 34 finished with value: 0.3362697305037134 and parameters: {'learning_rate': 0.4242135268080591, 'num_leaves': 24, 'tree_learner': 'serial'}. Best is trial 30 with value: 0.32706618506768675.\u001b[0m\n",
            "\u001b[32m[I 2021-12-12 02:46:57,233]\u001b[0m Trial 35 finished with value: 0.32895795995521765 and parameters: {'learning_rate': 0.5090408025489345, 'num_leaves': 6, 'tree_learner': 'feature'}. Best is trial 30 with value: 0.32706618506768675.\u001b[0m\n",
            "\u001b[32m[I 2021-12-12 02:46:57,328]\u001b[0m Trial 36 finished with value: 0.32684938332320984 and parameters: {'learning_rate': 0.6100714817557646, 'num_leaves': 8, 'tree_learner': 'feature'}. Best is trial 36 with value: 0.32684938332320984.\u001b[0m\n"
          ]
        },
        {
          "output_type": "stream",
          "name": "stdout",
          "text": [
            "Early stopping, best iteration is:\n",
            "[6]\tTrain's rmse: 0.156546\tTest's rmse: 0.33627\n",
            "Training until validation scores don't improve for 50 rounds.\n",
            "Early stopping, best iteration is:\n",
            "[9]\tTrain's rmse: 0.154247\tTest's rmse: 0.328958\n",
            "Training until validation scores don't improve for 50 rounds.\n",
            "Early stopping, best iteration is:\n",
            "[4]\tTrain's rmse: 0.163259\tTest's rmse: 0.326849\n"
          ]
        },
        {
          "output_type": "stream",
          "name": "stderr",
          "text": [
            "\u001b[32m[I 2021-12-12 02:46:57,418]\u001b[0m Trial 37 finished with value: 0.33257876538109693 and parameters: {'learning_rate': 0.7907359700088268, 'num_leaves': 6, 'tree_learner': 'feature'}. Best is trial 36 with value: 0.32684938332320984.\u001b[0m\n",
            "\u001b[32m[I 2021-12-12 02:46:57,510]\u001b[0m Trial 38 finished with value: 0.3472902541878726 and parameters: {'learning_rate': 0.6323039496265876, 'num_leaves': 9, 'tree_learner': 'feature'}. Best is trial 36 with value: 0.32684938332320984.\u001b[0m\n"
          ]
        },
        {
          "output_type": "stream",
          "name": "stdout",
          "text": [
            "Training until validation scores don't improve for 50 rounds.\n",
            "Early stopping, best iteration is:\n",
            "[2]\tTrain's rmse: 0.196847\tTest's rmse: 0.332579\n",
            "Training until validation scores don't improve for 50 rounds.\n",
            "Early stopping, best iteration is:\n",
            "[3]\tTrain's rmse: 0.1742\tTest's rmse: 0.34729\n",
            "Training until validation scores don't improve for 50 rounds.\n"
          ]
        },
        {
          "output_type": "stream",
          "name": "stderr",
          "text": [
            "\u001b[32m[I 2021-12-12 02:46:57,676]\u001b[0m Trial 39 finished with value: 0.3432963200344637 and parameters: {'learning_rate': 0.713140435941436, 'num_leaves': 15, 'tree_learner': 'feature'}. Best is trial 36 with value: 0.32684938332320984.\u001b[0m\n",
            "\u001b[32m[I 2021-12-12 02:46:57,794]\u001b[0m Trial 40 finished with value: 0.33942734078249437 and parameters: {'learning_rate': 0.7787939946464353, 'num_leaves': 8, 'tree_learner': 'feature'}. Best is trial 36 with value: 0.32684938332320984.\u001b[0m\n"
          ]
        },
        {
          "output_type": "stream",
          "name": "stdout",
          "text": [
            "Early stopping, best iteration is:\n",
            "[29]\tTrain's rmse: 0.106432\tTest's rmse: 0.343296\n",
            "Training until validation scores don't improve for 50 rounds.\n",
            "Early stopping, best iteration is:\n",
            "[4]\tTrain's rmse: 0.16073\tTest's rmse: 0.339427\n",
            "Training until validation scores don't improve for 50 rounds.\n"
          ]
        },
        {
          "output_type": "stream",
          "name": "stderr",
          "text": [
            "\u001b[32m[I 2021-12-12 02:46:57,989]\u001b[0m Trial 41 finished with value: 0.33599512733248654 and parameters: {'learning_rate': 0.5027280814655524, 'num_leaves': 12, 'tree_learner': 'feature'}. Best is trial 36 with value: 0.32684938332320984.\u001b[0m\n",
            "\u001b[32m[I 2021-12-12 02:46:58,081]\u001b[0m Trial 42 finished with value: 0.3290662119203974 and parameters: {'learning_rate': 0.37204637233913107, 'num_leaves': 7, 'tree_learner': 'data'}. Best is trial 36 with value: 0.32684938332320984.\u001b[0m\n"
          ]
        },
        {
          "output_type": "stream",
          "name": "stdout",
          "text": [
            "Did not meet early stopping. Best iteration is:\n",
            "[100]\tTrain's rmse: 0.0748984\tTest's rmse: 0.335995\n",
            "Training until validation scores don't improve for 50 rounds.\n",
            "Early stopping, best iteration is:\n",
            "[8]\tTrain's rmse: 0.1577\tTest's rmse: 0.329066\n",
            "Training until validation scores don't improve for 50 rounds.\n"
          ]
        },
        {
          "output_type": "stream",
          "name": "stderr",
          "text": [
            "\u001b[32m[I 2021-12-12 02:46:58,260]\u001b[0m Trial 43 finished with value: 0.3444050097133535 and parameters: {'learning_rate': 0.3514165139069374, 'num_leaves': 12, 'tree_learner': 'data'}. Best is trial 36 with value: 0.32684938332320984.\u001b[0m\n",
            "\u001b[32m[I 2021-12-12 02:46:58,354]\u001b[0m Trial 44 finished with value: 0.33722636244196297 and parameters: {'learning_rate': 0.2835509461177919, 'num_leaves': 7, 'tree_learner': 'data'}. Best is trial 36 with value: 0.32684938332320984.\u001b[0m\n"
          ]
        },
        {
          "output_type": "stream",
          "name": "stdout",
          "text": [
            "Early stopping, best iteration is:\n",
            "[39]\tTrain's rmse: 0.123656\tTest's rmse: 0.344405\n",
            "Training until validation scores don't improve for 50 rounds.\n",
            "Early stopping, best iteration is:\n",
            "[12]\tTrain's rmse: 0.154492\tTest's rmse: 0.337226\n",
            "Training until validation scores don't improve for 50 rounds.\n"
          ]
        },
        {
          "output_type": "stream",
          "name": "stderr",
          "text": [
            "\u001b[32m[I 2021-12-12 02:46:58,489]\u001b[0m Trial 45 finished with value: 0.3499296452859924 and parameters: {'learning_rate': 0.41158908342328654, 'num_leaves': 15, 'tree_learner': 'data'}. Best is trial 36 with value: 0.32684938332320984.\u001b[0m\n",
            "\u001b[32m[I 2021-12-12 02:46:58,601]\u001b[0m Trial 46 finished with value: 0.34475257042547325 and parameters: {'learning_rate': 0.5894233554096737, 'num_leaves': 11, 'tree_learner': 'feature'}. Best is trial 36 with value: 0.32684938332320984.\u001b[0m\n"
          ]
        },
        {
          "output_type": "stream",
          "name": "stdout",
          "text": [
            "Early stopping, best iteration is:\n",
            "[9]\tTrain's rmse: 0.151754\tTest's rmse: 0.34993\n",
            "Training until validation scores don't improve for 50 rounds.\n",
            "Early stopping, best iteration is:\n",
            "[11]\tTrain's rmse: 0.140444\tTest's rmse: 0.344753\n",
            "Training until validation scores don't improve for 50 rounds.\n",
            "Early stopping, best iteration is:\n",
            "[15]\tTrain's rmse: 0.153161\tTest's rmse: 0.340819\n"
          ]
        },
        {
          "output_type": "stream",
          "name": "stderr",
          "text": [
            "\u001b[32m[I 2021-12-12 02:46:58,691]\u001b[0m Trial 47 finished with value: 0.3408190429278116 and parameters: {'learning_rate': 0.37628485845905096, 'num_leaves': 5, 'tree_learner': 'data'}. Best is trial 36 with value: 0.32684938332320984.\u001b[0m\n",
            "\u001b[32m[I 2021-12-12 02:46:58,838]\u001b[0m Trial 48 finished with value: 0.3442653402134603 and parameters: {'learning_rate': 0.20502139038765277, 'num_leaves': 9, 'tree_learner': 'feature'}. Best is trial 36 with value: 0.32684938332320984.\u001b[0m\n"
          ]
        },
        {
          "output_type": "stream",
          "name": "stdout",
          "text": [
            "Training until validation scores don't improve for 50 rounds.\n",
            "Early stopping, best iteration is:\n",
            "[19]\tTrain's rmse: 0.14736\tTest's rmse: 0.344265\n",
            "Training until validation scores don't improve for 50 rounds.\n"
          ]
        },
        {
          "output_type": "stream",
          "name": "stderr",
          "text": [
            "\u001b[32m[I 2021-12-12 02:46:59,106]\u001b[0m Trial 49 finished with value: 0.3490786120256078 and parameters: {'learning_rate': 0.5624853799790511, 'num_leaves': 21, 'tree_learner': 'voting'}. Best is trial 36 with value: 0.32684938332320984.\u001b[0m\n",
            "\u001b[32m[I 2021-12-12 02:46:59,251]\u001b[0m Trial 50 finished with value: 0.345229406331146 and parameters: {'learning_rate': 0.3010000247367151, 'num_leaves': 14, 'tree_learner': 'data'}. Best is trial 36 with value: 0.32684938332320984.\u001b[0m\n"
          ]
        },
        {
          "output_type": "stream",
          "name": "stdout",
          "text": [
            "Did not meet early stopping. Best iteration is:\n",
            "[100]\tTrain's rmse: 0.0729991\tTest's rmse: 0.349079\n",
            "Training until validation scores don't improve for 50 rounds.\n",
            "Early stopping, best iteration is:\n",
            "[15]\tTrain's rmse: 0.145017\tTest's rmse: 0.345229\n",
            "Training until validation scores don't improve for 50 rounds.\n"
          ]
        },
        {
          "output_type": "stream",
          "name": "stderr",
          "text": [
            "\u001b[32m[I 2021-12-12 02:46:59,347]\u001b[0m Trial 51 finished with value: 0.3313869647951364 and parameters: {'learning_rate': 0.48916497426551286, 'num_leaves': 7, 'tree_learner': 'feature'}. Best is trial 36 with value: 0.32684938332320984.\u001b[0m\n",
            "\u001b[32m[I 2021-12-12 02:46:59,438]\u001b[0m Trial 52 finished with value: 0.3397189683826586 and parameters: {'learning_rate': 0.48384695366611075, 'num_leaves': 8, 'tree_learner': 'feature'}. Best is trial 36 with value: 0.32684938332320984.\u001b[0m\n"
          ]
        },
        {
          "output_type": "stream",
          "name": "stdout",
          "text": [
            "Early stopping, best iteration is:\n",
            "[8]\tTrain's rmse: 0.154118\tTest's rmse: 0.331387\n",
            "Training until validation scores don't improve for 50 rounds.\n",
            "Early stopping, best iteration is:\n",
            "[4]\tTrain's rmse: 0.175296\tTest's rmse: 0.339719\n",
            "Training until validation scores don't improve for 50 rounds.\n"
          ]
        },
        {
          "output_type": "stream",
          "name": "stderr",
          "text": [
            "\u001b[32m[I 2021-12-12 02:46:59,579]\u001b[0m Trial 53 finished with value: 0.336358727204636 and parameters: {'learning_rate': 0.45226247016177235, 'num_leaves': 18, 'tree_learner': 'feature'}. Best is trial 36 with value: 0.32684938332320984.\u001b[0m\n",
            "\u001b[32m[I 2021-12-12 02:46:59,697]\u001b[0m Trial 54 finished with value: 0.34967629483331397 and parameters: {'learning_rate': 0.5652543271645439, 'num_leaves': 10, 'tree_learner': 'feature'}. Best is trial 36 with value: 0.32684938332320984.\u001b[0m\n"
          ]
        },
        {
          "output_type": "stream",
          "name": "stdout",
          "text": [
            "Early stopping, best iteration is:\n",
            "[6]\tTrain's rmse: 0.155747\tTest's rmse: 0.336359\n",
            "Training until validation scores don't improve for 50 rounds.\n",
            "Early stopping, best iteration is:\n",
            "[5]\tTrain's rmse: 0.159301\tTest's rmse: 0.349676\n",
            "Training until validation scores don't improve for 50 rounds.\n"
          ]
        },
        {
          "output_type": "stream",
          "name": "stderr",
          "text": [
            "\u001b[32m[I 2021-12-12 02:46:59,805]\u001b[0m Trial 55 finished with value: 0.35812268718811807 and parameters: {'learning_rate': 0.8742810890805328, 'num_leaves': 7, 'tree_learner': 'feature'}. Best is trial 36 with value: 0.32684938332320984.\u001b[0m\n",
            "\u001b[32m[I 2021-12-12 02:46:59,948]\u001b[0m Trial 56 finished with value: 0.3279553084316213 and parameters: {'learning_rate': 0.49574768992653284, 'num_leaves': 6, 'tree_learner': 'feature'}. Best is trial 36 with value: 0.32684938332320984.\u001b[0m\n"
          ]
        },
        {
          "output_type": "stream",
          "name": "stdout",
          "text": [
            "Early stopping, best iteration is:\n",
            "[3]\tTrain's rmse: 0.182266\tTest's rmse: 0.358123\n",
            "Training until validation scores don't improve for 50 rounds.\n",
            "Did not meet early stopping. Best iteration is:\n",
            "[100]\tTrain's rmse: 0.0475194\tTest's rmse: 0.327955\n",
            "Training until validation scores don't improve for 50 rounds.\n"
          ]
        },
        {
          "output_type": "stream",
          "name": "stderr",
          "text": [
            "\u001b[32m[I 2021-12-12 02:47:00,048]\u001b[0m Trial 57 finished with value: 0.31618048667254833 and parameters: {'learning_rate': 0.6192844380426474, 'num_leaves': 5, 'tree_learner': 'voting'}. Best is trial 57 with value: 0.31618048667254833.\u001b[0m\n",
            "\u001b[32m[I 2021-12-12 02:47:00,142]\u001b[0m Trial 58 finished with value: 0.32260500782481794 and parameters: {'learning_rate': 0.6976119520879668, 'num_leaves': 5, 'tree_learner': 'voting'}. Best is trial 57 with value: 0.31618048667254833.\u001b[0m\n",
            "\u001b[32m[I 2021-12-12 02:47:00,224]\u001b[0m Trial 59 finished with value: 0.3305583652728237 and parameters: {'learning_rate': 0.6287650773331763, 'num_leaves': 5, 'tree_learner': 'voting'}. Best is trial 57 with value: 0.31618048667254833.\u001b[0m\n"
          ]
        },
        {
          "output_type": "stream",
          "name": "stdout",
          "text": [
            "Early stopping, best iteration is:\n",
            "[13]\tTrain's rmse: 0.152839\tTest's rmse: 0.31618\n",
            "Training until validation scores don't improve for 50 rounds.\n",
            "Early stopping, best iteration is:\n",
            "[13]\tTrain's rmse: 0.152998\tTest's rmse: 0.322605\n",
            "Training until validation scores don't improve for 50 rounds.\n",
            "Early stopping, best iteration is:\n",
            "[6]\tTrain's rmse: 0.170626\tTest's rmse: 0.330558\n"
          ]
        },
        {
          "output_type": "stream",
          "name": "stderr",
          "text": [
            "\u001b[32m[I 2021-12-12 02:47:00,349]\u001b[0m Trial 60 finished with value: 0.35245119176432216 and parameters: {'learning_rate': 0.6846114368868366, 'num_leaves': 13, 'tree_learner': 'voting'}. Best is trial 57 with value: 0.31618048667254833.\u001b[0m\n"
          ]
        },
        {
          "output_type": "stream",
          "name": "stdout",
          "text": [
            "Training until validation scores don't improve for 50 rounds.\n",
            "Early stopping, best iteration is:\n",
            "[5]\tTrain's rmse: 0.151832\tTest's rmse: 0.352451\n",
            "Training until validation scores don't improve for 50 rounds.\n",
            "Early stopping, best iteration is:\n",
            "[2]\tTrain's rmse: 0.18018\tTest's rmse: 0.350088\n"
          ]
        },
        {
          "output_type": "stream",
          "name": "stderr",
          "text": [
            "\u001b[32m[I 2021-12-12 02:47:00,450]\u001b[0m Trial 61 finished with value: 0.3500882178038671 and parameters: {'learning_rate': 0.7521322387212738, 'num_leaves': 10, 'tree_learner': 'voting'}. Best is trial 57 with value: 0.31618048667254833.\u001b[0m\n",
            "\u001b[32m[I 2021-12-12 02:47:00,533]\u001b[0m Trial 62 finished with value: 0.3250745006613781 and parameters: {'learning_rate': 0.6971129422407011, 'num_leaves': 5, 'tree_learner': 'voting'}. Best is trial 57 with value: 0.31618048667254833.\u001b[0m\n",
            "\u001b[32m[I 2021-12-12 02:47:00,621]\u001b[0m Trial 63 finished with value: 0.32461824653644183 and parameters: {'learning_rate': 0.6906067626199568, 'num_leaves': 6, 'tree_learner': 'voting'}. Best is trial 57 with value: 0.31618048667254833.\u001b[0m\n"
          ]
        },
        {
          "output_type": "stream",
          "name": "stdout",
          "text": [
            "Training until validation scores don't improve for 50 rounds.\n",
            "Early stopping, best iteration is:\n",
            "[10]\tTrain's rmse: 0.15752\tTest's rmse: 0.325074\n",
            "Training until validation scores don't improve for 50 rounds.\n",
            "Early stopping, best iteration is:\n",
            "[10]\tTrain's rmse: 0.1436\tTest's rmse: 0.324618\n",
            "Training until validation scores don't improve for 50 rounds.\n"
          ]
        },
        {
          "output_type": "stream",
          "name": "stderr",
          "text": [
            "\u001b[32m[I 2021-12-12 02:47:00,719]\u001b[0m Trial 64 finished with value: 0.3250525349123573 and parameters: {'learning_rate': 0.6960137189229841, 'num_leaves': 5, 'tree_learner': 'voting'}. Best is trial 57 with value: 0.31618048667254833.\u001b[0m\n",
            "\u001b[32m[I 2021-12-12 02:47:00,901]\u001b[0m Trial 65 finished with value: 0.34893793946610924 and parameters: {'learning_rate': 0.7045335290924672, 'num_leaves': 9, 'tree_learner': 'voting'}. Best is trial 57 with value: 0.31618048667254833.\u001b[0m\n"
          ]
        },
        {
          "output_type": "stream",
          "name": "stdout",
          "text": [
            "Early stopping, best iteration is:\n",
            "[18]\tTrain's rmse: 0.134952\tTest's rmse: 0.325053\n",
            "Training until validation scores don't improve for 50 rounds.\n",
            "Did not meet early stopping. Best iteration is:\n",
            "[100]\tTrain's rmse: 0.0629753\tTest's rmse: 0.348938\n"
          ]
        },
        {
          "output_type": "stream",
          "name": "stderr",
          "text": [
            "\u001b[32m[I 2021-12-12 02:47:01,033]\u001b[0m Trial 66 finished with value: 0.316288462575596 and parameters: {'learning_rate': 0.6481990978062449, 'num_leaves': 8, 'tree_learner': 'voting'}. Best is trial 57 with value: 0.31618048667254833.\u001b[0m\n",
            "\u001b[32m[I 2021-12-12 02:47:01,125]\u001b[0m Trial 67 finished with value: 0.31119078793952454 and parameters: {'learning_rate': 0.6622823275142123, 'num_leaves': 5, 'tree_learner': 'voting'}. Best is trial 67 with value: 0.31119078793952454.\u001b[0m\n"
          ]
        },
        {
          "output_type": "stream",
          "name": "stdout",
          "text": [
            "Training until validation scores don't improve for 50 rounds.\n",
            "Early stopping, best iteration is:\n",
            "[23]\tTrain's rmse: 0.086482\tTest's rmse: 0.316288\n",
            "Training until validation scores don't improve for 50 rounds.\n",
            "Early stopping, best iteration is:\n",
            "[24]\tTrain's rmse: 0.112795\tTest's rmse: 0.311191\n"
          ]
        },
        {
          "output_type": "stream",
          "name": "stderr",
          "text": [
            "\u001b[32m[I 2021-12-12 02:47:01,224]\u001b[0m Trial 68 finished with value: 0.3112188871437756 and parameters: {'learning_rate': 0.6588514077746823, 'num_leaves': 5, 'tree_learner': 'voting'}. Best is trial 67 with value: 0.31119078793952454.\u001b[0m\n",
            "\u001b[32m[I 2021-12-12 02:47:01,303]\u001b[0m Trial 69 finished with value: 0.3306555764254393 and parameters: {'learning_rate': 0.6365309790356376, 'num_leaves': 5, 'tree_learner': 'voting'}. Best is trial 67 with value: 0.31119078793952454.\u001b[0m\n"
          ]
        },
        {
          "output_type": "stream",
          "name": "stdout",
          "text": [
            "Training until validation scores don't improve for 50 rounds.\n",
            "Early stopping, best iteration is:\n",
            "[24]\tTrain's rmse: 0.112854\tTest's rmse: 0.311219\n",
            "Training until validation scores don't improve for 50 rounds.\n",
            "Early stopping, best iteration is:\n",
            "[6]\tTrain's rmse: 0.170663\tTest's rmse: 0.330656\n",
            "Training until validation scores don't improve for 50 rounds.\n"
          ]
        },
        {
          "output_type": "stream",
          "name": "stderr",
          "text": [
            "\u001b[32m[I 2021-12-12 02:47:01,426]\u001b[0m Trial 70 finished with value: 0.3508824433937407 and parameters: {'learning_rate': 0.6789380264835082, 'num_leaves': 11, 'tree_learner': 'voting'}. Best is trial 67 with value: 0.31119078793952454.\u001b[0m\n",
            "\u001b[32m[I 2021-12-12 02:47:01,519]\u001b[0m Trial 71 finished with value: 0.3112255380158781 and parameters: {'learning_rate': 0.6580909803099757, 'num_leaves': 5, 'tree_learner': 'voting'}. Best is trial 67 with value: 0.31119078793952454.\u001b[0m\n",
            "\u001b[32m[I 2021-12-12 02:47:01,612]\u001b[0m Trial 72 finished with value: 0.32828410114586476 and parameters: {'learning_rate': 0.6595691647020033, 'num_leaves': 6, 'tree_learner': 'voting'}. Best is trial 67 with value: 0.31119078793952454.\u001b[0m\n"
          ]
        },
        {
          "output_type": "stream",
          "name": "stdout",
          "text": [
            "Early stopping, best iteration is:\n",
            "[6]\tTrain's rmse: 0.142729\tTest's rmse: 0.350882\n",
            "Training until validation scores don't improve for 50 rounds.\n",
            "Early stopping, best iteration is:\n",
            "[24]\tTrain's rmse: 0.112868\tTest's rmse: 0.311226\n",
            "Training until validation scores don't improve for 50 rounds.\n",
            "Early stopping, best iteration is:\n",
            "[18]\tTrain's rmse: 0.11004\tTest's rmse: 0.328284\n"
          ]
        },
        {
          "output_type": "stream",
          "name": "stderr",
          "text": [
            "\u001b[32m[I 2021-12-12 02:47:01,775]\u001b[0m Trial 73 finished with value: 0.33052185063028605 and parameters: {'learning_rate': 0.7435578098173597, 'num_leaves': 8, 'tree_learner': 'voting'}. Best is trial 67 with value: 0.31119078793952454.\u001b[0m\n"
          ]
        },
        {
          "output_type": "stream",
          "name": "stdout",
          "text": [
            "Training until validation scores don't improve for 50 rounds.\n",
            "Did not meet early stopping. Best iteration is:\n",
            "[100]\tTrain's rmse: 0.0471289\tTest's rmse: 0.330522\n",
            "Training until validation scores don't improve for 50 rounds.\n"
          ]
        },
        {
          "output_type": "stream",
          "name": "stderr",
          "text": [
            "\u001b[32m[I 2021-12-12 02:47:01,904]\u001b[0m Trial 74 finished with value: 0.31122232338923467 and parameters: {'learning_rate': 0.658457073998155, 'num_leaves': 5, 'tree_learner': 'voting'}. Best is trial 67 with value: 0.31119078793952454.\u001b[0m\n",
            "\u001b[32m[I 2021-12-12 02:47:02,054]\u001b[0m Trial 75 finished with value: 0.3420999201043443 and parameters: {'learning_rate': 0.6658300603390144, 'num_leaves': 9, 'tree_learner': 'voting'}. Best is trial 67 with value: 0.31119078793952454.\u001b[0m\n"
          ]
        },
        {
          "output_type": "stream",
          "name": "stdout",
          "text": [
            "Early stopping, best iteration is:\n",
            "[24]\tTrain's rmse: 0.112861\tTest's rmse: 0.311222\n",
            "Training until validation scores don't improve for 50 rounds.\n",
            "Early stopping, best iteration is:\n",
            "[38]\tTrain's rmse: 0.100873\tTest's rmse: 0.3421\n",
            "Training until validation scores don't improve for 50 rounds.\n"
          ]
        },
        {
          "output_type": "stream",
          "name": "stderr",
          "text": [
            "\u001b[32m[I 2021-12-12 02:47:02,157]\u001b[0m Trial 76 finished with value: 0.3303681131794461 and parameters: {'learning_rate': 0.7213523243407769, 'num_leaves': 7, 'tree_learner': 'voting'}. Best is trial 67 with value: 0.31119078793952454.\u001b[0m\n",
            "\u001b[32m[I 2021-12-12 02:47:02,328]\u001b[0m Trial 77 finished with value: 0.3413959192299193 and parameters: {'learning_rate': 0.6145179453626471, 'num_leaves': 10, 'tree_learner': 'voting'}. Best is trial 67 with value: 0.31119078793952454.\u001b[0m\n"
          ]
        },
        {
          "output_type": "stream",
          "name": "stdout",
          "text": [
            "Early stopping, best iteration is:\n",
            "[6]\tTrain's rmse: 0.156874\tTest's rmse: 0.330368\n",
            "Training until validation scores don't improve for 50 rounds.\n",
            "Early stopping, best iteration is:\n",
            "[49]\tTrain's rmse: 0.0768381\tTest's rmse: 0.341396\n",
            "Training until validation scores don't improve for 50 rounds.\n"
          ]
        },
        {
          "output_type": "stream",
          "name": "stderr",
          "text": [
            "\u001b[32m[I 2021-12-12 02:47:02,418]\u001b[0m Trial 78 finished with value: 0.33156179969466515 and parameters: {'learning_rate': 0.6527175833726295, 'num_leaves': 6, 'tree_learner': 'voting'}. Best is trial 67 with value: 0.31119078793952454.\u001b[0m\n",
            "\u001b[32m[I 2021-12-12 02:47:02,522]\u001b[0m Trial 79 finished with value: 0.3276348314575648 and parameters: {'learning_rate': 0.5738544553374059, 'num_leaves': 8, 'tree_learner': 'voting'}. Best is trial 67 with value: 0.31119078793952454.\u001b[0m\n"
          ]
        },
        {
          "output_type": "stream",
          "name": "stdout",
          "text": [
            "Early stopping, best iteration is:\n",
            "[6]\tTrain's rmse: 0.160049\tTest's rmse: 0.331562\n",
            "Training until validation scores don't improve for 50 rounds.\n",
            "Early stopping, best iteration is:\n",
            "[4]\tTrain's rmse: 0.164164\tTest's rmse: 0.327635\n",
            "Training until validation scores don't improve for 50 rounds.\n"
          ]
        },
        {
          "output_type": "stream",
          "name": "stderr",
          "text": [
            "\u001b[32m[I 2021-12-12 02:47:02,645]\u001b[0m Trial 80 finished with value: 0.34212915432029184 and parameters: {'learning_rate': 0.7598703477248772, 'num_leaves': 11, 'tree_learner': 'voting'}. Best is trial 67 with value: 0.31119078793952454.\u001b[0m\n",
            "\u001b[32m[I 2021-12-12 02:47:02,740]\u001b[0m Trial 81 finished with value: 0.3245047800150545 and parameters: {'learning_rate': 0.6140521740602203, 'num_leaves': 6, 'tree_learner': 'voting'}. Best is trial 67 with value: 0.31119078793952454.\u001b[0m\n",
            "\u001b[32m[I 2021-12-12 02:47:02,825]\u001b[0m Trial 82 finished with value: 0.3307098562324681 and parameters: {'learning_rate': 0.6125282487337766, 'num_leaves': 5, 'tree_learner': 'voting'}. Best is trial 67 with value: 0.31119078793952454.\u001b[0m\n"
          ]
        },
        {
          "output_type": "stream",
          "name": "stdout",
          "text": [
            "Early stopping, best iteration is:\n",
            "[9]\tTrain's rmse: 0.131546\tTest's rmse: 0.342129\n",
            "Training until validation scores don't improve for 50 rounds.\n",
            "Early stopping, best iteration is:\n",
            "[17]\tTrain's rmse: 0.132691\tTest's rmse: 0.324505\n",
            "Training until validation scores don't improve for 50 rounds.\n",
            "Early stopping, best iteration is:\n",
            "[6]\tTrain's rmse: 0.17132\tTest's rmse: 0.33071\n"
          ]
        },
        {
          "output_type": "stream",
          "name": "stderr",
          "text": [
            "\u001b[32m[I 2021-12-12 02:47:02,936]\u001b[0m Trial 83 finished with value: 0.32808812084550243 and parameters: {'learning_rate': 0.5424778515370776, 'num_leaves': 7, 'tree_learner': 'voting'}. Best is trial 67 with value: 0.31119078793952454.\u001b[0m\n",
            "\u001b[32m[I 2021-12-12 02:47:03,022]\u001b[0m Trial 84 finished with value: 0.3294356218267259 and parameters: {'learning_rate': 0.6425649899542054, 'num_leaves': 6, 'tree_learner': 'voting'}. Best is trial 67 with value: 0.31119078793952454.\u001b[0m\n"
          ]
        },
        {
          "output_type": "stream",
          "name": "stdout",
          "text": [
            "Training until validation scores don't improve for 50 rounds.\n",
            "Early stopping, best iteration is:\n",
            "[4]\tTrain's rmse: 0.171993\tTest's rmse: 0.328088\n",
            "Training until validation scores don't improve for 50 rounds.\n",
            "Early stopping, best iteration is:\n",
            "[8]\tTrain's rmse: 0.154343\tTest's rmse: 0.329436\n",
            "Training until validation scores don't improve for 50 rounds.\n"
          ]
        },
        {
          "output_type": "stream",
          "name": "stderr",
          "text": [
            "\u001b[32m[I 2021-12-12 02:47:03,125]\u001b[0m Trial 85 finished with value: 0.33155826451983783 and parameters: {'learning_rate': 0.7967187782573683, 'num_leaves': 9, 'tree_learner': 'voting'}. Best is trial 67 with value: 0.31119078793952454.\u001b[0m\n",
            "\u001b[32m[I 2021-12-12 02:47:03,236]\u001b[0m Trial 86 finished with value: 0.32754141774965456 and parameters: {'learning_rate': 0.5835328523385224, 'num_leaves': 8, 'tree_learner': 'voting'}. Best is trial 67 with value: 0.31119078793952454.\u001b[0m\n"
          ]
        },
        {
          "output_type": "stream",
          "name": "stdout",
          "text": [
            "Early stopping, best iteration is:\n",
            "[2]\tTrain's rmse: 0.177424\tTest's rmse: 0.331558\n",
            "Training until validation scores don't improve for 50 rounds.\n",
            "Early stopping, best iteration is:\n",
            "[4]\tTrain's rmse: 0.1639\tTest's rmse: 0.327541\n",
            "Training until validation scores don't improve for 50 rounds.\n",
            "Early stopping, best iteration is:\n",
            "[8]\tTrain's rmse: 0.151635\tTest's rmse: 0.331394\n"
          ]
        },
        {
          "output_type": "stream",
          "name": "stderr",
          "text": [
            "\u001b[32m[I 2021-12-12 02:47:03,327]\u001b[0m Trial 87 finished with value: 0.3313939394038545 and parameters: {'learning_rate': 0.7190548945677144, 'num_leaves': 6, 'tree_learner': 'voting'}. Best is trial 67 with value: 0.31119078793952454.\u001b[0m\n",
            "\u001b[32m[I 2021-12-12 02:47:03,416]\u001b[0m Trial 88 finished with value: 0.31791387010352545 and parameters: {'learning_rate': 0.6560755157613617, 'num_leaves': 5, 'tree_learner': 'voting'}. Best is trial 67 with value: 0.31119078793952454.\u001b[0m\n",
            "\u001b[32m[I 2021-12-12 02:47:03,513]\u001b[0m Trial 89 finished with value: 0.32029783260626116 and parameters: {'learning_rate': 0.6219036822718099, 'num_leaves': 5, 'tree_learner': 'voting'}. Best is trial 67 with value: 0.31119078793952454.\u001b[0m\n"
          ]
        },
        {
          "output_type": "stream",
          "name": "stdout",
          "text": [
            "Training until validation scores don't improve for 50 rounds.\n",
            "Early stopping, best iteration is:\n",
            "[16]\tTrain's rmse: 0.134244\tTest's rmse: 0.317914\n",
            "Training until validation scores don't improve for 50 rounds.\n",
            "Early stopping, best iteration is:\n",
            "[18]\tTrain's rmse: 0.13727\tTest's rmse: 0.320298\n",
            "Training until validation scores don't improve for 50 rounds.\n"
          ]
        },
        {
          "output_type": "stream",
          "name": "stderr",
          "text": [
            "\u001b[32m[I 2021-12-12 02:47:03,613]\u001b[0m Trial 90 finished with value: 0.3137200444868497 and parameters: {'learning_rate': 0.6556912495363207, 'num_leaves': 5, 'tree_learner': 'voting'}. Best is trial 67 with value: 0.31119078793952454.\u001b[0m\n",
            "\u001b[32m[I 2021-12-12 02:47:03,698]\u001b[0m Trial 91 finished with value: 0.31501319352315543 and parameters: {'learning_rate': 0.6641967031794065, 'num_leaves': 5, 'tree_learner': 'voting'}. Best is trial 67 with value: 0.31119078793952454.\u001b[0m\n",
            "\u001b[32m[I 2021-12-12 02:47:03,793]\u001b[0m Trial 92 finished with value: 0.327989418415854 and parameters: {'learning_rate': 0.6626154495043386, 'num_leaves': 7, 'tree_learner': 'voting'}. Best is trial 67 with value: 0.31119078793952454.\u001b[0m\n"
          ]
        },
        {
          "output_type": "stream",
          "name": "stdout",
          "text": [
            "Early stopping, best iteration is:\n",
            "[19]\tTrain's rmse: 0.12913\tTest's rmse: 0.31372\n",
            "Training until validation scores don't improve for 50 rounds.\n",
            "Early stopping, best iteration is:\n",
            "[11]\tTrain's rmse: 0.15277\tTest's rmse: 0.315013\n",
            "Training until validation scores don't improve for 50 rounds.\n",
            "Early stopping, best iteration is:\n",
            "[5]\tTrain's rmse: 0.159619\tTest's rmse: 0.327989\n"
          ]
        },
        {
          "output_type": "stream",
          "name": "stderr",
          "text": [
            "\u001b[32m[I 2021-12-12 02:47:03,903]\u001b[0m Trial 93 finished with value: 0.33057926891247874 and parameters: {'learning_rate': 0.6304712784846389, 'num_leaves': 5, 'tree_learner': 'voting'}. Best is trial 67 with value: 0.31119078793952454.\u001b[0m\n",
            "\u001b[32m[I 2021-12-12 02:47:04,007]\u001b[0m Trial 94 finished with value: 0.32499867309313474 and parameters: {'learning_rate': 0.5995172993773591, 'num_leaves': 8, 'tree_learner': 'voting'}. Best is trial 67 with value: 0.31119078793952454.\u001b[0m\n"
          ]
        },
        {
          "output_type": "stream",
          "name": "stdout",
          "text": [
            "Training until validation scores don't improve for 50 rounds.\n",
            "Early stopping, best iteration is:\n",
            "[6]\tTrain's rmse: 0.170633\tTest's rmse: 0.330579\n",
            "Training until validation scores don't improve for 50 rounds.\n",
            "Early stopping, best iteration is:\n",
            "[14]\tTrain's rmse: 0.124223\tTest's rmse: 0.324999\n"
          ]
        },
        {
          "output_type": "stream",
          "name": "stderr",
          "text": [
            "\u001b[32m[I 2021-12-12 02:47:04,115]\u001b[0m Trial 95 finished with value: 0.345040400990169 and parameters: {'learning_rate': 0.6670552253320648, 'num_leaves': 10, 'tree_learner': 'voting'}. Best is trial 67 with value: 0.31119078793952454.\u001b[0m\n",
            "\u001b[32m[I 2021-12-12 02:47:04,209]\u001b[0m Trial 96 finished with value: 0.3278003028218825 and parameters: {'learning_rate': 0.6491277074201575, 'num_leaves': 7, 'tree_learner': 'voting'}. Best is trial 67 with value: 0.31119078793952454.\u001b[0m\n"
          ]
        },
        {
          "output_type": "stream",
          "name": "stdout",
          "text": [
            "Training until validation scores don't improve for 50 rounds.\n",
            "Early stopping, best iteration is:\n",
            "[3]\tTrain's rmse: 0.170544\tTest's rmse: 0.34504\n",
            "Training until validation scores don't improve for 50 rounds.\n",
            "Early stopping, best iteration is:\n",
            "[5]\tTrain's rmse: 0.159483\tTest's rmse: 0.3278\n",
            "Training until validation scores don't improve for 50 rounds.\n"
          ]
        },
        {
          "output_type": "stream",
          "name": "stderr",
          "text": [
            "\u001b[32m[I 2021-12-12 02:47:04,569]\u001b[0m Trial 97 finished with value: 0.34809748417709496 and parameters: {'learning_rate': 0.563131010453829, 'num_leaves': 31, 'tree_learner': 'voting'}. Best is trial 67 with value: 0.31119078793952454.\u001b[0m\n"
          ]
        },
        {
          "output_type": "stream",
          "name": "stdout",
          "text": [
            "Did not meet early stopping. Best iteration is:\n",
            "[100]\tTrain's rmse: 0.0715713\tTest's rmse: 0.348097\n",
            "Training until validation scores don't improve for 50 rounds.\n",
            "Early stopping, best iteration is:\n",
            "[47]\tTrain's rmse: 0.142028\tTest's rmse: 0.346545\n"
          ]
        },
        {
          "output_type": "stream",
          "name": "stderr",
          "text": [
            "\u001b[32m[I 2021-12-12 02:47:04,750]\u001b[0m Trial 98 finished with value: 0.34654549713753047 and parameters: {'learning_rate': 0.10778078528199969, 'num_leaves': 9, 'tree_learner': 'voting'}. Best is trial 67 with value: 0.31119078793952454.\u001b[0m\n",
            "\u001b[32m[I 2021-12-12 02:47:04,827]\u001b[0m Trial 99 finished with value: 0.32672785613757027 and parameters: {'learning_rate': 0.7304626537830977, 'num_leaves': 5, 'tree_learner': 'voting'}. Best is trial 67 with value: 0.31119078793952454.\u001b[0m\n"
          ]
        },
        {
          "output_type": "stream",
          "name": "stdout",
          "text": [
            "Training until validation scores don't improve for 50 rounds.\n",
            "Early stopping, best iteration is:\n",
            "[4]\tTrain's rmse: 0.184803\tTest's rmse: 0.326728\n",
            "{'learning_rate': 0.6622823275142123, 'num_leaves': 5, 'tree_learner': 'voting'}\n",
            "{'learning_rate': 0.6622823275142123, 'num_leaves': 5, 'tree_learner': 'voting', 'objective': 'regression', 'metric': 'rmse', 'task': 'train', 'seed': 42}\n",
            "Training until validation scores don't improve for 50 rounds.\n",
            "Early stopping, best iteration is:\n",
            "[24]\tTrain's rmse: 0.112795\tTest's rmse: 0.311191\n"
          ]
        },
        {
          "output_type": "display_data",
          "data": {
            "image/png": "[encoded data removed]",
            "text/plain": [
              "<Figure size 432x288 with 1 Axes>"
            ]
          },
          "metadata": {
            "needs_background": "light"
          }
        },
        {
          "output_type": "stream",
          "name": "stderr",
          "text": [
            "\u001b[32m[I 2021-12-12 02:47:05,135]\u001b[0m A new study created in memory with name: no-name-4d727a0f-5a36-4e8a-a4f6-7bd2cfc7866a\u001b[0m\n",
            "\u001b[32m[I 2021-12-12 02:47:05,298]\u001b[0m Trial 0 finished with value: 0.12189624256950594 and parameters: {'learning_rate': 0.9941040040703081, 'num_leaves': 13, 'tree_learner': 'serial'}. Best is trial 0 with value: 0.12189624256950594.\u001b[0m\n"
          ]
        },
        {
          "output_type": "stream",
          "name": "stdout",
          "text": [
            "Training until validation scores don't improve for 50 rounds.\n",
            "Early stopping, best iteration is:\n",
            "[12]\tTrain's rmse: 0.153932\tTest's rmse: 0.121896\n",
            "Training until validation scores don't improve for 50 rounds.\n"
          ]
        },
        {
          "output_type": "stream",
          "name": "stderr",
          "text": [
            "\u001b[32m[I 2021-12-12 02:47:05,463]\u001b[0m Trial 1 finished with value: 0.11308166969650284 and parameters: {'learning_rate': 0.6853308468128014, 'num_leaves': 19, 'tree_learner': 'data'}. Best is trial 1 with value: 0.11308166969650284.\u001b[0m\n",
            "\u001b[32m[I 2021-12-12 02:47:05,634]\u001b[0m Trial 2 finished with value: 0.11755418640822302 and parameters: {'learning_rate': 0.6546845605202262, 'num_leaves': 19, 'tree_learner': 'serial'}. Best is trial 1 with value: 0.11308166969650284.\u001b[0m\n"
          ]
        },
        {
          "output_type": "stream",
          "name": "stdout",
          "text": [
            "Early stopping, best iteration is:\n",
            "[18]\tTrain's rmse: 0.136355\tTest's rmse: 0.113082\n",
            "Training until validation scores don't improve for 50 rounds.\n",
            "Early stopping, best iteration is:\n",
            "[18]\tTrain's rmse: 0.135455\tTest's rmse: 0.117554\n",
            "Training until validation scores don't improve for 50 rounds.\n"
          ]
        },
        {
          "output_type": "stream",
          "name": "stderr",
          "text": [
            "\u001b[32m[I 2021-12-12 02:47:05,895]\u001b[0m Trial 3 finished with value: 0.13339205180409322 and parameters: {'learning_rate': 0.2349022955200804, 'num_leaves': 19, 'tree_learner': 'serial'}. Best is trial 1 with value: 0.11308166969650284.\u001b[0m\n"
          ]
        },
        {
          "output_type": "stream",
          "name": "stdout",
          "text": [
            "Did not meet early stopping. Best iteration is:\n",
            "[100]\tTrain's rmse: 0.117739\tTest's rmse: 0.133392\n",
            "Training until validation scores don't improve for 50 rounds.\n"
          ]
        },
        {
          "output_type": "stream",
          "name": "stderr",
          "text": [
            "\u001b[32m[I 2021-12-12 02:47:06,168]\u001b[0m Trial 4 finished with value: 0.13174961241713054 and parameters: {'learning_rate': 0.784028626842111, 'num_leaves': 47, 'tree_learner': 'voting'}. Best is trial 1 with value: 0.11308166969650284.\u001b[0m\n"
          ]
        },
        {
          "output_type": "stream",
          "name": "stdout",
          "text": [
            "Early stopping, best iteration is:\n",
            "[8]\tTrain's rmse: 0.169644\tTest's rmse: 0.13175\n",
            "Training until validation scores don't improve for 50 rounds.\n"
          ]
        },
        {
          "output_type": "stream",
          "name": "stderr",
          "text": [
            "\u001b[32m[I 2021-12-12 02:47:06,580]\u001b[0m Trial 5 finished with value: 0.11533904257321792 and parameters: {'learning_rate': 0.26982222077445445, 'num_leaves': 40, 'tree_learner': 'voting'}. Best is trial 1 with value: 0.11308166969650284.\u001b[0m\n"
          ]
        },
        {
          "output_type": "stream",
          "name": "stdout",
          "text": [
            "Early stopping, best iteration is:\n",
            "[49]\tTrain's rmse: 0.142868\tTest's rmse: 0.115339\n",
            "Training until validation scores don't improve for 50 rounds.\n"
          ]
        },
        {
          "output_type": "stream",
          "name": "stderr",
          "text": [
            "\u001b[32m[I 2021-12-12 02:47:07,112]\u001b[0m Trial 6 finished with value: 0.10434864184439116 and parameters: {'learning_rate': 0.1336685049958195, 'num_leaves': 49, 'tree_learner': 'serial'}. Best is trial 6 with value: 0.10434864184439116.\u001b[0m\n"
          ]
        },
        {
          "output_type": "stream",
          "name": "stdout",
          "text": [
            "Did not meet early stopping. Best iteration is:\n",
            "[100]\tTrain's rmse: 0.144692\tTest's rmse: 0.104349\n",
            "Training until validation scores don't improve for 50 rounds.\n"
          ]
        },
        {
          "output_type": "stream",
          "name": "stderr",
          "text": [
            "\u001b[32m[I 2021-12-12 02:47:07,409]\u001b[0m Trial 7 finished with value: 0.1258139212640273 and parameters: {'learning_rate': 0.8953486299571178, 'num_leaves': 47, 'tree_learner': 'data'}. Best is trial 6 with value: 0.10434864184439116.\u001b[0m\n",
            "\u001b[32m[I 2021-12-12 02:47:07,542]\u001b[0m Trial 8 finished with value: 0.11398719507411242 and parameters: {'learning_rate': 0.24719874212101733, 'num_leaves': 8, 'tree_learner': 'data'}. Best is trial 6 with value: 0.10434864184439116.\u001b[0m\n"
          ]
        },
        {
          "output_type": "stream",
          "name": "stdout",
          "text": [
            "Early stopping, best iteration is:\n",
            "[15]\tTrain's rmse: 0.142569\tTest's rmse: 0.125814\n",
            "Training until validation scores don't improve for 50 rounds.\n",
            "Early stopping, best iteration is:\n",
            "[38]\tTrain's rmse: 0.144657\tTest's rmse: 0.113987\n",
            "Training until validation scores don't improve for 50 rounds.\n"
          ]
        },
        {
          "output_type": "stream",
          "name": "stderr",
          "text": [
            "\u001b[32m[I 2021-12-12 02:47:08,054]\u001b[0m Trial 9 finished with value: 0.13390352334092784 and parameters: {'learning_rate': 0.2707748956584707, 'num_leaves': 49, 'tree_learner': 'data'}. Best is trial 6 with value: 0.10434864184439116.\u001b[0m\n"
          ]
        },
        {
          "output_type": "stream",
          "name": "stdout",
          "text": [
            "Did not meet early stopping. Best iteration is:\n",
            "[100]\tTrain's rmse: 0.10736\tTest's rmse: 0.133904\n",
            "Training until validation scores don't improve for 50 rounds.\n"
          ]
        },
        {
          "output_type": "stream",
          "name": "stderr",
          "text": [
            "\u001b[32m[I 2021-12-12 02:47:08,328]\u001b[0m Trial 10 finished with value: 0.10899901438807813 and parameters: {'learning_rate': 0.4164747632062251, 'num_leaves': 34, 'tree_learner': 'feature'}. Best is trial 6 with value: 0.10434864184439116.\u001b[0m\n"
          ]
        },
        {
          "output_type": "stream",
          "name": "stdout",
          "text": [
            "Early stopping, best iteration is:\n",
            "[25]\tTrain's rmse: 0.145408\tTest's rmse: 0.108999\n",
            "Training until validation scores don't improve for 50 rounds.\n"
          ]
        },
        {
          "output_type": "stream",
          "name": "stderr",
          "text": [
            "\u001b[32m[I 2021-12-12 02:47:08,556]\u001b[0m Trial 11 finished with value: 0.1214659549959337 and parameters: {'learning_rate': 0.45010943419435845, 'num_leaves': 33, 'tree_learner': 'feature'}. Best is trial 6 with value: 0.10434864184439116.\u001b[0m\n"
          ]
        },
        {
          "output_type": "stream",
          "name": "stdout",
          "text": [
            "Early stopping, best iteration is:\n",
            "[6]\tTrain's rmse: 0.180355\tTest's rmse: 0.121466\n",
            "Training until validation scores don't improve for 50 rounds.\n"
          ]
        },
        {
          "output_type": "stream",
          "name": "stderr",
          "text": [
            "\u001b[32m[I 2021-12-12 02:47:08,965]\u001b[0m Trial 12 finished with value: 0.11255211942270973 and parameters: {'learning_rate': 0.10902660404066546, 'num_leaves': 31, 'tree_learner': 'feature'}. Best is trial 6 with value: 0.10434864184439116.\u001b[0m\n"
          ]
        },
        {
          "output_type": "stream",
          "name": "stdout",
          "text": [
            "Did not meet early stopping. Best iteration is:\n",
            "[100]\tTrain's rmse: 0.148004\tTest's rmse: 0.112552\n",
            "Training until validation scores don't improve for 50 rounds.\n"
          ]
        },
        {
          "output_type": "stream",
          "name": "stderr",
          "text": [
            "\u001b[32m[I 2021-12-12 02:47:09,275]\u001b[0m Trial 13 finished with value: 0.11345845718262103 and parameters: {'learning_rate': 0.44639867404229855, 'num_leaves': 38, 'tree_learner': 'feature'}. Best is trial 6 with value: 0.10434864184439116.\u001b[0m\n"
          ]
        },
        {
          "output_type": "stream",
          "name": "stdout",
          "text": [
            "Early stopping, best iteration is:\n",
            "[23]\tTrain's rmse: 0.149385\tTest's rmse: 0.113458\n",
            "Training until validation scores don't improve for 50 rounds.\n"
          ]
        },
        {
          "output_type": "stream",
          "name": "stderr",
          "text": [
            "\u001b[32m[I 2021-12-12 02:47:09,571]\u001b[0m Trial 14 finished with value: 0.10909272267158102 and parameters: {'learning_rate': 0.4415927574315189, 'num_leaves': 39, 'tree_learner': 'serial'}. Best is trial 6 with value: 0.10434864184439116.\u001b[0m\n"
          ]
        },
        {
          "output_type": "stream",
          "name": "stdout",
          "text": [
            "Early stopping, best iteration is:\n",
            "[21]\tTrain's rmse: 0.147313\tTest's rmse: 0.109093\n",
            "Training until validation scores don't improve for 50 rounds.\n"
          ]
        },
        {
          "output_type": "stream",
          "name": "stderr",
          "text": [
            "\u001b[32m[I 2021-12-12 02:47:09,890]\u001b[0m Trial 15 finished with value: 0.11945375418985003 and parameters: {'learning_rate': 0.1542346632358864, 'num_leaves': 24, 'tree_learner': 'feature'}. Best is trial 6 with value: 0.10434864184439116.\u001b[0m\n"
          ]
        },
        {
          "output_type": "stream",
          "name": "stdout",
          "text": [
            "Did not meet early stopping. Best iteration is:\n",
            "[100]\tTrain's rmse: 0.133554\tTest's rmse: 0.119454\n",
            "Training until validation scores don't improve for 50 rounds.\n"
          ]
        },
        {
          "output_type": "stream",
          "name": "stderr",
          "text": [
            "\u001b[32m[I 2021-12-12 02:47:10,295]\u001b[0m Trial 16 finished with value: 0.11401817811362942 and parameters: {'learning_rate': 0.3558559386433464, 'num_leaves': 43, 'tree_learner': 'serial'}. Best is trial 6 with value: 0.10434864184439116.\u001b[0m\n"
          ]
        },
        {
          "output_type": "stream",
          "name": "stdout",
          "text": [
            "Early stopping, best iteration is:\n",
            "[36]\tTrain's rmse: 0.144902\tTest's rmse: 0.114018\n",
            "Training until validation scores don't improve for 50 rounds.\n"
          ]
        },
        {
          "output_type": "stream",
          "name": "stderr",
          "text": [
            "\u001b[32m[I 2021-12-12 02:47:10,559]\u001b[0m Trial 17 finished with value: 0.11478483591250851 and parameters: {'learning_rate': 0.5739711963907821, 'num_leaves': 33, 'tree_learner': 'feature'}. Best is trial 6 with value: 0.10434864184439116.\u001b[0m\n"
          ]
        },
        {
          "output_type": "stream",
          "name": "stdout",
          "text": [
            "Early stopping, best iteration is:\n",
            "[18]\tTrain's rmse: 0.161803\tTest's rmse: 0.114785\n",
            "Training until validation scores don't improve for 50 rounds.\n"
          ]
        },
        {
          "output_type": "stream",
          "name": "stderr",
          "text": [
            "\u001b[32m[I 2021-12-12 02:47:10,806]\u001b[0m Trial 18 finished with value: 0.11114650314364462 and parameters: {'learning_rate': 0.3648388312033243, 'num_leaves': 26, 'tree_learner': 'voting'}. Best is trial 6 with value: 0.10434864184439116.\u001b[0m\n"
          ]
        },
        {
          "output_type": "stream",
          "name": "stdout",
          "text": [
            "Early stopping, best iteration is:\n",
            "[29]\tTrain's rmse: 0.146536\tTest's rmse: 0.111147\n",
            "Training until validation scores don't improve for 50 rounds.\n"
          ]
        },
        {
          "output_type": "stream",
          "name": "stderr",
          "text": [
            "\u001b[32m[I 2021-12-12 02:47:11,126]\u001b[0m Trial 19 finished with value: 0.11437187013044497 and parameters: {'learning_rate': 0.5949947563507696, 'num_leaves': 43, 'tree_learner': 'feature'}. Best is trial 6 with value: 0.10434864184439116.\u001b[0m\n"
          ]
        },
        {
          "output_type": "stream",
          "name": "stdout",
          "text": [
            "Early stopping, best iteration is:\n",
            "[17]\tTrain's rmse: 0.160104\tTest's rmse: 0.114372\n",
            "Training until validation scores don't improve for 50 rounds.\n"
          ]
        },
        {
          "output_type": "stream",
          "name": "stderr",
          "text": [
            "\u001b[32m[I 2021-12-12 02:47:11,486]\u001b[0m Trial 20 finished with value: 0.11104689206977439 and parameters: {'learning_rate': 0.15373530421234105, 'num_leaves': 30, 'tree_learner': 'serial'}. Best is trial 6 with value: 0.10434864184439116.\u001b[0m\n"
          ]
        },
        {
          "output_type": "stream",
          "name": "stdout",
          "text": [
            "Did not meet early stopping. Best iteration is:\n",
            "[100]\tTrain's rmse: 0.133822\tTest's rmse: 0.111047\n",
            "Training until validation scores don't improve for 50 rounds.\n"
          ]
        },
        {
          "output_type": "stream",
          "name": "stderr",
          "text": [
            "\u001b[32m[I 2021-12-12 02:47:11,711]\u001b[0m Trial 21 finished with value: 0.12193181096135315 and parameters: {'learning_rate': 0.4559811790397184, 'num_leaves': 37, 'tree_learner': 'serial'}. Best is trial 6 with value: 0.10434864184439116.\u001b[0m\n"
          ]
        },
        {
          "output_type": "stream",
          "name": "stdout",
          "text": [
            "Early stopping, best iteration is:\n",
            "[6]\tTrain's rmse: 0.179972\tTest's rmse: 0.121932\n",
            "Training until validation scores don't improve for 50 rounds.\n"
          ]
        },
        {
          "output_type": "stream",
          "name": "stderr",
          "text": [
            "\u001b[32m[I 2021-12-12 02:47:12,067]\u001b[0m Trial 22 finished with value: 0.1110041789107374 and parameters: {'learning_rate': 0.3484804036608985, 'num_leaves': 42, 'tree_learner': 'serial'}. Best is trial 6 with value: 0.10434864184439116.\u001b[0m\n"
          ]
        },
        {
          "output_type": "stream",
          "name": "stdout",
          "text": [
            "Early stopping, best iteration is:\n",
            "[34]\tTrain's rmse: 0.146051\tTest's rmse: 0.111004\n",
            "Training until validation scores don't improve for 50 rounds.\n"
          ]
        },
        {
          "output_type": "stream",
          "name": "stderr",
          "text": [
            "\u001b[32m[I 2021-12-12 02:47:12,367]\u001b[0m Trial 23 finished with value: 0.11043130993989218 and parameters: {'learning_rate': 0.5168662943942057, 'num_leaves': 38, 'tree_learner': 'serial'}. Best is trial 6 with value: 0.10434864184439116.\u001b[0m\n"
          ]
        },
        {
          "output_type": "stream",
          "name": "stdout",
          "text": [
            "Early stopping, best iteration is:\n",
            "[22]\tTrain's rmse: 0.144241\tTest's rmse: 0.110431\n",
            "Training until validation scores don't improve for 50 rounds.\n"
          ]
        },
        {
          "output_type": "stream",
          "name": "stderr",
          "text": [
            "\u001b[32m[I 2021-12-12 02:47:12,698]\u001b[0m Trial 24 finished with value: 0.11305012777580356 and parameters: {'learning_rate': 0.5024118022399046, 'num_leaves': 50, 'tree_learner': 'serial'}. Best is trial 6 with value: 0.10434864184439116.\u001b[0m\n"
          ]
        },
        {
          "output_type": "stream",
          "name": "stdout",
          "text": [
            "Early stopping, best iteration is:\n",
            "[18]\tTrain's rmse: 0.152379\tTest's rmse: 0.11305\n",
            "Training until validation scores don't improve for 50 rounds.\n"
          ]
        },
        {
          "output_type": "stream",
          "name": "stderr",
          "text": [
            "\u001b[32m[I 2021-12-12 02:47:13,013]\u001b[0m Trial 25 finished with value: 0.10406013281424457 and parameters: {'learning_rate': 0.4171876484018003, 'num_leaves': 34, 'tree_learner': 'serial'}. Best is trial 25 with value: 0.10406013281424457.\u001b[0m\n"
          ]
        },
        {
          "output_type": "stream",
          "name": "stdout",
          "text": [
            "Early stopping, best iteration is:\n",
            "[34]\tTrain's rmse: 0.134491\tTest's rmse: 0.10406\n",
            "Training until validation scores don't improve for 50 rounds.\n"
          ]
        },
        {
          "output_type": "stream",
          "name": "stderr",
          "text": [
            "\u001b[32m[I 2021-12-12 02:47:13,274]\u001b[0m Trial 26 finished with value: 0.11946804458070859 and parameters: {'learning_rate': 0.3353790043055929, 'num_leaves': 25, 'tree_learner': 'feature'}. Best is trial 25 with value: 0.10406013281424457.\u001b[0m\n"
          ]
        },
        {
          "output_type": "stream",
          "name": "stdout",
          "text": [
            "Early stopping, best iteration is:\n",
            "[31]\tTrain's rmse: 0.153718\tTest's rmse: 0.119468\n",
            "Training until validation scores don't improve for 50 rounds.\n"
          ]
        },
        {
          "output_type": "stream",
          "name": "stderr",
          "text": [
            "\u001b[32m[I 2021-12-12 02:47:13,514]\u001b[0m Trial 27 finished with value: 0.11958871163589599 and parameters: {'learning_rate': 0.7336626929967076, 'num_leaves': 35, 'tree_learner': 'serial'}. Best is trial 25 with value: 0.10406013281424457.\u001b[0m\n"
          ]
        },
        {
          "output_type": "stream",
          "name": "stdout",
          "text": [
            "Early stopping, best iteration is:\n",
            "[17]\tTrain's rmse: 0.150197\tTest's rmse: 0.119589\n",
            "Training until validation scores don't improve for 50 rounds.\n"
          ]
        },
        {
          "output_type": "stream",
          "name": "stderr",
          "text": [
            "\u001b[32m[I 2021-12-12 02:47:13,812]\u001b[0m Trial 28 finished with value: 0.11749775862252691 and parameters: {'learning_rate': 0.1750915429580631, 'num_leaves': 22, 'tree_learner': 'voting'}. Best is trial 25 with value: 0.10406013281424457.\u001b[0m\n"
          ]
        },
        {
          "output_type": "stream",
          "name": "stdout",
          "text": [
            "Did not meet early stopping. Best iteration is:\n",
            "[100]\tTrain's rmse: 0.127675\tTest's rmse: 0.117498\n",
            "Training until validation scores don't improve for 50 rounds.\n",
            "Early stopping, best iteration is:\n",
            "[32]\tTrain's rmse: 0.149773\tTest's rmse: 0.109176\n"
          ]
        },
        {
          "output_type": "stream",
          "name": "stderr",
          "text": [
            "\u001b[32m[I 2021-12-12 02:47:13,995]\u001b[0m Trial 29 finished with value: 0.10917646451629254 and parameters: {'learning_rate': 0.3912800240562614, 'num_leaves': 14, 'tree_learner': 'serial'}. Best is trial 25 with value: 0.10406013281424457.\u001b[0m\n",
            "\u001b[32m[I 2021-12-12 02:47:14,191]\u001b[0m Trial 30 finished with value: 0.14007162076221572 and parameters: {'learning_rate': 0.9175835627892941, 'num_leaves': 29, 'tree_learner': 'feature'}. Best is trial 25 with value: 0.10406013281424457.\u001b[0m\n"
          ]
        },
        {
          "output_type": "stream",
          "name": "stdout",
          "text": [
            "Training until validation scores don't improve for 50 rounds.\n",
            "Early stopping, best iteration is:\n",
            "[2]\tTrain's rmse: 0.195947\tTest's rmse: 0.140072\n",
            "Training until validation scores don't improve for 50 rounds.\n"
          ]
        },
        {
          "output_type": "stream",
          "name": "stderr",
          "text": [
            "\u001b[32m[I 2021-12-12 02:47:14,512]\u001b[0m Trial 31 finished with value: 0.1108708161060597 and parameters: {'learning_rate': 0.6183852139093462, 'num_leaves': 45, 'tree_learner': 'serial'}. Best is trial 25 with value: 0.10406013281424457.\u001b[0m\n"
          ]
        },
        {
          "output_type": "stream",
          "name": "stdout",
          "text": [
            "Early stopping, best iteration is:\n",
            "[22]\tTrain's rmse: 0.140139\tTest's rmse: 0.110871\n",
            "Training until validation scores don't improve for 50 rounds.\n"
          ]
        },
        {
          "output_type": "stream",
          "name": "stderr",
          "text": [
            "\u001b[32m[I 2021-12-12 02:47:14,842]\u001b[0m Trial 32 finished with value: 0.10807823716977208 and parameters: {'learning_rate': 0.41424022296761126, 'num_leaves': 35, 'tree_learner': 'serial'}. Best is trial 25 with value: 0.10406013281424457.\u001b[0m\n"
          ]
        },
        {
          "output_type": "stream",
          "name": "stdout",
          "text": [
            "Early stopping, best iteration is:\n",
            "[29]\tTrain's rmse: 0.142258\tTest's rmse: 0.108078\n",
            "Training until validation scores don't improve for 50 rounds.\n"
          ]
        },
        {
          "output_type": "stream",
          "name": "stderr",
          "text": [
            "\u001b[32m[I 2021-12-12 02:47:15,130]\u001b[0m Trial 33 finished with value: 0.1096112748569611 and parameters: {'learning_rate': 0.5147836392758544, 'num_leaves': 35, 'tree_learner': 'serial'}. Best is trial 25 with value: 0.10406013281424457.\u001b[0m\n"
          ]
        },
        {
          "output_type": "stream",
          "name": "stdout",
          "text": [
            "Early stopping, best iteration is:\n",
            "[25]\tTrain's rmse: 0.140986\tTest's rmse: 0.109611\n",
            "Training until validation scores don't improve for 50 rounds.\n"
          ]
        },
        {
          "output_type": "stream",
          "name": "stderr",
          "text": [
            "\u001b[32m[I 2021-12-12 02:47:15,443]\u001b[0m Trial 34 finished with value: 0.10511438816170149 and parameters: {'learning_rate': 0.28455885084906185, 'num_leaves': 28, 'tree_learner': 'serial'}. Best is trial 25 with value: 0.10406013281424457.\u001b[0m\n"
          ]
        },
        {
          "output_type": "stream",
          "name": "stdout",
          "text": [
            "Early stopping, best iteration is:\n",
            "[40]\tTrain's rmse: 0.140127\tTest's rmse: 0.105114\n",
            "Training until validation scores don't improve for 50 rounds.\n"
          ]
        },
        {
          "output_type": "stream",
          "name": "stderr",
          "text": [
            "\u001b[32m[I 2021-12-12 02:47:15,796]\u001b[0m Trial 35 finished with value: 0.1187607711294141 and parameters: {'learning_rate': 0.22237179422513834, 'num_leaves': 28, 'tree_learner': 'serial'}. Best is trial 25 with value: 0.10406013281424457.\u001b[0m\n"
          ]
        },
        {
          "output_type": "stream",
          "name": "stdout",
          "text": [
            "Did not meet early stopping. Best iteration is:\n",
            "[100]\tTrain's rmse: 0.117035\tTest's rmse: 0.118761\n",
            "Training until validation scores don't improve for 50 rounds.\n"
          ]
        },
        {
          "output_type": "stream",
          "name": "stderr",
          "text": [
            "\u001b[32m[I 2021-12-12 02:47:16,035]\u001b[0m Trial 36 finished with value: 0.11788536088083701 and parameters: {'learning_rate': 0.20541391577909382, 'num_leaves': 16, 'tree_learner': 'serial'}. Best is trial 25 with value: 0.10406013281424457.\u001b[0m\n"
          ]
        },
        {
          "output_type": "stream",
          "name": "stdout",
          "text": [
            "Did not meet early stopping. Best iteration is:\n",
            "[100]\tTrain's rmse: 0.117167\tTest's rmse: 0.117885\n",
            "Training until validation scores don't improve for 50 rounds.\n"
          ]
        },
        {
          "output_type": "stream",
          "name": "stderr",
          "text": [
            "\u001b[32m[I 2021-12-12 02:47:16,324]\u001b[0m Trial 37 finished with value: 0.10856721289175196 and parameters: {'learning_rate': 0.30751864986602595, 'num_leaves': 21, 'tree_learner': 'serial'}. Best is trial 25 with value: 0.10406013281424457.\u001b[0m\n",
            "\u001b[32m[I 2021-12-12 02:47:16,489]\u001b[0m Trial 38 finished with value: 0.14061318512512488 and parameters: {'learning_rate': 0.2928935537354802, 'num_leaves': 8, 'tree_learner': 'serial'}. Best is trial 25 with value: 0.10406013281424457.\u001b[0m\n"
          ]
        },
        {
          "output_type": "stream",
          "name": "stdout",
          "text": [
            "Early stopping, best iteration is:\n",
            "[45]\tTrain's rmse: 0.13456\tTest's rmse: 0.108567\n",
            "Training until validation scores don't improve for 50 rounds.\n",
            "Did not meet early stopping. Best iteration is:\n",
            "[100]\tTrain's rmse: 0.108048\tTest's rmse: 0.140613\n",
            "Training until validation scores don't improve for 50 rounds.\n"
          ]
        },
        {
          "output_type": "stream",
          "name": "stderr",
          "text": [
            "\u001b[32m[I 2021-12-12 02:47:16,884]\u001b[0m Trial 39 finished with value: 0.11497104253437222 and parameters: {'learning_rate': 0.10665673643292403, 'num_leaves': 31, 'tree_learner': 'data'}. Best is trial 25 with value: 0.10406013281424457.\u001b[0m\n"
          ]
        },
        {
          "output_type": "stream",
          "name": "stdout",
          "text": [
            "Did not meet early stopping. Best iteration is:\n",
            "[100]\tTrain's rmse: 0.151253\tTest's rmse: 0.114971\n",
            "Training until validation scores don't improve for 50 rounds.\n"
          ]
        },
        {
          "output_type": "stream",
          "name": "stderr",
          "text": [
            "\u001b[32m[I 2021-12-12 02:47:17,283]\u001b[0m Trial 40 finished with value: 0.11650898900152663 and parameters: {'learning_rate': 0.2982394418584361, 'num_leaves': 41, 'tree_learner': 'serial'}. Best is trial 25 with value: 0.10406013281424457.\u001b[0m\n"
          ]
        },
        {
          "output_type": "stream",
          "name": "stdout",
          "text": [
            "Early stopping, best iteration is:\n",
            "[35]\tTrain's rmse: 0.142383\tTest's rmse: 0.116509\n",
            "Training until validation scores don't improve for 50 rounds.\n"
          ]
        },
        {
          "output_type": "stream",
          "name": "stderr",
          "text": [
            "\u001b[32m[I 2021-12-12 02:47:17,506]\u001b[0m Trial 41 finished with value: 0.11905954227942521 and parameters: {'learning_rate': 0.3211110425904714, 'num_leaves': 21, 'tree_learner': 'serial'}. Best is trial 25 with value: 0.10406013281424457.\u001b[0m\n"
          ]
        },
        {
          "output_type": "stream",
          "name": "stdout",
          "text": [
            "Early stopping, best iteration is:\n",
            "[33]\tTrain's rmse: 0.143627\tTest's rmse: 0.11906\n",
            "Training until validation scores don't improve for 50 rounds.\n"
          ]
        },
        {
          "output_type": "stream",
          "name": "stderr",
          "text": [
            "\u001b[32m[I 2021-12-12 02:47:17,739]\u001b[0m Trial 42 finished with value: 0.11872568462024913 and parameters: {'learning_rate': 0.24972031348530657, 'num_leaves': 18, 'tree_learner': 'serial'}. Best is trial 25 with value: 0.10406013281424457.\u001b[0m\n"
          ]
        },
        {
          "output_type": "stream",
          "name": "stdout",
          "text": [
            "Early stopping, best iteration is:\n",
            "[48]\tTrain's rmse: 0.143705\tTest's rmse: 0.118726\n",
            "Training until validation scores don't improve for 50 rounds.\n"
          ]
        },
        {
          "output_type": "stream",
          "name": "stderr",
          "text": [
            "\u001b[32m[I 2021-12-12 02:47:17,965]\u001b[0m Trial 43 finished with value: 0.11469090620652492 and parameters: {'learning_rate': 0.3972622894380262, 'num_leaves': 22, 'tree_learner': 'serial'}. Best is trial 25 with value: 0.10406013281424457.\u001b[0m\n",
            "\u001b[32m[I 2021-12-12 02:47:18,147]\u001b[0m Trial 44 finished with value: 0.1235039773369692 and parameters: {'learning_rate': 0.19874456406424013, 'num_leaves': 11, 'tree_learner': 'voting'}. Best is trial 25 with value: 0.10406013281424457.\u001b[0m\n"
          ]
        },
        {
          "output_type": "stream",
          "name": "stdout",
          "text": [
            "Early stopping, best iteration is:\n",
            "[32]\tTrain's rmse: 0.141949\tTest's rmse: 0.114691\n",
            "Training until validation scores don't improve for 50 rounds.\n",
            "Did not meet early stopping. Best iteration is:\n",
            "[100]\tTrain's rmse: 0.123134\tTest's rmse: 0.123504\n",
            "Training until validation scores don't improve for 50 rounds.\n"
          ]
        },
        {
          "output_type": "stream",
          "name": "stderr",
          "text": [
            "\u001b[32m[I 2021-12-12 02:47:18,476]\u001b[0m Trial 45 finished with value: 0.11213801445527151 and parameters: {'learning_rate': 0.27659778818116554, 'num_leaves': 27, 'tree_learner': 'data'}. Best is trial 25 with value: 0.10406013281424457.\u001b[0m\n"
          ]
        },
        {
          "output_type": "stream",
          "name": "stdout",
          "text": [
            "Early stopping, best iteration is:\n",
            "[44]\tTrain's rmse: 0.142171\tTest's rmse: 0.112138\n",
            "Training until validation scores don't improve for 50 rounds.\n"
          ]
        },
        {
          "output_type": "stream",
          "name": "stderr",
          "text": [
            "\u001b[32m[I 2021-12-12 02:47:18,784]\u001b[0m Trial 46 finished with value: 0.11005164672297454 and parameters: {'learning_rate': 0.47910025869732265, 'num_leaves': 47, 'tree_learner': 'serial'}. Best is trial 25 with value: 0.10406013281424457.\u001b[0m\n"
          ]
        },
        {
          "output_type": "stream",
          "name": "stdout",
          "text": [
            "Early stopping, best iteration is:\n",
            "[17]\tTrain's rmse: 0.155226\tTest's rmse: 0.110052\n",
            "Training until validation scores don't improve for 50 rounds.\n"
          ]
        },
        {
          "output_type": "stream",
          "name": "stderr",
          "text": [
            "\u001b[32m[I 2021-12-12 02:47:19,043]\u001b[0m Trial 47 finished with value: 0.10886211848446765 and parameters: {'learning_rate': 0.40381576010200004, 'num_leaves': 32, 'tree_learner': 'serial'}. Best is trial 25 with value: 0.10406013281424457.\u001b[0m\n"
          ]
        },
        {
          "output_type": "stream",
          "name": "stdout",
          "text": [
            "Early stopping, best iteration is:\n",
            "[25]\tTrain's rmse: 0.146686\tTest's rmse: 0.108862\n",
            "Training until validation scores don't improve for 50 rounds.\n"
          ]
        },
        {
          "output_type": "stream",
          "name": "stderr",
          "text": [
            "\u001b[32m[I 2021-12-12 02:47:19,382]\u001b[0m Trial 48 finished with value: 0.11108313510522234 and parameters: {'learning_rate': 0.1380465659239707, 'num_leaves': 24, 'tree_learner': 'serial'}. Best is trial 25 with value: 0.10406013281424457.\u001b[0m\n"
          ]
        },
        {
          "output_type": "stream",
          "name": "stdout",
          "text": [
            "Did not meet early stopping. Best iteration is:\n",
            "[100]\tTrain's rmse: 0.141691\tTest's rmse: 0.111083\n",
            "Training until validation scores don't improve for 50 rounds.\n"
          ]
        },
        {
          "output_type": "stream",
          "name": "stderr",
          "text": [
            "\u001b[32m[I 2021-12-12 02:47:19,635]\u001b[0m Trial 49 finished with value: 0.10992235576314088 and parameters: {'learning_rate': 0.24754001446054516, 'num_leaves': 20, 'tree_learner': 'data'}. Best is trial 25 with value: 0.10406013281424457.\u001b[0m\n",
            "\u001b[32m[I 2021-12-12 02:47:19,743]\u001b[0m Trial 50 finished with value: 0.11689302346035686 and parameters: {'learning_rate': 0.30825417040334274, 'num_leaves': 5, 'tree_learner': 'serial'}. Best is trial 25 with value: 0.10406013281424457.\u001b[0m\n"
          ]
        },
        {
          "output_type": "stream",
          "name": "stdout",
          "text": [
            "Early stopping, best iteration is:\n",
            "[39]\tTrain's rmse: 0.145549\tTest's rmse: 0.109922\n",
            "Training until validation scores don't improve for 50 rounds.\n",
            "Early stopping, best iteration is:\n",
            "[37]\tTrain's rmse: 0.14071\tTest's rmse: 0.116893\n",
            "Training until validation scores don't improve for 50 rounds.\n"
          ]
        },
        {
          "output_type": "stream",
          "name": "stderr",
          "text": [
            "\u001b[32m[I 2021-12-12 02:47:20,041]\u001b[0m Trial 51 finished with value: 0.12703225428570575 and parameters: {'learning_rate': 0.414900430253903, 'num_leaves': 31, 'tree_learner': 'serial'}. Best is trial 25 with value: 0.10406013281424457.\u001b[0m\n"
          ]
        },
        {
          "output_type": "stream",
          "name": "stdout",
          "text": [
            "Early stopping, best iteration is:\n",
            "[32]\tTrain's rmse: 0.141427\tTest's rmse: 0.127032\n",
            "Training until validation scores don't improve for 50 rounds.\n"
          ]
        },
        {
          "output_type": "stream",
          "name": "stderr",
          "text": [
            "\u001b[32m[I 2021-12-12 02:47:20,336]\u001b[0m Trial 52 finished with value: 0.11152780302733946 and parameters: {'learning_rate': 0.5495035053911065, 'num_leaves': 36, 'tree_learner': 'serial'}. Best is trial 25 with value: 0.10406013281424457.\u001b[0m\n"
          ]
        },
        {
          "output_type": "stream",
          "name": "stdout",
          "text": [
            "Early stopping, best iteration is:\n",
            "[18]\tTrain's rmse: 0.154715\tTest's rmse: 0.111528\n",
            "Training until validation scores don't improve for 50 rounds.\n"
          ]
        },
        {
          "output_type": "stream",
          "name": "stderr",
          "text": [
            "\u001b[32m[I 2021-12-12 02:47:20,660]\u001b[0m Trial 53 finished with value: 0.12114708286375307 and parameters: {'learning_rate': 0.379026558081329, 'num_leaves': 33, 'tree_learner': 'serial'}. Best is trial 25 with value: 0.10406013281424457.\u001b[0m\n"
          ]
        },
        {
          "output_type": "stream",
          "name": "stdout",
          "text": [
            "Early stopping, best iteration is:\n",
            "[34]\tTrain's rmse: 0.144871\tTest's rmse: 0.121147\n",
            "Training until validation scores don't improve for 50 rounds.\n"
          ]
        },
        {
          "output_type": "stream",
          "name": "stderr",
          "text": [
            "\u001b[32m[I 2021-12-12 02:47:20,962]\u001b[0m Trial 54 finished with value: 0.11063188544769528 and parameters: {'learning_rate': 0.42750995677148673, 'num_leaves': 32, 'tree_learner': 'serial'}. Best is trial 25 with value: 0.10406013281424457.\u001b[0m\n"
          ]
        },
        {
          "output_type": "stream",
          "name": "stdout",
          "text": [
            "Early stopping, best iteration is:\n",
            "[32]\tTrain's rmse: 0.144711\tTest's rmse: 0.110632\n",
            "Training until validation scores don't improve for 50 rounds.\n"
          ]
        },
        {
          "output_type": "stream",
          "name": "stderr",
          "text": [
            "\u001b[32m[I 2021-12-12 02:47:21,226]\u001b[0m Trial 55 finished with value: 0.10775579397488012 and parameters: {'learning_rate': 0.4797825691002069, 'num_leaves': 29, 'tree_learner': 'voting'}. Best is trial 25 with value: 0.10406013281424457.\u001b[0m\n"
          ]
        },
        {
          "output_type": "stream",
          "name": "stdout",
          "text": [
            "Early stopping, best iteration is:\n",
            "[30]\tTrain's rmse: 0.135078\tTest's rmse: 0.107756\n",
            "Training until validation scores don't improve for 50 rounds.\n"
          ]
        },
        {
          "output_type": "stream",
          "name": "stderr",
          "text": [
            "\u001b[32m[I 2021-12-12 02:47:21,467]\u001b[0m Trial 56 finished with value: 0.11372194691803063 and parameters: {'learning_rate': 0.6453772965705205, 'num_leaves': 28, 'tree_learner': 'voting'}. Best is trial 25 with value: 0.10406013281424457.\u001b[0m\n"
          ]
        },
        {
          "output_type": "stream",
          "name": "stdout",
          "text": [
            "Early stopping, best iteration is:\n",
            "[18]\tTrain's rmse: 0.140017\tTest's rmse: 0.113722\n",
            "Training until validation scores don't improve for 50 rounds.\n",
            "Early stopping, best iteration is:\n",
            "[17]\tTrain's rmse: 0.155408\tTest's rmse: 0.112019\n"
          ]
        },
        {
          "output_type": "stream",
          "name": "stderr",
          "text": [
            "\u001b[32m[I 2021-12-12 02:47:21,673]\u001b[0m Trial 57 finished with value: 0.11201858181410294 and parameters: {'learning_rate': 0.46986988843650396, 'num_leaves': 24, 'tree_learner': 'voting'}. Best is trial 25 with value: 0.10406013281424457.\u001b[0m\n"
          ]
        },
        {
          "output_type": "stream",
          "name": "stdout",
          "text": [
            "Training until validation scores don't improve for 50 rounds.\n"
          ]
        },
        {
          "output_type": "stream",
          "name": "stderr",
          "text": [
            "\u001b[32m[I 2021-12-12 02:47:21,915]\u001b[0m Trial 58 finished with value: 0.12163576938951337 and parameters: {'learning_rate': 0.3312954479355654, 'num_leaves': 26, 'tree_learner': 'voting'}. Best is trial 25 with value: 0.10406013281424457.\u001b[0m\n"
          ]
        },
        {
          "output_type": "stream",
          "name": "stdout",
          "text": [
            "Early stopping, best iteration is:\n",
            "[26]\tTrain's rmse: 0.1566\tTest's rmse: 0.121636\n",
            "Training until validation scores don't improve for 50 rounds.\n"
          ]
        },
        {
          "output_type": "stream",
          "name": "stderr",
          "text": [
            "\u001b[32m[I 2021-12-12 02:47:22,207]\u001b[0m Trial 59 finished with value: 0.11463626441976706 and parameters: {'learning_rate': 0.3535085423075015, 'num_leaves': 29, 'tree_learner': 'voting'}. Best is trial 25 with value: 0.10406013281424457.\u001b[0m\n"
          ]
        },
        {
          "output_type": "stream",
          "name": "stdout",
          "text": [
            "Early stopping, best iteration is:\n",
            "[34]\tTrain's rmse: 0.145186\tTest's rmse: 0.114636\n",
            "Training until validation scores don't improve for 50 rounds.\n"
          ]
        },
        {
          "output_type": "stream",
          "name": "stderr",
          "text": [
            "\u001b[32m[I 2021-12-12 02:47:22,555]\u001b[0m Trial 60 finished with value: 0.10999535241804508 and parameters: {'learning_rate': 0.5584719244144137, 'num_leaves': 45, 'tree_learner': 'voting'}. Best is trial 25 with value: 0.10406013281424457.\u001b[0m\n"
          ]
        },
        {
          "output_type": "stream",
          "name": "stdout",
          "text": [
            "Early stopping, best iteration is:\n",
            "[20]\tTrain's rmse: 0.152178\tTest's rmse: 0.109995\n",
            "Training until validation scores don't improve for 50 rounds.\n"
          ]
        },
        {
          "output_type": "stream",
          "name": "stderr",
          "text": [
            "\u001b[32m[I 2021-12-12 02:47:22,852]\u001b[0m Trial 61 finished with value: 0.1115408080306446 and parameters: {'learning_rate': 0.42888731496417365, 'num_leaves': 34, 'tree_learner': 'serial'}. Best is trial 25 with value: 0.10406013281424457.\u001b[0m\n"
          ]
        },
        {
          "output_type": "stream",
          "name": "stdout",
          "text": [
            "Early stopping, best iteration is:\n",
            "[29]\tTrain's rmse: 0.148044\tTest's rmse: 0.111541\n",
            "Training until validation scores don't improve for 50 rounds.\n"
          ]
        },
        {
          "output_type": "stream",
          "name": "stderr",
          "text": [
            "\u001b[32m[I 2021-12-12 02:47:23,150]\u001b[0m Trial 62 finished with value: 0.10877041623877232 and parameters: {'learning_rate': 0.48964695450548146, 'num_leaves': 39, 'tree_learner': 'serial'}. Best is trial 25 with value: 0.10406013281424457.\u001b[0m\n"
          ]
        },
        {
          "output_type": "stream",
          "name": "stdout",
          "text": [
            "Early stopping, best iteration is:\n",
            "[19]\tTrain's rmse: 0.151983\tTest's rmse: 0.10877\n",
            "Training until validation scores don't improve for 50 rounds.\n"
          ]
        },
        {
          "output_type": "stream",
          "name": "stderr",
          "text": [
            "\u001b[32m[I 2021-12-12 02:47:23,455]\u001b[0m Trial 63 finished with value: 0.11015298534414857 and parameters: {'learning_rate': 0.4996208411458757, 'num_leaves': 39, 'tree_learner': 'serial'}. Best is trial 25 with value: 0.10406013281424457.\u001b[0m\n"
          ]
        },
        {
          "output_type": "stream",
          "name": "stdout",
          "text": [
            "Early stopping, best iteration is:\n",
            "[23]\tTrain's rmse: 0.145919\tTest's rmse: 0.110153\n",
            "Training until validation scores don't improve for 50 rounds.\n"
          ]
        },
        {
          "output_type": "stream",
          "name": "stderr",
          "text": [
            "\u001b[32m[I 2021-12-12 02:47:23,731]\u001b[0m Trial 64 finished with value: 0.11029373905645429 and parameters: {'learning_rate': 0.5420869648532298, 'num_leaves': 37, 'tree_learner': 'serial'}. Best is trial 25 with value: 0.10406013281424457.\u001b[0m\n"
          ]
        },
        {
          "output_type": "stream",
          "name": "stdout",
          "text": [
            "Early stopping, best iteration is:\n",
            "[22]\tTrain's rmse: 0.150287\tTest's rmse: 0.110294\n",
            "Training until validation scores don't improve for 50 rounds.\n"
          ]
        },
        {
          "output_type": "stream",
          "name": "stderr",
          "text": [
            "\u001b[32m[I 2021-12-12 02:47:24,011]\u001b[0m Trial 65 finished with value: 0.1124768604999885 and parameters: {'learning_rate': 0.4680719723997203, 'num_leaves': 40, 'tree_learner': 'serial'}. Best is trial 25 with value: 0.10406013281424457.\u001b[0m\n"
          ]
        },
        {
          "output_type": "stream",
          "name": "stdout",
          "text": [
            "Early stopping, best iteration is:\n",
            "[17]\tTrain's rmse: 0.15546\tTest's rmse: 0.112477\n",
            "Training until validation scores don't improve for 50 rounds.\n"
          ]
        },
        {
          "output_type": "stream",
          "name": "stderr",
          "text": [
            "\u001b[32m[I 2021-12-12 02:47:24,325]\u001b[0m Trial 66 finished with value: 0.11560138465877524 and parameters: {'learning_rate': 0.5941210005448461, 'num_leaves': 48, 'tree_learner': 'data'}. Best is trial 25 with value: 0.10406013281424457.\u001b[0m\n"
          ]
        },
        {
          "output_type": "stream",
          "name": "stdout",
          "text": [
            "Early stopping, best iteration is:\n",
            "[17]\tTrain's rmse: 0.160156\tTest's rmse: 0.115601\n",
            "Training until validation scores don't improve for 50 rounds.\n"
          ]
        },
        {
          "output_type": "stream",
          "name": "stderr",
          "text": [
            "\u001b[32m[I 2021-12-12 02:47:24,618]\u001b[0m Trial 67 finished with value: 0.10681272626038055 and parameters: {'learning_rate': 0.3718510882711755, 'num_leaves': 30, 'tree_learner': 'serial'}. Best is trial 25 with value: 0.10406013281424457.\u001b[0m\n"
          ]
        },
        {
          "output_type": "stream",
          "name": "stdout",
          "text": [
            "Early stopping, best iteration is:\n",
            "[31]\tTrain's rmse: 0.145837\tTest's rmse: 0.106813\n",
            "Training until validation scores don't improve for 50 rounds.\n"
          ]
        },
        {
          "output_type": "stream",
          "name": "stderr",
          "text": [
            "\u001b[32m[I 2021-12-12 02:47:24,907]\u001b[0m Trial 68 finished with value: 0.1151128763222305 and parameters: {'learning_rate': 0.3662597820693491, 'num_leaves': 30, 'tree_learner': 'voting'}. Best is trial 25 with value: 0.10406013281424457.\u001b[0m\n"
          ]
        },
        {
          "output_type": "stream",
          "name": "stdout",
          "text": [
            "Early stopping, best iteration is:\n",
            "[29]\tTrain's rmse: 0.150415\tTest's rmse: 0.115113\n",
            "Training until validation scores don't improve for 50 rounds.\n"
          ]
        },
        {
          "output_type": "stream",
          "name": "stderr",
          "text": [
            "\u001b[32m[I 2021-12-12 02:47:25,213]\u001b[0m Trial 69 finished with value: 0.1170347947151681 and parameters: {'learning_rate': 0.27497065082651134, 'num_leaves': 27, 'tree_learner': 'serial'}. Best is trial 25 with value: 0.10406013281424457.\u001b[0m\n"
          ]
        },
        {
          "output_type": "stream",
          "name": "stdout",
          "text": [
            "Early stopping, best iteration is:\n",
            "[41]\tTrain's rmse: 0.146972\tTest's rmse: 0.117035\n",
            "Training until validation scores don't improve for 50 rounds.\n"
          ]
        },
        {
          "output_type": "stream",
          "name": "stderr",
          "text": [
            "\u001b[32m[I 2021-12-12 02:47:25,492]\u001b[0m Trial 70 finished with value: 0.12479639222640891 and parameters: {'learning_rate': 0.17545361825766764, 'num_leaves': 17, 'tree_learner': 'feature'}. Best is trial 25 with value: 0.10406013281424457.\u001b[0m\n"
          ]
        },
        {
          "output_type": "stream",
          "name": "stdout",
          "text": [
            "Did not meet early stopping. Best iteration is:\n",
            "[100]\tTrain's rmse: 0.123056\tTest's rmse: 0.124796\n",
            "Training until validation scores don't improve for 50 rounds.\n"
          ]
        },
        {
          "output_type": "stream",
          "name": "stderr",
          "text": [
            "\u001b[32m[I 2021-12-12 02:47:25,762]\u001b[0m Trial 71 finished with value: 0.10884519116644782 and parameters: {'learning_rate': 0.4382773925767711, 'num_leaves': 34, 'tree_learner': 'serial'}. Best is trial 25 with value: 0.10406013281424457.\u001b[0m\n"
          ]
        },
        {
          "output_type": "stream",
          "name": "stdout",
          "text": [
            "Early stopping, best iteration is:\n",
            "[21]\tTrain's rmse: 0.147478\tTest's rmse: 0.108845\n",
            "Training until validation scores don't improve for 50 rounds.\n"
          ]
        },
        {
          "output_type": "stream",
          "name": "stderr",
          "text": [
            "\u001b[32m[I 2021-12-12 02:47:26,021]\u001b[0m Trial 72 finished with value: 0.1120892825336714 and parameters: {'learning_rate': 0.5198558696150347, 'num_leaves': 30, 'tree_learner': 'serial'}. Best is trial 25 with value: 0.10406013281424457.\u001b[0m\n"
          ]
        },
        {
          "output_type": "stream",
          "name": "stdout",
          "text": [
            "Early stopping, best iteration is:\n",
            "[24]\tTrain's rmse: 0.141113\tTest's rmse: 0.112089\n",
            "Training until validation scores don't improve for 50 rounds.\n"
          ]
        },
        {
          "output_type": "stream",
          "name": "stderr",
          "text": [
            "\u001b[32m[I 2021-12-12 02:47:26,336]\u001b[0m Trial 73 finished with value: 0.12224838869670875 and parameters: {'learning_rate': 0.3896592487094475, 'num_leaves': 36, 'tree_learner': 'serial'}. Best is trial 25 with value: 0.10406013281424457.\u001b[0m\n"
          ]
        },
        {
          "output_type": "stream",
          "name": "stdout",
          "text": [
            "Early stopping, best iteration is:\n",
            "[27]\tTrain's rmse: 0.151318\tTest's rmse: 0.122248\n",
            "Training until validation scores don't improve for 50 rounds.\n"
          ]
        },
        {
          "output_type": "stream",
          "name": "stderr",
          "text": [
            "\u001b[32m[I 2021-12-12 02:47:26,552]\u001b[0m Trial 74 finished with value: 0.11549039200206798 and parameters: {'learning_rate': 0.4934606762100408, 'num_leaves': 25, 'tree_learner': 'serial'}. Best is trial 25 with value: 0.10406013281424457.\u001b[0m\n"
          ]
        },
        {
          "output_type": "stream",
          "name": "stdout",
          "text": [
            "Early stopping, best iteration is:\n",
            "[12]\tTrain's rmse: 0.159643\tTest's rmse: 0.11549\n",
            "Training until validation scores don't improve for 50 rounds.\n"
          ]
        },
        {
          "output_type": "stream",
          "name": "stderr",
          "text": [
            "\u001b[32m[I 2021-12-12 02:47:26,810]\u001b[0m Trial 75 finished with value: 0.12217457211906671 and parameters: {'learning_rate': 0.4569158765028985, 'num_leaves': 44, 'tree_learner': 'serial'}. Best is trial 25 with value: 0.10406013281424457.\u001b[0m\n"
          ]
        },
        {
          "output_type": "stream",
          "name": "stdout",
          "text": [
            "Early stopping, best iteration is:\n",
            "[6]\tTrain's rmse: 0.179911\tTest's rmse: 0.122175\n",
            "Training until validation scores don't improve for 50 rounds.\n"
          ]
        },
        {
          "output_type": "stream",
          "name": "stderr",
          "text": [
            "\u001b[32m[I 2021-12-12 02:47:27,113]\u001b[0m Trial 76 finished with value: 0.11194784493691702 and parameters: {'learning_rate': 0.33522796469804367, 'num_leaves': 29, 'tree_learner': 'serial'}. Best is trial 25 with value: 0.10406013281424457.\u001b[0m\n"
          ]
        },
        {
          "output_type": "stream",
          "name": "stdout",
          "text": [
            "Early stopping, best iteration is:\n",
            "[41]\tTrain's rmse: 0.141912\tTest's rmse: 0.111948\n",
            "Training until validation scores don't improve for 50 rounds.\n"
          ]
        },
        {
          "output_type": "stream",
          "name": "stderr",
          "text": [
            "\u001b[32m[I 2021-12-12 02:47:27,502]\u001b[0m Trial 77 finished with value: 0.1295165571055266 and parameters: {'learning_rate': 0.22838723395448982, 'num_leaves': 32, 'tree_learner': 'serial'}. Best is trial 25 with value: 0.10406013281424457.\u001b[0m\n"
          ]
        },
        {
          "output_type": "stream",
          "name": "stdout",
          "text": [
            "Did not meet early stopping. Best iteration is:\n",
            "[100]\tTrain's rmse: 0.116543\tTest's rmse: 0.129517\n",
            "Training until validation scores don't improve for 50 rounds.\n"
          ]
        },
        {
          "output_type": "stream",
          "name": "stderr",
          "text": [
            "\u001b[32m[I 2021-12-12 02:47:27,953]\u001b[0m Trial 78 finished with value: 0.11445807960833784 and parameters: {'learning_rate': 0.31326245924746116, 'num_leaves': 50, 'tree_learner': 'serial'}. Best is trial 25 with value: 0.10406013281424457.\u001b[0m\n"
          ]
        },
        {
          "output_type": "stream",
          "name": "stdout",
          "text": [
            "Early stopping, best iteration is:\n",
            "[42]\tTrain's rmse: 0.141924\tTest's rmse: 0.114458\n",
            "Training until validation scores don't improve for 50 rounds.\n"
          ]
        },
        {
          "output_type": "stream",
          "name": "stderr",
          "text": [
            "\u001b[32m[I 2021-12-12 02:47:28,294]\u001b[0m Trial 79 finished with value: 0.12066869339479554 and parameters: {'learning_rate': 0.3757381292684044, 'num_leaves': 38, 'tree_learner': 'serial'}. Best is trial 25 with value: 0.10406013281424457.\u001b[0m\n"
          ]
        },
        {
          "output_type": "stream",
          "name": "stdout",
          "text": [
            "Early stopping, best iteration is:\n",
            "[34]\tTrain's rmse: 0.145302\tTest's rmse: 0.120669\n",
            "Training until validation scores don't improve for 50 rounds.\n"
          ]
        },
        {
          "output_type": "stream",
          "name": "stderr",
          "text": [
            "\u001b[32m[I 2021-12-12 02:47:28,579]\u001b[0m Trial 80 finished with value: 0.12187804089925204 and parameters: {'learning_rate': 0.8406432087957509, 'num_leaves': 35, 'tree_learner': 'voting'}. Best is trial 25 with value: 0.10406013281424457.\u001b[0m\n"
          ]
        },
        {
          "output_type": "stream",
          "name": "stdout",
          "text": [
            "Early stopping, best iteration is:\n",
            "[21]\tTrain's rmse: 0.132786\tTest's rmse: 0.121878\n",
            "Training until validation scores don't improve for 50 rounds.\n"
          ]
        },
        {
          "output_type": "stream",
          "name": "stderr",
          "text": [
            "\u001b[32m[I 2021-12-12 02:47:28,887]\u001b[0m Trial 81 finished with value: 0.11745874323569327 and parameters: {'learning_rate': 0.42220522616600326, 'num_leaves': 34, 'tree_learner': 'serial'}. Best is trial 25 with value: 0.10406013281424457.\u001b[0m\n"
          ]
        },
        {
          "output_type": "stream",
          "name": "stdout",
          "text": [
            "Early stopping, best iteration is:\n",
            "[30]\tTrain's rmse: 0.143974\tTest's rmse: 0.117459\n",
            "Training until validation scores don't improve for 50 rounds.\n"
          ]
        },
        {
          "output_type": "stream",
          "name": "stderr",
          "text": [
            "\u001b[32m[I 2021-12-12 02:47:29,101]\u001b[0m Trial 82 finished with value: 0.12181701374515795 and parameters: {'learning_rate': 0.4539430537839102, 'num_leaves': 33, 'tree_learner': 'serial'}. Best is trial 25 with value: 0.10406013281424457.\u001b[0m\n"
          ]
        },
        {
          "output_type": "stream",
          "name": "stdout",
          "text": [
            "Early stopping, best iteration is:\n",
            "[6]\tTrain's rmse: 0.1801\tTest's rmse: 0.121817\n",
            "Training until validation scores don't improve for 50 rounds.\n"
          ]
        },
        {
          "output_type": "stream",
          "name": "stderr",
          "text": [
            "\u001b[32m[I 2021-12-12 02:47:29,411]\u001b[0m Trial 83 finished with value: 0.1082600539333691 and parameters: {'learning_rate': 0.4436830693927969, 'num_leaves': 41, 'tree_learner': 'serial'}. Best is trial 25 with value: 0.10406013281424457.\u001b[0m\n"
          ]
        },
        {
          "output_type": "stream",
          "name": "stdout",
          "text": [
            "Early stopping, best iteration is:\n",
            "[21]\tTrain's rmse: 0.147314\tTest's rmse: 0.10826\n",
            "Training until validation scores don't improve for 50 rounds.\n"
          ]
        },
        {
          "output_type": "stream",
          "name": "stderr",
          "text": [
            "\u001b[32m[I 2021-12-12 02:47:29,734]\u001b[0m Trial 84 finished with value: 0.10877719206284324 and parameters: {'learning_rate': 0.5343336981892677, 'num_leaves': 40, 'tree_learner': 'serial'}. Best is trial 25 with value: 0.10406013281424457.\u001b[0m\n"
          ]
        },
        {
          "output_type": "stream",
          "name": "stdout",
          "text": [
            "Early stopping, best iteration is:\n",
            "[20]\tTrain's rmse: 0.150793\tTest's rmse: 0.108777\n",
            "Training until validation scores don't improve for 50 rounds.\n"
          ]
        },
        {
          "output_type": "stream",
          "name": "stderr",
          "text": [
            "\u001b[32m[I 2021-12-12 02:47:30,233]\u001b[0m Trial 85 finished with value: 0.11216642510312358 and parameters: {'learning_rate': 0.12876519549858245, 'num_leaves': 43, 'tree_learner': 'serial'}. Best is trial 25 with value: 0.10406013281424457.\u001b[0m\n"
          ]
        },
        {
          "output_type": "stream",
          "name": "stdout",
          "text": [
            "Did not meet early stopping. Best iteration is:\n",
            "[100]\tTrain's rmse: 0.144401\tTest's rmse: 0.112166\n",
            "Training until validation scores don't improve for 50 rounds.\n"
          ]
        },
        {
          "output_type": "stream",
          "name": "stderr",
          "text": [
            "\u001b[32m[I 2021-12-12 02:47:30,540]\u001b[0m Trial 86 finished with value: 0.11154322387264169 and parameters: {'learning_rate': 0.4840647269804408, 'num_leaves': 41, 'tree_learner': 'data'}. Best is trial 25 with value: 0.10406013281424457.\u001b[0m\n"
          ]
        },
        {
          "output_type": "stream",
          "name": "stdout",
          "text": [
            "Early stopping, best iteration is:\n",
            "[21]\tTrain's rmse: 0.148735\tTest's rmse: 0.111543\n",
            "Training until validation scores don't improve for 50 rounds.\n"
          ]
        },
        {
          "output_type": "stream",
          "name": "stderr",
          "text": [
            "\u001b[32m[I 2021-12-12 02:47:30,892]\u001b[0m Trial 87 finished with value: 0.11144396105312056 and parameters: {'learning_rate': 0.34843380139826474, 'num_leaves': 36, 'tree_learner': 'feature'}. Best is trial 25 with value: 0.10406013281424457.\u001b[0m\n"
          ]
        },
        {
          "output_type": "stream",
          "name": "stdout",
          "text": [
            "Early stopping, best iteration is:\n",
            "[36]\tTrain's rmse: 0.143477\tTest's rmse: 0.111444\n",
            "Training until validation scores don't improve for 50 rounds.\n"
          ]
        },
        {
          "output_type": "stream",
          "name": "stderr",
          "text": [
            "\u001b[32m[I 2021-12-12 02:47:31,100]\u001b[0m Trial 88 finished with value: 0.12656782019087942 and parameters: {'learning_rate': 0.9886247521119651, 'num_leaves': 37, 'tree_learner': 'serial'}. Best is trial 25 with value: 0.10406013281424457.\u001b[0m\n"
          ]
        },
        {
          "output_type": "stream",
          "name": "stdout",
          "text": [
            "Early stopping, best iteration is:\n",
            "[4]\tTrain's rmse: 0.186377\tTest's rmse: 0.126568\n",
            "Training until validation scores don't improve for 50 rounds.\n"
          ]
        },
        {
          "output_type": "stream",
          "name": "stderr",
          "text": [
            "\u001b[32m[I 2021-12-12 02:47:31,393]\u001b[0m Trial 89 finished with value: 0.12697789710894 and parameters: {'learning_rate': 0.41306254469277426, 'num_leaves': 31, 'tree_learner': 'serial'}. Best is trial 25 with value: 0.10406013281424457.\u001b[0m\n"
          ]
        },
        {
          "output_type": "stream",
          "name": "stdout",
          "text": [
            "Early stopping, best iteration is:\n",
            "[33]\tTrain's rmse: 0.142072\tTest's rmse: 0.126978\n",
            "Training until validation scores don't improve for 50 rounds.\n"
          ]
        },
        {
          "output_type": "stream",
          "name": "stderr",
          "text": [
            "\u001b[32m[I 2021-12-12 02:47:31,830]\u001b[0m Trial 90 finished with value: 0.10875292348588661 and parameters: {'learning_rate': 0.28336319896656803, 'num_leaves': 46, 'tree_learner': 'serial'}. Best is trial 25 with value: 0.10406013281424457.\u001b[0m\n"
          ]
        },
        {
          "output_type": "stream",
          "name": "stdout",
          "text": [
            "Early stopping, best iteration is:\n",
            "[41]\tTrain's rmse: 0.140448\tTest's rmse: 0.108753\n",
            "Training until validation scores don't improve for 50 rounds.\n"
          ]
        },
        {
          "output_type": "stream",
          "name": "stderr",
          "text": [
            "\u001b[32m[I 2021-12-12 02:47:32,254]\u001b[0m Trial 91 finished with value: 0.11118721483455817 and parameters: {'learning_rate': 0.2650899149249399, 'num_leaves': 46, 'tree_learner': 'serial'}. Best is trial 25 with value: 0.10406013281424457.\u001b[0m\n"
          ]
        },
        {
          "output_type": "stream",
          "name": "stdout",
          "text": [
            "Early stopping, best iteration is:\n",
            "[43]\tTrain's rmse: 0.145507\tTest's rmse: 0.111187\n",
            "Training until validation scores don't improve for 50 rounds.\n"
          ]
        },
        {
          "output_type": "stream",
          "name": "stderr",
          "text": [
            "\u001b[32m[I 2021-12-12 02:47:32,730]\u001b[0m Trial 92 finished with value: 0.10846068887819699 and parameters: {'learning_rate': 0.28513748246671633, 'num_leaves': 50, 'tree_learner': 'serial'}. Best is trial 25 with value: 0.10406013281424457.\u001b[0m\n"
          ]
        },
        {
          "output_type": "stream",
          "name": "stdout",
          "text": [
            "Early stopping, best iteration is:\n",
            "[41]\tTrain's rmse: 0.140694\tTest's rmse: 0.108461\n",
            "Training until validation scores don't improve for 50 rounds.\n"
          ]
        },
        {
          "output_type": "stream",
          "name": "stderr",
          "text": [
            "\u001b[32m[I 2021-12-12 02:47:33,251]\u001b[0m Trial 93 finished with value: 0.11764960312065709 and parameters: {'learning_rate': 0.1867522117568442, 'num_leaves': 49, 'tree_learner': 'serial'}. Best is trial 25 with value: 0.10406013281424457.\u001b[0m\n"
          ]
        },
        {
          "output_type": "stream",
          "name": "stdout",
          "text": [
            "Did not meet early stopping. Best iteration is:\n",
            "[100]\tTrain's rmse: 0.126333\tTest's rmse: 0.11765\n",
            "Training until validation scores don't improve for 50 rounds.\n"
          ]
        },
        {
          "output_type": "stream",
          "name": "stderr",
          "text": [
            "\u001b[32m[I 2021-12-12 02:47:33,718]\u001b[0m Trial 94 finished with value: 0.11617095612534523 and parameters: {'learning_rate': 0.29888846239761785, 'num_leaves': 48, 'tree_learner': 'serial'}. Best is trial 25 with value: 0.10406013281424457.\u001b[0m\n"
          ]
        },
        {
          "output_type": "stream",
          "name": "stdout",
          "text": [
            "Early stopping, best iteration is:\n",
            "[46]\tTrain's rmse: 0.133965\tTest's rmse: 0.116171\n",
            "Training until validation scores don't improve for 50 rounds.\n"
          ]
        },
        {
          "output_type": "stream",
          "name": "stderr",
          "text": [
            "\u001b[32m[I 2021-12-12 02:47:34,174]\u001b[0m Trial 95 finished with value: 0.10869080338178735 and parameters: {'learning_rate': 0.2856648623209666, 'num_leaves': 46, 'tree_learner': 'serial'}. Best is trial 25 with value: 0.10406013281424457.\u001b[0m\n"
          ]
        },
        {
          "output_type": "stream",
          "name": "stdout",
          "text": [
            "Early stopping, best iteration is:\n",
            "[48]\tTrain's rmse: 0.137723\tTest's rmse: 0.108691\n",
            "Training until validation scores don't improve for 50 rounds.\n"
          ]
        },
        {
          "output_type": "stream",
          "name": "stderr",
          "text": [
            "\u001b[32m[I 2021-12-12 02:47:34,648]\u001b[0m Trial 96 finished with value: 0.11210471243687901 and parameters: {'learning_rate': 0.2581006219404007, 'num_leaves': 50, 'tree_learner': 'serial'}. Best is trial 25 with value: 0.10406013281424457.\u001b[0m\n"
          ]
        },
        {
          "output_type": "stream",
          "name": "stdout",
          "text": [
            "Early stopping, best iteration is:\n",
            "[49]\tTrain's rmse: 0.142105\tTest's rmse: 0.112105\n",
            "Training until validation scores don't improve for 50 rounds.\n"
          ]
        },
        {
          "output_type": "stream",
          "name": "stderr",
          "text": [
            "\u001b[32m[I 2021-12-12 02:47:35,161]\u001b[0m Trial 97 finished with value: 0.12640738190969925 and parameters: {'learning_rate': 0.21268704813615277, 'num_leaves': 48, 'tree_learner': 'voting'}. Best is trial 25 with value: 0.10406013281424457.\u001b[0m\n"
          ]
        },
        {
          "output_type": "stream",
          "name": "stdout",
          "text": [
            "Did not meet early stopping. Best iteration is:\n",
            "[100]\tTrain's rmse: 0.114735\tTest's rmse: 0.126407\n",
            "Training until validation scores don't improve for 50 rounds.\n"
          ]
        },
        {
          "output_type": "stream",
          "name": "stderr",
          "text": [
            "\u001b[32m[I 2021-12-12 02:47:35,600]\u001b[0m Trial 98 finished with value: 0.10642276282599684 and parameters: {'learning_rate': 0.32288800301780207, 'num_leaves': 49, 'tree_learner': 'serial'}. Best is trial 25 with value: 0.10406013281424457.\u001b[0m\n"
          ]
        },
        {
          "output_type": "stream",
          "name": "stdout",
          "text": [
            "Early stopping, best iteration is:\n",
            "[44]\tTrain's rmse: 0.142371\tTest's rmse: 0.106423\n",
            "Training until validation scores don't improve for 50 rounds.\n"
          ]
        },
        {
          "output_type": "stream",
          "name": "stderr",
          "text": [
            "\u001b[32m[I 2021-12-12 02:47:35,856]\u001b[0m Trial 99 finished with value: 0.11947342251383242 and parameters: {'learning_rate': 0.3969438020391042, 'num_leaves': 23, 'tree_learner': 'serial'}. Best is trial 25 with value: 0.10406013281424457.\u001b[0m\n"
          ]
        },
        {
          "output_type": "stream",
          "name": "stdout",
          "text": [
            "Early stopping, best iteration is:\n",
            "[34]\tTrain's rmse: 0.135953\tTest's rmse: 0.119473\n",
            "{'learning_rate': 0.4171876484018003, 'num_leaves': 34, 'tree_learner': 'serial'}\n",
            "{'learning_rate': 0.4171876484018003, 'num_leaves': 34, 'tree_learner': 'serial', 'objective': 'regression', 'metric': 'rmse', 'task': 'train', 'seed': 42}\n",
            "Training until validation scores don't improve for 50 rounds.\n",
            "Early stopping, best iteration is:\n",
            "[34]\tTrain's rmse: 0.134491\tTest's rmse: 0.10406\n"
          ]
        },
        {
          "output_type": "display_data",
          "data": {
            "image/png": "[encoded data removed]",
            "text/plain": [
              "<Figure size 432x288 with 1 Axes>"
            ]
          },
          "metadata": {
            "needs_background": "light"
          }
        },
        {
          "output_type": "stream",
          "name": "stderr",
          "text": [
            "\u001b[32m[I 2021-12-12 02:47:36,346]\u001b[0m A new study created in memory with name: no-name-937063a6-e1c2-40ea-808b-d21fb52b27fc\u001b[0m\n"
          ]
        },
        {
          "output_type": "stream",
          "name": "stdout",
          "text": [
            "Training until validation scores don't improve for 50 rounds.\n"
          ]
        },
        {
          "output_type": "stream",
          "name": "stderr",
          "text": [
            "\u001b[32m[I 2021-12-12 02:47:36,785]\u001b[0m Trial 0 finished with value: 0.148807093261481 and parameters: {'learning_rate': 0.2975739203108436, 'num_leaves': 35, 'tree_learner': 'feature'}. Best is trial 0 with value: 0.148807093261481.\u001b[0m\n"
          ]
        },
        {
          "output_type": "stream",
          "name": "stdout",
          "text": [
            "Did not meet early stopping. Best iteration is:\n",
            "[100]\tTrain's rmse: 0.113888\tTest's rmse: 0.148807\n",
            "Training until validation scores don't improve for 50 rounds.\n"
          ]
        },
        {
          "output_type": "stream",
          "name": "stderr",
          "text": [
            "\u001b[32m[I 2021-12-12 02:47:36,991]\u001b[0m Trial 1 finished with value: 0.125405718889137 and parameters: {'learning_rate': 0.5209989667657369, 'num_leaves': 24, 'tree_learner': 'serial'}. Best is trial 1 with value: 0.125405718889137.\u001b[0m\n"
          ]
        },
        {
          "output_type": "stream",
          "name": "stdout",
          "text": [
            "Early stopping, best iteration is:\n",
            "[21]\tTrain's rmse: 0.159419\tTest's rmse: 0.125406\n",
            "Training until validation scores don't improve for 50 rounds.\n"
          ]
        },
        {
          "output_type": "stream",
          "name": "stderr",
          "text": [
            "\u001b[32m[I 2021-12-12 02:47:37,383]\u001b[0m Trial 2 finished with value: 0.13020902568424306 and parameters: {'learning_rate': 0.9469250934461972, 'num_leaves': 41, 'tree_learner': 'serial'}. Best is trial 1 with value: 0.125405718889137.\u001b[0m\n"
          ]
        },
        {
          "output_type": "stream",
          "name": "stdout",
          "text": [
            "Early stopping, best iteration is:\n",
            "[8]\tTrain's rmse: 0.166389\tTest's rmse: 0.130209\n",
            "Training until validation scores don't improve for 50 rounds.\n"
          ]
        },
        {
          "output_type": "stream",
          "name": "stderr",
          "text": [
            "\u001b[32m[I 2021-12-12 02:47:37,791]\u001b[0m Trial 3 finished with value: 0.13777015233691578 and parameters: {'learning_rate': 0.34032823549806934, 'num_leaves': 39, 'tree_learner': 'feature'}. Best is trial 1 with value: 0.125405718889137.\u001b[0m\n"
          ]
        },
        {
          "output_type": "stream",
          "name": "stdout",
          "text": [
            "Early stopping, best iteration is:\n",
            "[48]\tTrain's rmse: 0.142818\tTest's rmse: 0.13777\n",
            "Training until validation scores don't improve for 50 rounds.\n",
            "Early stopping, best iteration is:\n",
            "[19]\tTrain's rmse: 0.133382\tTest's rmse: 0.112946"
          ]
        },
        {
          "output_type": "stream",
          "name": "stderr",
          "text": [
            "\u001b[32m[I 2021-12-12 02:47:37,987]\u001b[0m Trial 4 finished with value: 0.11294602788088624 and parameters: {'learning_rate': 0.838517808292823, 'num_leaves': 25, 'tree_learner': 'voting'}. Best is trial 4 with value: 0.11294602788088624.\u001b[0m\n"
          ]
        },
        {
          "output_type": "stream",
          "name": "stdout",
          "text": [
            "\n",
            "Training until validation scores don't improve for 50 rounds.\n"
          ]
        },
        {
          "output_type": "stream",
          "name": "stderr",
          "text": [
            "\u001b[32m[I 2021-12-12 02:47:38,341]\u001b[0m Trial 5 finished with value: 0.11793335165346272 and parameters: {'learning_rate': 0.5348402104666261, 'num_leaves': 41, 'tree_learner': 'voting'}. Best is trial 4 with value: 0.11294602788088624.\u001b[0m\n"
          ]
        },
        {
          "output_type": "stream",
          "name": "stdout",
          "text": [
            "Early stopping, best iteration is:\n",
            "[34]\tTrain's rmse: 0.138543\tTest's rmse: 0.117933\n",
            "Training until validation scores don't improve for 50 rounds.\n"
          ]
        },
        {
          "output_type": "stream",
          "name": "stderr",
          "text": [
            "\u001b[32m[I 2021-12-12 02:47:38,696]\u001b[0m Trial 6 finished with value: 0.12957541889534135 and parameters: {'learning_rate': 0.5526531950553576, 'num_leaves': 48, 'tree_learner': 'feature'}. Best is trial 4 with value: 0.11294602788088624.\u001b[0m\n"
          ]
        },
        {
          "output_type": "stream",
          "name": "stdout",
          "text": [
            "Early stopping, best iteration is:\n",
            "[26]\tTrain's rmse: 0.149853\tTest's rmse: 0.129575\n",
            "Training until validation scores don't improve for 50 rounds.\n"
          ]
        },
        {
          "output_type": "stream",
          "name": "stderr",
          "text": [
            "\u001b[32m[I 2021-12-12 02:47:38,945]\u001b[0m Trial 7 finished with value: 0.11924151105582824 and parameters: {'learning_rate': 0.9520519406659718, 'num_leaves': 36, 'tree_learner': 'feature'}. Best is trial 4 with value: 0.11294602788088624.\u001b[0m\n"
          ]
        },
        {
          "output_type": "stream",
          "name": "stdout",
          "text": [
            "Early stopping, best iteration is:\n",
            "[10]\tTrain's rmse: 0.160953\tTest's rmse: 0.119242\n",
            "Training until validation scores don't improve for 50 rounds.\n"
          ]
        },
        {
          "output_type": "stream",
          "name": "stderr",
          "text": [
            "\u001b[32m[I 2021-12-12 02:47:39,227]\u001b[0m Trial 8 finished with value: 0.13057571652572172 and parameters: {'learning_rate': 0.8155531530834333, 'num_leaves': 50, 'tree_learner': 'serial'}. Best is trial 4 with value: 0.11294602788088624.\u001b[0m\n"
          ]
        },
        {
          "output_type": "stream",
          "name": "stdout",
          "text": [
            "Early stopping, best iteration is:\n",
            "[8]\tTrain's rmse: 0.172861\tTest's rmse: 0.130576\n",
            "Training until validation scores don't improve for 50 rounds.\n"
          ]
        },
        {
          "output_type": "stream",
          "name": "stderr",
          "text": [
            "\u001b[32m[I 2021-12-12 02:47:39,635]\u001b[0m Trial 9 finished with value: 0.13658481394203098 and parameters: {'learning_rate': 0.4292289078978919, 'num_leaves': 48, 'tree_learner': 'serial'}. Best is trial 4 with value: 0.11294602788088624.\u001b[0m\n",
            "\u001b[32m[I 2021-12-12 02:47:39,765]\u001b[0m Trial 10 finished with value: 0.1390558660602807 and parameters: {'learning_rate': 0.7373011596210257, 'num_leaves': 10, 'tree_learner': 'data'}. Best is trial 4 with value: 0.11294602788088624.\u001b[0m\n"
          ]
        },
        {
          "output_type": "stream",
          "name": "stdout",
          "text": [
            "Early stopping, best iteration is:\n",
            "[38]\tTrain's rmse: 0.142035\tTest's rmse: 0.136585\n",
            "Training until validation scores don't improve for 50 rounds.\n",
            "Early stopping, best iteration is:\n",
            "[26]\tTrain's rmse: 0.101372\tTest's rmse: 0.139056\n",
            "Training until validation scores don't improve for 50 rounds.\n"
          ]
        },
        {
          "output_type": "stream",
          "name": "stderr",
          "text": [
            "\u001b[32m[I 2021-12-12 02:47:40,108]\u001b[0m Trial 11 finished with value: 0.1373527580240125 and parameters: {'learning_rate': 0.16448238345098976, 'num_leaves': 24, 'tree_learner': 'voting'}. Best is trial 4 with value: 0.11294602788088624.\u001b[0m\n",
            "\u001b[32m[I 2021-12-12 02:47:40,255]\u001b[0m Trial 12 finished with value: 0.12435970262619767 and parameters: {'learning_rate': 0.6569490535527103, 'num_leaves': 15, 'tree_learner': 'voting'}. Best is trial 4 with value: 0.11294602788088624.\u001b[0m\n"
          ]
        },
        {
          "output_type": "stream",
          "name": "stdout",
          "text": [
            "Did not meet early stopping. Best iteration is:\n",
            "[100]\tTrain's rmse: 0.148841\tTest's rmse: 0.137353\n",
            "Training until validation scores don't improve for 50 rounds.\n",
            "Early stopping, best iteration is:\n",
            "[16]\tTrain's rmse: 0.163317\tTest's rmse: 0.12436\n",
            "Training until validation scores don't improve for 50 rounds.\n"
          ]
        },
        {
          "output_type": "stream",
          "name": "stderr",
          "text": [
            "\u001b[32m[I 2021-12-12 02:47:40,495]\u001b[0m Trial 13 finished with value: 0.12847441429792045 and parameters: {'learning_rate': 0.644487977557118, 'num_leaves': 30, 'tree_learner': 'voting'}. Best is trial 4 with value: 0.11294602788088624.\u001b[0m\n",
            "\u001b[32m[I 2021-12-12 02:47:40,658]\u001b[0m Trial 14 finished with value: 0.13374214090103725 and parameters: {'learning_rate': 0.7990122834518207, 'num_leaves': 18, 'tree_learner': 'voting'}. Best is trial 4 with value: 0.11294602788088624.\u001b[0m\n"
          ]
        },
        {
          "output_type": "stream",
          "name": "stdout",
          "text": [
            "Early stopping, best iteration is:\n",
            "[17]\tTrain's rmse: 0.156654\tTest's rmse: 0.128474\n",
            "Training until validation scores don't improve for 50 rounds.\n",
            "Early stopping, best iteration is:\n",
            "[21]\tTrain's rmse: 0.146286\tTest's rmse: 0.133742\n",
            "Training until validation scores don't improve for 50 rounds.\n"
          ]
        },
        {
          "output_type": "stream",
          "name": "stderr",
          "text": [
            "\u001b[32m[I 2021-12-12 02:47:40,931]\u001b[0m Trial 15 finished with value: 0.12146161326960703 and parameters: {'learning_rate': 0.5233839678346532, 'num_leaves': 30, 'tree_learner': 'voting'}. Best is trial 4 with value: 0.11294602788088624.\u001b[0m\n",
            "\u001b[32m[I 2021-12-12 02:47:41,086]\u001b[0m Trial 16 finished with value: 0.13608481440906273 and parameters: {'learning_rate': 0.8526307161404476, 'num_leaves': 18, 'tree_learner': 'data'}. Best is trial 4 with value: 0.11294602788088624.\u001b[0m\n"
          ]
        },
        {
          "output_type": "stream",
          "name": "stdout",
          "text": [
            "Early stopping, best iteration is:\n",
            "[23]\tTrain's rmse: 0.157517\tTest's rmse: 0.121462\n",
            "Training until validation scores don't improve for 50 rounds.\n",
            "Early stopping, best iteration is:\n",
            "[18]\tTrain's rmse: 0.151216\tTest's rmse: 0.136085\n",
            "Training until validation scores don't improve for 50 rounds.\n"
          ]
        },
        {
          "output_type": "stream",
          "name": "stderr",
          "text": [
            "\u001b[32m[I 2021-12-12 02:47:41,414]\u001b[0m Trial 17 finished with value: 0.12703706280629948 and parameters: {'learning_rate': 0.6390441207159979, 'num_leaves': 43, 'tree_learner': 'voting'}. Best is trial 4 with value: 0.11294602788088624.\u001b[0m\n"
          ]
        },
        {
          "output_type": "stream",
          "name": "stdout",
          "text": [
            "Early stopping, best iteration is:\n",
            "[25]\tTrain's rmse: 0.145855\tTest's rmse: 0.127037\n",
            "Training until validation scores don't improve for 50 rounds.\n"
          ]
        },
        {
          "output_type": "stream",
          "name": "stderr",
          "text": [
            "\u001b[32m[I 2021-12-12 02:47:41,681]\u001b[0m Trial 18 finished with value: 0.14073946376031554 and parameters: {'learning_rate': 0.4139466100635269, 'num_leaves': 26, 'tree_learner': 'voting'}. Best is trial 4 with value: 0.11294602788088624.\u001b[0m\n",
            "\u001b[32m[I 2021-12-12 02:47:41,836]\u001b[0m Trial 19 finished with value: 0.14093973112657393 and parameters: {'learning_rate': 0.13134766193862996, 'num_leaves': 7, 'tree_learner': 'voting'}. Best is trial 4 with value: 0.11294602788088624.\u001b[0m\n"
          ]
        },
        {
          "output_type": "stream",
          "name": "stdout",
          "text": [
            "Early stopping, best iteration is:\n",
            "[38]\tTrain's rmse: 0.141749\tTest's rmse: 0.140739\n",
            "Training until validation scores don't improve for 50 rounds.\n",
            "Did not meet early stopping. Best iteration is:\n",
            "[100]\tTrain's rmse: 0.136088\tTest's rmse: 0.14094\n",
            "Training until validation scores don't improve for 50 rounds.\n"
          ]
        },
        {
          "output_type": "stream",
          "name": "stderr",
          "text": [
            "\u001b[32m[I 2021-12-12 02:47:42,122]\u001b[0m Trial 20 finished with value: 0.11501367233649012 and parameters: {'learning_rate': 0.6871284103885803, 'num_leaves': 32, 'tree_learner': 'data'}. Best is trial 4 with value: 0.11294602788088624.\u001b[0m\n"
          ]
        },
        {
          "output_type": "stream",
          "name": "stdout",
          "text": [
            "Early stopping, best iteration is:\n",
            "[21]\tTrain's rmse: 0.153411\tTest's rmse: 0.115014\n",
            "Training until validation scores don't improve for 50 rounds.\n"
          ]
        },
        {
          "output_type": "stream",
          "name": "stderr",
          "text": [
            "\u001b[32m[I 2021-12-12 02:47:42,351]\u001b[0m Trial 21 finished with value: 0.11959212488094062 and parameters: {'learning_rate': 0.8786342937491036, 'num_leaves': 30, 'tree_learner': 'data'}. Best is trial 4 with value: 0.11294602788088624.\u001b[0m\n"
          ]
        },
        {
          "output_type": "stream",
          "name": "stdout",
          "text": [
            "Early stopping, best iteration is:\n",
            "[16]\tTrain's rmse: 0.151341\tTest's rmse: 0.119592\n",
            "Training until validation scores don't improve for 50 rounds.\n"
          ]
        },
        {
          "output_type": "stream",
          "name": "stderr",
          "text": [
            "\u001b[32m[I 2021-12-12 02:47:42,611]\u001b[0m Trial 22 finished with value: 0.12575665149906837 and parameters: {'learning_rate': 0.7230593744155928, 'num_leaves': 35, 'tree_learner': 'data'}. Best is trial 4 with value: 0.11294602788088624.\u001b[0m\n"
          ]
        },
        {
          "output_type": "stream",
          "name": "stdout",
          "text": [
            "Early stopping, best iteration is:\n",
            "[20]\tTrain's rmse: 0.152991\tTest's rmse: 0.125757\n",
            "Training until validation scores don't improve for 50 rounds.\n"
          ]
        },
        {
          "output_type": "stream",
          "name": "stderr",
          "text": [
            "\u001b[32m[I 2021-12-12 02:47:42,938]\u001b[0m Trial 23 finished with value: 0.13114040052536163 and parameters: {'learning_rate': 0.5729270148481775, 'num_leaves': 44, 'tree_learner': 'data'}. Best is trial 4 with value: 0.11294602788088624.\u001b[0m\n"
          ]
        },
        {
          "output_type": "stream",
          "name": "stdout",
          "text": [
            "Early stopping, best iteration is:\n",
            "[18]\tTrain's rmse: 0.16333\tTest's rmse: 0.13114\n",
            "Training until validation scores don't improve for 50 rounds.\n"
          ]
        },
        {
          "output_type": "stream",
          "name": "stderr",
          "text": [
            "\u001b[32m[I 2021-12-12 02:47:43,169]\u001b[0m Trial 24 finished with value: 0.11560170849037252 and parameters: {'learning_rate': 0.7378953694788484, 'num_leaves': 33, 'tree_learner': 'data'}. Best is trial 4 with value: 0.11294602788088624.\u001b[0m\n",
            "\u001b[32m[I 2021-12-12 02:47:43,341]\u001b[0m Trial 25 finished with value: 0.11573925935417616 and parameters: {'learning_rate': 0.7198858679564079, 'num_leaves': 20, 'tree_learner': 'data'}. Best is trial 4 with value: 0.11294602788088624.\u001b[0m\n"
          ]
        },
        {
          "output_type": "stream",
          "name": "stdout",
          "text": [
            "Early stopping, best iteration is:\n",
            "[15]\tTrain's rmse: 0.159764\tTest's rmse: 0.115602\n",
            "Training until validation scores don't improve for 50 rounds.\n",
            "Early stopping, best iteration is:\n",
            "[17]\tTrain's rmse: 0.157217\tTest's rmse: 0.115739\n"
          ]
        },
        {
          "output_type": "stream",
          "name": "stderr",
          "text": [
            "\u001b[32m[I 2021-12-12 02:47:43,562]\u001b[0m Trial 26 finished with value: 0.11852524428988465 and parameters: {'learning_rate': 0.9030679604113728, 'num_leaves': 32, 'tree_learner': 'data'}. Best is trial 4 with value: 0.11294602788088624.\u001b[0m\n"
          ]
        },
        {
          "output_type": "stream",
          "name": "stdout",
          "text": [
            "Training until validation scores don't improve for 50 rounds.\n",
            "Early stopping, best iteration is:\n",
            "[14]\tTrain's rmse: 0.155156\tTest's rmse: 0.118525\n"
          ]
        },
        {
          "output_type": "stream",
          "name": "stderr",
          "text": [
            "\u001b[32m[I 2021-12-12 02:47:43,756]\u001b[0m Trial 27 finished with value: 0.11469859638110554 and parameters: {'learning_rate': 0.7789817909597325, 'num_leaves': 23, 'tree_learner': 'data'}. Best is trial 4 with value: 0.11294602788088624.\u001b[0m\n"
          ]
        },
        {
          "output_type": "stream",
          "name": "stdout",
          "text": [
            "Training until validation scores don't improve for 50 rounds.\n",
            "Early stopping, best iteration is:\n",
            "[16]\tTrain's rmse: 0.153056\tTest's rmse: 0.114699\n",
            "Training until validation scores don't improve for 50 rounds.\n"
          ]
        },
        {
          "output_type": "stream",
          "name": "stderr",
          "text": [
            "\u001b[32m[I 2021-12-12 02:47:43,964]\u001b[0m Trial 28 finished with value: 0.1355383324723924 and parameters: {'learning_rate': 0.7996760244244597, 'num_leaves': 21, 'tree_learner': 'data'}. Best is trial 4 with value: 0.11294602788088624.\u001b[0m\n",
            "\u001b[32m[I 2021-12-12 02:47:44,099]\u001b[0m Trial 29 finished with value: 0.13643723470004263 and parameters: {'learning_rate': 0.9924996847241752, 'num_leaves': 13, 'tree_learner': 'data'}. Best is trial 4 with value: 0.11294602788088624.\u001b[0m\n"
          ]
        },
        {
          "output_type": "stream",
          "name": "stdout",
          "text": [
            "Early stopping, best iteration is:\n",
            "[22]\tTrain's rmse: 0.143161\tTest's rmse: 0.135538\n",
            "Training until validation scores don't improve for 50 rounds.\n",
            "Early stopping, best iteration is:\n",
            "[16]\tTrain's rmse: 0.125694\tTest's rmse: 0.136437\n",
            "Training until validation scores don't improve for 50 rounds.\n"
          ]
        },
        {
          "output_type": "stream",
          "name": "stderr",
          "text": [
            "\u001b[32m[I 2021-12-12 02:47:44,344]\u001b[0m Trial 30 finished with value: 0.11689062062572284 and parameters: {'learning_rate': 0.6608950188415544, 'num_leaves': 27, 'tree_learner': 'feature'}. Best is trial 4 with value: 0.11294602788088624.\u001b[0m\n"
          ]
        },
        {
          "output_type": "stream",
          "name": "stdout",
          "text": [
            "Early stopping, best iteration is:\n",
            "[23]\tTrain's rmse: 0.152506\tTest's rmse: 0.116891\n",
            "Training until validation scores don't improve for 50 rounds.\n"
          ]
        },
        {
          "output_type": "stream",
          "name": "stderr",
          "text": [
            "\u001b[32m[I 2021-12-12 02:47:44,580]\u001b[0m Trial 31 finished with value: 0.11788525586032035 and parameters: {'learning_rate': 0.7288571309425531, 'num_leaves': 33, 'tree_learner': 'data'}. Best is trial 4 with value: 0.11294602788088624.\u001b[0m\n"
          ]
        },
        {
          "output_type": "stream",
          "name": "stdout",
          "text": [
            "Early stopping, best iteration is:\n",
            "[15]\tTrain's rmse: 0.157111\tTest's rmse: 0.117885\n",
            "Training until validation scores don't improve for 50 rounds.\n"
          ]
        },
        {
          "output_type": "stream",
          "name": "stderr",
          "text": [
            "\u001b[32m[I 2021-12-12 02:47:44,805]\u001b[0m Trial 32 finished with value: 0.11934010993638515 and parameters: {'learning_rate': 0.7703498163339051, 'num_leaves': 25, 'tree_learner': 'data'}. Best is trial 4 with value: 0.11294602788088624.\u001b[0m\n",
            "\u001b[32m[I 2021-12-12 02:47:44,992]\u001b[0m Trial 33 finished with value: 0.13642815761350002 and parameters: {'learning_rate': 0.8444827820099939, 'num_leaves': 21, 'tree_learner': 'data'}. Best is trial 4 with value: 0.11294602788088624.\u001b[0m\n"
          ]
        },
        {
          "output_type": "stream",
          "name": "stdout",
          "text": [
            "Early stopping, best iteration is:\n",
            "[26]\tTrain's rmse: 0.13621\tTest's rmse: 0.11934\n",
            "Training until validation scores don't improve for 50 rounds.\n",
            "Early stopping, best iteration is:\n",
            "[16]\tTrain's rmse: 0.156043\tTest's rmse: 0.136428\n",
            "Training until validation scores don't improve for 50 rounds.\n",
            "Early stopping, best iteration is:\n",
            "[8]\tTrain's rmse: 0.167178\tTest's rmse: 0.12057\n"
          ]
        },
        {
          "output_type": "stream",
          "name": "stderr",
          "text": [
            "\u001b[32m[I 2021-12-12 02:47:45,240]\u001b[0m Trial 34 finished with value: 0.12056993514582269 and parameters: {'learning_rate': 0.9189244516098067, 'num_leaves': 36, 'tree_learner': 'data'}. Best is trial 4 with value: 0.11294602788088624.\u001b[0m\n"
          ]
        },
        {
          "output_type": "stream",
          "name": "stdout",
          "text": [
            "Training until validation scores don't improve for 50 rounds.\n"
          ]
        },
        {
          "output_type": "stream",
          "name": "stderr",
          "text": [
            "\u001b[32m[I 2021-12-12 02:47:45,510]\u001b[0m Trial 35 finished with value: 0.12789700798211065 and parameters: {'learning_rate': 0.5939455507050545, 'num_leaves': 38, 'tree_learner': 'serial'}. Best is trial 4 with value: 0.11294602788088624.\u001b[0m\n"
          ]
        },
        {
          "output_type": "stream",
          "name": "stdout",
          "text": [
            "Early stopping, best iteration is:\n",
            "[18]\tTrain's rmse: 0.160167\tTest's rmse: 0.127897\n",
            "Training until validation scores don't improve for 50 rounds.\n"
          ]
        },
        {
          "output_type": "stream",
          "name": "stderr",
          "text": [
            "\u001b[32m[I 2021-12-12 02:47:45,790]\u001b[0m Trial 36 finished with value: 0.13743019170974252 and parameters: {'learning_rate': 0.44912729402580387, 'num_leaves': 29, 'tree_learner': 'data'}. Best is trial 4 with value: 0.11294602788088624.\u001b[0m\n"
          ]
        },
        {
          "output_type": "stream",
          "name": "stdout",
          "text": [
            "Early stopping, best iteration is:\n",
            "[35]\tTrain's rmse: 0.147204\tTest's rmse: 0.13743\n",
            "Training until validation scores don't improve for 50 rounds.\n"
          ]
        },
        {
          "output_type": "stream",
          "name": "stderr",
          "text": [
            "\u001b[32m[I 2021-12-12 02:47:46,045]\u001b[0m Trial 37 finished with value: 0.12709009958341275 and parameters: {'learning_rate': 0.6877996829968958, 'num_leaves': 33, 'tree_learner': 'feature'}. Best is trial 4 with value: 0.11294602788088624.\u001b[0m\n"
          ]
        },
        {
          "output_type": "stream",
          "name": "stdout",
          "text": [
            "Early stopping, best iteration is:\n",
            "[17]\tTrain's rmse: 0.157976\tTest's rmse: 0.12709\n",
            "Training until validation scores don't improve for 50 rounds.\n",
            "Early stopping, best iteration is:\n",
            "[20]\tTrain's rmse: 0.151641\tTest's rmse: 0.117473\n"
          ]
        },
        {
          "output_type": "stream",
          "name": "stderr",
          "text": [
            "\u001b[32m[I 2021-12-12 02:47:46,241]\u001b[0m Trial 38 finished with value: 0.11747284153783819 and parameters: {'learning_rate': 0.7627205055340268, 'num_leaves': 23, 'tree_learner': 'serial'}. Best is trial 4 with value: 0.11294602788088624.\u001b[0m\n",
            "\u001b[32m[I 2021-12-12 02:47:46,441]\u001b[0m Trial 39 finished with value: 0.12711436355717123 and parameters: {'learning_rate': 0.8373349743097512, 'num_leaves': 28, 'tree_learner': 'data'}. Best is trial 4 with value: 0.11294602788088624.\u001b[0m\n"
          ]
        },
        {
          "output_type": "stream",
          "name": "stdout",
          "text": [
            "Training until validation scores don't improve for 50 rounds.\n",
            "Early stopping, best iteration is:\n",
            "[13]\tTrain's rmse: 0.163473\tTest's rmse: 0.127114\n",
            "Training until validation scores don't improve for 50 rounds.\n"
          ]
        },
        {
          "output_type": "stream",
          "name": "stderr",
          "text": [
            "\u001b[32m[I 2021-12-12 02:47:46,728]\u001b[0m Trial 40 finished with value: 0.12543674946917976 and parameters: {'learning_rate': 0.6017428105284813, 'num_leaves': 38, 'tree_learner': 'feature'}. Best is trial 4 with value: 0.11294602788088624.\u001b[0m\n",
            "\u001b[32m[I 2021-12-12 02:47:46,913]\u001b[0m Trial 41 finished with value: 0.1160122503497272 and parameters: {'learning_rate': 0.6935190317932413, 'num_leaves': 20, 'tree_learner': 'data'}. Best is trial 4 with value: 0.11294602788088624.\u001b[0m\n"
          ]
        },
        {
          "output_type": "stream",
          "name": "stdout",
          "text": [
            "Early stopping, best iteration is:\n",
            "[26]\tTrain's rmse: 0.144169\tTest's rmse: 0.125437\n",
            "Training until validation scores don't improve for 50 rounds.\n",
            "Early stopping, best iteration is:\n",
            "[21]\tTrain's rmse: 0.154168\tTest's rmse: 0.116012\n"
          ]
        },
        {
          "output_type": "stream",
          "name": "stderr",
          "text": [
            "\u001b[32m[I 2021-12-12 02:47:47,122]\u001b[0m Trial 42 finished with value: 0.1094769892109066 and parameters: {'learning_rate': 0.7637718001907776, 'num_leaves': 17, 'tree_learner': 'data'}. Best is trial 42 with value: 0.1094769892109066.\u001b[0m\n"
          ]
        },
        {
          "output_type": "stream",
          "name": "stdout",
          "text": [
            "Training until validation scores don't improve for 50 rounds.\n",
            "Early stopping, best iteration is:\n",
            "[30]\tTrain's rmse: 0.129833\tTest's rmse: 0.109477\n",
            "Training until validation scores don't improve for 50 rounds.\n"
          ]
        },
        {
          "output_type": "stream",
          "name": "stderr",
          "text": [
            "\u001b[32m[I 2021-12-12 02:47:47,291]\u001b[0m Trial 43 finished with value: 0.11816861899897085 and parameters: {'learning_rate': 0.7769730325915893, 'num_leaves': 14, 'tree_learner': 'data'}. Best is trial 42 with value: 0.1094769892109066.\u001b[0m\n",
            "\u001b[32m[I 2021-12-12 02:47:47,470]\u001b[0m Trial 44 finished with value: 0.11621240908272375 and parameters: {'learning_rate': 0.9596929641860086, 'num_leaves': 23, 'tree_learner': 'data'}. Best is trial 42 with value: 0.1094769892109066.\u001b[0m\n"
          ]
        },
        {
          "output_type": "stream",
          "name": "stdout",
          "text": [
            "Early stopping, best iteration is:\n",
            "[22]\tTrain's rmse: 0.14327\tTest's rmse: 0.118169\n",
            "Training until validation scores don't improve for 50 rounds.\n",
            "Early stopping, best iteration is:\n",
            "[12]\tTrain's rmse: 0.154686\tTest's rmse: 0.116212\n"
          ]
        },
        {
          "output_type": "stream",
          "name": "stderr",
          "text": [
            "\u001b[32m[I 2021-12-12 02:47:47,636]\u001b[0m Trial 45 finished with value: 0.13470960414413802 and parameters: {'learning_rate': 0.8793049205182829, 'num_leaves': 16, 'tree_learner': 'serial'}. Best is trial 42 with value: 0.1094769892109066.\u001b[0m\n"
          ]
        },
        {
          "output_type": "stream",
          "name": "stdout",
          "text": [
            "Training until validation scores don't improve for 50 rounds.\n",
            "Early stopping, best iteration is:\n",
            "[18]\tTrain's rmse: 0.14983\tTest's rmse: 0.13471\n",
            "Training until validation scores don't improve for 50 rounds.\n"
          ]
        },
        {
          "output_type": "stream",
          "name": "stderr",
          "text": [
            "\u001b[32m[I 2021-12-12 02:47:48,023]\u001b[0m Trial 46 finished with value: 0.14344310393495846 and parameters: {'learning_rate': 0.2286413617501437, 'num_leaves': 32, 'tree_learner': 'data'}. Best is trial 42 with value: 0.1094769892109066.\u001b[0m\n",
            "\u001b[32m[I 2021-12-12 02:47:48,134]\u001b[0m Trial 47 finished with value: 0.14909224435130358 and parameters: {'learning_rate': 0.8221826597574518, 'num_leaves': 10, 'tree_learner': 'voting'}. Best is trial 42 with value: 0.1094769892109066.\u001b[0m\n"
          ]
        },
        {
          "output_type": "stream",
          "name": "stdout",
          "text": [
            "Did not meet early stopping. Best iteration is:\n",
            "[100]\tTrain's rmse: 0.128389\tTest's rmse: 0.143443\n",
            "Training until validation scores don't improve for 50 rounds.\n",
            "Early stopping, best iteration is:\n",
            "[14]\tTrain's rmse: 0.131658\tTest's rmse: 0.149092\n",
            "Training until validation scores don't improve for 50 rounds.\n"
          ]
        },
        {
          "output_type": "stream",
          "name": "stderr",
          "text": [
            "\u001b[32m[I 2021-12-12 02:47:48,328]\u001b[0m Trial 48 finished with value: 0.10948405999406277 and parameters: {'learning_rate': 0.7631379963263738, 'num_leaves': 17, 'tree_learner': 'data'}. Best is trial 42 with value: 0.1094769892109066.\u001b[0m\n",
            "\u001b[32m[I 2021-12-12 02:47:48,496]\u001b[0m Trial 49 finished with value: 0.13106831049027684 and parameters: {'learning_rate': 0.4700194144678851, 'num_leaves': 17, 'tree_learner': 'voting'}. Best is trial 42 with value: 0.1094769892109066.\u001b[0m\n"
          ]
        },
        {
          "output_type": "stream",
          "name": "stdout",
          "text": [
            "Early stopping, best iteration is:\n",
            "[30]\tTrain's rmse: 0.129868\tTest's rmse: 0.109484\n",
            "Training until validation scores don't improve for 50 rounds.\n",
            "Early stopping, best iteration is:\n",
            "[26]\tTrain's rmse: 0.155495\tTest's rmse: 0.131068\n"
          ]
        },
        {
          "output_type": "stream",
          "name": "stderr",
          "text": [
            "\u001b[32m[I 2021-12-12 02:47:48,652]\u001b[0m Trial 50 finished with value: 0.12313221012771981 and parameters: {'learning_rate': 0.6765042609362278, 'num_leaves': 13, 'tree_learner': 'data'}. Best is trial 42 with value: 0.1094769892109066.\u001b[0m\n"
          ]
        },
        {
          "output_type": "stream",
          "name": "stdout",
          "text": [
            "Training until validation scores don't improve for 50 rounds.\n",
            "Early stopping, best iteration is:\n",
            "[21]\tTrain's rmse: 0.141499\tTest's rmse: 0.123132\n",
            "Training until validation scores don't improve for 50 rounds.\n"
          ]
        },
        {
          "output_type": "stream",
          "name": "stderr",
          "text": [
            "\u001b[32m[I 2021-12-12 02:47:48,876]\u001b[0m Trial 51 finished with value: 0.11932496900959921 and parameters: {'learning_rate': 0.7563698974647989, 'num_leaves': 25, 'tree_learner': 'data'}. Best is trial 42 with value: 0.1094769892109066.\u001b[0m\n",
            "\u001b[32m[I 2021-12-12 02:47:49,053]\u001b[0m Trial 52 finished with value: 0.13615321066735317 and parameters: {'learning_rate': 0.626707574125447, 'num_leaves': 11, 'tree_learner': 'data'}. Best is trial 42 with value: 0.1094769892109066.\u001b[0m\n"
          ]
        },
        {
          "output_type": "stream",
          "name": "stdout",
          "text": [
            "Early stopping, best iteration is:\n",
            "[22]\tTrain's rmse: 0.148645\tTest's rmse: 0.119325\n",
            "Training until validation scores don't improve for 50 rounds.\n",
            "Early stopping, best iteration is:\n",
            "[40]\tTrain's rmse: 0.10703\tTest's rmse: 0.136153\n"
          ]
        },
        {
          "output_type": "stream",
          "name": "stderr",
          "text": [
            "\u001b[32m[I 2021-12-12 02:47:49,226]\u001b[0m Trial 53 finished with value: 0.1362147955893157 and parameters: {'learning_rate': 0.7960131501678509, 'num_leaves': 19, 'tree_learner': 'data'}. Best is trial 42 with value: 0.1094769892109066.\u001b[0m\n"
          ]
        },
        {
          "output_type": "stream",
          "name": "stdout",
          "text": [
            "Training until validation scores don't improve for 50 rounds.\n",
            "Early stopping, best iteration is:\n",
            "[14]\tTrain's rmse: 0.161753\tTest's rmse: 0.136215\n",
            "Training until validation scores don't improve for 50 rounds.\n"
          ]
        },
        {
          "output_type": "stream",
          "name": "stderr",
          "text": [
            "\u001b[32m[I 2021-12-12 02:47:49,426]\u001b[0m Trial 54 finished with value: 0.11693892478888904 and parameters: {'learning_rate': 0.7109742145541174, 'num_leaves': 22, 'tree_learner': 'data'}. Best is trial 42 with value: 0.1094769892109066.\u001b[0m\n",
            "\u001b[32m[I 2021-12-12 02:47:49,552]\u001b[0m Trial 55 finished with value: 0.16601299955644158 and parameters: {'learning_rate': 0.8816499264452914, 'num_leaves': 5, 'tree_learner': 'voting'}. Best is trial 42 with value: 0.1094769892109066.\u001b[0m\n"
          ]
        },
        {
          "output_type": "stream",
          "name": "stdout",
          "text": [
            "Early stopping, best iteration is:\n",
            "[17]\tTrain's rmse: 0.158201\tTest's rmse: 0.116939\n",
            "Training until validation scores don't improve for 50 rounds.\n",
            "Did not meet early stopping. Best iteration is:\n",
            "[100]\tTrain's rmse: 0.0614943\tTest's rmse: 0.166013\n",
            "Training until validation scores don't improve for 50 rounds.\n"
          ]
        },
        {
          "output_type": "stream",
          "name": "stderr",
          "text": [
            "\u001b[32m[I 2021-12-12 02:47:49,786]\u001b[0m Trial 56 finished with value: 0.1124190163042031 and parameters: {'learning_rate': 0.7438616840145322, 'num_leaves': 27, 'tree_learner': 'feature'}. Best is trial 42 with value: 0.1094769892109066.\u001b[0m\n"
          ]
        },
        {
          "output_type": "stream",
          "name": "stdout",
          "text": [
            "Early stopping, best iteration is:\n",
            "[22]\tTrain's rmse: 0.147416\tTest's rmse: 0.112419\n",
            "Training until validation scores don't improve for 50 rounds.\n"
          ]
        },
        {
          "output_type": "stream",
          "name": "stderr",
          "text": [
            "\u001b[32m[I 2021-12-12 02:47:50,007]\u001b[0m Trial 57 finished with value: 0.12237461944246329 and parameters: {'learning_rate': 0.8180946115538871, 'num_leaves': 27, 'tree_learner': 'feature'}. Best is trial 42 with value: 0.1094769892109066.\u001b[0m\n"
          ]
        },
        {
          "output_type": "stream",
          "name": "stdout",
          "text": [
            "Early stopping, best iteration is:\n",
            "[20]\tTrain's rmse: 0.145495\tTest's rmse: 0.122375\n",
            "Training until validation scores don't improve for 50 rounds.\n",
            "Early stopping, best iteration is:\n",
            "[11]\tTrain's rmse: 0.15048\tTest's rmse: 0.117988\n"
          ]
        },
        {
          "output_type": "stream",
          "name": "stderr",
          "text": [
            "\u001b[32m[I 2021-12-12 02:47:50,202]\u001b[0m Trial 58 finished with value: 0.11798841637226931 and parameters: {'learning_rate': 0.8680330465843029, 'num_leaves': 24, 'tree_learner': 'feature'}. Best is trial 42 with value: 0.1094769892109066.\u001b[0m\n",
            "\u001b[32m[I 2021-12-12 02:47:50,340]\u001b[0m Trial 59 finished with value: 0.13298048608972007 and parameters: {'learning_rate': 0.9244194248369109, 'num_leaves': 18, 'tree_learner': 'feature'}. Best is trial 42 with value: 0.1094769892109066.\u001b[0m\n"
          ]
        },
        {
          "output_type": "stream",
          "name": "stdout",
          "text": [
            "Training until validation scores don't improve for 50 rounds.\n",
            "Early stopping, best iteration is:\n",
            "[8]\tTrain's rmse: 0.171663\tTest's rmse: 0.13298\n",
            "Training until validation scores don't improve for 50 rounds.\n"
          ]
        },
        {
          "output_type": "stream",
          "name": "stderr",
          "text": [
            "\u001b[32m[I 2021-12-12 02:47:50,510]\u001b[0m Trial 60 finished with value: 0.12602683834915362 and parameters: {'learning_rate': 0.4961626521600089, 'num_leaves': 16, 'tree_learner': 'feature'}. Best is trial 42 with value: 0.1094769892109066.\u001b[0m\n"
          ]
        },
        {
          "output_type": "stream",
          "name": "stdout",
          "text": [
            "Early stopping, best iteration is:\n",
            "[25]\tTrain's rmse: 0.154735\tTest's rmse: 0.126027\n",
            "Training until validation scores don't improve for 50 rounds.\n"
          ]
        },
        {
          "output_type": "stream",
          "name": "stderr",
          "text": [
            "\u001b[32m[I 2021-12-12 02:47:50,757]\u001b[0m Trial 61 finished with value: 0.11787054663214999 and parameters: {'learning_rate': 0.7353706947265404, 'num_leaves': 31, 'tree_learner': 'data'}. Best is trial 42 with value: 0.1094769892109066.\u001b[0m\n"
          ]
        },
        {
          "output_type": "stream",
          "name": "stdout",
          "text": [
            "Early stopping, best iteration is:\n",
            "[22]\tTrain's rmse: 0.147523\tTest's rmse: 0.117871\n",
            "Training until validation scores don't improve for 50 rounds.\n"
          ]
        },
        {
          "output_type": "stream",
          "name": "stderr",
          "text": [
            "\u001b[32m[I 2021-12-12 02:47:50,984]\u001b[0m Trial 62 finished with value: 0.11608268305849469 and parameters: {'learning_rate': 0.7868508464514669, 'num_leaves': 28, 'tree_learner': 'voting'}. Best is trial 42 with value: 0.1094769892109066.\u001b[0m\n"
          ]
        },
        {
          "output_type": "stream",
          "name": "stdout",
          "text": [
            "Early stopping, best iteration is:\n",
            "[18]\tTrain's rmse: 0.149838\tTest's rmse: 0.116083\n",
            "Training until validation scores don't improve for 50 rounds.\n"
          ]
        },
        {
          "output_type": "stream",
          "name": "stderr",
          "text": [
            "\u001b[32m[I 2021-12-12 02:47:51,268]\u001b[0m Trial 63 finished with value: 0.11384629573635387 and parameters: {'learning_rate': 0.7543931996607143, 'num_leaves': 34, 'tree_learner': 'data'}. Best is trial 42 with value: 0.1094769892109066.\u001b[0m\n"
          ]
        },
        {
          "output_type": "stream",
          "name": "stdout",
          "text": [
            "Early stopping, best iteration is:\n",
            "[19]\tTrain's rmse: 0.153129\tTest's rmse: 0.113846\n",
            "Training until validation scores don't improve for 50 rounds.\n"
          ]
        },
        {
          "output_type": "stream",
          "name": "stderr",
          "text": [
            "\u001b[32m[I 2021-12-12 02:47:51,514]\u001b[0m Trial 64 finished with value: 0.12785781137840468 and parameters: {'learning_rate': 0.7016204366922806, 'num_leaves': 35, 'tree_learner': 'serial'}. Best is trial 42 with value: 0.1094769892109066.\u001b[0m\n"
          ]
        },
        {
          "output_type": "stream",
          "name": "stdout",
          "text": [
            "Early stopping, best iteration is:\n",
            "[17]\tTrain's rmse: 0.157337\tTest's rmse: 0.127858\n",
            "Training until validation scores don't improve for 50 rounds.\n"
          ]
        },
        {
          "output_type": "stream",
          "name": "stderr",
          "text": [
            "\u001b[32m[I 2021-12-12 02:47:51,739]\u001b[0m Trial 65 finished with value: 0.11664354742453417 and parameters: {'learning_rate': 0.7506688745775826, 'num_leaves': 26, 'tree_learner': 'data'}. Best is trial 42 with value: 0.1094769892109066.\u001b[0m\n"
          ]
        },
        {
          "output_type": "stream",
          "name": "stdout",
          "text": [
            "Early stopping, best iteration is:\n",
            "[19]\tTrain's rmse: 0.151362\tTest's rmse: 0.116644\n",
            "Training until validation scores don't improve for 50 rounds.\n"
          ]
        },
        {
          "output_type": "stream",
          "name": "stderr",
          "text": [
            "\u001b[32m[I 2021-12-12 02:47:52,098]\u001b[0m Trial 66 finished with value: 0.12412050812872989 and parameters: {'learning_rate': 0.6237504678146947, 'num_leaves': 42, 'tree_learner': 'feature'}. Best is trial 42 with value: 0.1094769892109066.\u001b[0m\n"
          ]
        },
        {
          "output_type": "stream",
          "name": "stdout",
          "text": [
            "Early stopping, best iteration is:\n",
            "[31]\tTrain's rmse: 0.141402\tTest's rmse: 0.124121\n",
            "Training until validation scores don't improve for 50 rounds.\n"
          ]
        },
        {
          "output_type": "stream",
          "name": "stderr",
          "text": [
            "\u001b[32m[I 2021-12-12 02:47:52,371]\u001b[0m Trial 67 finished with value: 0.11977102622485955 and parameters: {'learning_rate': 0.5549335383323251, 'num_leaves': 30, 'tree_learner': 'voting'}. Best is trial 42 with value: 0.1094769892109066.\u001b[0m\n"
          ]
        },
        {
          "output_type": "stream",
          "name": "stdout",
          "text": [
            "Early stopping, best iteration is:\n",
            "[28]\tTrain's rmse: 0.149296\tTest's rmse: 0.119771\n",
            "Training until validation scores don't improve for 50 rounds.\n"
          ]
        },
        {
          "output_type": "stream",
          "name": "stderr",
          "text": [
            "\u001b[32m[I 2021-12-12 02:47:52,754]\u001b[0m Trial 68 finished with value: 0.1356685482672605 and parameters: {'learning_rate': 0.3536862927610507, 'num_leaves': 40, 'tree_learner': 'data'}. Best is trial 42 with value: 0.1094769892109066.\u001b[0m\n"
          ]
        },
        {
          "output_type": "stream",
          "name": "stdout",
          "text": [
            "Early stopping, best iteration is:\n",
            "[41]\tTrain's rmse: 0.151958\tTest's rmse: 0.135669\n",
            "Training until validation scores don't improve for 50 rounds.\n"
          ]
        },
        {
          "output_type": "stream",
          "name": "stderr",
          "text": [
            "\u001b[32m[I 2021-12-12 02:47:53,007]\u001b[0m Trial 69 finished with value: 0.1250519206204853 and parameters: {'learning_rate': 0.6656475970107599, 'num_leaves': 36, 'tree_learner': 'data'}. Best is trial 42 with value: 0.1094769892109066.\u001b[0m\n"
          ]
        },
        {
          "output_type": "stream",
          "name": "stdout",
          "text": [
            "Early stopping, best iteration is:\n",
            "[15]\tTrain's rmse: 0.163339\tTest's rmse: 0.125052\n",
            "Training until validation scores don't improve for 50 rounds.\n"
          ]
        },
        {
          "output_type": "stream",
          "name": "stderr",
          "text": [
            "\u001b[32m[I 2021-12-12 02:47:53,231]\u001b[0m Trial 70 finished with value: 0.11531469682439778 and parameters: {'learning_rate': 0.7784131501149746, 'num_leaves': 26, 'tree_learner': 'data'}. Best is trial 42 with value: 0.1094769892109066.\u001b[0m\n",
            "\u001b[32m[I 2021-12-12 02:47:53,413]\u001b[0m Trial 71 finished with value: 0.11741553667229225 and parameters: {'learning_rate': 0.8090903504177869, 'num_leaves': 25, 'tree_learner': 'data'}. Best is trial 42 with value: 0.1094769892109066.\u001b[0m\n"
          ]
        },
        {
          "output_type": "stream",
          "name": "stdout",
          "text": [
            "Early stopping, best iteration is:\n",
            "[17]\tTrain's rmse: 0.154449\tTest's rmse: 0.115315\n",
            "Training until validation scores don't improve for 50 rounds.\n",
            "Early stopping, best iteration is:\n",
            "[14]\tTrain's rmse: 0.160285\tTest's rmse: 0.117416\n"
          ]
        },
        {
          "output_type": "stream",
          "name": "stderr",
          "text": [
            "\u001b[32m[I 2021-12-12 02:47:53,606]\u001b[0m Trial 72 finished with value: 0.13665737213591192 and parameters: {'learning_rate': 0.8459061706276358, 'num_leaves': 21, 'tree_learner': 'data'}. Best is trial 42 with value: 0.1094769892109066.\u001b[0m\n"
          ]
        },
        {
          "output_type": "stream",
          "name": "stdout",
          "text": [
            "Training until validation scores don't improve for 50 rounds.\n",
            "Early stopping, best iteration is:\n",
            "[16]\tTrain's rmse: 0.155725\tTest's rmse: 0.136657\n",
            "Training until validation scores don't improve for 50 rounds.\n"
          ]
        },
        {
          "output_type": "stream",
          "name": "stderr",
          "text": [
            "\u001b[32m[I 2021-12-12 02:47:53,821]\u001b[0m Trial 73 finished with value: 0.11550647905586174 and parameters: {'learning_rate': 0.7821478828195406, 'num_leaves': 28, 'tree_learner': 'data'}. Best is trial 42 with value: 0.1094769892109066.\u001b[0m\n"
          ]
        },
        {
          "output_type": "stream",
          "name": "stdout",
          "text": [
            "Early stopping, best iteration is:\n",
            "[16]\tTrain's rmse: 0.154048\tTest's rmse: 0.115506\n",
            "Training until validation scores don't improve for 50 rounds.\n"
          ]
        },
        {
          "output_type": "stream",
          "name": "stderr",
          "text": [
            "\u001b[32m[I 2021-12-12 02:47:54,046]\u001b[0m Trial 74 finished with value: 0.11501512859472521 and parameters: {'learning_rate': 0.7448001671763255, 'num_leaves': 23, 'tree_learner': 'data'}. Best is trial 42 with value: 0.1094769892109066.\u001b[0m\n"
          ]
        },
        {
          "output_type": "stream",
          "name": "stdout",
          "text": [
            "Early stopping, best iteration is:\n",
            "[27]\tTrain's rmse: 0.141743\tTest's rmse: 0.115015\n",
            "Training until validation scores don't improve for 50 rounds.\n",
            "Early stopping, best iteration is:\n",
            "[15]\tTrain's rmse: 0.163727\tTest's rmse: 0.130388\n"
          ]
        },
        {
          "output_type": "stream",
          "name": "stderr",
          "text": [
            "\u001b[32m[I 2021-12-12 02:47:54,253]\u001b[0m Trial 75 finished with value: 0.13038842868785228 and parameters: {'learning_rate': 0.7153169169567919, 'num_leaves': 23, 'tree_learner': 'data'}. Best is trial 42 with value: 0.1094769892109066.\u001b[0m\n",
            "\u001b[32m[I 2021-12-12 02:47:54,428]\u001b[0m Trial 76 finished with value: 0.11535893566659967 and parameters: {'learning_rate': 0.7432787345802089, 'num_leaves': 19, 'tree_learner': 'feature'}. Best is trial 42 with value: 0.1094769892109066.\u001b[0m\n"
          ]
        },
        {
          "output_type": "stream",
          "name": "stdout",
          "text": [
            "Training until validation scores don't improve for 50 rounds.\n",
            "Early stopping, best iteration is:\n",
            "[24]\tTrain's rmse: 0.144986\tTest's rmse: 0.115359\n",
            "Training until validation scores don't improve for 50 rounds.\n"
          ]
        },
        {
          "output_type": "stream",
          "name": "stderr",
          "text": [
            "\u001b[32m[I 2021-12-12 02:47:54,645]\u001b[0m Trial 77 finished with value: 0.12539754153765215 and parameters: {'learning_rate': 0.825518414384017, 'num_leaves': 31, 'tree_learner': 'data'}. Best is trial 42 with value: 0.1094769892109066.\u001b[0m\n",
            "\u001b[32m[I 2021-12-12 02:47:54,826]\u001b[0m Trial 78 finished with value: 0.11818098491298613 and parameters: {'learning_rate': 0.6857456555339467, 'num_leaves': 22, 'tree_learner': 'voting'}. Best is trial 42 with value: 0.1094769892109066.\u001b[0m\n"
          ]
        },
        {
          "output_type": "stream",
          "name": "stdout",
          "text": [
            "Early stopping, best iteration is:\n",
            "[13]\tTrain's rmse: 0.164595\tTest's rmse: 0.125398\n",
            "Training until validation scores don't improve for 50 rounds.\n",
            "Early stopping, best iteration is:\n",
            "[17]\tTrain's rmse: 0.159363\tTest's rmse: 0.118181\n"
          ]
        },
        {
          "output_type": "stream",
          "name": "stderr",
          "text": [
            "\u001b[32m[I 2021-12-12 02:47:55,039]\u001b[0m Trial 79 finished with value: 0.12771966742852753 and parameters: {'learning_rate': 0.8636068538685978, 'num_leaves': 29, 'tree_learner': 'serial'}. Best is trial 42 with value: 0.1094769892109066.\u001b[0m\n"
          ]
        },
        {
          "output_type": "stream",
          "name": "stdout",
          "text": [
            "Training until validation scores don't improve for 50 rounds.\n",
            "Early stopping, best iteration is:\n",
            "[8]\tTrain's rmse: 0.170154\tTest's rmse: 0.12772\n",
            "Training until validation scores don't improve for 50 rounds.\n"
          ]
        },
        {
          "output_type": "stream",
          "name": "stderr",
          "text": [
            "\u001b[32m[I 2021-12-12 02:47:55,305]\u001b[0m Trial 80 finished with value: 0.11760893902424185 and parameters: {'learning_rate': 0.6512768993747401, 'num_leaves': 24, 'tree_learner': 'data'}. Best is trial 42 with value: 0.1094769892109066.\u001b[0m\n"
          ]
        },
        {
          "output_type": "stream",
          "name": "stdout",
          "text": [
            "Early stopping, best iteration is:\n",
            "[28]\tTrain's rmse: 0.140079\tTest's rmse: 0.117609\n",
            "Training until validation scores don't improve for 50 rounds.\n"
          ]
        },
        {
          "output_type": "stream",
          "name": "stderr",
          "text": [
            "\u001b[32m[I 2021-12-12 02:47:55,565]\u001b[0m Trial 81 finished with value: 0.11396198968786214 and parameters: {'learning_rate': 0.7574214064021747, 'num_leaves': 34, 'tree_learner': 'data'}. Best is trial 42 with value: 0.1094769892109066.\u001b[0m\n"
          ]
        },
        {
          "output_type": "stream",
          "name": "stdout",
          "text": [
            "Early stopping, best iteration is:\n",
            "[19]\tTrain's rmse: 0.153046\tTest's rmse: 0.113962\n",
            "Training until validation scores don't improve for 50 rounds.\n"
          ]
        },
        {
          "output_type": "stream",
          "name": "stderr",
          "text": [
            "\u001b[32m[I 2021-12-12 02:47:55,822]\u001b[0m Trial 82 finished with value: 0.11619668179019399 and parameters: {'learning_rate': 0.7600724459782741, 'num_leaves': 35, 'tree_learner': 'data'}. Best is trial 42 with value: 0.1094769892109066.\u001b[0m\n"
          ]
        },
        {
          "output_type": "stream",
          "name": "stdout",
          "text": [
            "Early stopping, best iteration is:\n",
            "[17]\tTrain's rmse: 0.153547\tTest's rmse: 0.116197\n",
            "Training until validation scores don't improve for 50 rounds.\n"
          ]
        },
        {
          "output_type": "stream",
          "name": "stderr",
          "text": [
            "\u001b[32m[I 2021-12-12 02:47:56,102]\u001b[0m Trial 83 finished with value: 0.12874863038240328 and parameters: {'learning_rate': 0.7274884105914375, 'num_leaves': 37, 'tree_learner': 'data'}. Best is trial 42 with value: 0.1094769892109066.\u001b[0m\n"
          ]
        },
        {
          "output_type": "stream",
          "name": "stdout",
          "text": [
            "Early stopping, best iteration is:\n",
            "[17]\tTrain's rmse: 0.156919\tTest's rmse: 0.128749\n",
            "Training until validation scores don't improve for 50 rounds.\n"
          ]
        },
        {
          "output_type": "stream",
          "name": "stderr",
          "text": [
            "\u001b[32m[I 2021-12-12 02:47:56,345]\u001b[0m Trial 84 finished with value: 0.12323187802604522 and parameters: {'learning_rate': 0.8035673538739572, 'num_leaves': 29, 'tree_learner': 'data'}. Best is trial 42 with value: 0.1094769892109066.\u001b[0m\n"
          ]
        },
        {
          "output_type": "stream",
          "name": "stdout",
          "text": [
            "Early stopping, best iteration is:\n",
            "[13]\tTrain's rmse: 0.166716\tTest's rmse: 0.123232\n",
            "Training until validation scores don't improve for 50 rounds.\n"
          ]
        },
        {
          "output_type": "stream",
          "name": "stderr",
          "text": [
            "\u001b[32m[I 2021-12-12 02:47:56,591]\u001b[0m Trial 85 finished with value: 0.1193510738716862 and parameters: {'learning_rate': 0.8990808342921894, 'num_leaves': 33, 'tree_learner': 'data'}. Best is trial 42 with value: 0.1094769892109066.\u001b[0m\n"
          ]
        },
        {
          "output_type": "stream",
          "name": "stdout",
          "text": [
            "Early stopping, best iteration is:\n",
            "[14]\tTrain's rmse: 0.15549\tTest's rmse: 0.119351\n",
            "Training until validation scores don't improve for 50 rounds.\n"
          ]
        },
        {
          "output_type": "stream",
          "name": "stderr",
          "text": [
            "\u001b[32m[I 2021-12-12 02:47:56,848]\u001b[0m Trial 86 finished with value: 0.11574497852723105 and parameters: {'learning_rate': 0.835232430775445, 'num_leaves': 34, 'tree_learner': 'data'}. Best is trial 42 with value: 0.1094769892109066.\u001b[0m\n"
          ]
        },
        {
          "output_type": "stream",
          "name": "stdout",
          "text": [
            "Early stopping, best iteration is:\n",
            "[19]\tTrain's rmse: 0.144883\tTest's rmse: 0.115745\n",
            "Training until validation scores don't improve for 50 rounds.\n"
          ]
        },
        {
          "output_type": "stream",
          "name": "stderr",
          "text": [
            "\u001b[32m[I 2021-12-12 02:47:57,101]\u001b[0m Trial 87 finished with value: 0.11568943278055108 and parameters: {'learning_rate': 0.706853340837463, 'num_leaves': 31, 'tree_learner': 'data'}. Best is trial 42 with value: 0.1094769892109066.\u001b[0m\n",
            "\u001b[32m[I 2021-12-12 02:47:57,266]\u001b[0m Trial 88 finished with value: 0.11761464251909137 and parameters: {'learning_rate': 0.7638204955877925, 'num_leaves': 15, 'tree_learner': 'voting'}. Best is trial 42 with value: 0.1094769892109066.\u001b[0m\n"
          ]
        },
        {
          "output_type": "stream",
          "name": "stdout",
          "text": [
            "Early stopping, best iteration is:\n",
            "[18]\tTrain's rmse: 0.157878\tTest's rmse: 0.115689\n",
            "Training until validation scores don't improve for 50 rounds.\n",
            "Early stopping, best iteration is:\n",
            "[15]\tTrain's rmse: 0.156168\tTest's rmse: 0.117615\n",
            "Training until validation scores don't improve for 50 rounds.\n"
          ]
        },
        {
          "output_type": "stream",
          "name": "stderr",
          "text": [
            "\u001b[32m[I 2021-12-12 02:47:57,589]\u001b[0m Trial 89 finished with value: 0.12488688473993738 and parameters: {'learning_rate': 0.6746822477691513, 'num_leaves': 46, 'tree_learner': 'data'}. Best is trial 42 with value: 0.1094769892109066.\u001b[0m\n",
            "\u001b[32m[I 2021-12-12 02:47:57,748]\u001b[0m Trial 90 finished with value: 0.1157224454873547 and parameters: {'learning_rate': 0.7426288221063058, 'num_leaves': 19, 'tree_learner': 'feature'}. Best is trial 42 with value: 0.1094769892109066.\u001b[0m\n"
          ]
        },
        {
          "output_type": "stream",
          "name": "stdout",
          "text": [
            "Early stopping, best iteration is:\n",
            "[15]\tTrain's rmse: 0.163064\tTest's rmse: 0.124887\n",
            "Training until validation scores don't improve for 50 rounds.\n",
            "Early stopping, best iteration is:\n",
            "[15]\tTrain's rmse: 0.158772\tTest's rmse: 0.115722\n"
          ]
        },
        {
          "output_type": "stream",
          "name": "stderr",
          "text": [
            "\u001b[32m[I 2021-12-12 02:47:57,974]\u001b[0m Trial 91 finished with value: 0.11530782100906833 and parameters: {'learning_rate': 0.7786716429559822, 'num_leaves': 26, 'tree_learner': 'data'}. Best is trial 42 with value: 0.1094769892109066.\u001b[0m\n"
          ]
        },
        {
          "output_type": "stream",
          "name": "stdout",
          "text": [
            "Training until validation scores don't improve for 50 rounds.\n",
            "Early stopping, best iteration is:\n",
            "[17]\tTrain's rmse: 0.15444\tTest's rmse: 0.115308\n"
          ]
        },
        {
          "output_type": "stream",
          "name": "stderr",
          "text": [
            "\u001b[32m[I 2021-12-12 02:47:58,182]\u001b[0m Trial 92 finished with value: 0.12419370149271512 and parameters: {'learning_rate': 0.7941807266304796, 'num_leaves': 27, 'tree_learner': 'data'}. Best is trial 42 with value: 0.1094769892109066.\u001b[0m\n"
          ]
        },
        {
          "output_type": "stream",
          "name": "stdout",
          "text": [
            "Training until validation scores don't improve for 50 rounds.\n",
            "Early stopping, best iteration is:\n",
            "[13]\tTrain's rmse: 0.160139\tTest's rmse: 0.124194\n",
            "Training until validation scores don't improve for 50 rounds.\n"
          ]
        },
        {
          "output_type": "stream",
          "name": "stderr",
          "text": [
            "\u001b[32m[I 2021-12-12 02:47:58,420]\u001b[0m Trial 93 finished with value: 0.11342486625163195 and parameters: {'learning_rate': 0.7739219644749562, 'num_leaves': 26, 'tree_learner': 'data'}. Best is trial 42 with value: 0.1094769892109066.\u001b[0m\n"
          ]
        },
        {
          "output_type": "stream",
          "name": "stdout",
          "text": [
            "Early stopping, best iteration is:\n",
            "[19]\tTrain's rmse: 0.150361\tTest's rmse: 0.113425\n",
            "Training until validation scores don't improve for 50 rounds.\n",
            "Early stopping, best iteration is:\n",
            "[21]\tTrain's rmse: 0.146158\tTest's rmse: 0.110618\n"
          ]
        },
        {
          "output_type": "stream",
          "name": "stderr",
          "text": [
            "\u001b[32m[I 2021-12-12 02:47:58,625]\u001b[0m Trial 94 finished with value: 0.11061827036025403 and parameters: {'learning_rate': 0.7207845713612753, 'num_leaves': 22, 'tree_learner': 'data'}. Best is trial 42 with value: 0.1094769892109066.\u001b[0m\n",
            "\u001b[32m[I 2021-12-12 02:47:58,809]\u001b[0m Trial 95 finished with value: 0.11803827728513056 and parameters: {'learning_rate': 0.6940925930097577, 'num_leaves': 22, 'tree_learner': 'data'}. Best is trial 42 with value: 0.1094769892109066.\u001b[0m\n"
          ]
        },
        {
          "output_type": "stream",
          "name": "stdout",
          "text": [
            "Training until validation scores don't improve for 50 rounds.\n",
            "Early stopping, best iteration is:\n",
            "[17]\tTrain's rmse: 0.159125\tTest's rmse: 0.118038\n",
            "Training until validation scores don't improve for 50 rounds.\n"
          ]
        },
        {
          "output_type": "stream",
          "name": "stderr",
          "text": [
            "\u001b[32m[I 2021-12-12 02:47:59,034]\u001b[0m Trial 96 finished with value: 0.12430994199119862 and parameters: {'learning_rate': 0.8248036421608489, 'num_leaves': 32, 'tree_learner': 'data'}. Best is trial 42 with value: 0.1094769892109066.\u001b[0m\n",
            "\u001b[32m[I 2021-12-12 02:47:59,192]\u001b[0m Trial 97 finished with value: 0.13627434556615345 and parameters: {'learning_rate': 0.8562441476287097, 'num_leaves': 20, 'tree_learner': 'serial'}. Best is trial 42 with value: 0.1094769892109066.\u001b[0m\n"
          ]
        },
        {
          "output_type": "stream",
          "name": "stdout",
          "text": [
            "Early stopping, best iteration is:\n",
            "[14]\tTrain's rmse: 0.16133\tTest's rmse: 0.12431\n",
            "Training until validation scores don't improve for 50 rounds.\n",
            "Early stopping, best iteration is:\n",
            "[10]\tTrain's rmse: 0.169099\tTest's rmse: 0.136274\n",
            "Training until validation scores don't improve for 50 rounds.\n"
          ]
        },
        {
          "output_type": "stream",
          "name": "stderr",
          "text": [
            "\u001b[32m[I 2021-12-12 02:47:59,351]\u001b[0m Trial 98 finished with value: 0.13382200166929964 and parameters: {'learning_rate': 0.7179979587005683, 'num_leaves': 12, 'tree_learner': 'data'}. Best is trial 42 with value: 0.1094769892109066.\u001b[0m\n",
            "\u001b[32m[I 2021-12-12 02:47:59,496]\u001b[0m Trial 99 finished with value: 0.1367264791667876 and parameters: {'learning_rate': 0.8097902716376635, 'num_leaves': 17, 'tree_learner': 'voting'}. Best is trial 42 with value: 0.1094769892109066.\u001b[0m\n"
          ]
        },
        {
          "output_type": "stream",
          "name": "stdout",
          "text": [
            "Early stopping, best iteration is:\n",
            "[16]\tTrain's rmse: 0.135814\tTest's rmse: 0.133822\n",
            "Training until validation scores don't improve for 50 rounds.\n",
            "Early stopping, best iteration is:\n",
            "[12]\tTrain's rmse: 0.168312\tTest's rmse: 0.136726\n",
            "{'learning_rate': 0.7637718001907776, 'num_leaves': 17, 'tree_learner': 'data'}\n",
            "{'learning_rate': 0.7637718001907776, 'num_leaves': 17, 'tree_learner': 'data', 'objective': 'regression', 'metric': 'rmse', 'task': 'train', 'seed': 42}\n",
            "Training until validation scores don't improve for 50 rounds.\n",
            "Early stopping, best iteration is:\n",
            "[30]\tTrain's rmse: 0.129833\tTest's rmse: 0.109477\n"
          ]
        },
        {
          "output_type": "display_data",
          "data": {
            "image/png": "[encoded data removed]",
            "text/plain": [
              "<Figure size 432x288 with 1 Axes>"
            ]
          },
          "metadata": {
            "needs_background": "light"
          }
        },
        {
          "output_type": "stream",
          "name": "stderr",
          "text": [
            "\u001b[32m[I 2021-12-12 02:47:59,903]\u001b[0m A new study created in memory with name: no-name-1c84368a-5cfa-4956-9c32-f21f1402a143\u001b[0m\n",
            "\u001b[32m[I 2021-12-12 02:48:00,082]\u001b[0m Trial 0 finished with value: 0.029952770153784128 and parameters: {'learning_rate': 0.429314947989316, 'num_leaves': 16, 'tree_learner': 'feature'}. Best is trial 0 with value: 0.029952770153784128.\u001b[0m\n"
          ]
        },
        {
          "output_type": "stream",
          "name": "stdout",
          "text": [
            "Training until validation scores don't improve for 50 rounds.\n",
            "Early stopping, best iteration is:\n",
            "[10]\tTrain's rmse: 0.165406\tTest's rmse: 0.0299528\n",
            "Training until validation scores don't improve for 50 rounds.\n"
          ]
        },
        {
          "output_type": "stream",
          "name": "stderr",
          "text": [
            "\u001b[32m[I 2021-12-12 02:48:00,358]\u001b[0m Trial 1 finished with value: 0.029614428286340252 and parameters: {'learning_rate': 0.8722404500826921, 'num_leaves': 45, 'tree_learner': 'voting'}. Best is trial 1 with value: 0.029614428286340252.\u001b[0m\n"
          ]
        },
        {
          "output_type": "stream",
          "name": "stdout",
          "text": [
            "Early stopping, best iteration is:\n",
            "[5]\tTrain's rmse: 0.171607\tTest's rmse: 0.0296144\n",
            "Training until validation scores don't improve for 50 rounds.\n",
            "Early stopping, best iteration is:\n",
            "[11]\tTrain's rmse: 0.176678\tTest's rmse: 0.0287643\n"
          ]
        },
        {
          "output_type": "stream",
          "name": "stderr",
          "text": [
            "\u001b[32m[I 2021-12-12 02:48:00,561]\u001b[0m Trial 2 finished with value: 0.02876428010233214 and parameters: {'learning_rate': 0.5684340710238489, 'num_leaves': 29, 'tree_learner': 'data'}. Best is trial 2 with value: 0.02876428010233214.\u001b[0m\n",
            "\u001b[32m[I 2021-12-12 02:48:00,752]\u001b[0m Trial 3 finished with value: 0.025555489748740282 and parameters: {'learning_rate': 0.30983969675816997, 'num_leaves': 24, 'tree_learner': 'data'}. Best is trial 3 with value: 0.025555489748740282.\u001b[0m\n"
          ]
        },
        {
          "output_type": "stream",
          "name": "stdout",
          "text": [
            "Training until validation scores don't improve for 50 rounds.\n",
            "Early stopping, best iteration is:\n",
            "[13]\tTrain's rmse: 0.169864\tTest's rmse: 0.0255555\n",
            "Training until validation scores don't improve for 50 rounds.\n"
          ]
        },
        {
          "output_type": "stream",
          "name": "stderr",
          "text": [
            "\u001b[32m[I 2021-12-12 02:48:01,078]\u001b[0m Trial 4 finished with value: 0.02308010193029577 and parameters: {'learning_rate': 0.3210436499674221, 'num_leaves': 49, 'tree_learner': 'voting'}. Best is trial 4 with value: 0.02308010193029577.\u001b[0m\n",
            "\u001b[32m[I 2021-12-12 02:48:01,181]\u001b[0m Trial 5 finished with value: 0.028124254785509343 and parameters: {'learning_rate': 0.7726632946982475, 'num_leaves': 11, 'tree_learner': 'voting'}. Best is trial 4 with value: 0.02308010193029577.\u001b[0m\n"
          ]
        },
        {
          "output_type": "stream",
          "name": "stdout",
          "text": [
            "Early stopping, best iteration is:\n",
            "[15]\tTrain's rmse: 0.167664\tTest's rmse: 0.0230801\n",
            "Training until validation scores don't improve for 50 rounds.\n",
            "Early stopping, best iteration is:\n",
            "[7]\tTrain's rmse: 0.154448\tTest's rmse: 0.0281243\n",
            "Training until validation scores don't improve for 50 rounds.\n"
          ]
        },
        {
          "output_type": "stream",
          "name": "stderr",
          "text": [
            "\u001b[32m[I 2021-12-12 02:48:01,349]\u001b[0m Trial 6 finished with value: 0.03158216202949542 and parameters: {'learning_rate': 0.8271004412902007, 'num_leaves': 20, 'tree_learner': 'data'}. Best is trial 4 with value: 0.02308010193029577.\u001b[0m\n"
          ]
        },
        {
          "output_type": "stream",
          "name": "stdout",
          "text": [
            "Early stopping, best iteration is:\n",
            "[5]\tTrain's rmse: 0.180555\tTest's rmse: 0.0315822\n",
            "Training until validation scores don't improve for 50 rounds.\n"
          ]
        },
        {
          "output_type": "stream",
          "name": "stderr",
          "text": [
            "\u001b[32m[I 2021-12-12 02:48:01,627]\u001b[0m Trial 7 finished with value: 0.02349480440011624 and parameters: {'learning_rate': 0.3270854962822436, 'num_leaves': 38, 'tree_learner': 'serial'}. Best is trial 4 with value: 0.02308010193029577.\u001b[0m\n",
            "\u001b[32m[I 2021-12-12 02:48:01,740]\u001b[0m Trial 8 finished with value: 0.034350848112565294 and parameters: {'learning_rate': 0.48067204853692314, 'num_leaves': 10, 'tree_learner': 'serial'}. Best is trial 4 with value: 0.02308010193029577.\u001b[0m\n"
          ]
        },
        {
          "output_type": "stream",
          "name": "stdout",
          "text": [
            "Early stopping, best iteration is:\n",
            "[18]\tTrain's rmse: 0.163147\tTest's rmse: 0.0234948\n",
            "Training until validation scores don't improve for 50 rounds.\n",
            "Early stopping, best iteration is:\n",
            "[14]\tTrain's rmse: 0.159056\tTest's rmse: 0.0343509\n",
            "Training until validation scores don't improve for 50 rounds.\n"
          ]
        },
        {
          "output_type": "stream",
          "name": "stderr",
          "text": [
            "\u001b[32m[I 2021-12-12 02:48:01,865]\u001b[0m Trial 9 finished with value: 0.038657583985306304 and parameters: {'learning_rate': 0.7891931171905789, 'num_leaves': 11, 'tree_learner': 'data'}. Best is trial 4 with value: 0.02308010193029577.\u001b[0m\n"
          ]
        },
        {
          "output_type": "stream",
          "name": "stdout",
          "text": [
            "Early stopping, best iteration is:\n",
            "[4]\tTrain's rmse: 0.175756\tTest's rmse: 0.0386576\n",
            "Training until validation scores don't improve for 50 rounds.\n"
          ]
        },
        {
          "output_type": "stream",
          "name": "stderr",
          "text": [
            "\u001b[32m[I 2021-12-12 02:48:02,367]\u001b[0m Trial 10 finished with value: 0.02202701078245424 and parameters: {'learning_rate': 0.10222492260313151, 'num_leaves': 48, 'tree_learner': 'voting'}. Best is trial 10 with value: 0.02202701078245424.\u001b[0m\n"
          ]
        },
        {
          "output_type": "stream",
          "name": "stdout",
          "text": [
            "Early stopping, best iteration is:\n",
            "[44]\tTrain's rmse: 0.165844\tTest's rmse: 0.022027\n",
            "Training until validation scores don't improve for 50 rounds.\n"
          ]
        },
        {
          "output_type": "stream",
          "name": "stderr",
          "text": [
            "\u001b[32m[I 2021-12-12 02:48:02,837]\u001b[0m Trial 11 finished with value: 0.0209791926565409 and parameters: {'learning_rate': 0.12007459623160227, 'num_leaves': 49, 'tree_learner': 'voting'}. Best is trial 11 with value: 0.0209791926565409.\u001b[0m\n"
          ]
        },
        {
          "output_type": "stream",
          "name": "stdout",
          "text": [
            "Early stopping, best iteration is:\n",
            "[41]\tTrain's rmse: 0.167959\tTest's rmse: 0.0209792\n",
            "Training until validation scores don't improve for 50 rounds.\n"
          ]
        },
        {
          "output_type": "stream",
          "name": "stderr",
          "text": [
            "\u001b[32m[I 2021-12-12 02:48:03,224]\u001b[0m Trial 12 finished with value: 0.020347478912390672 and parameters: {'learning_rate': 0.11985744681182242, 'num_leaves': 38, 'tree_learner': 'voting'}. Best is trial 12 with value: 0.020347478912390672.\u001b[0m\n"
          ]
        },
        {
          "output_type": "stream",
          "name": "stdout",
          "text": [
            "Early stopping, best iteration is:\n",
            "[41]\tTrain's rmse: 0.168201\tTest's rmse: 0.0203475\n",
            "Training until validation scores don't improve for 50 rounds.\n"
          ]
        },
        {
          "output_type": "stream",
          "name": "stderr",
          "text": [
            "\u001b[32m[I 2021-12-12 02:48:03,604]\u001b[0m Trial 13 finished with value: 0.02159131286654394 and parameters: {'learning_rate': 0.10130187133418772, 'num_leaves': 36, 'tree_learner': 'voting'}. Best is trial 12 with value: 0.020347478912390672.\u001b[0m\n"
          ]
        },
        {
          "output_type": "stream",
          "name": "stdout",
          "text": [
            "Early stopping, best iteration is:\n",
            "[41]\tTrain's rmse: 0.166491\tTest's rmse: 0.0215913\n",
            "Training until validation scores don't improve for 50 rounds.\n"
          ]
        },
        {
          "output_type": "stream",
          "name": "stderr",
          "text": [
            "\u001b[32m[I 2021-12-12 02:48:03,911]\u001b[0m Trial 14 finished with value: 0.02164883079682031 and parameters: {'learning_rate': 0.22487241308598493, 'num_leaves': 40, 'tree_learner': 'feature'}. Best is trial 12 with value: 0.020347478912390672.\u001b[0m\n"
          ]
        },
        {
          "output_type": "stream",
          "name": "stdout",
          "text": [
            "Early stopping, best iteration is:\n",
            "[20]\tTrain's rmse: 0.165362\tTest's rmse: 0.0216488\n",
            "Training until validation scores don't improve for 50 rounds.\n"
          ]
        },
        {
          "output_type": "stream",
          "name": "stderr",
          "text": [
            "\u001b[32m[I 2021-12-12 02:48:04,121]\u001b[0m Trial 15 finished with value: 0.031090276239661603 and parameters: {'learning_rate': 0.6383498086754285, 'num_leaves': 32, 'tree_learner': 'voting'}. Best is trial 12 with value: 0.020347478912390672.\u001b[0m\n"
          ]
        },
        {
          "output_type": "stream",
          "name": "stdout",
          "text": [
            "Early stopping, best iteration is:\n",
            "[4]\tTrain's rmse: 0.18793\tTest's rmse: 0.0310903\n",
            "Training until validation scores don't improve for 50 rounds.\n"
          ]
        },
        {
          "output_type": "stream",
          "name": "stderr",
          "text": [
            "\u001b[32m[I 2021-12-12 02:48:04,379]\u001b[0m Trial 16 finished with value: 0.025877993703435177 and parameters: {'learning_rate': 0.9932150939192109, 'num_leaves': 44, 'tree_learner': 'voting'}. Best is trial 12 with value: 0.020347478912390672.\u001b[0m\n"
          ]
        },
        {
          "output_type": "stream",
          "name": "stdout",
          "text": [
            "Early stopping, best iteration is:\n",
            "[7]\tTrain's rmse: 0.177408\tTest's rmse: 0.025878\n",
            "Training until validation scores don't improve for 50 rounds.\n"
          ]
        },
        {
          "output_type": "stream",
          "name": "stderr",
          "text": [
            "\u001b[32m[I 2021-12-12 02:48:04,711]\u001b[0m Trial 17 finished with value: 0.021526109686689335 and parameters: {'learning_rate': 0.1997105113445974, 'num_leaves': 43, 'tree_learner': 'voting'}. Best is trial 12 with value: 0.020347478912390672.\u001b[0m\n"
          ]
        },
        {
          "output_type": "stream",
          "name": "stdout",
          "text": [
            "Early stopping, best iteration is:\n",
            "[20]\tTrain's rmse: 0.168771\tTest's rmse: 0.0215261\n",
            "Training until validation scores don't improve for 50 rounds.\n"
          ]
        },
        {
          "output_type": "stream",
          "name": "stderr",
          "text": [
            "\u001b[32m[I 2021-12-12 02:48:05,003]\u001b[0m Trial 18 finished with value: 0.02209621931157795 and parameters: {'learning_rate': 0.19768371969516613, 'num_leaves': 34, 'tree_learner': 'feature'}. Best is trial 12 with value: 0.020347478912390672.\u001b[0m\n"
          ]
        },
        {
          "output_type": "stream",
          "name": "stdout",
          "text": [
            "Early stopping, best iteration is:\n",
            "[26]\tTrain's rmse: 0.16463\tTest's rmse: 0.0220962\n",
            "Training until validation scores don't improve for 50 rounds.\n"
          ]
        },
        {
          "output_type": "stream",
          "name": "stderr",
          "text": [
            "\u001b[32m[I 2021-12-12 02:48:05,261]\u001b[0m Trial 19 finished with value: 0.02490329522591947 and parameters: {'learning_rate': 0.4273999766565528, 'num_leaves': 41, 'tree_learner': 'serial'}. Best is trial 12 with value: 0.020347478912390672.\u001b[0m\n"
          ]
        },
        {
          "output_type": "stream",
          "name": "stdout",
          "text": [
            "Early stopping, best iteration is:\n",
            "[9]\tTrain's rmse: 0.166723\tTest's rmse: 0.0249033\n",
            "Training until validation scores don't improve for 50 rounds.\n"
          ]
        },
        {
          "output_type": "stream",
          "name": "stderr",
          "text": [
            "\u001b[32m[I 2021-12-12 02:48:05,538]\u001b[0m Trial 20 finished with value: 0.03028628259702905 and parameters: {'learning_rate': 0.6355101908843871, 'num_leaves': 49, 'tree_learner': 'voting'}. Best is trial 12 with value: 0.020347478912390672.\u001b[0m\n"
          ]
        },
        {
          "output_type": "stream",
          "name": "stdout",
          "text": [
            "Early stopping, best iteration is:\n",
            "[4]\tTrain's rmse: 0.182237\tTest's rmse: 0.0302863\n",
            "Training until validation scores don't improve for 50 rounds.\n"
          ]
        },
        {
          "output_type": "stream",
          "name": "stderr",
          "text": [
            "\u001b[32m[I 2021-12-12 02:48:05,894]\u001b[0m Trial 21 finished with value: 0.02234506798845503 and parameters: {'learning_rate': 0.18399402751294303, 'num_leaves': 42, 'tree_learner': 'voting'}. Best is trial 12 with value: 0.020347478912390672.\u001b[0m\n"
          ]
        },
        {
          "output_type": "stream",
          "name": "stdout",
          "text": [
            "Early stopping, best iteration is:\n",
            "[25]\tTrain's rmse: 0.16494\tTest's rmse: 0.0223451\n",
            "Training until validation scores don't improve for 50 rounds.\n"
          ]
        },
        {
          "output_type": "stream",
          "name": "stderr",
          "text": [
            "\u001b[32m[I 2021-12-12 02:48:06,202]\u001b[0m Trial 22 finished with value: 0.02187935295188158 and parameters: {'learning_rate': 0.23603984386172389, 'num_leaves': 45, 'tree_learner': 'voting'}. Best is trial 12 with value: 0.020347478912390672.\u001b[0m\n"
          ]
        },
        {
          "output_type": "stream",
          "name": "stdout",
          "text": [
            "Early stopping, best iteration is:\n",
            "[16]\tTrain's rmse: 0.169487\tTest's rmse: 0.0218794\n",
            "Training until validation scores don't improve for 50 rounds.\n"
          ]
        },
        {
          "output_type": "stream",
          "name": "stderr",
          "text": [
            "\u001b[32m[I 2021-12-12 02:48:06,534]\u001b[0m Trial 23 finished with value: 0.020889175621685643 and parameters: {'learning_rate': 0.14071333067293432, 'num_leaves': 31, 'tree_learner': 'voting'}. Best is trial 12 with value: 0.020347478912390672.\u001b[0m\n"
          ]
        },
        {
          "output_type": "stream",
          "name": "stdout",
          "text": [
            "Early stopping, best iteration is:\n",
            "[32]\tTrain's rmse: 0.166055\tTest's rmse: 0.0208892\n",
            "Training until validation scores don't improve for 50 rounds.\n"
          ]
        },
        {
          "output_type": "stream",
          "name": "stderr",
          "text": [
            "\u001b[32m[I 2021-12-12 02:48:06,818]\u001b[0m Trial 24 finished with value: 0.023073945945766103 and parameters: {'learning_rate': 0.14856373443253273, 'num_leaves': 28, 'tree_learner': 'voting'}. Best is trial 12 with value: 0.020347478912390672.\u001b[0m\n"
          ]
        },
        {
          "output_type": "stream",
          "name": "stdout",
          "text": [
            "Early stopping, best iteration is:\n",
            "[30]\tTrain's rmse: 0.163171\tTest's rmse: 0.0230739\n",
            "Training until validation scores don't improve for 50 rounds.\n"
          ]
        },
        {
          "output_type": "stream",
          "name": "stderr",
          "text": [
            "\u001b[32m[I 2021-12-12 02:48:07,059]\u001b[0m Trial 25 finished with value: 0.024019869489839925 and parameters: {'learning_rate': 0.26929059939515526, 'num_leaves': 32, 'tree_learner': 'voting'}. Best is trial 12 with value: 0.020347478912390672.\u001b[0m\n",
            "\u001b[32m[I 2021-12-12 02:48:07,239]\u001b[0m Trial 26 finished with value: 0.02659483148222966 and parameters: {'learning_rate': 0.3818132082215371, 'num_leaves': 24, 'tree_learner': 'voting'}. Best is trial 12 with value: 0.020347478912390672.\u001b[0m\n"
          ]
        },
        {
          "output_type": "stream",
          "name": "stdout",
          "text": [
            "Early stopping, best iteration is:\n",
            "[15]\tTrain's rmse: 0.171415\tTest's rmse: 0.0240199\n",
            "Training until validation scores don't improve for 50 rounds.\n",
            "Early stopping, best iteration is:\n",
            "[12]\tTrain's rmse: 0.164658\tTest's rmse: 0.0265948\n",
            "Training until validation scores don't improve for 50 rounds.\n"
          ]
        },
        {
          "output_type": "stream",
          "name": "stderr",
          "text": [
            "\u001b[32m[I 2021-12-12 02:48:07,594]\u001b[0m Trial 27 finished with value: 0.021959522402208533 and parameters: {'learning_rate': 0.13900652151521345, 'num_leaves': 38, 'tree_learner': 'feature'}. Best is trial 12 with value: 0.020347478912390672.\u001b[0m\n"
          ]
        },
        {
          "output_type": "stream",
          "name": "stdout",
          "text": [
            "Early stopping, best iteration is:\n",
            "[28]\tTrain's rmse: 0.169447\tTest's rmse: 0.0219595\n",
            "Training until validation scores don't improve for 50 rounds.\n",
            "Early stopping, best iteration is:\n",
            "[14]\tTrain's rmse: 0.167362\tTest's rmse: 0.0228596\n"
          ]
        },
        {
          "output_type": "stream",
          "name": "stderr",
          "text": [
            "\u001b[32m[I 2021-12-12 02:48:07,803]\u001b[0m Trial 28 finished with value: 0.02285963886376754 and parameters: {'learning_rate': 0.2746155074315103, 'num_leaves': 24, 'tree_learner': 'serial'}. Best is trial 12 with value: 0.020347478912390672.\u001b[0m\n",
            "\u001b[32m[I 2021-12-12 02:48:07,941]\u001b[0m Trial 29 finished with value: 0.04815948809159693 and parameters: {'learning_rate': 0.5064291071584435, 'num_leaves': 6, 'tree_learner': 'feature'}. Best is trial 12 with value: 0.020347478912390672.\u001b[0m\n"
          ]
        },
        {
          "output_type": "stream",
          "name": "stdout",
          "text": [
            "Training until validation scores don't improve for 50 rounds.\n",
            "Did not meet early stopping. Best iteration is:\n",
            "[100]\tTrain's rmse: 0.0735008\tTest's rmse: 0.0481595\n",
            "Training until validation scores don't improve for 50 rounds.\n"
          ]
        },
        {
          "output_type": "stream",
          "name": "stderr",
          "text": [
            "\u001b[32m[I 2021-12-12 02:48:08,105]\u001b[0m Trial 30 finished with value: 0.025971100609278597 and parameters: {'learning_rate': 0.3916189330481795, 'num_leaves': 17, 'tree_learner': 'voting'}. Best is trial 12 with value: 0.020347478912390672.\u001b[0m\n"
          ]
        },
        {
          "output_type": "stream",
          "name": "stdout",
          "text": [
            "Early stopping, best iteration is:\n",
            "[13]\tTrain's rmse: 0.161018\tTest's rmse: 0.0259711\n",
            "Training until validation scores don't improve for 50 rounds.\n"
          ]
        },
        {
          "output_type": "stream",
          "name": "stderr",
          "text": [
            "\u001b[32m[I 2021-12-12 02:48:08,489]\u001b[0m Trial 31 finished with value: 0.022866684832679396 and parameters: {'learning_rate': 0.1672364556465446, 'num_leaves': 46, 'tree_learner': 'voting'}. Best is trial 12 with value: 0.020347478912390672.\u001b[0m\n"
          ]
        },
        {
          "output_type": "stream",
          "name": "stdout",
          "text": [
            "Early stopping, best iteration is:\n",
            "[30]\tTrain's rmse: 0.163892\tTest's rmse: 0.0228667\n",
            "Training until validation scores don't improve for 50 rounds.\n"
          ]
        },
        {
          "output_type": "stream",
          "name": "stderr",
          "text": [
            "\u001b[32m[I 2021-12-12 02:48:08,934]\u001b[0m Trial 32 finished with value: 0.021854404821541384 and parameters: {'learning_rate': 0.10606191663822671, 'num_leaves': 43, 'tree_learner': 'voting'}. Best is trial 12 with value: 0.020347478912390672.\u001b[0m\n"
          ]
        },
        {
          "output_type": "stream",
          "name": "stdout",
          "text": [
            "Early stopping, best iteration is:\n",
            "[40]\tTrain's rmse: 0.166492\tTest's rmse: 0.0218544\n",
            "Training until validation scores don't improve for 50 rounds.\n"
          ]
        },
        {
          "output_type": "stream",
          "name": "stderr",
          "text": [
            "\u001b[32m[I 2021-12-12 02:48:09,205]\u001b[0m Trial 33 finished with value: 0.022405433314488507 and parameters: {'learning_rate': 0.21297322142557443, 'num_leaves': 35, 'tree_learner': 'voting'}. Best is trial 12 with value: 0.020347478912390672.\u001b[0m\n"
          ]
        },
        {
          "output_type": "stream",
          "name": "stdout",
          "text": [
            "Early stopping, best iteration is:\n",
            "[19]\tTrain's rmse: 0.16894\tTest's rmse: 0.0224054\n",
            "Training until validation scores don't improve for 50 rounds.\n"
          ]
        },
        {
          "output_type": "stream",
          "name": "stderr",
          "text": [
            "\u001b[32m[I 2021-12-12 02:48:09,440]\u001b[0m Trial 34 finished with value: 0.022419387730844197 and parameters: {'learning_rate': 0.2607599246888774, 'num_leaves': 31, 'tree_learner': 'voting'}. Best is trial 12 with value: 0.020347478912390672.\u001b[0m\n"
          ]
        },
        {
          "output_type": "stream",
          "name": "stdout",
          "text": [
            "Early stopping, best iteration is:\n",
            "[17]\tTrain's rmse: 0.161522\tTest's rmse: 0.0224194\n",
            "Training until validation scores don't improve for 50 rounds.\n"
          ]
        },
        {
          "output_type": "stream",
          "name": "stderr",
          "text": [
            "\u001b[32m[I 2021-12-12 02:48:09,841]\u001b[0m Trial 35 finished with value: 0.021807849875468764 and parameters: {'learning_rate': 0.1519436156536992, 'num_leaves': 38, 'tree_learner': 'data'}. Best is trial 12 with value: 0.020347478912390672.\u001b[0m\n"
          ]
        },
        {
          "output_type": "stream",
          "name": "stdout",
          "text": [
            "Early stopping, best iteration is:\n",
            "[35]\tTrain's rmse: 0.163251\tTest's rmse: 0.0218079\n",
            "Training until validation scores don't improve for 50 rounds.\n"
          ]
        },
        {
          "output_type": "stream",
          "name": "stderr",
          "text": [
            "\u001b[32m[I 2021-12-12 02:48:10,161]\u001b[0m Trial 36 finished with value: 0.023183992394236436 and parameters: {'learning_rate': 0.3264897018148269, 'num_leaves': 47, 'tree_learner': 'voting'}. Best is trial 12 with value: 0.020347478912390672.\u001b[0m\n"
          ]
        },
        {
          "output_type": "stream",
          "name": "stdout",
          "text": [
            "Early stopping, best iteration is:\n",
            "[14]\tTrain's rmse: 0.168028\tTest's rmse: 0.023184\n",
            "Training until validation scores don't improve for 50 rounds.\n"
          ]
        },
        {
          "output_type": "stream",
          "name": "stderr",
          "text": [
            "\u001b[32m[I 2021-12-12 02:48:10,479]\u001b[0m Trial 37 finished with value: 0.024722773064575276 and parameters: {'learning_rate': 0.1890649870706077, 'num_leaves': 40, 'tree_learner': 'voting'}. Best is trial 12 with value: 0.020347478912390672.\u001b[0m\n"
          ]
        },
        {
          "output_type": "stream",
          "name": "stdout",
          "text": [
            "Early stopping, best iteration is:\n",
            "[21]\tTrain's rmse: 0.16817\tTest's rmse: 0.0247228\n",
            "Training until validation scores don't improve for 50 rounds.\n",
            "Early stopping, best iteration is:\n",
            "[10]\tTrain's rmse: 0.168401\tTest's rmse: 0.0250737"
          ]
        },
        {
          "output_type": "stream",
          "name": "stderr",
          "text": [
            "\u001b[32m[I 2021-12-12 02:48:10,686]\u001b[0m Trial 38 finished with value: 0.025073669063388978 and parameters: {'learning_rate': 0.3687075081861677, 'num_leaves': 26, 'tree_learner': 'data'}. Best is trial 12 with value: 0.020347478912390672.\u001b[0m\n"
          ]
        },
        {
          "output_type": "stream",
          "name": "stdout",
          "text": [
            "\n",
            "Training until validation scores don't improve for 50 rounds.\n"
          ]
        },
        {
          "output_type": "stream",
          "name": "stderr",
          "text": [
            "\u001b[32m[I 2021-12-12 02:48:11,010]\u001b[0m Trial 39 finished with value: 0.02515907306974154 and parameters: {'learning_rate': 0.3006234170296468, 'num_leaves': 44, 'tree_learner': 'voting'}. Best is trial 12 with value: 0.020347478912390672.\u001b[0m\n"
          ]
        },
        {
          "output_type": "stream",
          "name": "stdout",
          "text": [
            "Early stopping, best iteration is:\n",
            "[17]\tTrain's rmse: 0.155234\tTest's rmse: 0.0251591\n",
            "Training until validation scores don't improve for 50 rounds.\n"
          ]
        },
        {
          "output_type": "stream",
          "name": "stderr",
          "text": [
            "\u001b[32m[I 2021-12-12 02:48:11,415]\u001b[0m Trial 40 finished with value: 0.021561498665182803 and parameters: {'learning_rate': 0.1363545964210713, 'num_leaves': 50, 'tree_learner': 'serial'}. Best is trial 12 with value: 0.020347478912390672.\u001b[0m\n"
          ]
        },
        {
          "output_type": "stream",
          "name": "stdout",
          "text": [
            "Early stopping, best iteration is:\n",
            "[27]\tTrain's rmse: 0.170647\tTest's rmse: 0.0215615\n",
            "Training until validation scores don't improve for 50 rounds.\n"
          ]
        },
        {
          "output_type": "stream",
          "name": "stderr",
          "text": [
            "\u001b[32m[I 2021-12-12 02:48:11,836]\u001b[0m Trial 41 finished with value: 0.020462297635819707 and parameters: {'learning_rate': 0.1369092792490025, 'num_leaves': 49, 'tree_learner': 'serial'}. Best is trial 12 with value: 0.020347478912390672.\u001b[0m\n"
          ]
        },
        {
          "output_type": "stream",
          "name": "stdout",
          "text": [
            "Early stopping, best iteration is:\n",
            "[31]\tTrain's rmse: 0.166296\tTest's rmse: 0.0204623\n",
            "Training until validation scores don't improve for 50 rounds.\n"
          ]
        },
        {
          "output_type": "stream",
          "name": "stderr",
          "text": [
            "\u001b[32m[I 2021-12-12 02:48:12,213]\u001b[0m Trial 42 finished with value: 0.02354451275962513 and parameters: {'learning_rate': 0.21934608796580524, 'num_leaves': 50, 'tree_learner': 'serial'}. Best is trial 12 with value: 0.020347478912390672.\u001b[0m\n"
          ]
        },
        {
          "output_type": "stream",
          "name": "stdout",
          "text": [
            "Early stopping, best iteration is:\n",
            "[21]\tTrain's rmse: 0.163944\tTest's rmse: 0.0235445\n",
            "Training until validation scores don't improve for 50 rounds.\n"
          ]
        },
        {
          "output_type": "stream",
          "name": "stderr",
          "text": [
            "\u001b[32m[I 2021-12-12 02:48:12,639]\u001b[0m Trial 43 finished with value: 0.020341091539106203 and parameters: {'learning_rate': 0.1353273445709139, 'num_leaves': 47, 'tree_learner': 'serial'}. Best is trial 43 with value: 0.020341091539106203.\u001b[0m\n"
          ]
        },
        {
          "output_type": "stream",
          "name": "stdout",
          "text": [
            "Early stopping, best iteration is:\n",
            "[34]\tTrain's rmse: 0.165547\tTest's rmse: 0.0203411\n",
            "Training until validation scores don't improve for 50 rounds.\n"
          ]
        },
        {
          "output_type": "stream",
          "name": "stderr",
          "text": [
            "\u001b[32m[I 2021-12-12 02:48:13,114]\u001b[0m Trial 44 finished with value: 0.021045341957143637 and parameters: {'learning_rate': 0.10711158765436303, 'num_leaves': 47, 'tree_learner': 'serial'}. Best is trial 43 with value: 0.020341091539106203.\u001b[0m\n"
          ]
        },
        {
          "output_type": "stream",
          "name": "stdout",
          "text": [
            "Early stopping, best iteration is:\n",
            "[41]\tTrain's rmse: 0.166996\tTest's rmse: 0.0210453\n",
            "Training until validation scores don't improve for 50 rounds.\n"
          ]
        },
        {
          "output_type": "stream",
          "name": "stderr",
          "text": [
            "\u001b[32m[I 2021-12-12 02:48:13,505]\u001b[0m Trial 45 finished with value: 0.021899835021313954 and parameters: {'learning_rate': 0.15832934360610715, 'num_leaves': 46, 'tree_learner': 'serial'}. Best is trial 43 with value: 0.020341091539106203.\u001b[0m\n"
          ]
        },
        {
          "output_type": "stream",
          "name": "stdout",
          "text": [
            "Early stopping, best iteration is:\n",
            "[30]\tTrain's rmse: 0.165827\tTest's rmse: 0.0218998\n",
            "Training until validation scores don't improve for 50 rounds.\n"
          ]
        },
        {
          "output_type": "stream",
          "name": "stderr",
          "text": [
            "\u001b[32m[I 2021-12-12 02:48:13,720]\u001b[0m Trial 46 finished with value: 0.021096252616758408 and parameters: {'learning_rate': 0.2566317645023092, 'num_leaves': 20, 'tree_learner': 'serial'}. Best is trial 43 with value: 0.020341091539106203.\u001b[0m\n"
          ]
        },
        {
          "output_type": "stream",
          "name": "stdout",
          "text": [
            "Early stopping, best iteration is:\n",
            "[16]\tTrain's rmse: 0.168788\tTest's rmse: 0.0210963\n",
            "Training until validation scores don't improve for 50 rounds.\n"
          ]
        },
        {
          "output_type": "stream",
          "name": "stderr",
          "text": [
            "\u001b[32m[I 2021-12-12 02:48:14,075]\u001b[0m Trial 47 finished with value: 0.021258315165582884 and parameters: {'learning_rate': 0.10078101237307965, 'num_leaves': 30, 'tree_learner': 'serial'}. Best is trial 43 with value: 0.020341091539106203.\u001b[0m\n"
          ]
        },
        {
          "output_type": "stream",
          "name": "stdout",
          "text": [
            "Early stopping, best iteration is:\n",
            "[43]\tTrain's rmse: 0.166703\tTest's rmse: 0.0212583\n",
            "Training until validation scores don't improve for 50 rounds.\n"
          ]
        },
        {
          "output_type": "stream",
          "name": "stderr",
          "text": [
            "\u001b[32m[I 2021-12-12 02:48:14,402]\u001b[0m Trial 48 finished with value: 0.022102696537920404 and parameters: {'learning_rate': 0.3042412099970434, 'num_leaves': 48, 'tree_learner': 'serial'}. Best is trial 43 with value: 0.020341091539106203.\u001b[0m\n"
          ]
        },
        {
          "output_type": "stream",
          "name": "stdout",
          "text": [
            "Early stopping, best iteration is:\n",
            "[14]\tTrain's rmse: 0.165027\tTest's rmse: 0.0221027\n",
            "Training until validation scores don't improve for 50 rounds.\n"
          ]
        },
        {
          "output_type": "stream",
          "name": "stderr",
          "text": [
            "\u001b[32m[I 2021-12-12 02:48:14,616]\u001b[0m Trial 49 finished with value: 0.02659130344405662 and parameters: {'learning_rate': 0.7210649725506689, 'num_leaves': 37, 'tree_learner': 'serial'}. Best is trial 43 with value: 0.020341091539106203.\u001b[0m\n"
          ]
        },
        {
          "output_type": "stream",
          "name": "stdout",
          "text": [
            "Early stopping, best iteration is:\n",
            "[5]\tTrain's rmse: 0.178032\tTest's rmse: 0.0265913\n",
            "Training until validation scores don't improve for 50 rounds.\n"
          ]
        },
        {
          "output_type": "stream",
          "name": "stderr",
          "text": [
            "\u001b[32m[I 2021-12-12 02:48:14,879]\u001b[0m Trial 50 finished with value: 0.030488240322907298 and parameters: {'learning_rate': 0.9224665663561828, 'num_leaves': 40, 'tree_learner': 'data'}. Best is trial 43 with value: 0.020341091539106203.\u001b[0m\n"
          ]
        },
        {
          "output_type": "stream",
          "name": "stdout",
          "text": [
            "Early stopping, best iteration is:\n",
            "[6]\tTrain's rmse: 0.16802\tTest's rmse: 0.0304882\n",
            "Training until validation scores don't improve for 50 rounds.\n"
          ]
        },
        {
          "output_type": "stream",
          "name": "stderr",
          "text": [
            "\u001b[32m[I 2021-12-12 02:48:15,304]\u001b[0m Trial 51 finished with value: 0.02168050141305735 and parameters: {'learning_rate': 0.1263230942473259, 'num_leaves': 47, 'tree_learner': 'serial'}. Best is trial 43 with value: 0.020341091539106203.\u001b[0m\n"
          ]
        },
        {
          "output_type": "stream",
          "name": "stdout",
          "text": [
            "Early stopping, best iteration is:\n",
            "[31]\tTrain's rmse: 0.169057\tTest's rmse: 0.0216805\n",
            "Training until validation scores don't improve for 50 rounds.\n"
          ]
        },
        {
          "output_type": "stream",
          "name": "stderr",
          "text": [
            "\u001b[32m[I 2021-12-12 02:48:15,701]\u001b[0m Trial 52 finished with value: 0.022179992241087736 and parameters: {'learning_rate': 0.1829493512472078, 'num_leaves': 48, 'tree_learner': 'serial'}. Best is trial 43 with value: 0.020341091539106203.\u001b[0m\n"
          ]
        },
        {
          "output_type": "stream",
          "name": "stdout",
          "text": [
            "Early stopping, best iteration is:\n",
            "[23]\tTrain's rmse: 0.16908\tTest's rmse: 0.02218\n",
            "Training until validation scores don't improve for 50 rounds.\n"
          ]
        },
        {
          "output_type": "stream",
          "name": "stderr",
          "text": [
            "\u001b[32m[I 2021-12-12 02:48:16,170]\u001b[0m Trial 53 finished with value: 0.021628547482754282 and parameters: {'learning_rate': 0.13533362946528285, 'num_leaves': 50, 'tree_learner': 'serial'}. Best is trial 43 with value: 0.020341091539106203.\u001b[0m\n"
          ]
        },
        {
          "output_type": "stream",
          "name": "stdout",
          "text": [
            "Early stopping, best iteration is:\n",
            "[33]\tTrain's rmse: 0.167164\tTest's rmse: 0.0216285\n",
            "Training until validation scores don't improve for 50 rounds.\n"
          ]
        },
        {
          "output_type": "stream",
          "name": "stderr",
          "text": [
            "\u001b[32m[I 2021-12-12 02:48:16,495]\u001b[0m Trial 54 finished with value: 0.022085930589867155 and parameters: {'learning_rate': 0.23132807933800975, 'num_leaves': 45, 'tree_learner': 'serial'}. Best is trial 43 with value: 0.020341091539106203.\u001b[0m\n"
          ]
        },
        {
          "output_type": "stream",
          "name": "stdout",
          "text": [
            "Early stopping, best iteration is:\n",
            "[18]\tTrain's rmse: 0.167098\tTest's rmse: 0.0220859\n",
            "Training until validation scores don't improve for 50 rounds.\n"
          ]
        },
        {
          "output_type": "stream",
          "name": "stderr",
          "text": [
            "\u001b[32m[I 2021-12-12 02:48:16,941]\u001b[0m Trial 55 finished with value: 0.021786213255971874 and parameters: {'learning_rate': 0.10164748813146648, 'num_leaves': 42, 'tree_learner': 'serial'}. Best is trial 43 with value: 0.020341091539106203.\u001b[0m\n"
          ]
        },
        {
          "output_type": "stream",
          "name": "stdout",
          "text": [
            "Early stopping, best iteration is:\n",
            "[41]\tTrain's rmse: 0.16726\tTest's rmse: 0.0217862\n",
            "Training until validation scores don't improve for 50 rounds.\n"
          ]
        },
        {
          "output_type": "stream",
          "name": "stderr",
          "text": [
            "\u001b[32m[I 2021-12-12 02:48:17,310]\u001b[0m Trial 56 finished with value: 0.02091583526503348 and parameters: {'learning_rate': 0.18046200922654632, 'num_leaves': 45, 'tree_learner': 'feature'}. Best is trial 43 with value: 0.020341091539106203.\u001b[0m\n"
          ]
        },
        {
          "output_type": "stream",
          "name": "stdout",
          "text": [
            "Early stopping, best iteration is:\n",
            "[24]\tTrain's rmse: 0.166484\tTest's rmse: 0.0209158\n",
            "Training until validation scores don't improve for 50 rounds.\n"
          ]
        },
        {
          "output_type": "stream",
          "name": "stderr",
          "text": [
            "\u001b[32m[I 2021-12-12 02:48:17,613]\u001b[0m Trial 57 finished with value: 0.022233674051916386 and parameters: {'learning_rate': 0.18445651798572085, 'num_leaves': 34, 'tree_learner': 'feature'}. Best is trial 43 with value: 0.020341091539106203.\u001b[0m\n"
          ]
        },
        {
          "output_type": "stream",
          "name": "stdout",
          "text": [
            "Early stopping, best iteration is:\n",
            "[25]\tTrain's rmse: 0.162197\tTest's rmse: 0.0222337\n",
            "Training until validation scores don't improve for 50 rounds.\n"
          ]
        },
        {
          "output_type": "stream",
          "name": "stderr",
          "text": [
            "\u001b[32m[I 2021-12-12 02:48:17,942]\u001b[0m Trial 58 finished with value: 0.022682963560094565 and parameters: {'learning_rate': 0.23784083634149733, 'num_leaves': 44, 'tree_learner': 'feature'}. Best is trial 43 with value: 0.020341091539106203.\u001b[0m\n"
          ]
        },
        {
          "output_type": "stream",
          "name": "stdout",
          "text": [
            "Early stopping, best iteration is:\n",
            "[19]\tTrain's rmse: 0.165565\tTest's rmse: 0.022683\n",
            "Training until validation scores don't improve for 50 rounds.\n"
          ]
        },
        {
          "output_type": "stream",
          "name": "stderr",
          "text": [
            "\u001b[32m[I 2021-12-12 02:48:18,307]\u001b[0m Trial 59 finished with value: 0.020558599098090664 and parameters: {'learning_rate': 0.1608745813981567, 'num_leaves': 41, 'tree_learner': 'feature'}. Best is trial 43 with value: 0.020341091539106203.\u001b[0m\n"
          ]
        },
        {
          "output_type": "stream",
          "name": "stdout",
          "text": [
            "Early stopping, best iteration is:\n",
            "[28]\tTrain's rmse: 0.166071\tTest's rmse: 0.0205586\n",
            "Training until validation scores don't improve for 50 rounds.\n"
          ]
        },
        {
          "output_type": "stream",
          "name": "stderr",
          "text": [
            "\u001b[32m[I 2021-12-12 02:48:18,582]\u001b[0m Trial 60 finished with value: 0.022999175197739207 and parameters: {'learning_rate': 0.34357313582728816, 'num_leaves': 41, 'tree_learner': 'feature'}. Best is trial 43 with value: 0.020341091539106203.\u001b[0m\n"
          ]
        },
        {
          "output_type": "stream",
          "name": "stdout",
          "text": [
            "Early stopping, best iteration is:\n",
            "[13]\tTrain's rmse: 0.166339\tTest's rmse: 0.0229992\n",
            "Training until validation scores don't improve for 50 rounds.\n"
          ]
        },
        {
          "output_type": "stream",
          "name": "stderr",
          "text": [
            "\u001b[32m[I 2021-12-12 02:48:18,967]\u001b[0m Trial 61 finished with value: 0.019302634218305696 and parameters: {'learning_rate': 0.1660903540939999, 'num_leaves': 43, 'tree_learner': 'feature'}. Best is trial 61 with value: 0.019302634218305696.\u001b[0m\n"
          ]
        },
        {
          "output_type": "stream",
          "name": "stdout",
          "text": [
            "Early stopping, best iteration is:\n",
            "[29]\tTrain's rmse: 0.16349\tTest's rmse: 0.0193026\n",
            "Training until validation scores don't improve for 50 rounds.\n"
          ]
        },
        {
          "output_type": "stream",
          "name": "stderr",
          "text": [
            "\u001b[32m[I 2021-12-12 02:48:19,300]\u001b[0m Trial 62 finished with value: 0.020954523339253336 and parameters: {'learning_rate': 0.16005666240606647, 'num_leaves': 39, 'tree_learner': 'feature'}. Best is trial 61 with value: 0.019302634218305696.\u001b[0m\n"
          ]
        },
        {
          "output_type": "stream",
          "name": "stdout",
          "text": [
            "Early stopping, best iteration is:\n",
            "[26]\tTrain's rmse: 0.167269\tTest's rmse: 0.0209545\n",
            "Training until validation scores don't improve for 50 rounds.\n"
          ]
        },
        {
          "output_type": "stream",
          "name": "stderr",
          "text": [
            "\u001b[32m[I 2021-12-12 02:48:19,625]\u001b[0m Trial 63 finished with value: 0.022534846504064857 and parameters: {'learning_rate': 0.20488638043132684, 'num_leaves': 42, 'tree_learner': 'feature'}. Best is trial 61 with value: 0.019302634218305696.\u001b[0m\n"
          ]
        },
        {
          "output_type": "stream",
          "name": "stdout",
          "text": [
            "Early stopping, best iteration is:\n",
            "[19]\tTrain's rmse: 0.16636\tTest's rmse: 0.0225348\n",
            "Training until validation scores don't improve for 50 rounds.\n"
          ]
        },
        {
          "output_type": "stream",
          "name": "stderr",
          "text": [
            "\u001b[32m[I 2021-12-12 02:48:19,964]\u001b[0m Trial 64 finished with value: 0.02058134437281464 and parameters: {'learning_rate': 0.1621906602940542, 'num_leaves': 36, 'tree_learner': 'feature'}. Best is trial 61 with value: 0.019302634218305696.\u001b[0m\n"
          ]
        },
        {
          "output_type": "stream",
          "name": "stdout",
          "text": [
            "Early stopping, best iteration is:\n",
            "[27]\tTrain's rmse: 0.163834\tTest's rmse: 0.0205813\n",
            "Training until validation scores don't improve for 50 rounds.\n"
          ]
        },
        {
          "output_type": "stream",
          "name": "stderr",
          "text": [
            "\u001b[32m[I 2021-12-12 02:48:20,220]\u001b[0m Trial 65 finished with value: 0.022826524694145776 and parameters: {'learning_rate': 0.28663762121454955, 'num_leaves': 33, 'tree_learner': 'feature'}. Best is trial 61 with value: 0.019302634218305696.\u001b[0m\n"
          ]
        },
        {
          "output_type": "stream",
          "name": "stdout",
          "text": [
            "Early stopping, best iteration is:\n",
            "[16]\tTrain's rmse: 0.160976\tTest's rmse: 0.0228265\n",
            "Training until validation scores don't improve for 50 rounds.\n"
          ]
        },
        {
          "output_type": "stream",
          "name": "stderr",
          "text": [
            "\u001b[32m[I 2021-12-12 02:48:20,472]\u001b[0m Trial 66 finished with value: 0.0259407561950676 and parameters: {'learning_rate': 0.5741988812617024, 'num_leaves': 36, 'tree_learner': 'feature'}. Best is trial 61 with value: 0.019302634218305696.\u001b[0m\n"
          ]
        },
        {
          "output_type": "stream",
          "name": "stdout",
          "text": [
            "Early stopping, best iteration is:\n",
            "[11]\tTrain's rmse: 0.176914\tTest's rmse: 0.0259408\n",
            "Training until validation scores don't improve for 50 rounds.\n"
          ]
        },
        {
          "output_type": "stream",
          "name": "stderr",
          "text": [
            "\u001b[32m[I 2021-12-12 02:48:20,822]\u001b[0m Trial 67 finished with value: 0.023151149849568703 and parameters: {'learning_rate': 0.14334674883503126, 'num_leaves': 36, 'tree_learner': 'feature'}. Best is trial 61 with value: 0.019302634218305696.\u001b[0m\n"
          ]
        },
        {
          "output_type": "stream",
          "name": "stdout",
          "text": [
            "Early stopping, best iteration is:\n",
            "[35]\tTrain's rmse: 0.164258\tTest's rmse: 0.0231512\n",
            "Training until validation scores don't improve for 50 rounds.\n"
          ]
        },
        {
          "output_type": "stream",
          "name": "stderr",
          "text": [
            "\u001b[32m[I 2021-12-12 02:48:21,129]\u001b[0m Trial 68 finished with value: 0.021850621246921043 and parameters: {'learning_rate': 0.2456418165372156, 'num_leaves': 39, 'tree_learner': 'feature'}. Best is trial 61 with value: 0.019302634218305696.\u001b[0m\n"
          ]
        },
        {
          "output_type": "stream",
          "name": "stdout",
          "text": [
            "Early stopping, best iteration is:\n",
            "[16]\tTrain's rmse: 0.168174\tTest's rmse: 0.0218506\n",
            "Training until validation scores don't improve for 50 rounds.\n"
          ]
        },
        {
          "output_type": "stream",
          "name": "stderr",
          "text": [
            "\u001b[32m[I 2021-12-12 02:48:21,378]\u001b[0m Trial 69 finished with value: 0.02158281780961012 and parameters: {'learning_rate': 0.19952788384775305, 'num_leaves': 28, 'tree_learner': 'feature'}. Best is trial 61 with value: 0.019302634218305696.\u001b[0m\n"
          ]
        },
        {
          "output_type": "stream",
          "name": "stdout",
          "text": [
            "Early stopping, best iteration is:\n",
            "[20]\tTrain's rmse: 0.170065\tTest's rmse: 0.0215828\n",
            "Training until validation scores don't improve for 50 rounds.\n"
          ]
        },
        {
          "output_type": "stream",
          "name": "stderr",
          "text": [
            "\u001b[32m[I 2021-12-12 02:48:21,663]\u001b[0m Trial 70 finished with value: 0.022128848513992418 and parameters: {'learning_rate': 0.17113211750696794, 'num_leaves': 34, 'tree_learner': 'feature'}. Best is trial 61 with value: 0.019302634218305696.\u001b[0m\n"
          ]
        },
        {
          "output_type": "stream",
          "name": "stdout",
          "text": [
            "Early stopping, best iteration is:\n",
            "[24]\tTrain's rmse: 0.171368\tTest's rmse: 0.0221289\n",
            "Training until validation scores don't improve for 50 rounds.\n"
          ]
        },
        {
          "output_type": "stream",
          "name": "stderr",
          "text": [
            "\u001b[32m[I 2021-12-12 02:48:22,064]\u001b[0m Trial 71 finished with value: 0.021057597483107517 and parameters: {'learning_rate': 0.13122476460985336, 'num_leaves': 43, 'tree_learner': 'feature'}. Best is trial 61 with value: 0.019302634218305696.\u001b[0m\n"
          ]
        },
        {
          "output_type": "stream",
          "name": "stdout",
          "text": [
            "Early stopping, best iteration is:\n",
            "[32]\tTrain's rmse: 0.169563\tTest's rmse: 0.0210576\n",
            "Training until validation scores don't improve for 50 rounds.\n"
          ]
        },
        {
          "output_type": "stream",
          "name": "stderr",
          "text": [
            "\u001b[32m[I 2021-12-12 02:48:22,433]\u001b[0m Trial 72 finished with value: 0.022028965447856815 and parameters: {'learning_rate': 0.1731503801494073, 'num_leaves': 45, 'tree_learner': 'feature'}. Best is trial 61 with value: 0.019302634218305696.\u001b[0m\n"
          ]
        },
        {
          "output_type": "stream",
          "name": "stdout",
          "text": [
            "Early stopping, best iteration is:\n",
            "[24]\tTrain's rmse: 0.174455\tTest's rmse: 0.022029\n",
            "Training until validation scores don't improve for 50 rounds.\n"
          ]
        },
        {
          "output_type": "stream",
          "name": "stderr",
          "text": [
            "\u001b[32m[I 2021-12-12 02:48:22,749]\u001b[0m Trial 73 finished with value: 0.021065554589191987 and parameters: {'learning_rate': 0.22021799244424364, 'num_leaves': 41, 'tree_learner': 'feature'}. Best is trial 61 with value: 0.019302634218305696.\u001b[0m\n"
          ]
        },
        {
          "output_type": "stream",
          "name": "stdout",
          "text": [
            "Early stopping, best iteration is:\n",
            "[18]\tTrain's rmse: 0.169056\tTest's rmse: 0.0210656\n",
            "Training until validation scores don't improve for 50 rounds.\n"
          ]
        },
        {
          "output_type": "stream",
          "name": "stderr",
          "text": [
            "\u001b[32m[I 2021-12-12 02:48:23,187]\u001b[0m Trial 74 finished with value: 0.01977822192388731 and parameters: {'learning_rate': 0.13072612955679302, 'num_leaves': 46, 'tree_learner': 'feature'}. Best is trial 61 with value: 0.019302634218305696.\u001b[0m\n"
          ]
        },
        {
          "output_type": "stream",
          "name": "stdout",
          "text": [
            "Early stopping, best iteration is:\n",
            "[35]\tTrain's rmse: 0.167006\tTest's rmse: 0.0197782\n",
            "Training until validation scores don't improve for 50 rounds.\n"
          ]
        },
        {
          "output_type": "stream",
          "name": "stderr",
          "text": [
            "\u001b[32m[I 2021-12-12 02:48:23,602]\u001b[0m Trial 75 finished with value: 0.020902732196138755 and parameters: {'learning_rate': 0.12944715446662275, 'num_leaves': 43, 'tree_learner': 'feature'}. Best is trial 61 with value: 0.019302634218305696.\u001b[0m\n"
          ]
        },
        {
          "output_type": "stream",
          "name": "stdout",
          "text": [
            "Early stopping, best iteration is:\n",
            "[36]\tTrain's rmse: 0.165068\tTest's rmse: 0.0209027\n",
            "Training until validation scores don't improve for 50 rounds.\n"
          ]
        },
        {
          "output_type": "stream",
          "name": "stderr",
          "text": [
            "\u001b[32m[I 2021-12-12 02:48:23,943]\u001b[0m Trial 76 finished with value: 0.021947685061991472 and parameters: {'learning_rate': 0.15312463204619142, 'num_leaves': 37, 'tree_learner': 'data'}. Best is trial 61 with value: 0.019302634218305696.\u001b[0m\n"
          ]
        },
        {
          "output_type": "stream",
          "name": "stdout",
          "text": [
            "Early stopping, best iteration is:\n",
            "[25]\tTrain's rmse: 0.169202\tTest's rmse: 0.0219477\n",
            "Training until validation scores don't improve for 50 rounds.\n"
          ]
        },
        {
          "output_type": "stream",
          "name": "stderr",
          "text": [
            "\u001b[32m[I 2021-12-12 02:48:24,156]\u001b[0m Trial 77 finished with value: 0.025057921889995702 and parameters: {'learning_rate': 0.43573784118871783, 'num_leaves': 30, 'tree_learner': 'feature'}. Best is trial 61 with value: 0.019302634218305696.\u001b[0m\n"
          ]
        },
        {
          "output_type": "stream",
          "name": "stdout",
          "text": [
            "Early stopping, best iteration is:\n",
            "[9]\tTrain's rmse: 0.169821\tTest's rmse: 0.0250579\n",
            "Training until validation scores don't improve for 50 rounds.\n"
          ]
        },
        {
          "output_type": "stream",
          "name": "stderr",
          "text": [
            "\u001b[32m[I 2021-12-12 02:48:24,438]\u001b[0m Trial 78 finished with value: 0.021936386358682492 and parameters: {'learning_rate': 0.12128341469560146, 'num_leaves': 26, 'tree_learner': 'voting'}. Best is trial 61 with value: 0.019302634218305696.\u001b[0m\n"
          ]
        },
        {
          "output_type": "stream",
          "name": "stdout",
          "text": [
            "Early stopping, best iteration is:\n",
            "[36]\tTrain's rmse: 0.164448\tTest's rmse: 0.0219364\n",
            "Training until validation scores don't improve for 50 rounds.\n"
          ]
        },
        {
          "output_type": "stream",
          "name": "stderr",
          "text": [
            "\u001b[32m[I 2021-12-12 02:48:24,782]\u001b[0m Trial 79 finished with value: 0.022308878685450586 and parameters: {'learning_rate': 0.20970403011506072, 'num_leaves': 46, 'tree_learner': 'feature'}. Best is trial 61 with value: 0.019302634218305696.\u001b[0m\n"
          ]
        },
        {
          "output_type": "stream",
          "name": "stdout",
          "text": [
            "Early stopping, best iteration is:\n",
            "[22]\tTrain's rmse: 0.164872\tTest's rmse: 0.0223089\n",
            "Training until validation scores don't improve for 50 rounds.\n"
          ]
        },
        {
          "output_type": "stream",
          "name": "stderr",
          "text": [
            "\u001b[32m[I 2021-12-12 02:48:25,199]\u001b[0m Trial 80 finished with value: 0.020362786713392533 and parameters: {'learning_rate': 0.15929803459594746, 'num_leaves': 48, 'tree_learner': 'voting'}. Best is trial 61 with value: 0.019302634218305696.\u001b[0m\n"
          ]
        },
        {
          "output_type": "stream",
          "name": "stdout",
          "text": [
            "Early stopping, best iteration is:\n",
            "[26]\tTrain's rmse: 0.169916\tTest's rmse: 0.0203628\n",
            "Training until validation scores don't improve for 50 rounds.\n"
          ]
        },
        {
          "output_type": "stream",
          "name": "stderr",
          "text": [
            "\u001b[32m[I 2021-12-12 02:48:25,607]\u001b[0m Trial 81 finished with value: 0.020731526841327737 and parameters: {'learning_rate': 0.1529449726011, 'num_leaves': 48, 'tree_learner': 'voting'}. Best is trial 61 with value: 0.019302634218305696.\u001b[0m\n"
          ]
        },
        {
          "output_type": "stream",
          "name": "stdout",
          "text": [
            "Early stopping, best iteration is:\n",
            "[29]\tTrain's rmse: 0.169558\tTest's rmse: 0.0207315\n",
            "Training until validation scores don't improve for 50 rounds.\n"
          ]
        },
        {
          "output_type": "stream",
          "name": "stderr",
          "text": [
            "\u001b[32m[I 2021-12-12 02:48:26,011]\u001b[0m Trial 82 finished with value: 0.020658003599911517 and parameters: {'learning_rate': 0.15986062648638838, 'num_leaves': 49, 'tree_learner': 'voting'}. Best is trial 61 with value: 0.019302634218305696.\u001b[0m\n"
          ]
        },
        {
          "output_type": "stream",
          "name": "stdout",
          "text": [
            "Early stopping, best iteration is:\n",
            "[25]\tTrain's rmse: 0.168192\tTest's rmse: 0.020658\n",
            "Training until validation scores don't improve for 50 rounds.\n"
          ]
        },
        {
          "output_type": "stream",
          "name": "stderr",
          "text": [
            "\u001b[32m[I 2021-12-12 02:48:26,380]\u001b[0m Trial 83 finished with value: 0.021151880575292974 and parameters: {'learning_rate': 0.1948785758323075, 'num_leaves': 49, 'tree_learner': 'voting'}. Best is trial 61 with value: 0.019302634218305696.\u001b[0m\n"
          ]
        },
        {
          "output_type": "stream",
          "name": "stdout",
          "text": [
            "Early stopping, best iteration is:\n",
            "[20]\tTrain's rmse: 0.169796\tTest's rmse: 0.0211519\n",
            "Training until validation scores don't improve for 50 rounds.\n"
          ]
        },
        {
          "output_type": "stream",
          "name": "stderr",
          "text": [
            "\u001b[32m[I 2021-12-12 02:48:26,710]\u001b[0m Trial 84 finished with value: 0.022113559667762912 and parameters: {'learning_rate': 0.25184242714595517, 'num_leaves': 47, 'tree_learner': 'voting'}. Best is trial 61 with value: 0.019302634218305696.\u001b[0m\n"
          ]
        },
        {
          "output_type": "stream",
          "name": "stdout",
          "text": [
            "Early stopping, best iteration is:\n",
            "[16]\tTrain's rmse: 0.165444\tTest's rmse: 0.0221136\n",
            "Training until validation scores don't improve for 50 rounds.\n"
          ]
        },
        {
          "output_type": "stream",
          "name": "stderr",
          "text": [
            "\u001b[32m[I 2021-12-12 02:48:27,200]\u001b[0m Trial 85 finished with value: 0.021864117561868464 and parameters: {'learning_rate': 0.11626018667227213, 'num_leaves': 49, 'tree_learner': 'voting'}. Best is trial 61 with value: 0.019302634218305696.\u001b[0m\n"
          ]
        },
        {
          "output_type": "stream",
          "name": "stdout",
          "text": [
            "Early stopping, best iteration is:\n",
            "[42]\tTrain's rmse: 0.164515\tTest's rmse: 0.0218641\n",
            "Training until validation scores don't improve for 50 rounds.\n"
          ]
        },
        {
          "output_type": "stream",
          "name": "stderr",
          "text": [
            "\u001b[32m[I 2021-12-12 02:48:27,533]\u001b[0m Trial 86 finished with value: 0.02484881139455929 and parameters: {'learning_rate': 0.278517708258771, 'num_leaves': 46, 'tree_learner': 'data'}. Best is trial 61 with value: 0.019302634218305696.\u001b[0m\n"
          ]
        },
        {
          "output_type": "stream",
          "name": "stdout",
          "text": [
            "Early stopping, best iteration is:\n",
            "[14]\tTrain's rmse: 0.164375\tTest's rmse: 0.0248488\n",
            "Training until validation scores don't improve for 50 rounds.\n"
          ]
        },
        {
          "output_type": "stream",
          "name": "stderr",
          "text": [
            "\u001b[32m[I 2021-12-12 02:48:27,937]\u001b[0m Trial 87 finished with value: 0.020259108361812633 and parameters: {'learning_rate': 0.16400734430897285, 'num_leaves': 50, 'tree_learner': 'voting'}. Best is trial 61 with value: 0.019302634218305696.\u001b[0m\n"
          ]
        },
        {
          "output_type": "stream",
          "name": "stdout",
          "text": [
            "Early stopping, best iteration is:\n",
            "[27]\tTrain's rmse: 0.16578\tTest's rmse: 0.0202591\n",
            "Training until validation scores don't improve for 50 rounds.\n"
          ]
        },
        {
          "output_type": "stream",
          "name": "stderr",
          "text": [
            "\u001b[32m[I 2021-12-12 02:48:28,290]\u001b[0m Trial 88 finished with value: 0.021298944884646055 and parameters: {'learning_rate': 0.21401944492281944, 'num_leaves': 44, 'tree_learner': 'feature'}. Best is trial 61 with value: 0.019302634218305696.\u001b[0m\n"
          ]
        },
        {
          "output_type": "stream",
          "name": "stdout",
          "text": [
            "Early stopping, best iteration is:\n",
            "[18]\tTrain's rmse: 0.167902\tTest's rmse: 0.0212989\n",
            "Training until validation scores don't improve for 50 rounds.\n"
          ]
        },
        {
          "output_type": "stream",
          "name": "stderr",
          "text": [
            "\u001b[32m[I 2021-12-12 02:48:28,673]\u001b[0m Trial 89 finished with value: 0.022095603199913473 and parameters: {'learning_rate': 0.17275534163911832, 'num_leaves': 50, 'tree_learner': 'voting'}. Best is trial 61 with value: 0.019302634218305696.\u001b[0m\n"
          ]
        },
        {
          "output_type": "stream",
          "name": "stdout",
          "text": [
            "Early stopping, best iteration is:\n",
            "[24]\tTrain's rmse: 0.174496\tTest's rmse: 0.0220956\n",
            "Training until validation scores don't improve for 50 rounds.\n"
          ]
        },
        {
          "output_type": "stream",
          "name": "stderr",
          "text": [
            "\u001b[32m[I 2021-12-12 02:48:29,150]\u001b[0m Trial 90 finished with value: 0.02162577067261669 and parameters: {'learning_rate': 0.10145402649440297, 'num_leaves': 48, 'tree_learner': 'serial'}. Best is trial 61 with value: 0.019302634218305696.\u001b[0m\n"
          ]
        },
        {
          "output_type": "stream",
          "name": "stdout",
          "text": [
            "Early stopping, best iteration is:\n",
            "[39]\tTrain's rmse: 0.170764\tTest's rmse: 0.0216258\n",
            "Training until validation scores don't improve for 50 rounds.\n"
          ]
        },
        {
          "output_type": "stream",
          "name": "stderr",
          "text": [
            "\u001b[32m[I 2021-12-12 02:48:29,552]\u001b[0m Trial 91 finished with value: 0.020362476014793796 and parameters: {'learning_rate': 0.1606963913252556, 'num_leaves': 49, 'tree_learner': 'voting'}. Best is trial 61 with value: 0.019302634218305696.\u001b[0m\n"
          ]
        },
        {
          "output_type": "stream",
          "name": "stdout",
          "text": [
            "Early stopping, best iteration is:\n",
            "[28]\tTrain's rmse: 0.166303\tTest's rmse: 0.0203625\n",
            "Training until validation scores don't improve for 50 rounds.\n"
          ]
        },
        {
          "output_type": "stream",
          "name": "stderr",
          "text": [
            "\u001b[32m[I 2021-12-12 02:48:29,963]\u001b[0m Trial 92 finished with value: 0.021361258419707103 and parameters: {'learning_rate': 0.136767250237067, 'num_leaves': 47, 'tree_learner': 'voting'}. Best is trial 61 with value: 0.019302634218305696.\u001b[0m\n"
          ]
        },
        {
          "output_type": "stream",
          "name": "stdout",
          "text": [
            "Early stopping, best iteration is:\n",
            "[30]\tTrain's rmse: 0.167786\tTest's rmse: 0.0213613\n",
            "Training until validation scores don't improve for 50 rounds.\n"
          ]
        },
        {
          "output_type": "stream",
          "name": "stderr",
          "text": [
            "\u001b[32m[I 2021-12-12 02:48:30,408]\u001b[0m Trial 93 finished with value: 0.021539775207009015 and parameters: {'learning_rate': 0.11914843496879932, 'num_leaves': 46, 'tree_learner': 'voting'}. Best is trial 61 with value: 0.019302634218305696.\u001b[0m\n"
          ]
        },
        {
          "output_type": "stream",
          "name": "stdout",
          "text": [
            "Early stopping, best iteration is:\n",
            "[37]\tTrain's rmse: 0.168899\tTest's rmse: 0.0215398\n",
            "Training until validation scores don't improve for 50 rounds.\n"
          ]
        },
        {
          "output_type": "stream",
          "name": "stderr",
          "text": [
            "\u001b[32m[I 2021-12-12 02:48:30,753]\u001b[0m Trial 94 finished with value: 0.0223738979378321 and parameters: {'learning_rate': 0.22976047180701625, 'num_leaves': 50, 'tree_learner': 'voting'}. Best is trial 61 with value: 0.019302634218305696.\u001b[0m\n"
          ]
        },
        {
          "output_type": "stream",
          "name": "stdout",
          "text": [
            "Early stopping, best iteration is:\n",
            "[18]\tTrain's rmse: 0.167276\tTest's rmse: 0.0223739\n",
            "Training until validation scores don't improve for 50 rounds.\n"
          ]
        },
        {
          "output_type": "stream",
          "name": "stderr",
          "text": [
            "\u001b[32m[I 2021-12-12 02:48:31,130]\u001b[0m Trial 95 finished with value: 0.022744297898060963 and parameters: {'learning_rate': 0.19206571543001488, 'num_leaves': 44, 'tree_learner': 'voting'}. Best is trial 61 with value: 0.019302634218305696.\u001b[0m\n"
          ]
        },
        {
          "output_type": "stream",
          "name": "stdout",
          "text": [
            "Early stopping, best iteration is:\n",
            "[26]\tTrain's rmse: 0.16192\tTest's rmse: 0.0227443\n",
            "Training until validation scores don't improve for 50 rounds.\n"
          ]
        },
        {
          "output_type": "stream",
          "name": "stderr",
          "text": [
            "\u001b[32m[I 2021-12-12 02:48:31,394]\u001b[0m Trial 96 finished with value: 0.025639739181947122 and parameters: {'learning_rate': 0.7072351685428147, 'num_leaves': 48, 'tree_learner': 'voting'}. Best is trial 61 with value: 0.019302634218305696.\u001b[0m\n"
          ]
        },
        {
          "output_type": "stream",
          "name": "stdout",
          "text": [
            "Early stopping, best iteration is:\n",
            "[5]\tTrain's rmse: 0.178198\tTest's rmse: 0.0256397\n",
            "Training until validation scores don't improve for 50 rounds.\n"
          ]
        },
        {
          "output_type": "stream",
          "name": "stderr",
          "text": [
            "\u001b[32m[I 2021-12-12 02:48:31,745]\u001b[0m Trial 97 finished with value: 0.019870071967206655 and parameters: {'learning_rate': 0.15884427729228753, 'num_leaves': 42, 'tree_learner': 'serial'}. Best is trial 61 with value: 0.019302634218305696.\u001b[0m\n"
          ]
        },
        {
          "output_type": "stream",
          "name": "stdout",
          "text": [
            "Early stopping, best iteration is:\n",
            "[27]\tTrain's rmse: 0.169211\tTest's rmse: 0.0198701\n",
            "Training until validation scores don't improve for 50 rounds.\n"
          ]
        },
        {
          "output_type": "stream",
          "name": "stderr",
          "text": [
            "\u001b[32m[I 2021-12-12 02:48:32,132]\u001b[0m Trial 98 finished with value: 0.021317196750114568 and parameters: {'learning_rate': 0.1442074467535544, 'num_leaves': 43, 'tree_learner': 'serial'}. Best is trial 61 with value: 0.019302634218305696.\u001b[0m\n"
          ]
        },
        {
          "output_type": "stream",
          "name": "stdout",
          "text": [
            "Early stopping, best iteration is:\n",
            "[30]\tTrain's rmse: 0.168907\tTest's rmse: 0.0213172\n",
            "Training until validation scores don't improve for 50 rounds.\n"
          ]
        },
        {
          "output_type": "stream",
          "name": "stderr",
          "text": [
            "\u001b[32m[I 2021-12-12 02:48:32,556]\u001b[0m Trial 99 finished with value: 0.021336124117786005 and parameters: {'learning_rate': 0.11772118406667566, 'num_leaves': 45, 'tree_learner': 'serial'}. Best is trial 61 with value: 0.019302634218305696.\u001b[0m\n"
          ]
        },
        {
          "output_type": "stream",
          "name": "stdout",
          "text": [
            "Early stopping, best iteration is:\n",
            "[38]\tTrain's rmse: 0.169007\tTest's rmse: 0.0213361\n",
            "{'learning_rate': 0.1660903540939999, 'num_leaves': 43, 'tree_learner': 'feature'}\n",
            "{'learning_rate': 0.1660903540939999, 'num_leaves': 43, 'tree_learner': 'feature', 'objective': 'regression', 'metric': 'rmse', 'task': 'train', 'seed': 42}\n",
            "Training until validation scores don't improve for 50 rounds.\n",
            "Early stopping, best iteration is:\n",
            "[29]\tTrain's rmse: 0.16349\tTest's rmse: 0.0193026\n"
          ]
        },
        {
          "output_type": "display_data",
          "data": {
            "image/png": "[encoded data removed]",
            "text/plain": [
              "<Figure size 432x288 with 1 Axes>"
            ]
          },
          "metadata": {
            "needs_background": "light"
          }
        },
        {
          "output_type": "stream",
          "name": "stderr",
          "text": [
            "\u001b[32m[I 2021-12-12 02:48:33,148]\u001b[0m A new study created in memory with name: no-name-4cc28202-793d-4113-988e-e4c2824643f3\u001b[0m\n"
          ]
        },
        {
          "output_type": "stream",
          "name": "stdout",
          "text": [
            "Training until validation scores don't improve for 50 rounds.\n"
          ]
        },
        {
          "output_type": "stream",
          "name": "stderr",
          "text": [
            "\u001b[32m[I 2021-12-12 02:48:33,530]\u001b[0m Trial 0 finished with value: 0.3617831112294689 and parameters: {'learning_rate': 0.9562655075239594, 'num_leaves': 28, 'tree_learner': 'data'}. Best is trial 0 with value: 0.3617831112294689.\u001b[0m\n",
            "\u001b[32m[I 2021-12-12 02:48:33,662]\u001b[0m Trial 1 finished with value: 0.36175127356288556 and parameters: {'learning_rate': 0.15432452155576007, 'num_leaves': 8, 'tree_learner': 'feature'}. Best is trial 1 with value: 0.36175127356288556.\u001b[0m\n"
          ]
        },
        {
          "output_type": "stream",
          "name": "stdout",
          "text": [
            "Did not meet early stopping. Best iteration is:\n",
            "[100]\tTrain's rmse: 0.0507452\tTest's rmse: 0.361783\n",
            "Training until validation scores don't improve for 50 rounds.\n",
            "Early stopping, best iteration is:\n",
            "[27]\tTrain's rmse: 0.15218\tTest's rmse: 0.361751\n",
            "Training until validation scores don't improve for 50 rounds.\n"
          ]
        },
        {
          "output_type": "stream",
          "name": "stderr",
          "text": [
            "\u001b[32m[I 2021-12-12 02:48:33,807]\u001b[0m Trial 2 finished with value: 0.3570272945675337 and parameters: {'learning_rate': 0.6404473288714547, 'num_leaves': 15, 'tree_learner': 'feature'}. Best is trial 2 with value: 0.3570272945675337.\u001b[0m\n",
            "\u001b[32m[I 2021-12-12 02:48:33,972]\u001b[0m Trial 3 finished with value: 0.3877913338536448 and parameters: {'learning_rate': 0.6190632003037014, 'num_leaves': 23, 'tree_learner': 'feature'}. Best is trial 2 with value: 0.3570272945675337.\u001b[0m\n"
          ]
        },
        {
          "output_type": "stream",
          "name": "stdout",
          "text": [
            "Early stopping, best iteration is:\n",
            "[6]\tTrain's rmse: 0.153228\tTest's rmse: 0.357027\n",
            "Training until validation scores don't improve for 50 rounds.\n",
            "Early stopping, best iteration is:\n",
            "[6]\tTrain's rmse: 0.148997\tTest's rmse: 0.387791\n",
            "Training until validation scores don't improve for 50 rounds.\n"
          ]
        },
        {
          "output_type": "stream",
          "name": "stderr",
          "text": [
            "\u001b[32m[I 2021-12-12 02:48:34,174]\u001b[0m Trial 4 finished with value: 0.36262479010882365 and parameters: {'learning_rate': 0.4197347453856627, 'num_leaves': 24, 'tree_learner': 'serial'}. Best is trial 2 with value: 0.3570272945675337.\u001b[0m\n"
          ]
        },
        {
          "output_type": "stream",
          "name": "stdout",
          "text": [
            "Early stopping, best iteration is:\n",
            "[7]\tTrain's rmse: 0.156669\tTest's rmse: 0.362625\n",
            "Training until validation scores don't improve for 50 rounds.\n"
          ]
        },
        {
          "output_type": "stream",
          "name": "stderr",
          "text": [
            "\u001b[32m[I 2021-12-12 02:48:34,485]\u001b[0m Trial 5 finished with value: 0.3734982722394493 and parameters: {'learning_rate': 0.2640105472921903, 'num_leaves': 48, 'tree_learner': 'feature'}. Best is trial 2 with value: 0.3570272945675337.\u001b[0m\n",
            "\u001b[32m[I 2021-12-12 02:48:34,639]\u001b[0m Trial 6 finished with value: 0.37406401574489095 and parameters: {'learning_rate': 0.17752373266201216, 'num_leaves': 13, 'tree_learner': 'serial'}. Best is trial 2 with value: 0.3570272945675337.\u001b[0m\n"
          ]
        },
        {
          "output_type": "stream",
          "name": "stdout",
          "text": [
            "Early stopping, best iteration is:\n",
            "[12]\tTrain's rmse: 0.155739\tTest's rmse: 0.373498\n",
            "Training until validation scores don't improve for 50 rounds.\n",
            "Early stopping, best iteration is:\n",
            "[19]\tTrain's rmse: 0.155841\tTest's rmse: 0.374064\n",
            "Training until validation scores don't improve for 50 rounds.\n"
          ]
        },
        {
          "output_type": "stream",
          "name": "stderr",
          "text": [
            "\u001b[32m[I 2021-12-12 02:48:34,785]\u001b[0m Trial 7 finished with value: 0.3591332435407317 and parameters: {'learning_rate': 0.4375862983406612, 'num_leaves': 13, 'tree_learner': 'feature'}. Best is trial 2 with value: 0.3570272945675337.\u001b[0m\n",
            "\u001b[32m[I 2021-12-12 02:48:34,863]\u001b[0m Trial 8 finished with value: 0.3654402376473132 and parameters: {'learning_rate': 0.9486432595048115, 'num_leaves': 7, 'tree_learner': 'serial'}. Best is trial 2 with value: 0.3570272945675337.\u001b[0m\n"
          ]
        },
        {
          "output_type": "stream",
          "name": "stdout",
          "text": [
            "Early stopping, best iteration is:\n",
            "[10]\tTrain's rmse: 0.145615\tTest's rmse: 0.359133\n",
            "Training until validation scores don't improve for 50 rounds.\n",
            "Early stopping, best iteration is:\n",
            "[1]\tTrain's rmse: 0.231301\tTest's rmse: 0.36544\n",
            "Training until validation scores don't improve for 50 rounds.\n"
          ]
        },
        {
          "output_type": "stream",
          "name": "stderr",
          "text": [
            "\u001b[32m[I 2021-12-12 02:48:35,062]\u001b[0m Trial 9 finished with value: 0.3668793152989114 and parameters: {'learning_rate': 0.38011277774738483, 'num_leaves': 25, 'tree_learner': 'feature'}. Best is trial 2 with value: 0.3570272945675337.\u001b[0m\n"
          ]
        },
        {
          "output_type": "stream",
          "name": "stdout",
          "text": [
            "Early stopping, best iteration is:\n",
            "[11]\tTrain's rmse: 0.146947\tTest's rmse: 0.366879\n",
            "Training until validation scores don't improve for 50 rounds.\n"
          ]
        },
        {
          "output_type": "stream",
          "name": "stderr",
          "text": [
            "\u001b[32m[I 2021-12-12 02:48:35,311]\u001b[0m Trial 10 finished with value: 0.34269793083034406 and parameters: {'learning_rate': 0.711751266844454, 'num_leaves': 38, 'tree_learner': 'voting'}. Best is trial 10 with value: 0.34269793083034406.\u001b[0m\n"
          ]
        },
        {
          "output_type": "stream",
          "name": "stdout",
          "text": [
            "Early stopping, best iteration is:\n",
            "[5]\tTrain's rmse: 0.147292\tTest's rmse: 0.342698\n",
            "Training until validation scores don't improve for 50 rounds.\n"
          ]
        },
        {
          "output_type": "stream",
          "name": "stderr",
          "text": [
            "\u001b[32m[I 2021-12-12 02:48:35,556]\u001b[0m Trial 11 finished with value: 0.3765483309825238 and parameters: {'learning_rate': 0.6727569824879127, 'num_leaves': 40, 'tree_learner': 'voting'}. Best is trial 10 with value: 0.34269793083034406.\u001b[0m\n"
          ]
        },
        {
          "output_type": "stream",
          "name": "stdout",
          "text": [
            "Early stopping, best iteration is:\n",
            "[3]\tTrain's rmse: 0.16541\tTest's rmse: 0.376548\n",
            "Training until validation scores don't improve for 50 rounds.\n"
          ]
        },
        {
          "output_type": "stream",
          "name": "stderr",
          "text": [
            "\u001b[32m[I 2021-12-12 02:48:35,779]\u001b[0m Trial 12 finished with value: 0.3508924803375679 and parameters: {'learning_rate': 0.7716619171905967, 'num_leaves': 35, 'tree_learner': 'voting'}. Best is trial 10 with value: 0.34269793083034406.\u001b[0m\n"
          ]
        },
        {
          "output_type": "stream",
          "name": "stdout",
          "text": [
            "Early stopping, best iteration is:\n",
            "[5]\tTrain's rmse: 0.149282\tTest's rmse: 0.350892\n",
            "Training until validation scores don't improve for 50 rounds.\n"
          ]
        },
        {
          "output_type": "stream",
          "name": "stderr",
          "text": [
            "\u001b[32m[I 2021-12-12 02:48:36,008]\u001b[0m Trial 13 finished with value: 0.35428894005452616 and parameters: {'learning_rate': 0.809127702060005, 'num_leaves': 36, 'tree_learner': 'voting'}. Best is trial 10 with value: 0.34269793083034406.\u001b[0m\n"
          ]
        },
        {
          "output_type": "stream",
          "name": "stdout",
          "text": [
            "Early stopping, best iteration is:\n",
            "[5]\tTrain's rmse: 0.148335\tTest's rmse: 0.354289\n",
            "Training until validation scores don't improve for 50 rounds.\n"
          ]
        },
        {
          "output_type": "stream",
          "name": "stderr",
          "text": [
            "\u001b[32m[I 2021-12-12 02:48:36,259]\u001b[0m Trial 14 finished with value: 0.35239519166103744 and parameters: {'learning_rate': 0.7861530337418778, 'num_leaves': 36, 'tree_learner': 'voting'}. Best is trial 10 with value: 0.34269793083034406.\u001b[0m\n"
          ]
        },
        {
          "output_type": "stream",
          "name": "stdout",
          "text": [
            "Early stopping, best iteration is:\n",
            "[5]\tTrain's rmse: 0.149287\tTest's rmse: 0.352395\n",
            "Training until validation scores don't improve for 50 rounds.\n"
          ]
        },
        {
          "output_type": "stream",
          "name": "stderr",
          "text": [
            "\u001b[32m[I 2021-12-12 02:48:36,527]\u001b[0m Trial 15 finished with value: 0.35425952773274405 and parameters: {'learning_rate': 0.8035678255313404, 'num_leaves': 46, 'tree_learner': 'voting'}. Best is trial 10 with value: 0.34269793083034406.\u001b[0m\n"
          ]
        },
        {
          "output_type": "stream",
          "name": "stdout",
          "text": [
            "Early stopping, best iteration is:\n",
            "[5]\tTrain's rmse: 0.148383\tTest's rmse: 0.35426\n",
            "Training until validation scores don't improve for 50 rounds.\n"
          ]
        },
        {
          "output_type": "stream",
          "name": "stderr",
          "text": [
            "\u001b[32m[I 2021-12-12 02:48:36,743]\u001b[0m Trial 16 finished with value: 0.3473669246306906 and parameters: {'learning_rate': 0.5470093284440816, 'num_leaves': 32, 'tree_learner': 'voting'}. Best is trial 10 with value: 0.34269793083034406.\u001b[0m\n"
          ]
        },
        {
          "output_type": "stream",
          "name": "stdout",
          "text": [
            "Early stopping, best iteration is:\n",
            "[7]\tTrain's rmse: 0.148818\tTest's rmse: 0.347367\n",
            "Training until validation scores don't improve for 50 rounds.\n",
            "Early stopping, best iteration is:\n",
            "[6]\tTrain's rmse: 0.154134\tTest's rmse: 0.352291\n"
          ]
        },
        {
          "output_type": "stream",
          "name": "stderr",
          "text": [
            "\u001b[32m[I 2021-12-12 02:48:36,936]\u001b[0m Trial 17 finished with value: 0.3522911292821171 and parameters: {'learning_rate': 0.5321578012843453, 'num_leaves': 30, 'tree_learner': 'data'}. Best is trial 10 with value: 0.34269793083034406.\u001b[0m\n"
          ]
        },
        {
          "output_type": "stream",
          "name": "stdout",
          "text": [
            "Training until validation scores don't improve for 50 rounds.\n"
          ]
        },
        {
          "output_type": "stream",
          "name": "stderr",
          "text": [
            "\u001b[32m[I 2021-12-12 02:48:37,201]\u001b[0m Trial 18 finished with value: 0.3530767271783778 and parameters: {'learning_rate': 0.5231577932006095, 'num_leaves': 41, 'tree_learner': 'voting'}. Best is trial 10 with value: 0.34269793083034406.\u001b[0m\n"
          ]
        },
        {
          "output_type": "stream",
          "name": "stdout",
          "text": [
            "Early stopping, best iteration is:\n",
            "[6]\tTrain's rmse: 0.155412\tTest's rmse: 0.353077\n",
            "Training until validation scores don't improve for 50 rounds.\n"
          ]
        },
        {
          "output_type": "stream",
          "name": "stderr",
          "text": [
            "\u001b[32m[I 2021-12-12 02:48:37,457]\u001b[0m Trial 19 finished with value: 0.369780463073397 and parameters: {'learning_rate': 0.3048076448668462, 'num_leaves': 32, 'tree_learner': 'voting'}. Best is trial 10 with value: 0.34269793083034406.\u001b[0m\n"
          ]
        },
        {
          "output_type": "stream",
          "name": "stdout",
          "text": [
            "Early stopping, best iteration is:\n",
            "[10]\tTrain's rmse: 0.156208\tTest's rmse: 0.36978\n",
            "Training until validation scores don't improve for 50 rounds.\n"
          ]
        },
        {
          "output_type": "stream",
          "name": "stderr",
          "text": [
            "\u001b[32m[I 2021-12-12 02:48:37,697]\u001b[0m Trial 20 finished with value: 0.3603177864269253 and parameters: {'learning_rate': 0.7142685610876999, 'num_leaves': 42, 'tree_learner': 'voting'}. Best is trial 10 with value: 0.34269793083034406.\u001b[0m\n"
          ]
        },
        {
          "output_type": "stream",
          "name": "stdout",
          "text": [
            "Early stopping, best iteration is:\n",
            "[3]\tTrain's rmse: 0.163405\tTest's rmse: 0.360318\n",
            "Training until validation scores don't improve for 50 rounds.\n"
          ]
        },
        {
          "output_type": "stream",
          "name": "stderr",
          "text": [
            "\u001b[32m[I 2021-12-12 02:48:38,069]\u001b[0m Trial 21 finished with value: 0.36921576706371323 and parameters: {'learning_rate': 0.8768730303404589, 'num_leaves': 35, 'tree_learner': 'voting'}. Best is trial 10 with value: 0.34269793083034406.\u001b[0m\n"
          ]
        },
        {
          "output_type": "stream",
          "name": "stdout",
          "text": [
            "Did not meet early stopping. Best iteration is:\n",
            "[100]\tTrain's rmse: 0.0545416\tTest's rmse: 0.369216\n",
            "Training until validation scores don't improve for 50 rounds.\n"
          ]
        },
        {
          "output_type": "stream",
          "name": "stderr",
          "text": [
            "\u001b[32m[I 2021-12-12 02:48:38,304]\u001b[0m Trial 22 finished with value: 0.35338278682794 and parameters: {'learning_rate': 0.5799334194782816, 'num_leaves': 33, 'tree_learner': 'voting'}. Best is trial 10 with value: 0.34269793083034406.\u001b[0m\n",
            "\u001b[32m[I 2021-12-12 02:48:38,450]\u001b[0m Trial 23 finished with value: 0.3565441926698544 and parameters: {'learning_rate': 0.7127656008889657, 'num_leaves': 20, 'tree_learner': 'voting'}. Best is trial 10 with value: 0.34269793083034406.\u001b[0m\n"
          ]
        },
        {
          "output_type": "stream",
          "name": "stdout",
          "text": [
            "Early stopping, best iteration is:\n",
            "[5]\tTrain's rmse: 0.155699\tTest's rmse: 0.353383\n",
            "Training until validation scores don't improve for 50 rounds.\n",
            "Early stopping, best iteration is:\n",
            "[5]\tTrain's rmse: 0.15288\tTest's rmse: 0.356544\n",
            "Training until validation scores don't improve for 50 rounds.\n"
          ]
        },
        {
          "output_type": "stream",
          "name": "stderr",
          "text": [
            "\u001b[32m[I 2021-12-12 02:48:38,708]\u001b[0m Trial 24 finished with value: 0.36140009792085803 and parameters: {'learning_rate': 0.4991428008713604, 'num_leaves': 39, 'tree_learner': 'data'}. Best is trial 10 with value: 0.34269793083034406.\u001b[0m\n"
          ]
        },
        {
          "output_type": "stream",
          "name": "stdout",
          "text": [
            "Early stopping, best iteration is:\n",
            "[6]\tTrain's rmse: 0.157141\tTest's rmse: 0.3614\n",
            "Training until validation scores don't improve for 50 rounds.\n"
          ]
        },
        {
          "output_type": "stream",
          "name": "stderr",
          "text": [
            "\u001b[32m[I 2021-12-12 02:48:38,955]\u001b[0m Trial 25 finished with value: 0.37099028047166477 and parameters: {'learning_rate': 0.7256299047434862, 'num_leaves': 43, 'tree_learner': 'voting'}. Best is trial 10 with value: 0.34269793083034406.\u001b[0m\n",
            "\u001b[32m[I 2021-12-12 02:48:39,136]\u001b[0m Trial 26 finished with value: 0.3687622222263776 and parameters: {'learning_rate': 0.8539543908676567, 'num_leaves': 31, 'tree_learner': 'voting'}. Best is trial 10 with value: 0.34269793083034406.\u001b[0m\n"
          ]
        },
        {
          "output_type": "stream",
          "name": "stdout",
          "text": [
            "Early stopping, best iteration is:\n",
            "[3]\tTrain's rmse: 0.162987\tTest's rmse: 0.37099\n",
            "Training until validation scores don't improve for 50 rounds.\n",
            "Early stopping, best iteration is:\n",
            "[2]\tTrain's rmse: 0.168292\tTest's rmse: 0.368762\n"
          ]
        },
        {
          "output_type": "stream",
          "name": "stderr",
          "text": [
            "\u001b[32m[I 2021-12-12 02:48:39,356]\u001b[0m Trial 27 finished with value: 0.36191841512543255 and parameters: {'learning_rate': 0.5891451772896564, 'num_leaves': 28, 'tree_learner': 'voting'}. Best is trial 10 with value: 0.34269793083034406.\u001b[0m\n"
          ]
        },
        {
          "output_type": "stream",
          "name": "stdout",
          "text": [
            "Training until validation scores don't improve for 50 rounds.\n",
            "Early stopping, best iteration is:\n",
            "[6]\tTrain's rmse: 0.152525\tTest's rmse: 0.361918\n",
            "Training until validation scores don't improve for 50 rounds.\n"
          ]
        },
        {
          "output_type": "stream",
          "name": "stderr",
          "text": [
            "\u001b[32m[I 2021-12-12 02:48:39,718]\u001b[0m Trial 28 finished with value: 0.3663181226839933 and parameters: {'learning_rate': 0.8949438835394761, 'num_leaves': 38, 'tree_learner': 'voting'}. Best is trial 10 with value: 0.34269793083034406.\u001b[0m\n"
          ]
        },
        {
          "output_type": "stream",
          "name": "stdout",
          "text": [
            "Early stopping, best iteration is:\n",
            "[37]\tTrain's rmse: 0.0948364\tTest's rmse: 0.366318\n",
            "Training until validation scores don't improve for 50 rounds.\n"
          ]
        },
        {
          "output_type": "stream",
          "name": "stderr",
          "text": [
            "\u001b[32m[I 2021-12-12 02:48:39,996]\u001b[0m Trial 29 finished with value: 0.37132810583983994 and parameters: {'learning_rate': 0.7588521095701269, 'num_leaves': 50, 'tree_learner': 'data'}. Best is trial 10 with value: 0.34269793083034406.\u001b[0m\n"
          ]
        },
        {
          "output_type": "stream",
          "name": "stdout",
          "text": [
            "Early stopping, best iteration is:\n",
            "[3]\tTrain's rmse: 0.161425\tTest's rmse: 0.371328\n",
            "Training until validation scores don't improve for 50 rounds.\n"
          ]
        },
        {
          "output_type": "stream",
          "name": "stderr",
          "text": [
            "\u001b[32m[I 2021-12-12 02:48:40,252]\u001b[0m Trial 30 finished with value: 0.37304917061325493 and parameters: {'learning_rate': 0.9755510884092473, 'num_leaves': 46, 'tree_learner': 'serial'}. Best is trial 10 with value: 0.34269793083034406.\u001b[0m\n"
          ]
        },
        {
          "output_type": "stream",
          "name": "stdout",
          "text": [
            "Early stopping, best iteration is:\n",
            "[1]\tTrain's rmse: 0.184534\tTest's rmse: 0.373049\n",
            "Training until validation scores don't improve for 50 rounds.\n"
          ]
        },
        {
          "output_type": "stream",
          "name": "stderr",
          "text": [
            "\u001b[32m[I 2021-12-12 02:48:40,477]\u001b[0m Trial 31 finished with value: 0.3623203254423954 and parameters: {'learning_rate': 0.47797040493390786, 'num_leaves': 29, 'tree_learner': 'data'}. Best is trial 10 with value: 0.34269793083034406.\u001b[0m\n"
          ]
        },
        {
          "output_type": "stream",
          "name": "stdout",
          "text": [
            "Early stopping, best iteration is:\n",
            "[6]\tTrain's rmse: 0.156146\tTest's rmse: 0.36232\n",
            "Training until validation scores don't improve for 50 rounds.\n"
          ]
        },
        {
          "output_type": "stream",
          "name": "stderr",
          "text": [
            "\u001b[32m[I 2021-12-12 02:48:40,697]\u001b[0m Trial 32 finished with value: 0.3537352757096251 and parameters: {'learning_rate': 0.5495340935904263, 'num_leaves': 31, 'tree_learner': 'data'}. Best is trial 10 with value: 0.34269793083034406.\u001b[0m\n"
          ]
        },
        {
          "output_type": "stream",
          "name": "stdout",
          "text": [
            "Early stopping, best iteration is:\n",
            "[7]\tTrain's rmse: 0.150539\tTest's rmse: 0.353735\n",
            "Training until validation scores don't improve for 50 rounds.\n",
            "Early stopping, best iteration is:\n",
            "[8]\tTrain's rmse: 0.1457\tTest's rmse: 0.366556"
          ]
        },
        {
          "output_type": "stream",
          "name": "stderr",
          "text": [
            "\u001b[32m[I 2021-12-12 02:48:40,912]\u001b[0m Trial 33 finished with value: 0.3665564194735617 and parameters: {'learning_rate': 0.6416962383573831, 'num_leaves': 27, 'tree_learner': 'data'}. Best is trial 10 with value: 0.34269793083034406.\u001b[0m\n",
            "\u001b[32m[I 2021-12-12 02:48:41,066]\u001b[0m Trial 34 finished with value: 0.3724506777280806 and parameters: {'learning_rate': 0.6690201616413802, 'num_leaves': 20, 'tree_learner': 'data'}. Best is trial 10 with value: 0.34269793083034406.\u001b[0m\n"
          ]
        },
        {
          "output_type": "stream",
          "name": "stdout",
          "text": [
            "\n",
            "Training until validation scores don't improve for 50 rounds.\n",
            "Early stopping, best iteration is:\n",
            "[6]\tTrain's rmse: 0.146276\tTest's rmse: 0.372451\n",
            "Training until validation scores don't improve for 50 rounds.\n",
            "Early stopping, best iteration is:\n",
            "[8]\tTrain's rmse: 0.144239\tTest's rmse: 0.367786\n"
          ]
        },
        {
          "output_type": "stream",
          "name": "stderr",
          "text": [
            "\u001b[32m[I 2021-12-12 02:48:41,311]\u001b[0m Trial 35 finished with value: 0.3677855641913875 and parameters: {'learning_rate': 0.5979202374718269, 'num_leaves': 34, 'tree_learner': 'data'}. Best is trial 10 with value: 0.34269793083034406.\u001b[0m\n"
          ]
        },
        {
          "output_type": "stream",
          "name": "stdout",
          "text": [
            "Training until validation scores don't improve for 50 rounds.\n"
          ]
        },
        {
          "output_type": "stream",
          "name": "stderr",
          "text": [
            "\u001b[32m[I 2021-12-12 02:48:41,582]\u001b[0m Trial 36 finished with value: 0.3651847281930371 and parameters: {'learning_rate': 0.3813590546918915, 'num_leaves': 37, 'tree_learner': 'voting'}. Best is trial 10 with value: 0.34269793083034406.\u001b[0m\n",
            "\u001b[32m[I 2021-12-12 02:48:41,748]\u001b[0m Trial 37 finished with value: 0.3596680506579586 and parameters: {'learning_rate': 0.44742473824374607, 'num_leaves': 21, 'tree_learner': 'data'}. Best is trial 10 with value: 0.34269793083034406.\u001b[0m\n"
          ]
        },
        {
          "output_type": "stream",
          "name": "stdout",
          "text": [
            "Early stopping, best iteration is:\n",
            "[11]\tTrain's rmse: 0.146141\tTest's rmse: 0.365185\n",
            "Training until validation scores don't improve for 50 rounds.\n",
            "Early stopping, best iteration is:\n",
            "[6]\tTrain's rmse: 0.160362\tTest's rmse: 0.359668\n",
            "Training until validation scores don't improve for 50 rounds.\n"
          ]
        },
        {
          "output_type": "stream",
          "name": "stderr",
          "text": [
            "\u001b[32m[I 2021-12-12 02:48:41,962]\u001b[0m Trial 38 finished with value: 0.3543342568509317 and parameters: {'learning_rate': 0.5576779528733936, 'num_leaves': 30, 'tree_learner': 'serial'}. Best is trial 10 with value: 0.34269793083034406.\u001b[0m\n",
            "\u001b[32m[I 2021-12-12 02:48:42,126]\u001b[0m Trial 39 finished with value: 0.3440849796234321 and parameters: {'learning_rate': 0.6774433010385592, 'num_leaves': 26, 'tree_learner': 'feature'}. Best is trial 10 with value: 0.34269793083034406.\u001b[0m\n"
          ]
        },
        {
          "output_type": "stream",
          "name": "stdout",
          "text": [
            "Early stopping, best iteration is:\n",
            "[7]\tTrain's rmse: 0.151302\tTest's rmse: 0.354334\n",
            "Training until validation scores don't improve for 50 rounds.\n",
            "Early stopping, best iteration is:\n",
            "[4]\tTrain's rmse: 0.151026\tTest's rmse: 0.344085\n",
            "Training until validation scores don't improve for 50 rounds.\n"
          ]
        },
        {
          "output_type": "stream",
          "name": "stderr",
          "text": [
            "\u001b[32m[I 2021-12-12 02:48:42,403]\u001b[0m Trial 40 finished with value: 0.3759150928213537 and parameters: {'learning_rate': 0.6411026966862383, 'num_leaves': 17, 'tree_learner': 'feature'}. Best is trial 10 with value: 0.34269793083034406.\u001b[0m\n"
          ]
        },
        {
          "output_type": "stream",
          "name": "stdout",
          "text": [
            "Did not meet early stopping. Best iteration is:\n",
            "[100]\tTrain's rmse: 0.0712066\tTest's rmse: 0.375915\n",
            "Training until validation scores don't improve for 50 rounds.\n"
          ]
        },
        {
          "output_type": "stream",
          "name": "stderr",
          "text": [
            "\u001b[32m[I 2021-12-12 02:48:42,613]\u001b[0m Trial 41 finished with value: 0.37278524430375226 and parameters: {'learning_rate': 0.6820700898659774, 'num_leaves': 27, 'tree_learner': 'feature'}. Best is trial 10 with value: 0.34269793083034406.\u001b[0m\n",
            "\u001b[32m[I 2021-12-12 02:48:42,790]\u001b[0m Trial 42 finished with value: 0.3535570283044889 and parameters: {'learning_rate': 0.7513297957608456, 'num_leaves': 25, 'tree_learner': 'feature'}. Best is trial 10 with value: 0.34269793083034406.\u001b[0m\n"
          ]
        },
        {
          "output_type": "stream",
          "name": "stdout",
          "text": [
            "Early stopping, best iteration is:\n",
            "[8]\tTrain's rmse: 0.142987\tTest's rmse: 0.372785\n",
            "Training until validation scores don't improve for 50 rounds.\n",
            "Early stopping, best iteration is:\n",
            "[5]\tTrain's rmse: 0.152806\tTest's rmse: 0.353557\n",
            "Training until validation scores don't improve for 50 rounds.\n"
          ]
        },
        {
          "output_type": "stream",
          "name": "stderr",
          "text": [
            "\u001b[32m[I 2021-12-12 02:48:43,049]\u001b[0m Trial 43 finished with value: 0.3548277414428157 and parameters: {'learning_rate': 0.835875221585087, 'num_leaves': 33, 'tree_learner': 'feature'}. Best is trial 10 with value: 0.34269793083034406.\u001b[0m\n",
            "\u001b[32m[I 2021-12-12 02:48:43,219]\u001b[0m Trial 44 finished with value: 0.3887725033071944 and parameters: {'learning_rate': 0.6243066779097626, 'num_leaves': 23, 'tree_learner': 'feature'}. Best is trial 10 with value: 0.34269793083034406.\u001b[0m\n"
          ]
        },
        {
          "output_type": "stream",
          "name": "stdout",
          "text": [
            "Early stopping, best iteration is:\n",
            "[5]\tTrain's rmse: 0.147484\tTest's rmse: 0.354828\n",
            "Training until validation scores don't improve for 50 rounds.\n",
            "Early stopping, best iteration is:\n",
            "[6]\tTrain's rmse: 0.148791\tTest's rmse: 0.388773\n",
            "Training until validation scores don't improve for 50 rounds.\n"
          ]
        },
        {
          "output_type": "stream",
          "name": "stderr",
          "text": [
            "\u001b[32m[I 2021-12-12 02:48:43,506]\u001b[0m Trial 45 finished with value: 0.37439371567103025 and parameters: {'learning_rate': 0.12474679492311369, 'num_leaves': 26, 'tree_learner': 'serial'}. Best is trial 10 with value: 0.34269793083034406.\u001b[0m\n"
          ]
        },
        {
          "output_type": "stream",
          "name": "stdout",
          "text": [
            "Early stopping, best iteration is:\n",
            "[26]\tTrain's rmse: 0.158331\tTest's rmse: 0.374394\n",
            "Training until validation scores don't improve for 50 rounds.\n"
          ]
        },
        {
          "output_type": "stream",
          "name": "stderr",
          "text": [
            "\u001b[32m[I 2021-12-12 02:48:43,859]\u001b[0m Trial 46 finished with value: 0.369598880358217 and parameters: {'learning_rate': 0.9122168028699287, 'num_leaves': 29, 'tree_learner': 'feature'}. Best is trial 10 with value: 0.34269793083034406.\u001b[0m\n"
          ]
        },
        {
          "output_type": "stream",
          "name": "stdout",
          "text": [
            "Did not meet early stopping. Best iteration is:\n",
            "[100]\tTrain's rmse: 0.0583068\tTest's rmse: 0.369599\n",
            "Training until validation scores don't improve for 50 rounds.\n"
          ]
        },
        {
          "output_type": "stream",
          "name": "stderr",
          "text": [
            "\u001b[32m[I 2021-12-12 02:48:44,092]\u001b[0m Trial 47 finished with value: 0.368822026390045 and parameters: {'learning_rate': 0.3924308750207105, 'num_leaves': 35, 'tree_learner': 'voting'}. Best is trial 10 with value: 0.34269793083034406.\u001b[0m\n",
            "\u001b[32m[I 2021-12-12 02:48:44,202]\u001b[0m Trial 48 finished with value: 0.3577932830527946 and parameters: {'learning_rate': 0.3286820903424917, 'num_leaves': 9, 'tree_learner': 'voting'}. Best is trial 10 with value: 0.34269793083034406.\u001b[0m\n"
          ]
        },
        {
          "output_type": "stream",
          "name": "stdout",
          "text": [
            "Early stopping, best iteration is:\n",
            "[6]\tTrain's rmse: 0.166335\tTest's rmse: 0.368822\n",
            "Training until validation scores don't improve for 50 rounds.\n",
            "Early stopping, best iteration is:\n",
            "[9]\tTrain's rmse: 0.158052\tTest's rmse: 0.357793\n",
            "Training until validation scores don't improve for 50 rounds.\n"
          ]
        },
        {
          "output_type": "stream",
          "name": "stderr",
          "text": [
            "\u001b[32m[I 2021-12-12 02:48:44,497]\u001b[0m Trial 49 finished with value: 0.36138216351602587 and parameters: {'learning_rate': 0.517779972270979, 'num_leaves': 43, 'tree_learner': 'voting'}. Best is trial 10 with value: 0.34269793083034406.\u001b[0m\n"
          ]
        },
        {
          "output_type": "stream",
          "name": "stdout",
          "text": [
            "Early stopping, best iteration is:\n",
            "[6]\tTrain's rmse: 0.154575\tTest's rmse: 0.361382\n",
            "Training until validation scores don't improve for 50 rounds.\n"
          ]
        },
        {
          "output_type": "stream",
          "name": "stderr",
          "text": [
            "\u001b[32m[I 2021-12-12 02:48:44,740]\u001b[0m Trial 50 finished with value: 0.35091280893218024 and parameters: {'learning_rate': 0.7677108589457015, 'num_leaves': 39, 'tree_learner': 'feature'}. Best is trial 10 with value: 0.34269793083034406.\u001b[0m\n"
          ]
        },
        {
          "output_type": "stream",
          "name": "stdout",
          "text": [
            "Early stopping, best iteration is:\n",
            "[5]\tTrain's rmse: 0.150043\tTest's rmse: 0.350913\n",
            "Training until validation scores don't improve for 50 rounds.\n"
          ]
        },
        {
          "output_type": "stream",
          "name": "stderr",
          "text": [
            "\u001b[32m[I 2021-12-12 02:48:44,982]\u001b[0m Trial 51 finished with value: 0.3515093223479321 and parameters: {'learning_rate': 0.7720686918073171, 'num_leaves': 41, 'tree_learner': 'feature'}. Best is trial 10 with value: 0.34269793083034406.\u001b[0m\n"
          ]
        },
        {
          "output_type": "stream",
          "name": "stdout",
          "text": [
            "Early stopping, best iteration is:\n",
            "[5]\tTrain's rmse: 0.149488\tTest's rmse: 0.351509\n",
            "Training until validation scores don't improve for 50 rounds.\n"
          ]
        },
        {
          "output_type": "stream",
          "name": "stderr",
          "text": [
            "\u001b[32m[I 2021-12-12 02:48:45,250]\u001b[0m Trial 52 finished with value: 0.35205495993205416 and parameters: {'learning_rate': 0.7797799102992643, 'num_leaves': 45, 'tree_learner': 'feature'}. Best is trial 10 with value: 0.34269793083034406.\u001b[0m\n"
          ]
        },
        {
          "output_type": "stream",
          "name": "stdout",
          "text": [
            "Early stopping, best iteration is:\n",
            "[5]\tTrain's rmse: 0.149137\tTest's rmse: 0.352055\n",
            "Training until validation scores don't improve for 50 rounds.\n"
          ]
        },
        {
          "output_type": "stream",
          "name": "stderr",
          "text": [
            "\u001b[32m[I 2021-12-12 02:48:45,506]\u001b[0m Trial 53 finished with value: 0.3549112010319924 and parameters: {'learning_rate': 0.815322345416748, 'num_leaves': 40, 'tree_learner': 'feature'}. Best is trial 10 with value: 0.34269793083034406.\u001b[0m\n"
          ]
        },
        {
          "output_type": "stream",
          "name": "stdout",
          "text": [
            "Early stopping, best iteration is:\n",
            "[5]\tTrain's rmse: 0.147934\tTest's rmse: 0.354911\n",
            "Training until validation scores don't improve for 50 rounds.\n",
            "Early stopping, best iteration is:\n",
            "[3]\tTrain's rmse: 0.162549\tTest's rmse: 0.370964"
          ]
        },
        {
          "output_type": "stream",
          "name": "stderr",
          "text": [
            "\u001b[32m[I 2021-12-12 02:48:45,719]\u001b[0m Trial 54 finished with value: 0.37096424293114666 and parameters: {'learning_rate': 0.73328223047057, 'num_leaves': 37, 'tree_learner': 'feature'}. Best is trial 10 with value: 0.34269793083034406.\u001b[0m\n"
          ]
        },
        {
          "output_type": "stream",
          "name": "stdout",
          "text": [
            "\n",
            "Training until validation scores don't improve for 50 rounds.\n"
          ]
        },
        {
          "output_type": "stream",
          "name": "stderr",
          "text": [
            "\u001b[32m[I 2021-12-12 02:48:45,959]\u001b[0m Trial 55 finished with value: 0.37578366272596136 and parameters: {'learning_rate': 0.6862602533930952, 'num_leaves': 39, 'tree_learner': 'feature'}. Best is trial 10 with value: 0.34269793083034406.\u001b[0m\n"
          ]
        },
        {
          "output_type": "stream",
          "name": "stdout",
          "text": [
            "Early stopping, best iteration is:\n",
            "[3]\tTrain's rmse: 0.164494\tTest's rmse: 0.375784\n",
            "Training until validation scores don't improve for 50 rounds.\n"
          ]
        },
        {
          "output_type": "stream",
          "name": "stderr",
          "text": [
            "\u001b[32m[I 2021-12-12 02:48:46,212]\u001b[0m Trial 56 finished with value: 0.35088307184133916 and parameters: {'learning_rate': 0.7728987188006905, 'num_leaves': 44, 'tree_learner': 'feature'}. Best is trial 10 with value: 0.34269793083034406.\u001b[0m\n"
          ]
        },
        {
          "output_type": "stream",
          "name": "stdout",
          "text": [
            "Early stopping, best iteration is:\n",
            "[5]\tTrain's rmse: 0.149562\tTest's rmse: 0.350883\n",
            "Training until validation scores don't improve for 50 rounds.\n"
          ]
        },
        {
          "output_type": "stream",
          "name": "stderr",
          "text": [
            "\u001b[32m[I 2021-12-12 02:48:46,478]\u001b[0m Trial 57 finished with value: 0.36874217434164785 and parameters: {'learning_rate': 0.8531529628090652, 'num_leaves': 45, 'tree_learner': 'feature'}. Best is trial 10 with value: 0.34269793083034406.\u001b[0m\n"
          ]
        },
        {
          "output_type": "stream",
          "name": "stdout",
          "text": [
            "Early stopping, best iteration is:\n",
            "[2]\tTrain's rmse: 0.168052\tTest's rmse: 0.368742\n",
            "Training until validation scores don't improve for 50 rounds.\n"
          ]
        },
        {
          "output_type": "stream",
          "name": "stderr",
          "text": [
            "\u001b[32m[I 2021-12-12 02:48:46,748]\u001b[0m Trial 58 finished with value: 0.3609548187738287 and parameters: {'learning_rate': 0.7049900151237547, 'num_leaves': 48, 'tree_learner': 'feature'}. Best is trial 10 with value: 0.34269793083034406.\u001b[0m\n"
          ]
        },
        {
          "output_type": "stream",
          "name": "stdout",
          "text": [
            "Early stopping, best iteration is:\n",
            "[3]\tTrain's rmse: 0.163967\tTest's rmse: 0.360955\n",
            "Training until validation scores don't improve for 50 rounds.\n"
          ]
        },
        {
          "output_type": "stream",
          "name": "stderr",
          "text": [
            "\u001b[32m[I 2021-12-12 02:48:46,967]\u001b[0m Trial 59 finished with value: 0.35361674334021065 and parameters: {'learning_rate': 0.8101752653398481, 'num_leaves': 35, 'tree_learner': 'voting'}. Best is trial 10 with value: 0.34269793083034406.\u001b[0m\n"
          ]
        },
        {
          "output_type": "stream",
          "name": "stdout",
          "text": [
            "Early stopping, best iteration is:\n",
            "[5]\tTrain's rmse: 0.148161\tTest's rmse: 0.353617\n",
            "Training until validation scores don't improve for 50 rounds.\n"
          ]
        },
        {
          "output_type": "stream",
          "name": "stderr",
          "text": [
            "\u001b[32m[I 2021-12-12 02:48:47,430]\u001b[0m Trial 60 finished with value: 0.3546117395094841 and parameters: {'learning_rate': 0.932917606502509, 'num_leaves': 43, 'tree_learner': 'voting'}. Best is trial 10 with value: 0.34269793083034406.\u001b[0m\n"
          ]
        },
        {
          "output_type": "stream",
          "name": "stdout",
          "text": [
            "Did not meet early stopping. Best iteration is:\n",
            "[100]\tTrain's rmse: 0.0569042\tTest's rmse: 0.354612\n",
            "Training until validation scores don't improve for 50 rounds.\n"
          ]
        },
        {
          "output_type": "stream",
          "name": "stderr",
          "text": [
            "\u001b[32m[I 2021-12-12 02:48:47,688]\u001b[0m Trial 61 finished with value: 0.3712278494651166 and parameters: {'learning_rate': 0.7535812338474152, 'num_leaves': 41, 'tree_learner': 'feature'}. Best is trial 10 with value: 0.34269793083034406.\u001b[0m\n"
          ]
        },
        {
          "output_type": "stream",
          "name": "stdout",
          "text": [
            "Early stopping, best iteration is:\n",
            "[3]\tTrain's rmse: 0.161768\tTest's rmse: 0.371228\n",
            "Training until validation scores don't improve for 50 rounds.\n"
          ]
        },
        {
          "output_type": "stream",
          "name": "stderr",
          "text": [
            "\u001b[32m[I 2021-12-12 02:48:47,917]\u001b[0m Trial 62 finished with value: 0.350767942413968 and parameters: {'learning_rate': 0.7713399891588187, 'num_leaves': 37, 'tree_learner': 'feature'}. Best is trial 10 with value: 0.34269793083034406.\u001b[0m\n"
          ]
        },
        {
          "output_type": "stream",
          "name": "stdout",
          "text": [
            "Early stopping, best iteration is:\n",
            "[5]\tTrain's rmse: 0.149622\tTest's rmse: 0.350768\n",
            "Training until validation scores don't improve for 50 rounds.\n"
          ]
        },
        {
          "output_type": "stream",
          "name": "stderr",
          "text": [
            "\u001b[32m[I 2021-12-12 02:48:48,150]\u001b[0m Trial 63 finished with value: 0.3520940857329589 and parameters: {'learning_rate': 0.7892884158486955, 'num_leaves': 38, 'tree_learner': 'feature'}. Best is trial 10 with value: 0.34269793083034406.\u001b[0m\n"
          ]
        },
        {
          "output_type": "stream",
          "name": "stdout",
          "text": [
            "Early stopping, best iteration is:\n",
            "[5]\tTrain's rmse: 0.148358\tTest's rmse: 0.352094\n",
            "Training until validation scores don't improve for 50 rounds.\n"
          ]
        },
        {
          "output_type": "stream",
          "name": "stderr",
          "text": [
            "\u001b[32m[I 2021-12-12 02:48:48,368]\u001b[0m Trial 64 finished with value: 0.34952584016937976 and parameters: {'learning_rate': 0.6641879716616129, 'num_leaves': 33, 'tree_learner': 'feature'}. Best is trial 10 with value: 0.34269793083034406.\u001b[0m\n"
          ]
        },
        {
          "output_type": "stream",
          "name": "stdout",
          "text": [
            "Early stopping, best iteration is:\n",
            "[4]\tTrain's rmse: 0.157486\tTest's rmse: 0.349526\n",
            "Training until validation scores don't improve for 50 rounds.\n"
          ]
        },
        {
          "output_type": "stream",
          "name": "stderr",
          "text": [
            "\u001b[32m[I 2021-12-12 02:48:48,601]\u001b[0m Trial 65 finished with value: 0.3680462615215221 and parameters: {'learning_rate': 0.6183729975375346, 'num_leaves': 32, 'tree_learner': 'feature'}. Best is trial 10 with value: 0.34269793083034406.\u001b[0m\n"
          ]
        },
        {
          "output_type": "stream",
          "name": "stdout",
          "text": [
            "Early stopping, best iteration is:\n",
            "[8]\tTrain's rmse: 0.142315\tTest's rmse: 0.368046\n",
            "Training until validation scores don't improve for 50 rounds.\n"
          ]
        },
        {
          "output_type": "stream",
          "name": "stderr",
          "text": [
            "\u001b[32m[I 2021-12-12 02:48:48,818]\u001b[0m Trial 66 finished with value: 0.3495259033135852 and parameters: {'learning_rate': 0.6640918219929818, 'num_leaves': 33, 'tree_learner': 'voting'}. Best is trial 10 with value: 0.34269793083034406.\u001b[0m\n"
          ]
        },
        {
          "output_type": "stream",
          "name": "stdout",
          "text": [
            "Early stopping, best iteration is:\n",
            "[4]\tTrain's rmse: 0.157491\tTest's rmse: 0.349526\n",
            "Training until validation scores don't improve for 50 rounds.\n"
          ]
        },
        {
          "output_type": "stream",
          "name": "stderr",
          "text": [
            "\u001b[32m[I 2021-12-12 02:48:49,040]\u001b[0m Trial 67 finished with value: 0.349564939262057 and parameters: {'learning_rate': 0.6610091535272105, 'num_leaves': 32, 'tree_learner': 'serial'}. Best is trial 10 with value: 0.34269793083034406.\u001b[0m\n"
          ]
        },
        {
          "output_type": "stream",
          "name": "stdout",
          "text": [
            "Early stopping, best iteration is:\n",
            "[4]\tTrain's rmse: 0.157676\tTest's rmse: 0.349565\n",
            "Training until validation scores don't improve for 50 rounds.\n",
            "Early stopping, best iteration is:\n",
            "[4]\tTrain's rmse: 0.15771\tTest's rmse: 0.349538\n"
          ]
        },
        {
          "output_type": "stream",
          "name": "stderr",
          "text": [
            "\u001b[32m[I 2021-12-12 02:48:49,243]\u001b[0m Trial 68 finished with value: 0.3495376389384967 and parameters: {'learning_rate': 0.6600318696916225, 'num_leaves': 33, 'tree_learner': 'serial'}. Best is trial 10 with value: 0.34269793083034406.\u001b[0m\n",
            "\u001b[32m[I 2021-12-12 02:48:49,442]\u001b[0m Trial 69 finished with value: 0.34953670150046434 and parameters: {'learning_rate': 0.6603444354997972, 'num_leaves': 33, 'tree_learner': 'serial'}. Best is trial 10 with value: 0.34269793083034406.\u001b[0m\n"
          ]
        },
        {
          "output_type": "stream",
          "name": "stdout",
          "text": [
            "Training until validation scores don't improve for 50 rounds.\n",
            "Early stopping, best iteration is:\n",
            "[4]\tTrain's rmse: 0.157693\tTest's rmse: 0.349537\n",
            "Training until validation scores don't improve for 50 rounds.\n"
          ]
        },
        {
          "output_type": "stream",
          "name": "stderr",
          "text": [
            "\u001b[32m[I 2021-12-12 02:48:49,712]\u001b[0m Trial 70 finished with value: 0.354436635977974 and parameters: {'learning_rate': 0.5690295767202603, 'num_leaves': 34, 'tree_learner': 'serial'}. Best is trial 10 with value: 0.34269793083034406.\u001b[0m\n"
          ]
        },
        {
          "output_type": "stream",
          "name": "stdout",
          "text": [
            "Early stopping, best iteration is:\n",
            "[7]\tTrain's rmse: 0.150528\tTest's rmse: 0.354437\n",
            "Training until validation scores don't improve for 50 rounds.\n"
          ]
        },
        {
          "output_type": "stream",
          "name": "stderr",
          "text": [
            "\u001b[32m[I 2021-12-12 02:48:49,928]\u001b[0m Trial 71 finished with value: 0.372900409734998 and parameters: {'learning_rate': 0.6521446381833957, 'num_leaves': 32, 'tree_learner': 'serial'}. Best is trial 10 with value: 0.34269793083034406.\u001b[0m\n"
          ]
        },
        {
          "output_type": "stream",
          "name": "stdout",
          "text": [
            "Early stopping, best iteration is:\n",
            "[4]\tTrain's rmse: 0.159278\tTest's rmse: 0.3729\n",
            "Training until validation scores don't improve for 50 rounds.\n",
            "Early stopping, best iteration is:\n",
            "[8]\tTrain's rmse: 0.143425\tTest's rmse: 0.368828\n"
          ]
        },
        {
          "output_type": "stream",
          "name": "stderr",
          "text": [
            "\u001b[32m[I 2021-12-12 02:48:50,136]\u001b[0m Trial 72 finished with value: 0.3688276270575254 and parameters: {'learning_rate': 0.6104436255094065, 'num_leaves': 29, 'tree_learner': 'serial'}. Best is trial 10 with value: 0.34269793083034406.\u001b[0m\n",
            "\u001b[32m[I 2021-12-12 02:48:50,321]\u001b[0m Trial 73 finished with value: 0.349673351392847 and parameters: {'learning_rate': 0.6612612777266712, 'num_leaves': 31, 'tree_learner': 'serial'}. Best is trial 10 with value: 0.34269793083034406.\u001b[0m\n"
          ]
        },
        {
          "output_type": "stream",
          "name": "stdout",
          "text": [
            "Training until validation scores don't improve for 50 rounds.\n",
            "Early stopping, best iteration is:\n",
            "[4]\tTrain's rmse: 0.157715\tTest's rmse: 0.349673\n",
            "Training until validation scores don't improve for 50 rounds.\n"
          ]
        },
        {
          "output_type": "stream",
          "name": "stderr",
          "text": [
            "\u001b[32m[I 2021-12-12 02:48:50,531]\u001b[0m Trial 74 finished with value: 0.34431484880256447 and parameters: {'learning_rate': 0.6980408283147393, 'num_leaves': 33, 'tree_learner': 'serial'}. Best is trial 10 with value: 0.34269793083034406.\u001b[0m\n"
          ]
        },
        {
          "output_type": "stream",
          "name": "stdout",
          "text": [
            "Early stopping, best iteration is:\n",
            "[5]\tTrain's rmse: 0.15006\tTest's rmse: 0.344315\n",
            "Training until validation scores don't improve for 50 rounds.\n"
          ]
        },
        {
          "output_type": "stream",
          "name": "stderr",
          "text": [
            "\u001b[32m[I 2021-12-12 02:48:50,762]\u001b[0m Trial 75 finished with value: 0.34436014542860355 and parameters: {'learning_rate': 0.6993890304209084, 'num_leaves': 33, 'tree_learner': 'serial'}. Best is trial 10 with value: 0.34269793083034406.\u001b[0m\n"
          ]
        },
        {
          "output_type": "stream",
          "name": "stdout",
          "text": [
            "Early stopping, best iteration is:\n",
            "[5]\tTrain's rmse: 0.149988\tTest's rmse: 0.34436\n",
            "Training until validation scores don't improve for 50 rounds.\n",
            "Early stopping, best iteration is:\n",
            "[5]\tTrain's rmse: 0.147679\tTest's rmse: 0.342564\n"
          ]
        },
        {
          "output_type": "stream",
          "name": "stderr",
          "text": [
            "\u001b[32m[I 2021-12-12 02:48:50,956]\u001b[0m Trial 76 finished with value: 0.3425635734719858 and parameters: {'learning_rate': 0.7165735491210624, 'num_leaves': 30, 'tree_learner': 'serial'}. Best is trial 76 with value: 0.3425635734719858.\u001b[0m\n",
            "\u001b[32m[I 2021-12-12 02:48:51,158]\u001b[0m Trial 77 finished with value: 0.371392672856664 and parameters: {'learning_rate': 0.7259083514972743, 'num_leaves': 30, 'tree_learner': 'serial'}. Best is trial 76 with value: 0.3425635734719858.\u001b[0m\n"
          ]
        },
        {
          "output_type": "stream",
          "name": "stdout",
          "text": [
            "Training until validation scores don't improve for 50 rounds.\n",
            "Early stopping, best iteration is:\n",
            "[3]\tTrain's rmse: 0.163393\tTest's rmse: 0.371393\n",
            "Training until validation scores don't improve for 50 rounds.\n"
          ]
        },
        {
          "output_type": "stream",
          "name": "stderr",
          "text": [
            "\u001b[32m[I 2021-12-12 02:48:51,458]\u001b[0m Trial 78 finished with value: 0.3633740038787005 and parameters: {'learning_rate': 0.7007161028512259, 'num_leaves': 23, 'tree_learner': 'serial'}. Best is trial 76 with value: 0.3425635734719858.\u001b[0m\n"
          ]
        },
        {
          "output_type": "stream",
          "name": "stdout",
          "text": [
            "Did not meet early stopping. Best iteration is:\n",
            "[100]\tTrain's rmse: 0.0625556\tTest's rmse: 0.363374\n",
            "Training until validation scores don't improve for 50 rounds.\n"
          ]
        },
        {
          "output_type": "stream",
          "name": "stderr",
          "text": [
            "\u001b[32m[I 2021-12-12 02:48:51,674]\u001b[0m Trial 79 finished with value: 0.3619255308747855 and parameters: {'learning_rate': 0.5894645953811688, 'num_leaves': 28, 'tree_learner': 'serial'}. Best is trial 76 with value: 0.3425635734719858.\u001b[0m\n",
            "\u001b[32m[I 2021-12-12 02:48:51,863]\u001b[0m Trial 80 finished with value: 0.38782459194587804 and parameters: {'learning_rate': 0.6343024610530986, 'num_leaves': 26, 'tree_learner': 'voting'}. Best is trial 76 with value: 0.3425635734719858.\u001b[0m\n"
          ]
        },
        {
          "output_type": "stream",
          "name": "stdout",
          "text": [
            "Early stopping, best iteration is:\n",
            "[6]\tTrain's rmse: 0.152505\tTest's rmse: 0.361926\n",
            "Training until validation scores don't improve for 50 rounds.\n",
            "Early stopping, best iteration is:\n",
            "[6]\tTrain's rmse: 0.148665\tTest's rmse: 0.387825\n"
          ]
        },
        {
          "output_type": "stream",
          "name": "stderr",
          "text": [
            "\u001b[32m[I 2021-12-12 02:48:52,074]\u001b[0m Trial 81 finished with value: 0.3754668235437849 and parameters: {'learning_rate': 0.6918619807567167, 'num_leaves': 34, 'tree_learner': 'serial'}. Best is trial 76 with value: 0.3425635734719858.\u001b[0m\n"
          ]
        },
        {
          "output_type": "stream",
          "name": "stdout",
          "text": [
            "Training until validation scores don't improve for 50 rounds.\n",
            "Early stopping, best iteration is:\n",
            "[3]\tTrain's rmse: 0.16416\tTest's rmse: 0.375467\n"
          ]
        },
        {
          "output_type": "stream",
          "name": "stderr",
          "text": [
            "\u001b[32m[I 2021-12-12 02:48:52,298]\u001b[0m Trial 82 finished with value: 0.35989383742088626 and parameters: {'learning_rate': 0.7137194108239081, 'num_leaves': 36, 'tree_learner': 'serial'}. Best is trial 76 with value: 0.3425635734719858.\u001b[0m\n"
          ]
        },
        {
          "output_type": "stream",
          "name": "stdout",
          "text": [
            "Training until validation scores don't improve for 50 rounds.\n",
            "Early stopping, best iteration is:\n",
            "[3]\tTrain's rmse: 0.163039\tTest's rmse: 0.359894\n"
          ]
        },
        {
          "output_type": "stream",
          "name": "stderr",
          "text": [
            "\u001b[32m[I 2021-12-12 02:48:52,495]\u001b[0m Trial 83 finished with value: 0.3713603750977193 and parameters: {'learning_rate': 0.7391598212533973, 'num_leaves': 30, 'tree_learner': 'serial'}. Best is trial 76 with value: 0.3425635734719858.\u001b[0m\n"
          ]
        },
        {
          "output_type": "stream",
          "name": "stdout",
          "text": [
            "Training until validation scores don't improve for 50 rounds.\n",
            "Early stopping, best iteration is:\n",
            "[3]\tTrain's rmse: 0.162588\tTest's rmse: 0.37136\n",
            "Training until validation scores don't improve for 50 rounds.\n"
          ]
        },
        {
          "output_type": "stream",
          "name": "stderr",
          "text": [
            "\u001b[32m[I 2021-12-12 02:48:52,735]\u001b[0m Trial 84 finished with value: 0.3759451314694493 and parameters: {'learning_rate': 0.684584266229827, 'num_leaves': 34, 'tree_learner': 'serial'}. Best is trial 76 with value: 0.3425635734719858.\u001b[0m\n"
          ]
        },
        {
          "output_type": "stream",
          "name": "stdout",
          "text": [
            "Early stopping, best iteration is:\n",
            "[3]\tTrain's rmse: 0.164709\tTest's rmse: 0.375945\n",
            "Training until validation scores don't improve for 50 rounds.\n"
          ]
        },
        {
          "output_type": "stream",
          "name": "stderr",
          "text": [
            "\u001b[32m[I 2021-12-12 02:48:52,960]\u001b[0m Trial 85 finished with value: 0.3670171515147837 and parameters: {'learning_rate': 0.48690675835971364, 'num_leaves': 33, 'tree_learner': 'voting'}. Best is trial 76 with value: 0.3425635734719858.\u001b[0m\n"
          ]
        },
        {
          "output_type": "stream",
          "name": "stdout",
          "text": [
            "Early stopping, best iteration is:\n",
            "[5]\tTrain's rmse: 0.163071\tTest's rmse: 0.367017\n",
            "Training until validation scores don't improve for 50 rounds.\n",
            "Early stopping, best iteration is:\n",
            "[6]\tTrain's rmse: 0.150752\tTest's rmse: 0.363641\n"
          ]
        },
        {
          "output_type": "stream",
          "name": "stderr",
          "text": [
            "\u001b[32m[I 2021-12-12 02:48:53,153]\u001b[0m Trial 86 finished with value: 0.3636410083263841 and parameters: {'learning_rate': 0.6053641860019372, 'num_leaves': 28, 'tree_learner': 'serial'}. Best is trial 76 with value: 0.3425635734719858.\u001b[0m\n",
            "\u001b[32m[I 2021-12-12 02:48:53,363]\u001b[0m Trial 87 finished with value: 0.3536688970604846 and parameters: {'learning_rate': 0.5485605223878314, 'num_leaves': 31, 'tree_learner': 'voting'}. Best is trial 76 with value: 0.3425635734719858.\u001b[0m\n"
          ]
        },
        {
          "output_type": "stream",
          "name": "stdout",
          "text": [
            "Training until validation scores don't improve for 50 rounds.\n",
            "Early stopping, best iteration is:\n",
            "[7]\tTrain's rmse: 0.150613\tTest's rmse: 0.353669\n"
          ]
        },
        {
          "output_type": "stream",
          "name": "stderr",
          "text": [
            "\u001b[32m[I 2021-12-12 02:48:53,585]\u001b[0m Trial 88 finished with value: 0.3651096617430228 and parameters: {'learning_rate': 0.6355176147731578, 'num_leaves': 35, 'tree_learner': 'serial'}. Best is trial 76 with value: 0.3425635734719858.\u001b[0m\n"
          ]
        },
        {
          "output_type": "stream",
          "name": "stdout",
          "text": [
            "Training until validation scores don't improve for 50 rounds.\n",
            "Early stopping, best iteration is:\n",
            "[6]\tTrain's rmse: 0.150807\tTest's rmse: 0.36511\n"
          ]
        },
        {
          "output_type": "stream",
          "name": "stderr",
          "text": [
            "\u001b[32m[I 2021-12-12 02:48:53,791]\u001b[0m Trial 89 finished with value: 0.34944057258358246 and parameters: {'learning_rate': 0.7395509683730354, 'num_leaves': 26, 'tree_learner': 'voting'}. Best is trial 76 with value: 0.3425635734719858.\u001b[0m\n"
          ]
        },
        {
          "output_type": "stream",
          "name": "stdout",
          "text": [
            "Training until validation scores don't improve for 50 rounds.\n",
            "Early stopping, best iteration is:\n",
            "[5]\tTrain's rmse: 0.153743\tTest's rmse: 0.349441\n",
            "Training until validation scores don't improve for 50 rounds.\n"
          ]
        },
        {
          "output_type": "stream",
          "name": "stderr",
          "text": [
            "\u001b[32m[I 2021-12-12 02:48:54,001]\u001b[0m Trial 90 finished with value: 0.3816779474686216 and parameters: {'learning_rate': 0.22036424689780665, 'num_leaves': 24, 'tree_learner': 'voting'}. Best is trial 76 with value: 0.3425635734719858.\u001b[0m\n",
            "\u001b[32m[I 2021-12-12 02:48:54,169]\u001b[0m Trial 91 finished with value: 0.3526747370518469 and parameters: {'learning_rate': 0.7340339328313205, 'num_leaves': 25, 'tree_learner': 'voting'}. Best is trial 76 with value: 0.3425635734719858.\u001b[0m\n"
          ]
        },
        {
          "output_type": "stream",
          "name": "stdout",
          "text": [
            "Early stopping, best iteration is:\n",
            "[15]\tTrain's rmse: 0.155255\tTest's rmse: 0.381678\n",
            "Training until validation scores don't improve for 50 rounds.\n",
            "Early stopping, best iteration is:\n",
            "[5]\tTrain's rmse: 0.153855\tTest's rmse: 0.352675\n"
          ]
        },
        {
          "output_type": "stream",
          "name": "stderr",
          "text": [
            "\u001b[32m[I 2021-12-12 02:48:54,377]\u001b[0m Trial 92 finished with value: 0.36695105775654724 and parameters: {'learning_rate': 0.6728802924520829, 'num_leaves': 27, 'tree_learner': 'voting'}. Best is trial 76 with value: 0.3425635734719858.\u001b[0m\n"
          ]
        },
        {
          "output_type": "stream",
          "name": "stdout",
          "text": [
            "Training until validation scores don't improve for 50 rounds.\n",
            "Early stopping, best iteration is:\n",
            "[6]\tTrain's rmse: 0.150493\tTest's rmse: 0.366951\n",
            "Training until validation scores don't improve for 50 rounds.\n"
          ]
        },
        {
          "output_type": "stream",
          "name": "stderr",
          "text": [
            "\u001b[32m[I 2021-12-12 02:48:54,586]\u001b[0m Trial 93 finished with value: 0.3418110949554309 and parameters: {'learning_rate': 0.7051826650408346, 'num_leaves': 29, 'tree_learner': 'voting'}. Best is trial 93 with value: 0.3418110949554309.\u001b[0m\n"
          ]
        },
        {
          "output_type": "stream",
          "name": "stdout",
          "text": [
            "Early stopping, best iteration is:\n",
            "[5]\tTrain's rmse: 0.148372\tTest's rmse: 0.341811\n",
            "Training until validation scores don't improve for 50 rounds.\n"
          ]
        },
        {
          "output_type": "stream",
          "name": "stderr",
          "text": [
            "\u001b[32m[I 2021-12-12 02:48:54,815]\u001b[0m Trial 94 finished with value: 0.3754652658809983 and parameters: {'learning_rate': 0.6928366094726072, 'num_leaves': 29, 'tree_learner': 'voting'}. Best is trial 93 with value: 0.3418110949554309.\u001b[0m\n",
            "\u001b[32m[I 2021-12-12 02:48:54,990]\u001b[0m Trial 95 finished with value: 0.3529084599587475 and parameters: {'learning_rate': 0.7462857463456207, 'num_leaves': 22, 'tree_learner': 'voting'}. Best is trial 93 with value: 0.3418110949554309.\u001b[0m\n"
          ]
        },
        {
          "output_type": "stream",
          "name": "stdout",
          "text": [
            "Early stopping, best iteration is:\n",
            "[3]\tTrain's rmse: 0.164229\tTest's rmse: 0.375465\n",
            "Training until validation scores don't improve for 50 rounds.\n",
            "Early stopping, best iteration is:\n",
            "[5]\tTrain's rmse: 0.152938\tTest's rmse: 0.352908\n",
            "Training until validation scores don't improve for 50 rounds.\n"
          ]
        },
        {
          "output_type": "stream",
          "name": "stderr",
          "text": [
            "\u001b[32m[I 2021-12-12 02:48:55,339]\u001b[0m Trial 96 finished with value: 0.35518166566391257 and parameters: {'learning_rate': 0.7205366939115455, 'num_leaves': 26, 'tree_learner': 'voting'}. Best is trial 93 with value: 0.3418110949554309.\u001b[0m\n"
          ]
        },
        {
          "output_type": "stream",
          "name": "stdout",
          "text": [
            "Did not meet early stopping. Best iteration is:\n",
            "[100]\tTrain's rmse: 0.0578939\tTest's rmse: 0.355182\n",
            "Training until validation scores don't improve for 50 rounds.\n"
          ]
        },
        {
          "output_type": "stream",
          "name": "stderr",
          "text": [
            "\u001b[32m[I 2021-12-12 02:48:55,562]\u001b[0m Trial 97 finished with value: 0.3524309074522939 and parameters: {'learning_rate': 0.7980743826780576, 'num_leaves': 36, 'tree_learner': 'voting'}. Best is trial 93 with value: 0.3418110949554309.\u001b[0m\n"
          ]
        },
        {
          "output_type": "stream",
          "name": "stdout",
          "text": [
            "Early stopping, best iteration is:\n",
            "[5]\tTrain's rmse: 0.147978\tTest's rmse: 0.352431\n",
            "Training until validation scores don't improve for 50 rounds.\n"
          ]
        },
        {
          "output_type": "stream",
          "name": "stderr",
          "text": [
            "\u001b[32m[I 2021-12-12 02:48:55,800]\u001b[0m Trial 98 finished with value: 0.34237370029540787 and parameters: {'learning_rate': 0.7058575930473152, 'num_leaves': 30, 'tree_learner': 'voting'}. Best is trial 93 with value: 0.3418110949554309.\u001b[0m\n"
          ]
        },
        {
          "output_type": "stream",
          "name": "stdout",
          "text": [
            "Early stopping, best iteration is:\n",
            "[5]\tTrain's rmse: 0.147966\tTest's rmse: 0.342374\n",
            "Training until validation scores don't improve for 50 rounds.\n"
          ]
        },
        {
          "output_type": "stream",
          "name": "stderr",
          "text": [
            "\u001b[32m[I 2021-12-12 02:48:56,022]\u001b[0m Trial 99 finished with value: 0.341706009443522 and parameters: {'learning_rate': 0.7027358562136878, 'num_leaves': 30, 'tree_learner': 'voting'}. Best is trial 99 with value: 0.341706009443522.\u001b[0m\n"
          ]
        },
        {
          "output_type": "stream",
          "name": "stdout",
          "text": [
            "Early stopping, best iteration is:\n",
            "[5]\tTrain's rmse: 0.148439\tTest's rmse: 0.341706\n",
            "{'learning_rate': 0.7027358562136878, 'num_leaves': 30, 'tree_learner': 'voting'}\n",
            "{'learning_rate': 0.7027358562136878, 'num_leaves': 30, 'tree_learner': 'voting', 'objective': 'regression', 'metric': 'rmse', 'task': 'train', 'seed': 42}\n",
            "Training until validation scores don't improve for 50 rounds.\n",
            "Early stopping, best iteration is:\n",
            "[5]\tTrain's rmse: 0.148439\tTest's rmse: 0.341706\n"
          ]
        },
        {
          "output_type": "display_data",
          "data": {
            "image/png": "[encoded data removed]",
            "text/plain": [
              "<Figure size 432x288 with 1 Axes>"
            ]
          },
          "metadata": {
            "needs_background": "light"
          }
        },
        {
          "output_type": "stream",
          "name": "stdout",
          "text": [
            "RMSE: [0.31119078793952454, 0.10406013281424457, 0.1094769892109066, 0.019302634218305696, 0.341706009443522]\n",
            "RMSE: 0.17714731072530068\n"
          ]
        }
      ]
    },
    {
      "cell_type": "code",
      "metadata": {
        "id": "5kNarUXOe2k7",
        "colab": {
          "base_uri": "https://localhost:8080/"
        },
        "outputId": "9f1d7099-c1ce-45b2-98fe-371ab6d6676d"
      },
      "source": [
        "print(\"RMSE:\", round(np.mean(cv_result), 3))\n",
        "print(\"Optuna によるハイパラ調整 1 RMSE:\", round(np.mean(cv_result_opt), 3))\n",
        "print(\"Optuna によるハイパラ調整 2 RMSE:\", round(np.mean(cv_result_opt2), 3))"
      ],
      "execution_count": null,
      "outputs": [
        {
          "output_type": "stream",
          "name": "stdout",
          "text": [
            "RMSE: 0.199\n",
            "Optuna によるハイパラ調整 1 RMSE: 0.182\n",
            "Optuna によるハイパラ調整 2 RMSE: 0.177\n"
          ]
        }
      ]
    },
    {
      "cell_type": "code",
      "source": [
        ""
      ],
      "metadata": {
        "id": "24iOMAJyNG_y"
      },
      "execution_count": null,
      "outputs": []
    }
  ]
}