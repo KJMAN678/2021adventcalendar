{
  "nbformat": 4,
  "nbformat_minor": 0,
  "metadata": {
    "colab": {
      "name": "13_quantization.ipynb",
      "provenance": [],
      "collapsed_sections": []
    },
    "kernelspec": {
      "name": "python3",
      "display_name": "Python 3"
    },
    "language_info": {
      "name": "python"
    }
  },
  "cells": [
    {
      "cell_type": "markdown",
      "metadata": {
        "id": "RA_zd5BvsXyk"
      },
      "source": [
        "## Google Driveのマウント"
      ]
    },
    {
      "cell_type": "code",
      "metadata": {
        "colab": {
          "base_uri": "https://localhost:8080/"
        },
        "id": "ARmR6Kdbsayr",
        "outputId": "6e661f93-5432-4b43-d2ca-4c0a37f5d380"
      },
      "source": [
        "from google.colab import drive\n",
        "drive.mount('/content/drive')"
      ],
      "execution_count": null,
      "outputs": [
        {
          "output_type": "stream",
          "name": "stdout",
          "text": [
            "Drive already mounted at /content/drive; to attempt to forcibly remount, call drive.mount(\"/content/drive\", force_remount=True).\n"
          ]
        }
      ]
    },
    {
      "cell_type": "markdown",
      "metadata": {
        "id": "TCEUaFVvsc6a"
      },
      "source": [
        "## データセットの準備"
      ]
    },
    {
      "cell_type": "code",
      "metadata": {
        "id": "yFYRlGskoctf",
        "colab": {
          "base_uri": "https://localhost:8080/"
        },
        "outputId": "29d77245-fb44-4cf8-a7d3-40ddfd1d0152"
      },
      "source": [
        "# kaggle ライブラリのインストール\n",
        "!pip install kaggle\n",
        "\n",
        "# 一時フォルダに .kaggleフォルダを作成\n",
        "!mkdir ~/.kaggle\n",
        "\n",
        "# MyDrive の kaggle.json を一時フォルダ内の .kaggleフォルダにコピー\n",
        "!cp /content/drive/MyDrive/kaggle/kaggle.json ~/.kaggle/\n",
        "\n",
        "# アクセス権限の設定\n",
        "!chmod 600 ~/.kaggle/kaggle.json\n",
        "\n",
        "!mkdir ~/.kaggle\n",
        "\n",
        "# zipファイルのダウンロード\n",
        "!kaggle datasets download -d ashaheedq/video-games-sales-2019 -p /content/drive/MyDrive/kaggle\n",
        "\n",
        "# 解凍\n",
        "!unzip /content/drive/MyDrive/kaggle/video-games-sales-2019.zip -d /content/drive/MyDrive/kaggle\n",
        "\n",
        "!rm /content/drive/MyDrive/kaggle/video-games-sales-2019.zip"
      ],
      "execution_count": null,
      "outputs": [
        {
          "output_type": "stream",
          "name": "stdout",
          "text": [
            "Requirement already satisfied: kaggle in /usr/local/lib/python3.7/dist-packages (1.5.12)\n",
            "Requirement already satisfied: python-dateutil in /usr/local/lib/python3.7/dist-packages (from kaggle) (2.8.2)\n",
            "Requirement already satisfied: tqdm in /usr/local/lib/python3.7/dist-packages (from kaggle) (4.62.3)\n",
            "Requirement already satisfied: certifi in /usr/local/lib/python3.7/dist-packages (from kaggle) (2021.10.8)\n",
            "Requirement already satisfied: six>=1.10 in /usr/local/lib/python3.7/dist-packages (from kaggle) (1.15.0)\n",
            "Requirement already satisfied: python-slugify in /usr/local/lib/python3.7/dist-packages (from kaggle) (5.0.2)\n",
            "Requirement already satisfied: urllib3 in /usr/local/lib/python3.7/dist-packages (from kaggle) (1.24.3)\n",
            "Requirement already satisfied: requests in /usr/local/lib/python3.7/dist-packages (from kaggle) (2.23.0)\n",
            "Requirement already satisfied: text-unidecode>=1.3 in /usr/local/lib/python3.7/dist-packages (from python-slugify->kaggle) (1.3)\n",
            "Requirement already satisfied: chardet<4,>=3.0.2 in /usr/local/lib/python3.7/dist-packages (from requests->kaggle) (3.0.4)\n",
            "Requirement already satisfied: idna<3,>=2.5 in /usr/local/lib/python3.7/dist-packages (from requests->kaggle) (2.10)\n",
            "mkdir: cannot create directory ‘/root/.kaggle’: File exists\n",
            "mkdir: cannot create directory ‘/root/.kaggle’: File exists\n",
            "Downloading video-games-sales-2019.zip to /content/drive/MyDrive/kaggle\n",
            "  0% 0.00/3.98M [00:00<?, ?B/s]\n",
            "100% 3.98M/3.98M [00:00<00:00, 64.6MB/s]\n",
            "Archive:  /content/drive/MyDrive/kaggle/video-games-sales-2019.zip\n",
            "replace /content/drive/MyDrive/kaggle/vgsales-12-4-2019-short.csv? [y]es, [n]o, [A]ll, [N]one, [r]ename: None\n"
          ]
        }
      ]
    },
    {
      "cell_type": "code",
      "source": [
        "!pip install category_encoders\n",
        "!pip install optuna\n",
        "!pip install pandas\n",
        "!pip install japanize-matplotlib"
      ],
      "metadata": {
        "colab": {
          "base_uri": "https://localhost:8080/"
        },
        "id": "3Sb07Cipa_W5",
        "outputId": "6c1a0ae2-8464-466a-fb3b-6fe6f88d5529"
      },
      "execution_count": null,
      "outputs": [
        {
          "output_type": "stream",
          "name": "stdout",
          "text": [
            "None\n",
            "Requirement already satisfied: category_encoders in /usr/local/lib/python3.7/dist-packages (2.3.0)\n",
            "Requirement already satisfied: statsmodels>=0.9.0 in /usr/local/lib/python3.7/dist-packages (from category_encoders) (0.10.2)\n",
            "Requirement already satisfied: patsy>=0.5.1 in /usr/local/lib/python3.7/dist-packages (from category_encoders) (0.5.2)\n",
            "Requirement already satisfied: numpy>=1.14.0 in /usr/local/lib/python3.7/dist-packages (from category_encoders) (1.19.5)\n",
            "Requirement already satisfied: pandas>=0.21.1 in /usr/local/lib/python3.7/dist-packages (from category_encoders) (1.1.5)\n",
            "Requirement already satisfied: scipy>=1.0.0 in /usr/local/lib/python3.7/dist-packages (from category_encoders) (1.4.1)\n",
            "Requirement already satisfied: scikit-learn>=0.20.0 in /usr/local/lib/python3.7/dist-packages (from category_encoders) (1.0.1)\n",
            "Requirement already satisfied: pytz>=2017.2 in /usr/local/lib/python3.7/dist-packages (from pandas>=0.21.1->category_encoders) (2018.9)\n",
            "Requirement already satisfied: python-dateutil>=2.7.3 in /usr/local/lib/python3.7/dist-packages (from pandas>=0.21.1->category_encoders) (2.8.2)\n",
            "Requirement already satisfied: six in /usr/local/lib/python3.7/dist-packages (from patsy>=0.5.1->category_encoders) (1.15.0)\n",
            "Requirement already satisfied: threadpoolctl>=2.0.0 in /usr/local/lib/python3.7/dist-packages (from scikit-learn>=0.20.0->category_encoders) (3.0.0)\n",
            "Requirement already satisfied: joblib>=0.11 in /usr/local/lib/python3.7/dist-packages (from scikit-learn>=0.20.0->category_encoders) (1.1.0)\n",
            "Requirement already satisfied: optuna in /usr/local/lib/python3.7/dist-packages (2.10.0)\n",
            "Requirement already satisfied: tqdm in /usr/local/lib/python3.7/dist-packages (from optuna) (4.62.3)\n",
            "Requirement already satisfied: cliff in /usr/local/lib/python3.7/dist-packages (from optuna) (3.10.0)\n",
            "Requirement already satisfied: PyYAML in /usr/local/lib/python3.7/dist-packages (from optuna) (3.13)\n",
            "Requirement already satisfied: colorlog in /usr/local/lib/python3.7/dist-packages (from optuna) (6.6.0)\n",
            "Requirement already satisfied: alembic in /usr/local/lib/python3.7/dist-packages (from optuna) (1.7.5)\n",
            "Requirement already satisfied: cmaes>=0.8.2 in /usr/local/lib/python3.7/dist-packages (from optuna) (0.8.2)\n",
            "Requirement already satisfied: scipy!=1.4.0 in /usr/local/lib/python3.7/dist-packages (from optuna) (1.4.1)\n",
            "Requirement already satisfied: packaging>=20.0 in /usr/local/lib/python3.7/dist-packages (from optuna) (21.3)\n",
            "Requirement already satisfied: numpy in /usr/local/lib/python3.7/dist-packages (from optuna) (1.19.5)\n",
            "Requirement already satisfied: sqlalchemy>=1.1.0 in /usr/local/lib/python3.7/dist-packages (from optuna) (1.4.27)\n",
            "Requirement already satisfied: pyparsing!=3.0.5,>=2.0.2 in /usr/local/lib/python3.7/dist-packages (from packaging>=20.0->optuna) (3.0.6)\n",
            "Requirement already satisfied: importlib-metadata in /usr/local/lib/python3.7/dist-packages (from sqlalchemy>=1.1.0->optuna) (4.8.2)\n",
            "Requirement already satisfied: greenlet!=0.4.17 in /usr/local/lib/python3.7/dist-packages (from sqlalchemy>=1.1.0->optuna) (1.1.2)\n",
            "Requirement already satisfied: importlib-resources in /usr/local/lib/python3.7/dist-packages (from alembic->optuna) (5.4.0)\n",
            "Requirement already satisfied: Mako in /usr/local/lib/python3.7/dist-packages (from alembic->optuna) (1.1.6)\n",
            "Requirement already satisfied: autopage>=0.4.0 in /usr/local/lib/python3.7/dist-packages (from cliff->optuna) (0.4.0)\n",
            "Requirement already satisfied: cmd2>=1.0.0 in /usr/local/lib/python3.7/dist-packages (from cliff->optuna) (2.3.3)\n",
            "Requirement already satisfied: pbr!=2.1.0,>=2.0.0 in /usr/local/lib/python3.7/dist-packages (from cliff->optuna) (5.8.0)\n",
            "Requirement already satisfied: stevedore>=2.0.1 in /usr/local/lib/python3.7/dist-packages (from cliff->optuna) (3.5.0)\n",
            "Requirement already satisfied: PrettyTable>=0.7.2 in /usr/local/lib/python3.7/dist-packages (from cliff->optuna) (2.4.0)\n",
            "Requirement already satisfied: wcwidth>=0.1.7 in /usr/local/lib/python3.7/dist-packages (from cmd2>=1.0.0->cliff->optuna) (0.2.5)\n",
            "Requirement already satisfied: pyperclip>=1.6 in /usr/local/lib/python3.7/dist-packages (from cmd2>=1.0.0->cliff->optuna) (1.8.2)\n",
            "Requirement already satisfied: attrs>=16.3.0 in /usr/local/lib/python3.7/dist-packages (from cmd2>=1.0.0->cliff->optuna) (21.2.0)\n",
            "Requirement already satisfied: typing-extensions in /usr/local/lib/python3.7/dist-packages (from cmd2>=1.0.0->cliff->optuna) (3.10.0.2)\n",
            "Requirement already satisfied: zipp>=0.5 in /usr/local/lib/python3.7/dist-packages (from importlib-metadata->sqlalchemy>=1.1.0->optuna) (3.6.0)\n",
            "Requirement already satisfied: MarkupSafe>=0.9.2 in /usr/local/lib/python3.7/dist-packages (from Mako->alembic->optuna) (2.0.1)\n",
            "Requirement already satisfied: pandas in /usr/local/lib/python3.7/dist-packages (1.1.5)\n",
            "Requirement already satisfied: pytz>=2017.2 in /usr/local/lib/python3.7/dist-packages (from pandas) (2018.9)\n",
            "Requirement already satisfied: python-dateutil>=2.7.3 in /usr/local/lib/python3.7/dist-packages (from pandas) (2.8.2)\n",
            "Requirement already satisfied: numpy>=1.15.4 in /usr/local/lib/python3.7/dist-packages (from pandas) (1.19.5)\n",
            "Requirement already satisfied: six>=1.5 in /usr/local/lib/python3.7/dist-packages (from python-dateutil>=2.7.3->pandas) (1.15.0)\n",
            "Requirement already satisfied: japanize-matplotlib in /usr/local/lib/python3.7/dist-packages (1.1.3)\n",
            "Requirement already satisfied: matplotlib in /usr/local/lib/python3.7/dist-packages (from japanize-matplotlib) (3.2.2)\n",
            "Requirement already satisfied: cycler>=0.10 in /usr/local/lib/python3.7/dist-packages (from matplotlib->japanize-matplotlib) (0.11.0)\n",
            "Requirement already satisfied: pyparsing!=2.0.4,!=2.1.2,!=2.1.6,>=2.0.1 in /usr/local/lib/python3.7/dist-packages (from matplotlib->japanize-matplotlib) (3.0.6)\n",
            "Requirement already satisfied: kiwisolver>=1.0.1 in /usr/local/lib/python3.7/dist-packages (from matplotlib->japanize-matplotlib) (1.3.2)\n",
            "Requirement already satisfied: numpy>=1.11 in /usr/local/lib/python3.7/dist-packages (from matplotlib->japanize-matplotlib) (1.19.5)\n",
            "Requirement already satisfied: python-dateutil>=2.1 in /usr/local/lib/python3.7/dist-packages (from matplotlib->japanize-matplotlib) (2.8.2)\n",
            "Requirement already satisfied: six>=1.5 in /usr/local/lib/python3.7/dist-packages (from python-dateutil>=2.1->matplotlib->japanize-matplotlib) (1.15.0)\n"
          ]
        }
      ]
    },
    {
      "cell_type": "markdown",
      "metadata": {
        "id": "PBqKPKFtsiKi"
      },
      "source": [
        "## データの読込"
      ]
    },
    {
      "cell_type": "code",
      "metadata": {
        "colab": {
          "base_uri": "https://localhost:8080/",
          "height": 250
        },
        "id": "TSY5GPLirTwt",
        "outputId": "44de2ab8-670d-47df-e738-57427e79a397"
      },
      "source": [
        "import pandas as pd\n",
        "df = pd.read_csv(\"/content/drive/MyDrive/kaggle/vgsales-12-4-2019.csv\")\n",
        "df.head(3)"
      ],
      "execution_count": null,
      "outputs": [
        {
          "output_type": "execute_result",
          "data": {
            "text/html": [
              "<div>\n",
              "<style scoped>\n",
              "    .dataframe tbody tr th:only-of-type {\n",
              "        vertical-align: middle;\n",
              "    }\n",
              "\n",
              "    .dataframe tbody tr th {\n",
              "        vertical-align: top;\n",
              "    }\n",
              "\n",
              "    .dataframe thead th {\n",
              "        text-align: right;\n",
              "    }\n",
              "</style>\n",
              "<table border=\"1\" class=\"dataframe\">\n",
              "  <thead>\n",
              "    <tr style=\"text-align: right;\">\n",
              "      <th></th>\n",
              "      <th>Rank</th>\n",
              "      <th>Name</th>\n",
              "      <th>basename</th>\n",
              "      <th>Genre</th>\n",
              "      <th>ESRB_Rating</th>\n",
              "      <th>Platform</th>\n",
              "      <th>Publisher</th>\n",
              "      <th>Developer</th>\n",
              "      <th>VGChartz_Score</th>\n",
              "      <th>Critic_Score</th>\n",
              "      <th>User_Score</th>\n",
              "      <th>Total_Shipped</th>\n",
              "      <th>Global_Sales</th>\n",
              "      <th>NA_Sales</th>\n",
              "      <th>PAL_Sales</th>\n",
              "      <th>JP_Sales</th>\n",
              "      <th>Other_Sales</th>\n",
              "      <th>Year</th>\n",
              "      <th>Last_Update</th>\n",
              "      <th>url</th>\n",
              "      <th>status</th>\n",
              "      <th>Vgchartzscore</th>\n",
              "      <th>img_url</th>\n",
              "    </tr>\n",
              "  </thead>\n",
              "  <tbody>\n",
              "    <tr>\n",
              "      <th>0</th>\n",
              "      <td>1</td>\n",
              "      <td>Wii Sports</td>\n",
              "      <td>wii-sports</td>\n",
              "      <td>Sports</td>\n",
              "      <td>E</td>\n",
              "      <td>Wii</td>\n",
              "      <td>Nintendo</td>\n",
              "      <td>Nintendo EAD</td>\n",
              "      <td>NaN</td>\n",
              "      <td>7.7</td>\n",
              "      <td>NaN</td>\n",
              "      <td>82.86</td>\n",
              "      <td>NaN</td>\n",
              "      <td>NaN</td>\n",
              "      <td>NaN</td>\n",
              "      <td>NaN</td>\n",
              "      <td>NaN</td>\n",
              "      <td>2006.0</td>\n",
              "      <td>NaN</td>\n",
              "      <td>http://www.vgchartz.com/game/2667/wii-sports/?...</td>\n",
              "      <td>1</td>\n",
              "      <td>NaN</td>\n",
              "      <td>/games/boxart/full_2258645AmericaFrontccc.jpg</td>\n",
              "    </tr>\n",
              "    <tr>\n",
              "      <th>1</th>\n",
              "      <td>2</td>\n",
              "      <td>Super Mario Bros.</td>\n",
              "      <td>super-mario-bros</td>\n",
              "      <td>Platform</td>\n",
              "      <td>NaN</td>\n",
              "      <td>NES</td>\n",
              "      <td>Nintendo</td>\n",
              "      <td>Nintendo EAD</td>\n",
              "      <td>NaN</td>\n",
              "      <td>10.0</td>\n",
              "      <td>NaN</td>\n",
              "      <td>40.24</td>\n",
              "      <td>NaN</td>\n",
              "      <td>NaN</td>\n",
              "      <td>NaN</td>\n",
              "      <td>NaN</td>\n",
              "      <td>NaN</td>\n",
              "      <td>1985.0</td>\n",
              "      <td>NaN</td>\n",
              "      <td>http://www.vgchartz.com/game/6455/super-mario-...</td>\n",
              "      <td>1</td>\n",
              "      <td>NaN</td>\n",
              "      <td>/games/boxart/8972270ccc.jpg</td>\n",
              "    </tr>\n",
              "    <tr>\n",
              "      <th>2</th>\n",
              "      <td>3</td>\n",
              "      <td>Mario Kart Wii</td>\n",
              "      <td>mario-kart-wii</td>\n",
              "      <td>Racing</td>\n",
              "      <td>E</td>\n",
              "      <td>Wii</td>\n",
              "      <td>Nintendo</td>\n",
              "      <td>Nintendo EAD</td>\n",
              "      <td>NaN</td>\n",
              "      <td>8.2</td>\n",
              "      <td>9.1</td>\n",
              "      <td>37.14</td>\n",
              "      <td>NaN</td>\n",
              "      <td>NaN</td>\n",
              "      <td>NaN</td>\n",
              "      <td>NaN</td>\n",
              "      <td>NaN</td>\n",
              "      <td>2008.0</td>\n",
              "      <td>11th Apr 18</td>\n",
              "      <td>http://www.vgchartz.com/game/6968/mario-kart-w...</td>\n",
              "      <td>1</td>\n",
              "      <td>8.7</td>\n",
              "      <td>/games/boxart/full_8932480AmericaFrontccc.jpg</td>\n",
              "    </tr>\n",
              "  </tbody>\n",
              "</table>\n",
              "</div>"
            ],
            "text/plain": [
              "   Rank  ...                                        img_url\n",
              "0     1  ...  /games/boxart/full_2258645AmericaFrontccc.jpg\n",
              "1     2  ...                   /games/boxart/8972270ccc.jpg\n",
              "2     3  ...  /games/boxart/full_8932480AmericaFrontccc.jpg\n",
              "\n",
              "[3 rows x 23 columns]"
            ]
          },
          "metadata": {},
          "execution_count": 118
        }
      ]
    },
    {
      "cell_type": "markdown",
      "metadata": {
        "id": "b4Pbmd_1_3B9"
      },
      "source": [
        "## 量子化"
      ]
    },
    {
      "cell_type": "code",
      "metadata": {
        "id": "XMikPXSDsFqS"
      },
      "source": [
        "import os\n",
        "import time\n",
        "import random\n",
        "import pandas as pd\n",
        "import numpy as np\n",
        "import matplotlib.pyplot as plt\n",
        "import japanize_matplotlib\n",
        "from natsort import natsorted \n",
        "\n",
        "import optuna.integration.lightgbm as lgb # Optuna ハイパーパラメーター用\n",
        "import category_encoders as ce\n",
        "from sklearn.model_selection import train_test_split\n",
        "from sklearn.metrics import mean_squared_error\n",
        "from sklearn.preprocessing import StandardScaler\n",
        "from sklearn.model_selection import GroupKFold\n",
        "\n",
        "import warnings\n",
        "warnings.simplefilter('ignore')"
      ],
      "execution_count": null,
      "outputs": []
    },
    {
      "cell_type": "code",
      "metadata": {
        "id": "7ydx8-00_8qJ"
      },
      "source": [
        "# シード値の固定\n",
        "SEED = 42\n",
        "\n",
        "random.seed(SEED)\n",
        "os.environ['PYTHONHASHSEED'] = str(SEED)\n",
        "np.random.seed(SEED)"
      ],
      "execution_count": null,
      "outputs": []
    },
    {
      "cell_type": "code",
      "metadata": {
        "id": "CSQ7SDVf_-AS"
      },
      "source": [
        "X_train, X_test, y_train, y_test = train_test_split(\n",
        "                                                    df.dropna(subset=[\"Global_Sales\"]).drop([\"Global_Sales\",  \"NA_Sales\", \"PAL_Sales\", \"JP_Sales\", \"Other_Sales\"], axis=1), \n",
        "                                                    df.dropna(subset=[\"Global_Sales\"])[\"Global_Sales\"],  \n",
        "                                                    test_size=0.3,\n",
        "                                                    shuffle=True, \n",
        "                                                    random_state=SEED\n",
        "                                                    ) "
      ],
      "execution_count": null,
      "outputs": []
    },
    {
      "cell_type": "code",
      "metadata": {
        "id": "HQALzlst__W7"
      },
      "source": [
        "### 欠損値補完\n",
        "X_train_ff = X_train.fillna(method='ffill')\n",
        "X_test_ff = X_test.fillna(method='ffill')\n",
        "\n",
        "#### カテゴリーエンコーディング\n",
        "\n",
        "# ユニーク数に応じてカラムを分割する\n",
        "category_unique_num = X_train_ff.select_dtypes(include=\"object\").nunique()\n",
        "\n",
        "few_kinds_category_columns = category_unique_num[category_unique_num < 10].index\n",
        "many_kinds_category_columns = category_unique_num[category_unique_num >= 10].index\n",
        "\n",
        "\n",
        "# カテゴリーのエンコーディング法則を指定する\n",
        "ordinal_all_cols_mapping_ce = []\n",
        "\n",
        "for i, column in enumerate(many_kinds_category_columns):\n",
        "    ordinal_one_cols_mapping = {}\n",
        "    ordinal_one_cols_mapping_breakdown = {}\n",
        "    for j, category in enumerate(natsorted(X_train_ff[column].unique())):\n",
        "        ordinal_one_cols_mapping_breakdown[category] = j\n",
        "\n",
        "    ordinal_one_cols_mapping[\"col\"] = column\n",
        "    ordinal_one_cols_mapping[\"mapping\"] = ordinal_one_cols_mapping_breakdown\n",
        "    ordinal_all_cols_mapping_ce.append(ordinal_one_cols_mapping)\n",
        "\n",
        "\n",
        "# エンコーディング設定\n",
        "ode = ce.OrdinalEncoder(\n",
        "    mapping = ordinal_all_cols_mapping_ce,\n",
        "    cols = many_kinds_category_columns\n",
        ")\n",
        "\n",
        "ohe = ce.OneHotEncoder(\n",
        "    use_cat_names=True,\n",
        "    cols = few_kinds_category_columns\n",
        ")\n",
        "\n",
        "# 元データをコピー\n",
        "X_train_ce = X_train_ff.copy()\n",
        "X_test_ce = X_test_ff.copy()\n",
        "\n",
        "# OneHotEncoder\n",
        "X_train_ce = ohe.fit_transform(X_train_ce)\n",
        "X_test_ce = ohe.transform(X_test_ce)\n",
        "\n",
        "# OrdinalHotEncoder\n",
        "X_train_ce = ode.fit_transform(X_train_ce)\n",
        "X_test_ce = ode.transform(X_test_ce)\n",
        "\n",
        "# 正規化\n",
        "sc = StandardScaler()\n",
        "X_train_ce = pd.DataFrame(\n",
        "                            sc.fit_transform(X_train_ce),\n",
        "                            columns=X_train_ce.columns\n",
        "                            )\n",
        "\n",
        "X_test_ce = pd.DataFrame(\n",
        "                            sc.transform(X_test_ce),\n",
        "                            columns=X_test_ce.columns\n",
        "                            )"
      ],
      "execution_count": null,
      "outputs": []
    },
    {
      "cell_type": "code",
      "source": [
        "# 目的変数\n",
        "print(y_train.dtypes)\n",
        "\n",
        "# 説明変数\n",
        "display(pd.DataFrame(X_train_ce.dtypes).T)"
      ],
      "metadata": {
        "colab": {
          "base_uri": "https://localhost:8080/",
          "height": 118
        },
        "id": "j_uq2CAsXQJy",
        "outputId": "4c7beef8-c080-4bb8-eeb4-5476cc0a3acd"
      },
      "execution_count": null,
      "outputs": [
        {
          "output_type": "stream",
          "name": "stdout",
          "text": [
            "float64\n"
          ]
        },
        {
          "output_type": "display_data",
          "data": {
            "text/html": [
              "<div>\n",
              "<style scoped>\n",
              "    .dataframe tbody tr th:only-of-type {\n",
              "        vertical-align: middle;\n",
              "    }\n",
              "\n",
              "    .dataframe tbody tr th {\n",
              "        vertical-align: top;\n",
              "    }\n",
              "\n",
              "    .dataframe thead th {\n",
              "        text-align: right;\n",
              "    }\n",
              "</style>\n",
              "<table border=\"1\" class=\"dataframe\">\n",
              "  <thead>\n",
              "    <tr style=\"text-align: right;\">\n",
              "      <th></th>\n",
              "      <th>Rank</th>\n",
              "      <th>Name</th>\n",
              "      <th>basename</th>\n",
              "      <th>Genre</th>\n",
              "      <th>ESRB_Rating_E</th>\n",
              "      <th>ESRB_Rating_T</th>\n",
              "      <th>ESRB_Rating_M</th>\n",
              "      <th>ESRB_Rating_E10</th>\n",
              "      <th>ESRB_Rating_EC</th>\n",
              "      <th>ESRB_Rating_RP</th>\n",
              "      <th>Platform</th>\n",
              "      <th>Publisher</th>\n",
              "      <th>Developer</th>\n",
              "      <th>VGChartz_Score</th>\n",
              "      <th>Critic_Score</th>\n",
              "      <th>User_Score</th>\n",
              "      <th>Total_Shipped</th>\n",
              "      <th>Year</th>\n",
              "      <th>Last_Update</th>\n",
              "      <th>url</th>\n",
              "      <th>status</th>\n",
              "      <th>Vgchartzscore</th>\n",
              "      <th>img_url</th>\n",
              "    </tr>\n",
              "  </thead>\n",
              "  <tbody>\n",
              "    <tr>\n",
              "      <th>0</th>\n",
              "      <td>float64</td>\n",
              "      <td>float64</td>\n",
              "      <td>float64</td>\n",
              "      <td>float64</td>\n",
              "      <td>float64</td>\n",
              "      <td>float64</td>\n",
              "      <td>float64</td>\n",
              "      <td>float64</td>\n",
              "      <td>float64</td>\n",
              "      <td>float64</td>\n",
              "      <td>float64</td>\n",
              "      <td>float64</td>\n",
              "      <td>float64</td>\n",
              "      <td>float64</td>\n",
              "      <td>float64</td>\n",
              "      <td>float64</td>\n",
              "      <td>float64</td>\n",
              "      <td>float64</td>\n",
              "      <td>float64</td>\n",
              "      <td>float64</td>\n",
              "      <td>float64</td>\n",
              "      <td>float64</td>\n",
              "      <td>float64</td>\n",
              "    </tr>\n",
              "  </tbody>\n",
              "</table>\n",
              "</div>"
            ],
            "text/plain": [
              "      Rank     Name basename    Genre  ...      url   status Vgchartzscore  img_url\n",
              "0  float64  float64  float64  float64  ...  float64  float64       float64  float64\n",
              "\n",
              "[1 rows x 23 columns]"
            ]
          },
          "metadata": {}
        }
      ]
    },
    {
      "cell_type": "code",
      "metadata": {
        "colab": {
          "base_uri": "https://localhost:8080/",
          "height": 1000
        },
        "id": "UZNWON_eDFyE",
        "outputId": "fc8502d2-0d5f-417e-8e70-9f804c63ba79"
      },
      "source": [
        "# 経過時間の測定\n",
        "start = time.time()\n",
        "\n",
        "y_train = y_train.reset_index(drop=True)\n",
        "\n",
        "# 学習・推論\n",
        "gkf = GroupKFold(n_splits=5)\n",
        "\n",
        "groups = X_train_ce[\"Genre\"]\n",
        "\n",
        "params = {\n",
        "          'task': 'train',              # タスクを訓練に設定\n",
        "          'boosting_type': 'gbdt',      # GBDTを指定\n",
        "          'objective': 'regression',    # 回帰を指定\n",
        "          'metric': 'rmse',             # 回帰の損失（誤差）\n",
        "          'learning_rate': 0.1,         # 学習率\n",
        "          'deterministic':True,         # 再現性確保用のパラメータ\n",
        "          'force_row_wise':True,        # 再現性確保用のパラメータ\n",
        "          'seed': SEED                  # シード値\n",
        "          }\n",
        "\n",
        "best_params, history = {}, []\n",
        "\n",
        "cv_result = []\n",
        "\n",
        "for fold, (train_index, test_index) in enumerate(gkf.split(X_train_ce, y_train, groups)):\n",
        "    X_train_gkf, X_test_gkf = X_train_ce.iloc[train_index], X_train_ce.iloc[test_index]\n",
        "    y_train_gkf, y_test_gkf = y_train.iloc[train_index], y_train.iloc[test_index]\n",
        "\n",
        "    # 学習、推論\n",
        "    lgb_train = lgb.Dataset(X_train_gkf, y_train_gkf)\n",
        "    lgb_test = lgb.Dataset(X_test_gkf, y_test_gkf, reference=lgb_train)\n",
        "\n",
        "    lgb_results = {}                                    # 学習の履歴を入れる入物\n",
        "\n",
        "    model = lgb.LightGBMTuner(\n",
        "                    params,                           # ハイパーパラメータをセット\n",
        "                    train_set = lgb_train,            # 訓練データを訓練用にセット\n",
        "                    valid_sets=[lgb_train, lgb_test], # 訓練データとテストデータをセット\n",
        "                    valid_names=['Train', 'Test'],    # データセットの名前をそれぞれ設定\n",
        "                    num_boost_round=100,              # 計算回数\n",
        "                    early_stopping_rounds=50,         # アーリーストッピング設定\n",
        "                    evals_result=lgb_results,\n",
        "                    show_progress_bar = False,        # プログレスバーの非表示\n",
        "                    verbose_eval=-1,                  # ログを最後の1つだけ表示\n",
        "                    optuna_seed=SEED,\n",
        "                    )\n",
        "\n",
        "    # 訓練の実施\n",
        "    model.run()\n",
        "    \n",
        "    best_params = model.best_params\n",
        "    best_model = model.get_best_booster()\n",
        "\n",
        "   # 損失推移を表示\n",
        "    loss_train = lgb_results['Train']['rmse']\n",
        "    loss_test = lgb_results['Test']['rmse']   \n",
        "    \n",
        "    fig = plt.figure()\n",
        "    \n",
        "    plt.xlabel('Iteration')\n",
        "    plt.ylabel('logloss')\n",
        "\n",
        "    plt.title(f\"fold:{fold}\")\n",
        "    plt.plot(loss_train, label='train loss')\n",
        "    plt.plot(loss_test, label='test loss')\n",
        "    \n",
        "    plt.legend()\n",
        "    plt.show()\n",
        "\n",
        "    # 推論\n",
        "    y_pred = best_model.predict(X_test_gkf)\n",
        "\n",
        "    # 評価\n",
        "    rmse = mean_squared_error(y_test_gkf, y_pred, squared=False)\n",
        "    cv_result.append(rmse)\n",
        "\n",
        "print(\"RMSE:\", cv_result)\n",
        "print(\"RMSE:\", np.mean(cv_result))\n",
        "\n",
        "# 経過時間の測定\n",
        "elasped_time = round((time.time() - start), 1)\n",
        "\n",
        "print(f\"elapsed_time:{elasped_time}[sec]\")"
      ],
      "execution_count": null,
      "outputs": [
        {
          "output_type": "stream",
          "name": "stderr",
          "text": [
            "\u001b[32m[I 2021-12-13 11:55:46,937]\u001b[0m A new study created in memory with name: no-name-04f251e3-301a-435d-8462-cbc4c381f0b1\u001b[0m\n"
          ]
        },
        {
          "output_type": "stream",
          "name": "stdout",
          "text": [
            "Training until validation scores don't improve for 50 rounds.\n"
          ]
        },
        {
          "output_type": "stream",
          "name": "stderr",
          "text": [
            "\u001b[32m[I 2021-12-13 11:55:47,383]\u001b[0m Trial 0 finished with value: 0.34564286351667656 and parameters: {'feature_fraction': 0.8999999999999999}. Best is trial 0 with value: 0.34564286351667656.\u001b[0m\n"
          ]
        },
        {
          "output_type": "stream",
          "name": "stdout",
          "text": [
            "Early stopping, best iteration is:\n",
            "[47]\tTrain's rmse: 0.142844\tTest's rmse: 0.345643\n",
            "Training until validation scores don't improve for 50 rounds.\n"
          ]
        },
        {
          "output_type": "stream",
          "name": "stderr",
          "text": [
            "\u001b[32m[I 2021-12-13 11:55:47,713]\u001b[0m Trial 1 finished with value: 0.3573903807852102 and parameters: {'feature_fraction': 0.4}. Best is trial 0 with value: 0.34564286351667656.\u001b[0m\n"
          ]
        },
        {
          "output_type": "stream",
          "name": "stdout",
          "text": [
            "Did not meet early stopping. Best iteration is:\n",
            "[100]\tTrain's rmse: 0.121108\tTest's rmse: 0.35739\n",
            "Training until validation scores don't improve for 50 rounds.\n"
          ]
        },
        {
          "output_type": "stream",
          "name": "stderr",
          "text": [
            "\u001b[32m[I 2021-12-13 11:55:48,063]\u001b[0m Trial 2 finished with value: 0.35741087866232285 and parameters: {'feature_fraction': 0.5}. Best is trial 0 with value: 0.34564286351667656.\u001b[0m\n"
          ]
        },
        {
          "output_type": "stream",
          "name": "stdout",
          "text": [
            "Did not meet early stopping. Best iteration is:\n",
            "[100]\tTrain's rmse: 0.116552\tTest's rmse: 0.357411\n",
            "Training until validation scores don't improve for 50 rounds.\n"
          ]
        },
        {
          "output_type": "stream",
          "name": "stderr",
          "text": [
            "\u001b[32m[I 2021-12-13 11:55:48,505]\u001b[0m Trial 3 finished with value: 0.3407631315214147 and parameters: {'feature_fraction': 0.8}. Best is trial 3 with value: 0.3407631315214147.\u001b[0m\n"
          ]
        },
        {
          "output_type": "stream",
          "name": "stdout",
          "text": [
            "Did not meet early stopping. Best iteration is:\n",
            "[100]\tTrain's rmse: 0.108445\tTest's rmse: 0.340763\n",
            "Training until validation scores don't improve for 50 rounds.\n"
          ]
        },
        {
          "output_type": "stream",
          "name": "stderr",
          "text": [
            "\u001b[32m[I 2021-12-13 11:55:48,882]\u001b[0m Trial 4 finished with value: 0.3641209844575373 and parameters: {'feature_fraction': 0.6}. Best is trial 3 with value: 0.3407631315214147.\u001b[0m\n"
          ]
        },
        {
          "output_type": "stream",
          "name": "stdout",
          "text": [
            "Did not meet early stopping. Best iteration is:\n",
            "[100]\tTrain's rmse: 0.108089\tTest's rmse: 0.364121\n",
            "Training until validation scores don't improve for 50 rounds.\n"
          ]
        },
        {
          "output_type": "stream",
          "name": "stderr",
          "text": [
            "\u001b[32m[I 2021-12-13 11:55:49,296]\u001b[0m Trial 5 finished with value: 0.35225673206710856 and parameters: {'feature_fraction': 0.7}. Best is trial 3 with value: 0.3407631315214147.\u001b[0m\n"
          ]
        },
        {
          "output_type": "stream",
          "name": "stdout",
          "text": [
            "Did not meet early stopping. Best iteration is:\n",
            "[100]\tTrain's rmse: 0.104324\tTest's rmse: 0.352257\n",
            "Training until validation scores don't improve for 50 rounds.\n"
          ]
        },
        {
          "output_type": "stream",
          "name": "stderr",
          "text": [
            "\u001b[32m[I 2021-12-13 11:55:49,713]\u001b[0m Trial 6 finished with value: 0.34507429978353893 and parameters: {'feature_fraction': 1.0}. Best is trial 3 with value: 0.3407631315214147.\u001b[0m\n"
          ]
        },
        {
          "output_type": "stream",
          "name": "stdout",
          "text": [
            "Early stopping, best iteration is:\n",
            "[46]\tTrain's rmse: 0.145024\tTest's rmse: 0.345074\n",
            "Training until validation scores don't improve for 50 rounds.\n"
          ]
        },
        {
          "output_type": "stream",
          "name": "stderr",
          "text": [
            "\u001b[32m[I 2021-12-13 11:55:50,582]\u001b[0m Trial 7 finished with value: 0.34414085377570125 and parameters: {'num_leaves': 97}. Best is trial 7 with value: 0.34414085377570125.\u001b[0m\n"
          ]
        },
        {
          "output_type": "stream",
          "name": "stdout",
          "text": [
            "Did not meet early stopping. Best iteration is:\n",
            "[100]\tTrain's rmse: 0.110296\tTest's rmse: 0.344141\n",
            "Training until validation scores don't improve for 50 rounds.\n"
          ]
        },
        {
          "output_type": "stream",
          "name": "stderr",
          "text": [
            "\u001b[32m[I 2021-12-13 11:55:52,214]\u001b[0m Trial 8 finished with value: 0.34579164754323516 and parameters: {'num_leaves': 244}. Best is trial 7 with value: 0.34414085377570125.\u001b[0m\n"
          ]
        },
        {
          "output_type": "stream",
          "name": "stdout",
          "text": [
            "Did not meet early stopping. Best iteration is:\n",
            "[100]\tTrain's rmse: 0.114554\tTest's rmse: 0.345792\n",
            "Training until validation scores don't improve for 50 rounds.\n"
          ]
        },
        {
          "output_type": "stream",
          "name": "stderr",
          "text": [
            "\u001b[32m[I 2021-12-13 11:55:53,607]\u001b[0m Trial 9 finished with value: 0.34989928985773805 and parameters: {'num_leaves': 188}. Best is trial 7 with value: 0.34414085377570125.\u001b[0m\n"
          ]
        },
        {
          "output_type": "stream",
          "name": "stdout",
          "text": [
            "Did not meet early stopping. Best iteration is:\n",
            "[100]\tTrain's rmse: 0.11443\tTest's rmse: 0.349899\n",
            "Training until validation scores don't improve for 50 rounds.\n"
          ]
        },
        {
          "output_type": "stream",
          "name": "stderr",
          "text": [
            "\u001b[32m[I 2021-12-13 11:55:54,797]\u001b[0m Trial 10 finished with value: 0.346907204759048 and parameters: {'num_leaves': 154}. Best is trial 7 with value: 0.34414085377570125.\u001b[0m\n"
          ]
        },
        {
          "output_type": "stream",
          "name": "stdout",
          "text": [
            "Did not meet early stopping. Best iteration is:\n",
            "[100]\tTrain's rmse: 0.108195\tTest's rmse: 0.346907\n",
            "Training until validation scores don't improve for 50 rounds.\n"
          ]
        },
        {
          "output_type": "stream",
          "name": "stderr",
          "text": [
            "\u001b[32m[I 2021-12-13 11:55:55,321]\u001b[0m Trial 11 finished with value: 0.34142184387639046 and parameters: {'num_leaves': 41}. Best is trial 11 with value: 0.34142184387639046.\u001b[0m\n"
          ]
        },
        {
          "output_type": "stream",
          "name": "stdout",
          "text": [
            "Did not meet early stopping. Best iteration is:\n",
            "[100]\tTrain's rmse: 0.112876\tTest's rmse: 0.341422\n",
            "Training until validation scores don't improve for 50 rounds.\n"
          ]
        },
        {
          "output_type": "stream",
          "name": "stderr",
          "text": [
            "\u001b[32m[I 2021-12-13 11:55:55,801]\u001b[0m Trial 12 finished with value: 0.34142184387639046 and parameters: {'num_leaves': 41}. Best is trial 11 with value: 0.34142184387639046.\u001b[0m\n"
          ]
        },
        {
          "output_type": "stream",
          "name": "stdout",
          "text": [
            "Did not meet early stopping. Best iteration is:\n",
            "[100]\tTrain's rmse: 0.112876\tTest's rmse: 0.341422\n",
            "Training until validation scores don't improve for 50 rounds.\n"
          ]
        },
        {
          "output_type": "stream",
          "name": "stderr",
          "text": [
            "\u001b[32m[I 2021-12-13 11:55:56,083]\u001b[0m Trial 13 finished with value: 0.34779206444130645 and parameters: {'num_leaves': 16}. Best is trial 11 with value: 0.34142184387639046.\u001b[0m\n"
          ]
        },
        {
          "output_type": "stream",
          "name": "stdout",
          "text": [
            "Did not meet early stopping. Best iteration is:\n",
            "[100]\tTrain's rmse: 0.108638\tTest's rmse: 0.347792\n",
            "Training until validation scores don't improve for 50 rounds.\n"
          ]
        },
        {
          "output_type": "stream",
          "name": "stderr",
          "text": [
            "\u001b[32m[I 2021-12-13 11:55:57,654]\u001b[0m Trial 14 finished with value: 0.3477572572283892 and parameters: {'num_leaves': 222}. Best is trial 11 with value: 0.34142184387639046.\u001b[0m\n"
          ]
        },
        {
          "output_type": "stream",
          "name": "stdout",
          "text": [
            "Did not meet early stopping. Best iteration is:\n",
            "[100]\tTrain's rmse: 0.114578\tTest's rmse: 0.347757\n",
            "Training until validation scores don't improve for 50 rounds.\n"
          ]
        },
        {
          "output_type": "stream",
          "name": "stderr",
          "text": [
            "\u001b[32m[I 2021-12-13 11:55:58,863]\u001b[0m Trial 15 finished with value: 0.347003091936233 and parameters: {'num_leaves': 155}. Best is trial 11 with value: 0.34142184387639046.\u001b[0m\n"
          ]
        },
        {
          "output_type": "stream",
          "name": "stdout",
          "text": [
            "Did not meet early stopping. Best iteration is:\n",
            "[100]\tTrain's rmse: 0.115668\tTest's rmse: 0.347003\n",
            "Training until validation scores don't improve for 50 rounds.\n"
          ]
        },
        {
          "output_type": "stream",
          "name": "stderr",
          "text": [
            "\u001b[32m[I 2021-12-13 11:56:00,208]\u001b[0m Trial 16 finished with value: 0.3476354881204518 and parameters: {'num_leaves': 182}. Best is trial 11 with value: 0.34142184387639046.\u001b[0m\n"
          ]
        },
        {
          "output_type": "stream",
          "name": "stdout",
          "text": [
            "Did not meet early stopping. Best iteration is:\n",
            "[100]\tTrain's rmse: 0.111744\tTest's rmse: 0.347635\n",
            "Training until validation scores don't improve for 50 rounds.\n"
          ]
        },
        {
          "output_type": "stream",
          "name": "stderr",
          "text": [
            "\u001b[32m[I 2021-12-13 11:56:00,879]\u001b[0m Trial 17 finished with value: 0.3473133638940653 and parameters: {'num_leaves': 81}. Best is trial 11 with value: 0.34142184387639046.\u001b[0m\n",
            "\u001b[32m[I 2021-12-13 11:56:01,021]\u001b[0m Trial 18 finished with value: 0.3289474878708628 and parameters: {'num_leaves': 2}. Best is trial 18 with value: 0.3289474878708628.\u001b[0m\n"
          ]
        },
        {
          "output_type": "stream",
          "name": "stdout",
          "text": [
            "Early stopping, best iteration is:\n",
            "[40]\tTrain's rmse: 0.148898\tTest's rmse: 0.347313\n",
            "Training until validation scores don't improve for 50 rounds.\n",
            "Did not meet early stopping. Best iteration is:\n",
            "[100]\tTrain's rmse: 0.183369\tTest's rmse: 0.328947\n"
          ]
        },
        {
          "output_type": "stream",
          "name": "stderr",
          "text": [
            "\u001b[32m[I 2021-12-13 11:56:01,175]\u001b[0m Trial 19 finished with value: 0.3271613480718681 and parameters: {'num_leaves': 3}. Best is trial 19 with value: 0.3271613480718681.\u001b[0m\n"
          ]
        },
        {
          "output_type": "stream",
          "name": "stdout",
          "text": [
            "Training until validation scores don't improve for 50 rounds.\n",
            "Did not meet early stopping. Best iteration is:\n",
            "[100]\tTrain's rmse: 0.174053\tTest's rmse: 0.327161\n",
            "Training until validation scores don't improve for 50 rounds.\n"
          ]
        },
        {
          "output_type": "stream",
          "name": "stderr",
          "text": [
            "\u001b[32m[I 2021-12-13 11:56:01,366]\u001b[0m Trial 20 finished with value: 0.33591711412273156 and parameters: {'num_leaves': 4}. Best is trial 19 with value: 0.3271613480718681.\u001b[0m\n"
          ]
        },
        {
          "output_type": "stream",
          "name": "stdout",
          "text": [
            "Did not meet early stopping. Best iteration is:\n",
            "[100]\tTrain's rmse: 0.154495\tTest's rmse: 0.335917\n",
            "Training until validation scores don't improve for 50 rounds.\n"
          ]
        },
        {
          "output_type": "stream",
          "name": "stderr",
          "text": [
            "\u001b[32m[I 2021-12-13 11:56:02,156]\u001b[0m Trial 21 finished with value: 0.34752448609719816 and parameters: {'num_leaves': 83}. Best is trial 19 with value: 0.3271613480718681.\u001b[0m\n"
          ]
        },
        {
          "output_type": "stream",
          "name": "stdout",
          "text": [
            "Did not meet early stopping. Best iteration is:\n",
            "[100]\tTrain's rmse: 0.111119\tTest's rmse: 0.347524\n",
            "Training until validation scores don't improve for 50 rounds.\n"
          ]
        },
        {
          "output_type": "stream",
          "name": "stderr",
          "text": [
            "\u001b[32m[I 2021-12-13 11:56:02,700]\u001b[0m Trial 22 finished with value: 0.34550276681256864 and parameters: {'num_leaves': 46}. Best is trial 19 with value: 0.3271613480718681.\u001b[0m\n"
          ]
        },
        {
          "output_type": "stream",
          "name": "stdout",
          "text": [
            "Did not meet early stopping. Best iteration is:\n",
            "[100]\tTrain's rmse: 0.110571\tTest's rmse: 0.345503\n",
            "Training until validation scores don't improve for 50 rounds.\n"
          ]
        },
        {
          "output_type": "stream",
          "name": "stderr",
          "text": [
            "\u001b[32m[I 2021-12-13 11:56:03,654]\u001b[0m Trial 23 finished with value: 0.34428567225326173 and parameters: {'num_leaves': 115}. Best is trial 19 with value: 0.3271613480718681.\u001b[0m\n"
          ]
        },
        {
          "output_type": "stream",
          "name": "stdout",
          "text": [
            "Did not meet early stopping. Best iteration is:\n",
            "[100]\tTrain's rmse: 0.112951\tTest's rmse: 0.344286\n",
            "Training until validation scores don't improve for 50 rounds.\n"
          ]
        },
        {
          "output_type": "stream",
          "name": "stderr",
          "text": [
            "\u001b[32m[I 2021-12-13 11:56:04,269]\u001b[0m Trial 24 finished with value: 0.3456811489800421 and parameters: {'num_leaves': 62}. Best is trial 19 with value: 0.3271613480718681.\u001b[0m\n"
          ]
        },
        {
          "output_type": "stream",
          "name": "stdout",
          "text": [
            "Early stopping, best iteration is:\n",
            "[49]\tTrain's rmse: 0.137501\tTest's rmse: 0.345681\n",
            "Training until validation scores don't improve for 50 rounds.\n",
            "Did not meet early stopping. Best iteration is:\n",
            "[100]\tTrain's rmse: 0.12525\tTest's rmse: 0.343035\n"
          ]
        },
        {
          "output_type": "stream",
          "name": "stderr",
          "text": [
            "\u001b[32m[I 2021-12-13 11:56:04,457]\u001b[0m Trial 25 finished with value: 0.3430351570666355 and parameters: {'num_leaves': 6}. Best is trial 19 with value: 0.3271613480718681.\u001b[0m\n"
          ]
        },
        {
          "output_type": "stream",
          "name": "stdout",
          "text": [
            "Training until validation scores don't improve for 50 rounds.\n"
          ]
        },
        {
          "output_type": "stream",
          "name": "stderr",
          "text": [
            "\u001b[32m[I 2021-12-13 11:56:04,909]\u001b[0m Trial 26 finished with value: 0.3384541017873612 and parameters: {'num_leaves': 34}. Best is trial 19 with value: 0.3271613480718681.\u001b[0m\n",
            "\u001b[32m[I 2021-12-13 11:56:05,060]\u001b[0m Trial 27 finished with value: 0.3259463482912093 and parameters: {'bagging_fraction': 0.624724071308792, 'bagging_freq': 7}. Best is trial 27 with value: 0.3259463482912093.\u001b[0m\n"
          ]
        },
        {
          "output_type": "stream",
          "name": "stdout",
          "text": [
            "Did not meet early stopping. Best iteration is:\n",
            "[100]\tTrain's rmse: 0.108582\tTest's rmse: 0.338454\n",
            "Training until validation scores don't improve for 50 rounds.\n",
            "Did not meet early stopping. Best iteration is:\n",
            "[99]\tTrain's rmse: 0.176055\tTest's rmse: 0.325946\n"
          ]
        },
        {
          "output_type": "stream",
          "name": "stderr",
          "text": [
            "\u001b[32m[I 2021-12-13 11:56:05,252]\u001b[0m Trial 28 finished with value: 0.3291565271566157 and parameters: {'bagging_fraction': 0.8391963650875751, 'bagging_freq': 5}. Best is trial 27 with value: 0.3259463482912093.\u001b[0m\n"
          ]
        },
        {
          "output_type": "stream",
          "name": "stdout",
          "text": [
            "Training until validation scores don't improve for 50 rounds.\n",
            "Did not meet early stopping. Best iteration is:\n",
            "[100]\tTrain's rmse: 0.171739\tTest's rmse: 0.329157\n",
            "Training until validation scores don't improve for 50 rounds.\n"
          ]
        },
        {
          "output_type": "stream",
          "name": "stderr",
          "text": [
            "\u001b[32m[I 2021-12-13 11:56:05,415]\u001b[0m Trial 29 finished with value: 0.33459907726218546 and parameters: {'bagging_fraction': 0.49361118426561795, 'bagging_freq': 2}. Best is trial 27 with value: 0.3259463482912093.\u001b[0m\n",
            "\u001b[32m[I 2021-12-13 11:56:05,576]\u001b[0m Trial 30 finished with value: 0.33600256298457104 and parameters: {'bagging_fraction': 0.4348501673009778, 'bagging_freq': 7}. Best is trial 27 with value: 0.3259463482912093.\u001b[0m\n"
          ]
        },
        {
          "output_type": "stream",
          "name": "stdout",
          "text": [
            "Did not meet early stopping. Best iteration is:\n",
            "[100]\tTrain's rmse: 0.172613\tTest's rmse: 0.334599\n",
            "Training until validation scores don't improve for 50 rounds.\n",
            "Did not meet early stopping. Best iteration is:\n",
            "[100]\tTrain's rmse: 0.175347\tTest's rmse: 0.336003\n"
          ]
        },
        {
          "output_type": "stream",
          "name": "stderr",
          "text": [
            "\u001b[32m[I 2021-12-13 11:56:05,738]\u001b[0m Trial 31 finished with value: 0.3301059636166417 and parameters: {'bagging_fraction': 0.7606690070465265, 'bagging_freq': 5}. Best is trial 27 with value: 0.3259463482912093.\u001b[0m\n"
          ]
        },
        {
          "output_type": "stream",
          "name": "stdout",
          "text": [
            "Training until validation scores don't improve for 50 rounds.\n",
            "Did not meet early stopping. Best iteration is:\n",
            "[100]\tTrain's rmse: 0.170861\tTest's rmse: 0.330106\n",
            "Training until validation scores don't improve for 50 rounds.\n"
          ]
        },
        {
          "output_type": "stream",
          "name": "stderr",
          "text": [
            "\u001b[32m[I 2021-12-13 11:56:05,884]\u001b[0m Trial 32 finished with value: 0.33658583655126423 and parameters: {'bagging_fraction': 0.41235069657750206, 'bagging_freq': 7}. Best is trial 27 with value: 0.3259463482912093.\u001b[0m\n",
            "\u001b[32m[I 2021-12-13 11:56:06,071]\u001b[0m Trial 33 finished with value: 0.3295411763625145 and parameters: {'bagging_fraction': 0.8994655844810855, 'bagging_freq': 2}. Best is trial 27 with value: 0.3259463482912093.\u001b[0m\n"
          ]
        },
        {
          "output_type": "stream",
          "name": "stdout",
          "text": [
            "Did not meet early stopping. Best iteration is:\n",
            "[100]\tTrain's rmse: 0.176799\tTest's rmse: 0.336586\n",
            "Training until validation scores don't improve for 50 rounds.\n",
            "Did not meet early stopping. Best iteration is:\n",
            "[100]\tTrain's rmse: 0.168461\tTest's rmse: 0.329541\n"
          ]
        },
        {
          "output_type": "stream",
          "name": "stderr",
          "text": [
            "\u001b[32m[I 2021-12-13 11:56:06,227]\u001b[0m Trial 34 finished with value: 0.3340324822352275 and parameters: {'bagging_fraction': 0.5090949803244422, 'bagging_freq': 2}. Best is trial 27 with value: 0.3259463482912093.\u001b[0m\n"
          ]
        },
        {
          "output_type": "stream",
          "name": "stdout",
          "text": [
            "Training until validation scores don't improve for 50 rounds.\n",
            "Did not meet early stopping. Best iteration is:\n",
            "[100]\tTrain's rmse: 0.170482\tTest's rmse: 0.334032\n",
            "Training until validation scores don't improve for 50 rounds.\n"
          ]
        },
        {
          "output_type": "stream",
          "name": "stderr",
          "text": [
            "\u001b[32m[I 2021-12-13 11:56:06,382]\u001b[0m Trial 35 finished with value: 0.3305849436239472 and parameters: {'bagging_fraction': 0.5825453457760269, 'bagging_freq': 4}. Best is trial 27 with value: 0.3259463482912093.\u001b[0m\n",
            "\u001b[32m[I 2021-12-13 11:56:06,536]\u001b[0m Trial 36 finished with value: 0.33311595080288653 and parameters: {'bagging_fraction': 0.6591670111857015, 'bagging_freq': 3}. Best is trial 27 with value: 0.3259463482912093.\u001b[0m\n"
          ]
        },
        {
          "output_type": "stream",
          "name": "stdout",
          "text": [
            "Did not meet early stopping. Best iteration is:\n",
            "[100]\tTrain's rmse: 0.172987\tTest's rmse: 0.330585\n",
            "Training until validation scores don't improve for 50 rounds.\n",
            "Did not meet early stopping. Best iteration is:\n",
            "[100]\tTrain's rmse: 0.169892\tTest's rmse: 0.333116\n"
          ]
        },
        {
          "output_type": "stream",
          "name": "stderr",
          "text": [
            "\u001b[32m[I 2021-12-13 11:56:06,709]\u001b[0m Trial 37 finished with value: 0.32420412010741195 and parameters: {'feature_fraction': 0.88}. Best is trial 37 with value: 0.32420412010741195.\u001b[0m\n"
          ]
        },
        {
          "output_type": "stream",
          "name": "stdout",
          "text": [
            "Training until validation scores don't improve for 50 rounds.\n",
            "Did not meet early stopping. Best iteration is:\n",
            "[98]\tTrain's rmse: 0.177452\tTest's rmse: 0.324204\n",
            "Training until validation scores don't improve for 50 rounds.\n"
          ]
        },
        {
          "output_type": "stream",
          "name": "stderr",
          "text": [
            "\u001b[32m[I 2021-12-13 11:56:06,866]\u001b[0m Trial 38 finished with value: 0.32561410137120117 and parameters: {'feature_fraction': 0.7200000000000001}. Best is trial 37 with value: 0.32420412010741195.\u001b[0m\n",
            "\u001b[32m[I 2021-12-13 11:56:07,014]\u001b[0m Trial 39 finished with value: 0.3240957760287983 and parameters: {'feature_fraction': 0.7520000000000001}. Best is trial 39 with value: 0.3240957760287983.\u001b[0m\n"
          ]
        },
        {
          "output_type": "stream",
          "name": "stdout",
          "text": [
            "Did not meet early stopping. Best iteration is:\n",
            "[99]\tTrain's rmse: 0.17551\tTest's rmse: 0.325614\n",
            "Training until validation scores don't improve for 50 rounds.\n",
            "Did not meet early stopping. Best iteration is:\n",
            "[99]\tTrain's rmse: 0.174976\tTest's rmse: 0.324096\n"
          ]
        },
        {
          "output_type": "stream",
          "name": "stderr",
          "text": [
            "\u001b[32m[I 2021-12-13 11:56:07,172]\u001b[0m Trial 40 finished with value: 0.3259463482912093 and parameters: {'feature_fraction': 0.8480000000000001}. Best is trial 39 with value: 0.3240957760287983.\u001b[0m\n"
          ]
        },
        {
          "output_type": "stream",
          "name": "stdout",
          "text": [
            "Training until validation scores don't improve for 50 rounds.\n",
            "Did not meet early stopping. Best iteration is:\n",
            "[99]\tTrain's rmse: 0.176055\tTest's rmse: 0.325946\n",
            "Training until validation scores don't improve for 50 rounds.\n"
          ]
        },
        {
          "output_type": "stream",
          "name": "stderr",
          "text": [
            "\u001b[32m[I 2021-12-13 11:56:07,333]\u001b[0m Trial 41 finished with value: 0.3259463482912093 and parameters: {'feature_fraction': 0.8160000000000001}. Best is trial 39 with value: 0.3240957760287983.\u001b[0m\n",
            "\u001b[32m[I 2021-12-13 11:56:07,482]\u001b[0m Trial 42 finished with value: 0.3240957760287983 and parameters: {'feature_fraction': 0.784}. Best is trial 39 with value: 0.3240957760287983.\u001b[0m\n"
          ]
        },
        {
          "output_type": "stream",
          "name": "stdout",
          "text": [
            "Did not meet early stopping. Best iteration is:\n",
            "[99]\tTrain's rmse: 0.176055\tTest's rmse: 0.325946\n",
            "Training until validation scores don't improve for 50 rounds.\n",
            "Did not meet early stopping. Best iteration is:\n",
            "[99]\tTrain's rmse: 0.174976\tTest's rmse: 0.324096\n"
          ]
        },
        {
          "output_type": "stream",
          "name": "stderr",
          "text": [
            "\u001b[32m[I 2021-12-13 11:56:07,659]\u001b[0m Trial 43 finished with value: 0.3241884239920972 and parameters: {'lambda_l1': 2.348881295853308e-05, 'lambda_l2': 3.6010467344475403}. Best is trial 43 with value: 0.3241884239920972.\u001b[0m\n"
          ]
        },
        {
          "output_type": "stream",
          "name": "stdout",
          "text": [
            "Training until validation scores don't improve for 50 rounds.\n",
            "Did not meet early stopping. Best iteration is:\n",
            "[99]\tTrain's rmse: 0.175089\tTest's rmse: 0.324188\n",
            "Training until validation scores don't improve for 50 rounds.\n"
          ]
        },
        {
          "output_type": "stream",
          "name": "stderr",
          "text": [
            "\u001b[32m[I 2021-12-13 11:56:07,812]\u001b[0m Trial 44 finished with value: 0.32502746398255883 and parameters: {'lambda_l1': 0.038720902953704193, 'lambda_l2': 0.0024430162614261413}. Best is trial 43 with value: 0.3241884239920972.\u001b[0m\n",
            "\u001b[32m[I 2021-12-13 11:56:07,964]\u001b[0m Trial 45 finished with value: 0.3240957760860919 and parameters: {'lambda_l1': 2.5361081166471375e-07, 'lambda_l2': 2.5348407664333426e-07}. Best is trial 45 with value: 0.3240957760860919.\u001b[0m\n"
          ]
        },
        {
          "output_type": "stream",
          "name": "stdout",
          "text": [
            "Did not meet early stopping. Best iteration is:\n",
            "[99]\tTrain's rmse: 0.174506\tTest's rmse: 0.325027\n",
            "Training until validation scores don't improve for 50 rounds.\n",
            "Did not meet early stopping. Best iteration is:\n",
            "[99]\tTrain's rmse: 0.174976\tTest's rmse: 0.324096\n"
          ]
        },
        {
          "output_type": "stream",
          "name": "stderr",
          "text": [
            "\u001b[32m[I 2021-12-13 11:56:08,125]\u001b[0m Trial 46 finished with value: 0.32230792495031046 and parameters: {'lambda_l1': 3.3323645788192616e-08, 'lambda_l2': 0.6245760287469893}. Best is trial 46 with value: 0.32230792495031046.\u001b[0m\n"
          ]
        },
        {
          "output_type": "stream",
          "name": "stdout",
          "text": [
            "Training until validation scores don't improve for 50 rounds.\n",
            "Did not meet early stopping. Best iteration is:\n",
            "[99]\tTrain's rmse: 0.173227\tTest's rmse: 0.322308\n",
            "Training until validation scores don't improve for 50 rounds.\n"
          ]
        },
        {
          "output_type": "stream",
          "name": "stderr",
          "text": [
            "\u001b[32m[I 2021-12-13 11:56:08,282]\u001b[0m Trial 47 finished with value: 0.32409746068309847 and parameters: {'lambda_l1': 0.002570603566117598, 'lambda_l2': 0.023585940584142682}. Best is trial 46 with value: 0.32230792495031046.\u001b[0m\n",
            "\u001b[32m[I 2021-12-13 11:56:08,433]\u001b[0m Trial 48 finished with value: 0.32639897697014547 and parameters: {'lambda_l1': 1.5320059381854043e-08, 'lambda_l2': 5.360294728728285}. Best is trial 46 with value: 0.32230792495031046.\u001b[0m\n"
          ]
        },
        {
          "output_type": "stream",
          "name": "stdout",
          "text": [
            "Did not meet early stopping. Best iteration is:\n",
            "[99]\tTrain's rmse: 0.174981\tTest's rmse: 0.324097\n",
            "Training until validation scores don't improve for 50 rounds.\n",
            "Did not meet early stopping. Best iteration is:\n",
            "[99]\tTrain's rmse: 0.176399\tTest's rmse: 0.326399\n"
          ]
        },
        {
          "output_type": "stream",
          "name": "stderr",
          "text": [
            "\u001b[32m[I 2021-12-13 11:56:08,590]\u001b[0m Trial 49 finished with value: 0.3260307057193461 and parameters: {'lambda_l1': 0.31044435499483225, 'lambda_l2': 8.148018307012941e-07}. Best is trial 46 with value: 0.32230792495031046.\u001b[0m\n"
          ]
        },
        {
          "output_type": "stream",
          "name": "stdout",
          "text": [
            "Training until validation scores don't improve for 50 rounds.\n",
            "Did not meet early stopping. Best iteration is:\n",
            "[99]\tTrain's rmse: 0.176474\tTest's rmse: 0.326031\n",
            "Training until validation scores don't improve for 50 rounds.\n"
          ]
        },
        {
          "output_type": "stream",
          "name": "stderr",
          "text": [
            "\u001b[32m[I 2021-12-13 11:56:08,753]\u001b[0m Trial 50 finished with value: 0.3240957760996813 and parameters: {'lambda_l1': 4.329370014459266e-07, 'lambda_l2': 4.4734294104626844e-07}. Best is trial 46 with value: 0.32230792495031046.\u001b[0m\n",
            "\u001b[32m[I 2021-12-13 11:56:08,903]\u001b[0m Trial 51 finished with value: 0.3240958011336136 and parameters: {'lambda_l1': 5.472429642032198e-06, 'lambda_l2': 0.00052821153945323}. Best is trial 46 with value: 0.32230792495031046.\u001b[0m\n"
          ]
        },
        {
          "output_type": "stream",
          "name": "stdout",
          "text": [
            "Did not meet early stopping. Best iteration is:\n",
            "[99]\tTrain's rmse: 0.174976\tTest's rmse: 0.324096\n",
            "Training until validation scores don't improve for 50 rounds.\n",
            "Did not meet early stopping. Best iteration is:\n",
            "[99]\tTrain's rmse: 0.174976\tTest's rmse: 0.324096\n"
          ]
        },
        {
          "output_type": "stream",
          "name": "stderr",
          "text": [
            "\u001b[32m[I 2021-12-13 11:56:09,062]\u001b[0m Trial 52 finished with value: 0.3240957949106514 and parameters: {'lambda_l1': 7.71800699380605e-05, 'lambda_l2': 4.17890272377219e-06}. Best is trial 46 with value: 0.32230792495031046.\u001b[0m\n"
          ]
        },
        {
          "output_type": "stream",
          "name": "stdout",
          "text": [
            "Training until validation scores don't improve for 50 rounds.\n",
            "Did not meet early stopping. Best iteration is:\n",
            "[99]\tTrain's rmse: 0.174976\tTest's rmse: 0.324096\n",
            "Training until validation scores don't improve for 50 rounds.\n"
          ]
        },
        {
          "output_type": "stream",
          "name": "stderr",
          "text": [
            "\u001b[32m[I 2021-12-13 11:56:09,228]\u001b[0m Trial 53 finished with value: 0.3259132567755384 and parameters: {'lambda_l1': 3.207959657544482, 'lambda_l2': 0.09866694315446872}. Best is trial 46 with value: 0.32230792495031046.\u001b[0m\n",
            "\u001b[32m[I 2021-12-13 11:56:09,382]\u001b[0m Trial 54 finished with value: 0.324095776032953 and parameters: {'lambda_l1': 1.1692997958212103e-08, 'lambda_l2': 1.700171186192954e-08}. Best is trial 46 with value: 0.32230792495031046.\u001b[0m\n"
          ]
        },
        {
          "output_type": "stream",
          "name": "stdout",
          "text": [
            "Did not meet early stopping. Best iteration is:\n",
            "[99]\tTrain's rmse: 0.176764\tTest's rmse: 0.325913\n",
            "Training until validation scores don't improve for 50 rounds.\n",
            "Did not meet early stopping. Best iteration is:\n",
            "[99]\tTrain's rmse: 0.174976\tTest's rmse: 0.324096\n"
          ]
        },
        {
          "output_type": "stream",
          "name": "stderr",
          "text": [
            "\u001b[32m[I 2021-12-13 11:56:09,537]\u001b[0m Trial 55 finished with value: 0.324095777019789 and parameters: {'lambda_l1': 1.3512777353940762e-08, 'lambda_l2': 2.3120208094961207e-05}. Best is trial 46 with value: 0.32230792495031046.\u001b[0m\n"
          ]
        },
        {
          "output_type": "stream",
          "name": "stdout",
          "text": [
            "Training until validation scores don't improve for 50 rounds.\n",
            "Did not meet early stopping. Best iteration is:\n",
            "[99]\tTrain's rmse: 0.174976\tTest's rmse: 0.324096\n",
            "Training until validation scores don't improve for 50 rounds.\n"
          ]
        },
        {
          "output_type": "stream",
          "name": "stderr",
          "text": [
            "\u001b[32m[I 2021-12-13 11:56:09,712]\u001b[0m Trial 56 finished with value: 0.32409577615342333 and parameters: {'lambda_l1': 5.541518974002406e-07, 'lambda_l2': 2.35740695190084e-08}. Best is trial 46 with value: 0.32230792495031046.\u001b[0m\n",
            "\u001b[32m[I 2021-12-13 11:56:09,869]\u001b[0m Trial 57 finished with value: 0.32409610712233394 and parameters: {'lambda_l1': 0.0013643656722816411, 'lambda_l2': 1.1508217261645661e-08}. Best is trial 46 with value: 0.32230792495031046.\u001b[0m\n"
          ]
        },
        {
          "output_type": "stream",
          "name": "stdout",
          "text": [
            "Did not meet early stopping. Best iteration is:\n",
            "[99]\tTrain's rmse: 0.174976\tTest's rmse: 0.324096\n",
            "Training until validation scores don't improve for 50 rounds.\n",
            "Did not meet early stopping. Best iteration is:\n",
            "[99]\tTrain's rmse: 0.174976\tTest's rmse: 0.324096\n"
          ]
        },
        {
          "output_type": "stream",
          "name": "stderr",
          "text": [
            "\u001b[32m[I 2021-12-13 11:56:10,037]\u001b[0m Trial 58 finished with value: 0.32409577808132245 and parameters: {'lambda_l1': 1.1916519926516243e-08, 'lambda_l2': 4.624083095518924e-05}. Best is trial 46 with value: 0.32230792495031046.\u001b[0m\n"
          ]
        },
        {
          "output_type": "stream",
          "name": "stdout",
          "text": [
            "Training until validation scores don't improve for 50 rounds.\n",
            "Did not meet early stopping. Best iteration is:\n",
            "[99]\tTrain's rmse: 0.174976\tTest's rmse: 0.324096\n",
            "Training until validation scores don't improve for 50 rounds.\n"
          ]
        },
        {
          "output_type": "stream",
          "name": "stderr",
          "text": [
            "\u001b[32m[I 2021-12-13 11:56:10,200]\u001b[0m Trial 59 finished with value: 0.32414145296799807 and parameters: {'lambda_l1': 3.7384258928166384e-06, 'lambda_l2': 0.1304964127901967}. Best is trial 46 with value: 0.32230792495031046.\u001b[0m\n",
            "\u001b[32m[I 2021-12-13 11:56:10,355]\u001b[0m Trial 60 finished with value: 0.32409595347438286 and parameters: {'lambda_l1': 1.8796187625037182e-07, 'lambda_l2': 0.0039440907858195725}. Best is trial 46 with value: 0.32230792495031046.\u001b[0m\n"
          ]
        },
        {
          "output_type": "stream",
          "name": "stdout",
          "text": [
            "Did not meet early stopping. Best iteration is:\n",
            "[99]\tTrain's rmse: 0.174933\tTest's rmse: 0.324141\n",
            "Training until validation scores don't improve for 50 rounds.\n",
            "Did not meet early stopping. Best iteration is:\n",
            "[99]\tTrain's rmse: 0.174977\tTest's rmse: 0.324096\n"
          ]
        },
        {
          "output_type": "stream",
          "name": "stderr",
          "text": [
            "\u001b[32m[I 2021-12-13 11:56:10,509]\u001b[0m Trial 61 finished with value: 0.3223031686057374 and parameters: {'lambda_l1': 1.197340518782296e-07, 'lambda_l2': 0.5361615285304203}. Best is trial 61 with value: 0.3223031686057374.\u001b[0m\n"
          ]
        },
        {
          "output_type": "stream",
          "name": "stdout",
          "text": [
            "Training until validation scores don't improve for 50 rounds.\n",
            "Did not meet early stopping. Best iteration is:\n",
            "[99]\tTrain's rmse: 0.173212\tTest's rmse: 0.322303\n",
            "Training until validation scores don't improve for 50 rounds.\n"
          ]
        },
        {
          "output_type": "stream",
          "name": "stderr",
          "text": [
            "\u001b[32m[I 2021-12-13 11:56:10,668]\u001b[0m Trial 62 finished with value: 0.3251411819381508 and parameters: {'lambda_l1': 2.528830125346676e-06, 'lambda_l2': 0.8044495718654645}. Best is trial 61 with value: 0.3223031686057374.\u001b[0m\n",
            "\u001b[32m[I 2021-12-13 11:56:10,827]\u001b[0m Trial 63 finished with value: 0.3420423671456838 and parameters: {'min_child_samples': 5}. Best is trial 63 with value: 0.3420423671456838.\u001b[0m\n"
          ]
        },
        {
          "output_type": "stream",
          "name": "stdout",
          "text": [
            "Did not meet early stopping. Best iteration is:\n",
            "[99]\tTrain's rmse: 0.176857\tTest's rmse: 0.325141\n",
            "Training until validation scores don't improve for 50 rounds.\n",
            "Did not meet early stopping. Best iteration is:\n",
            "[100]\tTrain's rmse: 0.14921\tTest's rmse: 0.342042\n"
          ]
        },
        {
          "output_type": "stream",
          "name": "stderr",
          "text": [
            "\u001b[32m[I 2021-12-13 11:56:10,978]\u001b[0m Trial 64 finished with value: 0.32794819350389776 and parameters: {'min_child_samples': 10}. Best is trial 64 with value: 0.32794819350389776.\u001b[0m\n"
          ]
        },
        {
          "output_type": "stream",
          "name": "stdout",
          "text": [
            "Training until validation scores don't improve for 50 rounds.\n",
            "Did not meet early stopping. Best iteration is:\n",
            "[100]\tTrain's rmse: 0.159608\tTest's rmse: 0.327948\n",
            "Training until validation scores don't improve for 50 rounds.\n"
          ]
        },
        {
          "output_type": "stream",
          "name": "stderr",
          "text": [
            "\u001b[32m[I 2021-12-13 11:56:11,128]\u001b[0m Trial 65 finished with value: 0.33252550569983297 and parameters: {'min_child_samples': 25}. Best is trial 64 with value: 0.32794819350389776.\u001b[0m\n",
            "\u001b[32m[I 2021-12-13 11:56:11,276]\u001b[0m Trial 66 finished with value: 0.38277679703170997 and parameters: {'min_child_samples': 50}. Best is trial 64 with value: 0.32794819350389776.\u001b[0m\n"
          ]
        },
        {
          "output_type": "stream",
          "name": "stdout",
          "text": [
            "Did not meet early stopping. Best iteration is:\n",
            "[99]\tTrain's rmse: 0.172466\tTest's rmse: 0.332526\n",
            "Training until validation scores don't improve for 50 rounds.\n",
            "Did not meet early stopping. Best iteration is:\n",
            "[99]\tTrain's rmse: 0.235382\tTest's rmse: 0.382777\n"
          ]
        },
        {
          "output_type": "stream",
          "name": "stderr",
          "text": [
            "\u001b[32m[I 2021-12-13 11:56:11,430]\u001b[0m Trial 67 finished with value: 0.4509886222077755 and parameters: {'min_child_samples': 100}. Best is trial 64 with value: 0.32794819350389776.\u001b[0m\n"
          ]
        },
        {
          "output_type": "stream",
          "name": "stdout",
          "text": [
            "Training until validation scores don't improve for 50 rounds.\n",
            "Did not meet early stopping. Best iteration is:\n",
            "[100]\tTrain's rmse: 0.29362\tTest's rmse: 0.450989\n"
          ]
        },
        {
          "output_type": "display_data",
          "data": {
            "image/png": "[encoded data removed]",
            "text/plain": [
              "<Figure size 432x288 with 1 Axes>"
            ]
          },
          "metadata": {
            "needs_background": "light"
          }
        },
        {
          "output_type": "stream",
          "name": "stderr",
          "text": [
            "\u001b[32m[I 2021-12-13 11:56:11,629]\u001b[0m A new study created in memory with name: no-name-95fffcab-c7d9-47c6-a9e0-70aa3c76420f\u001b[0m\n"
          ]
        },
        {
          "output_type": "stream",
          "name": "stdout",
          "text": [
            "Training until validation scores don't improve for 50 rounds.\n"
          ]
        },
        {
          "output_type": "stream",
          "name": "stderr",
          "text": [
            "\u001b[32m[I 2021-12-13 11:56:12,080]\u001b[0m Trial 0 finished with value: 0.10719557951928363 and parameters: {'feature_fraction': 0.8}. Best is trial 0 with value: 0.10719557951928363.\u001b[0m\n"
          ]
        },
        {
          "output_type": "stream",
          "name": "stdout",
          "text": [
            "Did not meet early stopping. Best iteration is:\n",
            "[100]\tTrain's rmse: 0.131381\tTest's rmse: 0.107196\n",
            "Training until validation scores don't improve for 50 rounds.\n"
          ]
        },
        {
          "output_type": "stream",
          "name": "stderr",
          "text": [
            "\u001b[32m[I 2021-12-13 11:56:12,425]\u001b[0m Trial 1 finished with value: 0.13610145954023592 and parameters: {'feature_fraction': 0.5}. Best is trial 0 with value: 0.10719557951928363.\u001b[0m\n"
          ]
        },
        {
          "output_type": "stream",
          "name": "stdout",
          "text": [
            "Did not meet early stopping. Best iteration is:\n",
            "[100]\tTrain's rmse: 0.133052\tTest's rmse: 0.136101\n",
            "Training until validation scores don't improve for 50 rounds.\n"
          ]
        },
        {
          "output_type": "stream",
          "name": "stderr",
          "text": [
            "\u001b[32m[I 2021-12-13 11:56:12,893]\u001b[0m Trial 2 finished with value: 0.11199663372018694 and parameters: {'feature_fraction': 1.0}. Best is trial 0 with value: 0.10719557951928363.\u001b[0m\n"
          ]
        },
        {
          "output_type": "stream",
          "name": "stdout",
          "text": [
            "Did not meet early stopping. Best iteration is:\n",
            "[100]\tTrain's rmse: 0.148628\tTest's rmse: 0.111997\n",
            "Training until validation scores don't improve for 50 rounds.\n"
          ]
        },
        {
          "output_type": "stream",
          "name": "stderr",
          "text": [
            "\u001b[32m[I 2021-12-13 11:56:13,337]\u001b[0m Trial 3 finished with value: 0.11007959705896872 and parameters: {'feature_fraction': 0.8999999999999999}. Best is trial 0 with value: 0.10719557951928363.\u001b[0m\n"
          ]
        },
        {
          "output_type": "stream",
          "name": "stdout",
          "text": [
            "Did not meet early stopping. Best iteration is:\n",
            "[100]\tTrain's rmse: 0.146464\tTest's rmse: 0.11008\n",
            "Training until validation scores don't improve for 50 rounds.\n"
          ]
        },
        {
          "output_type": "stream",
          "name": "stderr",
          "text": [
            "\u001b[32m[I 2021-12-13 11:56:13,644]\u001b[0m Trial 4 finished with value: 0.13951428268921193 and parameters: {'feature_fraction': 0.4}. Best is trial 0 with value: 0.10719557951928363.\u001b[0m\n"
          ]
        },
        {
          "output_type": "stream",
          "name": "stdout",
          "text": [
            "Did not meet early stopping. Best iteration is:\n",
            "[100]\tTrain's rmse: 0.140926\tTest's rmse: 0.139514\n",
            "Training until validation scores don't improve for 50 rounds.\n"
          ]
        },
        {
          "output_type": "stream",
          "name": "stderr",
          "text": [
            "\u001b[32m[I 2021-12-13 11:56:14,067]\u001b[0m Trial 5 finished with value: 0.10971220492343477 and parameters: {'feature_fraction': 0.7}. Best is trial 0 with value: 0.10719557951928363.\u001b[0m\n"
          ]
        },
        {
          "output_type": "stream",
          "name": "stdout",
          "text": [
            "Did not meet early stopping. Best iteration is:\n",
            "[100]\tTrain's rmse: 0.128728\tTest's rmse: 0.109712\n",
            "Training until validation scores don't improve for 50 rounds.\n"
          ]
        },
        {
          "output_type": "stream",
          "name": "stderr",
          "text": [
            "\u001b[32m[I 2021-12-13 11:56:14,437]\u001b[0m Trial 6 finished with value: 0.12471472614397411 and parameters: {'feature_fraction': 0.6}. Best is trial 0 with value: 0.10719557951928363.\u001b[0m\n"
          ]
        },
        {
          "output_type": "stream",
          "name": "stdout",
          "text": [
            "Did not meet early stopping. Best iteration is:\n",
            "[100]\tTrain's rmse: 0.131213\tTest's rmse: 0.124715\n",
            "Training until validation scores don't improve for 50 rounds.\n"
          ]
        },
        {
          "output_type": "stream",
          "name": "stderr",
          "text": [
            "\u001b[32m[I 2021-12-13 11:56:15,296]\u001b[0m Trial 7 finished with value: 0.11168014841746274 and parameters: {'num_leaves': 97}. Best is trial 7 with value: 0.11168014841746274.\u001b[0m\n"
          ]
        },
        {
          "output_type": "stream",
          "name": "stdout",
          "text": [
            "Did not meet early stopping. Best iteration is:\n",
            "[100]\tTrain's rmse: 0.129559\tTest's rmse: 0.11168\n",
            "Training until validation scores don't improve for 50 rounds.\n"
          ]
        },
        {
          "output_type": "stream",
          "name": "stderr",
          "text": [
            "\u001b[32m[I 2021-12-13 11:56:16,953]\u001b[0m Trial 8 finished with value: 0.11383454815256981 and parameters: {'num_leaves': 244}. Best is trial 7 with value: 0.11168014841746274.\u001b[0m\n"
          ]
        },
        {
          "output_type": "stream",
          "name": "stdout",
          "text": [
            "Did not meet early stopping. Best iteration is:\n",
            "[100]\tTrain's rmse: 0.131392\tTest's rmse: 0.113835\n",
            "Training until validation scores don't improve for 50 rounds.\n"
          ]
        },
        {
          "output_type": "stream",
          "name": "stderr",
          "text": [
            "\u001b[32m[I 2021-12-13 11:56:18,365]\u001b[0m Trial 9 finished with value: 0.11510543636411935 and parameters: {'num_leaves': 188}. Best is trial 7 with value: 0.11168014841746274.\u001b[0m\n"
          ]
        },
        {
          "output_type": "stream",
          "name": "stdout",
          "text": [
            "Did not meet early stopping. Best iteration is:\n",
            "[100]\tTrain's rmse: 0.136263\tTest's rmse: 0.115105\n",
            "Training until validation scores don't improve for 50 rounds.\n"
          ]
        },
        {
          "output_type": "stream",
          "name": "stderr",
          "text": [
            "\u001b[32m[I 2021-12-13 11:56:19,570]\u001b[0m Trial 10 finished with value: 0.11454364330454446 and parameters: {'num_leaves': 154}. Best is trial 7 with value: 0.11168014841746274.\u001b[0m\n"
          ]
        },
        {
          "output_type": "stream",
          "name": "stdout",
          "text": [
            "Did not meet early stopping. Best iteration is:\n",
            "[100]\tTrain's rmse: 0.136363\tTest's rmse: 0.114544\n",
            "Training until validation scores don't improve for 50 rounds.\n"
          ]
        },
        {
          "output_type": "stream",
          "name": "stderr",
          "text": [
            "\u001b[32m[I 2021-12-13 11:56:20,077]\u001b[0m Trial 11 finished with value: 0.10736038207062858 and parameters: {'num_leaves': 41}. Best is trial 11 with value: 0.10736038207062858.\u001b[0m\n"
          ]
        },
        {
          "output_type": "stream",
          "name": "stdout",
          "text": [
            "Did not meet early stopping. Best iteration is:\n",
            "[100]\tTrain's rmse: 0.130904\tTest's rmse: 0.10736\n",
            "Training until validation scores don't improve for 50 rounds.\n"
          ]
        },
        {
          "output_type": "stream",
          "name": "stderr",
          "text": [
            "\u001b[32m[I 2021-12-13 11:56:20,551]\u001b[0m Trial 12 finished with value: 0.10736038207062858 and parameters: {'num_leaves': 41}. Best is trial 11 with value: 0.10736038207062858.\u001b[0m\n"
          ]
        },
        {
          "output_type": "stream",
          "name": "stdout",
          "text": [
            "Did not meet early stopping. Best iteration is:\n",
            "[100]\tTrain's rmse: 0.130904\tTest's rmse: 0.10736\n",
            "Training until validation scores don't improve for 50 rounds.\n"
          ]
        },
        {
          "output_type": "stream",
          "name": "stderr",
          "text": [
            "\u001b[32m[I 2021-12-13 11:56:20,836]\u001b[0m Trial 13 finished with value: 0.10482006771573166 and parameters: {'num_leaves': 16}. Best is trial 13 with value: 0.10482006771573166.\u001b[0m\n"
          ]
        },
        {
          "output_type": "stream",
          "name": "stdout",
          "text": [
            "Did not meet early stopping. Best iteration is:\n",
            "[100]\tTrain's rmse: 0.133736\tTest's rmse: 0.10482\n",
            "Training until validation scores don't improve for 50 rounds.\n"
          ]
        },
        {
          "output_type": "stream",
          "name": "stderr",
          "text": [
            "\u001b[32m[I 2021-12-13 11:56:22,410]\u001b[0m Trial 14 finished with value: 0.11520343401506149 and parameters: {'num_leaves': 222}. Best is trial 13 with value: 0.10482006771573166.\u001b[0m\n"
          ]
        },
        {
          "output_type": "stream",
          "name": "stdout",
          "text": [
            "Did not meet early stopping. Best iteration is:\n",
            "[100]\tTrain's rmse: 0.136528\tTest's rmse: 0.115203\n",
            "Training until validation scores don't improve for 50 rounds.\n"
          ]
        },
        {
          "output_type": "stream",
          "name": "stderr",
          "text": [
            "\u001b[32m[I 2021-12-13 11:56:23,617]\u001b[0m Trial 15 finished with value: 0.11523802642655778 and parameters: {'num_leaves': 155}. Best is trial 13 with value: 0.10482006771573166.\u001b[0m\n"
          ]
        },
        {
          "output_type": "stream",
          "name": "stdout",
          "text": [
            "Did not meet early stopping. Best iteration is:\n",
            "[100]\tTrain's rmse: 0.136845\tTest's rmse: 0.115238\n",
            "Training until validation scores don't improve for 50 rounds.\n"
          ]
        },
        {
          "output_type": "stream",
          "name": "stderr",
          "text": [
            "\u001b[32m[I 2021-12-13 11:56:24,950]\u001b[0m Trial 16 finished with value: 0.11778026732914065 and parameters: {'num_leaves': 182}. Best is trial 13 with value: 0.10482006771573166.\u001b[0m\n"
          ]
        },
        {
          "output_type": "stream",
          "name": "stdout",
          "text": [
            "Did not meet early stopping. Best iteration is:\n",
            "[100]\tTrain's rmse: 0.133806\tTest's rmse: 0.11778\n",
            "Training until validation scores don't improve for 50 rounds.\n"
          ]
        },
        {
          "output_type": "stream",
          "name": "stderr",
          "text": [
            "\u001b[32m[I 2021-12-13 11:56:25,162]\u001b[0m Trial 17 finished with value: 0.11365085203225421 and parameters: {'num_leaves': 7}. Best is trial 13 with value: 0.10482006771573166.\u001b[0m\n"
          ]
        },
        {
          "output_type": "stream",
          "name": "stdout",
          "text": [
            "Did not meet early stopping. Best iteration is:\n",
            "[100]\tTrain's rmse: 0.138757\tTest's rmse: 0.113651\n",
            "Training until validation scores don't improve for 50 rounds.\n"
          ]
        },
        {
          "output_type": "stream",
          "name": "stderr",
          "text": [
            "\u001b[32m[I 2021-12-13 11:56:25,855]\u001b[0m Trial 18 finished with value: 0.11139938723096428 and parameters: {'num_leaves': 76}. Best is trial 13 with value: 0.10482006771573166.\u001b[0m\n",
            "\u001b[32m[I 2021-12-13 11:56:26,008]\u001b[0m Trial 19 finished with value: 0.1198610325151871 and parameters: {'num_leaves': 3}. Best is trial 13 with value: 0.10482006771573166.\u001b[0m\n"
          ]
        },
        {
          "output_type": "stream",
          "name": "stdout",
          "text": [
            "Did not meet early stopping. Best iteration is:\n",
            "[100]\tTrain's rmse: 0.131295\tTest's rmse: 0.111399\n",
            "Training until validation scores don't improve for 50 rounds.\n",
            "Did not meet early stopping. Best iteration is:\n",
            "[100]\tTrain's rmse: 0.199375\tTest's rmse: 0.119861\n",
            "Training until validation scores don't improve for 50 rounds.\n"
          ]
        },
        {
          "output_type": "stream",
          "name": "stderr",
          "text": [
            "\u001b[32m[I 2021-12-13 11:56:26,620]\u001b[0m Trial 20 finished with value: 0.1111797774077218 and parameters: {'num_leaves': 57}. Best is trial 13 with value: 0.10482006771573166.\u001b[0m\n"
          ]
        },
        {
          "output_type": "stream",
          "name": "stdout",
          "text": [
            "Did not meet early stopping. Best iteration is:\n",
            "[100]\tTrain's rmse: 0.129792\tTest's rmse: 0.11118\n",
            "Training until validation scores don't improve for 50 rounds.\n"
          ]
        },
        {
          "output_type": "stream",
          "name": "stderr",
          "text": [
            "\u001b[32m[I 2021-12-13 11:56:27,560]\u001b[0m Trial 21 finished with value: 0.11213485257708249 and parameters: {'num_leaves': 103}. Best is trial 13 with value: 0.10482006771573166.\u001b[0m\n"
          ]
        },
        {
          "output_type": "stream",
          "name": "stdout",
          "text": [
            "Did not meet early stopping. Best iteration is:\n",
            "[100]\tTrain's rmse: 0.129507\tTest's rmse: 0.112135\n",
            "Training until validation scores don't improve for 50 rounds.\n"
          ]
        },
        {
          "output_type": "stream",
          "name": "stderr",
          "text": [
            "\u001b[32m[I 2021-12-13 11:56:28,022]\u001b[0m Trial 22 finished with value: 0.10965788550435848 and parameters: {'num_leaves': 37}. Best is trial 13 with value: 0.10482006771573166.\u001b[0m\n"
          ]
        },
        {
          "output_type": "stream",
          "name": "stdout",
          "text": [
            "Did not meet early stopping. Best iteration is:\n",
            "[100]\tTrain's rmse: 0.129318\tTest's rmse: 0.109658\n",
            "Training until validation scores don't improve for 50 rounds.\n"
          ]
        },
        {
          "output_type": "stream",
          "name": "stderr",
          "text": [
            "\u001b[32m[I 2021-12-13 11:56:28,408]\u001b[0m Trial 23 finished with value: 0.1063156605544606 and parameters: {'num_leaves': 26}. Best is trial 13 with value: 0.10482006771573166.\u001b[0m\n"
          ]
        },
        {
          "output_type": "stream",
          "name": "stdout",
          "text": [
            "Did not meet early stopping. Best iteration is:\n",
            "[100]\tTrain's rmse: 0.133236\tTest's rmse: 0.106316\n",
            "Training until validation scores don't improve for 50 rounds.\n"
          ]
        },
        {
          "output_type": "stream",
          "name": "stderr",
          "text": [
            "\u001b[32m[I 2021-12-13 11:56:29,367]\u001b[0m Trial 24 finished with value: 0.11260798748678803 and parameters: {'num_leaves': 114}. Best is trial 13 with value: 0.10482006771573166.\u001b[0m\n"
          ]
        },
        {
          "output_type": "stream",
          "name": "stdout",
          "text": [
            "Did not meet early stopping. Best iteration is:\n",
            "[100]\tTrain's rmse: 0.134124\tTest's rmse: 0.112608\n",
            "Training until validation scores don't improve for 50 rounds.\n"
          ]
        },
        {
          "output_type": "stream",
          "name": "stderr",
          "text": [
            "\u001b[32m[I 2021-12-13 11:56:30,043]\u001b[0m Trial 25 finished with value: 0.11155948636134314 and parameters: {'num_leaves': 70}. Best is trial 13 with value: 0.10482006771573166.\u001b[0m\n"
          ]
        },
        {
          "output_type": "stream",
          "name": "stdout",
          "text": [
            "Did not meet early stopping. Best iteration is:\n",
            "[100]\tTrain's rmse: 0.137183\tTest's rmse: 0.111559\n",
            "Training until validation scores don't improve for 50 rounds.\n"
          ]
        },
        {
          "output_type": "stream",
          "name": "stderr",
          "text": [
            "\u001b[32m[I 2021-12-13 11:56:30,330]\u001b[0m Trial 26 finished with value: 0.10705654315556715 and parameters: {'num_leaves': 13}. Best is trial 13 with value: 0.10482006771573166.\u001b[0m\n"
          ]
        },
        {
          "output_type": "stream",
          "name": "stdout",
          "text": [
            "Did not meet early stopping. Best iteration is:\n",
            "[100]\tTrain's rmse: 0.134947\tTest's rmse: 0.107057\n",
            "Training until validation scores don't improve for 50 rounds.\n"
          ]
        },
        {
          "output_type": "stream",
          "name": "stderr",
          "text": [
            "\u001b[32m[I 2021-12-13 11:56:30,648]\u001b[0m Trial 27 finished with value: 0.1268345205996445 and parameters: {'bagging_fraction': 0.624724071308792, 'bagging_freq': 7}. Best is trial 27 with value: 0.1268345205996445.\u001b[0m\n"
          ]
        },
        {
          "output_type": "stream",
          "name": "stdout",
          "text": [
            "Did not meet early stopping. Best iteration is:\n",
            "[100]\tTrain's rmse: 0.17764\tTest's rmse: 0.126835\n",
            "Training until validation scores don't improve for 50 rounds.\n"
          ]
        },
        {
          "output_type": "stream",
          "name": "stderr",
          "text": [
            "\u001b[32m[I 2021-12-13 11:56:30,943]\u001b[0m Trial 28 finished with value: 0.1175169234615188 and parameters: {'bagging_fraction': 0.8391963650875751, 'bagging_freq': 5}. Best is trial 28 with value: 0.1175169234615188.\u001b[0m\n"
          ]
        },
        {
          "output_type": "stream",
          "name": "stdout",
          "text": [
            "Early stopping, best iteration is:\n",
            "[40]\tTrain's rmse: 0.194961\tTest's rmse: 0.117517\n",
            "Training until validation scores don't improve for 50 rounds.\n"
          ]
        },
        {
          "output_type": "stream",
          "name": "stderr",
          "text": [
            "\u001b[32m[I 2021-12-13 11:56:31,281]\u001b[0m Trial 29 finished with value: 0.11295648619947704 and parameters: {'bagging_fraction': 0.49361118426561795, 'bagging_freq': 2}. Best is trial 29 with value: 0.11295648619947704.\u001b[0m\n"
          ]
        },
        {
          "output_type": "stream",
          "name": "stdout",
          "text": [
            "Did not meet early stopping. Best iteration is:\n",
            "[100]\tTrain's rmse: 0.181189\tTest's rmse: 0.112956\n",
            "Training until validation scores don't improve for 50 rounds.\n"
          ]
        },
        {
          "output_type": "stream",
          "name": "stderr",
          "text": [
            "\u001b[32m[I 2021-12-13 11:56:31,588]\u001b[0m Trial 30 finished with value: 0.1201765339916017 and parameters: {'bagging_fraction': 0.4348501673009778, 'bagging_freq': 7}. Best is trial 29 with value: 0.11295648619947704.\u001b[0m\n"
          ]
        },
        {
          "output_type": "stream",
          "name": "stdout",
          "text": [
            "Early stopping, best iteration is:\n",
            "[46]\tTrain's rmse: 0.206894\tTest's rmse: 0.120177\n",
            "Training until validation scores don't improve for 50 rounds.\n"
          ]
        },
        {
          "output_type": "stream",
          "name": "stderr",
          "text": [
            "\u001b[32m[I 2021-12-13 11:56:31,914]\u001b[0m Trial 31 finished with value: 0.11811188218321204 and parameters: {'bagging_fraction': 0.7606690070465265, 'bagging_freq': 5}. Best is trial 29 with value: 0.11295648619947704.\u001b[0m\n"
          ]
        },
        {
          "output_type": "stream",
          "name": "stdout",
          "text": [
            "Did not meet early stopping. Best iteration is:\n",
            "[100]\tTrain's rmse: 0.162737\tTest's rmse: 0.118112\n",
            "Training until validation scores don't improve for 50 rounds.\n"
          ]
        },
        {
          "output_type": "stream",
          "name": "stderr",
          "text": [
            "\u001b[32m[I 2021-12-13 11:56:32,242]\u001b[0m Trial 32 finished with value: 0.12592887637618774 and parameters: {'bagging_fraction': 0.41235069657750206, 'bagging_freq': 7}. Best is trial 29 with value: 0.11295648619947704.\u001b[0m\n"
          ]
        },
        {
          "output_type": "stream",
          "name": "stdout",
          "text": [
            "Did not meet early stopping. Best iteration is:\n",
            "[100]\tTrain's rmse: 0.18813\tTest's rmse: 0.125929\n",
            "Training until validation scores don't improve for 50 rounds.\n"
          ]
        },
        {
          "output_type": "stream",
          "name": "stderr",
          "text": [
            "\u001b[32m[I 2021-12-13 11:56:32,582]\u001b[0m Trial 33 finished with value: 0.11288684731892161 and parameters: {'bagging_fraction': 0.8994655844810855, 'bagging_freq': 2}. Best is trial 33 with value: 0.11288684731892161.\u001b[0m\n"
          ]
        },
        {
          "output_type": "stream",
          "name": "stdout",
          "text": [
            "Did not meet early stopping. Best iteration is:\n",
            "[100]\tTrain's rmse: 0.144993\tTest's rmse: 0.112887\n",
            "Training until validation scores don't improve for 50 rounds.\n"
          ]
        },
        {
          "output_type": "stream",
          "name": "stderr",
          "text": [
            "\u001b[32m[I 2021-12-13 11:56:32,911]\u001b[0m Trial 34 finished with value: 0.10898688670688848 and parameters: {'bagging_fraction': 0.5090949803244422, 'bagging_freq': 2}. Best is trial 34 with value: 0.10898688670688848.\u001b[0m\n"
          ]
        },
        {
          "output_type": "stream",
          "name": "stdout",
          "text": [
            "Did not meet early stopping. Best iteration is:\n",
            "[100]\tTrain's rmse: 0.178975\tTest's rmse: 0.108987\n",
            "Training until validation scores don't improve for 50 rounds.\n"
          ]
        },
        {
          "output_type": "stream",
          "name": "stderr",
          "text": [
            "\u001b[32m[I 2021-12-13 11:56:33,275]\u001b[0m Trial 35 finished with value: 0.12159787668073853 and parameters: {'bagging_fraction': 0.5825453457760269, 'bagging_freq': 4}. Best is trial 34 with value: 0.10898688670688848.\u001b[0m\n"
          ]
        },
        {
          "output_type": "stream",
          "name": "stdout",
          "text": [
            "Did not meet early stopping. Best iteration is:\n",
            "[100]\tTrain's rmse: 0.176247\tTest's rmse: 0.121598\n",
            "Training until validation scores don't improve for 50 rounds.\n"
          ]
        },
        {
          "output_type": "stream",
          "name": "stderr",
          "text": [
            "\u001b[32m[I 2021-12-13 11:56:33,620]\u001b[0m Trial 36 finished with value: 0.11951769629470234 and parameters: {'bagging_fraction': 0.6591670111857015, 'bagging_freq': 3}. Best is trial 34 with value: 0.10898688670688848.\u001b[0m\n"
          ]
        },
        {
          "output_type": "stream",
          "name": "stdout",
          "text": [
            "Did not meet early stopping. Best iteration is:\n",
            "[100]\tTrain's rmse: 0.166446\tTest's rmse: 0.119518\n",
            "Training until validation scores don't improve for 50 rounds.\n"
          ]
        },
        {
          "output_type": "stream",
          "name": "stderr",
          "text": [
            "\u001b[32m[I 2021-12-13 11:56:33,894]\u001b[0m Trial 37 finished with value: 0.1078120140640014 and parameters: {'feature_fraction': 0.7200000000000001}. Best is trial 37 with value: 0.1078120140640014.\u001b[0m\n"
          ]
        },
        {
          "output_type": "stream",
          "name": "stdout",
          "text": [
            "Did not meet early stopping. Best iteration is:\n",
            "[100]\tTrain's rmse: 0.132174\tTest's rmse: 0.107812\n",
            "Training until validation scores don't improve for 50 rounds.\n"
          ]
        },
        {
          "output_type": "stream",
          "name": "stderr",
          "text": [
            "\u001b[32m[I 2021-12-13 11:56:34,175]\u001b[0m Trial 38 finished with value: 0.11231964835490808 and parameters: {'feature_fraction': 0.784}. Best is trial 37 with value: 0.1078120140640014.\u001b[0m\n"
          ]
        },
        {
          "output_type": "stream",
          "name": "stdout",
          "text": [
            "Did not meet early stopping. Best iteration is:\n",
            "[100]\tTrain's rmse: 0.129021\tTest's rmse: 0.11232\n",
            "Training until validation scores don't improve for 50 rounds.\n"
          ]
        },
        {
          "output_type": "stream",
          "name": "stderr",
          "text": [
            "\u001b[32m[I 2021-12-13 11:56:34,479]\u001b[0m Trial 39 finished with value: 0.10302056732983954 and parameters: {'feature_fraction': 0.88}. Best is trial 39 with value: 0.10302056732983954.\u001b[0m\n"
          ]
        },
        {
          "output_type": "stream",
          "name": "stdout",
          "text": [
            "Did not meet early stopping. Best iteration is:\n",
            "[100]\tTrain's rmse: 0.133425\tTest's rmse: 0.103021\n",
            "Training until validation scores don't improve for 50 rounds.\n"
          ]
        },
        {
          "output_type": "stream",
          "name": "stderr",
          "text": [
            "\u001b[32m[I 2021-12-13 11:56:34,762]\u001b[0m Trial 40 finished with value: 0.10482006771573166 and parameters: {'feature_fraction': 0.8160000000000001}. Best is trial 39 with value: 0.10302056732983954.\u001b[0m\n"
          ]
        },
        {
          "output_type": "stream",
          "name": "stdout",
          "text": [
            "Did not meet early stopping. Best iteration is:\n",
            "[100]\tTrain's rmse: 0.133736\tTest's rmse: 0.10482\n",
            "Training until validation scores don't improve for 50 rounds.\n"
          ]
        },
        {
          "output_type": "stream",
          "name": "stderr",
          "text": [
            "\u001b[32m[I 2021-12-13 11:56:35,048]\u001b[0m Trial 41 finished with value: 0.10482006771573166 and parameters: {'feature_fraction': 0.8480000000000001}. Best is trial 39 with value: 0.10302056732983954.\u001b[0m\n"
          ]
        },
        {
          "output_type": "stream",
          "name": "stdout",
          "text": [
            "Did not meet early stopping. Best iteration is:\n",
            "[100]\tTrain's rmse: 0.133736\tTest's rmse: 0.10482\n",
            "Training until validation scores don't improve for 50 rounds.\n"
          ]
        },
        {
          "output_type": "stream",
          "name": "stderr",
          "text": [
            "\u001b[32m[I 2021-12-13 11:56:35,343]\u001b[0m Trial 42 finished with value: 0.11231964835490808 and parameters: {'feature_fraction': 0.7520000000000001}. Best is trial 39 with value: 0.10302056732983954.\u001b[0m\n"
          ]
        },
        {
          "output_type": "stream",
          "name": "stdout",
          "text": [
            "Did not meet early stopping. Best iteration is:\n",
            "[100]\tTrain's rmse: 0.129021\tTest's rmse: 0.11232\n",
            "Training until validation scores don't improve for 50 rounds.\n"
          ]
        },
        {
          "output_type": "stream",
          "name": "stderr",
          "text": [
            "\u001b[32m[I 2021-12-13 11:56:35,634]\u001b[0m Trial 43 finished with value: 0.11098490330825247 and parameters: {'lambda_l1': 2.348881295853308e-05, 'lambda_l2': 3.6010467344475403}. Best is trial 43 with value: 0.11098490330825247.\u001b[0m\n"
          ]
        },
        {
          "output_type": "stream",
          "name": "stdout",
          "text": [
            "Did not meet early stopping. Best iteration is:\n",
            "[100]\tTrain's rmse: 0.13971\tTest's rmse: 0.110985\n",
            "Training until validation scores don't improve for 50 rounds.\n"
          ]
        },
        {
          "output_type": "stream",
          "name": "stderr",
          "text": [
            "\u001b[32m[I 2021-12-13 11:56:35,934]\u001b[0m Trial 44 finished with value: 0.10618732403735559 and parameters: {'lambda_l1': 0.038720902953704193, 'lambda_l2': 0.0024430162614261413}. Best is trial 44 with value: 0.10618732403735559.\u001b[0m\n"
          ]
        },
        {
          "output_type": "stream",
          "name": "stdout",
          "text": [
            "Did not meet early stopping. Best iteration is:\n",
            "[100]\tTrain's rmse: 0.137995\tTest's rmse: 0.106187\n",
            "Training until validation scores don't improve for 50 rounds.\n"
          ]
        },
        {
          "output_type": "stream",
          "name": "stderr",
          "text": [
            "\u001b[32m[I 2021-12-13 11:56:36,226]\u001b[0m Trial 45 finished with value: 0.10302056748521506 and parameters: {'lambda_l1': 2.5361081166471375e-07, 'lambda_l2': 2.5348407664333426e-07}. Best is trial 45 with value: 0.10302056748521506.\u001b[0m\n"
          ]
        },
        {
          "output_type": "stream",
          "name": "stdout",
          "text": [
            "Did not meet early stopping. Best iteration is:\n",
            "[100]\tTrain's rmse: 0.133425\tTest's rmse: 0.103021\n",
            "Training until validation scores don't improve for 50 rounds.\n"
          ]
        },
        {
          "output_type": "stream",
          "name": "stderr",
          "text": [
            "\u001b[32m[I 2021-12-13 11:56:36,536]\u001b[0m Trial 46 finished with value: 0.10898490919673387 and parameters: {'lambda_l1': 3.3323645788192616e-08, 'lambda_l2': 0.6245760287469893}. Best is trial 45 with value: 0.10302056748521506.\u001b[0m\n"
          ]
        },
        {
          "output_type": "stream",
          "name": "stdout",
          "text": [
            "Did not meet early stopping. Best iteration is:\n",
            "[100]\tTrain's rmse: 0.133694\tTest's rmse: 0.108985\n",
            "Training until validation scores don't improve for 50 rounds.\n"
          ]
        },
        {
          "output_type": "stream",
          "name": "stderr",
          "text": [
            "\u001b[32m[I 2021-12-13 11:56:36,831]\u001b[0m Trial 47 finished with value: 0.10345083261507834 and parameters: {'lambda_l1': 0.002570603566117598, 'lambda_l2': 0.023585940584142682}. Best is trial 45 with value: 0.10302056748521506.\u001b[0m\n"
          ]
        },
        {
          "output_type": "stream",
          "name": "stdout",
          "text": [
            "Did not meet early stopping. Best iteration is:\n",
            "[100]\tTrain's rmse: 0.133039\tTest's rmse: 0.103451\n",
            "Training until validation scores don't improve for 50 rounds.\n"
          ]
        },
        {
          "output_type": "stream",
          "name": "stderr",
          "text": [
            "\u001b[32m[I 2021-12-13 11:56:37,119]\u001b[0m Trial 48 finished with value: 0.10975003203631217 and parameters: {'lambda_l1': 1.5320059381854043e-08, 'lambda_l2': 5.360294728728285}. Best is trial 45 with value: 0.10302056748521506.\u001b[0m\n"
          ]
        },
        {
          "output_type": "stream",
          "name": "stdout",
          "text": [
            "Did not meet early stopping. Best iteration is:\n",
            "[100]\tTrain's rmse: 0.143736\tTest's rmse: 0.10975\n",
            "Training until validation scores don't improve for 50 rounds.\n"
          ]
        },
        {
          "output_type": "stream",
          "name": "stderr",
          "text": [
            "\u001b[32m[I 2021-12-13 11:56:37,423]\u001b[0m Trial 49 finished with value: 0.10319695709152574 and parameters: {'lambda_l1': 0.31044435499483225, 'lambda_l2': 8.148018307012941e-07}. Best is trial 45 with value: 0.10302056748521506.\u001b[0m\n"
          ]
        },
        {
          "output_type": "stream",
          "name": "stdout",
          "text": [
            "Did not meet early stopping. Best iteration is:\n",
            "[100]\tTrain's rmse: 0.133579\tTest's rmse: 0.103197\n",
            "Training until validation scores don't improve for 50 rounds.\n"
          ]
        },
        {
          "output_type": "stream",
          "name": "stderr",
          "text": [
            "\u001b[32m[I 2021-12-13 11:56:37,728]\u001b[0m Trial 50 finished with value: 0.10302056727099668 and parameters: {'lambda_l1': 4.329370014459266e-07, 'lambda_l2': 4.4734294104626844e-07}. Best is trial 50 with value: 0.10302056727099668.\u001b[0m\n"
          ]
        },
        {
          "output_type": "stream",
          "name": "stdout",
          "text": [
            "Did not meet early stopping. Best iteration is:\n",
            "[100]\tTrain's rmse: 0.133425\tTest's rmse: 0.103021\n",
            "Training until validation scores don't improve for 50 rounds.\n"
          ]
        },
        {
          "output_type": "stream",
          "name": "stderr",
          "text": [
            "\u001b[32m[I 2021-12-13 11:56:38,044]\u001b[0m Trial 51 finished with value: 0.10302048826473512 and parameters: {'lambda_l1': 5.472429642032198e-06, 'lambda_l2': 0.00052821153945323}. Best is trial 51 with value: 0.10302048826473512.\u001b[0m\n"
          ]
        },
        {
          "output_type": "stream",
          "name": "stdout",
          "text": [
            "Did not meet early stopping. Best iteration is:\n",
            "[100]\tTrain's rmse: 0.133426\tTest's rmse: 0.10302\n",
            "Training until validation scores don't improve for 50 rounds.\n"
          ]
        },
        {
          "output_type": "stream",
          "name": "stderr",
          "text": [
            "\u001b[32m[I 2021-12-13 11:56:38,339]\u001b[0m Trial 52 finished with value: 0.10302059425332936 and parameters: {'lambda_l1': 7.71800699380605e-05, 'lambda_l2': 4.17890272377219e-06}. Best is trial 51 with value: 0.10302048826473512.\u001b[0m\n"
          ]
        },
        {
          "output_type": "stream",
          "name": "stdout",
          "text": [
            "Did not meet early stopping. Best iteration is:\n",
            "[100]\tTrain's rmse: 0.133425\tTest's rmse: 0.103021\n",
            "Training until validation scores don't improve for 50 rounds.\n"
          ]
        },
        {
          "output_type": "stream",
          "name": "stderr",
          "text": [
            "\u001b[32m[I 2021-12-13 11:56:38,653]\u001b[0m Trial 53 finished with value: 0.1030205646095002 and parameters: {'lambda_l1': 6.340273805264716e-06, 'lambda_l2': 3.299511607801006e-05}. Best is trial 51 with value: 0.10302048826473512.\u001b[0m\n"
          ]
        },
        {
          "output_type": "stream",
          "name": "stdout",
          "text": [
            "Did not meet early stopping. Best iteration is:\n",
            "[100]\tTrain's rmse: 0.133425\tTest's rmse: 0.103021\n",
            "Training until validation scores don't improve for 50 rounds.\n"
          ]
        },
        {
          "output_type": "stream",
          "name": "stderr",
          "text": [
            "\u001b[32m[I 2021-12-13 11:56:38,943]\u001b[0m Trial 54 finished with value: 0.10302055530282722 and parameters: {'lambda_l1': 5.345719663255874e-06, 'lambda_l2': 9.060636202649443e-05}. Best is trial 51 with value: 0.10302048826473512.\u001b[0m\n"
          ]
        },
        {
          "output_type": "stream",
          "name": "stdout",
          "text": [
            "Did not meet early stopping. Best iteration is:\n",
            "[100]\tTrain's rmse: 0.133425\tTest's rmse: 0.103021\n",
            "Training until validation scores don't improve for 50 rounds.\n"
          ]
        },
        {
          "output_type": "stream",
          "name": "stderr",
          "text": [
            "\u001b[32m[I 2021-12-13 11:56:39,242]\u001b[0m Trial 55 finished with value: 0.10484684191563352 and parameters: {'lambda_l1': 0.0012317365144257704, 'lambda_l2': 0.00028537206253591963}. Best is trial 51 with value: 0.10302048826473512.\u001b[0m\n"
          ]
        },
        {
          "output_type": "stream",
          "name": "stdout",
          "text": [
            "Did not meet early stopping. Best iteration is:\n",
            "[100]\tTrain's rmse: 0.133277\tTest's rmse: 0.104847\n",
            "Training until validation scores don't improve for 50 rounds.\n"
          ]
        },
        {
          "output_type": "stream",
          "name": "stderr",
          "text": [
            "\u001b[32m[I 2021-12-13 11:56:39,568]\u001b[0m Trial 56 finished with value: 0.10533858742135713 and parameters: {'lambda_l1': 2.0766042477060265e-06, 'lambda_l2': 0.0157932370735966}. Best is trial 51 with value: 0.10302048826473512.\u001b[0m\n"
          ]
        },
        {
          "output_type": "stream",
          "name": "stdout",
          "text": [
            "Did not meet early stopping. Best iteration is:\n",
            "[100]\tTrain's rmse: 0.135826\tTest's rmse: 0.105339\n",
            "Training until validation scores don't improve for 50 rounds.\n"
          ]
        },
        {
          "output_type": "stream",
          "name": "stderr",
          "text": [
            "\u001b[32m[I 2021-12-13 11:56:39,866]\u001b[0m Trial 57 finished with value: 0.10302066797717327 and parameters: {'lambda_l1': 0.0002830080003726822, 'lambda_l2': 1.3139855587432983e-08}. Best is trial 51 with value: 0.10302048826473512.\u001b[0m\n"
          ]
        },
        {
          "output_type": "stream",
          "name": "stdout",
          "text": [
            "Did not meet early stopping. Best iteration is:\n",
            "[100]\tTrain's rmse: 0.133426\tTest's rmse: 0.103021\n",
            "Training until validation scores don't improve for 50 rounds.\n"
          ]
        },
        {
          "output_type": "stream",
          "name": "stderr",
          "text": [
            "\u001b[32m[I 2021-12-13 11:56:40,147]\u001b[0m Trial 58 finished with value: 0.11081054054486045 and parameters: {'lambda_l1': 5.103027507670196, 'lambda_l2': 0.00012746971990445138}. Best is trial 51 with value: 0.10302048826473512.\u001b[0m\n"
          ]
        },
        {
          "output_type": "stream",
          "name": "stdout",
          "text": [
            "Did not meet early stopping. Best iteration is:\n",
            "[100]\tTrain's rmse: 0.143188\tTest's rmse: 0.110811\n",
            "Training until validation scores don't improve for 50 rounds.\n"
          ]
        },
        {
          "output_type": "stream",
          "name": "stderr",
          "text": [
            "\u001b[32m[I 2021-12-13 11:56:40,479]\u001b[0m Trial 59 finished with value: 0.10484659759780904 and parameters: {'lambda_l1': 2.324554602370925e-06, 'lambda_l2': 0.0031036015624253425}. Best is trial 51 with value: 0.10302048826473512.\u001b[0m\n"
          ]
        },
        {
          "output_type": "stream",
          "name": "stdout",
          "text": [
            "Did not meet early stopping. Best iteration is:\n",
            "[100]\tTrain's rmse: 0.133276\tTest's rmse: 0.104847\n",
            "Training until validation scores don't improve for 50 rounds.\n"
          ]
        },
        {
          "output_type": "stream",
          "name": "stderr",
          "text": [
            "\u001b[32m[I 2021-12-13 11:56:40,770]\u001b[0m Trial 60 finished with value: 0.10302057861690711 and parameters: {'lambda_l1': 3.46878712082093e-05, 'lambda_l2': 7.321098518837269e-06}. Best is trial 51 with value: 0.10302048826473512.\u001b[0m\n"
          ]
        },
        {
          "output_type": "stream",
          "name": "stdout",
          "text": [
            "Did not meet early stopping. Best iteration is:\n",
            "[100]\tTrain's rmse: 0.133425\tTest's rmse: 0.103021\n",
            "Training until validation scores don't improve for 50 rounds.\n"
          ]
        },
        {
          "output_type": "stream",
          "name": "stderr",
          "text": [
            "\u001b[32m[I 2021-12-13 11:56:41,086]\u001b[0m Trial 61 finished with value: 0.10805525825678218 and parameters: {'lambda_l1': 2.757303879830078e-07, 'lambda_l2': 0.08102778728418951}. Best is trial 51 with value: 0.10302048826473512.\u001b[0m\n"
          ]
        },
        {
          "output_type": "stream",
          "name": "stdout",
          "text": [
            "Did not meet early stopping. Best iteration is:\n",
            "[100]\tTrain's rmse: 0.135526\tTest's rmse: 0.108055\n",
            "Training until validation scores don't improve for 50 rounds.\n"
          ]
        },
        {
          "output_type": "stream",
          "name": "stderr",
          "text": [
            "\u001b[32m[I 2021-12-13 11:56:41,390]\u001b[0m Trial 62 finished with value: 0.10295807743576686 and parameters: {'lambda_l1': 0.004844973425663015, 'lambda_l2': 0.001660936684817565}. Best is trial 62 with value: 0.10295807743576686.\u001b[0m\n"
          ]
        },
        {
          "output_type": "stream",
          "name": "stdout",
          "text": [
            "Did not meet early stopping. Best iteration is:\n",
            "[100]\tTrain's rmse: 0.134831\tTest's rmse: 0.102958\n",
            "Training until validation scores don't improve for 50 rounds.\n"
          ]
        },
        {
          "output_type": "stream",
          "name": "stderr",
          "text": [
            "\u001b[32m[I 2021-12-13 11:56:41,696]\u001b[0m Trial 63 finished with value: 0.1012409485426328 and parameters: {'min_child_samples': 10}. Best is trial 63 with value: 0.1012409485426328.\u001b[0m\n"
          ]
        },
        {
          "output_type": "stream",
          "name": "stdout",
          "text": [
            "Did not meet early stopping. Best iteration is:\n",
            "[100]\tTrain's rmse: 0.0749864\tTest's rmse: 0.101241\n",
            "Training until validation scores don't improve for 50 rounds.\n"
          ]
        },
        {
          "output_type": "stream",
          "name": "stderr",
          "text": [
            "\u001b[32m[I 2021-12-13 11:56:42,008]\u001b[0m Trial 64 finished with value: 0.18574866770653237 and parameters: {'min_child_samples': 50}. Best is trial 63 with value: 0.1012409485426328.\u001b[0m\n"
          ]
        },
        {
          "output_type": "stream",
          "name": "stdout",
          "text": [
            "Early stopping, best iteration is:\n",
            "[49]\tTrain's rmse: 0.260099\tTest's rmse: 0.185749\n",
            "Training until validation scores don't improve for 50 rounds.\n"
          ]
        },
        {
          "output_type": "stream",
          "name": "stderr",
          "text": [
            "\u001b[32m[I 2021-12-13 11:56:42,263]\u001b[0m Trial 65 finished with value: 0.1380785437705003 and parameters: {'min_child_samples': 5}. Best is trial 63 with value: 0.1012409485426328.\u001b[0m\n"
          ]
        },
        {
          "output_type": "stream",
          "name": "stdout",
          "text": [
            "Early stopping, best iteration is:\n",
            "[39]\tTrain's rmse: 0.0807657\tTest's rmse: 0.138079\n",
            "Training until validation scores don't improve for 50 rounds.\n"
          ]
        },
        {
          "output_type": "stream",
          "name": "stderr",
          "text": [
            "\u001b[32m[I 2021-12-13 11:56:42,585]\u001b[0m Trial 66 finished with value: 0.11098069537609356 and parameters: {'min_child_samples': 25}. Best is trial 63 with value: 0.1012409485426328.\u001b[0m\n"
          ]
        },
        {
          "output_type": "stream",
          "name": "stdout",
          "text": [
            "Did not meet early stopping. Best iteration is:\n",
            "[100]\tTrain's rmse: 0.154377\tTest's rmse: 0.110981\n",
            "Training until validation scores don't improve for 50 rounds.\n"
          ]
        },
        {
          "output_type": "stream",
          "name": "stderr",
          "text": [
            "\u001b[32m[I 2021-12-13 11:56:42,832]\u001b[0m Trial 67 finished with value: 0.22897696224758513 and parameters: {'min_child_samples': 100}. Best is trial 63 with value: 0.1012409485426328.\u001b[0m\n"
          ]
        },
        {
          "output_type": "stream",
          "name": "stdout",
          "text": [
            "Early stopping, best iteration is:\n",
            "[24]\tTrain's rmse: 0.337394\tTest's rmse: 0.228977\n"
          ]
        },
        {
          "output_type": "display_data",
          "data": {
            "image/png": "[encoded data removed]",
            "text/plain": [
              "<Figure size 432x288 with 1 Axes>"
            ]
          },
          "metadata": {
            "needs_background": "light"
          }
        },
        {
          "output_type": "stream",
          "name": "stderr",
          "text": [
            "\u001b[32m[I 2021-12-13 11:56:43,039]\u001b[0m A new study created in memory with name: no-name-a74629ea-210d-4571-9d93-a4823cd6718d\u001b[0m\n"
          ]
        },
        {
          "output_type": "stream",
          "name": "stdout",
          "text": [
            "Training until validation scores don't improve for 50 rounds.\n"
          ]
        },
        {
          "output_type": "stream",
          "name": "stderr",
          "text": [
            "\u001b[32m[I 2021-12-13 11:56:43,362]\u001b[0m Trial 0 finished with value: 0.17464593003271933 and parameters: {'feature_fraction': 0.4}. Best is trial 0 with value: 0.17464593003271933.\u001b[0m\n"
          ]
        },
        {
          "output_type": "stream",
          "name": "stdout",
          "text": [
            "Did not meet early stopping. Best iteration is:\n",
            "[100]\tTrain's rmse: 0.140306\tTest's rmse: 0.174646\n",
            "Training until validation scores don't improve for 50 rounds.\n"
          ]
        },
        {
          "output_type": "stream",
          "name": "stderr",
          "text": [
            "\u001b[32m[I 2021-12-13 11:56:43,769]\u001b[0m Trial 1 finished with value: 0.14231731003631473 and parameters: {'feature_fraction': 0.7}. Best is trial 1 with value: 0.14231731003631473.\u001b[0m\n"
          ]
        },
        {
          "output_type": "stream",
          "name": "stdout",
          "text": [
            "Did not meet early stopping. Best iteration is:\n",
            "[100]\tTrain's rmse: 0.124599\tTest's rmse: 0.142317\n",
            "Training until validation scores don't improve for 50 rounds.\n"
          ]
        },
        {
          "output_type": "stream",
          "name": "stderr",
          "text": [
            "\u001b[32m[I 2021-12-13 11:56:44,187]\u001b[0m Trial 2 finished with value: 0.13925631595127572 and parameters: {'feature_fraction': 0.8}. Best is trial 2 with value: 0.13925631595127572.\u001b[0m\n"
          ]
        },
        {
          "output_type": "stream",
          "name": "stdout",
          "text": [
            "Did not meet early stopping. Best iteration is:\n",
            "[100]\tTrain's rmse: 0.128875\tTest's rmse: 0.139256\n",
            "Training until validation scores don't improve for 50 rounds.\n"
          ]
        },
        {
          "output_type": "stream",
          "name": "stderr",
          "text": [
            "\u001b[32m[I 2021-12-13 11:56:44,648]\u001b[0m Trial 3 finished with value: 0.139473228921955 and parameters: {'feature_fraction': 0.8999999999999999}. Best is trial 2 with value: 0.13925631595127572.\u001b[0m\n"
          ]
        },
        {
          "output_type": "stream",
          "name": "stdout",
          "text": [
            "Did not meet early stopping. Best iteration is:\n",
            "[100]\tTrain's rmse: 0.141856\tTest's rmse: 0.139473\n",
            "Training until validation scores don't improve for 50 rounds.\n"
          ]
        },
        {
          "output_type": "stream",
          "name": "stderr",
          "text": [
            "\u001b[32m[I 2021-12-13 11:56:44,995]\u001b[0m Trial 4 finished with value: 0.16167365823684848 and parameters: {'feature_fraction': 0.5}. Best is trial 2 with value: 0.13925631595127572.\u001b[0m\n"
          ]
        },
        {
          "output_type": "stream",
          "name": "stdout",
          "text": [
            "Did not meet early stopping. Best iteration is:\n",
            "[100]\tTrain's rmse: 0.130492\tTest's rmse: 0.161674\n",
            "Training until validation scores don't improve for 50 rounds.\n"
          ]
        },
        {
          "output_type": "stream",
          "name": "stderr",
          "text": [
            "\u001b[32m[I 2021-12-13 11:56:45,453]\u001b[0m Trial 5 finished with value: 0.14150262343439804 and parameters: {'feature_fraction': 1.0}. Best is trial 2 with value: 0.13925631595127572.\u001b[0m\n"
          ]
        },
        {
          "output_type": "stream",
          "name": "stdout",
          "text": [
            "Did not meet early stopping. Best iteration is:\n",
            "[100]\tTrain's rmse: 0.146988\tTest's rmse: 0.141503\n",
            "Training until validation scores don't improve for 50 rounds.\n"
          ]
        },
        {
          "output_type": "stream",
          "name": "stderr",
          "text": [
            "\u001b[32m[I 2021-12-13 11:56:45,837]\u001b[0m Trial 6 finished with value: 0.1442742824485471 and parameters: {'feature_fraction': 0.6}. Best is trial 2 with value: 0.13925631595127572.\u001b[0m\n"
          ]
        },
        {
          "output_type": "stream",
          "name": "stdout",
          "text": [
            "Did not meet early stopping. Best iteration is:\n",
            "[100]\tTrain's rmse: 0.123915\tTest's rmse: 0.144274\n",
            "Training until validation scores don't improve for 50 rounds.\n"
          ]
        },
        {
          "output_type": "stream",
          "name": "stderr",
          "text": [
            "\u001b[32m[I 2021-12-13 11:56:46,687]\u001b[0m Trial 7 finished with value: 0.14630680319500106 and parameters: {'num_leaves': 97}. Best is trial 7 with value: 0.14630680319500106.\u001b[0m\n"
          ]
        },
        {
          "output_type": "stream",
          "name": "stdout",
          "text": [
            "Did not meet early stopping. Best iteration is:\n",
            "[100]\tTrain's rmse: 0.139733\tTest's rmse: 0.146307\n",
            "Training until validation scores don't improve for 50 rounds.\n"
          ]
        },
        {
          "output_type": "stream",
          "name": "stderr",
          "text": [
            "\u001b[32m[I 2021-12-13 11:56:48,363]\u001b[0m Trial 8 finished with value: 0.1491971436334064 and parameters: {'num_leaves': 244}. Best is trial 7 with value: 0.14630680319500106.\u001b[0m\n"
          ]
        },
        {
          "output_type": "stream",
          "name": "stdout",
          "text": [
            "Did not meet early stopping. Best iteration is:\n",
            "[100]\tTrain's rmse: 0.133802\tTest's rmse: 0.149197\n",
            "Training until validation scores don't improve for 50 rounds.\n"
          ]
        },
        {
          "output_type": "stream",
          "name": "stderr",
          "text": [
            "\u001b[32m[I 2021-12-13 11:56:49,775]\u001b[0m Trial 9 finished with value: 0.14912360810456546 and parameters: {'num_leaves': 188}. Best is trial 7 with value: 0.14630680319500106.\u001b[0m\n"
          ]
        },
        {
          "output_type": "stream",
          "name": "stdout",
          "text": [
            "Did not meet early stopping. Best iteration is:\n",
            "[100]\tTrain's rmse: 0.135435\tTest's rmse: 0.149124\n",
            "Training until validation scores don't improve for 50 rounds.\n"
          ]
        },
        {
          "output_type": "stream",
          "name": "stderr",
          "text": [
            "\u001b[32m[I 2021-12-13 11:56:50,971]\u001b[0m Trial 10 finished with value: 0.14521368590807787 and parameters: {'num_leaves': 154}. Best is trial 10 with value: 0.14521368590807787.\u001b[0m\n"
          ]
        },
        {
          "output_type": "stream",
          "name": "stdout",
          "text": [
            "Did not meet early stopping. Best iteration is:\n",
            "[100]\tTrain's rmse: 0.136445\tTest's rmse: 0.145214\n",
            "Training until validation scores don't improve for 50 rounds.\n"
          ]
        },
        {
          "output_type": "stream",
          "name": "stderr",
          "text": [
            "\u001b[32m[I 2021-12-13 11:56:51,454]\u001b[0m Trial 11 finished with value: 0.14443932022891917 and parameters: {'num_leaves': 41}. Best is trial 11 with value: 0.14443932022891917.\u001b[0m\n"
          ]
        },
        {
          "output_type": "stream",
          "name": "stdout",
          "text": [
            "Did not meet early stopping. Best iteration is:\n",
            "[100]\tTrain's rmse: 0.138036\tTest's rmse: 0.144439\n",
            "Training until validation scores don't improve for 50 rounds.\n"
          ]
        },
        {
          "output_type": "stream",
          "name": "stderr",
          "text": [
            "\u001b[32m[I 2021-12-13 11:56:51,951]\u001b[0m Trial 12 finished with value: 0.14443932022891917 and parameters: {'num_leaves': 41}. Best is trial 11 with value: 0.14443932022891917.\u001b[0m\n"
          ]
        },
        {
          "output_type": "stream",
          "name": "stdout",
          "text": [
            "Did not meet early stopping. Best iteration is:\n",
            "[100]\tTrain's rmse: 0.138036\tTest's rmse: 0.144439\n",
            "Training until validation scores don't improve for 50 rounds.\n"
          ]
        },
        {
          "output_type": "stream",
          "name": "stderr",
          "text": [
            "\u001b[32m[I 2021-12-13 11:56:52,247]\u001b[0m Trial 13 finished with value: 0.14130179768870463 and parameters: {'num_leaves': 16}. Best is trial 13 with value: 0.14130179768870463.\u001b[0m\n"
          ]
        },
        {
          "output_type": "stream",
          "name": "stdout",
          "text": [
            "Did not meet early stopping. Best iteration is:\n",
            "[100]\tTrain's rmse: 0.123726\tTest's rmse: 0.141302\n",
            "Training until validation scores don't improve for 50 rounds.\n"
          ]
        },
        {
          "output_type": "stream",
          "name": "stderr",
          "text": [
            "\u001b[32m[I 2021-12-13 11:56:53,815]\u001b[0m Trial 14 finished with value: 0.1489908500800281 and parameters: {'num_leaves': 222}. Best is trial 13 with value: 0.14130179768870463.\u001b[0m\n"
          ]
        },
        {
          "output_type": "stream",
          "name": "stdout",
          "text": [
            "Did not meet early stopping. Best iteration is:\n",
            "[100]\tTrain's rmse: 0.136839\tTest's rmse: 0.148991\n",
            "Training until validation scores don't improve for 50 rounds.\n"
          ]
        },
        {
          "output_type": "stream",
          "name": "stderr",
          "text": [
            "\u001b[32m[I 2021-12-13 11:56:55,007]\u001b[0m Trial 15 finished with value: 0.14601426096992637 and parameters: {'num_leaves': 155}. Best is trial 13 with value: 0.14130179768870463.\u001b[0m\n"
          ]
        },
        {
          "output_type": "stream",
          "name": "stdout",
          "text": [
            "Did not meet early stopping. Best iteration is:\n",
            "[100]\tTrain's rmse: 0.138026\tTest's rmse: 0.146014\n",
            "Training until validation scores don't improve for 50 rounds.\n"
          ]
        },
        {
          "output_type": "stream",
          "name": "stderr",
          "text": [
            "\u001b[32m[I 2021-12-13 11:56:56,360]\u001b[0m Trial 16 finished with value: 0.14655343968325088 and parameters: {'num_leaves': 182}. Best is trial 13 with value: 0.14130179768870463.\u001b[0m\n"
          ]
        },
        {
          "output_type": "stream",
          "name": "stdout",
          "text": [
            "Did not meet early stopping. Best iteration is:\n",
            "[100]\tTrain's rmse: 0.133016\tTest's rmse: 0.146553\n",
            "Training until validation scores don't improve for 50 rounds.\n"
          ]
        },
        {
          "output_type": "stream",
          "name": "stderr",
          "text": [
            "\u001b[32m[I 2021-12-13 11:56:56,553]\u001b[0m Trial 17 finished with value: 0.1477562938075823 and parameters: {'num_leaves': 7}. Best is trial 13 with value: 0.14130179768870463.\u001b[0m\n"
          ]
        },
        {
          "output_type": "stream",
          "name": "stdout",
          "text": [
            "Did not meet early stopping. Best iteration is:\n",
            "[100]\tTrain's rmse: 0.1325\tTest's rmse: 0.147756\n",
            "Training until validation scores don't improve for 50 rounds.\n"
          ]
        },
        {
          "output_type": "stream",
          "name": "stderr",
          "text": [
            "\u001b[32m[I 2021-12-13 11:56:57,289]\u001b[0m Trial 18 finished with value: 0.14549598112770595 and parameters: {'num_leaves': 76}. Best is trial 13 with value: 0.14130179768870463.\u001b[0m\n",
            "\u001b[32m[I 2021-12-13 11:56:57,438]\u001b[0m Trial 19 finished with value: 0.16269649760226693 and parameters: {'num_leaves': 3}. Best is trial 13 with value: 0.14130179768870463.\u001b[0m\n"
          ]
        },
        {
          "output_type": "stream",
          "name": "stdout",
          "text": [
            "Did not meet early stopping. Best iteration is:\n",
            "[100]\tTrain's rmse: 0.13448\tTest's rmse: 0.145496\n",
            "Training until validation scores don't improve for 50 rounds.\n",
            "Did not meet early stopping. Best iteration is:\n",
            "[100]\tTrain's rmse: 0.199713\tTest's rmse: 0.162696\n",
            "Training until validation scores don't improve for 50 rounds.\n"
          ]
        },
        {
          "output_type": "stream",
          "name": "stderr",
          "text": [
            "\u001b[32m[I 2021-12-13 11:56:58,048]\u001b[0m Trial 20 finished with value: 0.14344032340350074 and parameters: {'num_leaves': 57}. Best is trial 13 with value: 0.14130179768870463.\u001b[0m\n"
          ]
        },
        {
          "output_type": "stream",
          "name": "stdout",
          "text": [
            "Did not meet early stopping. Best iteration is:\n",
            "[100]\tTrain's rmse: 0.131985\tTest's rmse: 0.14344\n",
            "Training until validation scores don't improve for 50 rounds.\n"
          ]
        },
        {
          "output_type": "stream",
          "name": "stderr",
          "text": [
            "\u001b[32m[I 2021-12-13 11:56:58,888]\u001b[0m Trial 21 finished with value: 0.1458488789794424 and parameters: {'num_leaves': 91}. Best is trial 13 with value: 0.14130179768870463.\u001b[0m\n"
          ]
        },
        {
          "output_type": "stream",
          "name": "stdout",
          "text": [
            "Did not meet early stopping. Best iteration is:\n",
            "[100]\tTrain's rmse: 0.131912\tTest's rmse: 0.145849\n",
            "Training until validation scores don't improve for 50 rounds.\n"
          ]
        },
        {
          "output_type": "stream",
          "name": "stderr",
          "text": [
            "\u001b[32m[I 2021-12-13 11:56:59,439]\u001b[0m Trial 22 finished with value: 0.14186725445271522 and parameters: {'num_leaves': 47}. Best is trial 13 with value: 0.14130179768870463.\u001b[0m\n"
          ]
        },
        {
          "output_type": "stream",
          "name": "stdout",
          "text": [
            "Did not meet early stopping. Best iteration is:\n",
            "[100]\tTrain's rmse: 0.136075\tTest's rmse: 0.141867\n",
            "Training until validation scores don't improve for 50 rounds.\n"
          ]
        },
        {
          "output_type": "stream",
          "name": "stderr",
          "text": [
            "\u001b[32m[I 2021-12-13 11:57:00,437]\u001b[0m Trial 23 finished with value: 0.1474424158648623 and parameters: {'num_leaves': 119}. Best is trial 13 with value: 0.14130179768870463.\u001b[0m\n"
          ]
        },
        {
          "output_type": "stream",
          "name": "stdout",
          "text": [
            "Did not meet early stopping. Best iteration is:\n",
            "[100]\tTrain's rmse: 0.13841\tTest's rmse: 0.147442\n",
            "Training until validation scores don't improve for 50 rounds.\n"
          ]
        },
        {
          "output_type": "stream",
          "name": "stderr",
          "text": [
            "\u001b[32m[I 2021-12-13 11:57:00,872]\u001b[0m Trial 24 finished with value: 0.14351612846567185 and parameters: {'num_leaves': 32}. Best is trial 13 with value: 0.14130179768870463.\u001b[0m\n"
          ]
        },
        {
          "output_type": "stream",
          "name": "stdout",
          "text": [
            "Did not meet early stopping. Best iteration is:\n",
            "[100]\tTrain's rmse: 0.140096\tTest's rmse: 0.143516\n",
            "Training until validation scores don't improve for 50 rounds.\n"
          ]
        },
        {
          "output_type": "stream",
          "name": "stderr",
          "text": [
            "\u001b[32m[I 2021-12-13 11:57:01,562]\u001b[0m Trial 25 finished with value: 0.14219825947271214 and parameters: {'num_leaves': 68}. Best is trial 13 with value: 0.14130179768870463.\u001b[0m\n"
          ]
        },
        {
          "output_type": "stream",
          "name": "stdout",
          "text": [
            "Did not meet early stopping. Best iteration is:\n",
            "[100]\tTrain's rmse: 0.133931\tTest's rmse: 0.142198\n",
            "Training until validation scores don't improve for 50 rounds.\n"
          ]
        },
        {
          "output_type": "stream",
          "name": "stderr",
          "text": [
            "\u001b[32m[I 2021-12-13 11:57:01,861]\u001b[0m Trial 26 finished with value: 0.1425377642722612 and parameters: {'num_leaves': 14}. Best is trial 13 with value: 0.14130179768870463.\u001b[0m\n"
          ]
        },
        {
          "output_type": "stream",
          "name": "stdout",
          "text": [
            "Did not meet early stopping. Best iteration is:\n",
            "[100]\tTrain's rmse: 0.127461\tTest's rmse: 0.142538\n",
            "Training until validation scores don't improve for 50 rounds.\n"
          ]
        },
        {
          "output_type": "stream",
          "name": "stderr",
          "text": [
            "\u001b[32m[I 2021-12-13 11:57:02,343]\u001b[0m Trial 27 finished with value: 0.16310487380891445 and parameters: {'bagging_fraction': 0.624724071308792, 'bagging_freq': 7}. Best is trial 27 with value: 0.16310487380891445.\u001b[0m\n"
          ]
        },
        {
          "output_type": "stream",
          "name": "stdout",
          "text": [
            "Did not meet early stopping. Best iteration is:\n",
            "[100]\tTrain's rmse: 0.163166\tTest's rmse: 0.163105\n",
            "Training until validation scores don't improve for 50 rounds.\n"
          ]
        },
        {
          "output_type": "stream",
          "name": "stderr",
          "text": [
            "\u001b[32m[I 2021-12-13 11:57:02,827]\u001b[0m Trial 28 finished with value: 0.15518285491290318 and parameters: {'bagging_fraction': 0.8391963650875751, 'bagging_freq': 5}. Best is trial 28 with value: 0.15518285491290318.\u001b[0m\n"
          ]
        },
        {
          "output_type": "stream",
          "name": "stdout",
          "text": [
            "Did not meet early stopping. Best iteration is:\n",
            "[100]\tTrain's rmse: 0.151943\tTest's rmse: 0.155183\n",
            "Training until validation scores don't improve for 50 rounds.\n"
          ]
        },
        {
          "output_type": "stream",
          "name": "stderr",
          "text": [
            "\u001b[32m[I 2021-12-13 11:57:03,261]\u001b[0m Trial 29 finished with value: 0.15894201523799784 and parameters: {'bagging_fraction': 0.49361118426561795, 'bagging_freq': 2}. Best is trial 28 with value: 0.15518285491290318.\u001b[0m\n"
          ]
        },
        {
          "output_type": "stream",
          "name": "stdout",
          "text": [
            "Early stopping, best iteration is:\n",
            "[35]\tTrain's rmse: 0.207583\tTest's rmse: 0.158942\n",
            "Training until validation scores don't improve for 50 rounds.\n"
          ]
        },
        {
          "output_type": "stream",
          "name": "stderr",
          "text": [
            "\u001b[32m[I 2021-12-13 11:57:03,728]\u001b[0m Trial 30 finished with value: 0.15106925878005636 and parameters: {'bagging_fraction': 0.4348501673009778, 'bagging_freq': 7}. Best is trial 30 with value: 0.15106925878005636.\u001b[0m\n"
          ]
        },
        {
          "output_type": "stream",
          "name": "stdout",
          "text": [
            "Did not meet early stopping. Best iteration is:\n",
            "[100]\tTrain's rmse: 0.178765\tTest's rmse: 0.151069\n",
            "Training until validation scores don't improve for 50 rounds.\n"
          ]
        },
        {
          "output_type": "stream",
          "name": "stderr",
          "text": [
            "\u001b[32m[I 2021-12-13 11:57:04,227]\u001b[0m Trial 31 finished with value: 0.1543334450756596 and parameters: {'bagging_fraction': 0.7606690070465265, 'bagging_freq': 5}. Best is trial 30 with value: 0.15106925878005636.\u001b[0m\n"
          ]
        },
        {
          "output_type": "stream",
          "name": "stdout",
          "text": [
            "Did not meet early stopping. Best iteration is:\n",
            "[100]\tTrain's rmse: 0.160793\tTest's rmse: 0.154333\n",
            "Training until validation scores don't improve for 50 rounds.\n"
          ]
        },
        {
          "output_type": "stream",
          "name": "stderr",
          "text": [
            "\u001b[32m[I 2021-12-13 11:57:04,682]\u001b[0m Trial 32 finished with value: 0.1526267504438698 and parameters: {'bagging_fraction': 0.41235069657750206, 'bagging_freq': 7}. Best is trial 30 with value: 0.15106925878005636.\u001b[0m\n"
          ]
        },
        {
          "output_type": "stream",
          "name": "stdout",
          "text": [
            "Did not meet early stopping. Best iteration is:\n",
            "[96]\tTrain's rmse: 0.185135\tTest's rmse: 0.152627\n",
            "Training until validation scores don't improve for 50 rounds.\n"
          ]
        },
        {
          "output_type": "stream",
          "name": "stderr",
          "text": [
            "\u001b[32m[I 2021-12-13 11:57:05,210]\u001b[0m Trial 33 finished with value: 0.14927828511720734 and parameters: {'bagging_fraction': 0.8994655844810855, 'bagging_freq': 2}. Best is trial 33 with value: 0.14927828511720734.\u001b[0m\n"
          ]
        },
        {
          "output_type": "stream",
          "name": "stdout",
          "text": [
            "Did not meet early stopping. Best iteration is:\n",
            "[100]\tTrain's rmse: 0.145306\tTest's rmse: 0.149278\n",
            "Training until validation scores don't improve for 50 rounds.\n"
          ]
        },
        {
          "output_type": "stream",
          "name": "stderr",
          "text": [
            "\u001b[32m[I 2021-12-13 11:57:05,691]\u001b[0m Trial 34 finished with value: 0.15944730767924767 and parameters: {'bagging_fraction': 0.5090949803244422, 'bagging_freq': 2}. Best is trial 33 with value: 0.14927828511720734.\u001b[0m\n"
          ]
        },
        {
          "output_type": "stream",
          "name": "stdout",
          "text": [
            "Did not meet early stopping. Best iteration is:\n",
            "[98]\tTrain's rmse: 0.175664\tTest's rmse: 0.159447\n",
            "Training until validation scores don't improve for 50 rounds.\n"
          ]
        },
        {
          "output_type": "stream",
          "name": "stderr",
          "text": [
            "\u001b[32m[I 2021-12-13 11:57:06,194]\u001b[0m Trial 35 finished with value: 0.15434256215833772 and parameters: {'bagging_fraction': 0.5825453457760269, 'bagging_freq': 4}. Best is trial 33 with value: 0.14927828511720734.\u001b[0m\n"
          ]
        },
        {
          "output_type": "stream",
          "name": "stdout",
          "text": [
            "Did not meet early stopping. Best iteration is:\n",
            "[98]\tTrain's rmse: 0.170882\tTest's rmse: 0.154343\n",
            "Training until validation scores don't improve for 50 rounds.\n"
          ]
        },
        {
          "output_type": "stream",
          "name": "stderr",
          "text": [
            "\u001b[32m[I 2021-12-13 11:57:06,673]\u001b[0m Trial 36 finished with value: 0.15278106633916602 and parameters: {'bagging_fraction': 0.6591670111857015, 'bagging_freq': 3}. Best is trial 33 with value: 0.14927828511720734.\u001b[0m\n"
          ]
        },
        {
          "output_type": "stream",
          "name": "stdout",
          "text": [
            "Did not meet early stopping. Best iteration is:\n",
            "[99]\tTrain's rmse: 0.164543\tTest's rmse: 0.152781\n",
            "Training until validation scores don't improve for 50 rounds.\n"
          ]
        },
        {
          "output_type": "stream",
          "name": "stderr",
          "text": [
            "\u001b[32m[I 2021-12-13 11:57:07,131]\u001b[0m Trial 37 finished with value: 0.13925631595127572 and parameters: {'feature_fraction': 0.8160000000000001}. Best is trial 37 with value: 0.13925631595127572.\u001b[0m\n"
          ]
        },
        {
          "output_type": "stream",
          "name": "stdout",
          "text": [
            "Did not meet early stopping. Best iteration is:\n",
            "[100]\tTrain's rmse: 0.128875\tTest's rmse: 0.139256\n",
            "Training until validation scores don't improve for 50 rounds.\n"
          ]
        },
        {
          "output_type": "stream",
          "name": "stderr",
          "text": [
            "\u001b[32m[I 2021-12-13 11:57:07,511]\u001b[0m Trial 38 finished with value: 0.14231731003631473 and parameters: {'feature_fraction': 0.7200000000000001}. Best is trial 37 with value: 0.13925631595127572.\u001b[0m\n"
          ]
        },
        {
          "output_type": "stream",
          "name": "stdout",
          "text": [
            "Did not meet early stopping. Best iteration is:\n",
            "[100]\tTrain's rmse: 0.124599\tTest's rmse: 0.142317\n",
            "Training until validation scores don't improve for 50 rounds.\n"
          ]
        },
        {
          "output_type": "stream",
          "name": "stderr",
          "text": [
            "\u001b[32m[I 2021-12-13 11:57:07,933]\u001b[0m Trial 39 finished with value: 0.14161883447338924 and parameters: {'feature_fraction': 0.8480000000000001}. Best is trial 37 with value: 0.13925631595127572.\u001b[0m\n"
          ]
        },
        {
          "output_type": "stream",
          "name": "stdout",
          "text": [
            "Did not meet early stopping. Best iteration is:\n",
            "[100]\tTrain's rmse: 0.142468\tTest's rmse: 0.141619\n",
            "Training until validation scores don't improve for 50 rounds.\n"
          ]
        },
        {
          "output_type": "stream",
          "name": "stderr",
          "text": [
            "\u001b[32m[I 2021-12-13 11:57:08,385]\u001b[0m Trial 40 finished with value: 0.14161883447338924 and parameters: {'feature_fraction': 0.88}. Best is trial 37 with value: 0.13925631595127572.\u001b[0m\n"
          ]
        },
        {
          "output_type": "stream",
          "name": "stdout",
          "text": [
            "Did not meet early stopping. Best iteration is:\n",
            "[100]\tTrain's rmse: 0.142468\tTest's rmse: 0.141619\n",
            "Training until validation scores don't improve for 50 rounds.\n"
          ]
        },
        {
          "output_type": "stream",
          "name": "stderr",
          "text": [
            "\u001b[32m[I 2021-12-13 11:57:08,790]\u001b[0m Trial 41 finished with value: 0.14149331685906763 and parameters: {'feature_fraction': 0.784}. Best is trial 37 with value: 0.13925631595127572.\u001b[0m\n"
          ]
        },
        {
          "output_type": "stream",
          "name": "stdout",
          "text": [
            "Did not meet early stopping. Best iteration is:\n",
            "[100]\tTrain's rmse: 0.122336\tTest's rmse: 0.141493\n",
            "Training until validation scores don't improve for 50 rounds.\n"
          ]
        },
        {
          "output_type": "stream",
          "name": "stderr",
          "text": [
            "\u001b[32m[I 2021-12-13 11:57:09,205]\u001b[0m Trial 42 finished with value: 0.14149331685906763 and parameters: {'feature_fraction': 0.7520000000000001}. Best is trial 37 with value: 0.13925631595127572.\u001b[0m\n"
          ]
        },
        {
          "output_type": "stream",
          "name": "stdout",
          "text": [
            "Did not meet early stopping. Best iteration is:\n",
            "[100]\tTrain's rmse: 0.122336\tTest's rmse: 0.141493\n",
            "Training until validation scores don't improve for 50 rounds.\n"
          ]
        },
        {
          "output_type": "stream",
          "name": "stderr",
          "text": [
            "\u001b[32m[I 2021-12-13 11:57:09,615]\u001b[0m Trial 43 finished with value: 0.15391867801855197 and parameters: {'lambda_l1': 2.348881295853308e-05, 'lambda_l2': 3.6010467344475403}. Best is trial 43 with value: 0.15391867801855197.\u001b[0m\n"
          ]
        },
        {
          "output_type": "stream",
          "name": "stdout",
          "text": [
            "Did not meet early stopping. Best iteration is:\n",
            "[100]\tTrain's rmse: 0.132844\tTest's rmse: 0.153919\n",
            "Training until validation scores don't improve for 50 rounds.\n"
          ]
        },
        {
          "output_type": "stream",
          "name": "stderr",
          "text": [
            "\u001b[32m[I 2021-12-13 11:57:10,022]\u001b[0m Trial 44 finished with value: 0.14307167349040642 and parameters: {'lambda_l1': 0.038720902953704193, 'lambda_l2': 0.0024430162614261413}. Best is trial 44 with value: 0.14307167349040642.\u001b[0m\n"
          ]
        },
        {
          "output_type": "stream",
          "name": "stdout",
          "text": [
            "Did not meet early stopping. Best iteration is:\n",
            "[100]\tTrain's rmse: 0.138081\tTest's rmse: 0.143072\n",
            "Training until validation scores don't improve for 50 rounds.\n"
          ]
        },
        {
          "output_type": "stream",
          "name": "stderr",
          "text": [
            "\u001b[32m[I 2021-12-13 11:57:10,453]\u001b[0m Trial 45 finished with value: 0.13925631653874074 and parameters: {'lambda_l1': 2.5361081166471375e-07, 'lambda_l2': 2.5348407664333426e-07}. Best is trial 45 with value: 0.13925631653874074.\u001b[0m\n"
          ]
        },
        {
          "output_type": "stream",
          "name": "stdout",
          "text": [
            "Did not meet early stopping. Best iteration is:\n",
            "[100]\tTrain's rmse: 0.128875\tTest's rmse: 0.139256\n",
            "Training until validation scores don't improve for 50 rounds.\n"
          ]
        },
        {
          "output_type": "stream",
          "name": "stderr",
          "text": [
            "\u001b[32m[I 2021-12-13 11:57:10,856]\u001b[0m Trial 46 finished with value: 0.14464888451299818 and parameters: {'lambda_l1': 3.3323645788192616e-08, 'lambda_l2': 0.6245760287469893}. Best is trial 45 with value: 0.13925631653874074.\u001b[0m\n"
          ]
        },
        {
          "output_type": "stream",
          "name": "stdout",
          "text": [
            "Did not meet early stopping. Best iteration is:\n",
            "[100]\tTrain's rmse: 0.139212\tTest's rmse: 0.144649\n",
            "Training until validation scores don't improve for 50 rounds.\n"
          ]
        },
        {
          "output_type": "stream",
          "name": "stderr",
          "text": [
            "\u001b[32m[I 2021-12-13 11:57:11,285]\u001b[0m Trial 47 finished with value: 0.1431396720399117 and parameters: {'lambda_l1': 0.002570603566117598, 'lambda_l2': 0.023585940584142682}. Best is trial 45 with value: 0.13925631653874074.\u001b[0m\n"
          ]
        },
        {
          "output_type": "stream",
          "name": "stdout",
          "text": [
            "Did not meet early stopping. Best iteration is:\n",
            "[100]\tTrain's rmse: 0.13541\tTest's rmse: 0.14314\n",
            "Training until validation scores don't improve for 50 rounds.\n"
          ]
        },
        {
          "output_type": "stream",
          "name": "stderr",
          "text": [
            "\u001b[32m[I 2021-12-13 11:57:11,700]\u001b[0m Trial 48 finished with value: 0.15256696137280926 and parameters: {'lambda_l1': 1.5320059381854043e-08, 'lambda_l2': 5.360294728728285}. Best is trial 45 with value: 0.13925631653874074.\u001b[0m\n"
          ]
        },
        {
          "output_type": "stream",
          "name": "stdout",
          "text": [
            "Did not meet early stopping. Best iteration is:\n",
            "[100]\tTrain's rmse: 0.131993\tTest's rmse: 0.152567\n",
            "Training until validation scores don't improve for 50 rounds.\n"
          ]
        },
        {
          "output_type": "stream",
          "name": "stderr",
          "text": [
            "\u001b[32m[I 2021-12-13 11:57:12,092]\u001b[0m Trial 49 finished with value: 0.14350421860214582 and parameters: {'lambda_l1': 0.31044435499483225, 'lambda_l2': 8.148018307012941e-07}. Best is trial 45 with value: 0.13925631653874074.\u001b[0m\n"
          ]
        },
        {
          "output_type": "stream",
          "name": "stdout",
          "text": [
            "Did not meet early stopping. Best iteration is:\n",
            "[100]\tTrain's rmse: 0.13418\tTest's rmse: 0.143504\n",
            "Training until validation scores don't improve for 50 rounds.\n"
          ]
        },
        {
          "output_type": "stream",
          "name": "stderr",
          "text": [
            "\u001b[32m[I 2021-12-13 11:57:12,532]\u001b[0m Trial 50 finished with value: 0.13925631697289753 and parameters: {'lambda_l1': 4.329370014459266e-07, 'lambda_l2': 4.4734294104626844e-07}. Best is trial 45 with value: 0.13925631653874074.\u001b[0m\n"
          ]
        },
        {
          "output_type": "stream",
          "name": "stdout",
          "text": [
            "Did not meet early stopping. Best iteration is:\n",
            "[100]\tTrain's rmse: 0.128875\tTest's rmse: 0.139256\n",
            "Training until validation scores don't improve for 50 rounds.\n"
          ]
        },
        {
          "output_type": "stream",
          "name": "stderr",
          "text": [
            "\u001b[32m[I 2021-12-13 11:57:12,959]\u001b[0m Trial 51 finished with value: 0.13925587413886542 and parameters: {'lambda_l1': 5.472429642032198e-06, 'lambda_l2': 0.00052821153945323}. Best is trial 51 with value: 0.13925587413886542.\u001b[0m\n"
          ]
        },
        {
          "output_type": "stream",
          "name": "stdout",
          "text": [
            "Did not meet early stopping. Best iteration is:\n",
            "[100]\tTrain's rmse: 0.128874\tTest's rmse: 0.139256\n",
            "Training until validation scores don't improve for 50 rounds.\n"
          ]
        },
        {
          "output_type": "stream",
          "name": "stderr",
          "text": [
            "\u001b[32m[I 2021-12-13 11:57:13,394]\u001b[0m Trial 52 finished with value: 0.14347378684668602 and parameters: {'lambda_l1': 7.71800699380605e-05, 'lambda_l2': 4.17890272377219e-06}. Best is trial 51 with value: 0.13925587413886542.\u001b[0m\n"
          ]
        },
        {
          "output_type": "stream",
          "name": "stdout",
          "text": [
            "Did not meet early stopping. Best iteration is:\n",
            "[100]\tTrain's rmse: 0.135955\tTest's rmse: 0.143474\n",
            "Training until validation scores don't improve for 50 rounds.\n"
          ]
        },
        {
          "output_type": "stream",
          "name": "stderr",
          "text": [
            "\u001b[32m[I 2021-12-13 11:57:13,799]\u001b[0m Trial 53 finished with value: 0.13925633794622058 and parameters: {'lambda_l1': 6.340273805264716e-06, 'lambda_l2': 3.299511607801006e-05}. Best is trial 51 with value: 0.13925587413886542.\u001b[0m\n"
          ]
        },
        {
          "output_type": "stream",
          "name": "stdout",
          "text": [
            "Did not meet early stopping. Best iteration is:\n",
            "[100]\tTrain's rmse: 0.128875\tTest's rmse: 0.139256\n",
            "Training until validation scores don't improve for 50 rounds.\n"
          ]
        },
        {
          "output_type": "stream",
          "name": "stderr",
          "text": [
            "\u001b[32m[I 2021-12-13 11:57:14,238]\u001b[0m Trial 54 finished with value: 0.13925631766390562 and parameters: {'lambda_l1': 1.0975246698422151e-06, 'lambda_l2': 1.700171186192954e-08}. Best is trial 51 with value: 0.13925587413886542.\u001b[0m\n"
          ]
        },
        {
          "output_type": "stream",
          "name": "stdout",
          "text": [
            "Did not meet early stopping. Best iteration is:\n",
            "[100]\tTrain's rmse: 0.128875\tTest's rmse: 0.139256\n",
            "Training until validation scores don't improve for 50 rounds.\n"
          ]
        },
        {
          "output_type": "stream",
          "name": "stderr",
          "text": [
            "\u001b[32m[I 2021-12-13 11:57:14,654]\u001b[0m Trial 55 finished with value: 0.14353250179235272 and parameters: {'lambda_l1': 0.0012317365144257704, 'lambda_l2': 0.0005019490480004477}. Best is trial 51 with value: 0.13925587413886542.\u001b[0m\n"
          ]
        },
        {
          "output_type": "stream",
          "name": "stdout",
          "text": [
            "Did not meet early stopping. Best iteration is:\n",
            "[100]\tTrain's rmse: 0.137924\tTest's rmse: 0.143533\n",
            "Training until validation scores don't improve for 50 rounds.\n"
          ]
        },
        {
          "output_type": "stream",
          "name": "stderr",
          "text": [
            "\u001b[32m[I 2021-12-13 11:57:15,061]\u001b[0m Trial 56 finished with value: 0.13925631689871312 and parameters: {'lambda_l1': 5.880895197454503e-07, 'lambda_l2': 1.2702524155028834e-08}. Best is trial 51 with value: 0.13925587413886542.\u001b[0m\n"
          ]
        },
        {
          "output_type": "stream",
          "name": "stdout",
          "text": [
            "Did not meet early stopping. Best iteration is:\n",
            "[100]\tTrain's rmse: 0.128875\tTest's rmse: 0.139256\n",
            "Training until validation scores don't improve for 50 rounds.\n"
          ]
        },
        {
          "output_type": "stream",
          "name": "stderr",
          "text": [
            "\u001b[32m[I 2021-12-13 11:57:15,485]\u001b[0m Trial 57 finished with value: 0.13925632768510385 and parameters: {'lambda_l1': 1.299413633838622e-07, 'lambda_l2': 3.018374194095203e-05}. Best is trial 51 with value: 0.13925587413886542.\u001b[0m\n"
          ]
        },
        {
          "output_type": "stream",
          "name": "stdout",
          "text": [
            "Did not meet early stopping. Best iteration is:\n",
            "[100]\tTrain's rmse: 0.128875\tTest's rmse: 0.139256\n",
            "Training until validation scores don't improve for 50 rounds.\n"
          ]
        },
        {
          "output_type": "stream",
          "name": "stderr",
          "text": [
            "\u001b[32m[I 2021-12-13 11:57:15,833]\u001b[0m Trial 58 finished with value: 0.15290747141958697 and parameters: {'lambda_l1': 5.103027507670196, 'lambda_l2': 0.018810618912109483}. Best is trial 51 with value: 0.13925587413886542.\u001b[0m\n"
          ]
        },
        {
          "output_type": "stream",
          "name": "stdout",
          "text": [
            "Did not meet early stopping. Best iteration is:\n",
            "[100]\tTrain's rmse: 0.139762\tTest's rmse: 0.152907\n",
            "Training until validation scores don't improve for 50 rounds.\n"
          ]
        },
        {
          "output_type": "stream",
          "name": "stderr",
          "text": [
            "\u001b[32m[I 2021-12-13 11:57:16,263]\u001b[0m Trial 59 finished with value: 0.13925635496925154 and parameters: {'lambda_l1': 5.767463313261697e-06, 'lambda_l2': 7.95728542519163e-05}. Best is trial 51 with value: 0.13925587413886542.\u001b[0m\n"
          ]
        },
        {
          "output_type": "stream",
          "name": "stdout",
          "text": [
            "Did not meet early stopping. Best iteration is:\n",
            "[100]\tTrain's rmse: 0.128875\tTest's rmse: 0.139256\n",
            "Training until validation scores don't improve for 50 rounds.\n"
          ]
        },
        {
          "output_type": "stream",
          "name": "stderr",
          "text": [
            "\u001b[32m[I 2021-12-13 11:57:16,676]\u001b[0m Trial 60 finished with value: 0.14346302608609127 and parameters: {'lambda_l1': 0.00021730362290175211, 'lambda_l2': 0.002218478115831345}. Best is trial 51 with value: 0.13925587413886542.\u001b[0m\n"
          ]
        },
        {
          "output_type": "stream",
          "name": "stdout",
          "text": [
            "Did not meet early stopping. Best iteration is:\n",
            "[100]\tTrain's rmse: 0.135551\tTest's rmse: 0.143463\n",
            "Training until validation scores don't improve for 50 rounds.\n"
          ]
        },
        {
          "output_type": "stream",
          "name": "stderr",
          "text": [
            "\u001b[32m[I 2021-12-13 11:57:17,083]\u001b[0m Trial 61 finished with value: 0.1392563336125288 and parameters: {'lambda_l1': 1.1927813096355353e-05, 'lambda_l2': 2.5408716217151766e-07}. Best is trial 51 with value: 0.13925587413886542.\u001b[0m\n"
          ]
        },
        {
          "output_type": "stream",
          "name": "stdout",
          "text": [
            "Did not meet early stopping. Best iteration is:\n",
            "[100]\tTrain's rmse: 0.128875\tTest's rmse: 0.139256\n",
            "Training until validation scores don't improve for 50 rounds.\n"
          ]
        },
        {
          "output_type": "stream",
          "name": "stderr",
          "text": [
            "\u001b[32m[I 2021-12-13 11:57:17,506]\u001b[0m Trial 62 finished with value: 0.13925631806962685 and parameters: {'lambda_l1': 8.519122560508412e-08, 'lambda_l2': 5.089764879993183e-06}. Best is trial 51 with value: 0.13925587413886542.\u001b[0m\n"
          ]
        },
        {
          "output_type": "stream",
          "name": "stdout",
          "text": [
            "Did not meet early stopping. Best iteration is:\n",
            "[100]\tTrain's rmse: 0.128875\tTest's rmse: 0.139256\n",
            "Training until validation scores don't improve for 50 rounds.\n"
          ]
        },
        {
          "output_type": "stream",
          "name": "stderr",
          "text": [
            "\u001b[32m[I 2021-12-13 11:57:17,899]\u001b[0m Trial 63 finished with value: 0.1489386623395622 and parameters: {'min_child_samples': 5}. Best is trial 63 with value: 0.1489386623395622.\u001b[0m\n"
          ]
        },
        {
          "output_type": "stream",
          "name": "stdout",
          "text": [
            "Did not meet early stopping. Best iteration is:\n",
            "[100]\tTrain's rmse: 0.029139\tTest's rmse: 0.148939\n",
            "Training until validation scores don't improve for 50 rounds.\n"
          ]
        },
        {
          "output_type": "stream",
          "name": "stderr",
          "text": [
            "\u001b[32m[I 2021-12-13 11:57:18,294]\u001b[0m Trial 64 finished with value: 0.14812786684995266 and parameters: {'min_child_samples': 10}. Best is trial 64 with value: 0.14812786684995266.\u001b[0m\n"
          ]
        },
        {
          "output_type": "stream",
          "name": "stdout",
          "text": [
            "Did not meet early stopping. Best iteration is:\n",
            "[100]\tTrain's rmse: 0.0667697\tTest's rmse: 0.148128\n",
            "Training until validation scores don't improve for 50 rounds.\n"
          ]
        },
        {
          "output_type": "stream",
          "name": "stderr",
          "text": [
            "\u001b[32m[I 2021-12-13 11:57:18,727]\u001b[0m Trial 65 finished with value: 0.19640238376714364 and parameters: {'min_child_samples': 100}. Best is trial 64 with value: 0.14812786684995266.\u001b[0m\n"
          ]
        },
        {
          "output_type": "stream",
          "name": "stdout",
          "text": [
            "Did not meet early stopping. Best iteration is:\n",
            "[100]\tTrain's rmse: 0.28422\tTest's rmse: 0.196402\n",
            "Training until validation scores don't improve for 50 rounds.\n"
          ]
        },
        {
          "output_type": "stream",
          "name": "stderr",
          "text": [
            "\u001b[32m[I 2021-12-13 11:57:19,144]\u001b[0m Trial 66 finished with value: 0.1513810082706101 and parameters: {'min_child_samples': 25}. Best is trial 64 with value: 0.14812786684995266.\u001b[0m\n"
          ]
        },
        {
          "output_type": "stream",
          "name": "stdout",
          "text": [
            "Did not meet early stopping. Best iteration is:\n",
            "[100]\tTrain's rmse: 0.148865\tTest's rmse: 0.151381\n",
            "Training until validation scores don't improve for 50 rounds.\n"
          ]
        },
        {
          "output_type": "stream",
          "name": "stderr",
          "text": [
            "\u001b[32m[I 2021-12-13 11:57:19,597]\u001b[0m Trial 67 finished with value: 0.17592033520877362 and parameters: {'min_child_samples': 50}. Best is trial 64 with value: 0.14812786684995266.\u001b[0m\n"
          ]
        },
        {
          "output_type": "stream",
          "name": "stdout",
          "text": [
            "Did not meet early stopping. Best iteration is:\n",
            "[100]\tTrain's rmse: 0.230442\tTest's rmse: 0.17592\n"
          ]
        },
        {
          "output_type": "display_data",
          "data": {
            "image/png": "[encoded data removed]",
            "text/plain": [
              "<Figure size 432x288 with 1 Axes>"
            ]
          },
          "metadata": {
            "needs_background": "light"
          }
        },
        {
          "output_type": "stream",
          "name": "stderr",
          "text": [
            "\u001b[32m[I 2021-12-13 11:57:19,806]\u001b[0m A new study created in memory with name: no-name-1c582971-17c5-4def-b79c-672254bfb7f4\u001b[0m\n"
          ]
        },
        {
          "output_type": "stream",
          "name": "stdout",
          "text": [
            "Training until validation scores don't improve for 50 rounds.\n"
          ]
        },
        {
          "output_type": "stream",
          "name": "stderr",
          "text": [
            "\u001b[32m[I 2021-12-13 11:57:20,130]\u001b[0m Trial 0 finished with value: 0.10615833108191376 and parameters: {'feature_fraction': 0.4}. Best is trial 0 with value: 0.10615833108191376.\u001b[0m\n"
          ]
        },
        {
          "output_type": "stream",
          "name": "stdout",
          "text": [
            "Did not meet early stopping. Best iteration is:\n",
            "[100]\tTrain's rmse: 0.142166\tTest's rmse: 0.106158\n",
            "Training until validation scores don't improve for 50 rounds.\n"
          ]
        },
        {
          "output_type": "stream",
          "name": "stderr",
          "text": [
            "\u001b[32m[I 2021-12-13 11:57:20,528]\u001b[0m Trial 1 finished with value: 0.08328249485144172 and parameters: {'feature_fraction': 0.6}. Best is trial 1 with value: 0.08328249485144172.\u001b[0m\n"
          ]
        },
        {
          "output_type": "stream",
          "name": "stdout",
          "text": [
            "Did not meet early stopping. Best iteration is:\n",
            "[100]\tTrain's rmse: 0.13123\tTest's rmse: 0.0832825\n",
            "Training until validation scores don't improve for 50 rounds.\n"
          ]
        },
        {
          "output_type": "stream",
          "name": "stderr",
          "text": [
            "\u001b[32m[I 2021-12-13 11:57:20,885]\u001b[0m Trial 2 finished with value: 0.10061889839855907 and parameters: {'feature_fraction': 0.5}. Best is trial 1 with value: 0.08328249485144172.\u001b[0m\n"
          ]
        },
        {
          "output_type": "stream",
          "name": "stdout",
          "text": [
            "Did not meet early stopping. Best iteration is:\n",
            "[100]\tTrain's rmse: 0.137443\tTest's rmse: 0.100619\n",
            "Training until validation scores don't improve for 50 rounds.\n"
          ]
        },
        {
          "output_type": "stream",
          "name": "stderr",
          "text": [
            "\u001b[32m[I 2021-12-13 11:57:21,311]\u001b[0m Trial 3 finished with value: 0.02177254108325357 and parameters: {'feature_fraction': 1.0}. Best is trial 3 with value: 0.02177254108325357.\u001b[0m\n"
          ]
        },
        {
          "output_type": "stream",
          "name": "stdout",
          "text": [
            "Early stopping, best iteration is:\n",
            "[43]\tTrain's rmse: 0.165773\tTest's rmse: 0.0217725\n",
            "Training until validation scores don't improve for 50 rounds.\n"
          ]
        },
        {
          "output_type": "stream",
          "name": "stderr",
          "text": [
            "\u001b[32m[I 2021-12-13 11:57:21,746]\u001b[0m Trial 4 finished with value: 0.047424802730389466 and parameters: {'feature_fraction': 0.8}. Best is trial 3 with value: 0.02177254108325357.\u001b[0m\n"
          ]
        },
        {
          "output_type": "stream",
          "name": "stdout",
          "text": [
            "Did not meet early stopping. Best iteration is:\n",
            "[100]\tTrain's rmse: 0.12607\tTest's rmse: 0.0474248\n",
            "Training until validation scores don't improve for 50 rounds.\n"
          ]
        },
        {
          "output_type": "stream",
          "name": "stderr",
          "text": [
            "\u001b[32m[I 2021-12-13 11:57:22,188]\u001b[0m Trial 5 finished with value: 0.03958827496350937 and parameters: {'feature_fraction': 0.8999999999999999}. Best is trial 3 with value: 0.02177254108325357.\u001b[0m\n"
          ]
        },
        {
          "output_type": "stream",
          "name": "stdout",
          "text": [
            "Did not meet early stopping. Best iteration is:\n",
            "[100]\tTrain's rmse: 0.153403\tTest's rmse: 0.0395883\n",
            "Training until validation scores don't improve for 50 rounds.\n"
          ]
        },
        {
          "output_type": "stream",
          "name": "stderr",
          "text": [
            "\u001b[32m[I 2021-12-13 11:57:22,585]\u001b[0m Trial 6 finished with value: 0.06638633431207216 and parameters: {'feature_fraction': 0.7}. Best is trial 3 with value: 0.02177254108325357.\u001b[0m\n"
          ]
        },
        {
          "output_type": "stream",
          "name": "stdout",
          "text": [
            "Did not meet early stopping. Best iteration is:\n",
            "[100]\tTrain's rmse: 0.132491\tTest's rmse: 0.0663863\n",
            "Training until validation scores don't improve for 50 rounds.\n"
          ]
        },
        {
          "output_type": "stream",
          "name": "stderr",
          "text": [
            "\u001b[32m[I 2021-12-13 11:57:23,481]\u001b[0m Trial 7 finished with value: 0.02188603484912839 and parameters: {'num_leaves': 97}. Best is trial 7 with value: 0.02188603484912839.\u001b[0m\n"
          ]
        },
        {
          "output_type": "stream",
          "name": "stdout",
          "text": [
            "Early stopping, best iteration is:\n",
            "[47]\tTrain's rmse: 0.164193\tTest's rmse: 0.021886\n",
            "Training until validation scores don't improve for 50 rounds.\n"
          ]
        },
        {
          "output_type": "stream",
          "name": "stderr",
          "text": [
            "\u001b[32m[I 2021-12-13 11:57:25,050]\u001b[0m Trial 8 finished with value: 0.022159563169070542 and parameters: {'num_leaves': 244}. Best is trial 7 with value: 0.02188603484912839.\u001b[0m\n"
          ]
        },
        {
          "output_type": "stream",
          "name": "stdout",
          "text": [
            "Early stopping, best iteration is:\n",
            "[45]\tTrain's rmse: 0.165303\tTest's rmse: 0.0221596\n",
            "Training until validation scores don't improve for 50 rounds.\n"
          ]
        },
        {
          "output_type": "stream",
          "name": "stderr",
          "text": [
            "\u001b[32m[I 2021-12-13 11:57:26,380]\u001b[0m Trial 9 finished with value: 0.022149152421570728 and parameters: {'num_leaves': 188}. Best is trial 7 with value: 0.02188603484912839.\u001b[0m\n"
          ]
        },
        {
          "output_type": "stream",
          "name": "stdout",
          "text": [
            "Early stopping, best iteration is:\n",
            "[45]\tTrain's rmse: 0.165304\tTest's rmse: 0.0221492\n",
            "Training until validation scores don't improve for 50 rounds.\n"
          ]
        },
        {
          "output_type": "stream",
          "name": "stderr",
          "text": [
            "\u001b[32m[I 2021-12-13 11:57:27,627]\u001b[0m Trial 10 finished with value: 0.02202955210451074 and parameters: {'num_leaves': 154}. Best is trial 7 with value: 0.02188603484912839.\u001b[0m\n"
          ]
        },
        {
          "output_type": "stream",
          "name": "stdout",
          "text": [
            "Early stopping, best iteration is:\n",
            "[47]\tTrain's rmse: 0.164775\tTest's rmse: 0.0220296\n",
            "Training until validation scores don't improve for 50 rounds.\n"
          ]
        },
        {
          "output_type": "stream",
          "name": "stderr",
          "text": [
            "\u001b[32m[I 2021-12-13 11:57:28,125]\u001b[0m Trial 11 finished with value: 0.022568339423283842 and parameters: {'num_leaves': 41}. Best is trial 7 with value: 0.02188603484912839.\u001b[0m\n"
          ]
        },
        {
          "output_type": "stream",
          "name": "stdout",
          "text": [
            "Early stopping, best iteration is:\n",
            "[42]\tTrain's rmse: 0.167063\tTest's rmse: 0.0225683\n",
            "Training until validation scores don't improve for 50 rounds.\n"
          ]
        },
        {
          "output_type": "stream",
          "name": "stderr",
          "text": [
            "\u001b[32m[I 2021-12-13 11:57:28,643]\u001b[0m Trial 12 finished with value: 0.022568339423283842 and parameters: {'num_leaves': 41}. Best is trial 7 with value: 0.02188603484912839.\u001b[0m\n"
          ]
        },
        {
          "output_type": "stream",
          "name": "stdout",
          "text": [
            "Early stopping, best iteration is:\n",
            "[42]\tTrain's rmse: 0.167063\tTest's rmse: 0.0225683\n",
            "Training until validation scores don't improve for 50 rounds.\n"
          ]
        },
        {
          "output_type": "stream",
          "name": "stderr",
          "text": [
            "\u001b[32m[I 2021-12-13 11:57:28,932]\u001b[0m Trial 13 finished with value: 0.02028532114968275 and parameters: {'num_leaves': 16}. Best is trial 13 with value: 0.02028532114968275.\u001b[0m\n"
          ]
        },
        {
          "output_type": "stream",
          "name": "stdout",
          "text": [
            "Early stopping, best iteration is:\n",
            "[43]\tTrain's rmse: 0.164398\tTest's rmse: 0.0202853\n",
            "Training until validation scores don't improve for 50 rounds.\n"
          ]
        },
        {
          "output_type": "stream",
          "name": "stderr",
          "text": [
            "\u001b[32m[I 2021-12-13 11:57:30,407]\u001b[0m Trial 14 finished with value: 0.022151878274247406 and parameters: {'num_leaves': 222}. Best is trial 13 with value: 0.02028532114968275.\u001b[0m\n"
          ]
        },
        {
          "output_type": "stream",
          "name": "stdout",
          "text": [
            "Early stopping, best iteration is:\n",
            "[45]\tTrain's rmse: 0.165303\tTest's rmse: 0.0221519\n",
            "Training until validation scores don't improve for 50 rounds.\n"
          ]
        },
        {
          "output_type": "stream",
          "name": "stderr",
          "text": [
            "\u001b[32m[I 2021-12-13 11:57:31,581]\u001b[0m Trial 15 finished with value: 0.022057199281079656 and parameters: {'num_leaves': 155}. Best is trial 13 with value: 0.02028532114968275.\u001b[0m\n"
          ]
        },
        {
          "output_type": "stream",
          "name": "stdout",
          "text": [
            "Early stopping, best iteration is:\n",
            "[45]\tTrain's rmse: 0.165916\tTest's rmse: 0.0220572\n",
            "Training until validation scores don't improve for 50 rounds.\n"
          ]
        },
        {
          "output_type": "stream",
          "name": "stderr",
          "text": [
            "\u001b[32m[I 2021-12-13 11:57:32,859]\u001b[0m Trial 16 finished with value: 0.022167796260155814 and parameters: {'num_leaves': 182}. Best is trial 13 with value: 0.02028532114968275.\u001b[0m\n"
          ]
        },
        {
          "output_type": "stream",
          "name": "stdout",
          "text": [
            "Early stopping, best iteration is:\n",
            "[43]\tTrain's rmse: 0.166137\tTest's rmse: 0.0221678\n",
            "Training until validation scores don't improve for 50 rounds.\n"
          ]
        },
        {
          "output_type": "stream",
          "name": "stderr",
          "text": [
            "\u001b[32m[I 2021-12-13 11:57:33,084]\u001b[0m Trial 17 finished with value: 0.02479507423804576 and parameters: {'num_leaves': 7}. Best is trial 13 with value: 0.02028532114968275.\u001b[0m\n"
          ]
        },
        {
          "output_type": "stream",
          "name": "stdout",
          "text": [
            "Did not meet early stopping. Best iteration is:\n",
            "[100]\tTrain's rmse: 0.153094\tTest's rmse: 0.0247951\n",
            "Training until validation scores don't improve for 50 rounds.\n"
          ]
        },
        {
          "output_type": "stream",
          "name": "stderr",
          "text": [
            "\u001b[32m[I 2021-12-13 11:57:33,864]\u001b[0m Trial 18 finished with value: 0.021937645253101278 and parameters: {'num_leaves': 82}. Best is trial 13 with value: 0.02028532114968275.\u001b[0m\n"
          ]
        },
        {
          "output_type": "stream",
          "name": "stdout",
          "text": [
            "Early stopping, best iteration is:\n",
            "[47]\tTrain's rmse: 0.164804\tTest's rmse: 0.0219376\n",
            "Training until validation scores don't improve for 50 rounds.\n"
          ]
        },
        {
          "output_type": "stream",
          "name": "stderr",
          "text": [
            "\u001b[32m[I 2021-12-13 11:57:34,809]\u001b[0m Trial 19 finished with value: 0.022667395962731707 and parameters: {'num_leaves': 109}. Best is trial 13 with value: 0.02028532114968275.\u001b[0m\n"
          ]
        },
        {
          "output_type": "stream",
          "name": "stdout",
          "text": [
            "Early stopping, best iteration is:\n",
            "[49]\tTrain's rmse: 0.161368\tTest's rmse: 0.0226674\n",
            "Training until validation scores don't improve for 50 rounds.\n"
          ]
        },
        {
          "output_type": "stream",
          "name": "stderr",
          "text": [
            "\u001b[32m[I 2021-12-13 11:57:35,557]\u001b[0m Trial 20 finished with value: 0.022134591309460785 and parameters: {'num_leaves': 86}. Best is trial 13 with value: 0.02028532114968275.\u001b[0m\n"
          ]
        },
        {
          "output_type": "stream",
          "name": "stdout",
          "text": [
            "Early stopping, best iteration is:\n",
            "[42]\tTrain's rmse: 0.167388\tTest's rmse: 0.0221346\n",
            "Training until validation scores don't improve for 50 rounds.\n"
          ]
        },
        {
          "output_type": "stream",
          "name": "stderr",
          "text": [
            "\u001b[32m[I 2021-12-13 11:57:35,803]\u001b[0m Trial 21 finished with value: 0.021353008637956243 and parameters: {'num_leaves': 10}. Best is trial 13 with value: 0.02028532114968275.\u001b[0m\n"
          ]
        },
        {
          "output_type": "stream",
          "name": "stdout",
          "text": [
            "Early stopping, best iteration is:\n",
            "[42]\tTrain's rmse: 0.168897\tTest's rmse: 0.021353\n",
            "Training until validation scores don't improve for 50 rounds.\n"
          ]
        },
        {
          "output_type": "stream",
          "name": "stderr",
          "text": [
            "\u001b[32m[I 2021-12-13 11:57:36,061]\u001b[0m Trial 22 finished with value: 0.021198904765390037 and parameters: {'num_leaves': 11}. Best is trial 13 with value: 0.02028532114968275.\u001b[0m\n"
          ]
        },
        {
          "output_type": "stream",
          "name": "stdout",
          "text": [
            "Early stopping, best iteration is:\n",
            "[44]\tTrain's rmse: 0.16384\tTest's rmse: 0.0211989\n",
            "Training until validation scores don't improve for 50 rounds.\n"
          ]
        },
        {
          "output_type": "stream",
          "name": "stderr",
          "text": [
            "\u001b[32m[I 2021-12-13 11:57:36,611]\u001b[0m Trial 23 finished with value: 0.021416775164908104 and parameters: {'num_leaves': 54}. Best is trial 13 with value: 0.02028532114968275.\u001b[0m\n",
            "\u001b[32m[I 2021-12-13 11:57:36,790]\u001b[0m Trial 24 finished with value: 0.027631011581862396 and parameters: {'num_leaves': 4}. Best is trial 13 with value: 0.02028532114968275.\u001b[0m\n"
          ]
        },
        {
          "output_type": "stream",
          "name": "stdout",
          "text": [
            "Early stopping, best iteration is:\n",
            "[44]\tTrain's rmse: 0.165823\tTest's rmse: 0.0214168\n",
            "Training until validation scores don't improve for 50 rounds.\n",
            "Did not meet early stopping. Best iteration is:\n",
            "[100]\tTrain's rmse: 0.173566\tTest's rmse: 0.027631\n",
            "Training until validation scores don't improve for 50 rounds.\n"
          ]
        },
        {
          "output_type": "stream",
          "name": "stderr",
          "text": [
            "\u001b[32m[I 2021-12-13 11:57:37,344]\u001b[0m Trial 25 finished with value: 0.022287558440883364 and parameters: {'num_leaves': 55}. Best is trial 13 with value: 0.02028532114968275.\u001b[0m\n"
          ]
        },
        {
          "output_type": "stream",
          "name": "stdout",
          "text": [
            "Early stopping, best iteration is:\n",
            "[42]\tTrain's rmse: 0.169267\tTest's rmse: 0.0222876\n",
            "Training until validation scores don't improve for 50 rounds.\n"
          ]
        },
        {
          "output_type": "stream",
          "name": "stderr",
          "text": [
            "\u001b[32m[I 2021-12-13 11:57:37,712]\u001b[0m Trial 26 finished with value: 0.021935765796860674 and parameters: {'num_leaves': 27}. Best is trial 13 with value: 0.02028532114968275.\u001b[0m\n"
          ]
        },
        {
          "output_type": "stream",
          "name": "stdout",
          "text": [
            "Early stopping, best iteration is:\n",
            "[43]\tTrain's rmse: 0.165192\tTest's rmse: 0.0219358\n",
            "Training until validation scores don't improve for 50 rounds.\n"
          ]
        },
        {
          "output_type": "stream",
          "name": "stderr",
          "text": [
            "\u001b[32m[I 2021-12-13 11:57:38,052]\u001b[0m Trial 27 finished with value: 0.028377536898577613 and parameters: {'bagging_fraction': 0.624724071308792, 'bagging_freq': 7}. Best is trial 27 with value: 0.028377536898577613.\u001b[0m\n"
          ]
        },
        {
          "output_type": "stream",
          "name": "stdout",
          "text": [
            "Early stopping, best iteration is:\n",
            "[42]\tTrain's rmse: 0.189295\tTest's rmse: 0.0283775\n",
            "Training until validation scores don't improve for 50 rounds.\n"
          ]
        },
        {
          "output_type": "stream",
          "name": "stderr",
          "text": [
            "\u001b[32m[I 2021-12-13 11:57:38,398]\u001b[0m Trial 28 finished with value: 0.025655071282711127 and parameters: {'bagging_fraction': 0.8391963650875751, 'bagging_freq': 5}. Best is trial 28 with value: 0.025655071282711127.\u001b[0m\n"
          ]
        },
        {
          "output_type": "stream",
          "name": "stdout",
          "text": [
            "Early stopping, best iteration is:\n",
            "[45]\tTrain's rmse: 0.183122\tTest's rmse: 0.0256551\n",
            "Training until validation scores don't improve for 50 rounds.\n"
          ]
        },
        {
          "output_type": "stream",
          "name": "stderr",
          "text": [
            "\u001b[32m[I 2021-12-13 11:57:38,732]\u001b[0m Trial 29 finished with value: 0.03162890065128707 and parameters: {'bagging_fraction': 0.49361118426561795, 'bagging_freq': 2}. Best is trial 28 with value: 0.025655071282711127.\u001b[0m\n"
          ]
        },
        {
          "output_type": "stream",
          "name": "stdout",
          "text": [
            "Did not meet early stopping. Best iteration is:\n",
            "[100]\tTrain's rmse: 0.183401\tTest's rmse: 0.0316289\n",
            "Training until validation scores don't improve for 50 rounds.\n"
          ]
        },
        {
          "output_type": "stream",
          "name": "stderr",
          "text": [
            "\u001b[32m[I 2021-12-13 11:57:39,077]\u001b[0m Trial 30 finished with value: 0.027769673153485358 and parameters: {'bagging_fraction': 0.4348501673009778, 'bagging_freq': 7}. Best is trial 28 with value: 0.025655071282711127.\u001b[0m\n"
          ]
        },
        {
          "output_type": "stream",
          "name": "stdout",
          "text": [
            "Did not meet early stopping. Best iteration is:\n",
            "[100]\tTrain's rmse: 0.184988\tTest's rmse: 0.0277697\n",
            "Training until validation scores don't improve for 50 rounds.\n"
          ]
        },
        {
          "output_type": "stream",
          "name": "stderr",
          "text": [
            "\u001b[32m[I 2021-12-13 11:57:39,433]\u001b[0m Trial 31 finished with value: 0.031091627426969463 and parameters: {'bagging_fraction': 0.7606690070465265, 'bagging_freq': 5}. Best is trial 28 with value: 0.025655071282711127.\u001b[0m\n"
          ]
        },
        {
          "output_type": "stream",
          "name": "stdout",
          "text": [
            "Did not meet early stopping. Best iteration is:\n",
            "[100]\tTrain's rmse: 0.180404\tTest's rmse: 0.0310916\n",
            "Training until validation scores don't improve for 50 rounds.\n"
          ]
        },
        {
          "output_type": "stream",
          "name": "stderr",
          "text": [
            "\u001b[32m[I 2021-12-13 11:57:39,787]\u001b[0m Trial 32 finished with value: 0.03114422196281981 and parameters: {'bagging_fraction': 0.41235069657750206, 'bagging_freq': 7}. Best is trial 28 with value: 0.025655071282711127.\u001b[0m\n"
          ]
        },
        {
          "output_type": "stream",
          "name": "stdout",
          "text": [
            "Did not meet early stopping. Best iteration is:\n",
            "[100]\tTrain's rmse: 0.189551\tTest's rmse: 0.0311442\n",
            "Training until validation scores don't improve for 50 rounds.\n"
          ]
        },
        {
          "output_type": "stream",
          "name": "stderr",
          "text": [
            "\u001b[32m[I 2021-12-13 11:57:40,170]\u001b[0m Trial 33 finished with value: 0.02341670171381725 and parameters: {'bagging_fraction': 0.8994655844810855, 'bagging_freq': 2}. Best is trial 33 with value: 0.02341670171381725.\u001b[0m\n"
          ]
        },
        {
          "output_type": "stream",
          "name": "stdout",
          "text": [
            "Did not meet early stopping. Best iteration is:\n",
            "[100]\tTrain's rmse: 0.160485\tTest's rmse: 0.0234167\n",
            "Training until validation scores don't improve for 50 rounds.\n"
          ]
        },
        {
          "output_type": "stream",
          "name": "stderr",
          "text": [
            "\u001b[32m[I 2021-12-13 11:57:40,514]\u001b[0m Trial 34 finished with value: 0.029592574284096767 and parameters: {'bagging_fraction': 0.5090949803244422, 'bagging_freq': 2}. Best is trial 33 with value: 0.02341670171381725.\u001b[0m\n"
          ]
        },
        {
          "output_type": "stream",
          "name": "stdout",
          "text": [
            "Did not meet early stopping. Best iteration is:\n",
            "[99]\tTrain's rmse: 0.18027\tTest's rmse: 0.0295926\n",
            "Training until validation scores don't improve for 50 rounds.\n"
          ]
        },
        {
          "output_type": "stream",
          "name": "stderr",
          "text": [
            "\u001b[32m[I 2021-12-13 11:57:40,867]\u001b[0m Trial 35 finished with value: 0.030859048692057165 and parameters: {'bagging_fraction': 0.5825453457760269, 'bagging_freq': 4}. Best is trial 33 with value: 0.02341670171381725.\u001b[0m\n"
          ]
        },
        {
          "output_type": "stream",
          "name": "stdout",
          "text": [
            "Did not meet early stopping. Best iteration is:\n",
            "[100]\tTrain's rmse: 0.180018\tTest's rmse: 0.030859\n",
            "Training until validation scores don't improve for 50 rounds.\n"
          ]
        },
        {
          "output_type": "stream",
          "name": "stderr",
          "text": [
            "\u001b[32m[I 2021-12-13 11:57:41,214]\u001b[0m Trial 36 finished with value: 0.03611675344426076 and parameters: {'bagging_fraction': 0.6591670111857015, 'bagging_freq': 3}. Best is trial 33 with value: 0.02341670171381725.\u001b[0m\n"
          ]
        },
        {
          "output_type": "stream",
          "name": "stdout",
          "text": [
            "Did not meet early stopping. Best iteration is:\n",
            "[100]\tTrain's rmse: 0.174537\tTest's rmse: 0.0361168\n",
            "Training until validation scores don't improve for 50 rounds.\n"
          ]
        },
        {
          "output_type": "stream",
          "name": "stderr",
          "text": [
            "\u001b[32m[I 2021-12-13 11:57:41,524]\u001b[0m Trial 37 finished with value: 0.03670097413484493 and parameters: {'feature_fraction': 0.92}. Best is trial 37 with value: 0.03670097413484493.\u001b[0m\n"
          ]
        },
        {
          "output_type": "stream",
          "name": "stdout",
          "text": [
            "Did not meet early stopping. Best iteration is:\n",
            "[100]\tTrain's rmse: 0.15056\tTest's rmse: 0.036701\n",
            "Training until validation scores don't improve for 50 rounds.\n"
          ]
        },
        {
          "output_type": "stream",
          "name": "stderr",
          "text": [
            "\u001b[32m[I 2021-12-13 11:57:41,839]\u001b[0m Trial 38 finished with value: 0.03423979092835321 and parameters: {'feature_fraction': 0.9840000000000001}. Best is trial 38 with value: 0.03423979092835321.\u001b[0m\n"
          ]
        },
        {
          "output_type": "stream",
          "name": "stdout",
          "text": [
            "Did not meet early stopping. Best iteration is:\n",
            "[100]\tTrain's rmse: 0.151535\tTest's rmse: 0.0342398\n",
            "Training until validation scores don't improve for 50 rounds.\n"
          ]
        },
        {
          "output_type": "stream",
          "name": "stderr",
          "text": [
            "\u001b[32m[I 2021-12-13 11:57:42,151]\u001b[0m Trial 39 finished with value: 0.03423979092835321 and parameters: {'feature_fraction': 0.9520000000000001}. Best is trial 38 with value: 0.03423979092835321.\u001b[0m\n"
          ]
        },
        {
          "output_type": "stream",
          "name": "stdout",
          "text": [
            "Did not meet early stopping. Best iteration is:\n",
            "[100]\tTrain's rmse: 0.151535\tTest's rmse: 0.0342398\n",
            "Training until validation scores don't improve for 50 rounds.\n"
          ]
        },
        {
          "output_type": "stream",
          "name": "stderr",
          "text": [
            "\u001b[32m[I 2021-12-13 11:57:42,446]\u001b[0m Trial 40 finished with value: 0.02558174159986648 and parameters: {'lambda_l1': 2.348881295853308e-05, 'lambda_l2': 3.6010467344475403}. Best is trial 40 with value: 0.02558174159986648.\u001b[0m\n"
          ]
        },
        {
          "output_type": "stream",
          "name": "stdout",
          "text": [
            "Did not meet early stopping. Best iteration is:\n",
            "[100]\tTrain's rmse: 0.149375\tTest's rmse: 0.0255817\n",
            "Training until validation scores don't improve for 50 rounds.\n"
          ]
        },
        {
          "output_type": "stream",
          "name": "stderr",
          "text": [
            "\u001b[32m[I 2021-12-13 11:57:42,740]\u001b[0m Trial 41 finished with value: 0.019831101860476746 and parameters: {'lambda_l1': 0.038720902953704193, 'lambda_l2': 0.0024430162614261413}. Best is trial 41 with value: 0.019831101860476746.\u001b[0m\n"
          ]
        },
        {
          "output_type": "stream",
          "name": "stdout",
          "text": [
            "Early stopping, best iteration is:\n",
            "[49]\tTrain's rmse: 0.16803\tTest's rmse: 0.0198311\n",
            "Training until validation scores don't improve for 50 rounds.\n"
          ]
        },
        {
          "output_type": "stream",
          "name": "stderr",
          "text": [
            "\u001b[32m[I 2021-12-13 11:57:43,053]\u001b[0m Trial 42 finished with value: 0.02028532112992294 and parameters: {'lambda_l1': 2.5361081166471375e-07, 'lambda_l2': 2.5348407664333426e-07}. Best is trial 41 with value: 0.019831101860476746.\u001b[0m\n"
          ]
        },
        {
          "output_type": "stream",
          "name": "stdout",
          "text": [
            "Early stopping, best iteration is:\n",
            "[43]\tTrain's rmse: 0.164398\tTest's rmse: 0.0202853\n",
            "Training until validation scores don't improve for 50 rounds.\n"
          ]
        },
        {
          "output_type": "stream",
          "name": "stderr",
          "text": [
            "\u001b[32m[I 2021-12-13 11:57:43,328]\u001b[0m Trial 43 finished with value: 0.022249044425101897 and parameters: {'lambda_l1': 3.3323645788192616e-08, 'lambda_l2': 0.6245760287469893}. Best is trial 41 with value: 0.019831101860476746.\u001b[0m\n"
          ]
        },
        {
          "output_type": "stream",
          "name": "stdout",
          "text": [
            "Early stopping, best iteration is:\n",
            "[43]\tTrain's rmse: 0.166682\tTest's rmse: 0.022249\n",
            "Training until validation scores don't improve for 50 rounds.\n"
          ]
        },
        {
          "output_type": "stream",
          "name": "stderr",
          "text": [
            "\u001b[32m[I 2021-12-13 11:57:43,605]\u001b[0m Trial 44 finished with value: 0.020678068175480867 and parameters: {'lambda_l1': 0.002570603566117598, 'lambda_l2': 0.023585940584142682}. Best is trial 41 with value: 0.019831101860476746.\u001b[0m\n"
          ]
        },
        {
          "output_type": "stream",
          "name": "stdout",
          "text": [
            "Early stopping, best iteration is:\n",
            "[44]\tTrain's rmse: 0.167822\tTest's rmse: 0.0206781\n",
            "Training until validation scores don't improve for 50 rounds.\n"
          ]
        },
        {
          "output_type": "stream",
          "name": "stderr",
          "text": [
            "\u001b[32m[I 2021-12-13 11:57:43,903]\u001b[0m Trial 45 finished with value: 0.02655309409846946 and parameters: {'lambda_l1': 1.5320059381854043e-08, 'lambda_l2': 5.360294728728285}. Best is trial 41 with value: 0.019831101860476746.\u001b[0m\n"
          ]
        },
        {
          "output_type": "stream",
          "name": "stdout",
          "text": [
            "Did not meet early stopping. Best iteration is:\n",
            "[100]\tTrain's rmse: 0.152523\tTest's rmse: 0.0265531\n",
            "Training until validation scores don't improve for 50 rounds.\n"
          ]
        },
        {
          "output_type": "stream",
          "name": "stderr",
          "text": [
            "\u001b[32m[I 2021-12-13 11:57:44,178]\u001b[0m Trial 46 finished with value: 0.021323513723116787 and parameters: {'lambda_l1': 0.31044435499483225, 'lambda_l2': 8.148018307012941e-07}. Best is trial 41 with value: 0.019831101860476746.\u001b[0m\n"
          ]
        },
        {
          "output_type": "stream",
          "name": "stdout",
          "text": [
            "Early stopping, best iteration is:\n",
            "[47]\tTrain's rmse: 0.161151\tTest's rmse: 0.0213235\n",
            "Training until validation scores don't improve for 50 rounds.\n"
          ]
        },
        {
          "output_type": "stream",
          "name": "stderr",
          "text": [
            "\u001b[32m[I 2021-12-13 11:57:44,454]\u001b[0m Trial 47 finished with value: 0.020285321107039605 and parameters: {'lambda_l1': 4.329370014459266e-07, 'lambda_l2': 4.4734294104626844e-07}. Best is trial 41 with value: 0.019831101860476746.\u001b[0m\n"
          ]
        },
        {
          "output_type": "stream",
          "name": "stdout",
          "text": [
            "Early stopping, best iteration is:\n",
            "[43]\tTrain's rmse: 0.164398\tTest's rmse: 0.0202853\n",
            "Training until validation scores don't improve for 50 rounds.\n"
          ]
        },
        {
          "output_type": "stream",
          "name": "stderr",
          "text": [
            "\u001b[32m[I 2021-12-13 11:57:44,733]\u001b[0m Trial 48 finished with value: 0.02028519908828651 and parameters: {'lambda_l1': 5.472429642032198e-06, 'lambda_l2': 0.00052821153945323}. Best is trial 41 with value: 0.019831101860476746.\u001b[0m\n"
          ]
        },
        {
          "output_type": "stream",
          "name": "stdout",
          "text": [
            "Early stopping, best iteration is:\n",
            "[43]\tTrain's rmse: 0.164399\tTest's rmse: 0.0202852\n",
            "Training until validation scores don't improve for 50 rounds.\n"
          ]
        },
        {
          "output_type": "stream",
          "name": "stderr",
          "text": [
            "\u001b[32m[I 2021-12-13 11:57:45,034]\u001b[0m Trial 49 finished with value: 0.02028533069921708 and parameters: {'lambda_l1': 7.71800699380605e-05, 'lambda_l2': 4.17890272377219e-06}. Best is trial 41 with value: 0.019831101860476746.\u001b[0m\n"
          ]
        },
        {
          "output_type": "stream",
          "name": "stdout",
          "text": [
            "Early stopping, best iteration is:\n",
            "[43]\tTrain's rmse: 0.164398\tTest's rmse: 0.0202853\n",
            "Training until validation scores don't improve for 50 rounds.\n"
          ]
        },
        {
          "output_type": "stream",
          "name": "stderr",
          "text": [
            "\u001b[32m[I 2021-12-13 11:57:45,315]\u001b[0m Trial 50 finished with value: 0.031101599405707118 and parameters: {'lambda_l1': 5.402896923508629, 'lambda_l2': 0.00018194741639177489}. Best is trial 41 with value: 0.019831101860476746.\u001b[0m\n"
          ]
        },
        {
          "output_type": "stream",
          "name": "stdout",
          "text": [
            "Did not meet early stopping. Best iteration is:\n",
            "[100]\tTrain's rmse: 0.143604\tTest's rmse: 0.0311016\n",
            "Training until validation scores don't improve for 50 rounds.\n"
          ]
        },
        {
          "output_type": "stream",
          "name": "stderr",
          "text": [
            "\u001b[32m[I 2021-12-13 11:57:45,614]\u001b[0m Trial 51 finished with value: 0.020372057056134124 and parameters: {'lambda_l1': 0.004908301797490369, 'lambda_l2': 0.0009771589136000017}. Best is trial 41 with value: 0.019831101860476746.\u001b[0m\n"
          ]
        },
        {
          "output_type": "stream",
          "name": "stdout",
          "text": [
            "Early stopping, best iteration is:\n",
            "[44]\tTrain's rmse: 0.166499\tTest's rmse: 0.0203721\n",
            "Training until validation scores don't improve for 50 rounds.\n"
          ]
        },
        {
          "output_type": "stream",
          "name": "stderr",
          "text": [
            "\u001b[32m[I 2021-12-13 11:57:45,914]\u001b[0m Trial 52 finished with value: 0.02893382725571422 and parameters: {'lambda_l1': 0.06708272946489857, 'lambda_l2': 0.0003108365361430203}. Best is trial 41 with value: 0.019831101860476746.\u001b[0m\n"
          ]
        },
        {
          "output_type": "stream",
          "name": "stdout",
          "text": [
            "Did not meet early stopping. Best iteration is:\n",
            "[100]\tTrain's rmse: 0.149054\tTest's rmse: 0.0289338\n",
            "Training until validation scores don't improve for 50 rounds.\n"
          ]
        },
        {
          "output_type": "stream",
          "name": "stderr",
          "text": [
            "\u001b[32m[I 2021-12-13 11:57:46,213]\u001b[0m Trial 53 finished with value: 0.020283892162995153 and parameters: {'lambda_l1': 3.601966653030624e-06, 'lambda_l2': 0.006152049296214337}. Best is trial 41 with value: 0.019831101860476746.\u001b[0m\n"
          ]
        },
        {
          "output_type": "stream",
          "name": "stdout",
          "text": [
            "Early stopping, best iteration is:\n",
            "[43]\tTrain's rmse: 0.164404\tTest's rmse: 0.0202839\n",
            "Training until validation scores don't improve for 50 rounds.\n"
          ]
        },
        {
          "output_type": "stream",
          "name": "stderr",
          "text": [
            "\u001b[32m[I 2021-12-13 11:57:46,518]\u001b[0m Trial 54 finished with value: 0.029447324328788455 and parameters: {'lambda_l1': 0.0008472745658933207, 'lambda_l2': 0.044223173270844754}. Best is trial 41 with value: 0.019831101860476746.\u001b[0m\n"
          ]
        },
        {
          "output_type": "stream",
          "name": "stdout",
          "text": [
            "Did not meet early stopping. Best iteration is:\n",
            "[100]\tTrain's rmse: 0.145035\tTest's rmse: 0.0294473\n",
            "Training until validation scores don't improve for 50 rounds.\n"
          ]
        },
        {
          "output_type": "stream",
          "name": "stderr",
          "text": [
            "\u001b[32m[I 2021-12-13 11:57:46,785]\u001b[0m Trial 55 finished with value: 0.02018530929924569 and parameters: {'lambda_l1': 0.05503926305649259, 'lambda_l2': 0.011297359459467275}. Best is trial 41 with value: 0.019831101860476746.\u001b[0m\n"
          ]
        },
        {
          "output_type": "stream",
          "name": "stdout",
          "text": [
            "Early stopping, best iteration is:\n",
            "[43]\tTrain's rmse: 0.169378\tTest's rmse: 0.0201853\n",
            "Training until validation scores don't improve for 50 rounds.\n"
          ]
        },
        {
          "output_type": "stream",
          "name": "stderr",
          "text": [
            "\u001b[32m[I 2021-12-13 11:57:47,079]\u001b[0m Trial 56 finished with value: 0.022356922830272182 and parameters: {'lambda_l1': 0.06469738195422284, 'lambda_l2': 2.2689003690072427e-05}. Best is trial 41 with value: 0.019831101860476746.\u001b[0m\n"
          ]
        },
        {
          "output_type": "stream",
          "name": "stdout",
          "text": [
            "Early stopping, best iteration is:\n",
            "[45]\tTrain's rmse: 0.16451\tTest's rmse: 0.0223569\n",
            "Training until validation scores don't improve for 50 rounds.\n"
          ]
        },
        {
          "output_type": "stream",
          "name": "stderr",
          "text": [
            "\u001b[32m[I 2021-12-13 11:57:47,347]\u001b[0m Trial 57 finished with value: 0.02659284993399035 and parameters: {'lambda_l1': 8.232907602810837, 'lambda_l2': 0.118760751687072}. Best is trial 41 with value: 0.019831101860476746.\u001b[0m\n"
          ]
        },
        {
          "output_type": "stream",
          "name": "stdout",
          "text": [
            "Did not meet early stopping. Best iteration is:\n",
            "[100]\tTrain's rmse: 0.146601\tTest's rmse: 0.0265928\n",
            "Training until validation scores don't improve for 50 rounds.\n"
          ]
        },
        {
          "output_type": "stream",
          "name": "stderr",
          "text": [
            "\u001b[32m[I 2021-12-13 11:57:47,624]\u001b[0m Trial 58 finished with value: 0.02716728195420249 and parameters: {'lambda_l1': 0.6112729537386181, 'lambda_l2': 0.0035747862607187334}. Best is trial 41 with value: 0.019831101860476746.\u001b[0m\n"
          ]
        },
        {
          "output_type": "stream",
          "name": "stdout",
          "text": [
            "Did not meet early stopping. Best iteration is:\n",
            "[100]\tTrain's rmse: 0.137149\tTest's rmse: 0.0271673\n",
            "Training until validation scores don't improve for 50 rounds.\n"
          ]
        },
        {
          "output_type": "stream",
          "name": "stderr",
          "text": [
            "\u001b[32m[I 2021-12-13 11:57:47,919]\u001b[0m Trial 59 finished with value: 0.020372012610499143 and parameters: {'lambda_l1': 0.006269224708411151, 'lambda_l2': 3.0785615192833e-05}. Best is trial 41 with value: 0.019831101860476746.\u001b[0m\n"
          ]
        },
        {
          "output_type": "stream",
          "name": "stdout",
          "text": [
            "Early stopping, best iteration is:\n",
            "[44]\tTrain's rmse: 0.166499\tTest's rmse: 0.020372\n",
            "Training until validation scores don't improve for 50 rounds.\n"
          ]
        },
        {
          "output_type": "stream",
          "name": "stderr",
          "text": [
            "\u001b[32m[I 2021-12-13 11:57:48,225]\u001b[0m Trial 60 finished with value: 0.026766902156243468 and parameters: {'min_child_samples': 10}. Best is trial 60 with value: 0.026766902156243468.\u001b[0m\n"
          ]
        },
        {
          "output_type": "stream",
          "name": "stdout",
          "text": [
            "Early stopping, best iteration is:\n",
            "[39]\tTrain's rmse: 0.114847\tTest's rmse: 0.0267669\n",
            "Training until validation scores don't improve for 50 rounds.\n"
          ]
        },
        {
          "output_type": "stream",
          "name": "stderr",
          "text": [
            "\u001b[32m[I 2021-12-13 11:57:48,500]\u001b[0m Trial 61 finished with value: 0.05583387012256648 and parameters: {'min_child_samples': 50}. Best is trial 60 with value: 0.026766902156243468.\u001b[0m\n"
          ]
        },
        {
          "output_type": "stream",
          "name": "stdout",
          "text": [
            "Early stopping, best iteration is:\n",
            "[39]\tTrain's rmse: 0.25747\tTest's rmse: 0.0558339\n",
            "Training until validation scores don't improve for 50 rounds.\n"
          ]
        },
        {
          "output_type": "stream",
          "name": "stderr",
          "text": [
            "\u001b[32m[I 2021-12-13 11:57:48,753]\u001b[0m Trial 62 finished with value: 0.08968622604426872 and parameters: {'min_child_samples': 100}. Best is trial 60 with value: 0.026766902156243468.\u001b[0m\n"
          ]
        },
        {
          "output_type": "stream",
          "name": "stdout",
          "text": [
            "Early stopping, best iteration is:\n",
            "[29]\tTrain's rmse: 0.318707\tTest's rmse: 0.0896862\n",
            "Training until validation scores don't improve for 50 rounds.\n"
          ]
        },
        {
          "output_type": "stream",
          "name": "stderr",
          "text": [
            "\u001b[32m[I 2021-12-13 11:57:49,017]\u001b[0m Trial 63 finished with value: 0.024702041414483 and parameters: {'min_child_samples': 5}. Best is trial 63 with value: 0.024702041414483.\u001b[0m\n"
          ]
        },
        {
          "output_type": "stream",
          "name": "stdout",
          "text": [
            "Early stopping, best iteration is:\n",
            "[45]\tTrain's rmse: 0.051623\tTest's rmse: 0.024702\n",
            "Training until validation scores don't improve for 50 rounds.\n"
          ]
        },
        {
          "output_type": "stream",
          "name": "stderr",
          "text": [
            "\u001b[32m[I 2021-12-13 11:57:49,331]\u001b[0m Trial 64 finished with value: 0.027326852225812572 and parameters: {'min_child_samples': 25}. Best is trial 63 with value: 0.024702041414483.\u001b[0m\n"
          ]
        },
        {
          "output_type": "stream",
          "name": "stdout",
          "text": [
            "Early stopping, best iteration is:\n",
            "[44]\tTrain's rmse: 0.175669\tTest's rmse: 0.0273269\n"
          ]
        },
        {
          "output_type": "display_data",
          "data": {
            "image/png": "[encoded data removed]",
            "text/plain": [
              "<Figure size 432x288 with 1 Axes>"
            ]
          },
          "metadata": {
            "needs_background": "light"
          }
        },
        {
          "output_type": "stream",
          "name": "stderr",
          "text": [
            "\u001b[32m[I 2021-12-13 11:57:49,542]\u001b[0m A new study created in memory with name: no-name-499b4eda-2b68-4575-8b7d-d4f419692e50\u001b[0m\n"
          ]
        },
        {
          "output_type": "stream",
          "name": "stdout",
          "text": [
            "Training until validation scores don't improve for 50 rounds.\n"
          ]
        },
        {
          "output_type": "stream",
          "name": "stderr",
          "text": [
            "\u001b[32m[I 2021-12-13 11:57:49,963]\u001b[0m Trial 0 finished with value: 0.38854610452293914 and parameters: {'feature_fraction': 0.8}. Best is trial 0 with value: 0.38854610452293914.\u001b[0m\n"
          ]
        },
        {
          "output_type": "stream",
          "name": "stdout",
          "text": [
            "Early stopping, best iteration is:\n",
            "[48]\tTrain's rmse: 0.15319\tTest's rmse: 0.388546\n",
            "Training until validation scores don't improve for 50 rounds.\n"
          ]
        },
        {
          "output_type": "stream",
          "name": "stderr",
          "text": [
            "\u001b[32m[I 2021-12-13 11:57:50,365]\u001b[0m Trial 1 finished with value: 0.37303280377763515 and parameters: {'feature_fraction': 1.0}. Best is trial 1 with value: 0.37303280377763515.\u001b[0m\n"
          ]
        },
        {
          "output_type": "stream",
          "name": "stdout",
          "text": [
            "Early stopping, best iteration is:\n",
            "[32]\tTrain's rmse: 0.15906\tTest's rmse: 0.373033\n",
            "Training until validation scores don't improve for 50 rounds.\n"
          ]
        },
        {
          "output_type": "stream",
          "name": "stderr",
          "text": [
            "\u001b[32m[I 2021-12-13 11:57:50,708]\u001b[0m Trial 2 finished with value: 0.41325813010412743 and parameters: {'feature_fraction': 0.5}. Best is trial 1 with value: 0.37303280377763515.\u001b[0m\n"
          ]
        },
        {
          "output_type": "stream",
          "name": "stdout",
          "text": [
            "Did not meet early stopping. Best iteration is:\n",
            "[100]\tTrain's rmse: 0.121666\tTest's rmse: 0.413258\n",
            "Training until validation scores don't improve for 50 rounds.\n"
          ]
        },
        {
          "output_type": "stream",
          "name": "stderr",
          "text": [
            "\u001b[32m[I 2021-12-13 11:57:51,114]\u001b[0m Trial 3 finished with value: 0.407667454479844 and parameters: {'feature_fraction': 0.6}. Best is trial 1 with value: 0.37303280377763515.\u001b[0m\n"
          ]
        },
        {
          "output_type": "stream",
          "name": "stdout",
          "text": [
            "Did not meet early stopping. Best iteration is:\n",
            "[100]\tTrain's rmse: 0.119068\tTest's rmse: 0.407667\n",
            "Training until validation scores don't improve for 50 rounds.\n"
          ]
        },
        {
          "output_type": "stream",
          "name": "stderr",
          "text": [
            "\u001b[32m[I 2021-12-13 11:57:51,507]\u001b[0m Trial 4 finished with value: 0.39792690629008476 and parameters: {'feature_fraction': 0.7}. Best is trial 1 with value: 0.37303280377763515.\u001b[0m\n"
          ]
        },
        {
          "output_type": "stream",
          "name": "stdout",
          "text": [
            "Did not meet early stopping. Best iteration is:\n",
            "[100]\tTrain's rmse: 0.119956\tTest's rmse: 0.397927\n",
            "Training until validation scores don't improve for 50 rounds.\n"
          ]
        },
        {
          "output_type": "stream",
          "name": "stderr",
          "text": [
            "\u001b[32m[I 2021-12-13 11:57:51,886]\u001b[0m Trial 5 finished with value: 0.38020058278906177 and parameters: {'feature_fraction': 0.8999999999999999}. Best is trial 1 with value: 0.37303280377763515.\u001b[0m\n"
          ]
        },
        {
          "output_type": "stream",
          "name": "stdout",
          "text": [
            "Early stopping, best iteration is:\n",
            "[36]\tTrain's rmse: 0.157903\tTest's rmse: 0.380201\n",
            "Training until validation scores don't improve for 50 rounds.\n"
          ]
        },
        {
          "output_type": "stream",
          "name": "stderr",
          "text": [
            "\u001b[32m[I 2021-12-13 11:57:52,229]\u001b[0m Trial 6 finished with value: 0.41194801855330004 and parameters: {'feature_fraction': 0.4}. Best is trial 1 with value: 0.37303280377763515.\u001b[0m\n"
          ]
        },
        {
          "output_type": "stream",
          "name": "stdout",
          "text": [
            "Did not meet early stopping. Best iteration is:\n",
            "[100]\tTrain's rmse: 0.127532\tTest's rmse: 0.411948\n",
            "Training until validation scores don't improve for 50 rounds.\n"
          ]
        },
        {
          "output_type": "stream",
          "name": "stderr",
          "text": [
            "\u001b[32m[I 2021-12-13 11:57:52,953]\u001b[0m Trial 7 finished with value: 0.37606495936578405 and parameters: {'num_leaves': 97}. Best is trial 7 with value: 0.37606495936578405.\u001b[0m\n"
          ]
        },
        {
          "output_type": "stream",
          "name": "stdout",
          "text": [
            "Early stopping, best iteration is:\n",
            "[32]\tTrain's rmse: 0.159187\tTest's rmse: 0.376065\n",
            "Training until validation scores don't improve for 50 rounds.\n"
          ]
        },
        {
          "output_type": "stream",
          "name": "stderr",
          "text": [
            "\u001b[32m[I 2021-12-13 11:57:54,431]\u001b[0m Trial 8 finished with value: 0.3757680455073839 and parameters: {'num_leaves': 244}. Best is trial 8 with value: 0.3757680455073839.\u001b[0m\n"
          ]
        },
        {
          "output_type": "stream",
          "name": "stdout",
          "text": [
            "Early stopping, best iteration is:\n",
            "[39]\tTrain's rmse: 0.153025\tTest's rmse: 0.375768\n",
            "Training until validation scores don't improve for 50 rounds.\n"
          ]
        },
        {
          "output_type": "stream",
          "name": "stderr",
          "text": [
            "\u001b[32m[I 2021-12-13 11:57:55,645]\u001b[0m Trial 9 finished with value: 0.37576783200939284 and parameters: {'num_leaves': 188}. Best is trial 9 with value: 0.37576783200939284.\u001b[0m\n"
          ]
        },
        {
          "output_type": "stream",
          "name": "stdout",
          "text": [
            "Early stopping, best iteration is:\n",
            "[39]\tTrain's rmse: 0.153026\tTest's rmse: 0.375768\n",
            "Training until validation scores don't improve for 50 rounds.\n"
          ]
        },
        {
          "output_type": "stream",
          "name": "stderr",
          "text": [
            "\u001b[32m[I 2021-12-13 11:57:56,653]\u001b[0m Trial 10 finished with value: 0.37608682300129176 and parameters: {'num_leaves': 154}. Best is trial 9 with value: 0.37576783200939284.\u001b[0m\n"
          ]
        },
        {
          "output_type": "stream",
          "name": "stdout",
          "text": [
            "Early stopping, best iteration is:\n",
            "[32]\tTrain's rmse: 0.159181\tTest's rmse: 0.376087\n",
            "Training until validation scores don't improve for 50 rounds.\n"
          ]
        },
        {
          "output_type": "stream",
          "name": "stderr",
          "text": [
            "\u001b[32m[I 2021-12-13 11:57:57,083]\u001b[0m Trial 11 finished with value: 0.37614593179128814 and parameters: {'num_leaves': 41}. Best is trial 9 with value: 0.37576783200939284.\u001b[0m\n"
          ]
        },
        {
          "output_type": "stream",
          "name": "stdout",
          "text": [
            "Early stopping, best iteration is:\n",
            "[31]\tTrain's rmse: 0.159713\tTest's rmse: 0.376146\n",
            "Training until validation scores don't improve for 50 rounds.\n"
          ]
        },
        {
          "output_type": "stream",
          "name": "stderr",
          "text": [
            "\u001b[32m[I 2021-12-13 11:57:57,547]\u001b[0m Trial 12 finished with value: 0.37614593179128814 and parameters: {'num_leaves': 41}. Best is trial 9 with value: 0.37576783200939284.\u001b[0m\n"
          ]
        },
        {
          "output_type": "stream",
          "name": "stdout",
          "text": [
            "Early stopping, best iteration is:\n",
            "[31]\tTrain's rmse: 0.159713\tTest's rmse: 0.376146\n",
            "Training until validation scores don't improve for 50 rounds.\n"
          ]
        },
        {
          "output_type": "stream",
          "name": "stderr",
          "text": [
            "\u001b[32m[I 2021-12-13 11:57:57,813]\u001b[0m Trial 13 finished with value: 0.37581947967179347 and parameters: {'num_leaves': 16}. Best is trial 9 with value: 0.37576783200939284.\u001b[0m\n"
          ]
        },
        {
          "output_type": "stream",
          "name": "stdout",
          "text": [
            "Early stopping, best iteration is:\n",
            "[32]\tTrain's rmse: 0.159073\tTest's rmse: 0.375819\n",
            "Training until validation scores don't improve for 50 rounds.\n"
          ]
        },
        {
          "output_type": "stream",
          "name": "stderr",
          "text": [
            "\u001b[32m[I 2021-12-13 11:57:59,053]\u001b[0m Trial 14 finished with value: 0.376064196302643 and parameters: {'num_leaves': 222}. Best is trial 9 with value: 0.37576783200939284.\u001b[0m\n"
          ]
        },
        {
          "output_type": "stream",
          "name": "stdout",
          "text": [
            "Early stopping, best iteration is:\n",
            "[32]\tTrain's rmse: 0.15918\tTest's rmse: 0.376064\n",
            "Training until validation scores don't improve for 50 rounds.\n"
          ]
        },
        {
          "output_type": "stream",
          "name": "stderr",
          "text": [
            "\u001b[32m[I 2021-12-13 11:58:00,129]\u001b[0m Trial 15 finished with value: 0.37578044138282113 and parameters: {'num_leaves': 155}. Best is trial 9 with value: 0.37576783200939284.\u001b[0m\n"
          ]
        },
        {
          "output_type": "stream",
          "name": "stdout",
          "text": [
            "Early stopping, best iteration is:\n",
            "[39]\tTrain's rmse: 0.153026\tTest's rmse: 0.37578\n",
            "Training until validation scores don't improve for 50 rounds.\n"
          ]
        },
        {
          "output_type": "stream",
          "name": "stderr",
          "text": [
            "\u001b[32m[I 2021-12-13 11:58:01,358]\u001b[0m Trial 16 finished with value: 0.3757805317973913 and parameters: {'num_leaves': 182}. Best is trial 9 with value: 0.37576783200939284.\u001b[0m\n"
          ]
        },
        {
          "output_type": "stream",
          "name": "stdout",
          "text": [
            "Early stopping, best iteration is:\n",
            "[39]\tTrain's rmse: 0.153025\tTest's rmse: 0.375781\n",
            "Training until validation scores don't improve for 50 rounds.\n"
          ]
        },
        {
          "output_type": "stream",
          "name": "stderr",
          "text": [
            "\u001b[32m[I 2021-12-13 11:58:02,036]\u001b[0m Trial 17 finished with value: 0.3760715859919916 and parameters: {'num_leaves': 83}. Best is trial 9 with value: 0.37576783200939284.\u001b[0m\n"
          ]
        },
        {
          "output_type": "stream",
          "name": "stdout",
          "text": [
            "Early stopping, best iteration is:\n",
            "[32]\tTrain's rmse: 0.159194\tTest's rmse: 0.376072\n",
            "Training until validation scores don't improve for 50 rounds.\n"
          ]
        },
        {
          "output_type": "stream",
          "name": "stderr",
          "text": [
            "\u001b[32m[I 2021-12-13 11:58:03,532]\u001b[0m Trial 18 finished with value: 0.3757680785901596 and parameters: {'num_leaves': 246}. Best is trial 9 with value: 0.37576783200939284.\u001b[0m\n"
          ]
        },
        {
          "output_type": "stream",
          "name": "stdout",
          "text": [
            "Early stopping, best iteration is:\n",
            "[39]\tTrain's rmse: 0.153025\tTest's rmse: 0.375768\n",
            "Training until validation scores don't improve for 50 rounds.\n"
          ]
        },
        {
          "output_type": "stream",
          "name": "stderr",
          "text": [
            "\u001b[32m[I 2021-12-13 11:58:04,843]\u001b[0m Trial 19 finished with value: 0.3757680089310986 and parameters: {'num_leaves': 210}. Best is trial 9 with value: 0.37576783200939284.\u001b[0m\n"
          ]
        },
        {
          "output_type": "stream",
          "name": "stdout",
          "text": [
            "Early stopping, best iteration is:\n",
            "[39]\tTrain's rmse: 0.153026\tTest's rmse: 0.375768\n",
            "Training until validation scores don't improve for 50 rounds.\n"
          ]
        },
        {
          "output_type": "stream",
          "name": "stderr",
          "text": [
            "\u001b[32m[I 2021-12-13 11:58:06,097]\u001b[0m Trial 20 finished with value: 0.37576801571108703 and parameters: {'num_leaves': 198}. Best is trial 9 with value: 0.37576783200939284.\u001b[0m\n"
          ]
        },
        {
          "output_type": "stream",
          "name": "stdout",
          "text": [
            "Early stopping, best iteration is:\n",
            "[39]\tTrain's rmse: 0.153026\tTest's rmse: 0.375768\n",
            "Training until validation scores don't improve for 50 rounds.\n"
          ]
        },
        {
          "output_type": "stream",
          "name": "stderr",
          "text": [
            "\u001b[32m[I 2021-12-13 11:58:07,332]\u001b[0m Trial 21 finished with value: 0.3757679231119786 and parameters: {'num_leaves': 195}. Best is trial 9 with value: 0.37576783200939284.\u001b[0m\n"
          ]
        },
        {
          "output_type": "stream",
          "name": "stdout",
          "text": [
            "Early stopping, best iteration is:\n",
            "[39]\tTrain's rmse: 0.153026\tTest's rmse: 0.375768\n",
            "Training until validation scores don't improve for 50 rounds.\n"
          ]
        },
        {
          "output_type": "stream",
          "name": "stderr",
          "text": [
            "\u001b[32m[I 2021-12-13 11:58:08,347]\u001b[0m Trial 22 finished with value: 0.3760866286752516 and parameters: {'num_leaves': 164}. Best is trial 9 with value: 0.37576783200939284.\u001b[0m\n"
          ]
        },
        {
          "output_type": "stream",
          "name": "stdout",
          "text": [
            "Early stopping, best iteration is:\n",
            "[32]\tTrain's rmse: 0.15918\tTest's rmse: 0.376087\n",
            "Training until validation scores don't improve for 50 rounds.\n"
          ]
        },
        {
          "output_type": "stream",
          "name": "stderr",
          "text": [
            "\u001b[32m[I 2021-12-13 11:58:09,248]\u001b[0m Trial 23 finished with value: 0.3757688371248756 and parameters: {'num_leaves': 118}. Best is trial 9 with value: 0.37576783200939284.\u001b[0m\n"
          ]
        },
        {
          "output_type": "stream",
          "name": "stdout",
          "text": [
            "Early stopping, best iteration is:\n",
            "[39]\tTrain's rmse: 0.153049\tTest's rmse: 0.375769\n",
            "Training until validation scores don't improve for 50 rounds.\n"
          ]
        },
        {
          "output_type": "stream",
          "name": "stderr",
          "text": [
            "\u001b[32m[I 2021-12-13 11:58:10,262]\u001b[0m Trial 24 finished with value: 0.3757660303044145 and parameters: {'num_leaves': 133}. Best is trial 24 with value: 0.3757660303044145.\u001b[0m\n"
          ]
        },
        {
          "output_type": "stream",
          "name": "stdout",
          "text": [
            "Early stopping, best iteration is:\n",
            "[39]\tTrain's rmse: 0.153043\tTest's rmse: 0.375766\n",
            "Training until validation scores don't improve for 50 rounds.\n"
          ]
        },
        {
          "output_type": "stream",
          "name": "stderr",
          "text": [
            "\u001b[32m[I 2021-12-13 11:58:11,151]\u001b[0m Trial 25 finished with value: 0.3760694402302203 and parameters: {'num_leaves': 128}. Best is trial 24 with value: 0.3757660303044145.\u001b[0m\n"
          ]
        },
        {
          "output_type": "stream",
          "name": "stdout",
          "text": [
            "Early stopping, best iteration is:\n",
            "[32]\tTrain's rmse: 0.159187\tTest's rmse: 0.376069\n",
            "Training until validation scores don't improve for 50 rounds.\n"
          ]
        },
        {
          "output_type": "stream",
          "name": "stderr",
          "text": [
            "\u001b[32m[I 2021-12-13 11:58:11,809]\u001b[0m Trial 26 finished with value: 0.3760715859919916 and parameters: {'num_leaves': 83}. Best is trial 24 with value: 0.3757660303044145.\u001b[0m\n"
          ]
        },
        {
          "output_type": "stream",
          "name": "stdout",
          "text": [
            "Early stopping, best iteration is:\n",
            "[32]\tTrain's rmse: 0.159194\tTest's rmse: 0.376072\n",
            "Training until validation scores don't improve for 50 rounds.\n"
          ]
        },
        {
          "output_type": "stream",
          "name": "stderr",
          "text": [
            "\u001b[32m[I 2021-12-13 11:58:12,309]\u001b[0m Trial 27 finished with value: 0.34371253974240007 and parameters: {'bagging_fraction': 0.624724071308792, 'bagging_freq': 7}. Best is trial 27 with value: 0.34371253974240007.\u001b[0m\n"
          ]
        },
        {
          "output_type": "stream",
          "name": "stdout",
          "text": [
            "Did not meet early stopping. Best iteration is:\n",
            "[100]\tTrain's rmse: 0.163307\tTest's rmse: 0.343713\n",
            "Training until validation scores don't improve for 50 rounds.\n"
          ]
        },
        {
          "output_type": "stream",
          "name": "stderr",
          "text": [
            "\u001b[32m[I 2021-12-13 11:58:12,862]\u001b[0m Trial 28 finished with value: 0.36534671822946113 and parameters: {'bagging_fraction': 0.8391963650875751, 'bagging_freq': 5}. Best is trial 27 with value: 0.34371253974240007.\u001b[0m\n"
          ]
        },
        {
          "output_type": "stream",
          "name": "stdout",
          "text": [
            "Did not meet early stopping. Best iteration is:\n",
            "[100]\tTrain's rmse: 0.148738\tTest's rmse: 0.365347\n",
            "Training until validation scores don't improve for 50 rounds.\n"
          ]
        },
        {
          "output_type": "stream",
          "name": "stderr",
          "text": [
            "\u001b[32m[I 2021-12-13 11:58:13,363]\u001b[0m Trial 29 finished with value: 0.34742904615597364 and parameters: {'bagging_fraction': 0.49361118426561795, 'bagging_freq': 2}. Best is trial 27 with value: 0.34371253974240007.\u001b[0m\n"
          ]
        },
        {
          "output_type": "stream",
          "name": "stdout",
          "text": [
            "Did not meet early stopping. Best iteration is:\n",
            "[100]\tTrain's rmse: 0.170648\tTest's rmse: 0.347429\n",
            "Training until validation scores don't improve for 50 rounds.\n"
          ]
        },
        {
          "output_type": "stream",
          "name": "stderr",
          "text": [
            "\u001b[32m[I 2021-12-13 11:58:13,865]\u001b[0m Trial 30 finished with value: 0.35416751163143156 and parameters: {'bagging_fraction': 0.4348501673009778, 'bagging_freq': 7}. Best is trial 27 with value: 0.34371253974240007.\u001b[0m\n"
          ]
        },
        {
          "output_type": "stream",
          "name": "stdout",
          "text": [
            "Did not meet early stopping. Best iteration is:\n",
            "[100]\tTrain's rmse: 0.172984\tTest's rmse: 0.354168\n",
            "Training until validation scores don't improve for 50 rounds.\n"
          ]
        },
        {
          "output_type": "stream",
          "name": "stderr",
          "text": [
            "\u001b[32m[I 2021-12-13 11:58:14,373]\u001b[0m Trial 31 finished with value: 0.3498543739047216 and parameters: {'bagging_fraction': 0.7606690070465265, 'bagging_freq': 5}. Best is trial 27 with value: 0.34371253974240007.\u001b[0m\n"
          ]
        },
        {
          "output_type": "stream",
          "name": "stdout",
          "text": [
            "Did not meet early stopping. Best iteration is:\n",
            "[100]\tTrain's rmse: 0.156355\tTest's rmse: 0.349854\n",
            "Training until validation scores don't improve for 50 rounds.\n"
          ]
        },
        {
          "output_type": "stream",
          "name": "stderr",
          "text": [
            "\u001b[32m[I 2021-12-13 11:58:14,883]\u001b[0m Trial 32 finished with value: 0.3467172499435282 and parameters: {'bagging_fraction': 0.41235069657750206, 'bagging_freq': 7}. Best is trial 27 with value: 0.34371253974240007.\u001b[0m\n"
          ]
        },
        {
          "output_type": "stream",
          "name": "stdout",
          "text": [
            "Did not meet early stopping. Best iteration is:\n",
            "[100]\tTrain's rmse: 0.175652\tTest's rmse: 0.346717\n",
            "Training until validation scores don't improve for 50 rounds.\n"
          ]
        },
        {
          "output_type": "stream",
          "name": "stderr",
          "text": [
            "\u001b[32m[I 2021-12-13 11:58:15,426]\u001b[0m Trial 33 finished with value: 0.36553766555594686 and parameters: {'bagging_fraction': 0.8994655844810855, 'bagging_freq': 2}. Best is trial 27 with value: 0.34371253974240007.\u001b[0m\n"
          ]
        },
        {
          "output_type": "stream",
          "name": "stdout",
          "text": [
            "Did not meet early stopping. Best iteration is:\n",
            "[100]\tTrain's rmse: 0.142873\tTest's rmse: 0.365538\n",
            "Training until validation scores don't improve for 50 rounds.\n"
          ]
        },
        {
          "output_type": "stream",
          "name": "stderr",
          "text": [
            "\u001b[32m[I 2021-12-13 11:58:15,945]\u001b[0m Trial 34 finished with value: 0.346570884433672 and parameters: {'bagging_fraction': 0.5090949803244422, 'bagging_freq': 2}. Best is trial 27 with value: 0.34371253974240007.\u001b[0m\n"
          ]
        },
        {
          "output_type": "stream",
          "name": "stdout",
          "text": [
            "Did not meet early stopping. Best iteration is:\n",
            "[100]\tTrain's rmse: 0.167761\tTest's rmse: 0.346571\n",
            "Training until validation scores don't improve for 50 rounds.\n"
          ]
        },
        {
          "output_type": "stream",
          "name": "stderr",
          "text": [
            "\u001b[32m[I 2021-12-13 11:58:16,452]\u001b[0m Trial 35 finished with value: 0.35808848165876905 and parameters: {'bagging_fraction': 0.5825453457760269, 'bagging_freq': 4}. Best is trial 27 with value: 0.34371253974240007.\u001b[0m\n"
          ]
        },
        {
          "output_type": "stream",
          "name": "stdout",
          "text": [
            "Did not meet early stopping. Best iteration is:\n",
            "[100]\tTrain's rmse: 0.164895\tTest's rmse: 0.358088\n",
            "Training until validation scores don't improve for 50 rounds.\n"
          ]
        },
        {
          "output_type": "stream",
          "name": "stderr",
          "text": [
            "\u001b[32m[I 2021-12-13 11:58:16,989]\u001b[0m Trial 36 finished with value: 0.35568093472165413 and parameters: {'bagging_fraction': 0.6591670111857015, 'bagging_freq': 3}. Best is trial 27 with value: 0.34371253974240007.\u001b[0m\n"
          ]
        },
        {
          "output_type": "stream",
          "name": "stdout",
          "text": [
            "Did not meet early stopping. Best iteration is:\n",
            "[100]\tTrain's rmse: 0.161961\tTest's rmse: 0.355681\n",
            "Training until validation scores don't improve for 50 rounds.\n"
          ]
        },
        {
          "output_type": "stream",
          "name": "stderr",
          "text": [
            "\u001b[32m[I 2021-12-13 11:58:17,436]\u001b[0m Trial 37 finished with value: 0.33478641343252435 and parameters: {'feature_fraction': 0.9840000000000001}. Best is trial 37 with value: 0.33478641343252435.\u001b[0m\n"
          ]
        },
        {
          "output_type": "stream",
          "name": "stdout",
          "text": [
            "Early stopping, best iteration is:\n",
            "[42]\tTrain's rmse: 0.182187\tTest's rmse: 0.334786\n",
            "Training until validation scores don't improve for 50 rounds.\n"
          ]
        },
        {
          "output_type": "stream",
          "name": "stderr",
          "text": [
            "\u001b[32m[I 2021-12-13 11:58:17,889]\u001b[0m Trial 38 finished with value: 0.3367757112907181 and parameters: {'feature_fraction': 0.92}. Best is trial 37 with value: 0.33478641343252435.\u001b[0m\n"
          ]
        },
        {
          "output_type": "stream",
          "name": "stdout",
          "text": [
            "Early stopping, best iteration is:\n",
            "[42]\tTrain's rmse: 0.180929\tTest's rmse: 0.336776\n",
            "Training until validation scores don't improve for 50 rounds.\n"
          ]
        },
        {
          "output_type": "stream",
          "name": "stderr",
          "text": [
            "\u001b[32m[I 2021-12-13 11:58:18,335]\u001b[0m Trial 39 finished with value: 0.33478641343252435 and parameters: {'feature_fraction': 0.9520000000000001}. Best is trial 37 with value: 0.33478641343252435.\u001b[0m\n"
          ]
        },
        {
          "output_type": "stream",
          "name": "stdout",
          "text": [
            "Early stopping, best iteration is:\n",
            "[42]\tTrain's rmse: 0.182187\tTest's rmse: 0.334786\n",
            "Training until validation scores don't improve for 50 rounds.\n"
          ]
        },
        {
          "output_type": "stream",
          "name": "stderr",
          "text": [
            "\u001b[32m[I 2021-12-13 11:58:18,761]\u001b[0m Trial 40 finished with value: 0.3289138759158339 and parameters: {'lambda_l1': 2.348881295853308e-05, 'lambda_l2': 3.6010467344475403}. Best is trial 40 with value: 0.3289138759158339.\u001b[0m\n"
          ]
        },
        {
          "output_type": "stream",
          "name": "stdout",
          "text": [
            "Early stopping, best iteration is:\n",
            "[41]\tTrain's rmse: 0.185573\tTest's rmse: 0.328914\n",
            "Training until validation scores don't improve for 50 rounds.\n"
          ]
        },
        {
          "output_type": "stream",
          "name": "stderr",
          "text": [
            "\u001b[32m[I 2021-12-13 11:58:19,211]\u001b[0m Trial 41 finished with value: 0.33279872092710383 and parameters: {'lambda_l1': 0.038720902953704193, 'lambda_l2': 0.0024430162614261413}. Best is trial 40 with value: 0.3289138759158339.\u001b[0m\n"
          ]
        },
        {
          "output_type": "stream",
          "name": "stdout",
          "text": [
            "Early stopping, best iteration is:\n",
            "[45]\tTrain's rmse: 0.183113\tTest's rmse: 0.332799\n",
            "Training until validation scores don't improve for 50 rounds.\n"
          ]
        },
        {
          "output_type": "stream",
          "name": "stderr",
          "text": [
            "\u001b[32m[I 2021-12-13 11:58:19,673]\u001b[0m Trial 42 finished with value: 0.3347864136928929 and parameters: {'lambda_l1': 2.5361081166471375e-07, 'lambda_l2': 2.5348407664333426e-07}. Best is trial 40 with value: 0.3289138759158339.\u001b[0m\n"
          ]
        },
        {
          "output_type": "stream",
          "name": "stdout",
          "text": [
            "Early stopping, best iteration is:\n",
            "[42]\tTrain's rmse: 0.182187\tTest's rmse: 0.334786\n",
            "Training until validation scores don't improve for 50 rounds.\n"
          ]
        },
        {
          "output_type": "stream",
          "name": "stderr",
          "text": [
            "\u001b[32m[I 2021-12-13 11:58:20,138]\u001b[0m Trial 43 finished with value: 0.33543290734859266 and parameters: {'lambda_l1': 3.3323645788192616e-08, 'lambda_l2': 0.6245760287469893}. Best is trial 40 with value: 0.3289138759158339.\u001b[0m\n"
          ]
        },
        {
          "output_type": "stream",
          "name": "stdout",
          "text": [
            "Early stopping, best iteration is:\n",
            "[42]\tTrain's rmse: 0.183468\tTest's rmse: 0.335433\n",
            "Training until validation scores don't improve for 50 rounds.\n"
          ]
        },
        {
          "output_type": "stream",
          "name": "stderr",
          "text": [
            "\u001b[32m[I 2021-12-13 11:58:20,588]\u001b[0m Trial 44 finished with value: 0.33696573169268845 and parameters: {'lambda_l1': 0.002570603566117598, 'lambda_l2': 0.023585940584142682}. Best is trial 40 with value: 0.3289138759158339.\u001b[0m\n"
          ]
        },
        {
          "output_type": "stream",
          "name": "stdout",
          "text": [
            "Early stopping, best iteration is:\n",
            "[42]\tTrain's rmse: 0.18245\tTest's rmse: 0.336966\n",
            "Training until validation scores don't improve for 50 rounds.\n"
          ]
        },
        {
          "output_type": "stream",
          "name": "stderr",
          "text": [
            "\u001b[32m[I 2021-12-13 11:58:21,029]\u001b[0m Trial 45 finished with value: 0.32866262307047606 and parameters: {'lambda_l1': 1.5320059381854043e-08, 'lambda_l2': 5.360294728728285}. Best is trial 45 with value: 0.32866262307047606.\u001b[0m\n"
          ]
        },
        {
          "output_type": "stream",
          "name": "stdout",
          "text": [
            "Early stopping, best iteration is:\n",
            "[42]\tTrain's rmse: 0.187358\tTest's rmse: 0.328663\n",
            "Training until validation scores don't improve for 50 rounds.\n"
          ]
        },
        {
          "output_type": "stream",
          "name": "stderr",
          "text": [
            "\u001b[32m[I 2021-12-13 11:58:21,484]\u001b[0m Trial 46 finished with value: 0.34892769275340707 and parameters: {'lambda_l1': 0.31044435499483225, 'lambda_l2': 8.148018307012941e-07}. Best is trial 45 with value: 0.32866262307047606.\u001b[0m\n"
          ]
        },
        {
          "output_type": "stream",
          "name": "stdout",
          "text": [
            "Did not meet early stopping. Best iteration is:\n",
            "[100]\tTrain's rmse: 0.159863\tTest's rmse: 0.348928\n",
            "Training until validation scores don't improve for 50 rounds.\n"
          ]
        },
        {
          "output_type": "stream",
          "name": "stderr",
          "text": [
            "\u001b[32m[I 2021-12-13 11:58:21,948]\u001b[0m Trial 47 finished with value: 0.3347864139397379 and parameters: {'lambda_l1': 4.329370014459266e-07, 'lambda_l2': 4.4734294104626844e-07}. Best is trial 45 with value: 0.32866262307047606.\u001b[0m\n"
          ]
        },
        {
          "output_type": "stream",
          "name": "stdout",
          "text": [
            "Early stopping, best iteration is:\n",
            "[42]\tTrain's rmse: 0.182187\tTest's rmse: 0.334786\n",
            "Training until validation scores don't improve for 50 rounds.\n"
          ]
        },
        {
          "output_type": "stream",
          "name": "stderr",
          "text": [
            "\u001b[32m[I 2021-12-13 11:58:22,401]\u001b[0m Trial 48 finished with value: 0.3347867924972309 and parameters: {'lambda_l1': 5.472429642032198e-06, 'lambda_l2': 0.00052821153945323}. Best is trial 45 with value: 0.32866262307047606.\u001b[0m\n"
          ]
        },
        {
          "output_type": "stream",
          "name": "stdout",
          "text": [
            "Early stopping, best iteration is:\n",
            "[42]\tTrain's rmse: 0.182187\tTest's rmse: 0.334787\n",
            "Training until validation scores don't improve for 50 rounds.\n"
          ]
        },
        {
          "output_type": "stream",
          "name": "stderr",
          "text": [
            "\u001b[32m[I 2021-12-13 11:58:22,854]\u001b[0m Trial 49 finished with value: 0.3347864910949965 and parameters: {'lambda_l1': 7.71800699380605e-05, 'lambda_l2': 4.17890272377219e-06}. Best is trial 45 with value: 0.32866262307047606.\u001b[0m\n"
          ]
        },
        {
          "output_type": "stream",
          "name": "stdout",
          "text": [
            "Early stopping, best iteration is:\n",
            "[42]\tTrain's rmse: 0.182187\tTest's rmse: 0.334786\n",
            "Training until validation scores don't improve for 50 rounds.\n"
          ]
        },
        {
          "output_type": "stream",
          "name": "stderr",
          "text": [
            "\u001b[32m[I 2021-12-13 11:58:23,216]\u001b[0m Trial 50 finished with value: 0.3341713031970957 and parameters: {'lambda_l1': 3.207959657544482, 'lambda_l2': 0.08430920984585018}. Best is trial 45 with value: 0.32866262307047606.\u001b[0m\n"
          ]
        },
        {
          "output_type": "stream",
          "name": "stdout",
          "text": [
            "Early stopping, best iteration is:\n",
            "[41]\tTrain's rmse: 0.180045\tTest's rmse: 0.334171\n",
            "Training until validation scores don't improve for 50 rounds.\n"
          ]
        },
        {
          "output_type": "stream",
          "name": "stderr",
          "text": [
            "\u001b[32m[I 2021-12-13 11:58:23,628]\u001b[0m Trial 51 finished with value: 0.33084219637715473 and parameters: {'lambda_l1': 1.1692997958212103e-08, 'lambda_l2': 3.9472261531899844}. Best is trial 45 with value: 0.32866262307047606.\u001b[0m\n"
          ]
        },
        {
          "output_type": "stream",
          "name": "stdout",
          "text": [
            "Early stopping, best iteration is:\n",
            "[41]\tTrain's rmse: 0.185021\tTest's rmse: 0.330842\n",
            "Training until validation scores don't improve for 50 rounds.\n"
          ]
        },
        {
          "output_type": "stream",
          "name": "stderr",
          "text": [
            "\u001b[32m[I 2021-12-13 11:58:24,125]\u001b[0m Trial 52 finished with value: 0.34279143254561206 and parameters: {'lambda_l1': 5.045896527823807e-05, 'lambda_l2': 2.5658581133290594}. Best is trial 45 with value: 0.32866262307047606.\u001b[0m\n"
          ]
        },
        {
          "output_type": "stream",
          "name": "stdout",
          "text": [
            "Did not meet early stopping. Best iteration is:\n",
            "[100]\tTrain's rmse: 0.163352\tTest's rmse: 0.342791\n",
            "Training until validation scores don't improve for 50 rounds.\n"
          ]
        },
        {
          "output_type": "stream",
          "name": "stderr",
          "text": [
            "\u001b[32m[I 2021-12-13 11:58:24,588]\u001b[0m Trial 53 finished with value: 0.33293710315021513 and parameters: {'lambda_l1': 0.002030128714530023, 'lambda_l2': 3.404677878190547e-05}. Best is trial 45 with value: 0.32866262307047606.\u001b[0m\n"
          ]
        },
        {
          "output_type": "stream",
          "name": "stdout",
          "text": [
            "Early stopping, best iteration is:\n",
            "[42]\tTrain's rmse: 0.184981\tTest's rmse: 0.332937\n",
            "Training until validation scores don't improve for 50 rounds.\n"
          ]
        },
        {
          "output_type": "stream",
          "name": "stderr",
          "text": [
            "\u001b[32m[I 2021-12-13 11:58:25,058]\u001b[0m Trial 54 finished with value: 0.3347864172849034 and parameters: {'lambda_l1': 4.078898004558595e-06, 'lambda_l2': 1.3139855587432983e-08}. Best is trial 45 with value: 0.32866262307047606.\u001b[0m\n"
          ]
        },
        {
          "output_type": "stream",
          "name": "stdout",
          "text": [
            "Early stopping, best iteration is:\n",
            "[42]\tTrain's rmse: 0.182187\tTest's rmse: 0.334786\n",
            "Training until validation scores don't improve for 50 rounds.\n"
          ]
        },
        {
          "output_type": "stream",
          "name": "stderr",
          "text": [
            "\u001b[32m[I 2021-12-13 11:58:25,515]\u001b[0m Trial 55 finished with value: 0.33544338780330935 and parameters: {'lambda_l1': 3.3639426888455315e-06, 'lambda_l2': 0.09582202435248795}. Best is trial 45 with value: 0.32866262307047606.\u001b[0m\n"
          ]
        },
        {
          "output_type": "stream",
          "name": "stdout",
          "text": [
            "Early stopping, best iteration is:\n",
            "[42]\tTrain's rmse: 0.183218\tTest's rmse: 0.335443\n",
            "Training until validation scores don't improve for 50 rounds.\n"
          ]
        },
        {
          "output_type": "stream",
          "name": "stderr",
          "text": [
            "\u001b[32m[I 2021-12-13 11:58:25,935]\u001b[0m Trial 56 finished with value: 0.33492604873180987 and parameters: {'lambda_l1': 1.4649890622159385e-07, 'lambda_l2': 8.462570930314385}. Best is trial 45 with value: 0.32866262307047606.\u001b[0m\n"
          ]
        },
        {
          "output_type": "stream",
          "name": "stdout",
          "text": [
            "Early stopping, best iteration is:\n",
            "[42]\tTrain's rmse: 0.189344\tTest's rmse: 0.334926\n",
            "Training until validation scores don't improve for 50 rounds.\n"
          ]
        },
        {
          "output_type": "stream",
          "name": "stderr",
          "text": [
            "\u001b[32m[I 2021-12-13 11:58:26,412]\u001b[0m Trial 57 finished with value: 0.3369984776741806 and parameters: {'lambda_l1': 0.00027462567466751464, 'lambda_l2': 0.004118303286085666}. Best is trial 45 with value: 0.32866262307047606.\u001b[0m\n"
          ]
        },
        {
          "output_type": "stream",
          "name": "stdout",
          "text": [
            "Early stopping, best iteration is:\n",
            "[42]\tTrain's rmse: 0.182404\tTest's rmse: 0.336998\n",
            "Training until validation scores don't improve for 50 rounds.\n"
          ]
        },
        {
          "output_type": "stream",
          "name": "stderr",
          "text": [
            "\u001b[32m[I 2021-12-13 11:58:26,906]\u001b[0m Trial 58 finished with value: 0.3433684868056914 and parameters: {'lambda_l1': 0.005075666193958132, 'lambda_l2': 0.40769457646520396}. Best is trial 45 with value: 0.32866262307047606.\u001b[0m\n"
          ]
        },
        {
          "output_type": "stream",
          "name": "stdout",
          "text": [
            "Did not meet early stopping. Best iteration is:\n",
            "[100]\tTrain's rmse: 0.160864\tTest's rmse: 0.343368\n",
            "Training until validation scores don't improve for 50 rounds.\n"
          ]
        },
        {
          "output_type": "stream",
          "name": "stderr",
          "text": [
            "\u001b[32m[I 2021-12-13 11:58:27,416]\u001b[0m Trial 59 finished with value: 0.3451988182138368 and parameters: {'lambda_l1': 1.92023307742427e-05, 'lambda_l2': 0.44768902954732587}. Best is trial 45 with value: 0.32866262307047606.\u001b[0m\n"
          ]
        },
        {
          "output_type": "stream",
          "name": "stdout",
          "text": [
            "Did not meet early stopping. Best iteration is:\n",
            "[100]\tTrain's rmse: 0.161867\tTest's rmse: 0.345199\n",
            "Training until validation scores don't improve for 50 rounds.\n"
          ]
        },
        {
          "output_type": "stream",
          "name": "stderr",
          "text": [
            "\u001b[32m[I 2021-12-13 11:58:27,832]\u001b[0m Trial 60 finished with value: 0.3890595488174642 and parameters: {'min_child_samples': 5}. Best is trial 60 with value: 0.3890595488174642.\u001b[0m\n"
          ]
        },
        {
          "output_type": "stream",
          "name": "stdout",
          "text": [
            "Did not meet early stopping. Best iteration is:\n",
            "[100]\tTrain's rmse: 0.0745016\tTest's rmse: 0.38906\n",
            "Training until validation scores don't improve for 50 rounds.\n"
          ]
        },
        {
          "output_type": "stream",
          "name": "stderr",
          "text": [
            "\u001b[32m[I 2021-12-13 11:58:28,337]\u001b[0m Trial 61 finished with value: 0.35153284753045216 and parameters: {'min_child_samples': 25}. Best is trial 61 with value: 0.35153284753045216.\u001b[0m\n"
          ]
        },
        {
          "output_type": "stream",
          "name": "stdout",
          "text": [
            "Did not meet early stopping. Best iteration is:\n",
            "[100]\tTrain's rmse: 0.16912\tTest's rmse: 0.351533\n",
            "Training until validation scores don't improve for 50 rounds.\n"
          ]
        },
        {
          "output_type": "stream",
          "name": "stderr",
          "text": [
            "\u001b[32m[I 2021-12-13 11:58:28,769]\u001b[0m Trial 62 finished with value: 0.36345065158452006 and parameters: {'min_child_samples': 10}. Best is trial 61 with value: 0.35153284753045216.\u001b[0m\n"
          ]
        },
        {
          "output_type": "stream",
          "name": "stdout",
          "text": [
            "Did not meet early stopping. Best iteration is:\n",
            "[100]\tTrain's rmse: 0.120339\tTest's rmse: 0.363451\n",
            "Training until validation scores don't improve for 50 rounds.\n"
          ]
        },
        {
          "output_type": "stream",
          "name": "stderr",
          "text": [
            "\u001b[32m[I 2021-12-13 11:58:29,255]\u001b[0m Trial 63 finished with value: 0.5230916389575654 and parameters: {'min_child_samples': 100}. Best is trial 61 with value: 0.35153284753045216.\u001b[0m\n"
          ]
        },
        {
          "output_type": "stream",
          "name": "stdout",
          "text": [
            "Did not meet early stopping. Best iteration is:\n",
            "[100]\tTrain's rmse: 0.269202\tTest's rmse: 0.523092\n",
            "Training until validation scores don't improve for 50 rounds.\n"
          ]
        },
        {
          "output_type": "stream",
          "name": "stderr",
          "text": [
            "\u001b[32m[I 2021-12-13 11:58:29,732]\u001b[0m Trial 64 finished with value: 0.4299150006410031 and parameters: {'min_child_samples': 50}. Best is trial 61 with value: 0.35153284753045216.\u001b[0m\n"
          ]
        },
        {
          "output_type": "stream",
          "name": "stdout",
          "text": [
            "Did not meet early stopping. Best iteration is:\n",
            "[100]\tTrain's rmse: 0.215422\tTest's rmse: 0.429915\n"
          ]
        },
        {
          "output_type": "display_data",
          "data": {
            "image/png": "[encoded data removed]",
            "text/plain": [
              "<Figure size 432x288 with 1 Axes>"
            ]
          },
          "metadata": {
            "needs_background": "light"
          }
        },
        {
          "output_type": "stream",
          "name": "stdout",
          "text": [
            "RMSE: [0.32230317840558415, 0.10124094806106895, 0.13925587714931634, 0.01983110070837394, 0.3286626227023894]\n",
            "RMSE: 0.18225874540534653\n",
            "elapsed_time:163.0[sec]\n"
          ]
        }
      ]
    },
    {
      "cell_type": "markdown",
      "metadata": {
        "id": "VxXjjkxoDGks"
      },
      "source": [
        "## 量子化"
      ]
    },
    {
      "cell_type": "code",
      "source": [
        "X_train_ce = X_train_ce.astype(np.float16)\n",
        "\n",
        "y_train = y_train.astype(np.float16)"
      ],
      "metadata": {
        "id": "pM7EO4eeWSBp"
      },
      "execution_count": null,
      "outputs": []
    },
    {
      "cell_type": "code",
      "metadata": {
        "colab": {
          "base_uri": "https://localhost:8080/",
          "height": 118
        },
        "id": "Oi_m2Z8sFTvy",
        "outputId": "698e01e9-21f7-4ae7-8e99-9833607b4958"
      },
      "source": [
        "# 目的変数\n",
        "print(y_train.dtypes)\n",
        "\n",
        "# 説明変数\n",
        "display(pd.DataFrame(X_train_ce.dtypes).T)"
      ],
      "execution_count": null,
      "outputs": [
        {
          "output_type": "stream",
          "name": "stdout",
          "text": [
            "float16\n"
          ]
        },
        {
          "output_type": "display_data",
          "data": {
            "text/html": [
              "<div>\n",
              "<style scoped>\n",
              "    .dataframe tbody tr th:only-of-type {\n",
              "        vertical-align: middle;\n",
              "    }\n",
              "\n",
              "    .dataframe tbody tr th {\n",
              "        vertical-align: top;\n",
              "    }\n",
              "\n",
              "    .dataframe thead th {\n",
              "        text-align: right;\n",
              "    }\n",
              "</style>\n",
              "<table border=\"1\" class=\"dataframe\">\n",
              "  <thead>\n",
              "    <tr style=\"text-align: right;\">\n",
              "      <th></th>\n",
              "      <th>Rank</th>\n",
              "      <th>Name</th>\n",
              "      <th>basename</th>\n",
              "      <th>Genre</th>\n",
              "      <th>ESRB_Rating_E</th>\n",
              "      <th>ESRB_Rating_T</th>\n",
              "      <th>ESRB_Rating_M</th>\n",
              "      <th>ESRB_Rating_E10</th>\n",
              "      <th>ESRB_Rating_EC</th>\n",
              "      <th>ESRB_Rating_RP</th>\n",
              "      <th>Platform</th>\n",
              "      <th>Publisher</th>\n",
              "      <th>Developer</th>\n",
              "      <th>VGChartz_Score</th>\n",
              "      <th>Critic_Score</th>\n",
              "      <th>User_Score</th>\n",
              "      <th>Total_Shipped</th>\n",
              "      <th>Year</th>\n",
              "      <th>Last_Update</th>\n",
              "      <th>url</th>\n",
              "      <th>status</th>\n",
              "      <th>Vgchartzscore</th>\n",
              "      <th>img_url</th>\n",
              "    </tr>\n",
              "  </thead>\n",
              "  <tbody>\n",
              "    <tr>\n",
              "      <th>0</th>\n",
              "      <td>float16</td>\n",
              "      <td>float16</td>\n",
              "      <td>float16</td>\n",
              "      <td>float16</td>\n",
              "      <td>float16</td>\n",
              "      <td>float16</td>\n",
              "      <td>float16</td>\n",
              "      <td>float16</td>\n",
              "      <td>float16</td>\n",
              "      <td>float16</td>\n",
              "      <td>float16</td>\n",
              "      <td>float16</td>\n",
              "      <td>float16</td>\n",
              "      <td>float16</td>\n",
              "      <td>float16</td>\n",
              "      <td>float16</td>\n",
              "      <td>float16</td>\n",
              "      <td>float16</td>\n",
              "      <td>float16</td>\n",
              "      <td>float16</td>\n",
              "      <td>float16</td>\n",
              "      <td>float16</td>\n",
              "      <td>float16</td>\n",
              "    </tr>\n",
              "  </tbody>\n",
              "</table>\n",
              "</div>"
            ],
            "text/plain": [
              "      Rank     Name basename    Genre  ...      url   status Vgchartzscore  img_url\n",
              "0  float16  float16  float16  float16  ...  float16  float16       float16  float16\n",
              "\n",
              "[1 rows x 23 columns]"
            ]
          },
          "metadata": {}
        }
      ]
    },
    {
      "cell_type": "code",
      "metadata": {
        "colab": {
          "base_uri": "https://localhost:8080/",
          "height": 1000
        },
        "id": "DL2Ge56KBpX7",
        "outputId": "d2943673-f3a8-4eff-b412-705022f6485a"
      },
      "source": [
        "# 経過時間の測定\n",
        "start = time.time()\n",
        "\n",
        "# 学習・推論\n",
        "gkf = GroupKFold(n_splits=5)\n",
        "\n",
        "groups = X_train_ce[\"Genre\"]\n",
        "\n",
        "params = {\n",
        "          'task': 'train',              # タスクを訓練に設定\n",
        "          'boosting_type': 'gbdt',      # GBDTを指定\n",
        "          'objective': 'regression',    # 回帰を指定\n",
        "          'metric': 'rmse',             # 回帰の損失（誤差）\n",
        "          'learning_rate': 0.1,         # 学習率\n",
        "          'deterministic':True,         # 再現性確保用のパラメータ\n",
        "          'force_row_wise':True,        # 再現性確保用のパラメータ\n",
        "          'seed': SEED                  # シード値\n",
        "          }\n",
        "\n",
        "best_params, history = {}, []\n",
        "\n",
        "cv_result_quant = []\n",
        "\n",
        "for train_index, test_index in gkf.split(X_train_ce, y_train, groups):\n",
        "    X_train_gkf, X_test_gkf = X_train_ce.iloc[train_index], X_train_ce.iloc[test_index]\n",
        "    y_train_gkf, y_test_gkf = y_train.iloc[train_index], y_train.iloc[test_index]\n",
        "\n",
        "    # 学習、推論\n",
        "    lgb_train = lgb.Dataset(X_train_gkf, y_train_gkf)\n",
        "    lgb_test = lgb.Dataset(X_test_gkf, y_test_gkf, reference=lgb_train)\n",
        "\n",
        "    model = lgb.LightGBMTuner(\n",
        "                    params,                           # ハイパーパラメータをセット\n",
        "                    train_set = lgb_train,            # 訓練データを訓練用にセット\n",
        "                    valid_sets=[lgb_train, lgb_test], # 訓練データとテストデータをセット\n",
        "                    valid_names=['Train', 'Test'],    # データセットの名前をそれぞれ設定\n",
        "                    num_boost_round=100,              # 計算回数\n",
        "                    early_stopping_rounds=50,         # アーリーストッピング設定\n",
        "                    evals_result=lgb_results,\n",
        "                    verbose_eval=-1,                  # ログを最後の1つだけ表示\n",
        "                    show_progress_bar = False,        # ログの非表示\n",
        "                    optuna_seed=SEED,\n",
        "                    )\n",
        "    \n",
        "    # 訓練の実施\n",
        "    model.run()\n",
        "    \n",
        "    best_params = model.best_params\n",
        "\n",
        "   # 損失推移を表示\n",
        "    loss_train = lgb_results['Train']['rmse']\n",
        "    loss_test = lgb_results['Test']['rmse']   \n",
        "    \n",
        "    fig = plt.figure()\n",
        "    \n",
        "    plt.xlabel('Iteration')\n",
        "    plt.ylabel('logloss')\n",
        "\n",
        "    plt.title(f\"fold:{fold}\")\n",
        "    plt.plot(loss_train, label='train loss')\n",
        "    plt.plot(loss_test, label='test loss')\n",
        "    \n",
        "    plt.legend()\n",
        "    plt.show()\n",
        "\n",
        "    # 推論\n",
        "    best_model = model.get_best_booster()\n",
        "\n",
        "    y_pred = best_model.predict(X_test_gkf)\n",
        "\n",
        "    # 評価\n",
        "    rmse = mean_squared_error(y_test_gkf, y_pred, squared=False)\n",
        "    cv_result_quant.append(rmse)\n",
        "\n",
        "print(\"RMSE:\", cv_result_quant)\n",
        "print(\"RMSE:\", np.mean(cv_result_quant))\n",
        "\n",
        "# 経過時間の測定\n",
        "elasped_time_quant = round((time.time() - start), 1)\n",
        "\n",
        "print(f\"elapsed_time:{elasped_time_quant}[sec]\")"
      ],
      "execution_count": null,
      "outputs": [
        {
          "output_type": "stream",
          "name": "stderr",
          "text": [
            "\u001b[32m[I 2021-12-13 11:58:30,086]\u001b[0m A new study created in memory with name: no-name-a45e22d4-f783-490f-93c1-550761b2f7ed\u001b[0m\n"
          ]
        },
        {
          "output_type": "stream",
          "name": "stdout",
          "text": [
            "Training until validation scores don't improve for 50 rounds.\n"
          ]
        },
        {
          "output_type": "stream",
          "name": "stderr",
          "text": [
            "\u001b[32m[I 2021-12-13 11:58:30,454]\u001b[0m Trial 0 finished with value: 0.3623497007234342 and parameters: {'feature_fraction': 0.6}. Best is trial 0 with value: 0.3623497007234342.\u001b[0m\n"
          ]
        },
        {
          "output_type": "stream",
          "name": "stdout",
          "text": [
            "Did not meet early stopping. Best iteration is:\n",
            "[100]\tTrain's rmse: 0.109368\tTest's rmse: 0.36235\n",
            "Training until validation scores don't improve for 50 rounds.\n"
          ]
        },
        {
          "output_type": "stream",
          "name": "stderr",
          "text": [
            "\u001b[32m[I 2021-12-13 11:58:30,755]\u001b[0m Trial 1 finished with value: 0.3554970658668534 and parameters: {'feature_fraction': 0.4}. Best is trial 1 with value: 0.3554970658668534.\u001b[0m\n"
          ]
        },
        {
          "output_type": "stream",
          "name": "stdout",
          "text": [
            "Did not meet early stopping. Best iteration is:\n",
            "[100]\tTrain's rmse: 0.121119\tTest's rmse: 0.355497\n",
            "Training until validation scores don't improve for 50 rounds.\n"
          ]
        },
        {
          "output_type": "stream",
          "name": "stderr",
          "text": [
            "\u001b[32m[I 2021-12-13 11:58:31,181]\u001b[0m Trial 2 finished with value: 0.3503695933559308 and parameters: {'feature_fraction': 0.7}. Best is trial 2 with value: 0.3503695933559308.\u001b[0m\n"
          ]
        },
        {
          "output_type": "stream",
          "name": "stdout",
          "text": [
            "Did not meet early stopping. Best iteration is:\n",
            "[100]\tTrain's rmse: 0.108025\tTest's rmse: 0.35037\n",
            "Training until validation scores don't improve for 50 rounds.\n"
          ]
        },
        {
          "output_type": "stream",
          "name": "stderr",
          "text": [
            "\u001b[32m[I 2021-12-13 11:58:31,610]\u001b[0m Trial 3 finished with value: 0.3480744199008333 and parameters: {'feature_fraction': 0.8999999999999999}. Best is trial 3 with value: 0.3480744199008333.\u001b[0m\n"
          ]
        },
        {
          "output_type": "stream",
          "name": "stdout",
          "text": [
            "Did not meet early stopping. Best iteration is:\n",
            "[100]\tTrain's rmse: 0.121824\tTest's rmse: 0.348074\n",
            "Training until validation scores don't improve for 50 rounds.\n"
          ]
        },
        {
          "output_type": "stream",
          "name": "stderr",
          "text": [
            "\u001b[32m[I 2021-12-13 11:58:31,946]\u001b[0m Trial 4 finished with value: 0.3610304178366811 and parameters: {'feature_fraction': 0.5}. Best is trial 3 with value: 0.3480744199008333.\u001b[0m\n"
          ]
        },
        {
          "output_type": "stream",
          "name": "stdout",
          "text": [
            "Did not meet early stopping. Best iteration is:\n",
            "[100]\tTrain's rmse: 0.117376\tTest's rmse: 0.36103\n",
            "Training until validation scores don't improve for 50 rounds.\n"
          ]
        },
        {
          "output_type": "stream",
          "name": "stderr",
          "text": [
            "\u001b[32m[I 2021-12-13 11:58:32,376]\u001b[0m Trial 5 finished with value: 0.34110275357210224 and parameters: {'feature_fraction': 1.0}. Best is trial 5 with value: 0.34110275357210224.\u001b[0m\n"
          ]
        },
        {
          "output_type": "stream",
          "name": "stdout",
          "text": [
            "Did not meet early stopping. Best iteration is:\n",
            "[100]\tTrain's rmse: 0.125304\tTest's rmse: 0.341103\n",
            "Training until validation scores don't improve for 50 rounds.\n"
          ]
        },
        {
          "output_type": "stream",
          "name": "stderr",
          "text": [
            "\u001b[32m[I 2021-12-13 11:58:32,793]\u001b[0m Trial 6 finished with value: 0.34832348751558 and parameters: {'feature_fraction': 0.8}. Best is trial 5 with value: 0.34110275357210224.\u001b[0m\n"
          ]
        },
        {
          "output_type": "stream",
          "name": "stdout",
          "text": [
            "Did not meet early stopping. Best iteration is:\n",
            "[100]\tTrain's rmse: 0.108773\tTest's rmse: 0.348323\n",
            "Training until validation scores don't improve for 50 rounds.\n"
          ]
        },
        {
          "output_type": "stream",
          "name": "stderr",
          "text": [
            "\u001b[32m[I 2021-12-13 11:58:33,657]\u001b[0m Trial 7 finished with value: 0.3421814461333646 and parameters: {'num_leaves': 97}. Best is trial 7 with value: 0.3421814461333646.\u001b[0m\n"
          ]
        },
        {
          "output_type": "stream",
          "name": "stdout",
          "text": [
            "Did not meet early stopping. Best iteration is:\n",
            "[100]\tTrain's rmse: 0.126769\tTest's rmse: 0.342181\n",
            "Training until validation scores don't improve for 50 rounds.\n"
          ]
        },
        {
          "output_type": "stream",
          "name": "stderr",
          "text": [
            "\u001b[32m[I 2021-12-13 11:58:35,413]\u001b[0m Trial 8 finished with value: 0.34019666285218825 and parameters: {'num_leaves': 244}. Best is trial 8 with value: 0.34019666285218825.\u001b[0m\n"
          ]
        },
        {
          "output_type": "stream",
          "name": "stdout",
          "text": [
            "Did not meet early stopping. Best iteration is:\n",
            "[100]\tTrain's rmse: 0.126068\tTest's rmse: 0.340197\n",
            "Training until validation scores don't improve for 50 rounds.\n"
          ]
        },
        {
          "output_type": "stream",
          "name": "stderr",
          "text": [
            "\u001b[32m[I 2021-12-13 11:58:36,885]\u001b[0m Trial 9 finished with value: 0.3401786270845154 and parameters: {'num_leaves': 188}. Best is trial 9 with value: 0.3401786270845154.\u001b[0m\n"
          ]
        },
        {
          "output_type": "stream",
          "name": "stdout",
          "text": [
            "Did not meet early stopping. Best iteration is:\n",
            "[100]\tTrain's rmse: 0.126075\tTest's rmse: 0.340179\n",
            "Training until validation scores don't improve for 50 rounds.\n"
          ]
        },
        {
          "output_type": "stream",
          "name": "stderr",
          "text": [
            "\u001b[32m[I 2021-12-13 11:58:38,131]\u001b[0m Trial 10 finished with value: 0.340190552836485 and parameters: {'num_leaves': 154}. Best is trial 9 with value: 0.3401786270845154.\u001b[0m\n"
          ]
        },
        {
          "output_type": "stream",
          "name": "stdout",
          "text": [
            "Did not meet early stopping. Best iteration is:\n",
            "[100]\tTrain's rmse: 0.126092\tTest's rmse: 0.340191\n",
            "Training until validation scores don't improve for 50 rounds.\n"
          ]
        },
        {
          "output_type": "stream",
          "name": "stderr",
          "text": [
            "\u001b[32m[I 2021-12-13 11:58:38,650]\u001b[0m Trial 11 finished with value: 0.34049866909890486 and parameters: {'num_leaves': 41}. Best is trial 9 with value: 0.3401786270845154.\u001b[0m\n"
          ]
        },
        {
          "output_type": "stream",
          "name": "stdout",
          "text": [
            "Did not meet early stopping. Best iteration is:\n",
            "[100]\tTrain's rmse: 0.125531\tTest's rmse: 0.340499\n",
            "Training until validation scores don't improve for 50 rounds.\n"
          ]
        },
        {
          "output_type": "stream",
          "name": "stderr",
          "text": [
            "\u001b[32m[I 2021-12-13 11:58:39,157]\u001b[0m Trial 12 finished with value: 0.34049866909890486 and parameters: {'num_leaves': 41}. Best is trial 9 with value: 0.3401786270845154.\u001b[0m\n"
          ]
        },
        {
          "output_type": "stream",
          "name": "stdout",
          "text": [
            "Did not meet early stopping. Best iteration is:\n",
            "[100]\tTrain's rmse: 0.125531\tTest's rmse: 0.340499\n",
            "Training until validation scores don't improve for 50 rounds.\n"
          ]
        },
        {
          "output_type": "stream",
          "name": "stderr",
          "text": [
            "\u001b[32m[I 2021-12-13 11:58:39,474]\u001b[0m Trial 13 finished with value: 0.3426532542532187 and parameters: {'num_leaves': 16}. Best is trial 9 with value: 0.3401786270845154.\u001b[0m\n"
          ]
        },
        {
          "output_type": "stream",
          "name": "stdout",
          "text": [
            "Did not meet early stopping. Best iteration is:\n",
            "[100]\tTrain's rmse: 0.125713\tTest's rmse: 0.342653\n",
            "Training until validation scores don't improve for 50 rounds.\n"
          ]
        },
        {
          "output_type": "stream",
          "name": "stderr",
          "text": [
            "\u001b[32m[I 2021-12-13 11:58:41,081]\u001b[0m Trial 14 finished with value: 0.34019778165759207 and parameters: {'num_leaves': 222}. Best is trial 9 with value: 0.3401786270845154.\u001b[0m\n"
          ]
        },
        {
          "output_type": "stream",
          "name": "stdout",
          "text": [
            "Did not meet early stopping. Best iteration is:\n",
            "[100]\tTrain's rmse: 0.126078\tTest's rmse: 0.340198\n",
            "Training until validation scores don't improve for 50 rounds.\n"
          ]
        },
        {
          "output_type": "stream",
          "name": "stderr",
          "text": [
            "\u001b[32m[I 2021-12-13 11:58:42,352]\u001b[0m Trial 15 finished with value: 0.3402610873224442 and parameters: {'num_leaves': 155}. Best is trial 9 with value: 0.3401786270845154.\u001b[0m\n"
          ]
        },
        {
          "output_type": "stream",
          "name": "stdout",
          "text": [
            "Did not meet early stopping. Best iteration is:\n",
            "[100]\tTrain's rmse: 0.126051\tTest's rmse: 0.340261\n",
            "Training until validation scores don't improve for 50 rounds.\n"
          ]
        },
        {
          "output_type": "stream",
          "name": "stderr",
          "text": [
            "\u001b[32m[I 2021-12-13 11:58:43,746]\u001b[0m Trial 16 finished with value: 0.33780942260549135 and parameters: {'num_leaves': 182}. Best is trial 16 with value: 0.33780942260549135.\u001b[0m\n"
          ]
        },
        {
          "output_type": "stream",
          "name": "stdout",
          "text": [
            "Did not meet early stopping. Best iteration is:\n",
            "[100]\tTrain's rmse: 0.127004\tTest's rmse: 0.337809\n",
            "Training until validation scores don't improve for 50 rounds.\n"
          ]
        },
        {
          "output_type": "stream",
          "name": "stderr",
          "text": [
            "\u001b[32m[I 2021-12-13 11:58:44,537]\u001b[0m Trial 17 finished with value: 0.3424157659962062 and parameters: {'num_leaves': 81}. Best is trial 16 with value: 0.33780942260549135.\u001b[0m\n"
          ]
        },
        {
          "output_type": "stream",
          "name": "stdout",
          "text": [
            "Did not meet early stopping. Best iteration is:\n",
            "[100]\tTrain's rmse: 0.12584\tTest's rmse: 0.342416\n",
            "Training until validation scores don't improve for 50 rounds.\n"
          ]
        },
        {
          "output_type": "stream",
          "name": "stderr",
          "text": [
            "\u001b[32m[I 2021-12-13 11:58:46,001]\u001b[0m Trial 18 finished with value: 0.3380435535243253 and parameters: {'num_leaves': 196}. Best is trial 16 with value: 0.33780942260549135.\u001b[0m\n"
          ]
        },
        {
          "output_type": "stream",
          "name": "stdout",
          "text": [
            "Did not meet early stopping. Best iteration is:\n",
            "[100]\tTrain's rmse: 0.126897\tTest's rmse: 0.338044\n",
            "Training until validation scores don't improve for 50 rounds.\n"
          ]
        },
        {
          "output_type": "stream",
          "name": "stderr",
          "text": [
            "\u001b[32m[I 2021-12-13 11:58:47,406]\u001b[0m Trial 19 finished with value: 0.3401990418837113 and parameters: {'num_leaves': 179}. Best is trial 16 with value: 0.33780942260549135.\u001b[0m\n"
          ]
        },
        {
          "output_type": "stream",
          "name": "stdout",
          "text": [
            "Did not meet early stopping. Best iteration is:\n",
            "[100]\tTrain's rmse: 0.126101\tTest's rmse: 0.340199\n",
            "Training until validation scores don't improve for 50 rounds.\n"
          ]
        },
        {
          "output_type": "stream",
          "name": "stderr",
          "text": [
            "\u001b[32m[I 2021-12-13 11:58:48,923]\u001b[0m Trial 20 finished with value: 0.3402739993141551 and parameters: {'num_leaves': 206}. Best is trial 16 with value: 0.33780942260549135.\u001b[0m\n"
          ]
        },
        {
          "output_type": "stream",
          "name": "stdout",
          "text": [
            "Did not meet early stopping. Best iteration is:\n",
            "[100]\tTrain's rmse: 0.126007\tTest's rmse: 0.340274\n",
            "Training until validation scores don't improve for 50 rounds.\n"
          ]
        },
        {
          "output_type": "stream",
          "name": "stderr",
          "text": [
            "\u001b[32m[I 2021-12-13 11:58:49,954]\u001b[0m Trial 21 finished with value: 0.34040014785163125 and parameters: {'num_leaves': 118}. Best is trial 16 with value: 0.33780942260549135.\u001b[0m\n"
          ]
        },
        {
          "output_type": "stream",
          "name": "stdout",
          "text": [
            "Did not meet early stopping. Best iteration is:\n",
            "[100]\tTrain's rmse: 0.125815\tTest's rmse: 0.3404\n",
            "Training until validation scores don't improve for 50 rounds.\n"
          ]
        },
        {
          "output_type": "stream",
          "name": "stderr",
          "text": [
            "\u001b[32m[I 2021-12-13 11:58:51,665]\u001b[0m Trial 22 finished with value: 0.34021062847426303 and parameters: {'num_leaves': 233}. Best is trial 16 with value: 0.33780942260549135.\u001b[0m\n"
          ]
        },
        {
          "output_type": "stream",
          "name": "stdout",
          "text": [
            "Did not meet early stopping. Best iteration is:\n",
            "[100]\tTrain's rmse: 0.126056\tTest's rmse: 0.340211\n",
            "Training until validation scores don't improve for 50 rounds.\n"
          ]
        },
        {
          "output_type": "stream",
          "name": "stderr",
          "text": [
            "\u001b[32m[I 2021-12-13 11:58:52,956]\u001b[0m Trial 23 finished with value: 0.3402578747415502 and parameters: {'num_leaves': 162}. Best is trial 16 with value: 0.33780942260549135.\u001b[0m\n"
          ]
        },
        {
          "output_type": "stream",
          "name": "stdout",
          "text": [
            "Did not meet early stopping. Best iteration is:\n",
            "[100]\tTrain's rmse: 0.12612\tTest's rmse: 0.340258\n",
            "Training until validation scores don't improve for 50 rounds.\n"
          ]
        },
        {
          "output_type": "stream",
          "name": "stderr",
          "text": [
            "\u001b[32m[I 2021-12-13 11:58:54,072]\u001b[0m Trial 24 finished with value: 0.3380774520827825 and parameters: {'num_leaves': 133}. Best is trial 16 with value: 0.33780942260549135.\u001b[0m\n"
          ]
        },
        {
          "output_type": "stream",
          "name": "stdout",
          "text": [
            "Did not meet early stopping. Best iteration is:\n",
            "[100]\tTrain's rmse: 0.127079\tTest's rmse: 0.338077\n",
            "Training until validation scores don't improve for 50 rounds.\n"
          ]
        },
        {
          "output_type": "stream",
          "name": "stderr",
          "text": [
            "\u001b[32m[I 2021-12-13 11:58:55,572]\u001b[0m Trial 25 finished with value: 0.3401849440083589 and parameters: {'num_leaves': 201}. Best is trial 16 with value: 0.33780942260549135.\u001b[0m\n"
          ]
        },
        {
          "output_type": "stream",
          "name": "stdout",
          "text": [
            "Did not meet early stopping. Best iteration is:\n",
            "[100]\tTrain's rmse: 0.126035\tTest's rmse: 0.340185\n",
            "Training until validation scores don't improve for 50 rounds.\n"
          ]
        },
        {
          "output_type": "stream",
          "name": "stderr",
          "text": [
            "\u001b[32m[I 2021-12-13 11:58:57,381]\u001b[0m Trial 26 finished with value: 0.3402337884504624 and parameters: {'num_leaves': 255}. Best is trial 16 with value: 0.33780942260549135.\u001b[0m\n"
          ]
        },
        {
          "output_type": "stream",
          "name": "stdout",
          "text": [
            "Did not meet early stopping. Best iteration is:\n",
            "[100]\tTrain's rmse: 0.126066\tTest's rmse: 0.340234\n",
            "Training until validation scores don't improve for 50 rounds.\n"
          ]
        },
        {
          "output_type": "stream",
          "name": "stderr",
          "text": [
            "\u001b[32m[I 2021-12-13 11:58:58,917]\u001b[0m Trial 27 finished with value: 0.32248398220540947 and parameters: {'bagging_fraction': 0.624724071308792, 'bagging_freq': 7}. Best is trial 27 with value: 0.32248398220540947.\u001b[0m\n"
          ]
        },
        {
          "output_type": "stream",
          "name": "stdout",
          "text": [
            "Did not meet early stopping. Best iteration is:\n",
            "[98]\tTrain's rmse: 0.160786\tTest's rmse: 0.322484\n",
            "Training until validation scores don't improve for 50 rounds.\n"
          ]
        },
        {
          "output_type": "stream",
          "name": "stderr",
          "text": [
            "\u001b[32m[I 2021-12-13 11:59:00,473]\u001b[0m Trial 28 finished with value: 0.3410416073667306 and parameters: {'bagging_fraction': 0.8391963650875751, 'bagging_freq': 5}. Best is trial 27 with value: 0.32248398220540947.\u001b[0m\n"
          ]
        },
        {
          "output_type": "stream",
          "name": "stdout",
          "text": [
            "Did not meet early stopping. Best iteration is:\n",
            "[100]\tTrain's rmse: 0.146361\tTest's rmse: 0.341042\n",
            "Training until validation scores don't improve for 50 rounds.\n"
          ]
        },
        {
          "output_type": "stream",
          "name": "stderr",
          "text": [
            "\u001b[32m[I 2021-12-13 11:59:02,003]\u001b[0m Trial 29 finished with value: 0.32320859884684977 and parameters: {'bagging_fraction': 0.49361118426561795, 'bagging_freq': 2}. Best is trial 27 with value: 0.32248398220540947.\u001b[0m\n"
          ]
        },
        {
          "output_type": "stream",
          "name": "stdout",
          "text": [
            "Did not meet early stopping. Best iteration is:\n",
            "[99]\tTrain's rmse: 0.160976\tTest's rmse: 0.323209\n",
            "Training until validation scores don't improve for 50 rounds.\n"
          ]
        },
        {
          "output_type": "stream",
          "name": "stderr",
          "text": [
            "\u001b[32m[I 2021-12-13 11:59:03,463]\u001b[0m Trial 30 finished with value: 0.32617259565163087 and parameters: {'bagging_fraction': 0.4348501673009778, 'bagging_freq': 7}. Best is trial 27 with value: 0.32248398220540947.\u001b[0m\n"
          ]
        },
        {
          "output_type": "stream",
          "name": "stdout",
          "text": [
            "Did not meet early stopping. Best iteration is:\n",
            "[98]\tTrain's rmse: 0.169285\tTest's rmse: 0.326173\n",
            "Training until validation scores don't improve for 50 rounds.\n"
          ]
        },
        {
          "output_type": "stream",
          "name": "stderr",
          "text": [
            "\u001b[32m[I 2021-12-13 11:59:05,000]\u001b[0m Trial 31 finished with value: 0.31709039499749175 and parameters: {'bagging_fraction': 0.7606690070465265, 'bagging_freq': 5}. Best is trial 31 with value: 0.31709039499749175.\u001b[0m\n"
          ]
        },
        {
          "output_type": "stream",
          "name": "stdout",
          "text": [
            "Did not meet early stopping. Best iteration is:\n",
            "[100]\tTrain's rmse: 0.150932\tTest's rmse: 0.31709\n",
            "Training until validation scores don't improve for 50 rounds.\n"
          ]
        },
        {
          "output_type": "stream",
          "name": "stderr",
          "text": [
            "\u001b[32m[I 2021-12-13 11:59:06,415]\u001b[0m Trial 32 finished with value: 0.33545891725317944 and parameters: {'bagging_fraction': 0.41235069657750206, 'bagging_freq': 7}. Best is trial 31 with value: 0.31709039499749175.\u001b[0m\n"
          ]
        },
        {
          "output_type": "stream",
          "name": "stdout",
          "text": [
            "Did not meet early stopping. Best iteration is:\n",
            "[98]\tTrain's rmse: 0.170224\tTest's rmse: 0.335459\n",
            "Training until validation scores don't improve for 50 rounds.\n"
          ]
        },
        {
          "output_type": "stream",
          "name": "stderr",
          "text": [
            "\u001b[32m[I 2021-12-13 11:59:07,963]\u001b[0m Trial 33 finished with value: 0.32992230847118986 and parameters: {'bagging_fraction': 0.8994655844810855, 'bagging_freq': 2}. Best is trial 31 with value: 0.31709039499749175.\u001b[0m\n"
          ]
        },
        {
          "output_type": "stream",
          "name": "stdout",
          "text": [
            "Did not meet early stopping. Best iteration is:\n",
            "[100]\tTrain's rmse: 0.138949\tTest's rmse: 0.329922\n",
            "Training until validation scores don't improve for 50 rounds.\n"
          ]
        },
        {
          "output_type": "stream",
          "name": "stderr",
          "text": [
            "\u001b[32m[I 2021-12-13 11:59:09,461]\u001b[0m Trial 34 finished with value: 0.3154282314432624 and parameters: {'bagging_fraction': 0.5090949803244422, 'bagging_freq': 2}. Best is trial 34 with value: 0.3154282314432624.\u001b[0m\n"
          ]
        },
        {
          "output_type": "stream",
          "name": "stdout",
          "text": [
            "Did not meet early stopping. Best iteration is:\n",
            "[100]\tTrain's rmse: 0.159631\tTest's rmse: 0.315428\n",
            "Training until validation scores don't improve for 50 rounds.\n"
          ]
        },
        {
          "output_type": "stream",
          "name": "stderr",
          "text": [
            "\u001b[32m[I 2021-12-13 11:59:10,953]\u001b[0m Trial 35 finished with value: 0.3305695260957857 and parameters: {'bagging_fraction': 0.5825453457760269, 'bagging_freq': 4}. Best is trial 34 with value: 0.3154282314432624.\u001b[0m\n"
          ]
        },
        {
          "output_type": "stream",
          "name": "stdout",
          "text": [
            "Early stopping, best iteration is:\n",
            "[49]\tTrain's rmse: 0.164996\tTest's rmse: 0.33057\n",
            "Training until validation scores don't improve for 50 rounds.\n"
          ]
        },
        {
          "output_type": "stream",
          "name": "stderr",
          "text": [
            "\u001b[32m[I 2021-12-13 11:59:12,483]\u001b[0m Trial 36 finished with value: 0.32076409629515146 and parameters: {'bagging_fraction': 0.6591670111857015, 'bagging_freq': 3}. Best is trial 34 with value: 0.3154282314432624.\u001b[0m\n"
          ]
        },
        {
          "output_type": "stream",
          "name": "stdout",
          "text": [
            "Did not meet early stopping. Best iteration is:\n",
            "[100]\tTrain's rmse: 0.157653\tTest's rmse: 0.320764\n",
            "Training until validation scores don't improve for 50 rounds.\n"
          ]
        },
        {
          "output_type": "stream",
          "name": "stderr",
          "text": [
            "\u001b[32m[I 2021-12-13 11:59:13,959]\u001b[0m Trial 37 finished with value: 0.31540691868993315 and parameters: {'feature_fraction': 0.9840000000000001}. Best is trial 37 with value: 0.31540691868993315.\u001b[0m\n"
          ]
        },
        {
          "output_type": "stream",
          "name": "stdout",
          "text": [
            "Did not meet early stopping. Best iteration is:\n",
            "[100]\tTrain's rmse: 0.158317\tTest's rmse: 0.315407\n",
            "Training until validation scores don't improve for 50 rounds.\n"
          ]
        },
        {
          "output_type": "stream",
          "name": "stderr",
          "text": [
            "\u001b[32m[I 2021-12-13 11:59:15,423]\u001b[0m Trial 38 finished with value: 0.31540691868993315 and parameters: {'feature_fraction': 0.9520000000000001}. Best is trial 37 with value: 0.31540691868993315.\u001b[0m\n"
          ]
        },
        {
          "output_type": "stream",
          "name": "stdout",
          "text": [
            "Did not meet early stopping. Best iteration is:\n",
            "[100]\tTrain's rmse: 0.158317\tTest's rmse: 0.315407\n",
            "Training until validation scores don't improve for 50 rounds.\n"
          ]
        },
        {
          "output_type": "stream",
          "name": "stderr",
          "text": [
            "\u001b[32m[I 2021-12-13 11:59:16,864]\u001b[0m Trial 39 finished with value: 0.31450746683772784 and parameters: {'feature_fraction': 0.92}. Best is trial 39 with value: 0.31450746683772784.\u001b[0m\n"
          ]
        },
        {
          "output_type": "stream",
          "name": "stdout",
          "text": [
            "Did not meet early stopping. Best iteration is:\n",
            "[99]\tTrain's rmse: 0.156792\tTest's rmse: 0.314507\n",
            "Training until validation scores don't improve for 50 rounds.\n"
          ]
        },
        {
          "output_type": "stream",
          "name": "stderr",
          "text": [
            "\u001b[32m[I 2021-12-13 11:59:18,086]\u001b[0m Trial 40 finished with value: 0.32256069295162015 and parameters: {'lambda_l1': 2.348881295853308e-05, 'lambda_l2': 3.6010467344475403}. Best is trial 40 with value: 0.32256069295162015.\u001b[0m\n"
          ]
        },
        {
          "output_type": "stream",
          "name": "stdout",
          "text": [
            "Did not meet early stopping. Best iteration is:\n",
            "[100]\tTrain's rmse: 0.156007\tTest's rmse: 0.322561\n",
            "Training until validation scores don't improve for 50 rounds.\n"
          ]
        },
        {
          "output_type": "stream",
          "name": "stderr",
          "text": [
            "\u001b[32m[I 2021-12-13 11:59:19,337]\u001b[0m Trial 41 finished with value: 0.3176035420947783 and parameters: {'lambda_l1': 0.038720902953704193, 'lambda_l2': 0.0024430162614261413}. Best is trial 41 with value: 0.3176035420947783.\u001b[0m\n"
          ]
        },
        {
          "output_type": "stream",
          "name": "stdout",
          "text": [
            "Did not meet early stopping. Best iteration is:\n",
            "[99]\tTrain's rmse: 0.155635\tTest's rmse: 0.317604\n",
            "Training until validation scores don't improve for 50 rounds.\n"
          ]
        },
        {
          "output_type": "stream",
          "name": "stderr",
          "text": [
            "\u001b[32m[I 2021-12-13 11:59:20,776]\u001b[0m Trial 42 finished with value: 0.31474529132461615 and parameters: {'lambda_l1': 2.5361081166471375e-07, 'lambda_l2': 2.5348407664333426e-07}. Best is trial 42 with value: 0.31474529132461615.\u001b[0m\n"
          ]
        },
        {
          "output_type": "stream",
          "name": "stdout",
          "text": [
            "Did not meet early stopping. Best iteration is:\n",
            "[99]\tTrain's rmse: 0.156734\tTest's rmse: 0.314745\n",
            "Training until validation scores don't improve for 50 rounds.\n"
          ]
        },
        {
          "output_type": "stream",
          "name": "stderr",
          "text": [
            "\u001b[32m[I 2021-12-13 11:59:22,120]\u001b[0m Trial 43 finished with value: 0.3123315737183188 and parameters: {'lambda_l1': 3.3323645788192616e-08, 'lambda_l2': 0.6245760287469893}. Best is trial 43 with value: 0.3123315737183188.\u001b[0m\n"
          ]
        },
        {
          "output_type": "stream",
          "name": "stdout",
          "text": [
            "Did not meet early stopping. Best iteration is:\n",
            "[100]\tTrain's rmse: 0.154865\tTest's rmse: 0.312332\n",
            "Training until validation scores don't improve for 50 rounds.\n"
          ]
        },
        {
          "output_type": "stream",
          "name": "stderr",
          "text": [
            "\u001b[32m[I 2021-12-13 11:59:23,589]\u001b[0m Trial 44 finished with value: 0.31523129953658374 and parameters: {'lambda_l1': 0.002570603566117598, 'lambda_l2': 0.023585940584142682}. Best is trial 43 with value: 0.3123315737183188.\u001b[0m\n"
          ]
        },
        {
          "output_type": "stream",
          "name": "stdout",
          "text": [
            "Did not meet early stopping. Best iteration is:\n",
            "[99]\tTrain's rmse: 0.156771\tTest's rmse: 0.315231\n",
            "Training until validation scores don't improve for 50 rounds.\n"
          ]
        },
        {
          "output_type": "stream",
          "name": "stderr",
          "text": [
            "\u001b[32m[I 2021-12-13 11:59:24,793]\u001b[0m Trial 45 finished with value: 0.322364847493381 and parameters: {'lambda_l1': 1.5320059381854043e-08, 'lambda_l2': 5.360294728728285}. Best is trial 43 with value: 0.3123315737183188.\u001b[0m\n"
          ]
        },
        {
          "output_type": "stream",
          "name": "stdout",
          "text": [
            "Did not meet early stopping. Best iteration is:\n",
            "[100]\tTrain's rmse: 0.158056\tTest's rmse: 0.322365\n",
            "Training until validation scores don't improve for 50 rounds.\n"
          ]
        },
        {
          "output_type": "stream",
          "name": "stderr",
          "text": [
            "\u001b[32m[I 2021-12-13 11:59:25,621]\u001b[0m Trial 46 finished with value: 0.3177805941762353 and parameters: {'lambda_l1': 0.31044435499483225, 'lambda_l2': 8.148018307012941e-07}. Best is trial 43 with value: 0.3123315737183188.\u001b[0m\n"
          ]
        },
        {
          "output_type": "stream",
          "name": "stdout",
          "text": [
            "Did not meet early stopping. Best iteration is:\n",
            "[100]\tTrain's rmse: 0.154242\tTest's rmse: 0.317781\n",
            "Training until validation scores don't improve for 50 rounds.\n"
          ]
        },
        {
          "output_type": "stream",
          "name": "stderr",
          "text": [
            "\u001b[32m[I 2021-12-13 11:59:27,066]\u001b[0m Trial 47 finished with value: 0.31479479623616413 and parameters: {'lambda_l1': 4.329370014459266e-07, 'lambda_l2': 4.4734294104626844e-07}. Best is trial 43 with value: 0.3123315737183188.\u001b[0m\n"
          ]
        },
        {
          "output_type": "stream",
          "name": "stdout",
          "text": [
            "Did not meet early stopping. Best iteration is:\n",
            "[99]\tTrain's rmse: 0.156748\tTest's rmse: 0.314795\n",
            "Training until validation scores don't improve for 50 rounds.\n"
          ]
        },
        {
          "output_type": "stream",
          "name": "stderr",
          "text": [
            "\u001b[32m[I 2021-12-13 11:59:28,518]\u001b[0m Trial 48 finished with value: 0.31681903629029845 and parameters: {'lambda_l1': 5.472429642032198e-06, 'lambda_l2': 0.00052821153945323}. Best is trial 43 with value: 0.3123315737183188.\u001b[0m\n"
          ]
        },
        {
          "output_type": "stream",
          "name": "stdout",
          "text": [
            "Did not meet early stopping. Best iteration is:\n",
            "[99]\tTrain's rmse: 0.156721\tTest's rmse: 0.316819\n",
            "Training until validation scores don't improve for 50 rounds.\n"
          ]
        },
        {
          "output_type": "stream",
          "name": "stderr",
          "text": [
            "\u001b[32m[I 2021-12-13 11:59:29,973]\u001b[0m Trial 49 finished with value: 0.3166986458574861 and parameters: {'lambda_l1': 7.71800699380605e-05, 'lambda_l2': 4.17890272377219e-06}. Best is trial 43 with value: 0.3123315737183188.\u001b[0m\n"
          ]
        },
        {
          "output_type": "stream",
          "name": "stdout",
          "text": [
            "Did not meet early stopping. Best iteration is:\n",
            "[99]\tTrain's rmse: 0.156011\tTest's rmse: 0.316699\n",
            "Training until validation scores don't improve for 50 rounds.\n"
          ]
        },
        {
          "output_type": "stream",
          "name": "stderr",
          "text": [
            "\u001b[32m[I 2021-12-13 11:59:30,377]\u001b[0m Trial 50 finished with value: 0.3360315842761803 and parameters: {'lambda_l1': 3.207959657544482, 'lambda_l2': 0.09866694315446872}. Best is trial 43 with value: 0.3123315737183188.\u001b[0m\n"
          ]
        },
        {
          "output_type": "stream",
          "name": "stdout",
          "text": [
            "Did not meet early stopping. Best iteration is:\n",
            "[100]\tTrain's rmse: 0.156336\tTest's rmse: 0.336032\n",
            "Training until validation scores don't improve for 50 rounds.\n"
          ]
        },
        {
          "output_type": "stream",
          "name": "stderr",
          "text": [
            "\u001b[32m[I 2021-12-13 11:59:31,851]\u001b[0m Trial 51 finished with value: 0.31450746690674647 and parameters: {'lambda_l1': 1.1692997958212103e-08, 'lambda_l2': 1.700171186192954e-08}. Best is trial 43 with value: 0.3123315737183188.\u001b[0m\n"
          ]
        },
        {
          "output_type": "stream",
          "name": "stdout",
          "text": [
            "Did not meet early stopping. Best iteration is:\n",
            "[99]\tTrain's rmse: 0.156792\tTest's rmse: 0.314507\n",
            "Training until validation scores don't improve for 50 rounds.\n"
          ]
        },
        {
          "output_type": "stream",
          "name": "stderr",
          "text": [
            "\u001b[32m[I 2021-12-13 11:59:33,300]\u001b[0m Trial 52 finished with value: 0.3151902203889039 and parameters: {'lambda_l1': 1.3512777353940762e-08, 'lambda_l2': 2.3120208094961207e-05}. Best is trial 43 with value: 0.3123315737183188.\u001b[0m\n"
          ]
        },
        {
          "output_type": "stream",
          "name": "stdout",
          "text": [
            "Did not meet early stopping. Best iteration is:\n",
            "[99]\tTrain's rmse: 0.156841\tTest's rmse: 0.31519\n",
            "Training until validation scores don't improve for 50 rounds.\n"
          ]
        },
        {
          "output_type": "stream",
          "name": "stderr",
          "text": [
            "\u001b[32m[I 2021-12-13 11:59:34,748]\u001b[0m Trial 53 finished with value: 0.31479479611002353 and parameters: {'lambda_l1': 5.541518974002406e-07, 'lambda_l2': 2.35740695190084e-08}. Best is trial 43 with value: 0.3123315737183188.\u001b[0m\n"
          ]
        },
        {
          "output_type": "stream",
          "name": "stdout",
          "text": [
            "Did not meet early stopping. Best iteration is:\n",
            "[99]\tTrain's rmse: 0.156748\tTest's rmse: 0.314795\n",
            "Training until validation scores don't improve for 50 rounds.\n"
          ]
        },
        {
          "output_type": "stream",
          "name": "stderr",
          "text": [
            "\u001b[32m[I 2021-12-13 11:59:36,254]\u001b[0m Trial 54 finished with value: 0.3178284912400097 and parameters: {'lambda_l1': 0.0013643656722816411, 'lambda_l2': 1.1508217261645661e-08}. Best is trial 43 with value: 0.3123315737183188.\u001b[0m\n"
          ]
        },
        {
          "output_type": "stream",
          "name": "stdout",
          "text": [
            "Did not meet early stopping. Best iteration is:\n",
            "[99]\tTrain's rmse: 0.156404\tTest's rmse: 0.317828\n",
            "Training until validation scores don't improve for 50 rounds.\n"
          ]
        },
        {
          "output_type": "stream",
          "name": "stderr",
          "text": [
            "\u001b[32m[I 2021-12-13 11:59:37,715]\u001b[0m Trial 55 finished with value: 0.31519023604291607 and parameters: {'lambda_l1': 1.1916519926516243e-08, 'lambda_l2': 4.624083095518924e-05}. Best is trial 43 with value: 0.3123315737183188.\u001b[0m\n"
          ]
        },
        {
          "output_type": "stream",
          "name": "stdout",
          "text": [
            "Did not meet early stopping. Best iteration is:\n",
            "[99]\tTrain's rmse: 0.156841\tTest's rmse: 0.31519\n",
            "Training until validation scores don't improve for 50 rounds.\n"
          ]
        },
        {
          "output_type": "stream",
          "name": "stderr",
          "text": [
            "\u001b[32m[I 2021-12-13 11:59:39,120]\u001b[0m Trial 56 finished with value: 0.31815588740492523 and parameters: {'lambda_l1': 3.7384258928166384e-06, 'lambda_l2': 0.1304964127901967}. Best is trial 43 with value: 0.3123315737183188.\u001b[0m\n"
          ]
        },
        {
          "output_type": "stream",
          "name": "stdout",
          "text": [
            "Did not meet early stopping. Best iteration is:\n",
            "[100]\tTrain's rmse: 0.157222\tTest's rmse: 0.318156\n",
            "Training until validation scores don't improve for 50 rounds.\n"
          ]
        },
        {
          "output_type": "stream",
          "name": "stderr",
          "text": [
            "\u001b[32m[I 2021-12-13 11:59:40,575]\u001b[0m Trial 57 finished with value: 0.3149187395086192 and parameters: {'lambda_l1': 1.8796187625037182e-07, 'lambda_l2': 0.0039440907858195725}. Best is trial 43 with value: 0.3123315737183188.\u001b[0m\n"
          ]
        },
        {
          "output_type": "stream",
          "name": "stdout",
          "text": [
            "Did not meet early stopping. Best iteration is:\n",
            "[99]\tTrain's rmse: 0.156587\tTest's rmse: 0.314919\n",
            "Training until validation scores don't improve for 50 rounds.\n"
          ]
        },
        {
          "output_type": "stream",
          "name": "stderr",
          "text": [
            "\u001b[32m[I 2021-12-13 11:59:41,942]\u001b[0m Trial 58 finished with value: 0.31703758394269826 and parameters: {'lambda_l1': 1.197340518782296e-07, 'lambda_l2': 0.5361615285304203}. Best is trial 43 with value: 0.3123315737183188.\u001b[0m\n"
          ]
        },
        {
          "output_type": "stream",
          "name": "stdout",
          "text": [
            "Did not meet early stopping. Best iteration is:\n",
            "[100]\tTrain's rmse: 0.154043\tTest's rmse: 0.317038\n",
            "Training until validation scores don't improve for 50 rounds.\n"
          ]
        },
        {
          "output_type": "stream",
          "name": "stderr",
          "text": [
            "\u001b[32m[I 2021-12-13 11:59:43,400]\u001b[0m Trial 59 finished with value: 0.3136449548818419 and parameters: {'lambda_l1': 2.528830125346676e-06, 'lambda_l2': 0.00010244181483444618}. Best is trial 43 with value: 0.3123315737183188.\u001b[0m\n"
          ]
        },
        {
          "output_type": "stream",
          "name": "stdout",
          "text": [
            "Did not meet early stopping. Best iteration is:\n",
            "[100]\tTrain's rmse: 0.156896\tTest's rmse: 0.313645\n",
            "Training until validation scores don't improve for 50 rounds.\n"
          ]
        },
        {
          "output_type": "stream",
          "name": "stderr",
          "text": [
            "\u001b[32m[I 2021-12-13 11:59:44,718]\u001b[0m Trial 60 finished with value: 0.3353394658457979 and parameters: {'min_child_samples': 25}. Best is trial 60 with value: 0.3353394658457979.\u001b[0m\n"
          ]
        },
        {
          "output_type": "stream",
          "name": "stdout",
          "text": [
            "Did not meet early stopping. Best iteration is:\n",
            "[100]\tTrain's rmse: 0.158666\tTest's rmse: 0.335339\n",
            "Training until validation scores don't improve for 50 rounds.\n"
          ]
        },
        {
          "output_type": "stream",
          "name": "stderr",
          "text": [
            "\u001b[32m[I 2021-12-13 11:59:46,209]\u001b[0m Trial 61 finished with value: 0.32139922243696595 and parameters: {'min_child_samples': 10}. Best is trial 61 with value: 0.32139922243696595.\u001b[0m\n"
          ]
        },
        {
          "output_type": "stream",
          "name": "stdout",
          "text": [
            "Did not meet early stopping. Best iteration is:\n",
            "[100]\tTrain's rmse: 0.113127\tTest's rmse: 0.321399\n",
            "Training until validation scores don't improve for 50 rounds.\n"
          ]
        },
        {
          "output_type": "stream",
          "name": "stderr",
          "text": [
            "\u001b[32m[I 2021-12-13 11:59:47,676]\u001b[0m Trial 62 finished with value: 0.3181387725181999 and parameters: {'min_child_samples': 5}. Best is trial 62 with value: 0.3181387725181999.\u001b[0m\n"
          ]
        },
        {
          "output_type": "stream",
          "name": "stdout",
          "text": [
            "Did not meet early stopping. Best iteration is:\n",
            "[100]\tTrain's rmse: 0.0528903\tTest's rmse: 0.318139\n",
            "Training until validation scores don't improve for 50 rounds.\n"
          ]
        },
        {
          "output_type": "stream",
          "name": "stderr",
          "text": [
            "\u001b[32m[I 2021-12-13 11:59:48,311]\u001b[0m Trial 63 finished with value: 0.4494753825616316 and parameters: {'min_child_samples': 100}. Best is trial 62 with value: 0.3181387725181999.\u001b[0m\n"
          ]
        },
        {
          "output_type": "stream",
          "name": "stdout",
          "text": [
            "Did not meet early stopping. Best iteration is:\n",
            "[100]\tTrain's rmse: 0.302453\tTest's rmse: 0.449475\n",
            "Training until validation scores don't improve for 50 rounds.\n"
          ]
        },
        {
          "output_type": "stream",
          "name": "stderr",
          "text": [
            "\u001b[32m[I 2021-12-13 11:59:49,172]\u001b[0m Trial 64 finished with value: 0.379101650428129 and parameters: {'min_child_samples': 50}. Best is trial 62 with value: 0.3181387725181999.\u001b[0m\n"
          ]
        },
        {
          "output_type": "stream",
          "name": "stdout",
          "text": [
            "Did not meet early stopping. Best iteration is:\n",
            "[99]\tTrain's rmse: 0.22576\tTest's rmse: 0.379102\n"
          ]
        },
        {
          "output_type": "display_data",
          "data": {
            "image/png": "[encoded data removed]",
            "text/plain": [
              "<Figure size 432x288 with 1 Axes>"
            ]
          },
          "metadata": {
            "needs_background": "light"
          }
        },
        {
          "output_type": "stream",
          "name": "stderr",
          "text": [
            "\u001b[32m[I 2021-12-13 11:59:49,402]\u001b[0m A new study created in memory with name: no-name-6ea3c00b-d075-4693-900a-c9ef76c48ce6\u001b[0m\n"
          ]
        },
        {
          "output_type": "stream",
          "name": "stdout",
          "text": [
            "Training until validation scores don't improve for 50 rounds.\n"
          ]
        },
        {
          "output_type": "stream",
          "name": "stderr",
          "text": [
            "\u001b[32m[I 2021-12-13 11:59:49,817]\u001b[0m Trial 0 finished with value: 0.11370046206405457 and parameters: {'feature_fraction': 0.8}. Best is trial 0 with value: 0.11370046206405457.\u001b[0m\n"
          ]
        },
        {
          "output_type": "stream",
          "name": "stdout",
          "text": [
            "Did not meet early stopping. Best iteration is:\n",
            "[100]\tTrain's rmse: 0.130973\tTest's rmse: 0.1137\n",
            "Training until validation scores don't improve for 50 rounds.\n"
          ]
        },
        {
          "output_type": "stream",
          "name": "stderr",
          "text": [
            "\u001b[32m[I 2021-12-13 11:59:50,225]\u001b[0m Trial 1 finished with value: 0.11515457756365548 and parameters: {'feature_fraction': 0.7}. Best is trial 0 with value: 0.11370046206405457.\u001b[0m\n"
          ]
        },
        {
          "output_type": "stream",
          "name": "stdout",
          "text": [
            "Did not meet early stopping. Best iteration is:\n",
            "[100]\tTrain's rmse: 0.132142\tTest's rmse: 0.115155\n",
            "Training until validation scores don't improve for 50 rounds.\n"
          ]
        },
        {
          "output_type": "stream",
          "name": "stderr",
          "text": [
            "\u001b[32m[I 2021-12-13 11:59:50,599]\u001b[0m Trial 2 finished with value: 0.12334788776154507 and parameters: {'feature_fraction': 0.6}. Best is trial 0 with value: 0.11370046206405457.\u001b[0m\n"
          ]
        },
        {
          "output_type": "stream",
          "name": "stdout",
          "text": [
            "Did not meet early stopping. Best iteration is:\n",
            "[100]\tTrain's rmse: 0.129353\tTest's rmse: 0.123348\n",
            "Training until validation scores don't improve for 50 rounds.\n"
          ]
        },
        {
          "output_type": "stream",
          "name": "stderr",
          "text": [
            "\u001b[32m[I 2021-12-13 11:59:50,972]\u001b[0m Trial 3 finished with value: 0.14064428930661618 and parameters: {'feature_fraction': 0.5}. Best is trial 0 with value: 0.11370046206405457.\u001b[0m\n"
          ]
        },
        {
          "output_type": "stream",
          "name": "stdout",
          "text": [
            "Did not meet early stopping. Best iteration is:\n",
            "[100]\tTrain's rmse: 0.14085\tTest's rmse: 0.140644\n",
            "Training until validation scores don't improve for 50 rounds.\n"
          ]
        },
        {
          "output_type": "stream",
          "name": "stderr",
          "text": [
            "\u001b[32m[I 2021-12-13 11:59:51,285]\u001b[0m Trial 4 finished with value: 0.1344648646354615 and parameters: {'feature_fraction': 0.4}. Best is trial 0 with value: 0.11370046206405457.\u001b[0m\n"
          ]
        },
        {
          "output_type": "stream",
          "name": "stdout",
          "text": [
            "Did not meet early stopping. Best iteration is:\n",
            "[100]\tTrain's rmse: 0.138408\tTest's rmse: 0.134465\n",
            "Training until validation scores don't improve for 50 rounds.\n"
          ]
        },
        {
          "output_type": "stream",
          "name": "stderr",
          "text": [
            "\u001b[32m[I 2021-12-13 11:59:51,735]\u001b[0m Trial 5 finished with value: 0.10511044639140006 and parameters: {'feature_fraction': 1.0}. Best is trial 5 with value: 0.10511044639140006.\u001b[0m\n"
          ]
        },
        {
          "output_type": "stream",
          "name": "stdout",
          "text": [
            "Did not meet early stopping. Best iteration is:\n",
            "[100]\tTrain's rmse: 0.158535\tTest's rmse: 0.10511\n",
            "Training until validation scores don't improve for 50 rounds.\n"
          ]
        },
        {
          "output_type": "stream",
          "name": "stderr",
          "text": [
            "\u001b[32m[I 2021-12-13 11:59:52,183]\u001b[0m Trial 6 finished with value: 0.10807358289291293 and parameters: {'feature_fraction': 0.8999999999999999}. Best is trial 5 with value: 0.10511044639140006.\u001b[0m\n"
          ]
        },
        {
          "output_type": "stream",
          "name": "stdout",
          "text": [
            "Did not meet early stopping. Best iteration is:\n",
            "[100]\tTrain's rmse: 0.154694\tTest's rmse: 0.108074\n",
            "Training until validation scores don't improve for 50 rounds.\n"
          ]
        },
        {
          "output_type": "stream",
          "name": "stderr",
          "text": [
            "\u001b[32m[I 2021-12-13 11:59:53,102]\u001b[0m Trial 7 finished with value: 0.10424764682009634 and parameters: {'num_leaves': 97}. Best is trial 7 with value: 0.10424764682009634.\u001b[0m\n"
          ]
        },
        {
          "output_type": "stream",
          "name": "stdout",
          "text": [
            "Did not meet early stopping. Best iteration is:\n",
            "[100]\tTrain's rmse: 0.15703\tTest's rmse: 0.104248\n",
            "Training until validation scores don't improve for 50 rounds.\n"
          ]
        },
        {
          "output_type": "stream",
          "name": "stderr",
          "text": [
            "\u001b[32m[I 2021-12-13 11:59:54,854]\u001b[0m Trial 8 finished with value: 0.10400478470193121 and parameters: {'num_leaves': 244}. Best is trial 8 with value: 0.10400478470193121.\u001b[0m\n"
          ]
        },
        {
          "output_type": "stream",
          "name": "stdout",
          "text": [
            "Did not meet early stopping. Best iteration is:\n",
            "[100]\tTrain's rmse: 0.157053\tTest's rmse: 0.104005\n",
            "Training until validation scores don't improve for 50 rounds.\n"
          ]
        },
        {
          "output_type": "stream",
          "name": "stderr",
          "text": [
            "\u001b[32m[I 2021-12-13 11:59:56,357]\u001b[0m Trial 9 finished with value: 0.10429608717248676 and parameters: {'num_leaves': 188}. Best is trial 8 with value: 0.10400478470193121.\u001b[0m\n"
          ]
        },
        {
          "output_type": "stream",
          "name": "stdout",
          "text": [
            "Did not meet early stopping. Best iteration is:\n",
            "[100]\tTrain's rmse: 0.157071\tTest's rmse: 0.104296\n",
            "Training until validation scores don't improve for 50 rounds.\n"
          ]
        },
        {
          "output_type": "stream",
          "name": "stderr",
          "text": [
            "\u001b[32m[I 2021-12-13 11:59:57,642]\u001b[0m Trial 10 finished with value: 0.10391114729168234 and parameters: {'num_leaves': 154}. Best is trial 10 with value: 0.10391114729168234.\u001b[0m\n"
          ]
        },
        {
          "output_type": "stream",
          "name": "stdout",
          "text": [
            "Did not meet early stopping. Best iteration is:\n",
            "[100]\tTrain's rmse: 0.157162\tTest's rmse: 0.103911\n",
            "Training until validation scores don't improve for 50 rounds.\n"
          ]
        },
        {
          "output_type": "stream",
          "name": "stderr",
          "text": [
            "\u001b[32m[I 2021-12-13 11:59:58,186]\u001b[0m Trial 11 finished with value: 0.10420331261560474 and parameters: {'num_leaves': 41}. Best is trial 10 with value: 0.10391114729168234.\u001b[0m\n"
          ]
        },
        {
          "output_type": "stream",
          "name": "stdout",
          "text": [
            "Did not meet early stopping. Best iteration is:\n",
            "[100]\tTrain's rmse: 0.157203\tTest's rmse: 0.104203\n",
            "Training until validation scores don't improve for 50 rounds.\n"
          ]
        },
        {
          "output_type": "stream",
          "name": "stderr",
          "text": [
            "\u001b[32m[I 2021-12-13 11:59:58,693]\u001b[0m Trial 12 finished with value: 0.10420331261560474 and parameters: {'num_leaves': 41}. Best is trial 10 with value: 0.10391114729168234.\u001b[0m\n"
          ]
        },
        {
          "output_type": "stream",
          "name": "stdout",
          "text": [
            "Did not meet early stopping. Best iteration is:\n",
            "[100]\tTrain's rmse: 0.157203\tTest's rmse: 0.104203\n",
            "Training until validation scores don't improve for 50 rounds.\n"
          ]
        },
        {
          "output_type": "stream",
          "name": "stderr",
          "text": [
            "\u001b[32m[I 2021-12-13 11:59:58,991]\u001b[0m Trial 13 finished with value: 0.10792495660131807 and parameters: {'num_leaves': 16}. Best is trial 10 with value: 0.10391114729168234.\u001b[0m\n"
          ]
        },
        {
          "output_type": "stream",
          "name": "stdout",
          "text": [
            "Did not meet early stopping. Best iteration is:\n",
            "[100]\tTrain's rmse: 0.157072\tTest's rmse: 0.107925\n",
            "Training until validation scores don't improve for 50 rounds.\n"
          ]
        },
        {
          "output_type": "stream",
          "name": "stderr",
          "text": [
            "\u001b[32m[I 2021-12-13 12:00:00,655]\u001b[0m Trial 14 finished with value: 0.10395212898068626 and parameters: {'num_leaves': 222}. Best is trial 10 with value: 0.10391114729168234.\u001b[0m\n"
          ]
        },
        {
          "output_type": "stream",
          "name": "stdout",
          "text": [
            "Did not meet early stopping. Best iteration is:\n",
            "[100]\tTrain's rmse: 0.157042\tTest's rmse: 0.103952\n",
            "Training until validation scores don't improve for 50 rounds.\n"
          ]
        },
        {
          "output_type": "stream",
          "name": "stderr",
          "text": [
            "\u001b[32m[I 2021-12-13 12:00:01,961]\u001b[0m Trial 15 finished with value: 0.10388142880646321 and parameters: {'num_leaves': 155}. Best is trial 15 with value: 0.10388142880646321.\u001b[0m\n"
          ]
        },
        {
          "output_type": "stream",
          "name": "stdout",
          "text": [
            "Did not meet early stopping. Best iteration is:\n",
            "[100]\tTrain's rmse: 0.15715\tTest's rmse: 0.103881\n",
            "Training until validation scores don't improve for 50 rounds.\n"
          ]
        },
        {
          "output_type": "stream",
          "name": "stderr",
          "text": [
            "\u001b[32m[I 2021-12-13 12:00:03,424]\u001b[0m Trial 16 finished with value: 0.10406566783718518 and parameters: {'num_leaves': 182}. Best is trial 15 with value: 0.10388142880646321.\u001b[0m\n"
          ]
        },
        {
          "output_type": "stream",
          "name": "stdout",
          "text": [
            "Did not meet early stopping. Best iteration is:\n",
            "[100]\tTrain's rmse: 0.157157\tTest's rmse: 0.104066\n",
            "Training until validation scores don't improve for 50 rounds.\n"
          ]
        },
        {
          "output_type": "stream",
          "name": "stderr",
          "text": [
            "\u001b[32m[I 2021-12-13 12:00:04,415]\u001b[0m Trial 17 finished with value: 0.10417056012889422 and parameters: {'num_leaves': 110}. Best is trial 15 with value: 0.10388142880646321.\u001b[0m\n"
          ]
        },
        {
          "output_type": "stream",
          "name": "stdout",
          "text": [
            "Did not meet early stopping. Best iteration is:\n",
            "[100]\tTrain's rmse: 0.156979\tTest's rmse: 0.104171\n",
            "Training until validation scores don't improve for 50 rounds.\n"
          ]
        },
        {
          "output_type": "stream",
          "name": "stderr",
          "text": [
            "\u001b[32m[I 2021-12-13 12:00:05,667]\u001b[0m Trial 18 finished with value: 0.10398407993271964 and parameters: {'num_leaves': 149}. Best is trial 15 with value: 0.10388142880646321.\u001b[0m\n"
          ]
        },
        {
          "output_type": "stream",
          "name": "stdout",
          "text": [
            "Did not meet early stopping. Best iteration is:\n",
            "[100]\tTrain's rmse: 0.157145\tTest's rmse: 0.103984\n",
            "Training until validation scores don't improve for 50 rounds.\n"
          ]
        },
        {
          "output_type": "stream",
          "name": "stderr",
          "text": [
            "\u001b[32m[I 2021-12-13 12:00:06,937]\u001b[0m Trial 19 finished with value: 0.10422502431295069 and parameters: {'num_leaves': 152}. Best is trial 15 with value: 0.10388142880646321.\u001b[0m\n"
          ]
        },
        {
          "output_type": "stream",
          "name": "stdout",
          "text": [
            "Did not meet early stopping. Best iteration is:\n",
            "[100]\tTrain's rmse: 0.157158\tTest's rmse: 0.104225\n",
            "Training until validation scores don't improve for 50 rounds.\n"
          ]
        },
        {
          "output_type": "stream",
          "name": "stderr",
          "text": [
            "\u001b[32m[I 2021-12-13 12:00:07,783]\u001b[0m Trial 20 finished with value: 0.10426867163754916 and parameters: {'num_leaves': 84}. Best is trial 15 with value: 0.10388142880646321.\u001b[0m\n"
          ]
        },
        {
          "output_type": "stream",
          "name": "stdout",
          "text": [
            "Did not meet early stopping. Best iteration is:\n",
            "[100]\tTrain's rmse: 0.157126\tTest's rmse: 0.104269\n",
            "Training until validation scores don't improve for 50 rounds.\n"
          ]
        },
        {
          "output_type": "stream",
          "name": "stderr",
          "text": [
            "\u001b[32m[I 2021-12-13 12:00:09,251]\u001b[0m Trial 21 finished with value: 0.1040068814256966 and parameters: {'num_leaves': 190}. Best is trial 15 with value: 0.10388142880646321.\u001b[0m\n"
          ]
        },
        {
          "output_type": "stream",
          "name": "stdout",
          "text": [
            "Did not meet early stopping. Best iteration is:\n",
            "[100]\tTrain's rmse: 0.15705\tTest's rmse: 0.104007\n",
            "Training until validation scores don't improve for 50 rounds.\n"
          ]
        },
        {
          "output_type": "stream",
          "name": "stderr",
          "text": [
            "\u001b[32m[I 2021-12-13 12:00:10,420]\u001b[0m Trial 22 finished with value: 0.10419254986150894 and parameters: {'num_leaves': 132}. Best is trial 15 with value: 0.10388142880646321.\u001b[0m\n"
          ]
        },
        {
          "output_type": "stream",
          "name": "stdout",
          "text": [
            "Did not meet early stopping. Best iteration is:\n",
            "[100]\tTrain's rmse: 0.156994\tTest's rmse: 0.104193\n",
            "Training until validation scores don't improve for 50 rounds.\n"
          ]
        },
        {
          "output_type": "stream",
          "name": "stderr",
          "text": [
            "\u001b[32m[I 2021-12-13 12:00:11,746]\u001b[0m Trial 23 finished with value: 0.10402550771630723 and parameters: {'num_leaves': 168}. Best is trial 15 with value: 0.10388142880646321.\u001b[0m\n"
          ]
        },
        {
          "output_type": "stream",
          "name": "stdout",
          "text": [
            "Did not meet early stopping. Best iteration is:\n",
            "[100]\tTrain's rmse: 0.157154\tTest's rmse: 0.104026\n",
            "Training until validation scores don't improve for 50 rounds.\n"
          ]
        },
        {
          "output_type": "stream",
          "name": "stderr",
          "text": [
            "\u001b[32m[I 2021-12-13 12:00:13,342]\u001b[0m Trial 24 finished with value: 0.10399344170765096 and parameters: {'num_leaves': 216}. Best is trial 15 with value: 0.10388142880646321.\u001b[0m\n"
          ]
        },
        {
          "output_type": "stream",
          "name": "stdout",
          "text": [
            "Did not meet early stopping. Best iteration is:\n",
            "[100]\tTrain's rmse: 0.157045\tTest's rmse: 0.103993\n",
            "Training until validation scores don't improve for 50 rounds.\n"
          ]
        },
        {
          "output_type": "stream",
          "name": "stderr",
          "text": [
            "\u001b[32m[I 2021-12-13 12:00:14,390]\u001b[0m Trial 25 finished with value: 0.1040965836914316 and parameters: {'num_leaves': 122}. Best is trial 15 with value: 0.10388142880646321.\u001b[0m\n"
          ]
        },
        {
          "output_type": "stream",
          "name": "stdout",
          "text": [
            "Did not meet early stopping. Best iteration is:\n",
            "[100]\tTrain's rmse: 0.157134\tTest's rmse: 0.104097\n",
            "Training until validation scores don't improve for 50 rounds.\n"
          ]
        },
        {
          "output_type": "stream",
          "name": "stderr",
          "text": [
            "\u001b[32m[I 2021-12-13 12:00:15,170]\u001b[0m Trial 26 finished with value: 0.10408629013924565 and parameters: {'num_leaves': 79}. Best is trial 15 with value: 0.10388142880646321.\u001b[0m\n"
          ]
        },
        {
          "output_type": "stream",
          "name": "stdout",
          "text": [
            "Did not meet early stopping. Best iteration is:\n",
            "[100]\tTrain's rmse: 0.157176\tTest's rmse: 0.104086\n",
            "Training until validation scores don't improve for 50 rounds.\n"
          ]
        },
        {
          "output_type": "stream",
          "name": "stderr",
          "text": [
            "\u001b[32m[I 2021-12-13 12:00:16,564]\u001b[0m Trial 27 finished with value: 0.11753139890517349 and parameters: {'bagging_fraction': 0.624724071308792, 'bagging_freq': 7}. Best is trial 27 with value: 0.11753139890517349.\u001b[0m\n"
          ]
        },
        {
          "output_type": "stream",
          "name": "stdout",
          "text": [
            "Did not meet early stopping. Best iteration is:\n",
            "[100]\tTrain's rmse: 0.186613\tTest's rmse: 0.117531\n",
            "Training until validation scores don't improve for 50 rounds.\n"
          ]
        },
        {
          "output_type": "stream",
          "name": "stderr",
          "text": [
            "\u001b[32m[I 2021-12-13 12:00:17,723]\u001b[0m Trial 28 finished with value: 0.10260567817971805 and parameters: {'bagging_fraction': 0.8391963650875751, 'bagging_freq': 5}. Best is trial 28 with value: 0.10260567817971805.\u001b[0m\n"
          ]
        },
        {
          "output_type": "stream",
          "name": "stdout",
          "text": [
            "Early stopping, best iteration is:\n",
            "[39]\tTrain's rmse: 0.189115\tTest's rmse: 0.102606\n",
            "Training until validation scores don't improve for 50 rounds.\n"
          ]
        },
        {
          "output_type": "stream",
          "name": "stderr",
          "text": [
            "\u001b[32m[I 2021-12-13 12:00:19,095]\u001b[0m Trial 29 finished with value: 0.1085052517904983 and parameters: {'bagging_fraction': 0.49361118426561795, 'bagging_freq': 2}. Best is trial 28 with value: 0.10260567817971805.\u001b[0m\n"
          ]
        },
        {
          "output_type": "stream",
          "name": "stdout",
          "text": [
            "Did not meet early stopping. Best iteration is:\n",
            "[100]\tTrain's rmse: 0.185138\tTest's rmse: 0.108505\n",
            "Training until validation scores don't improve for 50 rounds.\n"
          ]
        },
        {
          "output_type": "stream",
          "name": "stderr",
          "text": [
            "\u001b[32m[I 2021-12-13 12:00:20,210]\u001b[0m Trial 30 finished with value: 0.11187418321118339 and parameters: {'bagging_fraction': 0.4348501673009778, 'bagging_freq': 7}. Best is trial 28 with value: 0.10260567817971805.\u001b[0m\n"
          ]
        },
        {
          "output_type": "stream",
          "name": "stdout",
          "text": [
            "Early stopping, best iteration is:\n",
            "[37]\tTrain's rmse: 0.211565\tTest's rmse: 0.111874\n",
            "Training until validation scores don't improve for 50 rounds.\n"
          ]
        },
        {
          "output_type": "stream",
          "name": "stderr",
          "text": [
            "\u001b[32m[I 2021-12-13 12:00:21,584]\u001b[0m Trial 31 finished with value: 0.10523135617448758 and parameters: {'bagging_fraction': 0.7606690070465265, 'bagging_freq': 5}. Best is trial 28 with value: 0.10260567817971805.\u001b[0m\n"
          ]
        },
        {
          "output_type": "stream",
          "name": "stdout",
          "text": [
            "Did not meet early stopping. Best iteration is:\n",
            "[98]\tTrain's rmse: 0.17753\tTest's rmse: 0.105231\n",
            "Training until validation scores don't improve for 50 rounds.\n"
          ]
        },
        {
          "output_type": "stream",
          "name": "stderr",
          "text": [
            "\u001b[32m[I 2021-12-13 12:00:22,883]\u001b[0m Trial 32 finished with value: 0.11766633768952689 and parameters: {'bagging_fraction': 0.41235069657750206, 'bagging_freq': 7}. Best is trial 28 with value: 0.10260567817971805.\u001b[0m\n"
          ]
        },
        {
          "output_type": "stream",
          "name": "stdout",
          "text": [
            "Did not meet early stopping. Best iteration is:\n",
            "[100]\tTrain's rmse: 0.198129\tTest's rmse: 0.117666\n",
            "Training until validation scores don't improve for 50 rounds.\n"
          ]
        },
        {
          "output_type": "stream",
          "name": "stderr",
          "text": [
            "\u001b[32m[I 2021-12-13 12:00:24,272]\u001b[0m Trial 33 finished with value: 0.11026709424411978 and parameters: {'bagging_fraction': 0.8994655844810855, 'bagging_freq': 2}. Best is trial 28 with value: 0.10260567817971805.\u001b[0m\n"
          ]
        },
        {
          "output_type": "stream",
          "name": "stdout",
          "text": [
            "Did not meet early stopping. Best iteration is:\n",
            "[100]\tTrain's rmse: 0.16389\tTest's rmse: 0.110267\n",
            "Training until validation scores don't improve for 50 rounds.\n"
          ]
        },
        {
          "output_type": "stream",
          "name": "stderr",
          "text": [
            "\u001b[32m[I 2021-12-13 12:00:25,625]\u001b[0m Trial 34 finished with value: 0.10563333113933275 and parameters: {'bagging_fraction': 0.5090949803244422, 'bagging_freq': 2}. Best is trial 28 with value: 0.10260567817971805.\u001b[0m\n"
          ]
        },
        {
          "output_type": "stream",
          "name": "stdout",
          "text": [
            "Did not meet early stopping. Best iteration is:\n",
            "[100]\tTrain's rmse: 0.1856\tTest's rmse: 0.105633\n",
            "Training until validation scores don't improve for 50 rounds.\n"
          ]
        },
        {
          "output_type": "stream",
          "name": "stderr",
          "text": [
            "\u001b[32m[I 2021-12-13 12:00:26,995]\u001b[0m Trial 35 finished with value: 0.12088504917537782 and parameters: {'bagging_fraction': 0.5825453457760269, 'bagging_freq': 4}. Best is trial 28 with value: 0.10260567817971805.\u001b[0m\n"
          ]
        },
        {
          "output_type": "stream",
          "name": "stdout",
          "text": [
            "Did not meet early stopping. Best iteration is:\n",
            "[100]\tTrain's rmse: 0.186361\tTest's rmse: 0.120885\n",
            "Training until validation scores don't improve for 50 rounds.\n"
          ]
        },
        {
          "output_type": "stream",
          "name": "stderr",
          "text": [
            "\u001b[32m[I 2021-12-13 12:00:28,393]\u001b[0m Trial 36 finished with value: 0.10614685637758547 and parameters: {'bagging_fraction': 0.6591670111857015, 'bagging_freq': 3}. Best is trial 28 with value: 0.10260567817971805.\u001b[0m\n"
          ]
        },
        {
          "output_type": "stream",
          "name": "stdout",
          "text": [
            "Did not meet early stopping. Best iteration is:\n",
            "[99]\tTrain's rmse: 0.184222\tTest's rmse: 0.106147\n",
            "Training until validation scores don't improve for 50 rounds.\n"
          ]
        },
        {
          "output_type": "stream",
          "name": "stderr",
          "text": [
            "\u001b[32m[I 2021-12-13 12:00:29,802]\u001b[0m Trial 37 finished with value: 0.1135929269187126 and parameters: {'feature_fraction': 0.92}. Best is trial 37 with value: 0.1135929269187126.\u001b[0m\n"
          ]
        },
        {
          "output_type": "stream",
          "name": "stdout",
          "text": [
            "Did not meet early stopping. Best iteration is:\n",
            "[99]\tTrain's rmse: 0.170734\tTest's rmse: 0.113593\n",
            "Training until validation scores don't improve for 50 rounds.\n"
          ]
        },
        {
          "output_type": "stream",
          "name": "stderr",
          "text": [
            "\u001b[32m[I 2021-12-13 12:00:31,100]\u001b[0m Trial 38 finished with value: 0.1079420711472074 and parameters: {'feature_fraction': 0.9520000000000001}. Best is trial 38 with value: 0.1079420711472074.\u001b[0m\n"
          ]
        },
        {
          "output_type": "stream",
          "name": "stdout",
          "text": [
            "Early stopping, best iteration is:\n",
            "[40]\tTrain's rmse: 0.189231\tTest's rmse: 0.107942\n",
            "Training until validation scores don't improve for 50 rounds.\n"
          ]
        },
        {
          "output_type": "stream",
          "name": "stderr",
          "text": [
            "\u001b[32m[I 2021-12-13 12:00:32,349]\u001b[0m Trial 39 finished with value: 0.1079420711472074 and parameters: {'feature_fraction': 0.9840000000000001}. Best is trial 38 with value: 0.1079420711472074.\u001b[0m\n"
          ]
        },
        {
          "output_type": "stream",
          "name": "stdout",
          "text": [
            "Early stopping, best iteration is:\n",
            "[40]\tTrain's rmse: 0.189231\tTest's rmse: 0.107942\n",
            "Training until validation scores don't improve for 50 rounds.\n"
          ]
        },
        {
          "output_type": "stream",
          "name": "stderr",
          "text": [
            "\u001b[32m[I 2021-12-13 12:00:33,182]\u001b[0m Trial 40 finished with value: 0.10621899716148732 and parameters: {'lambda_l1': 2.348881295853308e-05, 'lambda_l2': 3.6010467344475403}. Best is trial 40 with value: 0.10621899716148732.\u001b[0m\n"
          ]
        },
        {
          "output_type": "stream",
          "name": "stdout",
          "text": [
            "Early stopping, best iteration is:\n",
            "[39]\tTrain's rmse: 0.189011\tTest's rmse: 0.106219\n",
            "Training until validation scores don't improve for 50 rounds.\n"
          ]
        },
        {
          "output_type": "stream",
          "name": "stderr",
          "text": [
            "\u001b[32m[I 2021-12-13 12:00:33,811]\u001b[0m Trial 41 finished with value: 0.10354076515002907 and parameters: {'lambda_l1': 0.038720902953704193, 'lambda_l2': 0.0024430162614261413}. Best is trial 41 with value: 0.10354076515002907.\u001b[0m\n"
          ]
        },
        {
          "output_type": "stream",
          "name": "stdout",
          "text": [
            "Early stopping, best iteration is:\n",
            "[39]\tTrain's rmse: 0.187834\tTest's rmse: 0.103541\n",
            "Training until validation scores don't improve for 50 rounds.\n"
          ]
        },
        {
          "output_type": "stream",
          "name": "stderr",
          "text": [
            "\u001b[32m[I 2021-12-13 12:00:34,972]\u001b[0m Trial 42 finished with value: 0.10260554546761466 and parameters: {'lambda_l1': 2.5361081166471375e-07, 'lambda_l2': 2.5348407664333426e-07}. Best is trial 42 with value: 0.10260554546761466.\u001b[0m\n"
          ]
        },
        {
          "output_type": "stream",
          "name": "stdout",
          "text": [
            "Early stopping, best iteration is:\n",
            "[39]\tTrain's rmse: 0.189115\tTest's rmse: 0.102606\n",
            "Training until validation scores don't improve for 50 rounds.\n"
          ]
        },
        {
          "output_type": "stream",
          "name": "stderr",
          "text": [
            "\u001b[32m[I 2021-12-13 12:00:35,920]\u001b[0m Trial 43 finished with value: 0.10339761565758496 and parameters: {'lambda_l1': 3.3323645788192616e-08, 'lambda_l2': 0.6245760287469893}. Best is trial 42 with value: 0.10260554546761466.\u001b[0m\n"
          ]
        },
        {
          "output_type": "stream",
          "name": "stdout",
          "text": [
            "Early stopping, best iteration is:\n",
            "[39]\tTrain's rmse: 0.189355\tTest's rmse: 0.103398\n",
            "Training until validation scores don't improve for 50 rounds.\n"
          ]
        },
        {
          "output_type": "stream",
          "name": "stderr",
          "text": [
            "\u001b[32m[I 2021-12-13 12:00:36,819]\u001b[0m Trial 44 finished with value: 0.10423664818459352 and parameters: {'lambda_l1': 0.002570603566117598, 'lambda_l2': 0.023585940584142682}. Best is trial 42 with value: 0.10260554546761466.\u001b[0m\n"
          ]
        },
        {
          "output_type": "stream",
          "name": "stdout",
          "text": [
            "Early stopping, best iteration is:\n",
            "[34]\tTrain's rmse: 0.193938\tTest's rmse: 0.104237\n",
            "Training until validation scores don't improve for 50 rounds.\n"
          ]
        },
        {
          "output_type": "stream",
          "name": "stderr",
          "text": [
            "\u001b[32m[I 2021-12-13 12:00:37,650]\u001b[0m Trial 45 finished with value: 0.10230992139566727 and parameters: {'lambda_l1': 1.5320059381854043e-08, 'lambda_l2': 5.360294728728285}. Best is trial 45 with value: 0.10230992139566727.\u001b[0m\n"
          ]
        },
        {
          "output_type": "stream",
          "name": "stdout",
          "text": [
            "Early stopping, best iteration is:\n",
            "[40]\tTrain's rmse: 0.19025\tTest's rmse: 0.10231\n",
            "Training until validation scores don't improve for 50 rounds.\n"
          ]
        },
        {
          "output_type": "stream",
          "name": "stderr",
          "text": [
            "\u001b[32m[I 2021-12-13 12:00:38,095]\u001b[0m Trial 46 finished with value: 0.10517213441370259 and parameters: {'lambda_l1': 0.31044435499483225, 'lambda_l2': 8.148018307012941e-07}. Best is trial 45 with value: 0.10230992139566727.\u001b[0m\n"
          ]
        },
        {
          "output_type": "stream",
          "name": "stdout",
          "text": [
            "Early stopping, best iteration is:\n",
            "[40]\tTrain's rmse: 0.188635\tTest's rmse: 0.105172\n",
            "Training until validation scores don't improve for 50 rounds.\n"
          ]
        },
        {
          "output_type": "stream",
          "name": "stderr",
          "text": [
            "\u001b[32m[I 2021-12-13 12:00:39,251]\u001b[0m Trial 47 finished with value: 0.10260566326745585 and parameters: {'lambda_l1': 4.329370014459266e-07, 'lambda_l2': 4.4734294104626844e-07}. Best is trial 45 with value: 0.10230992139566727.\u001b[0m\n"
          ]
        },
        {
          "output_type": "stream",
          "name": "stdout",
          "text": [
            "Early stopping, best iteration is:\n",
            "[39]\tTrain's rmse: 0.189115\tTest's rmse: 0.102606\n",
            "Training until validation scores don't improve for 50 rounds.\n"
          ]
        },
        {
          "output_type": "stream",
          "name": "stderr",
          "text": [
            "\u001b[32m[I 2021-12-13 12:00:40,446]\u001b[0m Trial 48 finished with value: 0.1026021129078125 and parameters: {'lambda_l1': 5.472429642032198e-06, 'lambda_l2': 0.00052821153945323}. Best is trial 45 with value: 0.10230992139566727.\u001b[0m\n"
          ]
        },
        {
          "output_type": "stream",
          "name": "stdout",
          "text": [
            "Early stopping, best iteration is:\n",
            "[39]\tTrain's rmse: 0.189116\tTest's rmse: 0.102602\n",
            "Training until validation scores don't improve for 50 rounds.\n"
          ]
        },
        {
          "output_type": "stream",
          "name": "stderr",
          "text": [
            "\u001b[32m[I 2021-12-13 12:00:41,586]\u001b[0m Trial 49 finished with value: 0.102600422936163 and parameters: {'lambda_l1': 7.71800699380605e-05, 'lambda_l2': 4.17890272377219e-06}. Best is trial 45 with value: 0.10230992139566727.\u001b[0m\n"
          ]
        },
        {
          "output_type": "stream",
          "name": "stdout",
          "text": [
            "Early stopping, best iteration is:\n",
            "[39]\tTrain's rmse: 0.189115\tTest's rmse: 0.1026\n",
            "Training until validation scores don't improve for 50 rounds.\n"
          ]
        },
        {
          "output_type": "stream",
          "name": "stderr",
          "text": [
            "\u001b[32m[I 2021-12-13 12:00:41,921]\u001b[0m Trial 50 finished with value: 0.1097032695689188 and parameters: {'lambda_l1': 3.207959657544482, 'lambda_l2': 0.08430920984585018}. Best is trial 45 with value: 0.10230992139566727.\u001b[0m\n"
          ]
        },
        {
          "output_type": "stream",
          "name": "stdout",
          "text": [
            "Did not meet early stopping. Best iteration is:\n",
            "[100]\tTrain's rmse: 0.162273\tTest's rmse: 0.109703\n",
            "Training until validation scores don't improve for 50 rounds.\n"
          ]
        },
        {
          "output_type": "stream",
          "name": "stderr",
          "text": [
            "\u001b[32m[I 2021-12-13 12:00:43,031]\u001b[0m Trial 51 finished with value: 0.10259199106358807 and parameters: {'lambda_l1': 0.00029938550304646646, 'lambda_l2': 1.7338755448811948e-05}. Best is trial 45 with value: 0.10230992139566727.\u001b[0m\n"
          ]
        },
        {
          "output_type": "stream",
          "name": "stdout",
          "text": [
            "Early stopping, best iteration is:\n",
            "[39]\tTrain's rmse: 0.189116\tTest's rmse: 0.102592\n",
            "Training until validation scores don't improve for 50 rounds.\n"
          ]
        },
        {
          "output_type": "stream",
          "name": "stderr",
          "text": [
            "\u001b[32m[I 2021-12-13 12:00:44,034]\u001b[0m Trial 52 finished with value: 0.10257097635430562 and parameters: {'lambda_l1': 0.0015288030773232706, 'lambda_l2': 2.779139965883721e-05}. Best is trial 45 with value: 0.10230992139566727.\u001b[0m\n"
          ]
        },
        {
          "output_type": "stream",
          "name": "stdout",
          "text": [
            "Early stopping, best iteration is:\n",
            "[39]\tTrain's rmse: 0.189116\tTest's rmse: 0.102571\n",
            "Training until validation scores don't improve for 50 rounds.\n"
          ]
        },
        {
          "output_type": "stream",
          "name": "stderr",
          "text": [
            "\u001b[32m[I 2021-12-13 12:00:44,940]\u001b[0m Trial 53 finished with value: 0.10249433111789537 and parameters: {'lambda_l1': 0.004860834367887628, 'lambda_l2': 3.404677878190547e-05}. Best is trial 45 with value: 0.10230992139566727.\u001b[0m\n"
          ]
        },
        {
          "output_type": "stream",
          "name": "stdout",
          "text": [
            "Early stopping, best iteration is:\n",
            "[40]\tTrain's rmse: 0.188727\tTest's rmse: 0.102494\n",
            "Training until validation scores don't improve for 50 rounds.\n"
          ]
        },
        {
          "output_type": "stream",
          "name": "stderr",
          "text": [
            "\u001b[32m[I 2021-12-13 12:00:45,654]\u001b[0m Trial 54 finished with value: 0.10376804323747336 and parameters: {'lambda_l1': 0.026044657379353513, 'lambda_l2': 1.3139855587432983e-08}. Best is trial 45 with value: 0.10230992139566727.\u001b[0m\n"
          ]
        },
        {
          "output_type": "stream",
          "name": "stdout",
          "text": [
            "Early stopping, best iteration is:\n",
            "[39]\tTrain's rmse: 0.188939\tTest's rmse: 0.103768\n",
            "Training until validation scores don't improve for 50 rounds.\n"
          ]
        },
        {
          "output_type": "stream",
          "name": "stderr",
          "text": [
            "\u001b[32m[I 2021-12-13 12:00:46,849]\u001b[0m Trial 55 finished with value: 0.10254479211503849 and parameters: {'lambda_l1': 3.3639426888455315e-06, 'lambda_l2': 0.0036065358780523337}. Best is trial 45 with value: 0.10230992139566727.\u001b[0m\n"
          ]
        },
        {
          "output_type": "stream",
          "name": "stdout",
          "text": [
            "Early stopping, best iteration is:\n",
            "[40]\tTrain's rmse: 0.188724\tTest's rmse: 0.102545\n",
            "Training until validation scores don't improve for 50 rounds.\n"
          ]
        },
        {
          "output_type": "stream",
          "name": "stderr",
          "text": [
            "\u001b[32m[I 2021-12-13 12:00:47,623]\u001b[0m Trial 56 finished with value: 0.10355433114813908 and parameters: {'lambda_l1': 1.6262914459106085e-08, 'lambda_l2': 8.463520869408649}. Best is trial 45 with value: 0.10230992139566727.\u001b[0m\n"
          ]
        },
        {
          "output_type": "stream",
          "name": "stdout",
          "text": [
            "Early stopping, best iteration is:\n",
            "[38]\tTrain's rmse: 0.19584\tTest's rmse: 0.103554\n",
            "Training until validation scores don't improve for 50 rounds.\n"
          ]
        },
        {
          "output_type": "stream",
          "name": "stderr",
          "text": [
            "\u001b[32m[I 2021-12-13 12:00:48,469]\u001b[0m Trial 57 finished with value: 0.10257879927524943 and parameters: {'lambda_l1': 0.008472834626628194, 'lambda_l2': 7.118460879024515e-05}. Best is trial 45 with value: 0.10230992139566727.\u001b[0m\n"
          ]
        },
        {
          "output_type": "stream",
          "name": "stdout",
          "text": [
            "Early stopping, best iteration is:\n",
            "[39]\tTrain's rmse: 0.189131\tTest's rmse: 0.102579\n",
            "Training until validation scores don't improve for 50 rounds.\n"
          ]
        },
        {
          "output_type": "stream",
          "name": "stderr",
          "text": [
            "\u001b[32m[I 2021-12-13 12:00:48,928]\u001b[0m Trial 58 finished with value: 0.10607333981121153 and parameters: {'lambda_l1': 0.26900146769083094, 'lambda_l2': 0.08102778728418951}. Best is trial 45 with value: 0.10230992139566727.\u001b[0m\n"
          ]
        },
        {
          "output_type": "stream",
          "name": "stdout",
          "text": [
            "Early stopping, best iteration is:\n",
            "[39]\tTrain's rmse: 0.19025\tTest's rmse: 0.106073\n",
            "Training until validation scores don't improve for 50 rounds.\n"
          ]
        },
        {
          "output_type": "stream",
          "name": "stderr",
          "text": [
            "\u001b[32m[I 2021-12-13 12:00:50,036]\u001b[0m Trial 59 finished with value: 0.10259437376822501 and parameters: {'lambda_l1': 0.0003189038103124595, 'lambda_l2': 0.00031029340069286073}. Best is trial 45 with value: 0.10230992139566727.\u001b[0m\n"
          ]
        },
        {
          "output_type": "stream",
          "name": "stdout",
          "text": [
            "Early stopping, best iteration is:\n",
            "[39]\tTrain's rmse: 0.189113\tTest's rmse: 0.102594\n",
            "Training until validation scores don't improve for 50 rounds.\n"
          ]
        },
        {
          "output_type": "stream",
          "name": "stderr",
          "text": [
            "\u001b[32m[I 2021-12-13 12:00:50,994]\u001b[0m Trial 60 finished with value: 0.08873015539286194 and parameters: {'min_child_samples': 10}. Best is trial 60 with value: 0.08873015539286194.\u001b[0m\n"
          ]
        },
        {
          "output_type": "stream",
          "name": "stdout",
          "text": [
            "Did not meet early stopping. Best iteration is:\n",
            "[99]\tTrain's rmse: 0.114017\tTest's rmse: 0.0887302\n",
            "Training until validation scores don't improve for 50 rounds.\n"
          ]
        },
        {
          "output_type": "stream",
          "name": "stderr",
          "text": [
            "\u001b[32m[I 2021-12-13 12:00:51,442]\u001b[0m Trial 61 finished with value: 0.2273109328832644 and parameters: {'min_child_samples': 100}. Best is trial 60 with value: 0.08873015539286194.\u001b[0m\n"
          ]
        },
        {
          "output_type": "stream",
          "name": "stdout",
          "text": [
            "Early stopping, best iteration is:\n",
            "[18]\tTrain's rmse: 0.357759\tTest's rmse: 0.227311\n",
            "Training until validation scores don't improve for 50 rounds.\n"
          ]
        },
        {
          "output_type": "stream",
          "name": "stderr",
          "text": [
            "\u001b[32m[I 2021-12-13 12:00:52,035]\u001b[0m Trial 62 finished with value: 0.1842425867338322 and parameters: {'min_child_samples': 50}. Best is trial 60 with value: 0.08873015539286194.\u001b[0m\n"
          ]
        },
        {
          "output_type": "stream",
          "name": "stdout",
          "text": [
            "Early stopping, best iteration is:\n",
            "[27]\tTrain's rmse: 0.284562\tTest's rmse: 0.184243\n",
            "Training until validation scores don't improve for 50 rounds.\n"
          ]
        },
        {
          "output_type": "stream",
          "name": "stderr",
          "text": [
            "\u001b[32m[I 2021-12-13 12:00:52,834]\u001b[0m Trial 63 finished with value: 0.12294944955861938 and parameters: {'min_child_samples': 5}. Best is trial 60 with value: 0.08873015539286194.\u001b[0m\n"
          ]
        },
        {
          "output_type": "stream",
          "name": "stdout",
          "text": [
            "Early stopping, best iteration is:\n",
            "[40]\tTrain's rmse: 0.127027\tTest's rmse: 0.122949\n",
            "Training until validation scores don't improve for 50 rounds.\n"
          ]
        },
        {
          "output_type": "stream",
          "name": "stderr",
          "text": [
            "\u001b[32m[I 2021-12-13 12:00:53,820]\u001b[0m Trial 64 finished with value: 0.10623369525212006 and parameters: {'min_child_samples': 25}. Best is trial 60 with value: 0.08873015539286194.\u001b[0m\n"
          ]
        },
        {
          "output_type": "stream",
          "name": "stdout",
          "text": [
            "Did not meet early stopping. Best iteration is:\n",
            "[98]\tTrain's rmse: 0.183454\tTest's rmse: 0.106234\n"
          ]
        },
        {
          "output_type": "display_data",
          "data": {
            "image/png": "[encoded data removed]",
            "text/plain": [
              "<Figure size 432x288 with 1 Axes>"
            ]
          },
          "metadata": {
            "needs_background": "light"
          }
        },
        {
          "output_type": "stream",
          "name": "stderr",
          "text": [
            "\u001b[32m[I 2021-12-13 12:00:54,042]\u001b[0m A new study created in memory with name: no-name-0c316055-70ca-46a1-a50c-6120aac539b1\u001b[0m\n"
          ]
        },
        {
          "output_type": "stream",
          "name": "stdout",
          "text": [
            "Training until validation scores don't improve for 50 rounds.\n"
          ]
        },
        {
          "output_type": "stream",
          "name": "stderr",
          "text": [
            "\u001b[32m[I 2021-12-13 12:00:54,464]\u001b[0m Trial 0 finished with value: 0.14160403736819202 and parameters: {'feature_fraction': 0.7}. Best is trial 0 with value: 0.14160403736819202.\u001b[0m\n"
          ]
        },
        {
          "output_type": "stream",
          "name": "stdout",
          "text": [
            "Did not meet early stopping. Best iteration is:\n",
            "[100]\tTrain's rmse: 0.129543\tTest's rmse: 0.141604\n",
            "Training until validation scores don't improve for 50 rounds.\n"
          ]
        },
        {
          "output_type": "stream",
          "name": "stderr",
          "text": [
            "\u001b[32m[I 2021-12-13 12:00:54,907]\u001b[0m Trial 1 finished with value: 0.14299614317024453 and parameters: {'feature_fraction': 0.8999999999999999}. Best is trial 0 with value: 0.14160403736819202.\u001b[0m\n"
          ]
        },
        {
          "output_type": "stream",
          "name": "stdout",
          "text": [
            "Did not meet early stopping. Best iteration is:\n",
            "[100]\tTrain's rmse: 0.142043\tTest's rmse: 0.142996\n",
            "Training until validation scores don't improve for 50 rounds.\n"
          ]
        },
        {
          "output_type": "stream",
          "name": "stderr",
          "text": [
            "\u001b[32m[I 2021-12-13 12:00:55,323]\u001b[0m Trial 2 finished with value: 0.13763968960310372 and parameters: {'feature_fraction': 0.8}. Best is trial 2 with value: 0.13763968960310372.\u001b[0m\n"
          ]
        },
        {
          "output_type": "stream",
          "name": "stdout",
          "text": [
            "Did not meet early stopping. Best iteration is:\n",
            "[100]\tTrain's rmse: 0.127177\tTest's rmse: 0.13764\n",
            "Training until validation scores don't improve for 50 rounds.\n"
          ]
        },
        {
          "output_type": "stream",
          "name": "stderr",
          "text": [
            "\u001b[32m[I 2021-12-13 12:00:55,702]\u001b[0m Trial 3 finished with value: 0.1464444573886836 and parameters: {'feature_fraction': 0.6}. Best is trial 2 with value: 0.13763968960310372.\u001b[0m\n"
          ]
        },
        {
          "output_type": "stream",
          "name": "stdout",
          "text": [
            "Did not meet early stopping. Best iteration is:\n",
            "[100]\tTrain's rmse: 0.12406\tTest's rmse: 0.146444\n",
            "Training until validation scores don't improve for 50 rounds.\n"
          ]
        },
        {
          "output_type": "stream",
          "name": "stderr",
          "text": [
            "\u001b[32m[I 2021-12-13 12:00:56,135]\u001b[0m Trial 4 finished with value: 0.14159464829708093 and parameters: {'feature_fraction': 1.0}. Best is trial 2 with value: 0.13763968960310372.\u001b[0m\n"
          ]
        },
        {
          "output_type": "stream",
          "name": "stdout",
          "text": [
            "Did not meet early stopping. Best iteration is:\n",
            "[100]\tTrain's rmse: 0.150049\tTest's rmse: 0.141595\n",
            "Training until validation scores don't improve for 50 rounds.\n"
          ]
        },
        {
          "output_type": "stream",
          "name": "stderr",
          "text": [
            "\u001b[32m[I 2021-12-13 12:00:56,441]\u001b[0m Trial 5 finished with value: 0.17690728708983564 and parameters: {'feature_fraction': 0.4}. Best is trial 2 with value: 0.13763968960310372.\u001b[0m\n"
          ]
        },
        {
          "output_type": "stream",
          "name": "stdout",
          "text": [
            "Did not meet early stopping. Best iteration is:\n",
            "[100]\tTrain's rmse: 0.143653\tTest's rmse: 0.176907\n",
            "Training until validation scores don't improve for 50 rounds.\n"
          ]
        },
        {
          "output_type": "stream",
          "name": "stderr",
          "text": [
            "\u001b[32m[I 2021-12-13 12:00:56,791]\u001b[0m Trial 6 finished with value: 0.1641673706474295 and parameters: {'feature_fraction': 0.5}. Best is trial 2 with value: 0.13763968960310372.\u001b[0m\n"
          ]
        },
        {
          "output_type": "stream",
          "name": "stdout",
          "text": [
            "Did not meet early stopping. Best iteration is:\n",
            "[100]\tTrain's rmse: 0.130235\tTest's rmse: 0.164167\n",
            "Training until validation scores don't improve for 50 rounds.\n"
          ]
        },
        {
          "output_type": "stream",
          "name": "stderr",
          "text": [
            "\u001b[32m[I 2021-12-13 12:00:57,653]\u001b[0m Trial 7 finished with value: 0.14614962964834 and parameters: {'num_leaves': 97}. Best is trial 7 with value: 0.14614962964834.\u001b[0m\n"
          ]
        },
        {
          "output_type": "stream",
          "name": "stdout",
          "text": [
            "Did not meet early stopping. Best iteration is:\n",
            "[100]\tTrain's rmse: 0.137626\tTest's rmse: 0.14615\n",
            "Training until validation scores don't improve for 50 rounds.\n"
          ]
        },
        {
          "output_type": "stream",
          "name": "stderr",
          "text": [
            "\u001b[32m[I 2021-12-13 12:00:59,302]\u001b[0m Trial 8 finished with value: 0.14706113149097402 and parameters: {'num_leaves': 244}. Best is trial 7 with value: 0.14614962964834.\u001b[0m\n"
          ]
        },
        {
          "output_type": "stream",
          "name": "stdout",
          "text": [
            "Did not meet early stopping. Best iteration is:\n",
            "[100]\tTrain's rmse: 0.133053\tTest's rmse: 0.147061\n",
            "Training until validation scores don't improve for 50 rounds.\n"
          ]
        },
        {
          "output_type": "stream",
          "name": "stderr",
          "text": [
            "\u001b[32m[I 2021-12-13 12:01:00,686]\u001b[0m Trial 9 finished with value: 0.14939299937100026 and parameters: {'num_leaves': 188}. Best is trial 7 with value: 0.14614962964834.\u001b[0m\n"
          ]
        },
        {
          "output_type": "stream",
          "name": "stdout",
          "text": [
            "Did not meet early stopping. Best iteration is:\n",
            "[100]\tTrain's rmse: 0.134946\tTest's rmse: 0.149393\n",
            "Training until validation scores don't improve for 50 rounds.\n"
          ]
        },
        {
          "output_type": "stream",
          "name": "stderr",
          "text": [
            "\u001b[32m[I 2021-12-13 12:01:01,888]\u001b[0m Trial 10 finished with value: 0.146289098365506 and parameters: {'num_leaves': 154}. Best is trial 7 with value: 0.14614962964834.\u001b[0m\n"
          ]
        },
        {
          "output_type": "stream",
          "name": "stdout",
          "text": [
            "Did not meet early stopping. Best iteration is:\n",
            "[100]\tTrain's rmse: 0.135779\tTest's rmse: 0.146289\n",
            "Training until validation scores don't improve for 50 rounds.\n"
          ]
        },
        {
          "output_type": "stream",
          "name": "stderr",
          "text": [
            "\u001b[32m[I 2021-12-13 12:01:02,383]\u001b[0m Trial 11 finished with value: 0.14065053527872637 and parameters: {'num_leaves': 41}. Best is trial 11 with value: 0.14065053527872637.\u001b[0m\n"
          ]
        },
        {
          "output_type": "stream",
          "name": "stdout",
          "text": [
            "Did not meet early stopping. Best iteration is:\n",
            "[100]\tTrain's rmse: 0.12654\tTest's rmse: 0.140651\n",
            "Training until validation scores don't improve for 50 rounds.\n"
          ]
        },
        {
          "output_type": "stream",
          "name": "stderr",
          "text": [
            "\u001b[32m[I 2021-12-13 12:01:02,940]\u001b[0m Trial 12 finished with value: 0.14065053527872637 and parameters: {'num_leaves': 41}. Best is trial 11 with value: 0.14065053527872637.\u001b[0m\n"
          ]
        },
        {
          "output_type": "stream",
          "name": "stdout",
          "text": [
            "Did not meet early stopping. Best iteration is:\n",
            "[100]\tTrain's rmse: 0.12654\tTest's rmse: 0.140651\n",
            "Training until validation scores don't improve for 50 rounds.\n"
          ]
        },
        {
          "output_type": "stream",
          "name": "stderr",
          "text": [
            "\u001b[32m[I 2021-12-13 12:01:03,231]\u001b[0m Trial 13 finished with value: 0.14476838642180187 and parameters: {'num_leaves': 16}. Best is trial 11 with value: 0.14065053527872637.\u001b[0m\n"
          ]
        },
        {
          "output_type": "stream",
          "name": "stdout",
          "text": [
            "Did not meet early stopping. Best iteration is:\n",
            "[100]\tTrain's rmse: 0.14045\tTest's rmse: 0.144768\n",
            "Training until validation scores don't improve for 50 rounds.\n"
          ]
        },
        {
          "output_type": "stream",
          "name": "stderr",
          "text": [
            "\u001b[32m[I 2021-12-13 12:01:04,842]\u001b[0m Trial 14 finished with value: 0.14876146518694702 and parameters: {'num_leaves': 222}. Best is trial 11 with value: 0.14065053527872637.\u001b[0m\n"
          ]
        },
        {
          "output_type": "stream",
          "name": "stdout",
          "text": [
            "Did not meet early stopping. Best iteration is:\n",
            "[100]\tTrain's rmse: 0.137615\tTest's rmse: 0.148761\n",
            "Training until validation scores don't improve for 50 rounds.\n"
          ]
        },
        {
          "output_type": "stream",
          "name": "stderr",
          "text": [
            "\u001b[32m[I 2021-12-13 12:01:06,089]\u001b[0m Trial 15 finished with value: 0.1445535591466425 and parameters: {'num_leaves': 155}. Best is trial 11 with value: 0.14065053527872637.\u001b[0m\n"
          ]
        },
        {
          "output_type": "stream",
          "name": "stdout",
          "text": [
            "Did not meet early stopping. Best iteration is:\n",
            "[100]\tTrain's rmse: 0.131944\tTest's rmse: 0.144554\n",
            "Training until validation scores don't improve for 50 rounds.\n"
          ]
        },
        {
          "output_type": "stream",
          "name": "stderr",
          "text": [
            "\u001b[32m[I 2021-12-13 12:01:07,456]\u001b[0m Trial 16 finished with value: 0.14777872855675184 and parameters: {'num_leaves': 182}. Best is trial 11 with value: 0.14065053527872637.\u001b[0m\n"
          ]
        },
        {
          "output_type": "stream",
          "name": "stdout",
          "text": [
            "Did not meet early stopping. Best iteration is:\n",
            "[100]\tTrain's rmse: 0.135152\tTest's rmse: 0.147779\n",
            "Training until validation scores don't improve for 50 rounds.\n"
          ]
        },
        {
          "output_type": "stream",
          "name": "stderr",
          "text": [
            "\u001b[32m[I 2021-12-13 12:01:08,205]\u001b[0m Trial 17 finished with value: 0.14012222891797416 and parameters: {'num_leaves': 81}. Best is trial 17 with value: 0.14012222891797416.\u001b[0m\n"
          ]
        },
        {
          "output_type": "stream",
          "name": "stdout",
          "text": [
            "Did not meet early stopping. Best iteration is:\n",
            "[100]\tTrain's rmse: 0.124884\tTest's rmse: 0.140122\n",
            "Training until validation scores don't improve for 50 rounds.\n"
          ]
        },
        {
          "output_type": "stream",
          "name": "stderr",
          "text": [
            "\u001b[32m[I 2021-12-13 12:01:08,943]\u001b[0m Trial 18 finished with value: 0.14556704123752193 and parameters: {'num_leaves': 79}. Best is trial 17 with value: 0.14012222891797416.\u001b[0m\n"
          ]
        },
        {
          "output_type": "stream",
          "name": "stdout",
          "text": [
            "Did not meet early stopping. Best iteration is:\n",
            "[100]\tTrain's rmse: 0.134086\tTest's rmse: 0.145567\n",
            "Training until validation scores don't improve for 50 rounds.\n"
          ]
        },
        {
          "output_type": "stream",
          "name": "stderr",
          "text": [
            "\u001b[32m[I 2021-12-13 12:01:09,623]\u001b[0m Trial 19 finished with value: 0.14706703599241797 and parameters: {'num_leaves': 70}. Best is trial 17 with value: 0.14012222891797416.\u001b[0m\n"
          ]
        },
        {
          "output_type": "stream",
          "name": "stdout",
          "text": [
            "Did not meet early stopping. Best iteration is:\n",
            "[100]\tTrain's rmse: 0.135463\tTest's rmse: 0.147067\n",
            "Training until validation scores don't improve for 50 rounds.\n"
          ]
        },
        {
          "output_type": "stream",
          "name": "stderr",
          "text": [
            "\u001b[32m[I 2021-12-13 12:01:09,829]\u001b[0m Trial 20 finished with value: 0.15353758612067148 and parameters: {'num_leaves': 6}. Best is trial 17 with value: 0.14012222891797416.\u001b[0m\n"
          ]
        },
        {
          "output_type": "stream",
          "name": "stdout",
          "text": [
            "Did not meet early stopping. Best iteration is:\n",
            "[100]\tTrain's rmse: 0.138955\tTest's rmse: 0.153538\n",
            "Training until validation scores don't improve for 50 rounds.\n"
          ]
        },
        {
          "output_type": "stream",
          "name": "stderr",
          "text": [
            "\u001b[32m[I 2021-12-13 12:01:10,763]\u001b[0m Trial 21 finished with value: 0.14618546647105143 and parameters: {'num_leaves': 112}. Best is trial 17 with value: 0.14012222891797416.\u001b[0m\n"
          ]
        },
        {
          "output_type": "stream",
          "name": "stdout",
          "text": [
            "Did not meet early stopping. Best iteration is:\n",
            "[100]\tTrain's rmse: 0.136408\tTest's rmse: 0.146185\n",
            "Training until validation scores don't improve for 50 rounds.\n"
          ]
        },
        {
          "output_type": "stream",
          "name": "stderr",
          "text": [
            "\u001b[32m[I 2021-12-13 12:01:11,319]\u001b[0m Trial 22 finished with value: 0.14469913956922162 and parameters: {'num_leaves': 46}. Best is trial 17 with value: 0.14012222891797416.\u001b[0m\n"
          ]
        },
        {
          "output_type": "stream",
          "name": "stdout",
          "text": [
            "Did not meet early stopping. Best iteration is:\n",
            "[100]\tTrain's rmse: 0.131961\tTest's rmse: 0.144699\n",
            "Training until validation scores don't improve for 50 rounds.\n"
          ]
        },
        {
          "output_type": "stream",
          "name": "stderr",
          "text": [
            "\u001b[32m[I 2021-12-13 12:01:11,915]\u001b[0m Trial 23 finished with value: 0.14420911121043276 and parameters: {'num_leaves': 53}. Best is trial 17 with value: 0.14012222891797416.\u001b[0m\n"
          ]
        },
        {
          "output_type": "stream",
          "name": "stdout",
          "text": [
            "Did not meet early stopping. Best iteration is:\n",
            "[100]\tTrain's rmse: 0.135351\tTest's rmse: 0.144209\n",
            "Training until validation scores don't improve for 50 rounds.\n"
          ]
        },
        {
          "output_type": "stream",
          "name": "stderr",
          "text": [
            "\u001b[32m[I 2021-12-13 12:01:12,897]\u001b[0m Trial 24 finished with value: 0.14501378502312992 and parameters: {'num_leaves': 119}. Best is trial 17 with value: 0.14012222891797416.\u001b[0m\n"
          ]
        },
        {
          "output_type": "stream",
          "name": "stdout",
          "text": [
            "Did not meet early stopping. Best iteration is:\n",
            "[100]\tTrain's rmse: 0.133957\tTest's rmse: 0.145014\n",
            "Training until validation scores don't improve for 50 rounds.\n"
          ]
        },
        {
          "output_type": "stream",
          "name": "stderr",
          "text": [
            "\u001b[32m[I 2021-12-13 12:01:13,722]\u001b[0m Trial 25 finished with value: 0.143775450201863 and parameters: {'num_leaves': 87}. Best is trial 17 with value: 0.14012222891797416.\u001b[0m\n"
          ]
        },
        {
          "output_type": "stream",
          "name": "stdout",
          "text": [
            "Did not meet early stopping. Best iteration is:\n",
            "[100]\tTrain's rmse: 0.135839\tTest's rmse: 0.143775\n",
            "Training until validation scores don't improve for 50 rounds.\n"
          ]
        },
        {
          "output_type": "stream",
          "name": "stderr",
          "text": [
            "\u001b[32m[I 2021-12-13 12:01:14,170]\u001b[0m Trial 26 finished with value: 0.13832982708742303 and parameters: {'num_leaves': 34}. Best is trial 26 with value: 0.13832982708742303.\u001b[0m\n"
          ]
        },
        {
          "output_type": "stream",
          "name": "stdout",
          "text": [
            "Did not meet early stopping. Best iteration is:\n",
            "[100]\tTrain's rmse: 0.126161\tTest's rmse: 0.13833\n",
            "Training until validation scores don't improve for 50 rounds.\n"
          ]
        },
        {
          "output_type": "stream",
          "name": "stderr",
          "text": [
            "\u001b[32m[I 2021-12-13 12:01:14,636]\u001b[0m Trial 27 finished with value: 0.16226752929682492 and parameters: {'bagging_fraction': 0.624724071308792, 'bagging_freq': 7}. Best is trial 27 with value: 0.16226752929682492.\u001b[0m\n"
          ]
        },
        {
          "output_type": "stream",
          "name": "stdout",
          "text": [
            "Did not meet early stopping. Best iteration is:\n",
            "[100]\tTrain's rmse: 0.164647\tTest's rmse: 0.162268\n",
            "Training until validation scores don't improve for 50 rounds.\n"
          ]
        },
        {
          "output_type": "stream",
          "name": "stderr",
          "text": [
            "\u001b[32m[I 2021-12-13 12:01:15,119]\u001b[0m Trial 28 finished with value: 0.1552106416180538 and parameters: {'bagging_fraction': 0.8391963650875751, 'bagging_freq': 5}. Best is trial 28 with value: 0.1552106416180538.\u001b[0m\n"
          ]
        },
        {
          "output_type": "stream",
          "name": "stdout",
          "text": [
            "Did not meet early stopping. Best iteration is:\n",
            "[100]\tTrain's rmse: 0.148494\tTest's rmse: 0.155211\n",
            "Training until validation scores don't improve for 50 rounds.\n"
          ]
        },
        {
          "output_type": "stream",
          "name": "stderr",
          "text": [
            "\u001b[32m[I 2021-12-13 12:01:15,595]\u001b[0m Trial 29 finished with value: 0.15845903629845082 and parameters: {'bagging_fraction': 0.49361118426561795, 'bagging_freq': 2}. Best is trial 28 with value: 0.1552106416180538.\u001b[0m\n"
          ]
        },
        {
          "output_type": "stream",
          "name": "stdout",
          "text": [
            "Did not meet early stopping. Best iteration is:\n",
            "[99]\tTrain's rmse: 0.175989\tTest's rmse: 0.158459\n",
            "Training until validation scores don't improve for 50 rounds.\n"
          ]
        },
        {
          "output_type": "stream",
          "name": "stderr",
          "text": [
            "\u001b[32m[I 2021-12-13 12:01:16,080]\u001b[0m Trial 30 finished with value: 0.15691365354991751 and parameters: {'bagging_fraction': 0.4348501673009778, 'bagging_freq': 7}. Best is trial 28 with value: 0.1552106416180538.\u001b[0m\n"
          ]
        },
        {
          "output_type": "stream",
          "name": "stdout",
          "text": [
            "Did not meet early stopping. Best iteration is:\n",
            "[98]\tTrain's rmse: 0.180075\tTest's rmse: 0.156914\n",
            "Training until validation scores don't improve for 50 rounds.\n"
          ]
        },
        {
          "output_type": "stream",
          "name": "stderr",
          "text": [
            "\u001b[32m[I 2021-12-13 12:01:16,534]\u001b[0m Trial 31 finished with value: 0.15373613644293688 and parameters: {'bagging_fraction': 0.7606690070465265, 'bagging_freq': 5}. Best is trial 31 with value: 0.15373613644293688.\u001b[0m\n"
          ]
        },
        {
          "output_type": "stream",
          "name": "stdout",
          "text": [
            "Did not meet early stopping. Best iteration is:\n",
            "[100]\tTrain's rmse: 0.160043\tTest's rmse: 0.153736\n",
            "Training until validation scores don't improve for 50 rounds.\n"
          ]
        },
        {
          "output_type": "stream",
          "name": "stderr",
          "text": [
            "\u001b[32m[I 2021-12-13 12:01:17,001]\u001b[0m Trial 32 finished with value: 0.15635099442471515 and parameters: {'bagging_fraction': 0.41235069657750206, 'bagging_freq': 7}. Best is trial 31 with value: 0.15373613644293688.\u001b[0m\n"
          ]
        },
        {
          "output_type": "stream",
          "name": "stdout",
          "text": [
            "Did not meet early stopping. Best iteration is:\n",
            "[100]\tTrain's rmse: 0.185681\tTest's rmse: 0.156351\n",
            "Training until validation scores don't improve for 50 rounds.\n"
          ]
        },
        {
          "output_type": "stream",
          "name": "stderr",
          "text": [
            "\u001b[32m[I 2021-12-13 12:01:17,496]\u001b[0m Trial 33 finished with value: 0.14630291366941414 and parameters: {'bagging_fraction': 0.8994655844810855, 'bagging_freq': 2}. Best is trial 33 with value: 0.14630291366941414.\u001b[0m\n"
          ]
        },
        {
          "output_type": "stream",
          "name": "stdout",
          "text": [
            "Did not meet early stopping. Best iteration is:\n",
            "[100]\tTrain's rmse: 0.140849\tTest's rmse: 0.146303\n",
            "Training until validation scores don't improve for 50 rounds.\n"
          ]
        },
        {
          "output_type": "stream",
          "name": "stderr",
          "text": [
            "\u001b[32m[I 2021-12-13 12:01:17,956]\u001b[0m Trial 34 finished with value: 0.15725794345822192 and parameters: {'bagging_fraction': 0.5090949803244422, 'bagging_freq': 2}. Best is trial 33 with value: 0.14630291366941414.\u001b[0m\n"
          ]
        },
        {
          "output_type": "stream",
          "name": "stdout",
          "text": [
            "Did not meet early stopping. Best iteration is:\n",
            "[98]\tTrain's rmse: 0.176469\tTest's rmse: 0.157258\n",
            "Training until validation scores don't improve for 50 rounds.\n"
          ]
        },
        {
          "output_type": "stream",
          "name": "stderr",
          "text": [
            "\u001b[32m[I 2021-12-13 12:01:18,437]\u001b[0m Trial 35 finished with value: 0.15612907508355875 and parameters: {'bagging_fraction': 0.5825453457760269, 'bagging_freq': 4}. Best is trial 33 with value: 0.14630291366941414.\u001b[0m\n"
          ]
        },
        {
          "output_type": "stream",
          "name": "stdout",
          "text": [
            "Did not meet early stopping. Best iteration is:\n",
            "[97]\tTrain's rmse: 0.170591\tTest's rmse: 0.156129\n",
            "Training until validation scores don't improve for 50 rounds.\n"
          ]
        },
        {
          "output_type": "stream",
          "name": "stderr",
          "text": [
            "\u001b[32m[I 2021-12-13 12:01:18,907]\u001b[0m Trial 36 finished with value: 0.15072951650532768 and parameters: {'bagging_fraction': 0.6591670111857015, 'bagging_freq': 3}. Best is trial 33 with value: 0.14630291366941414.\u001b[0m\n"
          ]
        },
        {
          "output_type": "stream",
          "name": "stdout",
          "text": [
            "Did not meet early stopping. Best iteration is:\n",
            "[99]\tTrain's rmse: 0.165719\tTest's rmse: 0.15073\n",
            "Training until validation scores don't improve for 50 rounds.\n"
          ]
        },
        {
          "output_type": "stream",
          "name": "stderr",
          "text": [
            "\u001b[32m[I 2021-12-13 12:01:19,363]\u001b[0m Trial 37 finished with value: 0.14160927380052102 and parameters: {'feature_fraction': 0.88}. Best is trial 37 with value: 0.14160927380052102.\u001b[0m\n"
          ]
        },
        {
          "output_type": "stream",
          "name": "stdout",
          "text": [
            "Did not meet early stopping. Best iteration is:\n",
            "[100]\tTrain's rmse: 0.142043\tTest's rmse: 0.141609\n",
            "Training until validation scores don't improve for 50 rounds.\n"
          ]
        },
        {
          "output_type": "stream",
          "name": "stderr",
          "text": [
            "\u001b[32m[I 2021-12-13 12:01:19,805]\u001b[0m Trial 38 finished with value: 0.14160927380052102 and parameters: {'feature_fraction': 0.8480000000000001}. Best is trial 37 with value: 0.14160927380052102.\u001b[0m\n"
          ]
        },
        {
          "output_type": "stream",
          "name": "stdout",
          "text": [
            "Did not meet early stopping. Best iteration is:\n",
            "[100]\tTrain's rmse: 0.142043\tTest's rmse: 0.141609\n",
            "Training until validation scores don't improve for 50 rounds.\n"
          ]
        },
        {
          "output_type": "stream",
          "name": "stderr",
          "text": [
            "\u001b[32m[I 2021-12-13 12:01:20,237]\u001b[0m Trial 39 finished with value: 0.14530508747993423 and parameters: {'feature_fraction': 0.784}. Best is trial 37 with value: 0.14160927380052102.\u001b[0m\n"
          ]
        },
        {
          "output_type": "stream",
          "name": "stdout",
          "text": [
            "Did not meet early stopping. Best iteration is:\n",
            "[100]\tTrain's rmse: 0.122963\tTest's rmse: 0.145305\n",
            "Training until validation scores don't improve for 50 rounds.\n"
          ]
        },
        {
          "output_type": "stream",
          "name": "stderr",
          "text": [
            "\u001b[32m[I 2021-12-13 12:01:20,683]\u001b[0m Trial 40 finished with value: 0.13763968960310372 and parameters: {'feature_fraction': 0.8160000000000001}. Best is trial 40 with value: 0.13763968960310372.\u001b[0m\n"
          ]
        },
        {
          "output_type": "stream",
          "name": "stdout",
          "text": [
            "Did not meet early stopping. Best iteration is:\n",
            "[100]\tTrain's rmse: 0.127177\tTest's rmse: 0.13764\n",
            "Training until validation scores don't improve for 50 rounds.\n"
          ]
        },
        {
          "output_type": "stream",
          "name": "stderr",
          "text": [
            "\u001b[32m[I 2021-12-13 12:01:21,126]\u001b[0m Trial 41 finished with value: 0.14530508747993423 and parameters: {'feature_fraction': 0.7520000000000001}. Best is trial 40 with value: 0.13763968960310372.\u001b[0m\n"
          ]
        },
        {
          "output_type": "stream",
          "name": "stdout",
          "text": [
            "Did not meet early stopping. Best iteration is:\n",
            "[100]\tTrain's rmse: 0.122963\tTest's rmse: 0.145305\n",
            "Training until validation scores don't improve for 50 rounds.\n"
          ]
        },
        {
          "output_type": "stream",
          "name": "stderr",
          "text": [
            "\u001b[32m[I 2021-12-13 12:01:21,528]\u001b[0m Trial 42 finished with value: 0.14160403736819202 and parameters: {'feature_fraction': 0.7200000000000001}. Best is trial 40 with value: 0.13763968960310372.\u001b[0m\n"
          ]
        },
        {
          "output_type": "stream",
          "name": "stdout",
          "text": [
            "Did not meet early stopping. Best iteration is:\n",
            "[100]\tTrain's rmse: 0.129543\tTest's rmse: 0.141604\n",
            "Training until validation scores don't improve for 50 rounds.\n"
          ]
        },
        {
          "output_type": "stream",
          "name": "stderr",
          "text": [
            "\u001b[32m[I 2021-12-13 12:01:21,943]\u001b[0m Trial 43 finished with value: 0.1478758667739091 and parameters: {'lambda_l1': 2.348881295853308e-05, 'lambda_l2': 3.6010467344475403}. Best is trial 43 with value: 0.1478758667739091.\u001b[0m\n"
          ]
        },
        {
          "output_type": "stream",
          "name": "stdout",
          "text": [
            "Did not meet early stopping. Best iteration is:\n",
            "[100]\tTrain's rmse: 0.130558\tTest's rmse: 0.147876\n",
            "Training until validation scores don't improve for 50 rounds.\n"
          ]
        },
        {
          "output_type": "stream",
          "name": "stderr",
          "text": [
            "\u001b[32m[I 2021-12-13 12:01:22,373]\u001b[0m Trial 44 finished with value: 0.14067312491110337 and parameters: {'lambda_l1': 0.038720902953704193, 'lambda_l2': 0.0024430162614261413}. Best is trial 44 with value: 0.14067312491110337.\u001b[0m\n"
          ]
        },
        {
          "output_type": "stream",
          "name": "stdout",
          "text": [
            "Did not meet early stopping. Best iteration is:\n",
            "[100]\tTrain's rmse: 0.134606\tTest's rmse: 0.140673\n",
            "Training until validation scores don't improve for 50 rounds.\n"
          ]
        },
        {
          "output_type": "stream",
          "name": "stderr",
          "text": [
            "\u001b[32m[I 2021-12-13 12:01:22,792]\u001b[0m Trial 45 finished with value: 0.13763969009090646 and parameters: {'lambda_l1': 2.5361081166471375e-07, 'lambda_l2': 2.5348407664333426e-07}. Best is trial 45 with value: 0.13763969009090646.\u001b[0m\n"
          ]
        },
        {
          "output_type": "stream",
          "name": "stdout",
          "text": [
            "Did not meet early stopping. Best iteration is:\n",
            "[100]\tTrain's rmse: 0.127177\tTest's rmse: 0.13764\n",
            "Training until validation scores don't improve for 50 rounds.\n"
          ]
        },
        {
          "output_type": "stream",
          "name": "stderr",
          "text": [
            "\u001b[32m[I 2021-12-13 12:01:23,221]\u001b[0m Trial 46 finished with value: 0.14310207461736954 and parameters: {'lambda_l1': 3.3323645788192616e-08, 'lambda_l2': 0.6245760287469893}. Best is trial 45 with value: 0.13763969009090646.\u001b[0m\n"
          ]
        },
        {
          "output_type": "stream",
          "name": "stdout",
          "text": [
            "Did not meet early stopping. Best iteration is:\n",
            "[100]\tTrain's rmse: 0.122952\tTest's rmse: 0.143102\n",
            "Training until validation scores don't improve for 50 rounds.\n"
          ]
        },
        {
          "output_type": "stream",
          "name": "stderr",
          "text": [
            "\u001b[32m[I 2021-12-13 12:01:23,627]\u001b[0m Trial 47 finished with value: 0.1383996826164627 and parameters: {'lambda_l1': 0.002570603566117598, 'lambda_l2': 0.023585940584142682}. Best is trial 45 with value: 0.13763969009090646.\u001b[0m\n"
          ]
        },
        {
          "output_type": "stream",
          "name": "stdout",
          "text": [
            "Did not meet early stopping. Best iteration is:\n",
            "[100]\tTrain's rmse: 0.132229\tTest's rmse: 0.1384\n",
            "Training until validation scores don't improve for 50 rounds.\n"
          ]
        },
        {
          "output_type": "stream",
          "name": "stderr",
          "text": [
            "\u001b[32m[I 2021-12-13 12:01:24,058]\u001b[0m Trial 48 finished with value: 0.15521999156583083 and parameters: {'lambda_l1': 1.5320059381854043e-08, 'lambda_l2': 5.360294728728285}. Best is trial 45 with value: 0.13763969009090646.\u001b[0m\n"
          ]
        },
        {
          "output_type": "stream",
          "name": "stdout",
          "text": [
            "Did not meet early stopping. Best iteration is:\n",
            "[100]\tTrain's rmse: 0.13153\tTest's rmse: 0.15522\n",
            "Training until validation scores don't improve for 50 rounds.\n"
          ]
        },
        {
          "output_type": "stream",
          "name": "stderr",
          "text": [
            "\u001b[32m[I 2021-12-13 12:01:24,481]\u001b[0m Trial 49 finished with value: 0.14077517495953606 and parameters: {'lambda_l1': 0.31044435499483225, 'lambda_l2': 8.148018307012941e-07}. Best is trial 45 with value: 0.13763969009090646.\u001b[0m\n"
          ]
        },
        {
          "output_type": "stream",
          "name": "stdout",
          "text": [
            "Did not meet early stopping. Best iteration is:\n",
            "[100]\tTrain's rmse: 0.129208\tTest's rmse: 0.140775\n",
            "Training until validation scores don't improve for 50 rounds.\n"
          ]
        },
        {
          "output_type": "stream",
          "name": "stderr",
          "text": [
            "\u001b[32m[I 2021-12-13 12:01:24,894]\u001b[0m Trial 50 finished with value: 0.1376396903773751 and parameters: {'lambda_l1': 4.329370014459266e-07, 'lambda_l2': 4.4734294104626844e-07}. Best is trial 45 with value: 0.13763969009090646.\u001b[0m\n"
          ]
        },
        {
          "output_type": "stream",
          "name": "stdout",
          "text": [
            "Did not meet early stopping. Best iteration is:\n",
            "[100]\tTrain's rmse: 0.127177\tTest's rmse: 0.13764\n",
            "Training until validation scores don't improve for 50 rounds.\n"
          ]
        },
        {
          "output_type": "stream",
          "name": "stderr",
          "text": [
            "\u001b[32m[I 2021-12-13 12:01:25,335]\u001b[0m Trial 51 finished with value: 0.13763990546778318 and parameters: {'lambda_l1': 5.472429642032198e-06, 'lambda_l2': 0.00052821153945323}. Best is trial 45 with value: 0.13763969009090646.\u001b[0m\n"
          ]
        },
        {
          "output_type": "stream",
          "name": "stdout",
          "text": [
            "Did not meet early stopping. Best iteration is:\n",
            "[100]\tTrain's rmse: 0.127178\tTest's rmse: 0.13764\n",
            "Training until validation scores don't improve for 50 rounds.\n"
          ]
        },
        {
          "output_type": "stream",
          "name": "stderr",
          "text": [
            "\u001b[32m[I 2021-12-13 12:01:25,746]\u001b[0m Trial 52 finished with value: 0.1412904490048807 and parameters: {'lambda_l1': 7.71800699380605e-05, 'lambda_l2': 4.17890272377219e-06}. Best is trial 45 with value: 0.13763969009090646.\u001b[0m\n"
          ]
        },
        {
          "output_type": "stream",
          "name": "stdout",
          "text": [
            "Did not meet early stopping. Best iteration is:\n",
            "[100]\tTrain's rmse: 0.130267\tTest's rmse: 0.14129\n",
            "Training until validation scores don't improve for 50 rounds.\n"
          ]
        },
        {
          "output_type": "stream",
          "name": "stderr",
          "text": [
            "\u001b[32m[I 2021-12-13 12:01:26,125]\u001b[0m Trial 53 finished with value: 0.15231019703008647 and parameters: {'lambda_l1': 3.207959657544482, 'lambda_l2': 1.1323342574941946e-08}. Best is trial 45 with value: 0.13763969009090646.\u001b[0m\n"
          ]
        },
        {
          "output_type": "stream",
          "name": "stdout",
          "text": [
            "Did not meet early stopping. Best iteration is:\n",
            "[100]\tTrain's rmse: 0.129522\tTest's rmse: 0.15231\n",
            "Training until validation scores don't improve for 50 rounds.\n"
          ]
        },
        {
          "output_type": "stream",
          "name": "stderr",
          "text": [
            "\u001b[32m[I 2021-12-13 12:01:26,556]\u001b[0m Trial 54 finished with value: 0.13763969174607077 and parameters: {'lambda_l1': 8.739208840790941e-07, 'lambda_l2': 1.99371629285331e-06}. Best is trial 45 with value: 0.13763969009090646.\u001b[0m\n"
          ]
        },
        {
          "output_type": "stream",
          "name": "stdout",
          "text": [
            "Did not meet early stopping. Best iteration is:\n",
            "[100]\tTrain's rmse: 0.127177\tTest's rmse: 0.13764\n",
            "Training until validation scores don't improve for 50 rounds.\n"
          ]
        },
        {
          "output_type": "stream",
          "name": "stderr",
          "text": [
            "\u001b[32m[I 2021-12-13 12:01:26,968]\u001b[0m Trial 55 finished with value: 0.13763969017293448 and parameters: {'lambda_l1': 3.2956792945849545e-07, 'lambda_l2': 2.2311398834761413e-08}. Best is trial 45 with value: 0.13763969009090646.\u001b[0m\n"
          ]
        },
        {
          "output_type": "stream",
          "name": "stdout",
          "text": [
            "Did not meet early stopping. Best iteration is:\n",
            "[100]\tTrain's rmse: 0.127177\tTest's rmse: 0.13764\n",
            "Training until validation scores don't improve for 50 rounds.\n"
          ]
        },
        {
          "output_type": "stream",
          "name": "stderr",
          "text": [
            "\u001b[32m[I 2021-12-13 12:01:27,400]\u001b[0m Trial 56 finished with value: 0.14202393242398065 and parameters: {'lambda_l1': 0.0008421907750901968, 'lambda_l2': 1.2702524155028834e-08}. Best is trial 45 with value: 0.13763969009090646.\u001b[0m\n"
          ]
        },
        {
          "output_type": "stream",
          "name": "stdout",
          "text": [
            "Did not meet early stopping. Best iteration is:\n",
            "[100]\tTrain's rmse: 0.132518\tTest's rmse: 0.142024\n",
            "Training until validation scores don't improve for 50 rounds.\n"
          ]
        },
        {
          "output_type": "stream",
          "name": "stderr",
          "text": [
            "\u001b[32m[I 2021-12-13 12:01:27,834]\u001b[0m Trial 57 finished with value: 0.1376397001747369 and parameters: {'lambda_l1': 3.447615183683311e-07, 'lambda_l2': 2.6087844118276602e-05}. Best is trial 45 with value: 0.13763969009090646.\u001b[0m\n"
          ]
        },
        {
          "output_type": "stream",
          "name": "stdout",
          "text": [
            "Did not meet early stopping. Best iteration is:\n",
            "[100]\tTrain's rmse: 0.127177\tTest's rmse: 0.13764\n",
            "Training until validation scores don't improve for 50 rounds.\n"
          ]
        },
        {
          "output_type": "stream",
          "name": "stderr",
          "text": [
            "\u001b[32m[I 2021-12-13 12:01:28,267]\u001b[0m Trial 58 finished with value: 0.1376396973693814 and parameters: {'lambda_l1': 4.895525573655169e-06, 'lambda_l2': 1.3153049473274364e-07}. Best is trial 45 with value: 0.13763969009090646.\u001b[0m\n"
          ]
        },
        {
          "output_type": "stream",
          "name": "stdout",
          "text": [
            "Did not meet early stopping. Best iteration is:\n",
            "[100]\tTrain's rmse: 0.127177\tTest's rmse: 0.13764\n",
            "Training until validation scores don't improve for 50 rounds.\n"
          ]
        },
        {
          "output_type": "stream",
          "name": "stderr",
          "text": [
            "\u001b[32m[I 2021-12-13 12:01:28,691]\u001b[0m Trial 59 finished with value: 0.13763970377968732 and parameters: {'lambda_l1': 8.888685965689552e-08, 'lambda_l2': 3.59424753355417e-05}. Best is trial 45 with value: 0.13763969009090646.\u001b[0m\n"
          ]
        },
        {
          "output_type": "stream",
          "name": "stdout",
          "text": [
            "Did not meet early stopping. Best iteration is:\n",
            "[100]\tTrain's rmse: 0.127177\tTest's rmse: 0.13764\n",
            "Training until validation scores don't improve for 50 rounds.\n"
          ]
        },
        {
          "output_type": "stream",
          "name": "stderr",
          "text": [
            "\u001b[32m[I 2021-12-13 12:01:29,114]\u001b[0m Trial 60 finished with value: 0.14095820543866258 and parameters: {'lambda_l1': 0.00013207817698280088, 'lambda_l2': 6.182028633393764e-08}. Best is trial 45 with value: 0.13763969009090646.\u001b[0m\n"
          ]
        },
        {
          "output_type": "stream",
          "name": "stdout",
          "text": [
            "Did not meet early stopping. Best iteration is:\n",
            "[100]\tTrain's rmse: 0.130061\tTest's rmse: 0.140958\n",
            "Training until validation scores don't improve for 50 rounds.\n"
          ]
        },
        {
          "output_type": "stream",
          "name": "stderr",
          "text": [
            "\u001b[32m[I 2021-12-13 12:01:29,543]\u001b[0m Trial 61 finished with value: 0.1376397284112358 and parameters: {'lambda_l1': 4.976594151195463e-06, 'lambda_l2': 7.918734875085908e-05}. Best is trial 45 with value: 0.13763969009090646.\u001b[0m\n"
          ]
        },
        {
          "output_type": "stream",
          "name": "stdout",
          "text": [
            "Did not meet early stopping. Best iteration is:\n",
            "[100]\tTrain's rmse: 0.127177\tTest's rmse: 0.13764\n",
            "Training until validation scores don't improve for 50 rounds.\n"
          ]
        },
        {
          "output_type": "stream",
          "name": "stderr",
          "text": [
            "\u001b[32m[I 2021-12-13 12:01:29,959]\u001b[0m Trial 62 finished with value: 0.14004760186302204 and parameters: {'lambda_l1': 0.0057550268638067925, 'lambda_l2': 8.059918212278755e-08}. Best is trial 45 with value: 0.13763969009090646.\u001b[0m\n"
          ]
        },
        {
          "output_type": "stream",
          "name": "stdout",
          "text": [
            "Did not meet early stopping. Best iteration is:\n",
            "[100]\tTrain's rmse: 0.126847\tTest's rmse: 0.140048\n",
            "Training until validation scores don't improve for 50 rounds.\n"
          ]
        },
        {
          "output_type": "stream",
          "name": "stderr",
          "text": [
            "\u001b[32m[I 2021-12-13 12:01:30,408]\u001b[0m Trial 63 finished with value: 0.15329487627631488 and parameters: {'min_child_samples': 25}. Best is trial 63 with value: 0.15329487627631488.\u001b[0m\n"
          ]
        },
        {
          "output_type": "stream",
          "name": "stdout",
          "text": [
            "Did not meet early stopping. Best iteration is:\n",
            "[100]\tTrain's rmse: 0.14296\tTest's rmse: 0.153295\n",
            "Training until validation scores don't improve for 50 rounds.\n"
          ]
        },
        {
          "output_type": "stream",
          "name": "stderr",
          "text": [
            "\u001b[32m[I 2021-12-13 12:01:30,827]\u001b[0m Trial 64 finished with value: 0.1959963274823885 and parameters: {'min_child_samples': 100}. Best is trial 63 with value: 0.15329487627631488.\u001b[0m\n"
          ]
        },
        {
          "output_type": "stream",
          "name": "stdout",
          "text": [
            "Did not meet early stopping. Best iteration is:\n",
            "[100]\tTrain's rmse: 0.282545\tTest's rmse: 0.195996\n",
            "Training until validation scores don't improve for 50 rounds.\n"
          ]
        },
        {
          "output_type": "stream",
          "name": "stderr",
          "text": [
            "\u001b[32m[I 2021-12-13 12:01:31,200]\u001b[0m Trial 65 finished with value: 0.15136536608243906 and parameters: {'min_child_samples': 5}. Best is trial 65 with value: 0.15136536608243906.\u001b[0m\n"
          ]
        },
        {
          "output_type": "stream",
          "name": "stdout",
          "text": [
            "Early stopping, best iteration is:\n",
            "[44]\tTrain's rmse: 0.0696555\tTest's rmse: 0.151365\n",
            "Training until validation scores don't improve for 50 rounds.\n"
          ]
        },
        {
          "output_type": "stream",
          "name": "stderr",
          "text": [
            "\u001b[32m[I 2021-12-13 12:01:31,634]\u001b[0m Trial 66 finished with value: 0.1769357356314001 and parameters: {'min_child_samples': 50}. Best is trial 65 with value: 0.15136536608243906.\u001b[0m\n"
          ]
        },
        {
          "output_type": "stream",
          "name": "stdout",
          "text": [
            "Did not meet early stopping. Best iteration is:\n",
            "[100]\tTrain's rmse: 0.229073\tTest's rmse: 0.176936\n",
            "Training until validation scores don't improve for 50 rounds.\n"
          ]
        },
        {
          "output_type": "stream",
          "name": "stderr",
          "text": [
            "\u001b[32m[I 2021-12-13 12:01:32,053]\u001b[0m Trial 67 finished with value: 0.15330044238468538 and parameters: {'min_child_samples': 10}. Best is trial 65 with value: 0.15136536608243906.\u001b[0m\n"
          ]
        },
        {
          "output_type": "stream",
          "name": "stdout",
          "text": [
            "Did not meet early stopping. Best iteration is:\n",
            "[100]\tTrain's rmse: 0.0672151\tTest's rmse: 0.1533\n"
          ]
        },
        {
          "output_type": "display_data",
          "data": {
            "image/png": "[encoded data removed]",
            "text/plain": [
              "<Figure size 432x288 with 1 Axes>"
            ]
          },
          "metadata": {
            "needs_background": "light"
          }
        },
        {
          "output_type": "stream",
          "name": "stderr",
          "text": [
            "\u001b[32m[I 2021-12-13 12:01:32,265]\u001b[0m A new study created in memory with name: no-name-ded81f20-95e4-49a5-9b92-f6e754636162\u001b[0m\n"
          ]
        },
        {
          "output_type": "stream",
          "name": "stdout",
          "text": [
            "Training until validation scores don't improve for 50 rounds.\n"
          ]
        },
        {
          "output_type": "stream",
          "name": "stderr",
          "text": [
            "\u001b[32m[I 2021-12-13 12:01:32,691]\u001b[0m Trial 0 finished with value: 0.03695359888733015 and parameters: {'feature_fraction': 0.8999999999999999}. Best is trial 0 with value: 0.03695359888733015.\u001b[0m\n"
          ]
        },
        {
          "output_type": "stream",
          "name": "stdout",
          "text": [
            "Early stopping, best iteration is:\n",
            "[44]\tTrain's rmse: 0.167775\tTest's rmse: 0.0369536\n",
            "Training until validation scores don't improve for 50 rounds.\n"
          ]
        },
        {
          "output_type": "stream",
          "name": "stderr",
          "text": [
            "\u001b[32m[I 2021-12-13 12:01:33,099]\u001b[0m Trial 1 finished with value: 0.022023373500889048 and parameters: {'feature_fraction': 1.0}. Best is trial 1 with value: 0.022023373500889048.\u001b[0m\n"
          ]
        },
        {
          "output_type": "stream",
          "name": "stdout",
          "text": [
            "Early stopping, best iteration is:\n",
            "[42]\tTrain's rmse: 0.171115\tTest's rmse: 0.0220234\n",
            "Training until validation scores don't improve for 50 rounds.\n"
          ]
        },
        {
          "output_type": "stream",
          "name": "stderr",
          "text": [
            "\u001b[32m[I 2021-12-13 12:01:33,477]\u001b[0m Trial 2 finished with value: 0.09047713157500001 and parameters: {'feature_fraction': 0.6}. Best is trial 1 with value: 0.022023373500889048.\u001b[0m\n"
          ]
        },
        {
          "output_type": "stream",
          "name": "stdout",
          "text": [
            "Did not meet early stopping. Best iteration is:\n",
            "[100]\tTrain's rmse: 0.134338\tTest's rmse: 0.0904771\n",
            "Training until validation scores don't improve for 50 rounds.\n"
          ]
        },
        {
          "output_type": "stream",
          "name": "stderr",
          "text": [
            "\u001b[32m[I 2021-12-13 12:01:33,822]\u001b[0m Trial 3 finished with value: 0.10127172897964562 and parameters: {'feature_fraction': 0.5}. Best is trial 1 with value: 0.022023373500889048.\u001b[0m\n"
          ]
        },
        {
          "output_type": "stream",
          "name": "stdout",
          "text": [
            "Did not meet early stopping. Best iteration is:\n",
            "[100]\tTrain's rmse: 0.135755\tTest's rmse: 0.101272\n",
            "Training until validation scores don't improve for 50 rounds.\n"
          ]
        },
        {
          "output_type": "stream",
          "name": "stderr",
          "text": [
            "\u001b[32m[I 2021-12-13 12:01:34,237]\u001b[0m Trial 4 finished with value: 0.05711482323434281 and parameters: {'feature_fraction': 0.8}. Best is trial 1 with value: 0.022023373500889048.\u001b[0m\n"
          ]
        },
        {
          "output_type": "stream",
          "name": "stdout",
          "text": [
            "Did not meet early stopping. Best iteration is:\n",
            "[100]\tTrain's rmse: 0.130676\tTest's rmse: 0.0571148\n",
            "Training until validation scores don't improve for 50 rounds.\n"
          ]
        },
        {
          "output_type": "stream",
          "name": "stderr",
          "text": [
            "\u001b[32m[I 2021-12-13 12:01:34,596]\u001b[0m Trial 5 finished with value: 0.105967076609913 and parameters: {'feature_fraction': 0.4}. Best is trial 1 with value: 0.022023373500889048.\u001b[0m\n"
          ]
        },
        {
          "output_type": "stream",
          "name": "stdout",
          "text": [
            "Did not meet early stopping. Best iteration is:\n",
            "[100]\tTrain's rmse: 0.139716\tTest's rmse: 0.105967\n",
            "Training until validation scores don't improve for 50 rounds.\n"
          ]
        },
        {
          "output_type": "stream",
          "name": "stderr",
          "text": [
            "\u001b[32m[I 2021-12-13 12:01:34,983]\u001b[0m Trial 6 finished with value: 0.07127204462101794 and parameters: {'feature_fraction': 0.7}. Best is trial 1 with value: 0.022023373500889048.\u001b[0m\n"
          ]
        },
        {
          "output_type": "stream",
          "name": "stdout",
          "text": [
            "Did not meet early stopping. Best iteration is:\n",
            "[100]\tTrain's rmse: 0.127681\tTest's rmse: 0.071272\n",
            "Training until validation scores don't improve for 50 rounds.\n"
          ]
        },
        {
          "output_type": "stream",
          "name": "stderr",
          "text": [
            "\u001b[32m[I 2021-12-13 12:01:35,807]\u001b[0m Trial 7 finished with value: 0.021458228126645506 and parameters: {'num_leaves': 97}. Best is trial 7 with value: 0.021458228126645506.\u001b[0m\n"
          ]
        },
        {
          "output_type": "stream",
          "name": "stdout",
          "text": [
            "Early stopping, best iteration is:\n",
            "[43]\tTrain's rmse: 0.171715\tTest's rmse: 0.0214582\n",
            "Training until validation scores don't improve for 50 rounds.\n"
          ]
        },
        {
          "output_type": "stream",
          "name": "stderr",
          "text": [
            "\u001b[32m[I 2021-12-13 12:01:37,380]\u001b[0m Trial 8 finished with value: 0.02151589335465682 and parameters: {'num_leaves': 244}. Best is trial 7 with value: 0.021458228126645506.\u001b[0m\n"
          ]
        },
        {
          "output_type": "stream",
          "name": "stdout",
          "text": [
            "Early stopping, best iteration is:\n",
            "[44]\tTrain's rmse: 0.171535\tTest's rmse: 0.0215159\n",
            "Training until validation scores don't improve for 50 rounds.\n"
          ]
        },
        {
          "output_type": "stream",
          "name": "stderr",
          "text": [
            "\u001b[32m[I 2021-12-13 12:01:38,733]\u001b[0m Trial 9 finished with value: 0.021600662770029026 and parameters: {'num_leaves': 188}. Best is trial 7 with value: 0.021458228126645506.\u001b[0m\n"
          ]
        },
        {
          "output_type": "stream",
          "name": "stdout",
          "text": [
            "Early stopping, best iteration is:\n",
            "[47]\tTrain's rmse: 0.170526\tTest's rmse: 0.0216007\n",
            "Training until validation scores don't improve for 50 rounds.\n"
          ]
        },
        {
          "output_type": "stream",
          "name": "stderr",
          "text": [
            "\u001b[32m[I 2021-12-13 12:01:39,867]\u001b[0m Trial 10 finished with value: 0.021568773424831458 and parameters: {'num_leaves': 154}. Best is trial 7 with value: 0.021458228126645506.\u001b[0m\n"
          ]
        },
        {
          "output_type": "stream",
          "name": "stdout",
          "text": [
            "Early stopping, best iteration is:\n",
            "[44]\tTrain's rmse: 0.171425\tTest's rmse: 0.0215688\n",
            "Training until validation scores don't improve for 50 rounds.\n"
          ]
        },
        {
          "output_type": "stream",
          "name": "stderr",
          "text": [
            "\u001b[32m[I 2021-12-13 12:01:40,347]\u001b[0m Trial 11 finished with value: 0.021285827474809366 and parameters: {'num_leaves': 41}. Best is trial 11 with value: 0.021285827474809366.\u001b[0m\n"
          ]
        },
        {
          "output_type": "stream",
          "name": "stdout",
          "text": [
            "Early stopping, best iteration is:\n",
            "[43]\tTrain's rmse: 0.170905\tTest's rmse: 0.0212858\n",
            "Training until validation scores don't improve for 50 rounds.\n"
          ]
        },
        {
          "output_type": "stream",
          "name": "stderr",
          "text": [
            "\u001b[32m[I 2021-12-13 12:01:40,835]\u001b[0m Trial 12 finished with value: 0.021285827474809366 and parameters: {'num_leaves': 41}. Best is trial 11 with value: 0.021285827474809366.\u001b[0m\n"
          ]
        },
        {
          "output_type": "stream",
          "name": "stdout",
          "text": [
            "Early stopping, best iteration is:\n",
            "[43]\tTrain's rmse: 0.170905\tTest's rmse: 0.0212858\n",
            "Training until validation scores don't improve for 50 rounds.\n"
          ]
        },
        {
          "output_type": "stream",
          "name": "stderr",
          "text": [
            "\u001b[32m[I 2021-12-13 12:01:41,127]\u001b[0m Trial 13 finished with value: 0.01964588250250433 and parameters: {'num_leaves': 16}. Best is trial 13 with value: 0.01964588250250433.\u001b[0m\n"
          ]
        },
        {
          "output_type": "stream",
          "name": "stdout",
          "text": [
            "Early stopping, best iteration is:\n",
            "[45]\tTrain's rmse: 0.173795\tTest's rmse: 0.0196459\n",
            "Training until validation scores don't improve for 50 rounds.\n"
          ]
        },
        {
          "output_type": "stream",
          "name": "stderr",
          "text": [
            "\u001b[32m[I 2021-12-13 12:01:42,616]\u001b[0m Trial 14 finished with value: 0.021605477635390075 and parameters: {'num_leaves': 222}. Best is trial 13 with value: 0.01964588250250433.\u001b[0m\n"
          ]
        },
        {
          "output_type": "stream",
          "name": "stdout",
          "text": [
            "Early stopping, best iteration is:\n",
            "[47]\tTrain's rmse: 0.170525\tTest's rmse: 0.0216055\n",
            "Training until validation scores don't improve for 50 rounds.\n"
          ]
        },
        {
          "output_type": "stream",
          "name": "stderr",
          "text": [
            "\u001b[32m[I 2021-12-13 12:01:43,750]\u001b[0m Trial 15 finished with value: 0.02155395504331001 and parameters: {'num_leaves': 155}. Best is trial 13 with value: 0.01964588250250433.\u001b[0m\n"
          ]
        },
        {
          "output_type": "stream",
          "name": "stdout",
          "text": [
            "Early stopping, best iteration is:\n",
            "[44]\tTrain's rmse: 0.171425\tTest's rmse: 0.021554\n",
            "Training until validation scores don't improve for 50 rounds.\n"
          ]
        },
        {
          "output_type": "stream",
          "name": "stderr",
          "text": [
            "\u001b[32m[I 2021-12-13 12:01:45,022]\u001b[0m Trial 16 finished with value: 0.021508341861408067 and parameters: {'num_leaves': 182}. Best is trial 13 with value: 0.01964588250250433.\u001b[0m\n"
          ]
        },
        {
          "output_type": "stream",
          "name": "stdout",
          "text": [
            "Early stopping, best iteration is:\n",
            "[44]\tTrain's rmse: 0.171537\tTest's rmse: 0.0215083\n",
            "Training until validation scores don't improve for 50 rounds.\n"
          ]
        },
        {
          "output_type": "stream",
          "name": "stderr",
          "text": [
            "\u001b[32m[I 2021-12-13 12:01:45,240]\u001b[0m Trial 17 finished with value: 0.020768112337638416 and parameters: {'num_leaves': 7}. Best is trial 13 with value: 0.01964588250250433.\u001b[0m\n",
            "\u001b[32m[I 2021-12-13 12:01:45,377]\u001b[0m Trial 18 finished with value: 0.04647933587001448 and parameters: {'num_leaves': 2}. Best is trial 13 with value: 0.01964588250250433.\u001b[0m\n"
          ]
        },
        {
          "output_type": "stream",
          "name": "stdout",
          "text": [
            "Early stopping, best iteration is:\n",
            "[49]\tTrain's rmse: 0.174285\tTest's rmse: 0.0207681\n",
            "Training until validation scores don't improve for 50 rounds.\n",
            "Did not meet early stopping. Best iteration is:\n",
            "[100]\tTrain's rmse: 0.209583\tTest's rmse: 0.0464793\n",
            "Training until validation scores don't improve for 50 rounds.\n"
          ]
        },
        {
          "output_type": "stream",
          "name": "stderr",
          "text": [
            "\u001b[32m[I 2021-12-13 12:01:46,156]\u001b[0m Trial 19 finished with value: 0.021542787293398896 and parameters: {'num_leaves': 88}. Best is trial 13 with value: 0.01964588250250433.\u001b[0m\n",
            "\u001b[32m[I 2021-12-13 12:01:46,313]\u001b[0m Trial 20 finished with value: 0.04089268823335639 and parameters: {'num_leaves': 3}. Best is trial 13 with value: 0.01964588250250433.\u001b[0m\n"
          ]
        },
        {
          "output_type": "stream",
          "name": "stdout",
          "text": [
            "Early stopping, best iteration is:\n",
            "[43]\tTrain's rmse: 0.171719\tTest's rmse: 0.0215428\n",
            "Training until validation scores don't improve for 50 rounds.\n",
            "Did not meet early stopping. Best iteration is:\n",
            "[100]\tTrain's rmse: 0.196137\tTest's rmse: 0.0408927\n",
            "Training until validation scores don't improve for 50 rounds.\n"
          ]
        },
        {
          "output_type": "stream",
          "name": "stderr",
          "text": [
            "\u001b[32m[I 2021-12-13 12:01:46,865]\u001b[0m Trial 21 finished with value: 0.021449155886468597 and parameters: {'num_leaves': 47}. Best is trial 13 with value: 0.01964588250250433.\u001b[0m\n"
          ]
        },
        {
          "output_type": "stream",
          "name": "stdout",
          "text": [
            "Early stopping, best iteration is:\n",
            "[45]\tTrain's rmse: 0.169929\tTest's rmse: 0.0214492\n",
            "Training until validation scores don't improve for 50 rounds.\n"
          ]
        },
        {
          "output_type": "stream",
          "name": "stderr",
          "text": [
            "\u001b[32m[I 2021-12-13 12:01:47,583]\u001b[0m Trial 22 finished with value: 0.021605644654172345 and parameters: {'num_leaves': 83}. Best is trial 13 with value: 0.01964588250250433.\u001b[0m\n"
          ]
        },
        {
          "output_type": "stream",
          "name": "stdout",
          "text": [
            "Early stopping, best iteration is:\n",
            "[42]\tTrain's rmse: 0.172302\tTest's rmse: 0.0216056\n",
            "Training until validation scores don't improve for 50 rounds.\n"
          ]
        },
        {
          "output_type": "stream",
          "name": "stderr",
          "text": [
            "\u001b[32m[I 2021-12-13 12:01:48,226]\u001b[0m Trial 23 finished with value: 0.02171196738921194 and parameters: {'num_leaves': 59}. Best is trial 13 with value: 0.01964588250250433.\u001b[0m\n"
          ]
        },
        {
          "output_type": "stream",
          "name": "stdout",
          "text": [
            "Early stopping, best iteration is:\n",
            "[47]\tTrain's rmse: 0.170187\tTest's rmse: 0.021712\n",
            "Training until validation scores don't improve for 50 rounds.\n"
          ]
        },
        {
          "output_type": "stream",
          "name": "stderr",
          "text": [
            "\u001b[32m[I 2021-12-13 12:01:48,537]\u001b[0m Trial 24 finished with value: 0.020360677588349838 and parameters: {'num_leaves': 19}. Best is trial 13 with value: 0.01964588250250433.\u001b[0m\n"
          ]
        },
        {
          "output_type": "stream",
          "name": "stdout",
          "text": [
            "Early stopping, best iteration is:\n",
            "[44]\tTrain's rmse: 0.167578\tTest's rmse: 0.0203607\n",
            "Training until validation scores don't improve for 50 rounds.\n"
          ]
        },
        {
          "output_type": "stream",
          "name": "stderr",
          "text": [
            "\u001b[32m[I 2021-12-13 12:01:49,481]\u001b[0m Trial 25 finished with value: 0.02164196616728896 and parameters: {'num_leaves': 114}. Best is trial 13 with value: 0.01964588250250433.\u001b[0m\n"
          ]
        },
        {
          "output_type": "stream",
          "name": "stdout",
          "text": [
            "Early stopping, best iteration is:\n",
            "[43]\tTrain's rmse: 0.171964\tTest's rmse: 0.021642\n",
            "Training until validation scores don't improve for 50 rounds.\n"
          ]
        },
        {
          "output_type": "stream",
          "name": "stderr",
          "text": [
            "\u001b[32m[I 2021-12-13 12:01:50,101]\u001b[0m Trial 26 finished with value: 0.021722179301192215 and parameters: {'num_leaves': 61}. Best is trial 13 with value: 0.01964588250250433.\u001b[0m\n"
          ]
        },
        {
          "output_type": "stream",
          "name": "stdout",
          "text": [
            "Early stopping, best iteration is:\n",
            "[42]\tTrain's rmse: 0.172147\tTest's rmse: 0.0217222\n",
            "Training until validation scores don't improve for 50 rounds.\n"
          ]
        },
        {
          "output_type": "stream",
          "name": "stderr",
          "text": [
            "\u001b[32m[I 2021-12-13 12:01:50,410]\u001b[0m Trial 27 finished with value: 0.03738717269491655 and parameters: {'bagging_fraction': 0.624724071308792, 'bagging_freq': 7}. Best is trial 27 with value: 0.03738717269491655.\u001b[0m\n"
          ]
        },
        {
          "output_type": "stream",
          "name": "stdout",
          "text": [
            "Early stopping, best iteration is:\n",
            "[42]\tTrain's rmse: 0.198159\tTest's rmse: 0.0373872\n",
            "Training until validation scores don't improve for 50 rounds.\n"
          ]
        },
        {
          "output_type": "stream",
          "name": "stderr",
          "text": [
            "\u001b[32m[I 2021-12-13 12:01:50,769]\u001b[0m Trial 28 finished with value: 0.0299120346401286 and parameters: {'bagging_fraction': 0.8391963650875751, 'bagging_freq': 5}. Best is trial 28 with value: 0.0299120346401286.\u001b[0m\n"
          ]
        },
        {
          "output_type": "stream",
          "name": "stdout",
          "text": [
            "Did not meet early stopping. Best iteration is:\n",
            "[100]\tTrain's rmse: 0.170941\tTest's rmse: 0.029912\n",
            "Training until validation scores don't improve for 50 rounds.\n"
          ]
        },
        {
          "output_type": "stream",
          "name": "stderr",
          "text": [
            "\u001b[32m[I 2021-12-13 12:01:51,123]\u001b[0m Trial 29 finished with value: 0.02580107985438507 and parameters: {'bagging_fraction': 0.49361118426561795, 'bagging_freq': 2}. Best is trial 29 with value: 0.02580107985438507.\u001b[0m\n"
          ]
        },
        {
          "output_type": "stream",
          "name": "stdout",
          "text": [
            "Did not meet early stopping. Best iteration is:\n",
            "[100]\tTrain's rmse: 0.182706\tTest's rmse: 0.0258011\n",
            "Training until validation scores don't improve for 50 rounds.\n"
          ]
        },
        {
          "output_type": "stream",
          "name": "stderr",
          "text": [
            "\u001b[32m[I 2021-12-13 12:01:51,455]\u001b[0m Trial 30 finished with value: 0.024128954159694956 and parameters: {'bagging_fraction': 0.4348501673009778, 'bagging_freq': 7}. Best is trial 30 with value: 0.024128954159694956.\u001b[0m\n"
          ]
        },
        {
          "output_type": "stream",
          "name": "stdout",
          "text": [
            "Did not meet early stopping. Best iteration is:\n",
            "[100]\tTrain's rmse: 0.184783\tTest's rmse: 0.024129\n",
            "Training until validation scores don't improve for 50 rounds.\n"
          ]
        },
        {
          "output_type": "stream",
          "name": "stderr",
          "text": [
            "\u001b[32m[I 2021-12-13 12:01:51,812]\u001b[0m Trial 31 finished with value: 0.03046807718831291 and parameters: {'bagging_fraction': 0.7606690070465265, 'bagging_freq': 5}. Best is trial 30 with value: 0.024128954159694956.\u001b[0m\n"
          ]
        },
        {
          "output_type": "stream",
          "name": "stdout",
          "text": [
            "Did not meet early stopping. Best iteration is:\n",
            "[100]\tTrain's rmse: 0.182903\tTest's rmse: 0.0304681\n",
            "Training until validation scores don't improve for 50 rounds.\n"
          ]
        },
        {
          "output_type": "stream",
          "name": "stderr",
          "text": [
            "\u001b[32m[I 2021-12-13 12:01:52,161]\u001b[0m Trial 32 finished with value: 0.031065908017735365 and parameters: {'bagging_fraction': 0.41235069657750206, 'bagging_freq': 7}. Best is trial 30 with value: 0.024128954159694956.\u001b[0m\n"
          ]
        },
        {
          "output_type": "stream",
          "name": "stdout",
          "text": [
            "Did not meet early stopping. Best iteration is:\n",
            "[100]\tTrain's rmse: 0.189593\tTest's rmse: 0.0310659\n",
            "Training until validation scores don't improve for 50 rounds.\n"
          ]
        },
        {
          "output_type": "stream",
          "name": "stderr",
          "text": [
            "\u001b[32m[I 2021-12-13 12:01:52,523]\u001b[0m Trial 33 finished with value: 0.021020552454870396 and parameters: {'bagging_fraction': 0.8994655844810855, 'bagging_freq': 2}. Best is trial 33 with value: 0.021020552454870396.\u001b[0m\n"
          ]
        },
        {
          "output_type": "stream",
          "name": "stdout",
          "text": [
            "Early stopping, best iteration is:\n",
            "[48]\tTrain's rmse: 0.179022\tTest's rmse: 0.0210206\n",
            "Training until validation scores don't improve for 50 rounds.\n"
          ]
        },
        {
          "output_type": "stream",
          "name": "stderr",
          "text": [
            "\u001b[32m[I 2021-12-13 12:01:52,856]\u001b[0m Trial 34 finished with value: 0.031670588500563625 and parameters: {'bagging_fraction': 0.5090949803244422, 'bagging_freq': 2}. Best is trial 33 with value: 0.021020552454870396.\u001b[0m\n"
          ]
        },
        {
          "output_type": "stream",
          "name": "stdout",
          "text": [
            "Did not meet early stopping. Best iteration is:\n",
            "[99]\tTrain's rmse: 0.181132\tTest's rmse: 0.0316706\n",
            "Training until validation scores don't improve for 50 rounds.\n"
          ]
        },
        {
          "output_type": "stream",
          "name": "stderr",
          "text": [
            "\u001b[32m[I 2021-12-13 12:01:53,221]\u001b[0m Trial 35 finished with value: 0.0317214981178914 and parameters: {'bagging_fraction': 0.5825453457760269, 'bagging_freq': 4}. Best is trial 33 with value: 0.021020552454870396.\u001b[0m\n"
          ]
        },
        {
          "output_type": "stream",
          "name": "stdout",
          "text": [
            "Did not meet early stopping. Best iteration is:\n",
            "[100]\tTrain's rmse: 0.18153\tTest's rmse: 0.0317215\n",
            "Training until validation scores don't improve for 50 rounds.\n"
          ]
        },
        {
          "output_type": "stream",
          "name": "stderr",
          "text": [
            "\u001b[32m[I 2021-12-13 12:01:53,557]\u001b[0m Trial 36 finished with value: 0.03127724617955233 and parameters: {'bagging_fraction': 0.6591670111857015, 'bagging_freq': 3}. Best is trial 33 with value: 0.021020552454870396.\u001b[0m\n"
          ]
        },
        {
          "output_type": "stream",
          "name": "stdout",
          "text": [
            "Did not meet early stopping. Best iteration is:\n",
            "[100]\tTrain's rmse: 0.178\tTest's rmse: 0.0312772\n",
            "Training until validation scores don't improve for 50 rounds.\n"
          ]
        },
        {
          "output_type": "stream",
          "name": "stderr",
          "text": [
            "\u001b[32m[I 2021-12-13 12:01:53,857]\u001b[0m Trial 37 finished with value: 0.033550505549685944 and parameters: {'feature_fraction': 0.9840000000000001}. Best is trial 37 with value: 0.033550505549685944.\u001b[0m\n"
          ]
        },
        {
          "output_type": "stream",
          "name": "stdout",
          "text": [
            "Early stopping, best iteration is:\n",
            "[47]\tTrain's rmse: 0.167037\tTest's rmse: 0.0335505\n",
            "Training until validation scores don't improve for 50 rounds.\n"
          ]
        },
        {
          "output_type": "stream",
          "name": "stderr",
          "text": [
            "\u001b[32m[I 2021-12-13 12:01:54,173]\u001b[0m Trial 38 finished with value: 0.039859513635538156 and parameters: {'feature_fraction': 0.92}. Best is trial 37 with value: 0.033550505549685944.\u001b[0m\n"
          ]
        },
        {
          "output_type": "stream",
          "name": "stdout",
          "text": [
            "Did not meet early stopping. Best iteration is:\n",
            "[100]\tTrain's rmse: 0.142909\tTest's rmse: 0.0398595\n",
            "Training until validation scores don't improve for 50 rounds.\n"
          ]
        },
        {
          "output_type": "stream",
          "name": "stderr",
          "text": [
            "\u001b[32m[I 2021-12-13 12:01:54,469]\u001b[0m Trial 39 finished with value: 0.033550505549685944 and parameters: {'feature_fraction': 0.9520000000000001}. Best is trial 37 with value: 0.033550505549685944.\u001b[0m\n"
          ]
        },
        {
          "output_type": "stream",
          "name": "stdout",
          "text": [
            "Early stopping, best iteration is:\n",
            "[47]\tTrain's rmse: 0.167037\tTest's rmse: 0.0335505\n",
            "Training until validation scores don't improve for 50 rounds.\n"
          ]
        },
        {
          "output_type": "stream",
          "name": "stderr",
          "text": [
            "\u001b[32m[I 2021-12-13 12:01:54,769]\u001b[0m Trial 40 finished with value: 0.026988311094487124 and parameters: {'lambda_l1': 2.348881295853308e-05, 'lambda_l2': 3.6010467344475403}. Best is trial 40 with value: 0.026988311094487124.\u001b[0m\n"
          ]
        },
        {
          "output_type": "stream",
          "name": "stdout",
          "text": [
            "Did not meet early stopping. Best iteration is:\n",
            "[100]\tTrain's rmse: 0.151796\tTest's rmse: 0.0269883\n",
            "Training until validation scores don't improve for 50 rounds.\n"
          ]
        },
        {
          "output_type": "stream",
          "name": "stderr",
          "text": [
            "\u001b[32m[I 2021-12-13 12:01:55,065]\u001b[0m Trial 41 finished with value: 0.01957742976387724 and parameters: {'lambda_l1': 0.038720902953704193, 'lambda_l2': 0.0024430162614261413}. Best is trial 41 with value: 0.01957742976387724.\u001b[0m\n"
          ]
        },
        {
          "output_type": "stream",
          "name": "stdout",
          "text": [
            "Early stopping, best iteration is:\n",
            "[43]\tTrain's rmse: 0.16989\tTest's rmse: 0.0195774\n",
            "Training until validation scores don't improve for 50 rounds.\n"
          ]
        },
        {
          "output_type": "stream",
          "name": "stderr",
          "text": [
            "\u001b[32m[I 2021-12-13 12:01:55,374]\u001b[0m Trial 42 finished with value: 0.01964588267015898 and parameters: {'lambda_l1': 2.5361081166471375e-07, 'lambda_l2': 2.5348407664333426e-07}. Best is trial 41 with value: 0.01957742976387724.\u001b[0m\n"
          ]
        },
        {
          "output_type": "stream",
          "name": "stdout",
          "text": [
            "Early stopping, best iteration is:\n",
            "[45]\tTrain's rmse: 0.173795\tTest's rmse: 0.0196459\n",
            "Training until validation scores don't improve for 50 rounds.\n"
          ]
        },
        {
          "output_type": "stream",
          "name": "stderr",
          "text": [
            "\u001b[32m[I 2021-12-13 12:01:55,646]\u001b[0m Trial 43 finished with value: 0.020929741769547792 and parameters: {'lambda_l1': 3.3323645788192616e-08, 'lambda_l2': 0.6245760287469893}. Best is trial 41 with value: 0.01957742976387724.\u001b[0m\n"
          ]
        },
        {
          "output_type": "stream",
          "name": "stdout",
          "text": [
            "Early stopping, best iteration is:\n",
            "[42]\tTrain's rmse: 0.171205\tTest's rmse: 0.0209297\n",
            "Training until validation scores don't improve for 50 rounds.\n"
          ]
        },
        {
          "output_type": "stream",
          "name": "stderr",
          "text": [
            "\u001b[32m[I 2021-12-13 12:01:55,930]\u001b[0m Trial 44 finished with value: 0.02109288402228784 and parameters: {'lambda_l1': 0.002570603566117598, 'lambda_l2': 0.023585940584142682}. Best is trial 41 with value: 0.01957742976387724.\u001b[0m\n"
          ]
        },
        {
          "output_type": "stream",
          "name": "stdout",
          "text": [
            "Early stopping, best iteration is:\n",
            "[41]\tTrain's rmse: 0.17214\tTest's rmse: 0.0210929\n",
            "Training until validation scores don't improve for 50 rounds.\n"
          ]
        },
        {
          "output_type": "stream",
          "name": "stderr",
          "text": [
            "\u001b[32m[I 2021-12-13 12:01:56,243]\u001b[0m Trial 45 finished with value: 0.026170512258721496 and parameters: {'lambda_l1': 1.5320059381854043e-08, 'lambda_l2': 5.360294728728285}. Best is trial 41 with value: 0.01957742976387724.\u001b[0m\n"
          ]
        },
        {
          "output_type": "stream",
          "name": "stdout",
          "text": [
            "Did not meet early stopping. Best iteration is:\n",
            "[100]\tTrain's rmse: 0.15283\tTest's rmse: 0.0261705\n",
            "Training until validation scores don't improve for 50 rounds.\n"
          ]
        },
        {
          "output_type": "stream",
          "name": "stderr",
          "text": [
            "\u001b[32m[I 2021-12-13 12:01:56,523]\u001b[0m Trial 46 finished with value: 0.020755154092645934 and parameters: {'lambda_l1': 0.31044435499483225, 'lambda_l2': 8.148018307012941e-07}. Best is trial 41 with value: 0.01957742976387724.\u001b[0m\n"
          ]
        },
        {
          "output_type": "stream",
          "name": "stdout",
          "text": [
            "Early stopping, best iteration is:\n",
            "[44]\tTrain's rmse: 0.171588\tTest's rmse: 0.0207552\n",
            "Training until validation scores don't improve for 50 rounds.\n"
          ]
        },
        {
          "output_type": "stream",
          "name": "stderr",
          "text": [
            "\u001b[32m[I 2021-12-13 12:01:56,820]\u001b[0m Trial 47 finished with value: 0.01964588278086277 and parameters: {'lambda_l1': 4.329370014459266e-07, 'lambda_l2': 4.4734294104626844e-07}. Best is trial 41 with value: 0.01957742976387724.\u001b[0m\n"
          ]
        },
        {
          "output_type": "stream",
          "name": "stdout",
          "text": [
            "Early stopping, best iteration is:\n",
            "[45]\tTrain's rmse: 0.173795\tTest's rmse: 0.0196459\n",
            "Training until validation scores don't improve for 50 rounds.\n"
          ]
        },
        {
          "output_type": "stream",
          "name": "stderr",
          "text": [
            "\u001b[32m[I 2021-12-13 12:01:57,129]\u001b[0m Trial 48 finished with value: 0.019645894819603327 and parameters: {'lambda_l1': 5.472429642032198e-06, 'lambda_l2': 0.00052821153945323}. Best is trial 41 with value: 0.01957742976387724.\u001b[0m\n"
          ]
        },
        {
          "output_type": "stream",
          "name": "stdout",
          "text": [
            "Early stopping, best iteration is:\n",
            "[45]\tTrain's rmse: 0.173795\tTest's rmse: 0.0196459\n",
            "Training until validation scores don't improve for 50 rounds.\n"
          ]
        },
        {
          "output_type": "stream",
          "name": "stderr",
          "text": [
            "\u001b[32m[I 2021-12-13 12:01:57,421]\u001b[0m Trial 49 finished with value: 0.01964592069663114 and parameters: {'lambda_l1': 7.71800699380605e-05, 'lambda_l2': 4.17890272377219e-06}. Best is trial 41 with value: 0.01957742976387724.\u001b[0m\n"
          ]
        },
        {
          "output_type": "stream",
          "name": "stdout",
          "text": [
            "Early stopping, best iteration is:\n",
            "[45]\tTrain's rmse: 0.173795\tTest's rmse: 0.0196459\n",
            "Training until validation scores don't improve for 50 rounds.\n"
          ]
        },
        {
          "output_type": "stream",
          "name": "stderr",
          "text": [
            "\u001b[32m[I 2021-12-13 12:01:57,703]\u001b[0m Trial 50 finished with value: 0.027165234668499315 and parameters: {'lambda_l1': 5.402896923508629, 'lambda_l2': 0.00018194741639177489}. Best is trial 41 with value: 0.01957742976387724.\u001b[0m\n"
          ]
        },
        {
          "output_type": "stream",
          "name": "stdout",
          "text": [
            "Did not meet early stopping. Best iteration is:\n",
            "[100]\tTrain's rmse: 0.139738\tTest's rmse: 0.0271652\n",
            "Training until validation scores don't improve for 50 rounds.\n"
          ]
        },
        {
          "output_type": "stream",
          "name": "stderr",
          "text": [
            "\u001b[32m[I 2021-12-13 12:01:58,021]\u001b[0m Trial 51 finished with value: 0.0198970876151906 and parameters: {'lambda_l1': 0.006742720353084154, 'lambda_l2': 1.2434696409427858e-08}. Best is trial 41 with value: 0.01957742976387724.\u001b[0m\n"
          ]
        },
        {
          "output_type": "stream",
          "name": "stdout",
          "text": [
            "Early stopping, best iteration is:\n",
            "[45]\tTrain's rmse: 0.173165\tTest's rmse: 0.0198971\n",
            "Training until validation scores don't improve for 50 rounds.\n"
          ]
        },
        {
          "output_type": "stream",
          "name": "stderr",
          "text": [
            "\u001b[32m[I 2021-12-13 12:01:58,307]\u001b[0m Trial 52 finished with value: 0.020318235922957756 and parameters: {'lambda_l1': 0.03666033149805631, 'lambda_l2': 0.001190230579501886}. Best is trial 41 with value: 0.01957742976387724.\u001b[0m\n"
          ]
        },
        {
          "output_type": "stream",
          "name": "stdout",
          "text": [
            "Early stopping, best iteration is:\n",
            "[44]\tTrain's rmse: 0.168726\tTest's rmse: 0.0203182\n",
            "Training until validation scores don't improve for 50 rounds.\n"
          ]
        },
        {
          "output_type": "stream",
          "name": "stderr",
          "text": [
            "\u001b[32m[I 2021-12-13 12:01:58,602]\u001b[0m Trial 53 finished with value: 0.019895811112392088 and parameters: {'lambda_l1': 0.0008421907750901968, 'lambda_l2': 3.404677878190547e-05}. Best is trial 41 with value: 0.01957742976387724.\u001b[0m\n"
          ]
        },
        {
          "output_type": "stream",
          "name": "stdout",
          "text": [
            "Early stopping, best iteration is:\n",
            "[45]\tTrain's rmse: 0.173156\tTest's rmse: 0.0198958\n",
            "Training until validation scores don't improve for 50 rounds.\n"
          ]
        },
        {
          "output_type": "stream",
          "name": "stderr",
          "text": [
            "\u001b[32m[I 2021-12-13 12:01:58,893]\u001b[0m Trial 54 finished with value: 0.020727141675191005 and parameters: {'lambda_l1': 2.236019245174549e-06, 'lambda_l2': 0.044223173270844754}. Best is trial 41 with value: 0.01957742976387724.\u001b[0m\n"
          ]
        },
        {
          "output_type": "stream",
          "name": "stdout",
          "text": [
            "Early stopping, best iteration is:\n",
            "[43]\tTrain's rmse: 0.169687\tTest's rmse: 0.0207271\n",
            "Training until validation scores don't improve for 50 rounds.\n"
          ]
        },
        {
          "output_type": "stream",
          "name": "stderr",
          "text": [
            "\u001b[32m[I 2021-12-13 12:01:59,175]\u001b[0m Trial 55 finished with value: 0.02132406381798077 and parameters: {'lambda_l1': 0.2992697206188339, 'lambda_l2': 1.4569041111599704e-08}. Best is trial 41 with value: 0.01957742976387724.\u001b[0m\n"
          ]
        },
        {
          "output_type": "stream",
          "name": "stdout",
          "text": [
            "Early stopping, best iteration is:\n",
            "[44]\tTrain's rmse: 0.16841\tTest's rmse: 0.0213241\n",
            "Training until validation scores don't improve for 50 rounds.\n"
          ]
        },
        {
          "output_type": "stream",
          "name": "stderr",
          "text": [
            "\u001b[32m[I 2021-12-13 12:01:59,471]\u001b[0m Trial 56 finished with value: 0.01977313509986161 and parameters: {'lambda_l1': 3.031520278727039e-07, 'lambda_l2': 0.010939608734528681}. Best is trial 41 with value: 0.01957742976387724.\u001b[0m\n"
          ]
        },
        {
          "output_type": "stream",
          "name": "stdout",
          "text": [
            "Early stopping, best iteration is:\n",
            "[45]\tTrain's rmse: 0.173138\tTest's rmse: 0.0197731\n",
            "Training until validation scores don't improve for 50 rounds.\n"
          ]
        },
        {
          "output_type": "stream",
          "name": "stderr",
          "text": [
            "\u001b[32m[I 2021-12-13 12:01:59,761]\u001b[0m Trial 57 finished with value: 0.019645971650440835 and parameters: {'lambda_l1': 0.00017964951948595568, 'lambda_l2': 2.44444031921085e-05}. Best is trial 41 with value: 0.01957742976387724.\u001b[0m\n"
          ]
        },
        {
          "output_type": "stream",
          "name": "stdout",
          "text": [
            "Early stopping, best iteration is:\n",
            "[45]\tTrain's rmse: 0.173795\tTest's rmse: 0.019646\n",
            "Training until validation scores don't improve for 50 rounds.\n"
          ]
        },
        {
          "output_type": "stream",
          "name": "stderr",
          "text": [
            "\u001b[32m[I 2021-12-13 12:02:00,076]\u001b[0m Trial 58 finished with value: 0.02035409611771826 and parameters: {'lambda_l1': 0.020087954390907665, 'lambda_l2': 2.5408716217151766e-07}. Best is trial 41 with value: 0.01957742976387724.\u001b[0m\n"
          ]
        },
        {
          "output_type": "stream",
          "name": "stdout",
          "text": [
            "Early stopping, best iteration is:\n",
            "[43]\tTrain's rmse: 0.170587\tTest's rmse: 0.0203541\n",
            "Training until validation scores don't improve for 50 rounds.\n"
          ]
        },
        {
          "output_type": "stream",
          "name": "stderr",
          "text": [
            "\u001b[32m[I 2021-12-13 12:02:00,346]\u001b[0m Trial 59 finished with value: 0.021371688619532356 and parameters: {'lambda_l1': 0.252450628010636, 'lambda_l2': 0.0033921454183425564}. Best is trial 41 with value: 0.01957742976387724.\u001b[0m\n"
          ]
        },
        {
          "output_type": "stream",
          "name": "stdout",
          "text": [
            "Early stopping, best iteration is:\n",
            "[46]\tTrain's rmse: 0.168612\tTest's rmse: 0.0213717\n",
            "Training until validation scores don't improve for 50 rounds.\n"
          ]
        },
        {
          "output_type": "stream",
          "name": "stderr",
          "text": [
            "\u001b[32m[I 2021-12-13 12:02:00,665]\u001b[0m Trial 60 finished with value: 0.025479067481501878 and parameters: {'min_child_samples': 25}. Best is trial 60 with value: 0.025479067481501878.\u001b[0m\n"
          ]
        },
        {
          "output_type": "stream",
          "name": "stdout",
          "text": [
            "Did not meet early stopping. Best iteration is:\n",
            "[100]\tTrain's rmse: 0.171197\tTest's rmse: 0.0254791\n",
            "Training until validation scores don't improve for 50 rounds.\n"
          ]
        },
        {
          "output_type": "stream",
          "name": "stderr",
          "text": [
            "\u001b[32m[I 2021-12-13 12:02:00,938]\u001b[0m Trial 61 finished with value: 0.028663669255843547 and parameters: {'min_child_samples': 10}. Best is trial 60 with value: 0.025479067481501878.\u001b[0m\n"
          ]
        },
        {
          "output_type": "stream",
          "name": "stdout",
          "text": [
            "Early stopping, best iteration is:\n",
            "[40]\tTrain's rmse: 0.110873\tTest's rmse: 0.0286637\n",
            "Training until validation scores don't improve for 50 rounds.\n"
          ]
        },
        {
          "output_type": "stream",
          "name": "stderr",
          "text": [
            "\u001b[32m[I 2021-12-13 12:02:01,253]\u001b[0m Trial 62 finished with value: 0.08413231311973987 and parameters: {'min_child_samples': 100}. Best is trial 60 with value: 0.025479067481501878.\u001b[0m\n"
          ]
        },
        {
          "output_type": "stream",
          "name": "stdout",
          "text": [
            "Did not meet early stopping. Best iteration is:\n",
            "[100]\tTrain's rmse: 0.29479\tTest's rmse: 0.0841323\n",
            "Training until validation scores don't improve for 50 rounds.\n"
          ]
        },
        {
          "output_type": "stream",
          "name": "stderr",
          "text": [
            "\u001b[32m[I 2021-12-13 12:02:01,504]\u001b[0m Trial 63 finished with value: 0.030003483436000726 and parameters: {'min_child_samples': 5}. Best is trial 60 with value: 0.025479067481501878.\u001b[0m\n"
          ]
        },
        {
          "output_type": "stream",
          "name": "stdout",
          "text": [
            "Early stopping, best iteration is:\n",
            "[38]\tTrain's rmse: 0.0636493\tTest's rmse: 0.0300035\n",
            "Training until validation scores don't improve for 50 rounds.\n"
          ]
        },
        {
          "output_type": "stream",
          "name": "stderr",
          "text": [
            "\u001b[32m[I 2021-12-13 12:02:01,793]\u001b[0m Trial 64 finished with value: 0.055352892172707 and parameters: {'min_child_samples': 50}. Best is trial 60 with value: 0.025479067481501878.\u001b[0m\n"
          ]
        },
        {
          "output_type": "stream",
          "name": "stdout",
          "text": [
            "Early stopping, best iteration is:\n",
            "[39]\tTrain's rmse: 0.259273\tTest's rmse: 0.0553529\n"
          ]
        },
        {
          "output_type": "display_data",
          "data": {
            "image/png": "[encoded data removed]",
            "text/plain": [
              "<Figure size 432x288 with 1 Axes>"
            ]
          },
          "metadata": {
            "needs_background": "light"
          }
        },
        {
          "output_type": "stream",
          "name": "stderr",
          "text": [
            "\u001b[32m[I 2021-12-13 12:02:01,977]\u001b[0m A new study created in memory with name: no-name-165e1b5e-306c-4788-bdf3-fdc379c31d5c\u001b[0m\n"
          ]
        },
        {
          "output_type": "stream",
          "name": "stdout",
          "text": [
            "Training until validation scores don't improve for 50 rounds.\n"
          ]
        },
        {
          "output_type": "stream",
          "name": "stderr",
          "text": [
            "\u001b[32m[I 2021-12-13 12:02:02,409]\u001b[0m Trial 0 finished with value: 0.39429631239948043 and parameters: {'feature_fraction': 0.7}. Best is trial 0 with value: 0.39429631239948043.\u001b[0m\n"
          ]
        },
        {
          "output_type": "stream",
          "name": "stdout",
          "text": [
            "Did not meet early stopping. Best iteration is:\n",
            "[100]\tTrain's rmse: 0.121089\tTest's rmse: 0.394296\n",
            "Training until validation scores don't improve for 50 rounds.\n"
          ]
        },
        {
          "output_type": "stream",
          "name": "stderr",
          "text": [
            "\u001b[32m[I 2021-12-13 12:02:02,737]\u001b[0m Trial 1 finished with value: 0.4197066103870832 and parameters: {'feature_fraction': 0.4}. Best is trial 0 with value: 0.39429631239948043.\u001b[0m\n"
          ]
        },
        {
          "output_type": "stream",
          "name": "stdout",
          "text": [
            "Did not meet early stopping. Best iteration is:\n",
            "[100]\tTrain's rmse: 0.125498\tTest's rmse: 0.419707\n",
            "Training until validation scores don't improve for 50 rounds.\n"
          ]
        },
        {
          "output_type": "stream",
          "name": "stderr",
          "text": [
            "\u001b[32m[I 2021-12-13 12:02:03,089]\u001b[0m Trial 2 finished with value: 0.4170792688972279 and parameters: {'feature_fraction': 0.5}. Best is trial 0 with value: 0.39429631239948043.\u001b[0m\n"
          ]
        },
        {
          "output_type": "stream",
          "name": "stdout",
          "text": [
            "Did not meet early stopping. Best iteration is:\n",
            "[100]\tTrain's rmse: 0.124117\tTest's rmse: 0.417079\n",
            "Training until validation scores don't improve for 50 rounds.\n"
          ]
        },
        {
          "output_type": "stream",
          "name": "stderr",
          "text": [
            "\u001b[32m[I 2021-12-13 12:02:03,491]\u001b[0m Trial 3 finished with value: 0.3778118242406942 and parameters: {'feature_fraction': 0.8999999999999999}. Best is trial 3 with value: 0.3778118242406942.\u001b[0m\n"
          ]
        },
        {
          "output_type": "stream",
          "name": "stdout",
          "text": [
            "Early stopping, best iteration is:\n",
            "[36]\tTrain's rmse: 0.158307\tTest's rmse: 0.377812\n",
            "Training until validation scores don't improve for 50 rounds.\n"
          ]
        },
        {
          "output_type": "stream",
          "name": "stderr",
          "text": [
            "\u001b[32m[I 2021-12-13 12:02:03,877]\u001b[0m Trial 4 finished with value: 0.38205205563109934 and parameters: {'feature_fraction': 0.8}. Best is trial 3 with value: 0.3778118242406942.\u001b[0m\n"
          ]
        },
        {
          "output_type": "stream",
          "name": "stdout",
          "text": [
            "Early stopping, best iteration is:\n",
            "[43]\tTrain's rmse: 0.153638\tTest's rmse: 0.382052\n",
            "Training until validation scores don't improve for 50 rounds.\n"
          ]
        },
        {
          "output_type": "stream",
          "name": "stderr",
          "text": [
            "\u001b[32m[I 2021-12-13 12:02:04,264]\u001b[0m Trial 5 finished with value: 0.39812155447472136 and parameters: {'feature_fraction': 0.6}. Best is trial 3 with value: 0.3778118242406942.\u001b[0m\n"
          ]
        },
        {
          "output_type": "stream",
          "name": "stdout",
          "text": [
            "Did not meet early stopping. Best iteration is:\n",
            "[100]\tTrain's rmse: 0.119276\tTest's rmse: 0.398122\n",
            "Training until validation scores don't improve for 50 rounds.\n"
          ]
        },
        {
          "output_type": "stream",
          "name": "stderr",
          "text": [
            "\u001b[32m[I 2021-12-13 12:02:04,666]\u001b[0m Trial 6 finished with value: 0.37077356770919284 and parameters: {'feature_fraction': 1.0}. Best is trial 6 with value: 0.37077356770919284.\u001b[0m\n"
          ]
        },
        {
          "output_type": "stream",
          "name": "stdout",
          "text": [
            "Early stopping, best iteration is:\n",
            "[32]\tTrain's rmse: 0.159528\tTest's rmse: 0.370774\n",
            "Training until validation scores don't improve for 50 rounds.\n"
          ]
        },
        {
          "output_type": "stream",
          "name": "stderr",
          "text": [
            "\u001b[32m[I 2021-12-13 12:02:05,445]\u001b[0m Trial 7 finished with value: 0.3736801139470076 and parameters: {'num_leaves': 97}. Best is trial 7 with value: 0.3736801139470076.\u001b[0m\n"
          ]
        },
        {
          "output_type": "stream",
          "name": "stdout",
          "text": [
            "Early stopping, best iteration is:\n",
            "[37]\tTrain's rmse: 0.154394\tTest's rmse: 0.37368\n",
            "Training until validation scores don't improve for 50 rounds.\n"
          ]
        },
        {
          "output_type": "stream",
          "name": "stderr",
          "text": [
            "\u001b[32m[I 2021-12-13 12:02:06,822]\u001b[0m Trial 8 finished with value: 0.3744959650664826 and parameters: {'num_leaves': 244}. Best is trial 7 with value: 0.3736801139470076.\u001b[0m\n"
          ]
        },
        {
          "output_type": "stream",
          "name": "stdout",
          "text": [
            "Early stopping, best iteration is:\n",
            "[32]\tTrain's rmse: 0.159027\tTest's rmse: 0.374496\n",
            "Training until validation scores don't improve for 50 rounds.\n"
          ]
        },
        {
          "output_type": "stream",
          "name": "stderr",
          "text": [
            "\u001b[32m[I 2021-12-13 12:02:07,946]\u001b[0m Trial 9 finished with value: 0.3744957958435846 and parameters: {'num_leaves': 188}. Best is trial 7 with value: 0.3736801139470076.\u001b[0m\n"
          ]
        },
        {
          "output_type": "stream",
          "name": "stdout",
          "text": [
            "Early stopping, best iteration is:\n",
            "[32]\tTrain's rmse: 0.159028\tTest's rmse: 0.374496\n",
            "Training until validation scores don't improve for 50 rounds.\n"
          ]
        },
        {
          "output_type": "stream",
          "name": "stderr",
          "text": [
            "\u001b[32m[I 2021-12-13 12:02:08,934]\u001b[0m Trial 10 finished with value: 0.37449529260838316 and parameters: {'num_leaves': 154}. Best is trial 7 with value: 0.3736801139470076.\u001b[0m\n"
          ]
        },
        {
          "output_type": "stream",
          "name": "stdout",
          "text": [
            "Early stopping, best iteration is:\n",
            "[32]\tTrain's rmse: 0.159029\tTest's rmse: 0.374495\n",
            "Training until validation scores don't improve for 50 rounds.\n"
          ]
        },
        {
          "output_type": "stream",
          "name": "stderr",
          "text": [
            "\u001b[32m[I 2021-12-13 12:02:09,384]\u001b[0m Trial 11 finished with value: 0.3751762740389383 and parameters: {'num_leaves': 41}. Best is trial 7 with value: 0.3736801139470076.\u001b[0m\n"
          ]
        },
        {
          "output_type": "stream",
          "name": "stdout",
          "text": [
            "Early stopping, best iteration is:\n",
            "[31]\tTrain's rmse: 0.160894\tTest's rmse: 0.375176\n",
            "Training until validation scores don't improve for 50 rounds.\n"
          ]
        },
        {
          "output_type": "stream",
          "name": "stderr",
          "text": [
            "\u001b[32m[I 2021-12-13 12:02:09,809]\u001b[0m Trial 12 finished with value: 0.3751762740389383 and parameters: {'num_leaves': 41}. Best is trial 7 with value: 0.3736801139470076.\u001b[0m\n"
          ]
        },
        {
          "output_type": "stream",
          "name": "stdout",
          "text": [
            "Early stopping, best iteration is:\n",
            "[31]\tTrain's rmse: 0.160894\tTest's rmse: 0.375176\n",
            "Training until validation scores don't improve for 50 rounds.\n"
          ]
        },
        {
          "output_type": "stream",
          "name": "stderr",
          "text": [
            "\u001b[32m[I 2021-12-13 12:02:10,080]\u001b[0m Trial 13 finished with value: 0.37402943945978134 and parameters: {'num_leaves': 16}. Best is trial 7 with value: 0.3736801139470076.\u001b[0m\n"
          ]
        },
        {
          "output_type": "stream",
          "name": "stdout",
          "text": [
            "Early stopping, best iteration is:\n",
            "[30]\tTrain's rmse: 0.162291\tTest's rmse: 0.374029\n",
            "Training until validation scores don't improve for 50 rounds.\n"
          ]
        },
        {
          "output_type": "stream",
          "name": "stderr",
          "text": [
            "\u001b[32m[I 2021-12-13 12:02:11,345]\u001b[0m Trial 14 finished with value: 0.3744959446418687 and parameters: {'num_leaves': 222}. Best is trial 7 with value: 0.3736801139470076.\u001b[0m\n"
          ]
        },
        {
          "output_type": "stream",
          "name": "stdout",
          "text": [
            "Early stopping, best iteration is:\n",
            "[32]\tTrain's rmse: 0.159027\tTest's rmse: 0.374496\n",
            "Training until validation scores don't improve for 50 rounds.\n"
          ]
        },
        {
          "output_type": "stream",
          "name": "stderr",
          "text": [
            "\u001b[32m[I 2021-12-13 12:02:12,322]\u001b[0m Trial 15 finished with value: 0.3744952108688714 and parameters: {'num_leaves': 155}. Best is trial 7 with value: 0.3736801139470076.\u001b[0m\n"
          ]
        },
        {
          "output_type": "stream",
          "name": "stdout",
          "text": [
            "Early stopping, best iteration is:\n",
            "[32]\tTrain's rmse: 0.159029\tTest's rmse: 0.374495\n",
            "Training until validation scores don't improve for 50 rounds.\n"
          ]
        },
        {
          "output_type": "stream",
          "name": "stderr",
          "text": [
            "\u001b[32m[I 2021-12-13 12:02:13,417]\u001b[0m Trial 16 finished with value: 0.3744958632600006 and parameters: {'num_leaves': 182}. Best is trial 7 with value: 0.3736801139470076.\u001b[0m\n"
          ]
        },
        {
          "output_type": "stream",
          "name": "stdout",
          "text": [
            "Early stopping, best iteration is:\n",
            "[32]\tTrain's rmse: 0.159028\tTest's rmse: 0.374496\n",
            "Training until validation scores don't improve for 50 rounds.\n"
          ]
        },
        {
          "output_type": "stream",
          "name": "stderr",
          "text": [
            "\u001b[32m[I 2021-12-13 12:02:14,176]\u001b[0m Trial 17 finished with value: 0.3736801139470076 and parameters: {'num_leaves': 97}. Best is trial 7 with value: 0.3736801139470076.\u001b[0m\n"
          ]
        },
        {
          "output_type": "stream",
          "name": "stdout",
          "text": [
            "Early stopping, best iteration is:\n",
            "[37]\tTrain's rmse: 0.154394\tTest's rmse: 0.37368\n",
            "Training until validation scores don't improve for 50 rounds.\n"
          ]
        },
        {
          "output_type": "stream",
          "name": "stderr",
          "text": [
            "\u001b[32m[I 2021-12-13 12:02:14,973]\u001b[0m Trial 18 finished with value: 0.3737958972713638 and parameters: {'num_leaves': 98}. Best is trial 7 with value: 0.3736801139470076.\u001b[0m\n"
          ]
        },
        {
          "output_type": "stream",
          "name": "stdout",
          "text": [
            "Early stopping, best iteration is:\n",
            "[37]\tTrain's rmse: 0.154606\tTest's rmse: 0.373796\n",
            "Training until validation scores don't improve for 50 rounds.\n"
          ]
        },
        {
          "output_type": "stream",
          "name": "stderr",
          "text": [
            "\u001b[32m[I 2021-12-13 12:02:15,665]\u001b[0m Trial 19 finished with value: 0.3744962323696725 and parameters: {'num_leaves': 91}. Best is trial 7 with value: 0.3736801139470076.\u001b[0m\n"
          ]
        },
        {
          "output_type": "stream",
          "name": "stdout",
          "text": [
            "Early stopping, best iteration is:\n",
            "[32]\tTrain's rmse: 0.159063\tTest's rmse: 0.374496\n",
            "Training until validation scores don't improve for 50 rounds.\n"
          ]
        },
        {
          "output_type": "stream",
          "name": "stderr",
          "text": [
            "\u001b[32m[I 2021-12-13 12:02:16,511]\u001b[0m Trial 20 finished with value: 0.37368549050204686 and parameters: {'num_leaves': 104}. Best is trial 7 with value: 0.3736801139470076.\u001b[0m\n"
          ]
        },
        {
          "output_type": "stream",
          "name": "stdout",
          "text": [
            "Early stopping, best iteration is:\n",
            "[37]\tTrain's rmse: 0.154428\tTest's rmse: 0.373685\n",
            "Training until validation scores don't improve for 50 rounds.\n"
          ]
        },
        {
          "output_type": "stream",
          "name": "stderr",
          "text": [
            "\u001b[32m[I 2021-12-13 12:02:17,125]\u001b[0m Trial 21 finished with value: 0.3737388513978505 and parameters: {'num_leaves': 68}. Best is trial 7 with value: 0.3736801139470076.\u001b[0m\n"
          ]
        },
        {
          "output_type": "stream",
          "name": "stdout",
          "text": [
            "Early stopping, best iteration is:\n",
            "[37]\tTrain's rmse: 0.154622\tTest's rmse: 0.373739\n",
            "Training until validation scores don't improve for 50 rounds.\n"
          ]
        },
        {
          "output_type": "stream",
          "name": "stderr",
          "text": [
            "\u001b[32m[I 2021-12-13 12:02:18,023]\u001b[0m Trial 22 finished with value: 0.3736685595853666 and parameters: {'num_leaves': 125}. Best is trial 22 with value: 0.3736685595853666.\u001b[0m\n"
          ]
        },
        {
          "output_type": "stream",
          "name": "stdout",
          "text": [
            "Early stopping, best iteration is:\n",
            "[37]\tTrain's rmse: 0.15439\tTest's rmse: 0.373669\n",
            "Training until validation scores don't improve for 50 rounds.\n"
          ]
        },
        {
          "output_type": "stream",
          "name": "stderr",
          "text": [
            "\u001b[32m[I 2021-12-13 12:02:18,965]\u001b[0m Trial 23 finished with value: 0.37369419151662386 and parameters: {'num_leaves': 133}. Best is trial 22 with value: 0.3736685595853666.\u001b[0m\n"
          ]
        },
        {
          "output_type": "stream",
          "name": "stdout",
          "text": [
            "Early stopping, best iteration is:\n",
            "[37]\tTrain's rmse: 0.154405\tTest's rmse: 0.373694\n",
            "Training until validation scores don't improve for 50 rounds.\n"
          ]
        },
        {
          "output_type": "stream",
          "name": "stderr",
          "text": [
            "\u001b[32m[I 2021-12-13 12:02:19,861]\u001b[0m Trial 24 finished with value: 0.37379125366389016 and parameters: {'num_leaves': 119}. Best is trial 22 with value: 0.3736685595853666.\u001b[0m\n"
          ]
        },
        {
          "output_type": "stream",
          "name": "stdout",
          "text": [
            "Early stopping, best iteration is:\n",
            "[37]\tTrain's rmse: 0.154578\tTest's rmse: 0.373791\n",
            "Training until validation scores don't improve for 50 rounds.\n"
          ]
        },
        {
          "output_type": "stream",
          "name": "stderr",
          "text": [
            "\u001b[32m[I 2021-12-13 12:02:20,458]\u001b[0m Trial 25 finished with value: 0.3733125019969782 and parameters: {'num_leaves': 62}. Best is trial 25 with value: 0.3733125019969782.\u001b[0m\n"
          ]
        },
        {
          "output_type": "stream",
          "name": "stdout",
          "text": [
            "Early stopping, best iteration is:\n",
            "[37]\tTrain's rmse: 0.154322\tTest's rmse: 0.373313\n",
            "Training until validation scores don't improve for 50 rounds.\n"
          ]
        },
        {
          "output_type": "stream",
          "name": "stderr",
          "text": [
            "\u001b[32m[I 2021-12-13 12:02:21,049]\u001b[0m Trial 26 finished with value: 0.37376037945144264 and parameters: {'num_leaves': 61}. Best is trial 25 with value: 0.3733125019969782.\u001b[0m\n"
          ]
        },
        {
          "output_type": "stream",
          "name": "stdout",
          "text": [
            "Early stopping, best iteration is:\n",
            "[37]\tTrain's rmse: 0.154646\tTest's rmse: 0.37376\n",
            "Training until validation scores don't improve for 50 rounds.\n"
          ]
        },
        {
          "output_type": "stream",
          "name": "stderr",
          "text": [
            "\u001b[32m[I 2021-12-13 12:02:21,535]\u001b[0m Trial 27 finished with value: 0.33082426453540353 and parameters: {'bagging_fraction': 0.624724071308792, 'bagging_freq': 7}. Best is trial 27 with value: 0.33082426453540353.\u001b[0m\n"
          ]
        },
        {
          "output_type": "stream",
          "name": "stdout",
          "text": [
            "Early stopping, best iteration is:\n",
            "[46]\tTrain's rmse: 0.182192\tTest's rmse: 0.330824\n",
            "Training until validation scores don't improve for 50 rounds.\n"
          ]
        },
        {
          "output_type": "stream",
          "name": "stderr",
          "text": [
            "\u001b[32m[I 2021-12-13 12:02:22,082]\u001b[0m Trial 28 finished with value: 0.35426512470625365 and parameters: {'bagging_fraction': 0.8391963650875751, 'bagging_freq': 5}. Best is trial 27 with value: 0.33082426453540353.\u001b[0m\n"
          ]
        },
        {
          "output_type": "stream",
          "name": "stdout",
          "text": [
            "Did not meet early stopping. Best iteration is:\n",
            "[100]\tTrain's rmse: 0.148469\tTest's rmse: 0.354265\n",
            "Training until validation scores don't improve for 50 rounds.\n"
          ]
        },
        {
          "output_type": "stream",
          "name": "stderr",
          "text": [
            "\u001b[32m[I 2021-12-13 12:02:22,601]\u001b[0m Trial 29 finished with value: 0.3446938688010536 and parameters: {'bagging_fraction': 0.49361118426561795, 'bagging_freq': 2}. Best is trial 27 with value: 0.33082426453540353.\u001b[0m\n"
          ]
        },
        {
          "output_type": "stream",
          "name": "stdout",
          "text": [
            "Did not meet early stopping. Best iteration is:\n",
            "[100]\tTrain's rmse: 0.1706\tTest's rmse: 0.344694\n",
            "Training until validation scores don't improve for 50 rounds.\n"
          ]
        },
        {
          "output_type": "stream",
          "name": "stderr",
          "text": [
            "\u001b[32m[I 2021-12-13 12:02:23,052]\u001b[0m Trial 30 finished with value: 0.3496365012410951 and parameters: {'bagging_fraction': 0.4348501673009778, 'bagging_freq': 7}. Best is trial 27 with value: 0.33082426453540353.\u001b[0m\n"
          ]
        },
        {
          "output_type": "stream",
          "name": "stdout",
          "text": [
            "Early stopping, best iteration is:\n",
            "[41]\tTrain's rmse: 0.193624\tTest's rmse: 0.349637\n",
            "Training until validation scores don't improve for 50 rounds.\n"
          ]
        },
        {
          "output_type": "stream",
          "name": "stderr",
          "text": [
            "\u001b[32m[I 2021-12-13 12:02:23,572]\u001b[0m Trial 31 finished with value: 0.34921508497232184 and parameters: {'bagging_fraction': 0.7606690070465265, 'bagging_freq': 5}. Best is trial 27 with value: 0.33082426453540353.\u001b[0m\n"
          ]
        },
        {
          "output_type": "stream",
          "name": "stdout",
          "text": [
            "Did not meet early stopping. Best iteration is:\n",
            "[100]\tTrain's rmse: 0.156764\tTest's rmse: 0.349215\n",
            "Training until validation scores don't improve for 50 rounds.\n"
          ]
        },
        {
          "output_type": "stream",
          "name": "stderr",
          "text": [
            "\u001b[32m[I 2021-12-13 12:02:24,059]\u001b[0m Trial 32 finished with value: 0.3510528101097551 and parameters: {'bagging_fraction': 0.41235069657750206, 'bagging_freq': 7}. Best is trial 27 with value: 0.33082426453540353.\u001b[0m\n"
          ]
        },
        {
          "output_type": "stream",
          "name": "stdout",
          "text": [
            "Did not meet early stopping. Best iteration is:\n",
            "[100]\tTrain's rmse: 0.176584\tTest's rmse: 0.351053\n",
            "Training until validation scores don't improve for 50 rounds.\n"
          ]
        },
        {
          "output_type": "stream",
          "name": "stderr",
          "text": [
            "\u001b[32m[I 2021-12-13 12:02:24,564]\u001b[0m Trial 33 finished with value: 0.3593382213782176 and parameters: {'bagging_fraction': 0.8994655844810855, 'bagging_freq': 2}. Best is trial 27 with value: 0.33082426453540353.\u001b[0m\n"
          ]
        },
        {
          "output_type": "stream",
          "name": "stdout",
          "text": [
            "Did not meet early stopping. Best iteration is:\n",
            "[100]\tTrain's rmse: 0.141654\tTest's rmse: 0.359338\n",
            "Training until validation scores don't improve for 50 rounds.\n"
          ]
        },
        {
          "output_type": "stream",
          "name": "stderr",
          "text": [
            "\u001b[32m[I 2021-12-13 12:02:25,101]\u001b[0m Trial 34 finished with value: 0.3496896437041243 and parameters: {'bagging_fraction': 0.5090949803244422, 'bagging_freq': 2}. Best is trial 27 with value: 0.33082426453540353.\u001b[0m\n"
          ]
        },
        {
          "output_type": "stream",
          "name": "stdout",
          "text": [
            "Did not meet early stopping. Best iteration is:\n",
            "[100]\tTrain's rmse: 0.168267\tTest's rmse: 0.34969\n",
            "Training until validation scores don't improve for 50 rounds.\n"
          ]
        },
        {
          "output_type": "stream",
          "name": "stderr",
          "text": [
            "\u001b[32m[I 2021-12-13 12:02:25,594]\u001b[0m Trial 35 finished with value: 0.3590744180031663 and parameters: {'bagging_fraction': 0.5825453457760269, 'bagging_freq': 4}. Best is trial 27 with value: 0.33082426453540353.\u001b[0m\n"
          ]
        },
        {
          "output_type": "stream",
          "name": "stdout",
          "text": [
            "Did not meet early stopping. Best iteration is:\n",
            "[100]\tTrain's rmse: 0.163977\tTest's rmse: 0.359074\n",
            "Training until validation scores don't improve for 50 rounds.\n"
          ]
        },
        {
          "output_type": "stream",
          "name": "stderr",
          "text": [
            "\u001b[32m[I 2021-12-13 12:02:26,139]\u001b[0m Trial 36 finished with value: 0.3603816362885704 and parameters: {'bagging_fraction': 0.6591670111857015, 'bagging_freq': 3}. Best is trial 27 with value: 0.33082426453540353.\u001b[0m\n"
          ]
        },
        {
          "output_type": "stream",
          "name": "stdout",
          "text": [
            "Did not meet early stopping. Best iteration is:\n",
            "[100]\tTrain's rmse: 0.160598\tTest's rmse: 0.360382\n",
            "Training until validation scores don't improve for 50 rounds.\n"
          ]
        },
        {
          "output_type": "stream",
          "name": "stderr",
          "text": [
            "\u001b[32m[I 2021-12-13 12:02:26,622]\u001b[0m Trial 37 finished with value: 0.3489307016833639 and parameters: {'feature_fraction': 0.92}. Best is trial 37 with value: 0.3489307016833639.\u001b[0m\n"
          ]
        },
        {
          "output_type": "stream",
          "name": "stdout",
          "text": [
            "Did not meet early stopping. Best iteration is:\n",
            "[100]\tTrain's rmse: 0.161556\tTest's rmse: 0.348931\n",
            "Training until validation scores don't improve for 50 rounds.\n"
          ]
        },
        {
          "output_type": "stream",
          "name": "stderr",
          "text": [
            "\u001b[32m[I 2021-12-13 12:02:27,084]\u001b[0m Trial 38 finished with value: 0.335307609011596 and parameters: {'feature_fraction': 0.9520000000000001}. Best is trial 38 with value: 0.335307609011596.\u001b[0m\n"
          ]
        },
        {
          "output_type": "stream",
          "name": "stdout",
          "text": [
            "Early stopping, best iteration is:\n",
            "[42]\tTrain's rmse: 0.184213\tTest's rmse: 0.335308\n",
            "Training until validation scores don't improve for 50 rounds.\n"
          ]
        },
        {
          "output_type": "stream",
          "name": "stderr",
          "text": [
            "\u001b[32m[I 2021-12-13 12:02:27,561]\u001b[0m Trial 39 finished with value: 0.335307609011596 and parameters: {'feature_fraction': 0.9840000000000001}. Best is trial 38 with value: 0.335307609011596.\u001b[0m\n"
          ]
        },
        {
          "output_type": "stream",
          "name": "stdout",
          "text": [
            "Early stopping, best iteration is:\n",
            "[42]\tTrain's rmse: 0.184213\tTest's rmse: 0.335308\n",
            "Training until validation scores don't improve for 50 rounds.\n"
          ]
        },
        {
          "output_type": "stream",
          "name": "stderr",
          "text": [
            "\u001b[32m[I 2021-12-13 12:02:28,036]\u001b[0m Trial 40 finished with value: 0.32943191935200394 and parameters: {'lambda_l1': 2.348881295853308e-05, 'lambda_l2': 3.6010467344475403}. Best is trial 40 with value: 0.32943191935200394.\u001b[0m\n"
          ]
        },
        {
          "output_type": "stream",
          "name": "stdout",
          "text": [
            "Early stopping, best iteration is:\n",
            "[41]\tTrain's rmse: 0.185001\tTest's rmse: 0.329432\n",
            "Training until validation scores don't improve for 50 rounds.\n"
          ]
        },
        {
          "output_type": "stream",
          "name": "stderr",
          "text": [
            "\u001b[32m[I 2021-12-13 12:02:28,469]\u001b[0m Trial 41 finished with value: 0.33171580075843055 and parameters: {'lambda_l1': 0.038720902953704193, 'lambda_l2': 0.0024430162614261413}. Best is trial 40 with value: 0.32943191935200394.\u001b[0m\n"
          ]
        },
        {
          "output_type": "stream",
          "name": "stdout",
          "text": [
            "Early stopping, best iteration is:\n",
            "[49]\tTrain's rmse: 0.180458\tTest's rmse: 0.331716\n",
            "Training until validation scores don't improve for 50 rounds.\n"
          ]
        },
        {
          "output_type": "stream",
          "name": "stderr",
          "text": [
            "\u001b[32m[I 2021-12-13 12:02:28,973]\u001b[0m Trial 42 finished with value: 0.33082426464573744 and parameters: {'lambda_l1': 2.5361081166471375e-07, 'lambda_l2': 2.5348407664333426e-07}. Best is trial 40 with value: 0.32943191935200394.\u001b[0m\n"
          ]
        },
        {
          "output_type": "stream",
          "name": "stdout",
          "text": [
            "Early stopping, best iteration is:\n",
            "[46]\tTrain's rmse: 0.182192\tTest's rmse: 0.330824\n",
            "Training until validation scores don't improve for 50 rounds.\n"
          ]
        },
        {
          "output_type": "stream",
          "name": "stderr",
          "text": [
            "\u001b[32m[I 2021-12-13 12:02:29,473]\u001b[0m Trial 43 finished with value: 0.3437747636123598 and parameters: {'lambda_l1': 3.3323645788192616e-08, 'lambda_l2': 0.6245760287469893}. Best is trial 40 with value: 0.32943191935200394.\u001b[0m\n"
          ]
        },
        {
          "output_type": "stream",
          "name": "stdout",
          "text": [
            "Did not meet early stopping. Best iteration is:\n",
            "[100]\tTrain's rmse: 0.162266\tTest's rmse: 0.343775\n",
            "Training until validation scores don't improve for 50 rounds.\n"
          ]
        },
        {
          "output_type": "stream",
          "name": "stderr",
          "text": [
            "\u001b[32m[I 2021-12-13 12:02:29,947]\u001b[0m Trial 44 finished with value: 0.33532554205017706 and parameters: {'lambda_l1': 0.002570603566117598, 'lambda_l2': 0.023585940584142682}. Best is trial 40 with value: 0.32943191935200394.\u001b[0m\n"
          ]
        },
        {
          "output_type": "stream",
          "name": "stdout",
          "text": [
            "Early stopping, best iteration is:\n",
            "[42]\tTrain's rmse: 0.182231\tTest's rmse: 0.335326\n",
            "Training until validation scores don't improve for 50 rounds.\n"
          ]
        },
        {
          "output_type": "stream",
          "name": "stderr",
          "text": [
            "\u001b[32m[I 2021-12-13 12:02:30,364]\u001b[0m Trial 45 finished with value: 0.3284463363967226 and parameters: {'lambda_l1': 1.5320059381854043e-08, 'lambda_l2': 5.360294728728285}. Best is trial 45 with value: 0.3284463363967226.\u001b[0m\n"
          ]
        },
        {
          "output_type": "stream",
          "name": "stdout",
          "text": [
            "Early stopping, best iteration is:\n",
            "[42]\tTrain's rmse: 0.186455\tTest's rmse: 0.328446\n",
            "Training until validation scores don't improve for 50 rounds.\n"
          ]
        },
        {
          "output_type": "stream",
          "name": "stderr",
          "text": [
            "\u001b[32m[I 2021-12-13 12:02:30,742]\u001b[0m Trial 46 finished with value: 0.33324630307403946 and parameters: {'lambda_l1': 0.31044435499483225, 'lambda_l2': 8.148018307012941e-07}. Best is trial 45 with value: 0.3284463363967226.\u001b[0m\n"
          ]
        },
        {
          "output_type": "stream",
          "name": "stdout",
          "text": [
            "Early stopping, best iteration is:\n",
            "[42]\tTrain's rmse: 0.181725\tTest's rmse: 0.333246\n",
            "Training until validation scores don't improve for 50 rounds.\n"
          ]
        },
        {
          "output_type": "stream",
          "name": "stderr",
          "text": [
            "\u001b[32m[I 2021-12-13 12:02:31,239]\u001b[0m Trial 47 finished with value: 0.33082426485883565 and parameters: {'lambda_l1': 4.329370014459266e-07, 'lambda_l2': 4.4734294104626844e-07}. Best is trial 45 with value: 0.3284463363967226.\u001b[0m\n"
          ]
        },
        {
          "output_type": "stream",
          "name": "stdout",
          "text": [
            "Early stopping, best iteration is:\n",
            "[46]\tTrain's rmse: 0.182192\tTest's rmse: 0.330824\n",
            "Training until validation scores don't improve for 50 rounds.\n"
          ]
        },
        {
          "output_type": "stream",
          "name": "stderr",
          "text": [
            "\u001b[32m[I 2021-12-13 12:02:31,710]\u001b[0m Trial 48 finished with value: 0.3329765531585647 and parameters: {'lambda_l1': 5.472429642032198e-06, 'lambda_l2': 0.00052821153945323}. Best is trial 45 with value: 0.3284463363967226.\u001b[0m\n"
          ]
        },
        {
          "output_type": "stream",
          "name": "stdout",
          "text": [
            "Early stopping, best iteration is:\n",
            "[42]\tTrain's rmse: 0.183958\tTest's rmse: 0.332977\n",
            "Training until validation scores don't improve for 50 rounds.\n"
          ]
        },
        {
          "output_type": "stream",
          "name": "stderr",
          "text": [
            "\u001b[32m[I 2021-12-13 12:02:32,202]\u001b[0m Trial 49 finished with value: 0.33082432017999175 and parameters: {'lambda_l1': 7.71800699380605e-05, 'lambda_l2': 4.17890272377219e-06}. Best is trial 45 with value: 0.3284463363967226.\u001b[0m\n"
          ]
        },
        {
          "output_type": "stream",
          "name": "stdout",
          "text": [
            "Early stopping, best iteration is:\n",
            "[46]\tTrain's rmse: 0.182192\tTest's rmse: 0.330824\n",
            "Training until validation scores don't improve for 50 rounds.\n"
          ]
        },
        {
          "output_type": "stream",
          "name": "stderr",
          "text": [
            "\u001b[32m[I 2021-12-13 12:02:32,488]\u001b[0m Trial 50 finished with value: 0.3375707549161965 and parameters: {'lambda_l1': 3.207959657544482, 'lambda_l2': 0.08430920984585018}. Best is trial 45 with value: 0.3284463363967226.\u001b[0m\n"
          ]
        },
        {
          "output_type": "stream",
          "name": "stdout",
          "text": [
            "Early stopping, best iteration is:\n",
            "[42]\tTrain's rmse: 0.178393\tTest's rmse: 0.337571\n",
            "Training until validation scores don't improve for 50 rounds.\n"
          ]
        },
        {
          "output_type": "stream",
          "name": "stderr",
          "text": [
            "\u001b[32m[I 2021-12-13 12:02:32,926]\u001b[0m Trial 51 finished with value: 0.327939014120243 and parameters: {'lambda_l1': 1.1692997958212103e-08, 'lambda_l2': 3.9472261531899844}. Best is trial 51 with value: 0.327939014120243.\u001b[0m\n"
          ]
        },
        {
          "output_type": "stream",
          "name": "stdout",
          "text": [
            "Early stopping, best iteration is:\n",
            "[42]\tTrain's rmse: 0.184969\tTest's rmse: 0.327939\n",
            "Training until validation scores don't improve for 50 rounds.\n"
          ]
        },
        {
          "output_type": "stream",
          "name": "stderr",
          "text": [
            "\u001b[32m[I 2021-12-13 12:02:33,398]\u001b[0m Trial 52 finished with value: 0.3443133006621765 and parameters: {'lambda_l1': 1.350995536870054e-08, 'lambda_l2': 1.475649304728376}. Best is trial 51 with value: 0.327939014120243.\u001b[0m\n"
          ]
        },
        {
          "output_type": "stream",
          "name": "stdout",
          "text": [
            "Did not meet early stopping. Best iteration is:\n",
            "[100]\tTrain's rmse: 0.162321\tTest's rmse: 0.344313\n",
            "Training until validation scores don't improve for 50 rounds.\n"
          ]
        },
        {
          "output_type": "stream",
          "name": "stderr",
          "text": [
            "\u001b[32m[I 2021-12-13 12:02:33,788]\u001b[0m Trial 53 finished with value: 0.3318492813205051 and parameters: {'lambda_l1': 9.352650596074993e-07, 'lambda_l2': 7.577835796854522}. Best is trial 51 with value: 0.327939014120243.\u001b[0m\n"
          ]
        },
        {
          "output_type": "stream",
          "name": "stdout",
          "text": [
            "Early stopping, best iteration is:\n",
            "[41]\tTrain's rmse: 0.189926\tTest's rmse: 0.331849\n",
            "Training until validation scores don't improve for 50 rounds.\n"
          ]
        },
        {
          "output_type": "stream",
          "name": "stderr",
          "text": [
            "\u001b[32m[I 2021-12-13 12:02:34,249]\u001b[0m Trial 54 finished with value: 0.33486879281043785 and parameters: {'lambda_l1': 0.0008472745658933207, 'lambda_l2': 2.6087844118276602e-05}. Best is trial 51 with value: 0.327939014120243.\u001b[0m\n"
          ]
        },
        {
          "output_type": "stream",
          "name": "stdout",
          "text": [
            "Early stopping, best iteration is:\n",
            "[42]\tTrain's rmse: 0.182864\tTest's rmse: 0.334869\n",
            "Training until validation scores don't improve for 50 rounds.\n"
          ]
        },
        {
          "output_type": "stream",
          "name": "stderr",
          "text": [
            "\u001b[32m[I 2021-12-13 12:02:34,708]\u001b[0m Trial 55 finished with value: 0.33142491081804043 and parameters: {'lambda_l1': 1.1916519926516243e-08, 'lambda_l2': 0.055318243832778495}. Best is trial 51 with value: 0.327939014120243.\u001b[0m\n"
          ]
        },
        {
          "output_type": "stream",
          "name": "stdout",
          "text": [
            "Early stopping, best iteration is:\n",
            "[44]\tTrain's rmse: 0.181966\tTest's rmse: 0.331425\n",
            "Training until validation scores don't improve for 50 rounds.\n"
          ]
        },
        {
          "output_type": "stream",
          "name": "stderr",
          "text": [
            "\u001b[32m[I 2021-12-13 12:02:35,194]\u001b[0m Trial 56 finished with value: 0.3353285380100823 and parameters: {'lambda_l1': 3.7384258928166384e-06, 'lambda_l2': 0.004849463006735859}. Best is trial 51 with value: 0.327939014120243.\u001b[0m\n"
          ]
        },
        {
          "output_type": "stream",
          "name": "stdout",
          "text": [
            "Early stopping, best iteration is:\n",
            "[42]\tTrain's rmse: 0.18307\tTest's rmse: 0.335329\n",
            "Training until validation scores don't improve for 50 rounds.\n"
          ]
        },
        {
          "output_type": "stream",
          "name": "stderr",
          "text": [
            "\u001b[32m[I 2021-12-13 12:02:35,637]\u001b[0m Trial 57 finished with value: 0.33536075678529537 and parameters: {'lambda_l1': 1.8796187625037182e-07, 'lambda_l2': 0.4164249158976615}. Best is trial 51 with value: 0.327939014120243.\u001b[0m\n"
          ]
        },
        {
          "output_type": "stream",
          "name": "stdout",
          "text": [
            "Early stopping, best iteration is:\n",
            "[42]\tTrain's rmse: 0.182451\tTest's rmse: 0.335361\n",
            "Training until validation scores don't improve for 50 rounds.\n"
          ]
        },
        {
          "output_type": "stream",
          "name": "stderr",
          "text": [
            "\u001b[32m[I 2021-12-13 12:02:36,147]\u001b[0m Trial 58 finished with value: 0.3308242644882397 and parameters: {'lambda_l1': 1.197340518782296e-07, 'lambda_l2': 3.551686739770963e-08}. Best is trial 51 with value: 0.327939014120243.\u001b[0m\n"
          ]
        },
        {
          "output_type": "stream",
          "name": "stdout",
          "text": [
            "Early stopping, best iteration is:\n",
            "[46]\tTrain's rmse: 0.182192\tTest's rmse: 0.330824\n",
            "Training until validation scores don't improve for 50 rounds.\n"
          ]
        },
        {
          "output_type": "stream",
          "name": "stderr",
          "text": [
            "\u001b[32m[I 2021-12-13 12:02:36,587]\u001b[0m Trial 59 finished with value: 0.33499403428112645 and parameters: {'lambda_l1': 0.008177230105140616, 'lambda_l2': 3.613808583865736e-05}. Best is trial 51 with value: 0.327939014120243.\u001b[0m\n"
          ]
        },
        {
          "output_type": "stream",
          "name": "stdout",
          "text": [
            "Early stopping, best iteration is:\n",
            "[42]\tTrain's rmse: 0.182831\tTest's rmse: 0.334994\n",
            "Training until validation scores don't improve for 50 rounds.\n"
          ]
        },
        {
          "output_type": "stream",
          "name": "stderr",
          "text": [
            "\u001b[32m[I 2021-12-13 12:02:37,107]\u001b[0m Trial 60 finished with value: 0.42899827455263184 and parameters: {'min_child_samples': 50}. Best is trial 60 with value: 0.42899827455263184.\u001b[0m\n"
          ]
        },
        {
          "output_type": "stream",
          "name": "stdout",
          "text": [
            "Did not meet early stopping. Best iteration is:\n",
            "[100]\tTrain's rmse: 0.214776\tTest's rmse: 0.428998\n",
            "Training until validation scores don't improve for 50 rounds.\n"
          ]
        },
        {
          "output_type": "stream",
          "name": "stderr",
          "text": [
            "\u001b[32m[I 2021-12-13 12:02:37,514]\u001b[0m Trial 61 finished with value: 0.38130080968487146 and parameters: {'min_child_samples': 5}. Best is trial 61 with value: 0.38130080968487146.\u001b[0m\n"
          ]
        },
        {
          "output_type": "stream",
          "name": "stdout",
          "text": [
            "Did not meet early stopping. Best iteration is:\n",
            "[100]\tTrain's rmse: 0.067355\tTest's rmse: 0.381301\n",
            "Training until validation scores don't improve for 50 rounds.\n"
          ]
        },
        {
          "output_type": "stream",
          "name": "stderr",
          "text": [
            "\u001b[32m[I 2021-12-13 12:02:38,034]\u001b[0m Trial 62 finished with value: 0.5225325035355793 and parameters: {'min_child_samples': 100}. Best is trial 61 with value: 0.38130080968487146.\u001b[0m\n"
          ]
        },
        {
          "output_type": "stream",
          "name": "stdout",
          "text": [
            "Did not meet early stopping. Best iteration is:\n",
            "[100]\tTrain's rmse: 0.271496\tTest's rmse: 0.522533\n",
            "Training until validation scores don't improve for 50 rounds.\n"
          ]
        },
        {
          "output_type": "stream",
          "name": "stderr",
          "text": [
            "\u001b[32m[I 2021-12-13 12:02:38,468]\u001b[0m Trial 63 finished with value: 0.3640770980705694 and parameters: {'min_child_samples': 10}. Best is trial 63 with value: 0.3640770980705694.\u001b[0m\n"
          ]
        },
        {
          "output_type": "stream",
          "name": "stdout",
          "text": [
            "Did not meet early stopping. Best iteration is:\n",
            "[100]\tTrain's rmse: 0.121907\tTest's rmse: 0.364077\n",
            "Training until validation scores don't improve for 50 rounds.\n"
          ]
        },
        {
          "output_type": "stream",
          "name": "stderr",
          "text": [
            "\u001b[32m[I 2021-12-13 12:02:38,922]\u001b[0m Trial 64 finished with value: 0.3451271987116685 and parameters: {'min_child_samples': 25}. Best is trial 64 with value: 0.3451271987116685.\u001b[0m\n"
          ]
        },
        {
          "output_type": "stream",
          "name": "stdout",
          "text": [
            "Did not meet early stopping. Best iteration is:\n",
            "[100]\tTrain's rmse: 0.168684\tTest's rmse: 0.345127\n"
          ]
        },
        {
          "output_type": "display_data",
          "data": {
            "image/png": "[encoded data removed]",
            "text/plain": [
              "<Figure size 432x288 with 1 Axes>"
            ]
          },
          "metadata": {
            "needs_background": "light"
          }
        },
        {
          "output_type": "stream",
          "name": "stdout",
          "text": [
            "RMSE: [0.3123315737183189, 0.08873015539286183, 0.13763968960310372, 0.019577429763877194, 0.32793901412024307]\n",
            "RMSE: 0.17724357251968095\n",
            "elapsed_time:249.1[sec]\n"
          ]
        }
      ]
    },
    {
      "cell_type": "code",
      "metadata": {
        "colab": {
          "base_uri": "https://localhost:8080/"
        },
        "id": "w4FdAC8TFwWr",
        "outputId": "69837ca7-3876-449e-90af-7b9b0345aa6f"
      },
      "source": [
        "print(\"float64 RMSE:\", round(np.mean(cv_result), 5))\n",
        "print(f\"float64 経過時間:{elasped_time}秒\")\n",
        "\n",
        "print(\"float16 RMSE:\", round(np.mean(cv_result_quant), 5))\n",
        "print(f\"float16 経過時間:{elasped_time_quant}秒\")"
      ],
      "execution_count": null,
      "outputs": [
        {
          "output_type": "stream",
          "name": "stdout",
          "text": [
            "float64 RMSE: 0.18226\n",
            "float64 経過時間:163.0秒\n",
            "float16 RMSE: 0.17724\n",
            "float16 経過時間:249.1秒\n"
          ]
        }
      ]
    },
    {
      "cell_type": "code",
      "source": [
        ""
      ],
      "metadata": {
        "id": "GAkMsoNqo8Md"
      },
      "execution_count": null,
      "outputs": []
    }
  ]
}