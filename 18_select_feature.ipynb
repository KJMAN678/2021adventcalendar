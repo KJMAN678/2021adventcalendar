{
 "cells": [
  {
   "cell_type": "markdown",
   "metadata": {
    "id": "PBqKPKFtsiKi"
   },
   "source": [
    "## データの読込"
   ]
  },
  {
   "cell_type": "code",
   "execution_count": 1,
   "metadata": {
    "colab": {
     "base_uri": "https://localhost:8080/",
     "height": 294
    },
    "id": "TSY5GPLirTwt",
    "outputId": "44250d03-35a1-4af5-8706-ff41111202b2"
   },
   "outputs": [
    {
     "data": {
      "text/html": [
       "<div>\n",
       "<style scoped>\n",
       "    .dataframe tbody tr th:only-of-type {\n",
       "        vertical-align: middle;\n",
       "    }\n",
       "\n",
       "    .dataframe tbody tr th {\n",
       "        vertical-align: top;\n",
       "    }\n",
       "\n",
       "    .dataframe thead th {\n",
       "        text-align: right;\n",
       "    }\n",
       "</style>\n",
       "<table border=\"1\" class=\"dataframe\">\n",
       "  <thead>\n",
       "    <tr style=\"text-align: right;\">\n",
       "      <th></th>\n",
       "      <th>Rank</th>\n",
       "      <th>Name</th>\n",
       "      <th>basename</th>\n",
       "      <th>Genre</th>\n",
       "      <th>ESRB_Rating</th>\n",
       "      <th>Platform</th>\n",
       "      <th>Publisher</th>\n",
       "      <th>Developer</th>\n",
       "      <th>VGChartz_Score</th>\n",
       "      <th>Critic_Score</th>\n",
       "      <th>...</th>\n",
       "      <th>NA_Sales</th>\n",
       "      <th>PAL_Sales</th>\n",
       "      <th>JP_Sales</th>\n",
       "      <th>Other_Sales</th>\n",
       "      <th>Year</th>\n",
       "      <th>Last_Update</th>\n",
       "      <th>url</th>\n",
       "      <th>status</th>\n",
       "      <th>Vgchartzscore</th>\n",
       "      <th>img_url</th>\n",
       "    </tr>\n",
       "  </thead>\n",
       "  <tbody>\n",
       "    <tr>\n",
       "      <th>0</th>\n",
       "      <td>1</td>\n",
       "      <td>Wii Sports</td>\n",
       "      <td>wii-sports</td>\n",
       "      <td>Sports</td>\n",
       "      <td>E</td>\n",
       "      <td>Wii</td>\n",
       "      <td>Nintendo</td>\n",
       "      <td>Nintendo EAD</td>\n",
       "      <td>NaN</td>\n",
       "      <td>7.7</td>\n",
       "      <td>...</td>\n",
       "      <td>NaN</td>\n",
       "      <td>NaN</td>\n",
       "      <td>NaN</td>\n",
       "      <td>NaN</td>\n",
       "      <td>2006.0</td>\n",
       "      <td>NaN</td>\n",
       "      <td>http://www.vgchartz.com/game/2667/wii-sports/?...</td>\n",
       "      <td>1</td>\n",
       "      <td>NaN</td>\n",
       "      <td>/games/boxart/full_2258645AmericaFrontccc.jpg</td>\n",
       "    </tr>\n",
       "    <tr>\n",
       "      <th>1</th>\n",
       "      <td>2</td>\n",
       "      <td>Super Mario Bros.</td>\n",
       "      <td>super-mario-bros</td>\n",
       "      <td>Platform</td>\n",
       "      <td>NaN</td>\n",
       "      <td>NES</td>\n",
       "      <td>Nintendo</td>\n",
       "      <td>Nintendo EAD</td>\n",
       "      <td>NaN</td>\n",
       "      <td>10.0</td>\n",
       "      <td>...</td>\n",
       "      <td>NaN</td>\n",
       "      <td>NaN</td>\n",
       "      <td>NaN</td>\n",
       "      <td>NaN</td>\n",
       "      <td>1985.0</td>\n",
       "      <td>NaN</td>\n",
       "      <td>http://www.vgchartz.com/game/6455/super-mario-...</td>\n",
       "      <td>1</td>\n",
       "      <td>NaN</td>\n",
       "      <td>/games/boxart/8972270ccc.jpg</td>\n",
       "    </tr>\n",
       "    <tr>\n",
       "      <th>2</th>\n",
       "      <td>3</td>\n",
       "      <td>Mario Kart Wii</td>\n",
       "      <td>mario-kart-wii</td>\n",
       "      <td>Racing</td>\n",
       "      <td>E</td>\n",
       "      <td>Wii</td>\n",
       "      <td>Nintendo</td>\n",
       "      <td>Nintendo EAD</td>\n",
       "      <td>NaN</td>\n",
       "      <td>8.2</td>\n",
       "      <td>...</td>\n",
       "      <td>NaN</td>\n",
       "      <td>NaN</td>\n",
       "      <td>NaN</td>\n",
       "      <td>NaN</td>\n",
       "      <td>2008.0</td>\n",
       "      <td>11th Apr 18</td>\n",
       "      <td>http://www.vgchartz.com/game/6968/mario-kart-w...</td>\n",
       "      <td>1</td>\n",
       "      <td>8.7</td>\n",
       "      <td>/games/boxart/full_8932480AmericaFrontccc.jpg</td>\n",
       "    </tr>\n",
       "  </tbody>\n",
       "</table>\n",
       "<p>3 rows × 23 columns</p>\n",
       "</div>"
      ],
      "text/plain": [
       "   Rank               Name          basename     Genre ESRB_Rating Platform  \\\n",
       "0     1         Wii Sports        wii-sports    Sports           E      Wii   \n",
       "1     2  Super Mario Bros.  super-mario-bros  Platform         NaN      NES   \n",
       "2     3     Mario Kart Wii    mario-kart-wii    Racing           E      Wii   \n",
       "\n",
       "  Publisher     Developer  VGChartz_Score  Critic_Score  ...  NA_Sales  \\\n",
       "0  Nintendo  Nintendo EAD             NaN           7.7  ...       NaN   \n",
       "1  Nintendo  Nintendo EAD             NaN          10.0  ...       NaN   \n",
       "2  Nintendo  Nintendo EAD             NaN           8.2  ...       NaN   \n",
       "\n",
       "   PAL_Sales  JP_Sales  Other_Sales    Year  Last_Update  \\\n",
       "0        NaN       NaN          NaN  2006.0          NaN   \n",
       "1        NaN       NaN          NaN  1985.0          NaN   \n",
       "2        NaN       NaN          NaN  2008.0  11th Apr 18   \n",
       "\n",
       "                                                 url  status Vgchartzscore  \\\n",
       "0  http://www.vgchartz.com/game/2667/wii-sports/?...       1           NaN   \n",
       "1  http://www.vgchartz.com/game/6455/super-mario-...       1           NaN   \n",
       "2  http://www.vgchartz.com/game/6968/mario-kart-w...       1           8.7   \n",
       "\n",
       "                                         img_url  \n",
       "0  /games/boxart/full_2258645AmericaFrontccc.jpg  \n",
       "1                   /games/boxart/8972270ccc.jpg  \n",
       "2  /games/boxart/full_8932480AmericaFrontccc.jpg  \n",
       "\n",
       "[3 rows x 23 columns]"
      ]
     },
     "execution_count": 1,
     "metadata": {},
     "output_type": "execute_result"
    }
   ],
   "source": [
    "import pandas as pd\n",
    "df = pd.read_csv(\"vgsales-12-4-2019.csv\")\n",
    "df.head(3)"
   ]
  },
  {
   "cell_type": "markdown",
   "metadata": {
    "id": "FVQYYHmPqllF"
   },
   "source": [
    "## 特徴量選択"
   ]
  },
  {
   "cell_type": "code",
   "execution_count": 2,
   "metadata": {
    "id": "pA1GD0Q-qhNu"
   },
   "outputs": [],
   "source": [
    "import os\n",
    "import time\n",
    "import random\n",
    "import pickle\n",
    "import pandas as pd\n",
    "import numpy as np\n",
    "import matplotlib.pyplot as plt\n",
    "import japanize_matplotlib\n",
    "from natsort import natsorted \n",
    "\n",
    "import lightgbm as lgb\n",
    "from sklearn.model_selection import train_test_split\n",
    "from sklearn.metrics import mean_squared_error\n",
    "from sklearn.preprocessing import StandardScaler\n",
    "from sklearn.model_selection import GroupKFold\n",
    "from sklearn.impute import SimpleImputer\n",
    "from sklearn.preprocessing import OrdinalEncoder\n",
    "from sklearn.preprocessing import OneHotEncoder\n",
    "from sklearn.compose import ColumnTransformer\n",
    "from sklearn.pipeline import Pipeline\n",
    "\n",
    "from sklearn.feature_selection import SequentialFeatureSelector\n",
    "from sklearn.feature_selection import SelectFromModel\n",
    "from xfeat import GBDTFeatureSelector\n",
    "\n",
    "import warnings\n",
    "warnings.simplefilter('ignore')"
   ]
  },
  {
   "cell_type": "code",
   "execution_count": 3,
   "metadata": {
    "id": "8y2m34f1rIvO"
   },
   "outputs": [],
   "source": [
    "# シード値の固定\n",
    "SEED = 42\n",
    "\n",
    "random.seed(SEED)\n",
    "os.environ['PYTHONHASHSEED'] = str(SEED)\n",
    "np.random.seed(SEED)"
   ]
  },
  {
   "cell_type": "code",
   "execution_count": 4,
   "metadata": {
    "id": "GmfvUYroq-l2"
   },
   "outputs": [],
   "source": [
    "X_train, X_test, y_train, y_test = train_test_split(\n",
    "                                                    df.dropna(subset=[\"Global_Sales\"]).drop([\"Global_Sales\",  \"NA_Sales\", \"PAL_Sales\", \"JP_Sales\", \"Other_Sales\"], axis=1), \n",
    "                                                    df.dropna(subset=[\"Global_Sales\"])[\"Global_Sales\"],  \n",
    "                                                    test_size=0.3,\n",
    "                                                    shuffle=True, \n",
    "                                                    random_state=SEED\n",
    "                                                    ) "
   ]
  },
  {
   "cell_type": "code",
   "execution_count": 5,
   "metadata": {
    "id": "qYrM4h_8rE9H"
   },
   "outputs": [],
   "source": [
    "### パイプライン\n",
    "\n",
    "# 数値データカラム名を取得\n",
    "number_columns = list(X_train.select_dtypes(include=\"number\").columns)\n",
    "\n",
    "# カテゴリデータカラム名を取得\n",
    "category_columns = list(X_train.select_dtypes(include=\"object\").columns)\n",
    "\n",
    "# カテゴリデータカラムの各カラムのカテゴリーの数を取得\n",
    "category_unique_num = X_train.select_dtypes(include=\"object\").nunique()\n",
    "\n",
    "# 数値データ用の変換\n",
    "numeric_transformer = Pipeline(steps=[\n",
    "    ('num_imputer', SimpleImputer(strategy='median')),\n",
    "    ('scaler', StandardScaler())]\n",
    ")\n",
    "\n",
    "# カテゴリーの数にしきい値を設けて、カテゴリー数の多いカラムと少ないカラムに分ける\n",
    "thread = 10\n",
    "many_kinds_category_columns = list(category_unique_num[category_unique_num >= thread].index)\n",
    "few_kinds_category_columns = list(category_unique_num[category_unique_num < thread].index)\n",
    "\n",
    "# カテゴリーのエンコーディング法則を指定する\n",
    "ordinal_all_cols_mapping = []\n",
    "\n",
    "for column in many_kinds_category_columns:\n",
    "    ordinal_one_cols_mapping = []\n",
    "    for category in natsorted(X_train[column].unique()):\n",
    "        ordinal_one_cols_mapping.append(category)\n",
    "\n",
    "    ordinal_all_cols_mapping.append(ordinal_one_cols_mapping)\n",
    "\n",
    "# カテゴリー数が多いカテゴリーデータ用の変換\n",
    "many_kinds_categorical_transformer = Pipeline(\n",
    "    steps=[\n",
    "        ('imputer', SimpleImputer(strategy='most_frequent')),\n",
    "        ('ordinal', OrdinalEncoder(\n",
    "                handle_unknown = 'use_encoded_value', # 未知数をunknown valueに置き換える設定\n",
    "                unknown_value = -1,\n",
    "                categories = ordinal_all_cols_mapping\n",
    "            )\n",
    "        )\n",
    "])\n",
    "\n",
    "# カテゴリー数が少ないカテゴリーデータ用の変換\n",
    "few_kinds_categorical_transformer = Pipeline(\n",
    "    steps=[\n",
    "        ('imputer', SimpleImputer(strategy='most_frequent')),\n",
    "        ('onehot', OneHotEncoder(handle_unknown='ignore'))\n",
    "    ]\n",
    ")\n",
    "\n",
    "# ColumnTransformerの作成\n",
    "columns_transformers = ColumnTransformer(\n",
    "    transformers=[\n",
    "        ('num', numeric_transformer, number_columns),\n",
    "        ('many_kinds', many_kinds_categorical_transformer, many_kinds_category_columns),\n",
    "        ('few_kinds', few_kinds_categorical_transformer, few_kinds_category_columns)\n",
    "    ]\n",
    ")\n",
    "\n",
    "# カラム変換用のパイプラインの作成\n",
    "transformer = Pipeline(\n",
    "    [\n",
    "        (\"columns_transformers\", columns_transformers),\n",
    "    ]\n",
    ")"
   ]
  },
  {
   "cell_type": "markdown",
   "metadata": {
    "id": "IpYgt0b7rPqG"
   },
   "source": [
    "### LighgGBM"
   ]
  },
  {
   "cell_type": "code",
   "execution_count": 6,
   "metadata": {
    "id": "oQ6hmqQ2rO3Q"
   },
   "outputs": [],
   "source": [
    "# パイプラインの作成\n",
    "pipe = Pipeline(\n",
    "    [\n",
    "        (\"columns_transformers\", columns_transformers),\n",
    "        ('model', lgb.LGBMRegressor(random_state=42))\n",
    "     ]\n",
    ")"
   ]
  },
  {
   "cell_type": "code",
   "execution_count": 7,
   "metadata": {
    "colab": {
     "base_uri": "https://localhost:8080/"
    },
    "id": "icvEgqc6rS51",
    "outputId": "c2c1f191-be55-4401-e101-85cb0c316bb9"
   },
   "outputs": [
    {
     "name": "stdout",
     "output_type": "stream",
     "text": [
      "RMSE: [0.3381069648542431, 0.10717670046871884, 0.15152424264212594, 0.02716385550389459, 0.3365058004617997]\n",
      "RMSE: 0.1920955127861564\n"
     ]
    }
   ],
   "source": [
    "# 学習・推論\n",
    "gkf = GroupKFold(n_splits=5)\n",
    "\n",
    "groups = X_train[\"Genre\"]\n",
    "\n",
    "cv_result_lgbm = []\n",
    "\n",
    "for i, (train_index, test_index) in enumerate(gkf.split(X_train, y_train, groups)):\n",
    "    X_train_gkf, X_test_gkf = X_train.iloc[train_index], X_train.iloc[test_index]\n",
    "    y_train_gkf, y_test_gkf = y_train.iloc[train_index], y_train.iloc[test_index]\n",
    "\n",
    "    # 学習、推論\n",
    "    pipe.fit(X_train_gkf, y_train_gkf)\n",
    "\n",
    "    y_pred = pipe.predict(X_test_gkf)\n",
    "\n",
    "    rmse = mean_squared_error(y_test_gkf, y_pred, squared=False)\n",
    "    cv_result_lgbm.append(rmse)\n",
    "\n",
    "print(\"RMSE:\", cv_result_lgbm)\n",
    "print(\"RMSE:\", np.mean(cv_result_lgbm))"
   ]
  },
  {
   "cell_type": "markdown",
   "metadata": {
    "id": "M0qnxwnora-d"
   },
   "source": [
    "### 特徴量選択"
   ]
  },
  {
   "cell_type": "code",
   "execution_count": 8,
   "metadata": {
    "colab": {
     "base_uri": "https://localhost:8080/"
    },
    "id": "luTOX-e3uEAG",
    "outputId": "3c96dc78-1202-435d-8398-fa5b5fb957cc"
   },
   "outputs": [
    {
     "name": "stdout",
     "output_type": "stream",
     "text": [
      "現状の特徴量の数 18\n"
     ]
    }
   ],
   "source": [
    "print(\"現状の特徴量の数\", len(X_train.columns))"
   ]
  },
  {
   "cell_type": "code",
   "execution_count": 9,
   "metadata": {
    "id": "fCL5pNfyttkp"
   },
   "outputs": [],
   "source": [
    "X_train_tf = transformer.fit_transform(X_train)\n",
    "X_test_tf = transformer.fit_transform(X_test)"
   ]
  },
  {
   "cell_type": "markdown",
   "metadata": {
    "id": "TL6ERRdFwQVA"
   },
   "source": [
    "### SequentialFeatureSelector"
   ]
  },
  {
   "cell_type": "code",
   "execution_count": 10,
   "metadata": {
    "colab": {
     "base_uri": "https://localhost:8080/"
    },
    "id": "bidAgsG5rVKn",
    "outputId": "bccbbd1b-8096-49f3-b9b0-25f02b1224a3"
   },
   "outputs": [
    {
     "name": "stdout",
     "output_type": "stream",
     "text": [
      "元の特徴量の数 21 選択された特徴量の数 15\n"
     ]
    }
   ],
   "source": [
    "# 特徴量の選択\n",
    "n_features = 15\n",
    "\n",
    "model = lgb.LGBMRegressor(random_state=42)\n",
    "\n",
    "sfs = SequentialFeatureSelector(\n",
    "    model, \n",
    "    n_features_to_select=n_features, \n",
    "    direction='forward'\n",
    ")\n",
    "\n",
    "sfs.fit(X_train_tf, y_train)\n",
    " \n",
    " # 選択された特徴量\n",
    "print(\"元の特徴量の数\", X_train_tf.shape[1], \"選択された特徴量の数\", X_train_tf[:, sfs.get_support()].shape[1])\n",
    "\n",
    "# 特徴量の選択\n",
    "X_train_select = X_train_tf[:, sfs.get_support()]\n",
    "X_test_select = X_test_tf[:, sfs.get_support()]"
   ]
  },
  {
   "cell_type": "code",
   "execution_count": 11,
   "metadata": {
    "colab": {
     "base_uri": "https://localhost:8080/"
    },
    "id": "x4izyQIdxDpu",
    "outputId": "c72b397d-e9cb-4e72-ccab-4897d2d383f1"
   },
   "outputs": [
    {
     "name": "stdout",
     "output_type": "stream",
     "text": [
      "RMSE: [0.21309849791068078, 0.1834027756883897, 0.20056790904927804, 0.17119539164902375, 0.23562960854119155]\n",
      "RMSE: 0.20077883656771278\n"
     ]
    }
   ],
   "source": [
    "# 学習・推論\n",
    "gkf = GroupKFold(n_splits=5)\n",
    "\n",
    "groups = X_train_select[:, 0]\n",
    "\n",
    "cv_result_sfs = []\n",
    "\n",
    "for i, (train_index, test_index) in enumerate(gkf.split(X_train_select, y_train, groups)):\n",
    "    X_train_gkf, X_test_gkf = X_train_select[train_index], X_train_select[test_index]\n",
    "    y_train_gkf, y_test_gkf = y_train.iloc[train_index], y_train.iloc[test_index]\n",
    "\n",
    "    # 学習、推論\n",
    "    model.fit(X_train_gkf, y_train_gkf)\n",
    "\n",
    "    y_pred = model.predict(X_test_gkf)\n",
    "\n",
    "    rmse = mean_squared_error(y_test_gkf, y_pred, squared=False)\n",
    "    cv_result_sfs.append(rmse)\n",
    "\n",
    "print(\"RMSE:\", cv_result_sfs)\n",
    "print(\"RMSE:\", np.mean(cv_result_sfs))"
   ]
  },
  {
   "cell_type": "markdown",
   "metadata": {
    "id": "kKs7cfx5wZ4_"
   },
   "source": [
    "### SelectFromModel"
   ]
  },
  {
   "cell_type": "code",
   "execution_count": 12,
   "metadata": {
    "colab": {
     "base_uri": "https://localhost:8080/"
    },
    "id": "jQGlbaT6vzXi",
    "outputId": "d5aa7228-8856-43bf-a467-0fead9b13c3e"
   },
   "outputs": [
    {
     "name": "stdout",
     "output_type": "stream",
     "text": [
      "元の特徴量の数 21 選択された特徴量の数 18\n"
     ]
    }
   ],
   "source": [
    "threshold = 0.15\n",
    "\n",
    "model = lgb.LGBMRegressor(random_state=42)\n",
    "\n",
    "sfm = SelectFromModel(\n",
    "    model, \n",
    "    threshold=threshold\n",
    ")\n",
    "\n",
    "sfm.fit(X_train_tf, y_train)\n",
    " \n",
    " # 選択された特徴量\n",
    "print(\"元の特徴量の数\", X_train_tf.shape[1], \"選択された特徴量の数\", X_train_tf[:, sfm.get_support()].shape[1])\n",
    "\n",
    "# 特徴量の選択\n",
    "X_train_select = X_train_tf[:, sfm.get_support()]\n",
    "X_test_select = X_test_tf[:, sfm.get_support()]"
   ]
  },
  {
   "cell_type": "code",
   "execution_count": 13,
   "metadata": {
    "colab": {
     "base_uri": "https://localhost:8080/"
    },
    "id": "qfMEl6U-zVfY",
    "outputId": "e99416e3-9a77-4a87-914c-1af93ac23c5f"
   },
   "outputs": [
    {
     "name": "stdout",
     "output_type": "stream",
     "text": [
      "RMSE: [0.22343504315865, 0.17239495669006594, 0.20376657887529404, 0.18454528436624612, 0.24466960968180426]\n",
      "RMSE: 0.20576229455441206\n"
     ]
    }
   ],
   "source": [
    "# 学習・推論\n",
    "gkf = GroupKFold(n_splits=5)\n",
    "\n",
    "groups = X_train_select[:, 0]\n",
    "\n",
    "cv_result_sfm = []\n",
    "\n",
    "for i, (train_index, test_index) in enumerate(gkf.split(X_train_select, y_train, groups)):\n",
    "    X_train_gkf, X_test_gkf = X_train_select[train_index], X_train_select[test_index]\n",
    "    y_train_gkf, y_test_gkf = y_train.iloc[train_index], y_train.iloc[test_index]\n",
    "\n",
    "    # 学習、推論\n",
    "    model.fit(X_train_gkf, y_train_gkf)\n",
    "\n",
    "    y_pred = model.predict(X_test_gkf)\n",
    "\n",
    "    rmse = mean_squared_error(y_test_gkf, y_pred, squared=False)\n",
    "    cv_result_sfm.append(rmse)\n",
    "\n",
    "print(\"RMSE:\", cv_result_sfm)\n",
    "print(\"RMSE:\", np.mean(cv_result_sfm))"
   ]
  },
  {
   "cell_type": "markdown",
   "metadata": {
    "id": "yMAUE7hUOuKo"
   },
   "source": [
    "## Xfeat Feature Selection with GBDT feature importance"
   ]
  },
  {
   "cell_type": "code",
   "execution_count": 14,
   "metadata": {
    "colab": {
     "base_uri": "https://localhost:8080/",
     "height": 98
    },
    "id": "siakvB3lSM7u",
    "outputId": "42cf5974-8803-4a0f-c2db-09f19abe83d1"
   },
   "outputs": [
    {
     "name": "stdout",
     "output_type": "stream",
     "text": [
      "13590\n"
     ]
    },
    {
     "data": {
      "text/html": [
       "<div>\n",
       "<style scoped>\n",
       "    .dataframe tbody tr th:only-of-type {\n",
       "        vertical-align: middle;\n",
       "    }\n",
       "\n",
       "    .dataframe tbody tr th {\n",
       "        vertical-align: top;\n",
       "    }\n",
       "\n",
       "    .dataframe thead th {\n",
       "        text-align: right;\n",
       "    }\n",
       "</style>\n",
       "<table border=\"1\" class=\"dataframe\">\n",
       "  <thead>\n",
       "    <tr style=\"text-align: right;\">\n",
       "      <th></th>\n",
       "      <th>Rank</th>\n",
       "      <th>Name</th>\n",
       "      <th>basename</th>\n",
       "      <th>Genre</th>\n",
       "      <th>ESRB_Rating</th>\n",
       "      <th>Platform</th>\n",
       "      <th>Publisher</th>\n",
       "      <th>Developer</th>\n",
       "      <th>VGChartz_Score</th>\n",
       "      <th>Critic_Score</th>\n",
       "      <th>User_Score</th>\n",
       "      <th>Total_Shipped</th>\n",
       "      <th>Year</th>\n",
       "      <th>Last_Update</th>\n",
       "      <th>url</th>\n",
       "      <th>status</th>\n",
       "      <th>Vgchartzscore</th>\n",
       "      <th>img_url</th>\n",
       "    </tr>\n",
       "  </thead>\n",
       "  <tbody>\n",
       "    <tr>\n",
       "      <th>0</th>\n",
       "      <td>0</td>\n",
       "      <td>0</td>\n",
       "      <td>0</td>\n",
       "      <td>0</td>\n",
       "      <td>3911</td>\n",
       "      <td>0</td>\n",
       "      <td>0</td>\n",
       "      <td>3</td>\n",
       "      <td>13590</td>\n",
       "      <td>10599</td>\n",
       "      <td>13480</td>\n",
       "      <td>13590</td>\n",
       "      <td>29</td>\n",
       "      <td>10929</td>\n",
       "      <td>0</td>\n",
       "      <td>0</td>\n",
       "      <td>13270</td>\n",
       "      <td>0</td>\n",
       "    </tr>\n",
       "  </tbody>\n",
       "</table>\n",
       "</div>"
      ],
      "text/plain": [
       "   Rank  Name  basename  Genre  ESRB_Rating  Platform  Publisher  Developer  \\\n",
       "0     0     0         0      0         3911         0          0          3   \n",
       "\n",
       "   VGChartz_Score  Critic_Score  User_Score  Total_Shipped  Year  Last_Update  \\\n",
       "0           13590         10599       13480          13590    29        10929   \n",
       "\n",
       "   url  status  Vgchartzscore  img_url  \n",
       "0    0       0          13270        0  "
      ]
     },
     "execution_count": 14,
     "metadata": {},
     "output_type": "execute_result"
    }
   ],
   "source": [
    "print(len(X_train))\n",
    "\n",
    "pd.DataFrame(X_train.isnull().sum()).T"
   ]
  },
  {
   "cell_type": "code",
   "execution_count": 15,
   "metadata": {
    "colab": {
     "base_uri": "https://localhost:8080/"
    },
    "id": "nyA88V8fSnmR",
    "outputId": "49b0ca2c-ae3c-4aef-c9db-50228bbcb68f"
   },
   "outputs": [
    {
     "name": "stdout",
     "output_type": "stream",
     "text": [
      "8\n",
      "6\n"
     ]
    }
   ],
   "source": [
    "### Nullのみで削除されるカラムを削除\n",
    "print(len(number_columns))\n",
    "\n",
    "for column in [\"VGChartz_Score\", \"Total_Shipped\"]:\n",
    "    number_columns.remove(column)\n",
    "\n",
    "print(len(number_columns))"
   ]
  },
  {
   "cell_type": "code",
   "execution_count": 16,
   "metadata": {
    "colab": {
     "base_uri": "https://localhost:8080/"
    },
    "id": "pNfY0L_iSpYw",
    "outputId": "d5d6de8c-1a1f-4ba5-f82a-161c492add6a"
   },
   "outputs": [
    {
     "name": "stdout",
     "output_type": "stream",
     "text": [
      "6 9 6\n",
      "21\n"
     ]
    }
   ],
   "source": [
    "# OneHotを考慮したの全カラム作成\n",
    "all_columns = number_columns + \\\n",
    "                        many_kinds_category_columns + \\\n",
    "                        pipe[\"columns_transformers\"].transformers_[2][1][\"onehot\"].get_feature_names(few_kinds_category_columns).tolist()\n",
    "\n",
    "print(len(number_columns), len(many_kinds_category_columns), len(pipe[\"columns_transformers\"].transformers_[2][1][\"onehot\"].get_feature_names(few_kinds_category_columns).tolist()))\n",
    "print(len(all_columns))"
   ]
  },
  {
   "cell_type": "code",
   "execution_count": 17,
   "metadata": {
    "id": "FMnozqWrTeyp"
   },
   "outputs": [],
   "source": [
    "X_train_tf_pd = pd.DataFrame(\n",
    "                X_train_tf,\n",
    "                columns=all_columns\n",
    "            )\n",
    "\n",
    "y_train_pd = pd.DataFrame(y_train).reset_index(drop=True)\n",
    "\n",
    "df_tf_pd = pd.concat([X_train_tf_pd, y_train_pd], axis=1)"
   ]
  },
  {
   "cell_type": "code",
   "execution_count": 18,
   "metadata": {
    "colab": {
     "base_uri": "https://localhost:8080/"
    },
    "id": "NhTzHIcvOyfI",
    "outputId": "785a1786-cdd2-4994-bcc2-b0b80c2bf2a3"
   },
   "outputs": [
    {
     "name": "stdout",
     "output_type": "stream",
     "text": [
      "Selected columns: None\n",
      "[LightGBM] [Warning] Auto-choosing col-wise multi-threading, the overhead of testing was 0.001588 seconds.\n",
      "You can set `force_col_wise=true` to remove the overhead.\n",
      "[LightGBM] [Info] Total Bins 2399\n",
      "[LightGBM] [Info] Number of data points in the train set: 13590, number of used features: 21\n",
      "[LightGBM] [Info] Start training from score 0.366483\n"
     ]
    }
   ],
   "source": [
    "params = {\n",
    "    \"objective\": \"regression\",\n",
    "    \"seed\": SEED,\n",
    "}\n",
    "fit_kwargs = {\n",
    "    \"num_boost_round\": 10,\n",
    "}\n",
    "\n",
    "selector = GBDTFeatureSelector(\n",
    "    input_cols=df_tf_pd.columns.tolist(),\n",
    "    target_col=\"Global_Sales\",\n",
    "    threshold=0.5,\n",
    "    lgbm_params=params,\n",
    "    lgbm_fit_kwargs=fit_kwargs,\n",
    ")\n",
    "\n",
    "# 選択した特徴量\n",
    "print(\"Selected columns:\", selector._selected_cols)\n",
    "\n",
    "# 特徴量選択\n",
    "df_selected = selector.fit_transform(df_tf_pd)"
   ]
  },
  {
   "cell_type": "code",
   "execution_count": 19,
   "metadata": {
    "colab": {
     "base_uri": "https://localhost:8080/"
    },
    "id": "PtMZKyTgWR7C",
    "outputId": "d56a053b-f490-476f-a1fc-25195034e072"
   },
   "outputs": [
    {
     "name": "stdout",
     "output_type": "stream",
     "text": [
      "RMSE: [0.19143688774135434, 0.1522579565915211, 0.20600288376790432, 0.19758492885001533, 0.25000689179730856]\n",
      "RMSE: 0.19945790974962074\n"
     ]
    }
   ],
   "source": [
    "X = df_selected.drop(\"Global_Sales\", axis=1)\n",
    "y = df_selected[\"Global_Sales\"]\n",
    "\n",
    "# 学習・推論\n",
    "gkf = GroupKFold(n_splits=5)\n",
    "\n",
    "groups = X.iloc[:, 0]\n",
    "\n",
    "cv_result_xfeat = []\n",
    "\n",
    "for i, (train_index, test_index) in enumerate(gkf.split(X, y, groups)):\n",
    "    X_train_gkf, X_test_gkf = X.iloc[train_index], X.iloc[test_index]\n",
    "    y_train_gkf, y_test_gkf = y.iloc[train_index], y.iloc[test_index]\n",
    "\n",
    "    # 学習、推論\n",
    "    model.fit(X_train_gkf, y_train_gkf)\n",
    "\n",
    "    y_pred = model.predict(X_test_gkf)\n",
    "\n",
    "    rmse = mean_squared_error(y_test_gkf, y_pred, squared=False)\n",
    "    cv_result_xfeat.append(rmse)\n",
    "\n",
    "print(\"RMSE:\", cv_result_xfeat)\n",
    "print(\"RMSE:\", np.mean(cv_result_xfeat))"
   ]
  },
  {
   "cell_type": "code",
   "execution_count": 20,
   "metadata": {
    "colab": {
     "base_uri": "https://localhost:8080/"
    },
    "id": "43nxicv_2Q6I",
    "outputId": "f9c12269-2753-44c5-863b-1ff4fa64f861"
   },
   "outputs": [
    {
     "name": "stdout",
     "output_type": "stream",
     "text": [
      "RMSE: 0.192\n",
      "SequentialFeatureSelector RMSE: 0.201\n",
      "SelectFromModel RMSE: 0.206\n",
      "Xfeat GBDTFeatureSelector RMSE: 0.199\n"
     ]
    }
   ],
   "source": [
    "print(\"RMSE:\", round(np.mean(cv_result_lgbm),3))\n",
    "print(\"SequentialFeatureSelector RMSE:\", round(np.mean(cv_result_sfs),3))\n",
    "print(\"SelectFromModel RMSE:\", round(np.mean(cv_result_sfm),3))\n",
    "print(\"Xfeat GBDTFeatureSelector RMSE:\", round(np.mean(cv_result_xfeat),3))"
   ]
  },
  {
   "cell_type": "code",
   "execution_count": null,
   "metadata": {
    "id": "wUmycOmxYvm3"
   },
   "outputs": [],
   "source": []
  }
 ],
 "metadata": {
  "colab": {
   "collapsed_sections": [],
   "name": "18_select_feature.ipynb",
   "provenance": []
  },
  "kernelspec": {
   "display_name": "Python 3 (ipykernel)",
   "language": "python",
   "name": "python3"
  },
  "language_info": {
   "codemirror_mode": {
    "name": "ipython",
    "version": 3
   },
   "file_extension": ".py",
   "mimetype": "text/x-python",
   "name": "python",
   "nbconvert_exporter": "python",
   "pygments_lexer": "ipython3",
   "version": "3.7.11"
  }
 },
 "nbformat": 4,
 "nbformat_minor": 1
}
