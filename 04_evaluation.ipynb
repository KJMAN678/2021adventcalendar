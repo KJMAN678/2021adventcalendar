{
 "cells": [
  {
   "cell_type": "markdown",
   "metadata": {
    "id": "PBqKPKFtsiKi"
   },
   "source": [
    "## データの読込"
   ]
  },
  {
   "cell_type": "code",
   "execution_count": 1,
   "metadata": {
    "colab": {
     "base_uri": "https://localhost:8080/",
     "height": 250
    },
    "id": "TSY5GPLirTwt",
    "outputId": "6d77d0cb-91b3-48db-a0bb-d9839005e169"
   },
   "outputs": [
    {
     "data": {
      "text/html": [
       "<div>\n",
       "<style scoped>\n",
       "    .dataframe tbody tr th:only-of-type {\n",
       "        vertical-align: middle;\n",
       "    }\n",
       "\n",
       "    .dataframe tbody tr th {\n",
       "        vertical-align: top;\n",
       "    }\n",
       "\n",
       "    .dataframe thead th {\n",
       "        text-align: right;\n",
       "    }\n",
       "</style>\n",
       "<table border=\"1\" class=\"dataframe\">\n",
       "  <thead>\n",
       "    <tr style=\"text-align: right;\">\n",
       "      <th></th>\n",
       "      <th>Rank</th>\n",
       "      <th>Name</th>\n",
       "      <th>basename</th>\n",
       "      <th>Genre</th>\n",
       "      <th>ESRB_Rating</th>\n",
       "      <th>Platform</th>\n",
       "      <th>Publisher</th>\n",
       "      <th>Developer</th>\n",
       "      <th>VGChartz_Score</th>\n",
       "      <th>Critic_Score</th>\n",
       "      <th>...</th>\n",
       "      <th>NA_Sales</th>\n",
       "      <th>PAL_Sales</th>\n",
       "      <th>JP_Sales</th>\n",
       "      <th>Other_Sales</th>\n",
       "      <th>Year</th>\n",
       "      <th>Last_Update</th>\n",
       "      <th>url</th>\n",
       "      <th>status</th>\n",
       "      <th>Vgchartzscore</th>\n",
       "      <th>img_url</th>\n",
       "    </tr>\n",
       "  </thead>\n",
       "  <tbody>\n",
       "    <tr>\n",
       "      <th>0</th>\n",
       "      <td>1</td>\n",
       "      <td>Wii Sports</td>\n",
       "      <td>wii-sports</td>\n",
       "      <td>Sports</td>\n",
       "      <td>E</td>\n",
       "      <td>Wii</td>\n",
       "      <td>Nintendo</td>\n",
       "      <td>Nintendo EAD</td>\n",
       "      <td>NaN</td>\n",
       "      <td>7.7</td>\n",
       "      <td>...</td>\n",
       "      <td>NaN</td>\n",
       "      <td>NaN</td>\n",
       "      <td>NaN</td>\n",
       "      <td>NaN</td>\n",
       "      <td>2006.0</td>\n",
       "      <td>NaN</td>\n",
       "      <td>http://www.vgchartz.com/game/2667/wii-sports/?...</td>\n",
       "      <td>1</td>\n",
       "      <td>NaN</td>\n",
       "      <td>/games/boxart/full_2258645AmericaFrontccc.jpg</td>\n",
       "    </tr>\n",
       "    <tr>\n",
       "      <th>1</th>\n",
       "      <td>2</td>\n",
       "      <td>Super Mario Bros.</td>\n",
       "      <td>super-mario-bros</td>\n",
       "      <td>Platform</td>\n",
       "      <td>NaN</td>\n",
       "      <td>NES</td>\n",
       "      <td>Nintendo</td>\n",
       "      <td>Nintendo EAD</td>\n",
       "      <td>NaN</td>\n",
       "      <td>10.0</td>\n",
       "      <td>...</td>\n",
       "      <td>NaN</td>\n",
       "      <td>NaN</td>\n",
       "      <td>NaN</td>\n",
       "      <td>NaN</td>\n",
       "      <td>1985.0</td>\n",
       "      <td>NaN</td>\n",
       "      <td>http://www.vgchartz.com/game/6455/super-mario-...</td>\n",
       "      <td>1</td>\n",
       "      <td>NaN</td>\n",
       "      <td>/games/boxart/8972270ccc.jpg</td>\n",
       "    </tr>\n",
       "    <tr>\n",
       "      <th>2</th>\n",
       "      <td>3</td>\n",
       "      <td>Mario Kart Wii</td>\n",
       "      <td>mario-kart-wii</td>\n",
       "      <td>Racing</td>\n",
       "      <td>E</td>\n",
       "      <td>Wii</td>\n",
       "      <td>Nintendo</td>\n",
       "      <td>Nintendo EAD</td>\n",
       "      <td>NaN</td>\n",
       "      <td>8.2</td>\n",
       "      <td>...</td>\n",
       "      <td>NaN</td>\n",
       "      <td>NaN</td>\n",
       "      <td>NaN</td>\n",
       "      <td>NaN</td>\n",
       "      <td>2008.0</td>\n",
       "      <td>11th Apr 18</td>\n",
       "      <td>http://www.vgchartz.com/game/6968/mario-kart-w...</td>\n",
       "      <td>1</td>\n",
       "      <td>8.7</td>\n",
       "      <td>/games/boxart/full_8932480AmericaFrontccc.jpg</td>\n",
       "    </tr>\n",
       "  </tbody>\n",
       "</table>\n",
       "<p>3 rows × 23 columns</p>\n",
       "</div>"
      ],
      "text/plain": [
       "   Rank               Name          basename     Genre ESRB_Rating Platform  \\\n",
       "0     1         Wii Sports        wii-sports    Sports           E      Wii   \n",
       "1     2  Super Mario Bros.  super-mario-bros  Platform         NaN      NES   \n",
       "2     3     Mario Kart Wii    mario-kart-wii    Racing           E      Wii   \n",
       "\n",
       "  Publisher     Developer  VGChartz_Score  Critic_Score  ...  NA_Sales  \\\n",
       "0  Nintendo  Nintendo EAD             NaN           7.7  ...       NaN   \n",
       "1  Nintendo  Nintendo EAD             NaN          10.0  ...       NaN   \n",
       "2  Nintendo  Nintendo EAD             NaN           8.2  ...       NaN   \n",
       "\n",
       "   PAL_Sales  JP_Sales  Other_Sales    Year  Last_Update  \\\n",
       "0        NaN       NaN          NaN  2006.0          NaN   \n",
       "1        NaN       NaN          NaN  1985.0          NaN   \n",
       "2        NaN       NaN          NaN  2008.0  11th Apr 18   \n",
       "\n",
       "                                                 url  status Vgchartzscore  \\\n",
       "0  http://www.vgchartz.com/game/2667/wii-sports/?...       1           NaN   \n",
       "1  http://www.vgchartz.com/game/6455/super-mario-...       1           NaN   \n",
       "2  http://www.vgchartz.com/game/6968/mario-kart-w...       1           8.7   \n",
       "\n",
       "                                         img_url  \n",
       "0  /games/boxart/full_2258645AmericaFrontccc.jpg  \n",
       "1                   /games/boxart/8972270ccc.jpg  \n",
       "2  /games/boxart/full_8932480AmericaFrontccc.jpg  \n",
       "\n",
       "[3 rows x 23 columns]"
      ]
     },
     "execution_count": 1,
     "metadata": {},
     "output_type": "execute_result"
    }
   ],
   "source": [
    "import pandas as pd\n",
    "df = pd.read_csv(\"vgsales-12-4-2019.csv\")\n",
    "df.head(3)"
   ]
  },
  {
   "cell_type": "markdown",
   "metadata": {
    "id": "aAfaORtwnhEv"
   },
   "source": [
    "## 精度評価"
   ]
  },
  {
   "cell_type": "code",
   "execution_count": 22,
   "metadata": {
    "id": "XMikPXSDsFqS"
   },
   "outputs": [],
   "source": [
    "import os\n",
    "import random\n",
    "import numpy as np\n",
    "import lightgbm as lgb\n",
    "from sklearn.model_selection import train_test_split\n",
    "from matplotlib import pyplot as plt\n",
    "\n",
    "from sklearn.metrics import mean_absolute_error\n",
    "from sklearn.metrics import mean_squared_error\n",
    "from sklearn.metrics import r2_score\n",
    "\n",
    "import warnings\n",
    "warnings.simplefilter('ignore')"
   ]
  },
  {
   "cell_type": "code",
   "execution_count": 23,
   "metadata": {
    "id": "wynNAOYFz-1I"
   },
   "outputs": [],
   "source": [
    "# シード値の固定\n",
    "SEED = 42\n",
    "\n",
    "random.seed(SEED)\n",
    "os.environ['PYTHONHASHSEED'] = str(SEED)\n",
    "np.random.seed(SEED)"
   ]
  },
  {
   "cell_type": "code",
   "execution_count": 24,
   "metadata": {
    "id": "4uFNdNW8ni51"
   },
   "outputs": [],
   "source": [
    "X_train, X_test, y_train, y_test = train_test_split(\n",
    "                                                    df.dropna(subset=[\"Global_Sales\"]).drop([\"Global_Sales\",  \"NA_Sales\", \"PAL_Sales\", \"JP_Sales\", \"Other_Sales\"], axis=1).select_dtypes(include=\"number\"), \n",
    "                                                    df.dropna(subset=[\"Global_Sales\"])[\"Global_Sales\"],  \n",
    "                                                    test_size=0.3,\n",
    "                                                    shuffle=True, \n",
    "                                                    random_state=42\n",
    "                                                    ) "
   ]
  },
  {
   "cell_type": "code",
   "execution_count": 25,
   "metadata": {
    "id": "I8_FB4yfnoAV"
   },
   "outputs": [],
   "source": [
    "# データセットを登録\n",
    "lgb_train = lgb.Dataset(X_train, y_train)\n",
    "lgb_test = lgb.Dataset(X_test, y_test, reference=lgb_train)"
   ]
  },
  {
   "cell_type": "code",
   "execution_count": 26,
   "metadata": {
    "id": "lTNz8lQznrDc"
   },
   "outputs": [],
   "source": [
    "params = {\n",
    "          'task': 'train',              # タスクを訓練に設定\n",
    "          'boosting_type': 'gbdt',      # GBDTを指定\n",
    "          'objective': 'regression',    # 回帰を指定\n",
    "          'metric': 'rmse',  # 回帰の損失（誤差）\n",
    "          'learning_rate': 0.1,         # 学習率\n",
    "          }"
   ]
  },
  {
   "cell_type": "code",
   "execution_count": 27,
   "metadata": {
    "colab": {
     "base_uri": "https://localhost:8080/"
    },
    "id": "6aNLugyxnvPl",
    "outputId": "f50cc919-d060-4453-cc67-83b1ce45cf4d"
   },
   "outputs": [
    {
     "name": "stdout",
     "output_type": "stream",
     "text": [
      "[LightGBM] [Warning] Auto-choosing col-wise multi-threading, the overhead of testing was 0.000867 seconds.\n",
      "You can set `force_col_wise=true` to remove the overhead.\n",
      "[LightGBM] [Info] Total Bins 441\n",
      "[LightGBM] [Info] Number of data points in the train set: 13590, number of used features: 5\n",
      "[LightGBM] [Info] Start training from score 0.366483\n",
      "Training until validation scores don't improve for 50 rounds\n",
      "Did not meet early stopping. Best iteration is:\n",
      "[100]\tTrain's rmse: 0.174516\tTest's rmse: 0.245209\n"
     ]
    }
   ],
   "source": [
    "lgb_results = {}                                    # 学習の履歴を入れる入物\n",
    "\n",
    "model = lgb.train(\n",
    "                  params=params,                    # ハイパーパラメータをセット\n",
    "                  train_set=lgb_train,              # 訓練データを訓練用にセット\n",
    "                  valid_sets=[lgb_train, lgb_test], # 訓練データとテストデータをセット\n",
    "                  valid_names=['Train', 'Test'],    # データセットの名前をそれぞれ設定\n",
    "                  num_boost_round=100,              # 計算回数\n",
    "                  early_stopping_rounds=50,         # アーリーストッピング設定\n",
    "                  evals_result=lgb_results,\n",
    "                  verbose_eval=-1,                           # ログを最後の1つだけ表示\n",
    "                  )  "
   ]
  },
  {
   "cell_type": "code",
   "execution_count": 28,
   "metadata": {
    "colab": {
     "base_uri": "https://localhost:8080/",
     "height": 279
    },
    "id": "jeHqgHbg9koJ",
    "outputId": "1afab12e-3b1a-409a-e691-2b3577d377a7"
   },
   "outputs": [
    {
     "data": {
      "image/png": "[encoded data removed]",
      "text/plain": [
       "<Figure size 432x288 with 1 Axes>"
      ]
     },
     "metadata": {
      "needs_background": "light"
     },
     "output_type": "display_data"
    }
   ],
   "source": [
    "loss_train = lgb_results['Train']['rmse']\n",
    "loss_test = lgb_results['Test']['rmse']   \n",
    "  \n",
    "fig = plt.figure()\n",
    "ax1 = fig.add_subplot(111)\n",
    "  \n",
    "ax1.set_xlabel('Iteration')\n",
    "ax1.set_ylabel('logloss')\n",
    " \n",
    "ax1.plot(loss_train, label='train loss')\n",
    "ax1.plot(loss_test, label='test loss')\n",
    " \n",
    "plt.legend()\n",
    "plt.show()"
   ]
  },
  {
   "cell_type": "code",
   "execution_count": 29,
   "metadata": {
    "id": "HLYjpUHRpcI_"
   },
   "outputs": [],
   "source": [
    "y_pred = model.predict(X_test)"
   ]
  },
  {
   "cell_type": "code",
   "execution_count": 30,
   "metadata": {
    "colab": {
     "base_uri": "https://localhost:8080/"
    },
    "id": "QteFw-LspgL_",
    "outputId": "bdf662e2-595e-473b-d613-45fbd625e249"
   },
   "outputs": [
    {
     "name": "stdout",
     "output_type": "stream",
     "text": [
      "MAE: 0.0183\n",
      "MSE: 0.0601\n",
      "RMSE 1: 0.2452\n",
      "RMSE 2: 0.2452\n",
      "R2 score: 0.9205\n"
     ]
    }
   ],
   "source": [
    "mae = mean_absolute_error(y_test, y_pred)\n",
    "print(\"MAE:\", round(mae, 4))\n",
    "\n",
    "mse = mean_squared_error(y_test, y_pred)\n",
    "print(\"MSE:\", round(mse, 4))\n",
    "\n",
    "rmse1 = np.sqrt(mean_squared_error(y_test, y_pred))\n",
    "print(\"RMSE 1:\", round(rmse1, 4))\n",
    "\n",
    "rmse2 = mean_squared_error(y_test, y_pred, squared=False)\n",
    "print(\"RMSE 2:\", round(rmse2, 4))\n",
    "\n",
    "r2score = r2_score(y_test, y_pred)\n",
    "print(\"R2 score:\", round(r2score, 4))"
   ]
  },
  {
   "cell_type": "markdown",
   "metadata": {
    "id": "HHrO-Qmo9_O5"
   },
   "source": [
    "### メトリクスを変えて実施"
   ]
  },
  {
   "cell_type": "code",
   "execution_count": 31,
   "metadata": {
    "id": "EY9gWEJB9-Pz"
   },
   "outputs": [],
   "source": [
    "params = {\n",
    "          'task': 'train',              # タスクを訓練に設定\n",
    "          'boosting_type': 'gbdt',      # GBDTを指定\n",
    "          'objective': 'regression',    # 回帰分類を指定\n",
    "          'metric': 'mae',  # 回帰の損失（誤差）\n",
    "          'learning_rate': 0.1,         # 学習率\n",
    "          }"
   ]
  },
  {
   "cell_type": "code",
   "execution_count": 32,
   "metadata": {
    "colab": {
     "base_uri": "https://localhost:8080/"
    },
    "id": "dor09pVT-V1g",
    "outputId": "a96e887f-ee29-4b82-c132-93e484026e5b"
   },
   "outputs": [
    {
     "name": "stdout",
     "output_type": "stream",
     "text": [
      "[LightGBM] [Warning] Auto-choosing row-wise multi-threading, the overhead of testing was 0.000697 seconds.\n",
      "You can set `force_row_wise=true` to remove the overhead.\n",
      "And if memory is not enough, you can set `force_col_wise=true`.\n",
      "[LightGBM] [Info] Total Bins 441\n",
      "[LightGBM] [Info] Number of data points in the train set: 13590, number of used features: 5\n",
      "[LightGBM] [Info] Start training from score 0.366483\n",
      "Training until validation scores don't improve for 50 rounds\n",
      "Did not meet early stopping. Best iteration is:\n",
      "[97]\tTrain's l1: 0.0145091\tTest's l1: 0.0182076\n"
     ]
    }
   ],
   "source": [
    "lgb_results = {}                                    # 学習の履歴を入れる入物\n",
    "\n",
    "model = lgb.train(\n",
    "                  params=params,                    # ハイパーパラメータをセット\n",
    "                  train_set=lgb_train,              # 訓練データを訓練用にセット\n",
    "                  valid_sets=[lgb_train, lgb_test], # 訓練データとテストデータをセット\n",
    "                  valid_names=['Train', 'Test'],    # データセットの名前をそれぞれ設定\n",
    "                  num_boost_round=100,              # 計算回数\n",
    "                  early_stopping_rounds=50,         # アーリーストッピング設定\n",
    "                  evals_result=lgb_results,\n",
    "                  verbose_eval=-1,                           # ログを最後の1つだけ表示\n",
    "                  )  "
   ]
  },
  {
   "cell_type": "code",
   "execution_count": 33,
   "metadata": {
    "colab": {
     "base_uri": "https://localhost:8080/",
     "height": 279
    },
    "id": "FaS4fojb-XnB",
    "outputId": "866ea3ff-914e-46e1-db55-5c43be09714d"
   },
   "outputs": [
    {
     "data": {
      "image/png": "[encoded data removed]",
      "text/plain": [
       "<Figure size 432x288 with 1 Axes>"
      ]
     },
     "metadata": {
      "needs_background": "light"
     },
     "output_type": "display_data"
    }
   ],
   "source": [
    "loss_train = lgb_results['Train']['l1']\n",
    "loss_test = lgb_results['Test']['l1']   \n",
    "  \n",
    "fig = plt.figure()\n",
    "ax1 = fig.add_subplot(111)\n",
    "  \n",
    "ax1.set_xlabel('Iteration')\n",
    "ax1.set_ylabel('logloss')\n",
    " \n",
    "ax1.plot(loss_train, label='train loss')\n",
    "ax1.plot(loss_test, label='test loss')\n",
    " \n",
    "plt.legend()\n",
    "plt.show()"
   ]
  },
  {
   "cell_type": "code",
   "execution_count": 34,
   "metadata": {
    "id": "yIBP2XRW-bZ3"
   },
   "outputs": [],
   "source": [
    "y_pred = model.predict(X_test)"
   ]
  },
  {
   "cell_type": "code",
   "execution_count": 35,
   "metadata": {
    "colab": {
     "base_uri": "https://localhost:8080/"
    },
    "id": "SAX9tS9F-dkA",
    "outputId": "7207e749-3aff-469d-9de4-209d27289c1f"
   },
   "outputs": [
    {
     "name": "stdout",
     "output_type": "stream",
     "text": [
      "MAE: 0.0182\n",
      "MSE: 0.0604\n",
      "RMSE 1: 0.2457\n",
      "RMSE 2: 0.2457\n",
      "R2 score: 0.9202\n"
     ]
    }
   ],
   "source": [
    "mae = mean_absolute_error(y_test, y_pred)\n",
    "print(\"MAE:\", round(mae, 4))\n",
    "\n",
    "mse = mean_squared_error(y_test, y_pred)\n",
    "print(\"MSE:\", round(mse, 4))\n",
    "\n",
    "rmse1 = np.sqrt(mean_squared_error(y_test, y_pred))\n",
    "print(\"RMSE 1:\", round(rmse1, 4))\n",
    "\n",
    "rmse2 = mean_squared_error(y_test, y_pred, squared=False)\n",
    "print(\"RMSE 2:\", round(rmse2, 4))\n",
    "\n",
    "r2score = r2_score(y_test, y_pred)\n",
    "print(\"R2 score:\", round(r2score, 4))"
   ]
  },
  {
   "cell_type": "markdown",
   "metadata": {
    "id": "Oa2QJXjEGN2I"
   },
   "source": [
    "## 極端な例"
   ]
  },
  {
   "cell_type": "markdown",
   "metadata": {
    "id": "Hstt2--HF-B5"
   },
   "source": [
    "### パターン1"
   ]
  },
  {
   "cell_type": "code",
   "execution_count": 36,
   "metadata": {
    "colab": {
     "base_uri": "https://localhost:8080/"
    },
    "id": "D03xDu-4pHMN",
    "outputId": "17457187-c8ab-4839-cd9b-1d939faa94d7"
   },
   "outputs": [
    {
     "name": "stdout",
     "output_type": "stream",
     "text": [
      "MAE: 50.0\n",
      "MSE: 4901.0\n",
      "RMSE: 70.00714249274856\n",
      "R2 score: -1.0412328196584757\n"
     ]
    }
   ],
   "source": [
    "true = [100, 2]\n",
    "pred = [1, 1]\n",
    "\n",
    "print(\"MAE:\", mean_absolute_error(true, pred))\n",
    "\n",
    "print(\"MSE:\", mean_squared_error(true, pred))\n",
    "\n",
    "print(\"RMSE:\", mean_squared_error(true, pred, squared=False))\n",
    "\n",
    "print(\"R2 score:\", r2_score(true, pred))"
   ]
  },
  {
   "cell_type": "markdown",
   "metadata": {
    "id": "s5Oxif4zGATp"
   },
   "source": [
    "### パターン2"
   ]
  },
  {
   "cell_type": "code",
   "execution_count": 37,
   "metadata": {
    "colab": {
     "base_uri": "https://localhost:8080/"
    },
    "id": "RYeopgHJ5x5F",
    "outputId": "31e6879a-b771-4442-b194-7aa35a6991e0"
   },
   "outputs": [
    {
     "name": "stdout",
     "output_type": "stream",
     "text": [
      "MAE: 98.5\n",
      "MSE: 9702.5\n",
      "RMSE: 98.50126902735822\n",
      "R2 score: -38809.0\n"
     ]
    }
   ],
   "source": [
    "true = [100, 99]\n",
    "pred = [1, 1]\n",
    "\n",
    "print(\"MAE:\", mean_absolute_error(true, pred))\n",
    "\n",
    "print(\"MSE:\", mean_squared_error(true, pred))\n",
    "\n",
    "print(\"RMSE:\", mean_squared_error(true, pred, squared=False))\n",
    "\n",
    "print(\"R2 score:\", r2_score(true, pred))"
   ]
  },
  {
   "cell_type": "markdown",
   "metadata": {
    "id": "6O1vIOD73jaF"
   },
   "source": [
    "## R2スコア補足"
   ]
  },
  {
   "cell_type": "markdown",
   "metadata": {
    "id": "IqSkCW_NF4kT"
   },
   "source": [
    "### パターン1 誤差大きいものと小さいものがある、予測は実績と相関がない"
   ]
  },
  {
   "cell_type": "code",
   "execution_count": 38,
   "metadata": {
    "colab": {
     "base_uri": "https://localhost:8080/"
    },
    "id": "bejkDITaFVyK",
    "outputId": "6fad075c-9213-40e9-e9f1-081b6aa0b1eb"
   },
   "outputs": [
    {
     "name": "stdout",
     "output_type": "stream",
     "text": [
      "実績:  [100, 2]\n",
      "予測:  [1, 1]\n",
      "実績の平均:  [51.0, 51.0]\n",
      "\n",
      "実績と予測の差(誤差)の総和の二乗:  9802\n",
      "実績と実績の平均値の差の総和の二乗:  4802.0\n",
      "R2 Score:  -1.0412328196584757\n"
     ]
    }
   ],
   "source": [
    "true = [100, 2]\n",
    "pred = [1, 1]\n",
    "\n",
    "print(\"実績: \", true)\n",
    "print(\"予測: \", pred)\n",
    "print(\"実績の平均: \", np.array([np.mean(true)] * len(true)).tolist() )\n",
    "print()\n",
    "\n",
    "a = np.sum(\n",
    "                (\n",
    "                    # 実績\n",
    "                    np.array(true) - \\\n",
    "                 \n",
    "                    # 予測\n",
    "                    np.array(pred)\n",
    "                ) \n",
    "            ** 2)\n",
    "print(\"実績と予測の差(誤差)の総和の二乗: \", a) # 分子\n",
    "\n",
    "b = np.sum( \n",
    "                (\n",
    "                    # 実績\n",
    "                    np.array(true)  \\\n",
    "                 \n",
    "                   # 実績の平均値\n",
    "                    - np.array([np.mean(true)] * len(true))\n",
    "                )\n",
    "             ** 2 )\n",
    "print(\"実績と実績の平均値の差の総和の二乗: \", b) # 分母\n",
    "\n",
    "score = 1 - a/b # R2 score\n",
    "print(\"R2 Score: \", score)"
   ]
  },
  {
   "cell_type": "markdown",
   "metadata": {
    "id": "Sd5_PR_jF2Qy"
   },
   "source": [
    "### パターン2 誤差大きい、予測は実績と相関がない"
   ]
  },
  {
   "cell_type": "code",
   "execution_count": 39,
   "metadata": {
    "colab": {
     "base_uri": "https://localhost:8080/"
    },
    "id": "ilJN1VciC-sR",
    "outputId": "872cbae6-09a1-493d-a114-07bc9ae9ba36"
   },
   "outputs": [
    {
     "name": "stdout",
     "output_type": "stream",
     "text": [
      "実績:  [100, 99]\n",
      "予測:  [1, 1]\n",
      "実績の平均:  [99.5, 99.5]\n",
      "\n",
      "実績と予測の差(誤差)の総和の二乗:  19405\n",
      "実績と実績の平均値の差の総和の二乗:  0.5\n",
      "R2 Score:  -38809.0\n"
     ]
    }
   ],
   "source": [
    "true = [100, 99]\n",
    "pred = [1, 1]\n",
    "\n",
    "print(\"実績: \", true)\n",
    "print(\"予測: \", pred)\n",
    "print(\"実績の平均: \", np.array([np.mean(true)] * len(true)).tolist() )\n",
    "print()\n",
    "\n",
    "a = np.sum(\n",
    "                (\n",
    "                    # 実績\n",
    "                    np.array(true) - \\\n",
    "                 \n",
    "                    # 予測\n",
    "                    np.array(pred)\n",
    "                ) \n",
    "            ** 2)\n",
    "print(\"実績と予測の差(誤差)の総和の二乗: \", a) # 分子\n",
    "\n",
    "b = np.sum( \n",
    "                (\n",
    "                    # 実績\n",
    "                    np.array(true)  \\\n",
    "                 \n",
    "                   # 実績の平均値\n",
    "                    - np.array([np.mean(true)] * len(true))\n",
    "                )\n",
    "             ** 2 )\n",
    "print(\"実績と実績の平均値の差の総和の二乗: \", b) # 分母\n",
    "\n",
    "score = 1 - a/b # R2 score\n",
    "print(\"R2 Score: \", score)"
   ]
  },
  {
   "cell_type": "markdown",
   "metadata": {
    "id": "DyhsdmgiHIw5"
   },
   "source": [
    "### パターン3 誤差も少なく、予測と実績に相関がある"
   ]
  },
  {
   "cell_type": "code",
   "execution_count": 40,
   "metadata": {
    "colab": {
     "base_uri": "https://localhost:8080/"
    },
    "id": "tjSa-efqGarq",
    "outputId": "948bf654-8b07-49fd-e538-48dd6f49e165"
   },
   "outputs": [
    {
     "name": "stdout",
     "output_type": "stream",
     "text": [
      "実績:  [1.5, 1.2]\n",
      "予測:  [1.4, 1.1]\n",
      "実績の平均:  [1.35, 1.35]\n",
      "\n",
      "実績と予測の差(誤差)の総和の二乗:  0.01999999999999999\n",
      "実績と実績の平均値の差の総和の二乗:  0.04500000000000001\n",
      "R2 Score:  0.5555555555555559\n"
     ]
    }
   ],
   "source": [
    "true = [1.5, 1.2]\n",
    "pred = [1.4, 1.1]\n",
    "\n",
    "print(\"実績: \", true)\n",
    "print(\"予測: \", pred)\n",
    "print(\"実績の平均: \", np.array([np.mean(true)] * len(true)).tolist() )\n",
    "print()\n",
    "\n",
    "a = np.sum(\n",
    "                (\n",
    "                    # 実績\n",
    "                    np.array(true) - \\\n",
    "                 \n",
    "                    # 予測\n",
    "                    np.array(pred)\n",
    "                ) \n",
    "            ** 2)\n",
    "print(\"実績と予測の差(誤差)の総和の二乗: \", a) # 分子\n",
    "\n",
    "b = np.sum( \n",
    "                (\n",
    "                    # 実績\n",
    "                    np.array(true)  \\\n",
    "                 \n",
    "                   # 実績の平均値\n",
    "                    - np.array([np.mean(true)] * len(true))\n",
    "                )\n",
    "             ** 2 )\n",
    "print(\"実績と実績の平均値の差の総和の二乗: \", b) # 分母\n",
    "\n",
    "score = 1 - a/b # R2 score\n",
    "print(\"R2 Score: \", score)"
   ]
  },
  {
   "cell_type": "markdown",
   "metadata": {
    "id": "kwCATp0wHOcj"
   },
   "source": [
    "### パターン4 誤差は少ないが予測に相関がない"
   ]
  },
  {
   "cell_type": "code",
   "execution_count": 41,
   "metadata": {
    "colab": {
     "base_uri": "https://localhost:8080/"
    },
    "id": "E0d8B_fdGtBi",
    "outputId": "05c78fd4-7067-4716-ca7e-9d570db3a81d"
   },
   "outputs": [
    {
     "name": "stdout",
     "output_type": "stream",
     "text": [
      "実績:  [1.5, 1.2]\n",
      "予測:  [1.0, 1.0]\n",
      "実績の平均:  [1.35, 1.35]\n",
      "\n",
      "実績と予測の差(誤差)の総和の二乗:  0.29\n",
      "実績と実績の平均値の差の総和の二乗:  0.04500000000000001\n",
      "R2 Score:  -5.444444444444442\n"
     ]
    }
   ],
   "source": [
    "true = [1.5, 1.2]\n",
    "pred = [1.0, 1.0]\n",
    "\n",
    "print(\"実績: \", true)\n",
    "print(\"予測: \", pred)\n",
    "print(\"実績の平均: \", np.array([np.mean(true)] * len(true)).tolist() )\n",
    "print()\n",
    "\n",
    "a = np.sum(\n",
    "                (\n",
    "                    # 実績\n",
    "                    np.array(true) - \\\n",
    "                 \n",
    "                    # 予測\n",
    "                    np.array(pred)\n",
    "                ) \n",
    "            ** 2)\n",
    "print(\"実績と予測の差(誤差)の総和の二乗: \", a) # 分子\n",
    "\n",
    "b = np.sum( \n",
    "                (\n",
    "                    # 実績\n",
    "                    np.array(true)  \\\n",
    "                 \n",
    "                   # 実績の平均値\n",
    "                    - np.array([np.mean(true)] * len(true))\n",
    "                )\n",
    "             ** 2 )\n",
    "print(\"実績と実績の平均値の差の総和の二乗: \", b) # 分母\n",
    "\n",
    "score = 1 - a/b # R2 score\n",
    "print(\"R2 Score: \", score)"
   ]
  }
 ],
 "metadata": {
  "colab": {
   "collapsed_sections": [],
   "name": "04_evaluation.ipynb",
   "provenance": []
  },
  "kernelspec": {
   "display_name": "Python 3 (ipykernel)",
   "language": "python",
   "name": "python3"
  },
  "language_info": {
   "codemirror_mode": {
    "name": "ipython",
    "version": 3
   },
   "file_extension": ".py",
   "mimetype": "text/x-python",
   "name": "python",
   "nbconvert_exporter": "python",
   "pygments_lexer": "ipython3",
   "version": "3.7.11"
  }
 },
 "nbformat": 4,
 "nbformat_minor": 1
}
