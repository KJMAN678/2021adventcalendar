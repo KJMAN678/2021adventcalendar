{
 "cells": [
  {
   "cell_type": "markdown",
   "metadata": {
    "id": "PBqKPKFtsiKi"
   },
   "source": [
    "## データの読込"
   ]
  },
  {
   "cell_type": "code",
   "execution_count": 1,
   "metadata": {
    "colab": {
     "base_uri": "https://localhost:8080/",
     "height": 250
    },
    "id": "TSY5GPLirTwt",
    "outputId": "614f389d-ed60-477e-a1de-8bb62bf7701d"
   },
   "outputs": [
    {
     "data": {
      "text/html": [
       "<div>\n",
       "<style scoped>\n",
       "    .dataframe tbody tr th:only-of-type {\n",
       "        vertical-align: middle;\n",
       "    }\n",
       "\n",
       "    .dataframe tbody tr th {\n",
       "        vertical-align: top;\n",
       "    }\n",
       "\n",
       "    .dataframe thead th {\n",
       "        text-align: right;\n",
       "    }\n",
       "</style>\n",
       "<table border=\"1\" class=\"dataframe\">\n",
       "  <thead>\n",
       "    <tr style=\"text-align: right;\">\n",
       "      <th></th>\n",
       "      <th>Rank</th>\n",
       "      <th>Name</th>\n",
       "      <th>basename</th>\n",
       "      <th>Genre</th>\n",
       "      <th>ESRB_Rating</th>\n",
       "      <th>Platform</th>\n",
       "      <th>Publisher</th>\n",
       "      <th>Developer</th>\n",
       "      <th>VGChartz_Score</th>\n",
       "      <th>Critic_Score</th>\n",
       "      <th>...</th>\n",
       "      <th>NA_Sales</th>\n",
       "      <th>PAL_Sales</th>\n",
       "      <th>JP_Sales</th>\n",
       "      <th>Other_Sales</th>\n",
       "      <th>Year</th>\n",
       "      <th>Last_Update</th>\n",
       "      <th>url</th>\n",
       "      <th>status</th>\n",
       "      <th>Vgchartzscore</th>\n",
       "      <th>img_url</th>\n",
       "    </tr>\n",
       "  </thead>\n",
       "  <tbody>\n",
       "    <tr>\n",
       "      <th>0</th>\n",
       "      <td>1</td>\n",
       "      <td>Wii Sports</td>\n",
       "      <td>wii-sports</td>\n",
       "      <td>Sports</td>\n",
       "      <td>E</td>\n",
       "      <td>Wii</td>\n",
       "      <td>Nintendo</td>\n",
       "      <td>Nintendo EAD</td>\n",
       "      <td>NaN</td>\n",
       "      <td>7.7</td>\n",
       "      <td>...</td>\n",
       "      <td>NaN</td>\n",
       "      <td>NaN</td>\n",
       "      <td>NaN</td>\n",
       "      <td>NaN</td>\n",
       "      <td>2006.0</td>\n",
       "      <td>NaN</td>\n",
       "      <td>http://www.vgchartz.com/game/2667/wii-sports/?...</td>\n",
       "      <td>1</td>\n",
       "      <td>NaN</td>\n",
       "      <td>/games/boxart/full_2258645AmericaFrontccc.jpg</td>\n",
       "    </tr>\n",
       "    <tr>\n",
       "      <th>1</th>\n",
       "      <td>2</td>\n",
       "      <td>Super Mario Bros.</td>\n",
       "      <td>super-mario-bros</td>\n",
       "      <td>Platform</td>\n",
       "      <td>NaN</td>\n",
       "      <td>NES</td>\n",
       "      <td>Nintendo</td>\n",
       "      <td>Nintendo EAD</td>\n",
       "      <td>NaN</td>\n",
       "      <td>10.0</td>\n",
       "      <td>...</td>\n",
       "      <td>NaN</td>\n",
       "      <td>NaN</td>\n",
       "      <td>NaN</td>\n",
       "      <td>NaN</td>\n",
       "      <td>1985.0</td>\n",
       "      <td>NaN</td>\n",
       "      <td>http://www.vgchartz.com/game/6455/super-mario-...</td>\n",
       "      <td>1</td>\n",
       "      <td>NaN</td>\n",
       "      <td>/games/boxart/8972270ccc.jpg</td>\n",
       "    </tr>\n",
       "    <tr>\n",
       "      <th>2</th>\n",
       "      <td>3</td>\n",
       "      <td>Mario Kart Wii</td>\n",
       "      <td>mario-kart-wii</td>\n",
       "      <td>Racing</td>\n",
       "      <td>E</td>\n",
       "      <td>Wii</td>\n",
       "      <td>Nintendo</td>\n",
       "      <td>Nintendo EAD</td>\n",
       "      <td>NaN</td>\n",
       "      <td>8.2</td>\n",
       "      <td>...</td>\n",
       "      <td>NaN</td>\n",
       "      <td>NaN</td>\n",
       "      <td>NaN</td>\n",
       "      <td>NaN</td>\n",
       "      <td>2008.0</td>\n",
       "      <td>11th Apr 18</td>\n",
       "      <td>http://www.vgchartz.com/game/6968/mario-kart-w...</td>\n",
       "      <td>1</td>\n",
       "      <td>8.7</td>\n",
       "      <td>/games/boxart/full_8932480AmericaFrontccc.jpg</td>\n",
       "    </tr>\n",
       "  </tbody>\n",
       "</table>\n",
       "<p>3 rows × 23 columns</p>\n",
       "</div>"
      ],
      "text/plain": [
       "   Rank               Name          basename     Genre ESRB_Rating Platform  \\\n",
       "0     1         Wii Sports        wii-sports    Sports           E      Wii   \n",
       "1     2  Super Mario Bros.  super-mario-bros  Platform         NaN      NES   \n",
       "2     3     Mario Kart Wii    mario-kart-wii    Racing           E      Wii   \n",
       "\n",
       "  Publisher     Developer  VGChartz_Score  Critic_Score  ...  NA_Sales  \\\n",
       "0  Nintendo  Nintendo EAD             NaN           7.7  ...       NaN   \n",
       "1  Nintendo  Nintendo EAD             NaN          10.0  ...       NaN   \n",
       "2  Nintendo  Nintendo EAD             NaN           8.2  ...       NaN   \n",
       "\n",
       "   PAL_Sales  JP_Sales  Other_Sales    Year  Last_Update  \\\n",
       "0        NaN       NaN          NaN  2006.0          NaN   \n",
       "1        NaN       NaN          NaN  1985.0          NaN   \n",
       "2        NaN       NaN          NaN  2008.0  11th Apr 18   \n",
       "\n",
       "                                                 url  status Vgchartzscore  \\\n",
       "0  http://www.vgchartz.com/game/2667/wii-sports/?...       1           NaN   \n",
       "1  http://www.vgchartz.com/game/6455/super-mario-...       1           NaN   \n",
       "2  http://www.vgchartz.com/game/6968/mario-kart-w...       1           8.7   \n",
       "\n",
       "                                         img_url  \n",
       "0  /games/boxart/full_2258645AmericaFrontccc.jpg  \n",
       "1                   /games/boxart/8972270ccc.jpg  \n",
       "2  /games/boxart/full_8932480AmericaFrontccc.jpg  \n",
       "\n",
       "[3 rows x 23 columns]"
      ]
     },
     "execution_count": 1,
     "metadata": {},
     "output_type": "execute_result"
    }
   ],
   "source": [
    "import pandas as pd\n",
    "df = pd.read_csv(\"vgsales-12-4-2019.csv\")\n",
    "df.head(3)"
   ]
  },
  {
   "cell_type": "code",
   "execution_count": 2,
   "metadata": {
    "colab": {
     "base_uri": "https://localhost:8080/"
    },
    "id": "8nm5shA1MJAo",
    "outputId": "33a68869-5012-4c83-9913-7b524b4da06c"
   },
   "outputs": [],
   "source": [
    "import os\n",
    "import time\n",
    "import random\n",
    "import pickle\n",
    "import pandas as pd\n",
    "import numpy as np\n",
    "import matplotlib.pyplot as plt\n",
    "import japanize_matplotlib\n",
    "from natsort import natsorted \n",
    "\n",
    "import optuna.integration.lightgbm as lgb\n",
    "import category_encoders as ce\n",
    "from sklearn.model_selection import train_test_split\n",
    "from sklearn.metrics import mean_squared_error\n",
    "from sklearn.preprocessing import StandardScaler\n",
    "from sklearn.model_selection import GroupKFold\n",
    "\n",
    "import warnings\n",
    "warnings.simplefilter('ignore')"
   ]
  },
  {
   "cell_type": "code",
   "execution_count": 3,
   "metadata": {
    "id": "87fRKYwwMK_v"
   },
   "outputs": [],
   "source": [
    "# シード値の固定\n",
    "SEED = 42\n",
    "\n",
    "random.seed(SEED)\n",
    "os.environ['PYTHONHASHSEED'] = str(SEED)\n",
    "np.random.seed(SEED)"
   ]
  },
  {
   "cell_type": "code",
   "execution_count": 4,
   "metadata": {
    "id": "ygrRF8xvMLjn"
   },
   "outputs": [],
   "source": [
    "X_train, X_test, y_train, y_test = train_test_split(\n",
    "                                                    df.dropna(subset=[\"Global_Sales\"]).drop([\"Global_Sales\",  \"NA_Sales\", \"PAL_Sales\", \"JP_Sales\", \"Other_Sales\"], axis=1), \n",
    "                                                    df.dropna(subset=[\"Global_Sales\"])[\"Global_Sales\"],  \n",
    "                                                    test_size=0.3,\n",
    "                                                    shuffle=True, \n",
    "                                                    random_state=SEED\n",
    "                                                    ) "
   ]
  },
  {
   "cell_type": "code",
   "execution_count": 5,
   "metadata": {
    "id": "x12bD-VcMPVg"
   },
   "outputs": [],
   "source": [
    "### 欠損値補完\n",
    "X_train_ff = X_train.fillna(method='ffill')\n",
    "X_test_ff = X_test.fillna(method='ffill')\n",
    "\n",
    "#### カテゴリーエンコーディング\n",
    "\n",
    "# ユニーク数に応じてカラムを分割する\n",
    "category_unique_num = X_train_ff.select_dtypes(include=\"object\").nunique()\n",
    "\n",
    "few_kinds_category_columns = category_unique_num[category_unique_num < 10].index\n",
    "many_kinds_category_columns = category_unique_num[category_unique_num >= 10].index\n",
    "\n",
    "\n",
    "# カテゴリーのエンコーディング法則を指定する\n",
    "ordinal_all_cols_mapping_ce = []\n",
    "\n",
    "for i, column in enumerate(many_kinds_category_columns):\n",
    "    ordinal_one_cols_mapping = {}\n",
    "    ordinal_one_cols_mapping_breakdown = {}\n",
    "    for j, category in enumerate(natsorted(X_train_ff[column].unique())):\n",
    "        ordinal_one_cols_mapping_breakdown[category] = j\n",
    "\n",
    "    ordinal_one_cols_mapping[\"col\"] = column\n",
    "    ordinal_one_cols_mapping[\"mapping\"] = ordinal_one_cols_mapping_breakdown\n",
    "    ordinal_all_cols_mapping_ce.append(ordinal_one_cols_mapping)\n",
    "\n",
    "\n",
    "# エンコーディング設定\n",
    "ode = ce.OrdinalEncoder(\n",
    "    mapping = ordinal_all_cols_mapping_ce,\n",
    "    cols = many_kinds_category_columns\n",
    ")\n",
    "\n",
    "ohe = ce.OneHotEncoder(\n",
    "    use_cat_names=True,\n",
    "    cols = few_kinds_category_columns\n",
    ")\n",
    "\n",
    "# 元データをコピー\n",
    "X_train_ce = X_train_ff.copy()\n",
    "X_test_ce = X_test_ff.copy()\n",
    "\n",
    "# OneHotEncoder\n",
    "X_train_ce = ohe.fit_transform(X_train_ce)\n",
    "X_test_ce = ohe.transform(X_test_ce)\n",
    "\n",
    "# OrdinalHotEncoder\n",
    "X_train_ce = ode.fit_transform(X_train_ce)\n",
    "X_test_ce = ode.transform(X_test_ce)\n",
    "\n",
    "# 正規化\n",
    "sc = StandardScaler()\n",
    "X_train_ce = pd.DataFrame(\n",
    "                            sc.fit_transform(X_train_ce),\n",
    "                            columns=X_train_ce.columns\n",
    "                            )\n",
    "\n",
    "X_test_ce = pd.DataFrame(\n",
    "                            sc.transform(X_test_ce),\n",
    "                            columns=X_test_ce.columns\n",
    "                            )"
   ]
  },
  {
   "cell_type": "markdown",
   "metadata": {
    "id": "t0GQq_C-R2th"
   },
   "source": [
    "## モデルの保存"
   ]
  },
  {
   "cell_type": "code",
   "execution_count": 6,
   "metadata": {
    "colab": {
     "base_uri": "https://localhost:8080/",
     "height": 1000
    },
    "id": "yO4Lks4PMSh3",
    "outputId": "49ab4ee1-0806-4322-d6f5-37d2fbe7d81a"
   },
   "outputs": [
    {
     "name": "stderr",
     "output_type": "stream",
     "text": [
      "\u001b[32m[I 2021-12-27 17:20:03,308]\u001b[0m A new study created in memory with name: no-name-7e50854a-0514-4c53-be4e-8733ac684118\u001b[0m\n"
     ]
    },
    {
     "name": "stdout",
     "output_type": "stream",
     "text": [
      "[LightGBM] [Info] Total Bins 2296\n",
      "[LightGBM] [Info] Number of data points in the train set: 10909, number of used features: 22\n",
      "[LightGBM] [Info] Start training from score 0.356349\n",
      "Training until validation scores don't improve for 50 rounds\n"
     ]
    },
    {
     "name": "stderr",
     "output_type": "stream",
     "text": [
      "\u001b[32m[I 2021-12-27 17:20:03,715]\u001b[0m Trial 0 finished with value: 0.3412301298956539 and parameters: {'feature_fraction': 0.8999999999999999}. Best is trial 0 with value: 0.3412301298956539.\u001b[0m\n"
     ]
    },
    {
     "name": "stdout",
     "output_type": "stream",
     "text": [
      "Early stopping, best iteration is:\n",
      "[39]\tTrain's rmse: 0.148039\tTest's rmse: 0.34123\n",
      "[LightGBM] [Info] Total Bins 2296\n",
      "[LightGBM] [Info] Number of data points in the train set: 10909, number of used features: 22\n",
      "[LightGBM] [Info] Start training from score 0.356349\n",
      "Training until validation scores don't improve for 50 rounds\n"
     ]
    },
    {
     "name": "stderr",
     "output_type": "stream",
     "text": [
      "\u001b[32m[I 2021-12-27 17:20:04,045]\u001b[0m Trial 1 finished with value: 0.36319818283332056 and parameters: {'feature_fraction': 0.4}. Best is trial 0 with value: 0.3412301298956539.\u001b[0m\n"
     ]
    },
    {
     "name": "stdout",
     "output_type": "stream",
     "text": [
      "Did not meet early stopping. Best iteration is:\n",
      "[100]\tTrain's rmse: 0.119969\tTest's rmse: 0.363198\n",
      "[LightGBM] [Info] Total Bins 2296\n",
      "[LightGBM] [Info] Number of data points in the train set: 10909, number of used features: 22\n",
      "[LightGBM] [Info] Start training from score 0.356349\n",
      "Training until validation scores don't improve for 50 rounds\n"
     ]
    },
    {
     "name": "stderr",
     "output_type": "stream",
     "text": [
      "\u001b[32m[I 2021-12-27 17:20:04,404]\u001b[0m Trial 2 finished with value: 0.35158111665403585 and parameters: {'feature_fraction': 0.5}. Best is trial 0 with value: 0.3412301298956539.\u001b[0m\n"
     ]
    },
    {
     "name": "stdout",
     "output_type": "stream",
     "text": [
      "Did not meet early stopping. Best iteration is:\n",
      "[100]\tTrain's rmse: 0.112125\tTest's rmse: 0.351581\n",
      "[LightGBM] [Info] Total Bins 2296\n",
      "[LightGBM] [Info] Number of data points in the train set: 10909, number of used features: 22\n",
      "[LightGBM] [Info] Start training from score 0.356349\n",
      "Training until validation scores don't improve for 50 rounds\n"
     ]
    },
    {
     "name": "stderr",
     "output_type": "stream",
     "text": [
      "\u001b[32m[I 2021-12-27 17:20:04,881]\u001b[0m Trial 3 finished with value: 0.34334969762085965 and parameters: {'feature_fraction': 0.8}. Best is trial 0 with value: 0.3412301298956539.\u001b[0m\n"
     ]
    },
    {
     "name": "stdout",
     "output_type": "stream",
     "text": [
      "Early stopping, best iteration is:\n",
      "[39]\tTrain's rmse: 0.153983\tTest's rmse: 0.34335\n",
      "[LightGBM] [Info] Total Bins 2296\n",
      "[LightGBM] [Info] Number of data points in the train set: 10909, number of used features: 22\n",
      "[LightGBM] [Info] Start training from score 0.356349\n",
      "Training until validation scores don't improve for 50 rounds\n"
     ]
    },
    {
     "name": "stderr",
     "output_type": "stream",
     "text": [
      "\u001b[32m[I 2021-12-27 17:20:05,425]\u001b[0m Trial 4 finished with value: 0.3534894306752722 and parameters: {'feature_fraction': 0.6}. Best is trial 0 with value: 0.3412301298956539.\u001b[0m\n"
     ]
    },
    {
     "name": "stdout",
     "output_type": "stream",
     "text": [
      "Did not meet early stopping. Best iteration is:\n",
      "[100]\tTrain's rmse: 0.107351\tTest's rmse: 0.353489\n",
      "[LightGBM] [Info] Total Bins 2296\n",
      "[LightGBM] [Info] Number of data points in the train set: 10909, number of used features: 22\n",
      "[LightGBM] [Info] Start training from score 0.356349\n",
      "Training until validation scores don't improve for 50 rounds\n"
     ]
    },
    {
     "name": "stderr",
     "output_type": "stream",
     "text": [
      "\u001b[32m[I 2021-12-27 17:20:05,842]\u001b[0m Trial 5 finished with value: 0.35272197059535476 and parameters: {'feature_fraction': 0.7}. Best is trial 0 with value: 0.3412301298956539.\u001b[0m\n"
     ]
    },
    {
     "name": "stdout",
     "output_type": "stream",
     "text": [
      "Did not meet early stopping. Best iteration is:\n",
      "[100]\tTrain's rmse: 0.105091\tTest's rmse: 0.352722\n",
      "[LightGBM] [Info] Total Bins 2296\n",
      "[LightGBM] [Info] Number of data points in the train set: 10909, number of used features: 22\n",
      "[LightGBM] [Info] Start training from score 0.356349\n",
      "Training until validation scores don't improve for 50 rounds\n"
     ]
    },
    {
     "name": "stderr",
     "output_type": "stream",
     "text": [
      "\u001b[32m[I 2021-12-27 17:20:06,217]\u001b[0m Trial 6 finished with value: 0.3450742997835388 and parameters: {'feature_fraction': 1.0}. Best is trial 0 with value: 0.3412301298956539.\u001b[0m\n"
     ]
    },
    {
     "name": "stdout",
     "output_type": "stream",
     "text": [
      "Early stopping, best iteration is:\n",
      "[46]\tTrain's rmse: 0.145024\tTest's rmse: 0.345074\n",
      "[LightGBM] [Info] Total Bins 2296\n",
      "[LightGBM] [Info] Number of data points in the train set: 10909, number of used features: 22\n",
      "[LightGBM] [Info] Start training from score 0.356349\n",
      "Training until validation scores don't improve for 50 rounds\n"
     ]
    },
    {
     "name": "stderr",
     "output_type": "stream",
     "text": [
      "\u001b[32m[I 2021-12-27 17:20:07,454]\u001b[0m Trial 7 finished with value: 0.3478036199528396 and parameters: {'num_leaves': 175}. Best is trial 7 with value: 0.3478036199528396.\u001b[0m\n"
     ]
    },
    {
     "name": "stdout",
     "output_type": "stream",
     "text": [
      "Early stopping, best iteration is:\n",
      "[40]\tTrain's rmse: 0.144572\tTest's rmse: 0.347804\n",
      "[LightGBM] [Info] Total Bins 2296\n",
      "[LightGBM] [Info] Number of data points in the train set: 10909, number of used features: 22\n",
      "[LightGBM] [Info] Start training from score 0.356349\n",
      "Training until validation scores don't improve for 50 rounds\n"
     ]
    },
    {
     "name": "stderr",
     "output_type": "stream",
     "text": [
      "\u001b[32m[I 2021-12-27 17:20:10,006]\u001b[0m Trial 8 finished with value: 0.34466422777110683 and parameters: {'num_leaves': 234}. Best is trial 8 with value: 0.34466422777110683.\u001b[0m\n"
     ]
    },
    {
     "name": "stdout",
     "output_type": "stream",
     "text": [
      "Early stopping, best iteration is:\n",
      "[40]\tTrain's rmse: 0.144218\tTest's rmse: 0.344664\n",
      "[LightGBM] [Info] Total Bins 2296\n",
      "[LightGBM] [Info] Number of data points in the train set: 10909, number of used features: 22\n",
      "[LightGBM] [Info] Start training from score 0.356349\n",
      "Training until validation scores don't improve for 50 rounds\n"
     ]
    },
    {
     "name": "stderr",
     "output_type": "stream",
     "text": [
      "\u001b[32m[I 2021-12-27 17:20:10,843]\u001b[0m Trial 9 finished with value: 0.34426132532728426 and parameters: {'num_leaves': 53}. Best is trial 9 with value: 0.34426132532728426.\u001b[0m\n"
     ]
    },
    {
     "name": "stdout",
     "output_type": "stream",
     "text": [
      "Early stopping, best iteration is:\n",
      "[48]\tTrain's rmse: 0.142061\tTest's rmse: 0.344261\n",
      "[LightGBM] [Info] Total Bins 2296\n",
      "[LightGBM] [Info] Number of data points in the train set: 10909, number of used features: 22\n",
      "[LightGBM] [Info] Start training from score 0.356349\n",
      "Training until validation scores don't improve for 50 rounds\n"
     ]
    },
    {
     "name": "stderr",
     "output_type": "stream",
     "text": [
      "\u001b[32m[I 2021-12-27 17:20:11,860]\u001b[0m Trial 10 finished with value: 0.3429627313421306 and parameters: {'num_leaves': 70}. Best is trial 10 with value: 0.3429627313421306.\u001b[0m\n"
     ]
    },
    {
     "name": "stdout",
     "output_type": "stream",
     "text": [
      "Did not meet early stopping. Best iteration is:\n",
      "[100]\tTrain's rmse: 0.121817\tTest's rmse: 0.342963\n",
      "[LightGBM] [Info] Total Bins 2296\n",
      "[LightGBM] [Info] Number of data points in the train set: 10909, number of used features: 22\n",
      "[LightGBM] [Info] Start training from score 0.356349\n",
      "Training until validation scores don't improve for 50 rounds\n"
     ]
    },
    {
     "name": "stderr",
     "output_type": "stream",
     "text": [
      "\u001b[32m[I 2021-12-27 17:20:12,703]\u001b[0m Trial 11 finished with value: 0.3451512275492254 and parameters: {'num_leaves': 89}. Best is trial 10 with value: 0.3429627313421306.\u001b[0m\n"
     ]
    },
    {
     "name": "stdout",
     "output_type": "stream",
     "text": [
      "Early stopping, best iteration is:\n",
      "[48]\tTrain's rmse: 0.145212\tTest's rmse: 0.345151\n",
      "[LightGBM] [Info] Total Bins 2296\n",
      "[LightGBM] [Info] Number of data points in the train set: 10909, number of used features: 22\n",
      "[LightGBM] [Info] Start training from score 0.356349\n",
      "Training until validation scores don't improve for 50 rounds\n"
     ]
    },
    {
     "name": "stderr",
     "output_type": "stream",
     "text": [
      "\u001b[32m[I 2021-12-27 17:20:14,085]\u001b[0m Trial 12 finished with value: 0.3468704564282985 and parameters: {'num_leaves': 214}. Best is trial 10 with value: 0.3429627313421306.\u001b[0m\n"
     ]
    },
    {
     "name": "stdout",
     "output_type": "stream",
     "text": [
      "Early stopping, best iteration is:\n",
      "[37]\tTrain's rmse: 0.147416\tTest's rmse: 0.34687\n",
      "[LightGBM] [Info] Total Bins 2296\n",
      "[LightGBM] [Info] Number of data points in the train set: 10909, number of used features: 22\n",
      "[LightGBM] [Info] Start training from score 0.356349\n",
      "Training until validation scores don't improve for 50 rounds\n"
     ]
    },
    {
     "name": "stderr",
     "output_type": "stream",
     "text": [
      "\u001b[32m[I 2021-12-27 17:20:16,654]\u001b[0m Trial 13 finished with value: 0.3461266077239298 and parameters: {'num_leaves': 207}. Best is trial 10 with value: 0.3429627313421306.\u001b[0m\n"
     ]
    },
    {
     "name": "stdout",
     "output_type": "stream",
     "text": [
      "Did not meet early stopping. Best iteration is:\n",
      "[100]\tTrain's rmse: 0.115726\tTest's rmse: 0.346127\n",
      "[LightGBM] [Info] Total Bins 2296\n",
      "[LightGBM] [Info] Number of data points in the train set: 10909, number of used features: 22\n",
      "[LightGBM] [Info] Start training from score 0.356349\n",
      "Training until validation scores don't improve for 50 rounds\n"
     ]
    },
    {
     "name": "stderr",
     "output_type": "stream",
     "text": [
      "\u001b[32m[I 2021-12-27 17:20:17,766]\u001b[0m Trial 14 finished with value: 0.34738864696253474 and parameters: {'num_leaves': 99}. Best is trial 10 with value: 0.3429627313421306.\u001b[0m\n"
     ]
    },
    {
     "name": "stdout",
     "output_type": "stream",
     "text": [
      "Early stopping, best iteration is:\n",
      "[40]\tTrain's rmse: 0.145488\tTest's rmse: 0.347389\n",
      "[LightGBM] [Info] Total Bins 2296\n",
      "[LightGBM] [Info] Number of data points in the train set: 10909, number of used features: 22\n",
      "[LightGBM] [Info] Start training from score 0.356349\n",
      "Training until validation scores don't improve for 50 rounds\n"
     ]
    },
    {
     "name": "stderr",
     "output_type": "stream",
     "text": [
      "\u001b[32m[I 2021-12-27 17:20:19,323]\u001b[0m Trial 15 finished with value: 0.34750237107326654 and parameters: {'num_leaves': 205}. Best is trial 10 with value: 0.3429627313421306.\u001b[0m\n"
     ]
    },
    {
     "name": "stdout",
     "output_type": "stream",
     "text": [
      "Early stopping, best iteration is:\n",
      "[48]\tTrain's rmse: 0.142934\tTest's rmse: 0.347502\n",
      "[LightGBM] [Info] Total Bins 2296\n",
      "[LightGBM] [Info] Number of data points in the train set: 10909, number of used features: 22\n",
      "[LightGBM] [Info] Start training from score 0.356349\n",
      "[LightGBM] [Warning] No further splits with positive gain, best gain: -inf\n",
      "Training until validation scores don't improve for 50 rounds\n",
      "[LightGBM] [Warning] No further splits with positive gain, best gain: -inf\n"
     ]
    },
    {
     "name": "stderr",
     "output_type": "stream",
     "text": [
      "\u001b[32m[I 2021-12-27 17:20:22,286]\u001b[0m Trial 16 finished with value: 0.3453192069821891 and parameters: {'num_leaves': 256}. Best is trial 10 with value: 0.3429627313421306.\u001b[0m\n"
     ]
    },
    {
     "name": "stdout",
     "output_type": "stream",
     "text": [
      "Early stopping, best iteration is:\n",
      "[48]\tTrain's rmse: 0.14137\tTest's rmse: 0.345319\n",
      "[LightGBM] [Info] Total Bins 2296\n",
      "[LightGBM] [Info] Number of data points in the train set: 10909, number of used features: 22\n",
      "[LightGBM] [Info] Start training from score 0.356349\n",
      "Training until validation scores don't improve for 50 rounds\n"
     ]
    },
    {
     "name": "stderr",
     "output_type": "stream",
     "text": [
      "\u001b[32m[I 2021-12-27 17:20:22,457]\u001b[0m Trial 17 finished with value: 0.3354492525890436 and parameters: {'num_leaves': 4}. Best is trial 17 with value: 0.3354492525890436.\u001b[0m\n",
      "\u001b[32m[I 2021-12-27 17:20:22,629]\u001b[0m Trial 18 finished with value: 0.3274649076068678 and parameters: {'num_leaves': 6}. Best is trial 18 with value: 0.3274649076068678.\u001b[0m\n"
     ]
    },
    {
     "name": "stdout",
     "output_type": "stream",
     "text": [
      "Did not meet early stopping. Best iteration is:\n",
      "[100]\tTrain's rmse: 0.152301\tTest's rmse: 0.335449\n",
      "[LightGBM] [Info] Total Bins 2296\n",
      "[LightGBM] [Info] Number of data points in the train set: 10909, number of used features: 22\n",
      "[LightGBM] [Info] Start training from score 0.356349\n",
      "Training until validation scores don't improve for 50 rounds\n",
      "Did not meet early stopping. Best iteration is:\n",
      "[100]\tTrain's rmse: 0.124266\tTest's rmse: 0.327465\n",
      "[LightGBM] [Info] Total Bins 2296\n",
      "[LightGBM] [Info] Number of data points in the train set: 10909, number of used features: 22\n",
      "[LightGBM] [Info] Start training from score 0.356349\n",
      "Training until validation scores don't improve for 50 rounds\n"
     ]
    },
    {
     "name": "stderr",
     "output_type": "stream",
     "text": [
      "\u001b[32m[I 2021-12-27 17:20:22,932]\u001b[0m Trial 19 finished with value: 0.34149764401665994 and parameters: {'num_leaves': 18}. Best is trial 18 with value: 0.3274649076068678.\u001b[0m\n"
     ]
    },
    {
     "name": "stdout",
     "output_type": "stream",
     "text": [
      "Did not meet early stopping. Best iteration is:\n",
      "[100]\tTrain's rmse: 0.124883\tTest's rmse: 0.341498\n",
      "[LightGBM] [Info] Total Bins 2296\n",
      "[LightGBM] [Info] Number of data points in the train set: 10909, number of used features: 22\n",
      "[LightGBM] [Info] Start training from score 0.356349\n",
      "Training until validation scores don't improve for 50 rounds\n",
      "Did not meet early stopping. Best iteration is:\n",
      "[100]\tTrain's rmse: 0.124266\tTest's rmse: 0.327465\n"
     ]
    },
    {
     "name": "stderr",
     "output_type": "stream",
     "text": [
      "\u001b[32m[I 2021-12-27 17:20:23,133]\u001b[0m Trial 20 finished with value: 0.3274649076068678 and parameters: {'num_leaves': 6}. Best is trial 18 with value: 0.3274649076068678.\u001b[0m\n"
     ]
    },
    {
     "name": "stdout",
     "output_type": "stream",
     "text": [
      "[LightGBM] [Info] Total Bins 2296\n",
      "[LightGBM] [Info] Number of data points in the train set: 10909, number of used features: 22\n",
      "[LightGBM] [Info] Start training from score 0.356349\n",
      "Training until validation scores don't improve for 50 rounds\n"
     ]
    },
    {
     "name": "stderr",
     "output_type": "stream",
     "text": [
      "\u001b[32m[I 2021-12-27 17:20:24,510]\u001b[0m Trial 21 finished with value: 0.346537940763408 and parameters: {'num_leaves': 133}. Best is trial 18 with value: 0.3274649076068678.\u001b[0m\n"
     ]
    },
    {
     "name": "stdout",
     "output_type": "stream",
     "text": [
      "Early stopping, best iteration is:\n",
      "[48]\tTrain's rmse: 0.140428\tTest's rmse: 0.346538\n",
      "[LightGBM] [Info] Total Bins 2296\n",
      "[LightGBM] [Info] Number of data points in the train set: 10909, number of used features: 22\n",
      "[LightGBM] [Info] Start training from score 0.356349\n",
      "Training until validation scores don't improve for 50 rounds\n"
     ]
    },
    {
     "name": "stderr",
     "output_type": "stream",
     "text": [
      "\u001b[32m[I 2021-12-27 17:20:25,175]\u001b[0m Trial 22 finished with value: 0.3442635817509103 and parameters: {'num_leaves': 38}. Best is trial 18 with value: 0.3274649076068678.\u001b[0m\n"
     ]
    },
    {
     "name": "stdout",
     "output_type": "stream",
     "text": [
      "Did not meet early stopping. Best iteration is:\n",
      "[100]\tTrain's rmse: 0.121705\tTest's rmse: 0.344264\n",
      "[LightGBM] [Info] Total Bins 2296\n",
      "[LightGBM] [Info] Number of data points in the train set: 10909, number of used features: 22\n",
      "[LightGBM] [Info] Start training from score 0.356349\n",
      "Training until validation scores don't improve for 50 rounds\n"
     ]
    },
    {
     "name": "stderr",
     "output_type": "stream",
     "text": [
      "\u001b[32m[I 2021-12-27 17:20:25,593]\u001b[0m Trial 23 finished with value: 0.3412355775183869 and parameters: {'num_leaves': 30}. Best is trial 18 with value: 0.3274649076068678.\u001b[0m\n"
     ]
    },
    {
     "name": "stdout",
     "output_type": "stream",
     "text": [
      "Early stopping, best iteration is:\n",
      "[47]\tTrain's rmse: 0.146249\tTest's rmse: 0.341236\n",
      "[LightGBM] [Info] Total Bins 2296\n",
      "[LightGBM] [Info] Number of data points in the train set: 10909, number of used features: 22\n",
      "[LightGBM] [Info] Start training from score 0.356349\n",
      "Training until validation scores don't improve for 50 rounds\n"
     ]
    },
    {
     "name": "stderr",
     "output_type": "stream",
     "text": [
      "\u001b[32m[I 2021-12-27 17:20:27,610]\u001b[0m Trial 24 finished with value: 0.3442798475164643 and parameters: {'num_leaves': 138}. Best is trial 18 with value: 0.3274649076068678.\u001b[0m\n"
     ]
    },
    {
     "name": "stdout",
     "output_type": "stream",
     "text": [
      "Early stopping, best iteration is:\n",
      "[48]\tTrain's rmse: 0.147669\tTest's rmse: 0.34428\n",
      "[LightGBM] [Info] Total Bins 2296\n",
      "[LightGBM] [Info] Number of data points in the train set: 10909, number of used features: 22\n",
      "[LightGBM] [Info] Start training from score 0.356349\n",
      "Training until validation scores don't improve for 50 rounds\n"
     ]
    },
    {
     "name": "stderr",
     "output_type": "stream",
     "text": [
      "\u001b[32m[I 2021-12-27 17:20:27,807]\u001b[0m Trial 25 finished with value: 0.3324629768322722 and parameters: {'num_leaves': 5}. Best is trial 18 with value: 0.3274649076068678.\u001b[0m\n"
     ]
    },
    {
     "name": "stdout",
     "output_type": "stream",
     "text": [
      "Did not meet early stopping. Best iteration is:\n",
      "[100]\tTrain's rmse: 0.134838\tTest's rmse: 0.332463\n",
      "[LightGBM] [Info] Total Bins 2296\n",
      "[LightGBM] [Info] Number of data points in the train set: 10909, number of used features: 22\n",
      "[LightGBM] [Info] Start training from score 0.356349\n",
      "Training until validation scores don't improve for 50 rounds\n"
     ]
    },
    {
     "name": "stderr",
     "output_type": "stream",
     "text": [
      "\u001b[32m[I 2021-12-27 17:20:28,595]\u001b[0m Trial 26 finished with value: 0.34711616794326033 and parameters: {'num_leaves': 67}. Best is trial 18 with value: 0.3274649076068678.\u001b[0m\n"
     ]
    },
    {
     "name": "stdout",
     "output_type": "stream",
     "text": [
      "Did not meet early stopping. Best iteration is:\n",
      "[100]\tTrain's rmse: 0.122824\tTest's rmse: 0.347116\n",
      "[LightGBM] [Info] Total Bins 2296\n",
      "[LightGBM] [Info] Number of data points in the train set: 10909, number of used features: 22\n",
      "[LightGBM] [Info] Start training from score 0.356349\n",
      "Training until validation scores don't improve for 50 rounds\n",
      "Early stopping, best iteration is:\n",
      "[36]\tTrain's rmse: 0.160054\tTest's rmse: 0.336422\n"
     ]
    },
    {
     "name": "stderr",
     "output_type": "stream",
     "text": [
      "\u001b[32m[I 2021-12-27 17:20:28,772]\u001b[0m Trial 27 finished with value: 0.33642213551347966 and parameters: {'bagging_fraction': 0.9272579598135577, 'bagging_freq': 1}. Best is trial 27 with value: 0.33642213551347966.\u001b[0m\n"
     ]
    },
    {
     "name": "stdout",
     "output_type": "stream",
     "text": [
      "[LightGBM] [Info] Total Bins 2296\n",
      "[LightGBM] [Info] Number of data points in the train set: 10909, number of used features: 22\n",
      "[LightGBM] [Info] Start training from score 0.356349\n",
      "Training until validation scores don't improve for 50 rounds\n",
      "Did not meet early stopping. Best iteration is:\n",
      "[100]\tTrain's rmse: 0.13913\tTest's rmse: 0.330591\n"
     ]
    },
    {
     "name": "stderr",
     "output_type": "stream",
     "text": [
      "\u001b[32m[I 2021-12-27 17:20:29,005]\u001b[0m Trial 28 finished with value: 0.3305913556293215 and parameters: {'bagging_fraction': 0.8363845249420548, 'bagging_freq': 3}. Best is trial 28 with value: 0.3305913556293215.\u001b[0m\n"
     ]
    },
    {
     "name": "stdout",
     "output_type": "stream",
     "text": [
      "[LightGBM] [Info] Total Bins 2296\n",
      "[LightGBM] [Info] Number of data points in the train set: 10909, number of used features: 22\n",
      "[LightGBM] [Info] Start training from score 0.356349\n",
      "Training until validation scores don't improve for 50 rounds\n",
      "Did not meet early stopping. Best iteration is:\n",
      "[100]\tTrain's rmse: 0.137656\tTest's rmse: 0.328908\n"
     ]
    },
    {
     "name": "stderr",
     "output_type": "stream",
     "text": [
      "\u001b[32m[I 2021-12-27 17:20:29,260]\u001b[0m Trial 29 finished with value: 0.32890763132611633 and parameters: {'bagging_fraction': 0.8078362220890746, 'bagging_freq': 2}. Best is trial 29 with value: 0.32890763132611633.\u001b[0m\n"
     ]
    },
    {
     "name": "stdout",
     "output_type": "stream",
     "text": [
      "[LightGBM] [Info] Total Bins 2296\n",
      "[LightGBM] [Info] Number of data points in the train set: 10909, number of used features: 22\n",
      "[LightGBM] [Info] Start training from score 0.356349\n",
      "Training until validation scores don't improve for 50 rounds\n",
      "Did not meet early stopping. Best iteration is:\n",
      "[100]\tTrain's rmse: 0.163782\tTest's rmse: 0.328163\n"
     ]
    },
    {
     "name": "stderr",
     "output_type": "stream",
     "text": [
      "\u001b[32m[I 2021-12-27 17:20:29,487]\u001b[0m Trial 30 finished with value: 0.32816304111723776 and parameters: {'bagging_fraction': 0.5115956657757492, 'bagging_freq': 6}. Best is trial 30 with value: 0.32816304111723776.\u001b[0m\n",
      "\u001b[32m[I 2021-12-27 17:20:29,697]\u001b[0m Trial 31 finished with value: 0.33073341217882934 and parameters: {'bagging_fraction': 0.6729434491755484, 'bagging_freq': 4}. Best is trial 30 with value: 0.32816304111723776.\u001b[0m\n"
     ]
    },
    {
     "name": "stdout",
     "output_type": "stream",
     "text": [
      "[LightGBM] [Info] Total Bins 2296\n",
      "[LightGBM] [Info] Number of data points in the train set: 10909, number of used features: 22\n",
      "[LightGBM] [Info] Start training from score 0.356349\n",
      "Training until validation scores don't improve for 50 rounds\n",
      "Did not meet early stopping. Best iteration is:\n",
      "[100]\tTrain's rmse: 0.156552\tTest's rmse: 0.330733\n",
      "[LightGBM] [Info] Total Bins 2296\n",
      "[LightGBM] [Info] Number of data points in the train set: 10909, number of used features: 22\n",
      "[LightGBM] [Info] Start training from score 0.356349\n",
      "Training until validation scores don't improve for 50 rounds\n",
      "Did not meet early stopping. Best iteration is:\n",
      "[100]\tTrain's rmse: 0.136474\tTest's rmse: 0.321633\n"
     ]
    },
    {
     "name": "stderr",
     "output_type": "stream",
     "text": [
      "\u001b[32m[I 2021-12-27 17:20:29,944]\u001b[0m Trial 32 finished with value: 0.3216329822083824 and parameters: {'bagging_fraction': 0.8432884530995319, 'bagging_freq': 3}. Best is trial 32 with value: 0.3216329822083824.\u001b[0m\n",
      "\u001b[32m[I 2021-12-27 17:20:30,136]\u001b[0m Trial 33 finished with value: 0.3367879069770628 and parameters: {'bagging_fraction': 0.44317358839956034, 'bagging_freq': 4}. Best is trial 32 with value: 0.3216329822083824.\u001b[0m\n"
     ]
    },
    {
     "name": "stdout",
     "output_type": "stream",
     "text": [
      "[LightGBM] [Info] Total Bins 2296\n",
      "[LightGBM] [Info] Number of data points in the train set: 10909, number of used features: 22\n",
      "[LightGBM] [Info] Start training from score 0.356349\n",
      "Training until validation scores don't improve for 50 rounds\n",
      "Did not meet early stopping. Best iteration is:\n",
      "[91]\tTrain's rmse: 0.16255\tTest's rmse: 0.336788\n",
      "[LightGBM] [Info] Total Bins 2296\n"
     ]
    },
    {
     "name": "stderr",
     "output_type": "stream",
     "text": [
      "\u001b[32m[I 2021-12-27 17:20:30,285]\u001b[0m Trial 34 finished with value: 0.3352690812517589 and parameters: {'bagging_fraction': 0.8893133484774103, 'bagging_freq': 4}. Best is trial 32 with value: 0.3216329822083824.\u001b[0m\n"
     ]
    },
    {
     "name": "stdout",
     "output_type": "stream",
     "text": [
      "[LightGBM] [Info] Number of data points in the train set: 10909, number of used features: 22\n",
      "[LightGBM] [Info] Start training from score 0.356349\n",
      "Training until validation scores don't improve for 50 rounds\n",
      "Early stopping, best iteration is:\n",
      "[42]\tTrain's rmse: 0.157959\tTest's rmse: 0.335269\n",
      "[LightGBM] [Info] Total Bins 2296\n",
      "[LightGBM] [Info] Number of data points in the train set: 10909, number of used features: 22\n",
      "[LightGBM] [Info] Start training from score 0.356349\n",
      "Training until validation scores don't improve for 50 rounds\n"
     ]
    },
    {
     "name": "stderr",
     "output_type": "stream",
     "text": [
      "\u001b[32m[I 2021-12-27 17:20:30,479]\u001b[0m Trial 35 finished with value: 0.32209194827556975 and parameters: {'bagging_fraction': 0.5591703090479104, 'bagging_freq': 2}. Best is trial 32 with value: 0.3216329822083824.\u001b[0m\n"
     ]
    },
    {
     "name": "stdout",
     "output_type": "stream",
     "text": [
      "Did not meet early stopping. Best iteration is:\n",
      "[96]\tTrain's rmse: 0.160406\tTest's rmse: 0.322092\n",
      "[LightGBM] [Info] Total Bins 2296\n",
      "[LightGBM] [Info] Number of data points in the train set: 10909, number of used features: 22\n",
      "[LightGBM] [Info] Start training from score 0.356349\n",
      "Training until validation scores don't improve for 50 rounds\n"
     ]
    },
    {
     "name": "stderr",
     "output_type": "stream",
     "text": [
      "\u001b[32m[I 2021-12-27 17:20:30,769]\u001b[0m Trial 36 finished with value: 0.32200323839259165 and parameters: {'bagging_fraction': 0.5679908307564154, 'bagging_freq': 2}. Best is trial 32 with value: 0.3216329822083824.\u001b[0m\n"
     ]
    },
    {
     "name": "stdout",
     "output_type": "stream",
     "text": [
      "Did not meet early stopping. Best iteration is:\n",
      "[96]\tTrain's rmse: 0.160793\tTest's rmse: 0.322003\n",
      "[LightGBM] [Info] Total Bins 2296\n",
      "[LightGBM] [Info] Number of data points in the train set: 10909, number of used features: 22\n",
      "[LightGBM] [Info] Start training from score 0.356349\n",
      "Training until validation scores don't improve for 50 rounds\n"
     ]
    },
    {
     "name": "stderr",
     "output_type": "stream",
     "text": [
      "\u001b[32m[I 2021-12-27 17:20:31,576]\u001b[0m Trial 37 finished with value: 0.32922258235477464 and parameters: {'feature_fraction': 0.9799999999999999}. Best is trial 37 with value: 0.32922258235477464.\u001b[0m\n"
     ]
    },
    {
     "name": "stdout",
     "output_type": "stream",
     "text": [
      "Did not meet early stopping. Best iteration is:\n",
      "[100]\tTrain's rmse: 0.145089\tTest's rmse: 0.329223\n",
      "[LightGBM] [Info] Total Bins 2296\n",
      "[LightGBM] [Info] Number of data points in the train set: 10909, number of used features: 22\n",
      "[LightGBM] [Info] Start training from score 0.356349\n",
      "Training until validation scores don't improve for 50 rounds\n",
      "Did not meet early stopping. Best iteration is:\n",
      "[100]\tTrain's rmse: 0.136307\tTest's rmse: 0.336843\n"
     ]
    },
    {
     "name": "stderr",
     "output_type": "stream",
     "text": [
      "\u001b[32m[I 2021-12-27 17:20:31,777]\u001b[0m Trial 38 finished with value: 0.33684325793306186 and parameters: {'feature_fraction': 0.82}. Best is trial 37 with value: 0.32922258235477464.\u001b[0m\n",
      "\u001b[32m[I 2021-12-27 17:20:31,988]\u001b[0m Trial 39 finished with value: 0.334204273146949 and parameters: {'feature_fraction': 0.852}. Best is trial 37 with value: 0.32922258235477464.\u001b[0m\n"
     ]
    },
    {
     "name": "stdout",
     "output_type": "stream",
     "text": [
      "[LightGBM] [Info] Total Bins 2296\n",
      "[LightGBM] [Info] Number of data points in the train set: 10909, number of used features: 22\n",
      "[LightGBM] [Info] Start training from score 0.356349\n",
      "Training until validation scores don't improve for 50 rounds\n",
      "Did not meet early stopping. Best iteration is:\n",
      "[100]\tTrain's rmse: 0.135217\tTest's rmse: 0.334204\n"
     ]
    },
    {
     "name": "stderr",
     "output_type": "stream",
     "text": [
      "\u001b[32m[I 2021-12-27 17:20:32,187]\u001b[0m Trial 40 finished with value: 0.32027216145601156 and parameters: {'feature_fraction': 0.948}. Best is trial 40 with value: 0.32027216145601156.\u001b[0m\n"
     ]
    },
    {
     "name": "stdout",
     "output_type": "stream",
     "text": [
      "[LightGBM] [Info] Total Bins 2296\n",
      "[LightGBM] [Info] Number of data points in the train set: 10909, number of used features: 22\n",
      "[LightGBM] [Info] Start training from score 0.356349\n",
      "Training until validation scores don't improve for 50 rounds\n",
      "Did not meet early stopping. Best iteration is:\n",
      "[100]\tTrain's rmse: 0.137585\tTest's rmse: 0.320272\n",
      "[LightGBM] [Info] Total Bins 2296\n"
     ]
    },
    {
     "name": "stderr",
     "output_type": "stream",
     "text": [
      "\u001b[32m[I 2021-12-27 17:20:32,398]\u001b[0m Trial 41 finished with value: 0.3216329822083824 and parameters: {'feature_fraction': 0.9159999999999999}. Best is trial 40 with value: 0.32027216145601156.\u001b[0m\n"
     ]
    },
    {
     "name": "stdout",
     "output_type": "stream",
     "text": [
      "[LightGBM] [Info] Number of data points in the train set: 10909, number of used features: 22\n",
      "[LightGBM] [Info] Start training from score 0.356349\n",
      "Training until validation scores don't improve for 50 rounds\n",
      "Did not meet early stopping. Best iteration is:\n",
      "[100]\tTrain's rmse: 0.136474\tTest's rmse: 0.321633\n"
     ]
    },
    {
     "name": "stderr",
     "output_type": "stream",
     "text": [
      "\u001b[32m[I 2021-12-27 17:20:32,596]\u001b[0m Trial 42 finished with value: 0.334204273146949 and parameters: {'feature_fraction': 0.8839999999999999}. Best is trial 40 with value: 0.32027216145601156.\u001b[0m\n"
     ]
    },
    {
     "name": "stdout",
     "output_type": "stream",
     "text": [
      "[LightGBM] [Info] Total Bins 2296\n",
      "[LightGBM] [Info] Number of data points in the train set: 10909, number of used features: 22\n",
      "[LightGBM] [Info] Start training from score 0.356349\n",
      "Training until validation scores don't improve for 50 rounds\n",
      "Did not meet early stopping. Best iteration is:\n",
      "[100]\tTrain's rmse: 0.135217\tTest's rmse: 0.334204\n",
      "[LightGBM] [Info] Total Bins 2296\n"
     ]
    },
    {
     "name": "stderr",
     "output_type": "stream",
     "text": [
      "\u001b[32m[I 2021-12-27 17:20:32,810]\u001b[0m Trial 43 finished with value: 0.3202795125762153 and parameters: {'lambda_l1': 0.00039533912901064145, 'lambda_l2': 0.0454224996807034}. Best is trial 43 with value: 0.3202795125762153.\u001b[0m\n"
     ]
    },
    {
     "name": "stdout",
     "output_type": "stream",
     "text": [
      "[LightGBM] [Info] Number of data points in the train set: 10909, number of used features: 22\n",
      "[LightGBM] [Info] Start training from score 0.356349\n",
      "Training until validation scores don't improve for 50 rounds\n",
      "Did not meet early stopping. Best iteration is:\n",
      "[100]\tTrain's rmse: 0.13762\tTest's rmse: 0.32028\n",
      "[LightGBM] [Info] Total Bins 2296\n",
      "[LightGBM] [Info] Number of data points in the train set: 10909, number of used features: 22\n",
      "[LightGBM] [Info] Start training from score 0.356349\n",
      "Training until validation scores don't improve for 50 rounds\n",
      "Did not meet early stopping. Best iteration is:\n",
      "[100]\tTrain's rmse: 0.133061\tTest's rmse: 0.324292\n"
     ]
    },
    {
     "name": "stderr",
     "output_type": "stream",
     "text": [
      "\u001b[32m[I 2021-12-27 17:20:33,046]\u001b[0m Trial 44 finished with value: 0.32429216615105705 and parameters: {'lambda_l1': 0.2768731303422539, 'lambda_l2': 8.338060381137753e-06}. Best is trial 43 with value: 0.3202795125762153.\u001b[0m\n",
      "\u001b[32m[I 2021-12-27 17:20:33,249]\u001b[0m Trial 45 finished with value: 0.32028085992620275 and parameters: {'lambda_l1': 0.00933582563068214, 'lambda_l2': 0.008436571595160982}. Best is trial 43 with value: 0.3202795125762153.\u001b[0m\n"
     ]
    },
    {
     "name": "stdout",
     "output_type": "stream",
     "text": [
      "[LightGBM] [Info] Total Bins 2296\n",
      "[LightGBM] [Info] Number of data points in the train set: 10909, number of used features: 22\n",
      "[LightGBM] [Info] Start training from score 0.356349\n",
      "Training until validation scores don't improve for 50 rounds\n",
      "Did not meet early stopping. Best iteration is:\n",
      "[100]\tTrain's rmse: 0.137613\tTest's rmse: 0.320281\n",
      "[LightGBM] [Info] Total Bins 2296\n"
     ]
    },
    {
     "name": "stderr",
     "output_type": "stream",
     "text": [
      "\u001b[32m[I 2021-12-27 17:20:33,456]\u001b[0m Trial 46 finished with value: 0.32027237235914685 and parameters: {'lambda_l1': 3.057181018403069e-08, 'lambda_l2': 0.0006798407806087788}. Best is trial 46 with value: 0.32027237235914685.\u001b[0m\n"
     ]
    },
    {
     "name": "stdout",
     "output_type": "stream",
     "text": [
      "[LightGBM] [Info] Number of data points in the train set: 10909, number of used features: 22\n",
      "[LightGBM] [Info] Start training from score 0.356349\n",
      "Training until validation scores don't improve for 50 rounds\n",
      "Did not meet early stopping. Best iteration is:\n",
      "[100]\tTrain's rmse: 0.137586\tTest's rmse: 0.320272\n"
     ]
    },
    {
     "name": "stderr",
     "output_type": "stream",
     "text": [
      "\u001b[32m[I 2021-12-27 17:20:33,653]\u001b[0m Trial 47 finished with value: 0.3202721809278392 and parameters: {'lambda_l1': 2.0679636441347787e-05, 'lambda_l2': 3.258649080442674e-07}. Best is trial 47 with value: 0.3202721809278392.\u001b[0m\n"
     ]
    },
    {
     "name": "stdout",
     "output_type": "stream",
     "text": [
      "[LightGBM] [Info] Total Bins 2296\n",
      "[LightGBM] [Info] Number of data points in the train set: 10909, number of used features: 22\n",
      "[LightGBM] [Info] Start training from score 0.356349\n",
      "Training until validation scores don't improve for 50 rounds\n",
      "Did not meet early stopping. Best iteration is:\n",
      "[100]\tTrain's rmse: 0.137585\tTest's rmse: 0.320272\n",
      "[LightGBM] [Info] Total Bins 2296\n"
     ]
    },
    {
     "name": "stderr",
     "output_type": "stream",
     "text": [
      "\u001b[32m[I 2021-12-27 17:20:33,834]\u001b[0m Trial 48 finished with value: 0.32027255860716486 and parameters: {'lambda_l1': 1.6477249407945092e-08, 'lambda_l2': 0.0012862084505429554}. Best is trial 47 with value: 0.3202721809278392.\u001b[0m\n"
     ]
    },
    {
     "name": "stdout",
     "output_type": "stream",
     "text": [
      "[LightGBM] [Info] Number of data points in the train set: 10909, number of used features: 22\n",
      "[LightGBM] [Info] Start training from score 0.356349\n",
      "Training until validation scores don't improve for 50 rounds\n",
      "Did not meet early stopping. Best iteration is:\n",
      "[100]\tTrain's rmse: 0.137587\tTest's rmse: 0.320273\n",
      "[LightGBM] [Info] Total Bins 2296\n",
      "[LightGBM] [Info] Number of data points in the train set: 10909, number of used features: 22\n",
      "[LightGBM] [Info] Start training from score 0.356349\n"
     ]
    },
    {
     "name": "stderr",
     "output_type": "stream",
     "text": [
      "\u001b[32m[I 2021-12-27 17:20:34,038]\u001b[0m Trial 49 finished with value: 0.33325067348723225 and parameters: {'lambda_l1': 2.5908224201740397, 'lambda_l2': 2.438603638004758e-08}. Best is trial 47 with value: 0.3202721809278392.\u001b[0m\n"
     ]
    },
    {
     "name": "stdout",
     "output_type": "stream",
     "text": [
      "Training until validation scores don't improve for 50 rounds\n",
      "Did not meet early stopping. Best iteration is:\n",
      "[100]\tTrain's rmse: 0.139232\tTest's rmse: 0.333251\n",
      "[LightGBM] [Info] Total Bins 2296\n",
      "[LightGBM] [Info] Number of data points in the train set: 10909, number of used features: 22\n",
      "[LightGBM] [Info] Start training from score 0.356349\n",
      "Training until validation scores don't improve for 50 rounds\n",
      "Did not meet early stopping. Best iteration is:\n",
      "[100]\tTrain's rmse: 0.143292\tTest's rmse: 0.333651"
     ]
    },
    {
     "name": "stderr",
     "output_type": "stream",
     "text": [
      "\u001b[32m[I 2021-12-27 17:20:34,280]\u001b[0m Trial 50 finished with value: 0.33365118983089553 and parameters: {'lambda_l1': 0.745374846404305, 'lambda_l2': 2.3972328214670195}. Best is trial 47 with value: 0.3202721809278392.\u001b[0m\n"
     ]
    },
    {
     "name": "stdout",
     "output_type": "stream",
     "text": [
      "\n",
      "[LightGBM] [Info] Total Bins 2296\n",
      "[LightGBM] [Info] Number of data points in the train set: 10909, number of used features: 22\n",
      "[LightGBM] [Info] Start training from score 0.356349\n",
      "Training until validation scores don't improve for 50 rounds\n"
     ]
    },
    {
     "name": "stderr",
     "output_type": "stream",
     "text": [
      "\u001b[32m[I 2021-12-27 17:20:34,605]\u001b[0m Trial 51 finished with value: 0.3202799548284467 and parameters: {'lambda_l1': 0.06749531004110403, 'lambda_l2': 0.000593988797958265}. Best is trial 47 with value: 0.3202721809278392.\u001b[0m\n",
      "\u001b[32m[I 2021-12-27 17:20:34,781]\u001b[0m Trial 52 finished with value: 0.3202729071482171 and parameters: {'lambda_l1': 1.1621904559863386e-08, 'lambda_l2': 0.0024208485403757153}. Best is trial 47 with value: 0.3202721809278392.\u001b[0m\n"
     ]
    },
    {
     "name": "stdout",
     "output_type": "stream",
     "text": [
      "Did not meet early stopping. Best iteration is:\n",
      "[100]\tTrain's rmse: 0.137654\tTest's rmse: 0.32028\n",
      "[LightGBM] [Info] Total Bins 2296\n",
      "[LightGBM] [Info] Number of data points in the train set: 10909, number of used features: 22\n",
      "[LightGBM] [Info] Start training from score 0.356349\n",
      "Training until validation scores don't improve for 50 rounds\n",
      "Did not meet early stopping. Best iteration is:\n",
      "[100]\tTrain's rmse: 0.137588\tTest's rmse: 0.320273\n",
      "[LightGBM] [Info] Total Bins 2296\n",
      "[LightGBM] [Info] Number of data points in the train set: 10909, number of used features: 22\n",
      "[LightGBM] [Info] Start training from score 0.356349\n",
      "Training until validation scores don't improve for 50 rounds\n",
      "Did not meet early stopping. Best iteration is:\n",
      "[100]\tTrain's rmse: 0.137585\tTest's rmse: 0.320272\n"
     ]
    },
    {
     "name": "stderr",
     "output_type": "stream",
     "text": [
      "\u001b[32m[I 2021-12-27 17:20:35,018]\u001b[0m Trial 53 finished with value: 0.32027216692036325 and parameters: {'lambda_l1': 3.463926398963962e-06, 'lambda_l2': 1.149303498997044e-06}. Best is trial 53 with value: 0.32027216692036325.\u001b[0m\n",
      "\u001b[32m[I 2021-12-27 17:20:35,227]\u001b[0m Trial 54 finished with value: 0.32027216661772623 and parameters: {'lambda_l1': 3.5160637905402328e-06, 'lambda_l2': 6.052737534209224e-07}. Best is trial 54 with value: 0.32027216661772623.\u001b[0m\n"
     ]
    },
    {
     "name": "stdout",
     "output_type": "stream",
     "text": [
      "[LightGBM] [Info] Total Bins 2296\n",
      "[LightGBM] [Info] Number of data points in the train set: 10909, number of used features: 22\n",
      "[LightGBM] [Info] Start training from score 0.356349\n",
      "Training until validation scores don't improve for 50 rounds\n",
      "Did not meet early stopping. Best iteration is:\n",
      "[100]\tTrain's rmse: 0.137585\tTest's rmse: 0.320272\n"
     ]
    },
    {
     "name": "stderr",
     "output_type": "stream",
     "text": [
      "\u001b[32m[I 2021-12-27 17:20:35,437]\u001b[0m Trial 55 finished with value: 0.3202721655666354 and parameters: {'lambda_l1': 3.0609255139174823e-06, 'lambda_l2': 5.767364774113678e-06}. Best is trial 55 with value: 0.3202721655666354.\u001b[0m\n"
     ]
    },
    {
     "name": "stdout",
     "output_type": "stream",
     "text": [
      "[LightGBM] [Info] Total Bins 2296\n",
      "[LightGBM] [Info] Number of data points in the train set: 10909, number of used features: 22\n",
      "[LightGBM] [Info] Start training from score 0.356349\n",
      "Training until validation scores don't improve for 50 rounds\n",
      "Did not meet early stopping. Best iteration is:\n",
      "[100]\tTrain's rmse: 0.137585\tTest's rmse: 0.320272\n",
      "[LightGBM] [Info] Total Bins 2296\n"
     ]
    },
    {
     "name": "stderr",
     "output_type": "stream",
     "text": [
      "\u001b[32m[I 2021-12-27 17:20:35,677]\u001b[0m Trial 56 finished with value: 0.3202721705901644 and parameters: {'lambda_l1': 1.9082934718280418e-06, 'lambda_l2': 1.8277746199918748e-05}. Best is trial 55 with value: 0.3202721655666354.\u001b[0m\n"
     ]
    },
    {
     "name": "stdout",
     "output_type": "stream",
     "text": [
      "[LightGBM] [Info] Number of data points in the train set: 10909, number of used features: 22\n",
      "[LightGBM] [Info] Start training from score 0.356349\n",
      "Training until validation scores don't improve for 50 rounds\n",
      "Did not meet early stopping. Best iteration is:\n",
      "[100]\tTrain's rmse: 0.137585\tTest's rmse: 0.320272\n"
     ]
    },
    {
     "name": "stderr",
     "output_type": "stream",
     "text": [
      "\u001b[32m[I 2021-12-27 17:20:35,875]\u001b[0m Trial 57 finished with value: 0.32027229913369665 and parameters: {'lambda_l1': 0.0001606881257897944, 'lambda_l2': 1.3965313289552678e-08}. Best is trial 55 with value: 0.3202721655666354.\u001b[0m\n"
     ]
    },
    {
     "name": "stdout",
     "output_type": "stream",
     "text": [
      "[LightGBM] [Info] Total Bins 2296\n",
      "[LightGBM] [Info] Number of data points in the train set: 10909, number of used features: 22\n",
      "[LightGBM] [Info] Start training from score 0.356349\n",
      "Training until validation scores don't improve for 50 rounds\n",
      "Did not meet early stopping. Best iteration is:\n",
      "[100]\tTrain's rmse: 0.137586\tTest's rmse: 0.320272\n",
      "[LightGBM] [Info] Total Bins 2296\n"
     ]
    },
    {
     "name": "stderr",
     "output_type": "stream",
     "text": [
      "\u001b[32m[I 2021-12-27 17:20:36,100]\u001b[0m Trial 58 finished with value: 0.3202721708875413 and parameters: {'lambda_l1': 4.929413521404807e-07, 'lambda_l2': 2.345656165075136e-05}. Best is trial 55 with value: 0.3202721655666354.\u001b[0m\n"
     ]
    },
    {
     "name": "stdout",
     "output_type": "stream",
     "text": [
      "[LightGBM] [Info] Number of data points in the train set: 10909, number of used features: 22\n",
      "[LightGBM] [Info] Start training from score 0.356349\n",
      "Training until validation scores don't improve for 50 rounds\n",
      "Did not meet early stopping. Best iteration is:\n",
      "[100]\tTrain's rmse: 0.137585\tTest's rmse: 0.320272\n",
      "[LightGBM] [Info] Total Bins 2296\n",
      "[LightGBM] [Info] Number of data points in the train set: 10909, number of used features: 22\n",
      "[LightGBM] [Info] Start training from score 0.356349\n",
      "Training until validation scores don't improve for 50 rounds\n"
     ]
    },
    {
     "name": "stderr",
     "output_type": "stream",
     "text": [
      "\u001b[32m[I 2021-12-27 17:20:36,331]\u001b[0m Trial 59 finished with value: 0.32027313136041774 and parameters: {'lambda_l1': 0.0011463124414212993, 'lambda_l2': 3.147494987526619e-07}. Best is trial 55 with value: 0.3202721655666354.\u001b[0m\n"
     ]
    },
    {
     "name": "stdout",
     "output_type": "stream",
     "text": [
      "Did not meet early stopping. Best iteration is:\n",
      "[100]\tTrain's rmse: 0.137588\tTest's rmse: 0.320273\n",
      "[LightGBM] [Info] Total Bins 2296\n",
      "[LightGBM] [Info] Number of data points in the train set: 10909, number of used features: 22\n",
      "[LightGBM] [Info] Start training from score 0.356349\n",
      "Training until validation scores don't improve for 50 rounds\n",
      "Did not meet early stopping. Best iteration is:\n",
      "[100]\tTrain's rmse: 0.137585\tTest's rmse: 0.320272\n"
     ]
    },
    {
     "name": "stderr",
     "output_type": "stream",
     "text": [
      "\u001b[32m[I 2021-12-27 17:20:36,523]\u001b[0m Trial 60 finished with value: 0.3202721639094709 and parameters: {'lambda_l1': 2.1110246777122028e-07, 'lambda_l2': 1.7609783168266305e-06}. Best is trial 60 with value: 0.3202721639094709.\u001b[0m\n",
      "\u001b[32m[I 2021-12-27 17:20:36,756]\u001b[0m Trial 61 finished with value: 0.32027217168578637 and parameters: {'lambda_l1': 2.165956740605025e-07, 'lambda_l2': 2.651011471160785e-05}. Best is trial 60 with value: 0.3202721639094709.\u001b[0m\n"
     ]
    },
    {
     "name": "stdout",
     "output_type": "stream",
     "text": [
      "[LightGBM] [Info] Total Bins 2296\n",
      "[LightGBM] [Info] Number of data points in the train set: 10909, number of used features: 22\n",
      "[LightGBM] [Info] Start training from score 0.356349\n",
      "Training until validation scores don't improve for 50 rounds\n",
      "Did not meet early stopping. Best iteration is:\n",
      "[100]\tTrain's rmse: 0.137585\tTest's rmse: 0.320272\n"
     ]
    },
    {
     "name": "stderr",
     "output_type": "stream",
     "text": [
      "\u001b[32m[I 2021-12-27 17:20:36,971]\u001b[0m Trial 62 finished with value: 0.3202722184821044 and parameters: {'lambda_l1': 6.681346285573774e-05, 'lambda_l2': 2.6963161687626732e-06}. Best is trial 60 with value: 0.3202721639094709.\u001b[0m\n"
     ]
    },
    {
     "name": "stdout",
     "output_type": "stream",
     "text": [
      "[LightGBM] [Info] Total Bins 2296\n",
      "[LightGBM] [Info] Number of data points in the train set: 10909, number of used features: 22\n",
      "[LightGBM] [Info] Start training from score 0.356349\n",
      "Training until validation scores don't improve for 50 rounds\n",
      "Did not meet early stopping. Best iteration is:\n",
      "[100]\tTrain's rmse: 0.137586\tTest's rmse: 0.320272\n",
      "[LightGBM] [Info] Total Bins 2296\n"
     ]
    },
    {
     "name": "stderr",
     "output_type": "stream",
     "text": [
      "\u001b[32m[I 2021-12-27 17:20:37,143]\u001b[0m Trial 63 finished with value: 0.3394453819929533 and parameters: {'min_child_samples': 5}. Best is trial 63 with value: 0.3394453819929533.\u001b[0m\n"
     ]
    },
    {
     "name": "stdout",
     "output_type": "stream",
     "text": [
      "[LightGBM] [Info] Number of data points in the train set: 10909, number of used features: 22\n",
      "[LightGBM] [Info] Start training from score 0.356349\n",
      "Training until validation scores don't improve for 50 rounds\n",
      "Early stopping, best iteration is:\n",
      "[42]\tTrain's rmse: 0.123786\tTest's rmse: 0.339445\n",
      "[LightGBM] [Info] Total Bins 2296\n",
      "[LightGBM] [Info] Number of data points in the train set: 10909, number of used features: 22\n",
      "[LightGBM] [Info] Start training from score 0.356349\n",
      "Training until validation scores don't improve for 50 rounds\n"
     ]
    },
    {
     "name": "stderr",
     "output_type": "stream",
     "text": [
      "\u001b[32m[I 2021-12-27 17:20:37,335]\u001b[0m Trial 64 finished with value: 0.3427404164353741 and parameters: {'min_child_samples': 10}. Best is trial 63 with value: 0.3394453819929533.\u001b[0m\n"
     ]
    },
    {
     "name": "stdout",
     "output_type": "stream",
     "text": [
      "Did not meet early stopping. Best iteration is:\n",
      "[100]\tTrain's rmse: 0.0900528\tTest's rmse: 0.34274\n",
      "[LightGBM] [Info] Total Bins 2296\n",
      "[LightGBM] [Info] Number of data points in the train set: 10909, number of used features: 22\n",
      "[LightGBM] [Info] Start training from score 0.356349\n",
      "Training until validation scores don't improve for 50 rounds\n",
      "Did not meet early stopping. Best iteration is:\n",
      "[98]\tTrain's rmse: 0.147457\tTest's rmse: 0.322025"
     ]
    },
    {
     "name": "stderr",
     "output_type": "stream",
     "text": [
      "\u001b[32m[I 2021-12-27 17:20:37,520]\u001b[0m Trial 65 finished with value: 0.3220253164021518 and parameters: {'min_child_samples': 25}. Best is trial 65 with value: 0.3220253164021518.\u001b[0m\n",
      "\u001b[32m[I 2021-12-27 17:20:37,688]\u001b[0m Trial 66 finished with value: 0.375212207606087 and parameters: {'min_child_samples': 50}. Best is trial 65 with value: 0.3220253164021518.\u001b[0m\n"
     ]
    },
    {
     "name": "stdout",
     "output_type": "stream",
     "text": [
      "\n",
      "[LightGBM] [Info] Total Bins 2296\n",
      "[LightGBM] [Info] Number of data points in the train set: 10909, number of used features: 22\n",
      "[LightGBM] [Info] Start training from score 0.356349\n",
      "Training until validation scores don't improve for 50 rounds\n",
      "Did not meet early stopping. Best iteration is:\n",
      "[100]\tTrain's rmse: 0.208965\tTest's rmse: 0.375212\n"
     ]
    },
    {
     "name": "stderr",
     "output_type": "stream",
     "text": [
      "\u001b[32m[I 2021-12-27 17:20:37,871]\u001b[0m Trial 67 finished with value: 0.40304526810172864 and parameters: {'min_child_samples': 100}. Best is trial 65 with value: 0.3220253164021518.\u001b[0m\n"
     ]
    },
    {
     "name": "stdout",
     "output_type": "stream",
     "text": [
      "[LightGBM] [Info] Total Bins 2296\n",
      "[LightGBM] [Info] Number of data points in the train set: 10909, number of used features: 22\n",
      "[LightGBM] [Info] Start training from score 0.356349\n",
      "Training until validation scores don't improve for 50 rounds\n",
      "Did not meet early stopping. Best iteration is:\n",
      "[100]\tTrain's rmse: 0.252839\tTest's rmse: 0.403045\n"
     ]
    },
    {
     "data": {
      "image/png": "[encoded data removed]",
      "text/plain": [
       "<Figure size 432x288 with 1 Axes>"
      ]
     },
     "metadata": {
      "needs_background": "light"
     },
     "output_type": "display_data"
    },
    {
     "name": "stderr",
     "output_type": "stream",
     "text": [
      "\u001b[32m[I 2021-12-27 17:20:38,189]\u001b[0m A new study created in memory with name: no-name-38e087c7-222d-4d93-986f-bc1f36eb81c6\u001b[0m\n"
     ]
    },
    {
     "name": "stdout",
     "output_type": "stream",
     "text": [
      "[LightGBM] [Info] Total Bins 2290\n",
      "[LightGBM] [Info] Number of data points in the train set: 10933, number of used features: 22\n",
      "[LightGBM] [Info] Start training from score 0.345808\n",
      "Training until validation scores don't improve for 50 rounds\n"
     ]
    },
    {
     "name": "stderr",
     "output_type": "stream",
     "text": [
      "\u001b[32m[I 2021-12-27 17:20:38,761]\u001b[0m Trial 0 finished with value: 0.10313165674393071 and parameters: {'feature_fraction': 0.8}. Best is trial 0 with value: 0.10313165674393071.\u001b[0m\n"
     ]
    },
    {
     "name": "stdout",
     "output_type": "stream",
     "text": [
      "Did not meet early stopping. Best iteration is:\n",
      "[100]\tTrain's rmse: 0.133798\tTest's rmse: 0.103132\n",
      "[LightGBM] [Info] Total Bins 2290\n",
      "[LightGBM] [Info] Number of data points in the train set: 10933, number of used features: 22\n",
      "[LightGBM] [Info] Start training from score 0.345808\n",
      "Training until validation scores don't improve for 50 rounds\n"
     ]
    },
    {
     "name": "stderr",
     "output_type": "stream",
     "text": [
      "\u001b[32m[I 2021-12-27 17:20:39,230]\u001b[0m Trial 1 finished with value: 0.12250201339158852 and parameters: {'feature_fraction': 0.5}. Best is trial 0 with value: 0.10313165674393071.\u001b[0m\n"
     ]
    },
    {
     "name": "stdout",
     "output_type": "stream",
     "text": [
      "Did not meet early stopping. Best iteration is:\n",
      "[100]\tTrain's rmse: 0.131693\tTest's rmse: 0.122502\n",
      "[LightGBM] [Info] Total Bins 2290\n",
      "[LightGBM] [Info] Number of data points in the train set: 10933, number of used features: 22\n",
      "[LightGBM] [Info] Start training from score 0.345808\n",
      "Training until validation scores don't improve for 50 rounds\n"
     ]
    },
    {
     "name": "stderr",
     "output_type": "stream",
     "text": [
      "\u001b[32m[I 2021-12-27 17:20:39,575]\u001b[0m Trial 2 finished with value: 0.11199663372018692 and parameters: {'feature_fraction': 1.0}. Best is trial 0 with value: 0.10313165674393071.\u001b[0m\n"
     ]
    },
    {
     "name": "stdout",
     "output_type": "stream",
     "text": [
      "Did not meet early stopping. Best iteration is:\n",
      "[100]\tTrain's rmse: 0.148628\tTest's rmse: 0.111997\n",
      "[LightGBM] [Info] Total Bins 2290\n",
      "[LightGBM] [Info] Number of data points in the train set: 10933, number of used features: 22\n",
      "[LightGBM] [Info] Start training from score 0.345808\n",
      "Training until validation scores don't improve for 50 rounds\n"
     ]
    },
    {
     "name": "stderr",
     "output_type": "stream",
     "text": [
      "\u001b[32m[I 2021-12-27 17:20:39,973]\u001b[0m Trial 3 finished with value: 0.10522738562850059 and parameters: {'feature_fraction': 0.8999999999999999}. Best is trial 0 with value: 0.10313165674393071.\u001b[0m\n"
     ]
    },
    {
     "name": "stdout",
     "output_type": "stream",
     "text": [
      "Did not meet early stopping. Best iteration is:\n",
      "[100]\tTrain's rmse: 0.144067\tTest's rmse: 0.105227\n",
      "[LightGBM] [Info] Total Bins 2290\n",
      "[LightGBM] [Info] Number of data points in the train set: 10933, number of used features: 22\n",
      "[LightGBM] [Info] Start training from score 0.345808\n",
      "Training until validation scores don't improve for 50 rounds\n"
     ]
    },
    {
     "name": "stderr",
     "output_type": "stream",
     "text": [
      "\u001b[32m[I 2021-12-27 17:20:40,294]\u001b[0m Trial 4 finished with value: 0.13184108603175235 and parameters: {'feature_fraction': 0.4}. Best is trial 0 with value: 0.10313165674393071.\u001b[0m\n"
     ]
    },
    {
     "name": "stdout",
     "output_type": "stream",
     "text": [
      "Did not meet early stopping. Best iteration is:\n",
      "[100]\tTrain's rmse: 0.136538\tTest's rmse: 0.131841\n",
      "[LightGBM] [Info] Total Bins 2290\n",
      "[LightGBM] [Info] Number of data points in the train set: 10933, number of used features: 22\n",
      "[LightGBM] [Info] Start training from score 0.345808\n",
      "Training until validation scores don't improve for 50 rounds\n"
     ]
    },
    {
     "name": "stderr",
     "output_type": "stream",
     "text": [
      "\u001b[32m[I 2021-12-27 17:20:40,588]\u001b[0m Trial 5 finished with value: 0.10804926853338176 and parameters: {'feature_fraction': 0.7}. Best is trial 0 with value: 0.10313165674393071.\u001b[0m\n"
     ]
    },
    {
     "name": "stdout",
     "output_type": "stream",
     "text": [
      "Did not meet early stopping. Best iteration is:\n",
      "[100]\tTrain's rmse: 0.134845\tTest's rmse: 0.108049\n",
      "[LightGBM] [Info] Total Bins 2290\n",
      "[LightGBM] [Info] Number of data points in the train set: 10933, number of used features: 22\n",
      "[LightGBM] [Info] Start training from score 0.345808\n",
      "Training until validation scores don't improve for 50 rounds\n"
     ]
    },
    {
     "name": "stderr",
     "output_type": "stream",
     "text": [
      "\u001b[32m[I 2021-12-27 17:20:40,920]\u001b[0m Trial 6 finished with value: 0.11941999345239779 and parameters: {'feature_fraction': 0.6}. Best is trial 0 with value: 0.10313165674393071.\u001b[0m\n"
     ]
    },
    {
     "name": "stdout",
     "output_type": "stream",
     "text": [
      "Did not meet early stopping. Best iteration is:\n",
      "[100]\tTrain's rmse: 0.130288\tTest's rmse: 0.11942\n",
      "[LightGBM] [Info] Total Bins 2290\n",
      "[LightGBM] [Info] Number of data points in the train set: 10933, number of used features: 22\n",
      "[LightGBM] [Info] Start training from score 0.345808\n",
      "Training until validation scores don't improve for 50 rounds\n"
     ]
    },
    {
     "name": "stderr",
     "output_type": "stream",
     "text": [
      "\u001b[32m[I 2021-12-27 17:20:42,269]\u001b[0m Trial 7 finished with value: 0.11628200345260703 and parameters: {'num_leaves': 223}. Best is trial 7 with value: 0.11628200345260703.\u001b[0m\n"
     ]
    },
    {
     "name": "stdout",
     "output_type": "stream",
     "text": [
      "Did not meet early stopping. Best iteration is:\n",
      "[100]\tTrain's rmse: 0.137189\tTest's rmse: 0.116282\n",
      "[LightGBM] [Info] Total Bins 2290\n",
      "[LightGBM] [Info] Number of data points in the train set: 10933, number of used features: 22\n",
      "[LightGBM] [Info] Start training from score 0.345808\n",
      "Training until validation scores don't improve for 50 rounds\n"
     ]
    },
    {
     "name": "stderr",
     "output_type": "stream",
     "text": [
      "\u001b[32m[I 2021-12-27 17:20:43,286]\u001b[0m Trial 8 finished with value: 0.11401743352056289 and parameters: {'num_leaves': 160}. Best is trial 8 with value: 0.11401743352056289.\u001b[0m\n"
     ]
    },
    {
     "name": "stdout",
     "output_type": "stream",
     "text": [
      "Did not meet early stopping. Best iteration is:\n",
      "[100]\tTrain's rmse: 0.137093\tTest's rmse: 0.114017\n",
      "[LightGBM] [Info] Total Bins 2290\n",
      "[LightGBM] [Info] Number of data points in the train set: 10933, number of used features: 22\n",
      "[LightGBM] [Info] Start training from score 0.345808\n",
      "[LightGBM] [Warning] No further splits with positive gain, best gain: -inf\n",
      "Training until validation scores don't improve for 50 rounds\n",
      "[LightGBM] [Warning] No further splits with positive gain, best gain: -inf\n"
     ]
    },
    {
     "name": "stderr",
     "output_type": "stream",
     "text": [
      "\u001b[32m[I 2021-12-27 17:20:44,709]\u001b[0m Trial 9 finished with value: 0.11623329404942634 and parameters: {'num_leaves': 236}. Best is trial 8 with value: 0.11401743352056289.\u001b[0m\n"
     ]
    },
    {
     "name": "stdout",
     "output_type": "stream",
     "text": [
      "Did not meet early stopping. Best iteration is:\n",
      "[100]\tTrain's rmse: 0.136763\tTest's rmse: 0.116233\n",
      "[LightGBM] [Info] Total Bins 2290\n",
      "[LightGBM] [Info] Number of data points in the train set: 10933, number of used features: 22\n",
      "[LightGBM] [Info] Start training from score 0.345808\n",
      "Training until validation scores don't improve for 50 rounds\n"
     ]
    },
    {
     "name": "stderr",
     "output_type": "stream",
     "text": [
      "\u001b[32m[I 2021-12-27 17:20:46,246]\u001b[0m Trial 10 finished with value: 0.11342893530789282 and parameters: {'num_leaves': 182}. Best is trial 10 with value: 0.11342893530789282.\u001b[0m\n"
     ]
    },
    {
     "name": "stdout",
     "output_type": "stream",
     "text": [
      "Did not meet early stopping. Best iteration is:\n",
      "[100]\tTrain's rmse: 0.136528\tTest's rmse: 0.113429\n",
      "[LightGBM] [Info] Total Bins 2290\n",
      "[LightGBM] [Info] Number of data points in the train set: 10933, number of used features: 22\n",
      "[LightGBM] [Info] Start training from score 0.345808\n",
      "Training until validation scores don't improve for 50 rounds\n"
     ]
    },
    {
     "name": "stderr",
     "output_type": "stream",
     "text": [
      "\u001b[32m[I 2021-12-27 17:20:46,870]\u001b[0m Trial 11 finished with value: 0.10899431406751013 and parameters: {'num_leaves': 87}. Best is trial 11 with value: 0.10899431406751013.\u001b[0m\n"
     ]
    },
    {
     "name": "stdout",
     "output_type": "stream",
     "text": [
      "Did not meet early stopping. Best iteration is:\n",
      "[100]\tTrain's rmse: 0.138431\tTest's rmse: 0.108994\n",
      "[LightGBM] [Info] Total Bins 2290\n",
      "[LightGBM] [Info] Number of data points in the train set: 10933, number of used features: 22\n",
      "[LightGBM] [Info] Start training from score 0.345808\n",
      "Training until validation scores don't improve for 50 rounds\n"
     ]
    },
    {
     "name": "stderr",
     "output_type": "stream",
     "text": [
      "\u001b[32m[I 2021-12-27 17:20:48,332]\u001b[0m Trial 12 finished with value: 0.11372642871244107 and parameters: {'num_leaves': 138}. Best is trial 11 with value: 0.10899431406751013.\u001b[0m\n"
     ]
    },
    {
     "name": "stdout",
     "output_type": "stream",
     "text": [
      "Did not meet early stopping. Best iteration is:\n",
      "[100]\tTrain's rmse: 0.137885\tTest's rmse: 0.113726\n",
      "[LightGBM] [Info] Total Bins 2290\n",
      "[LightGBM] [Info] Number of data points in the train set: 10933, number of used features: 22\n",
      "[LightGBM] [Info] Start training from score 0.345808\n",
      "Training until validation scores don't improve for 50 rounds\n"
     ]
    },
    {
     "name": "stderr",
     "output_type": "stream",
     "text": [
      "\u001b[32m[I 2021-12-27 17:20:48,796]\u001b[0m Trial 13 finished with value: 0.10222564455515867 and parameters: {'num_leaves': 51}. Best is trial 13 with value: 0.10222564455515867.\u001b[0m\n"
     ]
    },
    {
     "name": "stdout",
     "output_type": "stream",
     "text": [
      "Did not meet early stopping. Best iteration is:\n",
      "[100]\tTrain's rmse: 0.136753\tTest's rmse: 0.102226\n",
      "[LightGBM] [Info] Total Bins 2290\n",
      "[LightGBM] [Info] Number of data points in the train set: 10933, number of used features: 22\n",
      "[LightGBM] [Info] Start training from score 0.345808\n",
      "Training until validation scores don't improve for 50 rounds\n",
      "Did not meet early stopping. Best iteration is:\n",
      "[100]\tTrain's rmse: 0.1399\tTest's rmse: 0.100422\n"
     ]
    },
    {
     "name": "stderr",
     "output_type": "stream",
     "text": [
      "\u001b[32m[I 2021-12-27 17:20:48,967]\u001b[0m Trial 14 finished with value: 0.10042184465499364 and parameters: {'num_leaves': 12}. Best is trial 14 with value: 0.10042184465499364.\u001b[0m\n"
     ]
    },
    {
     "name": "stdout",
     "output_type": "stream",
     "text": [
      "[LightGBM] [Info] Total Bins 2290\n",
      "[LightGBM] [Info] Number of data points in the train set: 10933, number of used features: 22\n",
      "[LightGBM] [Info] Start training from score 0.345808\n",
      "Training until validation scores don't improve for 50 rounds\n"
     ]
    },
    {
     "name": "stderr",
     "output_type": "stream",
     "text": [
      "\u001b[32m[I 2021-12-27 17:20:50,013]\u001b[0m Trial 15 finished with value: 0.1147745571803978 and parameters: {'num_leaves': 153}. Best is trial 14 with value: 0.10042184465499364.\u001b[0m\n"
     ]
    },
    {
     "name": "stdout",
     "output_type": "stream",
     "text": [
      "Did not meet early stopping. Best iteration is:\n",
      "[100]\tTrain's rmse: 0.136423\tTest's rmse: 0.114775\n",
      "[LightGBM] [Info] Total Bins 2290\n",
      "[LightGBM] [Info] Number of data points in the train set: 10933, number of used features: 22\n",
      "[LightGBM] [Info] Start training from score 0.345808\n",
      "Training until validation scores don't improve for 50 rounds\n"
     ]
    },
    {
     "name": "stderr",
     "output_type": "stream",
     "text": [
      "\u001b[32m[I 2021-12-27 17:20:50,946]\u001b[0m Trial 16 finished with value: 0.11362483669880624 and parameters: {'num_leaves': 156}. Best is trial 14 with value: 0.10042184465499364.\u001b[0m\n"
     ]
    },
    {
     "name": "stdout",
     "output_type": "stream",
     "text": [
      "Did not meet early stopping. Best iteration is:\n",
      "[100]\tTrain's rmse: 0.135526\tTest's rmse: 0.113625\n",
      "[LightGBM] [Info] Total Bins 2290\n",
      "[LightGBM] [Info] Number of data points in the train set: 10933, number of used features: 22\n",
      "[LightGBM] [Info] Start training from score 0.345808\n",
      "Training until validation scores don't improve for 50 rounds\n",
      "Did not meet early stopping. Best iteration is:\n",
      "[100]\tTrain's rmse: 0.216068\tTest's rmse: 0.123493\n"
     ]
    },
    {
     "name": "stderr",
     "output_type": "stream",
     "text": [
      "\u001b[32m[I 2021-12-27 17:20:51,066]\u001b[0m Trial 17 finished with value: 0.12349274626533661 and parameters: {'num_leaves': 2}. Best is trial 14 with value: 0.10042184465499364.\u001b[0m\n",
      "\u001b[32m[I 2021-12-27 17:20:51,258]\u001b[0m Trial 18 finished with value: 0.10286341207405077 and parameters: {'num_leaves': 14}. Best is trial 14 with value: 0.10042184465499364.\u001b[0m\n"
     ]
    },
    {
     "name": "stdout",
     "output_type": "stream",
     "text": [
      "[LightGBM] [Info] Total Bins 2290\n",
      "[LightGBM] [Info] Number of data points in the train set: 10933, number of used features: 22\n",
      "[LightGBM] [Info] Start training from score 0.345808\n",
      "Training until validation scores don't improve for 50 rounds\n",
      "Did not meet early stopping. Best iteration is:\n",
      "[100]\tTrain's rmse: 0.140106\tTest's rmse: 0.102863\n",
      "[LightGBM] [Info] Total Bins 2290\n",
      "[LightGBM] [Info] Number of data points in the train set: 10933, number of used features: 22\n",
      "[LightGBM] [Info] Start training from score 0.345808\n",
      "Training until validation scores don't improve for 50 rounds\n"
     ]
    },
    {
     "name": "stderr",
     "output_type": "stream",
     "text": [
      "\u001b[32m[I 2021-12-27 17:20:51,751]\u001b[0m Trial 19 finished with value: 0.10640269929787384 and parameters: {'num_leaves': 65}. Best is trial 14 with value: 0.10042184465499364.\u001b[0m\n"
     ]
    },
    {
     "name": "stdout",
     "output_type": "stream",
     "text": [
      "Did not meet early stopping. Best iteration is:\n",
      "[100]\tTrain's rmse: 0.136363\tTest's rmse: 0.106403\n",
      "[LightGBM] [Info] Total Bins 2290\n",
      "[LightGBM] [Info] Number of data points in the train set: 10933, number of used features: 22\n",
      "[LightGBM] [Info] Start training from score 0.345808\n",
      "Training until validation scores don't improve for 50 rounds\n"
     ]
    },
    {
     "name": "stderr",
     "output_type": "stream",
     "text": [
      "\u001b[32m[I 2021-12-27 17:20:52,169]\u001b[0m Trial 20 finished with value: 0.1044161084925442 and parameters: {'num_leaves': 55}. Best is trial 14 with value: 0.10042184465499364.\u001b[0m\n"
     ]
    },
    {
     "name": "stdout",
     "output_type": "stream",
     "text": [
      "Did not meet early stopping. Best iteration is:\n",
      "[100]\tTrain's rmse: 0.135091\tTest's rmse: 0.104416\n",
      "[LightGBM] [Info] Total Bins 2290\n",
      "[LightGBM] [Info] Number of data points in the train set: 10933, number of used features: 22\n",
      "[LightGBM] [Info] Start training from score 0.345808\n",
      "Training until validation scores don't improve for 50 rounds\n"
     ]
    },
    {
     "name": "stderr",
     "output_type": "stream",
     "text": [
      "\u001b[32m[I 2021-12-27 17:20:52,502]\u001b[0m Trial 21 finished with value: 0.10645611370855404 and parameters: {'num_leaves': 41}. Best is trial 14 with value: 0.10042184465499364.\u001b[0m\n"
     ]
    },
    {
     "name": "stdout",
     "output_type": "stream",
     "text": [
      "Did not meet early stopping. Best iteration is:\n",
      "[100]\tTrain's rmse: 0.137238\tTest's rmse: 0.106456\n",
      "[LightGBM] [Info] Total Bins 2290\n",
      "[LightGBM] [Info] Number of data points in the train set: 10933, number of used features: 22\n",
      "[LightGBM] [Info] Start training from score 0.345808\n",
      "Training until validation scores don't improve for 50 rounds\n"
     ]
    },
    {
     "name": "stderr",
     "output_type": "stream",
     "text": [
      "\u001b[32m[I 2021-12-27 17:20:53,189]\u001b[0m Trial 22 finished with value: 0.11106053805662955 and parameters: {'num_leaves': 99}. Best is trial 14 with value: 0.10042184465499364.\u001b[0m\n"
     ]
    },
    {
     "name": "stdout",
     "output_type": "stream",
     "text": [
      "Did not meet early stopping. Best iteration is:\n",
      "[100]\tTrain's rmse: 0.137626\tTest's rmse: 0.111061\n",
      "[LightGBM] [Info] Total Bins 2290\n",
      "[LightGBM] [Info] Number of data points in the train set: 10933, number of used features: 22\n",
      "[LightGBM] [Info] Start training from score 0.345808\n",
      "Training until validation scores don't improve for 50 rounds\n"
     ]
    },
    {
     "name": "stderr",
     "output_type": "stream",
     "text": [
      "\u001b[32m[I 2021-12-27 17:20:53,413]\u001b[0m Trial 23 finished with value: 0.10169827359096138 and parameters: {'num_leaves': 28}. Best is trial 14 with value: 0.10042184465499364.\u001b[0m\n"
     ]
    },
    {
     "name": "stdout",
     "output_type": "stream",
     "text": [
      "Did not meet early stopping. Best iteration is:\n",
      "[100]\tTrain's rmse: 0.139471\tTest's rmse: 0.101698\n",
      "[LightGBM] [Info] Total Bins 2290\n",
      "[LightGBM] [Info] Number of data points in the train set: 10933, number of used features: 22\n",
      "[LightGBM] [Info] Start training from score 0.345808\n",
      "Training until validation scores don't improve for 50 rounds\n"
     ]
    },
    {
     "name": "stderr",
     "output_type": "stream",
     "text": [
      "\u001b[32m[I 2021-12-27 17:20:53,962]\u001b[0m Trial 24 finished with value: 0.11132230154414344 and parameters: {'num_leaves': 103}. Best is trial 14 with value: 0.10042184465499364.\u001b[0m\n"
     ]
    },
    {
     "name": "stdout",
     "output_type": "stream",
     "text": [
      "Did not meet early stopping. Best iteration is:\n",
      "[100]\tTrain's rmse: 0.138482\tTest's rmse: 0.111322\n",
      "[LightGBM] [Info] Total Bins 2290\n",
      "[LightGBM] [Info] Number of data points in the train set: 10933, number of used features: 22\n",
      "[LightGBM] [Info] Start training from score 0.345808\n",
      "Training until validation scores don't improve for 50 rounds\n"
     ]
    },
    {
     "name": "stderr",
     "output_type": "stream",
     "text": [
      "\u001b[32m[I 2021-12-27 17:20:54,199]\u001b[0m Trial 25 finished with value: 0.10469635960859616 and parameters: {'num_leaves': 25}. Best is trial 14 with value: 0.10042184465499364.\u001b[0m\n"
     ]
    },
    {
     "name": "stdout",
     "output_type": "stream",
     "text": [
      "Did not meet early stopping. Best iteration is:\n",
      "[100]\tTrain's rmse: 0.136136\tTest's rmse: 0.104696\n",
      "[LightGBM] [Info] Total Bins 2290\n",
      "[LightGBM] [Info] Number of data points in the train set: 10933, number of used features: 22\n",
      "[LightGBM] [Info] Start training from score 0.345808\n",
      "Training until validation scores don't improve for 50 rounds\n"
     ]
    },
    {
     "name": "stderr",
     "output_type": "stream",
     "text": [
      "\u001b[32m[I 2021-12-27 17:20:54,655]\u001b[0m Trial 26 finished with value: 0.10901222057718436 and parameters: {'num_leaves': 78}. Best is trial 14 with value: 0.10042184465499364.\u001b[0m\n"
     ]
    },
    {
     "name": "stdout",
     "output_type": "stream",
     "text": [
      "Did not meet early stopping. Best iteration is:\n",
      "[100]\tTrain's rmse: 0.139114\tTest's rmse: 0.109012\n",
      "[LightGBM] [Info] Total Bins 2290\n",
      "[LightGBM] [Info] Number of data points in the train set: 10933, number of used features: 22\n",
      "[LightGBM] [Info] Start training from score 0.345808\n",
      "Training until validation scores don't improve for 50 rounds\n",
      "Did not meet early stopping. Best iteration is:\n",
      "[100]\tTrain's rmse: 0.140332\tTest's rmse: 0.109579\n"
     ]
    },
    {
     "name": "stderr",
     "output_type": "stream",
     "text": [
      "\u001b[32m[I 2021-12-27 17:20:54,826]\u001b[0m Trial 27 finished with value: 0.10957938763261224 and parameters: {'bagging_fraction': 0.9742127818817934, 'bagging_freq': 6}. Best is trial 27 with value: 0.10957938763261224.\u001b[0m\n",
      "\u001b[32m[I 2021-12-27 17:20:54,984]\u001b[0m Trial 28 finished with value: 0.12369837452833106 and parameters: {'bagging_fraction': 0.533895418107775, 'bagging_freq': 5}. Best is trial 27 with value: 0.10957938763261224.\u001b[0m\n"
     ]
    },
    {
     "name": "stdout",
     "output_type": "stream",
     "text": [
      "[LightGBM] [Info] Total Bins 2290\n",
      "[LightGBM] [Info] Number of data points in the train set: 10933, number of used features: 22\n",
      "[LightGBM] [Info] Start training from score 0.345808\n",
      "Training until validation scores don't improve for 50 rounds\n",
      "Did not meet early stopping. Best iteration is:\n",
      "[100]\tTrain's rmse: 0.183114\tTest's rmse: 0.123698\n",
      "[LightGBM] [Info] Total Bins 2290\n",
      "[LightGBM] [Info] Number of data points in the train set: 10933, number of used features: 22\n",
      "[LightGBM] [Info] Start training from score 0.345808\n",
      "Training until validation scores don't improve for 50 rounds\n"
     ]
    },
    {
     "name": "stderr",
     "output_type": "stream",
     "text": [
      "\u001b[32m[I 2021-12-27 17:20:55,150]\u001b[0m Trial 29 finished with value: 0.12364645879717404 and parameters: {'bagging_fraction': 0.7011643200143305, 'bagging_freq': 4}. Best is trial 27 with value: 0.10957938763261224.\u001b[0m\n",
      "\u001b[32m[I 2021-12-27 17:20:55,300]\u001b[0m Trial 30 finished with value: 0.10738789630035943 and parameters: {'bagging_fraction': 0.646575907912387, 'bagging_freq': 1}. Best is trial 30 with value: 0.10738789630035943.\u001b[0m\n"
     ]
    },
    {
     "name": "stdout",
     "output_type": "stream",
     "text": [
      "Did not meet early stopping. Best iteration is:\n",
      "[100]\tTrain's rmse: 0.174689\tTest's rmse: 0.123646\n",
      "[LightGBM] [Info] Total Bins 2290\n",
      "[LightGBM] [Info] Number of data points in the train set: 10933, number of used features: 22\n",
      "[LightGBM] [Info] Start training from score 0.345808\n",
      "Training until validation scores don't improve for 50 rounds\n",
      "Did not meet early stopping. Best iteration is:\n",
      "[100]\tTrain's rmse: 0.172196\tTest's rmse: 0.107388\n",
      "[LightGBM] [Info] Total Bins 2290\n"
     ]
    },
    {
     "name": "stderr",
     "output_type": "stream",
     "text": [
      "\u001b[32m[I 2021-12-27 17:20:55,488]\u001b[0m Trial 31 finished with value: 0.11041894195207896 and parameters: {'bagging_fraction': 0.5815456114694273, 'bagging_freq': 1}. Best is trial 30 with value: 0.10738789630035943.\u001b[0m\n"
     ]
    },
    {
     "name": "stdout",
     "output_type": "stream",
     "text": [
      "[LightGBM] [Info] Number of data points in the train set: 10933, number of used features: 22\n",
      "[LightGBM] [Info] Start training from score 0.345808\n",
      "Training until validation scores don't improve for 50 rounds\n",
      "Did not meet early stopping. Best iteration is:\n",
      "[100]\tTrain's rmse: 0.178974\tTest's rmse: 0.110419\n",
      "[LightGBM] [Info] Total Bins 2290\n"
     ]
    },
    {
     "name": "stderr",
     "output_type": "stream",
     "text": [
      "\u001b[32m[I 2021-12-27 17:20:55,679]\u001b[0m Trial 32 finished with value: 0.11161111981502773 and parameters: {'bagging_fraction': 0.8978271737730266, 'bagging_freq': 6}. Best is trial 30 with value: 0.10738789630035943.\u001b[0m\n"
     ]
    },
    {
     "name": "stdout",
     "output_type": "stream",
     "text": [
      "[LightGBM] [Info] Number of data points in the train set: 10933, number of used features: 22\n",
      "[LightGBM] [Info] Start training from score 0.345808\n",
      "Training until validation scores don't improve for 50 rounds\n",
      "Did not meet early stopping. Best iteration is:\n",
      "[100]\tTrain's rmse: 0.154703\tTest's rmse: 0.111611\n",
      "[LightGBM] [Info] Total Bins 2290\n"
     ]
    },
    {
     "name": "stderr",
     "output_type": "stream",
     "text": [
      "\u001b[32m[I 2021-12-27 17:20:55,873]\u001b[0m Trial 33 finished with value: 0.10600572355793542 and parameters: {'bagging_fraction': 0.8516261310025335, 'bagging_freq': 3}. Best is trial 33 with value: 0.10600572355793542.\u001b[0m\n"
     ]
    },
    {
     "name": "stdout",
     "output_type": "stream",
     "text": [
      "[LightGBM] [Info] Number of data points in the train set: 10933, number of used features: 22\n",
      "[LightGBM] [Info] Start training from score 0.345808\n",
      "Training until validation scores don't improve for 50 rounds\n",
      "Did not meet early stopping. Best iteration is:\n",
      "[100]\tTrain's rmse: 0.156342\tTest's rmse: 0.106006\n",
      "[LightGBM] [Info] Total Bins 2290\n"
     ]
    },
    {
     "name": "stderr",
     "output_type": "stream",
     "text": [
      "\u001b[32m[I 2021-12-27 17:20:56,052]\u001b[0m Trial 34 finished with value: 0.13155379373401674 and parameters: {'bagging_fraction': 0.4549435045861456, 'bagging_freq': 4}. Best is trial 33 with value: 0.10600572355793542.\u001b[0m\n"
     ]
    },
    {
     "name": "stdout",
     "output_type": "stream",
     "text": [
      "[LightGBM] [Info] Number of data points in the train set: 10933, number of used features: 22\n",
      "[LightGBM] [Info] Start training from score 0.345808\n",
      "Training until validation scores don't improve for 50 rounds\n",
      "Did not meet early stopping. Best iteration is:\n",
      "[99]\tTrain's rmse: 0.189834\tTest's rmse: 0.131554\n",
      "[LightGBM] [Info] Total Bins 2290\n",
      "[LightGBM] [Info] Number of data points in the train set: 10933, number of used features: 22\n",
      "[LightGBM] [Info] Start training from score 0.345808\n"
     ]
    },
    {
     "name": "stderr",
     "output_type": "stream",
     "text": [
      "\u001b[32m[I 2021-12-27 17:20:56,252]\u001b[0m Trial 35 finished with value: 0.11199177557827009 and parameters: {'bagging_fraction': 0.9630116488588361, 'bagging_freq': 4}. Best is trial 33 with value: 0.10600572355793542.\u001b[0m\n"
     ]
    },
    {
     "name": "stdout",
     "output_type": "stream",
     "text": [
      "Training until validation scores don't improve for 50 rounds\n",
      "Did not meet early stopping. Best iteration is:\n",
      "[100]\tTrain's rmse: 0.145663\tTest's rmse: 0.111992\n",
      "[LightGBM] [Info] Total Bins 2290\n",
      "[LightGBM] [Info] Number of data points in the train set: 10933, number of used features: 22\n",
      "[LightGBM] [Info] Start training from score 0.345808\n"
     ]
    },
    {
     "name": "stderr",
     "output_type": "stream",
     "text": [
      "\u001b[32m[I 2021-12-27 17:20:56,435]\u001b[0m Trial 36 finished with value: 0.1088097699063265 and parameters: {'bagging_fraction': 0.8959926257276467, 'bagging_freq': 3}. Best is trial 33 with value: 0.10600572355793542.\u001b[0m\n"
     ]
    },
    {
     "name": "stdout",
     "output_type": "stream",
     "text": [
      "Training until validation scores don't improve for 50 rounds\n",
      "Did not meet early stopping. Best iteration is:\n",
      "[100]\tTrain's rmse: 0.151317\tTest's rmse: 0.10881\n",
      "[LightGBM] [Info] Total Bins 2290\n",
      "[LightGBM] [Info] Number of data points in the train set: 10933, number of used features: 22\n",
      "[LightGBM] [Info] Start training from score 0.345808\n"
     ]
    },
    {
     "name": "stderr",
     "output_type": "stream",
     "text": [
      "\u001b[32m[I 2021-12-27 17:20:56,598]\u001b[0m Trial 37 finished with value: 0.10866820697902006 and parameters: {'feature_fraction': 0.7200000000000001}. Best is trial 37 with value: 0.10866820697902006.\u001b[0m\n"
     ]
    },
    {
     "name": "stdout",
     "output_type": "stream",
     "text": [
      "Training until validation scores don't improve for 50 rounds\n",
      "Did not meet early stopping. Best iteration is:\n",
      "[100]\tTrain's rmse: 0.133743\tTest's rmse: 0.108668\n",
      "[LightGBM] [Info] Total Bins 2290\n",
      "[LightGBM] [Info] Number of data points in the train set: 10933, number of used features: 22\n",
      "[LightGBM] [Info] Start training from score 0.345808\n",
      "Training until validation scores don't improve for 50 rounds\n"
     ]
    },
    {
     "name": "stderr",
     "output_type": "stream",
     "text": [
      "\u001b[32m[I 2021-12-27 17:20:56,736]\u001b[0m Trial 38 finished with value: 0.1077345300306484 and parameters: {'feature_fraction': 0.784}. Best is trial 38 with value: 0.1077345300306484.\u001b[0m\n",
      "\u001b[32m[I 2021-12-27 17:20:56,890]\u001b[0m Trial 39 finished with value: 0.10021243025555954 and parameters: {'feature_fraction': 0.88}. Best is trial 39 with value: 0.10021243025555954.\u001b[0m\n"
     ]
    },
    {
     "name": "stdout",
     "output_type": "stream",
     "text": [
      "Did not meet early stopping. Best iteration is:\n",
      "[100]\tTrain's rmse: 0.132421\tTest's rmse: 0.107735\n",
      "[LightGBM] [Info] Total Bins 2290\n",
      "[LightGBM] [Info] Number of data points in the train set: 10933, number of used features: 22\n",
      "[LightGBM] [Info] Start training from score 0.345808\n",
      "Training until validation scores don't improve for 50 rounds\n",
      "Did not meet early stopping. Best iteration is:\n",
      "[100]\tTrain's rmse: 0.139753\tTest's rmse: 0.100212\n",
      "[LightGBM] [Info] Total Bins 2290\n"
     ]
    },
    {
     "name": "stderr",
     "output_type": "stream",
     "text": [
      "\u001b[32m[I 2021-12-27 17:20:57,044]\u001b[0m Trial 40 finished with value: 0.10042184465499364 and parameters: {'feature_fraction': 0.8160000000000001}. Best is trial 39 with value: 0.10021243025555954.\u001b[0m\n"
     ]
    },
    {
     "name": "stdout",
     "output_type": "stream",
     "text": [
      "[LightGBM] [Info] Number of data points in the train set: 10933, number of used features: 22\n",
      "[LightGBM] [Info] Start training from score 0.345808\n",
      "Training until validation scores don't improve for 50 rounds\n",
      "Did not meet early stopping. Best iteration is:\n",
      "[100]\tTrain's rmse: 0.1399\tTest's rmse: 0.100422\n",
      "[LightGBM] [Info] Total Bins 2290\n",
      "[LightGBM] [Info] Number of data points in the train set: 10933, number of used features: 22\n",
      "[LightGBM] [Info] Start training from score 0.345808\n",
      "Training until validation scores don't improve for 50 rounds\n"
     ]
    },
    {
     "name": "stderr",
     "output_type": "stream",
     "text": [
      "\u001b[32m[I 2021-12-27 17:20:57,189]\u001b[0m Trial 41 finished with value: 0.10021243025555954 and parameters: {'feature_fraction': 0.8480000000000001}. Best is trial 39 with value: 0.10021243025555954.\u001b[0m\n",
      "\u001b[32m[I 2021-12-27 17:20:57,327]\u001b[0m Trial 42 finished with value: 0.1077345300306484 and parameters: {'feature_fraction': 0.7520000000000001}. Best is trial 39 with value: 0.10021243025555954.\u001b[0m\n"
     ]
    },
    {
     "name": "stdout",
     "output_type": "stream",
     "text": [
      "Did not meet early stopping. Best iteration is:\n",
      "[100]\tTrain's rmse: 0.139753\tTest's rmse: 0.100212\n",
      "[LightGBM] [Info] Total Bins 2290\n",
      "[LightGBM] [Info] Number of data points in the train set: 10933, number of used features: 22\n",
      "[LightGBM] [Info] Start training from score 0.345808\n",
      "Training until validation scores don't improve for 50 rounds\n",
      "Did not meet early stopping. Best iteration is:\n",
      "[100]\tTrain's rmse: 0.132421\tTest's rmse: 0.107735\n",
      "[LightGBM] [Info] Total Bins 2290\n"
     ]
    },
    {
     "name": "stderr",
     "output_type": "stream",
     "text": [
      "\u001b[32m[I 2021-12-27 17:20:57,499]\u001b[0m Trial 43 finished with value: 0.10021252614220935 and parameters: {'lambda_l1': 4.7439493855172935e-06, 'lambda_l2': 0.00022072532593280517}. Best is trial 43 with value: 0.10021252614220935.\u001b[0m\n"
     ]
    },
    {
     "name": "stdout",
     "output_type": "stream",
     "text": [
      "[LightGBM] [Info] Number of data points in the train set: 10933, number of used features: 22\n",
      "[LightGBM] [Info] Start training from score 0.345808\n",
      "Training until validation scores don't improve for 50 rounds\n",
      "Did not meet early stopping. Best iteration is:\n",
      "[100]\tTrain's rmse: 0.139753\tTest's rmse: 0.100213\n",
      "[LightGBM] [Info] Total Bins 2290\n",
      "[LightGBM] [Info] Number of data points in the train set: 10933, number of used features: 22\n",
      "[LightGBM] [Info] Start training from score 0.345808\n",
      "Training until validation scores don't improve for 50 rounds\n"
     ]
    },
    {
     "name": "stderr",
     "output_type": "stream",
     "text": [
      "\u001b[32m[I 2021-12-27 17:20:57,684]\u001b[0m Trial 44 finished with value: 0.10052117016176886 and parameters: {'lambda_l1': 0.2364738213459445, 'lambda_l2': 0.027129382515693416}. Best is trial 43 with value: 0.10021252614220935.\u001b[0m\n",
      "\u001b[32m[I 2021-12-27 17:20:57,852]\u001b[0m Trial 45 finished with value: 0.11230733132993811 and parameters: {'lambda_l1': 5.065150967863028, 'lambda_l2': 2.052933459950087}. Best is trial 43 with value: 0.10021252614220935.\u001b[0m\n"
     ]
    },
    {
     "name": "stdout",
     "output_type": "stream",
     "text": [
      "Did not meet early stopping. Best iteration is:\n",
      "[100]\tTrain's rmse: 0.137209\tTest's rmse: 0.100521\n",
      "[LightGBM] [Info] Total Bins 2290\n",
      "[LightGBM] [Info] Number of data points in the train set: 10933, number of used features: 22\n",
      "[LightGBM] [Info] Start training from score 0.345808\n",
      "Training until validation scores don't improve for 50 rounds\n",
      "Did not meet early stopping. Best iteration is:\n",
      "[100]\tTrain's rmse: 0.149917\tTest's rmse: 0.112307\n",
      "[LightGBM] [Info] Total Bins 2290\n"
     ]
    },
    {
     "name": "stderr",
     "output_type": "stream",
     "text": [
      "\u001b[32m[I 2021-12-27 17:20:58,011]\u001b[0m Trial 46 finished with value: 0.10021243025593074 and parameters: {'lambda_l1': 7.790403492489804e-08, 'lambda_l2': 1.1615400543479437e-07}. Best is trial 46 with value: 0.10021243025593074.\u001b[0m\n"
     ]
    },
    {
     "name": "stdout",
     "output_type": "stream",
     "text": [
      "[LightGBM] [Info] Number of data points in the train set: 10933, number of used features: 22\n",
      "[LightGBM] [Info] Start training from score 0.345808\n",
      "Training until validation scores don't improve for 50 rounds\n",
      "Did not meet early stopping. Best iteration is:\n",
      "[100]\tTrain's rmse: 0.139753\tTest's rmse: 0.100212\n",
      "[LightGBM] [Info] Total Bins 2290\n",
      "[LightGBM] [Info] Number of data points in the train set: 10933, number of used features: 22\n",
      "[LightGBM] [Info] Start training from score 0.345808\n",
      "Training until validation scores don't improve for 50 rounds\n"
     ]
    },
    {
     "name": "stderr",
     "output_type": "stream",
     "text": [
      "\u001b[32m[I 2021-12-27 17:20:58,187]\u001b[0m Trial 47 finished with value: 0.10021274141099935 and parameters: {'lambda_l1': 0.00023299191223211357, 'lambda_l2': 0.000313668068207693}. Best is trial 46 with value: 0.10021243025593074.\u001b[0m\n",
      "\u001b[32m[I 2021-12-27 17:20:58,347]\u001b[0m Trial 48 finished with value: 0.10020355801798213 and parameters: {'lambda_l1': 0.0017382668308631207, 'lambda_l2': 0.0021639518353422822}. Best is trial 48 with value: 0.10020355801798213.\u001b[0m\n"
     ]
    },
    {
     "name": "stdout",
     "output_type": "stream",
     "text": [
      "Did not meet early stopping. Best iteration is:\n",
      "[100]\tTrain's rmse: 0.139754\tTest's rmse: 0.100213\n",
      "[LightGBM] [Info] Total Bins 2290\n",
      "[LightGBM] [Info] Number of data points in the train set: 10933, number of used features: 22\n",
      "[LightGBM] [Info] Start training from score 0.345808\n",
      "Training until validation scores don't improve for 50 rounds\n",
      "Did not meet early stopping. Best iteration is:\n",
      "[100]\tTrain's rmse: 0.139748\tTest's rmse: 0.100204\n",
      "[LightGBM] [Info] Total Bins 2290\n"
     ]
    },
    {
     "name": "stderr",
     "output_type": "stream",
     "text": [
      "\u001b[32m[I 2021-12-27 17:20:58,501]\u001b[0m Trial 49 finished with value: 0.1001842227834326 and parameters: {'lambda_l1': 0.2455123795033307, 'lambda_l2': 4.442814855919782e-06}. Best is trial 49 with value: 0.1001842227834326.\u001b[0m\n"
     ]
    },
    {
     "name": "stdout",
     "output_type": "stream",
     "text": [
      "[LightGBM] [Info] Number of data points in the train set: 10933, number of used features: 22\n",
      "[LightGBM] [Info] Start training from score 0.345808\n",
      "Training until validation scores don't improve for 50 rounds\n",
      "Did not meet early stopping. Best iteration is:\n",
      "[100]\tTrain's rmse: 0.140382\tTest's rmse: 0.100184\n",
      "[LightGBM] [Info] Total Bins 2290\n",
      "[LightGBM] [Info] Number of data points in the train set: 10933, number of used features: 22\n",
      "[LightGBM] [Info] Start training from score 0.345808\n",
      "Training until validation scores don't improve for 50 rounds\n"
     ]
    },
    {
     "name": "stderr",
     "output_type": "stream",
     "text": [
      "\u001b[32m[I 2021-12-27 17:20:58,651]\u001b[0m Trial 50 finished with value: 0.10251070435454643 and parameters: {'lambda_l1': 0.004264945355499071, 'lambda_l2': 1.0296629403080786}. Best is trial 49 with value: 0.1001842227834326.\u001b[0m\n",
      "\u001b[32m[I 2021-12-27 17:20:58,814]\u001b[0m Trial 51 finished with value: 0.10021247637474193 and parameters: {'lambda_l1': 4.1195259975313525e-07, 'lambda_l2': 0.00011029299129248884}. Best is trial 49 with value: 0.1001842227834326.\u001b[0m\n"
     ]
    },
    {
     "name": "stdout",
     "output_type": "stream",
     "text": [
      "Did not meet early stopping. Best iteration is:\n",
      "[100]\tTrain's rmse: 0.139917\tTest's rmse: 0.102511\n",
      "[LightGBM] [Info] Total Bins 2290\n",
      "[LightGBM] [Info] Number of data points in the train set: 10933, number of used features: 22\n",
      "[LightGBM] [Info] Start training from score 0.345808\n",
      "Training until validation scores don't improve for 50 rounds\n",
      "Did not meet early stopping. Best iteration is:\n",
      "[100]\tTrain's rmse: 0.139753\tTest's rmse: 0.100212\n",
      "[LightGBM] [Info] Total Bins 2290\n"
     ]
    },
    {
     "name": "stderr",
     "output_type": "stream",
     "text": [
      "\u001b[32m[I 2021-12-27 17:20:58,990]\u001b[0m Trial 52 finished with value: 0.10021244692957383 and parameters: {'lambda_l1': 2.1695218673409785e-05, 'lambda_l2': 1.4065268361519649e-08}. Best is trial 49 with value: 0.1001842227834326.\u001b[0m\n"
     ]
    },
    {
     "name": "stdout",
     "output_type": "stream",
     "text": [
      "[LightGBM] [Info] Number of data points in the train set: 10933, number of used features: 22\n",
      "[LightGBM] [Info] Start training from score 0.345808\n",
      "Training until validation scores don't improve for 50 rounds\n",
      "Did not meet early stopping. Best iteration is:\n",
      "[100]\tTrain's rmse: 0.139753\tTest's rmse: 0.100212\n",
      "[LightGBM] [Info] Total Bins 2290\n"
     ]
    },
    {
     "name": "stderr",
     "output_type": "stream",
     "text": [
      "\u001b[32m[I 2021-12-27 17:20:59,161]\u001b[0m Trial 53 finished with value: 0.10311262302883153 and parameters: {'lambda_l1': 0.17574987167793782, 'lambda_l2': 2.4104862619067565e-06}. Best is trial 49 with value: 0.1001842227834326.\u001b[0m\n"
     ]
    },
    {
     "name": "stdout",
     "output_type": "stream",
     "text": [
      "[LightGBM] [Info] Number of data points in the train set: 10933, number of used features: 22\n",
      "[LightGBM] [Info] Start training from score 0.345808\n",
      "Training until validation scores don't improve for 50 rounds\n",
      "Did not meet early stopping. Best iteration is:\n",
      "[100]\tTrain's rmse: 0.139154\tTest's rmse: 0.103113\n",
      "[LightGBM] [Info] Total Bins 2290\n",
      "[LightGBM] [Info] Number of data points in the train set: 10933, number of used features: 22\n",
      "[LightGBM] [Info] Start training from score 0.345808\n"
     ]
    },
    {
     "name": "stderr",
     "output_type": "stream",
     "text": [
      "\u001b[32m[I 2021-12-27 17:20:59,319]\u001b[0m Trial 54 finished with value: 0.10036489151692089 and parameters: {'lambda_l1': 0.0051533087241259065, 'lambda_l2': 4.035362655239806e-06}. Best is trial 49 with value: 0.1001842227834326.\u001b[0m\n"
     ]
    },
    {
     "name": "stdout",
     "output_type": "stream",
     "text": [
      "Training until validation scores don't improve for 50 rounds\n",
      "Did not meet early stopping. Best iteration is:\n",
      "[100]\tTrain's rmse: 0.139908\tTest's rmse: 0.100365\n",
      "[LightGBM] [Info] Total Bins 2290\n",
      "[LightGBM] [Info] Number of data points in the train set: 10933, number of used features: 22\n",
      "[LightGBM] [Info] Start training from score 0.345808\n",
      "Training until validation scores don't improve for 50 rounds\n"
     ]
    },
    {
     "name": "stderr",
     "output_type": "stream",
     "text": [
      "\u001b[32m[I 2021-12-27 17:20:59,507]\u001b[0m Trial 55 finished with value: 0.10228920896869845 and parameters: {'lambda_l1': 0.010299374332281348, 'lambda_l2': 0.006010756810341835}. Best is trial 49 with value: 0.1001842227834326.\u001b[0m\n",
      "\u001b[32m[I 2021-12-27 17:20:59,670]\u001b[0m Trial 56 finished with value: 0.11006158813506936 and parameters: {'lambda_l1': 4.380471791709886, 'lambda_l2': 1.0165152542994883e-05}. Best is trial 49 with value: 0.1001842227834326.\u001b[0m\n"
     ]
    },
    {
     "name": "stdout",
     "output_type": "stream",
     "text": [
      "Did not meet early stopping. Best iteration is:\n",
      "[100]\tTrain's rmse: 0.140443\tTest's rmse: 0.102289\n",
      "[LightGBM] [Info] Total Bins 2290\n",
      "[LightGBM] [Info] Number of data points in the train set: 10933, number of used features: 22\n",
      "[LightGBM] [Info] Start training from score 0.345808\n",
      "Training until validation scores don't improve for 50 rounds\n",
      "Did not meet early stopping. Best iteration is:\n",
      "[100]\tTrain's rmse: 0.144708\tTest's rmse: 0.110062\n"
     ]
    },
    {
     "name": "stderr",
     "output_type": "stream",
     "text": [
      "\u001b[32m[I 2021-12-27 17:20:59,834]\u001b[0m Trial 57 finished with value: 0.10155471984228152 and parameters: {'lambda_l1': 0.11279224544292464, 'lambda_l2': 0.013607944712160428}. Best is trial 49 with value: 0.1001842227834326.\u001b[0m\n"
     ]
    },
    {
     "name": "stdout",
     "output_type": "stream",
     "text": [
      "[LightGBM] [Info] Total Bins 2290\n",
      "[LightGBM] [Info] Number of data points in the train set: 10933, number of used features: 22\n",
      "[LightGBM] [Info] Start training from score 0.345808\n",
      "Training until validation scores don't improve for 50 rounds\n",
      "Did not meet early stopping. Best iteration is:\n",
      "[100]\tTrain's rmse: 0.14114\tTest's rmse: 0.101555\n",
      "[LightGBM] [Info] Total Bins 2290\n",
      "[LightGBM] [Info] Number of data points in the train set: 10933, number of used features: 22\n",
      "[LightGBM] [Info] Start training from score 0.345808\n",
      "Training until validation scores don't improve for 50 rounds\n"
     ]
    },
    {
     "name": "stderr",
     "output_type": "stream",
     "text": [
      "\u001b[32m[I 2021-12-27 17:21:00,008]\u001b[0m Trial 58 finished with value: 0.10021298806517959 and parameters: {'lambda_l1': 0.0007207096777600271, 'lambda_l2': 7.806415034751664e-07}. Best is trial 49 with value: 0.1001842227834326.\u001b[0m\n",
      "\u001b[32m[I 2021-12-27 17:21:00,168]\u001b[0m Trial 59 finished with value: 0.10021360777045954 and parameters: {'lambda_l1': 8.53122607673852e-05, 'lambda_l2': 0.0026561538511873507}. Best is trial 49 with value: 0.1001842227834326.\u001b[0m\n"
     ]
    },
    {
     "name": "stdout",
     "output_type": "stream",
     "text": [
      "Did not meet early stopping. Best iteration is:\n",
      "[100]\tTrain's rmse: 0.139755\tTest's rmse: 0.100213\n",
      "[LightGBM] [Info] Total Bins 2290\n",
      "[LightGBM] [Info] Number of data points in the train set: 10933, number of used features: 22\n",
      "[LightGBM] [Info] Start training from score 0.345808\n",
      "Training until validation scores don't improve for 50 rounds\n",
      "Did not meet early stopping. Best iteration is:\n",
      "[100]\tTrain's rmse: 0.139756\tTest's rmse: 0.100214\n"
     ]
    },
    {
     "name": "stderr",
     "output_type": "stream",
     "text": [
      "\u001b[32m[I 2021-12-27 17:21:00,334]\u001b[0m Trial 60 finished with value: 0.10285906951870293 and parameters: {'lambda_l1': 0.06359396451803762, 'lambda_l2': 0.13601819489496578}. Best is trial 49 with value: 0.1001842227834326.\u001b[0m\n"
     ]
    },
    {
     "name": "stdout",
     "output_type": "stream",
     "text": [
      "[LightGBM] [Info] Total Bins 2290\n",
      "[LightGBM] [Info] Number of data points in the train set: 10933, number of used features: 22\n",
      "[LightGBM] [Info] Start training from score 0.345808\n",
      "Training until validation scores don't improve for 50 rounds\n",
      "Did not meet early stopping. Best iteration is:\n",
      "[100]\tTrain's rmse: 0.133779\tTest's rmse: 0.102859\n",
      "[LightGBM] [Info] Total Bins 2290\n",
      "[LightGBM] [Info] Number of data points in the train set: 10933, number of used features: 22\n"
     ]
    },
    {
     "name": "stderr",
     "output_type": "stream",
     "text": [
      "\u001b[32m[I 2021-12-27 17:21:00,607]\u001b[0m Trial 61 finished with value: 0.1050806660191672 and parameters: {'lambda_l1': 0.9797611503539613, 'lambda_l2': 1.9843043561627178e-05}. Best is trial 49 with value: 0.1001842227834326.\u001b[0m\n"
     ]
    },
    {
     "name": "stdout",
     "output_type": "stream",
     "text": [
      "[LightGBM] [Info] Start training from score 0.345808\n",
      "Training until validation scores don't improve for 50 rounds\n",
      "Did not meet early stopping. Best iteration is:\n",
      "[100]\tTrain's rmse: 0.138716\tTest's rmse: 0.105081\n"
     ]
    },
    {
     "name": "stderr",
     "output_type": "stream",
     "text": [
      "\u001b[32m[I 2021-12-27 17:21:00,799]\u001b[0m Trial 62 finished with value: 0.1002022575818568 and parameters: {'lambda_l1': 0.0010848540334359661, 'lambda_l2': 3.601602948060189e-05}. Best is trial 49 with value: 0.1001842227834326.\u001b[0m\n"
     ]
    },
    {
     "name": "stdout",
     "output_type": "stream",
     "text": [
      "[LightGBM] [Info] Total Bins 2290\n",
      "[LightGBM] [Info] Number of data points in the train set: 10933, number of used features: 22\n",
      "[LightGBM] [Info] Start training from score 0.345808\n",
      "Training until validation scores don't improve for 50 rounds\n",
      "Did not meet early stopping. Best iteration is:\n",
      "[100]\tTrain's rmse: 0.139742\tTest's rmse: 0.100202\n"
     ]
    },
    {
     "name": "stderr",
     "output_type": "stream",
     "text": [
      "\u001b[32m[I 2021-12-27 17:21:00,985]\u001b[0m Trial 63 finished with value: 0.09847250828853338 and parameters: {'min_child_samples': 10}. Best is trial 63 with value: 0.09847250828853338.\u001b[0m\n"
     ]
    },
    {
     "name": "stdout",
     "output_type": "stream",
     "text": [
      "[LightGBM] [Info] Total Bins 2290\n",
      "[LightGBM] [Info] Number of data points in the train set: 10933, number of used features: 22\n",
      "[LightGBM] [Info] Start training from score 0.345808\n",
      "Training until validation scores don't improve for 50 rounds\n",
      "Did not meet early stopping. Best iteration is:\n",
      "[100]\tTrain's rmse: 0.0760405\tTest's rmse: 0.0984725\n",
      "[LightGBM] [Info] Total Bins 2290\n",
      "[LightGBM] [Info] Number of data points in the train set: 10933, number of used features: 22\n",
      "[LightGBM] [Info] Start training from score 0.345808\n",
      "Training until validation scores don't improve for 50 rounds\n",
      "Early stopping, best iteration is:\n",
      "[47]\tTrain's rmse: 0.260681\tTest's rmse: 0.186719\n"
     ]
    },
    {
     "name": "stderr",
     "output_type": "stream",
     "text": [
      "\u001b[32m[I 2021-12-27 17:21:01,221]\u001b[0m Trial 64 finished with value: 0.18671884843151285 and parameters: {'min_child_samples': 50}. Best is trial 63 with value: 0.09847250828853338.\u001b[0m\n",
      "\u001b[32m[I 2021-12-27 17:21:01,365]\u001b[0m Trial 65 finished with value: 0.10186651031805836 and parameters: {'min_child_samples': 5}. Best is trial 63 with value: 0.09847250828853338.\u001b[0m\n"
     ]
    },
    {
     "name": "stdout",
     "output_type": "stream",
     "text": [
      "[LightGBM] [Info] Total Bins 2290\n",
      "[LightGBM] [Info] Number of data points in the train set: 10933, number of used features: 22\n",
      "[LightGBM] [Info] Start training from score 0.345808\n",
      "Training until validation scores don't improve for 50 rounds\n",
      "Early stopping, best iteration is:\n",
      "[44]\tTrain's rmse: 0.0763425\tTest's rmse: 0.101867\n",
      "[LightGBM] [Info] Total Bins 2290\n",
      "[LightGBM] [Info] Number of data points in the train set: 10933, number of used features: 22\n",
      "[LightGBM] [Info] Start training from score 0.345808\n",
      "Training until validation scores don't improve for 50 rounds\n"
     ]
    },
    {
     "name": "stderr",
     "output_type": "stream",
     "text": [
      "\u001b[32m[I 2021-12-27 17:21:01,523]\u001b[0m Trial 66 finished with value: 0.11469598207122003 and parameters: {'min_child_samples': 25}. Best is trial 63 with value: 0.09847250828853338.\u001b[0m\n",
      "\u001b[32m[I 2021-12-27 17:21:01,662]\u001b[0m Trial 67 finished with value: 0.22691709453129122 and parameters: {'min_child_samples': 100}. Best is trial 63 with value: 0.09847250828853338.\u001b[0m\n"
     ]
    },
    {
     "name": "stdout",
     "output_type": "stream",
     "text": [
      "Did not meet early stopping. Best iteration is:\n",
      "[100]\tTrain's rmse: 0.162065\tTest's rmse: 0.114696\n",
      "[LightGBM] [Info] Total Bins 2290\n",
      "[LightGBM] [Info] Number of data points in the train set: 10933, number of used features: 22\n",
      "[LightGBM] [Info] Start training from score 0.345808\n",
      "Training until validation scores don't improve for 50 rounds\n",
      "Early stopping, best iteration is:\n",
      "[25]\tTrain's rmse: 0.336896\tTest's rmse: 0.226917\n"
     ]
    },
    {
     "data": {
      "image/png": "[encoded data removed]",
      "text/plain": [
       "<Figure size 432x288 with 1 Axes>"
      ]
     },
     "metadata": {
      "needs_background": "light"
     },
     "output_type": "display_data"
    },
    {
     "name": "stderr",
     "output_type": "stream",
     "text": [
      "\u001b[32m[I 2021-12-27 17:21:01,860]\u001b[0m A new study created in memory with name: no-name-41b743e0-897a-4e0d-bc13-f83a76d0ed29\u001b[0m\n"
     ]
    },
    {
     "name": "stdout",
     "output_type": "stream",
     "text": [
      "[LightGBM] [Info] Total Bins 2286\n",
      "[LightGBM] [Info] Number of data points in the train set: 10965, number of used features: 22\n",
      "[LightGBM] [Info] Start training from score 0.383112\n",
      "Training until validation scores don't improve for 50 rounds\n",
      "Did not meet early stopping. Best iteration is:\n",
      "[100]\tTrain's rmse: 0.134967\tTest's rmse: 0.169026\n"
     ]
    },
    {
     "name": "stderr",
     "output_type": "stream",
     "text": [
      "\u001b[32m[I 2021-12-27 17:21:02,090]\u001b[0m Trial 0 finished with value: 0.16902597277644246 and parameters: {'feature_fraction': 0.4}. Best is trial 0 with value: 0.16902597277644246.\u001b[0m\n"
     ]
    },
    {
     "name": "stdout",
     "output_type": "stream",
     "text": [
      "[LightGBM] [Info] Total Bins 2286\n",
      "[LightGBM] [Info] Number of data points in the train set: 10965, number of used features: 22\n",
      "[LightGBM] [Info] Start training from score 0.383112\n",
      "Training until validation scores don't improve for 50 rounds\n",
      "Did not meet early stopping. Best iteration is:\n",
      "[100]\tTrain's rmse: 0.12905\tTest's rmse: 0.149363\n"
     ]
    },
    {
     "name": "stderr",
     "output_type": "stream",
     "text": [
      "\u001b[32m[I 2021-12-27 17:21:02,331]\u001b[0m Trial 1 finished with value: 0.14936328917663394 and parameters: {'feature_fraction': 0.7}. Best is trial 1 with value: 0.14936328917663394.\u001b[0m\n"
     ]
    },
    {
     "name": "stdout",
     "output_type": "stream",
     "text": [
      "[LightGBM] [Info] Total Bins 2286\n",
      "[LightGBM] [Info] Number of data points in the train set: 10965, number of used features: 22\n",
      "[LightGBM] [Info] Start training from score 0.383112\n",
      "Training until validation scores don't improve for 50 rounds\n",
      "Did not meet early stopping. Best iteration is:\n",
      "[100]\tTrain's rmse: 0.14443\tTest's rmse: 0.139906\n"
     ]
    },
    {
     "name": "stderr",
     "output_type": "stream",
     "text": [
      "\u001b[32m[I 2021-12-27 17:21:02,572]\u001b[0m Trial 2 finished with value: 0.1399063359860016 and parameters: {'feature_fraction': 0.8}. Best is trial 2 with value: 0.1399063359860016.\u001b[0m\n"
     ]
    },
    {
     "name": "stdout",
     "output_type": "stream",
     "text": [
      "[LightGBM] [Info] Total Bins 2286\n",
      "[LightGBM] [Info] Number of data points in the train set: 10965, number of used features: 22\n",
      "[LightGBM] [Info] Start training from score 0.383112\n",
      "Training until validation scores don't improve for 50 rounds\n",
      "Did not meet early stopping. Best iteration is:\n",
      "[100]\tTrain's rmse: 0.155903\tTest's rmse: 0.140315\n"
     ]
    },
    {
     "name": "stderr",
     "output_type": "stream",
     "text": [
      "\u001b[32m[I 2021-12-27 17:21:02,823]\u001b[0m Trial 3 finished with value: 0.14031536940373338 and parameters: {'feature_fraction': 0.8999999999999999}. Best is trial 2 with value: 0.1399063359860016.\u001b[0m\n"
     ]
    },
    {
     "name": "stdout",
     "output_type": "stream",
     "text": [
      "[LightGBM] [Info] Total Bins 2286\n",
      "[LightGBM] [Info] Number of data points in the train set: 10965, number of used features: 22\n",
      "[LightGBM] [Info] Start training from score 0.383112\n",
      "Training until validation scores don't improve for 50 rounds\n"
     ]
    },
    {
     "name": "stderr",
     "output_type": "stream",
     "text": [
      "\u001b[32m[I 2021-12-27 17:21:03,124]\u001b[0m Trial 4 finished with value: 0.16057600609609454 and parameters: {'feature_fraction': 0.5}. Best is trial 2 with value: 0.1399063359860016.\u001b[0m\n"
     ]
    },
    {
     "name": "stdout",
     "output_type": "stream",
     "text": [
      "Did not meet early stopping. Best iteration is:\n",
      "[100]\tTrain's rmse: 0.129464\tTest's rmse: 0.160576\n",
      "[LightGBM] [Info] Total Bins 2286\n",
      "[LightGBM] [Info] Number of data points in the train set: 10965, number of used features: 22\n",
      "[LightGBM] [Info] Start training from score 0.383112\n",
      "Training until validation scores don't improve for 50 rounds\n"
     ]
    },
    {
     "name": "stderr",
     "output_type": "stream",
     "text": [
      "\u001b[32m[I 2021-12-27 17:21:03,365]\u001b[0m Trial 5 finished with value: 0.1415026234343981 and parameters: {'feature_fraction': 1.0}. Best is trial 2 with value: 0.1399063359860016.\u001b[0m\n"
     ]
    },
    {
     "name": "stdout",
     "output_type": "stream",
     "text": [
      "Did not meet early stopping. Best iteration is:\n",
      "[100]\tTrain's rmse: 0.146988\tTest's rmse: 0.141503\n",
      "[LightGBM] [Info] Total Bins 2286\n",
      "[LightGBM] [Info] Number of data points in the train set: 10965, number of used features: 22\n",
      "[LightGBM] [Info] Start training from score 0.383112\n",
      "Training until validation scores don't improve for 50 rounds\n"
     ]
    },
    {
     "name": "stderr",
     "output_type": "stream",
     "text": [
      "\u001b[32m[I 2021-12-27 17:21:03,617]\u001b[0m Trial 6 finished with value: 0.1593121386019105 and parameters: {'feature_fraction': 0.6}. Best is trial 2 with value: 0.1399063359860016.\u001b[0m\n"
     ]
    },
    {
     "name": "stdout",
     "output_type": "stream",
     "text": [
      "Did not meet early stopping. Best iteration is:\n",
      "[100]\tTrain's rmse: 0.128939\tTest's rmse: 0.159312\n",
      "[LightGBM] [Info] Total Bins 2286\n",
      "[LightGBM] [Info] Number of data points in the train set: 10965, number of used features: 22\n",
      "[LightGBM] [Info] Start training from score 0.383112\n",
      "Training until validation scores don't improve for 50 rounds\n"
     ]
    },
    {
     "name": "stderr",
     "output_type": "stream",
     "text": [
      "\u001b[32m[I 2021-12-27 17:21:04,406]\u001b[0m Trial 7 finished with value: 0.1421114771664161 and parameters: {'num_leaves': 153}. Best is trial 7 with value: 0.1421114771664161.\u001b[0m\n"
     ]
    },
    {
     "name": "stdout",
     "output_type": "stream",
     "text": [
      "Did not meet early stopping. Best iteration is:\n",
      "[100]\tTrain's rmse: 0.139672\tTest's rmse: 0.142111\n",
      "[LightGBM] [Info] Total Bins 2286\n",
      "[LightGBM] [Info] Number of data points in the train set: 10965, number of used features: 22\n",
      "[LightGBM] [Info] Start training from score 0.383112\n",
      "Training until validation scores don't improve for 50 rounds\n"
     ]
    },
    {
     "name": "stderr",
     "output_type": "stream",
     "text": [
      "\u001b[32m[I 2021-12-27 17:21:04,777]\u001b[0m Trial 8 finished with value: 0.14307325421047107 and parameters: {'num_leaves': 63}. Best is trial 7 with value: 0.1421114771664161.\u001b[0m\n"
     ]
    },
    {
     "name": "stdout",
     "output_type": "stream",
     "text": [
      "Did not meet early stopping. Best iteration is:\n",
      "[100]\tTrain's rmse: 0.144556\tTest's rmse: 0.143073\n",
      "[LightGBM] [Info] Total Bins 2286\n",
      "[LightGBM] [Info] Number of data points in the train set: 10965, number of used features: 22\n",
      "[LightGBM] [Info] Start training from score 0.383112\n",
      "Training until validation scores don't improve for 50 rounds\n"
     ]
    },
    {
     "name": "stderr",
     "output_type": "stream",
     "text": [
      "\u001b[32m[I 2021-12-27 17:21:05,162]\u001b[0m Trial 9 finished with value: 0.14050730894864435 and parameters: {'num_leaves': 60}. Best is trial 9 with value: 0.14050730894864435.\u001b[0m\n"
     ]
    },
    {
     "name": "stdout",
     "output_type": "stream",
     "text": [
      "Did not meet early stopping. Best iteration is:\n",
      "[100]\tTrain's rmse: 0.142887\tTest's rmse: 0.140507\n",
      "[LightGBM] [Info] Total Bins 2286\n",
      "[LightGBM] [Info] Number of data points in the train set: 10965, number of used features: 22\n",
      "[LightGBM] [Info] Start training from score 0.383112\n",
      "Training until validation scores don't improve for 50 rounds\n"
     ]
    },
    {
     "name": "stderr",
     "output_type": "stream",
     "text": [
      "\u001b[32m[I 2021-12-27 17:21:06,034]\u001b[0m Trial 10 finished with value: 0.1439917606168839 and parameters: {'num_leaves': 174}. Best is trial 9 with value: 0.14050730894864435.\u001b[0m\n"
     ]
    },
    {
     "name": "stdout",
     "output_type": "stream",
     "text": [
      "Did not meet early stopping. Best iteration is:\n",
      "[100]\tTrain's rmse: 0.14106\tTest's rmse: 0.143992\n",
      "[LightGBM] [Info] Total Bins 2286\n",
      "[LightGBM] [Info] Number of data points in the train set: 10965, number of used features: 22\n",
      "[LightGBM] [Info] Start training from score 0.383112\n",
      "Training until validation scores don't improve for 50 rounds\n"
     ]
    },
    {
     "name": "stderr",
     "output_type": "stream",
     "text": [
      "\u001b[32m[I 2021-12-27 17:21:06,478]\u001b[0m Trial 11 finished with value: 0.13968290115779555 and parameters: {'num_leaves': 77}. Best is trial 11 with value: 0.13968290115779555.\u001b[0m\n"
     ]
    },
    {
     "name": "stdout",
     "output_type": "stream",
     "text": [
      "Did not meet early stopping. Best iteration is:\n",
      "[100]\tTrain's rmse: 0.143534\tTest's rmse: 0.139683\n",
      "[LightGBM] [Info] Total Bins 2286\n",
      "[LightGBM] [Info] Number of data points in the train set: 10965, number of used features: 22\n",
      "[LightGBM] [Info] Start training from score 0.383112\n",
      "Training until validation scores don't improve for 50 rounds\n"
     ]
    },
    {
     "name": "stderr",
     "output_type": "stream",
     "text": [
      "\u001b[32m[I 2021-12-27 17:21:07,276]\u001b[0m Trial 12 finished with value: 0.14450322726892495 and parameters: {'num_leaves': 152}. Best is trial 11 with value: 0.13968290115779555.\u001b[0m\n"
     ]
    },
    {
     "name": "stdout",
     "output_type": "stream",
     "text": [
      "Did not meet early stopping. Best iteration is:\n",
      "[100]\tTrain's rmse: 0.144254\tTest's rmse: 0.144503\n",
      "[LightGBM] [Info] Total Bins 2286\n",
      "[LightGBM] [Info] Number of data points in the train set: 10965, number of used features: 22\n",
      "[LightGBM] [Info] Start training from score 0.383112\n",
      "Training until validation scores don't improve for 50 rounds\n"
     ]
    },
    {
     "name": "stderr",
     "output_type": "stream",
     "text": [
      "\u001b[32m[I 2021-12-27 17:21:07,999]\u001b[0m Trial 13 finished with value: 0.1417515098124393 and parameters: {'num_leaves': 126}. Best is trial 11 with value: 0.13968290115779555.\u001b[0m\n"
     ]
    },
    {
     "name": "stdout",
     "output_type": "stream",
     "text": [
      "Did not meet early stopping. Best iteration is:\n",
      "[100]\tTrain's rmse: 0.141575\tTest's rmse: 0.141752\n",
      "[LightGBM] [Info] Total Bins 2286\n",
      "[LightGBM] [Info] Number of data points in the train set: 10965, number of used features: 22\n",
      "[LightGBM] [Info] Start training from score 0.383112\n",
      "Training until validation scores don't improve for 50 rounds\n"
     ]
    },
    {
     "name": "stderr",
     "output_type": "stream",
     "text": [
      "\u001b[32m[I 2021-12-27 17:21:08,190]\u001b[0m Trial 14 finished with value: 0.13853218890024574 and parameters: {'num_leaves': 15}. Best is trial 14 with value: 0.13853218890024574.\u001b[0m\n"
     ]
    },
    {
     "name": "stdout",
     "output_type": "stream",
     "text": [
      "Did not meet early stopping. Best iteration is:\n",
      "[100]\tTrain's rmse: 0.14426\tTest's rmse: 0.138532\n",
      "[LightGBM] [Info] Total Bins 2286\n",
      "[LightGBM] [Info] Number of data points in the train set: 10965, number of used features: 22\n",
      "[LightGBM] [Info] Start training from score 0.383112\n",
      "[LightGBM] [Warning] No further splits with positive gain, best gain: -inf\n",
      "Training until validation scores don't improve for 50 rounds\n",
      "[LightGBM] [Warning] No further splits with positive gain, best gain: -inf\n"
     ]
    },
    {
     "name": "stderr",
     "output_type": "stream",
     "text": [
      "\u001b[32m[I 2021-12-27 17:21:09,403]\u001b[0m Trial 15 finished with value: 0.14521333565861697 and parameters: {'num_leaves': 250}. Best is trial 14 with value: 0.13853218890024574.\u001b[0m\n"
     ]
    },
    {
     "name": "stdout",
     "output_type": "stream",
     "text": [
      "Did not meet early stopping. Best iteration is:\n",
      "[100]\tTrain's rmse: 0.142533\tTest's rmse: 0.145213\n",
      "[LightGBM] [Info] Total Bins 2286\n",
      "[LightGBM] [Info] Number of data points in the train set: 10965, number of used features: 22\n",
      "[LightGBM] [Info] Start training from score 0.383112\n",
      "Training until validation scores don't improve for 50 rounds\n"
     ]
    },
    {
     "name": "stderr",
     "output_type": "stream",
     "text": [
      "\u001b[32m[I 2021-12-27 17:21:09,675]\u001b[0m Trial 16 finished with value: 0.13922569217350136 and parameters: {'num_leaves': 37}. Best is trial 14 with value: 0.13853218890024574.\u001b[0m\n",
      "\u001b[32m[I 2021-12-27 17:21:09,763]\u001b[0m Trial 17 finished with value: 0.16837132603841196 and parameters: {'num_leaves': 2}. Best is trial 14 with value: 0.13853218890024574.\u001b[0m\n"
     ]
    },
    {
     "name": "stdout",
     "output_type": "stream",
     "text": [
      "Did not meet early stopping. Best iteration is:\n",
      "[100]\tTrain's rmse: 0.137652\tTest's rmse: 0.139226\n",
      "[LightGBM] [Info] Total Bins 2286\n",
      "[LightGBM] [Info] Number of data points in the train set: 10965, number of used features: 22\n",
      "[LightGBM] [Info] Start training from score 0.383112\n",
      "Training until validation scores don't improve for 50 rounds\n",
      "Did not meet early stopping. Best iteration is:\n",
      "[100]\tTrain's rmse: 0.210074\tTest's rmse: 0.168371\n",
      "[LightGBM] [Info] Total Bins 2286\n",
      "[LightGBM] [Info] Number of data points in the train set: 10965, number of used features: 22\n",
      "[LightGBM] [Info] Start training from score 0.383112\n",
      "Training until validation scores don't improve for 50 rounds\n",
      "Did not meet early stopping. Best iteration is:\n",
      "[100]\tTrain's rmse: 0.161555\tTest's rmse: 0.15101\n"
     ]
    },
    {
     "name": "stderr",
     "output_type": "stream",
     "text": [
      "\u001b[32m[I 2021-12-27 17:21:09,872]\u001b[0m Trial 18 finished with value: 0.15101032941010567 and parameters: {'num_leaves': 5}. Best is trial 14 with value: 0.13853218890024574.\u001b[0m\n"
     ]
    },
    {
     "name": "stdout",
     "output_type": "stream",
     "text": [
      "[LightGBM] [Info] Total Bins 2286\n",
      "[LightGBM] [Info] Number of data points in the train set: 10965, number of used features: 22\n",
      "[LightGBM] [Info] Start training from score 0.383112\n",
      "Training until validation scores don't improve for 50 rounds\n"
     ]
    },
    {
     "name": "stderr",
     "output_type": "stream",
     "text": [
      "\u001b[32m[I 2021-12-27 17:21:10,188]\u001b[0m Trial 19 finished with value: 0.14050705144273173 and parameters: {'num_leaves': 40}. Best is trial 14 with value: 0.13853218890024574.\u001b[0m\n"
     ]
    },
    {
     "name": "stdout",
     "output_type": "stream",
     "text": [
      "Did not meet early stopping. Best iteration is:\n",
      "[100]\tTrain's rmse: 0.140018\tTest's rmse: 0.140507\n",
      "[LightGBM] [Info] Total Bins 2286\n",
      "[LightGBM] [Info] Number of data points in the train set: 10965, number of used features: 22\n",
      "[LightGBM] [Info] Start training from score 0.383112\n",
      "Training until validation scores don't improve for 50 rounds\n"
     ]
    },
    {
     "name": "stderr",
     "output_type": "stream",
     "text": [
      "\u001b[32m[I 2021-12-27 17:21:10,726]\u001b[0m Trial 20 finished with value: 0.14003393165701522 and parameters: {'num_leaves': 100}. Best is trial 14 with value: 0.13853218890024574.\u001b[0m\n"
     ]
    },
    {
     "name": "stdout",
     "output_type": "stream",
     "text": [
      "Did not meet early stopping. Best iteration is:\n",
      "[100]\tTrain's rmse: 0.143281\tTest's rmse: 0.140034\n",
      "[LightGBM] [Info] Total Bins 2286\n",
      "[LightGBM] [Info] Number of data points in the train set: 10965, number of used features: 22\n",
      "[LightGBM] [Info] Start training from score 0.383112\n",
      "Training until validation scores don't improve for 50 rounds\n"
     ]
    },
    {
     "name": "stderr",
     "output_type": "stream",
     "text": [
      "\u001b[32m[I 2021-12-27 17:21:10,965]\u001b[0m Trial 21 finished with value: 0.1399063359860016 and parameters: {'num_leaves': 31}. Best is trial 14 with value: 0.13853218890024574.\u001b[0m\n"
     ]
    },
    {
     "name": "stdout",
     "output_type": "stream",
     "text": [
      "Did not meet early stopping. Best iteration is:\n",
      "[100]\tTrain's rmse: 0.14443\tTest's rmse: 0.139906\n",
      "[LightGBM] [Info] Total Bins 2286\n",
      "[LightGBM] [Info] Number of data points in the train set: 10965, number of used features: 22\n",
      "[LightGBM] [Info] Start training from score 0.383112\n",
      "Training until validation scores don't improve for 50 rounds\n"
     ]
    },
    {
     "name": "stderr",
     "output_type": "stream",
     "text": [
      "\u001b[32m[I 2021-12-27 17:21:11,460]\u001b[0m Trial 22 finished with value: 0.14238561293902535 and parameters: {'num_leaves': 94}. Best is trial 14 with value: 0.13853218890024574.\u001b[0m\n"
     ]
    },
    {
     "name": "stdout",
     "output_type": "stream",
     "text": [
      "Did not meet early stopping. Best iteration is:\n",
      "[100]\tTrain's rmse: 0.142695\tTest's rmse: 0.142386\n",
      "[LightGBM] [Info] Total Bins 2286\n",
      "[LightGBM] [Info] Number of data points in the train set: 10965, number of used features: 22\n",
      "[LightGBM] [Info] Start training from score 0.383112\n",
      "Training until validation scores don't improve for 50 rounds\n"
     ]
    },
    {
     "name": "stderr",
     "output_type": "stream",
     "text": [
      "\u001b[32m[I 2021-12-27 17:21:12,494]\u001b[0m Trial 23 finished with value: 0.14444906676910416 and parameters: {'num_leaves': 213}. Best is trial 14 with value: 0.13853218890024574.\u001b[0m\n"
     ]
    },
    {
     "name": "stdout",
     "output_type": "stream",
     "text": [
      "Did not meet early stopping. Best iteration is:\n",
      "[100]\tTrain's rmse: 0.141258\tTest's rmse: 0.144449\n",
      "[LightGBM] [Info] Total Bins 2286\n",
      "[LightGBM] [Info] Number of data points in the train set: 10965, number of used features: 22\n",
      "[LightGBM] [Info] Start training from score 0.383112\n",
      "Training until validation scores don't improve for 50 rounds\n"
     ]
    },
    {
     "name": "stderr",
     "output_type": "stream",
     "text": [
      "\u001b[32m[I 2021-12-27 17:21:12,817]\u001b[0m Trial 24 finished with value: 0.13868893202154875 and parameters: {'num_leaves': 36}. Best is trial 14 with value: 0.13853218890024574.\u001b[0m\n"
     ]
    },
    {
     "name": "stdout",
     "output_type": "stream",
     "text": [
      "Did not meet early stopping. Best iteration is:\n",
      "[100]\tTrain's rmse: 0.137875\tTest's rmse: 0.138689\n",
      "[LightGBM] [Info] Total Bins 2286\n",
      "[LightGBM] [Info] Number of data points in the train set: 10965, number of used features: 22\n",
      "[LightGBM] [Info] Start training from score 0.383112\n",
      "Training until validation scores don't improve for 50 rounds\n"
     ]
    },
    {
     "name": "stderr",
     "output_type": "stream",
     "text": [
      "\u001b[32m[I 2021-12-27 17:21:13,061]\u001b[0m Trial 25 finished with value: 0.1418416262375462 and parameters: {'num_leaves': 19}. Best is trial 14 with value: 0.13853218890024574.\u001b[0m\n"
     ]
    },
    {
     "name": "stdout",
     "output_type": "stream",
     "text": [
      "Did not meet early stopping. Best iteration is:\n",
      "[100]\tTrain's rmse: 0.142096\tTest's rmse: 0.141842\n",
      "[LightGBM] [Info] Total Bins 2286\n",
      "[LightGBM] [Info] Number of data points in the train set: 10965, number of used features: 22\n",
      "[LightGBM] [Info] Start training from score 0.383112\n",
      "Training until validation scores don't improve for 50 rounds\n"
     ]
    },
    {
     "name": "stderr",
     "output_type": "stream",
     "text": [
      "\u001b[32m[I 2021-12-27 17:21:13,750]\u001b[0m Trial 26 finished with value: 0.14003393165701522 and parameters: {'num_leaves': 100}. Best is trial 14 with value: 0.13853218890024574.\u001b[0m\n"
     ]
    },
    {
     "name": "stdout",
     "output_type": "stream",
     "text": [
      "Did not meet early stopping. Best iteration is:\n",
      "[100]\tTrain's rmse: 0.143281\tTest's rmse: 0.140034\n",
      "[LightGBM] [Info] Total Bins 2286\n",
      "[LightGBM] [Info] Number of data points in the train set: 10965, number of used features: 22\n",
      "[LightGBM] [Info] Start training from score 0.383112\n",
      "Training until validation scores don't improve for 50 rounds\n"
     ]
    },
    {
     "name": "stderr",
     "output_type": "stream",
     "text": [
      "\u001b[32m[I 2021-12-27 17:21:14,047]\u001b[0m Trial 27 finished with value: 0.14996739895407504 and parameters: {'bagging_fraction': 0.5015001108154533, 'bagging_freq': 7}. Best is trial 27 with value: 0.14996739895407504.\u001b[0m\n"
     ]
    },
    {
     "name": "stdout",
     "output_type": "stream",
     "text": [
      "Did not meet early stopping. Best iteration is:\n",
      "[100]\tTrain's rmse: 0.182712\tTest's rmse: 0.149967\n",
      "[LightGBM] [Info] Total Bins 2286\n",
      "[LightGBM] [Info] Number of data points in the train set: 10965, number of used features: 22\n",
      "[LightGBM] [Info] Start training from score 0.383112\n",
      "Training until validation scores don't improve for 50 rounds\n"
     ]
    },
    {
     "name": "stderr",
     "output_type": "stream",
     "text": [
      "\u001b[32m[I 2021-12-27 17:21:14,296]\u001b[0m Trial 28 finished with value: 0.1619050169436129 and parameters: {'bagging_fraction': 0.49701873754609327, 'bagging_freq': 3}. Best is trial 27 with value: 0.14996739895407504.\u001b[0m\n"
     ]
    },
    {
     "name": "stdout",
     "output_type": "stream",
     "text": [
      "Did not meet early stopping. Best iteration is:\n",
      "[100]\tTrain's rmse: 0.181122\tTest's rmse: 0.161905\n",
      "[LightGBM] [Info] Total Bins 2286\n",
      "[LightGBM] [Info] Number of data points in the train set: 10965, number of used features: 22\n",
      "[LightGBM] [Info] Start training from score 0.383112\n",
      "Training until validation scores don't improve for 50 rounds\n"
     ]
    },
    {
     "name": "stderr",
     "output_type": "stream",
     "text": [
      "\u001b[32m[I 2021-12-27 17:21:14,526]\u001b[0m Trial 29 finished with value: 0.1621995915757472 and parameters: {'bagging_fraction': 0.667336587605025, 'bagging_freq': 4}. Best is trial 27 with value: 0.14996739895407504.\u001b[0m\n"
     ]
    },
    {
     "name": "stdout",
     "output_type": "stream",
     "text": [
      "Did not meet early stopping. Best iteration is:\n",
      "[100]\tTrain's rmse: 0.173388\tTest's rmse: 0.1622\n",
      "[LightGBM] [Info] Total Bins 2286\n",
      "[LightGBM] [Info] Number of data points in the train set: 10965, number of used features: 22\n",
      "[LightGBM] [Info] Start training from score 0.383112\n",
      "Training until validation scores don't improve for 50 rounds\n"
     ]
    },
    {
     "name": "stderr",
     "output_type": "stream",
     "text": [
      "\u001b[32m[I 2021-12-27 17:21:14,762]\u001b[0m Trial 30 finished with value: 0.1581044067145471 and parameters: {'bagging_fraction': 0.4044782520265916, 'bagging_freq': 5}. Best is trial 27 with value: 0.14996739895407504.\u001b[0m\n"
     ]
    },
    {
     "name": "stdout",
     "output_type": "stream",
     "text": [
      "Did not meet early stopping. Best iteration is:\n",
      "[100]\tTrain's rmse: 0.179329\tTest's rmse: 0.158104\n",
      "[LightGBM] [Info] Total Bins 2286\n",
      "[LightGBM] [Info] Number of data points in the train set: 10965, number of used features: 22\n",
      "[LightGBM] [Info] Start training from score 0.383112\n",
      "Training until validation scores don't improve for 50 rounds\n"
     ]
    },
    {
     "name": "stderr",
     "output_type": "stream",
     "text": [
      "\u001b[32m[I 2021-12-27 17:21:15,043]\u001b[0m Trial 31 finished with value: 0.1454874741023422 and parameters: {'bagging_fraction': 0.969571829909681, 'bagging_freq': 5}. Best is trial 31 with value: 0.1454874741023422.\u001b[0m\n"
     ]
    },
    {
     "name": "stdout",
     "output_type": "stream",
     "text": [
      "Did not meet early stopping. Best iteration is:\n",
      "[100]\tTrain's rmse: 0.141852\tTest's rmse: 0.145487\n",
      "[LightGBM] [Info] Total Bins 2286\n",
      "[LightGBM] [Info] Number of data points in the train set: 10965, number of used features: 22\n",
      "[LightGBM] [Info] Start training from score 0.383112\n",
      "Training until validation scores don't improve for 50 rounds\n"
     ]
    },
    {
     "name": "stderr",
     "output_type": "stream",
     "text": [
      "\u001b[32m[I 2021-12-27 17:21:15,260]\u001b[0m Trial 32 finished with value: 0.16096710309112106 and parameters: {'bagging_fraction': 0.49846379457671564, 'bagging_freq': 3}. Best is trial 31 with value: 0.1454874741023422.\u001b[0m\n"
     ]
    },
    {
     "name": "stdout",
     "output_type": "stream",
     "text": [
      "Did not meet early stopping. Best iteration is:\n",
      "[100]\tTrain's rmse: 0.180753\tTest's rmse: 0.160967\n",
      "[LightGBM] [Info] Total Bins 2286\n",
      "[LightGBM] [Info] Number of data points in the train set: 10965, number of used features: 22\n",
      "[LightGBM] [Info] Start training from score 0.383112\n",
      "Training until validation scores don't improve for 50 rounds\n"
     ]
    },
    {
     "name": "stderr",
     "output_type": "stream",
     "text": [
      "\u001b[32m[I 2021-12-27 17:21:15,517]\u001b[0m Trial 33 finished with value: 0.14592961354267028 and parameters: {'bagging_fraction': 0.978425897215141, 'bagging_freq': 5}. Best is trial 31 with value: 0.1454874741023422.\u001b[0m\n"
     ]
    },
    {
     "name": "stdout",
     "output_type": "stream",
     "text": [
      "Did not meet early stopping. Best iteration is:\n",
      "[100]\tTrain's rmse: 0.14316\tTest's rmse: 0.14593\n",
      "[LightGBM] [Info] Total Bins 2286\n",
      "[LightGBM] [Info] Number of data points in the train set: 10965, number of used features: 22\n",
      "[LightGBM] [Info] Start training from score 0.383112\n",
      "Training until validation scores don't improve for 50 rounds\n"
     ]
    },
    {
     "name": "stderr",
     "output_type": "stream",
     "text": [
      "\u001b[32m[I 2021-12-27 17:21:15,751]\u001b[0m Trial 34 finished with value: 0.14757495806137802 and parameters: {'bagging_fraction': 0.8268131054195761, 'bagging_freq': 3}. Best is trial 31 with value: 0.1454874741023422.\u001b[0m\n"
     ]
    },
    {
     "name": "stdout",
     "output_type": "stream",
     "text": [
      "Did not meet early stopping. Best iteration is:\n",
      "[100]\tTrain's rmse: 0.15906\tTest's rmse: 0.147575\n",
      "[LightGBM] [Info] Total Bins 2286\n",
      "[LightGBM] [Info] Number of data points in the train set: 10965, number of used features: 22\n",
      "[LightGBM] [Info] Start training from score 0.383112\n",
      "Training until validation scores don't improve for 50 rounds\n"
     ]
    },
    {
     "name": "stderr",
     "output_type": "stream",
     "text": [
      "\u001b[32m[I 2021-12-27 17:21:15,996]\u001b[0m Trial 35 finished with value: 0.14671947590999906 and parameters: {'bagging_fraction': 0.9047081248108954, 'bagging_freq': 7}. Best is trial 31 with value: 0.1454874741023422.\u001b[0m\n"
     ]
    },
    {
     "name": "stdout",
     "output_type": "stream",
     "text": [
      "Did not meet early stopping. Best iteration is:\n",
      "[100]\tTrain's rmse: 0.146891\tTest's rmse: 0.146719\n",
      "[LightGBM] [Info] Total Bins 2286\n",
      "[LightGBM] [Info] Number of data points in the train set: 10965, number of used features: 22\n",
      "[LightGBM] [Info] Start training from score 0.383112\n",
      "Training until validation scores don't improve for 50 rounds\n"
     ]
    },
    {
     "name": "stderr",
     "output_type": "stream",
     "text": [
      "\u001b[32m[I 2021-12-27 17:21:16,260]\u001b[0m Trial 36 finished with value: 0.14717013998592418 and parameters: {'bagging_fraction': 0.7030786702630316, 'bagging_freq': 2}. Best is trial 31 with value: 0.1454874741023422.\u001b[0m\n"
     ]
    },
    {
     "name": "stdout",
     "output_type": "stream",
     "text": [
      "Did not meet early stopping. Best iteration is:\n",
      "[100]\tTrain's rmse: 0.164917\tTest's rmse: 0.14717\n",
      "[LightGBM] [Info] Total Bins 2286\n",
      "[LightGBM] [Info] Number of data points in the train set: 10965, number of used features: 22\n",
      "[LightGBM] [Info] Start training from score 0.383112\n",
      "Training until validation scores don't improve for 50 rounds\n"
     ]
    },
    {
     "name": "stderr",
     "output_type": "stream",
     "text": [
      "\u001b[32m[I 2021-12-27 17:21:16,463]\u001b[0m Trial 37 finished with value: 0.13853218890024574 and parameters: {'feature_fraction': 0.8160000000000001}. Best is trial 37 with value: 0.13853218890024574.\u001b[0m\n"
     ]
    },
    {
     "name": "stdout",
     "output_type": "stream",
     "text": [
      "Did not meet early stopping. Best iteration is:\n",
      "[100]\tTrain's rmse: 0.14426\tTest's rmse: 0.138532\n",
      "[LightGBM] [Info] Total Bins 2286\n",
      "[LightGBM] [Info] Number of data points in the train set: 10965, number of used features: 22\n",
      "[LightGBM] [Info] Start training from score 0.383112\n",
      "Training until validation scores don't improve for 50 rounds\n"
     ]
    },
    {
     "name": "stderr",
     "output_type": "stream",
     "text": [
      "\u001b[32m[I 2021-12-27 17:21:16,681]\u001b[0m Trial 38 finished with value: 0.1462183960715439 and parameters: {'feature_fraction': 0.7200000000000001}. Best is trial 37 with value: 0.13853218890024574.\u001b[0m\n"
     ]
    },
    {
     "name": "stdout",
     "output_type": "stream",
     "text": [
      "Did not meet early stopping. Best iteration is:\n",
      "[100]\tTrain's rmse: 0.128812\tTest's rmse: 0.146218\n",
      "[LightGBM] [Info] Total Bins 2286\n",
      "[LightGBM] [Info] Number of data points in the train set: 10965, number of used features: 22\n",
      "[LightGBM] [Info] Start training from score 0.383112\n",
      "Training until validation scores don't improve for 50 rounds\n",
      "Did not meet early stopping. Best iteration is:\n",
      "[100]\tTrain's rmse: 0.140806\tTest's rmse: 0.140768\n"
     ]
    },
    {
     "name": "stderr",
     "output_type": "stream",
     "text": [
      "\u001b[32m[I 2021-12-27 17:21:16,874]\u001b[0m Trial 39 finished with value: 0.14076829984559736 and parameters: {'feature_fraction': 0.8480000000000001}. Best is trial 37 with value: 0.13853218890024574.\u001b[0m\n",
      "\u001b[32m[I 2021-12-27 17:21:17,048]\u001b[0m Trial 40 finished with value: 0.14076829984559736 and parameters: {'feature_fraction': 0.88}. Best is trial 37 with value: 0.13853218890024574.\u001b[0m\n"
     ]
    },
    {
     "name": "stdout",
     "output_type": "stream",
     "text": [
      "[LightGBM] [Info] Total Bins 2286\n",
      "[LightGBM] [Info] Number of data points in the train set: 10965, number of used features: 22\n",
      "[LightGBM] [Info] Start training from score 0.383112\n",
      "Training until validation scores don't improve for 50 rounds\n",
      "Did not meet early stopping. Best iteration is:\n",
      "[100]\tTrain's rmse: 0.140806\tTest's rmse: 0.140768\n",
      "[LightGBM] [Info] Total Bins 2286\n"
     ]
    },
    {
     "name": "stderr",
     "output_type": "stream",
     "text": [
      "\u001b[32m[I 2021-12-27 17:21:17,261]\u001b[0m Trial 41 finished with value: 0.13696087913852567 and parameters: {'feature_fraction': 0.784}. Best is trial 41 with value: 0.13696087913852567.\u001b[0m\n"
     ]
    },
    {
     "name": "stdout",
     "output_type": "stream",
     "text": [
      "[LightGBM] [Info] Number of data points in the train set: 10965, number of used features: 22\n",
      "[LightGBM] [Info] Start training from score 0.383112\n",
      "Training until validation scores don't improve for 50 rounds\n",
      "Did not meet early stopping. Best iteration is:\n",
      "[100]\tTrain's rmse: 0.136004\tTest's rmse: 0.136961\n",
      "[LightGBM] [Info] Total Bins 2286\n"
     ]
    },
    {
     "name": "stderr",
     "output_type": "stream",
     "text": [
      "\u001b[32m[I 2021-12-27 17:21:17,460]\u001b[0m Trial 42 finished with value: 0.13696087913852567 and parameters: {'feature_fraction': 0.7520000000000001}. Best is trial 41 with value: 0.13696087913852567.\u001b[0m\n"
     ]
    },
    {
     "name": "stdout",
     "output_type": "stream",
     "text": [
      "[LightGBM] [Info] Number of data points in the train set: 10965, number of used features: 22\n",
      "[LightGBM] [Info] Start training from score 0.383112\n",
      "Training until validation scores don't improve for 50 rounds\n",
      "Did not meet early stopping. Best iteration is:\n",
      "[100]\tTrain's rmse: 0.136004\tTest's rmse: 0.136961\n"
     ]
    },
    {
     "name": "stderr",
     "output_type": "stream",
     "text": [
      "\u001b[32m[I 2021-12-27 17:21:17,665]\u001b[0m Trial 43 finished with value: 0.1459318285115967 and parameters: {'lambda_l1': 1.644946542557523, 'lambda_l2': 0.05718003935065542}. Best is trial 43 with value: 0.1459318285115967.\u001b[0m\n"
     ]
    },
    {
     "name": "stdout",
     "output_type": "stream",
     "text": [
      "[LightGBM] [Info] Total Bins 2286\n",
      "[LightGBM] [Info] Number of data points in the train set: 10965, number of used features: 22\n",
      "[LightGBM] [Info] Start training from score 0.383112\n",
      "Training until validation scores don't improve for 50 rounds\n",
      "Did not meet early stopping. Best iteration is:\n",
      "[100]\tTrain's rmse: 0.131968\tTest's rmse: 0.145932\n",
      "[LightGBM] [Info] Total Bins 2286\n",
      "[LightGBM] [Info] Number of data points in the train set: 10965, number of used features: 22\n",
      "[LightGBM] [Info] Start training from score 0.383112\n",
      "Training until validation scores don't improve for 50 rounds\n"
     ]
    },
    {
     "name": "stderr",
     "output_type": "stream",
     "text": [
      "\u001b[32m[I 2021-12-27 17:21:17,905]\u001b[0m Trial 44 finished with value: 0.13927297436165254 and parameters: {'lambda_l1': 0.0019072086612151697, 'lambda_l2': 1.594952448682783e-05}. Best is trial 44 with value: 0.13927297436165254.\u001b[0m\n"
     ]
    },
    {
     "name": "stdout",
     "output_type": "stream",
     "text": [
      "Did not meet early stopping. Best iteration is:\n",
      "[100]\tTrain's rmse: 0.139127\tTest's rmse: 0.139273\n",
      "[LightGBM] [Info] Total Bins 2286\n",
      "[LightGBM] [Info] Number of data points in the train set: 10965, number of used features: 22\n",
      "[LightGBM] [Info] Start training from score 0.383112\n",
      "Training until validation scores don't improve for 50 rounds\n",
      "[LightGBM] [Warning] No further splits with positive gain, best gain: -inf\n",
      "Did not meet early stopping. Best iteration is:\n",
      "[100]\tTrain's rmse: 0.142057\tTest's rmse: 0.152193\n"
     ]
    },
    {
     "name": "stderr",
     "output_type": "stream",
     "text": [
      "\u001b[32m[I 2021-12-27 17:21:18,114]\u001b[0m Trial 45 finished with value: 0.15219340047120086 and parameters: {'lambda_l1': 4.20110422603108, 'lambda_l2': 0.003156335858814799}. Best is trial 44 with value: 0.13927297436165254.\u001b[0m\n",
      "\u001b[32m[I 2021-12-27 17:21:18,321]\u001b[0m Trial 46 finished with value: 0.15066418512363836 and parameters: {'lambda_l1': 1.408423432230737e-07, 'lambda_l2': 5.2199170475436}. Best is trial 44 with value: 0.13927297436165254.\u001b[0m\n"
     ]
    },
    {
     "name": "stdout",
     "output_type": "stream",
     "text": [
      "[LightGBM] [Info] Total Bins 2286\n",
      "[LightGBM] [Info] Number of data points in the train set: 10965, number of used features: 22\n",
      "[LightGBM] [Info] Start training from score 0.383112\n",
      "Training until validation scores don't improve for 50 rounds\n",
      "Did not meet early stopping. Best iteration is:\n",
      "[100]\tTrain's rmse: 0.144867\tTest's rmse: 0.150664\n"
     ]
    },
    {
     "name": "stderr",
     "output_type": "stream",
     "text": [
      "\u001b[32m[I 2021-12-27 17:21:18,495]\u001b[0m Trial 47 finished with value: 0.13927278226182627 and parameters: {'lambda_l1': 0.0017794292367931165, 'lambda_l2': 1.0146389634017966e-05}. Best is trial 47 with value: 0.13927278226182627.\u001b[0m\n"
     ]
    },
    {
     "name": "stdout",
     "output_type": "stream",
     "text": [
      "[LightGBM] [Info] Total Bins 2286\n",
      "[LightGBM] [Info] Number of data points in the train set: 10965, number of used features: 22\n",
      "[LightGBM] [Info] Start training from score 0.383112\n",
      "Training until validation scores don't improve for 50 rounds\n",
      "Did not meet early stopping. Best iteration is:\n",
      "[100]\tTrain's rmse: 0.139127\tTest's rmse: 0.139273\n",
      "[LightGBM] [Info] Total Bins 2286\n",
      "[LightGBM] [Info] Number of data points in the train set: 10965, number of used features: 22\n",
      "[LightGBM] [Info] Start training from score 0.383112\n"
     ]
    },
    {
     "name": "stderr",
     "output_type": "stream",
     "text": [
      "\u001b[32m[I 2021-12-27 17:21:18,698]\u001b[0m Trial 48 finished with value: 0.13696129737483706 and parameters: {'lambda_l1': 5.964901606050951e-06, 'lambda_l2': 0.0007073570071032332}. Best is trial 48 with value: 0.13696129737483706.\u001b[0m\n"
     ]
    },
    {
     "name": "stdout",
     "output_type": "stream",
     "text": [
      "Training until validation scores don't improve for 50 rounds\n",
      "Did not meet early stopping. Best iteration is:\n",
      "[100]\tTrain's rmse: 0.136005\tTest's rmse: 0.136961\n",
      "[LightGBM] [Info] Total Bins 2286\n"
     ]
    },
    {
     "name": "stderr",
     "output_type": "stream",
     "text": [
      "\u001b[32m[I 2021-12-27 17:21:18,895]\u001b[0m Trial 49 finished with value: 0.14274524831932558 and parameters: {'lambda_l1': 0.02608823946324959, 'lambda_l2': 2.6254232253836574e-06}. Best is trial 48 with value: 0.13696129737483706.\u001b[0m\n"
     ]
    },
    {
     "name": "stdout",
     "output_type": "stream",
     "text": [
      "[LightGBM] [Info] Number of data points in the train set: 10965, number of used features: 22\n",
      "[LightGBM] [Info] Start training from score 0.383112\n",
      "Training until validation scores don't improve for 50 rounds\n",
      "Did not meet early stopping. Best iteration is:\n",
      "[100]\tTrain's rmse: 0.137159\tTest's rmse: 0.142745\n",
      "[LightGBM] [Info] Total Bins 2286\n"
     ]
    },
    {
     "name": "stderr",
     "output_type": "stream",
     "text": [
      "\u001b[32m[I 2021-12-27 17:21:19,084]\u001b[0m Trial 50 finished with value: 0.13696087917647662 and parameters: {'lambda_l1': 1.8509393744485375e-08, 'lambda_l2': 3.7723791997237694e-08}. Best is trial 50 with value: 0.13696087917647662.\u001b[0m\n"
     ]
    },
    {
     "name": "stdout",
     "output_type": "stream",
     "text": [
      "[LightGBM] [Info] Number of data points in the train set: 10965, number of used features: 22\n",
      "[LightGBM] [Info] Start training from score 0.383112\n",
      "Training until validation scores don't improve for 50 rounds\n",
      "Did not meet early stopping. Best iteration is:\n",
      "[100]\tTrain's rmse: 0.136004\tTest's rmse: 0.136961\n",
      "[LightGBM] [Info] Total Bins 2286\n",
      "[LightGBM] [Info] Number of data points in the train set: 10965, number of used features: 22\n",
      "[LightGBM] [Info] Start training from score 0.383112\n",
      "Training until validation scores don't improve for 50 rounds\n",
      "Did not meet early stopping. Best iteration is:\n",
      "[100]\tTrain's rmse: 0.138551\tTest's rmse: 0.138739\n"
     ]
    },
    {
     "name": "stderr",
     "output_type": "stream",
     "text": [
      "\u001b[32m[I 2021-12-27 17:21:19,299]\u001b[0m Trial 51 finished with value: 0.13873914859964892 and parameters: {'lambda_l1': 0.0007084608695115143, 'lambda_l2': 0.0028381438777506595}. Best is trial 50 with value: 0.13696087917647662.\u001b[0m\n",
      "\u001b[32m[I 2021-12-27 17:21:19,523]\u001b[0m Trial 52 finished with value: 0.1466900493255829 and parameters: {'lambda_l1': 0.32922580713245436, 'lambda_l2': 1.5518448462695068e-07}. Best is trial 50 with value: 0.13696087917647662.\u001b[0m\n"
     ]
    },
    {
     "name": "stdout",
     "output_type": "stream",
     "text": [
      "[LightGBM] [Info] Total Bins 2286\n",
      "[LightGBM] [Info] Number of data points in the train set: 10965, number of used features: 22\n",
      "[LightGBM] [Info] Start training from score 0.383112\n",
      "Training until validation scores don't improve for 50 rounds\n",
      "Did not meet early stopping. Best iteration is:\n",
      "[100]\tTrain's rmse: 0.127901\tTest's rmse: 0.14669\n"
     ]
    },
    {
     "name": "stderr",
     "output_type": "stream",
     "text": [
      "\u001b[32m[I 2021-12-27 17:21:19,730]\u001b[0m Trial 53 finished with value: 0.13696087916470917 and parameters: {'lambda_l1': 1.6223844282780904e-08, 'lambda_l2': 1.36225248827959e-08}. Best is trial 53 with value: 0.13696087916470917.\u001b[0m\n"
     ]
    },
    {
     "name": "stdout",
     "output_type": "stream",
     "text": [
      "[LightGBM] [Info] Total Bins 2286\n",
      "[LightGBM] [Info] Number of data points in the train set: 10965, number of used features: 22\n",
      "[LightGBM] [Info] Start training from score 0.383112\n",
      "Training until validation scores don't improve for 50 rounds\n",
      "Did not meet early stopping. Best iteration is:\n",
      "[100]\tTrain's rmse: 0.136004\tTest's rmse: 0.136961\n",
      "[LightGBM] [Info] Total Bins 2286\n",
      "[LightGBM] [Info] Number of data points in the train set: 10965, number of used features: 22\n",
      "[LightGBM] [Info] Start training from score 0.383112\n",
      "Training until validation scores don't improve for 50 rounds\n",
      "Did not meet early stopping. Best iteration is:\n",
      "[100]\tTrain's rmse: 0.136004\tTest's rmse: 0.136961\n"
     ]
    },
    {
     "name": "stderr",
     "output_type": "stream",
     "text": [
      "\u001b[32m[I 2021-12-27 17:21:19,976]\u001b[0m Trial 54 finished with value: 0.1369608791703626 and parameters: {'lambda_l1': 1.8781417070876337e-08, 'lambda_l2': 1.1706589978458358e-08}. Best is trial 53 with value: 0.13696087916470917.\u001b[0m\n"
     ]
    },
    {
     "name": "stdout",
     "output_type": "stream",
     "text": [
      "[LightGBM] [Info] Total Bins 2286\n",
      "[LightGBM] [Info] Number of data points in the train set: 10965, number of used features: 22\n",
      "[LightGBM] [Info] Start training from score 0.383112\n",
      "Training until validation scores don't improve for 50 rounds\n",
      "Did not meet early stopping. Best iteration is:\n",
      "[100]\tTrain's rmse: 0.136004\tTest's rmse: 0.136961\n"
     ]
    },
    {
     "name": "stderr",
     "output_type": "stream",
     "text": [
      "\u001b[32m[I 2021-12-27 17:21:20,214]\u001b[0m Trial 55 finished with value: 0.13696088322079242 and parameters: {'lambda_l1': 2.6941588965305183e-06, 'lambda_l2': 1.1734346885087526e-08}. Best is trial 53 with value: 0.13696087916470917.\u001b[0m\n",
      "\u001b[32m[I 2021-12-27 17:21:20,425]\u001b[0m Trial 56 finished with value: 0.13696087951588434 and parameters: {'lambda_l1': 1.2580481055162252e-08, 'lambda_l2': 5.263793110751769e-07}. Best is trial 53 with value: 0.13696087916470917.\u001b[0m\n"
     ]
    },
    {
     "name": "stdout",
     "output_type": "stream",
     "text": [
      "[LightGBM] [Info] Total Bins 2286\n",
      "[LightGBM] [Info] Number of data points in the train set: 10965, number of used features: 22\n",
      "[LightGBM] [Info] Start training from score 0.383112\n",
      "Training until validation scores don't improve for 50 rounds\n",
      "Did not meet early stopping. Best iteration is:\n",
      "[100]\tTrain's rmse: 0.136004\tTest's rmse: 0.136961\n",
      "[LightGBM] [Info] Total Bins 2286\n",
      "[LightGBM] [Info] Number of data points in the train set: 10965, number of used features: 22\n",
      "[LightGBM] [Info] Start training from score 0.383112\n",
      "Training until validation scores don't improve for 50 rounds\n",
      "Did not meet early stopping. Best iteration is:\n",
      "[100]\tTrain's rmse: 0.136004\tTest's rmse: 0.136961\n"
     ]
    },
    {
     "name": "stderr",
     "output_type": "stream",
     "text": [
      "\u001b[32m[I 2021-12-27 17:21:20,670]\u001b[0m Trial 57 finished with value: 0.13696088367941237 and parameters: {'lambda_l1': 2.984770526719866e-06, 'lambda_l2': 1.7308934276681627e-08}. Best is trial 53 with value: 0.13696087916470917.\u001b[0m\n",
      "\u001b[32m[I 2021-12-27 17:21:20,874]\u001b[0m Trial 58 finished with value: 0.13696092452362993 and parameters: {'lambda_l1': 2.5428875968490865e-07, 'lambda_l2': 7.735122036885752e-05}. Best is trial 53 with value: 0.13696087916470917.\u001b[0m\n"
     ]
    },
    {
     "name": "stdout",
     "output_type": "stream",
     "text": [
      "[LightGBM] [Info] Total Bins 2286\n",
      "[LightGBM] [Info] Number of data points in the train set: 10965, number of used features: 22\n",
      "[LightGBM] [Info] Start training from score 0.383112\n",
      "Training until validation scores don't improve for 50 rounds\n",
      "Did not meet early stopping. Best iteration is:\n",
      "[100]\tTrain's rmse: 0.136004\tTest's rmse: 0.136961\n",
      "[LightGBM] [Info] Total Bins 2286\n",
      "[LightGBM] [Info] Number of data points in the train set: 10965, number of used features: 22\n",
      "[LightGBM] [Info] Start training from score 0.383112\n",
      "Training until validation scores don't improve for 50 rounds\n",
      "Did not meet early stopping. Best iteration is:\n",
      "[100]\tTrain's rmse: 0.136004\tTest's rmse: 0.136955\n"
     ]
    },
    {
     "name": "stderr",
     "output_type": "stream",
     "text": [
      "\u001b[32m[I 2021-12-27 17:21:21,098]\u001b[0m Trial 59 finished with value: 0.13695461707342396 and parameters: {'lambda_l1': 2.799598232803193e-05, 'lambda_l2': 7.23368198413333e-07}. Best is trial 59 with value: 0.13695461707342396.\u001b[0m\n",
      "\u001b[32m[I 2021-12-27 17:21:21,305]\u001b[0m Trial 60 finished with value: 0.13696093137606527 and parameters: {'lambda_l1': 3.560760047368349e-05, 'lambda_l2': 4.3420375355503646e-07}. Best is trial 59 with value: 0.13695461707342396.\u001b[0m\n"
     ]
    },
    {
     "name": "stdout",
     "output_type": "stream",
     "text": [
      "[LightGBM] [Info] Total Bins 2286\n",
      "[LightGBM] [Info] Number of data points in the train set: 10965, number of used features: 22\n",
      "[LightGBM] [Info] Start training from score 0.383112\n",
      "Training until validation scores don't improve for 50 rounds\n",
      "Did not meet early stopping. Best iteration is:\n",
      "[100]\tTrain's rmse: 0.136004\tTest's rmse: 0.136961\n"
     ]
    },
    {
     "name": "stderr",
     "output_type": "stream",
     "text": [
      "\u001b[32m[I 2021-12-27 17:21:21,518]\u001b[0m Trial 61 finished with value: 0.13873665541919 and parameters: {'lambda_l1': 8.018590816077544e-05, 'lambda_l2': 1.9072954239758344e-06}. Best is trial 59 with value: 0.13695461707342396.\u001b[0m\n"
     ]
    },
    {
     "name": "stdout",
     "output_type": "stream",
     "text": [
      "[LightGBM] [Info] Total Bins 2286\n",
      "[LightGBM] [Info] Number of data points in the train set: 10965, number of used features: 22\n",
      "[LightGBM] [Info] Start training from score 0.383112\n",
      "Training until validation scores don't improve for 50 rounds\n",
      "Did not meet early stopping. Best iteration is:\n",
      "[100]\tTrain's rmse: 0.138545\tTest's rmse: 0.138737\n"
     ]
    },
    {
     "name": "stderr",
     "output_type": "stream",
     "text": [
      "\u001b[32m[I 2021-12-27 17:21:21,735]\u001b[0m Trial 62 finished with value: 0.13801275110062114 and parameters: {'lambda_l1': 0.03766572034095887, 'lambda_l2': 1.3823970436849839e-07}. Best is trial 59 with value: 0.13695461707342396.\u001b[0m\n"
     ]
    },
    {
     "name": "stdout",
     "output_type": "stream",
     "text": [
      "[LightGBM] [Info] Total Bins 2286\n",
      "[LightGBM] [Info] Number of data points in the train set: 10965, number of used features: 22\n",
      "[LightGBM] [Info] Start training from score 0.383112\n",
      "Training until validation scores don't improve for 50 rounds\n",
      "Did not meet early stopping. Best iteration is:\n",
      "[100]\tTrain's rmse: 0.127066\tTest's rmse: 0.138013\n"
     ]
    },
    {
     "name": "stderr",
     "output_type": "stream",
     "text": [
      "\u001b[32m[I 2021-12-27 17:21:21,931]\u001b[0m Trial 63 finished with value: 0.1544836347634357 and parameters: {'min_child_samples': 5}. Best is trial 63 with value: 0.1544836347634357.\u001b[0m\n"
     ]
    },
    {
     "name": "stdout",
     "output_type": "stream",
     "text": [
      "[LightGBM] [Info] Total Bins 2286\n",
      "[LightGBM] [Info] Number of data points in the train set: 10965, number of used features: 22\n",
      "[LightGBM] [Info] Start training from score 0.383112\n",
      "Training until validation scores don't improve for 50 rounds\n",
      "Did not meet early stopping. Best iteration is:\n",
      "[100]\tTrain's rmse: 0.0402288\tTest's rmse: 0.154484\n",
      "[LightGBM] [Info] Total Bins 2286\n",
      "[LightGBM] [Info] Number of data points in the train set: 10965, number of used features: 22\n"
     ]
    },
    {
     "name": "stderr",
     "output_type": "stream",
     "text": [
      "\u001b[32m[I 2021-12-27 17:21:22,105]\u001b[0m Trial 64 finished with value: 0.1548240874740587 and parameters: {'min_child_samples': 10}. Best is trial 63 with value: 0.1544836347634357.\u001b[0m\n"
     ]
    },
    {
     "name": "stdout",
     "output_type": "stream",
     "text": [
      "[LightGBM] [Info] Start training from score 0.383112\n",
      "Training until validation scores don't improve for 50 rounds\n",
      "Early stopping, best iteration is:\n",
      "[48]\tTrain's rmse: 0.117658\tTest's rmse: 0.154824\n",
      "[LightGBM] [Info] Total Bins 2286\n",
      "[LightGBM] [Info] Number of data points in the train set: 10965, number of used features: 22\n",
      "[LightGBM] [Info] Start training from score 0.383112\n",
      "Training until validation scores don't improve for 50 rounds\n"
     ]
    },
    {
     "name": "stderr",
     "output_type": "stream",
     "text": [
      "\u001b[32m[I 2021-12-27 17:21:22,328]\u001b[0m Trial 65 finished with value: 0.1950849855466558 and parameters: {'min_child_samples': 100}. Best is trial 63 with value: 0.1544836347634357.\u001b[0m\n"
     ]
    },
    {
     "name": "stdout",
     "output_type": "stream",
     "text": [
      "Did not meet early stopping. Best iteration is:\n",
      "[100]\tTrain's rmse: 0.284769\tTest's rmse: 0.195085\n",
      "[LightGBM] [Info] Total Bins 2286\n",
      "[LightGBM] [Info] Number of data points in the train set: 10965, number of used features: 22\n",
      "[LightGBM] [Info] Start training from score 0.383112\n",
      "Training until validation scores don't improve for 50 rounds\n",
      "Did not meet early stopping. Best iteration is:\n",
      "[100]\tTrain's rmse: 0.147657\tTest's rmse: 0.151099\n"
     ]
    },
    {
     "name": "stderr",
     "output_type": "stream",
     "text": [
      "\u001b[32m[I 2021-12-27 17:21:22,536]\u001b[0m Trial 66 finished with value: 0.15109946516746728 and parameters: {'min_child_samples': 25}. Best is trial 66 with value: 0.15109946516746728.\u001b[0m\n",
      "\u001b[32m[I 2021-12-27 17:21:22,733]\u001b[0m Trial 67 finished with value: 0.17486190574007157 and parameters: {'min_child_samples': 50}. Best is trial 66 with value: 0.15109946516746728.\u001b[0m\n"
     ]
    },
    {
     "name": "stdout",
     "output_type": "stream",
     "text": [
      "[LightGBM] [Info] Total Bins 2286\n",
      "[LightGBM] [Info] Number of data points in the train set: 10965, number of used features: 22\n",
      "[LightGBM] [Info] Start training from score 0.383112\n",
      "Training until validation scores don't improve for 50 rounds\n",
      "Did not meet early stopping. Best iteration is:\n",
      "[100]\tTrain's rmse: 0.224713\tTest's rmse: 0.174862\n"
     ]
    },
    {
     "data": {
      "image/png": "[encoded data removed]",
      "text/plain": [
       "<Figure size 432x288 with 1 Axes>"
      ]
     },
     "metadata": {
      "needs_background": "light"
     },
     "output_type": "display_data"
    },
    {
     "name": "stderr",
     "output_type": "stream",
     "text": [
      "\u001b[32m[I 2021-12-27 17:21:22,929]\u001b[0m A new study created in memory with name: no-name-cf422b36-f66c-46f6-b058-0a4f374fea0f\u001b[0m\n"
     ]
    },
    {
     "name": "stdout",
     "output_type": "stream",
     "text": [
      "[LightGBM] [Info] Total Bins 2297\n",
      "[LightGBM] [Info] Number of data points in the train set: 10733, number of used features: 22\n",
      "[LightGBM] [Info] Start training from score 0.394992\n",
      "Training until validation scores don't improve for 50 rounds\n"
     ]
    },
    {
     "name": "stderr",
     "output_type": "stream",
     "text": [
      "\u001b[32m[I 2021-12-27 17:21:23,198]\u001b[0m Trial 0 finished with value: 0.09305587411644023 and parameters: {'feature_fraction': 0.4}. Best is trial 0 with value: 0.09305587411644023.\u001b[0m\n"
     ]
    },
    {
     "name": "stdout",
     "output_type": "stream",
     "text": [
      "Did not meet early stopping. Best iteration is:\n",
      "[100]\tTrain's rmse: 0.136853\tTest's rmse: 0.0930559\n",
      "[LightGBM] [Info] Total Bins 2297\n",
      "[LightGBM] [Info] Number of data points in the train set: 10733, number of used features: 22\n",
      "[LightGBM] [Info] Start training from score 0.394992\n",
      "Training until validation scores don't improve for 50 rounds\n"
     ]
    },
    {
     "name": "stderr",
     "output_type": "stream",
     "text": [
      "\u001b[32m[I 2021-12-27 17:21:23,488]\u001b[0m Trial 1 finished with value: 0.09014609510889711 and parameters: {'feature_fraction': 0.6}. Best is trial 1 with value: 0.09014609510889711.\u001b[0m\n"
     ]
    },
    {
     "name": "stdout",
     "output_type": "stream",
     "text": [
      "Did not meet early stopping. Best iteration is:\n",
      "[100]\tTrain's rmse: 0.126647\tTest's rmse: 0.0901461\n",
      "[LightGBM] [Info] Total Bins 2297\n",
      "[LightGBM] [Info] Number of data points in the train set: 10733, number of used features: 22\n",
      "[LightGBM] [Info] Start training from score 0.394992\n",
      "Training until validation scores don't improve for 50 rounds\n"
     ]
    },
    {
     "name": "stderr",
     "output_type": "stream",
     "text": [
      "\u001b[32m[I 2021-12-27 17:21:23,792]\u001b[0m Trial 2 finished with value: 0.0830657271294555 and parameters: {'feature_fraction': 0.5}. Best is trial 2 with value: 0.0830657271294555.\u001b[0m\n"
     ]
    },
    {
     "name": "stdout",
     "output_type": "stream",
     "text": [
      "Did not meet early stopping. Best iteration is:\n",
      "[100]\tTrain's rmse: 0.133355\tTest's rmse: 0.0830657\n",
      "[LightGBM] [Info] Total Bins 2297\n",
      "[LightGBM] [Info] Number of data points in the train set: 10733, number of used features: 22\n",
      "[LightGBM] [Info] Start training from score 0.394992\n",
      "Training until validation scores don't improve for 50 rounds\n"
     ]
    },
    {
     "name": "stderr",
     "output_type": "stream",
     "text": [
      "\u001b[32m[I 2021-12-27 17:21:24,062]\u001b[0m Trial 3 finished with value: 0.021772541083253553 and parameters: {'feature_fraction': 1.0}. Best is trial 3 with value: 0.021772541083253553.\u001b[0m\n"
     ]
    },
    {
     "name": "stdout",
     "output_type": "stream",
     "text": [
      "Early stopping, best iteration is:\n",
      "[43]\tTrain's rmse: 0.165773\tTest's rmse: 0.0217725\n",
      "[LightGBM] [Info] Total Bins 2297\n",
      "[LightGBM] [Info] Number of data points in the train set: 10733, number of used features: 22\n",
      "[LightGBM] [Info] Start training from score 0.394992\n",
      "Training until validation scores don't improve for 50 rounds\n"
     ]
    },
    {
     "name": "stderr",
     "output_type": "stream",
     "text": [
      "\u001b[32m[I 2021-12-27 17:21:24,348]\u001b[0m Trial 4 finished with value: 0.05415092072554367 and parameters: {'feature_fraction': 0.8}. Best is trial 3 with value: 0.021772541083253553.\u001b[0m\n"
     ]
    },
    {
     "name": "stdout",
     "output_type": "stream",
     "text": [
      "Did not meet early stopping. Best iteration is:\n",
      "[100]\tTrain's rmse: 0.144156\tTest's rmse: 0.0541509\n",
      "[LightGBM] [Info] Total Bins 2297\n",
      "[LightGBM] [Info] Number of data points in the train set: 10733, number of used features: 22\n",
      "[LightGBM] [Info] Start training from score 0.394992\n",
      "Training until validation scores don't improve for 50 rounds\n"
     ]
    },
    {
     "name": "stderr",
     "output_type": "stream",
     "text": [
      "\u001b[32m[I 2021-12-27 17:21:24,634]\u001b[0m Trial 5 finished with value: 0.04017005974914526 and parameters: {'feature_fraction': 0.8999999999999999}. Best is trial 3 with value: 0.021772541083253553.\u001b[0m\n"
     ]
    },
    {
     "name": "stdout",
     "output_type": "stream",
     "text": [
      "Did not meet early stopping. Best iteration is:\n",
      "[100]\tTrain's rmse: 0.150344\tTest's rmse: 0.0401701\n",
      "[LightGBM] [Info] Total Bins 2297\n",
      "[LightGBM] [Info] Number of data points in the train set: 10733, number of used features: 22\n",
      "[LightGBM] [Info] Start training from score 0.394992\n",
      "Training until validation scores don't improve for 50 rounds\n"
     ]
    },
    {
     "name": "stderr",
     "output_type": "stream",
     "text": [
      "\u001b[32m[I 2021-12-27 17:21:24,962]\u001b[0m Trial 6 finished with value: 0.08032294115549551 and parameters: {'feature_fraction': 0.7}. Best is trial 3 with value: 0.021772541083253553.\u001b[0m\n"
     ]
    },
    {
     "name": "stdout",
     "output_type": "stream",
     "text": [
      "Did not meet early stopping. Best iteration is:\n",
      "[100]\tTrain's rmse: 0.129613\tTest's rmse: 0.0803229\n",
      "[LightGBM] [Info] Total Bins 2297\n",
      "[LightGBM] [Info] Number of data points in the train set: 10733, number of used features: 22\n",
      "[LightGBM] [Info] Start training from score 0.394992\n",
      "Training until validation scores don't improve for 50 rounds\n"
     ]
    },
    {
     "name": "stderr",
     "output_type": "stream",
     "text": [
      "\u001b[32m[I 2021-12-27 17:21:25,742]\u001b[0m Trial 7 finished with value: 0.022024351773006056 and parameters: {'num_leaves': 149}. Best is trial 7 with value: 0.022024351773006056.\u001b[0m\n"
     ]
    },
    {
     "name": "stdout",
     "output_type": "stream",
     "text": [
      "Early stopping, best iteration is:\n",
      "[45]\tTrain's rmse: 0.165361\tTest's rmse: 0.0220244\n",
      "[LightGBM] [Info] Total Bins 2297\n",
      "[LightGBM] [Info] Number of data points in the train set: 10733, number of used features: 22\n",
      "[LightGBM] [Info] Start training from score 0.394992\n",
      "Training until validation scores don't improve for 50 rounds\n"
     ]
    },
    {
     "name": "stderr",
     "output_type": "stream",
     "text": [
      "\u001b[32m[I 2021-12-27 17:21:26,678]\u001b[0m Trial 8 finished with value: 0.02214941504547682 and parameters: {'num_leaves': 197}. Best is trial 7 with value: 0.022024351773006056.\u001b[0m\n"
     ]
    },
    {
     "name": "stdout",
     "output_type": "stream",
     "text": [
      "Early stopping, best iteration is:\n",
      "[45]\tTrain's rmse: 0.165305\tTest's rmse: 0.0221494\n",
      "[LightGBM] [Info] Total Bins 2297\n",
      "[LightGBM] [Info] Number of data points in the train set: 10733, number of used features: 22\n",
      "[LightGBM] [Info] Start training from score 0.394992\n",
      "Training until validation scores don't improve for 50 rounds\n"
     ]
    },
    {
     "name": "stderr",
     "output_type": "stream",
     "text": [
      "\u001b[32m[I 2021-12-27 17:21:27,116]\u001b[0m Trial 9 finished with value: 0.02205851737663938 and parameters: {'num_leaves': 67}. Best is trial 7 with value: 0.022024351773006056.\u001b[0m\n"
     ]
    },
    {
     "name": "stdout",
     "output_type": "stream",
     "text": [
      "Early stopping, best iteration is:\n",
      "[45]\tTrain's rmse: 0.165307\tTest's rmse: 0.0220585\n",
      "[LightGBM] [Info] Total Bins 2297\n",
      "[LightGBM] [Info] Number of data points in the train set: 10733, number of used features: 22\n",
      "[LightGBM] [Info] Start training from score 0.394992\n",
      "Training until validation scores don't improve for 50 rounds\n"
     ]
    },
    {
     "name": "stderr",
     "output_type": "stream",
     "text": [
      "\u001b[32m[I 2021-12-27 17:21:27,993]\u001b[0m Trial 10 finished with value: 0.022193267351301674 and parameters: {'num_leaves': 172}. Best is trial 7 with value: 0.022024351773006056.\u001b[0m\n"
     ]
    },
    {
     "name": "stdout",
     "output_type": "stream",
     "text": [
      "Early stopping, best iteration is:\n",
      "[47]\tTrain's rmse: 0.164184\tTest's rmse: 0.0221933\n",
      "[LightGBM] [Info] Total Bins 2297\n",
      "[LightGBM] [Info] Number of data points in the train set: 10733, number of used features: 22\n",
      "[LightGBM] [Info] Start training from score 0.394992\n",
      "Training until validation scores don't improve for 50 rounds\n"
     ]
    },
    {
     "name": "stderr",
     "output_type": "stream",
     "text": [
      "\u001b[32m[I 2021-12-27 17:21:28,717]\u001b[0m Trial 11 finished with value: 0.022090671873647705 and parameters: {'num_leaves': 127}. Best is trial 7 with value: 0.022024351773006056.\u001b[0m\n"
     ]
    },
    {
     "name": "stdout",
     "output_type": "stream",
     "text": [
      "Early stopping, best iteration is:\n",
      "[45]\tTrain's rmse: 0.1653\tTest's rmse: 0.0220907\n",
      "[LightGBM] [Info] Total Bins 2297\n",
      "[LightGBM] [Info] Number of data points in the train set: 10733, number of used features: 22\n",
      "[LightGBM] [Info] Start training from score 0.394992\n",
      "Training until validation scores don't improve for 50 rounds\n"
     ]
    },
    {
     "name": "stderr",
     "output_type": "stream",
     "text": [
      "\u001b[32m[I 2021-12-27 17:21:29,386]\u001b[0m Trial 12 finished with value: 0.022146945111498367 and parameters: {'num_leaves': 136}. Best is trial 7 with value: 0.022024351773006056.\u001b[0m\n"
     ]
    },
    {
     "name": "stdout",
     "output_type": "stream",
     "text": [
      "Early stopping, best iteration is:\n",
      "[45]\tTrain's rmse: 0.165307\tTest's rmse: 0.0221469\n",
      "[LightGBM] [Info] Total Bins 2297\n",
      "[LightGBM] [Info] Number of data points in the train set: 10733, number of used features: 22\n",
      "[LightGBM] [Info] Start training from score 0.394992\n",
      "Training until validation scores don't improve for 50 rounds\n"
     ]
    },
    {
     "name": "stderr",
     "output_type": "stream",
     "text": [
      "\u001b[32m[I 2021-12-27 17:21:29,683]\u001b[0m Trial 13 finished with value: 0.021355856313116782 and parameters: {'num_leaves': 42}. Best is trial 13 with value: 0.021355856313116782.\u001b[0m\n"
     ]
    },
    {
     "name": "stdout",
     "output_type": "stream",
     "text": [
      "Early stopping, best iteration is:\n",
      "[45]\tTrain's rmse: 0.167426\tTest's rmse: 0.0213559\n",
      "[LightGBM] [Info] Total Bins 2297\n",
      "[LightGBM] [Info] Number of data points in the train set: 10733, number of used features: 22\n",
      "[LightGBM] [Info] Start training from score 0.394992\n",
      "Training until validation scores don't improve for 50 rounds\n"
     ]
    },
    {
     "name": "stderr",
     "output_type": "stream",
     "text": [
      "\u001b[32m[I 2021-12-27 17:21:30,494]\u001b[0m Trial 14 finished with value: 0.022069611691351205 and parameters: {'num_leaves': 141}. Best is trial 13 with value: 0.021355856313116782.\u001b[0m\n"
     ]
    },
    {
     "name": "stdout",
     "output_type": "stream",
     "text": [
      "Early stopping, best iteration is:\n",
      "[45]\tTrain's rmse: 0.165305\tTest's rmse: 0.0220696\n",
      "[LightGBM] [Info] Total Bins 2297\n",
      "[LightGBM] [Info] Number of data points in the train set: 10733, number of used features: 22\n",
      "[LightGBM] [Info] Start training from score 0.394992\n",
      "Training until validation scores don't improve for 50 rounds\n"
     ]
    },
    {
     "name": "stderr",
     "output_type": "stream",
     "text": [
      "\u001b[32m[I 2021-12-27 17:21:31,330]\u001b[0m Trial 15 finished with value: 0.02217938449803327 and parameters: {'num_leaves': 145}. Best is trial 13 with value: 0.021355856313116782.\u001b[0m\n"
     ]
    },
    {
     "name": "stdout",
     "output_type": "stream",
     "text": [
      "Early stopping, best iteration is:\n",
      "[45]\tTrain's rmse: 0.165914\tTest's rmse: 0.0221794\n",
      "[LightGBM] [Info] Total Bins 2297\n",
      "[LightGBM] [Info] Number of data points in the train set: 10733, number of used features: 22\n",
      "[LightGBM] [Info] Start training from score 0.394992\n",
      "Training until validation scores don't improve for 50 rounds\n"
     ]
    },
    {
     "name": "stderr",
     "output_type": "stream",
     "text": [
      "\u001b[32m[I 2021-12-27 17:21:31,726]\u001b[0m Trial 16 finished with value: 0.02166030689730755 and parameters: {'num_leaves': 65}. Best is trial 13 with value: 0.021355856313116782.\u001b[0m\n",
      "\u001b[32m[I 2021-12-27 17:21:31,866]\u001b[0m Trial 17 finished with value: 0.021676607732049248 and parameters: {'num_leaves': 9}. Best is trial 13 with value: 0.021355856313116782.\u001b[0m\n"
     ]
    },
    {
     "name": "stdout",
     "output_type": "stream",
     "text": [
      "Early stopping, best iteration is:\n",
      "[42]\tTrain's rmse: 0.166602\tTest's rmse: 0.0216603\n",
      "[LightGBM] [Info] Total Bins 2297\n",
      "[LightGBM] [Info] Number of data points in the train set: 10733, number of used features: 22\n",
      "[LightGBM] [Info] Start training from score 0.394992\n",
      "Training until validation scores don't improve for 50 rounds\n",
      "Early stopping, best iteration is:\n",
      "[49]\tTrain's rmse: 0.16391\tTest's rmse: 0.0216766\n",
      "[LightGBM] [Info] Total Bins 2297\n",
      "[LightGBM] [Info] Number of data points in the train set: 10733, number of used features: 22\n",
      "[LightGBM] [Info] Start training from score 0.394992\n",
      "Training until validation scores don't improve for 50 rounds\n"
     ]
    },
    {
     "name": "stderr",
     "output_type": "stream",
     "text": [
      "\u001b[32m[I 2021-12-27 17:21:32,210]\u001b[0m Trial 18 finished with value: 0.021332257470692693 and parameters: {'num_leaves': 50}. Best is trial 18 with value: 0.021332257470692693.\u001b[0m\n",
      "\u001b[32m[I 2021-12-27 17:21:32,352]\u001b[0m Trial 19 finished with value: 0.021353008637956285 and parameters: {'num_leaves': 10}. Best is trial 18 with value: 0.021332257470692693.\u001b[0m\n"
     ]
    },
    {
     "name": "stdout",
     "output_type": "stream",
     "text": [
      "Early stopping, best iteration is:\n",
      "[49]\tTrain's rmse: 0.164378\tTest's rmse: 0.0213323\n",
      "[LightGBM] [Info] Total Bins 2297\n",
      "[LightGBM] [Info] Number of data points in the train set: 10733, number of used features: 22\n",
      "[LightGBM] [Info] Start training from score 0.394992\n",
      "Training until validation scores don't improve for 50 rounds\n",
      "Early stopping, best iteration is:\n",
      "[42]\tTrain's rmse: 0.168897\tTest's rmse: 0.021353\n",
      "[LightGBM] [Info] Total Bins 2297\n",
      "[LightGBM] [Info] Number of data points in the train set: 10733, number of used features: 22\n",
      "[LightGBM] [Info] Start training from score 0.394992\n"
     ]
    },
    {
     "name": "stderr",
     "output_type": "stream",
     "text": [
      "\u001b[32m[I 2021-12-27 17:21:32,484]\u001b[0m Trial 20 finished with value: 0.021353008637956285 and parameters: {'num_leaves': 10}. Best is trial 18 with value: 0.021332257470692693.\u001b[0m\n"
     ]
    },
    {
     "name": "stdout",
     "output_type": "stream",
     "text": [
      "Training until validation scores don't improve for 50 rounds\n",
      "Early stopping, best iteration is:\n",
      "[42]\tTrain's rmse: 0.168897\tTest's rmse: 0.021353\n",
      "[LightGBM] [Info] Total Bins 2297\n",
      "[LightGBM] [Info] Number of data points in the train set: 10733, number of used features: 22\n",
      "[LightGBM] [Info] Start training from score 0.394992\n",
      "Training until validation scores don't improve for 50 rounds\n"
     ]
    },
    {
     "name": "stderr",
     "output_type": "stream",
     "text": [
      "\u001b[32m[I 2021-12-27 17:21:33,037]\u001b[0m Trial 21 finished with value: 0.022202098883002296 and parameters: {'num_leaves': 95}. Best is trial 18 with value: 0.021332257470692693.\u001b[0m\n"
     ]
    },
    {
     "name": "stdout",
     "output_type": "stream",
     "text": [
      "Early stopping, best iteration is:\n",
      "[47]\tTrain's rmse: 0.164232\tTest's rmse: 0.0222021\n",
      "[LightGBM] [Info] Total Bins 2297\n",
      "[LightGBM] [Info] Number of data points in the train set: 10733, number of used features: 22\n",
      "[LightGBM] [Info] Start training from score 0.394992\n",
      "[LightGBM] [Warning] No further splits with positive gain, best gain: -inf\n",
      "Training until validation scores don't improve for 50 rounds\n",
      "[LightGBM] [Warning] No further splits with positive gain, best gain: -inf\n"
     ]
    },
    {
     "name": "stderr",
     "output_type": "stream",
     "text": [
      "\u001b[32m[I 2021-12-27 17:21:34,224]\u001b[0m Trial 22 finished with value: 0.02216108742731465 and parameters: {'num_leaves': 247}. Best is trial 18 with value: 0.021332257470692693.\u001b[0m\n"
     ]
    },
    {
     "name": "stdout",
     "output_type": "stream",
     "text": [
      "Early stopping, best iteration is:\n",
      "[45]\tTrain's rmse: 0.165303\tTest's rmse: 0.0221611\n",
      "[LightGBM] [Info] Total Bins 2297\n",
      "[LightGBM] [Info] Number of data points in the train set: 10733, number of used features: 22\n",
      "[LightGBM] [Info] Start training from score 0.394992\n",
      "Training until validation scores don't improve for 50 rounds\n"
     ]
    },
    {
     "name": "stderr",
     "output_type": "stream",
     "text": [
      "\u001b[32m[I 2021-12-27 17:21:34,587]\u001b[0m Trial 23 finished with value: 0.022576213146928235 and parameters: {'num_leaves': 39}. Best is trial 18 with value: 0.021332257470692693.\u001b[0m\n"
     ]
    },
    {
     "name": "stdout",
     "output_type": "stream",
     "text": [
      "Early stopping, best iteration is:\n",
      "[45]\tTrain's rmse: 0.165029\tTest's rmse: 0.0225762\n",
      "[LightGBM] [Info] Total Bins 2297\n",
      "[LightGBM] [Info] Number of data points in the train set: 10733, number of used features: 22\n",
      "[LightGBM] [Info] Start training from score 0.394992\n",
      "Training until validation scores don't improve for 50 rounds\n"
     ]
    },
    {
     "name": "stderr",
     "output_type": "stream",
     "text": [
      "\u001b[32m[I 2021-12-27 17:21:35,190]\u001b[0m Trial 24 finished with value: 0.02217489895672825 and parameters: {'num_leaves': 96}. Best is trial 18 with value: 0.021332257470692693.\u001b[0m\n"
     ]
    },
    {
     "name": "stdout",
     "output_type": "stream",
     "text": [
      "Early stopping, best iteration is:\n",
      "[43]\tTrain's rmse: 0.166228\tTest's rmse: 0.0221749\n",
      "[LightGBM] [Info] Total Bins 2297\n",
      "[LightGBM] [Info] Number of data points in the train set: 10733, number of used features: 22\n",
      "[LightGBM] [Info] Start training from score 0.394992\n",
      "Training until validation scores don't improve for 50 rounds\n"
     ]
    },
    {
     "name": "stderr",
     "output_type": "stream",
     "text": [
      "\u001b[32m[I 2021-12-27 17:21:35,475]\u001b[0m Trial 25 finished with value: 0.02149984367062733 and parameters: {'num_leaves': 36}. Best is trial 18 with value: 0.021332257470692693.\u001b[0m\n"
     ]
    },
    {
     "name": "stdout",
     "output_type": "stream",
     "text": [
      "Early stopping, best iteration is:\n",
      "[45]\tTrain's rmse: 0.165638\tTest's rmse: 0.0214998\n",
      "[LightGBM] [Info] Total Bins 2297\n",
      "[LightGBM] [Info] Number of data points in the train set: 10733, number of used features: 22\n",
      "[LightGBM] [Info] Start training from score 0.394992\n",
      "Training until validation scores don't improve for 50 rounds\n"
     ]
    },
    {
     "name": "stderr",
     "output_type": "stream",
     "text": [
      "\u001b[32m[I 2021-12-27 17:21:35,965]\u001b[0m Trial 26 finished with value: 0.021883500715414308 and parameters: {'num_leaves': 89}. Best is trial 18 with value: 0.021332257470692693.\u001b[0m\n"
     ]
    },
    {
     "name": "stdout",
     "output_type": "stream",
     "text": [
      "Early stopping, best iteration is:\n",
      "[42]\tTrain's rmse: 0.167427\tTest's rmse: 0.0218835\n",
      "[LightGBM] [Info] Total Bins 2297\n",
      "[LightGBM] [Info] Number of data points in the train set: 10733, number of used features: 22\n",
      "[LightGBM] [Info] Start training from score 0.394992\n",
      "Training until validation scores don't improve for 50 rounds\n"
     ]
    },
    {
     "name": "stderr",
     "output_type": "stream",
     "text": [
      "\u001b[32m[I 2021-12-27 17:21:36,315]\u001b[0m Trial 27 finished with value: 0.02988748866004109 and parameters: {'bagging_fraction': 0.5345234043333473, 'bagging_freq': 2}. Best is trial 27 with value: 0.02988748866004109.\u001b[0m\n"
     ]
    },
    {
     "name": "stdout",
     "output_type": "stream",
     "text": [
      "Early stopping, best iteration is:\n",
      "[36]\tTrain's rmse: 0.19766\tTest's rmse: 0.0298875\n",
      "[LightGBM] [Info] Total Bins 2297\n",
      "[LightGBM] [Info] Number of data points in the train set: 10733, number of used features: 22\n",
      "[LightGBM] [Info] Start training from score 0.394992\n",
      "Training until validation scores don't improve for 50 rounds\n"
     ]
    },
    {
     "name": "stderr",
     "output_type": "stream",
     "text": [
      "\u001b[32m[I 2021-12-27 17:21:36,687]\u001b[0m Trial 28 finished with value: 0.03763147055084386 and parameters: {'bagging_fraction': 0.5713780873168011, 'bagging_freq': 7}. Best is trial 27 with value: 0.02988748866004109.\u001b[0m\n"
     ]
    },
    {
     "name": "stdout",
     "output_type": "stream",
     "text": [
      "Did not meet early stopping. Best iteration is:\n",
      "[100]\tTrain's rmse: 0.182622\tTest's rmse: 0.0376315\n",
      "[LightGBM] [Info] Total Bins 2297\n",
      "[LightGBM] [Info] Number of data points in the train set: 10733, number of used features: 22\n",
      "[LightGBM] [Info] Start training from score 0.394992\n",
      "Training until validation scores don't improve for 50 rounds\n"
     ]
    },
    {
     "name": "stderr",
     "output_type": "stream",
     "text": [
      "\u001b[32m[I 2021-12-27 17:21:37,078]\u001b[0m Trial 29 finished with value: 0.029068435866400236 and parameters: {'bagging_fraction': 0.8818101857031229, 'bagging_freq': 3}. Best is trial 29 with value: 0.029068435866400236.\u001b[0m\n"
     ]
    },
    {
     "name": "stdout",
     "output_type": "stream",
     "text": [
      "Did not meet early stopping. Best iteration is:\n",
      "[100]\tTrain's rmse: 0.170906\tTest's rmse: 0.0290684\n",
      "[LightGBM] [Info] Total Bins 2297\n",
      "[LightGBM] [Info] Number of data points in the train set: 10733, number of used features: 22\n",
      "[LightGBM] [Info] Start training from score 0.394992\n",
      "Training until validation scores don't improve for 50 rounds\n"
     ]
    },
    {
     "name": "stderr",
     "output_type": "stream",
     "text": [
      "\u001b[32m[I 2021-12-27 17:21:37,470]\u001b[0m Trial 30 finished with value: 0.024079547210111487 and parameters: {'bagging_fraction': 0.9227086022765377, 'bagging_freq': 3}. Best is trial 30 with value: 0.024079547210111487.\u001b[0m\n"
     ]
    },
    {
     "name": "stdout",
     "output_type": "stream",
     "text": [
      "Did not meet early stopping. Best iteration is:\n",
      "[100]\tTrain's rmse: 0.156661\tTest's rmse: 0.0240795\n",
      "[LightGBM] [Info] Total Bins 2297\n",
      "[LightGBM] [Info] Number of data points in the train set: 10733, number of used features: 22\n",
      "[LightGBM] [Info] Start training from score 0.394992\n",
      "Training until validation scores don't improve for 50 rounds\n"
     ]
    },
    {
     "name": "stderr",
     "output_type": "stream",
     "text": [
      "\u001b[32m[I 2021-12-27 17:21:37,869]\u001b[0m Trial 31 finished with value: 0.028057993828815683 and parameters: {'bagging_fraction': 0.8865937713590524, 'bagging_freq': 6}. Best is trial 30 with value: 0.024079547210111487.\u001b[0m\n"
     ]
    },
    {
     "name": "stdout",
     "output_type": "stream",
     "text": [
      "Early stopping, best iteration is:\n",
      "[48]\tTrain's rmse: 0.183389\tTest's rmse: 0.028058\n",
      "[LightGBM] [Info] Total Bins 2297\n",
      "[LightGBM] [Info] Number of data points in the train set: 10733, number of used features: 22\n",
      "[LightGBM] [Info] Start training from score 0.394992\n",
      "Training until validation scores don't improve for 50 rounds\n"
     ]
    },
    {
     "name": "stderr",
     "output_type": "stream",
     "text": [
      "\u001b[32m[I 2021-12-27 17:21:38,251]\u001b[0m Trial 32 finished with value: 0.024336750425814443 and parameters: {'bagging_fraction': 0.897205034727268, 'bagging_freq': 1}. Best is trial 30 with value: 0.024079547210111487.\u001b[0m\n"
     ]
    },
    {
     "name": "stdout",
     "output_type": "stream",
     "text": [
      "Did not meet early stopping. Best iteration is:\n",
      "[100]\tTrain's rmse: 0.160865\tTest's rmse: 0.0243368\n",
      "[LightGBM] [Info] Total Bins 2297\n",
      "[LightGBM] [Info] Number of data points in the train set: 10733, number of used features: 22\n",
      "[LightGBM] [Info] Start training from score 0.394992\n",
      "Training until validation scores don't improve for 50 rounds\n"
     ]
    },
    {
     "name": "stderr",
     "output_type": "stream",
     "text": [
      "\u001b[32m[I 2021-12-27 17:21:38,648]\u001b[0m Trial 33 finished with value: 0.025183891107170002 and parameters: {'bagging_fraction': 0.8990507185246878, 'bagging_freq': 5}. Best is trial 30 with value: 0.024079547210111487.\u001b[0m\n"
     ]
    },
    {
     "name": "stdout",
     "output_type": "stream",
     "text": [
      "Did not meet early stopping. Best iteration is:\n",
      "[100]\tTrain's rmse: 0.16611\tTest's rmse: 0.0251839\n",
      "[LightGBM] [Info] Total Bins 2297\n",
      "[LightGBM] [Info] Number of data points in the train set: 10733, number of used features: 22\n",
      "[LightGBM] [Info] Start training from score 0.394992\n",
      "Training until validation scores don't improve for 50 rounds\n"
     ]
    },
    {
     "name": "stderr",
     "output_type": "stream",
     "text": [
      "\u001b[32m[I 2021-12-27 17:21:38,990]\u001b[0m Trial 34 finished with value: 0.027661715092649978 and parameters: {'bagging_fraction': 0.828598765182718, 'bagging_freq': 2}. Best is trial 30 with value: 0.024079547210111487.\u001b[0m\n"
     ]
    },
    {
     "name": "stdout",
     "output_type": "stream",
     "text": [
      "Early stopping, best iteration is:\n",
      "[38]\tTrain's rmse: 0.193733\tTest's rmse: 0.0276617\n",
      "[LightGBM] [Info] Total Bins 2297\n",
      "[LightGBM] [Info] Number of data points in the train set: 10733, number of used features: 22\n",
      "[LightGBM] [Info] Start training from score 0.394992\n",
      "Training until validation scores don't improve for 50 rounds\n"
     ]
    },
    {
     "name": "stderr",
     "output_type": "stream",
     "text": [
      "\u001b[32m[I 2021-12-27 17:21:39,402]\u001b[0m Trial 35 finished with value: 0.03454039223877992 and parameters: {'bagging_fraction': 0.8517169180827477, 'bagging_freq': 3}. Best is trial 30 with value: 0.024079547210111487.\u001b[0m\n"
     ]
    },
    {
     "name": "stdout",
     "output_type": "stream",
     "text": [
      "Did not meet early stopping. Best iteration is:\n",
      "[100]\tTrain's rmse: 0.171552\tTest's rmse: 0.0345404\n",
      "[LightGBM] [Info] Total Bins 2297\n",
      "[LightGBM] [Info] Number of data points in the train set: 10733, number of used features: 22\n",
      "[LightGBM] [Info] Start training from score 0.394992\n",
      "Training until validation scores don't improve for 50 rounds\n"
     ]
    },
    {
     "name": "stderr",
     "output_type": "stream",
     "text": [
      "\u001b[32m[I 2021-12-27 17:21:39,802]\u001b[0m Trial 36 finished with value: 0.021111928820782916 and parameters: {'bagging_fraction': 0.9936511110547593, 'bagging_freq': 6}. Best is trial 36 with value: 0.021111928820782916.\u001b[0m\n"
     ]
    },
    {
     "name": "stdout",
     "output_type": "stream",
     "text": [
      "Early stopping, best iteration is:\n",
      "[47]\tTrain's rmse: 0.165836\tTest's rmse: 0.0211119\n",
      "[LightGBM] [Info] Total Bins 2297\n",
      "[LightGBM] [Info] Number of data points in the train set: 10733, number of used features: 22\n",
      "[LightGBM] [Info] Start training from score 0.394992\n",
      "Training until validation scores don't improve for 50 rounds\n"
     ]
    },
    {
     "name": "stderr",
     "output_type": "stream",
     "text": [
      "\u001b[32m[I 2021-12-27 17:21:40,255]\u001b[0m Trial 37 finished with value: 0.04374830741293566 and parameters: {'feature_fraction': 0.92}. Best is trial 37 with value: 0.04374830741293566.\u001b[0m\n"
     ]
    },
    {
     "name": "stdout",
     "output_type": "stream",
     "text": [
      "Did not meet early stopping. Best iteration is:\n",
      "[100]\tTrain's rmse: 0.149282\tTest's rmse: 0.0437483\n",
      "[LightGBM] [Info] Total Bins 2297\n",
      "[LightGBM] [Info] Number of data points in the train set: 10733, number of used features: 22\n",
      "[LightGBM] [Info] Start training from score 0.394992\n",
      "Training until validation scores don't improve for 50 rounds\n"
     ]
    },
    {
     "name": "stderr",
     "output_type": "stream",
     "text": [
      "\u001b[32m[I 2021-12-27 17:21:40,669]\u001b[0m Trial 38 finished with value: 0.021111928820782916 and parameters: {'feature_fraction': 0.9840000000000001}. Best is trial 38 with value: 0.021111928820782916.\u001b[0m\n"
     ]
    },
    {
     "name": "stdout",
     "output_type": "stream",
     "text": [
      "Early stopping, best iteration is:\n",
      "[47]\tTrain's rmse: 0.165836\tTest's rmse: 0.0211119\n",
      "[LightGBM] [Info] Total Bins 2297\n",
      "[LightGBM] [Info] Number of data points in the train set: 10733, number of used features: 22\n",
      "[LightGBM] [Info] Start training from score 0.394992\n",
      "Training until validation scores don't improve for 50 rounds\n"
     ]
    },
    {
     "name": "stderr",
     "output_type": "stream",
     "text": [
      "\u001b[32m[I 2021-12-27 17:21:41,185]\u001b[0m Trial 39 finished with value: 0.0442757279305027 and parameters: {'feature_fraction': 0.9520000000000001}. Best is trial 38 with value: 0.021111928820782916.\u001b[0m\n"
     ]
    },
    {
     "name": "stdout",
     "output_type": "stream",
     "text": [
      "Did not meet early stopping. Best iteration is:\n",
      "[100]\tTrain's rmse: 0.154044\tTest's rmse: 0.0442757\n",
      "[LightGBM] [Info] Total Bins 2297\n",
      "[LightGBM] [Info] Number of data points in the train set: 10733, number of used features: 22\n",
      "[LightGBM] [Info] Start training from score 0.394992\n",
      "Training until validation scores don't improve for 50 rounds\n"
     ]
    },
    {
     "name": "stderr",
     "output_type": "stream",
     "text": [
      "\u001b[32m[I 2021-12-27 17:21:41,614]\u001b[0m Trial 40 finished with value: 0.020511688106954223 and parameters: {'lambda_l1': 0.00035342865084561924, 'lambda_l2': 2.420691275610259e-07}. Best is trial 40 with value: 0.020511688106954223.\u001b[0m\n"
     ]
    },
    {
     "name": "stdout",
     "output_type": "stream",
     "text": [
      "Early stopping, best iteration is:\n",
      "[44]\tTrain's rmse: 0.167486\tTest's rmse: 0.0205117\n",
      "[LightGBM] [Info] Total Bins 2297\n",
      "[LightGBM] [Info] Number of data points in the train set: 10733, number of used features: 22\n",
      "[LightGBM] [Info] Start training from score 0.394992\n",
      "[LightGBM] [Warning] No further splits with positive gain, best gain: -inf\n",
      "Training until validation scores don't improve for 50 rounds\n",
      "[LightGBM] [Warning] No further splits with positive gain, best gain: -inf\n",
      "[LightGBM] [Warning] No further splits with positive gain, best gain: -inf\n",
      "[LightGBM] [Warning] No further splits with positive gain, best gain: -inf\n",
      "[LightGBM] [Warning] No further splits with positive gain, best gain: -inf\n",
      "[LightGBM] [Warning] No further splits with positive gain, best gain: -inf\n",
      "[LightGBM] [Warning] No further splits with positive gain, best gain: -inf\n",
      "[LightGBM] [Warning] No further splits with positive gain, best gain: -inf\n",
      "[LightGBM] [Warning] No further splits with positive gain, best gain: -inf\n",
      "[LightGBM] [Warning] No further splits with positive gain, best gain: -inf\n",
      "[LightGBM] [Warning] No further splits with positive gain, best gain: -inf\n",
      "[LightGBM] [Warning] No further splits with positive gain, best gain: -inf\n",
      "[LightGBM] [Warning] No further splits with positive gain, best gain: -inf\n",
      "[LightGBM] [Warning] No further splits with positive gain, best gain: -inf\n",
      "[LightGBM] [Warning] No further splits with positive gain, best gain: -inf\n",
      "[LightGBM] [Warning] No further splits with positive gain, best gain: -inf\n",
      "[LightGBM] [Warning] No further splits with positive gain, best gain: -inf\n",
      "[LightGBM] [Warning] No further splits with positive gain, best gain: -inf\n",
      "[LightGBM] [Warning] No further splits with positive gain, best gain: -inf\n",
      "[LightGBM] [Warning] No further splits with positive gain, best gain: -inf\n",
      "[LightGBM] [Warning] No further splits with positive gain, best gain: -inf\n",
      "[LightGBM] [Warning] No further splits with positive gain, best gain: -inf\n",
      "[LightGBM] [Warning] No further splits with positive gain, best gain: -inf\n",
      "[LightGBM] [Warning] No further splits with positive gain, best gain: -inf\n",
      "[LightGBM] [Warning] No further splits with positive gain, best gain: -inf\n",
      "[LightGBM] [Warning] No further splits with positive gain, best gain: -inf\n",
      "[LightGBM] [Warning] No further splits with positive gain, best gain: -inf\n",
      "[LightGBM] [Warning] No further splits with positive gain, best gain: -inf\n",
      "[LightGBM] [Warning] No further splits with positive gain, best gain: -inf\n",
      "[LightGBM] [Warning] No further splits with positive gain, best gain: -inf\n",
      "[LightGBM] [Warning] No further splits with positive gain, best gain: -inf\n",
      "[LightGBM] [Warning] No further splits with positive gain, best gain: -inf\n",
      "[LightGBM] [Warning] No further splits with positive gain, best gain: -inf\n",
      "[LightGBM] [Warning] No further splits with positive gain, best gain: -inf\n",
      "[LightGBM] [Warning] No further splits with positive gain, best gain: -inf\n",
      "[LightGBM] [Warning] No further splits with positive gain, best gain: -inf\n",
      "[LightGBM] [Warning] No further splits with positive gain, best gain: -inf\n",
      "[LightGBM] [Warning] No further splits with positive gain, best gain: -inf\n",
      "[LightGBM] [Warning] No further splits with positive gain, best gain: -inf\n",
      "[LightGBM] [Warning] No further splits with positive gain, best gain: -inf\n",
      "[LightGBM] [Warning] No further splits with positive gain, best gain: -inf\n",
      "[LightGBM] [Warning] No further splits with positive gain, best gain: -inf\n",
      "[LightGBM] [Warning] No further splits with positive gain, best gain: -inf\n",
      "[LightGBM] [Warning] No further splits with positive gain, best gain: -inf\n",
      "[LightGBM] [Warning] No further splits with positive gain, best gain: -inf\n",
      "[LightGBM] [Warning] No further splits with positive gain, best gain: -inf\n",
      "[LightGBM] [Warning] No further splits with positive gain, best gain: -inf\n",
      "[LightGBM] [Warning] No further splits with positive gain, best gain: -inf\n",
      "[LightGBM] [Warning] No further splits with positive gain, best gain: -inf\n",
      "[LightGBM] [Warning] No further splits with positive gain, best gain: -inf\n",
      "[LightGBM] [Warning] No further splits with positive gain, best gain: -inf\n"
     ]
    },
    {
     "name": "stderr",
     "output_type": "stream",
     "text": [
      "\u001b[32m[I 2021-12-27 17:21:41,971]\u001b[0m Trial 41 finished with value: 0.01980554708817279 and parameters: {'lambda_l1': 0.587143487678606, 'lambda_l2': 0.0003298994977009292}. Best is trial 41 with value: 0.01980554708817279.\u001b[0m\n"
     ]
    },
    {
     "name": "stdout",
     "output_type": "stream",
     "text": [
      "[LightGBM] [Warning] No further splits with positive gain, best gain: -inf\n",
      "[LightGBM] [Warning] No further splits with positive gain, best gain: -inf\n",
      "[LightGBM] [Warning] No further splits with positive gain, best gain: -inf\n",
      "[LightGBM] [Warning] No further splits with positive gain, best gain: -inf\n",
      "[LightGBM] [Warning] No further splits with positive gain, best gain: -inf\n",
      "[LightGBM] [Warning] No further splits with positive gain, best gain: -inf\n",
      "[LightGBM] [Warning] No further splits with positive gain, best gain: -inf\n",
      "[LightGBM] [Warning] No further splits with positive gain, best gain: -inf\n",
      "[LightGBM] [Warning] No further splits with positive gain, best gain: -inf\n",
      "[LightGBM] [Warning] No further splits with positive gain, best gain: -inf\n",
      "[LightGBM] [Warning] No further splits with positive gain, best gain: -inf\n",
      "[LightGBM] [Warning] No further splits with positive gain, best gain: -inf\n",
      "[LightGBM] [Warning] No further splits with positive gain, best gain: -inf\n",
      "[LightGBM] [Warning] No further splits with positive gain, best gain: -inf\n",
      "[LightGBM] [Warning] No further splits with positive gain, best gain: -inf\n",
      "[LightGBM] [Warning] No further splits with positive gain, best gain: -inf\n",
      "[LightGBM] [Warning] No further splits with positive gain, best gain: -inf\n",
      "[LightGBM] [Warning] No further splits with positive gain, best gain: -inf\n",
      "[LightGBM] [Warning] No further splits with positive gain, best gain: -inf\n",
      "[LightGBM] [Warning] No further splits with positive gain, best gain: -inf\n",
      "[LightGBM] [Warning] No further splits with positive gain, best gain: -inf\n",
      "[LightGBM] [Warning] No further splits with positive gain, best gain: -inf\n",
      "[LightGBM] [Warning] No further splits with positive gain, best gain: -inf\n",
      "[LightGBM] [Warning] No further splits with positive gain, best gain: -inf\n",
      "[LightGBM] [Warning] No further splits with positive gain, best gain: -inf\n",
      "[LightGBM] [Warning] No further splits with positive gain, best gain: -inf\n",
      "[LightGBM] [Warning] No further splits with positive gain, best gain: -inf\n",
      "[LightGBM] [Warning] No further splits with positive gain, best gain: -inf\n",
      "[LightGBM] [Warning] No further splits with positive gain, best gain: -inf\n",
      "[LightGBM] [Warning] No further splits with positive gain, best gain: -inf\n",
      "[LightGBM] [Warning] No further splits with positive gain, best gain: -inf\n",
      "[LightGBM] [Warning] No further splits with positive gain, best gain: -inf\n",
      "[LightGBM] [Warning] No further splits with positive gain, best gain: -inf\n",
      "[LightGBM] [Warning] No further splits with positive gain, best gain: -inf\n",
      "[LightGBM] [Warning] No further splits with positive gain, best gain: -inf\n",
      "[LightGBM] [Warning] No further splits with positive gain, best gain: -inf\n",
      "[LightGBM] [Warning] No further splits with positive gain, best gain: -inf\n",
      "[LightGBM] [Warning] No further splits with positive gain, best gain: -inf\n",
      "[LightGBM] [Warning] No further splits with positive gain, best gain: -inf\n",
      "[LightGBM] [Warning] No further splits with positive gain, best gain: -inf\n",
      "[LightGBM] [Warning] No further splits with positive gain, best gain: -inf\n",
      "[LightGBM] [Warning] No further splits with positive gain, best gain: -inf\n",
      "[LightGBM] [Warning] No further splits with positive gain, best gain: -inf\n",
      "[LightGBM] [Warning] No further splits with positive gain, best gain: -inf\n",
      "[LightGBM] [Warning] No further splits with positive gain, best gain: -inf\n",
      "Early stopping, best iteration is:\n",
      "[46]\tTrain's rmse: 0.16457\tTest's rmse: 0.0198055\n",
      "[LightGBM] [Info] Total Bins 2297\n",
      "[LightGBM] [Info] Number of data points in the train set: 10733, number of used features: 22\n",
      "[LightGBM] [Info] Start training from score 0.394992\n",
      "[LightGBM] [Warning] No further splits with positive gain, best gain: -inf\n",
      "Training until validation scores don't improve for 50 rounds\n",
      "[LightGBM] [Warning] No further splits with positive gain, best gain: -inf\n",
      "[LightGBM] [Warning] No further splits with positive gain, best gain: -inf\n",
      "[LightGBM] [Warning] No further splits with positive gain, best gain: -inf\n",
      "[LightGBM] [Warning] No further splits with positive gain, best gain: -inf\n",
      "[LightGBM] [Warning] No further splits with positive gain, best gain: -inf\n",
      "[LightGBM] [Warning] No further splits with positive gain, best gain: -inf\n",
      "[LightGBM] [Warning] No further splits with positive gain, best gain: -inf\n",
      "[LightGBM] [Warning] No further splits with positive gain, best gain: -inf\n",
      "[LightGBM] [Warning] No further splits with positive gain, best gain: -inf\n",
      "[LightGBM] [Warning] No further splits with positive gain, best gain: -inf\n",
      "[LightGBM] [Warning] No further splits with positive gain, best gain: -inf\n",
      "[LightGBM] [Warning] No further splits with positive gain, best gain: -inf\n",
      "[LightGBM] [Warning] No further splits with positive gain, best gain: -inf\n",
      "[LightGBM] [Warning] No further splits with positive gain, best gain: -inf\n",
      "[LightGBM] [Warning] No further splits with positive gain, best gain: -inf\n",
      "[LightGBM] [Warning] No further splits with positive gain, best gain: -inf\n",
      "[LightGBM] [Warning] No further splits with positive gain, best gain: -inf\n",
      "[LightGBM] [Warning] No further splits with positive gain, best gain: -inf\n",
      "[LightGBM] [Warning] No further splits with positive gain, best gain: -inf\n",
      "[LightGBM] [Warning] No further splits with positive gain, best gain: -inf\n",
      "[LightGBM] [Warning] No further splits with positive gain, best gain: -inf\n",
      "[LightGBM] [Warning] No further splits with positive gain, best gain: -inf\n",
      "[LightGBM] [Warning] No further splits with positive gain, best gain: -inf\n",
      "[LightGBM] [Warning] No further splits with positive gain, best gain: -inf\n",
      "[LightGBM] [Warning] No further splits with positive gain, best gain: -inf\n",
      "[LightGBM] [Warning] No further splits with positive gain, best gain: -inf\n",
      "[LightGBM] [Warning] No further splits with positive gain, best gain: -inf\n",
      "[LightGBM] [Warning] No further splits with positive gain, best gain: -inf\n",
      "[LightGBM] [Warning] No further splits with positive gain, best gain: -inf\n",
      "[LightGBM] [Warning] No further splits with positive gain, best gain: -inf\n",
      "[LightGBM] [Warning] No further splits with positive gain, best gain: -inf\n",
      "[LightGBM] [Warning] No further splits with positive gain, best gain: -inf\n",
      "[LightGBM] [Warning] No further splits with positive gain, best gain: -inf\n",
      "[LightGBM] [Warning] No further splits with positive gain, best gain: -inf\n",
      "[LightGBM] [Warning] No further splits with positive gain, best gain: -inf\n",
      "[LightGBM] [Warning] No further splits with positive gain, best gain: -inf\n",
      "[LightGBM] [Warning] No further splits with positive gain, best gain: -inf\n",
      "[LightGBM] [Warning] No further splits with positive gain, best gain: -inf\n",
      "[LightGBM] [Warning] No further splits with positive gain, best gain: -inf\n"
     ]
    },
    {
     "name": "stderr",
     "output_type": "stream",
     "text": [
      "\u001b[32m[I 2021-12-27 17:21:42,419]\u001b[0m Trial 42 finished with value: 0.023068282968495786 and parameters: {'lambda_l1': 0.015434860929825355, 'lambda_l2': 5.258497834707134}. Best is trial 41 with value: 0.01980554708817279.\u001b[0m\n"
     ]
    },
    {
     "name": "stdout",
     "output_type": "stream",
     "text": [
      "Did not meet early stopping. Best iteration is:\n",
      "[100]\tTrain's rmse: 0.151971\tTest's rmse: 0.0230683\n",
      "[LightGBM] [Info] Total Bins 2297\n",
      "[LightGBM] [Info] Number of data points in the train set: 10733, number of used features: 22\n",
      "[LightGBM] [Info] Start training from score 0.394992\n",
      "Training until validation scores don't improve for 50 rounds\n"
     ]
    },
    {
     "name": "stderr",
     "output_type": "stream",
     "text": [
      "\u001b[32m[I 2021-12-27 17:21:42,854]\u001b[0m Trial 43 finished with value: 0.021193761818063244 and parameters: {'lambda_l1': 4.373534750344321e-05, 'lambda_l2': 1.7245701215272796e-05}. Best is trial 41 with value: 0.01980554708817279.\u001b[0m\n"
     ]
    },
    {
     "name": "stdout",
     "output_type": "stream",
     "text": [
      "Early stopping, best iteration is:\n",
      "[43]\tTrain's rmse: 0.167511\tTest's rmse: 0.0211938\n",
      "[LightGBM] [Info] Total Bins 2297\n",
      "[LightGBM] [Info] Number of data points in the train set: 10733, number of used features: 22\n",
      "[LightGBM] [Info] Start training from score 0.394992\n",
      "[LightGBM] [Warning] No further splits with positive gain, best gain: -inf\n",
      "Training until validation scores don't improve for 50 rounds\n",
      "[LightGBM] [Warning] No further splits with positive gain, best gain: -inf\n",
      "[LightGBM] [Warning] No further splits with positive gain, best gain: -inf\n",
      "[LightGBM] [Warning] No further splits with positive gain, best gain: -inf\n",
      "[LightGBM] [Warning] No further splits with positive gain, best gain: -inf\n",
      "[LightGBM] [Warning] No further splits with positive gain, best gain: -inf\n",
      "[LightGBM] [Warning] No further splits with positive gain, best gain: -inf\n",
      "[LightGBM] [Warning] No further splits with positive gain, best gain: -inf\n",
      "[LightGBM] [Warning] No further splits with positive gain, best gain: -inf\n",
      "[LightGBM] [Warning] No further splits with positive gain, best gain: -inf\n",
      "[LightGBM] [Warning] No further splits with positive gain, best gain: -inf\n",
      "[LightGBM] [Warning] No further splits with positive gain, best gain: -inf\n",
      "[LightGBM] [Warning] No further splits with positive gain, best gain: -inf\n",
      "[LightGBM] [Warning] No further splits with positive gain, best gain: -inf\n",
      "[LightGBM] [Warning] No further splits with positive gain, best gain: -inf\n",
      "[LightGBM] [Warning] No further splits with positive gain, best gain: -inf\n",
      "[LightGBM] [Warning] No further splits with positive gain, best gain: -inf\n",
      "[LightGBM] [Warning] No further splits with positive gain, best gain: -inf\n",
      "[LightGBM] [Warning] No further splits with positive gain, best gain: -inf\n",
      "[LightGBM] [Warning] No further splits with positive gain, best gain: -inf\n",
      "[LightGBM] [Warning] No further splits with positive gain, best gain: -inf\n",
      "[LightGBM] [Warning] No further splits with positive gain, best gain: -inf\n",
      "[LightGBM] [Warning] No further splits with positive gain, best gain: -inf\n",
      "[LightGBM] [Warning] No further splits with positive gain, best gain: -inf\n",
      "[LightGBM] [Warning] No further splits with positive gain, best gain: -inf\n",
      "[LightGBM] [Warning] No further splits with positive gain, best gain: -inf\n",
      "[LightGBM] [Warning] No further splits with positive gain, best gain: -inf\n",
      "[LightGBM] [Warning] No further splits with positive gain, best gain: -inf\n",
      "[LightGBM] [Warning] No further splits with positive gain, best gain: -inf\n",
      "[LightGBM] [Warning] No further splits with positive gain, best gain: -inf\n",
      "[LightGBM] [Warning] No further splits with positive gain, best gain: -inf\n",
      "[LightGBM] [Warning] No further splits with positive gain, best gain: -inf\n",
      "[LightGBM] [Warning] No further splits with positive gain, best gain: -inf\n",
      "[LightGBM] [Warning] No further splits with positive gain, best gain: -inf\n",
      "[LightGBM] [Warning] No further splits with positive gain, best gain: -inf\n",
      "[LightGBM] [Warning] No further splits with positive gain, best gain: -inf\n",
      "[LightGBM] [Warning] No further splits with positive gain, best gain: -inf\n",
      "[LightGBM] [Warning] No further splits with positive gain, best gain: -inf\n",
      "[LightGBM] [Warning] No further splits with positive gain, best gain: -inf\n",
      "[LightGBM] [Warning] No further splits with positive gain, best gain: -inf\n",
      "[LightGBM] [Warning] No further splits with positive gain, best gain: -inf\n",
      "[LightGBM] [Warning] No further splits with positive gain, best gain: -inf\n",
      "[LightGBM] [Warning] No further splits with positive gain, best gain: -inf\n",
      "[LightGBM] [Warning] No further splits with positive gain, best gain: -inf\n",
      "[LightGBM] [Warning] No further splits with positive gain, best gain: -inf\n",
      "[LightGBM] [Warning] No further splits with positive gain, best gain: -inf\n",
      "[LightGBM] [Warning] No further splits with positive gain, best gain: -inf\n",
      "[LightGBM] [Warning] No further splits with positive gain, best gain: -inf\n",
      "[LightGBM] [Warning] No further splits with positive gain, best gain: -inf\n",
      "[LightGBM] [Warning] No further splits with positive gain, best gain: -inf\n"
     ]
    },
    {
     "name": "stderr",
     "output_type": "stream",
     "text": [
      "\u001b[32m[I 2021-12-27 17:21:43,146]\u001b[0m Trial 44 finished with value: 0.019806404887838254 and parameters: {'lambda_l1': 2.381238344886096, 'lambda_l2': 3.3711051414266215e-08}. Best is trial 41 with value: 0.01980554708817279.\u001b[0m\n"
     ]
    },
    {
     "name": "stdout",
     "output_type": "stream",
     "text": [
      "[LightGBM] [Warning] No further splits with positive gain, best gain: -inf\n",
      "[LightGBM] [Warning] No further splits with positive gain, best gain: -inf\n",
      "[LightGBM] [Warning] No further splits with positive gain, best gain: -inf\n",
      "[LightGBM] [Warning] No further splits with positive gain, best gain: -inf\n",
      "[LightGBM] [Warning] No further splits with positive gain, best gain: -inf\n",
      "[LightGBM] [Warning] No further splits with positive gain, best gain: -inf\n",
      "[LightGBM] [Warning] No further splits with positive gain, best gain: -inf\n",
      "[LightGBM] [Warning] No further splits with positive gain, best gain: -inf\n",
      "[LightGBM] [Warning] No further splits with positive gain, best gain: -inf\n",
      "[LightGBM] [Warning] No further splits with positive gain, best gain: -inf\n",
      "[LightGBM] [Warning] No further splits with positive gain, best gain: -inf\n",
      "[LightGBM] [Warning] No further splits with positive gain, best gain: -inf\n",
      "[LightGBM] [Warning] No further splits with positive gain, best gain: -inf\n",
      "[LightGBM] [Warning] No further splits with positive gain, best gain: -inf\n",
      "[LightGBM] [Warning] No further splits with positive gain, best gain: -inf\n",
      "[LightGBM] [Warning] No further splits with positive gain, best gain: -inf\n",
      "[LightGBM] [Warning] No further splits with positive gain, best gain: -inf\n",
      "[LightGBM] [Warning] No further splits with positive gain, best gain: -inf\n",
      "[LightGBM] [Warning] No further splits with positive gain, best gain: -inf\n",
      "[LightGBM] [Warning] No further splits with positive gain, best gain: -inf\n",
      "[LightGBM] [Warning] No further splits with positive gain, best gain: -inf\n",
      "[LightGBM] [Warning] No further splits with positive gain, best gain: -inf\n",
      "[LightGBM] [Warning] No further splits with positive gain, best gain: -inf\n",
      "[LightGBM] [Warning] No further splits with positive gain, best gain: -inf\n",
      "[LightGBM] [Warning] No further splits with positive gain, best gain: -inf\n",
      "[LightGBM] [Warning] No further splits with positive gain, best gain: -inf\n",
      "[LightGBM] [Warning] No further splits with positive gain, best gain: -inf\n",
      "[LightGBM] [Warning] No further splits with positive gain, best gain: -inf\n",
      "[LightGBM] [Warning] No further splits with positive gain, best gain: -inf\n",
      "[LightGBM] [Warning] No further splits with positive gain, best gain: -inf\n",
      "[LightGBM] [Warning] No further splits with positive gain, best gain: -inf\n",
      "[LightGBM] [Warning] No further splits with positive gain, best gain: -inf\n",
      "[LightGBM] [Warning] No further splits with positive gain, best gain: -inf\n",
      "[LightGBM] [Warning] No further splits with positive gain, best gain: -inf\n",
      "[LightGBM] [Warning] No further splits with positive gain, best gain: -inf\n",
      "[LightGBM] [Warning] No further splits with positive gain, best gain: -inf\n",
      "[LightGBM] [Warning] No further splits with positive gain, best gain: -inf\n",
      "[LightGBM] [Warning] No further splits with positive gain, best gain: -inf\n",
      "[LightGBM] [Warning] No further splits with positive gain, best gain: -inf\n",
      "[LightGBM] [Warning] No further splits with positive gain, best gain: -inf\n",
      "[LightGBM] [Warning] No further splits with positive gain, best gain: -inf\n",
      "[LightGBM] [Warning] No further splits with positive gain, best gain: -inf\n",
      "[LightGBM] [Warning] No further splits with positive gain, best gain: -inf\n",
      "[LightGBM] [Warning] No further splits with positive gain, best gain: -inf\n",
      "[LightGBM] [Warning] No further splits with positive gain, best gain: -inf\n",
      "[LightGBM] [Warning] No further splits with positive gain, best gain: -inf\n",
      "[LightGBM] [Warning] No further splits with positive gain, best gain: -inf\n",
      "Early stopping, best iteration is:\n",
      "[47]\tTrain's rmse: 0.163592\tTest's rmse: 0.0198064\n",
      "[LightGBM] [Info] Total Bins 2297\n",
      "[LightGBM] [Info] Number of data points in the train set: 10733, number of used features: 22\n",
      "[LightGBM] [Info] Start training from score 0.394992\n",
      "Training until validation scores don't improve for 50 rounds\n"
     ]
    },
    {
     "name": "stderr",
     "output_type": "stream",
     "text": [
      "\u001b[32m[I 2021-12-27 17:21:43,661]\u001b[0m Trial 45 finished with value: 0.02129263789463681 and parameters: {'lambda_l1': 7.874258648340081e-07, 'lambda_l2': 0.0023119364442807594}. Best is trial 41 with value: 0.01980554708817279.\u001b[0m\n"
     ]
    },
    {
     "name": "stdout",
     "output_type": "stream",
     "text": [
      "Early stopping, best iteration is:\n",
      "[47]\tTrain's rmse: 0.167301\tTest's rmse: 0.0212926\n",
      "[LightGBM] [Info] Total Bins 2297\n",
      "[LightGBM] [Info] Number of data points in the train set: 10733, number of used features: 22\n",
      "[LightGBM] [Info] Start training from score 0.394992\n",
      "Training until validation scores don't improve for 50 rounds\n"
     ]
    },
    {
     "name": "stderr",
     "output_type": "stream",
     "text": [
      "\u001b[32m[I 2021-12-27 17:21:44,142]\u001b[0m Trial 46 finished with value: 0.022070002292246305 and parameters: {'lambda_l1': 0.0009898547925470606, 'lambda_l2': 0.019505733300550308}. Best is trial 41 with value: 0.01980554708817279.\u001b[0m\n"
     ]
    },
    {
     "name": "stdout",
     "output_type": "stream",
     "text": [
      "Early stopping, best iteration is:\n",
      "[43]\tTrain's rmse: 0.165938\tTest's rmse: 0.02207\n",
      "[LightGBM] [Info] Total Bins 2297\n",
      "[LightGBM] [Info] Number of data points in the train set: 10733, number of used features: 22\n",
      "[LightGBM] [Info] Start training from score 0.394992\n",
      "Training until validation scores don't improve for 50 rounds\n"
     ]
    },
    {
     "name": "stderr",
     "output_type": "stream",
     "text": [
      "\u001b[32m[I 2021-12-27 17:21:44,668]\u001b[0m Trial 47 finished with value: 0.021670396067452673 and parameters: {'lambda_l1': 0.0006078135405205999, 'lambda_l2': 5.481126167813038e-07}. Best is trial 41 with value: 0.01980554708817279.\u001b[0m\n"
     ]
    },
    {
     "name": "stdout",
     "output_type": "stream",
     "text": [
      "Early stopping, best iteration is:\n",
      "[46]\tTrain's rmse: 0.167401\tTest's rmse: 0.0216704\n",
      "[LightGBM] [Info] Total Bins 2297\n",
      "[LightGBM] [Info] Number of data points in the train set: 10733, number of used features: 22\n",
      "[LightGBM] [Info] Start training from score 0.394992\n",
      "Training until validation scores don't improve for 50 rounds\n"
     ]
    },
    {
     "name": "stderr",
     "output_type": "stream",
     "text": [
      "\u001b[32m[I 2021-12-27 17:21:45,130]\u001b[0m Trial 48 finished with value: 0.022065637599150745 and parameters: {'lambda_l1': 0.0008103756752611487, 'lambda_l2': 1.614510656728349e-08}. Best is trial 41 with value: 0.01980554708817279.\u001b[0m\n"
     ]
    },
    {
     "name": "stdout",
     "output_type": "stream",
     "text": [
      "Early stopping, best iteration is:\n",
      "[43]\tTrain's rmse: 0.167531\tTest's rmse: 0.0220656\n",
      "[LightGBM] [Info] Total Bins 2297\n",
      "[LightGBM] [Info] Number of data points in the train set: 10733, number of used features: 22\n",
      "[LightGBM] [Info] Start training from score 0.394992\n",
      "[LightGBM] [Warning] No further splits with positive gain, best gain: -inf\n",
      "Training until validation scores don't improve for 50 rounds\n",
      "[LightGBM] [Warning] No further splits with positive gain, best gain: -inf\n",
      "[LightGBM] [Warning] No further splits with positive gain, best gain: -inf\n",
      "[LightGBM] [Warning] No further splits with positive gain, best gain: -inf\n",
      "[LightGBM] [Warning] No further splits with positive gain, best gain: -inf\n",
      "[LightGBM] [Warning] No further splits with positive gain, best gain: -inf\n",
      "[LightGBM] [Warning] No further splits with positive gain, best gain: -inf\n",
      "[LightGBM] [Warning] No further splits with positive gain, best gain: -inf\n",
      "[LightGBM] [Warning] No further splits with positive gain, best gain: -inf\n",
      "[LightGBM] [Warning] No further splits with positive gain, best gain: -inf\n",
      "[LightGBM] [Warning] No further splits with positive gain, best gain: -inf\n",
      "[LightGBM] [Warning] No further splits with positive gain, best gain: -inf\n",
      "[LightGBM] [Warning] No further splits with positive gain, best gain: -inf\n",
      "[LightGBM] [Warning] No further splits with positive gain, best gain: -inf\n",
      "[LightGBM] [Warning] No further splits with positive gain, best gain: -inf\n",
      "[LightGBM] [Warning] No further splits with positive gain, best gain: -inf\n",
      "[LightGBM] [Warning] No further splits with positive gain, best gain: -inf\n",
      "[LightGBM] [Warning] No further splits with positive gain, best gain: -inf\n",
      "[LightGBM] [Warning] No further splits with positive gain, best gain: -inf\n",
      "[LightGBM] [Warning] No further splits with positive gain, best gain: -inf\n",
      "[LightGBM] [Warning] No further splits with positive gain, best gain: -inf\n",
      "[LightGBM] [Warning] No further splits with positive gain, best gain: -inf\n",
      "[LightGBM] [Warning] No further splits with positive gain, best gain: -inf\n",
      "[LightGBM] [Warning] No further splits with positive gain, best gain: -inf\n",
      "[LightGBM] [Warning] No further splits with positive gain, best gain: -inf\n",
      "[LightGBM] [Warning] No further splits with positive gain, best gain: -inf\n",
      "[LightGBM] [Warning] No further splits with positive gain, best gain: -inf\n",
      "[LightGBM] [Warning] No further splits with positive gain, best gain: -inf\n",
      "[LightGBM] [Warning] No further splits with positive gain, best gain: -inf\n",
      "[LightGBM] [Warning] No further splits with positive gain, best gain: -inf\n",
      "[LightGBM] [Warning] No further splits with positive gain, best gain: -inf\n",
      "[LightGBM] [Warning] No further splits with positive gain, best gain: -inf\n",
      "[LightGBM] [Warning] No further splits with positive gain, best gain: -inf\n",
      "[LightGBM] [Warning] No further splits with positive gain, best gain: -inf\n",
      "[LightGBM] [Warning] No further splits with positive gain, best gain: -inf\n",
      "[LightGBM] [Warning] No further splits with positive gain, best gain: -inf\n",
      "[LightGBM] [Warning] No further splits with positive gain, best gain: -inf\n",
      "[LightGBM] [Warning] No further splits with positive gain, best gain: -inf\n",
      "[LightGBM] [Warning] No further splits with positive gain, best gain: -inf\n",
      "[LightGBM] [Warning] No further splits with positive gain, best gain: -inf\n",
      "[LightGBM] [Warning] No further splits with positive gain, best gain: -inf\n",
      "[LightGBM] [Warning] No further splits with positive gain, best gain: -inf\n",
      "[LightGBM] [Warning] No further splits with positive gain, best gain: -inf\n",
      "[LightGBM] [Warning] No further splits with positive gain, best gain: -inf\n",
      "[LightGBM] [Warning] No further splits with positive gain, best gain: -inf\n",
      "[LightGBM] [Warning] No further splits with positive gain, best gain: -inf\n",
      "[LightGBM] [Warning] No further splits with positive gain, best gain: -inf\n",
      "[LightGBM] [Warning] No further splits with positive gain, best gain: -inf\n",
      "[LightGBM] [Warning] No further splits with positive gain, best gain: -inf\n",
      "[LightGBM] [Warning] No further splits with positive gain, best gain: -inf\n",
      "[LightGBM] [Warning] No further splits with positive gain, best gain: -inf\n",
      "[LightGBM] [Warning] No further splits with positive gain, best gain: -inf\n",
      "[LightGBM] [Warning] No further splits with positive gain, best gain: -inf\n",
      "[LightGBM] [Warning] No further splits with positive gain, best gain: -inf\n",
      "[LightGBM] [Warning] No further splits with positive gain, best gain: -inf\n",
      "[LightGBM] [Warning] No further splits with positive gain, best gain: -inf\n",
      "[LightGBM] [Warning] No further splits with positive gain, best gain: -inf\n",
      "[LightGBM] [Warning] No further splits with positive gain, best gain: -inf\n",
      "[LightGBM] [Warning] No further splits with positive gain, best gain: -inf\n",
      "[LightGBM] [Warning] No further splits with positive gain, best gain: -inf\n",
      "[LightGBM] [Warning] No further splits with positive gain, best gain: -inf\n",
      "[LightGBM] [Warning] No further splits with positive gain, best gain: -inf\n",
      "[LightGBM] [Warning] No further splits with positive gain, best gain: -inf\n",
      "[LightGBM] [Warning] No further splits with positive gain, best gain: -inf\n",
      "[LightGBM] [Warning] No further splits with positive gain, best gain: -inf\n",
      "[LightGBM] [Warning] No further splits with positive gain, best gain: -inf\n",
      "[LightGBM] [Warning] No further splits with positive gain, best gain: -inf\n",
      "[LightGBM] [Warning] No further splits with positive gain, best gain: -inf\n",
      "[LightGBM] [Warning] No further splits with positive gain, best gain: -inf\n",
      "[LightGBM] [Warning] No further splits with positive gain, best gain: -inf\n",
      "[LightGBM] [Warning] No further splits with positive gain, best gain: -inf\n",
      "[LightGBM] [Warning] No further splits with positive gain, best gain: -inf\n",
      "[LightGBM] [Warning] No further splits with positive gain, best gain: -inf\n",
      "[LightGBM] [Warning] No further splits with positive gain, best gain: -inf\n",
      "[LightGBM] [Warning] No further splits with positive gain, best gain: -inf\n",
      "[LightGBM] [Warning] No further splits with positive gain, best gain: -inf\n",
      "[LightGBM] [Warning] No further splits with positive gain, best gain: -inf\n",
      "[LightGBM] [Warning] No further splits with positive gain, best gain: -inf\n",
      "[LightGBM] [Warning] No further splits with positive gain, best gain: -inf\n",
      "[LightGBM] [Warning] No further splits with positive gain, best gain: -inf\n",
      "[LightGBM] [Warning] No further splits with positive gain, best gain: -inf\n",
      "[LightGBM] [Warning] No further splits with positive gain, best gain: -inf\n",
      "[LightGBM] [Warning] No further splits with positive gain, best gain: -inf\n",
      "[LightGBM] [Warning] No further splits with positive gain, best gain: -inf\n",
      "[LightGBM] [Warning] No further splits with positive gain, best gain: -inf\n",
      "[LightGBM] [Warning] No further splits with positive gain, best gain: -inf\n",
      "[LightGBM] [Warning] No further splits with positive gain, best gain: -inf\n",
      "[LightGBM] [Warning] No further splits with positive gain, best gain: -inf\n",
      "[LightGBM] [Warning] No further splits with positive gain, best gain: -inf\n",
      "[LightGBM] [Warning] No further splits with positive gain, best gain: -inf\n",
      "[LightGBM] [Warning] No further splits with positive gain, best gain: -inf\n",
      "[LightGBM] [Warning] No further splits with positive gain, best gain: -inf\n",
      "[LightGBM] [Warning] No further splits with positive gain, best gain: -inf\n",
      "[LightGBM] [Warning] No further splits with positive gain, best gain: -inf\n",
      "[LightGBM] [Warning] No further splits with positive gain, best gain: -inf\n",
      "[LightGBM] [Warning] No further splits with positive gain, best gain: -inf\n",
      "[LightGBM] [Warning] No further splits with positive gain, best gain: -inf\n"
     ]
    },
    {
     "name": "stderr",
     "output_type": "stream",
     "text": [
      "\u001b[32m[I 2021-12-27 17:21:45,499]\u001b[0m Trial 49 finished with value: 0.020570573289039884 and parameters: {'lambda_l1': 0.6014488784728869, 'lambda_l2': 0.0003865594199543076}. Best is trial 41 with value: 0.01980554708817279.\u001b[0m\n"
     ]
    },
    {
     "name": "stdout",
     "output_type": "stream",
     "text": [
      "Early stopping, best iteration is:\n",
      "[47]\tTrain's rmse: 0.163858\tTest's rmse: 0.0205706\n",
      "[LightGBM] [Info] Total Bins 2297\n",
      "[LightGBM] [Info] Number of data points in the train set: 10733, number of used features: 22\n",
      "[LightGBM] [Info] Start training from score 0.394992\n",
      "Training until validation scores don't improve for 50 rounds\n"
     ]
    },
    {
     "name": "stderr",
     "output_type": "stream",
     "text": [
      "\u001b[32m[I 2021-12-27 17:21:46,030]\u001b[0m Trial 50 finished with value: 0.02638533195643033 and parameters: {'lambda_l1': 1.142804257795714e-08, 'lambda_l2': 0.42278148380347713}. Best is trial 41 with value: 0.01980554708817279.\u001b[0m\n"
     ]
    },
    {
     "name": "stdout",
     "output_type": "stream",
     "text": [
      "Did not meet early stopping. Best iteration is:\n",
      "[100]\tTrain's rmse: 0.150282\tTest's rmse: 0.0263853\n",
      "[LightGBM] [Info] Total Bins 2297\n",
      "[LightGBM] [Info] Number of data points in the train set: 10733, number of used features: 22\n",
      "[LightGBM] [Info] Start training from score 0.394992\n",
      "[LightGBM] [Warning] No further splits with positive gain, best gain: -inf\n",
      "Training until validation scores don't improve for 50 rounds\n",
      "[LightGBM] [Warning] No further splits with positive gain, best gain: -inf\n",
      "[LightGBM] [Warning] No further splits with positive gain, best gain: -inf\n",
      "[LightGBM] [Warning] No further splits with positive gain, best gain: -inf\n",
      "[LightGBM] [Warning] No further splits with positive gain, best gain: -inf\n",
      "[LightGBM] [Warning] No further splits with positive gain, best gain: -inf\n",
      "[LightGBM] [Warning] No further splits with positive gain, best gain: -inf\n",
      "[LightGBM] [Warning] No further splits with positive gain, best gain: -inf\n",
      "[LightGBM] [Warning] No further splits with positive gain, best gain: -inf\n",
      "[LightGBM] [Warning] No further splits with positive gain, best gain: -inf\n",
      "[LightGBM] [Warning] No further splits with positive gain, best gain: -inf\n",
      "[LightGBM] [Warning] No further splits with positive gain, best gain: -inf\n",
      "[LightGBM] [Warning] No further splits with positive gain, best gain: -inf\n",
      "[LightGBM] [Warning] No further splits with positive gain, best gain: -inf\n",
      "[LightGBM] [Warning] No further splits with positive gain, best gain: -inf\n",
      "[LightGBM] [Warning] No further splits with positive gain, best gain: -inf\n",
      "[LightGBM] [Warning] No further splits with positive gain, best gain: -inf\n",
      "[LightGBM] [Warning] No further splits with positive gain, best gain: -inf\n",
      "[LightGBM] [Warning] No further splits with positive gain, best gain: -inf\n",
      "[LightGBM] [Warning] No further splits with positive gain, best gain: -inf\n",
      "[LightGBM] [Warning] No further splits with positive gain, best gain: -inf\n",
      "[LightGBM] [Warning] No further splits with positive gain, best gain: -inf\n",
      "[LightGBM] [Warning] No further splits with positive gain, best gain: -inf\n",
      "[LightGBM] [Warning] No further splits with positive gain, best gain: -inf\n",
      "[LightGBM] [Warning] No further splits with positive gain, best gain: -inf\n",
      "[LightGBM] [Warning] No further splits with positive gain, best gain: -inf\n",
      "[LightGBM] [Warning] No further splits with positive gain, best gain: -inf\n",
      "[LightGBM] [Warning] No further splits with positive gain, best gain: -inf\n",
      "[LightGBM] [Warning] No further splits with positive gain, best gain: -inf\n",
      "[LightGBM] [Warning] No further splits with positive gain, best gain: -inf\n",
      "[LightGBM] [Warning] No further splits with positive gain, best gain: -inf\n",
      "[LightGBM] [Warning] No further splits with positive gain, best gain: -inf\n",
      "[LightGBM] [Warning] No further splits with positive gain, best gain: -inf\n",
      "[LightGBM] [Warning] No further splits with positive gain, best gain: -inf\n",
      "[LightGBM] [Warning] No further splits with positive gain, best gain: -inf\n",
      "[LightGBM] [Warning] No further splits with positive gain, best gain: -inf\n",
      "[LightGBM] [Warning] No further splits with positive gain, best gain: -inf\n",
      "[LightGBM] [Warning] No further splits with positive gain, best gain: -inf\n",
      "[LightGBM] [Warning] No further splits with positive gain, best gain: -inf\n",
      "[LightGBM] [Warning] No further splits with positive gain, best gain: -inf\n",
      "[LightGBM] [Warning] No further splits with positive gain, best gain: -inf\n",
      "[LightGBM] [Warning] No further splits with positive gain, best gain: -inf\n",
      "[LightGBM] [Warning] No further splits with positive gain, best gain: -inf\n",
      "[LightGBM] [Warning] No further splits with positive gain, best gain: -inf\n",
      "[LightGBM] [Warning] No further splits with positive gain, best gain: -inf\n",
      "[LightGBM] [Warning] No further splits with positive gain, best gain: -inf\n",
      "[LightGBM] [Warning] No further splits with positive gain, best gain: -inf\n",
      "[LightGBM] [Warning] No further splits with positive gain, best gain: -inf\n",
      "[LightGBM] [Warning] No further splits with positive gain, best gain: -inf\n",
      "[LightGBM] [Warning] No further splits with positive gain, best gain: -inf\n",
      "[LightGBM] [Warning] No further splits with positive gain, best gain: -inf\n",
      "[LightGBM] [Warning] No further splits with positive gain, best gain: -inf\n",
      "[LightGBM] [Warning] No further splits with positive gain, best gain: -inf\n",
      "[LightGBM] [Warning] No further splits with positive gain, best gain: -inf\n",
      "[LightGBM] [Warning] No further splits with positive gain, best gain: -inf\n",
      "[LightGBM] [Warning] No further splits with positive gain, best gain: -inf\n",
      "[LightGBM] [Warning] No further splits with positive gain, best gain: -inf\n",
      "[LightGBM] [Warning] No further splits with positive gain, best gain: -inf\n",
      "[LightGBM] [Warning] No further splits with positive gain, best gain: -inf\n",
      "[LightGBM] [Warning] No further splits with positive gain, best gain: -inf\n",
      "[LightGBM] [Warning] No further splits with positive gain, best gain: -inf\n",
      "[LightGBM] [Warning] No further splits with positive gain, best gain: -inf\n",
      "[LightGBM] [Warning] No further splits with positive gain, best gain: -inf\n",
      "[LightGBM] [Warning] No further splits with positive gain, best gain: -inf\n",
      "[LightGBM] [Warning] No further splits with positive gain, best gain: -inf\n",
      "[LightGBM] [Warning] No further splits with positive gain, best gain: -inf\n",
      "[LightGBM] [Warning] No further splits with positive gain, best gain: -inf\n",
      "[LightGBM] [Warning] No further splits with positive gain, best gain: -inf\n",
      "[LightGBM] [Warning] No further splits with positive gain, best gain: -inf\n",
      "[LightGBM] [Warning] No further splits with positive gain, best gain: -inf\n",
      "[LightGBM] [Warning] No further splits with positive gain, best gain: -inf\n",
      "[LightGBM] [Warning] No further splits with positive gain, best gain: -inf\n",
      "[LightGBM] [Warning] No further splits with positive gain, best gain: -inf\n",
      "[LightGBM] [Warning] No further splits with positive gain, best gain: -inf\n",
      "[LightGBM] [Warning] No further splits with positive gain, best gain: -inf\n",
      "[LightGBM] [Warning] No further splits with positive gain, best gain: -inf\n",
      "[LightGBM] [Warning] No further splits with positive gain, best gain: -inf\n",
      "[LightGBM] [Warning] No further splits with positive gain, best gain: -inf\n"
     ]
    },
    {
     "name": "stderr",
     "output_type": "stream",
     "text": [
      "\u001b[32m[I 2021-12-27 17:21:46,243]\u001b[0m Trial 51 finished with value: 0.028529699251367953 and parameters: {'lambda_l1': 8.208874614838177, 'lambda_l2': 1.3129889360924668e-05}. Best is trial 41 with value: 0.01980554708817279.\u001b[0m\n"
     ]
    },
    {
     "name": "stdout",
     "output_type": "stream",
     "text": [
      "[LightGBM] [Warning] No further splits with positive gain, best gain: -inf\n",
      "[LightGBM] [Warning] No further splits with positive gain, best gain: -inf\n",
      "[LightGBM] [Warning] No further splits with positive gain, best gain: -inf\n",
      "[LightGBM] [Warning] No further splits with positive gain, best gain: -inf\n",
      "[LightGBM] [Warning] No further splits with positive gain, best gain: -inf\n",
      "[LightGBM] [Warning] No further splits with positive gain, best gain: -inf\n",
      "[LightGBM] [Warning] No further splits with positive gain, best gain: -inf\n",
      "[LightGBM] [Warning] No further splits with positive gain, best gain: -inf\n",
      "[LightGBM] [Warning] No further splits with positive gain, best gain: -inf\n",
      "[LightGBM] [Warning] No further splits with positive gain, best gain: -inf\n",
      "[LightGBM] [Warning] No further splits with positive gain, best gain: -inf\n",
      "[LightGBM] [Warning] No further splits with positive gain, best gain: -inf\n",
      "[LightGBM] [Warning] No further splits with positive gain, best gain: -inf\n",
      "[LightGBM] [Warning] No further splits with positive gain, best gain: -inf\n",
      "[LightGBM] [Warning] No further splits with positive gain, best gain: -inf\n",
      "[LightGBM] [Warning] No further splits with positive gain, best gain: -inf\n",
      "[LightGBM] [Warning] No further splits with positive gain, best gain: -inf\n",
      "[LightGBM] [Warning] No further splits with positive gain, best gain: -inf\n",
      "[LightGBM] [Warning] No further splits with positive gain, best gain: -inf\n",
      "[LightGBM] [Warning] No further splits with positive gain, best gain: -inf\n",
      "[LightGBM] [Warning] No further splits with positive gain, best gain: -inf\n",
      "[LightGBM] [Warning] No further splits with positive gain, best gain: -inf\n",
      "Did not meet early stopping. Best iteration is:\n",
      "[100]\tTrain's rmse: 0.151662\tTest's rmse: 0.0285297\n",
      "[LightGBM] [Info] Total Bins 2297\n",
      "[LightGBM] [Info] Number of data points in the train set: 10733, number of used features: 22\n",
      "[LightGBM] [Info] Start training from score 0.394992\n",
      "Training until validation scores don't improve for 50 rounds\n",
      "[LightGBM] [Warning] No further splits with positive gain, best gain: -inf\n",
      "[LightGBM] [Warning] No further splits with positive gain, best gain: -inf\n",
      "[LightGBM] [Warning] No further splits with positive gain, best gain: -inf\n",
      "[LightGBM] [Warning] No further splits with positive gain, best gain: -inf\n",
      "[LightGBM] [Warning] No further splits with positive gain, best gain: -inf\n",
      "[LightGBM] [Warning] No further splits with positive gain, best gain: -inf\n",
      "[LightGBM] [Warning] No further splits with positive gain, best gain: -inf\n",
      "[LightGBM] [Warning] No further splits with positive gain, best gain: -inf\n",
      "[LightGBM] [Warning] No further splits with positive gain, best gain: -inf\n",
      "[LightGBM] [Warning] No further splits with positive gain, best gain: -inf\n",
      "[LightGBM] [Warning] No further splits with positive gain, best gain: -inf\n",
      "[LightGBM] [Warning] No further splits with positive gain, best gain: -inf\n",
      "[LightGBM] [Warning] No further splits with positive gain, best gain: -inf\n",
      "[LightGBM] [Warning] No further splits with positive gain, best gain: -inf\n",
      "[LightGBM] [Warning] No further splits with positive gain, best gain: -inf\n",
      "[LightGBM] [Warning] No further splits with positive gain, best gain: -inf\n",
      "[LightGBM] [Warning] No further splits with positive gain, best gain: -inf\n",
      "[LightGBM] [Warning] No further splits with positive gain, best gain: -inf\n",
      "[LightGBM] [Warning] No further splits with positive gain, best gain: -inf\n",
      "[LightGBM] [Warning] No further splits with positive gain, best gain: -inf\n",
      "[LightGBM] [Warning] No further splits with positive gain, best gain: -inf\n",
      "[LightGBM] [Warning] No further splits with positive gain, best gain: -inf\n",
      "[LightGBM] [Warning] No further splits with positive gain, best gain: -inf\n",
      "[LightGBM] [Warning] No further splits with positive gain, best gain: -inf\n",
      "[LightGBM] [Warning] No further splits with positive gain, best gain: -inf\n",
      "[LightGBM] [Warning] No further splits with positive gain, best gain: -inf\n",
      "[LightGBM] [Warning] No further splits with positive gain, best gain: -inf\n",
      "[LightGBM] [Warning] No further splits with positive gain, best gain: -inf\n",
      "[LightGBM] [Warning] No further splits with positive gain, best gain: -inf\n",
      "[LightGBM] [Warning] No further splits with positive gain, best gain: -inf\n",
      "[LightGBM] [Warning] No further splits with positive gain, best gain: -inf\n",
      "[LightGBM] [Warning] No further splits with positive gain, best gain: -inf\n",
      "[LightGBM] [Warning] No further splits with positive gain, best gain: -inf\n",
      "[LightGBM] [Warning] No further splits with positive gain, best gain: -inf\n",
      "[LightGBM] [Warning] No further splits with positive gain, best gain: -inf\n",
      "[LightGBM] [Warning] No further splits with positive gain, best gain: -inf\n",
      "[LightGBM] [Warning] No further splits with positive gain, best gain: -inf\n",
      "[LightGBM] [Warning] No further splits with positive gain, best gain: -inf\n",
      "[LightGBM] [Warning] No further splits with positive gain, best gain: -inf\n",
      "[LightGBM] [Warning] No further splits with positive gain, best gain: -inf\n",
      "[LightGBM] [Warning] No further splits with positive gain, best gain: -inf\n",
      "[LightGBM] [Warning] No further splits with positive gain, best gain: -inf\n",
      "[LightGBM] [Warning] No further splits with positive gain, best gain: -inf\n",
      "[LightGBM] [Warning] No further splits with positive gain, best gain: -inf\n",
      "[LightGBM] [Warning] No further splits with positive gain, best gain: -inf\n",
      "[LightGBM] [Warning] No further splits with positive gain, best gain: -inf\n",
      "[LightGBM] [Warning] No further splits with positive gain, best gain: -inf\n"
     ]
    },
    {
     "name": "stderr",
     "output_type": "stream",
     "text": [
      "\u001b[32m[I 2021-12-27 17:21:46,635]\u001b[0m Trial 52 finished with value: 0.02058651486046187 and parameters: {'lambda_l1': 0.08679155873359143, 'lambda_l2': 2.0214472009476633e-05}. Best is trial 41 with value: 0.01980554708817279.\u001b[0m\n"
     ]
    },
    {
     "name": "stdout",
     "output_type": "stream",
     "text": [
      "Early stopping, best iteration is:\n",
      "[45]\tTrain's rmse: 0.165784\tTest's rmse: 0.0205865\n",
      "[LightGBM] [Info] Total Bins 2297\n",
      "[LightGBM] [Info] Number of data points in the train set: 10733, number of used features: 22\n",
      "[LightGBM] [Info] Start training from score 0.394992\n",
      "[LightGBM] [Warning] No further splits with positive gain, best gain: -inf\n",
      "Training until validation scores don't improve for 50 rounds\n",
      "[LightGBM] [Warning] No further splits with positive gain, best gain: -inf\n",
      "[LightGBM] [Warning] No further splits with positive gain, best gain: -inf\n",
      "[LightGBM] [Warning] No further splits with positive gain, best gain: -inf\n",
      "[LightGBM] [Warning] No further splits with positive gain, best gain: -inf\n",
      "[LightGBM] [Warning] No further splits with positive gain, best gain: -inf\n",
      "[LightGBM] [Warning] No further splits with positive gain, best gain: -inf\n",
      "[LightGBM] [Warning] No further splits with positive gain, best gain: -inf\n",
      "[LightGBM] [Warning] No further splits with positive gain, best gain: -inf\n",
      "[LightGBM] [Warning] No further splits with positive gain, best gain: -inf\n",
      "[LightGBM] [Warning] No further splits with positive gain, best gain: -inf\n",
      "[LightGBM] [Warning] No further splits with positive gain, best gain: -inf\n",
      "[LightGBM] [Warning] No further splits with positive gain, best gain: -inf\n",
      "[LightGBM] [Warning] No further splits with positive gain, best gain: -inf\n",
      "[LightGBM] [Warning] No further splits with positive gain, best gain: -inf\n",
      "[LightGBM] [Warning] No further splits with positive gain, best gain: -inf\n",
      "[LightGBM] [Warning] No further splits with positive gain, best gain: -inf\n",
      "[LightGBM] [Warning] No further splits with positive gain, best gain: -inf\n",
      "[LightGBM] [Warning] No further splits with positive gain, best gain: -inf\n",
      "[LightGBM] [Warning] No further splits with positive gain, best gain: -inf\n",
      "[LightGBM] [Warning] No further splits with positive gain, best gain: -inf\n",
      "[LightGBM] [Warning] No further splits with positive gain, best gain: -inf\n",
      "[LightGBM] [Warning] No further splits with positive gain, best gain: -inf\n",
      "[LightGBM] [Warning] No further splits with positive gain, best gain: -inf\n",
      "[LightGBM] [Warning] No further splits with positive gain, best gain: -inf\n",
      "[LightGBM] [Warning] No further splits with positive gain, best gain: -inf\n",
      "[LightGBM] [Warning] No further splits with positive gain, best gain: -inf\n",
      "[LightGBM] [Warning] No further splits with positive gain, best gain: -inf\n",
      "[LightGBM] [Warning] No further splits with positive gain, best gain: -inf\n",
      "[LightGBM] [Warning] No further splits with positive gain, best gain: -inf\n",
      "[LightGBM] [Warning] No further splits with positive gain, best gain: -inf\n",
      "[LightGBM] [Warning] No further splits with positive gain, best gain: -inf\n",
      "[LightGBM] [Warning] No further splits with positive gain, best gain: -inf\n",
      "[LightGBM] [Warning] No further splits with positive gain, best gain: -inf\n",
      "[LightGBM] [Warning] No further splits with positive gain, best gain: -inf\n",
      "[LightGBM] [Warning] No further splits with positive gain, best gain: -inf\n",
      "[LightGBM] [Warning] No further splits with positive gain, best gain: -inf\n",
      "[LightGBM] [Warning] No further splits with positive gain, best gain: -inf\n",
      "[LightGBM] [Warning] No further splits with positive gain, best gain: -inf\n",
      "[LightGBM] [Warning] No further splits with positive gain, best gain: -inf\n",
      "[LightGBM] [Warning] No further splits with positive gain, best gain: -inf\n",
      "[LightGBM] [Warning] No further splits with positive gain, best gain: -inf\n",
      "[LightGBM] [Warning] No further splits with positive gain, best gain: -inf\n",
      "[LightGBM] [Warning] No further splits with positive gain, best gain: -inf\n",
      "[LightGBM] [Warning] No further splits with positive gain, best gain: -inf\n",
      "[LightGBM] [Warning] No further splits with positive gain, best gain: -inf\n",
      "[LightGBM] [Warning] No further splits with positive gain, best gain: -inf\n",
      "[LightGBM] [Warning] No further splits with positive gain, best gain: -inf\n",
      "[LightGBM] [Warning] No further splits with positive gain, best gain: -inf\n",
      "[LightGBM] [Warning] No further splits with positive gain, best gain: -inf\n",
      "[LightGBM] [Warning] No further splits with positive gain, best gain: -inf\n",
      "[LightGBM] [Warning] No further splits with positive gain, best gain: -inf\n",
      "[LightGBM] [Warning] No further splits with positive gain, best gain: -inf\n",
      "[LightGBM] [Warning] No further splits with positive gain, best gain: -inf\n",
      "[LightGBM] [Warning] No further splits with positive gain, best gain: -inf\n",
      "[LightGBM] [Warning] No further splits with positive gain, best gain: -inf\n",
      "[LightGBM] [Warning] No further splits with positive gain, best gain: -inf\n",
      "[LightGBM] [Warning] No further splits with positive gain, best gain: -inf\n",
      "[LightGBM] [Warning] No further splits with positive gain, best gain: -inf\n",
      "[LightGBM] [Warning] No further splits with positive gain, best gain: -inf\n",
      "[LightGBM] [Warning] No further splits with positive gain, best gain: -inf\n",
      "[LightGBM] [Warning] No further splits with positive gain, best gain: -inf\n",
      "[LightGBM] [Warning] No further splits with positive gain, best gain: -inf\n",
      "[LightGBM] [Warning] No further splits with positive gain, best gain: -inf\n",
      "[LightGBM] [Warning] No further splits with positive gain, best gain: -inf\n",
      "[LightGBM] [Warning] No further splits with positive gain, best gain: -inf\n",
      "[LightGBM] [Warning] No further splits with positive gain, best gain: -inf\n",
      "[LightGBM] [Warning] No further splits with positive gain, best gain: -inf\n",
      "[LightGBM] [Warning] No further splits with positive gain, best gain: -inf\n",
      "[LightGBM] [Warning] No further splits with positive gain, best gain: -inf\n",
      "[LightGBM] [Warning] No further splits with positive gain, best gain: -inf\n",
      "[LightGBM] [Warning] No further splits with positive gain, best gain: -inf\n",
      "[LightGBM] [Warning] No further splits with positive gain, best gain: -inf\n",
      "[LightGBM] [Warning] No further splits with positive gain, best gain: -inf\n",
      "[LightGBM] [Warning] No further splits with positive gain, best gain: -inf\n",
      "[LightGBM] [Warning] No further splits with positive gain, best gain: -inf\n",
      "[LightGBM] [Warning] No further splits with positive gain, best gain: -inf\n",
      "[LightGBM] [Warning] No further splits with positive gain, best gain: -inf\n"
     ]
    },
    {
     "name": "stderr",
     "output_type": "stream",
     "text": [
      "\u001b[32m[I 2021-12-27 17:21:46,865]\u001b[0m Trial 53 finished with value: 0.020506248552482127 and parameters: {'lambda_l1': 3.552845106162809, 'lambda_l2': 0.03383972600523627}. Best is trial 41 with value: 0.01980554708817279.\u001b[0m\n"
     ]
    },
    {
     "name": "stdout",
     "output_type": "stream",
     "text": [
      "[LightGBM] [Warning] No further splits with positive gain, best gain: -inf\n",
      "[LightGBM] [Warning] No further splits with positive gain, best gain: -inf\n",
      "[LightGBM] [Warning] No further splits with positive gain, best gain: -inf\n",
      "[LightGBM] [Warning] No further splits with positive gain, best gain: -inf\n",
      "[LightGBM] [Warning] No further splits with positive gain, best gain: -inf\n",
      "[LightGBM] [Warning] No further splits with positive gain, best gain: -inf\n",
      "[LightGBM] [Warning] No further splits with positive gain, best gain: -inf\n",
      "[LightGBM] [Warning] No further splits with positive gain, best gain: -inf\n",
      "[LightGBM] [Warning] No further splits with positive gain, best gain: -inf\n",
      "[LightGBM] [Warning] No further splits with positive gain, best gain: -inf\n",
      "[LightGBM] [Warning] No further splits with positive gain, best gain: -inf\n",
      "[LightGBM] [Warning] No further splits with positive gain, best gain: -inf\n",
      "[LightGBM] [Warning] No further splits with positive gain, best gain: -inf\n",
      "[LightGBM] [Warning] No further splits with positive gain, best gain: -inf\n",
      "[LightGBM] [Warning] No further splits with positive gain, best gain: -inf\n",
      "[LightGBM] [Warning] No further splits with positive gain, best gain: -inf\n",
      "[LightGBM] [Warning] No further splits with positive gain, best gain: -inf\n",
      "[LightGBM] [Warning] No further splits with positive gain, best gain: -inf\n",
      "[LightGBM] [Warning] No further splits with positive gain, best gain: -inf\n",
      "[LightGBM] [Warning] No further splits with positive gain, best gain: -inf\n",
      "[LightGBM] [Warning] No further splits with positive gain, best gain: -inf\n",
      "[LightGBM] [Warning] No further splits with positive gain, best gain: -inf\n",
      "Did not meet early stopping. Best iteration is:\n",
      "[100]\tTrain's rmse: 0.145788\tTest's rmse: 0.0205062\n",
      "[LightGBM] [Info] Total Bins 2297\n",
      "[LightGBM] [Info] Number of data points in the train set: 10733, number of used features: 22\n",
      "[LightGBM] [Info] Start training from score 0.394992\n",
      "Training until validation scores don't improve for 50 rounds\n",
      "[LightGBM] [Warning] No further splits with positive gain, best gain: -inf\n",
      "[LightGBM] [Warning] No further splits with positive gain, best gain: -inf\n",
      "[LightGBM] [Warning] No further splits with positive gain, best gain: -inf\n",
      "[LightGBM] [Warning] No further splits with positive gain, best gain: -inf\n",
      "[LightGBM] [Warning] No further splits with positive gain, best gain: -inf\n",
      "[LightGBM] [Warning] No further splits with positive gain, best gain: -inf\n",
      "[LightGBM] [Warning] No further splits with positive gain, best gain: -inf\n",
      "[LightGBM] [Warning] No further splits with positive gain, best gain: -inf\n",
      "[LightGBM] [Warning] No further splits with positive gain, best gain: -inf\n",
      "[LightGBM] [Warning] No further splits with positive gain, best gain: -inf\n",
      "[LightGBM] [Warning] No further splits with positive gain, best gain: -inf\n",
      "[LightGBM] [Warning] No further splits with positive gain, best gain: -inf\n",
      "[LightGBM] [Warning] No further splits with positive gain, best gain: -inf\n",
      "[LightGBM] [Warning] No further splits with positive gain, best gain: -inf\n",
      "[LightGBM] [Warning] No further splits with positive gain, best gain: -inf\n",
      "[LightGBM] [Warning] No further splits with positive gain, best gain: -inf\n",
      "[LightGBM] [Warning] No further splits with positive gain, best gain: -inf\n",
      "[LightGBM] [Warning] No further splits with positive gain, best gain: -inf\n",
      "[LightGBM] [Warning] No further splits with positive gain, best gain: -inf\n",
      "[LightGBM] [Warning] No further splits with positive gain, best gain: -inf\n",
      "[LightGBM] [Warning] No further splits with positive gain, best gain: -inf\n",
      "[LightGBM] [Warning] No further splits with positive gain, best gain: -inf\n",
      "[LightGBM] [Warning] No further splits with positive gain, best gain: -inf\n",
      "[LightGBM] [Warning] No further splits with positive gain, best gain: -inf\n",
      "[LightGBM] [Warning] No further splits with positive gain, best gain: -inf\n",
      "[LightGBM] [Warning] No further splits with positive gain, best gain: -inf\n",
      "[LightGBM] [Warning] No further splits with positive gain, best gain: -inf\n",
      "[LightGBM] [Warning] No further splits with positive gain, best gain: -inf\n",
      "[LightGBM] [Warning] No further splits with positive gain, best gain: -inf\n",
      "[LightGBM] [Warning] No further splits with positive gain, best gain: -inf\n",
      "[LightGBM] [Warning] No further splits with positive gain, best gain: -inf\n",
      "[LightGBM] [Warning] No further splits with positive gain, best gain: -inf\n",
      "[LightGBM] [Warning] No further splits with positive gain, best gain: -inf\n",
      "[LightGBM] [Warning] No further splits with positive gain, best gain: -inf\n",
      "[LightGBM] [Warning] No further splits with positive gain, best gain: -inf\n",
      "[LightGBM] [Warning] No further splits with positive gain, best gain: -inf\n",
      "[LightGBM] [Warning] No further splits with positive gain, best gain: -inf\n",
      "[LightGBM] [Warning] No further splits with positive gain, best gain: -inf\n",
      "[LightGBM] [Warning] No further splits with positive gain, best gain: -inf\n",
      "[LightGBM] [Warning] No further splits with positive gain, best gain: -inf\n",
      "[LightGBM] [Warning] No further splits with positive gain, best gain: -inf\n",
      "[LightGBM] [Warning] No further splits with positive gain, best gain: -inf\n"
     ]
    },
    {
     "name": "stderr",
     "output_type": "stream",
     "text": [
      "\u001b[32m[I 2021-12-27 17:21:47,260]\u001b[0m Trial 54 finished with value: 0.021420068893936217 and parameters: {'lambda_l1': 0.08320929622506758, 'lambda_l2': 1.535753496179102e-08}. Best is trial 41 with value: 0.01980554708817279.\u001b[0m\n"
     ]
    },
    {
     "name": "stdout",
     "output_type": "stream",
     "text": [
      "Early stopping, best iteration is:\n",
      "[47]\tTrain's rmse: 0.163262\tTest's rmse: 0.0214201\n",
      "[LightGBM] [Info] Total Bins 2297\n",
      "[LightGBM] [Info] Number of data points in the train set: 10733, number of used features: 22\n",
      "[LightGBM] [Info] Start training from score 0.394992\n",
      "[LightGBM] [Warning] No further splits with positive gain, best gain: -inf\n",
      "Training until validation scores don't improve for 50 rounds\n",
      "[LightGBM] [Warning] No further splits with positive gain, best gain: -inf\n",
      "[LightGBM] [Warning] No further splits with positive gain, best gain: -inf\n",
      "[LightGBM] [Warning] No further splits with positive gain, best gain: -inf\n",
      "[LightGBM] [Warning] No further splits with positive gain, best gain: -inf\n",
      "[LightGBM] [Warning] No further splits with positive gain, best gain: -inf\n",
      "[LightGBM] [Warning] No further splits with positive gain, best gain: -inf\n",
      "[LightGBM] [Warning] No further splits with positive gain, best gain: -inf\n",
      "[LightGBM] [Warning] No further splits with positive gain, best gain: -inf\n",
      "[LightGBM] [Warning] No further splits with positive gain, best gain: -inf\n",
      "[LightGBM] [Warning] No further splits with positive gain, best gain: -inf\n",
      "[LightGBM] [Warning] No further splits with positive gain, best gain: -inf\n",
      "[LightGBM] [Warning] No further splits with positive gain, best gain: -inf\n",
      "[LightGBM] [Warning] No further splits with positive gain, best gain: -inf\n",
      "[LightGBM] [Warning] No further splits with positive gain, best gain: -inf\n",
      "[LightGBM] [Warning] No further splits with positive gain, best gain: -inf\n",
      "[LightGBM] [Warning] No further splits with positive gain, best gain: -inf\n",
      "[LightGBM] [Warning] No further splits with positive gain, best gain: -inf\n",
      "[LightGBM] [Warning] No further splits with positive gain, best gain: -inf\n",
      "[LightGBM] [Warning] No further splits with positive gain, best gain: -inf\n",
      "[LightGBM] [Warning] No further splits with positive gain, best gain: -inf\n",
      "[LightGBM] [Warning] No further splits with positive gain, best gain: -inf\n",
      "[LightGBM] [Warning] No further splits with positive gain, best gain: -inf\n",
      "[LightGBM] [Warning] No further splits with positive gain, best gain: -inf\n",
      "[LightGBM] [Warning] No further splits with positive gain, best gain: -inf\n",
      "[LightGBM] [Warning] No further splits with positive gain, best gain: -inf\n",
      "[LightGBM] [Warning] No further splits with positive gain, best gain: -inf\n",
      "[LightGBM] [Warning] No further splits with positive gain, best gain: -inf\n",
      "[LightGBM] [Warning] No further splits with positive gain, best gain: -inf\n",
      "[LightGBM] [Warning] No further splits with positive gain, best gain: -inf\n",
      "[LightGBM] [Warning] No further splits with positive gain, best gain: -inf\n",
      "[LightGBM] [Warning] No further splits with positive gain, best gain: -inf\n",
      "[LightGBM] [Warning] No further splits with positive gain, best gain: -inf\n",
      "[LightGBM] [Warning] No further splits with positive gain, best gain: -inf\n",
      "[LightGBM] [Warning] No further splits with positive gain, best gain: -inf\n",
      "[LightGBM] [Warning] No further splits with positive gain, best gain: -inf\n",
      "[LightGBM] [Warning] No further splits with positive gain, best gain: -inf\n",
      "[LightGBM] [Warning] No further splits with positive gain, best gain: -inf\n",
      "[LightGBM] [Warning] No further splits with positive gain, best gain: -inf\n",
      "[LightGBM] [Warning] No further splits with positive gain, best gain: -inf\n",
      "[LightGBM] [Warning] No further splits with positive gain, best gain: -inf\n",
      "[LightGBM] [Warning] No further splits with positive gain, best gain: -inf\n",
      "[LightGBM] [Warning] No further splits with positive gain, best gain: -inf\n",
      "[LightGBM] [Warning] No further splits with positive gain, best gain: -inf\n",
      "[LightGBM] [Warning] No further splits with positive gain, best gain: -inf\n",
      "[LightGBM] [Warning] No further splits with positive gain, best gain: -inf\n",
      "[LightGBM] [Warning] No further splits with positive gain, best gain: -inf\n",
      "[LightGBM] [Warning] No further splits with positive gain, best gain: -inf\n",
      "[LightGBM] [Warning] No further splits with positive gain, best gain: -inf\n",
      "[LightGBM] [Warning] No further splits with positive gain, best gain: -inf\n",
      "[LightGBM] [Warning] No further splits with positive gain, best gain: -inf\n",
      "[LightGBM] [Warning] No further splits with positive gain, best gain: -inf\n",
      "[LightGBM] [Warning] No further splits with positive gain, best gain: -inf\n",
      "[LightGBM] [Warning] No further splits with positive gain, best gain: -inf\n",
      "[LightGBM] [Warning] No further splits with positive gain, best gain: -inf\n",
      "[LightGBM] [Warning] No further splits with positive gain, best gain: -inf\n",
      "[LightGBM] [Warning] No further splits with positive gain, best gain: -inf\n",
      "[LightGBM] [Warning] No further splits with positive gain, best gain: -inf\n",
      "[LightGBM] [Warning] No further splits with positive gain, best gain: -inf\n"
     ]
    },
    {
     "name": "stderr",
     "output_type": "stream",
     "text": [
      "\u001b[32m[I 2021-12-27 17:21:47,580]\u001b[0m Trial 55 finished with value: 0.024946716640232347 and parameters: {'lambda_l1': 0.7065644929450176, 'lambda_l2': 1.2127446779452848e-06}. Best is trial 41 with value: 0.01980554708817279.\u001b[0m\n"
     ]
    },
    {
     "name": "stdout",
     "output_type": "stream",
     "text": [
      "[LightGBM] [Warning] No further splits with positive gain, best gain: -inf\n",
      "[LightGBM] [Warning] No further splits with positive gain, best gain: -inf\n",
      "[LightGBM] [Warning] No further splits with positive gain, best gain: -inf\n",
      "[LightGBM] [Warning] No further splits with positive gain, best gain: -inf\n",
      "[LightGBM] [Warning] No further splits with positive gain, best gain: -inf\n",
      "[LightGBM] [Warning] No further splits with positive gain, best gain: -inf\n",
      "[LightGBM] [Warning] No further splits with positive gain, best gain: -inf\n",
      "[LightGBM] [Warning] No further splits with positive gain, best gain: -inf\n",
      "[LightGBM] [Warning] No further splits with positive gain, best gain: -inf\n",
      "[LightGBM] [Warning] No further splits with positive gain, best gain: -inf\n",
      "[LightGBM] [Warning] No further splits with positive gain, best gain: -inf\n",
      "[LightGBM] [Warning] No further splits with positive gain, best gain: -inf\n",
      "[LightGBM] [Warning] No further splits with positive gain, best gain: -inf\n",
      "[LightGBM] [Warning] No further splits with positive gain, best gain: -inf\n",
      "[LightGBM] [Warning] No further splits with positive gain, best gain: -inf\n",
      "[LightGBM] [Warning] No further splits with positive gain, best gain: -inf\n",
      "[LightGBM] [Warning] No further splits with positive gain, best gain: -inf\n",
      "[LightGBM] [Warning] No further splits with positive gain, best gain: -inf\n",
      "[LightGBM] [Warning] No further splits with positive gain, best gain: -inf\n",
      "[LightGBM] [Warning] No further splits with positive gain, best gain: -inf\n",
      "[LightGBM] [Warning] No further splits with positive gain, best gain: -inf\n",
      "[LightGBM] [Warning] No further splits with positive gain, best gain: -inf\n",
      "[LightGBM] [Warning] No further splits with positive gain, best gain: -inf\n",
      "[LightGBM] [Warning] No further splits with positive gain, best gain: -inf\n",
      "[LightGBM] [Warning] No further splits with positive gain, best gain: -inf\n",
      "[LightGBM] [Warning] No further splits with positive gain, best gain: -inf\n",
      "[LightGBM] [Warning] No further splits with positive gain, best gain: -inf\n",
      "[LightGBM] [Warning] No further splits with positive gain, best gain: -inf\n",
      "[LightGBM] [Warning] No further splits with positive gain, best gain: -inf\n",
      "[LightGBM] [Warning] No further splits with positive gain, best gain: -inf\n",
      "[LightGBM] [Warning] No further splits with positive gain, best gain: -inf\n",
      "[LightGBM] [Warning] No further splits with positive gain, best gain: -inf\n",
      "[LightGBM] [Warning] No further splits with positive gain, best gain: -inf\n",
      "[LightGBM] [Warning] No further splits with positive gain, best gain: -inf\n",
      "[LightGBM] [Warning] No further splits with positive gain, best gain: -inf\n",
      "[LightGBM] [Warning] No further splits with positive gain, best gain: -inf\n",
      "[LightGBM] [Warning] No further splits with positive gain, best gain: -inf\n",
      "[LightGBM] [Warning] No further splits with positive gain, best gain: -inf\n",
      "[LightGBM] [Warning] No further splits with positive gain, best gain: -inf\n",
      "[LightGBM] [Warning] No further splits with positive gain, best gain: -inf\n",
      "[LightGBM] [Warning] No further splits with positive gain, best gain: -inf\n",
      "Did not meet early stopping. Best iteration is:\n",
      "[100]\tTrain's rmse: 0.144142\tTest's rmse: 0.0249467\n",
      "[LightGBM] [Info] Total Bins 2297\n",
      "[LightGBM] [Info] Number of data points in the train set: 10733, number of used features: 22\n",
      "[LightGBM] [Info] Start training from score 0.394992\n",
      "Training until validation scores don't improve for 50 rounds\n",
      "[LightGBM] [Warning] No further splits with positive gain, best gain: -inf\n",
      "[LightGBM] [Warning] No further splits with positive gain, best gain: -inf\n",
      "[LightGBM] [Warning] No further splits with positive gain, best gain: -inf\n",
      "[LightGBM] [Warning] No further splits with positive gain, best gain: -inf\n",
      "[LightGBM] [Warning] No further splits with positive gain, best gain: -inf\n",
      "[LightGBM] [Warning] No further splits with positive gain, best gain: -inf\n",
      "[LightGBM] [Warning] No further splits with positive gain, best gain: -inf\n",
      "[LightGBM] [Warning] No further splits with positive gain, best gain: -inf\n",
      "[LightGBM] [Warning] No further splits with positive gain, best gain: -inf\n",
      "[LightGBM] [Warning] No further splits with positive gain, best gain: -inf\n",
      "[LightGBM] [Warning] No further splits with positive gain, best gain: -inf\n",
      "[LightGBM] [Warning] No further splits with positive gain, best gain: -inf\n",
      "[LightGBM] [Warning] No further splits with positive gain, best gain: -inf\n",
      "[LightGBM] [Warning] No further splits with positive gain, best gain: -inf\n",
      "[LightGBM] [Warning] No further splits with positive gain, best gain: -inf\n",
      "[LightGBM] [Warning] No further splits with positive gain, best gain: -inf\n",
      "[LightGBM] [Warning] No further splits with positive gain, best gain: -inf\n",
      "[LightGBM] [Warning] No further splits with positive gain, best gain: -inf\n",
      "[LightGBM] [Warning] No further splits with positive gain, best gain: -inf\n",
      "[LightGBM] [Warning] No further splits with positive gain, best gain: -inf\n",
      "[LightGBM] [Warning] No further splits with positive gain, best gain: -inf\n",
      "[LightGBM] [Warning] No further splits with positive gain, best gain: -inf\n",
      "[LightGBM] [Warning] No further splits with positive gain, best gain: -inf\n",
      "[LightGBM] [Warning] No further splits with positive gain, best gain: -inf\n",
      "[LightGBM] [Warning] No further splits with positive gain, best gain: -inf\n",
      "[LightGBM] [Warning] No further splits with positive gain, best gain: -inf\n",
      "[LightGBM] [Warning] No further splits with positive gain, best gain: -inf\n"
     ]
    },
    {
     "name": "stderr",
     "output_type": "stream",
     "text": [
      "\u001b[32m[I 2021-12-27 17:21:47,959]\u001b[0m Trial 56 finished with value: 0.02161559212145763 and parameters: {'lambda_l1': 0.0367520168132472, 'lambda_l2': 0.0002566552957007417}. Best is trial 41 with value: 0.01980554708817279.\u001b[0m\n"
     ]
    },
    {
     "name": "stdout",
     "output_type": "stream",
     "text": [
      "Early stopping, best iteration is:\n",
      "[44]\tTrain's rmse: 0.166888\tTest's rmse: 0.0216156\n",
      "[LightGBM] [Info] Total Bins 2297\n",
      "[LightGBM] [Info] Number of data points in the train set: 10733, number of used features: 22\n",
      "[LightGBM] [Info] Start training from score 0.394992\n",
      "Training until validation scores don't improve for 50 rounds\n"
     ]
    },
    {
     "name": "stderr",
     "output_type": "stream",
     "text": [
      "\u001b[32m[I 2021-12-27 17:21:48,374]\u001b[0m Trial 57 finished with value: 0.02119318460776345 and parameters: {'lambda_l1': 7.200064013440044e-06, 'lambda_l2': 0.0002303814915441166}. Best is trial 41 with value: 0.01980554708817279.\u001b[0m\n"
     ]
    },
    {
     "name": "stdout",
     "output_type": "stream",
     "text": [
      "Early stopping, best iteration is:\n",
      "[43]\tTrain's rmse: 0.167511\tTest's rmse: 0.0211932\n",
      "[LightGBM] [Info] Total Bins 2297\n",
      "[LightGBM] [Info] Number of data points in the train set: 10733, number of used features: 22\n",
      "[LightGBM] [Info] Start training from score 0.394992\n",
      "Training until validation scores don't improve for 50 rounds\n"
     ]
    },
    {
     "name": "stderr",
     "output_type": "stream",
     "text": [
      "\u001b[32m[I 2021-12-27 17:21:48,842]\u001b[0m Trial 58 finished with value: 0.021301642988764587 and parameters: {'lambda_l1': 0.009240804964399949, 'lambda_l2': 0.022110925626663787}. Best is trial 41 with value: 0.01980554708817279.\u001b[0m\n"
     ]
    },
    {
     "name": "stdout",
     "output_type": "stream",
     "text": [
      "Early stopping, best iteration is:\n",
      "[48]\tTrain's rmse: 0.165271\tTest's rmse: 0.0213016\n",
      "[LightGBM] [Info] Total Bins 2297\n",
      "[LightGBM] [Info] Number of data points in the train set: 10733, number of used features: 22\n",
      "[LightGBM] [Info] Start training from score 0.394992\n",
      "[LightGBM] [Warning] No further splits with positive gain, best gain: -inf\n",
      "Training until validation scores don't improve for 50 rounds\n",
      "[LightGBM] [Warning] No further splits with positive gain, best gain: -inf\n",
      "[LightGBM] [Warning] No further splits with positive gain, best gain: -inf\n",
      "[LightGBM] [Warning] No further splits with positive gain, best gain: -inf\n",
      "[LightGBM] [Warning] No further splits with positive gain, best gain: -inf\n",
      "[LightGBM] [Warning] No further splits with positive gain, best gain: -inf\n",
      "[LightGBM] [Warning] No further splits with positive gain, best gain: -inf\n",
      "[LightGBM] [Warning] No further splits with positive gain, best gain: -inf\n",
      "[LightGBM] [Warning] No further splits with positive gain, best gain: -inf\n",
      "[LightGBM] [Warning] No further splits with positive gain, best gain: -inf\n",
      "[LightGBM] [Warning] No further splits with positive gain, best gain: -inf\n",
      "[LightGBM] [Warning] No further splits with positive gain, best gain: -inf\n",
      "[LightGBM] [Warning] No further splits with positive gain, best gain: -inf\n",
      "[LightGBM] [Warning] No further splits with positive gain, best gain: -inf\n",
      "[LightGBM] [Warning] No further splits with positive gain, best gain: -inf\n",
      "[LightGBM] [Warning] No further splits with positive gain, best gain: -inf\n",
      "[LightGBM] [Warning] No further splits with positive gain, best gain: -inf\n",
      "[LightGBM] [Warning] No further splits with positive gain, best gain: -inf\n",
      "[LightGBM] [Warning] No further splits with positive gain, best gain: -inf\n",
      "[LightGBM] [Warning] No further splits with positive gain, best gain: -inf\n",
      "[LightGBM] [Warning] No further splits with positive gain, best gain: -inf\n",
      "[LightGBM] [Warning] No further splits with positive gain, best gain: -inf\n",
      "[LightGBM] [Warning] No further splits with positive gain, best gain: -inf\n",
      "[LightGBM] [Warning] No further splits with positive gain, best gain: -inf\n",
      "[LightGBM] [Warning] No further splits with positive gain, best gain: -inf\n",
      "[LightGBM] [Warning] No further splits with positive gain, best gain: -inf\n",
      "[LightGBM] [Warning] No further splits with positive gain, best gain: -inf\n",
      "[LightGBM] [Warning] No further splits with positive gain, best gain: -inf\n",
      "[LightGBM] [Warning] No further splits with positive gain, best gain: -inf\n",
      "[LightGBM] [Warning] No further splits with positive gain, best gain: -inf\n",
      "[LightGBM] [Warning] No further splits with positive gain, best gain: -inf\n",
      "[LightGBM] [Warning] No further splits with positive gain, best gain: -inf\n",
      "[LightGBM] [Warning] No further splits with positive gain, best gain: -inf\n",
      "[LightGBM] [Warning] No further splits with positive gain, best gain: -inf\n",
      "[LightGBM] [Warning] No further splits with positive gain, best gain: -inf\n",
      "[LightGBM] [Warning] No further splits with positive gain, best gain: -inf\n",
      "[LightGBM] [Warning] No further splits with positive gain, best gain: -inf\n",
      "[LightGBM] [Warning] No further splits with positive gain, best gain: -inf\n",
      "[LightGBM] [Warning] No further splits with positive gain, best gain: -inf\n",
      "[LightGBM] [Warning] No further splits with positive gain, best gain: -inf\n",
      "[LightGBM] [Warning] No further splits with positive gain, best gain: -inf\n",
      "[LightGBM] [Warning] No further splits with positive gain, best gain: -inf\n",
      "[LightGBM] [Warning] No further splits with positive gain, best gain: -inf\n",
      "[LightGBM] [Warning] No further splits with positive gain, best gain: -inf\n",
      "[LightGBM] [Warning] No further splits with positive gain, best gain: -inf\n",
      "[LightGBM] [Warning] No further splits with positive gain, best gain: -inf\n",
      "[LightGBM] [Warning] No further splits with positive gain, best gain: -inf\n",
      "[LightGBM] [Warning] No further splits with positive gain, best gain: -inf\n",
      "[LightGBM] [Warning] No further splits with positive gain, best gain: -inf\n",
      "[LightGBM] [Warning] No further splits with positive gain, best gain: -inf\n",
      "[LightGBM] [Warning] No further splits with positive gain, best gain: -inf\n"
     ]
    },
    {
     "name": "stderr",
     "output_type": "stream",
     "text": [
      "\u001b[32m[I 2021-12-27 17:21:49,168]\u001b[0m Trial 59 finished with value: 0.020510654077396665 and parameters: {'lambda_l1': 0.735221446520545, 'lambda_l2': 2.2061961709352095e-06}. Best is trial 41 with value: 0.01980554708817279.\u001b[0m\n"
     ]
    },
    {
     "name": "stdout",
     "output_type": "stream",
     "text": [
      "[LightGBM] [Warning] No further splits with positive gain, best gain: -inf\n",
      "[LightGBM] [Warning] No further splits with positive gain, best gain: -inf\n",
      "[LightGBM] [Warning] No further splits with positive gain, best gain: -inf\n",
      "[LightGBM] [Warning] No further splits with positive gain, best gain: -inf\n",
      "[LightGBM] [Warning] No further splits with positive gain, best gain: -inf\n",
      "[LightGBM] [Warning] No further splits with positive gain, best gain: -inf\n",
      "[LightGBM] [Warning] No further splits with positive gain, best gain: -inf\n",
      "[LightGBM] [Warning] No further splits with positive gain, best gain: -inf\n",
      "[LightGBM] [Warning] No further splits with positive gain, best gain: -inf\n",
      "[LightGBM] [Warning] No further splits with positive gain, best gain: -inf\n",
      "[LightGBM] [Warning] No further splits with positive gain, best gain: -inf\n",
      "[LightGBM] [Warning] No further splits with positive gain, best gain: -inf\n",
      "[LightGBM] [Warning] No further splits with positive gain, best gain: -inf\n",
      "[LightGBM] [Warning] No further splits with positive gain, best gain: -inf\n",
      "[LightGBM] [Warning] No further splits with positive gain, best gain: -inf\n",
      "[LightGBM] [Warning] No further splits with positive gain, best gain: -inf\n",
      "[LightGBM] [Warning] No further splits with positive gain, best gain: -inf\n",
      "[LightGBM] [Warning] No further splits with positive gain, best gain: -inf\n",
      "[LightGBM] [Warning] No further splits with positive gain, best gain: -inf\n",
      "[LightGBM] [Warning] No further splits with positive gain, best gain: -inf\n",
      "[LightGBM] [Warning] No further splits with positive gain, best gain: -inf\n",
      "[LightGBM] [Warning] No further splits with positive gain, best gain: -inf\n",
      "[LightGBM] [Warning] No further splits with positive gain, best gain: -inf\n",
      "[LightGBM] [Warning] No further splits with positive gain, best gain: -inf\n",
      "[LightGBM] [Warning] No further splits with positive gain, best gain: -inf\n",
      "[LightGBM] [Warning] No further splits with positive gain, best gain: -inf\n",
      "[LightGBM] [Warning] No further splits with positive gain, best gain: -inf\n",
      "[LightGBM] [Warning] No further splits with positive gain, best gain: -inf\n",
      "[LightGBM] [Warning] No further splits with positive gain, best gain: -inf\n",
      "[LightGBM] [Warning] No further splits with positive gain, best gain: -inf\n",
      "[LightGBM] [Warning] No further splits with positive gain, best gain: -inf\n",
      "[LightGBM] [Warning] No further splits with positive gain, best gain: -inf\n",
      "[LightGBM] [Warning] No further splits with positive gain, best gain: -inf\n",
      "[LightGBM] [Warning] No further splits with positive gain, best gain: -inf\n",
      "[LightGBM] [Warning] No further splits with positive gain, best gain: -inf\n",
      "[LightGBM] [Warning] No further splits with positive gain, best gain: -inf\n",
      "[LightGBM] [Warning] No further splits with positive gain, best gain: -inf\n",
      "[LightGBM] [Warning] No further splits with positive gain, best gain: -inf\n",
      "[LightGBM] [Warning] No further splits with positive gain, best gain: -inf\n",
      "[LightGBM] [Warning] No further splits with positive gain, best gain: -inf\n",
      "[LightGBM] [Warning] No further splits with positive gain, best gain: -inf\n",
      "[LightGBM] [Warning] No further splits with positive gain, best gain: -inf\n",
      "[LightGBM] [Warning] No further splits with positive gain, best gain: -inf\n",
      "[LightGBM] [Warning] No further splits with positive gain, best gain: -inf\n",
      "[LightGBM] [Warning] No further splits with positive gain, best gain: -inf\n",
      "Early stopping, best iteration is:\n",
      "[46]\tTrain's rmse: 0.163755\tTest's rmse: 0.0205107\n",
      "[LightGBM] [Info] Total Bins 2297\n",
      "[LightGBM] [Info] Number of data points in the train set: 10733, number of used features: 22\n",
      "[LightGBM] [Info] Start training from score 0.394992\n",
      "[LightGBM] [Warning] No further splits with positive gain, best gain: -inf\n",
      "Training until validation scores don't improve for 50 rounds\n",
      "[LightGBM] [Warning] No further splits with positive gain, best gain: -inf\n",
      "[LightGBM] [Warning] No further splits with positive gain, best gain: -inf\n",
      "[LightGBM] [Warning] No further splits with positive gain, best gain: -inf\n",
      "[LightGBM] [Warning] No further splits with positive gain, best gain: -inf\n",
      "[LightGBM] [Warning] No further splits with positive gain, best gain: -inf\n",
      "[LightGBM] [Warning] No further splits with positive gain, best gain: -inf\n",
      "[LightGBM] [Warning] No further splits with positive gain, best gain: -inf\n",
      "[LightGBM] [Warning] No further splits with positive gain, best gain: -inf\n",
      "[LightGBM] [Warning] No further splits with positive gain, best gain: -inf\n",
      "[LightGBM] [Warning] No further splits with positive gain, best gain: -inf\n",
      "[LightGBM] [Warning] No further splits with positive gain, best gain: -inf\n",
      "[LightGBM] [Warning] No further splits with positive gain, best gain: -inf\n",
      "[LightGBM] [Warning] No further splits with positive gain, best gain: -inf\n",
      "[LightGBM] [Warning] No further splits with positive gain, best gain: -inf\n",
      "[LightGBM] [Warning] No further splits with positive gain, best gain: -inf\n",
      "[LightGBM] [Warning] No further splits with positive gain, best gain: -inf\n",
      "[LightGBM] [Warning] No further splits with positive gain, best gain: -inf\n",
      "[LightGBM] [Warning] No further splits with positive gain, best gain: -inf\n",
      "[LightGBM] [Warning] No further splits with positive gain, best gain: -inf\n",
      "[LightGBM] [Warning] No further splits with positive gain, best gain: -inf\n",
      "[LightGBM] [Warning] No further splits with positive gain, best gain: -inf\n",
      "[LightGBM] [Warning] No further splits with positive gain, best gain: -inf\n",
      "[LightGBM] [Warning] No further splits with positive gain, best gain: -inf\n",
      "[LightGBM] [Warning] No further splits with positive gain, best gain: -inf\n",
      "[LightGBM] [Warning] No further splits with positive gain, best gain: -inf\n",
      "[LightGBM] [Warning] No further splits with positive gain, best gain: -inf\n",
      "[LightGBM] [Warning] No further splits with positive gain, best gain: -inf\n",
      "[LightGBM] [Warning] No further splits with positive gain, best gain: -inf\n",
      "[LightGBM] [Warning] No further splits with positive gain, best gain: -inf\n",
      "[LightGBM] [Warning] No further splits with positive gain, best gain: -inf\n",
      "[LightGBM] [Warning] No further splits with positive gain, best gain: -inf\n",
      "[LightGBM] [Warning] No further splits with positive gain, best gain: -inf\n",
      "[LightGBM] [Warning] No further splits with positive gain, best gain: -inf\n",
      "[LightGBM] [Warning] No further splits with positive gain, best gain: -inf\n",
      "[LightGBM] [Warning] No further splits with positive gain, best gain: -inf\n",
      "[LightGBM] [Warning] No further splits with positive gain, best gain: -inf\n",
      "[LightGBM] [Warning] No further splits with positive gain, best gain: -inf\n",
      "[LightGBM] [Warning] No further splits with positive gain, best gain: -inf\n",
      "[LightGBM] [Warning] No further splits with positive gain, best gain: -inf\n",
      "[LightGBM] [Warning] No further splits with positive gain, best gain: -inf\n",
      "[LightGBM] [Warning] No further splits with positive gain, best gain: -inf\n",
      "[LightGBM] [Warning] No further splits with positive gain, best gain: -inf\n",
      "[LightGBM] [Warning] No further splits with positive gain, best gain: -inf\n",
      "[LightGBM] [Warning] No further splits with positive gain, best gain: -inf\n",
      "[LightGBM] [Warning] No further splits with positive gain, best gain: -inf\n",
      "[LightGBM] [Warning] No further splits with positive gain, best gain: -inf\n",
      "[LightGBM] [Warning] No further splits with positive gain, best gain: -inf\n",
      "[LightGBM] [Warning] No further splits with positive gain, best gain: -inf\n",
      "[LightGBM] [Warning] No further splits with positive gain, best gain: -inf\n",
      "[LightGBM] [Warning] No further splits with positive gain, best gain: -inf\n",
      "[LightGBM] [Warning] No further splits with positive gain, best gain: -inf\n",
      "[LightGBM] [Warning] No further splits with positive gain, best gain: -inf\n",
      "[LightGBM] [Warning] No further splits with positive gain, best gain: -inf\n",
      "[LightGBM] [Warning] No further splits with positive gain, best gain: -inf\n",
      "[LightGBM] [Warning] No further splits with positive gain, best gain: -inf\n",
      "[LightGBM] [Warning] No further splits with positive gain, best gain: -inf\n",
      "[LightGBM] [Warning] No further splits with positive gain, best gain: -inf\n",
      "[LightGBM] [Warning] No further splits with positive gain, best gain: -inf\n",
      "[LightGBM] [Warning] No further splits with positive gain, best gain: -inf\n",
      "[LightGBM] [Warning] No further splits with positive gain, best gain: -inf\n",
      "[LightGBM] [Warning] No further splits with positive gain, best gain: -inf\n"
     ]
    },
    {
     "name": "stderr",
     "output_type": "stream",
     "text": [
      "\u001b[32m[I 2021-12-27 17:21:49,482]\u001b[0m Trial 60 finished with value: 0.026312621247790123 and parameters: {'min_child_samples': 10}. Best is trial 60 with value: 0.026312621247790123.\u001b[0m\n"
     ]
    },
    {
     "name": "stdout",
     "output_type": "stream",
     "text": [
      "[LightGBM] [Warning] No further splits with positive gain, best gain: -inf\n",
      "[LightGBM] [Warning] No further splits with positive gain, best gain: -inf\n",
      "[LightGBM] [Warning] No further splits with positive gain, best gain: -inf\n",
      "[LightGBM] [Warning] No further splits with positive gain, best gain: -inf\n",
      "[LightGBM] [Warning] No further splits with positive gain, best gain: -inf\n",
      "[LightGBM] [Warning] No further splits with positive gain, best gain: -inf\n",
      "[LightGBM] [Warning] No further splits with positive gain, best gain: -inf\n",
      "[LightGBM] [Warning] No further splits with positive gain, best gain: -inf\n",
      "[LightGBM] [Warning] No further splits with positive gain, best gain: -inf\n",
      "[LightGBM] [Warning] No further splits with positive gain, best gain: -inf\n",
      "[LightGBM] [Warning] No further splits with positive gain, best gain: -inf\n",
      "[LightGBM] [Warning] No further splits with positive gain, best gain: -inf\n",
      "[LightGBM] [Warning] No further splits with positive gain, best gain: -inf\n",
      "[LightGBM] [Warning] No further splits with positive gain, best gain: -inf\n",
      "[LightGBM] [Warning] No further splits with positive gain, best gain: -inf\n",
      "[LightGBM] [Warning] No further splits with positive gain, best gain: -inf\n",
      "[LightGBM] [Warning] No further splits with positive gain, best gain: -inf\n",
      "[LightGBM] [Warning] No further splits with positive gain, best gain: -inf\n",
      "Early stopping, best iteration is:\n",
      "[36]\tTrain's rmse: 0.117995\tTest's rmse: 0.0263126\n",
      "[LightGBM] [Info] Total Bins 2297\n",
      "[LightGBM] [Info] Number of data points in the train set: 10733, number of used features: 22\n",
      "[LightGBM] [Info] Start training from score 0.394992\n",
      "[LightGBM] [Warning] No further splits with positive gain, best gain: -inf\n",
      "Training until validation scores don't improve for 50 rounds\n",
      "[LightGBM] [Warning] No further splits with positive gain, best gain: -inf\n",
      "[LightGBM] [Warning] No further splits with positive gain, best gain: -inf\n",
      "[LightGBM] [Warning] No further splits with positive gain, best gain: -inf\n",
      "[LightGBM] [Warning] No further splits with positive gain, best gain: -inf\n",
      "[LightGBM] [Warning] No further splits with positive gain, best gain: -inf\n",
      "[LightGBM] [Warning] No further splits with positive gain, best gain: -inf\n",
      "[LightGBM] [Warning] No further splits with positive gain, best gain: -inf\n",
      "[LightGBM] [Warning] No further splits with positive gain, best gain: -inf\n",
      "[LightGBM] [Warning] No further splits with positive gain, best gain: -inf\n",
      "[LightGBM] [Warning] No further splits with positive gain, best gain: -inf\n",
      "[LightGBM] [Warning] No further splits with positive gain, best gain: -inf\n",
      "[LightGBM] [Warning] No further splits with positive gain, best gain: -inf\n",
      "[LightGBM] [Warning] No further splits with positive gain, best gain: -inf\n",
      "[LightGBM] [Warning] No further splits with positive gain, best gain: -inf\n",
      "[LightGBM] [Warning] No further splits with positive gain, best gain: -inf\n",
      "[LightGBM] [Warning] No further splits with positive gain, best gain: -inf\n",
      "[LightGBM] [Warning] No further splits with positive gain, best gain: -inf\n"
     ]
    },
    {
     "name": "stderr",
     "output_type": "stream",
     "text": [
      "\u001b[32m[I 2021-12-27 17:21:49,730]\u001b[0m Trial 61 finished with value: 0.05513880140302135 and parameters: {'min_child_samples': 50}. Best is trial 60 with value: 0.026312621247790123.\u001b[0m\n"
     ]
    },
    {
     "name": "stdout",
     "output_type": "stream",
     "text": [
      "[LightGBM] [Warning] No further splits with positive gain, best gain: -inf\n",
      "[LightGBM] [Warning] No further splits with positive gain, best gain: -inf\n",
      "[LightGBM] [Warning] No further splits with positive gain, best gain: -inf\n",
      "[LightGBM] [Warning] No further splits with positive gain, best gain: -inf\n",
      "[LightGBM] [Warning] No further splits with positive gain, best gain: -inf\n",
      "[LightGBM] [Warning] No further splits with positive gain, best gain: -inf\n",
      "[LightGBM] [Warning] No further splits with positive gain, best gain: -inf\n",
      "[LightGBM] [Warning] No further splits with positive gain, best gain: -inf\n",
      "[LightGBM] [Warning] No further splits with positive gain, best gain: -inf\n",
      "[LightGBM] [Warning] No further splits with positive gain, best gain: -inf\n",
      "[LightGBM] [Warning] No further splits with positive gain, best gain: -inf\n",
      "[LightGBM] [Warning] No further splits with positive gain, best gain: -inf\n",
      "[LightGBM] [Warning] No further splits with positive gain, best gain: -inf\n",
      "[LightGBM] [Warning] No further splits with positive gain, best gain: -inf\n",
      "[LightGBM] [Warning] No further splits with positive gain, best gain: -inf\n",
      "[LightGBM] [Warning] No further splits with positive gain, best gain: -inf\n",
      "[LightGBM] [Warning] No further splits with positive gain, best gain: -inf\n",
      "[LightGBM] [Warning] No further splits with positive gain, best gain: -inf\n",
      "[LightGBM] [Warning] No further splits with positive gain, best gain: -inf\n",
      "[LightGBM] [Warning] No further splits with positive gain, best gain: -inf\n",
      "[LightGBM] [Warning] No further splits with positive gain, best gain: -inf\n",
      "[LightGBM] [Warning] No further splits with positive gain, best gain: -inf\n",
      "[LightGBM] [Warning] No further splits with positive gain, best gain: -inf\n",
      "[LightGBM] [Warning] No further splits with positive gain, best gain: -inf\n",
      "[LightGBM] [Warning] No further splits with positive gain, best gain: -inf\n",
      "[LightGBM] [Warning] No further splits with positive gain, best gain: -inf\n",
      "[LightGBM] [Warning] No further splits with positive gain, best gain: -inf\n",
      "[LightGBM] [Warning] No further splits with positive gain, best gain: -inf\n",
      "[LightGBM] [Warning] No further splits with positive gain, best gain: -inf\n",
      "[LightGBM] [Warning] No further splits with positive gain, best gain: -inf\n",
      "[LightGBM] [Warning] No further splits with positive gain, best gain: -inf\n",
      "[LightGBM] [Warning] No further splits with positive gain, best gain: -inf\n",
      "[LightGBM] [Warning] No further splits with positive gain, best gain: -inf\n",
      "[LightGBM] [Warning] No further splits with positive gain, best gain: -inf\n",
      "[LightGBM] [Warning] No further splits with positive gain, best gain: -inf\n",
      "[LightGBM] [Warning] No further splits with positive gain, best gain: -inf\n",
      "[LightGBM] [Warning] No further splits with positive gain, best gain: -inf\n",
      "[LightGBM] [Warning] No further splits with positive gain, best gain: -inf\n",
      "[LightGBM] [Warning] No further splits with positive gain, best gain: -inf\n",
      "[LightGBM] [Warning] No further splits with positive gain, best gain: -inf\n",
      "[LightGBM] [Warning] No further splits with positive gain, best gain: -inf\n",
      "[LightGBM] [Warning] No further splits with positive gain, best gain: -inf\n",
      "[LightGBM] [Warning] No further splits with positive gain, best gain: -inf\n",
      "[LightGBM] [Warning] No further splits with positive gain, best gain: -inf\n",
      "[LightGBM] [Warning] No further splits with positive gain, best gain: -inf\n",
      "[LightGBM] [Warning] No further splits with positive gain, best gain: -inf\n",
      "[LightGBM] [Warning] No further splits with positive gain, best gain: -inf\n",
      "[LightGBM] [Warning] No further splits with positive gain, best gain: -inf\n",
      "[LightGBM] [Warning] No further splits with positive gain, best gain: -inf\n",
      "[LightGBM] [Warning] No further splits with positive gain, best gain: -inf\n",
      "[LightGBM] [Warning] No further splits with positive gain, best gain: -inf\n",
      "[LightGBM] [Warning] No further splits with positive gain, best gain: -inf\n",
      "[LightGBM] [Warning] No further splits with positive gain, best gain: -inf\n",
      "[LightGBM] [Warning] No further splits with positive gain, best gain: -inf\n",
      "[LightGBM] [Warning] No further splits with positive gain, best gain: -inf\n",
      "[LightGBM] [Warning] No further splits with positive gain, best gain: -inf\n",
      "[LightGBM] [Warning] No further splits with positive gain, best gain: -inf\n",
      "[LightGBM] [Warning] No further splits with positive gain, best gain: -inf\n",
      "[LightGBM] [Warning] No further splits with positive gain, best gain: -inf\n",
      "[LightGBM] [Warning] No further splits with positive gain, best gain: -inf\n",
      "[LightGBM] [Warning] No further splits with positive gain, best gain: -inf\n",
      "[LightGBM] [Warning] No further splits with positive gain, best gain: -inf\n",
      "[LightGBM] [Warning] No further splits with positive gain, best gain: -inf\n",
      "[LightGBM] [Warning] No further splits with positive gain, best gain: -inf\n",
      "[LightGBM] [Warning] No further splits with positive gain, best gain: -inf\n",
      "[LightGBM] [Warning] No further splits with positive gain, best gain: -inf\n",
      "[LightGBM] [Warning] No further splits with positive gain, best gain: -inf\n",
      "Early stopping, best iteration is:\n",
      "[35]\tTrain's rmse: 0.256203\tTest's rmse: 0.0551388\n",
      "[LightGBM] [Info] Total Bins 2297\n",
      "[LightGBM] [Info] Number of data points in the train set: 10733, number of used features: 22\n",
      "[LightGBM] [Info] Start training from score 0.394992\n",
      "[LightGBM] [Warning] No further splits with positive gain, best gain: -inf\n",
      "Training until validation scores don't improve for 50 rounds\n",
      "[LightGBM] [Warning] No further splits with positive gain, best gain: -inf\n",
      "[LightGBM] [Warning] No further splits with positive gain, best gain: -inf\n",
      "[LightGBM] [Warning] No further splits with positive gain, best gain: -inf\n",
      "[LightGBM] [Warning] No further splits with positive gain, best gain: -inf\n",
      "[LightGBM] [Warning] No further splits with positive gain, best gain: -inf\n",
      "[LightGBM] [Warning] No further splits with positive gain, best gain: -inf\n",
      "[LightGBM] [Warning] No further splits with positive gain, best gain: -inf\n",
      "[LightGBM] [Warning] No further splits with positive gain, best gain: -inf\n",
      "[LightGBM] [Warning] No further splits with positive gain, best gain: -inf\n",
      "[LightGBM] [Warning] No further splits with positive gain, best gain: -inf\n",
      "[LightGBM] [Warning] No further splits with positive gain, best gain: -inf\n",
      "[LightGBM] [Warning] No further splits with positive gain, best gain: -inf\n",
      "[LightGBM] [Warning] No further splits with positive gain, best gain: -inf\n",
      "[LightGBM] [Warning] No further splits with positive gain, best gain: -inf\n",
      "[LightGBM] [Warning] No further splits with positive gain, best gain: -inf\n",
      "[LightGBM] [Warning] No further splits with positive gain, best gain: -inf\n",
      "[LightGBM] [Warning] No further splits with positive gain, best gain: -inf\n",
      "[LightGBM] [Warning] No further splits with positive gain, best gain: -inf\n",
      "[LightGBM] [Warning] No further splits with positive gain, best gain: -inf\n",
      "[LightGBM] [Warning] No further splits with positive gain, best gain: -inf\n",
      "[LightGBM] [Warning] No further splits with positive gain, best gain: -inf\n",
      "[LightGBM] [Warning] No further splits with positive gain, best gain: -inf\n",
      "[LightGBM] [Warning] No further splits with positive gain, best gain: -inf\n",
      "[LightGBM] [Warning] No further splits with positive gain, best gain: -inf\n",
      "[LightGBM] [Warning] No further splits with positive gain, best gain: -inf\n",
      "[LightGBM] [Warning] No further splits with positive gain, best gain: -inf\n",
      "[LightGBM] [Warning] No further splits with positive gain, best gain: -inf\n",
      "[LightGBM] [Warning] No further splits with positive gain, best gain: -inf\n",
      "[LightGBM] [Warning] No further splits with positive gain, best gain: -inf\n",
      "[LightGBM] [Warning] No further splits with positive gain, best gain: -inf\n",
      "[LightGBM] [Warning] No further splits with positive gain, best gain: -inf\n",
      "[LightGBM] [Warning] No further splits with positive gain, best gain: -inf\n",
      "[LightGBM] [Warning] No further splits with positive gain, best gain: -inf\n",
      "[LightGBM] [Warning] No further splits with positive gain, best gain: -inf\n",
      "[LightGBM] [Warning] No further splits with positive gain, best gain: -inf\n",
      "[LightGBM] [Warning] No further splits with positive gain, best gain: -inf\n",
      "[LightGBM] [Warning] No further splits with positive gain, best gain: -inf\n",
      "[LightGBM] [Warning] No further splits with positive gain, best gain: -inf\n",
      "[LightGBM] [Warning] No further splits with positive gain, best gain: -inf\n",
      "[LightGBM] [Warning] No further splits with positive gain, best gain: -inf\n",
      "[LightGBM] [Warning] No further splits with positive gain, best gain: -inf\n",
      "[LightGBM] [Warning] No further splits with positive gain, best gain: -inf\n",
      "[LightGBM] [Warning] No further splits with positive gain, best gain: -inf\n",
      "[LightGBM] [Warning] No further splits with positive gain, best gain: -inf\n",
      "[LightGBM] [Warning] No further splits with positive gain, best gain: -inf\n",
      "[LightGBM] [Warning] No further splits with positive gain, best gain: -inf\n",
      "[LightGBM] [Warning] No further splits with positive gain, best gain: -inf\n",
      "[LightGBM] [Warning] No further splits with positive gain, best gain: -inf\n",
      "[LightGBM] [Warning] No further splits with positive gain, best gain: -inf\n",
      "[LightGBM] [Warning] No further splits with positive gain, best gain: -inf\n",
      "[LightGBM] [Warning] No further splits with positive gain, best gain: -inf\n",
      "[LightGBM] [Warning] No further splits with positive gain, best gain: -inf\n",
      "[LightGBM] [Warning] No further splits with positive gain, best gain: -inf\n",
      "[LightGBM] [Warning] No further splits with positive gain, best gain: -inf\n",
      "[LightGBM] [Warning] No further splits with positive gain, best gain: -inf\n",
      "[LightGBM] [Warning] No further splits with positive gain, best gain: -inf\n",
      "[LightGBM] [Warning] No further splits with positive gain, best gain: -inf\n",
      "[LightGBM] [Warning] No further splits with positive gain, best gain: -inf\n",
      "[LightGBM] [Warning] No further splits with positive gain, best gain: -inf\n",
      "[LightGBM] [Warning] No further splits with positive gain, best gain: -inf\n",
      "[LightGBM] [Warning] No further splits with positive gain, best gain: -inf\n",
      "[LightGBM] [Warning] No further splits with positive gain, best gain: -inf\n",
      "[LightGBM] [Warning] No further splits with positive gain, best gain: -inf\n",
      "[LightGBM] [Warning] No further splits with positive gain, best gain: -inf\n",
      "[LightGBM] [Warning] No further splits with positive gain, best gain: -inf\n",
      "[LightGBM] [Warning] No further splits with positive gain, best gain: -inf\n",
      "[LightGBM] [Warning] No further splits with positive gain, best gain: -inf\n",
      "[LightGBM] [Warning] No further splits with positive gain, best gain: -inf\n",
      "[LightGBM] [Warning] No further splits with positive gain, best gain: -inf\n",
      "[LightGBM] [Warning] No further splits with positive gain, best gain: -inf\n",
      "[LightGBM] [Warning] No further splits with positive gain, best gain: -inf\n",
      "[LightGBM] [Warning] No further splits with positive gain, best gain: -inf\n",
      "[LightGBM] [Warning] No further splits with positive gain, best gain: -inf\n",
      "[LightGBM] [Warning] No further splits with positive gain, best gain: -inf\n",
      "[LightGBM] [Warning] No further splits with positive gain, best gain: -inf\n",
      "[LightGBM] [Warning] No further splits with positive gain, best gain: -inf\n",
      "[LightGBM] [Warning] No further splits with positive gain, best gain: -inf\n",
      "[LightGBM] [Warning] No further splits with positive gain, best gain: -inf\n",
      "[LightGBM] [Warning] No further splits with positive gain, best gain: -inf\n",
      "[LightGBM] [Warning] No further splits with positive gain, best gain: -inf\n",
      "[LightGBM] [Warning] No further splits with positive gain, best gain: -inf\n",
      "[LightGBM] [Warning] No further splits with positive gain, best gain: -inf\n",
      "[LightGBM] [Warning] No further splits with positive gain, best gain: -inf\n",
      "[LightGBM] [Warning] No further splits with positive gain, best gain: -inf\n",
      "[LightGBM] [Warning] No further splits with positive gain, best gain: -inf\n",
      "[LightGBM] [Warning] No further splits with positive gain, best gain: -inf\n",
      "[LightGBM] [Warning] No further splits with positive gain, best gain: -inf\n"
     ]
    },
    {
     "name": "stderr",
     "output_type": "stream",
     "text": [
      "\u001b[32m[I 2021-12-27 17:21:50,003]\u001b[0m Trial 62 finished with value: 0.08629783524106108 and parameters: {'min_child_samples': 100}. Best is trial 60 with value: 0.026312621247790123.\u001b[0m\n"
     ]
    },
    {
     "name": "stdout",
     "output_type": "stream",
     "text": [
      "[LightGBM] [Warning] No further splits with positive gain, best gain: -inf\n",
      "[LightGBM] [Warning] No further splits with positive gain, best gain: -inf\n",
      "[LightGBM] [Warning] No further splits with positive gain, best gain: -inf\n",
      "[LightGBM] [Warning] No further splits with positive gain, best gain: -inf\n",
      "[LightGBM] [Warning] No further splits with positive gain, best gain: -inf\n",
      "[LightGBM] [Warning] No further splits with positive gain, best gain: -inf\n",
      "[LightGBM] [Warning] No further splits with positive gain, best gain: -inf\n",
      "[LightGBM] [Warning] No further splits with positive gain, best gain: -inf\n",
      "[LightGBM] [Warning] No further splits with positive gain, best gain: -inf\n",
      "[LightGBM] [Warning] No further splits with positive gain, best gain: -inf\n",
      "[LightGBM] [Warning] No further splits with positive gain, best gain: -inf\n",
      "[LightGBM] [Warning] No further splits with positive gain, best gain: -inf\n",
      "Did not meet early stopping. Best iteration is:\n",
      "[100]\tTrain's rmse: 0.292963\tTest's rmse: 0.0862978\n",
      "[LightGBM] [Info] Total Bins 2297\n",
      "[LightGBM] [Info] Number of data points in the train set: 10733, number of used features: 22\n",
      "[LightGBM] [Info] Start training from score 0.394992\n",
      "[LightGBM] [Warning] No further splits with positive gain, best gain: -inf\n",
      "Training until validation scores don't improve for 50 rounds\n",
      "[LightGBM] [Warning] No further splits with positive gain, best gain: -inf\n",
      "[LightGBM] [Warning] No further splits with positive gain, best gain: -inf\n",
      "[LightGBM] [Warning] No further splits with positive gain, best gain: -inf\n",
      "[LightGBM] [Warning] No further splits with positive gain, best gain: -inf\n",
      "[LightGBM] [Warning] No further splits with positive gain, best gain: -inf\n",
      "[LightGBM] [Warning] No further splits with positive gain, best gain: -inf\n",
      "[LightGBM] [Warning] No further splits with positive gain, best gain: -inf\n",
      "[LightGBM] [Warning] No further splits with positive gain, best gain: -inf\n",
      "[LightGBM] [Warning] No further splits with positive gain, best gain: -inf\n",
      "[LightGBM] [Warning] No further splits with positive gain, best gain: -inf\n",
      "[LightGBM] [Warning] No further splits with positive gain, best gain: -inf\n",
      "[LightGBM] [Warning] No further splits with positive gain, best gain: -inf\n",
      "[LightGBM] [Warning] No further splits with positive gain, best gain: -inf\n",
      "[LightGBM] [Warning] No further splits with positive gain, best gain: -inf\n",
      "[LightGBM] [Warning] No further splits with positive gain, best gain: -inf\n",
      "[LightGBM] [Warning] No further splits with positive gain, best gain: -inf\n",
      "[LightGBM] [Warning] No further splits with positive gain, best gain: -inf\n",
      "[LightGBM] [Warning] No further splits with positive gain, best gain: -inf\n",
      "[LightGBM] [Warning] No further splits with positive gain, best gain: -inf\n",
      "[LightGBM] [Warning] No further splits with positive gain, best gain: -inf\n",
      "[LightGBM] [Warning] No further splits with positive gain, best gain: -inf\n",
      "[LightGBM] [Warning] No further splits with positive gain, best gain: -inf\n",
      "[LightGBM] [Warning] No further splits with positive gain, best gain: -inf\n",
      "[LightGBM] [Warning] No further splits with positive gain, best gain: -inf\n",
      "[LightGBM] [Warning] No further splits with positive gain, best gain: -inf\n",
      "[LightGBM] [Warning] No further splits with positive gain, best gain: -inf\n",
      "[LightGBM] [Warning] No further splits with positive gain, best gain: -inf\n",
      "[LightGBM] [Warning] No further splits with positive gain, best gain: -inf\n",
      "[LightGBM] [Warning] No further splits with positive gain, best gain: -inf\n",
      "[LightGBM] [Warning] No further splits with positive gain, best gain: -inf\n",
      "[LightGBM] [Warning] No further splits with positive gain, best gain: -inf\n",
      "[LightGBM] [Warning] No further splits with positive gain, best gain: -inf\n",
      "[LightGBM] [Warning] No further splits with positive gain, best gain: -inf\n",
      "[LightGBM] [Warning] No further splits with positive gain, best gain: -inf\n",
      "[LightGBM] [Warning] No further splits with positive gain, best gain: -inf\n",
      "[LightGBM] [Warning] No further splits with positive gain, best gain: -inf\n",
      "[LightGBM] [Warning] No further splits with positive gain, best gain: -inf\n",
      "[LightGBM] [Warning] No further splits with positive gain, best gain: -inf\n",
      "[LightGBM] [Warning] No further splits with positive gain, best gain: -inf\n",
      "[LightGBM] [Warning] No further splits with positive gain, best gain: -inf\n",
      "[LightGBM] [Warning] No further splits with positive gain, best gain: -inf\n",
      "[LightGBM] [Warning] No further splits with positive gain, best gain: -inf\n",
      "[LightGBM] [Warning] No further splits with positive gain, best gain: -inf\n",
      "[LightGBM] [Warning] No further splits with positive gain, best gain: -inf\n",
      "[LightGBM] [Warning] No further splits with positive gain, best gain: -inf\n",
      "[LightGBM] [Warning] No further splits with positive gain, best gain: -inf\n",
      "[LightGBM] [Warning] No further splits with positive gain, best gain: -inf\n",
      "[LightGBM] [Warning] No further splits with positive gain, best gain: -inf\n",
      "[LightGBM] [Warning] No further splits with positive gain, best gain: -inf\n",
      "[LightGBM] [Warning] No further splits with positive gain, best gain: -inf\n",
      "[LightGBM] [Warning] No further splits with positive gain, best gain: -inf\n",
      "[LightGBM] [Warning] No further splits with positive gain, best gain: -inf\n",
      "[LightGBM] [Warning] No further splits with positive gain, best gain: -inf\n",
      "[LightGBM] [Warning] No further splits with positive gain, best gain: -inf\n",
      "[LightGBM] [Warning] No further splits with positive gain, best gain: -inf\n",
      "[LightGBM] [Warning] No further splits with positive gain, best gain: -inf\n",
      "[LightGBM] [Warning] No further splits with positive gain, best gain: -inf\n",
      "[LightGBM] [Warning] No further splits with positive gain, best gain: -inf\n",
      "[LightGBM] [Warning] No further splits with positive gain, best gain: -inf\n",
      "[LightGBM] [Warning] No further splits with positive gain, best gain: -inf\n",
      "[LightGBM] [Warning] No further splits with positive gain, best gain: -inf\n",
      "[LightGBM] [Warning] No further splits with positive gain, best gain: -inf\n",
      "[LightGBM] [Warning] No further splits with positive gain, best gain: -inf\n",
      "[LightGBM] [Warning] No further splits with positive gain, best gain: -inf\n",
      "[LightGBM] [Warning] No further splits with positive gain, best gain: -inf\n",
      "[LightGBM] [Warning] No further splits with positive gain, best gain: -inf\n",
      "[LightGBM] [Warning] No further splits with positive gain, best gain: -inf\n",
      "[LightGBM] [Warning] No further splits with positive gain, best gain: -inf\n",
      "[LightGBM] [Warning] No further splits with positive gain, best gain: -inf\n",
      "[LightGBM] [Warning] No further splits with positive gain, best gain: -inf\n",
      "[LightGBM] [Warning] No further splits with positive gain, best gain: -inf\n",
      "[LightGBM] [Warning] No further splits with positive gain, best gain: -inf\n",
      "[LightGBM] [Warning] No further splits with positive gain, best gain: -inf\n",
      "[LightGBM] [Warning] No further splits with positive gain, best gain: -inf\n",
      "[LightGBM] [Warning] No further splits with positive gain, best gain: -inf\n",
      "[LightGBM] [Warning] No further splits with positive gain, best gain: -inf\n",
      "[LightGBM] [Warning] No further splits with positive gain, best gain: -inf\n",
      "[LightGBM] [Warning] No further splits with positive gain, best gain: -inf\n"
     ]
    },
    {
     "name": "stderr",
     "output_type": "stream",
     "text": [
      "\u001b[32m[I 2021-12-27 17:21:50,374]\u001b[0m Trial 63 finished with value: 0.02362705096285662 and parameters: {'min_child_samples': 5}. Best is trial 63 with value: 0.02362705096285662.\u001b[0m\n"
     ]
    },
    {
     "name": "stdout",
     "output_type": "stream",
     "text": [
      "[LightGBM] [Warning] No further splits with positive gain, best gain: -inf\n",
      "[LightGBM] [Warning] No further splits with positive gain, best gain: -inf\n",
      "[LightGBM] [Warning] No further splits with positive gain, best gain: -inf\n",
      "[LightGBM] [Warning] No further splits with positive gain, best gain: -inf\n",
      "[LightGBM] [Warning] No further splits with positive gain, best gain: -inf\n",
      "[LightGBM] [Warning] No further splits with positive gain, best gain: -inf\n",
      "[LightGBM] [Warning] No further splits with positive gain, best gain: -inf\n",
      "[LightGBM] [Warning] No further splits with positive gain, best gain: -inf\n",
      "Did not meet early stopping. Best iteration is:\n",
      "[100]\tTrain's rmse: 0.0217359\tTest's rmse: 0.0236271\n",
      "[LightGBM] [Info] Total Bins 2297\n",
      "[LightGBM] [Info] Number of data points in the train set: 10733, number of used features: 22\n",
      "[LightGBM] [Info] Start training from score 0.394992\n",
      "[LightGBM] [Warning] No further splits with positive gain, best gain: -inf\n",
      "Training until validation scores don't improve for 50 rounds\n",
      "[LightGBM] [Warning] No further splits with positive gain, best gain: -inf\n",
      "[LightGBM] [Warning] No further splits with positive gain, best gain: -inf\n",
      "[LightGBM] [Warning] No further splits with positive gain, best gain: -inf\n",
      "[LightGBM] [Warning] No further splits with positive gain, best gain: -inf\n",
      "[LightGBM] [Warning] No further splits with positive gain, best gain: -inf\n",
      "[LightGBM] [Warning] No further splits with positive gain, best gain: -inf\n",
      "[LightGBM] [Warning] No further splits with positive gain, best gain: -inf\n",
      "[LightGBM] [Warning] No further splits with positive gain, best gain: -inf\n",
      "[LightGBM] [Warning] No further splits with positive gain, best gain: -inf\n",
      "[LightGBM] [Warning] No further splits with positive gain, best gain: -inf\n",
      "[LightGBM] [Warning] No further splits with positive gain, best gain: -inf\n",
      "[LightGBM] [Warning] No further splits with positive gain, best gain: -inf\n",
      "[LightGBM] [Warning] No further splits with positive gain, best gain: -inf\n",
      "[LightGBM] [Warning] No further splits with positive gain, best gain: -inf\n",
      "[LightGBM] [Warning] No further splits with positive gain, best gain: -inf\n",
      "[LightGBM] [Warning] No further splits with positive gain, best gain: -inf\n",
      "[LightGBM] [Warning] No further splits with positive gain, best gain: -inf\n",
      "[LightGBM] [Warning] No further splits with positive gain, best gain: -inf\n",
      "[LightGBM] [Warning] No further splits with positive gain, best gain: -inf\n",
      "[LightGBM] [Warning] No further splits with positive gain, best gain: -inf\n",
      "[LightGBM] [Warning] No further splits with positive gain, best gain: -inf\n",
      "[LightGBM] [Warning] No further splits with positive gain, best gain: -inf\n",
      "[LightGBM] [Warning] No further splits with positive gain, best gain: -inf\n",
      "[LightGBM] [Warning] No further splits with positive gain, best gain: -inf\n",
      "[LightGBM] [Warning] No further splits with positive gain, best gain: -inf\n",
      "[LightGBM] [Warning] No further splits with positive gain, best gain: -inf\n",
      "[LightGBM] [Warning] No further splits with positive gain, best gain: -inf\n",
      "[LightGBM] [Warning] No further splits with positive gain, best gain: -inf\n",
      "[LightGBM] [Warning] No further splits with positive gain, best gain: -inf\n"
     ]
    },
    {
     "name": "stderr",
     "output_type": "stream",
     "text": [
      "\u001b[32m[I 2021-12-27 17:21:50,685]\u001b[0m Trial 64 finished with value: 0.02655349619239846 and parameters: {'min_child_samples': 25}. Best is trial 63 with value: 0.02362705096285662.\u001b[0m\n"
     ]
    },
    {
     "name": "stdout",
     "output_type": "stream",
     "text": [
      "[LightGBM] [Warning] No further splits with positive gain, best gain: -inf\n",
      "[LightGBM] [Warning] No further splits with positive gain, best gain: -inf\n",
      "[LightGBM] [Warning] No further splits with positive gain, best gain: -inf\n",
      "[LightGBM] [Warning] No further splits with positive gain, best gain: -inf\n",
      "[LightGBM] [Warning] No further splits with positive gain, best gain: -inf\n",
      "[LightGBM] [Warning] No further splits with positive gain, best gain: -inf\n",
      "[LightGBM] [Warning] No further splits with positive gain, best gain: -inf\n",
      "[LightGBM] [Warning] No further splits with positive gain, best gain: -inf\n",
      "[LightGBM] [Warning] No further splits with positive gain, best gain: -inf\n",
      "[LightGBM] [Warning] No further splits with positive gain, best gain: -inf\n",
      "[LightGBM] [Warning] No further splits with positive gain, best gain: -inf\n",
      "[LightGBM] [Warning] No further splits with positive gain, best gain: -inf\n",
      "[LightGBM] [Warning] No further splits with positive gain, best gain: -inf\n",
      "[LightGBM] [Warning] No further splits with positive gain, best gain: -inf\n",
      "[LightGBM] [Warning] No further splits with positive gain, best gain: -inf\n",
      "[LightGBM] [Warning] No further splits with positive gain, best gain: -inf\n",
      "[LightGBM] [Warning] No further splits with positive gain, best gain: -inf\n",
      "[LightGBM] [Warning] No further splits with positive gain, best gain: -inf\n",
      "[LightGBM] [Warning] No further splits with positive gain, best gain: -inf\n",
      "[LightGBM] [Warning] No further splits with positive gain, best gain: -inf\n",
      "[LightGBM] [Warning] No further splits with positive gain, best gain: -inf\n",
      "[LightGBM] [Warning] No further splits with positive gain, best gain: -inf\n",
      "[LightGBM] [Warning] No further splits with positive gain, best gain: -inf\n",
      "[LightGBM] [Warning] No further splits with positive gain, best gain: -inf\n",
      "[LightGBM] [Warning] No further splits with positive gain, best gain: -inf\n",
      "[LightGBM] [Warning] No further splits with positive gain, best gain: -inf\n",
      "[LightGBM] [Warning] No further splits with positive gain, best gain: -inf\n",
      "[LightGBM] [Warning] No further splits with positive gain, best gain: -inf\n",
      "[LightGBM] [Warning] No further splits with positive gain, best gain: -inf\n",
      "[LightGBM] [Warning] No further splits with positive gain, best gain: -inf\n",
      "[LightGBM] [Warning] No further splits with positive gain, best gain: -inf\n",
      "[LightGBM] [Warning] No further splits with positive gain, best gain: -inf\n",
      "[LightGBM] [Warning] No further splits with positive gain, best gain: -inf\n",
      "[LightGBM] [Warning] No further splits with positive gain, best gain: -inf\n",
      "[LightGBM] [Warning] No further splits with positive gain, best gain: -inf\n",
      "[LightGBM] [Warning] No further splits with positive gain, best gain: -inf\n",
      "[LightGBM] [Warning] No further splits with positive gain, best gain: -inf\n",
      "[LightGBM] [Warning] No further splits with positive gain, best gain: -inf\n",
      "[LightGBM] [Warning] No further splits with positive gain, best gain: -inf\n",
      "[LightGBM] [Warning] No further splits with positive gain, best gain: -inf\n",
      "[LightGBM] [Warning] No further splits with positive gain, best gain: -inf\n",
      "[LightGBM] [Warning] No further splits with positive gain, best gain: -inf\n",
      "[LightGBM] [Warning] No further splits with positive gain, best gain: -inf\n",
      "[LightGBM] [Warning] No further splits with positive gain, best gain: -inf\n",
      "[LightGBM] [Warning] No further splits with positive gain, best gain: -inf\n",
      "[LightGBM] [Warning] No further splits with positive gain, best gain: -inf\n",
      "[LightGBM] [Warning] No further splits with positive gain, best gain: -inf\n",
      "[LightGBM] [Warning] No further splits with positive gain, best gain: -inf\n",
      "[LightGBM] [Warning] No further splits with positive gain, best gain: -inf\n",
      "[LightGBM] [Warning] No further splits with positive gain, best gain: -inf\n",
      "[LightGBM] [Warning] No further splits with positive gain, best gain: -inf\n",
      "[LightGBM] [Warning] No further splits with positive gain, best gain: -inf\n",
      "[LightGBM] [Warning] No further splits with positive gain, best gain: -inf\n",
      "[LightGBM] [Warning] No further splits with positive gain, best gain: -inf\n",
      "[LightGBM] [Warning] No further splits with positive gain, best gain: -inf\n",
      "[LightGBM] [Warning] No further splits with positive gain, best gain: -inf\n",
      "[LightGBM] [Warning] No further splits with positive gain, best gain: -inf\n",
      "[LightGBM] [Warning] No further splits with positive gain, best gain: -inf\n",
      "[LightGBM] [Warning] No further splits with positive gain, best gain: -inf\n",
      "[LightGBM] [Warning] No further splits with positive gain, best gain: -inf\n",
      "[LightGBM] [Warning] No further splits with positive gain, best gain: -inf\n",
      "Early stopping, best iteration is:\n",
      "[41]\tTrain's rmse: 0.177331\tTest's rmse: 0.0265535\n"
     ]
    },
    {
     "data": {
      "image/png": "[encoded data removed]",
      "text/plain": [
       "<Figure size 432x288 with 1 Axes>"
      ]
     },
     "metadata": {
      "needs_background": "light"
     },
     "output_type": "display_data"
    },
    {
     "name": "stderr",
     "output_type": "stream",
     "text": [
      "\u001b[32m[I 2021-12-27 17:21:50,933]\u001b[0m A new study created in memory with name: no-name-139bd9fc-b4e0-4c1c-9b11-ec6f59f29e65\u001b[0m\n"
     ]
    },
    {
     "name": "stdout",
     "output_type": "stream",
     "text": [
      "[LightGBM] [Info] Total Bins 2287\n",
      "[LightGBM] [Info] Number of data points in the train set: 10820, number of used features: 22\n",
      "[LightGBM] [Info] Start training from score 0.352462\n",
      "Training until validation scores don't improve for 50 rounds\n"
     ]
    },
    {
     "name": "stderr",
     "output_type": "stream",
     "text": [
      "\u001b[32m[I 2021-12-27 17:21:51,205]\u001b[0m Trial 0 finished with value: 0.3912741168845798 and parameters: {'feature_fraction': 0.8}. Best is trial 0 with value: 0.3912741168845798.\u001b[0m\n"
     ]
    },
    {
     "name": "stdout",
     "output_type": "stream",
     "text": [
      "Early stopping, best iteration is:\n",
      "[42]\tTrain's rmse: 0.154665\tTest's rmse: 0.391274\n",
      "[LightGBM] [Info] Total Bins 2287\n",
      "[LightGBM] [Info] Number of data points in the train set: 10820, number of used features: 22\n",
      "[LightGBM] [Info] Start training from score 0.352462\n",
      "Training until validation scores don't improve for 50 rounds\n"
     ]
    },
    {
     "name": "stderr",
     "output_type": "stream",
     "text": [
      "\u001b[32m[I 2021-12-27 17:21:51,510]\u001b[0m Trial 1 finished with value: 0.3730328037776354 and parameters: {'feature_fraction': 1.0}. Best is trial 1 with value: 0.3730328037776354.\u001b[0m\n"
     ]
    },
    {
     "name": "stdout",
     "output_type": "stream",
     "text": [
      "Early stopping, best iteration is:\n",
      "[32]\tTrain's rmse: 0.15906\tTest's rmse: 0.373033\n",
      "[LightGBM] [Info] Total Bins 2287\n",
      "[LightGBM] [Info] Number of data points in the train set: 10820, number of used features: 22\n",
      "[LightGBM] [Info] Start training from score 0.352462\n",
      "Training until validation scores don't improve for 50 rounds\n"
     ]
    },
    {
     "name": "stderr",
     "output_type": "stream",
     "text": [
      "\u001b[32m[I 2021-12-27 17:21:51,785]\u001b[0m Trial 2 finished with value: 0.41867181945067966 and parameters: {'feature_fraction': 0.5}. Best is trial 1 with value: 0.3730328037776354.\u001b[0m\n"
     ]
    },
    {
     "name": "stdout",
     "output_type": "stream",
     "text": [
      "Did not meet early stopping. Best iteration is:\n",
      "[100]\tTrain's rmse: 0.121956\tTest's rmse: 0.418672\n",
      "[LightGBM] [Info] Total Bins 2287\n",
      "[LightGBM] [Info] Number of data points in the train set: 10820, number of used features: 22\n",
      "[LightGBM] [Info] Start training from score 0.352462\n",
      "Training until validation scores don't improve for 50 rounds\n"
     ]
    },
    {
     "name": "stderr",
     "output_type": "stream",
     "text": [
      "\u001b[32m[I 2021-12-27 17:21:52,139]\u001b[0m Trial 3 finished with value: 0.41192885012396424 and parameters: {'feature_fraction': 0.6}. Best is trial 1 with value: 0.3730328037776354.\u001b[0m\n"
     ]
    },
    {
     "name": "stdout",
     "output_type": "stream",
     "text": [
      "Did not meet early stopping. Best iteration is:\n",
      "[100]\tTrain's rmse: 0.121667\tTest's rmse: 0.411929\n",
      "[LightGBM] [Info] Total Bins 2287\n",
      "[LightGBM] [Info] Number of data points in the train set: 10820, number of used features: 22\n",
      "[LightGBM] [Info] Start training from score 0.352462\n",
      "Training until validation scores don't improve for 50 rounds\n"
     ]
    },
    {
     "name": "stderr",
     "output_type": "stream",
     "text": [
      "\u001b[32m[I 2021-12-27 17:21:52,415]\u001b[0m Trial 4 finished with value: 0.4177141650444445 and parameters: {'feature_fraction': 0.7}. Best is trial 1 with value: 0.3730328037776354.\u001b[0m\n"
     ]
    },
    {
     "name": "stdout",
     "output_type": "stream",
     "text": [
      "Did not meet early stopping. Best iteration is:\n",
      "[100]\tTrain's rmse: 0.122753\tTest's rmse: 0.417714\n",
      "[LightGBM] [Info] Total Bins 2287\n",
      "[LightGBM] [Info] Number of data points in the train set: 10820, number of used features: 22\n",
      "[LightGBM] [Info] Start training from score 0.352462\n",
      "Training until validation scores don't improve for 50 rounds\n"
     ]
    },
    {
     "name": "stderr",
     "output_type": "stream",
     "text": [
      "\u001b[32m[I 2021-12-27 17:21:52,644]\u001b[0m Trial 5 finished with value: 0.3786815048787219 and parameters: {'feature_fraction': 0.8999999999999999}. Best is trial 1 with value: 0.3730328037776354.\u001b[0m\n"
     ]
    },
    {
     "name": "stdout",
     "output_type": "stream",
     "text": [
      "Early stopping, best iteration is:\n",
      "[37]\tTrain's rmse: 0.15737\tTest's rmse: 0.378682\n",
      "[LightGBM] [Info] Total Bins 2287\n",
      "[LightGBM] [Info] Number of data points in the train set: 10820, number of used features: 22\n",
      "[LightGBM] [Info] Start training from score 0.352462\n",
      "Training until validation scores don't improve for 50 rounds\n"
     ]
    },
    {
     "name": "stderr",
     "output_type": "stream",
     "text": [
      "\u001b[32m[I 2021-12-27 17:21:52,916]\u001b[0m Trial 6 finished with value: 0.4174154758767119 and parameters: {'feature_fraction': 0.4}. Best is trial 1 with value: 0.3730328037776354.\u001b[0m\n"
     ]
    },
    {
     "name": "stdout",
     "output_type": "stream",
     "text": [
      "Did not meet early stopping. Best iteration is:\n",
      "[100]\tTrain's rmse: 0.120118\tTest's rmse: 0.417415\n",
      "[LightGBM] [Info] Total Bins 2287\n",
      "[LightGBM] [Info] Number of data points in the train set: 10820, number of used features: 22\n",
      "[LightGBM] [Info] Start training from score 0.352462\n",
      "Training until validation scores don't improve for 50 rounds\n"
     ]
    },
    {
     "name": "stderr",
     "output_type": "stream",
     "text": [
      "\u001b[32m[I 2021-12-27 17:21:53,822]\u001b[0m Trial 7 finished with value: 0.3760705799703968 and parameters: {'num_leaves': 177}. Best is trial 7 with value: 0.3760705799703968.\u001b[0m\n"
     ]
    },
    {
     "name": "stdout",
     "output_type": "stream",
     "text": [
      "Early stopping, best iteration is:\n",
      "[32]\tTrain's rmse: 0.159185\tTest's rmse: 0.376071\n",
      "[LightGBM] [Info] Total Bins 2287\n",
      "[LightGBM] [Info] Number of data points in the train set: 10820, number of used features: 22\n",
      "[LightGBM] [Info] Start training from score 0.352462\n",
      "Training until validation scores don't improve for 50 rounds\n"
     ]
    },
    {
     "name": "stderr",
     "output_type": "stream",
     "text": [
      "\u001b[32m[I 2021-12-27 17:21:54,338]\u001b[0m Trial 8 finished with value: 0.37606538277024276 and parameters: {'num_leaves': 111}. Best is trial 8 with value: 0.37606538277024276.\u001b[0m\n"
     ]
    },
    {
     "name": "stdout",
     "output_type": "stream",
     "text": [
      "Early stopping, best iteration is:\n",
      "[32]\tTrain's rmse: 0.159186\tTest's rmse: 0.376065\n",
      "[LightGBM] [Info] Total Bins 2287\n",
      "[LightGBM] [Info] Number of data points in the train set: 10820, number of used features: 22\n",
      "[LightGBM] [Info] Start training from score 0.352462\n",
      "Training until validation scores don't improve for 50 rounds\n"
     ]
    },
    {
     "name": "stderr",
     "output_type": "stream",
     "text": [
      "\u001b[32m[I 2021-12-27 17:21:54,753]\u001b[0m Trial 9 finished with value: 0.37321050311229975 and parameters: {'num_leaves': 42}. Best is trial 9 with value: 0.37321050311229975.\u001b[0m\n"
     ]
    },
    {
     "name": "stdout",
     "output_type": "stream",
     "text": [
      "Early stopping, best iteration is:\n",
      "[33]\tTrain's rmse: 0.15726\tTest's rmse: 0.373211\n",
      "[LightGBM] [Info] Total Bins 2287\n",
      "[LightGBM] [Info] Number of data points in the train set: 10820, number of used features: 22\n",
      "[LightGBM] [Info] Start training from score 0.352462\n",
      "Training until validation scores don't improve for 50 rounds\n"
     ]
    },
    {
     "name": "stderr",
     "output_type": "stream",
     "text": [
      "\u001b[32m[I 2021-12-27 17:21:55,727]\u001b[0m Trial 10 finished with value: 0.37606409659409157 and parameters: {'num_leaves': 238}. Best is trial 9 with value: 0.37321050311229975.\u001b[0m\n"
     ]
    },
    {
     "name": "stdout",
     "output_type": "stream",
     "text": [
      "Early stopping, best iteration is:\n",
      "[32]\tTrain's rmse: 0.15918\tTest's rmse: 0.376064\n",
      "[LightGBM] [Info] Total Bins 2287\n",
      "[LightGBM] [Info] Number of data points in the train set: 10820, number of used features: 22\n",
      "[LightGBM] [Info] Start training from score 0.352462\n",
      "Training until validation scores don't improve for 50 rounds\n"
     ]
    },
    {
     "name": "stderr",
     "output_type": "stream",
     "text": [
      "\u001b[32m[I 2021-12-27 17:21:56,423]\u001b[0m Trial 11 finished with value: 0.37606536703168325 and parameters: {'num_leaves': 112}. Best is trial 9 with value: 0.37321050311229975.\u001b[0m\n"
     ]
    },
    {
     "name": "stdout",
     "output_type": "stream",
     "text": [
      "Early stopping, best iteration is:\n",
      "[32]\tTrain's rmse: 0.159186\tTest's rmse: 0.376065\n",
      "[LightGBM] [Info] Total Bins 2287\n",
      "[LightGBM] [Info] Number of data points in the train set: 10820, number of used features: 22\n",
      "[LightGBM] [Info] Start training from score 0.352462\n",
      "Training until validation scores don't improve for 50 rounds\n"
     ]
    },
    {
     "name": "stderr",
     "output_type": "stream",
     "text": [
      "\u001b[32m[I 2021-12-27 17:21:57,074]\u001b[0m Trial 12 finished with value: 0.37608453726509516 and parameters: {'num_leaves': 156}. Best is trial 9 with value: 0.37321050311229975.\u001b[0m\n"
     ]
    },
    {
     "name": "stdout",
     "output_type": "stream",
     "text": [
      "Early stopping, best iteration is:\n",
      "[32]\tTrain's rmse: 0.159181\tTest's rmse: 0.376085\n",
      "[LightGBM] [Info] Total Bins 2287\n",
      "[LightGBM] [Info] Number of data points in the train set: 10820, number of used features: 22\n",
      "[LightGBM] [Info] Start training from score 0.352462\n",
      "Training until validation scores don't improve for 50 rounds\n"
     ]
    },
    {
     "name": "stderr",
     "output_type": "stream",
     "text": [
      "\u001b[32m[I 2021-12-27 17:21:57,932]\u001b[0m Trial 13 finished with value: 0.37606409114048667 and parameters: {'num_leaves': 227}. Best is trial 9 with value: 0.37321050311229975.\u001b[0m\n"
     ]
    },
    {
     "name": "stdout",
     "output_type": "stream",
     "text": [
      "Early stopping, best iteration is:\n",
      "[32]\tTrain's rmse: 0.15918\tTest's rmse: 0.376064\n",
      "[LightGBM] [Info] Total Bins 2287\n",
      "[LightGBM] [Info] Number of data points in the train set: 10820, number of used features: 22\n",
      "[LightGBM] [Info] Start training from score 0.352462\n",
      "Training until validation scores don't improve for 50 rounds\n"
     ]
    },
    {
     "name": "stderr",
     "output_type": "stream",
     "text": [
      "\u001b[32m[I 2021-12-27 17:21:58,312]\u001b[0m Trial 14 finished with value: 0.3760689698429868 and parameters: {'num_leaves': 75}. Best is trial 9 with value: 0.37321050311229975.\u001b[0m\n"
     ]
    },
    {
     "name": "stdout",
     "output_type": "stream",
     "text": [
      "Early stopping, best iteration is:\n",
      "[32]\tTrain's rmse: 0.159191\tTest's rmse: 0.376069\n",
      "[LightGBM] [Info] Total Bins 2287\n",
      "[LightGBM] [Info] Number of data points in the train set: 10820, number of used features: 22\n",
      "[LightGBM] [Info] Start training from score 0.352462\n",
      "Training until validation scores don't improve for 50 rounds\n"
     ]
    },
    {
     "name": "stderr",
     "output_type": "stream",
     "text": [
      "\u001b[32m[I 2021-12-27 17:21:58,907]\u001b[0m Trial 15 finished with value: 0.37606942541592525 and parameters: {'num_leaves': 126}. Best is trial 9 with value: 0.37321050311229975.\u001b[0m\n"
     ]
    },
    {
     "name": "stdout",
     "output_type": "stream",
     "text": [
      "Early stopping, best iteration is:\n",
      "[32]\tTrain's rmse: 0.159188\tTest's rmse: 0.376069\n",
      "[LightGBM] [Info] Total Bins 2287\n",
      "[LightGBM] [Info] Number of data points in the train set: 10820, number of used features: 22\n",
      "[LightGBM] [Info] Start training from score 0.352462\n",
      "Training until validation scores don't improve for 50 rounds\n"
     ]
    },
    {
     "name": "stderr",
     "output_type": "stream",
     "text": [
      "\u001b[32m[I 2021-12-27 17:21:59,233]\u001b[0m Trial 16 finished with value: 0.37607894046702994 and parameters: {'num_leaves': 49}. Best is trial 9 with value: 0.37321050311229975.\u001b[0m\n"
     ]
    },
    {
     "name": "stdout",
     "output_type": "stream",
     "text": [
      "Early stopping, best iteration is:\n",
      "[32]\tTrain's rmse: 0.159197\tTest's rmse: 0.376079\n",
      "[LightGBM] [Info] Total Bins 2287\n",
      "[LightGBM] [Info] Number of data points in the train set: 10820, number of used features: 22\n",
      "[LightGBM] [Info] Start training from score 0.352462\n",
      "Training until validation scores don't improve for 50 rounds\n",
      "Early stopping, best iteration is:\n",
      "[31]\tTrain's rmse: 0.159614\tTest's rmse: 0.372108\n"
     ]
    },
    {
     "name": "stderr",
     "output_type": "stream",
     "text": [
      "\u001b[32m[I 2021-12-27 17:21:59,424]\u001b[0m Trial 17 finished with value: 0.37210844239304375 and parameters: {'num_leaves': 19}. Best is trial 17 with value: 0.37210844239304375.\u001b[0m\n",
      "\u001b[32m[I 2021-12-27 17:21:59,565]\u001b[0m Trial 18 finished with value: 0.37205648038214495 and parameters: {'num_leaves': 10}. Best is trial 18 with value: 0.37205648038214495.\u001b[0m\n"
     ]
    },
    {
     "name": "stdout",
     "output_type": "stream",
     "text": [
      "[LightGBM] [Info] Total Bins 2287\n",
      "[LightGBM] [Info] Number of data points in the train set: 10820, number of used features: 22\n",
      "[LightGBM] [Info] Start training from score 0.352462\n",
      "Training until validation scores don't improve for 50 rounds\n",
      "Early stopping, best iteration is:\n",
      "[35]\tTrain's rmse: 0.155658\tTest's rmse: 0.372056\n",
      "[LightGBM] [Info] Total Bins 2287\n",
      "[LightGBM] [Info] Number of data points in the train set: 10820, number of used features: 22\n",
      "[LightGBM] [Info] Start training from score 0.352462\n",
      "Training until validation scores don't improve for 50 rounds\n"
     ]
    },
    {
     "name": "stderr",
     "output_type": "stream",
     "text": [
      "\u001b[32m[I 2021-12-27 17:21:59,678]\u001b[0m Trial 19 finished with value: 0.3433362732693353 and parameters: {'num_leaves': 3}. Best is trial 19 with value: 0.3433362732693353.\u001b[0m\n",
      "\u001b[32m[I 2021-12-27 17:21:59,794]\u001b[0m Trial 20 finished with value: 0.3671990559770216 and parameters: {'num_leaves': 9}. Best is trial 19 with value: 0.3433362732693353.\u001b[0m\n"
     ]
    },
    {
     "name": "stdout",
     "output_type": "stream",
     "text": [
      "Did not meet early stopping. Best iteration is:\n",
      "[100]\tTrain's rmse: 0.169751\tTest's rmse: 0.343336\n",
      "[LightGBM] [Info] Total Bins 2287\n",
      "[LightGBM] [Info] Number of data points in the train set: 10820, number of used features: 22\n",
      "[LightGBM] [Info] Start training from score 0.352462\n",
      "Training until validation scores don't improve for 50 rounds\n",
      "Early stopping, best iteration is:\n",
      "[33]\tTrain's rmse: 0.159293\tTest's rmse: 0.367199\n",
      "[LightGBM] [Info] Total Bins 2287\n",
      "[LightGBM] [Info] Number of data points in the train set: 10820, number of used features: 22\n",
      "[LightGBM] [Info] Start training from score 0.352462\n",
      "Training until validation scores don't improve for 50 rounds\n"
     ]
    },
    {
     "name": "stderr",
     "output_type": "stream",
     "text": [
      "\u001b[32m[I 2021-12-27 17:22:00,243]\u001b[0m Trial 21 finished with value: 0.3760689698429868 and parameters: {'num_leaves': 75}. Best is trial 19 with value: 0.3433362732693353.\u001b[0m\n",
      "\u001b[32m[I 2021-12-27 17:22:00,384]\u001b[0m Trial 22 finished with value: 0.3542835198785773 and parameters: {'num_leaves': 6}. Best is trial 19 with value: 0.3433362732693353.\u001b[0m\n"
     ]
    },
    {
     "name": "stdout",
     "output_type": "stream",
     "text": [
      "Early stopping, best iteration is:\n",
      "[32]\tTrain's rmse: 0.159191\tTest's rmse: 0.376069\n",
      "[LightGBM] [Info] Total Bins 2287\n",
      "[LightGBM] [Info] Number of data points in the train set: 10820, number of used features: 22\n",
      "[LightGBM] [Info] Start training from score 0.352462\n",
      "Training until validation scores don't improve for 50 rounds\n",
      "Early stopping, best iteration is:\n",
      "[40]\tTrain's rmse: 0.155086\tTest's rmse: 0.354284\n",
      "[LightGBM] [Info] Total Bins 2287\n",
      "[LightGBM] [Info] Number of data points in the train set: 10820, number of used features: 22\n",
      "[LightGBM] [Info] Start training from score 0.352462\n",
      "Training until validation scores don't improve for 50 rounds\n"
     ]
    },
    {
     "name": "stderr",
     "output_type": "stream",
     "text": [
      "\u001b[32m[I 2021-12-27 17:22:00,907]\u001b[0m Trial 23 finished with value: 0.3761133924605221 and parameters: {'num_leaves': 67}. Best is trial 19 with value: 0.3433362732693353.\u001b[0m\n"
     ]
    },
    {
     "name": "stdout",
     "output_type": "stream",
     "text": [
      "Early stopping, best iteration is:\n",
      "[32]\tTrain's rmse: 0.159226\tTest's rmse: 0.376113\n",
      "[LightGBM] [Info] Total Bins 2287\n",
      "[LightGBM] [Info] Number of data points in the train set: 10820, number of used features: 22\n",
      "[LightGBM] [Info] Start training from score 0.352462\n",
      "Training until validation scores don't improve for 50 rounds\n"
     ]
    },
    {
     "name": "stderr",
     "output_type": "stream",
     "text": [
      "\u001b[32m[I 2021-12-27 17:22:01,169]\u001b[0m Trial 24 finished with value: 0.37209176003576927 and parameters: {'num_leaves': 39}. Best is trial 19 with value: 0.3433362732693353.\u001b[0m\n",
      "\u001b[32m[I 2021-12-27 17:22:01,252]\u001b[0m Trial 25 finished with value: 0.33782957159900123 and parameters: {'num_leaves': 2}. Best is trial 25 with value: 0.33782957159900123.\u001b[0m\n"
     ]
    },
    {
     "name": "stdout",
     "output_type": "stream",
     "text": [
      "Early stopping, best iteration is:\n",
      "[31]\tTrain's rmse: 0.159759\tTest's rmse: 0.372092\n",
      "[LightGBM] [Info] Total Bins 2287\n",
      "[LightGBM] [Info] Number of data points in the train set: 10820, number of used features: 22\n",
      "[LightGBM] [Info] Start training from score 0.352462\n",
      "Training until validation scores don't improve for 50 rounds\n",
      "Did not meet early stopping. Best iteration is:\n",
      "[100]\tTrain's rmse: 0.196657\tTest's rmse: 0.33783\n",
      "[LightGBM] [Info] Total Bins 2287\n",
      "[LightGBM] [Info] Number of data points in the train set: 10820, number of used features: 22\n",
      "[LightGBM] [Info] Start training from score 0.352462\n",
      "Training until validation scores don't improve for 50 rounds\n"
     ]
    },
    {
     "name": "stderr",
     "output_type": "stream",
     "text": [
      "\u001b[32m[I 2021-12-27 17:22:02,344]\u001b[0m Trial 26 finished with value: 0.37576807781371324 and parameters: {'num_leaves': 200}. Best is trial 25 with value: 0.33782957159900123.\u001b[0m\n"
     ]
    },
    {
     "name": "stdout",
     "output_type": "stream",
     "text": [
      "Early stopping, best iteration is:\n",
      "[39]\tTrain's rmse: 0.153026\tTest's rmse: 0.375768\n",
      "[LightGBM] [Info] Total Bins 2287\n",
      "[LightGBM] [Info] Number of data points in the train set: 10820, number of used features: 22\n",
      "[LightGBM] [Info] Start training from score 0.352462\n",
      "Training until validation scores don't improve for 50 rounds\n"
     ]
    },
    {
     "name": "stderr",
     "output_type": "stream",
     "text": [
      "\u001b[32m[I 2021-12-27 17:22:02,506]\u001b[0m Trial 27 finished with value: 0.3366391945252749 and parameters: {'bagging_fraction': 0.6301550917284493, 'bagging_freq': 3}. Best is trial 27 with value: 0.3366391945252749.\u001b[0m\n",
      "\u001b[32m[I 2021-12-27 17:22:02,613]\u001b[0m Trial 28 finished with value: 0.3295931094850455 and parameters: {'bagging_fraction': 0.5998972821745961, 'bagging_freq': 2}. Best is trial 28 with value: 0.3295931094850455.\u001b[0m\n"
     ]
    },
    {
     "name": "stdout",
     "output_type": "stream",
     "text": [
      "Did not meet early stopping. Best iteration is:\n",
      "[100]\tTrain's rmse: 0.19679\tTest's rmse: 0.336639\n",
      "[LightGBM] [Info] Total Bins 2287\n",
      "[LightGBM] [Info] Number of data points in the train set: 10820, number of used features: 22\n",
      "[LightGBM] [Info] Start training from score 0.352462\n",
      "Training until validation scores don't improve for 50 rounds\n",
      "Did not meet early stopping. Best iteration is:\n",
      "[100]\tTrain's rmse: 0.196712\tTest's rmse: 0.329593\n",
      "[LightGBM] [Info] Total Bins 2287\n",
      "[LightGBM] [Info] Number of data points in the train set: 10820, number of used features: 22\n",
      "[LightGBM] [Info] Start training from score 0.352462\n",
      "Training until validation scores don't improve for 50 rounds\n",
      "Did not meet early stopping. Best iteration is:\n",
      "[98]\tTrain's rmse: 0.196987\tTest's rmse: 0.3361\n"
     ]
    },
    {
     "name": "stderr",
     "output_type": "stream",
     "text": [
      "\u001b[32m[I 2021-12-27 17:22:02,703]\u001b[0m Trial 29 finished with value: 0.3360995566685413 and parameters: {'bagging_fraction': 0.6952142107725694, 'bagging_freq': 7}. Best is trial 28 with value: 0.3295931094850455.\u001b[0m\n",
      "\u001b[32m[I 2021-12-27 17:22:02,812]\u001b[0m Trial 30 finished with value: 0.3387274513227662 and parameters: {'bagging_fraction': 0.6520909053642856, 'bagging_freq': 7}. Best is trial 28 with value: 0.3295931094850455.\u001b[0m\n"
     ]
    },
    {
     "name": "stdout",
     "output_type": "stream",
     "text": [
      "[LightGBM] [Info] Total Bins 2287\n",
      "[LightGBM] [Info] Number of data points in the train set: 10820, number of used features: 22\n",
      "[LightGBM] [Info] Start training from score 0.352462\n",
      "Training until validation scores don't improve for 50 rounds\n",
      "Did not meet early stopping. Best iteration is:\n",
      "[98]\tTrain's rmse: 0.197074\tTest's rmse: 0.338727\n",
      "[LightGBM] [Info] Total Bins 2287\n",
      "[LightGBM] [Info] Number of data points in the train set: 10820, number of used features: 22\n",
      "[LightGBM] [Info] Start training from score 0.352462\n",
      "Training until validation scores don't improve for 50 rounds\n",
      "Did not meet early stopping. Best iteration is:\n",
      "[100]\tTrain's rmse: 0.196476\tTest's rmse: 0.334096\n"
     ]
    },
    {
     "name": "stderr",
     "output_type": "stream",
     "text": [
      "\u001b[32m[I 2021-12-27 17:22:02,916]\u001b[0m Trial 31 finished with value: 0.3340963421561643 and parameters: {'bagging_fraction': 0.7549891893773104, 'bagging_freq': 3}. Best is trial 28 with value: 0.3295931094850455.\u001b[0m\n",
      "\u001b[32m[I 2021-12-27 17:22:03,026]\u001b[0m Trial 32 finished with value: 0.3328985316800606 and parameters: {'bagging_fraction': 0.7090333331137231, 'bagging_freq': 5}. Best is trial 28 with value: 0.3295931094850455.\u001b[0m\n"
     ]
    },
    {
     "name": "stdout",
     "output_type": "stream",
     "text": [
      "[LightGBM] [Info] Total Bins 2287\n",
      "[LightGBM] [Info] Number of data points in the train set: 10820, number of used features: 22\n",
      "[LightGBM] [Info] Start training from score 0.352462\n",
      "Training until validation scores don't improve for 50 rounds\n",
      "Did not meet early stopping. Best iteration is:\n",
      "[90]\tTrain's rmse: 0.196674\tTest's rmse: 0.332899\n",
      "[LightGBM] [Info] Total Bins 2287\n",
      "[LightGBM] [Info] Number of data points in the train set: 10820, number of used features: 22\n",
      "[LightGBM] [Info] Start training from score 0.352462\n",
      "Training until validation scores don't improve for 50 rounds\n"
     ]
    },
    {
     "name": "stderr",
     "output_type": "stream",
     "text": [
      "\u001b[32m[I 2021-12-27 17:22:03,126]\u001b[0m Trial 33 finished with value: 0.3361267295958501 and parameters: {'bagging_fraction': 0.9730695437240277, 'bagging_freq': 5}. Best is trial 28 with value: 0.3295931094850455.\u001b[0m\n",
      "\u001b[32m[I 2021-12-27 17:22:03,219]\u001b[0m Trial 34 finished with value: 0.33677396048319186 and parameters: {'bagging_fraction': 0.6159032270390308, 'bagging_freq': 6}. Best is trial 28 with value: 0.3295931094850455.\u001b[0m\n"
     ]
    },
    {
     "name": "stdout",
     "output_type": "stream",
     "text": [
      "Did not meet early stopping. Best iteration is:\n",
      "[100]\tTrain's rmse: 0.196543\tTest's rmse: 0.336127\n",
      "[LightGBM] [Info] Total Bins 2287\n",
      "[LightGBM] [Info] Number of data points in the train set: 10820, number of used features: 22\n",
      "[LightGBM] [Info] Start training from score 0.352462\n",
      "Training until validation scores don't improve for 50 rounds\n",
      "Did not meet early stopping. Best iteration is:\n",
      "[98]\tTrain's rmse: 0.196896\tTest's rmse: 0.336774\n",
      "[LightGBM] [Info] Total Bins 2287\n",
      "[LightGBM] [Info] Number of data points in the train set: 10820, number of used features: 22\n",
      "[LightGBM] [Info] Start training from score 0.352462\n",
      "Training until validation scores don't improve for 50 rounds\n",
      "Did not meet early stopping. Best iteration is:\n",
      "[100]\tTrain's rmse: 0.196296\tTest's rmse: 0.334011\n"
     ]
    },
    {
     "name": "stderr",
     "output_type": "stream",
     "text": [
      "\u001b[32m[I 2021-12-27 17:22:03,313]\u001b[0m Trial 35 finished with value: 0.33401109414605057 and parameters: {'bagging_fraction': 0.9129239155741532, 'bagging_freq': 1}. Best is trial 28 with value: 0.3295931094850455.\u001b[0m\n",
      "\u001b[32m[I 2021-12-27 17:22:03,415]\u001b[0m Trial 36 finished with value: 0.3377658847767743 and parameters: {'bagging_fraction': 0.6860055217884173, 'bagging_freq': 2}. Best is trial 28 with value: 0.3295931094850455.\u001b[0m\n"
     ]
    },
    {
     "name": "stdout",
     "output_type": "stream",
     "text": [
      "[LightGBM] [Info] Total Bins 2287\n",
      "[LightGBM] [Info] Number of data points in the train set: 10820, number of used features: 22\n",
      "[LightGBM] [Info] Start training from score 0.352462\n",
      "Training until validation scores don't improve for 50 rounds\n",
      "Did not meet early stopping. Best iteration is:\n",
      "[100]\tTrain's rmse: 0.19679\tTest's rmse: 0.337766\n",
      "[LightGBM] [Info] Total Bins 2287\n",
      "[LightGBM] [Info] Number of data points in the train set: 10820, number of used features: 22\n",
      "[LightGBM] [Info] Start training from score 0.352462\n",
      "Training until validation scores don't improve for 50 rounds\n"
     ]
    },
    {
     "name": "stderr",
     "output_type": "stream",
     "text": [
      "\u001b[32m[I 2021-12-27 17:22:03,589]\u001b[0m Trial 37 finished with value: 0.3295931094850455 and parameters: {'feature_fraction': 0.9840000000000001}. Best is trial 37 with value: 0.3295931094850455.\u001b[0m\n",
      "\u001b[32m[I 2021-12-27 17:22:03,731]\u001b[0m Trial 38 finished with value: 0.3309031172894006 and parameters: {'feature_fraction': 0.92}. Best is trial 37 with value: 0.3295931094850455.\u001b[0m\n"
     ]
    },
    {
     "name": "stdout",
     "output_type": "stream",
     "text": [
      "Did not meet early stopping. Best iteration is:\n",
      "[100]\tTrain's rmse: 0.196712\tTest's rmse: 0.329593\n",
      "[LightGBM] [Info] Total Bins 2287\n",
      "[LightGBM] [Info] Number of data points in the train set: 10820, number of used features: 22\n",
      "[LightGBM] [Info] Start training from score 0.352462\n",
      "Training until validation scores don't improve for 50 rounds\n",
      "Did not meet early stopping. Best iteration is:\n",
      "[99]\tTrain's rmse: 0.197178\tTest's rmse: 0.330903\n",
      "[LightGBM] [Info] Total Bins 2287\n",
      "[LightGBM] [Info] Number of data points in the train set: 10820, number of used features: 22\n"
     ]
    },
    {
     "name": "stderr",
     "output_type": "stream",
     "text": [
      "\u001b[32m[I 2021-12-27 17:22:03,868]\u001b[0m Trial 39 finished with value: 0.3312675233192048 and parameters: {'feature_fraction': 0.9520000000000001}. Best is trial 37 with value: 0.3295931094850455.\u001b[0m\n"
     ]
    },
    {
     "name": "stdout",
     "output_type": "stream",
     "text": [
      "[LightGBM] [Info] Start training from score 0.352462\n",
      "Training until validation scores don't improve for 50 rounds\n",
      "Did not meet early stopping. Best iteration is:\n",
      "[99]\tTrain's rmse: 0.196886\tTest's rmse: 0.331268\n",
      "[LightGBM] [Info] Total Bins 2287\n",
      "[LightGBM] [Info] Number of data points in the train set: 10820, number of used features: 22\n",
      "[LightGBM] [Info] Start training from score 0.352462\n",
      "Training until validation scores don't improve for 50 rounds\n",
      "Did not meet early stopping. Best iteration is:\n",
      "[100]\tTrain's rmse: 0.196686\tTest's rmse: 0.330011\n"
     ]
    },
    {
     "name": "stderr",
     "output_type": "stream",
     "text": [
      "\u001b[32m[I 2021-12-27 17:22:03,992]\u001b[0m Trial 40 finished with value: 0.33001145879159793 and parameters: {'lambda_l1': 0.1571835289071164, 'lambda_l2': 0.1180037710436075}. Best is trial 40 with value: 0.33001145879159793.\u001b[0m\n",
      "\u001b[32m[I 2021-12-27 17:22:04,101]\u001b[0m Trial 41 finished with value: 0.32959507282546874 and parameters: {'lambda_l1': 6.533699625539197e-05, 'lambda_l2': 0.0027950454238434346}. Best is trial 41 with value: 0.32959507282546874.\u001b[0m\n"
     ]
    },
    {
     "name": "stdout",
     "output_type": "stream",
     "text": [
      "[LightGBM] [Info] Total Bins 2287\n",
      "[LightGBM] [Info] Number of data points in the train set: 10820, number of used features: 22\n",
      "[LightGBM] [Info] Start training from score 0.352462\n",
      "Training until validation scores don't improve for 50 rounds\n",
      "Did not meet early stopping. Best iteration is:\n",
      "[100]\tTrain's rmse: 0.196712\tTest's rmse: 0.329595\n",
      "[LightGBM] [Info] Total Bins 2287\n",
      "[LightGBM] [Info] Number of data points in the train set: 10820, number of used features: 22\n",
      "[LightGBM] [Info] Start training from score 0.352462\n",
      "Training until validation scores don't improve for 50 rounds\n"
     ]
    },
    {
     "name": "stderr",
     "output_type": "stream",
     "text": [
      "\u001b[32m[I 2021-12-27 17:22:04,201]\u001b[0m Trial 42 finished with value: 0.3295933175079731 and parameters: {'lambda_l1': 0.00022649518698602064, 'lambda_l2': 4.6519309205213333e-05}. Best is trial 42 with value: 0.3295933175079731.\u001b[0m\n",
      "\u001b[32m[I 2021-12-27 17:22:04,310]\u001b[0m Trial 43 finished with value: 0.3295933086980793 and parameters: {'lambda_l1': 0.0001902483538651214, 'lambda_l2': 7.455487462065767e-05}. Best is trial 43 with value: 0.3295933086980793.\u001b[0m\n"
     ]
    },
    {
     "name": "stdout",
     "output_type": "stream",
     "text": [
      "Did not meet early stopping. Best iteration is:\n",
      "[100]\tTrain's rmse: 0.196712\tTest's rmse: 0.329593\n",
      "[LightGBM] [Info] Total Bins 2287\n",
      "[LightGBM] [Info] Number of data points in the train set: 10820, number of used features: 22\n",
      "[LightGBM] [Info] Start training from score 0.352462\n",
      "Training until validation scores don't improve for 50 rounds\n",
      "Did not meet early stopping. Best iteration is:\n",
      "[100]\tTrain's rmse: 0.196712\tTest's rmse: 0.329593\n",
      "[LightGBM] [Info] Total Bins 2287\n",
      "[LightGBM] [Info] Number of data points in the train set: 10820, number of used features: 22\n",
      "[LightGBM] [Info] Start training from score 0.352462\n",
      "Training until validation scores don't improve for 50 rounds\n"
     ]
    },
    {
     "name": "stderr",
     "output_type": "stream",
     "text": [
      "\u001b[32m[I 2021-12-27 17:22:04,410]\u001b[0m Trial 44 finished with value: 0.33039762050950433 and parameters: {'lambda_l1': 0.0012380653689028755, 'lambda_l2': 1.8514319793735565}. Best is trial 43 with value: 0.3295933086980793.\u001b[0m\n",
      "\u001b[32m[I 2021-12-27 17:22:04,525]\u001b[0m Trial 45 finished with value: 0.3299008238220176 and parameters: {'lambda_l1': 0.01876656732873834, 'lambda_l2': 1.654113835809324e-06}. Best is trial 43 with value: 0.3295933086980793.\u001b[0m\n"
     ]
    },
    {
     "name": "stdout",
     "output_type": "stream",
     "text": [
      "Did not meet early stopping. Best iteration is:\n",
      "[100]\tTrain's rmse: 0.196809\tTest's rmse: 0.330398\n",
      "[LightGBM] [Info] Total Bins 2287\n",
      "[LightGBM] [Info] Number of data points in the train set: 10820, number of used features: 22\n",
      "[LightGBM] [Info] Start training from score 0.352462\n",
      "Training until validation scores don't improve for 50 rounds\n",
      "Did not meet early stopping. Best iteration is:\n",
      "[100]\tTrain's rmse: 0.196645\tTest's rmse: 0.329901\n",
      "[LightGBM] [Info] Total Bins 2287\n",
      "[LightGBM] [Info] Number of data points in the train set: 10820, number of used features: 22\n",
      "[LightGBM] [Info] Start training from score 0.352462\n",
      "Training until validation scores don't improve for 50 rounds\n"
     ]
    },
    {
     "name": "stderr",
     "output_type": "stream",
     "text": [
      "\u001b[32m[I 2021-12-27 17:22:04,629]\u001b[0m Trial 46 finished with value: 0.33000125379496675 and parameters: {'lambda_l1': 0.07886978478696609, 'lambda_l2': 1.0439675635828485e-06}. Best is trial 43 with value: 0.3295933086980793.\u001b[0m\n",
      "\u001b[32m[I 2021-12-27 17:22:04,733]\u001b[0m Trial 47 finished with value: 0.3316936636550022 and parameters: {'lambda_l1': 0.00015974127011570433, 'lambda_l2': 7.341964646483273}. Best is trial 43 with value: 0.3295933086980793.\u001b[0m\n"
     ]
    },
    {
     "name": "stdout",
     "output_type": "stream",
     "text": [
      "Did not meet early stopping. Best iteration is:\n",
      "[99]\tTrain's rmse: 0.196609\tTest's rmse: 0.330001\n",
      "[LightGBM] [Info] Total Bins 2287\n",
      "[LightGBM] [Info] Number of data points in the train set: 10820, number of used features: 22\n",
      "[LightGBM] [Info] Start training from score 0.352462\n",
      "Training until validation scores don't improve for 50 rounds\n",
      "Did not meet early stopping. Best iteration is:\n",
      "[100]\tTrain's rmse: 0.196675\tTest's rmse: 0.331694\n",
      "[LightGBM] [Info] Total Bins 2287\n",
      "[LightGBM] [Info] Number of data points in the train set: 10820, number of used features: 22\n",
      "[LightGBM] [Info] Start training from score 0.352462\n",
      "Training until validation scores don't improve for 50 rounds\n"
     ]
    },
    {
     "name": "stderr",
     "output_type": "stream",
     "text": [
      "\u001b[32m[I 2021-12-27 17:22:04,868]\u001b[0m Trial 48 finished with value: 0.3295931118914731 and parameters: {'lambda_l1': 3.077043726416922e-07, 'lambda_l2': 3.0484307933622033e-06}. Best is trial 48 with value: 0.3295931118914731.\u001b[0m\n",
      "\u001b[32m[I 2021-12-27 17:22:05,013]\u001b[0m Trial 49 finished with value: 0.32959311217406684 and parameters: {'lambda_l1': 2.7770615914375166e-07, 'lambda_l2': 3.5960537732255053e-06}. Best is trial 48 with value: 0.3295931118914731.\u001b[0m\n"
     ]
    },
    {
     "name": "stdout",
     "output_type": "stream",
     "text": [
      "Did not meet early stopping. Best iteration is:\n",
      "[100]\tTrain's rmse: 0.196712\tTest's rmse: 0.329593\n",
      "[LightGBM] [Info] Total Bins 2287\n",
      "[LightGBM] [Info] Number of data points in the train set: 10820, number of used features: 22\n",
      "[LightGBM] [Info] Start training from score 0.352462\n",
      "Training until validation scores don't improve for 50 rounds\n",
      "Did not meet early stopping. Best iteration is:\n",
      "[100]\tTrain's rmse: 0.196712\tTest's rmse: 0.329593\n",
      "[LightGBM] [Info] Total Bins 2287\n"
     ]
    },
    {
     "name": "stderr",
     "output_type": "stream",
     "text": [
      "\u001b[32m[I 2021-12-27 17:22:05,189]\u001b[0m Trial 50 finished with value: 0.32959310959185284 and parameters: {'lambda_l1': 1.0021108155412279e-08, 'lambda_l2': 5.597425864798084e-08}. Best is trial 50 with value: 0.32959310959185284.\u001b[0m\n"
     ]
    },
    {
     "name": "stdout",
     "output_type": "stream",
     "text": [
      "[LightGBM] [Info] Number of data points in the train set: 10820, number of used features: 22\n",
      "[LightGBM] [Info] Start training from score 0.352462\n",
      "Training until validation scores don't improve for 50 rounds\n",
      "Did not meet early stopping. Best iteration is:\n",
      "[100]\tTrain's rmse: 0.196712\tTest's rmse: 0.329593\n",
      "[LightGBM] [Info] Total Bins 2287\n",
      "[LightGBM] [Info] Number of data points in the train set: 10820, number of used features: 22\n",
      "[LightGBM] [Info] Start training from score 0.352462\n"
     ]
    },
    {
     "name": "stderr",
     "output_type": "stream",
     "text": [
      "\u001b[32m[I 2021-12-27 17:22:05,310]\u001b[0m Trial 51 finished with value: 0.3295931096573518 and parameters: {'lambda_l1': 1.2792542848007959e-08, 'lambda_l2': 9.306077190150265e-08}. Best is trial 50 with value: 0.32959310959185284.\u001b[0m\n",
      "\u001b[32m[I 2021-12-27 17:22:05,435]\u001b[0m Trial 52 finished with value: 0.32959310955042254 and parameters: {'lambda_l1': 4.211449331173414e-08, 'lambda_l2': 1.1740824703196285e-08}. Best is trial 52 with value: 0.32959310955042254.\u001b[0m\n"
     ]
    },
    {
     "name": "stdout",
     "output_type": "stream",
     "text": [
      "Training until validation scores don't improve for 50 rounds\n",
      "Did not meet early stopping. Best iteration is:\n",
      "[100]\tTrain's rmse: 0.196712\tTest's rmse: 0.329593\n",
      "[LightGBM] [Info] Total Bins 2287\n",
      "[LightGBM] [Info] Number of data points in the train set: 10820, number of used features: 22\n",
      "[LightGBM] [Info] Start training from score 0.352462\n",
      "Training until validation scores don't improve for 50 rounds\n",
      "Did not meet early stopping. Best iteration is:\n",
      "[100]\tTrain's rmse: 0.196712\tTest's rmse: 0.329593\n"
     ]
    },
    {
     "name": "stderr",
     "output_type": "stream",
     "text": [
      "\u001b[32m[I 2021-12-27 17:22:05,544]\u001b[0m Trial 53 finished with value: 0.3368235114636988 and parameters: {'lambda_l1': 7.066901286279201, 'lambda_l2': 2.1993442804336338e-08}. Best is trial 52 with value: 0.32959310955042254.\u001b[0m\n"
     ]
    },
    {
     "name": "stdout",
     "output_type": "stream",
     "text": [
      "[LightGBM] [Info] Total Bins 2287\n",
      "[LightGBM] [Info] Number of data points in the train set: 10820, number of used features: 22\n",
      "[LightGBM] [Info] Start training from score 0.352462\n",
      "Training until validation scores don't improve for 50 rounds\n",
      "Did not meet early stopping. Best iteration is:\n",
      "[100]\tTrain's rmse: 0.197406\tTest's rmse: 0.336824\n",
      "[LightGBM] [Info] Total Bins 2287\n",
      "[LightGBM] [Info] Number of data points in the train set: 10820, number of used features: 22\n",
      "[LightGBM] [Info] Start training from score 0.352462\n",
      "Training until validation scores don't improve for 50 rounds\n"
     ]
    },
    {
     "name": "stderr",
     "output_type": "stream",
     "text": [
      "\u001b[32m[I 2021-12-27 17:22:05,669]\u001b[0m Trial 54 finished with value: 0.32959310950293047 and parameters: {'lambda_l1': 2.5535502335794884e-08, 'lambda_l2': 1.0397798314637246e-08}. Best is trial 54 with value: 0.32959310950293047.\u001b[0m\n",
      "\u001b[32m[I 2021-12-27 17:22:05,794]\u001b[0m Trial 55 finished with value: 0.3295931111463796 and parameters: {'lambda_l1': 2.1512066291952462e-06, 'lambda_l2': 1.529768924047412e-08}. Best is trial 54 with value: 0.32959310950293047.\u001b[0m\n"
     ]
    },
    {
     "name": "stdout",
     "output_type": "stream",
     "text": [
      "Did not meet early stopping. Best iteration is:\n",
      "[100]\tTrain's rmse: 0.196712\tTest's rmse: 0.329593\n",
      "[LightGBM] [Info] Total Bins 2287\n",
      "[LightGBM] [Info] Number of data points in the train set: 10820, number of used features: 22\n",
      "[LightGBM] [Info] Start training from score 0.352462\n",
      "Training until validation scores don't improve for 50 rounds\n",
      "Did not meet early stopping. Best iteration is:\n",
      "[100]\tTrain's rmse: 0.196712\tTest's rmse: 0.329593\n",
      "[LightGBM] [Info] Total Bins 2287\n",
      "[LightGBM] [Info] Number of data points in the train set: 10820, number of used features: 22\n",
      "[LightGBM] [Info] Start training from score 0.352462\n",
      "Training until validation scores don't improve for 50 rounds\n"
     ]
    },
    {
     "name": "stderr",
     "output_type": "stream",
     "text": [
      "\u001b[32m[I 2021-12-27 17:22:05,903]\u001b[0m Trial 56 finished with value: 0.32959539696166623 and parameters: {'lambda_l1': 1.7893122526749778e-06, 'lambda_l2': 0.0033412965177773597}. Best is trial 54 with value: 0.32959310950293047.\u001b[0m\n",
      "\u001b[32m[I 2021-12-27 17:22:06,023]\u001b[0m Trial 57 finished with value: 0.329593109780433 and parameters: {'lambda_l1': 7.574469056714427e-08, 'lambda_l2': 2.915764086366075e-07}. Best is trial 54 with value: 0.32959310950293047.\u001b[0m\n"
     ]
    },
    {
     "name": "stdout",
     "output_type": "stream",
     "text": [
      "Did not meet early stopping. Best iteration is:\n",
      "[100]\tTrain's rmse: 0.196712\tTest's rmse: 0.329595\n",
      "[LightGBM] [Info] Total Bins 2287\n",
      "[LightGBM] [Info] Number of data points in the train set: 10820, number of used features: 22\n",
      "[LightGBM] [Info] Start training from score 0.352462\n",
      "Training until validation scores don't improve for 50 rounds\n",
      "Did not meet early stopping. Best iteration is:\n",
      "[100]\tTrain's rmse: 0.196712\tTest's rmse: 0.329593\n",
      "[LightGBM] [Info] Total Bins 2287\n",
      "[LightGBM] [Info] Number of data points in the train set: 10820, number of used features: 22\n",
      "[LightGBM] [Info] Start training from score 0.352462\n",
      "Training until validation scores don't improve for 50 rounds\n"
     ]
    },
    {
     "name": "stderr",
     "output_type": "stream",
     "text": [
      "\u001b[32m[I 2021-12-27 17:22:06,131]\u001b[0m Trial 58 finished with value: 0.32959313437643206 and parameters: {'lambda_l1': 6.910649606914288e-06, 'lambda_l2': 2.849249348219472e-05}. Best is trial 54 with value: 0.32959310950293047.\u001b[0m\n",
      "\u001b[32m[I 2021-12-27 17:22:06,272]\u001b[0m Trial 59 finished with value: 0.32959311589220447 and parameters: {'lambda_l1': 8.135003358482232e-06, 'lambda_l2': 1.0103425642474033e-08}. Best is trial 54 with value: 0.32959310950293047.\u001b[0m\n"
     ]
    },
    {
     "name": "stdout",
     "output_type": "stream",
     "text": [
      "Did not meet early stopping. Best iteration is:\n",
      "[100]\tTrain's rmse: 0.196712\tTest's rmse: 0.329593\n",
      "[LightGBM] [Info] Total Bins 2287\n",
      "[LightGBM] [Info] Number of data points in the train set: 10820, number of used features: 22\n",
      "[LightGBM] [Info] Start training from score 0.352462\n",
      "Training until validation scores don't improve for 50 rounds\n",
      "Did not meet early stopping. Best iteration is:\n",
      "[100]\tTrain's rmse: 0.196712\tTest's rmse: 0.329593\n",
      "[LightGBM] [Info] Total Bins 2287\n",
      "[LightGBM] [Info] Number of data points in the train set: 10820, number of used features: 22\n"
     ]
    },
    {
     "name": "stderr",
     "output_type": "stream",
     "text": [
      "\u001b[32m[I 2021-12-27 17:22:06,412]\u001b[0m Trial 60 finished with value: 0.3316578517079538 and parameters: {'min_child_samples': 5}. Best is trial 60 with value: 0.3316578517079538.\u001b[0m\n"
     ]
    },
    {
     "name": "stdout",
     "output_type": "stream",
     "text": [
      "[LightGBM] [Info] Start training from score 0.352462\n",
      "Training until validation scores don't improve for 50 rounds\n",
      "Did not meet early stopping. Best iteration is:\n",
      "[98]\tTrain's rmse: 0.196551\tTest's rmse: 0.331658\n",
      "[LightGBM] [Info] Total Bins 2287\n",
      "[LightGBM] [Info] Number of data points in the train set: 10820, number of used features: 22\n",
      "[LightGBM] [Info] Start training from score 0.352462\n",
      "Training until validation scores don't improve for 50 rounds\n"
     ]
    },
    {
     "name": "stderr",
     "output_type": "stream",
     "text": [
      "\u001b[32m[I 2021-12-27 17:22:06,537]\u001b[0m Trial 61 finished with value: 0.33126972236194446 and parameters: {'min_child_samples': 25}. Best is trial 61 with value: 0.33126972236194446.\u001b[0m\n",
      "\u001b[32m[I 2021-12-27 17:22:06,671]\u001b[0m Trial 62 finished with value: 0.33122183173465247 and parameters: {'min_child_samples': 10}. Best is trial 62 with value: 0.33122183173465247.\u001b[0m\n"
     ]
    },
    {
     "name": "stdout",
     "output_type": "stream",
     "text": [
      "Did not meet early stopping. Best iteration is:\n",
      "[100]\tTrain's rmse: 0.197384\tTest's rmse: 0.33127\n",
      "[LightGBM] [Info] Total Bins 2287\n",
      "[LightGBM] [Info] Number of data points in the train set: 10820, number of used features: 22\n",
      "[LightGBM] [Info] Start training from score 0.352462\n",
      "Training until validation scores don't improve for 50 rounds\n",
      "Did not meet early stopping. Best iteration is:\n",
      "[100]\tTrain's rmse: 0.196776\tTest's rmse: 0.331222\n",
      "[LightGBM] [Info] Total Bins 2287\n",
      "[LightGBM] [Info] Number of data points in the train set: 10820, number of used features: 22\n",
      "[LightGBM] [Info] Start training from score 0.352462\n",
      "Training until validation scores don't improve for 50 rounds\n"
     ]
    },
    {
     "name": "stderr",
     "output_type": "stream",
     "text": [
      "\u001b[32m[I 2021-12-27 17:22:06,798]\u001b[0m Trial 63 finished with value: 0.5211377657274792 and parameters: {'min_child_samples': 100}. Best is trial 62 with value: 0.33122183173465247.\u001b[0m\n",
      "\u001b[32m[I 2021-12-27 17:22:06,893]\u001b[0m Trial 64 finished with value: 0.4273098014188009 and parameters: {'min_child_samples': 50}. Best is trial 62 with value: 0.33122183173465247.\u001b[0m\n"
     ]
    },
    {
     "name": "stdout",
     "output_type": "stream",
     "text": [
      "Did not meet early stopping. Best iteration is:\n",
      "[98]\tTrain's rmse: 0.287654\tTest's rmse: 0.521138\n",
      "[LightGBM] [Info] Total Bins 2287\n",
      "[LightGBM] [Info] Number of data points in the train set: 10820, number of used features: 22\n",
      "[LightGBM] [Info] Start training from score 0.352462\n",
      "Training until validation scores don't improve for 50 rounds\n",
      "Did not meet early stopping. Best iteration is:\n",
      "[98]\tTrain's rmse: 0.238035\tTest's rmse: 0.42731\n"
     ]
    },
    {
     "data": {
      "image/png": "[encoded data removed]",
      "text/plain": [
       "<Figure size 432x288 with 1 Axes>"
      ]
     },
     "metadata": {
      "needs_background": "light"
     },
     "output_type": "display_data"
    },
    {
     "name": "stdout",
     "output_type": "stream",
     "text": [
      "RMSE: [0.32027217120001295, 0.0984725082631906, 0.13695462000202005, 0.019805546283516814, 0.32959310978041356]\n",
      "RMSE: 0.1810195911058308\n"
     ]
    }
   ],
   "source": [
    "start = time.time()\n",
    "\n",
    "# 学習・推論\n",
    "gkf = GroupKFold(n_splits=5)\n",
    "\n",
    "groups = X_train_ce[\"Genre\"]\n",
    "\n",
    "params = {\n",
    "          'task': 'train',              # タスクを訓練に設定\n",
    "          'boosting_type': 'gbdt',      # GBDTを指定\n",
    "          'objective': 'regression',    # 多クラス分類を指定\n",
    "          'metric': 'rmse',  # 多クラス分類の損失（誤差）\n",
    "          'learning_rate': 0.1,         # 学習率\n",
    "          'deterministic':True,         # 再現性確保用のパラメータ\n",
    "          'force_row_wise':True,        # 再現性確保用のパラメータ\n",
    "          'seed': SEED                   # シード値\n",
    "          }\n",
    "\n",
    "best_params, history = {}, []\n",
    "\n",
    "cv_result = []\n",
    "\n",
    "for i, (train_index, test_index) in enumerate(gkf.split(X_train_ce, y_train, groups)):\n",
    "    X_train_gkf, X_test_gkf = X_train_ce.iloc[train_index], X_train_ce.iloc[test_index]\n",
    "    y_train_gkf, y_test_gkf = y_train.iloc[train_index], y_train.iloc[test_index]\n",
    "\n",
    "    # 学習、推論\n",
    "    lgb_train = lgb.Dataset(X_train_gkf, y_train_gkf)\n",
    "    lgb_test = lgb.Dataset(X_test_gkf, y_test_gkf, reference=lgb_train)\n",
    "\n",
    "    lgb_results = {}                                    # 学習の履歴を入れる入物\n",
    "\n",
    "    model = lgb.LightGBMTuner(\n",
    "                    params,                    # ハイパーパラメータをセット\n",
    "                    train_set = lgb_train,              # 訓練データを訓練用にセット\n",
    "                    valid_sets=[lgb_train, lgb_test], # 訓練データとテストデータをセット\n",
    "                    valid_names=['Train', 'Test'],    # データセットの名前をそれぞれ設定\n",
    "                    num_boost_round=100,              # 計算回数\n",
    "                    evals_result=lgb_results,\n",
    "                    early_stopping_rounds=50,         # アーリーストッピング設定\n",
    "                    show_progress_bar = False,        # プログレスバーの非表示\n",
    "                    verbose_eval=-1,                  # ログを最後の1つだけ表示\n",
    "                    )\n",
    "    \n",
    "    # 訓練の実施\n",
    "    model.run()\n",
    "\n",
    "    best_params = model.best_params\n",
    "    best_model = model.get_best_booster()\n",
    "\n",
    "    pickle.dump(best_model, open(f\"model_fold_{i}.pkl\", 'wb')) # モデルの保存\n",
    "    \n",
    "    # 損失推移を表示\n",
    "    loss_train = lgb_results['Train']['rmse']\n",
    "    loss_test = lgb_results['Test']['rmse']   \n",
    "    \n",
    "    fig = plt.figure()\n",
    "    \n",
    "    plt.xlabel('Iteration')\n",
    "    plt.ylabel('logloss')\n",
    "\n",
    "    plt.title(f\"fold:{i}\")\n",
    "    plt.plot(loss_train, label='train loss')\n",
    "    plt.plot(loss_test, label='test loss')\n",
    "    \n",
    "    plt.legend()\n",
    "    plt.show()\n",
    "\n",
    "    # 推論\n",
    "    y_pred = best_model.predict(X_test_gkf)\n",
    "\n",
    "    # 評価\n",
    "    rmse = mean_squared_error(y_test_gkf, y_pred, squared=False)\n",
    "    cv_result.append(rmse)\n",
    "\n",
    "print(\"RMSE:\", cv_result)\n",
    "print(\"RMSE:\", np.mean(cv_result))\n",
    "\n",
    "elasped_time = round((time.time() - start), 1)"
   ]
  },
  {
   "cell_type": "markdown",
   "metadata": {
    "id": "u8OIZOR5R6mh"
   },
   "source": [
    "## モデルの読込"
   ]
  },
  {
   "cell_type": "code",
   "execution_count": 7,
   "metadata": {
    "colab": {
     "base_uri": "https://localhost:8080/"
    },
    "id": "Iu4gd1CKO7mm",
    "outputId": "38de89e6-8dc2-4976-ba9d-b6047611daab"
   },
   "outputs": [
    {
     "name": "stdout",
     "output_type": "stream",
     "text": [
      "RMSE: [0.32027217120001295, 0.0984725082631906, 0.13695462000202005, 0.019805546283516814, 0.32959310978041356]\n",
      "RMSE: 0.1810195911058308\n"
     ]
    }
   ],
   "source": [
    "start_loaded = time.time()\n",
    "\n",
    "cv_result_loaded = []\n",
    "\n",
    "for i, (train_index, test_index) in enumerate(gkf.split(X_train_ce, y_train, groups)):\n",
    "    X_train_gkf, X_test_gkf = X_train_ce.iloc[train_index], X_train_ce.iloc[test_index]\n",
    "    y_train_gkf, y_test_gkf = y_train.iloc[train_index], y_train.iloc[test_index]\n",
    "\n",
    "    loaded_model = pickle.load(open(f\"model_fold_{i}.pkl\", 'rb'))\n",
    "    y_pred = loaded_model.predict(X_test_gkf)\n",
    "\n",
    "    rmse = mean_squared_error(y_test_gkf, y_pred, squared=False)\n",
    "    cv_result_loaded.append(rmse)\n",
    "\n",
    "print(\"RMSE:\", cv_result_loaded)\n",
    "print(\"RMSE:\", np.mean(cv_result_loaded))\n",
    "elasped_time_loaded = round((time.time() - start_loaded), 1)"
   ]
  },
  {
   "cell_type": "code",
   "execution_count": 8,
   "metadata": {
    "colab": {
     "base_uri": "https://localhost:8080/"
    },
    "id": "g6hnlSwu-74u",
    "outputId": "9b50124b-fee5-44b9-d53f-b7d14c01a3bb"
   },
   "outputs": [
    {
     "name": "stdout",
     "output_type": "stream",
     "text": [
      "RMSE: 0.1810195911058308\n",
      "経過時間:123.8\n",
      "pickle読込 RMSE: 0.1810195911058308\n",
      "pickle読込 経過時間:0.1\n"
     ]
    }
   ],
   "source": [
    "print(\"RMSE:\", np.mean(cv_result))\n",
    "print(f\"経過時間:{elasped_time}\")\n",
    "\n",
    "print(\"pickle読込 RMSE:\", np.mean(cv_result_loaded))\n",
    "print(f\"pickle読込 経過時間:{elasped_time_loaded}\")"
   ]
  },
  {
   "cell_type": "code",
   "execution_count": null,
   "metadata": {
    "id": "nIbooSUA_8gV"
   },
   "outputs": [],
   "source": []
  }
 ],
 "metadata": {
  "colab": {
   "collapsed_sections": [],
   "name": "15_save_load_model.ipynb",
   "provenance": []
  },
  "kernelspec": {
   "display_name": "Python 3 (ipykernel)",
   "language": "python",
   "name": "python3"
  },
  "language_info": {
   "codemirror_mode": {
    "name": "ipython",
    "version": 3
   },
   "file_extension": ".py",
   "mimetype": "text/x-python",
   "name": "python",
   "nbconvert_exporter": "python",
   "pygments_lexer": "ipython3",
   "version": "3.7.11"
  }
 },
 "nbformat": 4,
 "nbformat_minor": 1
}
