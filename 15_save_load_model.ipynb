{
  "nbformat": 4,
  "nbformat_minor": 0,
  "metadata": {
    "colab": {
      "name": "15_save_load_model.ipynb",
      "provenance": [],
      "collapsed_sections": []
    },
    "kernelspec": {
      "name": "python3",
      "display_name": "Python 3"
    },
    "language_info": {
      "name": "python"
    }
  },
  "cells": [
    {
      "cell_type": "markdown",
      "metadata": {
        "id": "RA_zd5BvsXyk"
      },
      "source": [
        "## Google Driveのマウント"
      ]
    },
    {
      "cell_type": "code",
      "metadata": {
        "colab": {
          "base_uri": "https://localhost:8080/"
        },
        "id": "ARmR6Kdbsayr",
        "outputId": "9d8d911e-ac0e-47ef-bfe6-c2c0ed42fa1f"
      },
      "source": [
        "from google.colab import drive\n",
        "drive.mount('/content/drive')"
      ],
      "execution_count": null,
      "outputs": [
        {
          "output_type": "stream",
          "name": "stdout",
          "text": [
            "Mounted at /content/drive\n"
          ]
        }
      ]
    },
    {
      "cell_type": "markdown",
      "metadata": {
        "id": "TCEUaFVvsc6a"
      },
      "source": [
        "## データセットの準備"
      ]
    },
    {
      "cell_type": "code",
      "metadata": {
        "id": "yFYRlGskoctf",
        "colab": {
          "base_uri": "https://localhost:8080/"
        },
        "outputId": "b40c4aca-8b32-445a-8bae-a46bfa726c23"
      },
      "source": [
        "# kaggle ライブラリのインストール\n",
        "!pip install kaggle\n",
        "\n",
        "# 一時フォルダに .kaggleフォルダを作成\n",
        "!mkdir ~/.kaggle\n",
        "\n",
        "# MyDrive の kaggle.json を一時フォルダ内の .kaggleフォルダにコピー\n",
        "!cp /content/drive/MyDrive/kaggle/kaggle.json ~/.kaggle/\n",
        "\n",
        "# アクセス権限の設定\n",
        "!chmod 600 ~/.kaggle/kaggle.json\n",
        "\n",
        "!mkdir ~/.kaggle\n",
        "\n",
        "# zipファイルのダウンロード\n",
        "!kaggle datasets download -d ashaheedq/video-games-sales-2019 -p /content/drive/MyDrive/kaggle\n",
        "\n",
        "# 解凍\n",
        "!unzip /content/drive/MyDrive/kaggle/video-games-sales-2019.zip -d /content/drive/MyDrive/kaggle\n",
        "\n",
        "!rm /content/drive/MyDrive/kaggle/video-games-sales-2019.zip"
      ],
      "execution_count": null,
      "outputs": [
        {
          "output_type": "stream",
          "name": "stdout",
          "text": [
            "Requirement already satisfied: kaggle in /usr/local/lib/python3.7/dist-packages (1.5.12)\n",
            "Requirement already satisfied: urllib3 in /usr/local/lib/python3.7/dist-packages (from kaggle) (1.24.3)\n",
            "Requirement already satisfied: requests in /usr/local/lib/python3.7/dist-packages (from kaggle) (2.23.0)\n",
            "Requirement already satisfied: six>=1.10 in /usr/local/lib/python3.7/dist-packages (from kaggle) (1.15.0)\n",
            "Requirement already satisfied: python-dateutil in /usr/local/lib/python3.7/dist-packages (from kaggle) (2.8.2)\n",
            "Requirement already satisfied: python-slugify in /usr/local/lib/python3.7/dist-packages (from kaggle) (5.0.2)\n",
            "Requirement already satisfied: certifi in /usr/local/lib/python3.7/dist-packages (from kaggle) (2021.10.8)\n",
            "Requirement already satisfied: tqdm in /usr/local/lib/python3.7/dist-packages (from kaggle) (4.62.3)\n",
            "Requirement already satisfied: text-unidecode>=1.3 in /usr/local/lib/python3.7/dist-packages (from python-slugify->kaggle) (1.3)\n",
            "Requirement already satisfied: chardet<4,>=3.0.2 in /usr/local/lib/python3.7/dist-packages (from requests->kaggle) (3.0.4)\n",
            "Requirement already satisfied: idna<3,>=2.5 in /usr/local/lib/python3.7/dist-packages (from requests->kaggle) (2.10)\n",
            "mkdir: cannot create directory ‘/root/.kaggle’: File exists\n",
            "Downloading video-games-sales-2019.zip to /content/drive/MyDrive/kaggle\n",
            "  0% 0.00/3.98M [00:00<?, ?B/s]\n",
            "100% 3.98M/3.98M [00:00<00:00, 65.2MB/s]\n",
            "Archive:  /content/drive/MyDrive/kaggle/video-games-sales-2019.zip\n",
            "replace /content/drive/MyDrive/kaggle/vgsales-12-4-2019-short.csv? [y]es, [n]o, [A]ll, [N]one, [r]ename: None\n"
          ]
        }
      ]
    },
    {
      "cell_type": "markdown",
      "metadata": {
        "id": "PBqKPKFtsiKi"
      },
      "source": [
        "## データの読込"
      ]
    },
    {
      "cell_type": "code",
      "metadata": {
        "colab": {
          "base_uri": "https://localhost:8080/",
          "height": 250
        },
        "id": "TSY5GPLirTwt",
        "outputId": "614f389d-ed60-477e-a1de-8bb62bf7701d"
      },
      "source": [
        "import pandas as pd\n",
        "df = pd.read_csv(\"/content/drive/MyDrive/kaggle/vgsales-12-4-2019.csv\")\n",
        "df.head(3)"
      ],
      "execution_count": null,
      "outputs": [
        {
          "output_type": "execute_result",
          "data": {
            "text/html": [
              "<div>\n",
              "<style scoped>\n",
              "    .dataframe tbody tr th:only-of-type {\n",
              "        vertical-align: middle;\n",
              "    }\n",
              "\n",
              "    .dataframe tbody tr th {\n",
              "        vertical-align: top;\n",
              "    }\n",
              "\n",
              "    .dataframe thead th {\n",
              "        text-align: right;\n",
              "    }\n",
              "</style>\n",
              "<table border=\"1\" class=\"dataframe\">\n",
              "  <thead>\n",
              "    <tr style=\"text-align: right;\">\n",
              "      <th></th>\n",
              "      <th>Rank</th>\n",
              "      <th>Name</th>\n",
              "      <th>basename</th>\n",
              "      <th>Genre</th>\n",
              "      <th>ESRB_Rating</th>\n",
              "      <th>Platform</th>\n",
              "      <th>Publisher</th>\n",
              "      <th>Developer</th>\n",
              "      <th>VGChartz_Score</th>\n",
              "      <th>Critic_Score</th>\n",
              "      <th>User_Score</th>\n",
              "      <th>Total_Shipped</th>\n",
              "      <th>Global_Sales</th>\n",
              "      <th>NA_Sales</th>\n",
              "      <th>PAL_Sales</th>\n",
              "      <th>JP_Sales</th>\n",
              "      <th>Other_Sales</th>\n",
              "      <th>Year</th>\n",
              "      <th>Last_Update</th>\n",
              "      <th>url</th>\n",
              "      <th>status</th>\n",
              "      <th>Vgchartzscore</th>\n",
              "      <th>img_url</th>\n",
              "    </tr>\n",
              "  </thead>\n",
              "  <tbody>\n",
              "    <tr>\n",
              "      <th>0</th>\n",
              "      <td>1</td>\n",
              "      <td>Wii Sports</td>\n",
              "      <td>wii-sports</td>\n",
              "      <td>Sports</td>\n",
              "      <td>E</td>\n",
              "      <td>Wii</td>\n",
              "      <td>Nintendo</td>\n",
              "      <td>Nintendo EAD</td>\n",
              "      <td>NaN</td>\n",
              "      <td>7.7</td>\n",
              "      <td>NaN</td>\n",
              "      <td>82.86</td>\n",
              "      <td>NaN</td>\n",
              "      <td>NaN</td>\n",
              "      <td>NaN</td>\n",
              "      <td>NaN</td>\n",
              "      <td>NaN</td>\n",
              "      <td>2006.0</td>\n",
              "      <td>NaN</td>\n",
              "      <td>http://www.vgchartz.com/game/2667/wii-sports/?...</td>\n",
              "      <td>1</td>\n",
              "      <td>NaN</td>\n",
              "      <td>/games/boxart/full_2258645AmericaFrontccc.jpg</td>\n",
              "    </tr>\n",
              "    <tr>\n",
              "      <th>1</th>\n",
              "      <td>2</td>\n",
              "      <td>Super Mario Bros.</td>\n",
              "      <td>super-mario-bros</td>\n",
              "      <td>Platform</td>\n",
              "      <td>NaN</td>\n",
              "      <td>NES</td>\n",
              "      <td>Nintendo</td>\n",
              "      <td>Nintendo EAD</td>\n",
              "      <td>NaN</td>\n",
              "      <td>10.0</td>\n",
              "      <td>NaN</td>\n",
              "      <td>40.24</td>\n",
              "      <td>NaN</td>\n",
              "      <td>NaN</td>\n",
              "      <td>NaN</td>\n",
              "      <td>NaN</td>\n",
              "      <td>NaN</td>\n",
              "      <td>1985.0</td>\n",
              "      <td>NaN</td>\n",
              "      <td>http://www.vgchartz.com/game/6455/super-mario-...</td>\n",
              "      <td>1</td>\n",
              "      <td>NaN</td>\n",
              "      <td>/games/boxart/8972270ccc.jpg</td>\n",
              "    </tr>\n",
              "    <tr>\n",
              "      <th>2</th>\n",
              "      <td>3</td>\n",
              "      <td>Mario Kart Wii</td>\n",
              "      <td>mario-kart-wii</td>\n",
              "      <td>Racing</td>\n",
              "      <td>E</td>\n",
              "      <td>Wii</td>\n",
              "      <td>Nintendo</td>\n",
              "      <td>Nintendo EAD</td>\n",
              "      <td>NaN</td>\n",
              "      <td>8.2</td>\n",
              "      <td>9.1</td>\n",
              "      <td>37.14</td>\n",
              "      <td>NaN</td>\n",
              "      <td>NaN</td>\n",
              "      <td>NaN</td>\n",
              "      <td>NaN</td>\n",
              "      <td>NaN</td>\n",
              "      <td>2008.0</td>\n",
              "      <td>11th Apr 18</td>\n",
              "      <td>http://www.vgchartz.com/game/6968/mario-kart-w...</td>\n",
              "      <td>1</td>\n",
              "      <td>8.7</td>\n",
              "      <td>/games/boxart/full_8932480AmericaFrontccc.jpg</td>\n",
              "    </tr>\n",
              "  </tbody>\n",
              "</table>\n",
              "</div>"
            ],
            "text/plain": [
              "   Rank  ...                                        img_url\n",
              "0     1  ...  /games/boxart/full_2258645AmericaFrontccc.jpg\n",
              "1     2  ...                   /games/boxart/8972270ccc.jpg\n",
              "2     3  ...  /games/boxart/full_8932480AmericaFrontccc.jpg\n",
              "\n",
              "[3 rows x 23 columns]"
            ]
          },
          "metadata": {},
          "execution_count": 3
        }
      ]
    },
    {
      "cell_type": "code",
      "metadata": {
        "id": "XMikPXSDsFqS",
        "colab": {
          "base_uri": "https://localhost:8080/"
        },
        "outputId": "b922d8ec-151f-4d2d-c3c3-4e9f8d00a818"
      },
      "source": [
        "!pip install category_encoders\n",
        "!pip install optuna\n",
        "!pip install pandas\n",
        "!pip install japanize-matplotlib"
      ],
      "execution_count": null,
      "outputs": [
        {
          "output_type": "stream",
          "name": "stdout",
          "text": [
            "Collecting category_encoders\n",
            "  Downloading category_encoders-2.3.0-py2.py3-none-any.whl (82 kB)\n",
            "\u001b[?25l\r\u001b[K     |████                            | 10 kB 19.6 MB/s eta 0:00:01\r\u001b[K     |████████                        | 20 kB 24.8 MB/s eta 0:00:01\r\u001b[K     |████████████                    | 30 kB 14.1 MB/s eta 0:00:01\r\u001b[K     |████████████████                | 40 kB 10.1 MB/s eta 0:00:01\r\u001b[K     |████████████████████            | 51 kB 5.4 MB/s eta 0:00:01\r\u001b[K     |████████████████████████        | 61 kB 5.9 MB/s eta 0:00:01\r\u001b[K     |████████████████████████████    | 71 kB 5.7 MB/s eta 0:00:01\r\u001b[K     |███████████████████████████████▉| 81 kB 6.3 MB/s eta 0:00:01\r\u001b[K     |████████████████████████████████| 82 kB 392 kB/s \n",
            "\u001b[?25hRequirement already satisfied: numpy>=1.14.0 in /usr/local/lib/python3.7/dist-packages (from category_encoders) (1.19.5)\n",
            "Requirement already satisfied: statsmodels>=0.9.0 in /usr/local/lib/python3.7/dist-packages (from category_encoders) (0.10.2)\n",
            "Requirement already satisfied: patsy>=0.5.1 in /usr/local/lib/python3.7/dist-packages (from category_encoders) (0.5.2)\n",
            "Requirement already satisfied: scikit-learn>=0.20.0 in /usr/local/lib/python3.7/dist-packages (from category_encoders) (1.0.1)\n",
            "Requirement already satisfied: pandas>=0.21.1 in /usr/local/lib/python3.7/dist-packages (from category_encoders) (1.1.5)\n",
            "Requirement already satisfied: scipy>=1.0.0 in /usr/local/lib/python3.7/dist-packages (from category_encoders) (1.4.1)\n",
            "Requirement already satisfied: pytz>=2017.2 in /usr/local/lib/python3.7/dist-packages (from pandas>=0.21.1->category_encoders) (2018.9)\n",
            "Requirement already satisfied: python-dateutil>=2.7.3 in /usr/local/lib/python3.7/dist-packages (from pandas>=0.21.1->category_encoders) (2.8.2)\n",
            "Requirement already satisfied: six in /usr/local/lib/python3.7/dist-packages (from patsy>=0.5.1->category_encoders) (1.15.0)\n",
            "Requirement already satisfied: threadpoolctl>=2.0.0 in /usr/local/lib/python3.7/dist-packages (from scikit-learn>=0.20.0->category_encoders) (3.0.0)\n",
            "Requirement already satisfied: joblib>=0.11 in /usr/local/lib/python3.7/dist-packages (from scikit-learn>=0.20.0->category_encoders) (1.1.0)\n",
            "Installing collected packages: category-encoders\n",
            "Successfully installed category-encoders-2.3.0\n",
            "Collecting optuna\n",
            "  Downloading optuna-2.10.0-py3-none-any.whl (308 kB)\n",
            "\u001b[K     |████████████████████████████████| 308 kB 5.2 MB/s \n",
            "\u001b[?25hRequirement already satisfied: packaging>=20.0 in /usr/local/lib/python3.7/dist-packages (from optuna) (21.3)\n",
            "Collecting alembic\n",
            "  Downloading alembic-1.7.5-py3-none-any.whl (209 kB)\n",
            "\u001b[K     |████████████████████████████████| 209 kB 33.5 MB/s \n",
            "\u001b[?25hRequirement already satisfied: numpy in /usr/local/lib/python3.7/dist-packages (from optuna) (1.19.5)\n",
            "Requirement already satisfied: sqlalchemy>=1.1.0 in /usr/local/lib/python3.7/dist-packages (from optuna) (1.4.27)\n",
            "Requirement already satisfied: tqdm in /usr/local/lib/python3.7/dist-packages (from optuna) (4.62.3)\n",
            "Requirement already satisfied: PyYAML in /usr/local/lib/python3.7/dist-packages (from optuna) (3.13)\n",
            "Requirement already satisfied: scipy!=1.4.0 in /usr/local/lib/python3.7/dist-packages (from optuna) (1.4.1)\n",
            "Collecting cmaes>=0.8.2\n",
            "  Downloading cmaes-0.8.2-py3-none-any.whl (15 kB)\n",
            "Collecting cliff\n",
            "  Downloading cliff-3.10.0-py3-none-any.whl (80 kB)\n",
            "\u001b[K     |████████████████████████████████| 80 kB 7.5 MB/s \n",
            "\u001b[?25hCollecting colorlog\n",
            "  Downloading colorlog-6.6.0-py2.py3-none-any.whl (11 kB)\n",
            "Requirement already satisfied: pyparsing!=3.0.5,>=2.0.2 in /usr/local/lib/python3.7/dist-packages (from packaging>=20.0->optuna) (3.0.6)\n",
            "Requirement already satisfied: greenlet!=0.4.17 in /usr/local/lib/python3.7/dist-packages (from sqlalchemy>=1.1.0->optuna) (1.1.2)\n",
            "Requirement already satisfied: importlib-metadata in /usr/local/lib/python3.7/dist-packages (from sqlalchemy>=1.1.0->optuna) (4.8.2)\n",
            "Collecting Mako\n",
            "  Downloading Mako-1.1.6-py2.py3-none-any.whl (75 kB)\n",
            "\u001b[K     |████████████████████████████████| 75 kB 4.5 MB/s \n",
            "\u001b[?25hRequirement already satisfied: importlib-resources in /usr/local/lib/python3.7/dist-packages (from alembic->optuna) (5.4.0)\n",
            "Collecting autopage>=0.4.0\n",
            "  Downloading autopage-0.4.0-py3-none-any.whl (20 kB)\n",
            "Collecting stevedore>=2.0.1\n",
            "  Downloading stevedore-3.5.0-py3-none-any.whl (49 kB)\n",
            "\u001b[K     |████████████████████████████████| 49 kB 5.7 MB/s \n",
            "\u001b[?25hCollecting cmd2>=1.0.0\n",
            "  Downloading cmd2-2.3.3-py3-none-any.whl (149 kB)\n",
            "\u001b[K     |████████████████████████████████| 149 kB 50.7 MB/s \n",
            "\u001b[?25hCollecting pbr!=2.1.0,>=2.0.0\n",
            "  Downloading pbr-5.8.0-py2.py3-none-any.whl (112 kB)\n",
            "\u001b[K     |████████████████████████████████| 112 kB 52.0 MB/s \n",
            "\u001b[?25hRequirement already satisfied: PrettyTable>=0.7.2 in /usr/local/lib/python3.7/dist-packages (from cliff->optuna) (2.4.0)\n",
            "Collecting pyperclip>=1.6\n",
            "  Downloading pyperclip-1.8.2.tar.gz (20 kB)\n",
            "Requirement already satisfied: attrs>=16.3.0 in /usr/local/lib/python3.7/dist-packages (from cmd2>=1.0.0->cliff->optuna) (21.2.0)\n",
            "Requirement already satisfied: wcwidth>=0.1.7 in /usr/local/lib/python3.7/dist-packages (from cmd2>=1.0.0->cliff->optuna) (0.2.5)\n",
            "Requirement already satisfied: typing-extensions in /usr/local/lib/python3.7/dist-packages (from cmd2>=1.0.0->cliff->optuna) (3.10.0.2)\n",
            "Requirement already satisfied: zipp>=0.5 in /usr/local/lib/python3.7/dist-packages (from importlib-metadata->sqlalchemy>=1.1.0->optuna) (3.6.0)\n",
            "Requirement already satisfied: MarkupSafe>=0.9.2 in /usr/local/lib/python3.7/dist-packages (from Mako->alembic->optuna) (2.0.1)\n",
            "Building wheels for collected packages: pyperclip\n",
            "  Building wheel for pyperclip (setup.py) ... \u001b[?25l\u001b[?25hdone\n",
            "  Created wheel for pyperclip: filename=pyperclip-1.8.2-py3-none-any.whl size=11136 sha256=f1b26b1bbcca9f405425d0f2064a373b358af98c3dfae2758e33b6677dbc2638\n",
            "  Stored in directory: /root/.cache/pip/wheels/9f/18/84/8f69f8b08169c7bae2dde6bd7daf0c19fca8c8e500ee620a28\n",
            "Successfully built pyperclip\n",
            "Installing collected packages: pyperclip, pbr, stevedore, Mako, cmd2, autopage, colorlog, cmaes, cliff, alembic, optuna\n",
            "Successfully installed Mako-1.1.6 alembic-1.7.5 autopage-0.4.0 cliff-3.10.0 cmaes-0.8.2 cmd2-2.3.3 colorlog-6.6.0 optuna-2.10.0 pbr-5.8.0 pyperclip-1.8.2 stevedore-3.5.0\n",
            "Requirement already satisfied: pandas in /usr/local/lib/python3.7/dist-packages (1.1.5)\n",
            "Requirement already satisfied: python-dateutil>=2.7.3 in /usr/local/lib/python3.7/dist-packages (from pandas) (2.8.2)\n",
            "Requirement already satisfied: numpy>=1.15.4 in /usr/local/lib/python3.7/dist-packages (from pandas) (1.19.5)\n",
            "Requirement already satisfied: pytz>=2017.2 in /usr/local/lib/python3.7/dist-packages (from pandas) (2018.9)\n",
            "Requirement already satisfied: six>=1.5 in /usr/local/lib/python3.7/dist-packages (from python-dateutil>=2.7.3->pandas) (1.15.0)\n",
            "Collecting japanize-matplotlib\n",
            "  Downloading japanize-matplotlib-1.1.3.tar.gz (4.1 MB)\n",
            "\u001b[K     |████████████████████████████████| 4.1 MB 5.2 MB/s \n",
            "\u001b[?25hRequirement already satisfied: matplotlib in /usr/local/lib/python3.7/dist-packages (from japanize-matplotlib) (3.2.2)\n",
            "Requirement already satisfied: cycler>=0.10 in /usr/local/lib/python3.7/dist-packages (from matplotlib->japanize-matplotlib) (0.11.0)\n",
            "Requirement already satisfied: pyparsing!=2.0.4,!=2.1.2,!=2.1.6,>=2.0.1 in /usr/local/lib/python3.7/dist-packages (from matplotlib->japanize-matplotlib) (3.0.6)\n",
            "Requirement already satisfied: kiwisolver>=1.0.1 in /usr/local/lib/python3.7/dist-packages (from matplotlib->japanize-matplotlib) (1.3.2)\n",
            "Requirement already satisfied: numpy>=1.11 in /usr/local/lib/python3.7/dist-packages (from matplotlib->japanize-matplotlib) (1.19.5)\n",
            "Requirement already satisfied: python-dateutil>=2.1 in /usr/local/lib/python3.7/dist-packages (from matplotlib->japanize-matplotlib) (2.8.2)\n",
            "Requirement already satisfied: six>=1.5 in /usr/local/lib/python3.7/dist-packages (from python-dateutil>=2.1->matplotlib->japanize-matplotlib) (1.15.0)\n",
            "Building wheels for collected packages: japanize-matplotlib\n",
            "  Building wheel for japanize-matplotlib (setup.py) ... \u001b[?25l\u001b[?25hdone\n",
            "  Created wheel for japanize-matplotlib: filename=japanize_matplotlib-1.1.3-py3-none-any.whl size=4120274 sha256=21dd9180e428f68024a22086a5d17256afcea3b27d420ec6eee43a2114298d2f\n",
            "  Stored in directory: /root/.cache/pip/wheels/83/97/6b/e9e0cde099cc40f972b8dd23367308f7705ae06cd6d4714658\n",
            "Successfully built japanize-matplotlib\n",
            "Installing collected packages: japanize-matplotlib\n",
            "Successfully installed japanize-matplotlib-1.1.3\n"
          ]
        }
      ]
    },
    {
      "cell_type": "code",
      "metadata": {
        "colab": {
          "base_uri": "https://localhost:8080/"
        },
        "id": "8nm5shA1MJAo",
        "outputId": "33a68869-5012-4c83-9913-7b524b4da06c"
      },
      "source": [
        "import os\n",
        "import time\n",
        "import random\n",
        "import pickle\n",
        "import pandas as pd\n",
        "import numpy as np\n",
        "import matplotlib.pyplot as plt\n",
        "import japanize_matplotlib\n",
        "from natsort import natsorted \n",
        "\n",
        "import optuna.integration.lightgbm as lgb\n",
        "import category_encoders as ce\n",
        "from sklearn.model_selection import train_test_split\n",
        "from sklearn.metrics import mean_squared_error\n",
        "from sklearn.preprocessing import StandardScaler\n",
        "from sklearn.model_selection import GroupKFold\n",
        "\n",
        "import warnings\n",
        "warnings.simplefilter('ignore')"
      ],
      "execution_count": null,
      "outputs": [
        {
          "output_type": "stream",
          "name": "stderr",
          "text": [
            "/usr/local/lib/python3.7/dist-packages/statsmodels/tools/_testing.py:19: FutureWarning:\n",
            "\n",
            "pandas.util.testing is deprecated. Use the functions in the public API at pandas.testing instead.\n",
            "\n"
          ]
        }
      ]
    },
    {
      "cell_type": "code",
      "metadata": {
        "id": "87fRKYwwMK_v"
      },
      "source": [
        "# シード値の固定\n",
        "SEED = 42\n",
        "\n",
        "random.seed(SEED)\n",
        "os.environ['PYTHONHASHSEED'] = str(SEED)\n",
        "np.random.seed(SEED)"
      ],
      "execution_count": null,
      "outputs": []
    },
    {
      "cell_type": "code",
      "metadata": {
        "id": "ygrRF8xvMLjn"
      },
      "source": [
        "X_train, X_test, y_train, y_test = train_test_split(\n",
        "                                                    df.dropna(subset=[\"Global_Sales\"]).drop([\"Global_Sales\",  \"NA_Sales\", \"PAL_Sales\", \"JP_Sales\", \"Other_Sales\"], axis=1), \n",
        "                                                    df.dropna(subset=[\"Global_Sales\"])[\"Global_Sales\"],  \n",
        "                                                    test_size=0.3,\n",
        "                                                    shuffle=True, \n",
        "                                                    random_state=SEED\n",
        "                                                    ) "
      ],
      "execution_count": null,
      "outputs": []
    },
    {
      "cell_type": "code",
      "metadata": {
        "id": "x12bD-VcMPVg"
      },
      "source": [
        "### 欠損値補完\n",
        "X_train_ff = X_train.fillna(method='ffill')\n",
        "X_test_ff = X_test.fillna(method='ffill')\n",
        "\n",
        "#### カテゴリーエンコーディング\n",
        "\n",
        "# ユニーク数に応じてカラムを分割する\n",
        "category_unique_num = X_train_ff.select_dtypes(include=\"object\").nunique()\n",
        "\n",
        "few_kinds_category_columns = category_unique_num[category_unique_num < 10].index\n",
        "many_kinds_category_columns = category_unique_num[category_unique_num >= 10].index\n",
        "\n",
        "\n",
        "# カテゴリーのエンコーディング法則を指定する\n",
        "ordinal_all_cols_mapping_ce = []\n",
        "\n",
        "for i, column in enumerate(many_kinds_category_columns):\n",
        "    ordinal_one_cols_mapping = {}\n",
        "    ordinal_one_cols_mapping_breakdown = {}\n",
        "    for j, category in enumerate(natsorted(X_train_ff[column].unique())):\n",
        "        ordinal_one_cols_mapping_breakdown[category] = j\n",
        "\n",
        "    ordinal_one_cols_mapping[\"col\"] = column\n",
        "    ordinal_one_cols_mapping[\"mapping\"] = ordinal_one_cols_mapping_breakdown\n",
        "    ordinal_all_cols_mapping_ce.append(ordinal_one_cols_mapping)\n",
        "\n",
        "\n",
        "# エンコーディング設定\n",
        "ode = ce.OrdinalEncoder(\n",
        "    mapping = ordinal_all_cols_mapping_ce,\n",
        "    cols = many_kinds_category_columns\n",
        ")\n",
        "\n",
        "ohe = ce.OneHotEncoder(\n",
        "    use_cat_names=True,\n",
        "    cols = few_kinds_category_columns\n",
        ")\n",
        "\n",
        "# 元データをコピー\n",
        "X_train_ce = X_train_ff.copy()\n",
        "X_test_ce = X_test_ff.copy()\n",
        "\n",
        "# OneHotEncoder\n",
        "X_train_ce = ohe.fit_transform(X_train_ce)\n",
        "X_test_ce = ohe.transform(X_test_ce)\n",
        "\n",
        "# OrdinalHotEncoder\n",
        "X_train_ce = ode.fit_transform(X_train_ce)\n",
        "X_test_ce = ode.transform(X_test_ce)\n",
        "\n",
        "# 正規化\n",
        "sc = StandardScaler()\n",
        "X_train_ce = pd.DataFrame(\n",
        "                            sc.fit_transform(X_train_ce),\n",
        "                            columns=X_train_ce.columns\n",
        "                            )\n",
        "\n",
        "X_test_ce = pd.DataFrame(\n",
        "                            sc.transform(X_test_ce),\n",
        "                            columns=X_test_ce.columns\n",
        "                            )"
      ],
      "execution_count": null,
      "outputs": []
    },
    {
      "cell_type": "markdown",
      "metadata": {
        "id": "t0GQq_C-R2th"
      },
      "source": [
        "## モデルの保存"
      ]
    },
    {
      "cell_type": "code",
      "metadata": {
        "colab": {
          "base_uri": "https://localhost:8080/",
          "height": 1000
        },
        "id": "yO4Lks4PMSh3",
        "outputId": "49ab4ee1-0806-4322-d6f5-37d2fbe7d81a"
      },
      "source": [
        "start = time.time()\n",
        "\n",
        "# 学習・推論\n",
        "gkf = GroupKFold(n_splits=5)\n",
        "\n",
        "groups = X_train_ce[\"Genre\"]\n",
        "\n",
        "params = {\n",
        "          'task': 'train',              # タスクを訓練に設定\n",
        "          'boosting_type': 'gbdt',      # GBDTを指定\n",
        "          'objective': 'regression',    # 多クラス分類を指定\n",
        "          'metric': 'rmse',  # 多クラス分類の損失（誤差）\n",
        "          'learning_rate': 0.1,         # 学習率\n",
        "          'deterministic':True,         # 再現性確保用のパラメータ\n",
        "          'force_row_wise':True,        # 再現性確保用のパラメータ\n",
        "          'seed': SEED                   # シード値\n",
        "          }\n",
        "\n",
        "best_params, history = {}, []\n",
        "\n",
        "cv_result = []\n",
        "\n",
        "for i, (train_index, test_index) in enumerate(gkf.split(X_train_ce, y_train, groups)):\n",
        "    X_train_gkf, X_test_gkf = X_train_ce.iloc[train_index], X_train_ce.iloc[test_index]\n",
        "    y_train_gkf, y_test_gkf = y_train.iloc[train_index], y_train.iloc[test_index]\n",
        "\n",
        "    # 学習、推論\n",
        "    lgb_train = lgb.Dataset(X_train_gkf, y_train_gkf)\n",
        "    lgb_test = lgb.Dataset(X_test_gkf, y_test_gkf, reference=lgb_train)\n",
        "\n",
        "    lgb_results = {}                                    # 学習の履歴を入れる入物\n",
        "\n",
        "    model = lgb.LightGBMTuner(\n",
        "                    params,                    # ハイパーパラメータをセット\n",
        "                    train_set = lgb_train,              # 訓練データを訓練用にセット\n",
        "                    valid_sets=[lgb_train, lgb_test], # 訓練データとテストデータをセット\n",
        "                    valid_names=['Train', 'Test'],    # データセットの名前をそれぞれ設定\n",
        "                    num_boost_round=100,              # 計算回数\n",
        "                    evals_result=lgb_results,\n",
        "                    early_stopping_rounds=50,         # アーリーストッピング設定\n",
        "                    show_progress_bar = False,        # プログレスバーの非表示\n",
        "                    verbose_eval=-1,                  # ログを最後の1つだけ表示\n",
        "                    )\n",
        "    \n",
        "    # 訓練の実施\n",
        "    model.run()\n",
        "\n",
        "    best_params = model.best_params\n",
        "    best_model = model.get_best_booster()\n",
        "\n",
        "    pickle.dump(best_model, open(f\"model_fold_{i}.pkl\", 'wb')) # モデルの保存\n",
        "    \n",
        "    # 損失推移を表示\n",
        "    loss_train = lgb_results['Train']['rmse']\n",
        "    loss_test = lgb_results['Test']['rmse']   \n",
        "    \n",
        "    fig = plt.figure()\n",
        "    \n",
        "    plt.xlabel('Iteration')\n",
        "    plt.ylabel('logloss')\n",
        "\n",
        "    plt.title(f\"fold:{i}\")\n",
        "    plt.plot(loss_train, label='train loss')\n",
        "    plt.plot(loss_test, label='test loss')\n",
        "    \n",
        "    plt.legend()\n",
        "    plt.show()\n",
        "\n",
        "    # 推論\n",
        "    y_pred = best_model.predict(X_test_gkf)\n",
        "\n",
        "    # 評価\n",
        "    rmse = mean_squared_error(y_test_gkf, y_pred, squared=False)\n",
        "    cv_result.append(rmse)\n",
        "\n",
        "print(\"RMSE:\", cv_result)\n",
        "print(\"RMSE:\", np.mean(cv_result))\n",
        "\n",
        "elasped_time = round((time.time() - start), 1)"
      ],
      "execution_count": null,
      "outputs": [
        {
          "output_type": "stream",
          "name": "stderr",
          "text": [
            "\u001b[32m[I 2021-12-15 12:10:02,830]\u001b[0m A new study created in memory with name: no-name-32acc05c-0b88-40e7-8b1b-1a175040e135\u001b[0m\n"
          ]
        },
        {
          "output_type": "stream",
          "name": "stdout",
          "text": [
            "Training until validation scores don't improve for 50 rounds.\n"
          ]
        },
        {
          "output_type": "stream",
          "name": "stderr",
          "text": [
            "\u001b[32m[I 2021-12-15 12:10:03,313]\u001b[0m Trial 0 finished with value: 0.34564286351667656 and parameters: {'feature_fraction': 0.8999999999999999}. Best is trial 0 with value: 0.34564286351667656.\u001b[0m\n"
          ]
        },
        {
          "output_type": "stream",
          "name": "stdout",
          "text": [
            "Early stopping, best iteration is:\n",
            "[47]\tTrain's rmse: 0.142844\tTest's rmse: 0.345643\n",
            "Training until validation scores don't improve for 50 rounds.\n"
          ]
        },
        {
          "output_type": "stream",
          "name": "stderr",
          "text": [
            "\u001b[32m[I 2021-12-15 12:10:03,779]\u001b[0m Trial 1 finished with value: 0.34507429978353893 and parameters: {'feature_fraction': 1.0}. Best is trial 1 with value: 0.34507429978353893.\u001b[0m\n"
          ]
        },
        {
          "output_type": "stream",
          "name": "stdout",
          "text": [
            "Early stopping, best iteration is:\n",
            "[46]\tTrain's rmse: 0.145024\tTest's rmse: 0.345074\n",
            "Training until validation scores don't improve for 50 rounds.\n"
          ]
        },
        {
          "output_type": "stream",
          "name": "stderr",
          "text": [
            "\u001b[32m[I 2021-12-15 12:10:04,131]\u001b[0m Trial 2 finished with value: 0.3573903807852102 and parameters: {'feature_fraction': 0.4}. Best is trial 1 with value: 0.34507429978353893.\u001b[0m\n"
          ]
        },
        {
          "output_type": "stream",
          "name": "stdout",
          "text": [
            "Did not meet early stopping. Best iteration is:\n",
            "[100]\tTrain's rmse: 0.121108\tTest's rmse: 0.35739\n",
            "Training until validation scores don't improve for 50 rounds.\n"
          ]
        },
        {
          "output_type": "stream",
          "name": "stderr",
          "text": [
            "\u001b[32m[I 2021-12-15 12:10:04,594]\u001b[0m Trial 3 finished with value: 0.35225673206710856 and parameters: {'feature_fraction': 0.7}. Best is trial 1 with value: 0.34507429978353893.\u001b[0m\n"
          ]
        },
        {
          "output_type": "stream",
          "name": "stdout",
          "text": [
            "Did not meet early stopping. Best iteration is:\n",
            "[100]\tTrain's rmse: 0.104324\tTest's rmse: 0.352257\n",
            "Training until validation scores don't improve for 50 rounds.\n"
          ]
        },
        {
          "output_type": "stream",
          "name": "stderr",
          "text": [
            "\u001b[32m[I 2021-12-15 12:10:05,086]\u001b[0m Trial 4 finished with value: 0.3407631315214147 and parameters: {'feature_fraction': 0.8}. Best is trial 4 with value: 0.3407631315214147.\u001b[0m\n"
          ]
        },
        {
          "output_type": "stream",
          "name": "stdout",
          "text": [
            "Did not meet early stopping. Best iteration is:\n",
            "[100]\tTrain's rmse: 0.108445\tTest's rmse: 0.340763\n",
            "Training until validation scores don't improve for 50 rounds.\n"
          ]
        },
        {
          "output_type": "stream",
          "name": "stderr",
          "text": [
            "\u001b[32m[I 2021-12-15 12:10:05,517]\u001b[0m Trial 5 finished with value: 0.3641209844575373 and parameters: {'feature_fraction': 0.6}. Best is trial 4 with value: 0.3407631315214147.\u001b[0m\n"
          ]
        },
        {
          "output_type": "stream",
          "name": "stdout",
          "text": [
            "Did not meet early stopping. Best iteration is:\n",
            "[100]\tTrain's rmse: 0.108089\tTest's rmse: 0.364121\n",
            "Training until validation scores don't improve for 50 rounds.\n"
          ]
        },
        {
          "output_type": "stream",
          "name": "stderr",
          "text": [
            "\u001b[32m[I 2021-12-15 12:10:05,913]\u001b[0m Trial 6 finished with value: 0.35741087866232285 and parameters: {'feature_fraction': 0.5}. Best is trial 4 with value: 0.3407631315214147.\u001b[0m\n"
          ]
        },
        {
          "output_type": "stream",
          "name": "stdout",
          "text": [
            "Did not meet early stopping. Best iteration is:\n",
            "[100]\tTrain's rmse: 0.116552\tTest's rmse: 0.357411\n",
            "Training until validation scores don't improve for 50 rounds.\n"
          ]
        },
        {
          "output_type": "stream",
          "name": "stderr",
          "text": [
            "\u001b[32m[I 2021-12-15 12:10:06,600]\u001b[0m Trial 7 finished with value: 0.3455402141716164 and parameters: {'num_leaves': 61}. Best is trial 7 with value: 0.3455402141716164.\u001b[0m\n"
          ]
        },
        {
          "output_type": "stream",
          "name": "stdout",
          "text": [
            "Did not meet early stopping. Best iteration is:\n",
            "[100]\tTrain's rmse: 0.111854\tTest's rmse: 0.34554\n",
            "Training until validation scores don't improve for 50 rounds.\n"
          ]
        },
        {
          "output_type": "stream",
          "name": "stderr",
          "text": [
            "\u001b[32m[I 2021-12-15 12:10:06,960]\u001b[0m Trial 8 finished with value: 0.3447002352162008 and parameters: {'num_leaves': 23}. Best is trial 8 with value: 0.3447002352162008.\u001b[0m\n"
          ]
        },
        {
          "output_type": "stream",
          "name": "stdout",
          "text": [
            "Early stopping, best iteration is:\n",
            "[42]\tTrain's rmse: 0.147516\tTest's rmse: 0.3447\n",
            "Training until validation scores don't improve for 50 rounds.\n"
          ]
        },
        {
          "output_type": "stream",
          "name": "stderr",
          "text": [
            "\u001b[32m[I 2021-12-15 12:10:08,748]\u001b[0m Trial 9 finished with value: 0.3494865705299206 and parameters: {'num_leaves': 234}. Best is trial 8 with value: 0.3447002352162008.\u001b[0m\n"
          ]
        },
        {
          "output_type": "stream",
          "name": "stdout",
          "text": [
            "Did not meet early stopping. Best iteration is:\n",
            "[100]\tTrain's rmse: 0.108062\tTest's rmse: 0.349487\n",
            "Training until validation scores don't improve for 50 rounds.\n"
          ]
        },
        {
          "output_type": "stream",
          "name": "stderr",
          "text": [
            "\u001b[32m[I 2021-12-15 12:10:10,527]\u001b[0m Trial 10 finished with value: 0.3491125718635729 and parameters: {'num_leaves': 246}. Best is trial 8 with value: 0.3447002352162008.\u001b[0m\n"
          ]
        },
        {
          "output_type": "stream",
          "name": "stdout",
          "text": [
            "Did not meet early stopping. Best iteration is:\n",
            "[100]\tTrain's rmse: 0.112908\tTest's rmse: 0.349113\n",
            "Training until validation scores don't improve for 50 rounds.\n"
          ]
        },
        {
          "output_type": "stream",
          "name": "stderr",
          "text": [
            "\u001b[32m[I 2021-12-15 12:10:11,207]\u001b[0m Trial 11 finished with value: 0.3447699693144058 and parameters: {'num_leaves': 60}. Best is trial 8 with value: 0.3447002352162008.\u001b[0m\n"
          ]
        },
        {
          "output_type": "stream",
          "name": "stdout",
          "text": [
            "Did not meet early stopping. Best iteration is:\n",
            "[100]\tTrain's rmse: 0.1133\tTest's rmse: 0.34477\n",
            "Training until validation scores don't improve for 50 rounds.\n"
          ]
        },
        {
          "output_type": "stream",
          "name": "stderr",
          "text": [
            "\u001b[32m[I 2021-12-15 12:10:11,871]\u001b[0m Trial 12 finished with value: 0.3432868043682804 and parameters: {'num_leaves': 56}. Best is trial 12 with value: 0.3432868043682804.\u001b[0m\n"
          ]
        },
        {
          "output_type": "stream",
          "name": "stdout",
          "text": [
            "Did not meet early stopping. Best iteration is:\n",
            "[100]\tTrain's rmse: 0.107605\tTest's rmse: 0.343287\n",
            "Training until validation scores don't improve for 50 rounds.\n"
          ]
        },
        {
          "output_type": "stream",
          "name": "stderr",
          "text": [
            "\u001b[32m[I 2021-12-15 12:10:12,336]\u001b[0m Trial 13 finished with value: 0.3384541017873612 and parameters: {'num_leaves': 34}. Best is trial 13 with value: 0.3384541017873612.\u001b[0m\n"
          ]
        },
        {
          "output_type": "stream",
          "name": "stdout",
          "text": [
            "Did not meet early stopping. Best iteration is:\n",
            "[100]\tTrain's rmse: 0.108582\tTest's rmse: 0.338454\n",
            "Training until validation scores don't improve for 50 rounds.\n"
          ]
        },
        {
          "output_type": "stream",
          "name": "stderr",
          "text": [
            "\u001b[32m[I 2021-12-15 12:10:13,056]\u001b[0m Trial 14 finished with value: 0.3406980972573652 and parameters: {'num_leaves': 63}. Best is trial 13 with value: 0.3384541017873612.\u001b[0m\n"
          ]
        },
        {
          "output_type": "stream",
          "name": "stdout",
          "text": [
            "Did not meet early stopping. Best iteration is:\n",
            "[100]\tTrain's rmse: 0.110712\tTest's rmse: 0.340698\n",
            "Training until validation scores don't improve for 50 rounds.\n"
          ]
        },
        {
          "output_type": "stream",
          "name": "stderr",
          "text": [
            "\u001b[32m[I 2021-12-15 12:10:14,860]\u001b[0m Trial 15 finished with value: 0.34721397182891556 and parameters: {'num_leaves': 243}. Best is trial 13 with value: 0.3384541017873612.\u001b[0m\n"
          ]
        },
        {
          "output_type": "stream",
          "name": "stdout",
          "text": [
            "Did not meet early stopping. Best iteration is:\n",
            "[100]\tTrain's rmse: 0.11263\tTest's rmse: 0.347214\n",
            "Training until validation scores don't improve for 50 rounds.\n"
          ]
        },
        {
          "output_type": "stream",
          "name": "stderr",
          "text": [
            "\u001b[32m[I 2021-12-15 12:10:16,016]\u001b[0m Trial 16 finished with value: 0.34957920929866204 and parameters: {'num_leaves': 131}. Best is trial 13 with value: 0.3384541017873612.\u001b[0m\n"
          ]
        },
        {
          "output_type": "stream",
          "name": "stdout",
          "text": [
            "Did not meet early stopping. Best iteration is:\n",
            "[100]\tTrain's rmse: 0.109741\tTest's rmse: 0.349579\n",
            "Training until validation scores don't improve for 50 rounds.\n"
          ]
        },
        {
          "output_type": "stream",
          "name": "stderr",
          "text": [
            "\u001b[32m[I 2021-12-15 12:10:17,263]\u001b[0m Trial 17 finished with value: 0.3451459697252792 and parameters: {'num_leaves': 146}. Best is trial 13 with value: 0.3384541017873612.\u001b[0m\n"
          ]
        },
        {
          "output_type": "stream",
          "name": "stdout",
          "text": [
            "Did not meet early stopping. Best iteration is:\n",
            "[100]\tTrain's rmse: 0.111373\tTest's rmse: 0.345146\n",
            "Training until validation scores don't improve for 50 rounds.\n"
          ]
        },
        {
          "output_type": "stream",
          "name": "stderr",
          "text": [
            "\u001b[32m[I 2021-12-15 12:10:17,485]\u001b[0m Trial 18 finished with value: 0.3477900575394168 and parameters: {'num_leaves': 7}. Best is trial 13 with value: 0.3384541017873612.\u001b[0m\n"
          ]
        },
        {
          "output_type": "stream",
          "name": "stdout",
          "text": [
            "Did not meet early stopping. Best iteration is:\n",
            "[100]\tTrain's rmse: 0.12141\tTest's rmse: 0.34779\n",
            "Training until validation scores don't improve for 50 rounds.\n"
          ]
        },
        {
          "output_type": "stream",
          "name": "stderr",
          "text": [
            "\u001b[32m[I 2021-12-15 12:10:18,403]\u001b[0m Trial 19 finished with value: 0.34414085377570125 and parameters: {'num_leaves': 97}. Best is trial 13 with value: 0.3384541017873612.\u001b[0m\n"
          ]
        },
        {
          "output_type": "stream",
          "name": "stdout",
          "text": [
            "Did not meet early stopping. Best iteration is:\n",
            "[100]\tTrain's rmse: 0.110296\tTest's rmse: 0.344141\n",
            "Training until validation scores don't improve for 50 rounds.\n"
          ]
        },
        {
          "output_type": "stream",
          "name": "stderr",
          "text": [
            "\u001b[32m[I 2021-12-15 12:10:19,333]\u001b[0m Trial 20 finished with value: 0.34487591966740877 and parameters: {'num_leaves': 96}. Best is trial 13 with value: 0.3384541017873612.\u001b[0m\n"
          ]
        },
        {
          "output_type": "stream",
          "name": "stdout",
          "text": [
            "Did not meet early stopping. Best iteration is:\n",
            "[100]\tTrain's rmse: 0.109824\tTest's rmse: 0.344876\n",
            "Training until validation scores don't improve for 50 rounds.\n"
          ]
        },
        {
          "output_type": "stream",
          "name": "stderr",
          "text": [
            "\u001b[32m[I 2021-12-15 12:10:20,810]\u001b[0m Trial 21 finished with value: 0.34884455565858186 and parameters: {'num_leaves': 184}. Best is trial 13 with value: 0.3384541017873612.\u001b[0m\n"
          ]
        },
        {
          "output_type": "stream",
          "name": "stdout",
          "text": [
            "Did not meet early stopping. Best iteration is:\n",
            "[100]\tTrain's rmse: 0.112436\tTest's rmse: 0.348845\n",
            "Training until validation scores don't improve for 50 rounds.\n"
          ]
        },
        {
          "output_type": "stream",
          "name": "stderr",
          "text": [
            "\u001b[32m[I 2021-12-15 12:10:21,304]\u001b[0m Trial 22 finished with value: 0.3498389794187244 and parameters: {'num_leaves': 36}. Best is trial 13 with value: 0.3384541017873612.\u001b[0m\n"
          ]
        },
        {
          "output_type": "stream",
          "name": "stdout",
          "text": [
            "Did not meet early stopping. Best iteration is:\n",
            "[100]\tTrain's rmse: 0.111416\tTest's rmse: 0.349839\n",
            "Training until validation scores don't improve for 50 rounds.\n"
          ]
        },
        {
          "output_type": "stream",
          "name": "stderr",
          "text": [
            "\u001b[32m[I 2021-12-15 12:10:22,215]\u001b[0m Trial 23 finished with value: 0.3492696144789494 and parameters: {'num_leaves': 93}. Best is trial 13 with value: 0.3384541017873612.\u001b[0m\n"
          ]
        },
        {
          "output_type": "stream",
          "name": "stdout",
          "text": [
            "Did not meet early stopping. Best iteration is:\n",
            "[100]\tTrain's rmse: 0.111556\tTest's rmse: 0.34927\n",
            "Training until validation scores don't improve for 50 rounds.\n"
          ]
        },
        {
          "output_type": "stream",
          "name": "stderr",
          "text": [
            "\u001b[32m[I 2021-12-15 12:10:23,617]\u001b[0m Trial 24 finished with value: 0.34607954458620704 and parameters: {'num_leaves': 171}. Best is trial 13 with value: 0.3384541017873612.\u001b[0m\n"
          ]
        },
        {
          "output_type": "stream",
          "name": "stdout",
          "text": [
            "Did not meet early stopping. Best iteration is:\n",
            "[100]\tTrain's rmse: 0.114872\tTest's rmse: 0.34608\n",
            "Training until validation scores don't improve for 50 rounds.\n"
          ]
        },
        {
          "output_type": "stream",
          "name": "stderr",
          "text": [
            "\u001b[32m[I 2021-12-15 12:10:24,472]\u001b[0m Trial 25 finished with value: 0.35012004491801574 and parameters: {'num_leaves': 85}. Best is trial 13 with value: 0.3384541017873612.\u001b[0m\n"
          ]
        },
        {
          "output_type": "stream",
          "name": "stdout",
          "text": [
            "Did not meet early stopping. Best iteration is:\n",
            "[100]\tTrain's rmse: 0.109056\tTest's rmse: 0.35012\n",
            "Training until validation scores don't improve for 50 rounds.\n"
          ]
        },
        {
          "output_type": "stream",
          "name": "stderr",
          "text": [
            "\u001b[32m[I 2021-12-15 12:10:25,009]\u001b[0m Trial 26 finished with value: 0.34441055223242273 and parameters: {'num_leaves': 37}. Best is trial 13 with value: 0.3384541017873612.\u001b[0m\n"
          ]
        },
        {
          "output_type": "stream",
          "name": "stdout",
          "text": [
            "Did not meet early stopping. Best iteration is:\n",
            "[100]\tTrain's rmse: 0.113481\tTest's rmse: 0.344411\n",
            "Training until validation scores don't improve for 50 rounds.\n"
          ]
        },
        {
          "output_type": "stream",
          "name": "stderr",
          "text": [
            "\u001b[32m[I 2021-12-15 12:10:25,572]\u001b[0m Trial 27 finished with value: 0.3481785462001098 and parameters: {'bagging_fraction': 0.9540471454090393, 'bagging_freq': 5}. Best is trial 27 with value: 0.3481785462001098.\u001b[0m\n"
          ]
        },
        {
          "output_type": "stream",
          "name": "stdout",
          "text": [
            "Did not meet early stopping. Best iteration is:\n",
            "[100]\tTrain's rmse: 0.114326\tTest's rmse: 0.348179\n",
            "Training until validation scores don't improve for 50 rounds.\n"
          ]
        },
        {
          "output_type": "stream",
          "name": "stderr",
          "text": [
            "\u001b[32m[I 2021-12-15 12:10:26,107]\u001b[0m Trial 28 finished with value: 0.33741643468316285 and parameters: {'bagging_fraction': 0.4549144223055764, 'bagging_freq': 5}. Best is trial 28 with value: 0.33741643468316285.\u001b[0m\n"
          ]
        },
        {
          "output_type": "stream",
          "name": "stdout",
          "text": [
            "Did not meet early stopping. Best iteration is:\n",
            "[100]\tTrain's rmse: 0.158204\tTest's rmse: 0.337416\n",
            "Training until validation scores don't improve for 50 rounds.\n"
          ]
        },
        {
          "output_type": "stream",
          "name": "stderr",
          "text": [
            "\u001b[32m[I 2021-12-15 12:10:26,629]\u001b[0m Trial 29 finished with value: 0.3364410759423888 and parameters: {'bagging_fraction': 0.5442325835822589, 'bagging_freq': 6}. Best is trial 29 with value: 0.3364410759423888.\u001b[0m\n"
          ]
        },
        {
          "output_type": "stream",
          "name": "stdout",
          "text": [
            "Did not meet early stopping. Best iteration is:\n",
            "[100]\tTrain's rmse: 0.146249\tTest's rmse: 0.336441\n",
            "Training until validation scores don't improve for 50 rounds.\n"
          ]
        },
        {
          "output_type": "stream",
          "name": "stderr",
          "text": [
            "\u001b[32m[I 2021-12-15 12:10:27,178]\u001b[0m Trial 30 finished with value: 0.32382549917785725 and parameters: {'bagging_fraction': 0.5829096402548706, 'bagging_freq': 2}. Best is trial 30 with value: 0.32382549917785725.\u001b[0m\n"
          ]
        },
        {
          "output_type": "stream",
          "name": "stdout",
          "text": [
            "Did not meet early stopping. Best iteration is:\n",
            "[100]\tTrain's rmse: 0.144946\tTest's rmse: 0.323825\n",
            "Training until validation scores don't improve for 50 rounds.\n"
          ]
        },
        {
          "output_type": "stream",
          "name": "stderr",
          "text": [
            "\u001b[32m[I 2021-12-15 12:10:27,698]\u001b[0m Trial 31 finished with value: 0.32640018436708085 and parameters: {'bagging_fraction': 0.5712041997652549, 'bagging_freq': 2}. Best is trial 30 with value: 0.32382549917785725.\u001b[0m\n"
          ]
        },
        {
          "output_type": "stream",
          "name": "stdout",
          "text": [
            "Did not meet early stopping. Best iteration is:\n",
            "[100]\tTrain's rmse: 0.144201\tTest's rmse: 0.3264\n",
            "Training until validation scores don't improve for 50 rounds.\n"
          ]
        },
        {
          "output_type": "stream",
          "name": "stderr",
          "text": [
            "\u001b[32m[I 2021-12-15 12:10:28,252]\u001b[0m Trial 32 finished with value: 0.32145386441300483 and parameters: {'bagging_fraction': 0.4183736662660874, 'bagging_freq': 1}. Best is trial 32 with value: 0.32145386441300483.\u001b[0m\n"
          ]
        },
        {
          "output_type": "stream",
          "name": "stdout",
          "text": [
            "Did not meet early stopping. Best iteration is:\n",
            "[100]\tTrain's rmse: 0.156174\tTest's rmse: 0.321454\n",
            "Training until validation scores don't improve for 50 rounds.\n"
          ]
        },
        {
          "output_type": "stream",
          "name": "stderr",
          "text": [
            "\u001b[32m[I 2021-12-15 12:10:28,779]\u001b[0m Trial 33 finished with value: 0.33173875658442054 and parameters: {'bagging_fraction': 0.7285072481982622, 'bagging_freq': 4}. Best is trial 32 with value: 0.32145386441300483.\u001b[0m\n"
          ]
        },
        {
          "output_type": "stream",
          "name": "stdout",
          "text": [
            "Early stopping, best iteration is:\n",
            "[49]\tTrain's rmse: 0.160635\tTest's rmse: 0.331739\n",
            "Training until validation scores don't improve for 50 rounds.\n"
          ]
        },
        {
          "output_type": "stream",
          "name": "stderr",
          "text": [
            "\u001b[32m[I 2021-12-15 12:10:29,288]\u001b[0m Trial 34 finished with value: 0.32096036874095896 and parameters: {'bagging_fraction': 0.8201756317483551, 'bagging_freq': 1}. Best is trial 34 with value: 0.32096036874095896.\u001b[0m\n"
          ]
        },
        {
          "output_type": "stream",
          "name": "stdout",
          "text": [
            "Did not meet early stopping. Best iteration is:\n",
            "[100]\tTrain's rmse: 0.133209\tTest's rmse: 0.32096\n",
            "Training until validation scores don't improve for 50 rounds.\n"
          ]
        },
        {
          "output_type": "stream",
          "name": "stderr",
          "text": [
            "\u001b[32m[I 2021-12-15 12:10:29,829]\u001b[0m Trial 35 finished with value: 0.3312943251177972 and parameters: {'bagging_fraction': 0.694692418340116, 'bagging_freq': 2}. Best is trial 34 with value: 0.32096036874095896.\u001b[0m\n"
          ]
        },
        {
          "output_type": "stream",
          "name": "stdout",
          "text": [
            "Did not meet early stopping. Best iteration is:\n",
            "[100]\tTrain's rmse: 0.138812\tTest's rmse: 0.331294\n",
            "Training until validation scores don't improve for 50 rounds.\n"
          ]
        },
        {
          "output_type": "stream",
          "name": "stderr",
          "text": [
            "\u001b[32m[I 2021-12-15 12:10:30,361]\u001b[0m Trial 36 finished with value: 0.3280038247975383 and parameters: {'bagging_fraction': 0.6231968439964253, 'bagging_freq': 3}. Best is trial 34 with value: 0.32096036874095896.\u001b[0m\n"
          ]
        },
        {
          "output_type": "stream",
          "name": "stdout",
          "text": [
            "Did not meet early stopping. Best iteration is:\n",
            "[100]\tTrain's rmse: 0.145361\tTest's rmse: 0.328004\n",
            "Training until validation scores don't improve for 50 rounds.\n"
          ]
        },
        {
          "output_type": "stream",
          "name": "stderr",
          "text": [
            "\u001b[32m[I 2021-12-15 12:10:30,853]\u001b[0m Trial 37 finished with value: 0.3201556722049721 and parameters: {'feature_fraction': 0.784}. Best is trial 37 with value: 0.3201556722049721.\u001b[0m\n"
          ]
        },
        {
          "output_type": "stream",
          "name": "stdout",
          "text": [
            "Did not meet early stopping. Best iteration is:\n",
            "[100]\tTrain's rmse: 0.132369\tTest's rmse: 0.320156\n",
            "Training until validation scores don't improve for 50 rounds.\n"
          ]
        },
        {
          "output_type": "stream",
          "name": "stderr",
          "text": [
            "\u001b[32m[I 2021-12-15 12:10:31,352]\u001b[0m Trial 38 finished with value: 0.32096036874095896 and parameters: {'feature_fraction': 0.8480000000000001}. Best is trial 37 with value: 0.3201556722049721.\u001b[0m\n"
          ]
        },
        {
          "output_type": "stream",
          "name": "stdout",
          "text": [
            "Did not meet early stopping. Best iteration is:\n",
            "[100]\tTrain's rmse: 0.133209\tTest's rmse: 0.32096\n",
            "Training until validation scores don't improve for 50 rounds.\n"
          ]
        },
        {
          "output_type": "stream",
          "name": "stderr",
          "text": [
            "\u001b[32m[I 2021-12-15 12:10:31,847]\u001b[0m Trial 39 finished with value: 0.3201556722049721 and parameters: {'feature_fraction': 0.7520000000000001}. Best is trial 37 with value: 0.3201556722049721.\u001b[0m\n"
          ]
        },
        {
          "output_type": "stream",
          "name": "stdout",
          "text": [
            "Did not meet early stopping. Best iteration is:\n",
            "[100]\tTrain's rmse: 0.132369\tTest's rmse: 0.320156\n",
            "Training until validation scores don't improve for 50 rounds.\n"
          ]
        },
        {
          "output_type": "stream",
          "name": "stderr",
          "text": [
            "\u001b[32m[I 2021-12-15 12:10:32,342]\u001b[0m Trial 40 finished with value: 0.32096036874095896 and parameters: {'feature_fraction': 0.8160000000000001}. Best is trial 37 with value: 0.3201556722049721.\u001b[0m\n"
          ]
        },
        {
          "output_type": "stream",
          "name": "stdout",
          "text": [
            "Did not meet early stopping. Best iteration is:\n",
            "[100]\tTrain's rmse: 0.133209\tTest's rmse: 0.32096\n",
            "Training until validation scores don't improve for 50 rounds.\n"
          ]
        },
        {
          "output_type": "stream",
          "name": "stderr",
          "text": [
            "\u001b[32m[I 2021-12-15 12:10:32,815]\u001b[0m Trial 41 finished with value: 0.33951128031632133 and parameters: {'feature_fraction': 0.7200000000000001}. Best is trial 37 with value: 0.3201556722049721.\u001b[0m\n"
          ]
        },
        {
          "output_type": "stream",
          "name": "stdout",
          "text": [
            "Did not meet early stopping. Best iteration is:\n",
            "[100]\tTrain's rmse: 0.128162\tTest's rmse: 0.339511\n",
            "Training until validation scores don't improve for 50 rounds.\n"
          ]
        },
        {
          "output_type": "stream",
          "name": "stderr",
          "text": [
            "\u001b[32m[I 2021-12-15 12:10:33,331]\u001b[0m Trial 42 finished with value: 0.3182710328541911 and parameters: {'feature_fraction': 0.88}. Best is trial 42 with value: 0.3182710328541911.\u001b[0m\n"
          ]
        },
        {
          "output_type": "stream",
          "name": "stdout",
          "text": [
            "Did not meet early stopping. Best iteration is:\n",
            "[100]\tTrain's rmse: 0.137668\tTest's rmse: 0.318271\n",
            "Training until validation scores don't improve for 50 rounds.\n"
          ]
        },
        {
          "output_type": "stream",
          "name": "stderr",
          "text": [
            "\u001b[32m[I 2021-12-15 12:10:33,812]\u001b[0m Trial 43 finished with value: 0.32320659713176875 and parameters: {'lambda_l1': 0.7334198267988105, 'lambda_l2': 0.7338909034416901}. Best is trial 43 with value: 0.32320659713176875.\u001b[0m\n"
          ]
        },
        {
          "output_type": "stream",
          "name": "stdout",
          "text": [
            "Did not meet early stopping. Best iteration is:\n",
            "[100]\tTrain's rmse: 0.135106\tTest's rmse: 0.323207\n",
            "Training until validation scores don't improve for 50 rounds.\n"
          ]
        },
        {
          "output_type": "stream",
          "name": "stderr",
          "text": [
            "\u001b[32m[I 2021-12-15 12:10:34,336]\u001b[0m Trial 44 finished with value: 0.3190807251965779 and parameters: {'lambda_l1': 7.577062999807938e-05, 'lambda_l2': 0.991676170167927}. Best is trial 44 with value: 0.3190807251965779.\u001b[0m\n"
          ]
        },
        {
          "output_type": "stream",
          "name": "stdout",
          "text": [
            "Did not meet early stopping. Best iteration is:\n",
            "[100]\tTrain's rmse: 0.136703\tTest's rmse: 0.319081\n",
            "Training until validation scores don't improve for 50 rounds.\n"
          ]
        },
        {
          "output_type": "stream",
          "name": "stderr",
          "text": [
            "\u001b[32m[I 2021-12-15 12:10:34,852]\u001b[0m Trial 45 finished with value: 0.3182710329650337 and parameters: {'lambda_l1': 7.659107260113919e-08, 'lambda_l2': 2.5688501041262217e-07}. Best is trial 45 with value: 0.3182710329650337.\u001b[0m\n"
          ]
        },
        {
          "output_type": "stream",
          "name": "stdout",
          "text": [
            "Did not meet early stopping. Best iteration is:\n",
            "[100]\tTrain's rmse: 0.137668\tTest's rmse: 0.318271\n",
            "Training until validation scores don't improve for 50 rounds.\n"
          ]
        },
        {
          "output_type": "stream",
          "name": "stderr",
          "text": [
            "\u001b[32m[I 2021-12-15 12:10:35,241]\u001b[0m Trial 46 finished with value: 0.3312701262177367 and parameters: {'lambda_l1': 7.58067767185021, 'lambda_l2': 2.1937833986342256e-07}. Best is trial 45 with value: 0.3182710329650337.\u001b[0m\n"
          ]
        },
        {
          "output_type": "stream",
          "name": "stdout",
          "text": [
            "Did not meet early stopping. Best iteration is:\n",
            "[100]\tTrain's rmse: 0.139649\tTest's rmse: 0.33127\n",
            "Training until validation scores don't improve for 50 rounds.\n"
          ]
        },
        {
          "output_type": "stream",
          "name": "stderr",
          "text": [
            "\u001b[32m[I 2021-12-15 12:10:35,779]\u001b[0m Trial 47 finished with value: 0.318271106879295 and parameters: {'lambda_l1': 4.2513500740477706e-05, 'lambda_l2': 2.6982136748595097e-05}. Best is trial 45 with value: 0.3182710329650337.\u001b[0m\n"
          ]
        },
        {
          "output_type": "stream",
          "name": "stdout",
          "text": [
            "Did not meet early stopping. Best iteration is:\n",
            "[100]\tTrain's rmse: 0.137668\tTest's rmse: 0.318271\n",
            "Training until validation scores don't improve for 50 rounds.\n"
          ]
        },
        {
          "output_type": "stream",
          "name": "stderr",
          "text": [
            "\u001b[32m[I 2021-12-15 12:10:36,337]\u001b[0m Trial 48 finished with value: 0.32027641132513096 and parameters: {'lambda_l1': 0.004521826761287237, 'lambda_l2': 2.1400822674912114}. Best is trial 45 with value: 0.3182710329650337.\u001b[0m\n"
          ]
        },
        {
          "output_type": "stream",
          "name": "stdout",
          "text": [
            "Did not meet early stopping. Best iteration is:\n",
            "[100]\tTrain's rmse: 0.138176\tTest's rmse: 0.320276\n",
            "Training until validation scores don't improve for 50 rounds.\n"
          ]
        },
        {
          "output_type": "stream",
          "name": "stderr",
          "text": [
            "\u001b[32m[I 2021-12-15 12:10:36,837]\u001b[0m Trial 49 finished with value: 0.3213434926786573 and parameters: {'lambda_l1': 0.36398996333539074, 'lambda_l2': 3.2170984549632e-08}. Best is trial 45 with value: 0.3182710329650337.\u001b[0m\n"
          ]
        },
        {
          "output_type": "stream",
          "name": "stdout",
          "text": [
            "Did not meet early stopping. Best iteration is:\n",
            "[100]\tTrain's rmse: 0.135348\tTest's rmse: 0.321343\n",
            "Training until validation scores don't improve for 50 rounds.\n"
          ]
        },
        {
          "output_type": "stream",
          "name": "stderr",
          "text": [
            "\u001b[32m[I 2021-12-15 12:10:37,383]\u001b[0m Trial 50 finished with value: 0.32035527166373584 and parameters: {'lambda_l1': 0.11646944302121318, 'lambda_l2': 6.478508580198945e-05}. Best is trial 45 with value: 0.3182710329650337.\u001b[0m\n"
          ]
        },
        {
          "output_type": "stream",
          "name": "stdout",
          "text": [
            "Did not meet early stopping. Best iteration is:\n",
            "[100]\tTrain's rmse: 0.133843\tTest's rmse: 0.320355\n",
            "Training until validation scores don't improve for 50 rounds.\n"
          ]
        },
        {
          "output_type": "stream",
          "name": "stderr",
          "text": [
            "\u001b[32m[I 2021-12-15 12:10:37,911]\u001b[0m Trial 51 finished with value: 0.3189709412468168 and parameters: {'lambda_l1': 0.0006577038865231322, 'lambda_l2': 0.00015312744384491576}. Best is trial 45 with value: 0.3182710329650337.\u001b[0m\n"
          ]
        },
        {
          "output_type": "stream",
          "name": "stdout",
          "text": [
            "Did not meet early stopping. Best iteration is:\n",
            "[100]\tTrain's rmse: 0.139039\tTest's rmse: 0.318971\n",
            "Training until validation scores don't improve for 50 rounds.\n"
          ]
        },
        {
          "output_type": "stream",
          "name": "stderr",
          "text": [
            "\u001b[32m[I 2021-12-15 12:10:38,457]\u001b[0m Trial 52 finished with value: 0.3189708749752083 and parameters: {'lambda_l1': 0.0006153227892021464, 'lambda_l2': 2.262566634167268e-08}. Best is trial 45 with value: 0.3182710329650337.\u001b[0m\n"
          ]
        },
        {
          "output_type": "stream",
          "name": "stdout",
          "text": [
            "Did not meet early stopping. Best iteration is:\n",
            "[100]\tTrain's rmse: 0.139039\tTest's rmse: 0.318971\n",
            "Training until validation scores don't improve for 50 rounds.\n"
          ]
        },
        {
          "output_type": "stream",
          "name": "stderr",
          "text": [
            "\u001b[32m[I 2021-12-15 12:10:38,978]\u001b[0m Trial 53 finished with value: 0.3201008554331405 and parameters: {'lambda_l1': 1.1658558967815658e-08, 'lambda_l2': 0.010541771535725114}. Best is trial 45 with value: 0.3182710329650337.\u001b[0m\n"
          ]
        },
        {
          "output_type": "stream",
          "name": "stdout",
          "text": [
            "Did not meet early stopping. Best iteration is:\n",
            "[100]\tTrain's rmse: 0.136224\tTest's rmse: 0.320101\n",
            "Training until validation scores don't improve for 50 rounds.\n"
          ]
        },
        {
          "output_type": "stream",
          "name": "stderr",
          "text": [
            "\u001b[32m[I 2021-12-15 12:10:39,502]\u001b[0m Trial 54 finished with value: 0.31827103353506986 and parameters: {'lambda_l1': 4.19700179984955e-07, 'lambda_l2': 2.350296624255239e-06}. Best is trial 45 with value: 0.3182710329650337.\u001b[0m\n"
          ]
        },
        {
          "output_type": "stream",
          "name": "stdout",
          "text": [
            "Did not meet early stopping. Best iteration is:\n",
            "[100]\tTrain's rmse: 0.137668\tTest's rmse: 0.318271\n",
            "Training until validation scores don't improve for 50 rounds.\n"
          ]
        },
        {
          "output_type": "stream",
          "name": "stderr",
          "text": [
            "\u001b[32m[I 2021-12-15 12:10:40,064]\u001b[0m Trial 55 finished with value: 0.31827103295295517 and parameters: {'lambda_l1': 7.347047297383403e-08, 'lambda_l2': 1.3696757998163466e-06}. Best is trial 55 with value: 0.31827103295295517.\u001b[0m\n"
          ]
        },
        {
          "output_type": "stream",
          "name": "stdout",
          "text": [
            "Did not meet early stopping. Best iteration is:\n",
            "[100]\tTrain's rmse: 0.137668\tTest's rmse: 0.318271\n",
            "Training until validation scores don't improve for 50 rounds.\n"
          ]
        },
        {
          "output_type": "stream",
          "name": "stderr",
          "text": [
            "\u001b[32m[I 2021-12-15 12:10:40,593]\u001b[0m Trial 56 finished with value: 0.3182710332719442 and parameters: {'lambda_l1': 3.247154599050401e-07, 'lambda_l2': 1.7211760907518176e-06}. Best is trial 55 with value: 0.31827103295295517.\u001b[0m\n"
          ]
        },
        {
          "output_type": "stream",
          "name": "stdout",
          "text": [
            "Did not meet early stopping. Best iteration is:\n",
            "[100]\tTrain's rmse: 0.137668\tTest's rmse: 0.318271\n",
            "Training until validation scores don't improve for 50 rounds.\n"
          ]
        },
        {
          "output_type": "stream",
          "name": "stderr",
          "text": [
            "\u001b[32m[I 2021-12-15 12:10:41,106]\u001b[0m Trial 57 finished with value: 0.31909522220304654 and parameters: {'lambda_l1': 1.0053405501388568e-08, 'lambda_l2': 0.003315981286936372}. Best is trial 55 with value: 0.31827103295295517.\u001b[0m\n"
          ]
        },
        {
          "output_type": "stream",
          "name": "stdout",
          "text": [
            "Did not meet early stopping. Best iteration is:\n",
            "[100]\tTrain's rmse: 0.139029\tTest's rmse: 0.319095\n",
            "Training until validation scores don't improve for 50 rounds.\n"
          ]
        },
        {
          "output_type": "stream",
          "name": "stderr",
          "text": [
            "\u001b[32m[I 2021-12-15 12:10:41,630]\u001b[0m Trial 58 finished with value: 0.31827103424657854 and parameters: {'lambda_l1': 8.197340038915225e-07, 'lambda_l2': 2.295559671391911e-06}. Best is trial 55 with value: 0.31827103295295517.\u001b[0m\n"
          ]
        },
        {
          "output_type": "stream",
          "name": "stdout",
          "text": [
            "Did not meet early stopping. Best iteration is:\n",
            "[100]\tTrain's rmse: 0.137668\tTest's rmse: 0.318271\n",
            "Training until validation scores don't improve for 50 rounds.\n"
          ]
        },
        {
          "output_type": "stream",
          "name": "stderr",
          "text": [
            "\u001b[32m[I 2021-12-15 12:10:42,128]\u001b[0m Trial 59 finished with value: 0.31827104383292953 and parameters: {'lambda_l1': 6.251623805080845e-06, 'lambda_l2': 2.4190237129951565e-07}. Best is trial 55 with value: 0.31827103295295517.\u001b[0m\n"
          ]
        },
        {
          "output_type": "stream",
          "name": "stdout",
          "text": [
            "Did not meet early stopping. Best iteration is:\n",
            "[100]\tTrain's rmse: 0.137668\tTest's rmse: 0.318271\n",
            "Training until validation scores don't improve for 50 rounds.\n"
          ]
        },
        {
          "output_type": "stream",
          "name": "stderr",
          "text": [
            "\u001b[32m[I 2021-12-15 12:10:42,644]\u001b[0m Trial 60 finished with value: 0.31849360220790757 and parameters: {'lambda_l1': 5.2033406150860006e-08, 'lambda_l2': 0.0015146003660347063}. Best is trial 55 with value: 0.31827103295295517.\u001b[0m\n"
          ]
        },
        {
          "output_type": "stream",
          "name": "stdout",
          "text": [
            "Did not meet early stopping. Best iteration is:\n",
            "[100]\tTrain's rmse: 0.140158\tTest's rmse: 0.318494\n",
            "Training until validation scores don't improve for 50 rounds.\n"
          ]
        },
        {
          "output_type": "stream",
          "name": "stderr",
          "text": [
            "\u001b[32m[I 2021-12-15 12:10:43,166]\u001b[0m Trial 61 finished with value: 0.318271037080861 and parameters: {'lambda_l1': 2.647254957571595e-06, 'lambda_l2': 1.3308979608953577e-05}. Best is trial 55 with value: 0.31827103295295517.\u001b[0m\n"
          ]
        },
        {
          "output_type": "stream",
          "name": "stdout",
          "text": [
            "Did not meet early stopping. Best iteration is:\n",
            "[100]\tTrain's rmse: 0.137668\tTest's rmse: 0.318271\n",
            "Training until validation scores don't improve for 50 rounds.\n"
          ]
        },
        {
          "output_type": "stream",
          "name": "stderr",
          "text": [
            "\u001b[32m[I 2021-12-15 12:10:43,708]\u001b[0m Trial 62 finished with value: 0.3182710331210188 and parameters: {'lambda_l1': 1.5848447683976994e-07, 'lambda_l2': 1.7726364950405905e-07}. Best is trial 55 with value: 0.31827103295295517.\u001b[0m\n"
          ]
        },
        {
          "output_type": "stream",
          "name": "stdout",
          "text": [
            "Did not meet early stopping. Best iteration is:\n",
            "[100]\tTrain's rmse: 0.137668\tTest's rmse: 0.318271\n",
            "Training until validation scores don't improve for 50 rounds.\n"
          ]
        },
        {
          "output_type": "stream",
          "name": "stderr",
          "text": [
            "\u001b[32m[I 2021-12-15 12:10:44,234]\u001b[0m Trial 63 finished with value: 0.40253011486547635 and parameters: {'min_child_samples': 100}. Best is trial 63 with value: 0.40253011486547635.\u001b[0m\n"
          ]
        },
        {
          "output_type": "stream",
          "name": "stdout",
          "text": [
            "Did not meet early stopping. Best iteration is:\n",
            "[100]\tTrain's rmse: 0.252123\tTest's rmse: 0.40253\n",
            "Training until validation scores don't improve for 50 rounds.\n"
          ]
        },
        {
          "output_type": "stream",
          "name": "stderr",
          "text": [
            "\u001b[32m[I 2021-12-15 12:10:44,724]\u001b[0m Trial 64 finished with value: 0.3469096708194726 and parameters: {'min_child_samples': 10}. Best is trial 64 with value: 0.3469096708194726.\u001b[0m\n"
          ]
        },
        {
          "output_type": "stream",
          "name": "stdout",
          "text": [
            "Early stopping, best iteration is:\n",
            "[44]\tTrain's rmse: 0.10751\tTest's rmse: 0.34691\n",
            "Training until validation scores don't improve for 50 rounds.\n"
          ]
        },
        {
          "output_type": "stream",
          "name": "stderr",
          "text": [
            "\u001b[32m[I 2021-12-15 12:10:45,995]\u001b[0m Trial 65 finished with value: 0.3766801283028537 and parameters: {'min_child_samples': 50}. Best is trial 64 with value: 0.3469096708194726.\u001b[0m\n"
          ]
        },
        {
          "output_type": "stream",
          "name": "stdout",
          "text": [
            "Did not meet early stopping. Best iteration is:\n",
            "[100]\tTrain's rmse: 0.207471\tTest's rmse: 0.37668\n",
            "Training until validation scores don't improve for 50 rounds.\n"
          ]
        },
        {
          "output_type": "stream",
          "name": "stderr",
          "text": [
            "\u001b[32m[I 2021-12-15 12:10:46,490]\u001b[0m Trial 66 finished with value: 0.3477502567300572 and parameters: {'min_child_samples': 5}. Best is trial 64 with value: 0.3469096708194726.\u001b[0m\n"
          ]
        },
        {
          "output_type": "stream",
          "name": "stdout",
          "text": [
            "Did not meet early stopping. Best iteration is:\n",
            "[100]\tTrain's rmse: 0.0253323\tTest's rmse: 0.34775\n",
            "Training until validation scores don't improve for 50 rounds.\n"
          ]
        },
        {
          "output_type": "stream",
          "name": "stderr",
          "text": [
            "\u001b[32m[I 2021-12-15 12:10:47,007]\u001b[0m Trial 67 finished with value: 0.31681978895152546 and parameters: {'min_child_samples': 25}. Best is trial 67 with value: 0.31681978895152546.\u001b[0m\n"
          ]
        },
        {
          "output_type": "stream",
          "name": "stdout",
          "text": [
            "Did not meet early stopping. Best iteration is:\n",
            "[100]\tTrain's rmse: 0.142274\tTest's rmse: 0.31682\n"
          ]
        },
        {
          "output_type": "display_data",
          "data": {
            "image/png": "[encoded data removed]",
            "text/plain": [
              "<Figure size 432x288 with 1 Axes>"
            ]
          },
          "metadata": {
            "needs_background": "light"
          }
        },
        {
          "output_type": "stream",
          "name": "stderr",
          "text": [
            "\u001b[32m[I 2021-12-15 12:10:47,241]\u001b[0m A new study created in memory with name: no-name-9f58cd4c-e689-433d-9df9-a05adfb32c16\u001b[0m\n"
          ]
        },
        {
          "output_type": "stream",
          "name": "stdout",
          "text": [
            "Training until validation scores don't improve for 50 rounds.\n"
          ]
        },
        {
          "output_type": "stream",
          "name": "stderr",
          "text": [
            "\u001b[32m[I 2021-12-15 12:10:47,751]\u001b[0m Trial 0 finished with value: 0.11199663372018694 and parameters: {'feature_fraction': 1.0}. Best is trial 0 with value: 0.11199663372018694.\u001b[0m\n"
          ]
        },
        {
          "output_type": "stream",
          "name": "stdout",
          "text": [
            "Did not meet early stopping. Best iteration is:\n",
            "[100]\tTrain's rmse: 0.148628\tTest's rmse: 0.111997\n",
            "Training until validation scores don't improve for 50 rounds.\n"
          ]
        },
        {
          "output_type": "stream",
          "name": "stderr",
          "text": [
            "\u001b[32m[I 2021-12-15 12:10:48,224]\u001b[0m Trial 1 finished with value: 0.11007959705896872 and parameters: {'feature_fraction': 0.8999999999999999}. Best is trial 1 with value: 0.11007959705896872.\u001b[0m\n"
          ]
        },
        {
          "output_type": "stream",
          "name": "stdout",
          "text": [
            "Did not meet early stopping. Best iteration is:\n",
            "[100]\tTrain's rmse: 0.146464\tTest's rmse: 0.11008\n",
            "Training until validation scores don't improve for 50 rounds.\n"
          ]
        },
        {
          "output_type": "stream",
          "name": "stderr",
          "text": [
            "\u001b[32m[I 2021-12-15 12:10:48,698]\u001b[0m Trial 2 finished with value: 0.10719557951928363 and parameters: {'feature_fraction': 0.8}. Best is trial 2 with value: 0.10719557951928363.\u001b[0m\n"
          ]
        },
        {
          "output_type": "stream",
          "name": "stdout",
          "text": [
            "Did not meet early stopping. Best iteration is:\n",
            "[100]\tTrain's rmse: 0.131381\tTest's rmse: 0.107196\n",
            "Training until validation scores don't improve for 50 rounds.\n"
          ]
        },
        {
          "output_type": "stream",
          "name": "stderr",
          "text": [
            "\u001b[32m[I 2021-12-15 12:10:49,082]\u001b[0m Trial 3 finished with value: 0.13610145954023592 and parameters: {'feature_fraction': 0.5}. Best is trial 2 with value: 0.10719557951928363.\u001b[0m\n"
          ]
        },
        {
          "output_type": "stream",
          "name": "stdout",
          "text": [
            "Did not meet early stopping. Best iteration is:\n",
            "[100]\tTrain's rmse: 0.133052\tTest's rmse: 0.136101\n",
            "Training until validation scores don't improve for 50 rounds.\n"
          ]
        },
        {
          "output_type": "stream",
          "name": "stderr",
          "text": [
            "\u001b[32m[I 2021-12-15 12:10:49,439]\u001b[0m Trial 4 finished with value: 0.13951428268921193 and parameters: {'feature_fraction': 0.4}. Best is trial 2 with value: 0.10719557951928363.\u001b[0m\n"
          ]
        },
        {
          "output_type": "stream",
          "name": "stdout",
          "text": [
            "Did not meet early stopping. Best iteration is:\n",
            "[100]\tTrain's rmse: 0.140926\tTest's rmse: 0.139514\n",
            "Training until validation scores don't improve for 50 rounds.\n"
          ]
        },
        {
          "output_type": "stream",
          "name": "stderr",
          "text": [
            "\u001b[32m[I 2021-12-15 12:10:49,862]\u001b[0m Trial 5 finished with value: 0.10971220492343477 and parameters: {'feature_fraction': 0.7}. Best is trial 2 with value: 0.10719557951928363.\u001b[0m\n"
          ]
        },
        {
          "output_type": "stream",
          "name": "stdout",
          "text": [
            "Did not meet early stopping. Best iteration is:\n",
            "[100]\tTrain's rmse: 0.128728\tTest's rmse: 0.109712\n",
            "Training until validation scores don't improve for 50 rounds.\n"
          ]
        },
        {
          "output_type": "stream",
          "name": "stderr",
          "text": [
            "\u001b[32m[I 2021-12-15 12:10:50,301]\u001b[0m Trial 6 finished with value: 0.12471472614397411 and parameters: {'feature_fraction': 0.6}. Best is trial 2 with value: 0.10719557951928363.\u001b[0m\n"
          ]
        },
        {
          "output_type": "stream",
          "name": "stdout",
          "text": [
            "Did not meet early stopping. Best iteration is:\n",
            "[100]\tTrain's rmse: 0.131213\tTest's rmse: 0.124715\n",
            "Training until validation scores don't improve for 50 rounds.\n"
          ]
        },
        {
          "output_type": "stream",
          "name": "stderr",
          "text": [
            "\u001b[32m[I 2021-12-15 12:10:52,040]\u001b[0m Trial 7 finished with value: 0.1135292053541052 and parameters: {'num_leaves': 233}. Best is trial 7 with value: 0.1135292053541052.\u001b[0m\n"
          ]
        },
        {
          "output_type": "stream",
          "name": "stdout",
          "text": [
            "Did not meet early stopping. Best iteration is:\n",
            "[100]\tTrain's rmse: 0.131245\tTest's rmse: 0.113529\n",
            "Training until validation scores don't improve for 50 rounds.\n"
          ]
        },
        {
          "output_type": "stream",
          "name": "stderr",
          "text": [
            "\u001b[32m[I 2021-12-15 12:10:52,348]\u001b[0m Trial 8 finished with value: 0.10723023657602192 and parameters: {'num_leaves': 15}. Best is trial 8 with value: 0.10723023657602192.\u001b[0m\n"
          ]
        },
        {
          "output_type": "stream",
          "name": "stdout",
          "text": [
            "Did not meet early stopping. Best iteration is:\n",
            "[100]\tTrain's rmse: 0.135815\tTest's rmse: 0.10723\n",
            "Training until validation scores don't improve for 50 rounds.\n"
          ]
        },
        {
          "output_type": "stream",
          "name": "stderr",
          "text": [
            "\u001b[32m[I 2021-12-15 12:10:54,039]\u001b[0m Trial 9 finished with value: 0.11645120532964132 and parameters: {'num_leaves': 219}. Best is trial 8 with value: 0.10723023657602192.\u001b[0m\n"
          ]
        },
        {
          "output_type": "stream",
          "name": "stdout",
          "text": [
            "Did not meet early stopping. Best iteration is:\n",
            "[100]\tTrain's rmse: 0.130809\tTest's rmse: 0.116451\n",
            "Training until validation scores don't improve for 50 rounds.\n"
          ]
        },
        {
          "output_type": "stream",
          "name": "stderr",
          "text": [
            "\u001b[32m[I 2021-12-15 12:10:55,640]\u001b[0m Trial 10 finished with value: 0.11472214660674829 and parameters: {'num_leaves': 203}. Best is trial 8 with value: 0.10723023657602192.\u001b[0m\n"
          ]
        },
        {
          "output_type": "stream",
          "name": "stdout",
          "text": [
            "Did not meet early stopping. Best iteration is:\n",
            "[100]\tTrain's rmse: 0.128666\tTest's rmse: 0.114722\n",
            "Training until validation scores don't improve for 50 rounds.\n"
          ]
        },
        {
          "output_type": "stream",
          "name": "stderr",
          "text": [
            "\u001b[32m[I 2021-12-15 12:10:56,960]\u001b[0m Trial 11 finished with value: 0.11523802642655778 and parameters: {'num_leaves': 155}. Best is trial 8 with value: 0.10723023657602192.\u001b[0m\n"
          ]
        },
        {
          "output_type": "stream",
          "name": "stdout",
          "text": [
            "Did not meet early stopping. Best iteration is:\n",
            "[100]\tTrain's rmse: 0.136845\tTest's rmse: 0.115238\n",
            "Training until validation scores don't improve for 50 rounds.\n"
          ]
        },
        {
          "output_type": "stream",
          "name": "stderr",
          "text": [
            "\u001b[32m[I 2021-12-15 12:10:58,003]\u001b[0m Trial 12 finished with value: 0.1126298405180178 and parameters: {'num_leaves': 115}. Best is trial 8 with value: 0.10723023657602192.\u001b[0m\n"
          ]
        },
        {
          "output_type": "stream",
          "name": "stdout",
          "text": [
            "Did not meet early stopping. Best iteration is:\n",
            "[100]\tTrain's rmse: 0.132426\tTest's rmse: 0.11263\n",
            "Training until validation scores don't improve for 50 rounds.\n"
          ]
        },
        {
          "output_type": "stream",
          "name": "stderr",
          "text": [
            "\u001b[32m[I 2021-12-15 12:10:59,205]\u001b[0m Trial 13 finished with value: 0.11346526561050937 and parameters: {'num_leaves': 136}. Best is trial 8 with value: 0.10723023657602192.\u001b[0m\n"
          ]
        },
        {
          "output_type": "stream",
          "name": "stdout",
          "text": [
            "Did not meet early stopping. Best iteration is:\n",
            "[100]\tTrain's rmse: 0.133541\tTest's rmse: 0.113465\n",
            "Training until validation scores don't improve for 50 rounds.\n"
          ]
        },
        {
          "output_type": "stream",
          "name": "stderr",
          "text": [
            "\u001b[32m[I 2021-12-15 12:10:59,904]\u001b[0m Trial 14 finished with value: 0.10963187051404438 and parameters: {'num_leaves': 63}. Best is trial 8 with value: 0.10723023657602192.\u001b[0m\n"
          ]
        },
        {
          "output_type": "stream",
          "name": "stdout",
          "text": [
            "Did not meet early stopping. Best iteration is:\n",
            "[100]\tTrain's rmse: 0.131644\tTest's rmse: 0.109632\n",
            "Training until validation scores don't improve for 50 rounds.\n"
          ]
        },
        {
          "output_type": "stream",
          "name": "stderr",
          "text": [
            "\u001b[32m[I 2021-12-15 12:11:01,717]\u001b[0m Trial 15 finished with value: 0.1174744784365156 and parameters: {'num_leaves': 253}. Best is trial 8 with value: 0.10723023657602192.\u001b[0m\n"
          ]
        },
        {
          "output_type": "stream",
          "name": "stdout",
          "text": [
            "Did not meet early stopping. Best iteration is:\n",
            "[100]\tTrain's rmse: 0.136922\tTest's rmse: 0.117474\n",
            "Training until validation scores don't improve for 50 rounds.\n"
          ]
        },
        {
          "output_type": "stream",
          "name": "stderr",
          "text": [
            "\u001b[32m[I 2021-12-15 12:11:02,420]\u001b[0m Trial 16 finished with value: 0.10784182596665629 and parameters: {'num_leaves': 65}. Best is trial 8 with value: 0.10723023657602192.\u001b[0m\n",
            "\u001b[32m[I 2021-12-15 12:11:02,556]\u001b[0m Trial 17 finished with value: 0.12256563719876422 and parameters: {'num_leaves': 2}. Best is trial 8 with value: 0.10723023657602192.\u001b[0m\n"
          ]
        },
        {
          "output_type": "stream",
          "name": "stdout",
          "text": [
            "Did not meet early stopping. Best iteration is:\n",
            "[100]\tTrain's rmse: 0.135998\tTest's rmse: 0.107842\n",
            "Training until validation scores don't improve for 50 rounds.\n",
            "Did not meet early stopping. Best iteration is:\n",
            "[100]\tTrain's rmse: 0.216555\tTest's rmse: 0.122566\n",
            "Training until validation scores don't improve for 50 rounds.\n"
          ]
        },
        {
          "output_type": "stream",
          "name": "stderr",
          "text": [
            "\u001b[32m[I 2021-12-15 12:11:02,867]\u001b[0m Trial 18 finished with value: 0.10705654315556715 and parameters: {'num_leaves': 13}. Best is trial 18 with value: 0.10705654315556715.\u001b[0m\n"
          ]
        },
        {
          "output_type": "stream",
          "name": "stdout",
          "text": [
            "Did not meet early stopping. Best iteration is:\n",
            "[100]\tTrain's rmse: 0.134947\tTest's rmse: 0.107057\n",
            "Training until validation scores don't improve for 50 rounds.\n"
          ]
        },
        {
          "output_type": "stream",
          "name": "stderr",
          "text": [
            "\u001b[32m[I 2021-12-15 12:11:03,109]\u001b[0m Trial 19 finished with value: 0.11308222184900267 and parameters: {'num_leaves': 9}. Best is trial 18 with value: 0.10705654315556715.\u001b[0m\n"
          ]
        },
        {
          "output_type": "stream",
          "name": "stdout",
          "text": [
            "Did not meet early stopping. Best iteration is:\n",
            "[100]\tTrain's rmse: 0.133801\tTest's rmse: 0.113082\n",
            "Training until validation scores don't improve for 50 rounds.\n"
          ]
        },
        {
          "output_type": "stream",
          "name": "stderr",
          "text": [
            "\u001b[32m[I 2021-12-15 12:11:03,664]\u001b[0m Trial 20 finished with value: 0.11144286506999754 and parameters: {'num_leaves': 47}. Best is trial 18 with value: 0.10705654315556715.\u001b[0m\n"
          ]
        },
        {
          "output_type": "stream",
          "name": "stdout",
          "text": [
            "Did not meet early stopping. Best iteration is:\n",
            "[100]\tTrain's rmse: 0.127994\tTest's rmse: 0.111443\n",
            "Training until validation scores don't improve for 50 rounds.\n"
          ]
        },
        {
          "output_type": "stream",
          "name": "stderr",
          "text": [
            "\u001b[32m[I 2021-12-15 12:11:04,574]\u001b[0m Trial 21 finished with value: 0.11217023999619485 and parameters: {'num_leaves': 95}. Best is trial 18 with value: 0.10705654315556715.\u001b[0m\n"
          ]
        },
        {
          "output_type": "stream",
          "name": "stdout",
          "text": [
            "Did not meet early stopping. Best iteration is:\n",
            "[100]\tTrain's rmse: 0.128483\tTest's rmse: 0.11217\n",
            "Training until validation scores don't improve for 50 rounds.\n"
          ]
        },
        {
          "output_type": "stream",
          "name": "stderr",
          "text": [
            "\u001b[32m[I 2021-12-15 12:11:05,088]\u001b[0m Trial 22 finished with value: 0.10928895727950792 and parameters: {'num_leaves': 38}. Best is trial 18 with value: 0.10705654315556715.\u001b[0m\n"
          ]
        },
        {
          "output_type": "stream",
          "name": "stdout",
          "text": [
            "Did not meet early stopping. Best iteration is:\n",
            "[100]\tTrain's rmse: 0.130411\tTest's rmse: 0.109289\n",
            "Training until validation scores don't improve for 50 rounds.\n"
          ]
        },
        {
          "output_type": "stream",
          "name": "stderr",
          "text": [
            "\u001b[32m[I 2021-12-15 12:11:05,491]\u001b[0m Trial 23 finished with value: 0.10417342007247019 and parameters: {'num_leaves': 28}. Best is trial 23 with value: 0.10417342007247019.\u001b[0m\n"
          ]
        },
        {
          "output_type": "stream",
          "name": "stdout",
          "text": [
            "Did not meet early stopping. Best iteration is:\n",
            "[100]\tTrain's rmse: 0.130771\tTest's rmse: 0.104173\n",
            "Training until validation scores don't improve for 50 rounds.\n"
          ]
        },
        {
          "output_type": "stream",
          "name": "stderr",
          "text": [
            "\u001b[32m[I 2021-12-15 12:11:06,341]\u001b[0m Trial 24 finished with value: 0.10852949270688093 and parameters: {'num_leaves': 87}. Best is trial 23 with value: 0.10417342007247019.\u001b[0m\n"
          ]
        },
        {
          "output_type": "stream",
          "name": "stdout",
          "text": [
            "Did not meet early stopping. Best iteration is:\n",
            "[100]\tTrain's rmse: 0.132392\tTest's rmse: 0.108529\n",
            "Training until validation scores don't improve for 50 rounds.\n"
          ]
        },
        {
          "output_type": "stream",
          "name": "stderr",
          "text": [
            "\u001b[32m[I 2021-12-15 12:11:07,726]\u001b[0m Trial 25 finished with value: 0.114326929959458 and parameters: {'num_leaves': 171}. Best is trial 23 with value: 0.10417342007247019.\u001b[0m\n"
          ]
        },
        {
          "output_type": "stream",
          "name": "stdout",
          "text": [
            "Did not meet early stopping. Best iteration is:\n",
            "[100]\tTrain's rmse: 0.130846\tTest's rmse: 0.114327\n",
            "Training until validation scores don't improve for 50 rounds.\n"
          ]
        },
        {
          "output_type": "stream",
          "name": "stderr",
          "text": [
            "\u001b[32m[I 2021-12-15 12:11:08,179]\u001b[0m Trial 26 finished with value: 0.10753755608581371 and parameters: {'num_leaves': 30}. Best is trial 23 with value: 0.10417342007247019.\u001b[0m\n"
          ]
        },
        {
          "output_type": "stream",
          "name": "stdout",
          "text": [
            "Did not meet early stopping. Best iteration is:\n",
            "[100]\tTrain's rmse: 0.131843\tTest's rmse: 0.107538\n",
            "Training until validation scores don't improve for 50 rounds.\n"
          ]
        },
        {
          "output_type": "stream",
          "name": "stderr",
          "text": [
            "\u001b[32m[I 2021-12-15 12:11:08,623]\u001b[0m Trial 27 finished with value: 0.1086733701501862 and parameters: {'bagging_fraction': 0.7616483663453374, 'bagging_freq': 1}. Best is trial 27 with value: 0.1086733701501862.\u001b[0m\n"
          ]
        },
        {
          "output_type": "stream",
          "name": "stdout",
          "text": [
            "Did not meet early stopping. Best iteration is:\n",
            "[100]\tTrain's rmse: 0.164129\tTest's rmse: 0.108673\n",
            "Training until validation scores don't improve for 50 rounds.\n"
          ]
        },
        {
          "output_type": "stream",
          "name": "stderr",
          "text": [
            "\u001b[32m[I 2021-12-15 12:11:09,123]\u001b[0m Trial 28 finished with value: 0.10618363260529878 and parameters: {'bagging_fraction': 0.9709930517129648, 'bagging_freq': 5}. Best is trial 28 with value: 0.10618363260529878.\u001b[0m\n"
          ]
        },
        {
          "output_type": "stream",
          "name": "stdout",
          "text": [
            "Did not meet early stopping. Best iteration is:\n",
            "[100]\tTrain's rmse: 0.1367\tTest's rmse: 0.106184\n",
            "Training until validation scores don't improve for 50 rounds.\n"
          ]
        },
        {
          "output_type": "stream",
          "name": "stderr",
          "text": [
            "\u001b[32m[I 2021-12-15 12:11:09,581]\u001b[0m Trial 29 finished with value: 0.11909270275955303 and parameters: {'bagging_fraction': 0.6372512707102265, 'bagging_freq': 3}. Best is trial 28 with value: 0.10618363260529878.\u001b[0m\n"
          ]
        },
        {
          "output_type": "stream",
          "name": "stdout",
          "text": [
            "Did not meet early stopping. Best iteration is:\n",
            "[100]\tTrain's rmse: 0.1695\tTest's rmse: 0.119093\n",
            "Training until validation scores don't improve for 50 rounds.\n"
          ]
        },
        {
          "output_type": "stream",
          "name": "stderr",
          "text": [
            "\u001b[32m[I 2021-12-15 12:11:10,060]\u001b[0m Trial 30 finished with value: 0.11509274784850795 and parameters: {'bagging_fraction': 0.4444851847887008, 'bagging_freq': 1}. Best is trial 28 with value: 0.10618363260529878.\u001b[0m\n"
          ]
        },
        {
          "output_type": "stream",
          "name": "stdout",
          "text": [
            "Did not meet early stopping. Best iteration is:\n",
            "[100]\tTrain's rmse: 0.186847\tTest's rmse: 0.115093\n",
            "Training until validation scores don't improve for 50 rounds.\n"
          ]
        },
        {
          "output_type": "stream",
          "name": "stderr",
          "text": [
            "\u001b[32m[I 2021-12-15 12:11:10,511]\u001b[0m Trial 31 finished with value: 0.10748946735718026 and parameters: {'bagging_fraction': 0.5785879506300082, 'bagging_freq': 6}. Best is trial 28 with value: 0.10618363260529878.\u001b[0m\n"
          ]
        },
        {
          "output_type": "stream",
          "name": "stdout",
          "text": [
            "Did not meet early stopping. Best iteration is:\n",
            "[100]\tTrain's rmse: 0.17468\tTest's rmse: 0.107489\n",
            "Training until validation scores don't improve for 50 rounds.\n"
          ]
        },
        {
          "output_type": "stream",
          "name": "stderr",
          "text": [
            "\u001b[32m[I 2021-12-15 12:11:10,998]\u001b[0m Trial 32 finished with value: 0.11859329374450965 and parameters: {'bagging_fraction': 0.6654705370345899, 'bagging_freq': 4}. Best is trial 28 with value: 0.10618363260529878.\u001b[0m\n"
          ]
        },
        {
          "output_type": "stream",
          "name": "stdout",
          "text": [
            "Did not meet early stopping. Best iteration is:\n",
            "[100]\tTrain's rmse: 0.164349\tTest's rmse: 0.118593\n",
            "Training until validation scores don't improve for 50 rounds.\n"
          ]
        },
        {
          "output_type": "stream",
          "name": "stderr",
          "text": [
            "\u001b[32m[I 2021-12-15 12:11:11,464]\u001b[0m Trial 33 finished with value: 0.1142052516604468 and parameters: {'bagging_fraction': 0.7097680472962484, 'bagging_freq': 3}. Best is trial 28 with value: 0.10618363260529878.\u001b[0m\n"
          ]
        },
        {
          "output_type": "stream",
          "name": "stdout",
          "text": [
            "Did not meet early stopping. Best iteration is:\n",
            "[100]\tTrain's rmse: 0.163787\tTest's rmse: 0.114205\n",
            "Training until validation scores don't improve for 50 rounds.\n"
          ]
        },
        {
          "output_type": "stream",
          "name": "stderr",
          "text": [
            "\u001b[32m[I 2021-12-15 12:11:11,961]\u001b[0m Trial 34 finished with value: 0.10842199876276343 and parameters: {'bagging_fraction': 0.7795360598872159, 'bagging_freq': 2}. Best is trial 28 with value: 0.10618363260529878.\u001b[0m\n"
          ]
        },
        {
          "output_type": "stream",
          "name": "stdout",
          "text": [
            "Did not meet early stopping. Best iteration is:\n",
            "[100]\tTrain's rmse: 0.158628\tTest's rmse: 0.108422\n",
            "Training until validation scores don't improve for 50 rounds.\n"
          ]
        },
        {
          "output_type": "stream",
          "name": "stderr",
          "text": [
            "\u001b[32m[I 2021-12-15 12:11:12,410]\u001b[0m Trial 35 finished with value: 0.11612320494073224 and parameters: {'bagging_fraction': 0.45751470056447663, 'bagging_freq': 3}. Best is trial 28 with value: 0.10618363260529878.\u001b[0m\n"
          ]
        },
        {
          "output_type": "stream",
          "name": "stdout",
          "text": [
            "Did not meet early stopping. Best iteration is:\n",
            "[100]\tTrain's rmse: 0.187666\tTest's rmse: 0.116123\n",
            "Training until validation scores don't improve for 50 rounds.\n"
          ]
        },
        {
          "output_type": "stream",
          "name": "stderr",
          "text": [
            "\u001b[32m[I 2021-12-15 12:11:12,887]\u001b[0m Trial 36 finished with value: 0.1242088971636082 and parameters: {'bagging_fraction': 0.6833477997717782, 'bagging_freq': 7}. Best is trial 28 with value: 0.10618363260529878.\u001b[0m\n"
          ]
        },
        {
          "output_type": "stream",
          "name": "stdout",
          "text": [
            "Did not meet early stopping. Best iteration is:\n",
            "[100]\tTrain's rmse: 0.170912\tTest's rmse: 0.124209\n",
            "Training until validation scores don't improve for 50 rounds.\n"
          ]
        },
        {
          "output_type": "stream",
          "name": "stderr",
          "text": [
            "\u001b[32m[I 2021-12-15 12:11:13,319]\u001b[0m Trial 37 finished with value: 0.10417342007247019 and parameters: {'feature_fraction': 0.8480000000000001}. Best is trial 37 with value: 0.10417342007247019.\u001b[0m\n"
          ]
        },
        {
          "output_type": "stream",
          "name": "stdout",
          "text": [
            "Did not meet early stopping. Best iteration is:\n",
            "[100]\tTrain's rmse: 0.130771\tTest's rmse: 0.104173\n",
            "Training until validation scores don't improve for 50 rounds.\n"
          ]
        },
        {
          "output_type": "stream",
          "name": "stderr",
          "text": [
            "\u001b[32m[I 2021-12-15 12:11:13,750]\u001b[0m Trial 38 finished with value: 0.10364502183159603 and parameters: {'feature_fraction': 0.88}. Best is trial 38 with value: 0.10364502183159603.\u001b[0m\n"
          ]
        },
        {
          "output_type": "stream",
          "name": "stdout",
          "text": [
            "Did not meet early stopping. Best iteration is:\n",
            "[100]\tTrain's rmse: 0.13349\tTest's rmse: 0.103645\n",
            "Training until validation scores don't improve for 50 rounds.\n"
          ]
        },
        {
          "output_type": "stream",
          "name": "stderr",
          "text": [
            "\u001b[32m[I 2021-12-15 12:11:14,170]\u001b[0m Trial 39 finished with value: 0.11115663494291506 and parameters: {'feature_fraction': 0.7200000000000001}. Best is trial 38 with value: 0.10364502183159603.\u001b[0m\n"
          ]
        },
        {
          "output_type": "stream",
          "name": "stdout",
          "text": [
            "Did not meet early stopping. Best iteration is:\n",
            "[100]\tTrain's rmse: 0.127189\tTest's rmse: 0.111157\n",
            "Training until validation scores don't improve for 50 rounds.\n"
          ]
        },
        {
          "output_type": "stream",
          "name": "stderr",
          "text": [
            "\u001b[32m[I 2021-12-15 12:11:14,604]\u001b[0m Trial 40 finished with value: 0.10417342007247019 and parameters: {'feature_fraction': 0.8160000000000001}. Best is trial 38 with value: 0.10364502183159603.\u001b[0m\n"
          ]
        },
        {
          "output_type": "stream",
          "name": "stdout",
          "text": [
            "Did not meet early stopping. Best iteration is:\n",
            "[100]\tTrain's rmse: 0.130771\tTest's rmse: 0.104173\n",
            "Training until validation scores don't improve for 50 rounds.\n"
          ]
        },
        {
          "output_type": "stream",
          "name": "stderr",
          "text": [
            "\u001b[32m[I 2021-12-15 12:11:15,038]\u001b[0m Trial 41 finished with value: 0.10750729573885279 and parameters: {'feature_fraction': 0.784}. Best is trial 38 with value: 0.10364502183159603.\u001b[0m\n"
          ]
        },
        {
          "output_type": "stream",
          "name": "stdout",
          "text": [
            "Did not meet early stopping. Best iteration is:\n",
            "[100]\tTrain's rmse: 0.128114\tTest's rmse: 0.107507\n",
            "Training until validation scores don't improve for 50 rounds.\n"
          ]
        },
        {
          "output_type": "stream",
          "name": "stderr",
          "text": [
            "\u001b[32m[I 2021-12-15 12:11:15,445]\u001b[0m Trial 42 finished with value: 0.10750729573885279 and parameters: {'feature_fraction': 0.7520000000000001}. Best is trial 38 with value: 0.10364502183159603.\u001b[0m\n"
          ]
        },
        {
          "output_type": "stream",
          "name": "stdout",
          "text": [
            "Did not meet early stopping. Best iteration is:\n",
            "[100]\tTrain's rmse: 0.128114\tTest's rmse: 0.107507\n",
            "Training until validation scores don't improve for 50 rounds.\n"
          ]
        },
        {
          "output_type": "stream",
          "name": "stderr",
          "text": [
            "\u001b[32m[I 2021-12-15 12:11:15,885]\u001b[0m Trial 43 finished with value: 0.103645021951924 and parameters: {'lambda_l1': 1.2722317770080765e-07, 'lambda_l2': 4.3618075234816996e-08}. Best is trial 43 with value: 0.103645021951924.\u001b[0m\n"
          ]
        },
        {
          "output_type": "stream",
          "name": "stdout",
          "text": [
            "Did not meet early stopping. Best iteration is:\n",
            "[100]\tTrain's rmse: 0.13349\tTest's rmse: 0.103645\n",
            "Training until validation scores don't improve for 50 rounds.\n"
          ]
        },
        {
          "output_type": "stream",
          "name": "stderr",
          "text": [
            "\u001b[32m[I 2021-12-15 12:11:16,323]\u001b[0m Trial 44 finished with value: 0.10705906470456443 and parameters: {'lambda_l1': 0.00566964009805218, 'lambda_l2': 2.1894071121716006}. Best is trial 43 with value: 0.103645021951924.\u001b[0m\n"
          ]
        },
        {
          "output_type": "stream",
          "name": "stdout",
          "text": [
            "Did not meet early stopping. Best iteration is:\n",
            "[100]\tTrain's rmse: 0.136865\tTest's rmse: 0.107059\n",
            "Training until validation scores don't improve for 50 rounds.\n"
          ]
        },
        {
          "output_type": "stream",
          "name": "stderr",
          "text": [
            "\u001b[32m[I 2021-12-15 12:11:16,753]\u001b[0m Trial 45 finished with value: 0.10524318262671248 and parameters: {'lambda_l1': 1.4565357458613872e-05, 'lambda_l2': 0.6779629693580908}. Best is trial 43 with value: 0.103645021951924.\u001b[0m\n"
          ]
        },
        {
          "output_type": "stream",
          "name": "stdout",
          "text": [
            "Did not meet early stopping. Best iteration is:\n",
            "[100]\tTrain's rmse: 0.134502\tTest's rmse: 0.105243\n",
            "Training until validation scores don't improve for 50 rounds.\n"
          ]
        },
        {
          "output_type": "stream",
          "name": "stderr",
          "text": [
            "\u001b[32m[I 2021-12-15 12:11:17,205]\u001b[0m Trial 46 finished with value: 0.10586580148986943 and parameters: {'lambda_l1': 0.03399083449621886, 'lambda_l2': 3.291418217549716e-05}. Best is trial 43 with value: 0.103645021951924.\u001b[0m\n"
          ]
        },
        {
          "output_type": "stream",
          "name": "stdout",
          "text": [
            "Did not meet early stopping. Best iteration is:\n",
            "[100]\tTrain's rmse: 0.13426\tTest's rmse: 0.105866\n",
            "Training until validation scores don't improve for 50 rounds.\n"
          ]
        },
        {
          "output_type": "stream",
          "name": "stderr",
          "text": [
            "\u001b[32m[I 2021-12-15 12:11:17,649]\u001b[0m Trial 47 finished with value: 0.10626135141868802 and parameters: {'lambda_l1': 4.1548866927787666e-08, 'lambda_l2': 0.021510194565694002}. Best is trial 43 with value: 0.103645021951924.\u001b[0m\n"
          ]
        },
        {
          "output_type": "stream",
          "name": "stdout",
          "text": [
            "Did not meet early stopping. Best iteration is:\n",
            "[100]\tTrain's rmse: 0.133208\tTest's rmse: 0.106261\n",
            "Training until validation scores don't improve for 50 rounds.\n"
          ]
        },
        {
          "output_type": "stream",
          "name": "stderr",
          "text": [
            "\u001b[32m[I 2021-12-15 12:11:18,091]\u001b[0m Trial 48 finished with value: 0.10752387116261121 and parameters: {'lambda_l1': 0.07810158080099823, 'lambda_l2': 2.5324773033790513e-06}. Best is trial 43 with value: 0.103645021951924.\u001b[0m\n"
          ]
        },
        {
          "output_type": "stream",
          "name": "stdout",
          "text": [
            "Did not meet early stopping. Best iteration is:\n",
            "[100]\tTrain's rmse: 0.130209\tTest's rmse: 0.107524\n",
            "Training until validation scores don't improve for 50 rounds.\n"
          ]
        },
        {
          "output_type": "stream",
          "name": "stderr",
          "text": [
            "\u001b[32m[I 2021-12-15 12:11:18,521]\u001b[0m Trial 49 finished with value: 0.10328703153281876 and parameters: {'lambda_l1': 0.054399650297190544, 'lambda_l2': 0.00030156675498706377}. Best is trial 49 with value: 0.10328703153281876.\u001b[0m\n"
          ]
        },
        {
          "output_type": "stream",
          "name": "stdout",
          "text": [
            "Did not meet early stopping. Best iteration is:\n",
            "[100]\tTrain's rmse: 0.133002\tTest's rmse: 0.103287\n",
            "Training until validation scores don't improve for 50 rounds.\n"
          ]
        },
        {
          "output_type": "stream",
          "name": "stderr",
          "text": [
            "\u001b[32m[I 2021-12-15 12:11:19,276]\u001b[0m Trial 50 finished with value: 0.10927805347290047 and parameters: {'lambda_l1': 0.2537355847180524, 'lambda_l2': 5.076370637310631e-08}. Best is trial 49 with value: 0.10328703153281876.\u001b[0m\n"
          ]
        },
        {
          "output_type": "stream",
          "name": "stdout",
          "text": [
            "Did not meet early stopping. Best iteration is:\n",
            "[100]\tTrain's rmse: 0.130325\tTest's rmse: 0.109278\n",
            "Training until validation scores don't improve for 50 rounds.\n"
          ]
        },
        {
          "output_type": "stream",
          "name": "stderr",
          "text": [
            "\u001b[32m[I 2021-12-15 12:11:21,406]\u001b[0m Trial 51 finished with value: 0.10369144917782627 and parameters: {'lambda_l1': 0.0004364454434518885, 'lambda_l2': 0.00027556672975553246}. Best is trial 49 with value: 0.10328703153281876.\u001b[0m\n"
          ]
        },
        {
          "output_type": "stream",
          "name": "stdout",
          "text": [
            "Did not meet early stopping. Best iteration is:\n",
            "[100]\tTrain's rmse: 0.133001\tTest's rmse: 0.103691\n",
            "Training until validation scores don't improve for 50 rounds.\n"
          ]
        },
        {
          "output_type": "stream",
          "name": "stderr",
          "text": [
            "\u001b[32m[I 2021-12-15 12:11:23,410]\u001b[0m Trial 52 finished with value: 0.10444430308994188 and parameters: {'lambda_l1': 5.329227957643208e-08, 'lambda_l2': 0.004398006168499277}. Best is trial 49 with value: 0.10328703153281876.\u001b[0m\n"
          ]
        },
        {
          "output_type": "stream",
          "name": "stdout",
          "text": [
            "Did not meet early stopping. Best iteration is:\n",
            "[100]\tTrain's rmse: 0.132925\tTest's rmse: 0.104444\n",
            "Training until validation scores don't improve for 50 rounds.\n"
          ]
        },
        {
          "output_type": "stream",
          "name": "stderr",
          "text": [
            "\u001b[32m[I 2021-12-15 12:11:25,136]\u001b[0m Trial 53 finished with value: 0.11608084224447679 and parameters: {'lambda_l1': 2.1725691621370036, 'lambda_l2': 4.699521375667326e-06}. Best is trial 49 with value: 0.10328703153281876.\u001b[0m\n"
          ]
        },
        {
          "output_type": "stream",
          "name": "stdout",
          "text": [
            "Did not meet early stopping. Best iteration is:\n",
            "[100]\tTrain's rmse: 0.130191\tTest's rmse: 0.116081\n",
            "Training until validation scores don't improve for 50 rounds.\n"
          ]
        },
        {
          "output_type": "stream",
          "name": "stderr",
          "text": [
            "\u001b[32m[I 2021-12-15 12:11:25,940]\u001b[0m Trial 54 finished with value: 0.10364502215808581 and parameters: {'lambda_l1': 2.9931078083935003e-06, 'lambda_l2': 1.9066768250748265e-08}. Best is trial 49 with value: 0.10328703153281876.\u001b[0m\n"
          ]
        },
        {
          "output_type": "stream",
          "name": "stdout",
          "text": [
            "Did not meet early stopping. Best iteration is:\n",
            "[100]\tTrain's rmse: 0.13349\tTest's rmse: 0.103645\n",
            "Training until validation scores don't improve for 50 rounds.\n"
          ]
        },
        {
          "output_type": "stream",
          "name": "stderr",
          "text": [
            "\u001b[32m[I 2021-12-15 12:11:26,386]\u001b[0m Trial 55 finished with value: 0.10364502282013233 and parameters: {'lambda_l1': 6.513795498948526e-06, 'lambda_l2': 4.0070008266309086e-07}. Best is trial 49 with value: 0.10328703153281876.\u001b[0m\n"
          ]
        },
        {
          "output_type": "stream",
          "name": "stdout",
          "text": [
            "Did not meet early stopping. Best iteration is:\n",
            "[100]\tTrain's rmse: 0.13349\tTest's rmse: 0.103645\n",
            "Training until validation scores don't improve for 50 rounds.\n"
          ]
        },
        {
          "output_type": "stream",
          "name": "stderr",
          "text": [
            "\u001b[32m[I 2021-12-15 12:11:26,829]\u001b[0m Trial 56 finished with value: 0.10354582675893725 and parameters: {'lambda_l1': 0.004165168954850636, 'lambda_l2': 0.010699766052063037}. Best is trial 49 with value: 0.10328703153281876.\u001b[0m\n"
          ]
        },
        {
          "output_type": "stream",
          "name": "stdout",
          "text": [
            "Did not meet early stopping. Best iteration is:\n",
            "[100]\tTrain's rmse: 0.134949\tTest's rmse: 0.103546\n",
            "Training until validation scores don't improve for 50 rounds.\n"
          ]
        },
        {
          "output_type": "stream",
          "name": "stderr",
          "text": [
            "\u001b[32m[I 2021-12-15 12:11:27,261]\u001b[0m Trial 57 finished with value: 0.10454740980763 and parameters: {'lambda_l1': 0.0012606505281375748, 'lambda_l2': 0.014786621097104418}. Best is trial 49 with value: 0.10328703153281876.\u001b[0m\n"
          ]
        },
        {
          "output_type": "stream",
          "name": "stdout",
          "text": [
            "Did not meet early stopping. Best iteration is:\n",
            "[100]\tTrain's rmse: 0.134224\tTest's rmse: 0.104547\n",
            "Training until validation scores don't improve for 50 rounds.\n"
          ]
        },
        {
          "output_type": "stream",
          "name": "stderr",
          "text": [
            "\u001b[32m[I 2021-12-15 12:11:27,681]\u001b[0m Trial 58 finished with value: 0.10974206665436029 and parameters: {'lambda_l1': 0.8682378454544757, 'lambda_l2': 0.000532310123288283}. Best is trial 49 with value: 0.10328703153281876.\u001b[0m\n"
          ]
        },
        {
          "output_type": "stream",
          "name": "stdout",
          "text": [
            "Did not meet early stopping. Best iteration is:\n",
            "[100]\tTrain's rmse: 0.129429\tTest's rmse: 0.109742\n",
            "Training until validation scores don't improve for 50 rounds.\n"
          ]
        },
        {
          "output_type": "stream",
          "name": "stderr",
          "text": [
            "\u001b[32m[I 2021-12-15 12:11:28,126]\u001b[0m Trial 59 finished with value: 0.10953981711289705 and parameters: {'lambda_l1': 0.011153582486156118, 'lambda_l2': 0.2635654876926672}. Best is trial 49 with value: 0.10328703153281876.\u001b[0m\n"
          ]
        },
        {
          "output_type": "stream",
          "name": "stdout",
          "text": [
            "Did not meet early stopping. Best iteration is:\n",
            "[100]\tTrain's rmse: 0.133868\tTest's rmse: 0.10954\n",
            "Training until validation scores don't improve for 50 rounds.\n"
          ]
        },
        {
          "output_type": "stream",
          "name": "stderr",
          "text": [
            "\u001b[32m[I 2021-12-15 12:11:28,586]\u001b[0m Trial 60 finished with value: 0.10549791426583185 and parameters: {'lambda_l1': 0.0001708589682079903, 'lambda_l2': 0.00040446218303208267}. Best is trial 49 with value: 0.10328703153281876.\u001b[0m\n"
          ]
        },
        {
          "output_type": "stream",
          "name": "stdout",
          "text": [
            "Did not meet early stopping. Best iteration is:\n",
            "[100]\tTrain's rmse: 0.134095\tTest's rmse: 0.105498\n",
            "Training until validation scores don't improve for 50 rounds.\n"
          ]
        },
        {
          "output_type": "stream",
          "name": "stderr",
          "text": [
            "\u001b[32m[I 2021-12-15 12:11:28,982]\u001b[0m Trial 61 finished with value: 0.11297383472954299 and parameters: {'lambda_l1': 5.6887538185582915, 'lambda_l2': 0.03164278660951189}. Best is trial 49 with value: 0.10328703153281876.\u001b[0m\n"
          ]
        },
        {
          "output_type": "stream",
          "name": "stdout",
          "text": [
            "Did not meet early stopping. Best iteration is:\n",
            "[100]\tTrain's rmse: 0.143931\tTest's rmse: 0.112974\n",
            "Training until validation scores don't improve for 50 rounds.\n"
          ]
        },
        {
          "output_type": "stream",
          "name": "stderr",
          "text": [
            "\u001b[32m[I 2021-12-15 12:11:29,450]\u001b[0m Trial 62 finished with value: 0.10674969798169918 and parameters: {'lambda_l1': 3.8771282588372575e-05, 'lambda_l2': 0.20739570960055062}. Best is trial 49 with value: 0.10328703153281876.\u001b[0m\n"
          ]
        },
        {
          "output_type": "stream",
          "name": "stdout",
          "text": [
            "Did not meet early stopping. Best iteration is:\n",
            "[100]\tTrain's rmse: 0.133767\tTest's rmse: 0.10675\n",
            "Training until validation scores don't improve for 50 rounds.\n"
          ]
        },
        {
          "output_type": "stream",
          "name": "stderr",
          "text": [
            "\u001b[32m[I 2021-12-15 12:11:29,823]\u001b[0m Trial 63 finished with value: 0.12211620260693548 and parameters: {'min_child_samples': 5}. Best is trial 63 with value: 0.12211620260693548.\u001b[0m\n"
          ]
        },
        {
          "output_type": "stream",
          "name": "stdout",
          "text": [
            "Early stopping, best iteration is:\n",
            "[40]\tTrain's rmse: 0.0749581\tTest's rmse: 0.122116\n",
            "Training until validation scores don't improve for 50 rounds.\n"
          ]
        },
        {
          "output_type": "stream",
          "name": "stderr",
          "text": [
            "\u001b[32m[I 2021-12-15 12:11:30,233]\u001b[0m Trial 64 finished with value: 0.0918610096465961 and parameters: {'min_child_samples': 10}. Best is trial 64 with value: 0.0918610096465961.\u001b[0m\n"
          ]
        },
        {
          "output_type": "stream",
          "name": "stdout",
          "text": [
            "Did not meet early stopping. Best iteration is:\n",
            "[100]\tTrain's rmse: 0.0708089\tTest's rmse: 0.091861\n",
            "Training until validation scores don't improve for 50 rounds.\n"
          ]
        },
        {
          "output_type": "stream",
          "name": "stderr",
          "text": [
            "\u001b[32m[I 2021-12-15 12:11:30,671]\u001b[0m Trial 65 finished with value: 0.18654706993856005 and parameters: {'min_child_samples': 50}. Best is trial 64 with value: 0.0918610096465961.\u001b[0m\n"
          ]
        },
        {
          "output_type": "stream",
          "name": "stdout",
          "text": [
            "Early stopping, best iteration is:\n",
            "[46]\tTrain's rmse: 0.261806\tTest's rmse: 0.186547\n",
            "Training until validation scores don't improve for 50 rounds.\n"
          ]
        },
        {
          "output_type": "stream",
          "name": "stderr",
          "text": [
            "\u001b[32m[I 2021-12-15 12:11:31,008]\u001b[0m Trial 66 finished with value: 0.22930709098060842 and parameters: {'min_child_samples': 100}. Best is trial 64 with value: 0.0918610096465961.\u001b[0m\n"
          ]
        },
        {
          "output_type": "stream",
          "name": "stdout",
          "text": [
            "Early stopping, best iteration is:\n",
            "[24]\tTrain's rmse: 0.33722\tTest's rmse: 0.229307\n",
            "Training until validation scores don't improve for 50 rounds.\n"
          ]
        },
        {
          "output_type": "stream",
          "name": "stderr",
          "text": [
            "\u001b[32m[I 2021-12-15 12:11:31,461]\u001b[0m Trial 67 finished with value: 0.11355612359768806 and parameters: {'min_child_samples': 25}. Best is trial 64 with value: 0.0918610096465961.\u001b[0m\n"
          ]
        },
        {
          "output_type": "stream",
          "name": "stdout",
          "text": [
            "Did not meet early stopping. Best iteration is:\n",
            "[100]\tTrain's rmse: 0.15419\tTest's rmse: 0.113556\n"
          ]
        },
        {
          "output_type": "display_data",
          "data": {
            "image/png": "[encoded data removed]",
            "text/plain": [
              "<Figure size 432x288 with 1 Axes>"
            ]
          },
          "metadata": {
            "needs_background": "light"
          }
        },
        {
          "output_type": "stream",
          "name": "stderr",
          "text": [
            "\u001b[32m[I 2021-12-15 12:11:31,686]\u001b[0m A new study created in memory with name: no-name-1f92e7b0-8d6b-4671-8f71-d89c63a46ef9\u001b[0m\n"
          ]
        },
        {
          "output_type": "stream",
          "name": "stdout",
          "text": [
            "Training until validation scores don't improve for 50 rounds.\n"
          ]
        },
        {
          "output_type": "stream",
          "name": "stderr",
          "text": [
            "\u001b[32m[I 2021-12-15 12:11:32,033]\u001b[0m Trial 0 finished with value: 0.17464593003271933 and parameters: {'feature_fraction': 0.4}. Best is trial 0 with value: 0.17464593003271933.\u001b[0m\n"
          ]
        },
        {
          "output_type": "stream",
          "name": "stdout",
          "text": [
            "Did not meet early stopping. Best iteration is:\n",
            "[100]\tTrain's rmse: 0.140306\tTest's rmse: 0.174646\n",
            "Training until validation scores don't improve for 50 rounds.\n"
          ]
        },
        {
          "output_type": "stream",
          "name": "stderr",
          "text": [
            "\u001b[32m[I 2021-12-15 12:11:32,477]\u001b[0m Trial 1 finished with value: 0.1442742824485471 and parameters: {'feature_fraction': 0.6}. Best is trial 1 with value: 0.1442742824485471.\u001b[0m\n"
          ]
        },
        {
          "output_type": "stream",
          "name": "stdout",
          "text": [
            "Did not meet early stopping. Best iteration is:\n",
            "[100]\tTrain's rmse: 0.123915\tTest's rmse: 0.144274\n",
            "Training until validation scores don't improve for 50 rounds.\n"
          ]
        },
        {
          "output_type": "stream",
          "name": "stderr",
          "text": [
            "\u001b[32m[I 2021-12-15 12:11:32,951]\u001b[0m Trial 2 finished with value: 0.14150262343439804 and parameters: {'feature_fraction': 1.0}. Best is trial 2 with value: 0.14150262343439804.\u001b[0m\n"
          ]
        },
        {
          "output_type": "stream",
          "name": "stdout",
          "text": [
            "Did not meet early stopping. Best iteration is:\n",
            "[100]\tTrain's rmse: 0.146988\tTest's rmse: 0.141503\n",
            "Training until validation scores don't improve for 50 rounds.\n"
          ]
        },
        {
          "output_type": "stream",
          "name": "stderr",
          "text": [
            "\u001b[32m[I 2021-12-15 12:11:33,323]\u001b[0m Trial 3 finished with value: 0.16167365823684848 and parameters: {'feature_fraction': 0.5}. Best is trial 2 with value: 0.14150262343439804.\u001b[0m\n"
          ]
        },
        {
          "output_type": "stream",
          "name": "stdout",
          "text": [
            "Did not meet early stopping. Best iteration is:\n",
            "[100]\tTrain's rmse: 0.130492\tTest's rmse: 0.161674\n",
            "Training until validation scores don't improve for 50 rounds.\n"
          ]
        },
        {
          "output_type": "stream",
          "name": "stderr",
          "text": [
            "\u001b[32m[I 2021-12-15 12:11:33,754]\u001b[0m Trial 4 finished with value: 0.14231731003631473 and parameters: {'feature_fraction': 0.7}. Best is trial 2 with value: 0.14150262343439804.\u001b[0m\n"
          ]
        },
        {
          "output_type": "stream",
          "name": "stdout",
          "text": [
            "Did not meet early stopping. Best iteration is:\n",
            "[100]\tTrain's rmse: 0.124599\tTest's rmse: 0.142317\n",
            "Training until validation scores don't improve for 50 rounds.\n"
          ]
        },
        {
          "output_type": "stream",
          "name": "stderr",
          "text": [
            "\u001b[32m[I 2021-12-15 12:11:34,245]\u001b[0m Trial 5 finished with value: 0.139473228921955 and parameters: {'feature_fraction': 0.8999999999999999}. Best is trial 5 with value: 0.139473228921955.\u001b[0m\n"
          ]
        },
        {
          "output_type": "stream",
          "name": "stdout",
          "text": [
            "Did not meet early stopping. Best iteration is:\n",
            "[100]\tTrain's rmse: 0.141856\tTest's rmse: 0.139473\n",
            "Training until validation scores don't improve for 50 rounds.\n"
          ]
        },
        {
          "output_type": "stream",
          "name": "stderr",
          "text": [
            "\u001b[32m[I 2021-12-15 12:11:34,725]\u001b[0m Trial 6 finished with value: 0.13925631595127572 and parameters: {'feature_fraction': 0.8}. Best is trial 6 with value: 0.13925631595127572.\u001b[0m\n"
          ]
        },
        {
          "output_type": "stream",
          "name": "stdout",
          "text": [
            "Did not meet early stopping. Best iteration is:\n",
            "[100]\tTrain's rmse: 0.128875\tTest's rmse: 0.139256\n",
            "Training until validation scores don't improve for 50 rounds.\n"
          ]
        },
        {
          "output_type": "stream",
          "name": "stderr",
          "text": [
            "\u001b[32m[I 2021-12-15 12:11:36,228]\u001b[0m Trial 7 finished with value: 0.14780492833402656 and parameters: {'num_leaves': 186}. Best is trial 7 with value: 0.14780492833402656.\u001b[0m\n"
          ]
        },
        {
          "output_type": "stream",
          "name": "stdout",
          "text": [
            "Did not meet early stopping. Best iteration is:\n",
            "[100]\tTrain's rmse: 0.135359\tTest's rmse: 0.147805\n",
            "Training until validation scores don't improve for 50 rounds.\n"
          ]
        },
        {
          "output_type": "stream",
          "name": "stderr",
          "text": [
            "\u001b[32m[I 2021-12-15 12:11:37,251]\u001b[0m Trial 8 finished with value: 0.14657997923934787 and parameters: {'num_leaves': 110}. Best is trial 8 with value: 0.14657997923934787.\u001b[0m\n"
          ]
        },
        {
          "output_type": "stream",
          "name": "stdout",
          "text": [
            "Did not meet early stopping. Best iteration is:\n",
            "[100]\tTrain's rmse: 0.136088\tTest's rmse: 0.14658\n",
            "Training until validation scores don't improve for 50 rounds.\n"
          ]
        },
        {
          "output_type": "stream",
          "name": "stderr",
          "text": [
            "\u001b[32m[I 2021-12-15 12:11:39,092]\u001b[0m Trial 9 finished with value: 0.14968239110580298 and parameters: {'num_leaves': 242}. Best is trial 8 with value: 0.14657997923934787.\u001b[0m\n"
          ]
        },
        {
          "output_type": "stream",
          "name": "stdout",
          "text": [
            "Did not meet early stopping. Best iteration is:\n",
            "[100]\tTrain's rmse: 0.133925\tTest's rmse: 0.149682\n",
            "Training until validation scores don't improve for 50 rounds.\n"
          ]
        },
        {
          "output_type": "stream",
          "name": "stderr",
          "text": [
            "\u001b[32m[I 2021-12-15 12:11:39,849]\u001b[0m Trial 10 finished with value: 0.1422536986480783 and parameters: {'num_leaves': 70}. Best is trial 10 with value: 0.1422536986480783.\u001b[0m\n"
          ]
        },
        {
          "output_type": "stream",
          "name": "stdout",
          "text": [
            "Did not meet early stopping. Best iteration is:\n",
            "[100]\tTrain's rmse: 0.137002\tTest's rmse: 0.142254\n",
            "Training until validation scores don't improve for 50 rounds.\n"
          ]
        },
        {
          "output_type": "stream",
          "name": "stderr",
          "text": [
            "\u001b[32m[I 2021-12-15 12:11:41,371]\u001b[0m Trial 11 finished with value: 0.14852010273450897 and parameters: {'num_leaves': 195}. Best is trial 10 with value: 0.1422536986480783.\u001b[0m\n"
          ]
        },
        {
          "output_type": "stream",
          "name": "stdout",
          "text": [
            "Did not meet early stopping. Best iteration is:\n",
            "[100]\tTrain's rmse: 0.134019\tTest's rmse: 0.14852\n",
            "Training until validation scores don't improve for 50 rounds.\n"
          ]
        },
        {
          "output_type": "stream",
          "name": "stderr",
          "text": [
            "\u001b[32m[I 2021-12-15 12:11:43,171]\u001b[0m Trial 12 finished with value: 0.1491971436334064 and parameters: {'num_leaves': 244}. Best is trial 10 with value: 0.1422536986480783.\u001b[0m\n"
          ]
        },
        {
          "output_type": "stream",
          "name": "stdout",
          "text": [
            "Did not meet early stopping. Best iteration is:\n",
            "[100]\tTrain's rmse: 0.133802\tTest's rmse: 0.149197\n",
            "Training until validation scores don't improve for 50 rounds.\n"
          ]
        },
        {
          "output_type": "stream",
          "name": "stderr",
          "text": [
            "\u001b[32m[I 2021-12-15 12:11:43,814]\u001b[0m Trial 13 finished with value: 0.14285021683179636 and parameters: {'num_leaves': 54}. Best is trial 10 with value: 0.1422536986480783.\u001b[0m\n"
          ]
        },
        {
          "output_type": "stream",
          "name": "stdout",
          "text": [
            "Did not meet early stopping. Best iteration is:\n",
            "[100]\tTrain's rmse: 0.135142\tTest's rmse: 0.14285\n",
            "Training until validation scores don't improve for 50 rounds.\n"
          ]
        },
        {
          "output_type": "stream",
          "name": "stderr",
          "text": [
            "\u001b[32m[I 2021-12-15 12:11:45,362]\u001b[0m Trial 14 finished with value: 0.14680510619788006 and parameters: {'num_leaves': 201}. Best is trial 10 with value: 0.1422536986480783.\u001b[0m\n"
          ]
        },
        {
          "output_type": "stream",
          "name": "stdout",
          "text": [
            "Did not meet early stopping. Best iteration is:\n",
            "[100]\tTrain's rmse: 0.137957\tTest's rmse: 0.146805\n",
            "Training until validation scores don't improve for 50 rounds.\n"
          ]
        },
        {
          "output_type": "stream",
          "name": "stderr",
          "text": [
            "\u001b[32m[I 2021-12-15 12:11:47,036]\u001b[0m Trial 15 finished with value: 0.14717032834568347 and parameters: {'num_leaves': 221}. Best is trial 10 with value: 0.1422536986480783.\u001b[0m\n"
          ]
        },
        {
          "output_type": "stream",
          "name": "stdout",
          "text": [
            "Did not meet early stopping. Best iteration is:\n",
            "[100]\tTrain's rmse: 0.135102\tTest's rmse: 0.14717\n",
            "Training until validation scores don't improve for 50 rounds.\n"
          ]
        },
        {
          "output_type": "stream",
          "name": "stderr",
          "text": [
            "\u001b[32m[I 2021-12-15 12:11:48,456]\u001b[0m Trial 16 finished with value: 0.14541731996717636 and parameters: {'num_leaves': 178}. Best is trial 10 with value: 0.1422536986480783.\u001b[0m\n"
          ]
        },
        {
          "output_type": "stream",
          "name": "stdout",
          "text": [
            "Did not meet early stopping. Best iteration is:\n",
            "[100]\tTrain's rmse: 0.131934\tTest's rmse: 0.145417\n",
            "Training until validation scores don't improve for 50 rounds.\n"
          ]
        },
        {
          "output_type": "stream",
          "name": "stderr",
          "text": [
            "\u001b[32m[I 2021-12-15 12:11:48,826]\u001b[0m Trial 17 finished with value: 0.14495699414204335 and parameters: {'num_leaves': 20}. Best is trial 10 with value: 0.1422536986480783.\u001b[0m\n"
          ]
        },
        {
          "output_type": "stream",
          "name": "stdout",
          "text": [
            "Did not meet early stopping. Best iteration is:\n",
            "[100]\tTrain's rmse: 0.129026\tTest's rmse: 0.144957\n",
            "Training until validation scores don't improve for 50 rounds.\n"
          ]
        },
        {
          "output_type": "stream",
          "name": "stderr",
          "text": [
            "\u001b[32m[I 2021-12-15 12:11:49,456]\u001b[0m Trial 18 finished with value: 0.14308654404430388 and parameters: {'num_leaves': 55}. Best is trial 10 with value: 0.1422536986480783.\u001b[0m\n"
          ]
        },
        {
          "output_type": "stream",
          "name": "stdout",
          "text": [
            "Did not meet early stopping. Best iteration is:\n",
            "[100]\tTrain's rmse: 0.138809\tTest's rmse: 0.143087\n",
            "Training until validation scores don't improve for 50 rounds.\n"
          ]
        },
        {
          "output_type": "stream",
          "name": "stderr",
          "text": [
            "\u001b[32m[I 2021-12-15 12:11:50,349]\u001b[0m Trial 19 finished with value: 0.1445235394216586 and parameters: {'num_leaves': 86}. Best is trial 10 with value: 0.1422536986480783.\u001b[0m\n"
          ]
        },
        {
          "output_type": "stream",
          "name": "stdout",
          "text": [
            "Did not meet early stopping. Best iteration is:\n",
            "[100]\tTrain's rmse: 0.13121\tTest's rmse: 0.144524\n",
            "Training until validation scores don't improve for 50 rounds.\n"
          ]
        },
        {
          "output_type": "stream",
          "name": "stderr",
          "text": [
            "\u001b[32m[I 2021-12-15 12:11:50,608]\u001b[0m Trial 20 finished with value: 0.1396407421543983 and parameters: {'num_leaves': 11}. Best is trial 20 with value: 0.1396407421543983.\u001b[0m\n",
            "\u001b[32m[I 2021-12-15 12:11:50,773]\u001b[0m Trial 21 finished with value: 0.16269649760226693 and parameters: {'num_leaves': 3}. Best is trial 20 with value: 0.1396407421543983.\u001b[0m\n"
          ]
        },
        {
          "output_type": "stream",
          "name": "stdout",
          "text": [
            "Did not meet early stopping. Best iteration is:\n",
            "[100]\tTrain's rmse: 0.128445\tTest's rmse: 0.139641\n",
            "Training until validation scores don't improve for 50 rounds.\n",
            "Did not meet early stopping. Best iteration is:\n",
            "[100]\tTrain's rmse: 0.199713\tTest's rmse: 0.162696\n",
            "Training until validation scores don't improve for 50 rounds.\n"
          ]
        },
        {
          "output_type": "stream",
          "name": "stderr",
          "text": [
            "\u001b[32m[I 2021-12-15 12:11:52,061]\u001b[0m Trial 22 finished with value: 0.1458970203949829 and parameters: {'num_leaves': 145}. Best is trial 20 with value: 0.1396407421543983.\u001b[0m\n"
          ]
        },
        {
          "output_type": "stream",
          "name": "stdout",
          "text": [
            "Did not meet early stopping. Best iteration is:\n",
            "[100]\tTrain's rmse: 0.138629\tTest's rmse: 0.145897\n",
            "Training until validation scores don't improve for 50 rounds.\n"
          ]
        },
        {
          "output_type": "stream",
          "name": "stderr",
          "text": [
            "\u001b[32m[I 2021-12-15 12:11:52,610]\u001b[0m Trial 23 finished with value: 0.14215774913536736 and parameters: {'num_leaves': 43}. Best is trial 20 with value: 0.1396407421543983.\u001b[0m\n"
          ]
        },
        {
          "output_type": "stream",
          "name": "stdout",
          "text": [
            "Did not meet early stopping. Best iteration is:\n",
            "[100]\tTrain's rmse: 0.136675\tTest's rmse: 0.142158\n",
            "Training until validation scores don't improve for 50 rounds.\n"
          ]
        },
        {
          "output_type": "stream",
          "name": "stderr",
          "text": [
            "\u001b[32m[I 2021-12-15 12:11:53,113]\u001b[0m Trial 24 finished with value: 0.1440702808301605 and parameters: {'num_leaves': 36}. Best is trial 20 with value: 0.1396407421543983.\u001b[0m\n"
          ]
        },
        {
          "output_type": "stream",
          "name": "stdout",
          "text": [
            "Did not meet early stopping. Best iteration is:\n",
            "[100]\tTrain's rmse: 0.139068\tTest's rmse: 0.14407\n",
            "Training until validation scores don't improve for 50 rounds.\n"
          ]
        },
        {
          "output_type": "stream",
          "name": "stderr",
          "text": [
            "\u001b[32m[I 2021-12-15 12:11:54,072]\u001b[0m Trial 25 finished with value: 0.14680935021193503 and parameters: {'num_leaves': 101}. Best is trial 20 with value: 0.1396407421543983.\u001b[0m\n"
          ]
        },
        {
          "output_type": "stream",
          "name": "stdout",
          "text": [
            "Did not meet early stopping. Best iteration is:\n",
            "[100]\tTrain's rmse: 0.13629\tTest's rmse: 0.146809\n",
            "Training until validation scores don't improve for 50 rounds.\n"
          ]
        },
        {
          "output_type": "stream",
          "name": "stderr",
          "text": [
            "\u001b[32m[I 2021-12-15 12:11:55,292]\u001b[0m Trial 26 finished with value: 0.14672429618571645 and parameters: {'num_leaves': 141}. Best is trial 20 with value: 0.1396407421543983.\u001b[0m\n"
          ]
        },
        {
          "output_type": "stream",
          "name": "stdout",
          "text": [
            "Did not meet early stopping. Best iteration is:\n",
            "[100]\tTrain's rmse: 0.13725\tTest's rmse: 0.146724\n",
            "Training until validation scores don't improve for 50 rounds.\n"
          ]
        },
        {
          "output_type": "stream",
          "name": "stderr",
          "text": [
            "\u001b[32m[I 2021-12-15 12:11:55,764]\u001b[0m Trial 27 finished with value: 0.15467969906126044 and parameters: {'bagging_fraction': 0.5667743882637518, 'bagging_freq': 1}. Best is trial 27 with value: 0.15467969906126044.\u001b[0m\n"
          ]
        },
        {
          "output_type": "stream",
          "name": "stdout",
          "text": [
            "Did not meet early stopping. Best iteration is:\n",
            "[99]\tTrain's rmse: 0.171565\tTest's rmse: 0.15468\n",
            "Training until validation scores don't improve for 50 rounds.\n"
          ]
        },
        {
          "output_type": "stream",
          "name": "stderr",
          "text": [
            "\u001b[32m[I 2021-12-15 12:11:56,311]\u001b[0m Trial 28 finished with value: 0.15684080448594762 and parameters: {'bagging_fraction': 0.8179602759179444, 'bagging_freq': 4}. Best is trial 27 with value: 0.15467969906126044.\u001b[0m\n"
          ]
        },
        {
          "output_type": "stream",
          "name": "stdout",
          "text": [
            "Did not meet early stopping. Best iteration is:\n",
            "[100]\tTrain's rmse: 0.151782\tTest's rmse: 0.156841\n",
            "Training until validation scores don't improve for 50 rounds.\n"
          ]
        },
        {
          "output_type": "stream",
          "name": "stderr",
          "text": [
            "\u001b[32m[I 2021-12-15 12:11:56,819]\u001b[0m Trial 29 finished with value: 0.15088884895107754 and parameters: {'bagging_fraction': 0.6287446576990549, 'bagging_freq': 2}. Best is trial 29 with value: 0.15088884895107754.\u001b[0m\n"
          ]
        },
        {
          "output_type": "stream",
          "name": "stdout",
          "text": [
            "Did not meet early stopping. Best iteration is:\n",
            "[100]\tTrain's rmse: 0.164917\tTest's rmse: 0.150889\n",
            "Training until validation scores don't improve for 50 rounds.\n"
          ]
        },
        {
          "output_type": "stream",
          "name": "stderr",
          "text": [
            "\u001b[32m[I 2021-12-15 12:11:57,361]\u001b[0m Trial 30 finished with value: 0.1447244380671192 and parameters: {'bagging_fraction': 0.9545751907900759, 'bagging_freq': 2}. Best is trial 30 with value: 0.1447244380671192.\u001b[0m\n"
          ]
        },
        {
          "output_type": "stream",
          "name": "stdout",
          "text": [
            "Did not meet early stopping. Best iteration is:\n",
            "[100]\tTrain's rmse: 0.140022\tTest's rmse: 0.144724\n",
            "Training until validation scores don't improve for 50 rounds.\n"
          ]
        },
        {
          "output_type": "stream",
          "name": "stderr",
          "text": [
            "\u001b[32m[I 2021-12-15 12:11:57,846]\u001b[0m Trial 31 finished with value: 0.15761674426648836 and parameters: {'bagging_fraction': 0.4600063091181047, 'bagging_freq': 5}. Best is trial 30 with value: 0.1447244380671192.\u001b[0m\n"
          ]
        },
        {
          "output_type": "stream",
          "name": "stdout",
          "text": [
            "Did not meet early stopping. Best iteration is:\n",
            "[97]\tTrain's rmse: 0.174034\tTest's rmse: 0.157617\n",
            "Training until validation scores don't improve for 50 rounds.\n"
          ]
        },
        {
          "output_type": "stream",
          "name": "stderr",
          "text": [
            "\u001b[32m[I 2021-12-15 12:11:58,365]\u001b[0m Trial 32 finished with value: 0.1549094515128719 and parameters: {'bagging_fraction': 0.4039455542329579, 'bagging_freq': 1}. Best is trial 30 with value: 0.1447244380671192.\u001b[0m\n"
          ]
        },
        {
          "output_type": "stream",
          "name": "stdout",
          "text": [
            "Did not meet early stopping. Best iteration is:\n",
            "[98]\tTrain's rmse: 0.182467\tTest's rmse: 0.154909\n",
            "Training until validation scores don't improve for 50 rounds.\n"
          ]
        },
        {
          "output_type": "stream",
          "name": "stderr",
          "text": [
            "\u001b[32m[I 2021-12-15 12:11:58,851]\u001b[0m Trial 33 finished with value: 0.15940061465394212 and parameters: {'bagging_fraction': 0.4169986501415084, 'bagging_freq': 5}. Best is trial 30 with value: 0.1447244380671192.\u001b[0m\n"
          ]
        },
        {
          "output_type": "stream",
          "name": "stdout",
          "text": [
            "Did not meet early stopping. Best iteration is:\n",
            "[98]\tTrain's rmse: 0.180795\tTest's rmse: 0.159401\n",
            "Training until validation scores don't improve for 50 rounds.\n"
          ]
        },
        {
          "output_type": "stream",
          "name": "stderr",
          "text": [
            "\u001b[32m[I 2021-12-15 12:11:59,293]\u001b[0m Trial 34 finished with value: 0.15698341853638362 and parameters: {'bagging_fraction': 0.6065039460653979, 'bagging_freq': 6}. Best is trial 30 with value: 0.1447244380671192.\u001b[0m\n"
          ]
        },
        {
          "output_type": "stream",
          "name": "stdout",
          "text": [
            "Early stopping, best iteration is:\n",
            "[35]\tTrain's rmse: 0.209731\tTest's rmse: 0.156983\n",
            "Training until validation scores don't improve for 50 rounds.\n"
          ]
        },
        {
          "output_type": "stream",
          "name": "stderr",
          "text": [
            "\u001b[32m[I 2021-12-15 12:11:59,789]\u001b[0m Trial 35 finished with value: 0.1561909885114882 and parameters: {'bagging_fraction': 0.6177416005470574, 'bagging_freq': 6}. Best is trial 30 with value: 0.1447244380671192.\u001b[0m\n"
          ]
        },
        {
          "output_type": "stream",
          "name": "stdout",
          "text": [
            "Did not meet early stopping. Best iteration is:\n",
            "[99]\tTrain's rmse: 0.173547\tTest's rmse: 0.156191\n",
            "Training until validation scores don't improve for 50 rounds.\n"
          ]
        },
        {
          "output_type": "stream",
          "name": "stderr",
          "text": [
            "\u001b[32m[I 2021-12-15 12:12:00,328]\u001b[0m Trial 36 finished with value: 0.14153357560045354 and parameters: {'bagging_fraction': 0.9863300538962838, 'bagging_freq': 5}. Best is trial 36 with value: 0.14153357560045354.\u001b[0m\n"
          ]
        },
        {
          "output_type": "stream",
          "name": "stdout",
          "text": [
            "Did not meet early stopping. Best iteration is:\n",
            "[100]\tTrain's rmse: 0.125046\tTest's rmse: 0.141534\n",
            "Training until validation scores don't improve for 50 rounds.\n"
          ]
        },
        {
          "output_type": "stream",
          "name": "stderr",
          "text": [
            "\u001b[32m[I 2021-12-15 12:12:00,815]\u001b[0m Trial 37 finished with value: 0.14161883447338924 and parameters: {'feature_fraction': 0.8480000000000001}. Best is trial 37 with value: 0.14161883447338924.\u001b[0m\n"
          ]
        },
        {
          "output_type": "stream",
          "name": "stdout",
          "text": [
            "Did not meet early stopping. Best iteration is:\n",
            "[100]\tTrain's rmse: 0.142468\tTest's rmse: 0.141619\n",
            "Training until validation scores don't improve for 50 rounds.\n"
          ]
        },
        {
          "output_type": "stream",
          "name": "stderr",
          "text": [
            "\u001b[32m[I 2021-12-15 12:12:01,281]\u001b[0m Trial 38 finished with value: 0.14149331685906763 and parameters: {'feature_fraction': 0.7520000000000001}. Best is trial 38 with value: 0.14149331685906763.\u001b[0m\n"
          ]
        },
        {
          "output_type": "stream",
          "name": "stdout",
          "text": [
            "Did not meet early stopping. Best iteration is:\n",
            "[100]\tTrain's rmse: 0.122336\tTest's rmse: 0.141493\n",
            "Training until validation scores don't improve for 50 rounds.\n"
          ]
        },
        {
          "output_type": "stream",
          "name": "stderr",
          "text": [
            "\u001b[32m[I 2021-12-15 12:12:01,735]\u001b[0m Trial 39 finished with value: 0.14149331685906763 and parameters: {'feature_fraction': 0.784}. Best is trial 38 with value: 0.14149331685906763.\u001b[0m\n"
          ]
        },
        {
          "output_type": "stream",
          "name": "stdout",
          "text": [
            "Did not meet early stopping. Best iteration is:\n",
            "[100]\tTrain's rmse: 0.122336\tTest's rmse: 0.141493\n",
            "Training until validation scores don't improve for 50 rounds.\n"
          ]
        },
        {
          "output_type": "stream",
          "name": "stderr",
          "text": [
            "\u001b[32m[I 2021-12-15 12:12:02,239]\u001b[0m Trial 40 finished with value: 0.14161883447338924 and parameters: {'feature_fraction': 0.88}. Best is trial 38 with value: 0.14149331685906763.\u001b[0m\n"
          ]
        },
        {
          "output_type": "stream",
          "name": "stdout",
          "text": [
            "Did not meet early stopping. Best iteration is:\n",
            "[100]\tTrain's rmse: 0.142468\tTest's rmse: 0.141619\n",
            "Training until validation scores don't improve for 50 rounds.\n"
          ]
        },
        {
          "output_type": "stream",
          "name": "stderr",
          "text": [
            "\u001b[32m[I 2021-12-15 12:12:02,697]\u001b[0m Trial 41 finished with value: 0.13925631595127572 and parameters: {'feature_fraction': 0.8160000000000001}. Best is trial 41 with value: 0.13925631595127572.\u001b[0m\n"
          ]
        },
        {
          "output_type": "stream",
          "name": "stdout",
          "text": [
            "Did not meet early stopping. Best iteration is:\n",
            "[100]\tTrain's rmse: 0.128875\tTest's rmse: 0.139256\n",
            "Training until validation scores don't improve for 50 rounds.\n"
          ]
        },
        {
          "output_type": "stream",
          "name": "stderr",
          "text": [
            "\u001b[32m[I 2021-12-15 12:12:03,122]\u001b[0m Trial 42 finished with value: 0.14231731003631473 and parameters: {'feature_fraction': 0.7200000000000001}. Best is trial 41 with value: 0.13925631595127572.\u001b[0m\n"
          ]
        },
        {
          "output_type": "stream",
          "name": "stdout",
          "text": [
            "Did not meet early stopping. Best iteration is:\n",
            "[100]\tTrain's rmse: 0.124599\tTest's rmse: 0.142317\n",
            "Training until validation scores don't improve for 50 rounds.\n"
          ]
        },
        {
          "output_type": "stream",
          "name": "stderr",
          "text": [
            "\u001b[32m[I 2021-12-15 12:12:03,604]\u001b[0m Trial 43 finished with value: 0.14385640575082945 and parameters: {'lambda_l1': 0.012636997451257995, 'lambda_l2': 4.684863811060764e-05}. Best is trial 43 with value: 0.14385640575082945.\u001b[0m\n"
          ]
        },
        {
          "output_type": "stream",
          "name": "stdout",
          "text": [
            "Did not meet early stopping. Best iteration is:\n",
            "[100]\tTrain's rmse: 0.137482\tTest's rmse: 0.143856\n",
            "Training until validation scores don't improve for 50 rounds.\n"
          ]
        },
        {
          "output_type": "stream",
          "name": "stderr",
          "text": [
            "\u001b[32m[I 2021-12-15 12:12:04,062]\u001b[0m Trial 44 finished with value: 0.14092825983746116 and parameters: {'lambda_l1': 0.04806854382751051, 'lambda_l2': 0.006899112754786772}. Best is trial 44 with value: 0.14092825983746116.\u001b[0m\n"
          ]
        },
        {
          "output_type": "stream",
          "name": "stdout",
          "text": [
            "Did not meet early stopping. Best iteration is:\n",
            "[100]\tTrain's rmse: 0.1281\tTest's rmse: 0.140928\n",
            "Training until validation scores don't improve for 50 rounds.\n"
          ]
        },
        {
          "output_type": "stream",
          "name": "stderr",
          "text": [
            "\u001b[32m[I 2021-12-15 12:12:04,525]\u001b[0m Trial 45 finished with value: 0.13925603962658015 and parameters: {'lambda_l1': 5.666194177300214e-07, 'lambda_l2': 0.0009776958414803398}. Best is trial 45 with value: 0.13925603962658015.\u001b[0m\n"
          ]
        },
        {
          "output_type": "stream",
          "name": "stdout",
          "text": [
            "Did not meet early stopping. Best iteration is:\n",
            "[100]\tTrain's rmse: 0.128875\tTest's rmse: 0.139256\n",
            "Training until validation scores don't improve for 50 rounds.\n"
          ]
        },
        {
          "output_type": "stream",
          "name": "stderr",
          "text": [
            "\u001b[32m[I 2021-12-15 12:12:04,989]\u001b[0m Trial 46 finished with value: 0.1377344935507048 and parameters: {'lambda_l1': 0.0023970008339302584, 'lambda_l2': 2.136494273255737e-07}. Best is trial 46 with value: 0.1377344935507048.\u001b[0m\n"
          ]
        },
        {
          "output_type": "stream",
          "name": "stdout",
          "text": [
            "Did not meet early stopping. Best iteration is:\n",
            "[100]\tTrain's rmse: 0.128313\tTest's rmse: 0.137734\n",
            "Training until validation scores don't improve for 50 rounds.\n"
          ]
        },
        {
          "output_type": "stream",
          "name": "stderr",
          "text": [
            "\u001b[32m[I 2021-12-15 12:12:05,447]\u001b[0m Trial 47 finished with value: 0.14532974791317402 and parameters: {'lambda_l1': 0.00046614468661070963, 'lambda_l2': 1.9175735830974368}. Best is trial 46 with value: 0.1377344935507048.\u001b[0m\n"
          ]
        },
        {
          "output_type": "stream",
          "name": "stdout",
          "text": [
            "Did not meet early stopping. Best iteration is:\n",
            "[100]\tTrain's rmse: 0.130599\tTest's rmse: 0.14533\n",
            "Training until validation scores don't improve for 50 rounds.\n"
          ]
        },
        {
          "output_type": "stream",
          "name": "stderr",
          "text": [
            "\u001b[32m[I 2021-12-15 12:12:05,912]\u001b[0m Trial 48 finished with value: 0.14053270704405108 and parameters: {'lambda_l1': 0.004550983649242207, 'lambda_l2': 6.746393247702015e-06}. Best is trial 46 with value: 0.1377344935507048.\u001b[0m\n"
          ]
        },
        {
          "output_type": "stream",
          "name": "stdout",
          "text": [
            "Did not meet early stopping. Best iteration is:\n",
            "[100]\tTrain's rmse: 0.127016\tTest's rmse: 0.140533\n",
            "Training until validation scores don't improve for 50 rounds.\n"
          ]
        },
        {
          "output_type": "stream",
          "name": "stderr",
          "text": [
            "\u001b[32m[I 2021-12-15 12:12:06,383]\u001b[0m Trial 49 finished with value: 0.14055942030806604 and parameters: {'lambda_l1': 0.0011144392333438944, 'lambda_l2': 1.2568311416799472e-06}. Best is trial 46 with value: 0.1377344935507048.\u001b[0m\n"
          ]
        },
        {
          "output_type": "stream",
          "name": "stdout",
          "text": [
            "Did not meet early stopping. Best iteration is:\n",
            "[100]\tTrain's rmse: 0.13034\tTest's rmse: 0.140559\n",
            "Training until validation scores don't improve for 50 rounds.\n"
          ]
        },
        {
          "output_type": "stream",
          "name": "stderr",
          "text": [
            "\u001b[32m[I 2021-12-15 12:12:06,834]\u001b[0m Trial 50 finished with value: 0.13925598306677334 and parameters: {'lambda_l1': 1.1019711355371004e-06, 'lambda_l2': 0.0008287070134880197}. Best is trial 46 with value: 0.1377344935507048.\u001b[0m\n"
          ]
        },
        {
          "output_type": "stream",
          "name": "stdout",
          "text": [
            "Did not meet early stopping. Best iteration is:\n",
            "[100]\tTrain's rmse: 0.128874\tTest's rmse: 0.139256\n",
            "Training until validation scores don't improve for 50 rounds.\n"
          ]
        },
        {
          "output_type": "stream",
          "name": "stderr",
          "text": [
            "\u001b[32m[I 2021-12-15 12:12:07,297]\u001b[0m Trial 51 finished with value: 0.13925631600902924 and parameters: {'lambda_l1': 2.0629932552746426e-08, 'lambda_l2': 2.8823943301195306e-08}. Best is trial 46 with value: 0.1377344935507048.\u001b[0m\n"
          ]
        },
        {
          "output_type": "stream",
          "name": "stdout",
          "text": [
            "Did not meet early stopping. Best iteration is:\n",
            "[100]\tTrain's rmse: 0.128875\tTest's rmse: 0.139256\n",
            "Training until validation scores don't improve for 50 rounds.\n"
          ]
        },
        {
          "output_type": "stream",
          "name": "stderr",
          "text": [
            "\u001b[32m[I 2021-12-15 12:12:07,743]\u001b[0m Trial 52 finished with value: 0.1392563183088226 and parameters: {'lambda_l1': 1.347825253229204e-06, 'lambda_l2': 3.3500815356689025e-07}. Best is trial 46 with value: 0.1377344935507048.\u001b[0m\n"
          ]
        },
        {
          "output_type": "stream",
          "name": "stdout",
          "text": [
            "Did not meet early stopping. Best iteration is:\n",
            "[100]\tTrain's rmse: 0.128875\tTest's rmse: 0.139256\n",
            "Training until validation scores don't improve for 50 rounds.\n"
          ]
        },
        {
          "output_type": "stream",
          "name": "stderr",
          "text": [
            "\u001b[32m[I 2021-12-15 12:12:08,093]\u001b[0m Trial 53 finished with value: 0.15952034432855694 and parameters: {'lambda_l1': 9.972124382874997, 'lambda_l2': 3.1493687412814424e-08}. Best is trial 46 with value: 0.1377344935507048.\u001b[0m\n"
          ]
        },
        {
          "output_type": "stream",
          "name": "stdout",
          "text": [
            "Did not meet early stopping. Best iteration is:\n",
            "[100]\tTrain's rmse: 0.161527\tTest's rmse: 0.15952\n",
            "Training until validation scores don't improve for 50 rounds.\n"
          ]
        },
        {
          "output_type": "stream",
          "name": "stderr",
          "text": [
            "\u001b[32m[I 2021-12-15 12:12:08,577]\u001b[0m Trial 54 finished with value: 0.13835079659777685 and parameters: {'lambda_l1': 7.0947067178201995e-06, 'lambda_l2': 0.01600822920263541}. Best is trial 46 with value: 0.1377344935507048.\u001b[0m\n"
          ]
        },
        {
          "output_type": "stream",
          "name": "stdout",
          "text": [
            "Did not meet early stopping. Best iteration is:\n",
            "[100]\tTrain's rmse: 0.130582\tTest's rmse: 0.138351\n",
            "Training until validation scores don't improve for 50 rounds.\n"
          ]
        },
        {
          "output_type": "stream",
          "name": "stderr",
          "text": [
            "\u001b[32m[I 2021-12-15 12:12:09,045]\u001b[0m Trial 55 finished with value: 0.14323595194194674 and parameters: {'lambda_l1': 5.5208772600652995e-06, 'lambda_l2': 0.0922197388799748}. Best is trial 46 with value: 0.1377344935507048.\u001b[0m\n"
          ]
        },
        {
          "output_type": "stream",
          "name": "stdout",
          "text": [
            "Did not meet early stopping. Best iteration is:\n",
            "[100]\tTrain's rmse: 0.138255\tTest's rmse: 0.143236\n",
            "Training until validation scores don't improve for 50 rounds.\n"
          ]
        },
        {
          "output_type": "stream",
          "name": "stderr",
          "text": [
            "\u001b[32m[I 2021-12-15 12:12:09,517]\u001b[0m Trial 56 finished with value: 0.14143924675726116 and parameters: {'lambda_l1': 5.549160108106284e-05, 'lambda_l2': 0.05255574759402925}. Best is trial 46 with value: 0.1377344935507048.\u001b[0m\n"
          ]
        },
        {
          "output_type": "stream",
          "name": "stdout",
          "text": [
            "Did not meet early stopping. Best iteration is:\n",
            "[100]\tTrain's rmse: 0.135603\tTest's rmse: 0.141439\n",
            "Training until validation scores don't improve for 50 rounds.\n"
          ]
        },
        {
          "output_type": "stream",
          "name": "stderr",
          "text": [
            "\u001b[32m[I 2021-12-15 12:12:09,954]\u001b[0m Trial 57 finished with value: 0.15688048820009334 and parameters: {'lambda_l1': 0.3439764046367649, 'lambda_l2': 8.851477231377919}. Best is trial 46 with value: 0.1377344935507048.\u001b[0m\n"
          ]
        },
        {
          "output_type": "stream",
          "name": "stdout",
          "text": [
            "Did not meet early stopping. Best iteration is:\n",
            "[100]\tTrain's rmse: 0.13924\tTest's rmse: 0.15688\n",
            "Training until validation scores don't improve for 50 rounds.\n"
          ]
        },
        {
          "output_type": "stream",
          "name": "stderr",
          "text": [
            "\u001b[32m[I 2021-12-15 12:12:10,430]\u001b[0m Trial 58 finished with value: 0.13925637122231738 and parameters: {'lambda_l1': 2.4769316226869278e-05, 'lambda_l2': 4.9329281748392976e-05}. Best is trial 46 with value: 0.1377344935507048.\u001b[0m\n"
          ]
        },
        {
          "output_type": "stream",
          "name": "stdout",
          "text": [
            "Did not meet early stopping. Best iteration is:\n",
            "[100]\tTrain's rmse: 0.128875\tTest's rmse: 0.139256\n",
            "Training until validation scores don't improve for 50 rounds.\n"
          ]
        },
        {
          "output_type": "stream",
          "name": "stderr",
          "text": [
            "\u001b[32m[I 2021-12-15 12:12:10,889]\u001b[0m Trial 59 finished with value: 0.14162377743557156 and parameters: {'lambda_l1': 3.5682063237518856e-08, 'lambda_l2': 0.1800256435526959}. Best is trial 46 with value: 0.1377344935507048.\u001b[0m\n"
          ]
        },
        {
          "output_type": "stream",
          "name": "stdout",
          "text": [
            "Did not meet early stopping. Best iteration is:\n",
            "[100]\tTrain's rmse: 0.136548\tTest's rmse: 0.141624\n",
            "Training until validation scores don't improve for 50 rounds.\n"
          ]
        },
        {
          "output_type": "stream",
          "name": "stderr",
          "text": [
            "\u001b[32m[I 2021-12-15 12:12:11,363]\u001b[0m Trial 60 finished with value: 0.14018170873363406 and parameters: {'lambda_l1': 9.383466005274431e-05, 'lambda_l2': 0.008028954889313166}. Best is trial 46 with value: 0.1377344935507048.\u001b[0m\n"
          ]
        },
        {
          "output_type": "stream",
          "name": "stdout",
          "text": [
            "Did not meet early stopping. Best iteration is:\n",
            "[100]\tTrain's rmse: 0.131795\tTest's rmse: 0.140182\n",
            "Training until validation scores don't improve for 50 rounds.\n"
          ]
        },
        {
          "output_type": "stream",
          "name": "stderr",
          "text": [
            "\u001b[32m[I 2021-12-15 12:12:11,811]\u001b[0m Trial 61 finished with value: 0.14514776496324808 and parameters: {'lambda_l1': 0.3200068956541669, 'lambda_l2': 0.0001067297353987108}. Best is trial 46 with value: 0.1377344935507048.\u001b[0m\n"
          ]
        },
        {
          "output_type": "stream",
          "name": "stdout",
          "text": [
            "Did not meet early stopping. Best iteration is:\n",
            "[100]\tTrain's rmse: 0.135698\tTest's rmse: 0.145148\n",
            "Training until validation scores don't improve for 50 rounds.\n"
          ]
        },
        {
          "output_type": "stream",
          "name": "stderr",
          "text": [
            "\u001b[32m[I 2021-12-15 12:12:12,267]\u001b[0m Trial 62 finished with value: 0.13925631850057035 and parameters: {'lambda_l1': 1.5275656785791193e-07, 'lambda_l2': 5.746215953962737e-06}. Best is trial 46 with value: 0.1377344935507048.\u001b[0m\n"
          ]
        },
        {
          "output_type": "stream",
          "name": "stdout",
          "text": [
            "Did not meet early stopping. Best iteration is:\n",
            "[100]\tTrain's rmse: 0.128875\tTest's rmse: 0.139256\n",
            "Training until validation scores don't improve for 50 rounds.\n"
          ]
        },
        {
          "output_type": "stream",
          "name": "stderr",
          "text": [
            "\u001b[32m[I 2021-12-15 12:12:12,755]\u001b[0m Trial 63 finished with value: 0.15157344428363798 and parameters: {'min_child_samples': 25}. Best is trial 63 with value: 0.15157344428363798.\u001b[0m\n"
          ]
        },
        {
          "output_type": "stream",
          "name": "stdout",
          "text": [
            "Did not meet early stopping. Best iteration is:\n",
            "[100]\tTrain's rmse: 0.145907\tTest's rmse: 0.151573\n",
            "Training until validation scores don't improve for 50 rounds.\n"
          ]
        },
        {
          "output_type": "stream",
          "name": "stderr",
          "text": [
            "\u001b[32m[I 2021-12-15 12:12:13,217]\u001b[0m Trial 64 finished with value: 0.1964251013957603 and parameters: {'min_child_samples': 100}. Best is trial 63 with value: 0.15157344428363798.\u001b[0m\n"
          ]
        },
        {
          "output_type": "stream",
          "name": "stdout",
          "text": [
            "Did not meet early stopping. Best iteration is:\n",
            "[100]\tTrain's rmse: 0.284261\tTest's rmse: 0.196425\n",
            "Training until validation scores don't improve for 50 rounds.\n"
          ]
        },
        {
          "output_type": "stream",
          "name": "stderr",
          "text": [
            "\u001b[32m[I 2021-12-15 12:12:13,632]\u001b[0m Trial 65 finished with value: 0.14512681428805535 and parameters: {'min_child_samples': 5}. Best is trial 65 with value: 0.14512681428805535.\u001b[0m\n"
          ]
        },
        {
          "output_type": "stream",
          "name": "stdout",
          "text": [
            "Early stopping, best iteration is:\n",
            "[39]\tTrain's rmse: 0.0764883\tTest's rmse: 0.145127\n",
            "Training until validation scores don't improve for 50 rounds.\n"
          ]
        },
        {
          "output_type": "stream",
          "name": "stderr",
          "text": [
            "\u001b[32m[I 2021-12-15 12:12:14,079]\u001b[0m Trial 66 finished with value: 0.15307750370378945 and parameters: {'min_child_samples': 10}. Best is trial 65 with value: 0.14512681428805535.\u001b[0m\n"
          ]
        },
        {
          "output_type": "stream",
          "name": "stdout",
          "text": [
            "Early stopping, best iteration is:\n",
            "[48]\tTrain's rmse: 0.111711\tTest's rmse: 0.153078\n",
            "Training until validation scores don't improve for 50 rounds.\n"
          ]
        },
        {
          "output_type": "stream",
          "name": "stderr",
          "text": [
            "\u001b[32m[I 2021-12-15 12:12:14,565]\u001b[0m Trial 67 finished with value: 0.18002835939030593 and parameters: {'min_child_samples': 50}. Best is trial 65 with value: 0.14512681428805535.\u001b[0m\n"
          ]
        },
        {
          "output_type": "stream",
          "name": "stdout",
          "text": [
            "Did not meet early stopping. Best iteration is:\n",
            "[100]\tTrain's rmse: 0.227985\tTest's rmse: 0.180028\n"
          ]
        },
        {
          "output_type": "display_data",
          "data": {
            "image/png": "[encoded data removed]",
            "text/plain": [
              "<Figure size 432x288 with 1 Axes>"
            ]
          },
          "metadata": {
            "needs_background": "light"
          }
        },
        {
          "output_type": "stream",
          "name": "stderr",
          "text": [
            "\u001b[32m[I 2021-12-15 12:12:14,783]\u001b[0m A new study created in memory with name: no-name-6cb55234-d8cd-4494-b512-e4cd0715ba9d\u001b[0m\n"
          ]
        },
        {
          "output_type": "stream",
          "name": "stdout",
          "text": [
            "Training until validation scores don't improve for 50 rounds.\n"
          ]
        },
        {
          "output_type": "stream",
          "name": "stderr",
          "text": [
            "\u001b[32m[I 2021-12-15 12:12:15,195]\u001b[0m Trial 0 finished with value: 0.06638633431207216 and parameters: {'feature_fraction': 0.7}. Best is trial 0 with value: 0.06638633431207216.\u001b[0m\n"
          ]
        },
        {
          "output_type": "stream",
          "name": "stdout",
          "text": [
            "Did not meet early stopping. Best iteration is:\n",
            "[100]\tTrain's rmse: 0.132491\tTest's rmse: 0.0663863\n",
            "Training until validation scores don't improve for 50 rounds.\n"
          ]
        },
        {
          "output_type": "stream",
          "name": "stderr",
          "text": [
            "\u001b[32m[I 2021-12-15 12:12:15,647]\u001b[0m Trial 1 finished with value: 0.02177254108325357 and parameters: {'feature_fraction': 1.0}. Best is trial 1 with value: 0.02177254108325357.\u001b[0m\n"
          ]
        },
        {
          "output_type": "stream",
          "name": "stdout",
          "text": [
            "Early stopping, best iteration is:\n",
            "[43]\tTrain's rmse: 0.165773\tTest's rmse: 0.0217725\n",
            "Training until validation scores don't improve for 50 rounds.\n"
          ]
        },
        {
          "output_type": "stream",
          "name": "stderr",
          "text": [
            "\u001b[32m[I 2021-12-15 12:12:16,044]\u001b[0m Trial 2 finished with value: 0.08328249485144172 and parameters: {'feature_fraction': 0.6}. Best is trial 1 with value: 0.02177254108325357.\u001b[0m\n"
          ]
        },
        {
          "output_type": "stream",
          "name": "stdout",
          "text": [
            "Did not meet early stopping. Best iteration is:\n",
            "[100]\tTrain's rmse: 0.13123\tTest's rmse: 0.0832825\n",
            "Training until validation scores don't improve for 50 rounds.\n"
          ]
        },
        {
          "output_type": "stream",
          "name": "stderr",
          "text": [
            "\u001b[32m[I 2021-12-15 12:12:16,522]\u001b[0m Trial 3 finished with value: 0.03958827496350937 and parameters: {'feature_fraction': 0.8999999999999999}. Best is trial 1 with value: 0.02177254108325357.\u001b[0m\n"
          ]
        },
        {
          "output_type": "stream",
          "name": "stdout",
          "text": [
            "Did not meet early stopping. Best iteration is:\n",
            "[100]\tTrain's rmse: 0.153403\tTest's rmse: 0.0395883\n",
            "Training until validation scores don't improve for 50 rounds.\n"
          ]
        },
        {
          "output_type": "stream",
          "name": "stderr",
          "text": [
            "\u001b[32m[I 2021-12-15 12:12:16,971]\u001b[0m Trial 4 finished with value: 0.047424802730389466 and parameters: {'feature_fraction': 0.8}. Best is trial 1 with value: 0.02177254108325357.\u001b[0m\n"
          ]
        },
        {
          "output_type": "stream",
          "name": "stdout",
          "text": [
            "Did not meet early stopping. Best iteration is:\n",
            "[100]\tTrain's rmse: 0.12607\tTest's rmse: 0.0474248\n",
            "Training until validation scores don't improve for 50 rounds.\n"
          ]
        },
        {
          "output_type": "stream",
          "name": "stderr",
          "text": [
            "\u001b[32m[I 2021-12-15 12:12:17,367]\u001b[0m Trial 5 finished with value: 0.10061889839855907 and parameters: {'feature_fraction': 0.5}. Best is trial 1 with value: 0.02177254108325357.\u001b[0m\n"
          ]
        },
        {
          "output_type": "stream",
          "name": "stdout",
          "text": [
            "Did not meet early stopping. Best iteration is:\n",
            "[100]\tTrain's rmse: 0.137443\tTest's rmse: 0.100619\n",
            "Training until validation scores don't improve for 50 rounds.\n"
          ]
        },
        {
          "output_type": "stream",
          "name": "stderr",
          "text": [
            "\u001b[32m[I 2021-12-15 12:12:17,736]\u001b[0m Trial 6 finished with value: 0.10615833108191376 and parameters: {'feature_fraction': 0.4}. Best is trial 1 with value: 0.02177254108325357.\u001b[0m\n"
          ]
        },
        {
          "output_type": "stream",
          "name": "stdout",
          "text": [
            "Did not meet early stopping. Best iteration is:\n",
            "[100]\tTrain's rmse: 0.142166\tTest's rmse: 0.106158\n",
            "Training until validation scores don't improve for 50 rounds.\n"
          ]
        },
        {
          "output_type": "stream",
          "name": "stderr",
          "text": [
            "\u001b[32m[I 2021-12-15 12:12:18,186]\u001b[0m Trial 7 finished with value: 0.02177254108325357 and parameters: {'num_leaves': 31}. Best is trial 7 with value: 0.02177254108325357.\u001b[0m\n"
          ]
        },
        {
          "output_type": "stream",
          "name": "stdout",
          "text": [
            "Early stopping, best iteration is:\n",
            "[43]\tTrain's rmse: 0.165773\tTest's rmse: 0.0217725\n",
            "Training until validation scores don't improve for 50 rounds.\n"
          ]
        },
        {
          "output_type": "stream",
          "name": "stderr",
          "text": [
            "\u001b[32m[I 2021-12-15 12:12:19,784]\u001b[0m Trial 8 finished with value: 0.022147412284828968 and parameters: {'num_leaves': 224}. Best is trial 7 with value: 0.02177254108325357.\u001b[0m\n"
          ]
        },
        {
          "output_type": "stream",
          "name": "stdout",
          "text": [
            "Early stopping, best iteration is:\n",
            "[45]\tTrain's rmse: 0.165304\tTest's rmse: 0.0221474\n",
            "Training until validation scores don't improve for 50 rounds.\n"
          ]
        },
        {
          "output_type": "stream",
          "name": "stderr",
          "text": [
            "\u001b[32m[I 2021-12-15 12:12:20,601]\u001b[0m Trial 9 finished with value: 0.02191778641838677 and parameters: {'num_leaves': 80}. Best is trial 7 with value: 0.02177254108325357.\u001b[0m\n"
          ]
        },
        {
          "output_type": "stream",
          "name": "stdout",
          "text": [
            "Early stopping, best iteration is:\n",
            "[45]\tTrain's rmse: 0.165386\tTest's rmse: 0.0219178\n",
            "Training until validation scores don't improve for 50 rounds.\n"
          ]
        },
        {
          "output_type": "stream",
          "name": "stderr",
          "text": [
            "\u001b[32m[I 2021-12-15 12:12:21,652]\u001b[0m Trial 10 finished with value: 0.02198533105958601 and parameters: {'num_leaves': 117}. Best is trial 7 with value: 0.02177254108325357.\u001b[0m\n"
          ]
        },
        {
          "output_type": "stream",
          "name": "stdout",
          "text": [
            "Early stopping, best iteration is:\n",
            "[45]\tTrain's rmse: 0.165362\tTest's rmse: 0.0219853\n",
            "Training until validation scores don't improve for 50 rounds.\n"
          ]
        },
        {
          "output_type": "stream",
          "name": "stderr",
          "text": [
            "\u001b[32m[I 2021-12-15 12:12:23,307]\u001b[0m Trial 11 finished with value: 0.022160842980017633 and parameters: {'num_leaves': 234}. Best is trial 7 with value: 0.02177254108325357.\u001b[0m\n"
          ]
        },
        {
          "output_type": "stream",
          "name": "stdout",
          "text": [
            "Early stopping, best iteration is:\n",
            "[45]\tTrain's rmse: 0.165303\tTest's rmse: 0.0221608\n",
            "Training until validation scores don't improve for 50 rounds.\n"
          ]
        },
        {
          "output_type": "stream",
          "name": "stderr",
          "text": [
            "\u001b[32m[I 2021-12-15 12:12:23,722]\u001b[0m Trial 12 finished with value: 0.021935765796860674 and parameters: {'num_leaves': 27}. Best is trial 7 with value: 0.02177254108325357.\u001b[0m\n"
          ]
        },
        {
          "output_type": "stream",
          "name": "stdout",
          "text": [
            "Early stopping, best iteration is:\n",
            "[43]\tTrain's rmse: 0.165192\tTest's rmse: 0.0219358\n",
            "Training until validation scores don't improve for 50 rounds.\n"
          ]
        },
        {
          "output_type": "stream",
          "name": "stderr",
          "text": [
            "\u001b[32m[I 2021-12-15 12:12:24,660]\u001b[0m Trial 13 finished with value: 0.021909723758205536 and parameters: {'num_leaves': 105}. Best is trial 7 with value: 0.02177254108325357.\u001b[0m\n"
          ]
        },
        {
          "output_type": "stream",
          "name": "stdout",
          "text": [
            "Early stopping, best iteration is:\n",
            "[43]\tTrain's rmse: 0.166251\tTest's rmse: 0.0219097\n",
            "Training until validation scores don't improve for 50 rounds.\n"
          ]
        },
        {
          "output_type": "stream",
          "name": "stderr",
          "text": [
            "\u001b[32m[I 2021-12-15 12:12:25,610]\u001b[0m Trial 14 finished with value: 0.02188603484912839 and parameters: {'num_leaves': 97}. Best is trial 7 with value: 0.02177254108325357.\u001b[0m\n"
          ]
        },
        {
          "output_type": "stream",
          "name": "stdout",
          "text": [
            "Early stopping, best iteration is:\n",
            "[47]\tTrain's rmse: 0.164193\tTest's rmse: 0.021886\n",
            "Training until validation scores don't improve for 50 rounds.\n"
          ]
        },
        {
          "output_type": "stream",
          "name": "stderr",
          "text": [
            "\u001b[32m[I 2021-12-15 12:12:26,260]\u001b[0m Trial 15 finished with value: 0.020671486971142013 and parameters: {'num_leaves': 56}. Best is trial 15 with value: 0.020671486971142013.\u001b[0m\n"
          ]
        },
        {
          "output_type": "stream",
          "name": "stdout",
          "text": [
            "Early stopping, best iteration is:\n",
            "[44]\tTrain's rmse: 0.16676\tTest's rmse: 0.0206715\n",
            "Training until validation scores don't improve for 50 rounds.\n"
          ]
        },
        {
          "output_type": "stream",
          "name": "stderr",
          "text": [
            "\u001b[32m[I 2021-12-15 12:12:27,611]\u001b[0m Trial 16 finished with value: 0.022155053155727356 and parameters: {'num_leaves': 171}. Best is trial 15 with value: 0.020671486971142013.\u001b[0m\n"
          ]
        },
        {
          "output_type": "stream",
          "name": "stdout",
          "text": [
            "Early stopping, best iteration is:\n",
            "[43]\tTrain's rmse: 0.166136\tTest's rmse: 0.0221551\n",
            "Training until validation scores don't improve for 50 rounds.\n"
          ]
        },
        {
          "output_type": "stream",
          "name": "stderr",
          "text": [
            "\u001b[32m[I 2021-12-15 12:12:28,945]\u001b[0m Trial 17 finished with value: 0.022159056438877424 and parameters: {'num_leaves': 166}. Best is trial 15 with value: 0.020671486971142013.\u001b[0m\n"
          ]
        },
        {
          "output_type": "stream",
          "name": "stdout",
          "text": [
            "Early stopping, best iteration is:\n",
            "[43]\tTrain's rmse: 0.166136\tTest's rmse: 0.0221591\n",
            "Training until validation scores don't improve for 50 rounds.\n"
          ]
        },
        {
          "output_type": "stream",
          "name": "stderr",
          "text": [
            "\u001b[32m[I 2021-12-15 12:12:29,139]\u001b[0m Trial 18 finished with value: 0.040358139770047013 and parameters: {'num_leaves': 3}. Best is trial 15 with value: 0.020671486971142013.\u001b[0m\n"
          ]
        },
        {
          "output_type": "stream",
          "name": "stdout",
          "text": [
            "Did not meet early stopping. Best iteration is:\n",
            "[100]\tTrain's rmse: 0.192896\tTest's rmse: 0.0403581\n",
            "Training until validation scores don't improve for 50 rounds.\n"
          ]
        },
        {
          "output_type": "stream",
          "name": "stderr",
          "text": [
            "\u001b[32m[I 2021-12-15 12:12:29,666]\u001b[0m Trial 19 finished with value: 0.021486528589939574 and parameters: {'num_leaves': 38}. Best is trial 15 with value: 0.020671486971142013.\u001b[0m\n"
          ]
        },
        {
          "output_type": "stream",
          "name": "stdout",
          "text": [
            "Early stopping, best iteration is:\n",
            "[45]\tTrain's rmse: 0.164201\tTest's rmse: 0.0214865\n",
            "Training until validation scores don't improve for 50 rounds.\n"
          ]
        },
        {
          "output_type": "stream",
          "name": "stderr",
          "text": [
            "\u001b[32m[I 2021-12-15 12:12:30,310]\u001b[0m Trial 20 finished with value: 0.022287558440883364 and parameters: {'num_leaves': 55}. Best is trial 15 with value: 0.020671486971142013.\u001b[0m\n"
          ]
        },
        {
          "output_type": "stream",
          "name": "stdout",
          "text": [
            "Early stopping, best iteration is:\n",
            "[42]\tTrain's rmse: 0.169267\tTest's rmse: 0.0222876\n",
            "Training until validation scores don't improve for 50 rounds.\n"
          ]
        },
        {
          "output_type": "stream",
          "name": "stderr",
          "text": [
            "\u001b[32m[I 2021-12-15 12:12:31,007]\u001b[0m Trial 21 finished with value: 0.02139796789692629 and parameters: {'num_leaves': 61}. Best is trial 15 with value: 0.020671486971142013.\u001b[0m\n"
          ]
        },
        {
          "output_type": "stream",
          "name": "stdout",
          "text": [
            "Early stopping, best iteration is:\n",
            "[42]\tTrain's rmse: 0.166631\tTest's rmse: 0.021398\n",
            "Training until validation scores don't improve for 50 rounds.\n"
          ]
        },
        {
          "output_type": "stream",
          "name": "stderr",
          "text": [
            "\u001b[32m[I 2021-12-15 12:12:32,595]\u001b[0m Trial 22 finished with value: 0.02251388723864122 and parameters: {'num_leaves': 71}. Best is trial 15 with value: 0.020671486971142013.\u001b[0m\n"
          ]
        },
        {
          "output_type": "stream",
          "name": "stdout",
          "text": [
            "Early stopping, best iteration is:\n",
            "[49]\tTrain's rmse: 0.161374\tTest's rmse: 0.0225139\n",
            "Training until validation scores don't improve for 50 rounds.\n"
          ]
        },
        {
          "output_type": "stream",
          "name": "stderr",
          "text": [
            "\u001b[32m[I 2021-12-15 12:12:33,868]\u001b[0m Trial 23 finished with value: 0.022031566156415227 and parameters: {'num_leaves': 147}. Best is trial 15 with value: 0.020671486971142013.\u001b[0m\n"
          ]
        },
        {
          "output_type": "stream",
          "name": "stdout",
          "text": [
            "Early stopping, best iteration is:\n",
            "[47]\tTrain's rmse: 0.16419\tTest's rmse: 0.0220316\n",
            "Training until validation scores don't improve for 50 rounds.\n"
          ]
        },
        {
          "output_type": "stream",
          "name": "stderr",
          "text": [
            "\u001b[32m[I 2021-12-15 12:12:34,200]\u001b[0m Trial 24 finished with value: 0.027644994983737684 and parameters: {'num_leaves': 13}. Best is trial 15 with value: 0.020671486971142013.\u001b[0m\n"
          ]
        },
        {
          "output_type": "stream",
          "name": "stdout",
          "text": [
            "Did not meet early stopping. Best iteration is:\n",
            "[100]\tTrain's rmse: 0.149615\tTest's rmse: 0.027645\n",
            "Training until validation scores don't improve for 50 rounds.\n"
          ]
        },
        {
          "output_type": "stream",
          "name": "stderr",
          "text": [
            "\u001b[32m[I 2021-12-15 12:12:34,915]\u001b[0m Trial 25 finished with value: 0.02250583568859805 and parameters: {'num_leaves': 60}. Best is trial 15 with value: 0.020671486971142013.\u001b[0m\n"
          ]
        },
        {
          "output_type": "stream",
          "name": "stdout",
          "text": [
            "Early stopping, best iteration is:\n",
            "[49]\tTrain's rmse: 0.161886\tTest's rmse: 0.0225058\n",
            "Training until validation scores don't improve for 50 rounds.\n"
          ]
        },
        {
          "output_type": "stream",
          "name": "stderr",
          "text": [
            "\u001b[32m[I 2021-12-15 12:12:36,105]\u001b[0m Trial 26 finished with value: 0.0222207330563623 and parameters: {'num_leaves': 134}. Best is trial 15 with value: 0.020671486971142013.\u001b[0m\n"
          ]
        },
        {
          "output_type": "stream",
          "name": "stdout",
          "text": [
            "Early stopping, best iteration is:\n",
            "[45]\tTrain's rmse: 0.165915\tTest's rmse: 0.0222207\n",
            "Training until validation scores don't improve for 50 rounds.\n"
          ]
        },
        {
          "output_type": "stream",
          "name": "stderr",
          "text": [
            "\u001b[32m[I 2021-12-15 12:12:36,865]\u001b[0m Trial 27 finished with value: 0.027653757642670976 and parameters: {'bagging_fraction': 0.6473794266392014, 'bagging_freq': 5}. Best is trial 27 with value: 0.027653757642670976.\u001b[0m\n"
          ]
        },
        {
          "output_type": "stream",
          "name": "stdout",
          "text": [
            "Did not meet early stopping. Best iteration is:\n",
            "[100]\tTrain's rmse: 0.178241\tTest's rmse: 0.0276538\n",
            "Training until validation scores don't improve for 50 rounds.\n"
          ]
        },
        {
          "output_type": "stream",
          "name": "stderr",
          "text": [
            "\u001b[32m[I 2021-12-15 12:12:37,599]\u001b[0m Trial 28 finished with value: 0.0255462621178319 and parameters: {'bagging_fraction': 0.8946914962699879, 'bagging_freq': 1}. Best is trial 28 with value: 0.0255462621178319.\u001b[0m\n"
          ]
        },
        {
          "output_type": "stream",
          "name": "stdout",
          "text": [
            "Did not meet early stopping. Best iteration is:\n",
            "[100]\tTrain's rmse: 0.162261\tTest's rmse: 0.0255463\n",
            "Training until validation scores don't improve for 50 rounds.\n"
          ]
        },
        {
          "output_type": "stream",
          "name": "stderr",
          "text": [
            "\u001b[32m[I 2021-12-15 12:12:38,394]\u001b[0m Trial 29 finished with value: 0.032661949103599465 and parameters: {'bagging_fraction': 0.6708880664808674, 'bagging_freq': 7}. Best is trial 28 with value: 0.0255462621178319.\u001b[0m\n"
          ]
        },
        {
          "output_type": "stream",
          "name": "stdout",
          "text": [
            "Did not meet early stopping. Best iteration is:\n",
            "[100]\tTrain's rmse: 0.176246\tTest's rmse: 0.0326619\n",
            "Training until validation scores don't improve for 50 rounds.\n"
          ]
        },
        {
          "output_type": "stream",
          "name": "stderr",
          "text": [
            "\u001b[32m[I 2021-12-15 12:12:39,204]\u001b[0m Trial 30 finished with value: 0.030027933716811783 and parameters: {'bagging_fraction': 0.5747208832860782, 'bagging_freq': 4}. Best is trial 28 with value: 0.0255462621178319.\u001b[0m\n"
          ]
        },
        {
          "output_type": "stream",
          "name": "stdout",
          "text": [
            "Did not meet early stopping. Best iteration is:\n",
            "[100]\tTrain's rmse: 0.179726\tTest's rmse: 0.0300279\n",
            "Training until validation scores don't improve for 50 rounds.\n"
          ]
        },
        {
          "output_type": "stream",
          "name": "stderr",
          "text": [
            "\u001b[32m[I 2021-12-15 12:12:39,924]\u001b[0m Trial 31 finished with value: 0.021807734908521365 and parameters: {'bagging_fraction': 0.9911037448047173, 'bagging_freq': 4}. Best is trial 31 with value: 0.021807734908521365.\u001b[0m\n"
          ]
        },
        {
          "output_type": "stream",
          "name": "stdout",
          "text": [
            "Early stopping, best iteration is:\n",
            "[44]\tTrain's rmse: 0.171859\tTest's rmse: 0.0218077\n",
            "Training until validation scores don't improve for 50 rounds.\n"
          ]
        },
        {
          "output_type": "stream",
          "name": "stderr",
          "text": [
            "\u001b[32m[I 2021-12-15 12:12:40,704]\u001b[0m Trial 32 finished with value: 0.02268659093400668 and parameters: {'bagging_fraction': 0.8107856597561536, 'bagging_freq': 6}. Best is trial 31 with value: 0.021807734908521365.\u001b[0m\n"
          ]
        },
        {
          "output_type": "stream",
          "name": "stdout",
          "text": [
            "Did not meet early stopping. Best iteration is:\n",
            "[100]\tTrain's rmse: 0.167159\tTest's rmse: 0.0226866\n",
            "Training until validation scores don't improve for 50 rounds.\n"
          ]
        },
        {
          "output_type": "stream",
          "name": "stderr",
          "text": [
            "\u001b[32m[I 2021-12-15 12:12:41,492]\u001b[0m Trial 33 finished with value: 0.029335395314592737 and parameters: {'bagging_fraction': 0.8178025575769223, 'bagging_freq': 4}. Best is trial 31 with value: 0.021807734908521365.\u001b[0m\n"
          ]
        },
        {
          "output_type": "stream",
          "name": "stdout",
          "text": [
            "Did not meet early stopping. Best iteration is:\n",
            "[100]\tTrain's rmse: 0.172771\tTest's rmse: 0.0293354\n",
            "Training until validation scores don't improve for 50 rounds.\n"
          ]
        },
        {
          "output_type": "stream",
          "name": "stderr",
          "text": [
            "\u001b[32m[I 2021-12-15 12:12:42,253]\u001b[0m Trial 34 finished with value: 0.031452109441521665 and parameters: {'bagging_fraction': 0.4091902658520087, 'bagging_freq': 2}. Best is trial 31 with value: 0.021807734908521365.\u001b[0m\n"
          ]
        },
        {
          "output_type": "stream",
          "name": "stdout",
          "text": [
            "Did not meet early stopping. Best iteration is:\n",
            "[98]\tTrain's rmse: 0.185854\tTest's rmse: 0.0314521\n",
            "Training until validation scores don't improve for 50 rounds.\n"
          ]
        },
        {
          "output_type": "stream",
          "name": "stderr",
          "text": [
            "\u001b[32m[I 2021-12-15 12:12:42,963]\u001b[0m Trial 35 finished with value: 0.0266124828255845 and parameters: {'bagging_fraction': 0.9016400267865601, 'bagging_freq': 1}. Best is trial 31 with value: 0.021807734908521365.\u001b[0m\n"
          ]
        },
        {
          "output_type": "stream",
          "name": "stdout",
          "text": [
            "Did not meet early stopping. Best iteration is:\n",
            "[100]\tTrain's rmse: 0.162535\tTest's rmse: 0.0266125\n",
            "Training until validation scores don't improve for 50 rounds.\n"
          ]
        },
        {
          "output_type": "stream",
          "name": "stderr",
          "text": [
            "\u001b[32m[I 2021-12-15 12:12:43,753]\u001b[0m Trial 36 finished with value: 0.0281696414612533 and parameters: {'bagging_fraction': 0.9099680327444414, 'bagging_freq': 4}. Best is trial 31 with value: 0.021807734908521365.\u001b[0m\n"
          ]
        },
        {
          "output_type": "stream",
          "name": "stdout",
          "text": [
            "Did not meet early stopping. Best iteration is:\n",
            "[100]\tTrain's rmse: 0.165885\tTest's rmse: 0.0281696\n",
            "Training until validation scores don't improve for 50 rounds.\n"
          ]
        },
        {
          "output_type": "stream",
          "name": "stderr",
          "text": [
            "\u001b[32m[I 2021-12-15 12:12:44,480]\u001b[0m Trial 37 finished with value: 0.04091390299538579 and parameters: {'feature_fraction': 0.92}. Best is trial 37 with value: 0.04091390299538579.\u001b[0m\n"
          ]
        },
        {
          "output_type": "stream",
          "name": "stdout",
          "text": [
            "Did not meet early stopping. Best iteration is:\n",
            "[100]\tTrain's rmse: 0.146033\tTest's rmse: 0.0409139\n",
            "Training until validation scores don't improve for 50 rounds.\n"
          ]
        },
        {
          "output_type": "stream",
          "name": "stderr",
          "text": [
            "\u001b[32m[I 2021-12-15 12:12:45,159]\u001b[0m Trial 38 finished with value: 0.040304034733015845 and parameters: {'feature_fraction': 0.9520000000000001}. Best is trial 38 with value: 0.040304034733015845.\u001b[0m\n"
          ]
        },
        {
          "output_type": "stream",
          "name": "stdout",
          "text": [
            "Did not meet early stopping. Best iteration is:\n",
            "[100]\tTrain's rmse: 0.147243\tTest's rmse: 0.040304\n",
            "Training until validation scores don't improve for 50 rounds.\n"
          ]
        },
        {
          "output_type": "stream",
          "name": "stderr",
          "text": [
            "\u001b[32m[I 2021-12-15 12:12:45,852]\u001b[0m Trial 39 finished with value: 0.040304034733015845 and parameters: {'feature_fraction': 0.9840000000000001}. Best is trial 38 with value: 0.040304034733015845.\u001b[0m\n"
          ]
        },
        {
          "output_type": "stream",
          "name": "stdout",
          "text": [
            "Did not meet early stopping. Best iteration is:\n",
            "[100]\tTrain's rmse: 0.147243\tTest's rmse: 0.040304\n",
            "Training until validation scores don't improve for 50 rounds.\n"
          ]
        },
        {
          "output_type": "stream",
          "name": "stderr",
          "text": [
            "\u001b[32m[I 2021-12-15 12:12:46,346]\u001b[0m Trial 40 finished with value: 0.02150742060153859 and parameters: {'lambda_l1': 0.049467681165535335, 'lambda_l2': 0.003389978574529725}. Best is trial 40 with value: 0.02150742060153859.\u001b[0m\n"
          ]
        },
        {
          "output_type": "stream",
          "name": "stdout",
          "text": [
            "Early stopping, best iteration is:\n",
            "[42]\tTrain's rmse: 0.166549\tTest's rmse: 0.0215074\n",
            "Training until validation scores don't improve for 50 rounds.\n"
          ]
        },
        {
          "output_type": "stream",
          "name": "stderr",
          "text": [
            "\u001b[32m[I 2021-12-15 12:12:46,919]\u001b[0m Trial 41 finished with value: 0.020375615916717597 and parameters: {'lambda_l1': 9.344020631220075e-08, 'lambda_l2': 2.1222207570903384}. Best is trial 41 with value: 0.020375615916717597.\u001b[0m\n"
          ]
        },
        {
          "output_type": "stream",
          "name": "stdout",
          "text": [
            "Early stopping, best iteration is:\n",
            "[47]\tTrain's rmse: 0.169227\tTest's rmse: 0.0203756\n",
            "Training until validation scores don't improve for 50 rounds.\n"
          ]
        },
        {
          "output_type": "stream",
          "name": "stderr",
          "text": [
            "\u001b[32m[I 2021-12-15 12:12:47,566]\u001b[0m Trial 42 finished with value: 0.020672222342382817 and parameters: {'lambda_l1': 1.720397849293805e-05, 'lambda_l2': 4.4839330421272685e-08}. Best is trial 41 with value: 0.020375615916717597.\u001b[0m\n"
          ]
        },
        {
          "output_type": "stream",
          "name": "stdout",
          "text": [
            "Early stopping, best iteration is:\n",
            "[44]\tTrain's rmse: 0.166759\tTest's rmse: 0.0206722\n",
            "Training until validation scores don't improve for 50 rounds.\n"
          ]
        },
        {
          "output_type": "stream",
          "name": "stderr",
          "text": [
            "\u001b[32m[I 2021-12-15 12:12:48,081]\u001b[0m Trial 43 finished with value: 0.020444153460036286 and parameters: {'lambda_l1': 0.026901154085438105, 'lambda_l2': 0.15426137238044466}. Best is trial 41 with value: 0.020375615916717597.\u001b[0m\n"
          ]
        },
        {
          "output_type": "stream",
          "name": "stdout",
          "text": [
            "Early stopping, best iteration is:\n",
            "[43]\tTrain's rmse: 0.165844\tTest's rmse: 0.0204442\n",
            "Training until validation scores don't improve for 50 rounds.\n"
          ]
        },
        {
          "output_type": "stream",
          "name": "stderr",
          "text": [
            "\u001b[32m[I 2021-12-15 12:12:48,730]\u001b[0m Trial 44 finished with value: 0.02067148546749693 and parameters: {'lambda_l1': 1.8391641401351066e-07, 'lambda_l2': 1.9312013443603727e-05}. Best is trial 41 with value: 0.020375615916717597.\u001b[0m\n"
          ]
        },
        {
          "output_type": "stream",
          "name": "stdout",
          "text": [
            "Early stopping, best iteration is:\n",
            "[44]\tTrain's rmse: 0.16676\tTest's rmse: 0.0206715\n",
            "Training until validation scores don't improve for 50 rounds.\n"
          ]
        },
        {
          "output_type": "stream",
          "name": "stderr",
          "text": [
            "\u001b[32m[I 2021-12-15 12:12:49,069]\u001b[0m Trial 45 finished with value: 0.023981798668506003 and parameters: {'lambda_l1': 2.664786566580779, 'lambda_l2': 0.14108345157460278}. Best is trial 41 with value: 0.020375615916717597.\u001b[0m\n"
          ]
        },
        {
          "output_type": "stream",
          "name": "stdout",
          "text": [
            "Did not meet early stopping. Best iteration is:\n",
            "[100]\tTrain's rmse: 0.143824\tTest's rmse: 0.0239818\n",
            "Training until validation scores don't improve for 50 rounds.\n"
          ]
        },
        {
          "output_type": "stream",
          "name": "stderr",
          "text": [
            "\u001b[32m[I 2021-12-15 12:12:49,655]\u001b[0m Trial 46 finished with value: 0.02571061562132601 and parameters: {'lambda_l1': 2.851522387162517e-06, 'lambda_l2': 5.386095260378313}. Best is trial 41 with value: 0.020375615916717597.\u001b[0m\n"
          ]
        },
        {
          "output_type": "stream",
          "name": "stdout",
          "text": [
            "Did not meet early stopping. Best iteration is:\n",
            "[100]\tTrain's rmse: 0.152746\tTest's rmse: 0.0257106\n",
            "Training until validation scores don't improve for 50 rounds.\n"
          ]
        },
        {
          "output_type": "stream",
          "name": "stderr",
          "text": [
            "\u001b[32m[I 2021-12-15 12:12:50,351]\u001b[0m Trial 47 finished with value: 0.027809970561189373 and parameters: {'lambda_l1': 1.655515410002484e-08, 'lambda_l2': 0.00029709651486373867}. Best is trial 41 with value: 0.020375615916717597.\u001b[0m\n"
          ]
        },
        {
          "output_type": "stream",
          "name": "stdout",
          "text": [
            "Did not meet early stopping. Best iteration is:\n",
            "[100]\tTrain's rmse: 0.152835\tTest's rmse: 0.02781\n",
            "Training until validation scores don't improve for 50 rounds.\n"
          ]
        },
        {
          "output_type": "stream",
          "name": "stderr",
          "text": [
            "\u001b[32m[I 2021-12-15 12:12:50,992]\u001b[0m Trial 48 finished with value: 0.02153010142859219 and parameters: {'lambda_l1': 2.655105355783862e-07, 'lambda_l2': 0.009579529423978893}. Best is trial 41 with value: 0.020375615916717597.\u001b[0m\n"
          ]
        },
        {
          "output_type": "stream",
          "name": "stdout",
          "text": [
            "Early stopping, best iteration is:\n",
            "[44]\tTrain's rmse: 0.167449\tTest's rmse: 0.0215301\n",
            "Training until validation scores don't improve for 50 rounds.\n"
          ]
        },
        {
          "output_type": "stream",
          "name": "stderr",
          "text": [
            "\u001b[32m[I 2021-12-15 12:12:51,647]\u001b[0m Trial 49 finished with value: 0.022016449492807497 and parameters: {'lambda_l1': 0.0004971176423079169, 'lambda_l2': 3.3389243183040255e-05}. Best is trial 41 with value: 0.020375615916717597.\u001b[0m\n"
          ]
        },
        {
          "output_type": "stream",
          "name": "stdout",
          "text": [
            "Early stopping, best iteration is:\n",
            "[45]\tTrain's rmse: 0.165388\tTest's rmse: 0.0220164\n",
            "Training until validation scores don't improve for 50 rounds.\n"
          ]
        },
        {
          "output_type": "stream",
          "name": "stderr",
          "text": [
            "\u001b[32m[I 2021-12-15 12:12:52,297]\u001b[0m Trial 50 finished with value: 0.02188670363428225 and parameters: {'lambda_l1': 0.0001857222178465396, 'lambda_l2': 3.1471928591520875e-08}. Best is trial 41 with value: 0.020375615916717597.\u001b[0m\n"
          ]
        },
        {
          "output_type": "stream",
          "name": "stdout",
          "text": [
            "Early stopping, best iteration is:\n",
            "[47]\tTrain's rmse: 0.164595\tTest's rmse: 0.0218867\n",
            "Training until validation scores don't improve for 50 rounds.\n"
          ]
        },
        {
          "output_type": "stream",
          "name": "stderr",
          "text": [
            "\u001b[32m[I 2021-12-15 12:12:52,850]\u001b[0m Trial 51 finished with value: 0.025529994820936402 and parameters: {'lambda_l1': 0.017330420657987466, 'lambda_l2': 9.258565530603638}. Best is trial 41 with value: 0.020375615916717597.\u001b[0m\n"
          ]
        },
        {
          "output_type": "stream",
          "name": "stdout",
          "text": [
            "Did not meet early stopping. Best iteration is:\n",
            "[100]\tTrain's rmse: 0.158991\tTest's rmse: 0.02553\n",
            "Training until validation scores don't improve for 50 rounds.\n"
          ]
        },
        {
          "output_type": "stream",
          "name": "stderr",
          "text": [
            "\u001b[32m[I 2021-12-15 12:12:53,437]\u001b[0m Trial 52 finished with value: 0.019602640469804502 and parameters: {'lambda_l1': 0.024995130395760845, 'lambda_l2': 0.08707264604535862}. Best is trial 52 with value: 0.019602640469804502.\u001b[0m\n"
          ]
        },
        {
          "output_type": "stream",
          "name": "stdout",
          "text": [
            "Early stopping, best iteration is:\n",
            "[43]\tTrain's rmse: 0.167855\tTest's rmse: 0.0196026\n",
            "Training until validation scores don't improve for 50 rounds.\n"
          ]
        },
        {
          "output_type": "stream",
          "name": "stderr",
          "text": [
            "\u001b[32m[I 2021-12-15 12:12:53,750]\u001b[0m Trial 53 finished with value: 0.03346319791536371 and parameters: {'lambda_l1': 6.392758152994818, 'lambda_l2': 0.34239308217168946}. Best is trial 52 with value: 0.019602640469804502.\u001b[0m\n"
          ]
        },
        {
          "output_type": "stream",
          "name": "stdout",
          "text": [
            "Did not meet early stopping. Best iteration is:\n",
            "[100]\tTrain's rmse: 0.145078\tTest's rmse: 0.0334632\n",
            "Training until validation scores don't improve for 50 rounds.\n"
          ]
        },
        {
          "output_type": "stream",
          "name": "stderr",
          "text": [
            "\u001b[32m[I 2021-12-15 12:12:54,353]\u001b[0m Trial 54 finished with value: 0.02148910606146042 and parameters: {'lambda_l1': 0.0016137357665380542, 'lambda_l2': 0.6230446914344945}. Best is trial 52 with value: 0.019602640469804502.\u001b[0m\n"
          ]
        },
        {
          "output_type": "stream",
          "name": "stdout",
          "text": [
            "Early stopping, best iteration is:\n",
            "[46]\tTrain's rmse: 0.164871\tTest's rmse: 0.0214891\n",
            "Training until validation scores don't improve for 50 rounds.\n"
          ]
        },
        {
          "output_type": "stream",
          "name": "stderr",
          "text": [
            "\u001b[32m[I 2021-12-15 12:12:54,855]\u001b[0m Trial 55 finished with value: 0.02140994890240009 and parameters: {'lambda_l1': 0.1570142337267727, 'lambda_l2': 0.010432701751338572}. Best is trial 52 with value: 0.019602640469804502.\u001b[0m\n"
          ]
        },
        {
          "output_type": "stream",
          "name": "stdout",
          "text": [
            "Early stopping, best iteration is:\n",
            "[44]\tTrain's rmse: 0.164606\tTest's rmse: 0.0214099\n",
            "Training until validation scores don't improve for 50 rounds.\n"
          ]
        },
        {
          "output_type": "stream",
          "name": "stderr",
          "text": [
            "\u001b[32m[I 2021-12-15 12:12:55,528]\u001b[0m Trial 56 finished with value: 0.02222958049386875 and parameters: {'lambda_l1': 2.757638696125476e-05, 'lambda_l2': 0.029343190779068974}. Best is trial 52 with value: 0.019602640469804502.\u001b[0m\n"
          ]
        },
        {
          "output_type": "stream",
          "name": "stdout",
          "text": [
            "Early stopping, best iteration is:\n",
            "[47]\tTrain's rmse: 0.164593\tTest's rmse: 0.0222296\n",
            "Training until validation scores don't improve for 50 rounds.\n"
          ]
        },
        {
          "output_type": "stream",
          "name": "stderr",
          "text": [
            "\u001b[32m[I 2021-12-15 12:12:55,994]\u001b[0m Trial 57 finished with value: 0.019965456689238974 and parameters: {'lambda_l1': 0.34798255725431393, 'lambda_l2': 0.0007610053190064176}. Best is trial 52 with value: 0.019602640469804502.\u001b[0m\n"
          ]
        },
        {
          "output_type": "stream",
          "name": "stdout",
          "text": [
            "Early stopping, best iteration is:\n",
            "[46]\tTrain's rmse: 0.164305\tTest's rmse: 0.0199655\n",
            "Training until validation scores don't improve for 50 rounds.\n"
          ]
        },
        {
          "output_type": "stream",
          "name": "stderr",
          "text": [
            "\u001b[32m[I 2021-12-15 12:12:56,471]\u001b[0m Trial 58 finished with value: 0.021882057906883173 and parameters: {'lambda_l1': 0.2236920215825347, 'lambda_l2': 1.3027118857489957e-06}. Best is trial 52 with value: 0.019602640469804502.\u001b[0m\n"
          ]
        },
        {
          "output_type": "stream",
          "name": "stdout",
          "text": [
            "Early stopping, best iteration is:\n",
            "[47]\tTrain's rmse: 0.163479\tTest's rmse: 0.0218821\n",
            "Training until validation scores don't improve for 50 rounds.\n"
          ]
        },
        {
          "output_type": "stream",
          "name": "stderr",
          "text": [
            "\u001b[32m[I 2021-12-15 12:12:57,087]\u001b[0m Trial 59 finished with value: 0.021344631598623345 and parameters: {'lambda_l1': 0.0029257242583206203, 'lambda_l2': 0.0006542921986793872}. Best is trial 52 with value: 0.019602640469804502.\u001b[0m\n"
          ]
        },
        {
          "output_type": "stream",
          "name": "stdout",
          "text": [
            "Early stopping, best iteration is:\n",
            "[44]\tTrain's rmse: 0.166241\tTest's rmse: 0.0213446\n",
            "Training until validation scores don't improve for 50 rounds.\n"
          ]
        },
        {
          "output_type": "stream",
          "name": "stderr",
          "text": [
            "\u001b[32m[I 2021-12-15 12:12:57,663]\u001b[0m Trial 60 finished with value: 0.025336409078580584 and parameters: {'min_child_samples': 25}. Best is trial 60 with value: 0.025336409078580584.\u001b[0m\n"
          ]
        },
        {
          "output_type": "stream",
          "name": "stdout",
          "text": [
            "Early stopping, best iteration is:\n",
            "[44]\tTrain's rmse: 0.174252\tTest's rmse: 0.0253364\n",
            "Training until validation scores don't improve for 50 rounds.\n"
          ]
        },
        {
          "output_type": "stream",
          "name": "stderr",
          "text": [
            "\u001b[32m[I 2021-12-15 12:12:58,137]\u001b[0m Trial 61 finished with value: 0.02246784366105816 and parameters: {'min_child_samples': 5}. Best is trial 61 with value: 0.02246784366105816.\u001b[0m\n"
          ]
        },
        {
          "output_type": "stream",
          "name": "stdout",
          "text": [
            "Early stopping, best iteration is:\n",
            "[40]\tTrain's rmse: 0.0523241\tTest's rmse: 0.0224678\n",
            "Training until validation scores don't improve for 50 rounds.\n"
          ]
        },
        {
          "output_type": "stream",
          "name": "stderr",
          "text": [
            "\u001b[32m[I 2021-12-15 12:12:58,667]\u001b[0m Trial 62 finished with value: 0.08642673249931476 and parameters: {'min_child_samples': 100}. Best is trial 61 with value: 0.02246784366105816.\u001b[0m\n"
          ]
        },
        {
          "output_type": "stream",
          "name": "stdout",
          "text": [
            "Did not meet early stopping. Best iteration is:\n",
            "[100]\tTrain's rmse: 0.293846\tTest's rmse: 0.0864267\n",
            "Training until validation scores don't improve for 50 rounds.\n"
          ]
        },
        {
          "output_type": "stream",
          "name": "stderr",
          "text": [
            "\u001b[32m[I 2021-12-15 12:12:59,175]\u001b[0m Trial 63 finished with value: 0.028169139132948894 and parameters: {'min_child_samples': 10}. Best is trial 61 with value: 0.02246784366105816.\u001b[0m\n"
          ]
        },
        {
          "output_type": "stream",
          "name": "stdout",
          "text": [
            "Early stopping, best iteration is:\n",
            "[38]\tTrain's rmse: 0.116364\tTest's rmse: 0.0281691\n",
            "Training until validation scores don't improve for 50 rounds.\n"
          ]
        },
        {
          "output_type": "stream",
          "name": "stderr",
          "text": [
            "\u001b[32m[I 2021-12-15 12:12:59,671]\u001b[0m Trial 64 finished with value: 0.056895207399405984 and parameters: {'min_child_samples': 50}. Best is trial 61 with value: 0.02246784366105816.\u001b[0m\n"
          ]
        },
        {
          "output_type": "stream",
          "name": "stdout",
          "text": [
            "Early stopping, best iteration is:\n",
            "[38]\tTrain's rmse: 0.255405\tTest's rmse: 0.0568952\n"
          ]
        },
        {
          "output_type": "display_data",
          "data": {
            "image/png": "[encoded data removed]",
            "text/plain": [
              "<Figure size 432x288 with 1 Axes>"
            ]
          },
          "metadata": {
            "needs_background": "light"
          }
        },
        {
          "output_type": "stream",
          "name": "stderr",
          "text": [
            "\u001b[32m[I 2021-12-15 12:12:59,895]\u001b[0m A new study created in memory with name: no-name-e2f942d1-3b91-451b-b29b-81a3cff5455f\u001b[0m\n"
          ]
        },
        {
          "output_type": "stream",
          "name": "stdout",
          "text": [
            "Training until validation scores don't improve for 50 rounds.\n"
          ]
        },
        {
          "output_type": "stream",
          "name": "stderr",
          "text": [
            "\u001b[32m[I 2021-12-15 12:13:00,251]\u001b[0m Trial 0 finished with value: 0.41194801855330004 and parameters: {'feature_fraction': 0.4}. Best is trial 0 with value: 0.41194801855330004.\u001b[0m\n"
          ]
        },
        {
          "output_type": "stream",
          "name": "stdout",
          "text": [
            "Did not meet early stopping. Best iteration is:\n",
            "[100]\tTrain's rmse: 0.127532\tTest's rmse: 0.411948\n",
            "Training until validation scores don't improve for 50 rounds.\n"
          ]
        },
        {
          "output_type": "stream",
          "name": "stderr",
          "text": [
            "\u001b[32m[I 2021-12-15 12:13:00,658]\u001b[0m Trial 1 finished with value: 0.41325813010412743 and parameters: {'feature_fraction': 0.5}. Best is trial 0 with value: 0.41194801855330004.\u001b[0m\n"
          ]
        },
        {
          "output_type": "stream",
          "name": "stdout",
          "text": [
            "Did not meet early stopping. Best iteration is:\n",
            "[100]\tTrain's rmse: 0.121666\tTest's rmse: 0.413258\n",
            "Training until validation scores don't improve for 50 rounds.\n"
          ]
        },
        {
          "output_type": "stream",
          "name": "stderr",
          "text": [
            "\u001b[32m[I 2021-12-15 12:13:01,088]\u001b[0m Trial 2 finished with value: 0.407667454479844 and parameters: {'feature_fraction': 0.6}. Best is trial 2 with value: 0.407667454479844.\u001b[0m\n"
          ]
        },
        {
          "output_type": "stream",
          "name": "stdout",
          "text": [
            "Did not meet early stopping. Best iteration is:\n",
            "[100]\tTrain's rmse: 0.119068\tTest's rmse: 0.407667\n",
            "Training until validation scores don't improve for 50 rounds.\n"
          ]
        },
        {
          "output_type": "stream",
          "name": "stderr",
          "text": [
            "\u001b[32m[I 2021-12-15 12:13:01,542]\u001b[0m Trial 3 finished with value: 0.38854610452293914 and parameters: {'feature_fraction': 0.8}. Best is trial 3 with value: 0.38854610452293914.\u001b[0m\n"
          ]
        },
        {
          "output_type": "stream",
          "name": "stdout",
          "text": [
            "Early stopping, best iteration is:\n",
            "[48]\tTrain's rmse: 0.15319\tTest's rmse: 0.388546\n",
            "Training until validation scores don't improve for 50 rounds.\n"
          ]
        },
        {
          "output_type": "stream",
          "name": "stderr",
          "text": [
            "\u001b[32m[I 2021-12-15 12:13:01,994]\u001b[0m Trial 4 finished with value: 0.39792690629008476 and parameters: {'feature_fraction': 0.7}. Best is trial 3 with value: 0.38854610452293914.\u001b[0m\n"
          ]
        },
        {
          "output_type": "stream",
          "name": "stdout",
          "text": [
            "Did not meet early stopping. Best iteration is:\n",
            "[100]\tTrain's rmse: 0.119956\tTest's rmse: 0.397927\n",
            "Training until validation scores don't improve for 50 rounds.\n"
          ]
        },
        {
          "output_type": "stream",
          "name": "stderr",
          "text": [
            "\u001b[32m[I 2021-12-15 12:13:02,435]\u001b[0m Trial 5 finished with value: 0.38020058278906177 and parameters: {'feature_fraction': 0.8999999999999999}. Best is trial 5 with value: 0.38020058278906177.\u001b[0m\n"
          ]
        },
        {
          "output_type": "stream",
          "name": "stdout",
          "text": [
            "Early stopping, best iteration is:\n",
            "[36]\tTrain's rmse: 0.157903\tTest's rmse: 0.380201\n",
            "Training until validation scores don't improve for 50 rounds.\n"
          ]
        },
        {
          "output_type": "stream",
          "name": "stderr",
          "text": [
            "\u001b[32m[I 2021-12-15 12:13:02,867]\u001b[0m Trial 6 finished with value: 0.37303280377763515 and parameters: {'feature_fraction': 1.0}. Best is trial 6 with value: 0.37303280377763515.\u001b[0m\n"
          ]
        },
        {
          "output_type": "stream",
          "name": "stdout",
          "text": [
            "Early stopping, best iteration is:\n",
            "[32]\tTrain's rmse: 0.15906\tTest's rmse: 0.373033\n",
            "Training until validation scores don't improve for 50 rounds.\n"
          ]
        },
        {
          "output_type": "stream",
          "name": "stderr",
          "text": [
            "\u001b[32m[I 2021-12-15 12:13:03,283]\u001b[0m Trial 7 finished with value: 0.37380155735017107 and parameters: {'num_leaves': 32}. Best is trial 7 with value: 0.37380155735017107.\u001b[0m\n"
          ]
        },
        {
          "output_type": "stream",
          "name": "stdout",
          "text": [
            "Early stopping, best iteration is:\n",
            "[31]\tTrain's rmse: 0.159774\tTest's rmse: 0.373802\n",
            "Training until validation scores don't improve for 50 rounds.\n"
          ]
        },
        {
          "output_type": "stream",
          "name": "stderr",
          "text": [
            "\u001b[32m[I 2021-12-15 12:13:04,539]\u001b[0m Trial 8 finished with value: 0.37606396960938115 and parameters: {'num_leaves': 193}. Best is trial 7 with value: 0.37380155735017107.\u001b[0m\n"
          ]
        },
        {
          "output_type": "stream",
          "name": "stdout",
          "text": [
            "Early stopping, best iteration is:\n",
            "[32]\tTrain's rmse: 0.15918\tTest's rmse: 0.376064\n",
            "Training until validation scores don't improve for 50 rounds.\n"
          ]
        },
        {
          "output_type": "stream",
          "name": "stderr",
          "text": [
            "\u001b[32m[I 2021-12-15 12:13:05,438]\u001b[0m Trial 9 finished with value: 0.3760653268990991 and parameters: {'num_leaves': 110}. Best is trial 7 with value: 0.37380155735017107.\u001b[0m\n"
          ]
        },
        {
          "output_type": "stream",
          "name": "stdout",
          "text": [
            "Early stopping, best iteration is:\n",
            "[32]\tTrain's rmse: 0.159186\tTest's rmse: 0.376065\n",
            "Training until validation scores don't improve for 50 rounds.\n"
          ]
        },
        {
          "output_type": "stream",
          "name": "stderr",
          "text": [
            "\u001b[32m[I 2021-12-15 12:13:06,846]\u001b[0m Trial 10 finished with value: 0.37576800530090637 and parameters: {'num_leaves': 203}. Best is trial 7 with value: 0.37380155735017107.\u001b[0m\n"
          ]
        },
        {
          "output_type": "stream",
          "name": "stdout",
          "text": [
            "Early stopping, best iteration is:\n",
            "[39]\tTrain's rmse: 0.153026\tTest's rmse: 0.375768\n",
            "Training until validation scores don't improve for 50 rounds.\n"
          ]
        },
        {
          "output_type": "stream",
          "name": "stderr",
          "text": [
            "\u001b[32m[I 2021-12-15 12:13:07,712]\u001b[0m Trial 11 finished with value: 0.37576698513609913 and parameters: {'num_leaves': 100}. Best is trial 7 with value: 0.37380155735017107.\u001b[0m\n"
          ]
        },
        {
          "output_type": "stream",
          "name": "stdout",
          "text": [
            "Early stopping, best iteration is:\n",
            "[39]\tTrain's rmse: 0.153043\tTest's rmse: 0.375767\n",
            "Training until validation scores don't improve for 50 rounds.\n"
          ]
        },
        {
          "output_type": "stream",
          "name": "stderr",
          "text": [
            "\u001b[32m[I 2021-12-15 12:13:08,265]\u001b[0m Trial 12 finished with value: 0.3760765551719972 and parameters: {'num_leaves': 51}. Best is trial 7 with value: 0.37380155735017107.\u001b[0m\n"
          ]
        },
        {
          "output_type": "stream",
          "name": "stdout",
          "text": [
            "Early stopping, best iteration is:\n",
            "[32]\tTrain's rmse: 0.159209\tTest's rmse: 0.376077\n",
            "Training until validation scores don't improve for 50 rounds.\n"
          ]
        },
        {
          "output_type": "stream",
          "name": "stderr",
          "text": [
            "\u001b[32m[I 2021-12-15 12:13:08,938]\u001b[0m Trial 13 finished with value: 0.3761163778551823 and parameters: {'num_leaves': 70}. Best is trial 7 with value: 0.37380155735017107.\u001b[0m\n"
          ]
        },
        {
          "output_type": "stream",
          "name": "stdout",
          "text": [
            "Early stopping, best iteration is:\n",
            "[32]\tTrain's rmse: 0.159225\tTest's rmse: 0.376116\n",
            "Training until validation scores don't improve for 50 rounds.\n"
          ]
        },
        {
          "output_type": "stream",
          "name": "stderr",
          "text": [
            "\u001b[32m[I 2021-12-15 12:13:09,171]\u001b[0m Trial 14 finished with value: 0.36105902060784245 and parameters: {'num_leaves': 8}. Best is trial 14 with value: 0.36105902060784245.\u001b[0m\n"
          ]
        },
        {
          "output_type": "stream",
          "name": "stdout",
          "text": [
            "Early stopping, best iteration is:\n",
            "[38]\tTrain's rmse: 0.15377\tTest's rmse: 0.361059\n",
            "Training until validation scores don't improve for 50 rounds.\n"
          ]
        },
        {
          "output_type": "stream",
          "name": "stderr",
          "text": [
            "\u001b[32m[I 2021-12-15 12:13:10,307]\u001b[0m Trial 15 finished with value: 0.37576565835810277 and parameters: {'num_leaves': 147}. Best is trial 14 with value: 0.36105902060784245.\u001b[0m\n"
          ]
        },
        {
          "output_type": "stream",
          "name": "stdout",
          "text": [
            "Early stopping, best iteration is:\n",
            "[39]\tTrain's rmse: 0.153042\tTest's rmse: 0.375766\n",
            "Training until validation scores don't improve for 50 rounds.\n"
          ]
        },
        {
          "output_type": "stream",
          "name": "stderr",
          "text": [
            "\u001b[32m[I 2021-12-15 12:13:10,989]\u001b[0m Trial 16 finished with value: 0.37609897249943963 and parameters: {'num_leaves': 72}. Best is trial 14 with value: 0.36105902060784245.\u001b[0m\n"
          ]
        },
        {
          "output_type": "stream",
          "name": "stdout",
          "text": [
            "Early stopping, best iteration is:\n",
            "[32]\tTrain's rmse: 0.159198\tTest's rmse: 0.376099\n",
            "Training until validation scores don't improve for 50 rounds.\n"
          ]
        },
        {
          "output_type": "stream",
          "name": "stderr",
          "text": [
            "\u001b[32m[I 2021-12-15 12:13:11,258]\u001b[0m Trial 17 finished with value: 0.37452473564088873 and parameters: {'num_leaves': 13}. Best is trial 14 with value: 0.36105902060784245.\u001b[0m\n",
            "\u001b[32m[I 2021-12-15 12:13:11,444]\u001b[0m Trial 18 finished with value: 0.34821864623888243 and parameters: {'num_leaves': 5}. Best is trial 18 with value: 0.34821864623888243.\u001b[0m\n"
          ]
        },
        {
          "output_type": "stream",
          "name": "stdout",
          "text": [
            "Early stopping, best iteration is:\n",
            "[34]\tTrain's rmse: 0.155954\tTest's rmse: 0.374525\n",
            "Training until validation scores don't improve for 50 rounds.\n",
            "Early stopping, best iteration is:\n",
            "[36]\tTrain's rmse: 0.166868\tTest's rmse: 0.348219\n"
          ]
        },
        {
          "output_type": "stream",
          "name": "stderr",
          "text": [
            "\u001b[32m[I 2021-12-15 12:13:11,676]\u001b[0m Trial 19 finished with value: 0.36105902060784245 and parameters: {'num_leaves': 8}. Best is trial 18 with value: 0.34821864623888243.\u001b[0m\n"
          ]
        },
        {
          "output_type": "stream",
          "name": "stdout",
          "text": [
            "Training until validation scores don't improve for 50 rounds.\n",
            "Early stopping, best iteration is:\n",
            "[38]\tTrain's rmse: 0.15377\tTest's rmse: 0.361059\n",
            "Training until validation scores don't improve for 50 rounds.\n"
          ]
        },
        {
          "output_type": "stream",
          "name": "stderr",
          "text": [
            "\u001b[32m[I 2021-12-15 12:13:12,905]\u001b[0m Trial 20 finished with value: 0.3757671221534982 and parameters: {'num_leaves': 157}. Best is trial 18 with value: 0.34821864623888243.\u001b[0m\n"
          ]
        },
        {
          "output_type": "stream",
          "name": "stdout",
          "text": [
            "Early stopping, best iteration is:\n",
            "[39]\tTrain's rmse: 0.153027\tTest's rmse: 0.375767\n",
            "Training until validation scores don't improve for 50 rounds.\n"
          ]
        },
        {
          "output_type": "stream",
          "name": "stderr",
          "text": [
            "\u001b[32m[I 2021-12-15 12:13:14,532]\u001b[0m Trial 21 finished with value: 0.37576803714576895 and parameters: {'num_leaves': 250}. Best is trial 18 with value: 0.34821864623888243.\u001b[0m\n"
          ]
        },
        {
          "output_type": "stream",
          "name": "stdout",
          "text": [
            "Early stopping, best iteration is:\n",
            "[39]\tTrain's rmse: 0.153025\tTest's rmse: 0.375768\n",
            "Training until validation scores don't improve for 50 rounds.\n"
          ]
        },
        {
          "output_type": "stream",
          "name": "stderr",
          "text": [
            "\u001b[32m[I 2021-12-15 12:13:14,726]\u001b[0m Trial 22 finished with value: 0.3645463404681194 and parameters: {'num_leaves': 4}. Best is trial 18 with value: 0.34821864623888243.\u001b[0m\n"
          ]
        },
        {
          "output_type": "stream",
          "name": "stdout",
          "text": [
            "Did not meet early stopping. Best iteration is:\n",
            "[100]\tTrain's rmse: 0.13478\tTest's rmse: 0.364546\n",
            "Training until validation scores don't improve for 50 rounds.\n"
          ]
        },
        {
          "output_type": "stream",
          "name": "stderr",
          "text": [
            "\u001b[32m[I 2021-12-15 12:13:15,244]\u001b[0m Trial 23 finished with value: 0.37291798515496444 and parameters: {'num_leaves': 38}. Best is trial 18 with value: 0.34821864623888243.\u001b[0m\n"
          ]
        },
        {
          "output_type": "stream",
          "name": "stdout",
          "text": [
            "Early stopping, best iteration is:\n",
            "[38]\tTrain's rmse: 0.152714\tTest's rmse: 0.372918\n",
            "Training until validation scores don't improve for 50 rounds.\n"
          ]
        },
        {
          "output_type": "stream",
          "name": "stderr",
          "text": [
            "\u001b[32m[I 2021-12-15 12:13:16,001]\u001b[0m Trial 24 finished with value: 0.3757705561577217 and parameters: {'num_leaves': 77}. Best is trial 18 with value: 0.34821864623888243.\u001b[0m\n"
          ]
        },
        {
          "output_type": "stream",
          "name": "stdout",
          "text": [
            "Early stopping, best iteration is:\n",
            "[39]\tTrain's rmse: 0.153035\tTest's rmse: 0.375771\n",
            "Training until validation scores don't improve for 50 rounds.\n"
          ]
        },
        {
          "output_type": "stream",
          "name": "stderr",
          "text": [
            "\u001b[32m[I 2021-12-15 12:13:16,523]\u001b[0m Trial 25 finished with value: 0.3730384452124601 and parameters: {'num_leaves': 43}. Best is trial 18 with value: 0.34821864623888243.\u001b[0m\n"
          ]
        },
        {
          "output_type": "stream",
          "name": "stdout",
          "text": [
            "Early stopping, best iteration is:\n",
            "[38]\tTrain's rmse: 0.152838\tTest's rmse: 0.373038\n",
            "Training until validation scores don't improve for 50 rounds.\n"
          ]
        },
        {
          "output_type": "stream",
          "name": "stderr",
          "text": [
            "\u001b[32m[I 2021-12-15 12:13:17,439]\u001b[0m Trial 26 finished with value: 0.37576667990931545 and parameters: {'num_leaves': 105}. Best is trial 18 with value: 0.34821864623888243.\u001b[0m\n"
          ]
        },
        {
          "output_type": "stream",
          "name": "stdout",
          "text": [
            "Early stopping, best iteration is:\n",
            "[39]\tTrain's rmse: 0.153044\tTest's rmse: 0.375767\n",
            "Training until validation scores don't improve for 50 rounds.\n"
          ]
        },
        {
          "output_type": "stream",
          "name": "stderr",
          "text": [
            "\u001b[32m[I 2021-12-15 12:13:17,671]\u001b[0m Trial 27 finished with value: 0.352159096449736 and parameters: {'bagging_fraction': 0.5436224404770587, 'bagging_freq': 4}. Best is trial 27 with value: 0.352159096449736.\u001b[0m\n"
          ]
        },
        {
          "output_type": "stream",
          "name": "stdout",
          "text": [
            "Did not meet early stopping. Best iteration is:\n",
            "[100]\tTrain's rmse: 0.166577\tTest's rmse: 0.352159\n",
            "Training until validation scores don't improve for 50 rounds.\n"
          ]
        },
        {
          "output_type": "stream",
          "name": "stderr",
          "text": [
            "\u001b[32m[I 2021-12-15 12:13:17,921]\u001b[0m Trial 28 finished with value: 0.3534254672616933 and parameters: {'bagging_fraction': 0.7953726876161689, 'bagging_freq': 4}. Best is trial 27 with value: 0.352159096449736.\u001b[0m\n"
          ]
        },
        {
          "output_type": "stream",
          "name": "stdout",
          "text": [
            "Did not meet early stopping. Best iteration is:\n",
            "[100]\tTrain's rmse: 0.154294\tTest's rmse: 0.353425\n",
            "Training until validation scores don't improve for 50 rounds.\n"
          ]
        },
        {
          "output_type": "stream",
          "name": "stderr",
          "text": [
            "\u001b[32m[I 2021-12-15 12:13:18,161]\u001b[0m Trial 29 finished with value: 0.36755919408272564 and parameters: {'bagging_fraction': 0.6124756426433645, 'bagging_freq': 4}. Best is trial 27 with value: 0.352159096449736.\u001b[0m\n"
          ]
        },
        {
          "output_type": "stream",
          "name": "stdout",
          "text": [
            "Did not meet early stopping. Best iteration is:\n",
            "[100]\tTrain's rmse: 0.161899\tTest's rmse: 0.367559\n",
            "Training until validation scores don't improve for 50 rounds.\n"
          ]
        },
        {
          "output_type": "stream",
          "name": "stderr",
          "text": [
            "\u001b[32m[I 2021-12-15 12:13:18,430]\u001b[0m Trial 30 finished with value: 0.36264431198322716 and parameters: {'bagging_fraction': 0.9462945275479219, 'bagging_freq': 2}. Best is trial 27 with value: 0.352159096449736.\u001b[0m\n"
          ]
        },
        {
          "output_type": "stream",
          "name": "stdout",
          "text": [
            "Did not meet early stopping. Best iteration is:\n",
            "[100]\tTrain's rmse: 0.140963\tTest's rmse: 0.362644\n",
            "Training until validation scores don't improve for 50 rounds.\n"
          ]
        },
        {
          "output_type": "stream",
          "name": "stderr",
          "text": [
            "\u001b[32m[I 2021-12-15 12:13:18,647]\u001b[0m Trial 31 finished with value: 0.3352756114450934 and parameters: {'bagging_fraction': 0.52131303873783, 'bagging_freq': 6}. Best is trial 31 with value: 0.3352756114450934.\u001b[0m\n"
          ]
        },
        {
          "output_type": "stream",
          "name": "stdout",
          "text": [
            "Did not meet early stopping. Best iteration is:\n",
            "[100]\tTrain's rmse: 0.177388\tTest's rmse: 0.335276\n",
            "Training until validation scores don't improve for 50 rounds.\n"
          ]
        },
        {
          "output_type": "stream",
          "name": "stderr",
          "text": [
            "\u001b[32m[I 2021-12-15 12:13:18,876]\u001b[0m Trial 32 finished with value: 0.3532823342794413 and parameters: {'bagging_fraction': 0.45900003974302805, 'bagging_freq': 7}. Best is trial 31 with value: 0.3352756114450934.\u001b[0m\n"
          ]
        },
        {
          "output_type": "stream",
          "name": "stdout",
          "text": [
            "Did not meet early stopping. Best iteration is:\n",
            "[100]\tTrain's rmse: 0.171656\tTest's rmse: 0.353282\n",
            "Training until validation scores don't improve for 50 rounds.\n"
          ]
        },
        {
          "output_type": "stream",
          "name": "stderr",
          "text": [
            "\u001b[32m[I 2021-12-15 12:13:19,127]\u001b[0m Trial 33 finished with value: 0.35618524850582184 and parameters: {'bagging_fraction': 0.6937249167342212, 'bagging_freq': 2}. Best is trial 31 with value: 0.3352756114450934.\u001b[0m\n"
          ]
        },
        {
          "output_type": "stream",
          "name": "stdout",
          "text": [
            "Did not meet early stopping. Best iteration is:\n",
            "[100]\tTrain's rmse: 0.158806\tTest's rmse: 0.356185\n",
            "Training until validation scores don't improve for 50 rounds.\n"
          ]
        },
        {
          "output_type": "stream",
          "name": "stderr",
          "text": [
            "\u001b[32m[I 2021-12-15 12:13:19,372]\u001b[0m Trial 34 finished with value: 0.3533577900956113 and parameters: {'bagging_fraction': 0.7985712265005773, 'bagging_freq': 4}. Best is trial 31 with value: 0.3352756114450934.\u001b[0m\n"
          ]
        },
        {
          "output_type": "stream",
          "name": "stdout",
          "text": [
            "Did not meet early stopping. Best iteration is:\n",
            "[100]\tTrain's rmse: 0.15501\tTest's rmse: 0.353358\n",
            "Training until validation scores don't improve for 50 rounds.\n"
          ]
        },
        {
          "output_type": "stream",
          "name": "stderr",
          "text": [
            "\u001b[32m[I 2021-12-15 12:13:19,615]\u001b[0m Trial 35 finished with value: 0.36557433258769007 and parameters: {'bagging_fraction': 0.9253298213047517, 'bagging_freq': 2}. Best is trial 31 with value: 0.3352756114450934.\u001b[0m\n"
          ]
        },
        {
          "output_type": "stream",
          "name": "stdout",
          "text": [
            "Did not meet early stopping. Best iteration is:\n",
            "[100]\tTrain's rmse: 0.141573\tTest's rmse: 0.365574\n",
            "Training until validation scores don't improve for 50 rounds.\n"
          ]
        },
        {
          "output_type": "stream",
          "name": "stderr",
          "text": [
            "\u001b[32m[I 2021-12-15 12:13:19,843]\u001b[0m Trial 36 finished with value: 0.36193251365314777 and parameters: {'bagging_fraction': 0.6493039230860083, 'bagging_freq': 1}. Best is trial 31 with value: 0.3352756114450934.\u001b[0m\n"
          ]
        },
        {
          "output_type": "stream",
          "name": "stdout",
          "text": [
            "Did not meet early stopping. Best iteration is:\n",
            "[100]\tTrain's rmse: 0.160296\tTest's rmse: 0.361933\n",
            "Training until validation scores don't improve for 50 rounds.\n"
          ]
        },
        {
          "output_type": "stream",
          "name": "stderr",
          "text": [
            "\u001b[32m[I 2021-12-15 12:13:20,080]\u001b[0m Trial 37 finished with value: 0.3394861423141941 and parameters: {'feature_fraction': 0.92}. Best is trial 37 with value: 0.3394861423141941.\u001b[0m\n"
          ]
        },
        {
          "output_type": "stream",
          "name": "stdout",
          "text": [
            "Did not meet early stopping. Best iteration is:\n",
            "[100]\tTrain's rmse: 0.176652\tTest's rmse: 0.339486\n",
            "Training until validation scores don't improve for 50 rounds.\n"
          ]
        },
        {
          "output_type": "stream",
          "name": "stderr",
          "text": [
            "\u001b[32m[I 2021-12-15 12:13:20,303]\u001b[0m Trial 38 finished with value: 0.33617216056137234 and parameters: {'feature_fraction': 0.9520000000000001}. Best is trial 38 with value: 0.33617216056137234.\u001b[0m\n"
          ]
        },
        {
          "output_type": "stream",
          "name": "stdout",
          "text": [
            "Did not meet early stopping. Best iteration is:\n",
            "[100]\tTrain's rmse: 0.176132\tTest's rmse: 0.336172\n",
            "Training until validation scores don't improve for 50 rounds.\n"
          ]
        },
        {
          "output_type": "stream",
          "name": "stderr",
          "text": [
            "\u001b[32m[I 2021-12-15 12:13:20,552]\u001b[0m Trial 39 finished with value: 0.33617216056137234 and parameters: {'feature_fraction': 0.9840000000000001}. Best is trial 38 with value: 0.33617216056137234.\u001b[0m\n"
          ]
        },
        {
          "output_type": "stream",
          "name": "stdout",
          "text": [
            "Did not meet early stopping. Best iteration is:\n",
            "[100]\tTrain's rmse: 0.176132\tTest's rmse: 0.336172\n",
            "Training until validation scores don't improve for 50 rounds.\n"
          ]
        },
        {
          "output_type": "stream",
          "name": "stderr",
          "text": [
            "\u001b[32m[I 2021-12-15 12:13:20,784]\u001b[0m Trial 40 finished with value: 0.33781896232640846 and parameters: {'lambda_l1': 3.7617656371608994e-08, 'lambda_l2': 1.8089106614577735}. Best is trial 40 with value: 0.33781896232640846.\u001b[0m\n"
          ]
        },
        {
          "output_type": "stream",
          "name": "stdout",
          "text": [
            "Did not meet early stopping. Best iteration is:\n",
            "[100]\tTrain's rmse: 0.178899\tTest's rmse: 0.337819\n",
            "Training until validation scores don't improve for 50 rounds.\n"
          ]
        },
        {
          "output_type": "stream",
          "name": "stderr",
          "text": [
            "\u001b[32m[I 2021-12-15 12:13:21,006]\u001b[0m Trial 41 finished with value: 0.3411741651846149 and parameters: {'lambda_l1': 4.116457725613085, 'lambda_l2': 0.002964396302109868}. Best is trial 40 with value: 0.33781896232640846.\u001b[0m\n"
          ]
        },
        {
          "output_type": "stream",
          "name": "stdout",
          "text": [
            "Did not meet early stopping. Best iteration is:\n",
            "[100]\tTrain's rmse: 0.175899\tTest's rmse: 0.341174\n",
            "Training until validation scores don't improve for 50 rounds.\n"
          ]
        },
        {
          "output_type": "stream",
          "name": "stderr",
          "text": [
            "\u001b[32m[I 2021-12-15 12:13:21,250]\u001b[0m Trial 42 finished with value: 0.33694237052701265 and parameters: {'lambda_l1': 1.9573424336028542e-07, 'lambda_l2': 0.7247463293263561}. Best is trial 42 with value: 0.33694237052701265.\u001b[0m\n"
          ]
        },
        {
          "output_type": "stream",
          "name": "stdout",
          "text": [
            "Did not meet early stopping. Best iteration is:\n",
            "[100]\tTrain's rmse: 0.17747\tTest's rmse: 0.336942\n",
            "Training until validation scores don't improve for 50 rounds.\n"
          ]
        },
        {
          "output_type": "stream",
          "name": "stderr",
          "text": [
            "\u001b[32m[I 2021-12-15 12:13:21,487]\u001b[0m Trial 43 finished with value: 0.33520214695421396 and parameters: {'lambda_l1': 0.00720160209911884, 'lambda_l2': 0.00033129524405899676}. Best is trial 43 with value: 0.33520214695421396.\u001b[0m\n"
          ]
        },
        {
          "output_type": "stream",
          "name": "stdout",
          "text": [
            "Did not meet early stopping. Best iteration is:\n",
            "[100]\tTrain's rmse: 0.177405\tTest's rmse: 0.335202\n",
            "Training until validation scores don't improve for 50 rounds.\n"
          ]
        },
        {
          "output_type": "stream",
          "name": "stderr",
          "text": [
            "\u001b[32m[I 2021-12-15 12:13:21,707]\u001b[0m Trial 44 finished with value: 0.3352720922606257 and parameters: {'lambda_l1': 0.003964219523566258, 'lambda_l2': 0.0007889616609780481}. Best is trial 43 with value: 0.33520214695421396.\u001b[0m\n"
          ]
        },
        {
          "output_type": "stream",
          "name": "stdout",
          "text": [
            "Did not meet early stopping. Best iteration is:\n",
            "[100]\tTrain's rmse: 0.177399\tTest's rmse: 0.335272\n",
            "Training until validation scores don't improve for 50 rounds.\n"
          ]
        },
        {
          "output_type": "stream",
          "name": "stderr",
          "text": [
            "\u001b[32m[I 2021-12-15 12:13:21,952]\u001b[0m Trial 45 finished with value: 0.335275611396023 and parameters: {'lambda_l1': 6.488883401275445e-07, 'lambda_l2': 1.5948011917825468e-08}. Best is trial 43 with value: 0.33520214695421396.\u001b[0m\n"
          ]
        },
        {
          "output_type": "stream",
          "name": "stdout",
          "text": [
            "Did not meet early stopping. Best iteration is:\n",
            "[100]\tTrain's rmse: 0.177388\tTest's rmse: 0.335276\n",
            "Training until validation scores don't improve for 50 rounds.\n"
          ]
        },
        {
          "output_type": "stream",
          "name": "stderr",
          "text": [
            "\u001b[32m[I 2021-12-15 12:13:22,194]\u001b[0m Trial 46 finished with value: 0.33520109669111636 and parameters: {'lambda_l1': 0.010352266630008442, 'lambda_l2': 1.1989130675074976e-07}. Best is trial 46 with value: 0.33520109669111636.\u001b[0m\n"
          ]
        },
        {
          "output_type": "stream",
          "name": "stdout",
          "text": [
            "Did not meet early stopping. Best iteration is:\n",
            "[100]\tTrain's rmse: 0.17741\tTest's rmse: 0.335201\n",
            "Training until validation scores don't improve for 50 rounds.\n"
          ]
        },
        {
          "output_type": "stream",
          "name": "stderr",
          "text": [
            "\u001b[32m[I 2021-12-15 12:13:22,411]\u001b[0m Trial 47 finished with value: 0.33527560548272883 and parameters: {'lambda_l1': 1.609700502731328e-05, 'lambda_l2': 2.8285159701108757e-08}. Best is trial 46 with value: 0.33520109669111636.\u001b[0m\n"
          ]
        },
        {
          "output_type": "stream",
          "name": "stdout",
          "text": [
            "Did not meet early stopping. Best iteration is:\n",
            "[100]\tTrain's rmse: 0.177388\tTest's rmse: 0.335276\n",
            "Training until validation scores don't improve for 50 rounds.\n"
          ]
        },
        {
          "output_type": "stream",
          "name": "stderr",
          "text": [
            "\u001b[32m[I 2021-12-15 12:13:22,632]\u001b[0m Trial 48 finished with value: 0.33653931057880077 and parameters: {'lambda_l1': 8.893810995337338, 'lambda_l2': 6.31096996512432e-05}. Best is trial 46 with value: 0.33520109669111636.\u001b[0m\n"
          ]
        },
        {
          "output_type": "stream",
          "name": "stdout",
          "text": [
            "Did not meet early stopping. Best iteration is:\n",
            "[100]\tTrain's rmse: 0.180321\tTest's rmse: 0.336539\n",
            "Training until validation scores don't improve for 50 rounds.\n"
          ]
        },
        {
          "output_type": "stream",
          "name": "stderr",
          "text": [
            "\u001b[32m[I 2021-12-15 12:13:22,863]\u001b[0m Trial 49 finished with value: 0.33527351475152134 and parameters: {'lambda_l1': 9.687049698671383e-08, 'lambda_l2': 0.010585436852241097}. Best is trial 46 with value: 0.33520109669111636.\u001b[0m\n"
          ]
        },
        {
          "output_type": "stream",
          "name": "stdout",
          "text": [
            "Did not meet early stopping. Best iteration is:\n",
            "[100]\tTrain's rmse: 0.1774\tTest's rmse: 0.335274\n",
            "Training until validation scores don't improve for 50 rounds.\n"
          ]
        },
        {
          "output_type": "stream",
          "name": "stderr",
          "text": [
            "\u001b[32m[I 2021-12-15 12:13:23,099]\u001b[0m Trial 50 finished with value: 0.3353487100379758 and parameters: {'lambda_l1': 0.07502394855274618, 'lambda_l2': 1.2693956936432572e-06}. Best is trial 46 with value: 0.33520109669111636.\u001b[0m\n"
          ]
        },
        {
          "output_type": "stream",
          "name": "stdout",
          "text": [
            "Did not meet early stopping. Best iteration is:\n",
            "[100]\tTrain's rmse: 0.177474\tTest's rmse: 0.335349\n",
            "Training until validation scores don't improve for 50 rounds.\n"
          ]
        },
        {
          "output_type": "stream",
          "name": "stderr",
          "text": [
            "\u001b[32m[I 2021-12-15 12:13:23,336]\u001b[0m Trial 51 finished with value: 0.33527522298969337 and parameters: {'lambda_l1': 0.0010106190124557462, 'lambda_l2': 5.557729119496026e-06}. Best is trial 46 with value: 0.33520109669111636.\u001b[0m\n"
          ]
        },
        {
          "output_type": "stream",
          "name": "stdout",
          "text": [
            "Did not meet early stopping. Best iteration is:\n",
            "[100]\tTrain's rmse: 0.177389\tTest's rmse: 0.335275\n",
            "Training until validation scores don't improve for 50 rounds.\n"
          ]
        },
        {
          "output_type": "stream",
          "name": "stderr",
          "text": [
            "\u001b[32m[I 2021-12-15 12:13:23,573]\u001b[0m Trial 52 finished with value: 0.33655275044544164 and parameters: {'lambda_l1': 0.05137690387717805, 'lambda_l2': 1.6813685927202585e-06}. Best is trial 46 with value: 0.33520109669111636.\u001b[0m\n"
          ]
        },
        {
          "output_type": "stream",
          "name": "stdout",
          "text": [
            "Did not meet early stopping. Best iteration is:\n",
            "[100]\tTrain's rmse: 0.177638\tTest's rmse: 0.336553\n",
            "Training until validation scores don't improve for 50 rounds.\n"
          ]
        },
        {
          "output_type": "stream",
          "name": "stderr",
          "text": [
            "\u001b[32m[I 2021-12-15 12:13:23,818]\u001b[0m Trial 53 finished with value: 0.33527559247088906 and parameters: {'lambda_l1': 4.843398488997125e-05, 'lambda_l2': 4.991931803397146e-05}. Best is trial 46 with value: 0.33520109669111636.\u001b[0m\n"
          ]
        },
        {
          "output_type": "stream",
          "name": "stdout",
          "text": [
            "Did not meet early stopping. Best iteration is:\n",
            "[100]\tTrain's rmse: 0.177388\tTest's rmse: 0.335276\n",
            "Training until validation scores don't improve for 50 rounds.\n"
          ]
        },
        {
          "output_type": "stream",
          "name": "stderr",
          "text": [
            "\u001b[32m[I 2021-12-15 12:13:24,037]\u001b[0m Trial 54 finished with value: 0.33655072890756577 and parameters: {'lambda_l1': 0.05322944130468444, 'lambda_l2': 0.013573885999238677}. Best is trial 46 with value: 0.33520109669111636.\u001b[0m\n"
          ]
        },
        {
          "output_type": "stream",
          "name": "stdout",
          "text": [
            "Did not meet early stopping. Best iteration is:\n",
            "[100]\tTrain's rmse: 0.177653\tTest's rmse: 0.336551\n",
            "Training until validation scores don't improve for 50 rounds.\n"
          ]
        },
        {
          "output_type": "stream",
          "name": "stderr",
          "text": [
            "\u001b[32m[I 2021-12-15 12:13:24,286]\u001b[0m Trial 55 finished with value: 0.3352719526246519 and parameters: {'lambda_l1': 0.004348464833159607, 'lambda_l2': 2.1567175189910022e-07}. Best is trial 46 with value: 0.33520109669111636.\u001b[0m\n"
          ]
        },
        {
          "output_type": "stream",
          "name": "stdout",
          "text": [
            "Did not meet early stopping. Best iteration is:\n",
            "[100]\tTrain's rmse: 0.177399\tTest's rmse: 0.335272\n",
            "Training until validation scores don't improve for 50 rounds.\n"
          ]
        },
        {
          "output_type": "stream",
          "name": "stderr",
          "text": [
            "\u001b[32m[I 2021-12-15 12:13:24,514]\u001b[0m Trial 56 finished with value: 0.33683355990972774 and parameters: {'lambda_l1': 0.5486139102687276, 'lambda_l2': 0.00010095923034209782}. Best is trial 46 with value: 0.33520109669111636.\u001b[0m\n"
          ]
        },
        {
          "output_type": "stream",
          "name": "stdout",
          "text": [
            "Did not meet early stopping. Best iteration is:\n",
            "[100]\tTrain's rmse: 0.178378\tTest's rmse: 0.336834\n",
            "Training until validation scores don't improve for 50 rounds.\n"
          ]
        },
        {
          "output_type": "stream",
          "name": "stderr",
          "text": [
            "\u001b[32m[I 2021-12-15 12:13:24,741]\u001b[0m Trial 57 finished with value: 0.3356731714646456 and parameters: {'lambda_l1': 0.00013997096377937185, 'lambda_l2': 0.07889000809175716}. Best is trial 46 with value: 0.33520109669111636.\u001b[0m\n"
          ]
        },
        {
          "output_type": "stream",
          "name": "stdout",
          "text": [
            "Did not meet early stopping. Best iteration is:\n",
            "[100]\tTrain's rmse: 0.177346\tTest's rmse: 0.335673\n",
            "Training until validation scores don't improve for 50 rounds.\n"
          ]
        },
        {
          "output_type": "stream",
          "name": "stderr",
          "text": [
            "\u001b[32m[I 2021-12-15 12:13:24,960]\u001b[0m Trial 58 finished with value: 0.3352714415883946 and parameters: {'lambda_l1': 0.005676730275917424, 'lambda_l2': 1.0918086491355229e-05}. Best is trial 46 with value: 0.33520109669111636.\u001b[0m\n"
          ]
        },
        {
          "output_type": "stream",
          "name": "stdout",
          "text": [
            "Did not meet early stopping. Best iteration is:\n",
            "[100]\tTrain's rmse: 0.177401\tTest's rmse: 0.335271\n",
            "Training until validation scores don't improve for 50 rounds.\n"
          ]
        },
        {
          "output_type": "stream",
          "name": "stderr",
          "text": [
            "\u001b[32m[I 2021-12-15 12:13:25,207]\u001b[0m Trial 59 finished with value: 0.3352756047224431 and parameters: {'lambda_l1': 1.76361160463728e-05, 'lambda_l2': 2.1741239873178104e-07}. Best is trial 46 with value: 0.33520109669111636.\u001b[0m\n"
          ]
        },
        {
          "output_type": "stream",
          "name": "stdout",
          "text": [
            "Did not meet early stopping. Best iteration is:\n",
            "[100]\tTrain's rmse: 0.177388\tTest's rmse: 0.335276\n",
            "Training until validation scores don't improve for 50 rounds.\n"
          ]
        },
        {
          "output_type": "stream",
          "name": "stderr",
          "text": [
            "\u001b[32m[I 2021-12-15 12:13:25,430]\u001b[0m Trial 60 finished with value: 0.42822518396392245 and parameters: {'min_child_samples': 50}. Best is trial 60 with value: 0.42822518396392245.\u001b[0m\n"
          ]
        },
        {
          "output_type": "stream",
          "name": "stdout",
          "text": [
            "Did not meet early stopping. Best iteration is:\n",
            "[100]\tTrain's rmse: 0.219355\tTest's rmse: 0.428225\n",
            "Training until validation scores don't improve for 50 rounds.\n"
          ]
        },
        {
          "output_type": "stream",
          "name": "stderr",
          "text": [
            "\u001b[32m[I 2021-12-15 12:13:25,645]\u001b[0m Trial 61 finished with value: 0.35781754435962004 and parameters: {'min_child_samples': 10}. Best is trial 61 with value: 0.35781754435962004.\u001b[0m\n"
          ]
        },
        {
          "output_type": "stream",
          "name": "stdout",
          "text": [
            "Did not meet early stopping. Best iteration is:\n",
            "[100]\tTrain's rmse: 0.132523\tTest's rmse: 0.357818\n",
            "Training until validation scores don't improve for 50 rounds.\n"
          ]
        },
        {
          "output_type": "stream",
          "name": "stderr",
          "text": [
            "\u001b[32m[I 2021-12-15 12:13:25,881]\u001b[0m Trial 62 finished with value: 0.5287785530777845 and parameters: {'min_child_samples': 100}. Best is trial 61 with value: 0.35781754435962004.\u001b[0m\n"
          ]
        },
        {
          "output_type": "stream",
          "name": "stdout",
          "text": [
            "Did not meet early stopping. Best iteration is:\n",
            "[100]\tTrain's rmse: 0.279089\tTest's rmse: 0.528779\n",
            "Training until validation scores don't improve for 50 rounds.\n",
            "Did not meet early stopping. Best iteration is:\n",
            "[100]\tTrain's rmse: 0.100434\tTest's rmse: 0.359922\n"
          ]
        },
        {
          "output_type": "stream",
          "name": "stderr",
          "text": [
            "\u001b[32m[I 2021-12-15 12:13:26,079]\u001b[0m Trial 63 finished with value: 0.35992208478267335 and parameters: {'min_child_samples': 5}. Best is trial 61 with value: 0.35781754435962004.\u001b[0m\n",
            "\u001b[32m[I 2021-12-15 12:13:26,311]\u001b[0m Trial 64 finished with value: 0.3420929442158407 and parameters: {'min_child_samples': 25}. Best is trial 64 with value: 0.3420929442158407.\u001b[0m\n"
          ]
        },
        {
          "output_type": "stream",
          "name": "stdout",
          "text": [
            "Training until validation scores don't improve for 50 rounds.\n",
            "Did not meet early stopping. Best iteration is:\n",
            "[100]\tTrain's rmse: 0.177344\tTest's rmse: 0.342093\n"
          ]
        },
        {
          "output_type": "display_data",
          "data": {
            "image/png": "[encoded data removed]",
            "text/plain": [
              "<Figure size 432x288 with 1 Axes>"
            ]
          },
          "metadata": {
            "needs_background": "light"
          }
        },
        {
          "output_type": "stream",
          "name": "stdout",
          "text": [
            "RMSE: [0.3168197986425456, 0.09186100991345529, 0.13773449637370594, 0.01960263959756659, 0.33520109652636815]\n",
            "RMSE: 0.18024380821072833\n"
          ]
        }
      ]
    },
    {
      "cell_type": "markdown",
      "metadata": {
        "id": "u8OIZOR5R6mh"
      },
      "source": [
        "## モデルの読込"
      ]
    },
    {
      "cell_type": "code",
      "metadata": {
        "colab": {
          "base_uri": "https://localhost:8080/"
        },
        "id": "Iu4gd1CKO7mm",
        "outputId": "38de89e6-8dc2-4976-ba9d-b6047611daab"
      },
      "source": [
        "start_loaded = time.time()\n",
        "\n",
        "cv_result_loaded = []\n",
        "\n",
        "for i, (train_index, test_index) in enumerate(gkf.split(X_train_ce, y_train, groups)):\n",
        "    X_train_gkf, X_test_gkf = X_train_ce.iloc[train_index], X_train_ce.iloc[test_index]\n",
        "    y_train_gkf, y_test_gkf = y_train.iloc[train_index], y_train.iloc[test_index]\n",
        "\n",
        "    loaded_model = pickle.load(open(f\"model_fold_{i}.pkl\", 'rb'))\n",
        "    y_pred = loaded_model.predict(X_test_gkf)\n",
        "\n",
        "    rmse = mean_squared_error(y_test_gkf, y_pred, squared=False)\n",
        "    cv_result_loaded.append(rmse)\n",
        "\n",
        "print(\"RMSE:\", cv_result_loaded)\n",
        "print(\"RMSE:\", np.mean(cv_result_loaded))\n",
        "elasped_time_loaded = round((time.time() - start_loaded), 1)"
      ],
      "execution_count": null,
      "outputs": [
        {
          "output_type": "stream",
          "name": "stdout",
          "text": [
            "RMSE: [0.3168197986425456, 0.09186100991345529, 0.13773449637370594, 0.01960263959756659, 0.33520109652636815]\n",
            "RMSE: 0.18024380821072833\n"
          ]
        }
      ]
    },
    {
      "cell_type": "code",
      "source": [
        "print(\"RMSE:\", np.mean(cv_result))\n",
        "print(f\"経過時間:{elasped_time}\")\n",
        "\n",
        "print(\"pickle読込 RMSE:\", np.mean(cv_result_loaded))\n",
        "print(f\"pickle読込 経過時間:{elasped_time_loaded}\")"
      ],
      "metadata": {
        "colab": {
          "base_uri": "https://localhost:8080/"
        },
        "id": "g6hnlSwu-74u",
        "outputId": "9b50124b-fee5-44b9-d53f-b7d14c01a3bb"
      },
      "execution_count": null,
      "outputs": [
        {
          "output_type": "stream",
          "name": "stdout",
          "text": [
            "RMSE: 0.18024380821072833\n",
            "経過時間:203.7\n",
            "pickle読込 RMSE: 0.18024380821072833\n",
            "pickle読込 経過時間:0.3\n"
          ]
        }
      ]
    },
    {
      "cell_type": "code",
      "source": [
        ""
      ],
      "metadata": {
        "id": "nIbooSUA_8gV"
      },
      "execution_count": null,
      "outputs": []
    }
  ]
}