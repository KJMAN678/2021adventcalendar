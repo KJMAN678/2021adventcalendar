{
  "nbformat": 4,
  "nbformat_minor": 0,
  "metadata": {
    "accelerator": "GPU",
    "colab": {
      "name": "21_DataAugumentation.ipynb",
      "provenance": [],
      "collapsed_sections": []
    },
    "kernelspec": {
      "display_name": "Python 3",
      "name": "python3"
    },
    "language_info": {
      "name": "python"
    }
  },
  "cells": [
    {
      "cell_type": "markdown",
      "metadata": {
        "id": "RA_zd5BvsXyk"
      },
      "source": [
        "## Google Driveのマウント"
      ]
    },
    {
      "cell_type": "code",
      "metadata": {
        "colab": {
          "base_uri": "https://localhost:8080/"
        },
        "id": "ARmR6Kdbsayr",
        "outputId": "53256a4f-a369-4c20-c98e-db37baea0292"
      },
      "source": [
        "from google.colab import drive\n",
        "drive.mount('/content/drive')"
      ],
      "execution_count": null,
      "outputs": [
        {
          "output_type": "stream",
          "name": "stdout",
          "text": [
            "Mounted at /content/drive\n"
          ]
        }
      ]
    },
    {
      "cell_type": "markdown",
      "metadata": {
        "id": "TCEUaFVvsc6a"
      },
      "source": [
        "## データセットの準備"
      ]
    },
    {
      "cell_type": "code",
      "metadata": {
        "colab": {
          "base_uri": "https://localhost:8080/"
        },
        "id": "yFYRlGskoctf",
        "outputId": "c9a7229c-0a95-4008-8764-8975b3838a11"
      },
      "source": [
        "# kaggle ライブラリのインストール\n",
        "!pip install kaggle\n",
        "\n",
        "# 一時フォルダに .kaggleフォルダを作成\n",
        "!mkdir ~/.kaggle\n",
        "\n",
        "# MyDrive の kaggle.json を一時フォルダ内の .kaggleフォルダにコピー\n",
        "!cp /content/drive/MyDrive/kaggle/kaggle.json ~/.kaggle/\n",
        "\n",
        "# アクセス権限の設定\n",
        "!chmod 600 ~/.kaggle/kaggle.json\n",
        "\n",
        "!mkdir ~/.kaggle\n",
        "\n",
        "# zipファイルのダウンロード\n",
        "!kaggle datasets download -d ashaheedq/video-games-sales-2019 -p /content/drive/MyDrive/kaggle\n",
        "\n",
        "# 解凍\n",
        "!unzip /content/drive/MyDrive/kaggle/video-games-sales-2019.zip -d /content/drive/MyDrive/kaggle\n",
        "\n",
        "!rm /content/drive/MyDrive/kaggle/video-games-sales-2019.zip"
      ],
      "execution_count": null,
      "outputs": [
        {
          "output_type": "stream",
          "name": "stdout",
          "text": [
            "Requirement already satisfied: kaggle in /usr/local/lib/python3.7/dist-packages (1.5.12)\n",
            "Requirement already satisfied: python-slugify in /usr/local/lib/python3.7/dist-packages (from kaggle) (5.0.2)\n",
            "Requirement already satisfied: requests in /usr/local/lib/python3.7/dist-packages (from kaggle) (2.23.0)\n",
            "Requirement already satisfied: urllib3 in /usr/local/lib/python3.7/dist-packages (from kaggle) (1.24.3)\n",
            "Requirement already satisfied: certifi in /usr/local/lib/python3.7/dist-packages (from kaggle) (2021.10.8)\n",
            "Requirement already satisfied: tqdm in /usr/local/lib/python3.7/dist-packages (from kaggle) (4.62.3)\n",
            "Requirement already satisfied: python-dateutil in /usr/local/lib/python3.7/dist-packages (from kaggle) (2.8.2)\n",
            "Requirement already satisfied: six>=1.10 in /usr/local/lib/python3.7/dist-packages (from kaggle) (1.15.0)\n",
            "Requirement already satisfied: text-unidecode>=1.3 in /usr/local/lib/python3.7/dist-packages (from python-slugify->kaggle) (1.3)\n",
            "Requirement already satisfied: idna<3,>=2.5 in /usr/local/lib/python3.7/dist-packages (from requests->kaggle) (2.10)\n",
            "Requirement already satisfied: chardet<4,>=3.0.2 in /usr/local/lib/python3.7/dist-packages (from requests->kaggle) (3.0.4)\n",
            "mkdir: cannot create directory ‘/root/.kaggle’: File exists\n",
            "Downloading video-games-sales-2019.zip to /content/drive/MyDrive/kaggle\n",
            "  0% 0.00/3.98M [00:00<?, ?B/s]\n",
            "100% 3.98M/3.98M [00:00<00:00, 64.8MB/s]\n",
            "Archive:  /content/drive/MyDrive/kaggle/video-games-sales-2019.zip\n",
            "replace /content/drive/MyDrive/kaggle/vgsales-12-4-2019-short.csv? [y]es, [n]o, [A]ll, [N]one, [r]ename: None\n"
          ]
        }
      ]
    },
    {
      "cell_type": "markdown",
      "source": [
        "## CUDA のバージョン変更"
      ],
      "metadata": {
        "id": "OjjCj7A_0GfK"
      }
    },
    {
      "cell_type": "code",
      "source": [
        "import os\n",
        "p = os.getenv('PATH')\n",
        "ld = os.getenv('LD_LIBRARY_PATH')\n",
        "os.environ['PATH'] = f\"/usr/local/cuda-10.1/bin:{p}\"\n",
        "os.environ['LD_LIBRARY_PATH'] = f\"/usr/local/cuda-10.1/lib64:{ld}\"\n",
        "!nvcc --version"
      ],
      "metadata": {
        "colab": {
          "base_uri": "https://localhost:8080/"
        },
        "id": "KZBcW13F0F78",
        "outputId": "1d894024-3560-4507-85e5-d745a58b1870"
      },
      "execution_count": null,
      "outputs": [
        {
          "output_type": "stream",
          "name": "stdout",
          "text": [
            "nvcc: NVIDIA (R) Cuda compiler driver\n",
            "Copyright (c) 2005-2019 NVIDIA Corporation\n",
            "Built on Sun_Jul_28_19:07:16_PDT_2019\n",
            "Cuda compilation tools, release 10.1, V10.1.243\n"
          ]
        }
      ]
    },
    {
      "cell_type": "markdown",
      "metadata": {
        "id": "PBqKPKFtsiKi"
      },
      "source": [
        "## データの読込"
      ]
    },
    {
      "cell_type": "code",
      "metadata": {
        "colab": {
          "base_uri": "https://localhost:8080/",
          "height": 294
        },
        "id": "TSY5GPLirTwt",
        "outputId": "8631601e-ce09-471f-af0b-4898def0617d"
      },
      "source": [
        "import pandas as pd\n",
        "df = pd.read_csv(\"/content/drive/MyDrive/kaggle/vgsales-12-4-2019.csv\")\n",
        "df.head(3)"
      ],
      "execution_count": null,
      "outputs": [
        {
          "output_type": "execute_result",
          "data": {
            "text/html": [
              "\n",
              "  <div id=\"df-0eb66c3c-718c-4293-8c56-da3d097304b0\">\n",
              "    <div class=\"colab-df-container\">\n",
              "      <div>\n",
              "<style scoped>\n",
              "    .dataframe tbody tr th:only-of-type {\n",
              "        vertical-align: middle;\n",
              "    }\n",
              "\n",
              "    .dataframe tbody tr th {\n",
              "        vertical-align: top;\n",
              "    }\n",
              "\n",
              "    .dataframe thead th {\n",
              "        text-align: right;\n",
              "    }\n",
              "</style>\n",
              "<table border=\"1\" class=\"dataframe\">\n",
              "  <thead>\n",
              "    <tr style=\"text-align: right;\">\n",
              "      <th></th>\n",
              "      <th>Rank</th>\n",
              "      <th>Name</th>\n",
              "      <th>basename</th>\n",
              "      <th>Genre</th>\n",
              "      <th>ESRB_Rating</th>\n",
              "      <th>Platform</th>\n",
              "      <th>Publisher</th>\n",
              "      <th>Developer</th>\n",
              "      <th>VGChartz_Score</th>\n",
              "      <th>Critic_Score</th>\n",
              "      <th>User_Score</th>\n",
              "      <th>Total_Shipped</th>\n",
              "      <th>Global_Sales</th>\n",
              "      <th>NA_Sales</th>\n",
              "      <th>PAL_Sales</th>\n",
              "      <th>JP_Sales</th>\n",
              "      <th>Other_Sales</th>\n",
              "      <th>Year</th>\n",
              "      <th>Last_Update</th>\n",
              "      <th>url</th>\n",
              "      <th>status</th>\n",
              "      <th>Vgchartzscore</th>\n",
              "      <th>img_url</th>\n",
              "    </tr>\n",
              "  </thead>\n",
              "  <tbody>\n",
              "    <tr>\n",
              "      <th>0</th>\n",
              "      <td>1</td>\n",
              "      <td>Wii Sports</td>\n",
              "      <td>wii-sports</td>\n",
              "      <td>Sports</td>\n",
              "      <td>E</td>\n",
              "      <td>Wii</td>\n",
              "      <td>Nintendo</td>\n",
              "      <td>Nintendo EAD</td>\n",
              "      <td>NaN</td>\n",
              "      <td>7.7</td>\n",
              "      <td>NaN</td>\n",
              "      <td>82.86</td>\n",
              "      <td>NaN</td>\n",
              "      <td>NaN</td>\n",
              "      <td>NaN</td>\n",
              "      <td>NaN</td>\n",
              "      <td>NaN</td>\n",
              "      <td>2006.0</td>\n",
              "      <td>NaN</td>\n",
              "      <td>http://www.vgchartz.com/game/2667/wii-sports/?...</td>\n",
              "      <td>1</td>\n",
              "      <td>NaN</td>\n",
              "      <td>/games/boxart/full_2258645AmericaFrontccc.jpg</td>\n",
              "    </tr>\n",
              "    <tr>\n",
              "      <th>1</th>\n",
              "      <td>2</td>\n",
              "      <td>Super Mario Bros.</td>\n",
              "      <td>super-mario-bros</td>\n",
              "      <td>Platform</td>\n",
              "      <td>NaN</td>\n",
              "      <td>NES</td>\n",
              "      <td>Nintendo</td>\n",
              "      <td>Nintendo EAD</td>\n",
              "      <td>NaN</td>\n",
              "      <td>10.0</td>\n",
              "      <td>NaN</td>\n",
              "      <td>40.24</td>\n",
              "      <td>NaN</td>\n",
              "      <td>NaN</td>\n",
              "      <td>NaN</td>\n",
              "      <td>NaN</td>\n",
              "      <td>NaN</td>\n",
              "      <td>1985.0</td>\n",
              "      <td>NaN</td>\n",
              "      <td>http://www.vgchartz.com/game/6455/super-mario-...</td>\n",
              "      <td>1</td>\n",
              "      <td>NaN</td>\n",
              "      <td>/games/boxart/8972270ccc.jpg</td>\n",
              "    </tr>\n",
              "    <tr>\n",
              "      <th>2</th>\n",
              "      <td>3</td>\n",
              "      <td>Mario Kart Wii</td>\n",
              "      <td>mario-kart-wii</td>\n",
              "      <td>Racing</td>\n",
              "      <td>E</td>\n",
              "      <td>Wii</td>\n",
              "      <td>Nintendo</td>\n",
              "      <td>Nintendo EAD</td>\n",
              "      <td>NaN</td>\n",
              "      <td>8.2</td>\n",
              "      <td>9.1</td>\n",
              "      <td>37.14</td>\n",
              "      <td>NaN</td>\n",
              "      <td>NaN</td>\n",
              "      <td>NaN</td>\n",
              "      <td>NaN</td>\n",
              "      <td>NaN</td>\n",
              "      <td>2008.0</td>\n",
              "      <td>11th Apr 18</td>\n",
              "      <td>http://www.vgchartz.com/game/6968/mario-kart-w...</td>\n",
              "      <td>1</td>\n",
              "      <td>8.7</td>\n",
              "      <td>/games/boxart/full_8932480AmericaFrontccc.jpg</td>\n",
              "    </tr>\n",
              "  </tbody>\n",
              "</table>\n",
              "</div>\n",
              "      <button class=\"colab-df-convert\" onclick=\"convertToInteractive('df-0eb66c3c-718c-4293-8c56-da3d097304b0')\"\n",
              "              title=\"Convert this dataframe to an interactive table.\"\n",
              "              style=\"display:none;\">\n",
              "        \n",
              "  <svg xmlns=\"http://www.w3.org/2000/svg\" height=\"24px\"viewBox=\"0 0 24 24\"\n",
              "       width=\"24px\">\n",
              "    <path d=\"M0 0h24v24H0V0z\" fill=\"none\"/>\n",
              "    <path d=\"M18.56 5.44l.94 2.06.94-2.06 2.06-.94-2.06-.94-.94-2.06-.94 2.06-2.06.94zm-11 1L8.5 8.5l.94-2.06 2.06-.94-2.06-.94L8.5 2.5l-.94 2.06-2.06.94zm10 10l.94 2.06.94-2.06 2.06-.94-2.06-.94-.94-2.06-.94 2.06-2.06.94z\"/><path d=\"M17.41 7.96l-1.37-1.37c-.4-.4-.92-.59-1.43-.59-.52 0-1.04.2-1.43.59L10.3 9.45l-7.72 7.72c-.78.78-.78 2.05 0 2.83L4 21.41c.39.39.9.59 1.41.59.51 0 1.02-.2 1.41-.59l7.78-7.78 2.81-2.81c.8-.78.8-2.07 0-2.86zM5.41 20L4 18.59l7.72-7.72 1.47 1.35L5.41 20z\"/>\n",
              "  </svg>\n",
              "      </button>\n",
              "      \n",
              "  <style>\n",
              "    .colab-df-container {\n",
              "      display:flex;\n",
              "      flex-wrap:wrap;\n",
              "      gap: 12px;\n",
              "    }\n",
              "\n",
              "    .colab-df-convert {\n",
              "      background-color: #E8F0FE;\n",
              "      border: none;\n",
              "      border-radius: 50%;\n",
              "      cursor: pointer;\n",
              "      display: none;\n",
              "      fill: #1967D2;\n",
              "      height: 32px;\n",
              "      padding: 0 0 0 0;\n",
              "      width: 32px;\n",
              "    }\n",
              "\n",
              "    .colab-df-convert:hover {\n",
              "      background-color: #E2EBFA;\n",
              "      box-shadow: 0px 1px 2px rgba(60, 64, 67, 0.3), 0px 1px 3px 1px rgba(60, 64, 67, 0.15);\n",
              "      fill: #174EA6;\n",
              "    }\n",
              "\n",
              "    [theme=dark] .colab-df-convert {\n",
              "      background-color: #3B4455;\n",
              "      fill: #D2E3FC;\n",
              "    }\n",
              "\n",
              "    [theme=dark] .colab-df-convert:hover {\n",
              "      background-color: #434B5C;\n",
              "      box-shadow: 0px 1px 3px 1px rgba(0, 0, 0, 0.15);\n",
              "      filter: drop-shadow(0px 1px 2px rgba(0, 0, 0, 0.3));\n",
              "      fill: #FFFFFF;\n",
              "    }\n",
              "  </style>\n",
              "\n",
              "      <script>\n",
              "        const buttonEl =\n",
              "          document.querySelector('#df-0eb66c3c-718c-4293-8c56-da3d097304b0 button.colab-df-convert');\n",
              "        buttonEl.style.display =\n",
              "          google.colab.kernel.accessAllowed ? 'block' : 'none';\n",
              "\n",
              "        async function convertToInteractive(key) {\n",
              "          const element = document.querySelector('#df-0eb66c3c-718c-4293-8c56-da3d097304b0');\n",
              "          const dataTable =\n",
              "            await google.colab.kernel.invokeFunction('convertToInteractive',\n",
              "                                                     [key], {});\n",
              "          if (!dataTable) return;\n",
              "\n",
              "          const docLinkHtml = 'Like what you see? Visit the ' +\n",
              "            '<a target=\"_blank\" href=https://colab.research.google.com/notebooks/data_table.ipynb>data table notebook</a>'\n",
              "            + ' to learn more about interactive tables.';\n",
              "          element.innerHTML = '';\n",
              "          dataTable['output_type'] = 'display_data';\n",
              "          await google.colab.output.renderOutput(dataTable, element);\n",
              "          const docLink = document.createElement('div');\n",
              "          docLink.innerHTML = docLinkHtml;\n",
              "          element.appendChild(docLink);\n",
              "        }\n",
              "      </script>\n",
              "    </div>\n",
              "  </div>\n",
              "  "
            ],
            "text/plain": [
              "   Rank  ...                                        img_url\n",
              "0     1  ...  /games/boxart/full_2258645AmericaFrontccc.jpg\n",
              "1     2  ...                   /games/boxart/8972270ccc.jpg\n",
              "2     3  ...  /games/boxart/full_8932480AmericaFrontccc.jpg\n",
              "\n",
              "[3 rows x 23 columns]"
            ]
          },
          "metadata": {},
          "execution_count": 4
        }
      ]
    },
    {
      "cell_type": "markdown",
      "metadata": {
        "id": "kzvuTGNlvfig"
      },
      "source": [
        "## データ拡張"
      ]
    },
    {
      "cell_type": "code",
      "metadata": {
        "colab": {
          "base_uri": "https://localhost:8080/",
          "height": 1000
        },
        "id": "XMikPXSDsFqS",
        "outputId": "9341f83c-e146-4220-9630-715abbb36e79"
      },
      "source": [
        "!pip install japanize-matplotlib\n",
        "!pip install tgan\n",
        "\n",
        "!pip uninstall tensorflow\n",
        "!pip install \"tensorflow-gpu>=1.13.0,<2.0\""
      ],
      "execution_count": null,
      "outputs": [
        {
          "output_type": "stream",
          "name": "stdout",
          "text": [
            "None\n",
            "Collecting japanize-matplotlib\n",
            "  Downloading japanize-matplotlib-1.1.3.tar.gz (4.1 MB)\n",
            "\u001b[K     |████████████████████████████████| 4.1 MB 7.7 MB/s \n",
            "\u001b[?25hRequirement already satisfied: matplotlib in /usr/local/lib/python3.7/dist-packages (from japanize-matplotlib) (3.2.2)\n",
            "Requirement already satisfied: kiwisolver>=1.0.1 in /usr/local/lib/python3.7/dist-packages (from matplotlib->japanize-matplotlib) (1.3.2)\n",
            "Requirement already satisfied: numpy>=1.11 in /usr/local/lib/python3.7/dist-packages (from matplotlib->japanize-matplotlib) (1.19.5)\n",
            "Requirement already satisfied: pyparsing!=2.0.4,!=2.1.2,!=2.1.6,>=2.0.1 in /usr/local/lib/python3.7/dist-packages (from matplotlib->japanize-matplotlib) (3.0.6)\n",
            "Requirement already satisfied: python-dateutil>=2.1 in /usr/local/lib/python3.7/dist-packages (from matplotlib->japanize-matplotlib) (2.8.2)\n",
            "Requirement already satisfied: cycler>=0.10 in /usr/local/lib/python3.7/dist-packages (from matplotlib->japanize-matplotlib) (0.11.0)\n",
            "Requirement already satisfied: six>=1.5 in /usr/local/lib/python3.7/dist-packages (from python-dateutil>=2.1->matplotlib->japanize-matplotlib) (1.15.0)\n",
            "Building wheels for collected packages: japanize-matplotlib\n",
            "  Building wheel for japanize-matplotlib (setup.py) ... \u001b[?25l\u001b[?25hdone\n",
            "  Created wheel for japanize-matplotlib: filename=japanize_matplotlib-1.1.3-py3-none-any.whl size=4120274 sha256=1ffb28bbe5d6417630bbb8ad06bcf7ad063de122f6e844c96d3d36b20d73ce3e\n",
            "  Stored in directory: /root/.cache/pip/wheels/83/97/6b/e9e0cde099cc40f972b8dd23367308f7705ae06cd6d4714658\n",
            "Successfully built japanize-matplotlib\n",
            "Installing collected packages: japanize-matplotlib\n",
            "Successfully installed japanize-matplotlib-1.1.3\n",
            "Collecting tgan\n",
            "  Downloading tgan-0.1.0-py2.py3-none-any.whl (27 kB)\n",
            "Requirement already satisfied: scikit-learn>=0.20.2 in /usr/local/lib/python3.7/dist-packages (from tgan) (1.0.1)\n",
            "Requirement already satisfied: numpy>=1.16.0 in /usr/local/lib/python3.7/dist-packages (from tgan) (1.19.5)\n",
            "Collecting tensorflow<2.0,>=1.13.0\n",
            "  Downloading tensorflow-1.15.5-cp37-cp37m-manylinux2010_x86_64.whl (110.5 MB)\n",
            "\u001b[K     |████████████████████████████████| 110.5 MB 1.2 MB/s \n",
            "\u001b[?25hCollecting tensorpack==0.9.4\n",
            "  Downloading tensorpack-0.9.4-py2.py3-none-any.whl (273 kB)\n",
            "\u001b[K     |████████████████████████████████| 273 kB 67.1 MB/s \n",
            "\u001b[?25hRequirement already satisfied: pandas>=0.23.4 in /usr/local/lib/python3.7/dist-packages (from tgan) (1.1.5)\n",
            "Collecting msgpack-numpy>=0.4.4.2\n",
            "  Downloading msgpack_numpy-0.4.7.1-py2.py3-none-any.whl (6.7 kB)\n",
            "Requirement already satisfied: six in /usr/local/lib/python3.7/dist-packages (from tensorpack==0.9.4->tgan) (1.15.0)\n",
            "Requirement already satisfied: termcolor>=1.1 in /usr/local/lib/python3.7/dist-packages (from tensorpack==0.9.4->tgan) (1.1.0)\n",
            "Requirement already satisfied: pyzmq>=16 in /usr/local/lib/python3.7/dist-packages (from tensorpack==0.9.4->tgan) (22.3.0)\n",
            "Requirement already satisfied: tqdm>4.11.1 in /usr/local/lib/python3.7/dist-packages (from tensorpack==0.9.4->tgan) (4.62.3)\n",
            "Requirement already satisfied: msgpack>=0.5.2 in /usr/local/lib/python3.7/dist-packages (from tensorpack==0.9.4->tgan) (1.0.3)\n",
            "Requirement already satisfied: tabulate>=0.7.7 in /usr/local/lib/python3.7/dist-packages (from tensorpack==0.9.4->tgan) (0.8.9)\n",
            "Requirement already satisfied: pytz>=2017.2 in /usr/local/lib/python3.7/dist-packages (from pandas>=0.23.4->tgan) (2018.9)\n",
            "Requirement already satisfied: python-dateutil>=2.7.3 in /usr/local/lib/python3.7/dist-packages (from pandas>=0.23.4->tgan) (2.8.2)\n",
            "Requirement already satisfied: scipy>=1.1.0 in /usr/local/lib/python3.7/dist-packages (from scikit-learn>=0.20.2->tgan) (1.4.1)\n",
            "Requirement already satisfied: threadpoolctl>=2.0.0 in /usr/local/lib/python3.7/dist-packages (from scikit-learn>=0.20.2->tgan) (3.0.0)\n",
            "Requirement already satisfied: joblib>=0.11 in /usr/local/lib/python3.7/dist-packages (from scikit-learn>=0.20.2->tgan) (1.1.0)\n",
            "Collecting keras-applications>=1.0.8\n",
            "  Downloading Keras_Applications-1.0.8-py3-none-any.whl (50 kB)\n",
            "\u001b[K     |████████████████████████████████| 50 kB 9.1 MB/s \n",
            "\u001b[?25hCollecting gast==0.2.2\n",
            "  Downloading gast-0.2.2.tar.gz (10 kB)\n",
            "Requirement already satisfied: keras-preprocessing>=1.0.5 in /usr/local/lib/python3.7/dist-packages (from tensorflow<2.0,>=1.13.0->tgan) (1.1.2)\n",
            "Requirement already satisfied: grpcio>=1.8.6 in /usr/local/lib/python3.7/dist-packages (from tensorflow<2.0,>=1.13.0->tgan) (1.42.0)\n",
            "Requirement already satisfied: protobuf>=3.6.1 in /usr/local/lib/python3.7/dist-packages (from tensorflow<2.0,>=1.13.0->tgan) (3.17.3)\n",
            "Collecting tensorflow-estimator==1.15.1\n",
            "  Downloading tensorflow_estimator-1.15.1-py2.py3-none-any.whl (503 kB)\n",
            "\u001b[K     |████████████████████████████████| 503 kB 67.5 MB/s \n",
            "\u001b[?25hCollecting numpy>=1.16.0\n",
            "  Downloading numpy-1.18.5-cp37-cp37m-manylinux1_x86_64.whl (20.1 MB)\n",
            "\u001b[K     |████████████████████████████████| 20.1 MB 1.3 MB/s \n",
            "\u001b[?25hRequirement already satisfied: wheel>=0.26 in /usr/local/lib/python3.7/dist-packages (from tensorflow<2.0,>=1.13.0->tgan) (0.37.0)\n",
            "Requirement already satisfied: google-pasta>=0.1.6 in /usr/local/lib/python3.7/dist-packages (from tensorflow<2.0,>=1.13.0->tgan) (0.2.0)\n",
            "Requirement already satisfied: astor>=0.6.0 in /usr/local/lib/python3.7/dist-packages (from tensorflow<2.0,>=1.13.0->tgan) (0.8.1)\n",
            "Requirement already satisfied: wrapt>=1.11.1 in /usr/local/lib/python3.7/dist-packages (from tensorflow<2.0,>=1.13.0->tgan) (1.13.3)\n",
            "Collecting h5py<=2.10.0\n",
            "  Downloading h5py-2.10.0-cp37-cp37m-manylinux1_x86_64.whl (2.9 MB)\n",
            "\u001b[K     |████████████████████████████████| 2.9 MB 24.0 MB/s \n",
            "\u001b[?25hRequirement already satisfied: absl-py>=0.7.0 in /usr/local/lib/python3.7/dist-packages (from tensorflow<2.0,>=1.13.0->tgan) (0.12.0)\n",
            "Requirement already satisfied: opt-einsum>=2.3.2 in /usr/local/lib/python3.7/dist-packages (from tensorflow<2.0,>=1.13.0->tgan) (3.3.0)\n",
            "Collecting tensorboard<1.16.0,>=1.15.0\n",
            "  Downloading tensorboard-1.15.0-py3-none-any.whl (3.8 MB)\n",
            "\u001b[K     |████████████████████████████████| 3.8 MB 58.2 MB/s \n",
            "\u001b[?25hRequirement already satisfied: setuptools>=41.0.0 in /usr/local/lib/python3.7/dist-packages (from tensorboard<1.16.0,>=1.15.0->tensorflow<2.0,>=1.13.0->tgan) (57.4.0)\n",
            "Requirement already satisfied: markdown>=2.6.8 in /usr/local/lib/python3.7/dist-packages (from tensorboard<1.16.0,>=1.15.0->tensorflow<2.0,>=1.13.0->tgan) (3.3.6)\n",
            "Requirement already satisfied: werkzeug>=0.11.15 in /usr/local/lib/python3.7/dist-packages (from tensorboard<1.16.0,>=1.15.0->tensorflow<2.0,>=1.13.0->tgan) (1.0.1)\n",
            "Requirement already satisfied: importlib-metadata>=4.4 in /usr/local/lib/python3.7/dist-packages (from markdown>=2.6.8->tensorboard<1.16.0,>=1.15.0->tensorflow<2.0,>=1.13.0->tgan) (4.8.2)\n",
            "Requirement already satisfied: typing-extensions>=3.6.4 in /usr/local/lib/python3.7/dist-packages (from importlib-metadata>=4.4->markdown>=2.6.8->tensorboard<1.16.0,>=1.15.0->tensorflow<2.0,>=1.13.0->tgan) (3.10.0.2)\n",
            "Requirement already satisfied: zipp>=0.5 in /usr/local/lib/python3.7/dist-packages (from importlib-metadata>=4.4->markdown>=2.6.8->tensorboard<1.16.0,>=1.15.0->tensorflow<2.0,>=1.13.0->tgan) (3.6.0)\n",
            "Building wheels for collected packages: gast\n",
            "  Building wheel for gast (setup.py) ... \u001b[?25l\u001b[?25hdone\n",
            "  Created wheel for gast: filename=gast-0.2.2-py3-none-any.whl size=7554 sha256=4cfad03b473160e80c1213ec545c31d8e67b050d171504ce0e36d42034114d7e\n",
            "  Stored in directory: /root/.cache/pip/wheels/21/7f/02/420f32a803f7d0967b48dd823da3f558c5166991bfd204eef3\n",
            "Successfully built gast\n",
            "Installing collected packages: numpy, h5py, tensorflow-estimator, tensorboard, msgpack-numpy, keras-applications, gast, tensorpack, tensorflow, tgan\n",
            "  Attempting uninstall: numpy\n",
            "    Found existing installation: numpy 1.19.5\n",
            "    Uninstalling numpy-1.19.5:\n",
            "      Successfully uninstalled numpy-1.19.5\n",
            "  Attempting uninstall: h5py\n",
            "    Found existing installation: h5py 3.1.0\n",
            "    Uninstalling h5py-3.1.0:\n",
            "      Successfully uninstalled h5py-3.1.0\n",
            "  Attempting uninstall: tensorflow-estimator\n",
            "    Found existing installation: tensorflow-estimator 2.7.0\n",
            "    Uninstalling tensorflow-estimator-2.7.0:\n",
            "      Successfully uninstalled tensorflow-estimator-2.7.0\n",
            "  Attempting uninstall: tensorboard\n",
            "    Found existing installation: tensorboard 2.7.0\n",
            "    Uninstalling tensorboard-2.7.0:\n",
            "      Successfully uninstalled tensorboard-2.7.0\n",
            "  Attempting uninstall: gast\n",
            "    Found existing installation: gast 0.4.0\n",
            "    Uninstalling gast-0.4.0:\n",
            "      Successfully uninstalled gast-0.4.0\n",
            "  Attempting uninstall: tensorflow\n",
            "    Found existing installation: tensorflow 2.7.0\n",
            "    Uninstalling tensorflow-2.7.0:\n",
            "      Successfully uninstalled tensorflow-2.7.0\n",
            "\u001b[31mERROR: pip's dependency resolver does not currently take into account all the packages that are installed. This behaviour is the source of the following dependency conflicts.\n",
            "tensorflow-probability 0.15.0 requires gast>=0.3.2, but you have gast 0.2.2 which is incompatible.\n",
            "kapre 0.3.6 requires tensorflow>=2.0.0, but you have tensorflow 1.15.5 which is incompatible.\n",
            "datascience 0.10.6 requires folium==0.2.1, but you have folium 0.8.3 which is incompatible.\n",
            "albumentations 0.1.12 requires imgaug<0.2.7,>=0.2.5, but you have imgaug 0.2.9 which is incompatible.\u001b[0m\n",
            "Successfully installed gast-0.2.2 h5py-2.10.0 keras-applications-1.0.8 msgpack-numpy-0.4.7.1 numpy-1.18.5 tensorboard-1.15.0 tensorflow-1.15.5 tensorflow-estimator-1.15.1 tensorpack-0.9.4 tgan-0.1.0\n"
          ]
        },
        {
          "output_type": "display_data",
          "data": {
            "application/vnd.colab-display-data+json": {
              "pip_warning": {
                "packages": [
                  "numpy"
                ]
              }
            }
          },
          "metadata": {}
        },
        {
          "output_type": "stream",
          "name": "stdout",
          "text": [
            "Collecting ctgan\n",
            "  Downloading ctgan-0.5.0-py2.py3-none-any.whl (21 kB)\n",
            "Requirement already satisfied: scikit-learn<2,>=0.24 in /usr/local/lib/python3.7/dist-packages (from ctgan) (1.0.1)\n",
            "Collecting rdt<0.7,>=0.6.1\n",
            "  Downloading rdt-0.6.1-py2.py3-none-any.whl (31 kB)\n",
            "Requirement already satisfied: packaging<22,>=20 in /usr/local/lib/python3.7/dist-packages (from ctgan) (21.3)\n",
            "Requirement already satisfied: pandas<2,>=1.1.3 in /usr/local/lib/python3.7/dist-packages (from ctgan) (1.1.5)\n",
            "Collecting numpy<2,>=1.20.0\n",
            "  Downloading numpy-1.21.5-cp37-cp37m-manylinux_2_12_x86_64.manylinux2010_x86_64.whl (15.7 MB)\n",
            "\u001b[K     |████████████████████████████████| 15.7 MB 12.4 MB/s \n",
            "\u001b[?25hRequirement already satisfied: torchvision<1,>=0.9.0 in /usr/local/lib/python3.7/dist-packages (from ctgan) (0.11.1+cu111)\n",
            "Requirement already satisfied: torch<2,>=1.8.0 in /usr/local/lib/python3.7/dist-packages (from ctgan) (1.10.0+cu111)\n",
            "Requirement already satisfied: pyparsing!=3.0.5,>=2.0.2 in /usr/local/lib/python3.7/dist-packages (from packaging<22,>=20->ctgan) (3.0.6)\n",
            "Requirement already satisfied: pytz>=2017.2 in /usr/local/lib/python3.7/dist-packages (from pandas<2,>=1.1.3->ctgan) (2018.9)\n",
            "Requirement already satisfied: python-dateutil>=2.7.3 in /usr/local/lib/python3.7/dist-packages (from pandas<2,>=1.1.3->ctgan) (2.8.2)\n",
            "Requirement already satisfied: six>=1.5 in /usr/local/lib/python3.7/dist-packages (from python-dateutil>=2.7.3->pandas<2,>=1.1.3->ctgan) (1.15.0)\n",
            "Collecting pandas<2,>=1.1.3\n",
            "  Downloading pandas-1.1.4-cp37-cp37m-manylinux1_x86_64.whl (9.5 MB)\n",
            "\u001b[K     |████████████████████████████████| 9.5 MB 52.9 MB/s \n",
            "\u001b[?25hCollecting scipy<2,>=1.5.4\n",
            "  Downloading scipy-1.7.3-cp37-cp37m-manylinux_2_12_x86_64.manylinux2010_x86_64.whl (38.1 MB)\n",
            "\u001b[K     |████████████████████████████████| 38.1 MB 1.2 MB/s \n",
            "\u001b[?25hCollecting psutil<6,>=5.7\n",
            "  Downloading psutil-5.8.0-cp37-cp37m-manylinux2010_x86_64.whl (296 kB)\n",
            "\u001b[K     |████████████████████████████████| 296 kB 56.2 MB/s \n",
            "\u001b[?25hRequirement already satisfied: joblib>=0.11 in /usr/local/lib/python3.7/dist-packages (from scikit-learn<2,>=0.24->ctgan) (1.1.0)\n",
            "Requirement already satisfied: threadpoolctl>=2.0.0 in /usr/local/lib/python3.7/dist-packages (from scikit-learn<2,>=0.24->ctgan) (3.0.0)\n",
            "Requirement already satisfied: typing-extensions in /usr/local/lib/python3.7/dist-packages (from torch<2,>=1.8.0->ctgan) (3.10.0.2)\n",
            "Requirement already satisfied: pillow!=8.3.0,>=5.3.0 in /usr/local/lib/python3.7/dist-packages (from torchvision<1,>=0.9.0->ctgan) (7.1.2)\n",
            "Installing collected packages: numpy, scipy, psutil, pandas, rdt, ctgan\n",
            "  Attempting uninstall: numpy\n",
            "    Found existing installation: numpy 1.18.5\n",
            "    Uninstalling numpy-1.18.5:\n",
            "      Successfully uninstalled numpy-1.18.5\n",
            "  Attempting uninstall: scipy\n",
            "    Found existing installation: scipy 1.4.1\n",
            "    Uninstalling scipy-1.4.1:\n",
            "      Successfully uninstalled scipy-1.4.1\n",
            "  Attempting uninstall: psutil\n",
            "    Found existing installation: psutil 5.4.8\n",
            "    Uninstalling psutil-5.4.8:\n",
            "      Successfully uninstalled psutil-5.4.8\n",
            "  Attempting uninstall: pandas\n",
            "    Found existing installation: pandas 1.1.5\n",
            "    Uninstalling pandas-1.1.5:\n",
            "      Successfully uninstalled pandas-1.1.5\n",
            "\u001b[31mERROR: pip's dependency resolver does not currently take into account all the packages that are installed. This behaviour is the source of the following dependency conflicts.\n",
            "yellowbrick 1.3.post1 requires numpy<1.20,>=1.16.0, but you have numpy 1.21.5 which is incompatible.\n",
            "tensorflow 1.15.5 requires numpy<1.19.0,>=1.16.0, but you have numpy 1.21.5 which is incompatible.\n",
            "tensorflow-probability 0.15.0 requires gast>=0.3.2, but you have gast 0.2.2 which is incompatible.\n",
            "kapre 0.3.6 requires tensorflow>=2.0.0, but you have tensorflow 1.15.5 which is incompatible.\n",
            "datascience 0.10.6 requires folium==0.2.1, but you have folium 0.8.3 which is incompatible.\n",
            "albumentations 0.1.12 requires imgaug<0.2.7,>=0.2.5, but you have imgaug 0.2.9 which is incompatible.\u001b[0m\n",
            "Successfully installed ctgan-0.5.0 numpy-1.21.5 pandas-1.1.4 psutil-5.8.0 rdt-0.6.1 scipy-1.7.3\n"
          ]
        },
        {
          "output_type": "display_data",
          "data": {
            "application/vnd.colab-display-data+json": {
              "pip_warning": {
                "packages": [
                  "numpy",
                  "pandas",
                  "psutil"
                ]
              }
            }
          },
          "metadata": {}
        },
        {
          "output_type": "stream",
          "name": "stdout",
          "text": [
            "Found existing installation: tensorflow 1.15.5\n",
            "Uninstalling tensorflow-1.15.5:\n",
            "  Would remove:\n",
            "    /usr/local/bin/estimator_ckpt_converter\n",
            "    /usr/local/bin/freeze_graph\n",
            "    /usr/local/bin/saved_model_cli\n",
            "    /usr/local/bin/tensorboard\n",
            "    /usr/local/bin/tf_upgrade_v2\n",
            "    /usr/local/bin/tflite_convert\n",
            "    /usr/local/bin/toco\n",
            "    /usr/local/bin/toco_from_protos\n",
            "    /usr/local/lib/python3.7/dist-packages/tensorflow-1.15.5.dist-info/*\n",
            "    /usr/local/lib/python3.7/dist-packages/tensorflow/*\n",
            "    /usr/local/lib/python3.7/dist-packages/tensorflow_core/*\n",
            "Proceed (y/n)? Y\n",
            "  Successfully uninstalled tensorflow-1.15.5\n",
            "Collecting tensorflow-gpu<2.0,>=1.13.0\n",
            "  Downloading tensorflow_gpu-1.15.5-cp37-cp37m-manylinux2010_x86_64.whl (411.0 MB)\n",
            "\u001b[K     |████████████████████████████████| 411.0 MB 25 kB/s \n",
            "\u001b[?25hRequirement already satisfied: keras-preprocessing>=1.0.5 in /usr/local/lib/python3.7/dist-packages (from tensorflow-gpu<2.0,>=1.13.0) (1.1.2)\n",
            "Requirement already satisfied: termcolor>=1.1.0 in /usr/local/lib/python3.7/dist-packages (from tensorflow-gpu<2.0,>=1.13.0) (1.1.0)\n",
            "Requirement already satisfied: astor>=0.6.0 in /usr/local/lib/python3.7/dist-packages (from tensorflow-gpu<2.0,>=1.13.0) (0.8.1)\n",
            "Requirement already satisfied: google-pasta>=0.1.6 in /usr/local/lib/python3.7/dist-packages (from tensorflow-gpu<2.0,>=1.13.0) (0.2.0)\n",
            "Requirement already satisfied: keras-applications>=1.0.8 in /usr/local/lib/python3.7/dist-packages (from tensorflow-gpu<2.0,>=1.13.0) (1.0.8)\n",
            "Requirement already satisfied: tensorflow-estimator==1.15.1 in /usr/local/lib/python3.7/dist-packages (from tensorflow-gpu<2.0,>=1.13.0) (1.15.1)\n",
            "Requirement already satisfied: gast==0.2.2 in /usr/local/lib/python3.7/dist-packages (from tensorflow-gpu<2.0,>=1.13.0) (0.2.2)\n",
            "Requirement already satisfied: grpcio>=1.8.6 in /usr/local/lib/python3.7/dist-packages (from tensorflow-gpu<2.0,>=1.13.0) (1.42.0)\n",
            "Requirement already satisfied: h5py<=2.10.0 in /usr/local/lib/python3.7/dist-packages (from tensorflow-gpu<2.0,>=1.13.0) (2.10.0)\n",
            "Requirement already satisfied: protobuf>=3.6.1 in /usr/local/lib/python3.7/dist-packages (from tensorflow-gpu<2.0,>=1.13.0) (3.17.3)\n",
            "Requirement already satisfied: opt-einsum>=2.3.2 in /usr/local/lib/python3.7/dist-packages (from tensorflow-gpu<2.0,>=1.13.0) (3.3.0)\n",
            "Requirement already satisfied: tensorboard<1.16.0,>=1.15.0 in /usr/local/lib/python3.7/dist-packages (from tensorflow-gpu<2.0,>=1.13.0) (1.15.0)\n",
            "Requirement already satisfied: wrapt>=1.11.1 in /usr/local/lib/python3.7/dist-packages (from tensorflow-gpu<2.0,>=1.13.0) (1.13.3)\n",
            "Requirement already satisfied: wheel>=0.26 in /usr/local/lib/python3.7/dist-packages (from tensorflow-gpu<2.0,>=1.13.0) (0.37.0)\n",
            "Collecting numpy<1.19.0,>=1.16.0\n",
            "  Using cached numpy-1.18.5-cp37-cp37m-manylinux1_x86_64.whl (20.1 MB)\n",
            "Requirement already satisfied: six>=1.10.0 in /usr/local/lib/python3.7/dist-packages (from tensorflow-gpu<2.0,>=1.13.0) (1.15.0)\n",
            "Requirement already satisfied: absl-py>=0.7.0 in /usr/local/lib/python3.7/dist-packages (from tensorflow-gpu<2.0,>=1.13.0) (0.12.0)\n",
            "Requirement already satisfied: setuptools>=41.0.0 in /usr/local/lib/python3.7/dist-packages (from tensorboard<1.16.0,>=1.15.0->tensorflow-gpu<2.0,>=1.13.0) (57.4.0)\n",
            "Requirement already satisfied: markdown>=2.6.8 in /usr/local/lib/python3.7/dist-packages (from tensorboard<1.16.0,>=1.15.0->tensorflow-gpu<2.0,>=1.13.0) (3.3.6)\n",
            "Requirement already satisfied: werkzeug>=0.11.15 in /usr/local/lib/python3.7/dist-packages (from tensorboard<1.16.0,>=1.15.0->tensorflow-gpu<2.0,>=1.13.0) (1.0.1)\n",
            "Requirement already satisfied: importlib-metadata>=4.4 in /usr/local/lib/python3.7/dist-packages (from markdown>=2.6.8->tensorboard<1.16.0,>=1.15.0->tensorflow-gpu<2.0,>=1.13.0) (4.8.2)\n",
            "Requirement already satisfied: zipp>=0.5 in /usr/local/lib/python3.7/dist-packages (from importlib-metadata>=4.4->markdown>=2.6.8->tensorboard<1.16.0,>=1.15.0->tensorflow-gpu<2.0,>=1.13.0) (3.6.0)\n",
            "Requirement already satisfied: typing-extensions>=3.6.4 in /usr/local/lib/python3.7/dist-packages (from importlib-metadata>=4.4->markdown>=2.6.8->tensorboard<1.16.0,>=1.15.0->tensorflow-gpu<2.0,>=1.13.0) (3.10.0.2)\n",
            "Installing collected packages: numpy, tensorflow-gpu\n",
            "  Attempting uninstall: numpy\n",
            "    Found existing installation: numpy 1.21.5\n",
            "    Uninstalling numpy-1.21.5:\n",
            "      Successfully uninstalled numpy-1.21.5\n",
            "\u001b[31mERROR: pip's dependency resolver does not currently take into account all the packages that are installed. This behaviour is the source of the following dependency conflicts.\n",
            "tgan 0.1.0 requires tensorflow<2.0,>=1.13.0, which is not installed.\n",
            "kapre 0.3.6 requires tensorflow>=2.0.0, which is not installed.\n",
            "tensorflow-probability 0.15.0 requires gast>=0.3.2, but you have gast 0.2.2 which is incompatible.\n",
            "rdt 0.6.1 requires numpy<2,>=1.20.0; python_version >= \"3.7\", but you have numpy 1.18.5 which is incompatible.\n",
            "datascience 0.10.6 requires folium==0.2.1, but you have folium 0.8.3 which is incompatible.\n",
            "ctgan 0.5.0 requires numpy<2,>=1.20.0; python_version >= \"3.7\", but you have numpy 1.18.5 which is incompatible.\n",
            "albumentations 0.1.12 requires imgaug<0.2.7,>=0.2.5, but you have imgaug 0.2.9 which is incompatible.\u001b[0m\n",
            "Successfully installed numpy-1.18.5 tensorflow-gpu-1.15.5\n"
          ]
        },
        {
          "output_type": "display_data",
          "data": {
            "application/vnd.colab-display-data+json": {
              "pip_warning": {
                "packages": [
                  "numpy"
                ]
              }
            }
          },
          "metadata": {}
        }
      ]
    },
    {
      "cell_type": "markdown",
      "metadata": {
        "id": "cpTNuELn8SAI"
      },
      "source": [
        "## TGAN"
      ]
    },
    {
      "cell_type": "code",
      "metadata": {
        "colab": {
          "base_uri": "https://localhost:8080/"
        },
        "id": "wtC-UGSF35Ck",
        "outputId": "c6103cfa-11e7-4a9e-f27b-ddd756a60d86"
      },
      "source": [
        "import os\n",
        "import time\n",
        "import random\n",
        "import pickle\n",
        "import pandas as pd\n",
        "import numpy as np\n",
        "import matplotlib.pyplot as plt\n",
        "import japanize_matplotlib\n",
        "from natsort import natsorted \n",
        "\n",
        "import lightgbm as lgb\n",
        "from sklearn.model_selection import train_test_split\n",
        "from sklearn.metrics import mean_squared_error\n",
        "from sklearn.preprocessing import StandardScaler\n",
        "from sklearn.model_selection import GroupKFold\n",
        "from sklearn.impute import SimpleImputer\n",
        "from sklearn.preprocessing import OrdinalEncoder\n",
        "from sklearn.preprocessing import OneHotEncoder\n",
        "from sklearn.compose import ColumnTransformer\n",
        "from sklearn.pipeline import Pipeline\n",
        "\n",
        "import tensorflow\n",
        "from tgan.data import load_demo_data\n",
        "from tgan.model import TGANModel\n",
        "\n",
        "import warnings\n",
        "warnings.simplefilter('ignore')"
      ],
      "execution_count": null,
      "outputs": [
        {
          "output_type": "stream",
          "name": "stdout",
          "text": [
            "WARNING:tensorflow:From /usr/local/lib/python3.7/dist-packages/tensorpack/callbacks/hooks.py:17: The name tf.train.SessionRunHook is deprecated. Please use tf.estimator.SessionRunHook instead.\n",
            "\n",
            "WARNING:tensorflow:From /usr/local/lib/python3.7/dist-packages/tensorpack/tfutils/optimizer.py:18: The name tf.train.Optimizer is deprecated. Please use tf.compat.v1.train.Optimizer instead.\n",
            "\n",
            "WARNING:tensorflow:From /usr/local/lib/python3.7/dist-packages/tensorpack/tfutils/sesscreate.py:20: The name tf.train.SessionCreator is deprecated. Please use tf.compat.v1.train.SessionCreator instead.\n",
            "\n"
          ]
        }
      ]
    },
    {
      "cell_type": "code",
      "metadata": {
        "id": "EdyYflokp7_8"
      },
      "source": [
        "# シード値の固定\n",
        "SEED = 42\n",
        "\n",
        "random.seed(SEED)\n",
        "os.environ['PYTHONHASHSEED'] = str(SEED)\n",
        "np.random.seed(SEED)"
      ],
      "execution_count": null,
      "outputs": []
    },
    {
      "cell_type": "code",
      "metadata": {
        "id": "NivGYFrKqIBj"
      },
      "source": [
        "X_train, X_test, y_train, y_test = train_test_split(\n",
        "                                                    df.dropna(subset=[\"Global_Sales\"]).drop([\"Global_Sales\",  \"NA_Sales\", \"PAL_Sales\", \"JP_Sales\", \"Other_Sales\"], axis=1), \n",
        "                                                    df.dropna(subset=[\"Global_Sales\"])[\"Global_Sales\"],  \n",
        "                                                    test_size=0.3,\n",
        "                                                    shuffle=True, \n",
        "                                                    random_state=SEED\n",
        "                                                    ) "
      ],
      "execution_count": null,
      "outputs": []
    },
    {
      "cell_type": "code",
      "metadata": {
        "id": "KRzgFot4qSbz"
      },
      "source": [
        "### パイプライン\n",
        "\n",
        "# 数値データカラム名を取得\n",
        "number_columns = X_train.select_dtypes(include=\"number\").columns\n",
        "number_columns = list(number_columns)\n",
        "\n",
        "# カテゴリデータカラム名を取得\n",
        "category_columns = X_train.select_dtypes(include=\"object\").columns\n",
        "category_columns = list(category_columns)\n",
        "\n",
        "# カテゴリデータカラムの各カラムのカテゴリーの数を取得\n",
        "category_unique_num = X_train.select_dtypes(include=\"object\").nunique()\n",
        "\n",
        "# 数値データ用の変換\n",
        "numeric_transformer = Pipeline(steps=[\n",
        "    ('num_imputer', SimpleImputer(strategy='median')),\n",
        "    ('scaler', StandardScaler())]\n",
        ")\n",
        "\n",
        "# カテゴリーのエンコーディング法則を指定する\n",
        "ordinal_all_cols_mapping = []\n",
        "\n",
        "for column in df.select_dtypes(include=\"object\"):\n",
        "    ordinal_one_cols_mapping = []\n",
        "    for category in natsorted(X_train[column].unique()):\n",
        "        ordinal_one_cols_mapping.append(category)\n",
        "\n",
        "    ordinal_all_cols_mapping.append(ordinal_one_cols_mapping)\n",
        "\n",
        "\n",
        "# カテゴリー数が少ないカテゴリーデータ用の変換\n",
        "categorical_transformer = Pipeline(\n",
        "    steps=[\n",
        "        ('imputer', SimpleImputer(strategy='most_frequent')),\n",
        "        ('ordinal', OrdinalEncoder(\n",
        "                handle_unknown = 'use_encoded_value', # 未知数をunknown valueに置き換える設定\n",
        "                unknown_value = -1,\n",
        "                categories = ordinal_all_cols_mapping\n",
        "            )\n",
        "        )\n",
        "    ]\n",
        ")\n",
        "\n",
        "# ColumnTransformerの作成\n",
        "columns_transformers = ColumnTransformer(\n",
        "    transformers=[\n",
        "        ('num', numeric_transformer, number_columns),\n",
        "        ('category', categorical_transformer, category_columns),\n",
        "    ]\n",
        ")\n",
        "\n",
        "# カラム変換用のパイプラインの作成\n",
        "transformer = Pipeline(\n",
        "    [\n",
        "        (\"columns_transformers\", columns_transformers),\n",
        "    ]\n",
        ")\n",
        "\n",
        "# パイプラインの作成\n",
        "pipe = Pipeline(\n",
        "    [\n",
        "        (\"columns_transformers\", columns_transformers),\n",
        "        ('model', lgb.LGBMRegressor(random_state=42))\n",
        "     ]\n",
        ")"
      ],
      "execution_count": null,
      "outputs": []
    },
    {
      "cell_type": "code",
      "metadata": {
        "colab": {
          "base_uri": "https://localhost:8080/"
        },
        "id": "o3HSFh-Yt_At",
        "outputId": "3fe41190-6bd7-476e-a344-d8f4ba4c6866"
      },
      "source": [
        "# 学習・推論\n",
        "gkf = GroupKFold(n_splits=5)\n",
        "\n",
        "groups = X_train[\"Genre\"]\n",
        "\n",
        "best_params, history = {}, []\n",
        "\n",
        "cv_result = []\n",
        "\n",
        "pred_df = pd.DataFrame()\n",
        "\n",
        "for i, (train_index, test_index) in enumerate(gkf.split(X_train, y_train, groups)):\n",
        "    X_train_gkf, X_test_gkf = X_train.iloc[train_index], X_train.iloc[test_index]\n",
        "    y_train_gkf, y_test_gkf = y_train.iloc[train_index], y_train.iloc[test_index]\n",
        "\n",
        "    # 学習、推論\n",
        "    pipe.fit(X_train_gkf, y_train_gkf)\n",
        "\n",
        "    y_pred = pipe.predict(X_test_gkf)\n",
        "\n",
        "    rmse = mean_squared_error(y_test_gkf, y_pred, squared=False)\n",
        "    cv_result.append(rmse)\n",
        "\n",
        "    pred = pipe.predict(X_test)\n",
        "\n",
        "    pred_df[i] = pred\n",
        "\n",
        "print(\"RMSE:\", cv_result)\n",
        "print(\"RMSE:\", np.mean(cv_result))"
      ],
      "execution_count": null,
      "outputs": [
        {
          "output_type": "stream",
          "name": "stdout",
          "text": [
            "RMSE: [0.3399196410524754, 0.11054671476889413, 0.1515846494616466, 0.028296266675878243, 0.33816232288908127]\n",
            "RMSE: 0.19370191896959513\n"
          ]
        }
      ]
    },
    {
      "cell_type": "code",
      "source": [
        "pred_df.head()"
      ],
      "metadata": {
        "colab": {
          "base_uri": "https://localhost:8080/",
          "height": 206
        },
        "id": "tVsKyEdB8OIH",
        "outputId": "8be52ed2-072d-4931-ab77-e2b6403afb04"
      },
      "execution_count": null,
      "outputs": [
        {
          "output_type": "execute_result",
          "data": {
            "text/html": [
              "\n",
              "  <div id=\"df-c7793a98-ea0e-42cc-8a18-b6b353d5cb54\">\n",
              "    <div class=\"colab-df-container\">\n",
              "      <div>\n",
              "<style scoped>\n",
              "    .dataframe tbody tr th:only-of-type {\n",
              "        vertical-align: middle;\n",
              "    }\n",
              "\n",
              "    .dataframe tbody tr th {\n",
              "        vertical-align: top;\n",
              "    }\n",
              "\n",
              "    .dataframe thead th {\n",
              "        text-align: right;\n",
              "    }\n",
              "</style>\n",
              "<table border=\"1\" class=\"dataframe\">\n",
              "  <thead>\n",
              "    <tr style=\"text-align: right;\">\n",
              "      <th></th>\n",
              "      <th>0</th>\n",
              "      <th>1</th>\n",
              "      <th>2</th>\n",
              "      <th>3</th>\n",
              "      <th>4</th>\n",
              "    </tr>\n",
              "  </thead>\n",
              "  <tbody>\n",
              "    <tr>\n",
              "      <th>0</th>\n",
              "      <td>0.079978</td>\n",
              "      <td>0.080477</td>\n",
              "      <td>0.078200</td>\n",
              "      <td>0.087157</td>\n",
              "      <td>0.079929</td>\n",
              "    </tr>\n",
              "    <tr>\n",
              "      <th>1</th>\n",
              "      <td>0.020041</td>\n",
              "      <td>0.020541</td>\n",
              "      <td>0.020097</td>\n",
              "      <td>0.017319</td>\n",
              "      <td>0.020065</td>\n",
              "    </tr>\n",
              "    <tr>\n",
              "      <th>2</th>\n",
              "      <td>2.685723</td>\n",
              "      <td>2.649113</td>\n",
              "      <td>2.967197</td>\n",
              "      <td>2.667069</td>\n",
              "      <td>2.586828</td>\n",
              "    </tr>\n",
              "    <tr>\n",
              "      <th>3</th>\n",
              "      <td>0.516042</td>\n",
              "      <td>0.513283</td>\n",
              "      <td>0.514769</td>\n",
              "      <td>0.512154</td>\n",
              "      <td>0.511240</td>\n",
              "    </tr>\n",
              "    <tr>\n",
              "      <th>4</th>\n",
              "      <td>0.209935</td>\n",
              "      <td>0.210189</td>\n",
              "      <td>0.215592</td>\n",
              "      <td>0.210763</td>\n",
              "      <td>0.210023</td>\n",
              "    </tr>\n",
              "  </tbody>\n",
              "</table>\n",
              "</div>\n",
              "      <button class=\"colab-df-convert\" onclick=\"convertToInteractive('df-c7793a98-ea0e-42cc-8a18-b6b353d5cb54')\"\n",
              "              title=\"Convert this dataframe to an interactive table.\"\n",
              "              style=\"display:none;\">\n",
              "        \n",
              "  <svg xmlns=\"http://www.w3.org/2000/svg\" height=\"24px\"viewBox=\"0 0 24 24\"\n",
              "       width=\"24px\">\n",
              "    <path d=\"M0 0h24v24H0V0z\" fill=\"none\"/>\n",
              "    <path d=\"M18.56 5.44l.94 2.06.94-2.06 2.06-.94-2.06-.94-.94-2.06-.94 2.06-2.06.94zm-11 1L8.5 8.5l.94-2.06 2.06-.94-2.06-.94L8.5 2.5l-.94 2.06-2.06.94zm10 10l.94 2.06.94-2.06 2.06-.94-2.06-.94-.94-2.06-.94 2.06-2.06.94z\"/><path d=\"M17.41 7.96l-1.37-1.37c-.4-.4-.92-.59-1.43-.59-.52 0-1.04.2-1.43.59L10.3 9.45l-7.72 7.72c-.78.78-.78 2.05 0 2.83L4 21.41c.39.39.9.59 1.41.59.51 0 1.02-.2 1.41-.59l7.78-7.78 2.81-2.81c.8-.78.8-2.07 0-2.86zM5.41 20L4 18.59l7.72-7.72 1.47 1.35L5.41 20z\"/>\n",
              "  </svg>\n",
              "      </button>\n",
              "      \n",
              "  <style>\n",
              "    .colab-df-container {\n",
              "      display:flex;\n",
              "      flex-wrap:wrap;\n",
              "      gap: 12px;\n",
              "    }\n",
              "\n",
              "    .colab-df-convert {\n",
              "      background-color: #E8F0FE;\n",
              "      border: none;\n",
              "      border-radius: 50%;\n",
              "      cursor: pointer;\n",
              "      display: none;\n",
              "      fill: #1967D2;\n",
              "      height: 32px;\n",
              "      padding: 0 0 0 0;\n",
              "      width: 32px;\n",
              "    }\n",
              "\n",
              "    .colab-df-convert:hover {\n",
              "      background-color: #E2EBFA;\n",
              "      box-shadow: 0px 1px 2px rgba(60, 64, 67, 0.3), 0px 1px 3px 1px rgba(60, 64, 67, 0.15);\n",
              "      fill: #174EA6;\n",
              "    }\n",
              "\n",
              "    [theme=dark] .colab-df-convert {\n",
              "      background-color: #3B4455;\n",
              "      fill: #D2E3FC;\n",
              "    }\n",
              "\n",
              "    [theme=dark] .colab-df-convert:hover {\n",
              "      background-color: #434B5C;\n",
              "      box-shadow: 0px 1px 3px 1px rgba(0, 0, 0, 0.15);\n",
              "      filter: drop-shadow(0px 1px 2px rgba(0, 0, 0, 0.3));\n",
              "      fill: #FFFFFF;\n",
              "    }\n",
              "  </style>\n",
              "\n",
              "      <script>\n",
              "        const buttonEl =\n",
              "          document.querySelector('#df-c7793a98-ea0e-42cc-8a18-b6b353d5cb54 button.colab-df-convert');\n",
              "        buttonEl.style.display =\n",
              "          google.colab.kernel.accessAllowed ? 'block' : 'none';\n",
              "\n",
              "        async function convertToInteractive(key) {\n",
              "          const element = document.querySelector('#df-c7793a98-ea0e-42cc-8a18-b6b353d5cb54');\n",
              "          const dataTable =\n",
              "            await google.colab.kernel.invokeFunction('convertToInteractive',\n",
              "                                                     [key], {});\n",
              "          if (!dataTable) return;\n",
              "\n",
              "          const docLinkHtml = 'Like what you see? Visit the ' +\n",
              "            '<a target=\"_blank\" href=https://colab.research.google.com/notebooks/data_table.ipynb>data table notebook</a>'\n",
              "            + ' to learn more about interactive tables.';\n",
              "          element.innerHTML = '';\n",
              "          dataTable['output_type'] = 'display_data';\n",
              "          await google.colab.output.renderOutput(dataTable, element);\n",
              "          const docLink = document.createElement('div');\n",
              "          docLink.innerHTML = docLinkHtml;\n",
              "          element.appendChild(docLink);\n",
              "        }\n",
              "      </script>\n",
              "    </div>\n",
              "  </div>\n",
              "  "
            ],
            "text/plain": [
              "          0         1         2         3         4\n",
              "0  0.079978  0.080477  0.078200  0.087157  0.079929\n",
              "1  0.020041  0.020541  0.020097  0.017319  0.020065\n",
              "2  2.685723  2.649113  2.967197  2.667069  2.586828\n",
              "3  0.516042  0.513283  0.514769  0.512154  0.511240\n",
              "4  0.209935  0.210189  0.215592  0.210763  0.210023"
            ]
          },
          "metadata": {},
          "execution_count": 22
        }
      ]
    },
    {
      "cell_type": "code",
      "source": [
        "rmse_test = mean_squared_error(y_test, pred_df.mean(axis=1), squared=False)\n",
        "print(rmse_test)"
      ],
      "metadata": {
        "colab": {
          "base_uri": "https://localhost:8080/"
        },
        "id": "Sdn97c_b8WDD",
        "outputId": "b6c4fe33-5b42-4a49-bdf8-00d77bdaaab5"
      },
      "execution_count": null,
      "outputs": [
        {
          "output_type": "stream",
          "name": "stdout",
          "text": [
            "0.2390859888186454\n"
          ]
        }
      ]
    },
    {
      "cell_type": "markdown",
      "metadata": {
        "id": "UT0dbxvAycP8"
      },
      "source": [
        "## TGAN"
      ]
    },
    {
      "cell_type": "code",
      "metadata": {
        "colab": {
          "base_uri": "https://localhost:8080/"
        },
        "id": "MMcvxjlosRhJ",
        "outputId": "6f464eef-decf-4696-c161-f0ce54caa655"
      },
      "source": [
        "all_columns = X_test.columns.tolist()\n",
        "\n",
        "### Nullのみで削除されるカラムを削除\n",
        "print(len(all_columns))\n",
        "\n",
        "for column in [\"VGChartz_Score\", \"Total_Shipped\"]:\n",
        "    all_columns.remove(column)\n",
        "\n",
        "print(len(all_columns))"
      ],
      "execution_count": null,
      "outputs": [
        {
          "output_type": "stream",
          "name": "stdout",
          "text": [
            "18\n",
            "16\n"
          ]
        }
      ]
    },
    {
      "cell_type": "code",
      "metadata": {
        "id": "Ory_eCHPuqg6"
      },
      "source": [
        "X_train_tf = transformer.fit_transform(X_train)\n",
        "X_train_tf = pd.DataFrame(\n",
        "                          X_train_tf,\n",
        "                          columns = all_columns\n",
        "                        )\n",
        "\n",
        "X_test_tf = transformer.fit_transform(X_test)\n",
        "X_test_tf = pd.DataFrame(\n",
        "                          X_test_tf,\n",
        "                          columns = all_columns\n",
        "                        )"
      ],
      "execution_count": null,
      "outputs": []
    },
    {
      "cell_type": "code",
      "metadata": {
        "id": "E8SSlIQ1vAkD"
      },
      "source": [
        "train_df = pd.concat([X_train_tf, y_train], axis=1)"
      ],
      "execution_count": null,
      "outputs": []
    },
    {
      "cell_type": "code",
      "metadata": {
        "colab": {
          "base_uri": "https://localhost:8080/"
        },
        "id": "h_BgS9Lt7eQJ",
        "outputId": "fa92df3f-f1e3-4aaf-b50d-a78b2f568ed6"
      },
      "source": [
        "continuous_value_columns = [\"Rank\", \"Critic_Score\", \"User_Score\", \"Total_Shipped\", \"Global_Sales\", \"Year\"]\n",
        "\n",
        "tgan = TGANModel(\n",
        "    continuous_value_columns,\n",
        "    max_epoch=5,\n",
        "    steps_per_epoch=5000,\n",
        "    batch_size=100,\n",
        "    )\n",
        "\n",
        "tgan.fit(train_df)"
      ],
      "execution_count": null,
      "outputs": [
        {
          "output_type": "stream",
          "name": "stdout",
          "text": [
            "WARNING:tensorflow:From /usr/local/lib/python3.7/dist-packages/tensorpack/graph_builder/model_desc.py:29: The name tf.get_default_graph is deprecated. Please use tf.compat.v1.get_default_graph instead.\n",
            "\n",
            "WARNING:tensorflow:From /usr/local/lib/python3.7/dist-packages/tensorpack/graph_builder/model_desc.py:39: The name tf.placeholder is deprecated. Please use tf.compat.v1.placeholder instead.\n",
            "\n",
            "WARNING:tensorflow:From /usr/local/lib/python3.7/dist-packages/tensorpack/input_source/input_source.py:219: The name tf.FIFOQueue is deprecated. Please use tf.queue.FIFOQueue instead.\n",
            "\n",
            "\u001b[32m[1221 12:02:05 @input_source.py:222]\u001b[0m Setting up the queue 'QueueInput/input_queue' for CPU prefetching ...\n",
            "WARNING:tensorflow:From /usr/local/lib/python3.7/dist-packages/tensorpack/tfutils/summary.py:237: The name tf.get_variable_scope is deprecated. Please use tf.compat.v1.get_variable_scope instead.\n",
            "\n",
            "WARNING:tensorflow:From /usr/local/lib/python3.7/dist-packages/tensorpack/tfutils/summary.py:27: The name tf.variable_scope is deprecated. Please use tf.compat.v1.variable_scope instead.\n",
            "\n",
            "WARNING:tensorflow:From /usr/local/lib/python3.7/dist-packages/tensorpack/tfutils/summary.py:254: The name tf.get_variable is deprecated. Please use tf.compat.v1.get_variable instead.\n",
            "\n",
            "WARNING:tensorflow:From /usr/local/lib/python3.7/dist-packages/tensorpack/tfutils/summary.py:264: The name tf.summary.scalar is deprecated. Please use tf.compat.v1.summary.scalar instead.\n",
            "\n",
            "WARNING:tensorflow:From /usr/local/lib/python3.7/dist-packages/tensorpack/tfutils/collection.py:105: The name tf.GraphKeys is deprecated. Please use tf.compat.v1.GraphKeys instead.\n",
            "\n",
            "WARNING:tensorflow:From /usr/local/lib/python3.7/dist-packages/tensorpack/tfutils/collection.py:33: The name tf.get_collection is deprecated. Please use tf.compat.v1.get_collection instead.\n",
            "\n",
            "WARNING:tensorflow:From /usr/local/lib/python3.7/dist-packages/tgan/model.py:455: The name tf.random_normal is deprecated. Please use tf.random.normal instead.\n",
            "\n",
            "WARNING:tensorflow:From /usr/local/lib/python3.7/dist-packages/tgan/model.py:458: The name tf.placeholder_with_default is deprecated. Please use tf.compat.v1.placeholder_with_default instead.\n",
            "\n",
            "WARNING:tensorflow:From /usr/local/lib/python3.7/dist-packages/tgan/model.py:259: LSTMCell.__init__ (from tensorflow.python.ops.rnn_cell_impl) is deprecated and will be removed in a future version.\n",
            "Instructions for updating:\n",
            "This class is equivalent as tf.keras.layers.LSTMCell, and will be replaced by that in Tensorflow 2.0.\n",
            "WARNING:tensorflow:From /usr/local/lib/python3.7/dist-packages/tensorflow_core/python/ops/rnn_cell_impl.py:958: Layer.add_variable (from tensorflow.python.keras.engine.base_layer) is deprecated and will be removed in a future version.\n",
            "Instructions for updating:\n",
            "Please use `layer.add_weight` method instead.\n",
            "WARNING:tensorflow:From /usr/local/lib/python3.7/dist-packages/tensorflow_core/python/ops/rnn_cell_impl.py:962: calling Zeros.__init__ (from tensorflow.python.ops.init_ops) with dtype is deprecated and will be removed in a future version.\n",
            "Instructions for updating:\n",
            "Call initializer instance with the dtype argument instead of passing it to the constructor\n",
            "\u001b[32m[1221 12:02:05 @registry.py:126]\u001b[0m gen/LSTM/00/FC input: [100, 100]\n",
            "WARNING:tensorflow:From /usr/local/lib/python3.7/dist-packages/tensorpack/models/fc.py:57: The name tf.layers.Dense is deprecated. Please use tf.compat.v1.layers.Dense instead.\n",
            "\n",
            "WARNING:tensorflow:From /usr/local/lib/python3.7/dist-packages/tensorpack/models/fc.py:67: Layer.apply (from tensorflow.python.keras.engine.base_layer) is deprecated and will be removed in a future version.\n",
            "Instructions for updating:\n",
            "Please use `layer.__call__` method instead.\n",
            "\u001b[32m[1221 12:02:05 @registry.py:134]\u001b[0m gen/LSTM/00/FC output: [100, 100]\n",
            "\u001b[32m[1221 12:02:05 @registry.py:126]\u001b[0m gen/LSTM/00/FC2 input: [100, 100]\n",
            "\u001b[32m[1221 12:02:05 @registry.py:134]\u001b[0m gen/LSTM/00/FC2 output: [100, 13591]\n",
            "\u001b[32m[1221 12:02:05 @registry.py:126]\u001b[0m gen/LSTM/00/FC3 input: [100, 13591]\n",
            "\u001b[32m[1221 12:02:05 @registry.py:134]\u001b[0m gen/LSTM/00/FC3 output: [100, 100]\n",
            "\u001b[32m[1221 12:02:05 @registry.py:126]\u001b[0m gen/LSTM/01/FC input: [100, 100]\n",
            "\u001b[32m[1221 12:02:05 @registry.py:134]\u001b[0m gen/LSTM/01/FC output: [100, 100]\n",
            "\u001b[32m[1221 12:02:05 @registry.py:126]\u001b[0m gen/LSTM/01/FC2 input: [100, 100]\n",
            "\u001b[32m[1221 12:02:05 @registry.py:134]\u001b[0m gen/LSTM/01/FC2 output: [100, 83]\n",
            "\u001b[32m[1221 12:02:05 @registry.py:126]\u001b[0m gen/LSTM/01/FC3 input: [100, 83]\n",
            "\u001b[32m[1221 12:02:05 @registry.py:134]\u001b[0m gen/LSTM/01/FC3 output: [100, 100]\n",
            "\u001b[32m[1221 12:02:05 @registry.py:126]\u001b[0m gen/LSTM/02/FC input: [100, 100]\n",
            "\u001b[32m[1221 12:02:05 @registry.py:134]\u001b[0m gen/LSTM/02/FC output: [100, 100]\n",
            "\u001b[32m[1221 12:02:05 @registry.py:126]\u001b[0m gen/LSTM/02/FC2 input: [100, 100]\n",
            "\u001b[32m[1221 12:02:05 @registry.py:134]\u001b[0m gen/LSTM/02/FC2 output: [100, 38]\n",
            "\u001b[32m[1221 12:02:05 @registry.py:126]\u001b[0m gen/LSTM/02/FC3 input: [100, 38]\n",
            "\u001b[32m[1221 12:02:05 @registry.py:134]\u001b[0m gen/LSTM/02/FC3 output: [100, 100]\n",
            "\u001b[32m[1221 12:02:05 @registry.py:126]\u001b[0m gen/LSTM/03/FC input: [100, 100]\n",
            "\u001b[32m[1221 12:02:05 @registry.py:134]\u001b[0m gen/LSTM/03/FC output: [100, 100]\n",
            "\u001b[32m[1221 12:02:05 @registry.py:126]\u001b[0m gen/LSTM/03/FC2 input: [100, 100]\n",
            "\u001b[32m[1221 12:02:05 @registry.py:134]\u001b[0m gen/LSTM/03/FC2 output: [100, 46]\n",
            "\u001b[32m[1221 12:02:05 @registry.py:126]\u001b[0m gen/LSTM/03/FC3 input: [100, 46]\n",
            "\u001b[32m[1221 12:02:05 @registry.py:134]\u001b[0m gen/LSTM/03/FC3 output: [100, 100]\n",
            "\u001b[32m[1221 12:02:05 @registry.py:126]\u001b[0m gen/LSTM/04/FC input: [100, 100]\n",
            "\u001b[32m[1221 12:02:05 @registry.py:134]\u001b[0m gen/LSTM/04/FC output: [100, 100]\n",
            "\u001b[32m[1221 12:02:05 @registry.py:126]\u001b[0m gen/LSTM/04/FC2 input: [100, 100]\n",
            "\u001b[32m[1221 12:02:06 @registry.py:134]\u001b[0m gen/LSTM/04/FC2 output: [100, 2]\n",
            "\u001b[32m[1221 12:02:06 @registry.py:126]\u001b[0m gen/LSTM/04/FC3 input: [100, 2]\n",
            "\u001b[32m[1221 12:02:06 @registry.py:134]\u001b[0m gen/LSTM/04/FC3 output: [100, 100]\n",
            "\u001b[32m[1221 12:02:06 @registry.py:126]\u001b[0m gen/LSTM/05/FC input: [100, 100]\n",
            "\u001b[32m[1221 12:02:06 @registry.py:134]\u001b[0m gen/LSTM/05/FC output: [100, 100]\n",
            "\u001b[32m[1221 12:02:06 @registry.py:126]\u001b[0m gen/LSTM/05/FC2 input: [100, 100]\n",
            "\u001b[32m[1221 12:02:06 @registry.py:134]\u001b[0m gen/LSTM/05/FC2 output: [100, 53]\n",
            "\u001b[32m[1221 12:02:06 @registry.py:126]\u001b[0m gen/LSTM/05/FC3 input: [100, 53]\n",
            "\u001b[32m[1221 12:02:06 @registry.py:134]\u001b[0m gen/LSTM/05/FC3 output: [100, 100]\n",
            "\u001b[32m[1221 12:02:06 @registry.py:126]\u001b[0m gen/LSTM/06/FC input: [100, 100]\n",
            "\u001b[32m[1221 12:02:06 @registry.py:134]\u001b[0m gen/LSTM/06/FC output: [100, 100]\n",
            "\u001b[32m[1221 12:02:06 @registry.py:126]\u001b[0m gen/LSTM/06/FC2 input: [100, 100]\n",
            "\u001b[32m[1221 12:02:06 @registry.py:134]\u001b[0m gen/LSTM/06/FC2 output: [100, 10181]\n",
            "\u001b[32m[1221 12:02:06 @registry.py:126]\u001b[0m gen/LSTM/06/FC3 input: [100, 10181]\n",
            "\u001b[32m[1221 12:02:06 @registry.py:134]\u001b[0m gen/LSTM/06/FC3 output: [100, 100]\n",
            "\u001b[32m[1221 12:02:06 @registry.py:126]\u001b[0m gen/LSTM/07/FC input: [100, 100]\n",
            "\u001b[32m[1221 12:02:06 @registry.py:134]\u001b[0m gen/LSTM/07/FC output: [100, 100]\n",
            "\u001b[32m[1221 12:02:06 @registry.py:126]\u001b[0m gen/LSTM/07/FC2 input: [100, 100]\n",
            "\u001b[32m[1221 12:02:06 @registry.py:134]\u001b[0m gen/LSTM/07/FC2 output: [100, 10107]\n",
            "\u001b[32m[1221 12:02:06 @registry.py:126]\u001b[0m gen/LSTM/07/FC3 input: [100, 10107]\n",
            "\u001b[32m[1221 12:02:06 @registry.py:134]\u001b[0m gen/LSTM/07/FC3 output: [100, 100]\n",
            "\u001b[32m[1221 12:02:06 @registry.py:126]\u001b[0m gen/LSTM/08/FC input: [100, 100]\n",
            "\u001b[32m[1221 12:02:06 @registry.py:134]\u001b[0m gen/LSTM/08/FC output: [100, 100]\n",
            "\u001b[32m[1221 12:02:06 @registry.py:126]\u001b[0m gen/LSTM/08/FC2 input: [100, 100]\n",
            "\u001b[32m[1221 12:02:06 @registry.py:134]\u001b[0m gen/LSTM/08/FC2 output: [100, 21]\n",
            "\u001b[32m[1221 12:02:06 @registry.py:126]\u001b[0m gen/LSTM/08/FC3 input: [100, 21]\n",
            "\u001b[32m[1221 12:02:06 @registry.py:134]\u001b[0m gen/LSTM/08/FC3 output: [100, 100]\n",
            "\u001b[32m[1221 12:02:06 @registry.py:126]\u001b[0m gen/LSTM/09/FC input: [100, 100]\n",
            "\u001b[32m[1221 12:02:06 @registry.py:134]\u001b[0m gen/LSTM/09/FC output: [100, 100]\n",
            "\u001b[32m[1221 12:02:06 @registry.py:126]\u001b[0m gen/LSTM/09/FC2 input: [100, 100]\n",
            "\u001b[32m[1221 12:02:06 @registry.py:134]\u001b[0m gen/LSTM/09/FC2 output: [100, 7]\n",
            "\u001b[32m[1221 12:02:06 @registry.py:126]\u001b[0m gen/LSTM/09/FC3 input: [100, 7]\n",
            "\u001b[32m[1221 12:02:06 @registry.py:134]\u001b[0m gen/LSTM/09/FC3 output: [100, 100]\n",
            "\u001b[32m[1221 12:02:06 @registry.py:126]\u001b[0m gen/LSTM/10/FC input: [100, 100]\n",
            "\u001b[32m[1221 12:02:06 @registry.py:134]\u001b[0m gen/LSTM/10/FC output: [100, 100]\n",
            "\u001b[32m[1221 12:02:06 @registry.py:126]\u001b[0m gen/LSTM/10/FC2 input: [100, 100]\n",
            "\u001b[32m[1221 12:02:06 @registry.py:134]\u001b[0m gen/LSTM/10/FC2 output: [100, 40]\n",
            "\u001b[32m[1221 12:02:06 @registry.py:126]\u001b[0m gen/LSTM/10/FC3 input: [100, 40]\n",
            "\u001b[32m[1221 12:02:06 @registry.py:134]\u001b[0m gen/LSTM/10/FC3 output: [100, 100]\n",
            "\u001b[32m[1221 12:02:06 @registry.py:126]\u001b[0m gen/LSTM/11/FC input: [100, 100]\n",
            "\u001b[32m[1221 12:02:06 @registry.py:134]\u001b[0m gen/LSTM/11/FC output: [100, 100]\n",
            "\u001b[32m[1221 12:02:06 @registry.py:126]\u001b[0m gen/LSTM/11/FC2 input: [100, 100]\n",
            "\u001b[32m[1221 12:02:06 @registry.py:134]\u001b[0m gen/LSTM/11/FC2 output: [100, 649]\n",
            "\u001b[32m[1221 12:02:06 @registry.py:126]\u001b[0m gen/LSTM/11/FC3 input: [100, 649]\n",
            "\u001b[32m[1221 12:02:06 @registry.py:134]\u001b[0m gen/LSTM/11/FC3 output: [100, 100]\n",
            "\u001b[32m[1221 12:02:06 @registry.py:126]\u001b[0m gen/LSTM/12/FC input: [100, 100]\n",
            "\u001b[32m[1221 12:02:06 @registry.py:134]\u001b[0m gen/LSTM/12/FC output: [100, 100]\n",
            "\u001b[32m[1221 12:02:06 @registry.py:126]\u001b[0m gen/LSTM/12/FC2 input: [100, 100]\n",
            "\u001b[32m[1221 12:02:06 @registry.py:134]\u001b[0m gen/LSTM/12/FC2 output: [100, 2455]\n",
            "\u001b[32m[1221 12:02:06 @registry.py:126]\u001b[0m gen/LSTM/12/FC3 input: [100, 2455]\n",
            "\u001b[32m[1221 12:02:06 @registry.py:134]\u001b[0m gen/LSTM/12/FC3 output: [100, 100]\n",
            "\u001b[32m[1221 12:02:07 @registry.py:126]\u001b[0m gen/LSTM/13/FC input: [100, 100]\n",
            "\u001b[32m[1221 12:02:07 @registry.py:134]\u001b[0m gen/LSTM/13/FC output: [100, 100]\n",
            "\u001b[32m[1221 12:02:07 @registry.py:126]\u001b[0m gen/LSTM/13/FC2 input: [100, 100]\n",
            "\u001b[32m[1221 12:02:07 @registry.py:134]\u001b[0m gen/LSTM/13/FC2 output: [100, 332]\n",
            "\u001b[32m[1221 12:02:07 @registry.py:126]\u001b[0m gen/LSTM/13/FC3 input: [100, 332]\n",
            "\u001b[32m[1221 12:02:07 @registry.py:134]\u001b[0m gen/LSTM/13/FC3 output: [100, 100]\n",
            "\u001b[32m[1221 12:02:07 @registry.py:126]\u001b[0m gen/LSTM/14/FC input: [100, 100]\n",
            "\u001b[32m[1221 12:02:07 @registry.py:134]\u001b[0m gen/LSTM/14/FC output: [100, 100]\n",
            "\u001b[32m[1221 12:02:07 @registry.py:126]\u001b[0m gen/LSTM/14/FC2 input: [100, 100]\n",
            "\u001b[32m[1221 12:02:07 @registry.py:134]\u001b[0m gen/LSTM/14/FC2 output: [100, 13591]\n",
            "\u001b[32m[1221 12:02:07 @registry.py:126]\u001b[0m gen/LSTM/14/FC3 input: [100, 13591]\n",
            "\u001b[32m[1221 12:02:07 @registry.py:134]\u001b[0m gen/LSTM/14/FC3 output: [100, 100]\n",
            "\u001b[32m[1221 12:02:07 @registry.py:126]\u001b[0m gen/LSTM/15/FC input: [100, 100]\n",
            "\u001b[32m[1221 12:02:07 @registry.py:134]\u001b[0m gen/LSTM/15/FC output: [100, 100]\n",
            "\u001b[32m[1221 12:02:07 @registry.py:126]\u001b[0m gen/LSTM/15/FC2 input: [100, 100]\n",
            "\u001b[32m[1221 12:02:07 @registry.py:134]\u001b[0m gen/LSTM/15/FC2 output: [100, 13185]\n",
            "\u001b[32m[1221 12:02:07 @registry.py:126]\u001b[0m gen/LSTM/15/FC3 input: [100, 13185]\n",
            "\u001b[32m[1221 12:02:07 @registry.py:134]\u001b[0m gen/LSTM/15/FC3 output: [100, 100]\n",
            "\u001b[32m[1221 12:02:07 @registry.py:126]\u001b[0m gen/LSTM/16/FC input: [100, 100]\n",
            "\u001b[32m[1221 12:02:07 @registry.py:134]\u001b[0m gen/LSTM/16/FC output: [100, 100]\n",
            "\u001b[32m[1221 12:02:07 @registry.py:126]\u001b[0m gen/LSTM/16/FC2 input: [100, 100]\n",
            "\u001b[32m[1221 12:02:07 @registry.py:134]\u001b[0m gen/LSTM/16/FC2 output: [100, 455]\n",
            "\u001b[32m[1221 12:02:07 @registry.py:126]\u001b[0m gen/LSTM/16/FC3 input: [100, 455]\n",
            "\u001b[32m[1221 12:02:07 @registry.py:134]\u001b[0m gen/LSTM/16/FC3 output: [100, 100]\n",
            "WARNING:tensorflow:From /usr/local/lib/python3.7/dist-packages/tgan/model.py:494: The name tf.random_uniform is deprecated. Please use tf.random.uniform instead.\n",
            "\n",
            "WARNING:tensorflow:From /usr/local/lib/python3.7/dist-packages/tgan/model.py:443: The name tf.log is deprecated. Please use tf.math.log instead.\n",
            "\n",
            "\u001b[32m[1221 12:02:08 @registry.py:126]\u001b[0m discrim/dis_fc0/fc input: [100, 64836]\n",
            "\u001b[32m[1221 12:02:08 @registry.py:134]\u001b[0m discrim/dis_fc0/fc output: [100, 100]\n",
            "\u001b[32m[1221 12:02:08 @registry.py:126]\u001b[0m discrim/dis_fc0/fc_diversity input: [100, 100]\n",
            "\u001b[32m[1221 12:02:08 @registry.py:134]\u001b[0m discrim/dis_fc0/fc_diversity output: [100, 100]\n",
            "WARNING:tensorflow:From /usr/local/lib/python3.7/dist-packages/tensorpack/models/batch_norm.py:204: The name tf.layers.BatchNormalization is deprecated. Please use tf.compat.v1.layers.BatchNormalization instead.\n",
            "\n",
            "WARNING:tensorflow:From /usr/local/lib/python3.7/dist-packages/tensorpack/models/batch_norm.py:212: The name tf.add_to_collection is deprecated. Please use tf.compat.v1.add_to_collection instead.\n",
            "\n",
            "\u001b[32m[1221 12:02:08 @registry.py:126]\u001b[0m discrim/dis_fc_top input: [100, 110]\n",
            "\u001b[32m[1221 12:02:08 @registry.py:134]\u001b[0m discrim/dis_fc_top output: [100, 1]\n",
            "WARNING:tensorflow:From /usr/local/lib/python3.7/dist-packages/tgan/model.py:118: The name tf.summary.histogram is deprecated. Please use tf.compat.v1.summary.histogram instead.\n",
            "\n",
            "WARNING:tensorflow:From /usr/local/lib/python3.7/dist-packages/tensorflow_core/python/ops/nn_impl.py:183: where (from tensorflow.python.ops.array_ops) is deprecated and will be removed in a future version.\n",
            "Instructions for updating:\n",
            "Use tf.where in 2.0, which has the same broadcast rule as np.where\n",
            "WARNING:tensorflow:\n",
            "The TensorFlow contrib module will not be included in TensorFlow 2.0.\n",
            "For more information, please see:\n",
            "  * https://github.com/tensorflow/community/blob/master/rfcs/20180907-contrib-sunset.md\n",
            "  * https://github.com/tensorflow/addons\n",
            "  * https://github.com/tensorflow/io (for I/O related ops)\n",
            "If you depend on functionality not listed there, please file an issue.\n",
            "\n",
            "WARNING:tensorflow:From /usr/local/lib/python3.7/dist-packages/tgan/model.py:551: The name tf.train.AdamOptimizer is deprecated. Please use tf.compat.v1.train.AdamOptimizer instead.\n",
            "\n",
            "\u001b[32m[1221 12:02:16 @logger.py:90]\u001b[0m Argv: /usr/local/lib/python3.7/dist-packages/ipykernel_launcher.py -f /root/.local/share/jupyter/runtime/kernel-c348a136-91e9-4f7b-8604-8b113fd46b64.json\n",
            "WARNING:tensorflow:From /usr/local/lib/python3.7/dist-packages/tensorpack/callbacks/saver.py:43: The name tf.gfile.IsDirectory is deprecated. Please use tf.io.gfile.isdir instead.\n",
            "\n",
            "WARNING:tensorflow:From /usr/local/lib/python3.7/dist-packages/tensorpack/callbacks/saver.py:44: The name tf.gfile.MakeDirs is deprecated. Please use tf.io.gfile.makedirs instead.\n",
            "\n",
            "WARNING:tensorflow:From /usr/local/lib/python3.7/dist-packages/tensorpack/tfutils/common.py:41: The name tf.ConfigProto is deprecated. Please use tf.compat.v1.ConfigProto instead.\n",
            "\n",
            "\u001b[32m[1221 12:02:16 @model_utils.py:67]\u001b[0m \u001b[36mList of Trainable Variables: \n",
            "\u001b[0mname                              shape           #elements\n",
            "--------------------------------  ------------  -----------\n",
            "gen/LSTM/go:0                     [1, 100]              100\n",
            "gen/LSTM/lstm_cell/kernel:0       [500, 400]         200000\n",
            "gen/LSTM/lstm_cell/bias:0         [400]                 400\n",
            "gen/LSTM/00/FC/W:0                [100, 100]          10000\n",
            "gen/LSTM/00/FC/b:0                [100]                 100\n",
            "gen/LSTM/00/FC2/W:0               [100, 13591]      1359100\n",
            "gen/LSTM/00/FC2/b:0               [13591]             13591\n",
            "gen/LSTM/00/FC3/W:0               [13591, 100]      1359100\n",
            "gen/LSTM/00/FC3/b:0               [100]                 100\n",
            "gen/LSTM/00/attw:0                [1, 1, 1]               1\n",
            "gen/LSTM/01/FC/W:0                [100, 100]          10000\n",
            "gen/LSTM/01/FC/b:0                [100]                 100\n",
            "gen/LSTM/01/FC2/W:0               [100, 83]            8300\n",
            "gen/LSTM/01/FC2/b:0               [83]                   83\n",
            "gen/LSTM/01/FC3/W:0               [83, 100]            8300\n",
            "gen/LSTM/01/FC3/b:0               [100]                 100\n",
            "gen/LSTM/01/attw:0                [2, 1, 1]               2\n",
            "gen/LSTM/02/FC/W:0                [100, 100]          10000\n",
            "gen/LSTM/02/FC/b:0                [100]                 100\n",
            "gen/LSTM/02/FC2/W:0               [100, 38]            3800\n",
            "gen/LSTM/02/FC2/b:0               [38]                   38\n",
            "gen/LSTM/02/FC3/W:0               [38, 100]            3800\n",
            "gen/LSTM/02/FC3/b:0               [100]                 100\n",
            "gen/LSTM/02/attw:0                [3, 1, 1]               3\n",
            "gen/LSTM/03/FC/W:0                [100, 100]          10000\n",
            "gen/LSTM/03/FC/b:0                [100]                 100\n",
            "gen/LSTM/03/FC2/W:0               [100, 46]            4600\n",
            "gen/LSTM/03/FC2/b:0               [46]                   46\n",
            "gen/LSTM/03/FC3/W:0               [46, 100]            4600\n",
            "gen/LSTM/03/FC3/b:0               [100]                 100\n",
            "gen/LSTM/03/attw:0                [4, 1, 1]               4\n",
            "gen/LSTM/04/FC/W:0                [100, 100]          10000\n",
            "gen/LSTM/04/FC/b:0                [100]                 100\n",
            "gen/LSTM/04/FC2/W:0               [100, 2]              200\n",
            "gen/LSTM/04/FC2/b:0               [2]                     2\n",
            "gen/LSTM/04/FC3/W:0               [2, 100]              200\n",
            "gen/LSTM/04/FC3/b:0               [100]                 100\n",
            "gen/LSTM/04/attw:0                [5, 1, 1]               5\n",
            "gen/LSTM/05/FC/W:0                [100, 100]          10000\n",
            "gen/LSTM/05/FC/b:0                [100]                 100\n",
            "gen/LSTM/05/FC2/W:0               [100, 53]            5300\n",
            "gen/LSTM/05/FC2/b:0               [53]                   53\n",
            "gen/LSTM/05/FC3/W:0               [53, 100]            5300\n",
            "gen/LSTM/05/FC3/b:0               [100]                 100\n",
            "gen/LSTM/05/attw:0                [6, 1, 1]               6\n",
            "gen/LSTM/06/FC/W:0                [100, 100]          10000\n",
            "gen/LSTM/06/FC/b:0                [100]                 100\n",
            "gen/LSTM/06/FC2/W:0               [100, 10181]      1018100\n",
            "gen/LSTM/06/FC2/b:0               [10181]             10181\n",
            "gen/LSTM/06/FC3/W:0               [10181, 100]      1018100\n",
            "gen/LSTM/06/FC3/b:0               [100]                 100\n",
            "gen/LSTM/06/attw:0                [7, 1, 1]               7\n",
            "gen/LSTM/07/FC/W:0                [100, 100]          10000\n",
            "gen/LSTM/07/FC/b:0                [100]                 100\n",
            "gen/LSTM/07/FC2/W:0               [100, 10107]      1010700\n",
            "gen/LSTM/07/FC2/b:0               [10107]             10107\n",
            "gen/LSTM/07/FC3/W:0               [10107, 100]      1010700\n",
            "gen/LSTM/07/FC3/b:0               [100]                 100\n",
            "gen/LSTM/07/attw:0                [8, 1, 1]               8\n",
            "gen/LSTM/08/FC/W:0                [100, 100]          10000\n",
            "gen/LSTM/08/FC/b:0                [100]                 100\n",
            "gen/LSTM/08/FC2/W:0               [100, 21]            2100\n",
            "gen/LSTM/08/FC2/b:0               [21]                   21\n",
            "gen/LSTM/08/FC3/W:0               [21, 100]            2100\n",
            "gen/LSTM/08/FC3/b:0               [100]                 100\n",
            "gen/LSTM/08/attw:0                [9, 1, 1]               9\n",
            "gen/LSTM/09/FC/W:0                [100, 100]          10000\n",
            "gen/LSTM/09/FC/b:0                [100]                 100\n",
            "gen/LSTM/09/FC2/W:0               [100, 7]              700\n",
            "gen/LSTM/09/FC2/b:0               [7]                     7\n",
            "gen/LSTM/09/FC3/W:0               [7, 100]              700\n",
            "gen/LSTM/09/FC3/b:0               [100]                 100\n",
            "gen/LSTM/09/attw:0                [10, 1, 1]             10\n",
            "gen/LSTM/10/FC/W:0                [100, 100]          10000\n",
            "gen/LSTM/10/FC/b:0                [100]                 100\n",
            "gen/LSTM/10/FC2/W:0               [100, 40]            4000\n",
            "gen/LSTM/10/FC2/b:0               [40]                   40\n",
            "gen/LSTM/10/FC3/W:0               [40, 100]            4000\n",
            "gen/LSTM/10/FC3/b:0               [100]                 100\n",
            "gen/LSTM/10/attw:0                [11, 1, 1]             11\n",
            "gen/LSTM/11/FC/W:0                [100, 100]          10000\n",
            "gen/LSTM/11/FC/b:0                [100]                 100\n",
            "gen/LSTM/11/FC2/W:0               [100, 649]          64900\n",
            "gen/LSTM/11/FC2/b:0               [649]                 649\n",
            "gen/LSTM/11/FC3/W:0               [649, 100]          64900\n",
            "gen/LSTM/11/FC3/b:0               [100]                 100\n",
            "gen/LSTM/11/attw:0                [12, 1, 1]             12\n",
            "gen/LSTM/12/FC/W:0                [100, 100]          10000\n",
            "gen/LSTM/12/FC/b:0                [100]                 100\n",
            "gen/LSTM/12/FC2/W:0               [100, 2455]        245500\n",
            "gen/LSTM/12/FC2/b:0               [2455]               2455\n",
            "gen/LSTM/12/FC3/W:0               [2455, 100]        245500\n",
            "gen/LSTM/12/FC3/b:0               [100]                 100\n",
            "gen/LSTM/12/attw:0                [13, 1, 1]             13\n",
            "gen/LSTM/13/FC/W:0                [100, 100]          10000\n",
            "gen/LSTM/13/FC/b:0                [100]                 100\n",
            "gen/LSTM/13/FC2/W:0               [100, 332]          33200\n",
            "gen/LSTM/13/FC2/b:0               [332]                 332\n",
            "gen/LSTM/13/FC3/W:0               [332, 100]          33200\n",
            "gen/LSTM/13/FC3/b:0               [100]                 100\n",
            "gen/LSTM/13/attw:0                [14, 1, 1]             14\n",
            "gen/LSTM/14/FC/W:0                [100, 100]          10000\n",
            "gen/LSTM/14/FC/b:0                [100]                 100\n",
            "gen/LSTM/14/FC2/W:0               [100, 13591]      1359100\n",
            "gen/LSTM/14/FC2/b:0               [13591]             13591\n",
            "gen/LSTM/14/FC3/W:0               [13591, 100]      1359100\n",
            "gen/LSTM/14/FC3/b:0               [100]                 100\n",
            "gen/LSTM/14/attw:0                [15, 1, 1]             15\n",
            "gen/LSTM/15/FC/W:0                [100, 100]          10000\n",
            "gen/LSTM/15/FC/b:0                [100]                 100\n",
            "gen/LSTM/15/FC2/W:0               [100, 13185]      1318500\n",
            "gen/LSTM/15/FC2/b:0               [13185]             13185\n",
            "gen/LSTM/15/FC3/W:0               [13185, 100]      1318500\n",
            "gen/LSTM/15/FC3/b:0               [100]                 100\n",
            "gen/LSTM/15/attw:0                [16, 1, 1]             16\n",
            "gen/LSTM/16/FC/W:0                [100, 100]          10000\n",
            "gen/LSTM/16/FC/b:0                [100]                 100\n",
            "gen/LSTM/16/FC2/W:0               [100, 455]          45500\n",
            "gen/LSTM/16/FC2/b:0               [455]                 455\n",
            "gen/LSTM/16/FC3/W:0               [455, 100]          45500\n",
            "gen/LSTM/16/FC3/b:0               [100]                 100\n",
            "gen/LSTM/16/attw:0                [17, 1, 1]             17\n",
            "discrim/dis_fc0/fc/W:0            [64836, 100]      6483600\n",
            "discrim/dis_fc0/fc/b:0            [100]                 100\n",
            "discrim/dis_fc0/fc_diversity/W:0  [100, 100]          10000\n",
            "discrim/dis_fc0/fc_diversity/b:0  [100]                 100\n",
            "discrim/dis_fc0/bn/beta:0         [110]                 110\n",
            "discrim/dis_fc_top/W:0            [110, 1]              110\n",
            "discrim/dis_fc_top/b:0            [1]                     1\u001b[36m\n",
            "Number of trainable variables: 129\n",
            "Number of parameters (elements): 19900110\n",
            "Storage space needed for all trainable variables: 75.91MB\u001b[0m\n",
            "\u001b[32m[1221 12:02:16 @base.py:209]\u001b[0m Setup callbacks graph ...\n",
            "WARNING:tensorflow:From /usr/local/lib/python3.7/dist-packages/tensorpack/callbacks/graph.py:54: The name tf.train.SessionRunArgs is deprecated. Please use tf.estimator.SessionRunArgs instead.\n",
            "\n",
            "WARNING:tensorflow:From /usr/local/lib/python3.7/dist-packages/tensorpack/tfutils/common.py:75: The name tf.VariableScope is deprecated. Please use tf.compat.v1.VariableScope instead.\n",
            "\n",
            "WARNING:tensorflow:From /usr/local/lib/python3.7/dist-packages/tensorpack/tfutils/common.py:77: The name tf.train.get_or_create_global_step is deprecated. Please use tf.compat.v1.train.get_or_create_global_step instead.\n",
            "\n",
            "WARNING:tensorflow:From /usr/local/lib/python3.7/dist-packages/tensorpack/callbacks/steps.py:117: The name tf.assign_add is deprecated. Please use tf.compat.v1.assign_add instead.\n",
            "\n",
            "WARNING:tensorflow:From /usr/local/lib/python3.7/dist-packages/tensorpack/callbacks/saver.py:55: The name tf.train.Saver is deprecated. Please use tf.compat.v1.train.Saver instead.\n",
            "\n",
            "WARNING:tensorflow:From /usr/local/lib/python3.7/dist-packages/tensorpack/callbacks/saver.py:59: The name tf.train.SaverDef is deprecated. Please use tf.compat.v1.train.SaverDef instead.\n",
            "\n",
            "\u001b[32m[1221 12:02:17 @summary.py:46]\u001b[0m [MovingAverageSummary] 6 operations in collection 'MOVING_SUMMARY_OPS' will be run with session hooks.\n",
            "\u001b[32m[1221 12:02:17 @summary.py:93]\u001b[0m Summarizing collection 'summaries' of size 9.\n",
            "WARNING:tensorflow:From /usr/local/lib/python3.7/dist-packages/tensorpack/callbacks/summary.py:94: The name tf.summary.merge_all is deprecated. Please use tf.compat.v1.summary.merge_all instead.\n",
            "\n",
            "\u001b[32m[1221 12:02:17 @graph.py:98]\u001b[0m Applying collection UPDATE_OPS of 4 ops.\n",
            "WARNING:tensorflow:From /usr/local/lib/python3.7/dist-packages/tensorpack/callbacks/monitor.py:261: The name tf.summary.FileWriter is deprecated. Please use tf.compat.v1.summary.FileWriter instead.\n",
            "\n",
            "\u001b[32m[1221 12:02:18 @base.py:230]\u001b[0m Creating the session ...\n",
            "WARNING:tensorflow:From /usr/local/lib/python3.7/dist-packages/tensorpack/tfutils/sesscreate.py:42: The name tf.Session is deprecated. Please use tf.compat.v1.Session instead.\n",
            "\n",
            "WARNING:tensorflow:From /usr/local/lib/python3.7/dist-packages/tensorpack/tfutils/sesscreate.py:71: The name tf.global_variables_initializer is deprecated. Please use tf.compat.v1.global_variables_initializer instead.\n",
            "\n",
            "WARNING:tensorflow:From /usr/local/lib/python3.7/dist-packages/tensorpack/tfutils/sesscreate.py:62: get_backward_walk_ops (from tensorflow.contrib.graph_editor.select) is deprecated and will be removed after 2019-06-06.\n",
            "Instructions for updating:\n",
            "Please use tensorflow.python.ops.op_selector.get_backward_walk_ops.\n",
            "WARNING:tensorflow:From /usr/local/lib/python3.7/dist-packages/tensorpack/tfutils/sesscreate.py:72: The name tf.local_variables_initializer is deprecated. Please use tf.compat.v1.local_variables_initializer instead.\n",
            "\n",
            "WARNING:tensorflow:From /usr/local/lib/python3.7/dist-packages/tensorpack/tfutils/sesscreate.py:73: The name tf.tables_initializer is deprecated. Please use tf.compat.v1.tables_initializer instead.\n",
            "\n",
            "WARNING:tensorflow:From /usr/local/lib/python3.7/dist-packages/tensorpack/train/base.py:254: The name tf.train.MonitoredSession is deprecated. Please use tf.compat.v1.train.MonitoredSession instead.\n",
            "\n",
            "\u001b[32m[1221 12:02:22 @base.py:236]\u001b[0m Initializing the session ...\n",
            "\u001b[32m[1221 12:02:22 @base.py:243]\u001b[0m Graph Finalized.\n",
            "WARNING:tensorflow:From /usr/local/lib/python3.7/dist-packages/tensorpack/tfutils/common.py:89: The name tf.train.global_step is deprecated. Please use tf.compat.v1.train.global_step instead.\n",
            "\n",
            "WARNING:tensorflow:From /usr/local/lib/python3.7/dist-packages/tensorpack/tfutils/common.py:90: The name tf.get_default_session is deprecated. Please use tf.compat.v1.get_default_session instead.\n",
            "\n",
            "\u001b[32m[1221 12:02:22 @concurrency.py:38]\u001b[0m Starting EnqueueThread QueueInput/input_queue ...\n",
            "WARNING:tensorflow:From /usr/local/lib/python3.7/dist-packages/tensorpack/callbacks/monitor.py:309: The name tf.gfile.Exists is deprecated. Please use tf.io.gfile.exists instead.\n",
            "\n",
            "\u001b[32m[1221 12:02:23 @base.py:275]\u001b[0m Start Epoch 1 ...\n"
          ]
        },
        {
          "output_type": "stream",
          "name": "stderr",
          "text": [
            "100%|#########9|4992/5000[02:54<00:00,30.99it/s]"
          ]
        },
        {
          "output_type": "stream",
          "name": "stdout",
          "text": [
            "WARNING:tensorflow:From /usr/local/lib/python3.7/dist-packages/tensorpack/callbacks/monitor.py:148: The name tf.Summary is deprecated. Please use tf.compat.v1.Summary instead.\n",
            "\n"
          ]
        },
        {
          "output_type": "stream",
          "name": "stderr",
          "text": [
            "\r100%|##########|5000/5000[02:57<00:00,28.21it/s]"
          ]
        },
        {
          "output_type": "stream",
          "name": "stdout",
          "text": [
            "\u001b[32m[1221 12:05:20 @base.py:285]\u001b[0m Epoch 1 (global_step 5000) finished, time:2 minutes 57 seconds.\n",
            "WARNING:tensorflow:From /usr/local/lib/python3.7/dist-packages/tensorpack/callbacks/saver.py:77: The name tf.train.get_global_step is deprecated. Please use tf.compat.v1.train.get_global_step instead.\n",
            "\n"
          ]
        },
        {
          "output_type": "stream",
          "name": "stderr",
          "text": [
            "\n"
          ]
        },
        {
          "output_type": "stream",
          "name": "stdout",
          "text": [
            "\u001b[32m[1221 12:05:21 @saver.py:79]\u001b[0m Model saved to output/model/model-5000.\n",
            "\u001b[32m[1221 12:05:21 @monitor.py:467]\u001b[0m GAN_loss/discrim/accuracy_fake: 0.9\n",
            "\u001b[32m[1221 12:05:21 @monitor.py:467]\u001b[0m GAN_loss/discrim/accuracy_real: 0.1\n",
            "\u001b[32m[1221 12:05:21 @monitor.py:467]\u001b[0m GAN_loss/discrim/loss: 0.65898\n",
            "\u001b[32m[1221 12:05:21 @monitor.py:467]\u001b[0m GAN_loss/gen/final-g-loss: 1.0278\n",
            "\u001b[32m[1221 12:05:21 @monitor.py:467]\u001b[0m GAN_loss/gen/klloss: 0.088894\n",
            "\u001b[32m[1221 12:05:21 @monitor.py:467]\u001b[0m GAN_loss/gen/loss: 0.9389\n",
            "\u001b[32m[1221 12:05:21 @monitor.py:467]\u001b[0m QueueInput/queue_size: 50\n",
            "\u001b[32m[1221 12:05:21 @base.py:275]\u001b[0m Start Epoch 2 ...\n"
          ]
        },
        {
          "output_type": "stream",
          "name": "stderr",
          "text": [
            "100%|##########|5000/5000[02:42<00:00,30.83it/s]"
          ]
        },
        {
          "output_type": "stream",
          "name": "stdout",
          "text": [
            "\u001b[32m[1221 12:08:03 @base.py:285]\u001b[0m Epoch 2 (global_step 10000) finished, time:2 minutes 42 seconds.\n"
          ]
        },
        {
          "output_type": "stream",
          "name": "stderr",
          "text": [
            "\n"
          ]
        },
        {
          "output_type": "stream",
          "name": "stdout",
          "text": [
            "\u001b[32m[1221 12:08:04 @saver.py:79]\u001b[0m Model saved to output/model/model-10000.\n",
            "\u001b[32m[1221 12:08:04 @monitor.py:467]\u001b[0m GAN_loss/discrim/accuracy_fake: 0.93\n",
            "\u001b[32m[1221 12:08:04 @monitor.py:467]\u001b[0m GAN_loss/discrim/accuracy_real: 0.26\n",
            "\u001b[32m[1221 12:08:04 @monitor.py:467]\u001b[0m GAN_loss/discrim/loss: 0.63199\n",
            "\u001b[32m[1221 12:08:04 @monitor.py:467]\u001b[0m GAN_loss/gen/final-g-loss: 1.0272\n",
            "\u001b[32m[1221 12:08:04 @monitor.py:467]\u001b[0m GAN_loss/gen/klloss: 0.075192\n",
            "\u001b[32m[1221 12:08:04 @monitor.py:467]\u001b[0m GAN_loss/gen/loss: 0.95204\n",
            "\u001b[32m[1221 12:08:04 @monitor.py:467]\u001b[0m QueueInput/queue_size: 50\n",
            "\u001b[32m[1221 12:08:04 @base.py:275]\u001b[0m Start Epoch 3 ...\n"
          ]
        },
        {
          "output_type": "stream",
          "name": "stderr",
          "text": [
            "100%|##########|5000/5000[02:41<00:00,31.00it/s]"
          ]
        },
        {
          "output_type": "stream",
          "name": "stdout",
          "text": [
            "\u001b[32m[1221 12:10:45 @base.py:285]\u001b[0m Epoch 3 (global_step 15000) finished, time:2 minutes 41 seconds.\n"
          ]
        },
        {
          "output_type": "stream",
          "name": "stderr",
          "text": [
            "\n"
          ]
        },
        {
          "output_type": "stream",
          "name": "stdout",
          "text": [
            "\u001b[32m[1221 12:10:46 @saver.py:79]\u001b[0m Model saved to output/model/model-15000.\n",
            "\u001b[32m[1221 12:10:46 @monitor.py:467]\u001b[0m GAN_loss/discrim/accuracy_fake: 0.93\n",
            "\u001b[32m[1221 12:10:46 @monitor.py:467]\u001b[0m GAN_loss/discrim/accuracy_real: 0.15\n",
            "\u001b[32m[1221 12:10:46 @monitor.py:467]\u001b[0m GAN_loss/discrim/loss: 0.63143\n",
            "\u001b[32m[1221 12:10:46 @monitor.py:467]\u001b[0m GAN_loss/gen/final-g-loss: 1.0647\n",
            "\u001b[32m[1221 12:10:46 @monitor.py:467]\u001b[0m GAN_loss/gen/klloss: 0.047263\n",
            "\u001b[32m[1221 12:10:46 @monitor.py:467]\u001b[0m GAN_loss/gen/loss: 1.0174\n",
            "\u001b[32m[1221 12:10:46 @monitor.py:467]\u001b[0m QueueInput/queue_size: 50\n",
            "\u001b[32m[1221 12:10:46 @base.py:275]\u001b[0m Start Epoch 4 ...\n"
          ]
        },
        {
          "output_type": "stream",
          "name": "stderr",
          "text": [
            "100%|##########|5000/5000[02:41<00:00,31.02it/s]"
          ]
        },
        {
          "output_type": "stream",
          "name": "stdout",
          "text": [
            "\u001b[32m[1221 12:13:27 @base.py:285]\u001b[0m Epoch 4 (global_step 20000) finished, time:2 minutes 41 seconds.\n"
          ]
        },
        {
          "output_type": "stream",
          "name": "stderr",
          "text": [
            "\n"
          ]
        },
        {
          "output_type": "stream",
          "name": "stdout",
          "text": [
            "\u001b[32m[1221 12:13:27 @saver.py:79]\u001b[0m Model saved to output/model/model-20000.\n",
            "\u001b[32m[1221 12:13:27 @monitor.py:467]\u001b[0m GAN_loss/discrim/accuracy_fake: 0.98\n",
            "\u001b[32m[1221 12:13:27 @monitor.py:467]\u001b[0m GAN_loss/discrim/accuracy_real: 0.09\n",
            "\u001b[32m[1221 12:13:27 @monitor.py:467]\u001b[0m GAN_loss/discrim/loss: 0.62532\n",
            "\u001b[32m[1221 12:13:27 @monitor.py:467]\u001b[0m GAN_loss/gen/final-g-loss: 1.0665\n",
            "\u001b[32m[1221 12:13:27 @monitor.py:467]\u001b[0m GAN_loss/gen/klloss: 0.059515\n",
            "\u001b[32m[1221 12:13:27 @monitor.py:467]\u001b[0m GAN_loss/gen/loss: 1.0069\n",
            "\u001b[32m[1221 12:13:27 @monitor.py:467]\u001b[0m QueueInput/queue_size: 50\n",
            "\u001b[32m[1221 12:13:27 @base.py:275]\u001b[0m Start Epoch 5 ...\n"
          ]
        },
        {
          "output_type": "stream",
          "name": "stderr",
          "text": [
            "100%|##########|5000/5000[02:41<00:00,31.04it/s]"
          ]
        },
        {
          "output_type": "stream",
          "name": "stdout",
          "text": [
            "\u001b[32m[1221 12:16:08 @base.py:285]\u001b[0m Epoch 5 (global_step 25000) finished, time:2 minutes 41 seconds.\n"
          ]
        },
        {
          "output_type": "stream",
          "name": "stderr",
          "text": [
            "\n"
          ]
        },
        {
          "output_type": "stream",
          "name": "stdout",
          "text": [
            "\u001b[32m[1221 12:16:09 @saver.py:79]\u001b[0m Model saved to output/model/model-25000.\n",
            "\u001b[32m[1221 12:16:09 @monitor.py:467]\u001b[0m GAN_loss/discrim/accuracy_fake: 0.95\n",
            "\u001b[32m[1221 12:16:09 @monitor.py:467]\u001b[0m GAN_loss/discrim/accuracy_real: 0.16\n",
            "\u001b[32m[1221 12:16:09 @monitor.py:467]\u001b[0m GAN_loss/discrim/loss: 0.6384\n",
            "\u001b[32m[1221 12:16:09 @monitor.py:467]\u001b[0m GAN_loss/gen/final-g-loss: 1.034\n",
            "\u001b[32m[1221 12:16:09 @monitor.py:467]\u001b[0m GAN_loss/gen/klloss: 0.07838\n",
            "\u001b[32m[1221 12:16:09 @monitor.py:467]\u001b[0m GAN_loss/gen/loss: 0.9556\n",
            "\u001b[32m[1221 12:16:09 @monitor.py:467]\u001b[0m QueueInput/queue_size: 50\n",
            "\u001b[32m[1221 12:16:09 @base.py:289]\u001b[0m Training has finished!\n",
            "WARNING:tensorflow:From /usr/local/lib/python3.7/dist-packages/tensorpack/predict/config.py:101: The name tf.train.ChiefSessionCreator is deprecated. Please use tf.compat.v1.train.ChiefSessionCreator instead.\n",
            "\n",
            "\u001b[32m[1221 12:16:09 @input_source.py:178]\u001b[0m EnqueueThread QueueInput/input_queue Exited.\n",
            "WARNING:tensorflow:From /usr/local/lib/python3.7/dist-packages/tensorpack/tfutils/collection.py:45: The name tf.get_collection_ref is deprecated. Please use tf.compat.v1.get_collection_ref instead.\n",
            "\n",
            "\u001b[32m[1221 12:16:11 @collection.py:146]\u001b[0m New collections created in tower : tf.GraphKeys.REGULARIZATION_LOSSES\n",
            "\u001b[32m[1221 12:16:11 @collection.py:165]\u001b[0m These collections were modified but restored in : (tf.GraphKeys.SUMMARIES: 0->2)\n",
            "WARNING:tensorflow:From /usr/local/lib/python3.7/dist-packages/tensorpack/tfutils/sessinit.py:120: The name tf.train.NewCheckpointReader is deprecated. Please use tf.compat.v1.train.NewCheckpointReader instead.\n",
            "\n",
            "WARNING:tensorflow:From /usr/local/lib/python3.7/dist-packages/tensorpack/tfutils/sessinit.py:127: The name tf.global_variables is deprecated. Please use tf.compat.v1.global_variables instead.\n",
            "\n",
            "\u001b[32m[1221 12:16:11 @sessinit.py:87]\u001b[0m \u001b[5m\u001b[31mWRN\u001b[0m The following variables are in the checkpoint, but not found in the graph: global_step, optimize/beta1_power, optimize/beta2_power\n",
            "INFO:tensorflow:Graph was finalized.\n",
            "INFO:tensorflow:Running local_init_op.\n",
            "INFO:tensorflow:Done running local_init_op.\n",
            "\u001b[32m[1221 12:16:12 @sessinit.py:114]\u001b[0m Restoring checkpoint from output/model/model-25000 ...\n",
            "INFO:tensorflow:Restoring parameters from output/model/model-25000\n"
          ]
        }
      ]
    },
    {
      "cell_type": "code",
      "metadata": {
        "colab": {
          "base_uri": "https://localhost:8080/",
          "height": 242
        },
        "id": "Bf4l9pM48PeA",
        "outputId": "38d14c8a-624a-4a1f-ec88-42e4e0747e6d"
      },
      "source": [
        "num_samples = 50000\n",
        "\n",
        "train_sample = tgan.sample(num_samples)\n",
        "\n",
        "print(train_sample.shape)\n",
        "\n",
        "train_sample.head(3)"
      ],
      "execution_count": null,
      "outputs": [
        {
          "output_type": "stream",
          "name": "stderr",
          "text": [
            "|          |499/?[00:07<00:00,71.21it/s]"
          ]
        },
        {
          "output_type": "stream",
          "name": "stdout",
          "text": [
            "(50000, 17)\n"
          ]
        },
        {
          "output_type": "stream",
          "name": "stderr",
          "text": [
            "\n"
          ]
        },
        {
          "output_type": "execute_result",
          "data": {
            "text/html": [
              "\n",
              "  <div id=\"df-9f35986e-9a35-419a-8bc5-7b0cce957f0a\">\n",
              "    <div class=\"colab-df-container\">\n",
              "      <div>\n",
              "<style scoped>\n",
              "    .dataframe tbody tr th:only-of-type {\n",
              "        vertical-align: middle;\n",
              "    }\n",
              "\n",
              "    .dataframe tbody tr th {\n",
              "        vertical-align: top;\n",
              "    }\n",
              "\n",
              "    .dataframe thead th {\n",
              "        text-align: right;\n",
              "    }\n",
              "</style>\n",
              "<table border=\"1\" class=\"dataframe\">\n",
              "  <thead>\n",
              "    <tr style=\"text-align: right;\">\n",
              "      <th></th>\n",
              "      <th>Rank</th>\n",
              "      <th>Name</th>\n",
              "      <th>basename</th>\n",
              "      <th>Genre</th>\n",
              "      <th>ESRB_Rating</th>\n",
              "      <th>Platform</th>\n",
              "      <th>Publisher</th>\n",
              "      <th>Developer</th>\n",
              "      <th>Critic_Score</th>\n",
              "      <th>User_Score</th>\n",
              "      <th>Year</th>\n",
              "      <th>Last_Update</th>\n",
              "      <th>url</th>\n",
              "      <th>status</th>\n",
              "      <th>Vgchartzscore</th>\n",
              "      <th>img_url</th>\n",
              "      <th>Global_Sales</th>\n",
              "    </tr>\n",
              "  </thead>\n",
              "  <tbody>\n",
              "    <tr>\n",
              "      <th>0</th>\n",
              "      <td>-0.8302233283072288</td>\n",
              "      <td>0.07904834342215986</td>\n",
              "      <td>0.022465580452656453</td>\n",
              "      <td>-1.912342755368196</td>\n",
              "      <td>0.0</td>\n",
              "      <td>0.03376941899612632</td>\n",
              "      <td>5339.0</td>\n",
              "      <td>5636.0</td>\n",
              "      <td>18.0</td>\n",
              "      <td>1.0</td>\n",
              "      <td>20.0</td>\n",
              "      <td>nan</td>\n",
              "      <td>1850.0</td>\n",
              "      <td>233.0</td>\n",
              "      <td>12459.0</td>\n",
              "      <td>6249.0</td>\n",
              "      <td>nan</td>\n",
              "    </tr>\n",
              "    <tr>\n",
              "      <th>1</th>\n",
              "      <td>nan</td>\n",
              "      <td>nan</td>\n",
              "      <td>nan</td>\n",
              "      <td>nan</td>\n",
              "      <td>nan</td>\n",
              "      <td>nan</td>\n",
              "      <td>nan</td>\n",
              "      <td>nan</td>\n",
              "      <td>nan</td>\n",
              "      <td>nan</td>\n",
              "      <td>nan</td>\n",
              "      <td>nan</td>\n",
              "      <td>nan</td>\n",
              "      <td>nan</td>\n",
              "      <td>nan</td>\n",
              "      <td>nan</td>\n",
              "      <td>0.02</td>\n",
              "    </tr>\n",
              "    <tr>\n",
              "      <th>2</th>\n",
              "      <td>nan</td>\n",
              "      <td>0.07904834342215986</td>\n",
              "      <td>0.022465580452656453</td>\n",
              "      <td>-1.912342755368196</td>\n",
              "      <td>0.0</td>\n",
              "      <td>0.03376941899612632</td>\n",
              "      <td>5339.0</td>\n",
              "      <td>5636.0</td>\n",
              "      <td>5.0</td>\n",
              "      <td>1.0</td>\n",
              "      <td>20.0</td>\n",
              "      <td>77.0</td>\n",
              "      <td>1850.0</td>\n",
              "      <td>233.0</td>\n",
              "      <td>12459.0</td>\n",
              "      <td>6249.0</td>\n",
              "      <td>nan</td>\n",
              "    </tr>\n",
              "  </tbody>\n",
              "</table>\n",
              "</div>\n",
              "      <button class=\"colab-df-convert\" onclick=\"convertToInteractive('df-9f35986e-9a35-419a-8bc5-7b0cce957f0a')\"\n",
              "              title=\"Convert this dataframe to an interactive table.\"\n",
              "              style=\"display:none;\">\n",
              "        \n",
              "  <svg xmlns=\"http://www.w3.org/2000/svg\" height=\"24px\"viewBox=\"0 0 24 24\"\n",
              "       width=\"24px\">\n",
              "    <path d=\"M0 0h24v24H0V0z\" fill=\"none\"/>\n",
              "    <path d=\"M18.56 5.44l.94 2.06.94-2.06 2.06-.94-2.06-.94-.94-2.06-.94 2.06-2.06.94zm-11 1L8.5 8.5l.94-2.06 2.06-.94-2.06-.94L8.5 2.5l-.94 2.06-2.06.94zm10 10l.94 2.06.94-2.06 2.06-.94-2.06-.94-.94-2.06-.94 2.06-2.06.94z\"/><path d=\"M17.41 7.96l-1.37-1.37c-.4-.4-.92-.59-1.43-.59-.52 0-1.04.2-1.43.59L10.3 9.45l-7.72 7.72c-.78.78-.78 2.05 0 2.83L4 21.41c.39.39.9.59 1.41.59.51 0 1.02-.2 1.41-.59l7.78-7.78 2.81-2.81c.8-.78.8-2.07 0-2.86zM5.41 20L4 18.59l7.72-7.72 1.47 1.35L5.41 20z\"/>\n",
              "  </svg>\n",
              "      </button>\n",
              "      \n",
              "  <style>\n",
              "    .colab-df-container {\n",
              "      display:flex;\n",
              "      flex-wrap:wrap;\n",
              "      gap: 12px;\n",
              "    }\n",
              "\n",
              "    .colab-df-convert {\n",
              "      background-color: #E8F0FE;\n",
              "      border: none;\n",
              "      border-radius: 50%;\n",
              "      cursor: pointer;\n",
              "      display: none;\n",
              "      fill: #1967D2;\n",
              "      height: 32px;\n",
              "      padding: 0 0 0 0;\n",
              "      width: 32px;\n",
              "    }\n",
              "\n",
              "    .colab-df-convert:hover {\n",
              "      background-color: #E2EBFA;\n",
              "      box-shadow: 0px 1px 2px rgba(60, 64, 67, 0.3), 0px 1px 3px 1px rgba(60, 64, 67, 0.15);\n",
              "      fill: #174EA6;\n",
              "    }\n",
              "\n",
              "    [theme=dark] .colab-df-convert {\n",
              "      background-color: #3B4455;\n",
              "      fill: #D2E3FC;\n",
              "    }\n",
              "\n",
              "    [theme=dark] .colab-df-convert:hover {\n",
              "      background-color: #434B5C;\n",
              "      box-shadow: 0px 1px 3px 1px rgba(0, 0, 0, 0.15);\n",
              "      filter: drop-shadow(0px 1px 2px rgba(0, 0, 0, 0.3));\n",
              "      fill: #FFFFFF;\n",
              "    }\n",
              "  </style>\n",
              "\n",
              "      <script>\n",
              "        const buttonEl =\n",
              "          document.querySelector('#df-9f35986e-9a35-419a-8bc5-7b0cce957f0a button.colab-df-convert');\n",
              "        buttonEl.style.display =\n",
              "          google.colab.kernel.accessAllowed ? 'block' : 'none';\n",
              "\n",
              "        async function convertToInteractive(key) {\n",
              "          const element = document.querySelector('#df-9f35986e-9a35-419a-8bc5-7b0cce957f0a');\n",
              "          const dataTable =\n",
              "            await google.colab.kernel.invokeFunction('convertToInteractive',\n",
              "                                                     [key], {});\n",
              "          if (!dataTable) return;\n",
              "\n",
              "          const docLinkHtml = 'Like what you see? Visit the ' +\n",
              "            '<a target=\"_blank\" href=https://colab.research.google.com/notebooks/data_table.ipynb>data table notebook</a>'\n",
              "            + ' to learn more about interactive tables.';\n",
              "          element.innerHTML = '';\n",
              "          dataTable['output_type'] = 'display_data';\n",
              "          await google.colab.output.renderOutput(dataTable, element);\n",
              "          const docLink = document.createElement('div');\n",
              "          docLink.innerHTML = docLinkHtml;\n",
              "          element.appendChild(docLink);\n",
              "        }\n",
              "      </script>\n",
              "    </div>\n",
              "  </div>\n",
              "  "
            ],
            "text/plain": [
              "                  Rank                 Name  ... img_url Global_Sales\n",
              "0  -0.8302233283072288  0.07904834342215986  ...  6249.0          nan\n",
              "1                  nan                  nan  ...     nan         0.02\n",
              "2                  nan  0.07904834342215986  ...  6249.0          nan\n",
              "\n",
              "[3 rows x 17 columns]"
            ]
          },
          "metadata": {},
          "execution_count": 15
        }
      ]
    },
    {
      "cell_type": "code",
      "metadata": {
        "id": "JlNGojriwY3O"
      },
      "source": [
        "train_sample_fillna = train_sample.astype(float)\n",
        "\n",
        "train_sample_fillna = train_sample_fillna.fillna(method='ffill')\n",
        "\n",
        "train_sample_fillna = train_sample_fillna.dropna(axis=0)\n",
        "\n",
        "train_sample_fillna = train_sample_fillna.reset_index(drop=True)\n",
        "\n",
        "X_train_sample_fillna,  y_train_sample_fillna = train_sample_fillna.drop([\"Global_Sales\"], axis=1), train_sample_fillna[\"Global_Sales\"]"
      ],
      "execution_count": null,
      "outputs": []
    },
    {
      "cell_type": "code",
      "source": [
        "print(X_train[all_columns].shape, y_train.shape)\n",
        "\n",
        "print(X_train_sample_fillna.shape, y_train_sample_fillna.shape)"
      ],
      "metadata": {
        "colab": {
          "base_uri": "https://localhost:8080/"
        },
        "id": "bLEfU9h88lYY",
        "outputId": "96b16d31-6a39-4cd9-a24e-1e1bb2e46bdd"
      },
      "execution_count": null,
      "outputs": [
        {
          "output_type": "stream",
          "name": "stdout",
          "text": [
            "(13590, 16) (13590,)\n",
            "(49998, 16) (49998,)\n"
          ]
        }
      ]
    },
    {
      "cell_type": "code",
      "source": [
        "X_train_comb = pd.concat([\n",
        "           X_train_tf[all_columns],\n",
        "           X_train_sample_fillna\n",
        "]).reset_index(drop=True)\n",
        "\n",
        "y_train_comb = pd.concat([\n",
        "           y_train,\n",
        "           y_train_sample_fillna\n",
        "]).reset_index(drop=True)"
      ],
      "metadata": {
        "id": "Zy1Afley8-q8"
      },
      "execution_count": null,
      "outputs": []
    },
    {
      "cell_type": "code",
      "metadata": {
        "id": "8ZNYX3bo8X70",
        "colab": {
          "base_uri": "https://localhost:8080/"
        },
        "outputId": "4d3e20fd-eceb-49b8-ac29-53d9440cbbf1"
      },
      "source": [
        "# 学習・推論\n",
        "gkf = GroupKFold(n_splits=5)\n",
        "\n",
        "groups = X_train_comb[\"Genre\"]\n",
        "\n",
        "cv_result_tgan = []\n",
        "\n",
        "pred_df = pd.DataFrame()\n",
        "\n",
        "model = lgb.LGBMRegressor(random_state=42)\n",
        "\n",
        "for i, (train_index, test_index) in enumerate(gkf.split(X_train_comb, y_train_comb, groups)):\n",
        "    X_train_gkf, X_test_gkf = X_train_comb.iloc[train_index], X_train_comb.iloc[test_index]\n",
        "    y_train_gkf, y_test_gkf = y_train_comb.iloc[train_index], y_train_comb.iloc[test_index]\n",
        "\n",
        "    # 学習、推論\n",
        "    model.fit(X_train_gkf, y_train_gkf)\n",
        "\n",
        "    y_pred = model.predict(X_test_gkf)\n",
        "\n",
        "    rmse = mean_squared_error(y_test_gkf, y_pred, squared=False)\n",
        "    cv_result_tgan.append(rmse)\n",
        "\n",
        "    pred = pipe.predict(X_test)\n",
        "\n",
        "    pred_df[i] = pred\n",
        "\n",
        "print(\"RMSE:\", cv_result_tgan)\n",
        "print(\"RMSE:\", np.mean(cv_result_tgan))"
      ],
      "execution_count": null,
      "outputs": [
        {
          "output_type": "stream",
          "name": "stdout",
          "text": [
            "RMSE: [0.08032248007324973, 0.03429247024718503, 0.08799995748240287, 0.04285124463257716, 0.07190888337249346]\n",
            "RMSE: 0.06347500716158165\n"
          ]
        }
      ]
    },
    {
      "cell_type": "code",
      "source": [
        "rmse_test_tgan = mean_squared_error(y_test, pred_df.mean(axis=1), squared=False)\n",
        "print(rmse_test_tgan)"
      ],
      "metadata": {
        "colab": {
          "base_uri": "https://localhost:8080/"
        },
        "id": "wphwD8IC96xE",
        "outputId": "be36aa24-18be-4428-fad1-b22a24c5a82e"
      },
      "execution_count": null,
      "outputs": [
        {
          "output_type": "stream",
          "name": "stdout",
          "text": [
            "0.28956467284291515\n"
          ]
        }
      ]
    },
    {
      "cell_type": "code",
      "metadata": {
        "colab": {
          "base_uri": "https://localhost:8080/"
        },
        "id": "FIw0LU--0SDr",
        "outputId": "6c72a294-0240-421f-f66f-c920ae53063a"
      },
      "source": [
        "print(\"RMSE:\", round(rmse_test, 3))\n",
        "print(\"T-GAN によるデータ拡張 RMSE:\", round(rmse_test_tgan, 3))"
      ],
      "execution_count": null,
      "outputs": [
        {
          "output_type": "stream",
          "name": "stdout",
          "text": [
            "RMSE: 0.239\n",
            "T-GAN によるデータ拡張 RMSE: 0.29\n"
          ]
        }
      ]
    },
    {
      "cell_type": "code",
      "source": [
        ""
      ],
      "metadata": {
        "id": "fxK94us87Syl"
      },
      "execution_count": null,
      "outputs": []
    }
  ]
}