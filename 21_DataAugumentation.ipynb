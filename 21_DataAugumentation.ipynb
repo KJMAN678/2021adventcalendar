{
 "cells": [
  {
   "cell_type": "markdown",
   "metadata": {
    "id": "PBqKPKFtsiKi"
   },
   "source": [
    "## データの読込"
   ]
  },
  {
   "cell_type": "code",
   "execution_count": 1,
   "metadata": {
    "colab": {
     "base_uri": "https://localhost:8080/",
     "height": 294
    },
    "id": "TSY5GPLirTwt",
    "outputId": "8631601e-ce09-471f-af0b-4898def0617d"
   },
   "outputs": [
    {
     "data": {
      "text/html": [
       "<div>\n",
       "<style scoped>\n",
       "    .dataframe tbody tr th:only-of-type {\n",
       "        vertical-align: middle;\n",
       "    }\n",
       "\n",
       "    .dataframe tbody tr th {\n",
       "        vertical-align: top;\n",
       "    }\n",
       "\n",
       "    .dataframe thead th {\n",
       "        text-align: right;\n",
       "    }\n",
       "</style>\n",
       "<table border=\"1\" class=\"dataframe\">\n",
       "  <thead>\n",
       "    <tr style=\"text-align: right;\">\n",
       "      <th></th>\n",
       "      <th>Rank</th>\n",
       "      <th>Name</th>\n",
       "      <th>basename</th>\n",
       "      <th>Genre</th>\n",
       "      <th>ESRB_Rating</th>\n",
       "      <th>Platform</th>\n",
       "      <th>Publisher</th>\n",
       "      <th>Developer</th>\n",
       "      <th>VGChartz_Score</th>\n",
       "      <th>Critic_Score</th>\n",
       "      <th>...</th>\n",
       "      <th>NA_Sales</th>\n",
       "      <th>PAL_Sales</th>\n",
       "      <th>JP_Sales</th>\n",
       "      <th>Other_Sales</th>\n",
       "      <th>Year</th>\n",
       "      <th>Last_Update</th>\n",
       "      <th>url</th>\n",
       "      <th>status</th>\n",
       "      <th>Vgchartzscore</th>\n",
       "      <th>img_url</th>\n",
       "    </tr>\n",
       "  </thead>\n",
       "  <tbody>\n",
       "    <tr>\n",
       "      <th>0</th>\n",
       "      <td>1</td>\n",
       "      <td>Wii Sports</td>\n",
       "      <td>wii-sports</td>\n",
       "      <td>Sports</td>\n",
       "      <td>E</td>\n",
       "      <td>Wii</td>\n",
       "      <td>Nintendo</td>\n",
       "      <td>Nintendo EAD</td>\n",
       "      <td>NaN</td>\n",
       "      <td>7.7</td>\n",
       "      <td>...</td>\n",
       "      <td>NaN</td>\n",
       "      <td>NaN</td>\n",
       "      <td>NaN</td>\n",
       "      <td>NaN</td>\n",
       "      <td>2006.0</td>\n",
       "      <td>NaN</td>\n",
       "      <td>http://www.vgchartz.com/game/2667/wii-sports/?...</td>\n",
       "      <td>1</td>\n",
       "      <td>NaN</td>\n",
       "      <td>/games/boxart/full_2258645AmericaFrontccc.jpg</td>\n",
       "    </tr>\n",
       "    <tr>\n",
       "      <th>1</th>\n",
       "      <td>2</td>\n",
       "      <td>Super Mario Bros.</td>\n",
       "      <td>super-mario-bros</td>\n",
       "      <td>Platform</td>\n",
       "      <td>NaN</td>\n",
       "      <td>NES</td>\n",
       "      <td>Nintendo</td>\n",
       "      <td>Nintendo EAD</td>\n",
       "      <td>NaN</td>\n",
       "      <td>10.0</td>\n",
       "      <td>...</td>\n",
       "      <td>NaN</td>\n",
       "      <td>NaN</td>\n",
       "      <td>NaN</td>\n",
       "      <td>NaN</td>\n",
       "      <td>1985.0</td>\n",
       "      <td>NaN</td>\n",
       "      <td>http://www.vgchartz.com/game/6455/super-mario-...</td>\n",
       "      <td>1</td>\n",
       "      <td>NaN</td>\n",
       "      <td>/games/boxart/8972270ccc.jpg</td>\n",
       "    </tr>\n",
       "    <tr>\n",
       "      <th>2</th>\n",
       "      <td>3</td>\n",
       "      <td>Mario Kart Wii</td>\n",
       "      <td>mario-kart-wii</td>\n",
       "      <td>Racing</td>\n",
       "      <td>E</td>\n",
       "      <td>Wii</td>\n",
       "      <td>Nintendo</td>\n",
       "      <td>Nintendo EAD</td>\n",
       "      <td>NaN</td>\n",
       "      <td>8.2</td>\n",
       "      <td>...</td>\n",
       "      <td>NaN</td>\n",
       "      <td>NaN</td>\n",
       "      <td>NaN</td>\n",
       "      <td>NaN</td>\n",
       "      <td>2008.0</td>\n",
       "      <td>11th Apr 18</td>\n",
       "      <td>http://www.vgchartz.com/game/6968/mario-kart-w...</td>\n",
       "      <td>1</td>\n",
       "      <td>8.7</td>\n",
       "      <td>/games/boxart/full_8932480AmericaFrontccc.jpg</td>\n",
       "    </tr>\n",
       "  </tbody>\n",
       "</table>\n",
       "<p>3 rows × 23 columns</p>\n",
       "</div>"
      ],
      "text/plain": [
       "   Rank               Name          basename     Genre ESRB_Rating Platform  \\\n",
       "0     1         Wii Sports        wii-sports    Sports           E      Wii   \n",
       "1     2  Super Mario Bros.  super-mario-bros  Platform         NaN      NES   \n",
       "2     3     Mario Kart Wii    mario-kart-wii    Racing           E      Wii   \n",
       "\n",
       "  Publisher     Developer  VGChartz_Score  Critic_Score  ...  NA_Sales  \\\n",
       "0  Nintendo  Nintendo EAD             NaN           7.7  ...       NaN   \n",
       "1  Nintendo  Nintendo EAD             NaN          10.0  ...       NaN   \n",
       "2  Nintendo  Nintendo EAD             NaN           8.2  ...       NaN   \n",
       "\n",
       "   PAL_Sales  JP_Sales  Other_Sales    Year  Last_Update  \\\n",
       "0        NaN       NaN          NaN  2006.0          NaN   \n",
       "1        NaN       NaN          NaN  1985.0          NaN   \n",
       "2        NaN       NaN          NaN  2008.0  11th Apr 18   \n",
       "\n",
       "                                                 url  status Vgchartzscore  \\\n",
       "0  http://www.vgchartz.com/game/2667/wii-sports/?...       1           NaN   \n",
       "1  http://www.vgchartz.com/game/6455/super-mario-...       1           NaN   \n",
       "2  http://www.vgchartz.com/game/6968/mario-kart-w...       1           8.7   \n",
       "\n",
       "                                         img_url  \n",
       "0  /games/boxart/full_2258645AmericaFrontccc.jpg  \n",
       "1                   /games/boxart/8972270ccc.jpg  \n",
       "2  /games/boxart/full_8932480AmericaFrontccc.jpg  \n",
       "\n",
       "[3 rows x 23 columns]"
      ]
     },
     "execution_count": 1,
     "metadata": {},
     "output_type": "execute_result"
    }
   ],
   "source": [
    "import pandas as pd\n",
    "df = pd.read_csv(\"vgsales-12-4-2019.csv\")\n",
    "df.head(3)"
   ]
  },
  {
   "cell_type": "markdown",
   "metadata": {
    "id": "kzvuTGNlvfig"
   },
   "source": [
    "## データ拡張"
   ]
  },
  {
   "cell_type": "markdown",
   "metadata": {
    "id": "cpTNuELn8SAI"
   },
   "source": [
    "## TGAN"
   ]
  },
  {
   "cell_type": "code",
   "execution_count": 4,
   "metadata": {
    "colab": {
     "base_uri": "https://localhost:8080/"
    },
    "id": "wtC-UGSF35Ck",
    "outputId": "c6103cfa-11e7-4a9e-f27b-ddd756a60d86"
   },
   "outputs": [
    {
     "ename": "ModuleNotFoundError",
     "evalue": "No module named 'tgan'",
     "output_type": "error",
     "traceback": [
      "\u001b[1;31m---------------------------------------------------------------------------\u001b[0m",
      "\u001b[1;31mModuleNotFoundError\u001b[0m                       Traceback (most recent call last)",
      "\u001b[1;32m~\\AppData\\Local\\Temp/ipykernel_17248/719704359.py\u001b[0m in \u001b[0;36m<module>\u001b[1;34m\u001b[0m\n\u001b[0;32m     21\u001b[0m \u001b[1;33m\u001b[0m\u001b[0m\n\u001b[0;32m     22\u001b[0m \u001b[1;32mimport\u001b[0m \u001b[0mtensorflow\u001b[0m\u001b[1;33m\u001b[0m\u001b[1;33m\u001b[0m\u001b[0m\n\u001b[1;32m---> 23\u001b[1;33m \u001b[1;32mfrom\u001b[0m \u001b[0mtgan\u001b[0m\u001b[1;33m.\u001b[0m\u001b[0mdata\u001b[0m \u001b[1;32mimport\u001b[0m \u001b[0mload_demo_data\u001b[0m\u001b[1;33m\u001b[0m\u001b[1;33m\u001b[0m\u001b[0m\n\u001b[0m\u001b[0;32m     24\u001b[0m \u001b[1;32mfrom\u001b[0m \u001b[0mtgan\u001b[0m\u001b[1;33m.\u001b[0m\u001b[0mmodel\u001b[0m \u001b[1;32mimport\u001b[0m \u001b[0mTGANModel\u001b[0m\u001b[1;33m\u001b[0m\u001b[1;33m\u001b[0m\u001b[0m\n\u001b[0;32m     25\u001b[0m \u001b[1;33m\u001b[0m\u001b[0m\n",
      "\u001b[1;31mModuleNotFoundError\u001b[0m: No module named 'tgan'"
     ]
    }
   ],
   "source": [
    "import os\n",
    "import time\n",
    "import random\n",
    "import pickle\n",
    "import pandas as pd\n",
    "import numpy as np\n",
    "import matplotlib.pyplot as plt\n",
    "import japanize_matplotlib\n",
    "from natsort import natsorted \n",
    "\n",
    "import lightgbm as lgb\n",
    "from sklearn.model_selection import train_test_split\n",
    "from sklearn.metrics import mean_squared_error\n",
    "from sklearn.preprocessing import StandardScaler\n",
    "from sklearn.model_selection import GroupKFold\n",
    "from sklearn.impute import SimpleImputer\n",
    "from sklearn.preprocessing import OrdinalEncoder\n",
    "from sklearn.preprocessing import OneHotEncoder\n",
    "from sklearn.compose import ColumnTransformer\n",
    "from sklearn.pipeline import Pipeline\n",
    "\n",
    "import tensorflow\n",
    "from tgan.data import load_demo_data\n",
    "from tgan.model import TGANModel\n",
    "\n",
    "import warnings\n",
    "warnings.simplefilter('ignore')"
   ]
  },
  {
   "cell_type": "code",
   "execution_count": null,
   "metadata": {
    "id": "EdyYflokp7_8"
   },
   "outputs": [],
   "source": [
    "# シード値の固定\n",
    "SEED = 42\n",
    "\n",
    "random.seed(SEED)\n",
    "os.environ['PYTHONHASHSEED'] = str(SEED)\n",
    "np.random.seed(SEED)"
   ]
  },
  {
   "cell_type": "code",
   "execution_count": null,
   "metadata": {
    "id": "NivGYFrKqIBj"
   },
   "outputs": [],
   "source": [
    "X_train, X_test, y_train, y_test = train_test_split(\n",
    "                                                    df.dropna(subset=[\"Global_Sales\"]).drop([\"Global_Sales\",  \"NA_Sales\", \"PAL_Sales\", \"JP_Sales\", \"Other_Sales\"], axis=1), \n",
    "                                                    df.dropna(subset=[\"Global_Sales\"])[\"Global_Sales\"],  \n",
    "                                                    test_size=0.3,\n",
    "                                                    shuffle=True, \n",
    "                                                    random_state=SEED\n",
    "                                                    ) "
   ]
  },
  {
   "cell_type": "code",
   "execution_count": null,
   "metadata": {
    "id": "KRzgFot4qSbz"
   },
   "outputs": [],
   "source": [
    "### パイプライン\n",
    "\n",
    "# 数値データカラム名を取得\n",
    "number_columns = X_train.select_dtypes(include=\"number\").columns\n",
    "number_columns = list(number_columns)\n",
    "\n",
    "# カテゴリデータカラム名を取得\n",
    "category_columns = X_train.select_dtypes(include=\"object\").columns\n",
    "category_columns = list(category_columns)\n",
    "\n",
    "# カテゴリデータカラムの各カラムのカテゴリーの数を取得\n",
    "category_unique_num = X_train.select_dtypes(include=\"object\").nunique()\n",
    "\n",
    "# 数値データ用の変換\n",
    "numeric_transformer = Pipeline(steps=[\n",
    "    ('num_imputer', SimpleImputer(strategy='median')),\n",
    "    ('scaler', StandardScaler())]\n",
    ")\n",
    "\n",
    "# カテゴリーのエンコーディング法則を指定する\n",
    "ordinal_all_cols_mapping = []\n",
    "\n",
    "for column in df.select_dtypes(include=\"object\"):\n",
    "    ordinal_one_cols_mapping = []\n",
    "    for category in natsorted(X_train[column].unique()):\n",
    "        ordinal_one_cols_mapping.append(category)\n",
    "\n",
    "    ordinal_all_cols_mapping.append(ordinal_one_cols_mapping)\n",
    "\n",
    "\n",
    "# カテゴリー数が少ないカテゴリーデータ用の変換\n",
    "categorical_transformer = Pipeline(\n",
    "    steps=[\n",
    "        ('imputer', SimpleImputer(strategy='most_frequent')),\n",
    "        ('ordinal', OrdinalEncoder(\n",
    "                handle_unknown = 'use_encoded_value', # 未知数をunknown valueに置き換える設定\n",
    "                unknown_value = -1,\n",
    "                categories = ordinal_all_cols_mapping\n",
    "            )\n",
    "        )\n",
    "    ]\n",
    ")\n",
    "\n",
    "# ColumnTransformerの作成\n",
    "columns_transformers = ColumnTransformer(\n",
    "    transformers=[\n",
    "        ('num', numeric_transformer, number_columns),\n",
    "        ('category', categorical_transformer, category_columns),\n",
    "    ]\n",
    ")\n",
    "\n",
    "# カラム変換用のパイプラインの作成\n",
    "transformer = Pipeline(\n",
    "    [\n",
    "        (\"columns_transformers\", columns_transformers),\n",
    "    ]\n",
    ")\n",
    "\n",
    "# パイプラインの作成\n",
    "pipe = Pipeline(\n",
    "    [\n",
    "        (\"columns_transformers\", columns_transformers),\n",
    "        ('model', lgb.LGBMRegressor(random_state=42))\n",
    "     ]\n",
    ")"
   ]
  },
  {
   "cell_type": "code",
   "execution_count": null,
   "metadata": {
    "colab": {
     "base_uri": "https://localhost:8080/"
    },
    "id": "o3HSFh-Yt_At",
    "outputId": "3fe41190-6bd7-476e-a344-d8f4ba4c6866"
   },
   "outputs": [],
   "source": [
    "# 学習・推論\n",
    "gkf = GroupKFold(n_splits=5)\n",
    "\n",
    "groups = X_train[\"Genre\"]\n",
    "\n",
    "best_params, history = {}, []\n",
    "\n",
    "cv_result = []\n",
    "\n",
    "pred_df = pd.DataFrame()\n",
    "\n",
    "for i, (train_index, test_index) in enumerate(gkf.split(X_train, y_train, groups)):\n",
    "    X_train_gkf, X_test_gkf = X_train.iloc[train_index], X_train.iloc[test_index]\n",
    "    y_train_gkf, y_test_gkf = y_train.iloc[train_index], y_train.iloc[test_index]\n",
    "\n",
    "    # 学習、推論\n",
    "    pipe.fit(X_train_gkf, y_train_gkf)\n",
    "\n",
    "    y_pred = pipe.predict(X_test_gkf)\n",
    "\n",
    "    rmse = mean_squared_error(y_test_gkf, y_pred, squared=False)\n",
    "    cv_result.append(rmse)\n",
    "\n",
    "    pred = pipe.predict(X_test)\n",
    "\n",
    "    pred_df[i] = pred\n",
    "\n",
    "print(\"RMSE:\", cv_result)\n",
    "print(\"RMSE:\", np.mean(cv_result))"
   ]
  },
  {
   "cell_type": "code",
   "execution_count": null,
   "metadata": {
    "colab": {
     "base_uri": "https://localhost:8080/",
     "height": 206
    },
    "id": "tVsKyEdB8OIH",
    "outputId": "8be52ed2-072d-4931-ab77-e2b6403afb04"
   },
   "outputs": [],
   "source": [
    "pred_df.head()"
   ]
  },
  {
   "cell_type": "code",
   "execution_count": null,
   "metadata": {
    "colab": {
     "base_uri": "https://localhost:8080/"
    },
    "id": "Sdn97c_b8WDD",
    "outputId": "b6c4fe33-5b42-4a49-bdf8-00d77bdaaab5"
   },
   "outputs": [],
   "source": [
    "rmse_test = mean_squared_error(y_test, pred_df.mean(axis=1), squared=False)\n",
    "print(rmse_test)"
   ]
  },
  {
   "cell_type": "markdown",
   "metadata": {
    "id": "UT0dbxvAycP8"
   },
   "source": [
    "## TGAN"
   ]
  },
  {
   "cell_type": "code",
   "execution_count": null,
   "metadata": {
    "colab": {
     "base_uri": "https://localhost:8080/"
    },
    "id": "MMcvxjlosRhJ",
    "outputId": "6f464eef-decf-4696-c161-f0ce54caa655"
   },
   "outputs": [],
   "source": [
    "all_columns = X_test.columns.tolist()\n",
    "\n",
    "### Nullのみで削除されるカラムを削除\n",
    "print(len(all_columns))\n",
    "\n",
    "for column in [\"VGChartz_Score\", \"Total_Shipped\"]:\n",
    "    all_columns.remove(column)\n",
    "\n",
    "print(len(all_columns))"
   ]
  },
  {
   "cell_type": "code",
   "execution_count": null,
   "metadata": {
    "id": "Ory_eCHPuqg6"
   },
   "outputs": [],
   "source": [
    "X_train_tf = transformer.fit_transform(X_train)\n",
    "X_train_tf = pd.DataFrame(\n",
    "                          X_train_tf,\n",
    "                          columns = all_columns\n",
    "                        )\n",
    "\n",
    "X_test_tf = transformer.fit_transform(X_test)\n",
    "X_test_tf = pd.DataFrame(\n",
    "                          X_test_tf,\n",
    "                          columns = all_columns\n",
    "                        )"
   ]
  },
  {
   "cell_type": "code",
   "execution_count": null,
   "metadata": {
    "id": "E8SSlIQ1vAkD"
   },
   "outputs": [],
   "source": [
    "train_df = pd.concat([X_train_tf, y_train], axis=1)"
   ]
  },
  {
   "cell_type": "code",
   "execution_count": null,
   "metadata": {
    "colab": {
     "base_uri": "https://localhost:8080/"
    },
    "id": "h_BgS9Lt7eQJ",
    "outputId": "fa92df3f-f1e3-4aaf-b50d-a78b2f568ed6"
   },
   "outputs": [],
   "source": [
    "continuous_value_columns = [\"Rank\", \"Critic_Score\", \"User_Score\", \"Total_Shipped\", \"Global_Sales\", \"Year\"]\n",
    "\n",
    "tgan = TGANModel(\n",
    "    continuous_value_columns,\n",
    "    max_epoch=5,\n",
    "    steps_per_epoch=5000,\n",
    "    batch_size=100,\n",
    "    )\n",
    "\n",
    "tgan.fit(train_df)"
   ]
  },
  {
   "cell_type": "code",
   "execution_count": null,
   "metadata": {
    "colab": {
     "base_uri": "https://localhost:8080/",
     "height": 242
    },
    "id": "Bf4l9pM48PeA",
    "outputId": "38d14c8a-624a-4a1f-ec88-42e4e0747e6d"
   },
   "outputs": [],
   "source": [
    "num_samples = 50000\n",
    "\n",
    "train_sample = tgan.sample(num_samples)\n",
    "\n",
    "print(train_sample.shape)\n",
    "\n",
    "train_sample.head(3)"
   ]
  },
  {
   "cell_type": "code",
   "execution_count": null,
   "metadata": {
    "id": "JlNGojriwY3O"
   },
   "outputs": [],
   "source": [
    "train_sample_fillna = train_sample.astype(float)\n",
    "\n",
    "train_sample_fillna = train_sample_fillna.fillna(method='ffill')\n",
    "\n",
    "train_sample_fillna = train_sample_fillna.dropna(axis=0)\n",
    "\n",
    "train_sample_fillna = train_sample_fillna.reset_index(drop=True)\n",
    "\n",
    "X_train_sample_fillna,  y_train_sample_fillna = train_sample_fillna.drop([\"Global_Sales\"], axis=1), train_sample_fillna[\"Global_Sales\"]"
   ]
  },
  {
   "cell_type": "code",
   "execution_count": null,
   "metadata": {
    "colab": {
     "base_uri": "https://localhost:8080/"
    },
    "id": "bLEfU9h88lYY",
    "outputId": "96b16d31-6a39-4cd9-a24e-1e1bb2e46bdd"
   },
   "outputs": [],
   "source": [
    "print(X_train[all_columns].shape, y_train.shape)\n",
    "\n",
    "print(X_train_sample_fillna.shape, y_train_sample_fillna.shape)"
   ]
  },
  {
   "cell_type": "code",
   "execution_count": null,
   "metadata": {
    "id": "Zy1Afley8-q8"
   },
   "outputs": [],
   "source": [
    "X_train_comb = pd.concat([\n",
    "           X_train_tf[all_columns],\n",
    "           X_train_sample_fillna\n",
    "]).reset_index(drop=True)\n",
    "\n",
    "y_train_comb = pd.concat([\n",
    "           y_train,\n",
    "           y_train_sample_fillna\n",
    "]).reset_index(drop=True)"
   ]
  },
  {
   "cell_type": "code",
   "execution_count": null,
   "metadata": {
    "colab": {
     "base_uri": "https://localhost:8080/"
    },
    "id": "8ZNYX3bo8X70",
    "outputId": "4d3e20fd-eceb-49b8-ac29-53d9440cbbf1"
   },
   "outputs": [],
   "source": [
    "# 学習・推論\n",
    "gkf = GroupKFold(n_splits=5)\n",
    "\n",
    "groups = X_train_comb[\"Genre\"]\n",
    "\n",
    "cv_result_tgan = []\n",
    "\n",
    "pred_df = pd.DataFrame()\n",
    "\n",
    "model = lgb.LGBMRegressor(random_state=42)\n",
    "\n",
    "for i, (train_index, test_index) in enumerate(gkf.split(X_train_comb, y_train_comb, groups)):\n",
    "    X_train_gkf, X_test_gkf = X_train_comb.iloc[train_index], X_train_comb.iloc[test_index]\n",
    "    y_train_gkf, y_test_gkf = y_train_comb.iloc[train_index], y_train_comb.iloc[test_index]\n",
    "\n",
    "    # 学習、推論\n",
    "    model.fit(X_train_gkf, y_train_gkf)\n",
    "\n",
    "    y_pred = model.predict(X_test_gkf)\n",
    "\n",
    "    rmse = mean_squared_error(y_test_gkf, y_pred, squared=False)\n",
    "    cv_result_tgan.append(rmse)\n",
    "\n",
    "    pred = pipe.predict(X_test)\n",
    "\n",
    "    pred_df[i] = pred\n",
    "\n",
    "print(\"RMSE:\", cv_result_tgan)\n",
    "print(\"RMSE:\", np.mean(cv_result_tgan))"
   ]
  },
  {
   "cell_type": "code",
   "execution_count": null,
   "metadata": {
    "colab": {
     "base_uri": "https://localhost:8080/"
    },
    "id": "wphwD8IC96xE",
    "outputId": "be36aa24-18be-4428-fad1-b22a24c5a82e"
   },
   "outputs": [],
   "source": [
    "rmse_test_tgan = mean_squared_error(y_test, pred_df.mean(axis=1), squared=False)\n",
    "print(rmse_test_tgan)"
   ]
  },
  {
   "cell_type": "code",
   "execution_count": null,
   "metadata": {
    "colab": {
     "base_uri": "https://localhost:8080/"
    },
    "id": "FIw0LU--0SDr",
    "outputId": "6c72a294-0240-421f-f66f-c920ae53063a"
   },
   "outputs": [],
   "source": [
    "print(\"RMSE:\", round(rmse_test, 3))\n",
    "print(\"T-GAN によるデータ拡張 RMSE:\", round(rmse_test_tgan, 3))"
   ]
  },
  {
   "cell_type": "code",
   "execution_count": null,
   "metadata": {
    "id": "fxK94us87Syl"
   },
   "outputs": [],
   "source": []
  }
 ],
 "metadata": {
  "accelerator": "GPU",
  "colab": {
   "collapsed_sections": [],
   "name": "21_DataAugumentation.ipynb",
   "provenance": []
  },
  "kernelspec": {
   "display_name": "Python 3 (ipykernel)",
   "language": "python",
   "name": "python3"
  },
  "language_info": {
   "codemirror_mode": {
    "name": "ipython",
    "version": 3
   },
   "file_extension": ".py",
   "mimetype": "text/x-python",
   "name": "python",
   "nbconvert_exporter": "python",
   "pygments_lexer": "ipython3",
   "version": "3.7.11"
  }
 },
 "nbformat": 4,
 "nbformat_minor": 1
}
