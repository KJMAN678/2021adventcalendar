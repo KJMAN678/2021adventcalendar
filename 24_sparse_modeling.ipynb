{
 "cells": [
  {
   "cell_type": "markdown",
   "metadata": {
    "id": "PBqKPKFtsiKi"
   },
   "source": [
    "## データの読込"
   ]
  },
  {
   "cell_type": "code",
   "execution_count": 1,
   "metadata": {
    "colab": {
     "base_uri": "https://localhost:8080/",
     "height": 294
    },
    "id": "TSY5GPLirTwt",
    "outputId": "36019ef3-2935-43ca-d881-c52d13b9c79a"
   },
   "outputs": [
    {
     "data": {
      "text/html": [
       "<div>\n",
       "<style scoped>\n",
       "    .dataframe tbody tr th:only-of-type {\n",
       "        vertical-align: middle;\n",
       "    }\n",
       "\n",
       "    .dataframe tbody tr th {\n",
       "        vertical-align: top;\n",
       "    }\n",
       "\n",
       "    .dataframe thead th {\n",
       "        text-align: right;\n",
       "    }\n",
       "</style>\n",
       "<table border=\"1\" class=\"dataframe\">\n",
       "  <thead>\n",
       "    <tr style=\"text-align: right;\">\n",
       "      <th></th>\n",
       "      <th>Rank</th>\n",
       "      <th>Name</th>\n",
       "      <th>basename</th>\n",
       "      <th>Genre</th>\n",
       "      <th>ESRB_Rating</th>\n",
       "      <th>Platform</th>\n",
       "      <th>Publisher</th>\n",
       "      <th>Developer</th>\n",
       "      <th>VGChartz_Score</th>\n",
       "      <th>Critic_Score</th>\n",
       "      <th>...</th>\n",
       "      <th>NA_Sales</th>\n",
       "      <th>PAL_Sales</th>\n",
       "      <th>JP_Sales</th>\n",
       "      <th>Other_Sales</th>\n",
       "      <th>Year</th>\n",
       "      <th>Last_Update</th>\n",
       "      <th>url</th>\n",
       "      <th>status</th>\n",
       "      <th>Vgchartzscore</th>\n",
       "      <th>img_url</th>\n",
       "    </tr>\n",
       "  </thead>\n",
       "  <tbody>\n",
       "    <tr>\n",
       "      <th>0</th>\n",
       "      <td>1</td>\n",
       "      <td>Wii Sports</td>\n",
       "      <td>wii-sports</td>\n",
       "      <td>Sports</td>\n",
       "      <td>E</td>\n",
       "      <td>Wii</td>\n",
       "      <td>Nintendo</td>\n",
       "      <td>Nintendo EAD</td>\n",
       "      <td>NaN</td>\n",
       "      <td>7.7</td>\n",
       "      <td>...</td>\n",
       "      <td>NaN</td>\n",
       "      <td>NaN</td>\n",
       "      <td>NaN</td>\n",
       "      <td>NaN</td>\n",
       "      <td>2006.0</td>\n",
       "      <td>NaN</td>\n",
       "      <td>http://www.vgchartz.com/game/2667/wii-sports/?...</td>\n",
       "      <td>1</td>\n",
       "      <td>NaN</td>\n",
       "      <td>/games/boxart/full_2258645AmericaFrontccc.jpg</td>\n",
       "    </tr>\n",
       "    <tr>\n",
       "      <th>1</th>\n",
       "      <td>2</td>\n",
       "      <td>Super Mario Bros.</td>\n",
       "      <td>super-mario-bros</td>\n",
       "      <td>Platform</td>\n",
       "      <td>NaN</td>\n",
       "      <td>NES</td>\n",
       "      <td>Nintendo</td>\n",
       "      <td>Nintendo EAD</td>\n",
       "      <td>NaN</td>\n",
       "      <td>10.0</td>\n",
       "      <td>...</td>\n",
       "      <td>NaN</td>\n",
       "      <td>NaN</td>\n",
       "      <td>NaN</td>\n",
       "      <td>NaN</td>\n",
       "      <td>1985.0</td>\n",
       "      <td>NaN</td>\n",
       "      <td>http://www.vgchartz.com/game/6455/super-mario-...</td>\n",
       "      <td>1</td>\n",
       "      <td>NaN</td>\n",
       "      <td>/games/boxart/8972270ccc.jpg</td>\n",
       "    </tr>\n",
       "    <tr>\n",
       "      <th>2</th>\n",
       "      <td>3</td>\n",
       "      <td>Mario Kart Wii</td>\n",
       "      <td>mario-kart-wii</td>\n",
       "      <td>Racing</td>\n",
       "      <td>E</td>\n",
       "      <td>Wii</td>\n",
       "      <td>Nintendo</td>\n",
       "      <td>Nintendo EAD</td>\n",
       "      <td>NaN</td>\n",
       "      <td>8.2</td>\n",
       "      <td>...</td>\n",
       "      <td>NaN</td>\n",
       "      <td>NaN</td>\n",
       "      <td>NaN</td>\n",
       "      <td>NaN</td>\n",
       "      <td>2008.0</td>\n",
       "      <td>11th Apr 18</td>\n",
       "      <td>http://www.vgchartz.com/game/6968/mario-kart-w...</td>\n",
       "      <td>1</td>\n",
       "      <td>8.7</td>\n",
       "      <td>/games/boxart/full_8932480AmericaFrontccc.jpg</td>\n",
       "    </tr>\n",
       "  </tbody>\n",
       "</table>\n",
       "<p>3 rows × 23 columns</p>\n",
       "</div>"
      ],
      "text/plain": [
       "   Rank               Name          basename     Genre ESRB_Rating Platform  \\\n",
       "0     1         Wii Sports        wii-sports    Sports           E      Wii   \n",
       "1     2  Super Mario Bros.  super-mario-bros  Platform         NaN      NES   \n",
       "2     3     Mario Kart Wii    mario-kart-wii    Racing           E      Wii   \n",
       "\n",
       "  Publisher     Developer  VGChartz_Score  Critic_Score  ...  NA_Sales  \\\n",
       "0  Nintendo  Nintendo EAD             NaN           7.7  ...       NaN   \n",
       "1  Nintendo  Nintendo EAD             NaN          10.0  ...       NaN   \n",
       "2  Nintendo  Nintendo EAD             NaN           8.2  ...       NaN   \n",
       "\n",
       "   PAL_Sales  JP_Sales  Other_Sales    Year  Last_Update  \\\n",
       "0        NaN       NaN          NaN  2006.0          NaN   \n",
       "1        NaN       NaN          NaN  1985.0          NaN   \n",
       "2        NaN       NaN          NaN  2008.0  11th Apr 18   \n",
       "\n",
       "                                                 url  status Vgchartzscore  \\\n",
       "0  http://www.vgchartz.com/game/2667/wii-sports/?...       1           NaN   \n",
       "1  http://www.vgchartz.com/game/6455/super-mario-...       1           NaN   \n",
       "2  http://www.vgchartz.com/game/6968/mario-kart-w...       1           8.7   \n",
       "\n",
       "                                         img_url  \n",
       "0  /games/boxart/full_2258645AmericaFrontccc.jpg  \n",
       "1                   /games/boxart/8972270ccc.jpg  \n",
       "2  /games/boxart/full_8932480AmericaFrontccc.jpg  \n",
       "\n",
       "[3 rows x 23 columns]"
      ]
     },
     "execution_count": 1,
     "metadata": {},
     "output_type": "execute_result"
    }
   ],
   "source": [
    "import pandas as pd\n",
    "df = pd.read_csv(\"vgsales-12-4-2019.csv\")\n",
    "df.head(3)"
   ]
  },
  {
   "cell_type": "code",
   "execution_count": 2,
   "metadata": {
    "id": "nkFyreWTzS7a"
   },
   "outputs": [],
   "source": [
    "import os\n",
    "import time\n",
    "import random\n",
    "import pickle\n",
    "import pandas as pd\n",
    "import numpy as np\n",
    "import matplotlib.pyplot as plt\n",
    "import japanize_matplotlib\n",
    "from natsort import natsorted \n",
    "\n",
    "import lightgbm as lgb\n",
    "from sklearn.model_selection import train_test_split\n",
    "from sklearn.metrics import mean_squared_error\n",
    "from sklearn.preprocessing import StandardScaler\n",
    "from sklearn.model_selection import GroupKFold\n",
    "from sklearn.impute import SimpleImputer\n",
    "from sklearn.preprocessing import OrdinalEncoder\n",
    "from sklearn.preprocessing import OneHotEncoder\n",
    "from sklearn.compose import ColumnTransformer\n",
    "from sklearn.pipeline import Pipeline\n",
    "\n",
    "from sklearn.linear_model import Lasso\n",
    "from sklearn.linear_model import LassoCV\n",
    "\n",
    "import warnings\n",
    "warnings.simplefilter('ignore')"
   ]
  },
  {
   "cell_type": "code",
   "execution_count": 3,
   "metadata": {
    "id": "enC5LxPEx2DB"
   },
   "outputs": [],
   "source": [
    "# シード値の固定\n",
    "SEED = 42\n",
    "\n",
    "random.seed(SEED)\n",
    "os.environ['PYTHONHASHSEED'] = str(SEED)\n",
    "np.random.seed(SEED)"
   ]
  },
  {
   "cell_type": "code",
   "execution_count": 4,
   "metadata": {
    "id": "9gzw42mOx2n4"
   },
   "outputs": [],
   "source": [
    "### パイプライン\n",
    "\n",
    "# 数値データカラム名を取得\n",
    "number_columns = df.select_dtypes(include=\"number\").columns\n",
    "number_columns = list(number_columns)\n",
    "\n",
    "# カテゴリデータカラム名を取得\n",
    "category_columns = df.select_dtypes(include=\"object\").columns\n",
    "category_columns = list(category_columns)\n",
    "\n",
    "# 数値データ用の変換\n",
    "numeric_transformer = Pipeline(steps=[\n",
    "    ('num_imputer', SimpleImputer(strategy='median')),\n",
    "    ('scaler', StandardScaler())]\n",
    ")\n",
    "\n",
    "# カテゴリーのエンコーディング法則を指定する\n",
    "ordinal_all_cols_mapping = []\n",
    "\n",
    "for column in df.select_dtypes(include=\"object\"):\n",
    "    ordinal_one_cols_mapping = []\n",
    "    for category in natsorted(df[column].unique()):\n",
    "        ordinal_one_cols_mapping.append(category)\n",
    "\n",
    "    ordinal_all_cols_mapping.append(ordinal_one_cols_mapping)\n",
    "\n",
    "\n",
    "# カテゴリー数が少ないカテゴリーデータ用の変換\n",
    "categorical_transformer = Pipeline(\n",
    "    steps=[\n",
    "        ('imputer', SimpleImputer(strategy='most_frequent')),\n",
    "        ('ordinal', OrdinalEncoder(\n",
    "                handle_unknown = 'use_encoded_value', # 未知数をunknown valueに置き換える設定\n",
    "                unknown_value = -1,\n",
    "                categories = ordinal_all_cols_mapping\n",
    "            )\n",
    "        )\n",
    "    ]\n",
    ")\n",
    "\n",
    "# ColumnTransformerの作成\n",
    "columns_transformers = ColumnTransformer(\n",
    "    transformers=[\n",
    "        ('num', numeric_transformer, number_columns),\n",
    "        ('category', categorical_transformer, category_columns),\n",
    "    ]\n",
    ")\n",
    "\n",
    "# カラム変換用のパイプラインの作成\n",
    "transformer = Pipeline(\n",
    "    [\n",
    "        (\"columns_transformers\", columns_transformers),\n",
    "    ]\n",
    ")"
   ]
  },
  {
   "cell_type": "code",
   "execution_count": 5,
   "metadata": {
    "id": "sVrqjJClx6KX"
   },
   "outputs": [],
   "source": [
    "df_tf = transformer.fit_transform(df)\n",
    "\n",
    "all_columns = df.columns.tolist()\n",
    "all_columns.remove(\"VGChartz_Score\")\n",
    "\n",
    "df_tf = pd.DataFrame(\n",
    "    df_tf,\n",
    "    columns = all_columns\n",
    ")"
   ]
  },
  {
   "cell_type": "code",
   "execution_count": 6,
   "metadata": {
    "id": "rGRO2Of9yCpX"
   },
   "outputs": [],
   "source": [
    "X_train, X_test, y_train, y_test = train_test_split(\n",
    "                                                    df_tf.dropna(subset=[\"Global_Sales\"]).drop([\"Global_Sales\",  \"NA_Sales\", \"PAL_Sales\", \"JP_Sales\", \"Other_Sales\"], axis=1), \n",
    "                                                    df_tf.dropna(subset=[\"Global_Sales\"])[\"Global_Sales\"],  \n",
    "                                                    test_size=0.3,\n",
    "                                                    shuffle=True, \n",
    "                                                    random_state=SEED\n",
    "                                                    ) "
   ]
  },
  {
   "cell_type": "code",
   "execution_count": 7,
   "metadata": {
    "id": "jYtsFNca6x9m"
   },
   "outputs": [],
   "source": [
    "alpha_lasso = []\n",
    "coef_list = []\n",
    "intercept_list = []\n",
    "train_score = []\n",
    "test_score = []"
   ]
  },
  {
   "cell_type": "markdown",
   "metadata": {
    "id": "8E1urDr9bfuq"
   },
   "source": [
    "## 探索範囲"
   ]
  },
  {
   "cell_type": "code",
   "execution_count": 8,
   "metadata": {
    "id": "PxgAh_j-6yA4"
   },
   "outputs": [],
   "source": [
    "lasso_1 = np.linspace(0.01,100,1000)"
   ]
  },
  {
   "cell_type": "markdown",
   "metadata": {
    "id": "GL3oPsUEbn4n"
   },
   "source": [
    "## 学習"
   ]
  },
  {
   "cell_type": "code",
   "execution_count": 9,
   "metadata": {
    "colab": {
     "base_uri": "https://localhost:8080/",
     "height": 579
    },
    "id": "AvxoTlYd6yEc",
    "outputId": "9029c8fb-5ea6-42f0-ce6b-87d87844a9f8"
   },
   "outputs": [
    {
     "data": {
      "image/png": "[encoded data removed]",
      "text/plain": [
       "<Figure size 432x288 with 1 Axes>"
      ]
     },
     "metadata": {
      "needs_background": "light"
     },
     "output_type": "display_data"
    },
    {
     "data": {
      "image/png": "[encoded data removed]",
      "text/plain": [
       "<Figure size 432x288 with 1 Axes>"
      ]
     },
     "metadata": {
      "needs_background": "light"
     },
     "output_type": "display_data"
    }
   ],
   "source": [
    "for i in lasso_1:\n",
    "\n",
    "    model = Lasso(\n",
    "                    alpha = i, \n",
    "                    max_iter=10000, \n",
    "                    random_state=SEED\n",
    "                    )\n",
    "\n",
    "    # 学習\n",
    "    model.fit(X_train,y_train)\n",
    "\n",
    "    # 推論\n",
    "    pre_train = model.predict(X_train)\n",
    "    pre_test = model.predict(X_test)\n",
    "\n",
    "    # スコアの集約\n",
    "    alpha_lasso.append(i)\n",
    "    coef_list.append(model.coef_) # 回帰係数\n",
    "    intercept_list.append(model.intercept_) # 切片\n",
    "    train_score.append(model.score(X_train, y_train))\n",
    "    test_score.append(model.score(X_test, y_test)) # テストデータに対するR2スコア\n",
    "\n",
    "# DataFrame、Series 化\n",
    "df_count = pd.Series(alpha_lasso,name = 'alpha') # 正則化の強さ\n",
    "df_coef= pd.DataFrame(coef_list, columns = X_train.columns) # 回帰係数\n",
    "df_inter = pd.Series(intercept_list,name = 'intercept') # 切片\n",
    "df_train_score = pd.Series(train_score,name = 'train_score') # 学習データに対するスコア\n",
    "df_test_score = pd.Series(test_score,name = 'test_score') # テストデータに対するスコア\n",
    "\n",
    "# alphaと回帰係数の可視化\n",
    "plt.title('alpha vs coefficent graph like R/glmnet')\n",
    "plt.xscale('log')\n",
    "plt.xlabel('alpha')\n",
    "plt.ylabel('coefficient')\n",
    "plt.plot(df_count,df_coef)\n",
    "plt.legend(labels = df_coef.columns,loc='uper right',fontsize=7)\n",
    "plt.show()\n",
    "\n",
    "# alphaとR2スコアのグラフ\n",
    "df_score = pd.concat([df_train_score,df_test_score], axis=1)\n",
    "plt.title('alpha vs R2 score(train/test)')\n",
    "plt.xscale('log')\n",
    "plt.xlabel('alpha')\n",
    "plt.ylabel('r2_score')\n",
    "plt.plot(df_count,df_score)\n",
    "plt.legend(labels = df_score.columns,loc='uper right',fontsize=8)\n",
    "plt.show()"
   ]
  },
  {
   "cell_type": "markdown",
   "metadata": {
    "id": "GW6v7J-icJQI"
   },
   "source": [
    "## シンプルな推論"
   ]
  },
  {
   "cell_type": "code",
   "execution_count": 10,
   "metadata": {
    "colab": {
     "base_uri": "https://localhost:8080/"
    },
    "id": "NvWiwMk46yLp",
    "outputId": "46008816-b97c-44a5-cfe5-da3b2e04a243"
   },
   "outputs": [
    {
     "name": "stdout",
     "output_type": "stream",
     "text": [
      "RMSE 0.9313807445033818\n"
     ]
    }
   ],
   "source": [
    "model = Lasso(\n",
    "            alpha = 0.1, \n",
    "            max_iter=10000, \n",
    "            random_state=SEED\n",
    "            )\n",
    "\n",
    "# 学習\n",
    "model.fit(X_train, y_train)\n",
    "\n",
    "# 推論\n",
    "y_pred = model.predict(X_test)\n",
    "\n",
    "# 評価\n",
    "rmse = mean_squared_error(y_test, y_pred, squared=False)\n",
    "print(\"RMSE\", rmse)"
   ]
  },
  {
   "cell_type": "markdown",
   "metadata": {
    "id": "mOIBoRP0cgZA"
   },
   "source": [
    "## GroupKFold で学習・推論"
   ]
  },
  {
   "cell_type": "code",
   "execution_count": 11,
   "metadata": {
    "colab": {
     "base_uri": "https://localhost:8080/",
     "height": 1000
    },
    "id": "o-JYP0VByGQp",
    "outputId": "843a25a3-9a77-4751-cbbe-6b71c0b39fa1"
   },
   "outputs": [
    {
     "data": {
      "image/png": "[encoded data removed]",
      "text/plain": [
       "<Figure size 432x288 with 1 Axes>"
      ]
     },
     "metadata": {
      "needs_background": "light"
     },
     "output_type": "display_data"
    },
    {
     "data": {
      "image/png": "[encoded data removed]",
      "text/plain": [
       "<Figure size 432x288 with 1 Axes>"
      ]
     },
     "metadata": {
      "needs_background": "light"
     },
     "output_type": "display_data"
    },
    {
     "data": {
      "image/png": "[encoded data removed]",
      "text/plain": [
       "<Figure size 432x288 with 1 Axes>"
      ]
     },
     "metadata": {
      "needs_background": "light"
     },
     "output_type": "display_data"
    },
    {
     "data": {
      "image/png": "[encoded data removed]",
      "text/plain": [
       "<Figure size 432x288 with 1 Axes>"
      ]
     },
     "metadata": {
      "needs_background": "light"
     },
     "output_type": "display_data"
    },
    {
     "data": {
      "image/png": "[encoded data removed]",
      "text/plain": [
       "<Figure size 432x288 with 1 Axes>"
      ]
     },
     "metadata": {
      "needs_background": "light"
     },
     "output_type": "display_data"
    }
   ],
   "source": [
    "gkf = GroupKFold(n_splits=5)\n",
    "\n",
    "groups = X_train[\"Genre\"]\n",
    "\n",
    "for i, (train_index, test_index) in enumerate(gkf.split(X_train, y_train, groups)):\n",
    "    X_train_gkf, X_test_gkf = X_train.iloc[train_index], X_train.iloc[test_index]\n",
    "    y_train_gkf, y_test_gkf = y_train.iloc[train_index], y_train.iloc[test_index]\n",
    "\n",
    "    # 探索\n",
    "    for alpha in range(-10, 20, 1):\n",
    "\n",
    "        model = Lasso(\n",
    "                    alpha = alpha/10 , \n",
    "                    max_iter=10000,\n",
    "                    random_state=SEED\n",
    "                    )\n",
    "\n",
    "        # 学習\n",
    "        model.fit(X_train_gkf, y_train_gkf)\n",
    "\n",
    "        # 推論\n",
    "        y_pred = model.predict(X_test_gkf)\n",
    "\n",
    "        # 評価\n",
    "        rmse = mean_squared_error(y_test_gkf, y_pred, squared=False)\n",
    "        \n",
    "        # 可視化\n",
    "        plt.scatter(\n",
    "            alpha/10, \n",
    "            rmse,\n",
    "            color=\"red\"\n",
    "            )\n",
    "        \n",
    "    plt.title(f\"fold {i}\")\n",
    "    plt.xlabel('alpha')\n",
    "    plt.ylabel('rmse')\n",
    "    plt.show()"
   ]
  },
  {
   "cell_type": "markdown",
   "metadata": {
    "id": "S23oEGwLdDDC"
   },
   "source": [
    "## LassoCV"
   ]
  },
  {
   "cell_type": "code",
   "execution_count": 12,
   "metadata": {
    "colab": {
     "base_uri": "https://localhost:8080/"
    },
    "id": "3QdWuk3h_y5j",
    "outputId": "ef31ca82-60a1-4c7b-b4a6-5270bbf04964"
   },
   "outputs": [
    {
     "name": "stdout",
     "output_type": "stream",
     "text": [
      "Best alpha: 0.01\n",
      "重み: [-0.00000000e+00  1.19582956e-01  5.16855133e-02  7.60801569e-03\n",
      "  0.00000000e+00  3.40944575e-02  0.00000000e+00  0.00000000e+00\n",
      "  4.57007862e-03 -0.00000000e+00  0.00000000e+00 -6.01479616e-04\n",
      " -1.33607435e-05  3.14296420e-07  3.51993675e-04 -1.63156663e-06\n",
      "  6.92296310e-07]\n",
      "切片: -0.05693081814503002\n",
      "RMSE 0.9232324622403981\n"
     ]
    }
   ],
   "source": [
    "model = LassoCV(\n",
    "            alphas=[0.01, -1, 2], \n",
    "            cv = 5, \n",
    "            max_iter=100000,\n",
    "            random_state=SEED\n",
    "            )\n",
    "\n",
    "# 学習\n",
    "model.fit(X_train, y_train)\n",
    "\n",
    "# ベストスコア\n",
    "print(\"Best alpha:\", model.alpha_)\n",
    "print(\"重み:\", model.coef_)\n",
    "print(\"切片:\", model.intercept_)\n",
    "\n",
    "# ベストスコア(alpha)を設定\n",
    "best_model = Lasso(\n",
    "                alpha=model.alpha_,\n",
    "                max_iter=100000,\n",
    "                random_state=SEED\n",
    "                )\n",
    "\n",
    "# ベストスコアで学習\n",
    "best_model.fit(X_train, y_train)\n",
    "\n",
    "# ベストスコアのモデルで推論\n",
    "y_pred = best_model.predict(X_test)\n",
    "\n",
    "# 評価\n",
    "rmse = mean_squared_error(y_test, y_pred, squared=False)\n",
    "print(\"RMSE\", rmse)"
   ]
  },
  {
   "cell_type": "code",
   "execution_count": null,
   "metadata": {
    "id": "8FRionIia-7F"
   },
   "outputs": [],
   "source": []
  }
 ],
 "metadata": {
  "colab": {
   "collapsed_sections": [],
   "name": "24_sparse_modeling.ipynb",
   "provenance": []
  },
  "kernelspec": {
   "display_name": "Python 3 (ipykernel)",
   "language": "python",
   "name": "python3"
  },
  "language_info": {
   "codemirror_mode": {
    "name": "ipython",
    "version": 3
   },
   "file_extension": ".py",
   "mimetype": "text/x-python",
   "name": "python",
   "nbconvert_exporter": "python",
   "pygments_lexer": "ipython3",
   "version": "3.7.11"
  }
 },
 "nbformat": 4,
 "nbformat_minor": 1
}
