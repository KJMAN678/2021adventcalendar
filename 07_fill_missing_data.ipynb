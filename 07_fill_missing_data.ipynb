{
 "cells": [
  {
   "cell_type": "markdown",
   "metadata": {
    "id": "PBqKPKFtsiKi"
   },
   "source": [
    "## データの読込"
   ]
  },
  {
   "cell_type": "code",
   "execution_count": 1,
   "metadata": {
    "colab": {
     "base_uri": "https://localhost:8080/",
     "height": 250
    },
    "id": "TSY5GPLirTwt",
    "outputId": "f48440e8-2da3-46a9-c026-6548be031b58"
   },
   "outputs": [
    {
     "data": {
      "text/html": [
       "<div>\n",
       "<style scoped>\n",
       "    .dataframe tbody tr th:only-of-type {\n",
       "        vertical-align: middle;\n",
       "    }\n",
       "\n",
       "    .dataframe tbody tr th {\n",
       "        vertical-align: top;\n",
       "    }\n",
       "\n",
       "    .dataframe thead th {\n",
       "        text-align: right;\n",
       "    }\n",
       "</style>\n",
       "<table border=\"1\" class=\"dataframe\">\n",
       "  <thead>\n",
       "    <tr style=\"text-align: right;\">\n",
       "      <th></th>\n",
       "      <th>Rank</th>\n",
       "      <th>Name</th>\n",
       "      <th>basename</th>\n",
       "      <th>Genre</th>\n",
       "      <th>ESRB_Rating</th>\n",
       "      <th>Platform</th>\n",
       "      <th>Publisher</th>\n",
       "      <th>Developer</th>\n",
       "      <th>VGChartz_Score</th>\n",
       "      <th>Critic_Score</th>\n",
       "      <th>...</th>\n",
       "      <th>NA_Sales</th>\n",
       "      <th>PAL_Sales</th>\n",
       "      <th>JP_Sales</th>\n",
       "      <th>Other_Sales</th>\n",
       "      <th>Year</th>\n",
       "      <th>Last_Update</th>\n",
       "      <th>url</th>\n",
       "      <th>status</th>\n",
       "      <th>Vgchartzscore</th>\n",
       "      <th>img_url</th>\n",
       "    </tr>\n",
       "  </thead>\n",
       "  <tbody>\n",
       "    <tr>\n",
       "      <th>0</th>\n",
       "      <td>1</td>\n",
       "      <td>Wii Sports</td>\n",
       "      <td>wii-sports</td>\n",
       "      <td>Sports</td>\n",
       "      <td>E</td>\n",
       "      <td>Wii</td>\n",
       "      <td>Nintendo</td>\n",
       "      <td>Nintendo EAD</td>\n",
       "      <td>NaN</td>\n",
       "      <td>7.7</td>\n",
       "      <td>...</td>\n",
       "      <td>NaN</td>\n",
       "      <td>NaN</td>\n",
       "      <td>NaN</td>\n",
       "      <td>NaN</td>\n",
       "      <td>2006.0</td>\n",
       "      <td>NaN</td>\n",
       "      <td>http://www.vgchartz.com/game/2667/wii-sports/?...</td>\n",
       "      <td>1</td>\n",
       "      <td>NaN</td>\n",
       "      <td>/games/boxart/full_2258645AmericaFrontccc.jpg</td>\n",
       "    </tr>\n",
       "    <tr>\n",
       "      <th>1</th>\n",
       "      <td>2</td>\n",
       "      <td>Super Mario Bros.</td>\n",
       "      <td>super-mario-bros</td>\n",
       "      <td>Platform</td>\n",
       "      <td>NaN</td>\n",
       "      <td>NES</td>\n",
       "      <td>Nintendo</td>\n",
       "      <td>Nintendo EAD</td>\n",
       "      <td>NaN</td>\n",
       "      <td>10.0</td>\n",
       "      <td>...</td>\n",
       "      <td>NaN</td>\n",
       "      <td>NaN</td>\n",
       "      <td>NaN</td>\n",
       "      <td>NaN</td>\n",
       "      <td>1985.0</td>\n",
       "      <td>NaN</td>\n",
       "      <td>http://www.vgchartz.com/game/6455/super-mario-...</td>\n",
       "      <td>1</td>\n",
       "      <td>NaN</td>\n",
       "      <td>/games/boxart/8972270ccc.jpg</td>\n",
       "    </tr>\n",
       "    <tr>\n",
       "      <th>2</th>\n",
       "      <td>3</td>\n",
       "      <td>Mario Kart Wii</td>\n",
       "      <td>mario-kart-wii</td>\n",
       "      <td>Racing</td>\n",
       "      <td>E</td>\n",
       "      <td>Wii</td>\n",
       "      <td>Nintendo</td>\n",
       "      <td>Nintendo EAD</td>\n",
       "      <td>NaN</td>\n",
       "      <td>8.2</td>\n",
       "      <td>...</td>\n",
       "      <td>NaN</td>\n",
       "      <td>NaN</td>\n",
       "      <td>NaN</td>\n",
       "      <td>NaN</td>\n",
       "      <td>2008.0</td>\n",
       "      <td>11th Apr 18</td>\n",
       "      <td>http://www.vgchartz.com/game/6968/mario-kart-w...</td>\n",
       "      <td>1</td>\n",
       "      <td>8.7</td>\n",
       "      <td>/games/boxart/full_8932480AmericaFrontccc.jpg</td>\n",
       "    </tr>\n",
       "  </tbody>\n",
       "</table>\n",
       "<p>3 rows × 23 columns</p>\n",
       "</div>"
      ],
      "text/plain": [
       "   Rank               Name          basename     Genre ESRB_Rating Platform  \\\n",
       "0     1         Wii Sports        wii-sports    Sports           E      Wii   \n",
       "1     2  Super Mario Bros.  super-mario-bros  Platform         NaN      NES   \n",
       "2     3     Mario Kart Wii    mario-kart-wii    Racing           E      Wii   \n",
       "\n",
       "  Publisher     Developer  VGChartz_Score  Critic_Score  ...  NA_Sales  \\\n",
       "0  Nintendo  Nintendo EAD             NaN           7.7  ...       NaN   \n",
       "1  Nintendo  Nintendo EAD             NaN          10.0  ...       NaN   \n",
       "2  Nintendo  Nintendo EAD             NaN           8.2  ...       NaN   \n",
       "\n",
       "   PAL_Sales  JP_Sales  Other_Sales    Year  Last_Update  \\\n",
       "0        NaN       NaN          NaN  2006.0          NaN   \n",
       "1        NaN       NaN          NaN  1985.0          NaN   \n",
       "2        NaN       NaN          NaN  2008.0  11th Apr 18   \n",
       "\n",
       "                                                 url  status Vgchartzscore  \\\n",
       "0  http://www.vgchartz.com/game/2667/wii-sports/?...       1           NaN   \n",
       "1  http://www.vgchartz.com/game/6455/super-mario-...       1           NaN   \n",
       "2  http://www.vgchartz.com/game/6968/mario-kart-w...       1           8.7   \n",
       "\n",
       "                                         img_url  \n",
       "0  /games/boxart/full_2258645AmericaFrontccc.jpg  \n",
       "1                   /games/boxart/8972270ccc.jpg  \n",
       "2  /games/boxart/full_8932480AmericaFrontccc.jpg  \n",
       "\n",
       "[3 rows x 23 columns]"
      ]
     },
     "execution_count": 1,
     "metadata": {},
     "output_type": "execute_result"
    }
   ],
   "source": [
    "import pandas as pd\n",
    "df = pd.read_csv(\"vgsales-12-4-2019.csv\")\n",
    "df.head(3)"
   ]
  },
  {
   "cell_type": "markdown",
   "metadata": {
    "id": "ecDtU5Mz0VfA"
   },
   "source": [
    "### 欠損値の補完"
   ]
  },
  {
   "cell_type": "code",
   "execution_count": 2,
   "metadata": {
    "id": "S_CTy6sj0VmF"
   },
   "outputs": [],
   "source": [
    "import os\n",
    "import random\n",
    "import numpy as np\n",
    "from matplotlib import pyplot as plt\n",
    "from natsort import natsorted \n",
    "\n",
    "import lightgbm as lgb\n",
    "from sklearn.model_selection import train_test_split\n",
    "from sklearn.metrics import mean_squared_error\n",
    "from sklearn.preprocessing import normalize\n",
    "from sklearn.preprocessing import StandardScaler\n",
    "import category_encoders as ce\n",
    "\n",
    "from sklearn.impute import SimpleImputer\n",
    "\n",
    "import warnings\n",
    "warnings.simplefilter('ignore')"
   ]
  },
  {
   "cell_type": "code",
   "execution_count": 3,
   "metadata": {
    "id": "NPZok2uZ0TF0"
   },
   "outputs": [],
   "source": [
    "# シード値の固定\n",
    "SEED = 42\n",
    "\n",
    "random.seed(SEED)\n",
    "os.environ['PYTHONHASHSEED'] = str(SEED)\n",
    "np.random.seed(SEED)"
   ]
  },
  {
   "cell_type": "markdown",
   "metadata": {
    "id": "f6e_1giQ0wAV"
   },
   "source": [
    "## 欠損値の補完"
   ]
  },
  {
   "cell_type": "code",
   "execution_count": 4,
   "metadata": {
    "id": "XZ7VrmZ70sCV"
   },
   "outputs": [],
   "source": [
    "X_train, X_test, y_train, y_test = train_test_split(\n",
    "                                                    df.dropna(subset=[\"Global_Sales\"]).drop([\"Global_Sales\",  \"NA_Sales\", \"PAL_Sales\", \"JP_Sales\", \"Other_Sales\"], axis=1), \n",
    "                                                    df.dropna(subset=[\"Global_Sales\"])[\"Global_Sales\"],  \n",
    "                                                    test_size=0.3,\n",
    "                                                    shuffle=True, \n",
    "                                                    random_state=SEED\n",
    "                                                    ) "
   ]
  },
  {
   "cell_type": "code",
   "execution_count": 5,
   "metadata": {
    "colab": {
     "base_uri": "https://localhost:8080/",
     "height": 249
    },
    "id": "NhRGFsAI1hGe",
    "outputId": "a2d98091-c95e-4a92-e06b-88a8c7d1e4cd"
   },
   "outputs": [
    {
     "name": "stdout",
     "output_type": "stream",
     "text": [
      "X_train\n"
     ]
    },
    {
     "data": {
      "text/html": [
       "<div>\n",
       "<style scoped>\n",
       "    .dataframe tbody tr th:only-of-type {\n",
       "        vertical-align: middle;\n",
       "    }\n",
       "\n",
       "    .dataframe tbody tr th {\n",
       "        vertical-align: top;\n",
       "    }\n",
       "\n",
       "    .dataframe thead th {\n",
       "        text-align: right;\n",
       "    }\n",
       "</style>\n",
       "<table border=\"1\" class=\"dataframe\">\n",
       "  <thead>\n",
       "    <tr style=\"text-align: right;\">\n",
       "      <th></th>\n",
       "      <th>Rank</th>\n",
       "      <th>Name</th>\n",
       "      <th>basename</th>\n",
       "      <th>Genre</th>\n",
       "      <th>ESRB_Rating</th>\n",
       "      <th>Platform</th>\n",
       "      <th>Publisher</th>\n",
       "      <th>Developer</th>\n",
       "      <th>VGChartz_Score</th>\n",
       "      <th>Critic_Score</th>\n",
       "      <th>User_Score</th>\n",
       "      <th>Total_Shipped</th>\n",
       "      <th>Year</th>\n",
       "      <th>Last_Update</th>\n",
       "      <th>url</th>\n",
       "      <th>status</th>\n",
       "      <th>Vgchartzscore</th>\n",
       "      <th>img_url</th>\n",
       "    </tr>\n",
       "  </thead>\n",
       "  <tbody>\n",
       "    <tr>\n",
       "      <th>0</th>\n",
       "      <td>0</td>\n",
       "      <td>0</td>\n",
       "      <td>0</td>\n",
       "      <td>0</td>\n",
       "      <td>3911</td>\n",
       "      <td>0</td>\n",
       "      <td>0</td>\n",
       "      <td>3</td>\n",
       "      <td>13590</td>\n",
       "      <td>10599</td>\n",
       "      <td>13480</td>\n",
       "      <td>13590</td>\n",
       "      <td>29</td>\n",
       "      <td>10929</td>\n",
       "      <td>0</td>\n",
       "      <td>0</td>\n",
       "      <td>13270</td>\n",
       "      <td>0</td>\n",
       "    </tr>\n",
       "  </tbody>\n",
       "</table>\n",
       "</div>"
      ],
      "text/plain": [
       "   Rank  Name  basename  Genre  ESRB_Rating  Platform  Publisher  Developer  \\\n",
       "0     0     0         0      0         3911         0          0          3   \n",
       "\n",
       "   VGChartz_Score  Critic_Score  User_Score  Total_Shipped  Year  Last_Update  \\\n",
       "0           13590         10599       13480          13590    29        10929   \n",
       "\n",
       "   url  status  Vgchartzscore  img_url  \n",
       "0    0       0          13270        0  "
      ]
     },
     "metadata": {},
     "output_type": "display_data"
    },
    {
     "name": "stdout",
     "output_type": "stream",
     "text": [
      "X_test\n"
     ]
    },
    {
     "data": {
      "text/html": [
       "<div>\n",
       "<style scoped>\n",
       "    .dataframe tbody tr th:only-of-type {\n",
       "        vertical-align: middle;\n",
       "    }\n",
       "\n",
       "    .dataframe tbody tr th {\n",
       "        vertical-align: top;\n",
       "    }\n",
       "\n",
       "    .dataframe thead th {\n",
       "        text-align: right;\n",
       "    }\n",
       "</style>\n",
       "<table border=\"1\" class=\"dataframe\">\n",
       "  <thead>\n",
       "    <tr style=\"text-align: right;\">\n",
       "      <th></th>\n",
       "      <th>Rank</th>\n",
       "      <th>Name</th>\n",
       "      <th>basename</th>\n",
       "      <th>Genre</th>\n",
       "      <th>ESRB_Rating</th>\n",
       "      <th>Platform</th>\n",
       "      <th>Publisher</th>\n",
       "      <th>Developer</th>\n",
       "      <th>VGChartz_Score</th>\n",
       "      <th>Critic_Score</th>\n",
       "      <th>User_Score</th>\n",
       "      <th>Total_Shipped</th>\n",
       "      <th>Year</th>\n",
       "      <th>Last_Update</th>\n",
       "      <th>url</th>\n",
       "      <th>status</th>\n",
       "      <th>Vgchartzscore</th>\n",
       "      <th>img_url</th>\n",
       "    </tr>\n",
       "  </thead>\n",
       "  <tbody>\n",
       "    <tr>\n",
       "      <th>0</th>\n",
       "      <td>0</td>\n",
       "      <td>0</td>\n",
       "      <td>0</td>\n",
       "      <td>0</td>\n",
       "      <td>1694</td>\n",
       "      <td>0</td>\n",
       "      <td>0</td>\n",
       "      <td>1</td>\n",
       "      <td>5825</td>\n",
       "      <td>4541</td>\n",
       "      <td>5763</td>\n",
       "      <td>5825</td>\n",
       "      <td>9</td>\n",
       "      <td>4673</td>\n",
       "      <td>0</td>\n",
       "      <td>0</td>\n",
       "      <td>5694</td>\n",
       "      <td>0</td>\n",
       "    </tr>\n",
       "  </tbody>\n",
       "</table>\n",
       "</div>"
      ],
      "text/plain": [
       "   Rank  Name  basename  Genre  ESRB_Rating  Platform  Publisher  Developer  \\\n",
       "0     0     0         0      0         1694         0          0          1   \n",
       "\n",
       "   VGChartz_Score  Critic_Score  User_Score  Total_Shipped  Year  Last_Update  \\\n",
       "0            5825          4541        5763           5825     9         4673   \n",
       "\n",
       "   url  status  Vgchartzscore  img_url  \n",
       "0    0       0           5694        0  "
      ]
     },
     "metadata": {},
     "output_type": "display_data"
    },
    {
     "name": "stdout",
     "output_type": "stream",
     "text": [
      "y_train\n",
      "0\n",
      "y_test\n",
      "0\n"
     ]
    }
   ],
   "source": [
    "print(\"X_train\")\n",
    "display(pd.DataFrame(X_train.isnull().sum()).T)\n",
    "\n",
    "print(\"X_test\")\n",
    "display(pd.DataFrame(X_test.isnull().sum()).T)\n",
    "\n",
    "print(\"y_train\")\n",
    "print(y_train.isnull().sum())\n",
    "\n",
    "print(\"y_test\")\n",
    "print(y_test.isnull().sum())"
   ]
  },
  {
   "cell_type": "markdown",
   "metadata": {
    "id": "3ju2pFCsRjfR"
   },
   "source": [
    "### dropna"
   ]
  },
  {
   "cell_type": "code",
   "execution_count": 6,
   "metadata": {
    "id": "yzi7TbrX4ac6"
   },
   "outputs": [],
   "source": [
    "X_train_drop = X_train.dropna(axis=1, how='any')\n",
    "X_test_drop = X_test.dropna(axis=1, how='any')"
   ]
  },
  {
   "cell_type": "code",
   "execution_count": 7,
   "metadata": {
    "colab": {
     "base_uri": "https://localhost:8080/",
     "height": 348
    },
    "id": "sww_-JGPRZPp",
    "outputId": "85edece4-6850-4fda-fb28-c18bafdb3bb8"
   },
   "outputs": [
    {
     "name": "stdout",
     "output_type": "stream",
     "text": [
      "[LightGBM] [Warning] Auto-choosing col-wise multi-threading, the overhead of testing was 0.000560 seconds.\n",
      "You can set `force_col_wise=true` to remove the overhead.\n",
      "[LightGBM] [Info] Total Bins 1571\n",
      "[LightGBM] [Info] Number of data points in the train set: 13590, number of used features: 8\n",
      "[LightGBM] [Info] Start training from score 0.366483\n",
      "Training until validation scores don't improve for 50 rounds\n",
      "Did not meet early stopping. Best iteration is:\n",
      "[100]\tTrain's rmse: 0.131719\tTest's rmse: 0.206367\n"
     ]
    },
    {
     "data": {
      "image/png": "[encoded data removed]",
      "text/plain": [
       "<Figure size 432x288 with 1 Axes>"
      ]
     },
     "metadata": {
      "needs_background": "light"
     },
     "output_type": "display_data"
    },
    {
     "name": "stdout",
     "output_type": "stream",
     "text": [
      "RMSE: 0.2063668889048658\n"
     ]
    }
   ],
   "source": [
    "#### カテゴリーエンコーディング\n",
    "\n",
    "# ユニーク数に応じてカラムを分割する\n",
    "category_unique_num = X_train_drop.select_dtypes(include=\"object\").nunique()\n",
    "\n",
    "few_kinds_category_columns = category_unique_num[category_unique_num < 10].index\n",
    "many_kinds_category_columns = category_unique_num[category_unique_num >= 10].index\n",
    "\n",
    "\n",
    "# カテゴリーのエンコーディング法則を指定する\n",
    "ordinal_all_cols_mapping_ce = []\n",
    "\n",
    "for i, column in enumerate(many_kinds_category_columns):\n",
    "    ordinal_one_cols_mapping = {}\n",
    "    ordinal_one_cols_mapping_breakdown = {}\n",
    "    for j, category in enumerate(natsorted(X_train_drop[column].unique())):\n",
    "        ordinal_one_cols_mapping_breakdown[category] = j\n",
    "\n",
    "    ordinal_one_cols_mapping[\"col\"] = column\n",
    "    ordinal_one_cols_mapping[\"mapping\"] = ordinal_one_cols_mapping_breakdown\n",
    "    ordinal_all_cols_mapping_ce.append(ordinal_one_cols_mapping)\n",
    "\n",
    "\n",
    "# エンコーディング設定\n",
    "ode = ce.OrdinalEncoder(\n",
    "    mapping = ordinal_all_cols_mapping_ce,\n",
    "    cols = many_kinds_category_columns\n",
    ")\n",
    "\n",
    "ohe = ce.OneHotEncoder(\n",
    "    use_cat_names=True,\n",
    "    cols = few_kinds_category_columns\n",
    ")\n",
    "\n",
    "# 元データをコピー\n",
    "X_train_ce = X_train_drop.copy()\n",
    "X_test_ce = X_test_drop.copy()\n",
    "\n",
    "\n",
    "# OneHotEncoder\n",
    "X_train_ce = ohe.fit_transform(X_train_ce)\n",
    "X_test_ce = ohe.transform(X_test_ce)\n",
    "\n",
    "# OrdinalHotEncoder\n",
    "X_train_ce = ode.fit_transform(X_train_ce)\n",
    "X_test_ce = ode.transform(X_test_ce)\n",
    "\n",
    "# 正規化\n",
    "sc = StandardScaler()\n",
    "X_train_ce = pd.DataFrame(\n",
    "                            sc.fit_transform(X_train_ce),\n",
    "                            columns=X_train_ce.columns\n",
    "                            )\n",
    "\n",
    "X_test_ce = pd.DataFrame(\n",
    "                            sc.transform(X_test_ce),\n",
    "                            columns=X_test_ce.columns\n",
    "                            )\n",
    "\n",
    "\n",
    "# 学習、推論\n",
    "lgb_train = lgb.Dataset(X_train_ce, y_train)\n",
    "lgb_test = lgb.Dataset(X_test_ce, y_test, reference=lgb_train)\n",
    "\n",
    "params = {\n",
    "          'task': 'train',              # タスクを訓練に設定\n",
    "          'boosting_type': 'gbdt',      # GBDTを指定\n",
    "          'objective': 'regression',    # 回帰を指定\n",
    "          'metric': {'rmse'},              # 回帰の損失（誤差）\n",
    "          'learning_rate': 0.1,         # 学習率\n",
    "          'seed': SEED                   # シード値\n",
    "          }\n",
    "\n",
    "lgb_results = {}                                    # 学習の履歴を入れる入物\n",
    "\n",
    "model = lgb.train(\n",
    "                  params=params,                    # ハイパーパラメータをセット\n",
    "                  train_set=lgb_train,              # 訓練データを訓練用にセット\n",
    "                  valid_sets=[lgb_train, lgb_test], # 訓練データとテストデータをセット\n",
    "                  valid_names=['Train', 'Test'],    # データセットの名前をそれぞれ設定\n",
    "                  num_boost_round=100,              # 計算回数\n",
    "                  early_stopping_rounds=50,         # アーリーストッピング設定\n",
    "                  evals_result=lgb_results,\n",
    "                  verbose_eval=-1,                           # ログを最後の1つだけ表示\n",
    "                  )\n",
    "\n",
    "# 損失推移を表示\n",
    "loss_train = lgb_results['Train']['rmse']\n",
    "loss_test = lgb_results['Test']['rmse']   \n",
    "  \n",
    "fig = plt.figure()\n",
    "  \n",
    "plt.xlabel('Iteration')\n",
    "plt.ylabel('logloss')\n",
    " \n",
    "plt.plot(loss_train, label='train loss')\n",
    "plt.plot(loss_test, label='test loss')\n",
    " \n",
    "plt.legend()\n",
    "plt.show()\n",
    "\n",
    "# 推論\n",
    "y_pred = model.predict(X_test_ce)\n",
    "\n",
    "rmse_drop = mean_squared_error(y_test, y_pred, squared=False)\n",
    "print(\"RMSE:\", rmse_drop)"
   ]
  },
  {
   "cell_type": "markdown",
   "metadata": {
    "id": "8hHY97lQRZto"
   },
   "source": [
    "### fillna median"
   ]
  },
  {
   "cell_type": "code",
   "execution_count": 8,
   "metadata": {
    "id": "8PXytwBH2GMd"
   },
   "outputs": [],
   "source": [
    "X_train_med = X_train.fillna(X_train.mode())\n",
    "X_test_med = X_test.fillna(X_test.mode())"
   ]
  },
  {
   "cell_type": "code",
   "execution_count": 9,
   "metadata": {
    "colab": {
     "base_uri": "https://localhost:8080/",
     "height": 348
    },
    "id": "qU2ad1OKQ9XC",
    "outputId": "c17868f5-2be5-4902-81a1-577255ca380e"
   },
   "outputs": [
    {
     "name": "stdout",
     "output_type": "stream",
     "text": [
      "[LightGBM] [Warning] Auto-choosing col-wise multi-threading, the overhead of testing was 0.001854 seconds.\n",
      "You can set `force_col_wise=true` to remove the overhead.\n",
      "[LightGBM] [Info] Total Bins 2266\n",
      "[LightGBM] [Info] Number of data points in the train set: 13590, number of used features: 21\n",
      "[LightGBM] [Info] Start training from score 0.366483\n",
      "Training until validation scores don't improve for 50 rounds\n",
      "Did not meet early stopping. Best iteration is:\n",
      "[100]\tTrain's rmse: 0.134021\tTest's rmse: 0.226488\n"
     ]
    },
    {
     "data": {
      "image/png": "[encoded data removed]",
      "text/plain": [
       "<Figure size 432x288 with 1 Axes>"
      ]
     },
     "metadata": {
      "needs_background": "light"
     },
     "output_type": "display_data"
    },
    {
     "name": "stdout",
     "output_type": "stream",
     "text": [
      "RMSE: 0.22648763368118405\n"
     ]
    }
   ],
   "source": [
    "#### カテゴリーエンコーディング\n",
    "\n",
    "# ユニーク数に応じてカラムを分割する\n",
    "category_unique_num = X_train_med.select_dtypes(include=\"object\").nunique()\n",
    "\n",
    "few_kinds_category_columns = category_unique_num[category_unique_num < 10].index\n",
    "many_kinds_category_columns = category_unique_num[category_unique_num >= 10].index\n",
    "\n",
    "\n",
    "# カテゴリーのエンコーディング法則を指定する\n",
    "ordinal_all_cols_mapping_ce = []\n",
    "\n",
    "for i, column in enumerate(many_kinds_category_columns):\n",
    "    ordinal_one_cols_mapping = {}\n",
    "    ordinal_one_cols_mapping_breakdown = {}\n",
    "    for j, category in enumerate(natsorted(X_train_med[column].unique())):\n",
    "        ordinal_one_cols_mapping_breakdown[category] = j\n",
    "\n",
    "    ordinal_one_cols_mapping[\"col\"] = column\n",
    "    ordinal_one_cols_mapping[\"mapping\"] = ordinal_one_cols_mapping_breakdown\n",
    "    ordinal_all_cols_mapping_ce.append(ordinal_one_cols_mapping)\n",
    "\n",
    "\n",
    "# エンコーディング設定\n",
    "ode = ce.OrdinalEncoder(\n",
    "    mapping = ordinal_all_cols_mapping_ce,\n",
    "    cols = many_kinds_category_columns\n",
    ")\n",
    "\n",
    "ohe = ce.OneHotEncoder(\n",
    "    use_cat_names=True,\n",
    "    cols = few_kinds_category_columns\n",
    ")\n",
    "\n",
    "# 元データをコピー\n",
    "X_train_ce = X_train_med.copy()\n",
    "X_test_ce = X_test_med.copy()\n",
    "\n",
    "\n",
    "# OneHotEncoder\n",
    "X_train_ce = ohe.fit_transform(X_train_ce)\n",
    "X_test_ce = ohe.transform(X_test_ce)\n",
    "\n",
    "# OrdinalHotEncoder\n",
    "X_train_ce = ode.fit_transform(X_train_ce)\n",
    "X_test_ce = ode.transform(X_test_ce)\n",
    "\n",
    "# 正規化\n",
    "sc = StandardScaler()\n",
    "X_train_ce = pd.DataFrame(\n",
    "                            sc.fit_transform(X_train_ce),\n",
    "                            columns=X_train_ce.columns\n",
    "                            )\n",
    "\n",
    "X_test_ce = pd.DataFrame(\n",
    "                            sc.transform(X_test_ce),\n",
    "                            columns=X_test_ce.columns\n",
    "                            )\n",
    "\n",
    "\n",
    "# 学習、推論\n",
    "lgb_train = lgb.Dataset(X_train_ce, y_train)\n",
    "lgb_test = lgb.Dataset(X_test_ce, y_test, reference=lgb_train)\n",
    "\n",
    "params = {\n",
    "          'task': 'train',              # タスクを訓練に設定\n",
    "          'boosting_type': 'gbdt',      # GBDTを指定\n",
    "          'objective': 'regression',    # 回帰を指定\n",
    "          'metric': {'rmse'},              # 回帰の損失（誤差）\n",
    "          'learning_rate': 0.1,         # 学習率\n",
    "          'seed': SEED                   # シード値\n",
    "          }\n",
    "\n",
    "lgb_results = {}                                    # 学習の履歴を入れる入物\n",
    "\n",
    "model = lgb.train(\n",
    "                  params=params,                    # ハイパーパラメータをセット\n",
    "                  train_set=lgb_train,              # 訓練データを訓練用にセット\n",
    "                  valid_sets=[lgb_train, lgb_test], # 訓練データとテストデータをセット\n",
    "                  valid_names=['Train', 'Test'],    # データセットの名前をそれぞれ設定\n",
    "                  num_boost_round=100,              # 計算回数\n",
    "                  early_stopping_rounds=50,         # アーリーストッピング設定\n",
    "                  evals_result=lgb_results,\n",
    "                  verbose_eval=-1,                           # ログを最後の1つだけ表示\n",
    "                  )\n",
    "\n",
    "# 損失推移を表示\n",
    "loss_train = lgb_results['Train']['rmse']\n",
    "loss_test = lgb_results['Test']['rmse']   \n",
    "  \n",
    "fig = plt.figure()\n",
    "  \n",
    "plt.xlabel('Iteration')\n",
    "plt.ylabel('logloss')\n",
    " \n",
    "plt.plot(loss_train, label='train loss')\n",
    "plt.plot(loss_test, label='test loss')\n",
    " \n",
    "plt.legend()\n",
    "plt.show()\n",
    "\n",
    "# 推論\n",
    "y_pred = model.predict(X_test_ce)\n",
    "\n",
    "rmse_md = mean_squared_error(y_test, y_pred, squared=False)\n",
    "print(\"RMSE:\", rmse_md)"
   ]
  },
  {
   "cell_type": "markdown",
   "metadata": {
    "id": "XmZbzl9QQhzo"
   },
   "source": [
    "### fillna、ffill"
   ]
  },
  {
   "cell_type": "code",
   "execution_count": 10,
   "metadata": {
    "id": "skr-QzY15mpn"
   },
   "outputs": [],
   "source": [
    "X_train_ff = X_train.fillna(method='ffill')\n",
    "X_test_ff = X_test.fillna(method='ffill')"
   ]
  },
  {
   "cell_type": "code",
   "execution_count": 11,
   "metadata": {
    "colab": {
     "base_uri": "https://localhost:8080/",
     "height": 348
    },
    "id": "vWdrs05JQbeq",
    "outputId": "8ee50c38-a299-4499-db10-81cc79bf183a"
   },
   "outputs": [
    {
     "name": "stdout",
     "output_type": "stream",
     "text": [
      "[LightGBM] [Warning] Auto-choosing col-wise multi-threading, the overhead of testing was 0.001428 seconds.\n",
      "You can set `force_col_wise=true` to remove the overhead.\n",
      "[LightGBM] [Info] Total Bins 2298\n",
      "[LightGBM] [Info] Number of data points in the train set: 13590, number of used features: 20\n",
      "[LightGBM] [Info] Start training from score 0.366483\n",
      "Training until validation scores don't improve for 50 rounds\n",
      "Early stopping, best iteration is:\n",
      "[38]\tTrain's rmse: 0.153892\tTest's rmse: 0.227949\n"
     ]
    },
    {
     "data": {
      "image/png": "[encoded data removed]",
      "text/plain": [
       "<Figure size 432x288 with 1 Axes>"
      ]
     },
     "metadata": {
      "needs_background": "light"
     },
     "output_type": "display_data"
    },
    {
     "name": "stdout",
     "output_type": "stream",
     "text": [
      "RMSE: 0.2279492669106465\n"
     ]
    }
   ],
   "source": [
    "#### カテゴリーエンコーディング\n",
    "\n",
    "# ユニーク数に応じてカラムを分割する\n",
    "category_unique_num = X_train_ff.select_dtypes(include=\"object\").nunique()\n",
    "\n",
    "few_kinds_category_columns = category_unique_num[category_unique_num < 10].index\n",
    "many_kinds_category_columns = category_unique_num[category_unique_num >= 10].index\n",
    "\n",
    "\n",
    "# カテゴリーのエンコーディング法則を指定する\n",
    "ordinal_all_cols_mapping_ce = []\n",
    "\n",
    "for i, column in enumerate(many_kinds_category_columns):\n",
    "    ordinal_one_cols_mapping = {}\n",
    "    ordinal_one_cols_mapping_breakdown = {}\n",
    "    for j, category in enumerate(natsorted(X_train_ff[column].unique())):\n",
    "        ordinal_one_cols_mapping_breakdown[category] = j\n",
    "\n",
    "    ordinal_one_cols_mapping[\"col\"] = column\n",
    "    ordinal_one_cols_mapping[\"mapping\"] = ordinal_one_cols_mapping_breakdown\n",
    "    ordinal_all_cols_mapping_ce.append(ordinal_one_cols_mapping)\n",
    "\n",
    "\n",
    "# エンコーディング設定\n",
    "ode = ce.OrdinalEncoder(\n",
    "    mapping = ordinal_all_cols_mapping_ce,\n",
    "    cols = many_kinds_category_columns\n",
    ")\n",
    "\n",
    "ohe = ce.OneHotEncoder(\n",
    "    use_cat_names=True,\n",
    "    cols = few_kinds_category_columns\n",
    ")\n",
    "\n",
    "# 元データをコピー\n",
    "X_train_ce = X_train_ff.copy()\n",
    "X_test_ce = X_test_ff.copy()\n",
    "\n",
    "\n",
    "# OneHotEncoder\n",
    "X_train_ce = ohe.fit_transform(X_train_ce)\n",
    "X_test_ce = ohe.transform(X_test_ce)\n",
    "\n",
    "# OrdinalHotEncoder\n",
    "X_train_ce = ode.fit_transform(X_train_ce)\n",
    "X_test_ce = ode.transform(X_test_ce)\n",
    "\n",
    "# 正規化\n",
    "sc = StandardScaler()\n",
    "X_train_ce = pd.DataFrame(\n",
    "                            sc.fit_transform(X_train_ce),\n",
    "                            columns=X_train_ce.columns\n",
    "                            )\n",
    "\n",
    "X_test_ce = pd.DataFrame(\n",
    "                            sc.transform(X_test_ce),\n",
    "                            columns=X_test_ce.columns\n",
    "                            )\n",
    "\n",
    "\n",
    "# 学習、推論\n",
    "lgb_train = lgb.Dataset(X_train_ce, y_train)\n",
    "lgb_test = lgb.Dataset(X_test_ce, y_test, reference=lgb_train)\n",
    "\n",
    "params = {\n",
    "          'task': 'train',              # タスクを訓練に設定\n",
    "          'boosting_type': 'gbdt',      # GBDTを指定\n",
    "          'objective': 'regression',    # 回帰を指定\n",
    "          'metric': {'rmse'},              # 回帰の損失（誤差）\n",
    "          'learning_rate': 0.1,         # 学習率\n",
    "          'seed': SEED                   # シード値\n",
    "          }\n",
    "\n",
    "lgb_results = {}                                    # 学習の履歴を入れる入物\n",
    "\n",
    "model = lgb.train(\n",
    "                  params=params,                    # ハイパーパラメータをセット\n",
    "                  train_set=lgb_train,              # 訓練データを訓練用にセット\n",
    "                  valid_sets=[lgb_train, lgb_test], # 訓練データとテストデータをセット\n",
    "                  valid_names=['Train', 'Test'],    # データセットの名前をそれぞれ設定\n",
    "                  num_boost_round=100,              # 計算回数\n",
    "                  early_stopping_rounds=50,         # アーリーストッピング設定\n",
    "                  evals_result=lgb_results,\n",
    "                  verbose_eval=-1,                           # ログを最後の1つだけ表示\n",
    "                  )\n",
    "\n",
    "# 損失推移を表示\n",
    "loss_train = lgb_results['Train']['rmse']\n",
    "loss_test = lgb_results['Test']['rmse']   \n",
    "  \n",
    "fig = plt.figure()\n",
    "  \n",
    "plt.xlabel('Iteration')\n",
    "plt.ylabel('logloss')\n",
    " \n",
    "plt.plot(loss_train, label='train loss')\n",
    "plt.plot(loss_test, label='test loss')\n",
    " \n",
    "plt.legend()\n",
    "plt.show()\n",
    "\n",
    "# 推論\n",
    "y_pred = model.predict(X_test_ce)\n",
    "\n",
    "rmse_ff = mean_squared_error(y_test, y_pred, squared=False)\n",
    "print(\"RMSE:\", rmse_ff)"
   ]
  },
  {
   "cell_type": "markdown",
   "metadata": {
    "id": "Q3jFu2d0QeQa"
   },
   "source": [
    "### SimpleImputer"
   ]
  },
  {
   "cell_type": "code",
   "execution_count": 12,
   "metadata": {
    "id": "VnUdbauQNfFd"
   },
   "outputs": [],
   "source": [
    "imp = SimpleImputer(\n",
    "    missing_values=np.nan, \n",
    "    strategy='constant',\n",
    "    fill_value=-9999\n",
    "    )\n",
    "\n",
    "X_train_imp_cst = pd.DataFrame(\n",
    "                            imp.fit_transform(X_train),\n",
    "                            columns = X_train.columns\n",
    "                        )\n",
    "\n",
    "X_test_imp_cst = pd.DataFrame(\n",
    "                            imp.transform(X_test),\n",
    "                            columns = X_test.columns\n",
    "                        )"
   ]
  },
  {
   "cell_type": "code",
   "execution_count": 13,
   "metadata": {
    "colab": {
     "base_uri": "https://localhost:8080/",
     "height": 348
    },
    "id": "ExrZbe2X4bgB",
    "outputId": "c3ca1148-ac00-4e01-c268-339314950b69"
   },
   "outputs": [
    {
     "name": "stdout",
     "output_type": "stream",
     "text": [
      "[LightGBM] [Warning] Auto-choosing col-wise multi-threading, the overhead of testing was 0.002273 seconds.\n",
      "You can set `force_col_wise=true` to remove the overhead.\n",
      "[LightGBM] [Info] Total Bins 2265\n",
      "[LightGBM] [Info] Number of data points in the train set: 13590, number of used features: 21\n",
      "[LightGBM] [Info] Start training from score 0.366483\n",
      "Training until validation scores don't improve for 50 rounds\n",
      "Early stopping, best iteration is:\n",
      "[1]\tTrain's rmse: 0.740028\tTest's rmse: 1.22226\n"
     ]
    },
    {
     "data": {
      "image/png": "[encoded data removed]",
      "text/plain": [
       "<Figure size 432x288 with 1 Axes>"
      ]
     },
     "metadata": {
      "needs_background": "light"
     },
     "output_type": "display_data"
    },
    {
     "name": "stdout",
     "output_type": "stream",
     "text": [
      "RMSE: 1.2222641644485082\n"
     ]
    }
   ],
   "source": [
    "#### カテゴリーエンコーディング\n",
    "\n",
    "# ユニーク数に応じてカラムを分割する\n",
    "category_unique_num = X_train_imp_cst.select_dtypes(include=\"object\").nunique()\n",
    "\n",
    "few_kinds_category_columns = category_unique_num[category_unique_num < 10].index\n",
    "many_kinds_category_columns = category_unique_num[category_unique_num >= 10].index\n",
    "\n",
    "\n",
    "# カテゴリーのエンコーディング法則を指定する\n",
    "ordinal_all_cols_mapping_ce = []\n",
    "\n",
    "for i, column in enumerate(many_kinds_category_columns):\n",
    "    ordinal_one_cols_mapping = {}\n",
    "    ordinal_one_cols_mapping_breakdown = {}\n",
    "    for j, category in enumerate(natsorted(X_train_imp_cst[column].unique())):\n",
    "        ordinal_one_cols_mapping_breakdown[category] = j\n",
    "\n",
    "    ordinal_one_cols_mapping[\"col\"] = column\n",
    "    ordinal_one_cols_mapping[\"mapping\"] = ordinal_one_cols_mapping_breakdown\n",
    "    ordinal_all_cols_mapping_ce.append(ordinal_one_cols_mapping)\n",
    "\n",
    "\n",
    "# エンコーディング設定\n",
    "ode = ce.OrdinalEncoder(\n",
    "    mapping = ordinal_all_cols_mapping_ce,\n",
    "    cols = many_kinds_category_columns\n",
    ")\n",
    "\n",
    "ohe = ce.OneHotEncoder(\n",
    "    use_cat_names=True,\n",
    "    cols = few_kinds_category_columns\n",
    ")\n",
    "\n",
    "# 元データをコピー\n",
    "X_train_ce = X_train_imp_cst.copy()\n",
    "X_test_ce = X_test_imp_cst.copy()\n",
    "\n",
    "\n",
    "# OneHotEncoder\n",
    "X_train_ce = ohe.fit_transform(X_train_ce)\n",
    "X_test_ce = ohe.transform(X_test_ce)\n",
    "\n",
    "# OrdinalHotEncoder\n",
    "X_train_ce = ode.fit_transform(X_train_ce)\n",
    "X_test_ce = ode.transform(X_test_ce)\n",
    "\n",
    "# 正規化\n",
    "sc = StandardScaler()\n",
    "X_train_ce = pd.DataFrame(\n",
    "                            sc.fit_transform(X_train_ce),\n",
    "                            columns=X_train_ce.columns\n",
    "                            )\n",
    "\n",
    "X_test_ce = pd.DataFrame(\n",
    "                            sc.transform(X_test_ce),\n",
    "                            columns=X_test_ce.columns\n",
    "                            )\n",
    "\n",
    "\n",
    "# 学習、推論\n",
    "lgb_train = lgb.Dataset(X_train_ce, y_train)\n",
    "lgb_test = lgb.Dataset(X_test_ce, y_test, reference=lgb_train)\n",
    "\n",
    "params = {\n",
    "          'task': 'train',              # タスクを訓練に設定\n",
    "          'boosting_type': 'gbdt',      # GBDTを指定\n",
    "          'objective': 'regression',    # 回帰を指定\n",
    "          'metric': {'rmse'},              # 回帰の損失（誤差）\n",
    "          'learning_rate': 0.1,         # 学習率\n",
    "          'seed': SEED                   # シード値\n",
    "          }\n",
    "\n",
    "lgb_results = {}                                    # 学習の履歴を入れる入物\n",
    "\n",
    "model = lgb.train(\n",
    "                  params=params,                    # ハイパーパラメータをセット\n",
    "                  train_set=lgb_train,              # 訓練データを訓練用にセット\n",
    "                  valid_sets=[lgb_train, lgb_test], # 訓練データとテストデータをセット\n",
    "                  valid_names=['Train', 'Test'],    # データセットの名前をそれぞれ設定\n",
    "                  num_boost_round=100,              # 計算回数\n",
    "                  early_stopping_rounds=50,         # アーリーストッピング設定\n",
    "                  evals_result=lgb_results,\n",
    "                  verbose_eval=-1,                           # ログを最後の1つだけ表示\n",
    "                  )\n",
    "\n",
    "# 損失推移を表示\n",
    "loss_train = lgb_results['Train']['rmse']\n",
    "loss_test = lgb_results['Test']['rmse']   \n",
    "  \n",
    "fig = plt.figure()\n",
    "  \n",
    "plt.xlabel('Iteration')\n",
    "plt.ylabel('logloss')\n",
    " \n",
    "plt.plot(loss_train, label='train loss')\n",
    "plt.plot(loss_test, label='test loss')\n",
    " \n",
    "plt.legend()\n",
    "plt.show()\n",
    "\n",
    "# 推論\n",
    "y_pred = model.predict(X_test_ce)\n",
    "\n",
    "rmse_imp_cst = mean_squared_error(y_test, y_pred, squared=False)\n",
    "print(\"RMSE:\", rmse_imp_cst)"
   ]
  },
  {
   "cell_type": "code",
   "execution_count": 14,
   "metadata": {
    "colab": {
     "base_uri": "https://localhost:8080/"
    },
    "id": "wLZIaivZSOBo",
    "outputId": "7fa7c060-b493-4bf9-bb18-eb7b96eb024f"
   },
   "outputs": [
    {
     "name": "stdout",
     "output_type": "stream",
     "text": [
      "dropna RMSE: 0.206\n",
      "fillna median RMSE: 0.226\n",
      "fillna ffill RMSE: 0.228\n",
      "SimpleImputer constant RMSE: 1.222\n"
     ]
    }
   ],
   "source": [
    "print(\"dropna RMSE:\", round(rmse_drop, 3))\n",
    "print(\"fillna median RMSE:\", round(rmse_md, 3))\n",
    "print(\"fillna ffill RMSE:\", round(rmse_ff, 3))\n",
    "print(\"SimpleImputer constant RMSE:\", round(rmse_imp_cst, 3))"
   ]
  },
  {
   "cell_type": "code",
   "execution_count": null,
   "metadata": {
    "id": "Wluab1baf7EJ"
   },
   "outputs": [],
   "source": []
  }
 ],
 "metadata": {
  "colab": {
   "collapsed_sections": [],
   "name": "07_fill_missing_data.ipynb",
   "provenance": []
  },
  "kernelspec": {
   "display_name": "Python 3 (ipykernel)",
   "language": "python",
   "name": "python3"
  },
  "language_info": {
   "codemirror_mode": {
    "name": "ipython",
    "version": 3
   },
   "file_extension": ".py",
   "mimetype": "text/x-python",
   "name": "python",
   "nbconvert_exporter": "python",
   "pygments_lexer": "ipython3",
   "version": "3.7.11"
  }
 },
 "nbformat": 4,
 "nbformat_minor": 1
}
