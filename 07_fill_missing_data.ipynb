{
  "nbformat": 4,
  "nbformat_minor": 0,
  "metadata": {
    "colab": {
      "name": "07_fill_missing_data.ipynb",
      "provenance": [],
      "collapsed_sections": []
    },
    "kernelspec": {
      "name": "python3",
      "display_name": "Python 3"
    },
    "language_info": {
      "name": "python"
    }
  },
  "cells": [
    {
      "cell_type": "markdown",
      "metadata": {
        "id": "RA_zd5BvsXyk"
      },
      "source": [
        "## Google Driveのマウント"
      ]
    },
    {
      "cell_type": "code",
      "metadata": {
        "colab": {
          "base_uri": "https://localhost:8080/"
        },
        "id": "ARmR6Kdbsayr",
        "outputId": "89592131-c68c-4f73-9a0f-c3f6ed6802dc"
      },
      "source": [
        "from google.colab import drive\n",
        "drive.mount('/content/drive')"
      ],
      "execution_count": null,
      "outputs": [
        {
          "output_type": "stream",
          "name": "stdout",
          "text": [
            "Mounted at /content/drive\n"
          ]
        }
      ]
    },
    {
      "cell_type": "markdown",
      "metadata": {
        "id": "TCEUaFVvsc6a"
      },
      "source": [
        "## データセットの準備"
      ]
    },
    {
      "cell_type": "code",
      "metadata": {
        "id": "yFYRlGskoctf",
        "colab": {
          "base_uri": "https://localhost:8080/"
        },
        "outputId": "79e8987f-8e5a-46be-9e7a-61c2d1519873"
      },
      "source": [
        "# kaggle ライブラリのインストール\n",
        "!pip install kaggle\n",
        "\n",
        "# 一時フォルダに .kaggleフォルダを作成\n",
        "!mkdir ~/.kaggle\n",
        "\n",
        "# MyDrive の kaggle.json を一時フォルダ内の .kaggleフォルダにコピー\n",
        "!cp /content/drive/MyDrive/kaggle/kaggle.json ~/.kaggle/\n",
        "\n",
        "# アクセス権限の設定\n",
        "!chmod 600 ~/.kaggle/kaggle.json\n",
        "\n",
        "!mkdir ~/.kaggle\n",
        "\n",
        "# zipファイルのダウンロード\n",
        "!kaggle datasets download -d ashaheedq/video-games-sales-2019 -p /content/drive/MyDrive/kaggle\n",
        "\n",
        "# 解凍\n",
        "!unzip /content/drive/MyDrive/kaggle/video-games-sales-2019.zip -d /content/drive/MyDrive/kaggle\n",
        "\n",
        "!rm /content/drive/MyDrive/kaggle/video-games-sales-2019.zip"
      ],
      "execution_count": null,
      "outputs": [
        {
          "output_type": "stream",
          "name": "stdout",
          "text": [
            "Requirement already satisfied: kaggle in /usr/local/lib/python3.7/dist-packages (1.5.12)\n",
            "Requirement already satisfied: python-slugify in /usr/local/lib/python3.7/dist-packages (from kaggle) (5.0.2)\n",
            "Requirement already satisfied: urllib3 in /usr/local/lib/python3.7/dist-packages (from kaggle) (1.24.3)\n",
            "Requirement already satisfied: six>=1.10 in /usr/local/lib/python3.7/dist-packages (from kaggle) (1.15.0)\n",
            "Requirement already satisfied: certifi in /usr/local/lib/python3.7/dist-packages (from kaggle) (2021.10.8)\n",
            "Requirement already satisfied: tqdm in /usr/local/lib/python3.7/dist-packages (from kaggle) (4.62.3)\n",
            "Requirement already satisfied: python-dateutil in /usr/local/lib/python3.7/dist-packages (from kaggle) (2.8.2)\n",
            "Requirement already satisfied: requests in /usr/local/lib/python3.7/dist-packages (from kaggle) (2.23.0)\n",
            "Requirement already satisfied: text-unidecode>=1.3 in /usr/local/lib/python3.7/dist-packages (from python-slugify->kaggle) (1.3)\n",
            "Requirement already satisfied: chardet<4,>=3.0.2 in /usr/local/lib/python3.7/dist-packages (from requests->kaggle) (3.0.4)\n",
            "Requirement already satisfied: idna<3,>=2.5 in /usr/local/lib/python3.7/dist-packages (from requests->kaggle) (2.10)\n",
            "mkdir: cannot create directory ‘/root/.kaggle’: File exists\n",
            "Downloading video-games-sales-2019.zip to /content/drive/MyDrive/kaggle\n",
            "  0% 0.00/3.98M [00:00<?, ?B/s]\n",
            "100% 3.98M/3.98M [00:00<00:00, 64.0MB/s]\n",
            "Archive:  /content/drive/MyDrive/kaggle/video-games-sales-2019.zip\n",
            "replace /content/drive/MyDrive/kaggle/vgsales-12-4-2019-short.csv? [y]es, [n]o, [A]ll, [N]one, [r]ename: None\n"
          ]
        }
      ]
    },
    {
      "cell_type": "markdown",
      "metadata": {
        "id": "PBqKPKFtsiKi"
      },
      "source": [
        "## データの読込"
      ]
    },
    {
      "cell_type": "code",
      "metadata": {
        "colab": {
          "base_uri": "https://localhost:8080/",
          "height": 250
        },
        "id": "TSY5GPLirTwt",
        "outputId": "f48440e8-2da3-46a9-c026-6548be031b58"
      },
      "source": [
        "import pandas as pd\n",
        "df = pd.read_csv(\"/content/drive/MyDrive/kaggle/vgsales-12-4-2019.csv\")\n",
        "df.head(3)"
      ],
      "execution_count": null,
      "outputs": [
        {
          "output_type": "execute_result",
          "data": {
            "text/html": [
              "<div>\n",
              "<style scoped>\n",
              "    .dataframe tbody tr th:only-of-type {\n",
              "        vertical-align: middle;\n",
              "    }\n",
              "\n",
              "    .dataframe tbody tr th {\n",
              "        vertical-align: top;\n",
              "    }\n",
              "\n",
              "    .dataframe thead th {\n",
              "        text-align: right;\n",
              "    }\n",
              "</style>\n",
              "<table border=\"1\" class=\"dataframe\">\n",
              "  <thead>\n",
              "    <tr style=\"text-align: right;\">\n",
              "      <th></th>\n",
              "      <th>Rank</th>\n",
              "      <th>Name</th>\n",
              "      <th>basename</th>\n",
              "      <th>Genre</th>\n",
              "      <th>ESRB_Rating</th>\n",
              "      <th>Platform</th>\n",
              "      <th>Publisher</th>\n",
              "      <th>Developer</th>\n",
              "      <th>VGChartz_Score</th>\n",
              "      <th>Critic_Score</th>\n",
              "      <th>User_Score</th>\n",
              "      <th>Total_Shipped</th>\n",
              "      <th>Global_Sales</th>\n",
              "      <th>NA_Sales</th>\n",
              "      <th>PAL_Sales</th>\n",
              "      <th>JP_Sales</th>\n",
              "      <th>Other_Sales</th>\n",
              "      <th>Year</th>\n",
              "      <th>Last_Update</th>\n",
              "      <th>url</th>\n",
              "      <th>status</th>\n",
              "      <th>Vgchartzscore</th>\n",
              "      <th>img_url</th>\n",
              "    </tr>\n",
              "  </thead>\n",
              "  <tbody>\n",
              "    <tr>\n",
              "      <th>0</th>\n",
              "      <td>1</td>\n",
              "      <td>Wii Sports</td>\n",
              "      <td>wii-sports</td>\n",
              "      <td>Sports</td>\n",
              "      <td>E</td>\n",
              "      <td>Wii</td>\n",
              "      <td>Nintendo</td>\n",
              "      <td>Nintendo EAD</td>\n",
              "      <td>NaN</td>\n",
              "      <td>7.7</td>\n",
              "      <td>NaN</td>\n",
              "      <td>82.86</td>\n",
              "      <td>NaN</td>\n",
              "      <td>NaN</td>\n",
              "      <td>NaN</td>\n",
              "      <td>NaN</td>\n",
              "      <td>NaN</td>\n",
              "      <td>2006.0</td>\n",
              "      <td>NaN</td>\n",
              "      <td>http://www.vgchartz.com/game/2667/wii-sports/?...</td>\n",
              "      <td>1</td>\n",
              "      <td>NaN</td>\n",
              "      <td>/games/boxart/full_2258645AmericaFrontccc.jpg</td>\n",
              "    </tr>\n",
              "    <tr>\n",
              "      <th>1</th>\n",
              "      <td>2</td>\n",
              "      <td>Super Mario Bros.</td>\n",
              "      <td>super-mario-bros</td>\n",
              "      <td>Platform</td>\n",
              "      <td>NaN</td>\n",
              "      <td>NES</td>\n",
              "      <td>Nintendo</td>\n",
              "      <td>Nintendo EAD</td>\n",
              "      <td>NaN</td>\n",
              "      <td>10.0</td>\n",
              "      <td>NaN</td>\n",
              "      <td>40.24</td>\n",
              "      <td>NaN</td>\n",
              "      <td>NaN</td>\n",
              "      <td>NaN</td>\n",
              "      <td>NaN</td>\n",
              "      <td>NaN</td>\n",
              "      <td>1985.0</td>\n",
              "      <td>NaN</td>\n",
              "      <td>http://www.vgchartz.com/game/6455/super-mario-...</td>\n",
              "      <td>1</td>\n",
              "      <td>NaN</td>\n",
              "      <td>/games/boxart/8972270ccc.jpg</td>\n",
              "    </tr>\n",
              "    <tr>\n",
              "      <th>2</th>\n",
              "      <td>3</td>\n",
              "      <td>Mario Kart Wii</td>\n",
              "      <td>mario-kart-wii</td>\n",
              "      <td>Racing</td>\n",
              "      <td>E</td>\n",
              "      <td>Wii</td>\n",
              "      <td>Nintendo</td>\n",
              "      <td>Nintendo EAD</td>\n",
              "      <td>NaN</td>\n",
              "      <td>8.2</td>\n",
              "      <td>9.1</td>\n",
              "      <td>37.14</td>\n",
              "      <td>NaN</td>\n",
              "      <td>NaN</td>\n",
              "      <td>NaN</td>\n",
              "      <td>NaN</td>\n",
              "      <td>NaN</td>\n",
              "      <td>2008.0</td>\n",
              "      <td>11th Apr 18</td>\n",
              "      <td>http://www.vgchartz.com/game/6968/mario-kart-w...</td>\n",
              "      <td>1</td>\n",
              "      <td>8.7</td>\n",
              "      <td>/games/boxart/full_8932480AmericaFrontccc.jpg</td>\n",
              "    </tr>\n",
              "  </tbody>\n",
              "</table>\n",
              "</div>"
            ],
            "text/plain": [
              "   Rank  ...                                        img_url\n",
              "0     1  ...  /games/boxart/full_2258645AmericaFrontccc.jpg\n",
              "1     2  ...                   /games/boxart/8972270ccc.jpg\n",
              "2     3  ...  /games/boxart/full_8932480AmericaFrontccc.jpg\n",
              "\n",
              "[3 rows x 23 columns]"
            ]
          },
          "metadata": {},
          "execution_count": 20
        }
      ]
    },
    {
      "cell_type": "markdown",
      "metadata": {
        "id": "ecDtU5Mz0VfA"
      },
      "source": [
        "### 欠損値の補完"
      ]
    },
    {
      "cell_type": "code",
      "metadata": {
        "colab": {
          "base_uri": "https://localhost:8080/"
        },
        "id": "x5MmP6rJ0fYE",
        "outputId": "f7f88143-11b8-486e-d596-a290fe58454b"
      },
      "source": [
        "!pip install datawig\n",
        "!pip install category_encoders"
      ],
      "execution_count": null,
      "outputs": [
        {
          "output_type": "stream",
          "name": "stdout",
          "text": [
            "Requirement already satisfied: datawig in /usr/local/lib/python3.7/dist-packages (0.2.0)\n",
            "Requirement already satisfied: mxnet==1.4.0 in /usr/local/lib/python3.7/dist-packages (from datawig) (1.4.0)\n",
            "Requirement already satisfied: typing==3.6.6 in /usr/local/lib/python3.7/dist-packages (from datawig) (3.6.6)\n",
            "Requirement already satisfied: scikit-learn[alldeps]==0.22.1 in /usr/local/lib/python3.7/dist-packages (from datawig) (0.22.1)\n",
            "Requirement already satisfied: pandas==0.25.3 in /usr/local/lib/python3.7/dist-packages (from datawig) (0.25.3)\n",
            "Requirement already satisfied: numpy<1.15.0,>=1.8.2 in /usr/local/lib/python3.7/dist-packages (from mxnet==1.4.0->datawig) (1.14.6)\n",
            "Requirement already satisfied: graphviz<0.9.0,>=0.8.1 in /usr/local/lib/python3.7/dist-packages (from mxnet==1.4.0->datawig) (0.8.4)\n",
            "Requirement already satisfied: requests>=2.20.0 in /usr/local/lib/python3.7/dist-packages (from mxnet==1.4.0->datawig) (2.23.0)\n",
            "Requirement already satisfied: python-dateutil>=2.6.1 in /usr/local/lib/python3.7/dist-packages (from pandas==0.25.3->datawig) (2.8.2)\n",
            "Requirement already satisfied: pytz>=2017.2 in /usr/local/lib/python3.7/dist-packages (from pandas==0.25.3->datawig) (2018.9)\n",
            "Requirement already satisfied: joblib>=0.11 in /usr/local/lib/python3.7/dist-packages (from scikit-learn[alldeps]==0.22.1->datawig) (1.1.0)\n",
            "Requirement already satisfied: scipy>=0.17.0 in /usr/local/lib/python3.7/dist-packages (from scikit-learn[alldeps]==0.22.1->datawig) (1.4.1)\n",
            "Requirement already satisfied: six>=1.5 in /usr/local/lib/python3.7/dist-packages (from python-dateutil>=2.6.1->pandas==0.25.3->datawig) (1.15.0)\n",
            "Requirement already satisfied: chardet<4,>=3.0.2 in /usr/local/lib/python3.7/dist-packages (from requests>=2.20.0->mxnet==1.4.0->datawig) (3.0.4)\n",
            "Requirement already satisfied: certifi>=2017.4.17 in /usr/local/lib/python3.7/dist-packages (from requests>=2.20.0->mxnet==1.4.0->datawig) (2021.10.8)\n",
            "Requirement already satisfied: urllib3!=1.25.0,!=1.25.1,<1.26,>=1.21.1 in /usr/local/lib/python3.7/dist-packages (from requests>=2.20.0->mxnet==1.4.0->datawig) (1.24.3)\n",
            "Requirement already satisfied: idna<3,>=2.5 in /usr/local/lib/python3.7/dist-packages (from requests>=2.20.0->mxnet==1.4.0->datawig) (2.10)\n",
            "Requirement already satisfied: category_encoders in /usr/local/lib/python3.7/dist-packages (2.3.0)\n",
            "Requirement already satisfied: pandas>=0.21.1 in /usr/local/lib/python3.7/dist-packages (from category_encoders) (0.25.3)\n",
            "Requirement already satisfied: numpy>=1.14.0 in /usr/local/lib/python3.7/dist-packages (from category_encoders) (1.14.6)\n",
            "Requirement already satisfied: scipy>=1.0.0 in /usr/local/lib/python3.7/dist-packages (from category_encoders) (1.4.1)\n",
            "Requirement already satisfied: statsmodels>=0.9.0 in /usr/local/lib/python3.7/dist-packages (from category_encoders) (0.10.2)\n",
            "Requirement already satisfied: scikit-learn>=0.20.0 in /usr/local/lib/python3.7/dist-packages (from category_encoders) (0.22.1)\n",
            "Requirement already satisfied: patsy>=0.5.1 in /usr/local/lib/python3.7/dist-packages (from category_encoders) (0.5.2)\n",
            "Requirement already satisfied: pytz>=2017.2 in /usr/local/lib/python3.7/dist-packages (from pandas>=0.21.1->category_encoders) (2018.9)\n",
            "Requirement already satisfied: python-dateutil>=2.6.1 in /usr/local/lib/python3.7/dist-packages (from pandas>=0.21.1->category_encoders) (2.8.2)\n",
            "Requirement already satisfied: six in /usr/local/lib/python3.7/dist-packages (from patsy>=0.5.1->category_encoders) (1.15.0)\n",
            "Requirement already satisfied: joblib>=0.11 in /usr/local/lib/python3.7/dist-packages (from scikit-learn>=0.20.0->category_encoders) (1.1.0)\n"
          ]
        }
      ]
    },
    {
      "cell_type": "code",
      "metadata": {
        "id": "S_CTy6sj0VmF"
      },
      "source": [
        "import os\n",
        "import random\n",
        "import numpy as np\n",
        "from matplotlib import pyplot as plt\n",
        "from natsort import natsorted \n",
        "\n",
        "import lightgbm as lgb\n",
        "from sklearn.model_selection import train_test_split\n",
        "from sklearn.metrics import mean_squared_error\n",
        "from sklearn.preprocessing import normalize\n",
        "from sklearn.preprocessing import StandardScaler\n",
        "import category_encoders as ce\n",
        "\n",
        "from sklearn.impute import SimpleImputer\n",
        "import datawig\n",
        "\n",
        "import warnings\n",
        "warnings.simplefilter('ignore')"
      ],
      "execution_count": null,
      "outputs": []
    },
    {
      "cell_type": "code",
      "metadata": {
        "id": "NPZok2uZ0TF0"
      },
      "source": [
        "# シード値の固定\n",
        "SEED = 42\n",
        "\n",
        "random.seed(SEED)\n",
        "os.environ['PYTHONHASHSEED'] = str(SEED)\n",
        "np.random.seed(SEED)"
      ],
      "execution_count": null,
      "outputs": []
    },
    {
      "cell_type": "markdown",
      "metadata": {
        "id": "f6e_1giQ0wAV"
      },
      "source": [
        "## 欠損値の補完"
      ]
    },
    {
      "cell_type": "code",
      "metadata": {
        "id": "XZ7VrmZ70sCV"
      },
      "source": [
        "X_train, X_test, y_train, y_test = train_test_split(\n",
        "                                                    df.dropna(subset=[\"Global_Sales\"]).drop([\"Global_Sales\",  \"NA_Sales\", \"PAL_Sales\", \"JP_Sales\", \"Other_Sales\"], axis=1), \n",
        "                                                    df.dropna(subset=[\"Global_Sales\"])[\"Global_Sales\"],  \n",
        "                                                    test_size=0.3,\n",
        "                                                    shuffle=True, \n",
        "                                                    random_state=SEED\n",
        "                                                    ) "
      ],
      "execution_count": null,
      "outputs": []
    },
    {
      "cell_type": "code",
      "metadata": {
        "colab": {
          "base_uri": "https://localhost:8080/",
          "height": 249
        },
        "id": "NhRGFsAI1hGe",
        "outputId": "a2d98091-c95e-4a92-e06b-88a8c7d1e4cd"
      },
      "source": [
        "print(\"X_train\")\n",
        "display(pd.DataFrame(X_train.isnull().sum()).T)\n",
        "\n",
        "print(\"X_test\")\n",
        "display(pd.DataFrame(X_test.isnull().sum()).T)\n",
        "\n",
        "print(\"y_train\")\n",
        "print(y_train.isnull().sum())\n",
        "\n",
        "print(\"y_test\")\n",
        "print(y_test.isnull().sum())"
      ],
      "execution_count": null,
      "outputs": [
        {
          "output_type": "stream",
          "name": "stdout",
          "text": [
            "X_train\n"
          ]
        },
        {
          "output_type": "display_data",
          "data": {
            "text/html": [
              "<div>\n",
              "<style scoped>\n",
              "    .dataframe tbody tr th:only-of-type {\n",
              "        vertical-align: middle;\n",
              "    }\n",
              "\n",
              "    .dataframe tbody tr th {\n",
              "        vertical-align: top;\n",
              "    }\n",
              "\n",
              "    .dataframe thead th {\n",
              "        text-align: right;\n",
              "    }\n",
              "</style>\n",
              "<table border=\"1\" class=\"dataframe\">\n",
              "  <thead>\n",
              "    <tr style=\"text-align: right;\">\n",
              "      <th></th>\n",
              "      <th>Rank</th>\n",
              "      <th>Name</th>\n",
              "      <th>basename</th>\n",
              "      <th>Genre</th>\n",
              "      <th>ESRB_Rating</th>\n",
              "      <th>Platform</th>\n",
              "      <th>Publisher</th>\n",
              "      <th>Developer</th>\n",
              "      <th>VGChartz_Score</th>\n",
              "      <th>Critic_Score</th>\n",
              "      <th>User_Score</th>\n",
              "      <th>Total_Shipped</th>\n",
              "      <th>Year</th>\n",
              "      <th>Last_Update</th>\n",
              "      <th>url</th>\n",
              "      <th>status</th>\n",
              "      <th>Vgchartzscore</th>\n",
              "      <th>img_url</th>\n",
              "    </tr>\n",
              "  </thead>\n",
              "  <tbody>\n",
              "    <tr>\n",
              "      <th>0</th>\n",
              "      <td>0</td>\n",
              "      <td>0</td>\n",
              "      <td>0</td>\n",
              "      <td>0</td>\n",
              "      <td>3911</td>\n",
              "      <td>0</td>\n",
              "      <td>0</td>\n",
              "      <td>3</td>\n",
              "      <td>13590</td>\n",
              "      <td>10599</td>\n",
              "      <td>13480</td>\n",
              "      <td>13590</td>\n",
              "      <td>29</td>\n",
              "      <td>10929</td>\n",
              "      <td>0</td>\n",
              "      <td>0</td>\n",
              "      <td>13270</td>\n",
              "      <td>0</td>\n",
              "    </tr>\n",
              "  </tbody>\n",
              "</table>\n",
              "</div>"
            ],
            "text/plain": [
              "   Rank  Name  basename  Genre  ...  url  status  Vgchartzscore  img_url\n",
              "0     0     0         0      0  ...    0       0          13270        0\n",
              "\n",
              "[1 rows x 18 columns]"
            ]
          },
          "metadata": {}
        },
        {
          "output_type": "stream",
          "name": "stdout",
          "text": [
            "X_test\n"
          ]
        },
        {
          "output_type": "display_data",
          "data": {
            "text/html": [
              "<div>\n",
              "<style scoped>\n",
              "    .dataframe tbody tr th:only-of-type {\n",
              "        vertical-align: middle;\n",
              "    }\n",
              "\n",
              "    .dataframe tbody tr th {\n",
              "        vertical-align: top;\n",
              "    }\n",
              "\n",
              "    .dataframe thead th {\n",
              "        text-align: right;\n",
              "    }\n",
              "</style>\n",
              "<table border=\"1\" class=\"dataframe\">\n",
              "  <thead>\n",
              "    <tr style=\"text-align: right;\">\n",
              "      <th></th>\n",
              "      <th>Rank</th>\n",
              "      <th>Name</th>\n",
              "      <th>basename</th>\n",
              "      <th>Genre</th>\n",
              "      <th>ESRB_Rating</th>\n",
              "      <th>Platform</th>\n",
              "      <th>Publisher</th>\n",
              "      <th>Developer</th>\n",
              "      <th>VGChartz_Score</th>\n",
              "      <th>Critic_Score</th>\n",
              "      <th>User_Score</th>\n",
              "      <th>Total_Shipped</th>\n",
              "      <th>Year</th>\n",
              "      <th>Last_Update</th>\n",
              "      <th>url</th>\n",
              "      <th>status</th>\n",
              "      <th>Vgchartzscore</th>\n",
              "      <th>img_url</th>\n",
              "    </tr>\n",
              "  </thead>\n",
              "  <tbody>\n",
              "    <tr>\n",
              "      <th>0</th>\n",
              "      <td>0</td>\n",
              "      <td>0</td>\n",
              "      <td>0</td>\n",
              "      <td>0</td>\n",
              "      <td>1694</td>\n",
              "      <td>0</td>\n",
              "      <td>0</td>\n",
              "      <td>1</td>\n",
              "      <td>5825</td>\n",
              "      <td>4541</td>\n",
              "      <td>5763</td>\n",
              "      <td>5825</td>\n",
              "      <td>9</td>\n",
              "      <td>4673</td>\n",
              "      <td>0</td>\n",
              "      <td>0</td>\n",
              "      <td>5694</td>\n",
              "      <td>0</td>\n",
              "    </tr>\n",
              "  </tbody>\n",
              "</table>\n",
              "</div>"
            ],
            "text/plain": [
              "   Rank  Name  basename  Genre  ...  url  status  Vgchartzscore  img_url\n",
              "0     0     0         0      0  ...    0       0           5694        0\n",
              "\n",
              "[1 rows x 18 columns]"
            ]
          },
          "metadata": {}
        },
        {
          "output_type": "stream",
          "name": "stdout",
          "text": [
            "y_train\n",
            "0\n",
            "y_test\n",
            "0\n"
          ]
        }
      ]
    },
    {
      "cell_type": "markdown",
      "metadata": {
        "id": "3ju2pFCsRjfR"
      },
      "source": [
        "### dropna"
      ]
    },
    {
      "cell_type": "code",
      "metadata": {
        "id": "yzi7TbrX4ac6"
      },
      "source": [
        "X_train_drop = X_train.dropna(axis=1, how='any')\n",
        "X_test_drop = X_test.dropna(axis=1, how='any')"
      ],
      "execution_count": null,
      "outputs": []
    },
    {
      "cell_type": "code",
      "metadata": {
        "colab": {
          "base_uri": "https://localhost:8080/",
          "height": 348
        },
        "id": "sww_-JGPRZPp",
        "outputId": "85edece4-6850-4fda-fb28-c18bafdb3bb8"
      },
      "source": [
        "#### カテゴリーエンコーディング\n",
        "\n",
        "# ユニーク数に応じてカラムを分割する\n",
        "category_unique_num = X_train_drop.select_dtypes(include=\"object\").nunique()\n",
        "\n",
        "few_kinds_category_columns = category_unique_num[category_unique_num < 10].index\n",
        "many_kinds_category_columns = category_unique_num[category_unique_num >= 10].index\n",
        "\n",
        "\n",
        "# カテゴリーのエンコーディング法則を指定する\n",
        "ordinal_all_cols_mapping_ce = []\n",
        "\n",
        "for i, column in enumerate(many_kinds_category_columns):\n",
        "    ordinal_one_cols_mapping = {}\n",
        "    ordinal_one_cols_mapping_breakdown = {}\n",
        "    for j, category in enumerate(natsorted(X_train_drop[column].unique())):\n",
        "        ordinal_one_cols_mapping_breakdown[category] = j\n",
        "\n",
        "    ordinal_one_cols_mapping[\"col\"] = column\n",
        "    ordinal_one_cols_mapping[\"mapping\"] = ordinal_one_cols_mapping_breakdown\n",
        "    ordinal_all_cols_mapping_ce.append(ordinal_one_cols_mapping)\n",
        "\n",
        "\n",
        "# エンコーディング設定\n",
        "ode = ce.OrdinalEncoder(\n",
        "    mapping = ordinal_all_cols_mapping_ce,\n",
        "    cols = many_kinds_category_columns\n",
        ")\n",
        "\n",
        "ohe = ce.OneHotEncoder(\n",
        "    use_cat_names=True,\n",
        "    cols = few_kinds_category_columns\n",
        ")\n",
        "\n",
        "# 元データをコピー\n",
        "X_train_ce = X_train_drop.copy()\n",
        "X_test_ce = X_test_drop.copy()\n",
        "\n",
        "\n",
        "# OneHotEncoder\n",
        "X_train_ce = ohe.fit_transform(X_train_ce)\n",
        "X_test_ce = ohe.transform(X_test_ce)\n",
        "\n",
        "# OrdinalHotEncoder\n",
        "X_train_ce = ode.fit_transform(X_train_ce)\n",
        "X_test_ce = ode.transform(X_test_ce)\n",
        "\n",
        "# 正規化\n",
        "sc = StandardScaler()\n",
        "X_train_ce = pd.DataFrame(\n",
        "                            sc.fit_transform(X_train_ce),\n",
        "                            columns=X_train_ce.columns\n",
        "                            )\n",
        "\n",
        "X_test_ce = pd.DataFrame(\n",
        "                            sc.transform(X_test_ce),\n",
        "                            columns=X_test_ce.columns\n",
        "                            )\n",
        "\n",
        "\n",
        "# 学習、推論\n",
        "lgb_train = lgb.Dataset(X_train_ce, y_train)\n",
        "lgb_test = lgb.Dataset(X_test_ce, y_test, reference=lgb_train)\n",
        "\n",
        "params = {\n",
        "          'task': 'train',              # タスクを訓練に設定\n",
        "          'boosting_type': 'gbdt',      # GBDTを指定\n",
        "          'objective': 'regression',    # 回帰を指定\n",
        "          'metric': {'rmse'},              # 回帰の損失（誤差）\n",
        "          'learning_rate': 0.1,         # 学習率\n",
        "          'seed': SEED                   # シード値\n",
        "          }\n",
        "\n",
        "lgb_results = {}                                    # 学習の履歴を入れる入物\n",
        "\n",
        "model = lgb.train(\n",
        "                  params=params,                    # ハイパーパラメータをセット\n",
        "                  train_set=lgb_train,              # 訓練データを訓練用にセット\n",
        "                  valid_sets=[lgb_train, lgb_test], # 訓練データとテストデータをセット\n",
        "                  valid_names=['Train', 'Test'],    # データセットの名前をそれぞれ設定\n",
        "                  num_boost_round=100,              # 計算回数\n",
        "                  early_stopping_rounds=50,         # アーリーストッピング設定\n",
        "                  evals_result=lgb_results,\n",
        "                  verbose_eval=-1,                           # ログを最後の1つだけ表示\n",
        "                  )\n",
        "\n",
        "# 損失推移を表示\n",
        "loss_train = lgb_results['Train']['rmse']\n",
        "loss_test = lgb_results['Test']['rmse']   \n",
        "  \n",
        "fig = plt.figure()\n",
        "  \n",
        "plt.xlabel('Iteration')\n",
        "plt.ylabel('logloss')\n",
        " \n",
        "plt.plot(loss_train, label='train loss')\n",
        "plt.plot(loss_test, label='test loss')\n",
        " \n",
        "plt.legend()\n",
        "plt.show()\n",
        "\n",
        "# 推論\n",
        "y_pred = model.predict(X_test_ce)\n",
        "\n",
        "rmse_drop = mean_squared_error(y_test, y_pred, squared=False)\n",
        "print(\"RMSE:\", rmse_drop)"
      ],
      "execution_count": null,
      "outputs": [
        {
          "output_type": "stream",
          "name": "stdout",
          "text": [
            "Training until validation scores don't improve for 50 rounds.\n",
            "Did not meet early stopping. Best iteration is:\n",
            "[100]\tTrain's rmse: 0.131719\tTest's rmse: 0.206367\n"
          ]
        },
        {
          "output_type": "display_data",
          "data": {
            "image/png": "[encoded data removed]",
            "text/plain": [
              "<Figure size 432x288 with 1 Axes>"
            ]
          },
          "metadata": {
            "needs_background": "light"
          }
        },
        {
          "output_type": "stream",
          "name": "stdout",
          "text": [
            "RMSE: 0.2063668889048658\n"
          ]
        }
      ]
    },
    {
      "cell_type": "markdown",
      "metadata": {
        "id": "8hHY97lQRZto"
      },
      "source": [
        "### fillna median"
      ]
    },
    {
      "cell_type": "code",
      "metadata": {
        "id": "8PXytwBH2GMd"
      },
      "source": [
        "X_train_med = X_train.fillna(X_train.mode())\n",
        "X_test_med = X_test.fillna(X_test.mode())"
      ],
      "execution_count": null,
      "outputs": []
    },
    {
      "cell_type": "code",
      "metadata": {
        "colab": {
          "base_uri": "https://localhost:8080/",
          "height": 348
        },
        "id": "qU2ad1OKQ9XC",
        "outputId": "c17868f5-2be5-4902-81a1-577255ca380e"
      },
      "source": [
        "#### カテゴリーエンコーディング\n",
        "\n",
        "# ユニーク数に応じてカラムを分割する\n",
        "category_unique_num = X_train_med.select_dtypes(include=\"object\").nunique()\n",
        "\n",
        "few_kinds_category_columns = category_unique_num[category_unique_num < 10].index\n",
        "many_kinds_category_columns = category_unique_num[category_unique_num >= 10].index\n",
        "\n",
        "\n",
        "# カテゴリーのエンコーディング法則を指定する\n",
        "ordinal_all_cols_mapping_ce = []\n",
        "\n",
        "for i, column in enumerate(many_kinds_category_columns):\n",
        "    ordinal_one_cols_mapping = {}\n",
        "    ordinal_one_cols_mapping_breakdown = {}\n",
        "    for j, category in enumerate(natsorted(X_train_med[column].unique())):\n",
        "        ordinal_one_cols_mapping_breakdown[category] = j\n",
        "\n",
        "    ordinal_one_cols_mapping[\"col\"] = column\n",
        "    ordinal_one_cols_mapping[\"mapping\"] = ordinal_one_cols_mapping_breakdown\n",
        "    ordinal_all_cols_mapping_ce.append(ordinal_one_cols_mapping)\n",
        "\n",
        "\n",
        "# エンコーディング設定\n",
        "ode = ce.OrdinalEncoder(\n",
        "    mapping = ordinal_all_cols_mapping_ce,\n",
        "    cols = many_kinds_category_columns\n",
        ")\n",
        "\n",
        "ohe = ce.OneHotEncoder(\n",
        "    use_cat_names=True,\n",
        "    cols = few_kinds_category_columns\n",
        ")\n",
        "\n",
        "# 元データをコピー\n",
        "X_train_ce = X_train_med.copy()\n",
        "X_test_ce = X_test_med.copy()\n",
        "\n",
        "\n",
        "# OneHotEncoder\n",
        "X_train_ce = ohe.fit_transform(X_train_ce)\n",
        "X_test_ce = ohe.transform(X_test_ce)\n",
        "\n",
        "# OrdinalHotEncoder\n",
        "X_train_ce = ode.fit_transform(X_train_ce)\n",
        "X_test_ce = ode.transform(X_test_ce)\n",
        "\n",
        "# 正規化\n",
        "sc = StandardScaler()\n",
        "X_train_ce = pd.DataFrame(\n",
        "                            sc.fit_transform(X_train_ce),\n",
        "                            columns=X_train_ce.columns\n",
        "                            )\n",
        "\n",
        "X_test_ce = pd.DataFrame(\n",
        "                            sc.transform(X_test_ce),\n",
        "                            columns=X_test_ce.columns\n",
        "                            )\n",
        "\n",
        "\n",
        "# 学習、推論\n",
        "lgb_train = lgb.Dataset(X_train_ce, y_train)\n",
        "lgb_test = lgb.Dataset(X_test_ce, y_test, reference=lgb_train)\n",
        "\n",
        "params = {\n",
        "          'task': 'train',              # タスクを訓練に設定\n",
        "          'boosting_type': 'gbdt',      # GBDTを指定\n",
        "          'objective': 'regression',    # 回帰を指定\n",
        "          'metric': {'rmse'},              # 回帰の損失（誤差）\n",
        "          'learning_rate': 0.1,         # 学習率\n",
        "          'seed': SEED                   # シード値\n",
        "          }\n",
        "\n",
        "lgb_results = {}                                    # 学習の履歴を入れる入物\n",
        "\n",
        "model = lgb.train(\n",
        "                  params=params,                    # ハイパーパラメータをセット\n",
        "                  train_set=lgb_train,              # 訓練データを訓練用にセット\n",
        "                  valid_sets=[lgb_train, lgb_test], # 訓練データとテストデータをセット\n",
        "                  valid_names=['Train', 'Test'],    # データセットの名前をそれぞれ設定\n",
        "                  num_boost_round=100,              # 計算回数\n",
        "                  early_stopping_rounds=50,         # アーリーストッピング設定\n",
        "                  evals_result=lgb_results,\n",
        "                  verbose_eval=-1,                           # ログを最後の1つだけ表示\n",
        "                  )\n",
        "\n",
        "# 損失推移を表示\n",
        "loss_train = lgb_results['Train']['rmse']\n",
        "loss_test = lgb_results['Test']['rmse']   \n",
        "  \n",
        "fig = plt.figure()\n",
        "  \n",
        "plt.xlabel('Iteration')\n",
        "plt.ylabel('logloss')\n",
        " \n",
        "plt.plot(loss_train, label='train loss')\n",
        "plt.plot(loss_test, label='test loss')\n",
        " \n",
        "plt.legend()\n",
        "plt.show()\n",
        "\n",
        "# 推論\n",
        "y_pred = model.predict(X_test_ce)\n",
        "\n",
        "rmse_md = mean_squared_error(y_test, y_pred, squared=False)\n",
        "print(\"RMSE:\", rmse_md)"
      ],
      "execution_count": null,
      "outputs": [
        {
          "output_type": "stream",
          "name": "stdout",
          "text": [
            "Training until validation scores don't improve for 50 rounds.\n",
            "Did not meet early stopping. Best iteration is:\n",
            "[100]\tTrain's rmse: 0.134021\tTest's rmse: 0.226488\n"
          ]
        },
        {
          "output_type": "display_data",
          "data": {
            "image/png": "[encoded data removed]",
            "text/plain": [
              "<Figure size 432x288 with 1 Axes>"
            ]
          },
          "metadata": {
            "needs_background": "light"
          }
        },
        {
          "output_type": "stream",
          "name": "stdout",
          "text": [
            "RMSE: 0.22648763368118405\n"
          ]
        }
      ]
    },
    {
      "cell_type": "markdown",
      "metadata": {
        "id": "XmZbzl9QQhzo"
      },
      "source": [
        "### fillna、ffill"
      ]
    },
    {
      "cell_type": "code",
      "metadata": {
        "id": "skr-QzY15mpn"
      },
      "source": [
        "X_train_ff = X_train.fillna(method='ffill')\n",
        "X_test_ff = X_test.fillna(method='ffill')"
      ],
      "execution_count": null,
      "outputs": []
    },
    {
      "cell_type": "code",
      "metadata": {
        "colab": {
          "base_uri": "https://localhost:8080/",
          "height": 348
        },
        "id": "vWdrs05JQbeq",
        "outputId": "8ee50c38-a299-4499-db10-81cc79bf183a"
      },
      "source": [
        "#### カテゴリーエンコーディング\n",
        "\n",
        "# ユニーク数に応じてカラムを分割する\n",
        "category_unique_num = X_train_ff.select_dtypes(include=\"object\").nunique()\n",
        "\n",
        "few_kinds_category_columns = category_unique_num[category_unique_num < 10].index\n",
        "many_kinds_category_columns = category_unique_num[category_unique_num >= 10].index\n",
        "\n",
        "\n",
        "# カテゴリーのエンコーディング法則を指定する\n",
        "ordinal_all_cols_mapping_ce = []\n",
        "\n",
        "for i, column in enumerate(many_kinds_category_columns):\n",
        "    ordinal_one_cols_mapping = {}\n",
        "    ordinal_one_cols_mapping_breakdown = {}\n",
        "    for j, category in enumerate(natsorted(X_train_ff[column].unique())):\n",
        "        ordinal_one_cols_mapping_breakdown[category] = j\n",
        "\n",
        "    ordinal_one_cols_mapping[\"col\"] = column\n",
        "    ordinal_one_cols_mapping[\"mapping\"] = ordinal_one_cols_mapping_breakdown\n",
        "    ordinal_all_cols_mapping_ce.append(ordinal_one_cols_mapping)\n",
        "\n",
        "\n",
        "# エンコーディング設定\n",
        "ode = ce.OrdinalEncoder(\n",
        "    mapping = ordinal_all_cols_mapping_ce,\n",
        "    cols = many_kinds_category_columns\n",
        ")\n",
        "\n",
        "ohe = ce.OneHotEncoder(\n",
        "    use_cat_names=True,\n",
        "    cols = few_kinds_category_columns\n",
        ")\n",
        "\n",
        "# 元データをコピー\n",
        "X_train_ce = X_train_ff.copy()\n",
        "X_test_ce = X_test_ff.copy()\n",
        "\n",
        "\n",
        "# OneHotEncoder\n",
        "X_train_ce = ohe.fit_transform(X_train_ce)\n",
        "X_test_ce = ohe.transform(X_test_ce)\n",
        "\n",
        "# OrdinalHotEncoder\n",
        "X_train_ce = ode.fit_transform(X_train_ce)\n",
        "X_test_ce = ode.transform(X_test_ce)\n",
        "\n",
        "# 正規化\n",
        "sc = StandardScaler()\n",
        "X_train_ce = pd.DataFrame(\n",
        "                            sc.fit_transform(X_train_ce),\n",
        "                            columns=X_train_ce.columns\n",
        "                            )\n",
        "\n",
        "X_test_ce = pd.DataFrame(\n",
        "                            sc.transform(X_test_ce),\n",
        "                            columns=X_test_ce.columns\n",
        "                            )\n",
        "\n",
        "\n",
        "# 学習、推論\n",
        "lgb_train = lgb.Dataset(X_train_ce, y_train)\n",
        "lgb_test = lgb.Dataset(X_test_ce, y_test, reference=lgb_train)\n",
        "\n",
        "params = {\n",
        "          'task': 'train',              # タスクを訓練に設定\n",
        "          'boosting_type': 'gbdt',      # GBDTを指定\n",
        "          'objective': 'regression',    # 回帰を指定\n",
        "          'metric': {'rmse'},              # 回帰の損失（誤差）\n",
        "          'learning_rate': 0.1,         # 学習率\n",
        "          'seed': SEED                   # シード値\n",
        "          }\n",
        "\n",
        "lgb_results = {}                                    # 学習の履歴を入れる入物\n",
        "\n",
        "model = lgb.train(\n",
        "                  params=params,                    # ハイパーパラメータをセット\n",
        "                  train_set=lgb_train,              # 訓練データを訓練用にセット\n",
        "                  valid_sets=[lgb_train, lgb_test], # 訓練データとテストデータをセット\n",
        "                  valid_names=['Train', 'Test'],    # データセットの名前をそれぞれ設定\n",
        "                  num_boost_round=100,              # 計算回数\n",
        "                  early_stopping_rounds=50,         # アーリーストッピング設定\n",
        "                  evals_result=lgb_results,\n",
        "                  verbose_eval=-1,                           # ログを最後の1つだけ表示\n",
        "                  )\n",
        "\n",
        "# 損失推移を表示\n",
        "loss_train = lgb_results['Train']['rmse']\n",
        "loss_test = lgb_results['Test']['rmse']   \n",
        "  \n",
        "fig = plt.figure()\n",
        "  \n",
        "plt.xlabel('Iteration')\n",
        "plt.ylabel('logloss')\n",
        " \n",
        "plt.plot(loss_train, label='train loss')\n",
        "plt.plot(loss_test, label='test loss')\n",
        " \n",
        "plt.legend()\n",
        "plt.show()\n",
        "\n",
        "# 推論\n",
        "y_pred = model.predict(X_test_ce)\n",
        "\n",
        "rmse_ff = mean_squared_error(y_test, y_pred, squared=False)\n",
        "print(\"RMSE:\", rmse_ff)"
      ],
      "execution_count": null,
      "outputs": [
        {
          "output_type": "stream",
          "name": "stdout",
          "text": [
            "Training until validation scores don't improve for 50 rounds.\n",
            "Early stopping, best iteration is:\n",
            "[38]\tTrain's rmse: 0.153892\tTest's rmse: 0.227949\n"
          ]
        },
        {
          "output_type": "display_data",
          "data": {
            "image/png": "[encoded data removed]",
            "text/plain": [
              "<Figure size 432x288 with 1 Axes>"
            ]
          },
          "metadata": {
            "needs_background": "light"
          }
        },
        {
          "output_type": "stream",
          "name": "stdout",
          "text": [
            "RMSE: 0.2279492669106465\n"
          ]
        }
      ]
    },
    {
      "cell_type": "markdown",
      "metadata": {
        "id": "Q3jFu2d0QeQa"
      },
      "source": [
        "### SimpleImputer"
      ]
    },
    {
      "cell_type": "code",
      "metadata": {
        "id": "VnUdbauQNfFd"
      },
      "source": [
        "imp = SimpleImputer(\n",
        "    missing_values=np.nan, \n",
        "    strategy='constant',\n",
        "    fill_value=-9999\n",
        "    )\n",
        "\n",
        "X_train_imp_cst = pd.DataFrame(\n",
        "                            imp.fit_transform(X_train),\n",
        "                            columns = X_train.columns\n",
        "                        )\n",
        "\n",
        "X_test_imp_cst = pd.DataFrame(\n",
        "                            imp.transform(X_test),\n",
        "                            columns = X_test.columns\n",
        "                        )"
      ],
      "execution_count": null,
      "outputs": []
    },
    {
      "cell_type": "code",
      "metadata": {
        "colab": {
          "base_uri": "https://localhost:8080/",
          "height": 348
        },
        "id": "ExrZbe2X4bgB",
        "outputId": "c3ca1148-ac00-4e01-c268-339314950b69"
      },
      "source": [
        "#### カテゴリーエンコーディング\n",
        "\n",
        "# ユニーク数に応じてカラムを分割する\n",
        "category_unique_num = X_train_imp_cst.select_dtypes(include=\"object\").nunique()\n",
        "\n",
        "few_kinds_category_columns = category_unique_num[category_unique_num < 10].index\n",
        "many_kinds_category_columns = category_unique_num[category_unique_num >= 10].index\n",
        "\n",
        "\n",
        "# カテゴリーのエンコーディング法則を指定する\n",
        "ordinal_all_cols_mapping_ce = []\n",
        "\n",
        "for i, column in enumerate(many_kinds_category_columns):\n",
        "    ordinal_one_cols_mapping = {}\n",
        "    ordinal_one_cols_mapping_breakdown = {}\n",
        "    for j, category in enumerate(natsorted(X_train_imp_cst[column].unique())):\n",
        "        ordinal_one_cols_mapping_breakdown[category] = j\n",
        "\n",
        "    ordinal_one_cols_mapping[\"col\"] = column\n",
        "    ordinal_one_cols_mapping[\"mapping\"] = ordinal_one_cols_mapping_breakdown\n",
        "    ordinal_all_cols_mapping_ce.append(ordinal_one_cols_mapping)\n",
        "\n",
        "\n",
        "# エンコーディング設定\n",
        "ode = ce.OrdinalEncoder(\n",
        "    mapping = ordinal_all_cols_mapping_ce,\n",
        "    cols = many_kinds_category_columns\n",
        ")\n",
        "\n",
        "ohe = ce.OneHotEncoder(\n",
        "    use_cat_names=True,\n",
        "    cols = few_kinds_category_columns\n",
        ")\n",
        "\n",
        "# 元データをコピー\n",
        "X_train_ce = X_train_imp_cst.copy()\n",
        "X_test_ce = X_test_imp_cst.copy()\n",
        "\n",
        "\n",
        "# OneHotEncoder\n",
        "X_train_ce = ohe.fit_transform(X_train_ce)\n",
        "X_test_ce = ohe.transform(X_test_ce)\n",
        "\n",
        "# OrdinalHotEncoder\n",
        "X_train_ce = ode.fit_transform(X_train_ce)\n",
        "X_test_ce = ode.transform(X_test_ce)\n",
        "\n",
        "# 正規化\n",
        "sc = StandardScaler()\n",
        "X_train_ce = pd.DataFrame(\n",
        "                            sc.fit_transform(X_train_ce),\n",
        "                            columns=X_train_ce.columns\n",
        "                            )\n",
        "\n",
        "X_test_ce = pd.DataFrame(\n",
        "                            sc.transform(X_test_ce),\n",
        "                            columns=X_test_ce.columns\n",
        "                            )\n",
        "\n",
        "\n",
        "# 学習、推論\n",
        "lgb_train = lgb.Dataset(X_train_ce, y_train)\n",
        "lgb_test = lgb.Dataset(X_test_ce, y_test, reference=lgb_train)\n",
        "\n",
        "params = {\n",
        "          'task': 'train',              # タスクを訓練に設定\n",
        "          'boosting_type': 'gbdt',      # GBDTを指定\n",
        "          'objective': 'regression',    # 回帰を指定\n",
        "          'metric': {'rmse'},              # 回帰の損失（誤差）\n",
        "          'learning_rate': 0.1,         # 学習率\n",
        "          'seed': SEED                   # シード値\n",
        "          }\n",
        "\n",
        "lgb_results = {}                                    # 学習の履歴を入れる入物\n",
        "\n",
        "model = lgb.train(\n",
        "                  params=params,                    # ハイパーパラメータをセット\n",
        "                  train_set=lgb_train,              # 訓練データを訓練用にセット\n",
        "                  valid_sets=[lgb_train, lgb_test], # 訓練データとテストデータをセット\n",
        "                  valid_names=['Train', 'Test'],    # データセットの名前をそれぞれ設定\n",
        "                  num_boost_round=100,              # 計算回数\n",
        "                  early_stopping_rounds=50,         # アーリーストッピング設定\n",
        "                  evals_result=lgb_results,\n",
        "                  verbose_eval=-1,                           # ログを最後の1つだけ表示\n",
        "                  )\n",
        "\n",
        "# 損失推移を表示\n",
        "loss_train = lgb_results['Train']['rmse']\n",
        "loss_test = lgb_results['Test']['rmse']   \n",
        "  \n",
        "fig = plt.figure()\n",
        "  \n",
        "plt.xlabel('Iteration')\n",
        "plt.ylabel('logloss')\n",
        " \n",
        "plt.plot(loss_train, label='train loss')\n",
        "plt.plot(loss_test, label='test loss')\n",
        " \n",
        "plt.legend()\n",
        "plt.show()\n",
        "\n",
        "# 推論\n",
        "y_pred = model.predict(X_test_ce)\n",
        "\n",
        "rmse_imp_cst = mean_squared_error(y_test, y_pred, squared=False)\n",
        "print(\"RMSE:\", rmse_imp_cst)"
      ],
      "execution_count": null,
      "outputs": [
        {
          "output_type": "stream",
          "name": "stdout",
          "text": [
            "Training until validation scores don't improve for 50 rounds.\n",
            "Early stopping, best iteration is:\n",
            "[1]\tTrain's rmse: 0.740028\tTest's rmse: 1.22226\n"
          ]
        },
        {
          "output_type": "display_data",
          "data": {
            "image/png": "[encoded data removed]",
            "text/plain": [
              "<Figure size 432x288 with 1 Axes>"
            ]
          },
          "metadata": {
            "needs_background": "light"
          }
        },
        {
          "output_type": "stream",
          "name": "stdout",
          "text": [
            "RMSE: 1.2222641644485082\n"
          ]
        }
      ]
    },
    {
      "cell_type": "markdown",
      "metadata": {
        "id": "8rs2gFggaJkA"
      },
      "source": [
        "## DataWig"
      ]
    },
    {
      "cell_type": "code",
      "metadata": {
        "colab": {
          "base_uri": "https://localhost:8080/"
        },
        "id": "cm0rAltKUhZk",
        "outputId": "17a50785-24a3-453b-9fbf-6d4434d172bc"
      },
      "source": [
        "null_columns =X_train.dropna(how=\"all\", axis=1).isnull().sum()[X_train.isnull().sum() > 0].index.to_list()\n",
        "null_columns"
      ],
      "execution_count": null,
      "outputs": [
        {
          "output_type": "execute_result",
          "data": {
            "text/plain": [
              "['ESRB_Rating',\n",
              " 'Developer',\n",
              " 'Critic_Score',\n",
              " 'User_Score',\n",
              " 'Year',\n",
              " 'Last_Update',\n",
              " 'Vgchartzscore']"
            ]
          },
          "metadata": {},
          "execution_count": 33
        }
      ]
    },
    {
      "cell_type": "code",
      "metadata": {
        "colab": {
          "base_uri": "https://localhost:8080/"
        },
        "id": "sjcRc4UGXMSy",
        "outputId": "184aa04e-2517-48a1-9893-38a77fd54341"
      },
      "source": [
        "# 学習\n",
        "EPOCH = 5\n",
        "\n",
        "X_train_wig = X_train.dropna(how=\"all\", axis=1).copy()\n",
        "X_test_wig = X_test[X_train.dropna(how=\"all\", axis=1).columns].copy()\n",
        "\n",
        "for column in null_columns:\n",
        "\n",
        "    print(column, end=\"\")\n",
        "\n",
        "    imputer = datawig.SimpleImputer(\n",
        "        input_columns=X_train.columns,\n",
        "        output_column=column,\n",
        "    )\n",
        "\n",
        "    imputer.fit(\n",
        "        train_df=X_train,\n",
        "        num_epochs=EPOCH\n",
        "    )\n",
        "\n",
        "    # 欠損値に相当する項目の予測\n",
        "    preds_train = imputer.predict(X_train)\n",
        "    X_train_wig[column] = preds_train[column +  \"_imputed\"]\n",
        "\n",
        "    preds_test = imputer.predict(X_test)\n",
        "    X_test_wig[column] = preds_test[column +  \"_imputed\"]\n",
        "\n",
        "    print(\" is done!\")"
      ],
      "execution_count": null,
      "outputs": [
        {
          "output_type": "stream",
          "name": "stdout",
          "text": [
            "ESRB_Rating is done!\n",
            "Developer is done!\n",
            "Critic_Score is done!\n",
            "User_Score is done!\n",
            "Year is done!\n",
            "Last_Update is done!\n",
            "Vgchartzscore is done!\n"
          ]
        }
      ]
    },
    {
      "cell_type": "code",
      "metadata": {
        "colab": {
          "base_uri": "https://localhost:8080/",
          "height": 348
        },
        "id": "0mXbT3OLfRs7",
        "outputId": "acbe53b6-e71c-4dc9-9640-7228aeacef8a"
      },
      "source": [
        "#### カテゴリーエンコーディング\n",
        "\n",
        "# ユニーク数に応じてカラムを分割する\n",
        "category_unique_num = X_train_wig.select_dtypes(include=\"object\").nunique()\n",
        "\n",
        "few_kinds_category_columns = category_unique_num[category_unique_num < 10].index\n",
        "many_kinds_category_columns = category_unique_num[category_unique_num >= 10].index\n",
        "\n",
        "\n",
        "# カテゴリーのエンコーディング法則を指定する\n",
        "ordinal_all_cols_mapping_ce = []\n",
        "\n",
        "for i, column in enumerate(many_kinds_category_columns):\n",
        "    ordinal_one_cols_mapping = {}\n",
        "    ordinal_one_cols_mapping_breakdown = {}\n",
        "    for j, category in enumerate(natsorted(X_train_wig[column].unique())):\n",
        "        ordinal_one_cols_mapping_breakdown[category] = j\n",
        "\n",
        "    ordinal_one_cols_mapping[\"col\"] = column\n",
        "    ordinal_one_cols_mapping[\"mapping\"] = ordinal_one_cols_mapping_breakdown\n",
        "    ordinal_all_cols_mapping_ce.append(ordinal_one_cols_mapping)\n",
        "\n",
        "\n",
        "# エンコーディング設定\n",
        "ode = ce.OrdinalEncoder(\n",
        "    mapping = ordinal_all_cols_mapping_ce,\n",
        "    cols = many_kinds_category_columns\n",
        ")\n",
        "\n",
        "ohe = ce.OneHotEncoder(\n",
        "    use_cat_names=True,\n",
        "    cols = few_kinds_category_columns\n",
        ")\n",
        "\n",
        "# 元データをコピー\n",
        "X_train_ce = X_train_wig.copy()\n",
        "X_test_ce = X_test_wig.copy()\n",
        "\n",
        "\n",
        "# OneHotEncoder\n",
        "X_train_ce = ohe.fit_transform(X_train_ce)\n",
        "X_test_ce = ohe.transform(X_test_ce)\n",
        "\n",
        "# OrdinalHotEncoder\n",
        "X_train_ce = ode.fit_transform(X_train_ce)\n",
        "X_test_ce = ode.transform(X_test_ce)\n",
        "\n",
        "# 正規化\n",
        "sc = StandardScaler()\n",
        "X_train_ce = pd.DataFrame(\n",
        "                            sc.fit_transform(X_train_ce),\n",
        "                            columns=X_train_ce.columns\n",
        "                            )\n",
        "\n",
        "X_test_ce = pd.DataFrame(\n",
        "                            sc.transform(X_test_ce),\n",
        "                            columns=X_test_ce.columns\n",
        "                            )\n",
        "\n",
        "\n",
        "# 学習、推論\n",
        "lgb_train = lgb.Dataset(X_train_ce, y_train)\n",
        "lgb_test = lgb.Dataset(X_test_ce, y_test, reference=lgb_train)\n",
        "\n",
        "params = {\n",
        "          'task': 'train',              # タスクを訓練に設定\n",
        "          'boosting_type': 'gbdt',      # GBDTを指定\n",
        "          'objective': 'regression',    # 回帰を指定\n",
        "          'metric': {'rmse'},              # 回帰の損失（誤差）\n",
        "          'learning_rate': 0.1,         # 学習率\n",
        "          'seed': SEED                   # シード値\n",
        "          }\n",
        "\n",
        "lgb_results = {}                                    # 学習の履歴を入れる入物\n",
        "\n",
        "model = lgb.train(\n",
        "                  params=params,                    # ハイパーパラメータをセット\n",
        "                  train_set=lgb_train,              # 訓練データを訓練用にセット\n",
        "                  valid_sets=[lgb_train, lgb_test], # 訓練データとテストデータをセット\n",
        "                  valid_names=['Train', 'Test'],    # データセットの名前をそれぞれ設定\n",
        "                  num_boost_round=100,              # 計算回数\n",
        "                  early_stopping_rounds=50,         # アーリーストッピング設定\n",
        "                  evals_result=lgb_results,\n",
        "                  verbose_eval=-1,                           # ログを最後の1つだけ表示\n",
        "                  )\n",
        "\n",
        "# 損失推移を表示\n",
        "loss_train = lgb_results['Train']['rmse']\n",
        "loss_test = lgb_results['Test']['rmse']   \n",
        "  \n",
        "fig = plt.figure()\n",
        "  \n",
        "plt.xlabel('Iteration')\n",
        "plt.ylabel('logloss')\n",
        " \n",
        "plt.plot(loss_train, label='train loss')\n",
        "plt.plot(loss_test, label='test loss')\n",
        " \n",
        "plt.legend()\n",
        "plt.show()\n",
        "\n",
        "# 推論\n",
        "y_pred = model.predict(X_test_ce)\n",
        "\n",
        "rmse_wig = mean_squared_error(y_test, y_pred, squared=False)\n",
        "print(\"RMSE:\", rmse_wig)"
      ],
      "execution_count": null,
      "outputs": [
        {
          "output_type": "stream",
          "name": "stdout",
          "text": [
            "Training until validation scores don't improve for 50 rounds.\n",
            "Early stopping, best iteration is:\n",
            "[49]\tTrain's rmse: 0.154505\tTest's rmse: 0.22671\n"
          ]
        },
        {
          "output_type": "display_data",
          "data": {
            "image/png": "[encoded data removed]",
            "text/plain": [
              "<Figure size 432x288 with 1 Axes>"
            ]
          },
          "metadata": {
            "needs_background": "light"
          }
        },
        {
          "output_type": "stream",
          "name": "stdout",
          "text": [
            "RMSE: 0.22670957239246292\n"
          ]
        }
      ]
    },
    {
      "cell_type": "code",
      "metadata": {
        "colab": {
          "base_uri": "https://localhost:8080/"
        },
        "id": "wLZIaivZSOBo",
        "outputId": "7fa7c060-b493-4bf9-bb18-eb7b96eb024f"
      },
      "source": [
        "print(\"dropna RMSE:\", round(rmse_drop, 3))\n",
        "print(\"fillna median RMSE:\", round(rmse_md, 3))\n",
        "print(\"fillna ffill RMSE:\", round(rmse_ff, 3))\n",
        "print(\"SimpleImputer constant RMSE:\", round(rmse_imp_cst, 3))\n",
        "print(\"DataWig RMSE:\", round(rmse_wig, 3))"
      ],
      "execution_count": null,
      "outputs": [
        {
          "output_type": "stream",
          "name": "stdout",
          "text": [
            "dropna RMSE: 0.206\n",
            "fillna median RMSE: 0.226\n",
            "fillna ffill RMSE: 0.228\n",
            "SimpleImputer constant RMSE: 1.222\n",
            "DataWig RMSE: 0.227\n"
          ]
        }
      ]
    },
    {
      "cell_type": "code",
      "metadata": {
        "id": "Wluab1baf7EJ"
      },
      "source": [
        ""
      ],
      "execution_count": null,
      "outputs": []
    }
  ]
}