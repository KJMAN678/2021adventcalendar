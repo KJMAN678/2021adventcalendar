{
  "nbformat": 4,
  "nbformat_minor": 0,
  "metadata": {
    "colab": {
      "name": "17_tabnet.ipynb",
      "provenance": [],
      "collapsed_sections": []
    },
    "kernelspec": {
      "name": "python3",
      "display_name": "Python 3"
    },
    "language_info": {
      "name": "python"
    },
    "accelerator": "GPU"
  },
  "cells": [
    {
      "cell_type": "markdown",
      "metadata": {
        "id": "RA_zd5BvsXyk"
      },
      "source": [
        "## Google Driveのマウント"
      ]
    },
    {
      "cell_type": "code",
      "metadata": {
        "colab": {
          "base_uri": "https://localhost:8080/"
        },
        "id": "ARmR6Kdbsayr",
        "outputId": "014725b4-2200-4666-d938-022fd1984a85"
      },
      "source": [
        "from google.colab import drive\n",
        "drive.mount('/content/drive')"
      ],
      "execution_count": null,
      "outputs": [
        {
          "output_type": "stream",
          "name": "stdout",
          "text": [
            "Mounted at /content/drive\n"
          ]
        }
      ]
    },
    {
      "cell_type": "markdown",
      "metadata": {
        "id": "TCEUaFVvsc6a"
      },
      "source": [
        "## データセットの準備"
      ]
    },
    {
      "cell_type": "code",
      "metadata": {
        "id": "yFYRlGskoctf",
        "colab": {
          "base_uri": "https://localhost:8080/"
        },
        "outputId": "ae845856-0aac-46ef-a70f-45cb9ee818c0"
      },
      "source": [
        "# kaggle ライブラリのインストール\n",
        "!pip install kaggle\n",
        "\n",
        "# 一時フォルダに .kaggleフォルダを作成\n",
        "!mkdir ~/.kaggle\n",
        "\n",
        "# MyDrive の kaggle.json を一時フォルダ内の .kaggleフォルダにコピー\n",
        "!cp /content/drive/MyDrive/kaggle/kaggle.json ~/.kaggle/\n",
        "\n",
        "# アクセス権限の設定\n",
        "!chmod 600 ~/.kaggle/kaggle.json\n",
        "\n",
        "!mkdir ~/.kaggle\n",
        "\n",
        "# zipファイルのダウンロード\n",
        "!kaggle datasets download -d ashaheedq/video-games-sales-2019 -p /content/drive/MyDrive/kaggle\n",
        "\n",
        "# 解凍\n",
        "!unzip /content/drive/MyDrive/kaggle/video-games-sales-2019.zip -d /content/drive/MyDrive/kaggle\n",
        "\n",
        "!rm /content/drive/MyDrive/kaggle/video-games-sales-2019.zip"
      ],
      "execution_count": null,
      "outputs": [
        {
          "output_type": "stream",
          "name": "stdout",
          "text": [
            "Requirement already satisfied: kaggle in /usr/local/lib/python3.7/dist-packages (1.5.12)\n",
            "Requirement already satisfied: tqdm in /usr/local/lib/python3.7/dist-packages (from kaggle) (4.62.3)\n",
            "Requirement already satisfied: python-slugify in /usr/local/lib/python3.7/dist-packages (from kaggle) (5.0.2)\n",
            "Requirement already satisfied: urllib3 in /usr/local/lib/python3.7/dist-packages (from kaggle) (1.24.3)\n",
            "Requirement already satisfied: certifi in /usr/local/lib/python3.7/dist-packages (from kaggle) (2021.10.8)\n",
            "Requirement already satisfied: python-dateutil in /usr/local/lib/python3.7/dist-packages (from kaggle) (2.8.2)\n",
            "Requirement already satisfied: requests in /usr/local/lib/python3.7/dist-packages (from kaggle) (2.23.0)\n",
            "Requirement already satisfied: six>=1.10 in /usr/local/lib/python3.7/dist-packages (from kaggle) (1.15.0)\n",
            "Requirement already satisfied: text-unidecode>=1.3 in /usr/local/lib/python3.7/dist-packages (from python-slugify->kaggle) (1.3)\n",
            "Requirement already satisfied: chardet<4,>=3.0.2 in /usr/local/lib/python3.7/dist-packages (from requests->kaggle) (3.0.4)\n",
            "Requirement already satisfied: idna<3,>=2.5 in /usr/local/lib/python3.7/dist-packages (from requests->kaggle) (2.10)\n",
            "mkdir: cannot create directory ‘/root/.kaggle’: File exists\n",
            "Downloading video-games-sales-2019.zip to /content/drive/MyDrive/kaggle\n",
            "  0% 0.00/3.98M [00:00<?, ?B/s]\n",
            "100% 3.98M/3.98M [00:00<00:00, 65.2MB/s]\n",
            "Archive:  /content/drive/MyDrive/kaggle/video-games-sales-2019.zip\n",
            "replace /content/drive/MyDrive/kaggle/vgsales-12-4-2019-short.csv? [y]es, [n]o, [A]ll, [N]one, [r]ename: None\n"
          ]
        }
      ]
    },
    {
      "cell_type": "markdown",
      "metadata": {
        "id": "PBqKPKFtsiKi"
      },
      "source": [
        "## データの読込"
      ]
    },
    {
      "cell_type": "code",
      "metadata": {
        "colab": {
          "base_uri": "https://localhost:8080/",
          "height": 294
        },
        "id": "TSY5GPLirTwt",
        "outputId": "f2682be7-8883-4178-8b70-59003b406036"
      },
      "source": [
        "import pandas as pd\n",
        "df = pd.read_csv(\"/content/drive/MyDrive/kaggle/vgsales-12-4-2019.csv\")\n",
        "df.head(3)"
      ],
      "execution_count": null,
      "outputs": [
        {
          "output_type": "execute_result",
          "data": {
            "text/html": [
              "\n",
              "  <div id=\"df-b4d66d90-7f03-4d3e-883d-1cef8f60e4ba\">\n",
              "    <div class=\"colab-df-container\">\n",
              "      <div>\n",
              "<style scoped>\n",
              "    .dataframe tbody tr th:only-of-type {\n",
              "        vertical-align: middle;\n",
              "    }\n",
              "\n",
              "    .dataframe tbody tr th {\n",
              "        vertical-align: top;\n",
              "    }\n",
              "\n",
              "    .dataframe thead th {\n",
              "        text-align: right;\n",
              "    }\n",
              "</style>\n",
              "<table border=\"1\" class=\"dataframe\">\n",
              "  <thead>\n",
              "    <tr style=\"text-align: right;\">\n",
              "      <th></th>\n",
              "      <th>Rank</th>\n",
              "      <th>Name</th>\n",
              "      <th>basename</th>\n",
              "      <th>Genre</th>\n",
              "      <th>ESRB_Rating</th>\n",
              "      <th>Platform</th>\n",
              "      <th>Publisher</th>\n",
              "      <th>Developer</th>\n",
              "      <th>VGChartz_Score</th>\n",
              "      <th>Critic_Score</th>\n",
              "      <th>User_Score</th>\n",
              "      <th>Total_Shipped</th>\n",
              "      <th>Global_Sales</th>\n",
              "      <th>NA_Sales</th>\n",
              "      <th>PAL_Sales</th>\n",
              "      <th>JP_Sales</th>\n",
              "      <th>Other_Sales</th>\n",
              "      <th>Year</th>\n",
              "      <th>Last_Update</th>\n",
              "      <th>url</th>\n",
              "      <th>status</th>\n",
              "      <th>Vgchartzscore</th>\n",
              "      <th>img_url</th>\n",
              "    </tr>\n",
              "  </thead>\n",
              "  <tbody>\n",
              "    <tr>\n",
              "      <th>0</th>\n",
              "      <td>1</td>\n",
              "      <td>Wii Sports</td>\n",
              "      <td>wii-sports</td>\n",
              "      <td>Sports</td>\n",
              "      <td>E</td>\n",
              "      <td>Wii</td>\n",
              "      <td>Nintendo</td>\n",
              "      <td>Nintendo EAD</td>\n",
              "      <td>NaN</td>\n",
              "      <td>7.7</td>\n",
              "      <td>NaN</td>\n",
              "      <td>82.86</td>\n",
              "      <td>NaN</td>\n",
              "      <td>NaN</td>\n",
              "      <td>NaN</td>\n",
              "      <td>NaN</td>\n",
              "      <td>NaN</td>\n",
              "      <td>2006.0</td>\n",
              "      <td>NaN</td>\n",
              "      <td>http://www.vgchartz.com/game/2667/wii-sports/?...</td>\n",
              "      <td>1</td>\n",
              "      <td>NaN</td>\n",
              "      <td>/games/boxart/full_2258645AmericaFrontccc.jpg</td>\n",
              "    </tr>\n",
              "    <tr>\n",
              "      <th>1</th>\n",
              "      <td>2</td>\n",
              "      <td>Super Mario Bros.</td>\n",
              "      <td>super-mario-bros</td>\n",
              "      <td>Platform</td>\n",
              "      <td>NaN</td>\n",
              "      <td>NES</td>\n",
              "      <td>Nintendo</td>\n",
              "      <td>Nintendo EAD</td>\n",
              "      <td>NaN</td>\n",
              "      <td>10.0</td>\n",
              "      <td>NaN</td>\n",
              "      <td>40.24</td>\n",
              "      <td>NaN</td>\n",
              "      <td>NaN</td>\n",
              "      <td>NaN</td>\n",
              "      <td>NaN</td>\n",
              "      <td>NaN</td>\n",
              "      <td>1985.0</td>\n",
              "      <td>NaN</td>\n",
              "      <td>http://www.vgchartz.com/game/6455/super-mario-...</td>\n",
              "      <td>1</td>\n",
              "      <td>NaN</td>\n",
              "      <td>/games/boxart/8972270ccc.jpg</td>\n",
              "    </tr>\n",
              "    <tr>\n",
              "      <th>2</th>\n",
              "      <td>3</td>\n",
              "      <td>Mario Kart Wii</td>\n",
              "      <td>mario-kart-wii</td>\n",
              "      <td>Racing</td>\n",
              "      <td>E</td>\n",
              "      <td>Wii</td>\n",
              "      <td>Nintendo</td>\n",
              "      <td>Nintendo EAD</td>\n",
              "      <td>NaN</td>\n",
              "      <td>8.2</td>\n",
              "      <td>9.1</td>\n",
              "      <td>37.14</td>\n",
              "      <td>NaN</td>\n",
              "      <td>NaN</td>\n",
              "      <td>NaN</td>\n",
              "      <td>NaN</td>\n",
              "      <td>NaN</td>\n",
              "      <td>2008.0</td>\n",
              "      <td>11th Apr 18</td>\n",
              "      <td>http://www.vgchartz.com/game/6968/mario-kart-w...</td>\n",
              "      <td>1</td>\n",
              "      <td>8.7</td>\n",
              "      <td>/games/boxart/full_8932480AmericaFrontccc.jpg</td>\n",
              "    </tr>\n",
              "  </tbody>\n",
              "</table>\n",
              "</div>\n",
              "      <button class=\"colab-df-convert\" onclick=\"convertToInteractive('df-b4d66d90-7f03-4d3e-883d-1cef8f60e4ba')\"\n",
              "              title=\"Convert this dataframe to an interactive table.\"\n",
              "              style=\"display:none;\">\n",
              "        \n",
              "  <svg xmlns=\"http://www.w3.org/2000/svg\" height=\"24px\"viewBox=\"0 0 24 24\"\n",
              "       width=\"24px\">\n",
              "    <path d=\"M0 0h24v24H0V0z\" fill=\"none\"/>\n",
              "    <path d=\"M18.56 5.44l.94 2.06.94-2.06 2.06-.94-2.06-.94-.94-2.06-.94 2.06-2.06.94zm-11 1L8.5 8.5l.94-2.06 2.06-.94-2.06-.94L8.5 2.5l-.94 2.06-2.06.94zm10 10l.94 2.06.94-2.06 2.06-.94-2.06-.94-.94-2.06-.94 2.06-2.06.94z\"/><path d=\"M17.41 7.96l-1.37-1.37c-.4-.4-.92-.59-1.43-.59-.52 0-1.04.2-1.43.59L10.3 9.45l-7.72 7.72c-.78.78-.78 2.05 0 2.83L4 21.41c.39.39.9.59 1.41.59.51 0 1.02-.2 1.41-.59l7.78-7.78 2.81-2.81c.8-.78.8-2.07 0-2.86zM5.41 20L4 18.59l7.72-7.72 1.47 1.35L5.41 20z\"/>\n",
              "  </svg>\n",
              "      </button>\n",
              "      \n",
              "  <style>\n",
              "    .colab-df-container {\n",
              "      display:flex;\n",
              "      flex-wrap:wrap;\n",
              "      gap: 12px;\n",
              "    }\n",
              "\n",
              "    .colab-df-convert {\n",
              "      background-color: #E8F0FE;\n",
              "      border: none;\n",
              "      border-radius: 50%;\n",
              "      cursor: pointer;\n",
              "      display: none;\n",
              "      fill: #1967D2;\n",
              "      height: 32px;\n",
              "      padding: 0 0 0 0;\n",
              "      width: 32px;\n",
              "    }\n",
              "\n",
              "    .colab-df-convert:hover {\n",
              "      background-color: #E2EBFA;\n",
              "      box-shadow: 0px 1px 2px rgba(60, 64, 67, 0.3), 0px 1px 3px 1px rgba(60, 64, 67, 0.15);\n",
              "      fill: #174EA6;\n",
              "    }\n",
              "\n",
              "    [theme=dark] .colab-df-convert {\n",
              "      background-color: #3B4455;\n",
              "      fill: #D2E3FC;\n",
              "    }\n",
              "\n",
              "    [theme=dark] .colab-df-convert:hover {\n",
              "      background-color: #434B5C;\n",
              "      box-shadow: 0px 1px 3px 1px rgba(0, 0, 0, 0.15);\n",
              "      filter: drop-shadow(0px 1px 2px rgba(0, 0, 0, 0.3));\n",
              "      fill: #FFFFFF;\n",
              "    }\n",
              "  </style>\n",
              "\n",
              "      <script>\n",
              "        const buttonEl =\n",
              "          document.querySelector('#df-b4d66d90-7f03-4d3e-883d-1cef8f60e4ba button.colab-df-convert');\n",
              "        buttonEl.style.display =\n",
              "          google.colab.kernel.accessAllowed ? 'block' : 'none';\n",
              "\n",
              "        async function convertToInteractive(key) {\n",
              "          const element = document.querySelector('#df-b4d66d90-7f03-4d3e-883d-1cef8f60e4ba');\n",
              "          const dataTable =\n",
              "            await google.colab.kernel.invokeFunction('convertToInteractive',\n",
              "                                                     [key], {});\n",
              "          if (!dataTable) return;\n",
              "\n",
              "          const docLinkHtml = 'Like what you see? Visit the ' +\n",
              "            '<a target=\"_blank\" href=https://colab.research.google.com/notebooks/data_table.ipynb>data table notebook</a>'\n",
              "            + ' to learn more about interactive tables.';\n",
              "          element.innerHTML = '';\n",
              "          dataTable['output_type'] = 'display_data';\n",
              "          await google.colab.output.renderOutput(dataTable, element);\n",
              "          const docLink = document.createElement('div');\n",
              "          docLink.innerHTML = docLinkHtml;\n",
              "          element.appendChild(docLink);\n",
              "        }\n",
              "      </script>\n",
              "    </div>\n",
              "  </div>\n",
              "  "
            ],
            "text/plain": [
              "   Rank  ...                                        img_url\n",
              "0     1  ...  /games/boxart/full_2258645AmericaFrontccc.jpg\n",
              "1     2  ...                   /games/boxart/8972270ccc.jpg\n",
              "2     3  ...  /games/boxart/full_8932480AmericaFrontccc.jpg\n",
              "\n",
              "[3 rows x 23 columns]"
            ]
          },
          "metadata": {},
          "execution_count": 3
        }
      ]
    },
    {
      "cell_type": "code",
      "metadata": {
        "id": "XMikPXSDsFqS",
        "colab": {
          "base_uri": "https://localhost:8080/"
        },
        "outputId": "341f5ce7-830a-4795-c843-49c846efee49"
      },
      "source": [
        "!pip install japanize-matplotlib\n",
        "!pip install pytorch-tabnet"
      ],
      "execution_count": null,
      "outputs": [
        {
          "output_type": "stream",
          "name": "stdout",
          "text": [
            "Collecting japanize-matplotlib\n",
            "  Downloading japanize-matplotlib-1.1.3.tar.gz (4.1 MB)\n",
            "\u001b[K     |████████████████████████████████| 4.1 MB 13.3 MB/s \n",
            "\u001b[?25hRequirement already satisfied: matplotlib in /usr/local/lib/python3.7/dist-packages (from japanize-matplotlib) (3.2.2)\n",
            "Requirement already satisfied: cycler>=0.10 in /usr/local/lib/python3.7/dist-packages (from matplotlib->japanize-matplotlib) (0.11.0)\n",
            "Requirement already satisfied: kiwisolver>=1.0.1 in /usr/local/lib/python3.7/dist-packages (from matplotlib->japanize-matplotlib) (1.3.2)\n",
            "Requirement already satisfied: pyparsing!=2.0.4,!=2.1.2,!=2.1.6,>=2.0.1 in /usr/local/lib/python3.7/dist-packages (from matplotlib->japanize-matplotlib) (3.0.6)\n",
            "Requirement already satisfied: numpy>=1.11 in /usr/local/lib/python3.7/dist-packages (from matplotlib->japanize-matplotlib) (1.19.5)\n",
            "Requirement already satisfied: python-dateutil>=2.1 in /usr/local/lib/python3.7/dist-packages (from matplotlib->japanize-matplotlib) (2.8.2)\n",
            "Requirement already satisfied: six>=1.5 in /usr/local/lib/python3.7/dist-packages (from python-dateutil>=2.1->matplotlib->japanize-matplotlib) (1.15.0)\n",
            "Building wheels for collected packages: japanize-matplotlib\n",
            "  Building wheel for japanize-matplotlib (setup.py) ... \u001b[?25l\u001b[?25hdone\n",
            "  Created wheel for japanize-matplotlib: filename=japanize_matplotlib-1.1.3-py3-none-any.whl size=4120274 sha256=07fbb8e387aa3ae1c6faf9f82b03e18e78bccc15fba7b7bd28e631061a7f7213\n",
            "  Stored in directory: /root/.cache/pip/wheels/83/97/6b/e9e0cde099cc40f972b8dd23367308f7705ae06cd6d4714658\n",
            "Successfully built japanize-matplotlib\n",
            "Installing collected packages: japanize-matplotlib\n",
            "Successfully installed japanize-matplotlib-1.1.3\n",
            "Collecting pytorch-tabnet\n",
            "  Downloading pytorch_tabnet-3.1.1-py3-none-any.whl (39 kB)\n",
            "Requirement already satisfied: numpy<2.0,>=1.17 in /usr/local/lib/python3.7/dist-packages (from pytorch-tabnet) (1.19.5)\n",
            "Requirement already satisfied: torch<2.0,>=1.2 in /usr/local/lib/python3.7/dist-packages (from pytorch-tabnet) (1.10.0+cu111)\n",
            "Requirement already satisfied: scikit_learn>0.21 in /usr/local/lib/python3.7/dist-packages (from pytorch-tabnet) (1.0.1)\n",
            "Requirement already satisfied: tqdm<5.0,>=4.36 in /usr/local/lib/python3.7/dist-packages (from pytorch-tabnet) (4.62.3)\n",
            "Requirement already satisfied: scipy>1.4 in /usr/local/lib/python3.7/dist-packages (from pytorch-tabnet) (1.4.1)\n",
            "Requirement already satisfied: joblib>=0.11 in /usr/local/lib/python3.7/dist-packages (from scikit_learn>0.21->pytorch-tabnet) (1.1.0)\n",
            "Requirement already satisfied: threadpoolctl>=2.0.0 in /usr/local/lib/python3.7/dist-packages (from scikit_learn>0.21->pytorch-tabnet) (3.0.0)\n",
            "Requirement already satisfied: typing-extensions in /usr/local/lib/python3.7/dist-packages (from torch<2.0,>=1.2->pytorch-tabnet) (3.10.0.2)\n",
            "Installing collected packages: pytorch-tabnet\n",
            "Successfully installed pytorch-tabnet-3.1.1\n"
          ]
        }
      ]
    },
    {
      "cell_type": "code",
      "metadata": {
        "id": "wN2tty2Xaa64"
      },
      "source": [
        "import os\n",
        "import time\n",
        "import random\n",
        "import pickle\n",
        "import pandas as pd\n",
        "import numpy as np\n",
        "import matplotlib.pyplot as plt\n",
        "import japanize_matplotlib\n",
        "from natsort import natsorted \n",
        "\n",
        "import lightgbm as lgb\n",
        "from sklearn.model_selection import train_test_split\n",
        "from sklearn.metrics import mean_squared_error\n",
        "from sklearn.preprocessing import StandardScaler\n",
        "from sklearn.model_selection import GroupKFold\n",
        "from sklearn.impute import SimpleImputer\n",
        "from sklearn.preprocessing import OrdinalEncoder\n",
        "from sklearn.preprocessing import OneHotEncoder\n",
        "from sklearn.compose import ColumnTransformer\n",
        "from sklearn.pipeline import Pipeline\n",
        "\n",
        "import torch\n",
        "from pytorch_tabnet.tab_model import TabNetRegressor\n",
        "\n",
        "import warnings\n",
        "warnings.simplefilter('ignore')"
      ],
      "execution_count": null,
      "outputs": []
    },
    {
      "cell_type": "code",
      "metadata": {
        "id": "M7Ke9KkNbriq"
      },
      "source": [
        "# シード値の固定\n",
        "SEED = 42\n",
        "\n",
        "random.seed(SEED)\n",
        "os.environ['PYTHONHASHSEED'] = str(SEED)\n",
        "np.random.seed(SEED)\n",
        "torch.manual_seed(SEED)\n",
        "torch.cuda.manual_seed(SEED)\n",
        "torch.backends.cudnn.deterministic = True"
      ],
      "execution_count": null,
      "outputs": []
    },
    {
      "cell_type": "code",
      "metadata": {
        "id": "tyYU-iVCcByT"
      },
      "source": [
        "X_train, X_test, y_train, y_test = train_test_split(\n",
        "                                                    df.dropna(subset=[\"Global_Sales\"]).drop([\"Global_Sales\",  \"NA_Sales\", \"PAL_Sales\", \"JP_Sales\", \"Other_Sales\"], axis=1), \n",
        "                                                    df.dropna(subset=[\"Global_Sales\"])[\"Global_Sales\"],  \n",
        "                                                    test_size=0.3,\n",
        "                                                    shuffle=True, \n",
        "                                                    random_state=SEED\n",
        "                                                    ) "
      ],
      "execution_count": null,
      "outputs": []
    },
    {
      "cell_type": "code",
      "metadata": {
        "id": "G_IIsXk-cB1T"
      },
      "source": [
        "### パイプライン\n",
        "\n",
        "# 数値データカラム名を取得\n",
        "number_columns = list(X_train.select_dtypes(include=\"number\").columns)\n",
        "\n",
        "# カテゴリデータカラム名を取得\n",
        "category_columns = X_train.select_dtypes(include=\"object\").columns.tolist()\n",
        "\n",
        "# カテゴリデータカラムの各カラムのカテゴリーの数を取得\n",
        "category_unique_num = X_train.select_dtypes(include=\"object\").nunique()\n",
        "\n",
        "# 数値データ用の変換\n",
        "numeric_transformer = Pipeline(steps=[\n",
        "    ('num_imputer', SimpleImputer(strategy='median')),\n",
        "    ('scaler', StandardScaler())]\n",
        ")\n",
        "\n",
        "# カテゴリーの数にしきい値を設けて、カテゴリー数の多いカラムと少ないカラムに分ける\n",
        "thread = 10\n",
        "many_kinds_category_columns = category_unique_num[category_unique_num >= thread].index.tolist()\n",
        "few_kinds_category_columns = category_unique_num[category_unique_num < thread].index.tolist()\n",
        "\n",
        "# カテゴリーのエンコーディング法則を指定する\n",
        "ordinal_all_cols_mapping = []\n",
        "\n",
        "for column in many_kinds_category_columns:\n",
        "    ordinal_one_cols_mapping = []\n",
        "    for category in natsorted(X_train[column].unique()):\n",
        "        ordinal_one_cols_mapping.append(category)\n",
        "\n",
        "    ordinal_all_cols_mapping.append(ordinal_one_cols_mapping)\n",
        "\n",
        "# カテゴリー数が多いカテゴリーデータ用の変換\n",
        "many_kinds_categorical_transformer = Pipeline(\n",
        "    steps=[\n",
        "        ('imputer', SimpleImputer(strategy='most_frequent')),\n",
        "        ('ordinal', OrdinalEncoder(\n",
        "                handle_unknown = 'use_encoded_value', # 未知数をunknown valueに置き換える設定\n",
        "                unknown_value = -1,\n",
        "                categories = ordinal_all_cols_mapping\n",
        "            )\n",
        "        )\n",
        "])\n",
        "\n",
        "# カテゴリー数が少ないカテゴリーデータ用の変換\n",
        "few_kinds_categorical_transformer = Pipeline(\n",
        "    steps=[\n",
        "        ('imputer', SimpleImputer(strategy='most_frequent')),\n",
        "        ('onehot', OneHotEncoder(handle_unknown='ignore'))\n",
        "    ]\n",
        ")\n",
        "\n",
        "# ColumnTransformerの作成\n",
        "columns_transformers = ColumnTransformer(\n",
        "    transformers=[\n",
        "        ('num', numeric_transformer, number_columns),\n",
        "        ('many_kinds', many_kinds_categorical_transformer, many_kinds_category_columns),\n",
        "        ('few_kinds', few_kinds_categorical_transformer, few_kinds_category_columns)\n",
        "    ]\n",
        ")\n",
        "\n",
        "# カラム変換用のパイプラインの作成\n",
        "transformer = Pipeline(\n",
        "    [\n",
        "        (\"columns_transformers\", columns_transformers),\n",
        "    ]\n",
        ")"
      ],
      "execution_count": null,
      "outputs": []
    },
    {
      "cell_type": "markdown",
      "metadata": {
        "id": "98d_P0KlnBVu"
      },
      "source": [
        "### LighgGBM"
      ]
    },
    {
      "cell_type": "code",
      "metadata": {
        "id": "4xW-edpgpB5V"
      },
      "source": [
        "# パイプラインの作成\n",
        "pipe = Pipeline(\n",
        "    [\n",
        "        (\"columns_transformers\", columns_transformers),\n",
        "        ('model', lgb.LGBMRegressor(random_state=42))\n",
        "     ]\n",
        ")"
      ],
      "execution_count": null,
      "outputs": []
    },
    {
      "cell_type": "code",
      "metadata": {
        "colab": {
          "base_uri": "https://localhost:8080/"
        },
        "id": "aZpS1FKgpFYl",
        "outputId": "80eeaa61-caef-4968-f4ad-55d9ca5a8ec4"
      },
      "source": [
        "# 学習・推論\n",
        "gkf = GroupKFold(n_splits=5)\n",
        "\n",
        "groups = X_train[\"Genre\"]\n",
        "\n",
        "cv_result_lgbm = []\n",
        "\n",
        "for i, (train_index, test_index) in enumerate(gkf.split(X_train, y_train, groups)):\n",
        "    X_train_gkf, X_test_gkf = X_train.iloc[train_index], X_train.iloc[test_index]\n",
        "    y_train_gkf, y_test_gkf = y_train.iloc[train_index], y_train.iloc[test_index]\n",
        "\n",
        "    # 学習、推論\n",
        "    history = pipe.fit(X_train_gkf, y_train_gkf)\n",
        "\n",
        "    y_pred = pipe.predict(X_test_gkf)\n",
        "\n",
        "    rmse = mean_squared_error(y_test_gkf, y_pred, squared=False)\n",
        "    cv_result_lgbm.append(rmse)\n",
        "\n",
        "print(\"RMSE:\", cv_result_lgbm)\n",
        "print(\"RMSE:\", np.mean(cv_result_lgbm))"
      ],
      "execution_count": null,
      "outputs": [
        {
          "output_type": "stream",
          "name": "stdout",
          "text": [
            "RMSE: [0.3381069648542431, 0.10717670046871884, 0.15152424264212594, 0.02716385550389459, 0.3365058004617997]\n",
            "RMSE: 0.1920955127861564\n"
          ]
        }
      ]
    },
    {
      "cell_type": "markdown",
      "metadata": {
        "id": "zlyEJlLhdjGV"
      },
      "source": [
        "### TabNet"
      ]
    },
    {
      "cell_type": "code",
      "metadata": {
        "id": "iUcieZA_nGEF"
      },
      "source": [
        "# カラムの変換\n",
        "X_train_tf = transformer.fit_transform(X_train)"
      ],
      "execution_count": null,
      "outputs": []
    },
    {
      "cell_type": "code",
      "metadata": {
        "colab": {
          "base_uri": "https://localhost:8080/",
          "height": 1000
        },
        "id": "cWKvLhIlb7Is",
        "outputId": "e2731488-e3e3-499d-f65b-29752c8a5499"
      },
      "source": [
        "model = TabNetRegressor(\n",
        "                seed=SEED,\n",
        "                verbose=0,\n",
        "                device_name = \"cuda\",\n",
        ")\n",
        "\n",
        "# 学習・推論\n",
        "gkf = GroupKFold(n_splits=5)\n",
        "\n",
        "groups = X_train_tf[:, 0]\n",
        "\n",
        "cv_result_tbnt = []\n",
        "\n",
        "for i, (train_index, test_index) in enumerate(gkf.split(X_train_tf, y_train, groups)):\n",
        "    X_train_gkf, X_test_gkf = X_train_tf[train_index], X_train_tf[test_index]\n",
        "    y_train_gkf, y_test_gkf = y_train.iloc[train_index], y_train.iloc[test_index]\n",
        "\n",
        "    model.fit(\n",
        "                X_train=X_train_gkf,\n",
        "                y_train=y_train_gkf.values.reshape(-1, 1),\n",
        "                eval_set=[(X_train_gkf, y_train_gkf.values.reshape(-1, 1)), (X_test_gkf, y_test_gkf.values.reshape(-1, 1))],\n",
        "                eval_name = [\"train\", \"valid\"],\n",
        "                eval_metric = [\"rmse\"],\n",
        "                max_epochs=200,\n",
        "                patience=20, \n",
        "                batch_size=256, \n",
        "                virtual_batch_size=128,\n",
        "                num_workers=0, \n",
        "                drop_last=False,\n",
        "    )\n",
        "\n",
        "    # 損失推移\n",
        "    plt.title(f\"Fold {i}\")\n",
        "    plt.plot(model.history['train_rmse'], label=\"train rmse\")\n",
        "    plt.plot(model.history['valid_rmse'], label=\"valid rmse\")\n",
        "    plt.xlabel(\"epoch\")\n",
        "    plt.ylabel(\"rmse\")\n",
        "    plt.legend()\n",
        "    plt.show()\n",
        "\n",
        "    # 推論\n",
        "    y_pred = model.predict(X_test_gkf)\n",
        "\n",
        "    # 評価\n",
        "    rmse = mean_squared_error(y_test_gkf, y_pred, squared=False)\n",
        "    cv_result_tbnt.append(rmse)\n",
        "\n",
        "print(\"RMSE:\", cv_result_tbnt)\n",
        "print(\"RMSE:\", np.mean(cv_result_tbnt))"
      ],
      "execution_count": null,
      "outputs": [
        {
          "output_type": "stream",
          "name": "stdout",
          "text": [
            "\n",
            "Early stopping occurred at epoch 43 with best_epoch = 23 and best_valid_rmse = 0.14675\n",
            "Best weights from best epoch are automatically used!\n"
          ]
        },
        {
          "output_type": "display_data",
          "data": {
            "image/png": "[encoded data removed]",
            "text/plain": [
              "<Figure size 432x288 with 1 Axes>"
            ]
          },
          "metadata": {
            "needs_background": "light"
          }
        },
        {
          "output_type": "stream",
          "name": "stdout",
          "text": [
            "\n",
            "Early stopping occurred at epoch 26 with best_epoch = 6 and best_valid_rmse = 0.16929\n",
            "Best weights from best epoch are automatically used!\n"
          ]
        },
        {
          "output_type": "display_data",
          "data": {
            "image/png": "[encoded data removed]",
            "text/plain": [
              "<Figure size 432x288 with 1 Axes>"
            ]
          },
          "metadata": {
            "needs_background": "light"
          }
        },
        {
          "output_type": "stream",
          "name": "stdout",
          "text": [
            "\n",
            "Early stopping occurred at epoch 41 with best_epoch = 21 and best_valid_rmse = 0.14686\n",
            "Best weights from best epoch are automatically used!\n"
          ]
        },
        {
          "output_type": "display_data",
          "data": {
            "image/png": "[encoded data removed]",
            "text/plain": [
              "<Figure size 432x288 with 1 Axes>"
            ]
          },
          "metadata": {
            "needs_background": "light"
          }
        },
        {
          "output_type": "stream",
          "name": "stdout",
          "text": [
            "\n",
            "Early stopping occurred at epoch 45 with best_epoch = 25 and best_valid_rmse = 0.14295\n",
            "Best weights from best epoch are automatically used!\n"
          ]
        },
        {
          "output_type": "display_data",
          "data": {
            "image/png": "[encoded data removed]",
            "text/plain": [
              "<Figure size 432x288 with 1 Axes>"
            ]
          },
          "metadata": {
            "needs_background": "light"
          }
        },
        {
          "output_type": "stream",
          "name": "stdout",
          "text": [
            "\n",
            "Early stopping occurred at epoch 27 with best_epoch = 7 and best_valid_rmse = 0.20353\n",
            "Best weights from best epoch are automatically used!\n"
          ]
        },
        {
          "output_type": "display_data",
          "data": {
            "image/png": "[encoded data removed]",
            "text/plain": [
              "<Figure size 432x288 with 1 Axes>"
            ]
          },
          "metadata": {
            "needs_background": "light"
          }
        },
        {
          "output_type": "stream",
          "name": "stdout",
          "text": [
            "RMSE: [0.14675473133132674, 0.1692876196310887, 0.1468633555185283, 0.14295237270757266, 0.2035327003349206]\n",
            "RMSE: 0.1618781559046874\n"
          ]
        }
      ]
    },
    {
      "cell_type": "code",
      "metadata": {
        "colab": {
          "base_uri": "https://localhost:8080/"
        },
        "id": "M7Cf_iCbeOIS",
        "outputId": "6df84a79-6dad-482a-e848-e196309781f1"
      },
      "source": [
        "print(\"LightGBM RMSE:\", round(np.mean(cv_result_lgbm),3))\n",
        "print(\"TabNet RMSE:\", round(np.mean(cv_result_tbnt),3))"
      ],
      "execution_count": null,
      "outputs": [
        {
          "output_type": "stream",
          "name": "stdout",
          "text": [
            "LightGBM RMSE: 0.192\n",
            "TabNet RMSE: 0.162\n"
          ]
        }
      ]
    },
    {
      "cell_type": "markdown",
      "source": [
        "### OneHot後のカラムを付けたDataFrameを作成する"
      ],
      "metadata": {
        "id": "vBGmjDNCb4BQ"
      }
    },
    {
      "cell_type": "code",
      "source": [
        "print(len(X_train))\n",
        "\n",
        "pd.DataFrame(X_train.isnull().sum()).T"
      ],
      "metadata": {
        "colab": {
          "base_uri": "https://localhost:8080/",
          "height": 98
        },
        "id": "cwH_ysPrYXUJ",
        "outputId": "0207cfc8-7694-4494-cb18-5852ccb56f23"
      },
      "execution_count": null,
      "outputs": [
        {
          "output_type": "stream",
          "name": "stdout",
          "text": [
            "13590\n"
          ]
        },
        {
          "output_type": "execute_result",
          "data": {
            "text/html": [
              "\n",
              "  <div id=\"df-16997aad-0c14-4aa2-b8ca-968c722fb8e0\">\n",
              "    <div class=\"colab-df-container\">\n",
              "      <div>\n",
              "<style scoped>\n",
              "    .dataframe tbody tr th:only-of-type {\n",
              "        vertical-align: middle;\n",
              "    }\n",
              "\n",
              "    .dataframe tbody tr th {\n",
              "        vertical-align: top;\n",
              "    }\n",
              "\n",
              "    .dataframe thead th {\n",
              "        text-align: right;\n",
              "    }\n",
              "</style>\n",
              "<table border=\"1\" class=\"dataframe\">\n",
              "  <thead>\n",
              "    <tr style=\"text-align: right;\">\n",
              "      <th></th>\n",
              "      <th>Rank</th>\n",
              "      <th>Name</th>\n",
              "      <th>basename</th>\n",
              "      <th>Genre</th>\n",
              "      <th>ESRB_Rating</th>\n",
              "      <th>Platform</th>\n",
              "      <th>Publisher</th>\n",
              "      <th>Developer</th>\n",
              "      <th>VGChartz_Score</th>\n",
              "      <th>Critic_Score</th>\n",
              "      <th>User_Score</th>\n",
              "      <th>Total_Shipped</th>\n",
              "      <th>Year</th>\n",
              "      <th>Last_Update</th>\n",
              "      <th>url</th>\n",
              "      <th>status</th>\n",
              "      <th>Vgchartzscore</th>\n",
              "      <th>img_url</th>\n",
              "    </tr>\n",
              "  </thead>\n",
              "  <tbody>\n",
              "    <tr>\n",
              "      <th>0</th>\n",
              "      <td>0</td>\n",
              "      <td>0</td>\n",
              "      <td>0</td>\n",
              "      <td>0</td>\n",
              "      <td>3911</td>\n",
              "      <td>0</td>\n",
              "      <td>0</td>\n",
              "      <td>3</td>\n",
              "      <td>13590</td>\n",
              "      <td>10599</td>\n",
              "      <td>13480</td>\n",
              "      <td>13590</td>\n",
              "      <td>29</td>\n",
              "      <td>10929</td>\n",
              "      <td>0</td>\n",
              "      <td>0</td>\n",
              "      <td>13270</td>\n",
              "      <td>0</td>\n",
              "    </tr>\n",
              "  </tbody>\n",
              "</table>\n",
              "</div>\n",
              "      <button class=\"colab-df-convert\" onclick=\"convertToInteractive('df-16997aad-0c14-4aa2-b8ca-968c722fb8e0')\"\n",
              "              title=\"Convert this dataframe to an interactive table.\"\n",
              "              style=\"display:none;\">\n",
              "        \n",
              "  <svg xmlns=\"http://www.w3.org/2000/svg\" height=\"24px\"viewBox=\"0 0 24 24\"\n",
              "       width=\"24px\">\n",
              "    <path d=\"M0 0h24v24H0V0z\" fill=\"none\"/>\n",
              "    <path d=\"M18.56 5.44l.94 2.06.94-2.06 2.06-.94-2.06-.94-.94-2.06-.94 2.06-2.06.94zm-11 1L8.5 8.5l.94-2.06 2.06-.94-2.06-.94L8.5 2.5l-.94 2.06-2.06.94zm10 10l.94 2.06.94-2.06 2.06-.94-2.06-.94-.94-2.06-.94 2.06-2.06.94z\"/><path d=\"M17.41 7.96l-1.37-1.37c-.4-.4-.92-.59-1.43-.59-.52 0-1.04.2-1.43.59L10.3 9.45l-7.72 7.72c-.78.78-.78 2.05 0 2.83L4 21.41c.39.39.9.59 1.41.59.51 0 1.02-.2 1.41-.59l7.78-7.78 2.81-2.81c.8-.78.8-2.07 0-2.86zM5.41 20L4 18.59l7.72-7.72 1.47 1.35L5.41 20z\"/>\n",
              "  </svg>\n",
              "      </button>\n",
              "      \n",
              "  <style>\n",
              "    .colab-df-container {\n",
              "      display:flex;\n",
              "      flex-wrap:wrap;\n",
              "      gap: 12px;\n",
              "    }\n",
              "\n",
              "    .colab-df-convert {\n",
              "      background-color: #E8F0FE;\n",
              "      border: none;\n",
              "      border-radius: 50%;\n",
              "      cursor: pointer;\n",
              "      display: none;\n",
              "      fill: #1967D2;\n",
              "      height: 32px;\n",
              "      padding: 0 0 0 0;\n",
              "      width: 32px;\n",
              "    }\n",
              "\n",
              "    .colab-df-convert:hover {\n",
              "      background-color: #E2EBFA;\n",
              "      box-shadow: 0px 1px 2px rgba(60, 64, 67, 0.3), 0px 1px 3px 1px rgba(60, 64, 67, 0.15);\n",
              "      fill: #174EA6;\n",
              "    }\n",
              "\n",
              "    [theme=dark] .colab-df-convert {\n",
              "      background-color: #3B4455;\n",
              "      fill: #D2E3FC;\n",
              "    }\n",
              "\n",
              "    [theme=dark] .colab-df-convert:hover {\n",
              "      background-color: #434B5C;\n",
              "      box-shadow: 0px 1px 3px 1px rgba(0, 0, 0, 0.15);\n",
              "      filter: drop-shadow(0px 1px 2px rgba(0, 0, 0, 0.3));\n",
              "      fill: #FFFFFF;\n",
              "    }\n",
              "  </style>\n",
              "\n",
              "      <script>\n",
              "        const buttonEl =\n",
              "          document.querySelector('#df-16997aad-0c14-4aa2-b8ca-968c722fb8e0 button.colab-df-convert');\n",
              "        buttonEl.style.display =\n",
              "          google.colab.kernel.accessAllowed ? 'block' : 'none';\n",
              "\n",
              "        async function convertToInteractive(key) {\n",
              "          const element = document.querySelector('#df-16997aad-0c14-4aa2-b8ca-968c722fb8e0');\n",
              "          const dataTable =\n",
              "            await google.colab.kernel.invokeFunction('convertToInteractive',\n",
              "                                                     [key], {});\n",
              "          if (!dataTable) return;\n",
              "\n",
              "          const docLinkHtml = 'Like what you see? Visit the ' +\n",
              "            '<a target=\"_blank\" href=https://colab.research.google.com/notebooks/data_table.ipynb>data table notebook</a>'\n",
              "            + ' to learn more about interactive tables.';\n",
              "          element.innerHTML = '';\n",
              "          dataTable['output_type'] = 'display_data';\n",
              "          await google.colab.output.renderOutput(dataTable, element);\n",
              "          const docLink = document.createElement('div');\n",
              "          docLink.innerHTML = docLinkHtml;\n",
              "          element.appendChild(docLink);\n",
              "        }\n",
              "      </script>\n",
              "    </div>\n",
              "  </div>\n",
              "  "
            ],
            "text/plain": [
              "   Rank  Name  basename  Genre  ...  url  status  Vgchartzscore  img_url\n",
              "0     0     0         0      0  ...    0       0          13270        0\n",
              "\n",
              "[1 rows x 18 columns]"
            ]
          },
          "metadata": {},
          "execution_count": 14
        }
      ]
    },
    {
      "cell_type": "code",
      "source": [
        "### Nullのみで削除されるカラムを削除\n",
        "print(len(number_columns))\n",
        "\n",
        "for column in [\"VGChartz_Score\", \"Total_Shipped\"]:\n",
        "    number_columns.remove(column)\n",
        "\n",
        "print(len(number_columns))"
      ],
      "metadata": {
        "colab": {
          "base_uri": "https://localhost:8080/"
        },
        "id": "02e5MqRFYYTX",
        "outputId": "a576c298-cf2b-44dd-c70f-b92670f34d02"
      },
      "execution_count": null,
      "outputs": [
        {
          "output_type": "stream",
          "name": "stdout",
          "text": [
            "8\n",
            "6\n"
          ]
        }
      ]
    },
    {
      "cell_type": "code",
      "source": [
        "# OneHotを考慮したの全カラム作成\n",
        "all_columns = number_columns + \\\n",
        "                        many_kinds_category_columns + \\\n",
        "                        pipe[\"columns_transformers\"].transformers_[2][1][\"onehot\"].get_feature_names(few_kinds_category_columns).tolist()\n",
        "\n",
        "print(len(number_columns), len(many_kinds_category_columns), len(pipe[\"columns_transformers\"].transformers_[2][1][\"onehot\"].get_feature_names(few_kinds_category_columns).tolist()))\n",
        "print(len(all_columns))"
      ],
      "metadata": {
        "colab": {
          "base_uri": "https://localhost:8080/"
        },
        "id": "79GBrx2SYYVy",
        "outputId": "8e67aae7-134b-47b7-ab5c-7a0166b6a74a"
      },
      "execution_count": null,
      "outputs": [
        {
          "output_type": "stream",
          "name": "stdout",
          "text": [
            "6 9 6\n",
            "21\n"
          ]
        }
      ]
    },
    {
      "cell_type": "code",
      "source": [
        "X_train_tf_pd = pd.DataFrame(\n",
        "                X_train_tf,\n",
        "                columns=all_columns\n",
        "            )"
      ],
      "metadata": {
        "id": "TdZJAQlPYeki"
      },
      "execution_count": null,
      "outputs": []
    },
    {
      "cell_type": "markdown",
      "source": [
        "### Feature Importance"
      ],
      "metadata": {
        "id": "lpvP9b5acAT4"
      }
    },
    {
      "cell_type": "code",
      "source": [
        "feat_imp = pd.DataFrame(model.feature_importances_, index=X_train_tf_pd.columns)\n",
        "feature_importance = feat_imp.copy()\n",
        "\n",
        "feature_importance[\"imp_mean\"] = feature_importance.mean(axis=1)\n",
        "feature_importance = feature_importance.sort_values(\"imp_mean\")\n",
        "\n",
        "plt.figure(figsize=(12, 8))\n",
        "plt.barh(feature_importance.index.values, feature_importance[\"imp_mean\"])\n",
        "plt.title(\"feature_importance\", fontsize=18)"
      ],
      "metadata": {
        "colab": {
          "base_uri": "https://localhost:8080/",
          "height": 519
        },
        "id": "qTbTWiogOaeh",
        "outputId": "6972b8c5-36e0-47a9-969a-ab4aca998d7b"
      },
      "execution_count": null,
      "outputs": [
        {
          "output_type": "execute_result",
          "data": {
            "text/plain": [
              "Text(0.5, 1.0, 'feature_importance')"
            ]
          },
          "metadata": {},
          "execution_count": 57
        },
        {
          "output_type": "display_data",
          "data": {
            "image/png": "[encoded data removed]",
            "text/plain": [
              "<Figure size 864x576 with 1 Axes>"
            ]
          },
          "metadata": {
            "needs_background": "light"
          }
        }
      ]
    },
    {
      "cell_type": "markdown",
      "source": [
        "### mask の可視化"
      ],
      "metadata": {
        "id": "Ldt_oC71Oy-o"
      }
    },
    {
      "cell_type": "code",
      "source": [
        "from matplotlib import ticker\n",
        "\n",
        "explain_matrix, masks = model.explain(X_train_tf)\n",
        "\n",
        "fig, axs = plt.subplots(1, 3, figsize=(10, 7))\n",
        "\n",
        "for i in range(3):\n",
        "    axs[i].imshow(masks[i][:25])\n",
        "    axs[i].set_title(f\"mask {i}\")\n",
        "    axs[i].set_xticklabels([0] + X_train_tf_pd.columns.tolist(), rotation=90)\n",
        "    axs[i].xaxis.set_major_locator(ticker.MultipleLocator(1))"
      ],
      "metadata": {
        "colab": {
          "base_uri": "https://localhost:8080/",
          "height": 332
        },
        "id": "1NwZ0RsrFX73",
        "outputId": "b39675d6-ab6e-4200-c956-6c7f807e7f2a"
      },
      "execution_count": null,
      "outputs": [
        {
          "output_type": "display_data",
          "data": {
            "image/png": "[encoded data removed]",
            "text/plain": [
              "<Figure size 720x504 with 3 Axes>"
            ]
          },
          "metadata": {
            "needs_background": "light"
          }
        }
      ]
    },
    {
      "cell_type": "code",
      "source": [
        ""
      ],
      "metadata": {
        "id": "j1PaxVjMiUPE"
      },
      "execution_count": null,
      "outputs": []
    }
  ]
}