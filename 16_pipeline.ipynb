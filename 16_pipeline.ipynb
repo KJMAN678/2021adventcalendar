{
 "cells": [
  {
   "cell_type": "markdown",
   "metadata": {
    "id": "PBqKPKFtsiKi"
   },
   "source": [
    "## データの読込"
   ]
  },
  {
   "cell_type": "code",
   "execution_count": 1,
   "metadata": {
    "colab": {
     "base_uri": "https://localhost:8080/",
     "height": 250
    },
    "id": "TSY5GPLirTwt",
    "outputId": "158992d6-c654-4995-b761-4550290e5d19"
   },
   "outputs": [
    {
     "data": {
      "text/html": [
       "<div>\n",
       "<style scoped>\n",
       "    .dataframe tbody tr th:only-of-type {\n",
       "        vertical-align: middle;\n",
       "    }\n",
       "\n",
       "    .dataframe tbody tr th {\n",
       "        vertical-align: top;\n",
       "    }\n",
       "\n",
       "    .dataframe thead th {\n",
       "        text-align: right;\n",
       "    }\n",
       "</style>\n",
       "<table border=\"1\" class=\"dataframe\">\n",
       "  <thead>\n",
       "    <tr style=\"text-align: right;\">\n",
       "      <th></th>\n",
       "      <th>Rank</th>\n",
       "      <th>Name</th>\n",
       "      <th>basename</th>\n",
       "      <th>Genre</th>\n",
       "      <th>ESRB_Rating</th>\n",
       "      <th>Platform</th>\n",
       "      <th>Publisher</th>\n",
       "      <th>Developer</th>\n",
       "      <th>VGChartz_Score</th>\n",
       "      <th>Critic_Score</th>\n",
       "      <th>...</th>\n",
       "      <th>NA_Sales</th>\n",
       "      <th>PAL_Sales</th>\n",
       "      <th>JP_Sales</th>\n",
       "      <th>Other_Sales</th>\n",
       "      <th>Year</th>\n",
       "      <th>Last_Update</th>\n",
       "      <th>url</th>\n",
       "      <th>status</th>\n",
       "      <th>Vgchartzscore</th>\n",
       "      <th>img_url</th>\n",
       "    </tr>\n",
       "  </thead>\n",
       "  <tbody>\n",
       "    <tr>\n",
       "      <th>0</th>\n",
       "      <td>1</td>\n",
       "      <td>Wii Sports</td>\n",
       "      <td>wii-sports</td>\n",
       "      <td>Sports</td>\n",
       "      <td>E</td>\n",
       "      <td>Wii</td>\n",
       "      <td>Nintendo</td>\n",
       "      <td>Nintendo EAD</td>\n",
       "      <td>NaN</td>\n",
       "      <td>7.7</td>\n",
       "      <td>...</td>\n",
       "      <td>NaN</td>\n",
       "      <td>NaN</td>\n",
       "      <td>NaN</td>\n",
       "      <td>NaN</td>\n",
       "      <td>2006.0</td>\n",
       "      <td>NaN</td>\n",
       "      <td>http://www.vgchartz.com/game/2667/wii-sports/?...</td>\n",
       "      <td>1</td>\n",
       "      <td>NaN</td>\n",
       "      <td>/games/boxart/full_2258645AmericaFrontccc.jpg</td>\n",
       "    </tr>\n",
       "    <tr>\n",
       "      <th>1</th>\n",
       "      <td>2</td>\n",
       "      <td>Super Mario Bros.</td>\n",
       "      <td>super-mario-bros</td>\n",
       "      <td>Platform</td>\n",
       "      <td>NaN</td>\n",
       "      <td>NES</td>\n",
       "      <td>Nintendo</td>\n",
       "      <td>Nintendo EAD</td>\n",
       "      <td>NaN</td>\n",
       "      <td>10.0</td>\n",
       "      <td>...</td>\n",
       "      <td>NaN</td>\n",
       "      <td>NaN</td>\n",
       "      <td>NaN</td>\n",
       "      <td>NaN</td>\n",
       "      <td>1985.0</td>\n",
       "      <td>NaN</td>\n",
       "      <td>http://www.vgchartz.com/game/6455/super-mario-...</td>\n",
       "      <td>1</td>\n",
       "      <td>NaN</td>\n",
       "      <td>/games/boxart/8972270ccc.jpg</td>\n",
       "    </tr>\n",
       "    <tr>\n",
       "      <th>2</th>\n",
       "      <td>3</td>\n",
       "      <td>Mario Kart Wii</td>\n",
       "      <td>mario-kart-wii</td>\n",
       "      <td>Racing</td>\n",
       "      <td>E</td>\n",
       "      <td>Wii</td>\n",
       "      <td>Nintendo</td>\n",
       "      <td>Nintendo EAD</td>\n",
       "      <td>NaN</td>\n",
       "      <td>8.2</td>\n",
       "      <td>...</td>\n",
       "      <td>NaN</td>\n",
       "      <td>NaN</td>\n",
       "      <td>NaN</td>\n",
       "      <td>NaN</td>\n",
       "      <td>2008.0</td>\n",
       "      <td>11th Apr 18</td>\n",
       "      <td>http://www.vgchartz.com/game/6968/mario-kart-w...</td>\n",
       "      <td>1</td>\n",
       "      <td>8.7</td>\n",
       "      <td>/games/boxart/full_8932480AmericaFrontccc.jpg</td>\n",
       "    </tr>\n",
       "  </tbody>\n",
       "</table>\n",
       "<p>3 rows × 23 columns</p>\n",
       "</div>"
      ],
      "text/plain": [
       "   Rank               Name          basename     Genre ESRB_Rating Platform  \\\n",
       "0     1         Wii Sports        wii-sports    Sports           E      Wii   \n",
       "1     2  Super Mario Bros.  super-mario-bros  Platform         NaN      NES   \n",
       "2     3     Mario Kart Wii    mario-kart-wii    Racing           E      Wii   \n",
       "\n",
       "  Publisher     Developer  VGChartz_Score  Critic_Score  ...  NA_Sales  \\\n",
       "0  Nintendo  Nintendo EAD             NaN           7.7  ...       NaN   \n",
       "1  Nintendo  Nintendo EAD             NaN          10.0  ...       NaN   \n",
       "2  Nintendo  Nintendo EAD             NaN           8.2  ...       NaN   \n",
       "\n",
       "   PAL_Sales  JP_Sales  Other_Sales    Year  Last_Update  \\\n",
       "0        NaN       NaN          NaN  2006.0          NaN   \n",
       "1        NaN       NaN          NaN  1985.0          NaN   \n",
       "2        NaN       NaN          NaN  2008.0  11th Apr 18   \n",
       "\n",
       "                                                 url  status Vgchartzscore  \\\n",
       "0  http://www.vgchartz.com/game/2667/wii-sports/?...       1           NaN   \n",
       "1  http://www.vgchartz.com/game/6455/super-mario-...       1           NaN   \n",
       "2  http://www.vgchartz.com/game/6968/mario-kart-w...       1           8.7   \n",
       "\n",
       "                                         img_url  \n",
       "0  /games/boxart/full_2258645AmericaFrontccc.jpg  \n",
       "1                   /games/boxart/8972270ccc.jpg  \n",
       "2  /games/boxart/full_8932480AmericaFrontccc.jpg  \n",
       "\n",
       "[3 rows x 23 columns]"
      ]
     },
     "execution_count": 1,
     "metadata": {},
     "output_type": "execute_result"
    }
   ],
   "source": [
    "import pandas as pd\n",
    "df = pd.read_csv(\"vgsales-12-4-2019.csv\")\n",
    "df.head(3)"
   ]
  },
  {
   "cell_type": "code",
   "execution_count": 2,
   "metadata": {
    "id": "XMikPXSDsFqS"
   },
   "outputs": [],
   "source": [
    "import os\n",
    "import time\n",
    "import random\n",
    "import pickle\n",
    "import pandas as pd\n",
    "import numpy as np\n",
    "import matplotlib.pyplot as plt\n",
    "import japanize_matplotlib\n",
    "from natsort import natsorted \n",
    "\n",
    "import lightgbm as lgb\n",
    "from sklearn.model_selection import train_test_split\n",
    "from sklearn.metrics import mean_squared_error\n",
    "from sklearn.preprocessing import StandardScaler\n",
    "from sklearn.model_selection import GroupKFold\n",
    "from sklearn.impute import SimpleImputer\n",
    "from sklearn.preprocessing import OrdinalEncoder\n",
    "from sklearn.preprocessing import OneHotEncoder\n",
    "\n",
    "from sklearn.pipeline import Pipeline\n",
    "from sklearn.compose import ColumnTransformer\n",
    "\n",
    "import warnings\n",
    "warnings.simplefilter('ignore')"
   ]
  },
  {
   "cell_type": "code",
   "execution_count": 3,
   "metadata": {
    "id": "34UhNKPRWibB"
   },
   "outputs": [],
   "source": [
    "# シード値の固定\n",
    "SEED = 42\n",
    "\n",
    "random.seed(SEED)\n",
    "os.environ['PYTHONHASHSEED'] = str(SEED)\n",
    "np.random.seed(SEED)"
   ]
  },
  {
   "cell_type": "code",
   "execution_count": 4,
   "metadata": {
    "id": "Js43jV--WyAC"
   },
   "outputs": [],
   "source": [
    "X_train, X_test, y_train, y_test = train_test_split(\n",
    "                                                    df.dropna(subset=[\"Global_Sales\"]).drop([\"Global_Sales\",  \"NA_Sales\", \"PAL_Sales\", \"JP_Sales\", \"Other_Sales\"], axis=1), \n",
    "                                                    df.dropna(subset=[\"Global_Sales\"])[\"Global_Sales\"],  \n",
    "                                                    test_size=0.3,\n",
    "                                                    shuffle=True, \n",
    "                                                    random_state=SEED\n",
    "                                                    ) "
   ]
  },
  {
   "cell_type": "markdown",
   "metadata": {
    "id": "-Y8yFiexW2q6"
   },
   "source": [
    "## パイプライン"
   ]
  },
  {
   "cell_type": "code",
   "execution_count": 5,
   "metadata": {
    "id": "1VOrYA21SCJr"
   },
   "outputs": [],
   "source": [
    "# 数値データカラム名を取得\n",
    "number_columns = df.drop([\"Global_Sales\",  \"NA_Sales\", \"PAL_Sales\", \"JP_Sales\", \"Other_Sales\"], axis=1).select_dtypes(include=\"number\").columns\n",
    "\n",
    "# カテゴリデータカラム名を取得\n",
    "category_columns = df.drop([\"Global_Sales\",  \"NA_Sales\", \"PAL_Sales\", \"JP_Sales\", \"Other_Sales\"], axis=1).select_dtypes(include=\"object\").columns"
   ]
  },
  {
   "cell_type": "code",
   "execution_count": 6,
   "metadata": {
    "id": "GdHgBlLvSQUt"
   },
   "outputs": [],
   "source": [
    "# カテゴリデータカラムの各カラムのカテゴリーの数を取得\n",
    "category_unique_num = df.select_dtypes(include=\"object\").nunique()"
   ]
  },
  {
   "cell_type": "code",
   "execution_count": 7,
   "metadata": {
    "id": "L8yhApwWTUNT"
   },
   "outputs": [],
   "source": [
    "# 数値データ用の変換\n",
    "numeric_transformer = Pipeline(steps=[\n",
    "    ('num_imputer', SimpleImputer(strategy='median')),\n",
    "    ('scaler', StandardScaler())]\n",
    ")"
   ]
  },
  {
   "cell_type": "code",
   "execution_count": 8,
   "metadata": {
    "id": "gXMyCZVaSbsk"
   },
   "outputs": [],
   "source": [
    "# カテゴリーの数にしきい値を設けて、カテゴリー数の多いカラムと少ないカラムに分ける\n",
    "thread = 10\n",
    "\n",
    "many_kinds_category_columns = category_unique_num[category_unique_num >= thread].index\n",
    "few_kinds_category_columns = category_unique_num[category_unique_num < thread].index"
   ]
  },
  {
   "cell_type": "code",
   "execution_count": 9,
   "metadata": {
    "id": "p15QvtzhhMxA"
   },
   "outputs": [],
   "source": [
    "# カテゴリーのエンコーディング法則を指定する\n",
    "ordinal_all_cols_mapping = []\n",
    "\n",
    "for column in many_kinds_category_columns:\n",
    "    ordinal_one_cols_mapping = []\n",
    "    for category in natsorted(X_train[column].unique()):\n",
    "        ordinal_one_cols_mapping.append(category)\n",
    "\n",
    "    ordinal_all_cols_mapping.append(ordinal_one_cols_mapping)"
   ]
  },
  {
   "cell_type": "code",
   "execution_count": 10,
   "metadata": {
    "id": "JLjh9aUiTFad"
   },
   "outputs": [],
   "source": [
    "# カテゴリー数が多いカテゴリーデータ用の変換\n",
    "many_kinds_categorical_transformer = Pipeline(\n",
    "    steps=[\n",
    "        ('imputer', SimpleImputer(strategy='most_frequent')),\n",
    "        ('ordinal', OrdinalEncoder(\n",
    "                handle_unknown = 'use_encoded_value', # 未知数をunknown valueに置き換える設定\n",
    "                unknown_value = -1,\n",
    "                categories = ordinal_all_cols_mapping\n",
    "            )\n",
    "        )\n",
    "])"
   ]
  },
  {
   "cell_type": "code",
   "execution_count": 11,
   "metadata": {
    "id": "zJxBZG_9OivR"
   },
   "outputs": [],
   "source": [
    "# カテゴリー数が少ないカテゴリーデータ用の変換\n",
    "few_kinds_categorical_transformer = Pipeline(\n",
    "    steps=[\n",
    "        ('imputer', SimpleImputer(strategy='most_frequent')),\n",
    "        ('onehot', OneHotEncoder(handle_unknown='ignore'))\n",
    "    ]\n",
    ")"
   ]
  },
  {
   "cell_type": "code",
   "execution_count": 12,
   "metadata": {
    "id": "-RnaOU0oR2y1"
   },
   "outputs": [],
   "source": [
    "# ColumnTransformerの作成\n",
    "columns_transformers = ColumnTransformer(\n",
    "    transformers=[\n",
    "        ('num', numeric_transformer, number_columns),\n",
    "        ('many_kinds', many_kinds_categorical_transformer, many_kinds_category_columns),\n",
    "        ('few_kinds', few_kinds_categorical_transformer, few_kinds_category_columns)\n",
    "    ]\n",
    ")"
   ]
  },
  {
   "cell_type": "code",
   "execution_count": 13,
   "metadata": {
    "id": "mpMG2MfFWieA"
   },
   "outputs": [],
   "source": [
    "# パイプライン全体の設定\n",
    "step = [\n",
    "        (\"columns_transformers\", columns_transformers),\n",
    "        ('model', lgb.LGBMRegressor(random_state=42))\n",
    "     ]"
   ]
  },
  {
   "cell_type": "code",
   "execution_count": 14,
   "metadata": {
    "id": "JdxEuz_vM99m"
   },
   "outputs": [],
   "source": [
    "# パイプラインの作成\n",
    "pipe = Pipeline(\n",
    "    step\n",
    ")"
   ]
  },
  {
   "cell_type": "code",
   "execution_count": 15,
   "metadata": {
    "colab": {
     "base_uri": "https://localhost:8080/"
    },
    "id": "xtLuCnqtM-wc",
    "outputId": "2ab6dfb8-3891-415f-f09a-4e628f1a47ba"
   },
   "outputs": [
    {
     "data": {
      "text/plain": [
       "Pipeline(steps=[('columns_transformers',\n",
       "                 ColumnTransformer(transformers=[('num',\n",
       "                                                  Pipeline(steps=[('num_imputer',\n",
       "                                                                   SimpleImputer(strategy='median')),\n",
       "                                                                  ('scaler',\n",
       "                                                                   StandardScaler())]),\n",
       "                                                  Index(['Rank', 'VGChartz_Score', 'Critic_Score', 'User_Score', 'Total_Shipped',\n",
       "       'Year', 'status', 'Vgchartzscore'],\n",
       "      dtype='object')),\n",
       "                                                 ('many_kinds',\n",
       "                                                  Pipeline(steps=[('imputer',\n",
       "                                                                   SimpleImpu...\n",
       "                                                                                  unknown_value=-1))]),\n",
       "                                                  Index(['Name', 'basename', 'Genre', 'Platform', 'Publisher', 'Developer',\n",
       "       'Last_Update', 'url', 'img_url'],\n",
       "      dtype='object')),\n",
       "                                                 ('few_kinds',\n",
       "                                                  Pipeline(steps=[('imputer',\n",
       "                                                                   SimpleImputer(strategy='most_frequent')),\n",
       "                                                                  ('onehot',\n",
       "                                                                   OneHotEncoder(handle_unknown='ignore'))]),\n",
       "                                                  Index(['ESRB_Rating'], dtype='object'))])),\n",
       "                ('model', LGBMRegressor(random_state=42))])"
      ]
     },
     "execution_count": 15,
     "metadata": {},
     "output_type": "execute_result"
    }
   ],
   "source": [
    "# 学習\n",
    "pipe.fit(X_train, y_train)"
   ]
  },
  {
   "cell_type": "code",
   "execution_count": 16,
   "metadata": {
    "id": "CxJbBW93NDA0"
   },
   "outputs": [],
   "source": [
    "# 推論\n",
    "y_pred = pipe.predict(X_test)"
   ]
  },
  {
   "cell_type": "markdown",
   "metadata": {
    "id": "J8pUL3pXVK7X"
   },
   "source": [
    "### GroupKFold を併用"
   ]
  },
  {
   "cell_type": "code",
   "execution_count": 17,
   "metadata": {
    "colab": {
     "base_uri": "https://localhost:8080/"
    },
    "id": "VeY4b6UiRTel",
    "outputId": "d6774c68-614a-4306-d692-92fdc0dcf912"
   },
   "outputs": [
    {
     "name": "stdout",
     "output_type": "stream",
     "text": [
      "RMSE: [0.3381069648542431, 0.10717670046871884, 0.15152424264212594, 0.02716385550389459, 0.3365058004617997]\n",
      "RMSE: 0.1920955127861564\n"
     ]
    }
   ],
   "source": [
    "# 学習・推論\n",
    "gkf = GroupKFold(n_splits=5)\n",
    "\n",
    "groups = X_train[\"Genre\"]\n",
    "\n",
    "best_params, history = {}, []\n",
    "\n",
    "cv_result = []\n",
    "\n",
    "for i, (train_index, test_index) in enumerate(gkf.split(X_train, y_train, groups)):\n",
    "    X_train_gkf, X_test_gkf = X_train.iloc[train_index], X_train.iloc[test_index]\n",
    "    y_train_gkf, y_test_gkf = y_train.iloc[train_index], y_train.iloc[test_index]\n",
    "\n",
    "    # 学習、推論\n",
    "    pipe.fit(X_train_gkf, y_train_gkf)\n",
    "\n",
    "    y_pred = pipe.predict(X_test_gkf)\n",
    "\n",
    "    rmse = mean_squared_error(y_test_gkf, y_pred, squared=False)\n",
    "    cv_result.append(rmse)\n",
    "\n",
    "print(\"RMSE:\", cv_result)\n",
    "print(\"RMSE:\", np.mean(cv_result))"
   ]
  },
  {
   "cell_type": "markdown",
   "metadata": {
    "id": "azmGf7IQVQuC"
   },
   "source": [
    "### Stackingを実施"
   ]
  },
  {
   "cell_type": "code",
   "execution_count": 18,
   "metadata": {
    "id": "wdhzwNdKVSlb"
   },
   "outputs": [],
   "source": [
    "from sklearn.linear_model import Ridge\n",
    "from sklearn.linear_model import Lasso\n",
    "from sklearn.linear_model import LinearRegression\n",
    "from sklearn.linear_model import ElasticNet\n",
    "from sklearn.svm import SVR\n",
    "from sklearn.ensemble import GradientBoostingRegressor\n",
    "from sklearn.ensemble import RandomForestRegressor\n",
    "import xgboost as xgb\n",
    "from catboost import CatBoostRegressor"
   ]
  },
  {
   "cell_type": "code",
   "execution_count": 19,
   "metadata": {
    "id": "amz0T2KPW-xd"
   },
   "outputs": [],
   "source": [
    "models = {\n",
    "    \"ridge\":Ridge(random_state=SEED),\n",
    "    \"lasso\":Lasso(random_state=SEED),\n",
    "    \"linear\":LinearRegression(),\n",
    "    \"elastic_net\":ElasticNet(random_state=SEED),\n",
    "    \"svm\":SVR(),\n",
    "    \"random_forest\":RandomForestRegressor(random_state=SEED),\n",
    "    \"gradient\":GradientBoostingRegressor(random_state=SEED),\n",
    "    \"catboost\":CatBoostRegressor(random_state=SEED, \n",
    "                                 silent=True, # ログを非表示\n",
    "                                 ),\n",
    "    \"xgboost\":xgb.XGBRegressor(\n",
    "        random_state=SEED,\n",
    "        objective='reg:squarederror'\n",
    "        ),\n",
    "    \"lightgbm\":lgb.LGBMRegressor(random_state=SEED),\n",
    "}"
   ]
  },
  {
   "cell_type": "markdown",
   "metadata": {
    "id": "so9AdlNxWWBF"
   },
   "source": [
    "### 一層目"
   ]
  },
  {
   "cell_type": "code",
   "execution_count": 20,
   "metadata": {
    "colab": {
     "base_uri": "https://localhost:8080/"
    },
    "id": "WmNfhe9hWVUd",
    "outputId": "50a24902-e197-40f9-80a0-9dd618706553"
   },
   "outputs": [
    {
     "name": "stdout",
     "output_type": "stream",
     "text": [
      "0 Ridge(random_state=42)\n",
      "1 Lasso(random_state=42)\n",
      "2 LinearRegression()\n",
      "3 ElasticNet(random_state=42)\n",
      "4 SVR()\n",
      "5 RandomForestRegressor(random_state=42)\n",
      "6 GradientBoostingRegressor(random_state=42)\n",
      "7 <catboost.core.CatBoostRegressor object at 0x0000023AE3159488>\n",
      "8 XGBRegressor(base_score=None, booster=None, colsample_bylevel=None,\n",
      "             colsample_bynode=None, colsample_bytree=None,\n",
      "             enable_categorical=False, gamma=None, gpu_id=None,\n",
      "             importance_type=None, interaction_constraints=None,\n",
      "             learning_rate=None, max_delta_step=None, max_depth=None,\n",
      "             min_child_weight=None, missing=nan, monotone_constraints=None,\n",
      "             n_estimators=100, n_jobs=None, num_parallel_tree=None,\n",
      "             predictor=None, random_state=42, reg_alpha=None, reg_lambda=None,\n",
      "             scale_pos_weight=None, subsample=None, tree_method=None,\n",
      "             validate_parameters=None, verbosity=None)\n",
      "9 LGBMRegressor(random_state=42)\n"
     ]
    }
   ],
   "source": [
    "gkf = GroupKFold(n_splits=5)\n",
    "groups = X_train[\"Genre\"]\n",
    "\n",
    "cv_result_stck = {}\n",
    "pred_df = pd.DataFrame()\n",
    "\n",
    "for i, (model_name, model) in enumerate(models.items()):\n",
    "\n",
    "    print(i, model)\n",
    "\n",
    "    # パイプライン全体の設定\n",
    "    step = [\n",
    "        (\"columns_transformers\", columns_transformers),\n",
    "        ('model', model)\n",
    "     ]\n",
    "\n",
    "    # パイプラインの作成\n",
    "    pipe = Pipeline(\n",
    "        step\n",
    "    )\n",
    "\n",
    "    each_model_df = pd.DataFrame()\n",
    "    each_model_result = []\n",
    "\n",
    "    for train_index, test_index in gkf.split(X_train, y_train, groups):\n",
    "\n",
    "        X_train_gkf, X_test_gkf = X_train.iloc[train_index], X_train.iloc[test_index]\n",
    "        y_train_gkf, y_test_gkf = y_train.iloc[train_index], y_train.iloc[test_index]\n",
    "\n",
    "        pipe.fit(X_train_gkf, y_train_gkf)\n",
    "        y_pred = pipe.predict(X_test_gkf)\n",
    "\n",
    "        tmp_df = pd.DataFrame(\n",
    "                        [y_pred],\n",
    "                        columns=test_index\n",
    "                    )\n",
    "\n",
    "        rmse = mean_squared_error(y_test_gkf, y_pred, squared=False)\n",
    "        each_model_result.append(rmse)\n",
    "        each_model_df = pd.concat([each_model_df , tmp_df.T]) # 各KFold ごとの予測結果をDataFrameに縦に並べる\n",
    "\n",
    "    cv_result_stck[model_name] = each_model_result # 各モデルのRMSEを集計\n",
    "    each_model_df.columns = [model_name] # カラム名をモデル名に変更\n",
    "    pred_df = pd.concat([pred_df, each_model_df.sort_index()], axis=1) # 予測結果集計用DataFrameに各モデルの予測結果をくっつける"
   ]
  },
  {
   "cell_type": "code",
   "execution_count": 21,
   "metadata": {
    "colab": {
     "base_uri": "https://localhost:8080/",
     "height": 224
    },
    "id": "-lIgjoEzXNlE",
    "outputId": "0fd2d8fb-6dbb-4111-d358-163162ff0882"
   },
   "outputs": [
    {
     "name": "stdout",
     "output_type": "stream",
     "text": [
      "13590\n"
     ]
    },
    {
     "data": {
      "text/html": [
       "<div>\n",
       "<style scoped>\n",
       "    .dataframe tbody tr th:only-of-type {\n",
       "        vertical-align: middle;\n",
       "    }\n",
       "\n",
       "    .dataframe tbody tr th {\n",
       "        vertical-align: top;\n",
       "    }\n",
       "\n",
       "    .dataframe thead th {\n",
       "        text-align: right;\n",
       "    }\n",
       "</style>\n",
       "<table border=\"1\" class=\"dataframe\">\n",
       "  <thead>\n",
       "    <tr style=\"text-align: right;\">\n",
       "      <th></th>\n",
       "      <th>ridge</th>\n",
       "      <th>lasso</th>\n",
       "      <th>linear</th>\n",
       "      <th>elastic_net</th>\n",
       "      <th>svm</th>\n",
       "      <th>random_forest</th>\n",
       "      <th>gradient</th>\n",
       "      <th>catboost</th>\n",
       "      <th>xgboost</th>\n",
       "      <th>lightgbm</th>\n",
       "    </tr>\n",
       "  </thead>\n",
       "  <tbody>\n",
       "    <tr>\n",
       "      <th>0</th>\n",
       "      <td>0.443119</td>\n",
       "      <td>0.449006</td>\n",
       "      <td>0.443135</td>\n",
       "      <td>0.392393</td>\n",
       "      <td>0.169451</td>\n",
       "      <td>0.16</td>\n",
       "      <td>0.164407</td>\n",
       "      <td>0.162476</td>\n",
       "      <td>0.159579</td>\n",
       "      <td>0.159485</td>\n",
       "    </tr>\n",
       "    <tr>\n",
       "      <th>1</th>\n",
       "      <td>0.845699</td>\n",
       "      <td>0.486278</td>\n",
       "      <td>0.845692</td>\n",
       "      <td>0.515446</td>\n",
       "      <td>0.163745</td>\n",
       "      <td>0.56</td>\n",
       "      <td>0.547240</td>\n",
       "      <td>0.557286</td>\n",
       "      <td>0.559839</td>\n",
       "      <td>0.556271</td>\n",
       "    </tr>\n",
       "    <tr>\n",
       "      <th>2</th>\n",
       "      <td>0.524295</td>\n",
       "      <td>0.308543</td>\n",
       "      <td>0.524336</td>\n",
       "      <td>0.265163</td>\n",
       "      <td>0.129279</td>\n",
       "      <td>0.22</td>\n",
       "      <td>0.219579</td>\n",
       "      <td>0.214526</td>\n",
       "      <td>0.219991</td>\n",
       "      <td>0.219870</td>\n",
       "    </tr>\n",
       "    <tr>\n",
       "      <th>3</th>\n",
       "      <td>1.222256</td>\n",
       "      <td>0.385726</td>\n",
       "      <td>1.222277</td>\n",
       "      <td>0.399713</td>\n",
       "      <td>0.135002</td>\n",
       "      <td>0.84</td>\n",
       "      <td>0.824000</td>\n",
       "      <td>0.837600</td>\n",
       "      <td>0.839275</td>\n",
       "      <td>0.839208</td>\n",
       "    </tr>\n",
       "    <tr>\n",
       "      <th>4</th>\n",
       "      <td>0.702510</td>\n",
       "      <td>0.390081</td>\n",
       "      <td>0.702716</td>\n",
       "      <td>0.394165</td>\n",
       "      <td>0.272038</td>\n",
       "      <td>0.23</td>\n",
       "      <td>0.237628</td>\n",
       "      <td>0.236664</td>\n",
       "      <td>0.230394</td>\n",
       "      <td>0.229865</td>\n",
       "    </tr>\n",
       "  </tbody>\n",
       "</table>\n",
       "</div>"
      ],
      "text/plain": [
       "      ridge     lasso    linear  elastic_net       svm  random_forest  \\\n",
       "0  0.443119  0.449006  0.443135     0.392393  0.169451           0.16   \n",
       "1  0.845699  0.486278  0.845692     0.515446  0.163745           0.56   \n",
       "2  0.524295  0.308543  0.524336     0.265163  0.129279           0.22   \n",
       "3  1.222256  0.385726  1.222277     0.399713  0.135002           0.84   \n",
       "4  0.702510  0.390081  0.702716     0.394165  0.272038           0.23   \n",
       "\n",
       "   gradient  catboost   xgboost  lightgbm  \n",
       "0  0.164407  0.162476  0.159579  0.159485  \n",
       "1  0.547240  0.557286  0.559839  0.556271  \n",
       "2  0.219579  0.214526  0.219991  0.219870  \n",
       "3  0.824000  0.837600  0.839275  0.839208  \n",
       "4  0.237628  0.236664  0.230394  0.229865  "
      ]
     },
     "execution_count": 21,
     "metadata": {},
     "output_type": "execute_result"
    }
   ],
   "source": [
    "print(len(pred_df))\n",
    "\n",
    "pred_df.head()"
   ]
  },
  {
   "cell_type": "code",
   "execution_count": 22,
   "metadata": {
    "id": "djH1-27IXYU4"
   },
   "outputs": [],
   "source": [
    "best_model_score = 9999\n",
    "best_model_name = \"\""
   ]
  },
  {
   "cell_type": "code",
   "execution_count": 23,
   "metadata": {
    "colab": {
     "base_uri": "https://localhost:8080/"
    },
    "id": "DYn70HZVXPVD",
    "outputId": "66868ab3-af50-4368-c1c9-2c09c1721081"
   },
   "outputs": [
    {
     "name": "stdout",
     "output_type": "stream",
     "text": [
      "ridge 0.6373001236909286\n",
      "lasso 0.7939934392397442\n",
      "linear 0.6373005953395999\n",
      "elastic_net 0.7918085980789809\n",
      "svm 0.8138065516676185\n",
      "random_forest 0.04890771176895532\n",
      "gradient 0.03150057457256164\n",
      "catboost 0.2199297740079543\n",
      "xgboost 0.03488328732035569\n",
      "lightgbm 0.1920955127861564\n",
      "\n",
      "Best Model is  gradient ! Best Score is  0.03150057457256164 !\n"
     ]
    }
   ],
   "source": [
    "for model_name, rmse in cv_result_stck.items():\n",
    "    print(model_name, np.mean(rmse))\n",
    "\n",
    "    if best_model_score > np.mean(rmse):\n",
    "        best_model_score = np.mean(rmse)\n",
    "        best_model_name = model_name\n",
    "\n",
    "print()\n",
    "print(\"Best Model is \", best_model_name, \"! Best Score is \", best_model_score, \"!\")"
   ]
  },
  {
   "cell_type": "markdown",
   "metadata": {
    "id": "4_pQFBEhXQ1s"
   },
   "source": [
    "### 2階層目 各モデルの予測結果をもとに予測"
   ]
  },
  {
   "cell_type": "code",
   "execution_count": 24,
   "metadata": {
    "colab": {
     "base_uri": "https://localhost:8080/"
    },
    "id": "npvktDSWXBse",
    "outputId": "919a98f6-834f-447a-c27b-efb8be6e1b40"
   },
   "outputs": [
    {
     "name": "stdout",
     "output_type": "stream",
     "text": [
      "RMSE: [0.02193021869744928, 0.02361002538127753, 0.024184080353046512, 0.11497196105629219, 0.08212197431851904]\n",
      "RMSE: 0.053363651961316906\n"
     ]
    }
   ],
   "source": [
    "# 学習・推論\n",
    "gkf = GroupKFold(n_splits=5)\n",
    "\n",
    "y_train\n",
    "y_test\n",
    "\n",
    "groups = pred_df[best_model_name] # 最もスコアの良かった model_name をGroup に設定\n",
    "\n",
    "cv_result_stck = []\n",
    "\n",
    "step = [\n",
    "    (\"numeric_transformers\", numeric_transformer), # 全て数値カラムなので、数値カラムのTransformerに変更\n",
    "    ('model', models[best_model_name]) # 最もスコアの良かったモデルを使用\n",
    "]\n",
    "\n",
    "# パイプラインの作成\n",
    "pipe = Pipeline(\n",
    "    step\n",
    ")\n",
    "\n",
    "for train_index, test_index in gkf.split(pred_df, y_train, groups):\n",
    "\n",
    "    X_train_gkf, X_test_gkf = pred_df.iloc[train_index], pred_df.iloc[test_index]\n",
    "    y_train_gkf, y_test_gkf = y_train.reset_index(drop=True).iloc[train_index], y_train.reset_index(drop=True).iloc[test_index]\n",
    "\n",
    "    pipe.fit(X_train_gkf, y_train_gkf)\n",
    "    y_pred = pipe.predict(X_test_gkf)\n",
    "\n",
    "    rmse = mean_squared_error(y_test_gkf, y_pred, squared=False)\n",
    "    cv_result_stck.append(rmse)\n",
    "\n",
    "print(\"RMSE:\", cv_result_stck)\n",
    "print(\"RMSE:\", np.mean(cv_result_stck))"
   ]
  },
  {
   "cell_type": "code",
   "execution_count": 25,
   "metadata": {
    "colab": {
     "base_uri": "https://localhost:8080/"
    },
    "id": "bVN4BzmBZg9T",
    "outputId": "3114365c-2e4a-4079-96d9-fde2dcc30fed"
   },
   "outputs": [
    {
     "name": "stdout",
     "output_type": "stream",
     "text": [
      "RMSE: 0.1920955127861564\n",
      "Stacking RMSE: 0.053363651961316906\n"
     ]
    }
   ],
   "source": [
    "print(\"RMSE:\", np.mean(cv_result))\n",
    "print(\"Stacking RMSE:\", np.mean(cv_result_stck))"
   ]
  }
 ],
 "metadata": {
  "colab": {
   "collapsed_sections": [],
   "name": "16_pipeline.ipynb",
   "provenance": []
  },
  "kernelspec": {
   "display_name": "Python 3 (ipykernel)",
   "language": "python",
   "name": "python3"
  },
  "language_info": {
   "codemirror_mode": {
    "name": "ipython",
    "version": 3
   },
   "file_extension": ".py",
   "mimetype": "text/x-python",
   "name": "python",
   "nbconvert_exporter": "python",
   "pygments_lexer": "ipython3",
   "version": "3.7.11"
  }
 },
 "nbformat": 4,
 "nbformat_minor": 1
}
