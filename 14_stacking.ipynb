{
  "nbformat": 4,
  "nbformat_minor": 0,
  "metadata": {
    "colab": {
      "name": "14_stacking.ipynb",
      "provenance": [],
      "collapsed_sections": []
    },
    "kernelspec": {
      "name": "python3",
      "display_name": "Python 3"
    },
    "language_info": {
      "name": "python"
    }
  },
  "cells": [
    {
      "cell_type": "markdown",
      "metadata": {
        "id": "RA_zd5BvsXyk"
      },
      "source": [
        "## Google Driveのマウント"
      ]
    },
    {
      "cell_type": "code",
      "metadata": {
        "colab": {
          "base_uri": "https://localhost:8080/"
        },
        "id": "ARmR6Kdbsayr",
        "outputId": "23362cf0-c38c-4bbd-dc89-43d940c06b44"
      },
      "source": [
        "from google.colab import drive\n",
        "drive.mount('/content/drive')"
      ],
      "execution_count": null,
      "outputs": [
        {
          "output_type": "stream",
          "name": "stdout",
          "text": [
            "Mounted at /content/drive\n"
          ]
        }
      ]
    },
    {
      "cell_type": "markdown",
      "metadata": {
        "id": "TCEUaFVvsc6a"
      },
      "source": [
        "## データセットの準備"
      ]
    },
    {
      "cell_type": "code",
      "metadata": {
        "id": "yFYRlGskoctf",
        "colab": {
          "base_uri": "https://localhost:8080/"
        },
        "outputId": "0d296da7-f630-43d4-bba4-c2faa44b54c6"
      },
      "source": [
        "# kaggle ライブラリのインストール\n",
        "!pip install kaggle\n",
        "\n",
        "# 一時フォルダに .kaggleフォルダを作成\n",
        "!mkdir ~/.kaggle\n",
        "\n",
        "# MyDrive の kaggle.json を一時フォルダ内の .kaggleフォルダにコピー\n",
        "!cp /content/drive/MyDrive/kaggle/kaggle.json ~/.kaggle/\n",
        "\n",
        "# アクセス権限の設定\n",
        "!chmod 600 ~/.kaggle/kaggle.json\n",
        "\n",
        "!mkdir ~/.kaggle\n",
        "\n",
        "# zipファイルのダウンロード\n",
        "!kaggle datasets download -d ashaheedq/video-games-sales-2019 -p /content/drive/MyDrive/kaggle\n",
        "\n",
        "# 解凍\n",
        "!unzip /content/drive/MyDrive/kaggle/video-games-sales-2019.zip -d /content/drive/MyDrive/kaggle\n",
        "\n",
        "!rm /content/drive/MyDrive/kaggle/video-games-sales-2019.zip"
      ],
      "execution_count": null,
      "outputs": [
        {
          "output_type": "stream",
          "name": "stdout",
          "text": [
            "Requirement already satisfied: kaggle in /usr/local/lib/python3.7/dist-packages (1.5.12)\n",
            "Requirement already satisfied: requests in /usr/local/lib/python3.7/dist-packages (from kaggle) (2.23.0)\n",
            "Requirement already satisfied: python-slugify in /usr/local/lib/python3.7/dist-packages (from kaggle) (5.0.2)\n",
            "Requirement already satisfied: certifi in /usr/local/lib/python3.7/dist-packages (from kaggle) (2021.10.8)\n",
            "Requirement already satisfied: six>=1.10 in /usr/local/lib/python3.7/dist-packages (from kaggle) (1.15.0)\n",
            "Requirement already satisfied: tqdm in /usr/local/lib/python3.7/dist-packages (from kaggle) (4.62.3)\n",
            "Requirement already satisfied: python-dateutil in /usr/local/lib/python3.7/dist-packages (from kaggle) (2.8.2)\n",
            "Requirement already satisfied: urllib3 in /usr/local/lib/python3.7/dist-packages (from kaggle) (1.24.3)\n",
            "Requirement already satisfied: text-unidecode>=1.3 in /usr/local/lib/python3.7/dist-packages (from python-slugify->kaggle) (1.3)\n",
            "Requirement already satisfied: chardet<4,>=3.0.2 in /usr/local/lib/python3.7/dist-packages (from requests->kaggle) (3.0.4)\n",
            "Requirement already satisfied: idna<3,>=2.5 in /usr/local/lib/python3.7/dist-packages (from requests->kaggle) (2.10)\n",
            "mkdir: cannot create directory ‘/root/.kaggle’: File exists\n",
            "Downloading video-games-sales-2019.zip to /content/drive/MyDrive/kaggle\n",
            "  0% 0.00/3.98M [00:00<?, ?B/s]\n",
            "100% 3.98M/3.98M [00:00<00:00, 64.5MB/s]\n",
            "Archive:  /content/drive/MyDrive/kaggle/video-games-sales-2019.zip\n",
            "replace /content/drive/MyDrive/kaggle/vgsales-12-4-2019-short.csv? [y]es, [n]o, [A]ll, [N]one, [r]ename: None\n"
          ]
        }
      ]
    },
    {
      "cell_type": "markdown",
      "metadata": {
        "id": "PBqKPKFtsiKi"
      },
      "source": [
        "## データの読込"
      ]
    },
    {
      "cell_type": "code",
      "metadata": {
        "colab": {
          "base_uri": "https://localhost:8080/",
          "height": 250
        },
        "id": "TSY5GPLirTwt",
        "outputId": "a3630ec9-df8a-489e-f8b2-8bdcdf0287cf"
      },
      "source": [
        "import pandas as pd\n",
        "df = pd.read_csv(\"/content/drive/MyDrive/kaggle/vgsales-12-4-2019.csv\")\n",
        "df.head(3)"
      ],
      "execution_count": null,
      "outputs": [
        {
          "output_type": "execute_result",
          "data": {
            "text/html": [
              "<div>\n",
              "<style scoped>\n",
              "    .dataframe tbody tr th:only-of-type {\n",
              "        vertical-align: middle;\n",
              "    }\n",
              "\n",
              "    .dataframe tbody tr th {\n",
              "        vertical-align: top;\n",
              "    }\n",
              "\n",
              "    .dataframe thead th {\n",
              "        text-align: right;\n",
              "    }\n",
              "</style>\n",
              "<table border=\"1\" class=\"dataframe\">\n",
              "  <thead>\n",
              "    <tr style=\"text-align: right;\">\n",
              "      <th></th>\n",
              "      <th>Rank</th>\n",
              "      <th>Name</th>\n",
              "      <th>basename</th>\n",
              "      <th>Genre</th>\n",
              "      <th>ESRB_Rating</th>\n",
              "      <th>Platform</th>\n",
              "      <th>Publisher</th>\n",
              "      <th>Developer</th>\n",
              "      <th>VGChartz_Score</th>\n",
              "      <th>Critic_Score</th>\n",
              "      <th>User_Score</th>\n",
              "      <th>Total_Shipped</th>\n",
              "      <th>Global_Sales</th>\n",
              "      <th>NA_Sales</th>\n",
              "      <th>PAL_Sales</th>\n",
              "      <th>JP_Sales</th>\n",
              "      <th>Other_Sales</th>\n",
              "      <th>Year</th>\n",
              "      <th>Last_Update</th>\n",
              "      <th>url</th>\n",
              "      <th>status</th>\n",
              "      <th>Vgchartzscore</th>\n",
              "      <th>img_url</th>\n",
              "    </tr>\n",
              "  </thead>\n",
              "  <tbody>\n",
              "    <tr>\n",
              "      <th>0</th>\n",
              "      <td>1</td>\n",
              "      <td>Wii Sports</td>\n",
              "      <td>wii-sports</td>\n",
              "      <td>Sports</td>\n",
              "      <td>E</td>\n",
              "      <td>Wii</td>\n",
              "      <td>Nintendo</td>\n",
              "      <td>Nintendo EAD</td>\n",
              "      <td>NaN</td>\n",
              "      <td>7.7</td>\n",
              "      <td>NaN</td>\n",
              "      <td>82.86</td>\n",
              "      <td>NaN</td>\n",
              "      <td>NaN</td>\n",
              "      <td>NaN</td>\n",
              "      <td>NaN</td>\n",
              "      <td>NaN</td>\n",
              "      <td>2006.0</td>\n",
              "      <td>NaN</td>\n",
              "      <td>http://www.vgchartz.com/game/2667/wii-sports/?...</td>\n",
              "      <td>1</td>\n",
              "      <td>NaN</td>\n",
              "      <td>/games/boxart/full_2258645AmericaFrontccc.jpg</td>\n",
              "    </tr>\n",
              "    <tr>\n",
              "      <th>1</th>\n",
              "      <td>2</td>\n",
              "      <td>Super Mario Bros.</td>\n",
              "      <td>super-mario-bros</td>\n",
              "      <td>Platform</td>\n",
              "      <td>NaN</td>\n",
              "      <td>NES</td>\n",
              "      <td>Nintendo</td>\n",
              "      <td>Nintendo EAD</td>\n",
              "      <td>NaN</td>\n",
              "      <td>10.0</td>\n",
              "      <td>NaN</td>\n",
              "      <td>40.24</td>\n",
              "      <td>NaN</td>\n",
              "      <td>NaN</td>\n",
              "      <td>NaN</td>\n",
              "      <td>NaN</td>\n",
              "      <td>NaN</td>\n",
              "      <td>1985.0</td>\n",
              "      <td>NaN</td>\n",
              "      <td>http://www.vgchartz.com/game/6455/super-mario-...</td>\n",
              "      <td>1</td>\n",
              "      <td>NaN</td>\n",
              "      <td>/games/boxart/8972270ccc.jpg</td>\n",
              "    </tr>\n",
              "    <tr>\n",
              "      <th>2</th>\n",
              "      <td>3</td>\n",
              "      <td>Mario Kart Wii</td>\n",
              "      <td>mario-kart-wii</td>\n",
              "      <td>Racing</td>\n",
              "      <td>E</td>\n",
              "      <td>Wii</td>\n",
              "      <td>Nintendo</td>\n",
              "      <td>Nintendo EAD</td>\n",
              "      <td>NaN</td>\n",
              "      <td>8.2</td>\n",
              "      <td>9.1</td>\n",
              "      <td>37.14</td>\n",
              "      <td>NaN</td>\n",
              "      <td>NaN</td>\n",
              "      <td>NaN</td>\n",
              "      <td>NaN</td>\n",
              "      <td>NaN</td>\n",
              "      <td>2008.0</td>\n",
              "      <td>11th Apr 18</td>\n",
              "      <td>http://www.vgchartz.com/game/6968/mario-kart-w...</td>\n",
              "      <td>1</td>\n",
              "      <td>8.7</td>\n",
              "      <td>/games/boxart/full_8932480AmericaFrontccc.jpg</td>\n",
              "    </tr>\n",
              "  </tbody>\n",
              "</table>\n",
              "</div>"
            ],
            "text/plain": [
              "   Rank  ...                                        img_url\n",
              "0     1  ...  /games/boxart/full_2258645AmericaFrontccc.jpg\n",
              "1     2  ...                   /games/boxart/8972270ccc.jpg\n",
              "2     3  ...  /games/boxart/full_8932480AmericaFrontccc.jpg\n",
              "\n",
              "[3 rows x 23 columns]"
            ]
          },
          "metadata": {},
          "execution_count": 3
        }
      ]
    },
    {
      "cell_type": "markdown",
      "metadata": {
        "id": "EiJj7-wjHOyl"
      },
      "source": [
        "### Stacking"
      ]
    },
    {
      "cell_type": "code",
      "metadata": {
        "id": "XMikPXSDsFqS",
        "colab": {
          "base_uri": "https://localhost:8080/"
        },
        "outputId": "055b5ec5-8128-4e97-f71a-0601b2ffe612"
      },
      "source": [
        "!pip install category_encoders\n",
        "!pip install optuna\n",
        "!pip install pandas\n",
        "!pip install japanize-matplotlib\n",
        "!pip install catboost"
      ],
      "execution_count": null,
      "outputs": [
        {
          "output_type": "stream",
          "name": "stdout",
          "text": [
            "Collecting category_encoders\n",
            "  Downloading category_encoders-2.3.0-py2.py3-none-any.whl (82 kB)\n",
            "\u001b[?25l\r\u001b[K     |████                            | 10 kB 25.9 MB/s eta 0:00:01\r\u001b[K     |████████                        | 20 kB 24.7 MB/s eta 0:00:01\r\u001b[K     |████████████                    | 30 kB 12.2 MB/s eta 0:00:01\r\u001b[K     |████████████████                | 40 kB 9.4 MB/s eta 0:00:01\r\u001b[K     |████████████████████            | 51 kB 5.1 MB/s eta 0:00:01\r\u001b[K     |████████████████████████        | 61 kB 5.3 MB/s eta 0:00:01\r\u001b[K     |████████████████████████████    | 71 kB 5.8 MB/s eta 0:00:01\r\u001b[K     |███████████████████████████████▉| 81 kB 6.4 MB/s eta 0:00:01\r\u001b[K     |████████████████████████████████| 82 kB 386 kB/s \n",
            "\u001b[?25hRequirement already satisfied: statsmodels>=0.9.0 in /usr/local/lib/python3.7/dist-packages (from category_encoders) (0.10.2)\n",
            "Requirement already satisfied: scipy>=1.0.0 in /usr/local/lib/python3.7/dist-packages (from category_encoders) (1.4.1)\n",
            "Requirement already satisfied: patsy>=0.5.1 in /usr/local/lib/python3.7/dist-packages (from category_encoders) (0.5.2)\n",
            "Requirement already satisfied: pandas>=0.21.1 in /usr/local/lib/python3.7/dist-packages (from category_encoders) (1.1.5)\n",
            "Requirement already satisfied: scikit-learn>=0.20.0 in /usr/local/lib/python3.7/dist-packages (from category_encoders) (1.0.1)\n",
            "Requirement already satisfied: numpy>=1.14.0 in /usr/local/lib/python3.7/dist-packages (from category_encoders) (1.19.5)\n",
            "Requirement already satisfied: pytz>=2017.2 in /usr/local/lib/python3.7/dist-packages (from pandas>=0.21.1->category_encoders) (2018.9)\n",
            "Requirement already satisfied: python-dateutil>=2.7.3 in /usr/local/lib/python3.7/dist-packages (from pandas>=0.21.1->category_encoders) (2.8.2)\n",
            "Requirement already satisfied: six in /usr/local/lib/python3.7/dist-packages (from patsy>=0.5.1->category_encoders) (1.15.0)\n",
            "Requirement already satisfied: threadpoolctl>=2.0.0 in /usr/local/lib/python3.7/dist-packages (from scikit-learn>=0.20.0->category_encoders) (3.0.0)\n",
            "Requirement already satisfied: joblib>=0.11 in /usr/local/lib/python3.7/dist-packages (from scikit-learn>=0.20.0->category_encoders) (1.1.0)\n",
            "Installing collected packages: category-encoders\n",
            "Successfully installed category-encoders-2.3.0\n",
            "Collecting optuna\n",
            "  Downloading optuna-2.10.0-py3-none-any.whl (308 kB)\n",
            "\u001b[K     |████████████████████████████████| 308 kB 5.2 MB/s \n",
            "\u001b[?25hRequirement already satisfied: tqdm in /usr/local/lib/python3.7/dist-packages (from optuna) (4.62.3)\n",
            "Requirement already satisfied: PyYAML in /usr/local/lib/python3.7/dist-packages (from optuna) (3.13)\n",
            "Requirement already satisfied: numpy in /usr/local/lib/python3.7/dist-packages (from optuna) (1.19.5)\n",
            "Collecting cliff\n",
            "  Downloading cliff-3.10.0-py3-none-any.whl (80 kB)\n",
            "\u001b[K     |████████████████████████████████| 80 kB 9.5 MB/s \n",
            "\u001b[?25hCollecting alembic\n",
            "  Downloading alembic-1.7.5-py3-none-any.whl (209 kB)\n",
            "\u001b[K     |████████████████████████████████| 209 kB 57.0 MB/s \n",
            "\u001b[?25hCollecting cmaes>=0.8.2\n",
            "  Downloading cmaes-0.8.2-py3-none-any.whl (15 kB)\n",
            "Requirement already satisfied: sqlalchemy>=1.1.0 in /usr/local/lib/python3.7/dist-packages (from optuna) (1.4.27)\n",
            "Collecting colorlog\n",
            "  Downloading colorlog-6.6.0-py2.py3-none-any.whl (11 kB)\n",
            "Requirement already satisfied: packaging>=20.0 in /usr/local/lib/python3.7/dist-packages (from optuna) (21.3)\n",
            "Requirement already satisfied: scipy!=1.4.0 in /usr/local/lib/python3.7/dist-packages (from optuna) (1.4.1)\n",
            "Requirement already satisfied: pyparsing!=3.0.5,>=2.0.2 in /usr/local/lib/python3.7/dist-packages (from packaging>=20.0->optuna) (3.0.6)\n",
            "Requirement already satisfied: importlib-metadata in /usr/local/lib/python3.7/dist-packages (from sqlalchemy>=1.1.0->optuna) (4.8.2)\n",
            "Requirement already satisfied: greenlet!=0.4.17 in /usr/local/lib/python3.7/dist-packages (from sqlalchemy>=1.1.0->optuna) (1.1.2)\n",
            "Collecting Mako\n",
            "  Downloading Mako-1.1.6-py2.py3-none-any.whl (75 kB)\n",
            "\u001b[K     |████████████████████████████████| 75 kB 4.2 MB/s \n",
            "\u001b[?25hRequirement already satisfied: importlib-resources in /usr/local/lib/python3.7/dist-packages (from alembic->optuna) (5.4.0)\n",
            "Collecting autopage>=0.4.0\n",
            "  Downloading autopage-0.4.0-py3-none-any.whl (20 kB)\n",
            "Collecting stevedore>=2.0.1\n",
            "  Downloading stevedore-3.5.0-py3-none-any.whl (49 kB)\n",
            "\u001b[K     |████████████████████████████████| 49 kB 4.7 MB/s \n",
            "\u001b[?25hCollecting pbr!=2.1.0,>=2.0.0\n",
            "  Downloading pbr-5.8.0-py2.py3-none-any.whl (112 kB)\n",
            "\u001b[K     |████████████████████████████████| 112 kB 76.1 MB/s \n",
            "\u001b[?25hRequirement already satisfied: PrettyTable>=0.7.2 in /usr/local/lib/python3.7/dist-packages (from cliff->optuna) (2.4.0)\n",
            "Collecting cmd2>=1.0.0\n",
            "  Downloading cmd2-2.3.3-py3-none-any.whl (149 kB)\n",
            "\u001b[K     |████████████████████████████████| 149 kB 75.0 MB/s \n",
            "\u001b[?25hCollecting pyperclip>=1.6\n",
            "  Downloading pyperclip-1.8.2.tar.gz (20 kB)\n",
            "Requirement already satisfied: wcwidth>=0.1.7 in /usr/local/lib/python3.7/dist-packages (from cmd2>=1.0.0->cliff->optuna) (0.2.5)\n",
            "Requirement already satisfied: typing-extensions in /usr/local/lib/python3.7/dist-packages (from cmd2>=1.0.0->cliff->optuna) (3.10.0.2)\n",
            "Requirement already satisfied: attrs>=16.3.0 in /usr/local/lib/python3.7/dist-packages (from cmd2>=1.0.0->cliff->optuna) (21.2.0)\n",
            "Requirement already satisfied: zipp>=0.5 in /usr/local/lib/python3.7/dist-packages (from importlib-metadata->sqlalchemy>=1.1.0->optuna) (3.6.0)\n",
            "Requirement already satisfied: MarkupSafe>=0.9.2 in /usr/local/lib/python3.7/dist-packages (from Mako->alembic->optuna) (2.0.1)\n",
            "Building wheels for collected packages: pyperclip\n",
            "  Building wheel for pyperclip (setup.py) ... \u001b[?25l\u001b[?25hdone\n",
            "  Created wheel for pyperclip: filename=pyperclip-1.8.2-py3-none-any.whl size=11136 sha256=f9745404d98e5417ca9a681e0b26ce14869b1fb95ac7ca1c7768962f62ff3eae\n",
            "  Stored in directory: /root/.cache/pip/wheels/9f/18/84/8f69f8b08169c7bae2dde6bd7daf0c19fca8c8e500ee620a28\n",
            "Successfully built pyperclip\n",
            "Installing collected packages: pyperclip, pbr, stevedore, Mako, cmd2, autopage, colorlog, cmaes, cliff, alembic, optuna\n",
            "Successfully installed Mako-1.1.6 alembic-1.7.5 autopage-0.4.0 cliff-3.10.0 cmaes-0.8.2 cmd2-2.3.3 colorlog-6.6.0 optuna-2.10.0 pbr-5.8.0 pyperclip-1.8.2 stevedore-3.5.0\n",
            "Requirement already satisfied: pandas in /usr/local/lib/python3.7/dist-packages (1.1.5)\n",
            "Requirement already satisfied: numpy>=1.15.4 in /usr/local/lib/python3.7/dist-packages (from pandas) (1.19.5)\n",
            "Requirement already satisfied: pytz>=2017.2 in /usr/local/lib/python3.7/dist-packages (from pandas) (2018.9)\n",
            "Requirement already satisfied: python-dateutil>=2.7.3 in /usr/local/lib/python3.7/dist-packages (from pandas) (2.8.2)\n",
            "Requirement already satisfied: six>=1.5 in /usr/local/lib/python3.7/dist-packages (from python-dateutil>=2.7.3->pandas) (1.15.0)\n",
            "Collecting japanize-matplotlib\n",
            "  Downloading japanize-matplotlib-1.1.3.tar.gz (4.1 MB)\n",
            "\u001b[K     |████████████████████████████████| 4.1 MB 5.1 MB/s \n",
            "\u001b[?25hRequirement already satisfied: matplotlib in /usr/local/lib/python3.7/dist-packages (from japanize-matplotlib) (3.2.2)\n",
            "Requirement already satisfied: python-dateutil>=2.1 in /usr/local/lib/python3.7/dist-packages (from matplotlib->japanize-matplotlib) (2.8.2)\n",
            "Requirement already satisfied: cycler>=0.10 in /usr/local/lib/python3.7/dist-packages (from matplotlib->japanize-matplotlib) (0.11.0)\n",
            "Requirement already satisfied: kiwisolver>=1.0.1 in /usr/local/lib/python3.7/dist-packages (from matplotlib->japanize-matplotlib) (1.3.2)\n",
            "Requirement already satisfied: numpy>=1.11 in /usr/local/lib/python3.7/dist-packages (from matplotlib->japanize-matplotlib) (1.19.5)\n",
            "Requirement already satisfied: pyparsing!=2.0.4,!=2.1.2,!=2.1.6,>=2.0.1 in /usr/local/lib/python3.7/dist-packages (from matplotlib->japanize-matplotlib) (3.0.6)\n",
            "Requirement already satisfied: six>=1.5 in /usr/local/lib/python3.7/dist-packages (from python-dateutil>=2.1->matplotlib->japanize-matplotlib) (1.15.0)\n",
            "Building wheels for collected packages: japanize-matplotlib\n",
            "  Building wheel for japanize-matplotlib (setup.py) ... \u001b[?25l\u001b[?25hdone\n",
            "  Created wheel for japanize-matplotlib: filename=japanize_matplotlib-1.1.3-py3-none-any.whl size=4120274 sha256=094ff6523df3cd0602de086bdddb47e99a5e275bba35b2c771535fe52c8a5ea0\n",
            "  Stored in directory: /root/.cache/pip/wheels/83/97/6b/e9e0cde099cc40f972b8dd23367308f7705ae06cd6d4714658\n",
            "Successfully built japanize-matplotlib\n",
            "Installing collected packages: japanize-matplotlib\n",
            "Successfully installed japanize-matplotlib-1.1.3\n",
            "Collecting catboost\n",
            "  Downloading catboost-1.0.3-cp37-none-manylinux1_x86_64.whl (76.3 MB)\n",
            "\u001b[K     |████████████████████████████████| 76.3 MB 1.2 MB/s \n",
            "\u001b[?25hRequirement already satisfied: graphviz in /usr/local/lib/python3.7/dist-packages (from catboost) (0.10.1)\n",
            "Requirement already satisfied: plotly in /usr/local/lib/python3.7/dist-packages (from catboost) (4.4.1)\n",
            "Requirement already satisfied: numpy>=1.16.0 in /usr/local/lib/python3.7/dist-packages (from catboost) (1.19.5)\n",
            "Requirement already satisfied: pandas>=0.24.0 in /usr/local/lib/python3.7/dist-packages (from catboost) (1.1.5)\n",
            "Requirement already satisfied: scipy in /usr/local/lib/python3.7/dist-packages (from catboost) (1.4.1)\n",
            "Requirement already satisfied: six in /usr/local/lib/python3.7/dist-packages (from catboost) (1.15.0)\n",
            "Requirement already satisfied: matplotlib in /usr/local/lib/python3.7/dist-packages (from catboost) (3.2.2)\n",
            "Requirement already satisfied: pytz>=2017.2 in /usr/local/lib/python3.7/dist-packages (from pandas>=0.24.0->catboost) (2018.9)\n",
            "Requirement already satisfied: python-dateutil>=2.7.3 in /usr/local/lib/python3.7/dist-packages (from pandas>=0.24.0->catboost) (2.8.2)\n",
            "Requirement already satisfied: kiwisolver>=1.0.1 in /usr/local/lib/python3.7/dist-packages (from matplotlib->catboost) (1.3.2)\n",
            "Requirement already satisfied: pyparsing!=2.0.4,!=2.1.2,!=2.1.6,>=2.0.1 in /usr/local/lib/python3.7/dist-packages (from matplotlib->catboost) (3.0.6)\n",
            "Requirement already satisfied: cycler>=0.10 in /usr/local/lib/python3.7/dist-packages (from matplotlib->catboost) (0.11.0)\n",
            "Requirement already satisfied: retrying>=1.3.3 in /usr/local/lib/python3.7/dist-packages (from plotly->catboost) (1.3.3)\n",
            "Installing collected packages: catboost\n",
            "Successfully installed catboost-1.0.3\n"
          ]
        }
      ]
    },
    {
      "cell_type": "code",
      "metadata": {
        "id": "Uyc21edZHSPz"
      },
      "source": [
        "import os\n",
        "import time\n",
        "import random\n",
        "import pandas as pd\n",
        "import numpy as np\n",
        "import matplotlib.pyplot as plt\n",
        "import japanize_matplotlib\n",
        "from natsort import natsorted \n",
        "\n",
        "import lightgbm as lgb\n",
        "import optuna.integration.lightgbm as opt_lgb\n",
        "import category_encoders as ce\n",
        "from sklearn.model_selection import train_test_split\n",
        "from sklearn.metrics import mean_squared_error\n",
        "from sklearn.preprocessing import StandardScaler\n",
        "from sklearn.model_selection import GroupKFold\n",
        "\n",
        "import warnings\n",
        "warnings.simplefilter('ignore')"
      ],
      "execution_count": null,
      "outputs": []
    },
    {
      "cell_type": "code",
      "metadata": {
        "id": "UyDOXGu3HYo9"
      },
      "source": [
        "# シード値の固定\n",
        "SEED = 42\n",
        "\n",
        "random.seed(SEED)\n",
        "os.environ['PYTHONHASHSEED'] = str(SEED)\n",
        "np.random.seed(SEED)"
      ],
      "execution_count": null,
      "outputs": []
    },
    {
      "cell_type": "code",
      "metadata": {
        "id": "cXwM0fLfHZwz"
      },
      "source": [
        "X_train, X_test, y_train, y_test = train_test_split(\n",
        "                                                    df.dropna(subset=[\"Global_Sales\"]).drop([\"Global_Sales\",  \"NA_Sales\", \"PAL_Sales\", \"JP_Sales\", \"Other_Sales\"], axis=1), \n",
        "                                                    df.dropna(subset=[\"Global_Sales\"])[\"Global_Sales\"],  \n",
        "                                                    test_size=0.3,\n",
        "                                                    shuffle=True, \n",
        "                                                    random_state=SEED\n",
        "                                                    ) "
      ],
      "execution_count": null,
      "outputs": []
    },
    {
      "cell_type": "code",
      "metadata": {
        "id": "p1Ae4jk4HUOd"
      },
      "source": [
        "### 欠損値補完\n",
        "X_train_ff = X_train.fillna(method='ffill')\n",
        "X_test_ff = X_test.fillna(method='ffill')\n",
        "\n",
        "#### カテゴリーエンコーディング\n",
        "\n",
        "# ユニーク数に応じてカラムを分割する\n",
        "category_unique_num = X_train_ff.select_dtypes(include=\"object\").nunique()\n",
        "\n",
        "few_kinds_category_columns = category_unique_num[category_unique_num < 10].index\n",
        "many_kinds_category_columns = category_unique_num[category_unique_num >= 10].index\n",
        "\n",
        "\n",
        "# カテゴリーのエンコーディング法則を指定する\n",
        "ordinal_all_cols_mapping_ce = []\n",
        "\n",
        "for i, column in enumerate(many_kinds_category_columns):\n",
        "    ordinal_one_cols_mapping = {}\n",
        "    ordinal_one_cols_mapping_breakdown = {}\n",
        "    for j, category in enumerate(natsorted(X_train_ff[column].unique())):\n",
        "        ordinal_one_cols_mapping_breakdown[category] = j\n",
        "\n",
        "    ordinal_one_cols_mapping[\"col\"] = column\n",
        "    ordinal_one_cols_mapping[\"mapping\"] = ordinal_one_cols_mapping_breakdown\n",
        "    ordinal_all_cols_mapping_ce.append(ordinal_one_cols_mapping)\n",
        "\n",
        "\n",
        "# エンコーディング設定\n",
        "ode = ce.OrdinalEncoder(\n",
        "    mapping = ordinal_all_cols_mapping_ce,\n",
        "    cols = many_kinds_category_columns\n",
        ")\n",
        "\n",
        "ohe = ce.OneHotEncoder(\n",
        "    use_cat_names=True,\n",
        "    cols = few_kinds_category_columns\n",
        ")\n",
        "\n",
        "# 元データをコピー\n",
        "X_train_ce = X_train_ff.copy()\n",
        "X_test_ce = X_test_ff.copy()\n",
        "\n",
        "# OneHotEncoder\n",
        "X_train_ce = ohe.fit_transform(X_train_ce)\n",
        "X_test_ce = ohe.transform(X_test_ce)\n",
        "\n",
        "# OrdinalHotEncoder\n",
        "X_train_ce = ode.fit_transform(X_train_ce)\n",
        "X_test_ce = ode.transform(X_test_ce)\n",
        "\n",
        "# 正規化\n",
        "sc = StandardScaler()\n",
        "X_train_ce = pd.DataFrame(\n",
        "                            sc.fit_transform(X_train_ce),\n",
        "                            columns=X_train_ce.columns\n",
        "                            )\n",
        "\n",
        "X_test_ce = pd.DataFrame(\n",
        "                            sc.transform(X_test_ce),\n",
        "                            columns=X_test_ce.columns\n",
        "                            )"
      ],
      "execution_count": null,
      "outputs": []
    },
    {
      "cell_type": "code",
      "metadata": {
        "id": "jy95E_3jTQo-"
      },
      "source": [
        "y_train = y_train.reset_index(drop=True)\n",
        "y_test = y_test.reset_index(drop=True)\n",
        "\n",
        "# 欠損の削除\n",
        "X_train_dropna = X_train_ce.dropna(how=\"all\", axis=1)\n",
        "X_train_dropna = X_train_dropna.dropna(how=\"any\", axis=0)\n",
        "\n",
        "X_test_dropna = X_test_ce.dropna(how=\"all\", axis=1)\n",
        "X_test_dropna = X_test_dropna.dropna(how=\"any\", axis=0)\n",
        "\n",
        "\n",
        "# X の欠損行を削除したので、y もそれに合わせる\n",
        "y_train = y_train.reset_index(drop=True)\n",
        "y_train_dropna = y_train[y_train.index.isin(X_train_dropna.index)]\n",
        "\n",
        "y_test = y_test.reset_index(drop=True)\n",
        "y_test_dropna = y_test[y_test.index.isin(X_test_dropna.index)]"
      ],
      "execution_count": null,
      "outputs": []
    },
    {
      "cell_type": "code",
      "metadata": {
        "colab": {
          "base_uri": "https://localhost:8080/",
          "height": 1000
        },
        "id": "f39j3SCgHcjl",
        "outputId": "b1ab21c8-093d-4eb3-f45b-a60555ffcd27"
      },
      "source": [
        "# 学習・推論\n",
        "gkf = GroupKFold(n_splits=5)\n",
        "\n",
        "groups = X_train_dropna[\"Genre\"]\n",
        "\n",
        "params = {\n",
        "          'task': 'train',              # タスクを訓練に設定\n",
        "          'boosting_type': 'gbdt',      # GBDTを指定\n",
        "          'objective': 'regression',    # 回帰を指定\n",
        "          'metric': 'rmse',             # 回帰の損失（誤差）\n",
        "          'learning_rate': 0.1,         # 学習率\n",
        "          'deterministic':True,         # 再現性確保用のパラメータ\n",
        "          'force_row_wise':True,        # 再現性確保用のパラメータ\n",
        "          'seed': SEED                   # シード値\n",
        "          }\n",
        "\n",
        "best_params, history = {}, []\n",
        "\n",
        "cv_result = []\n",
        "\n",
        "for fold, (train_index, test_index) in enumerate(gkf.split(X_train_dropna, y_train_dropna, groups)):\n",
        "    X_train_gkf, X_test_gkf = X_train_dropna.iloc[train_index], X_train_dropna.iloc[test_index]\n",
        "    y_train_gkf, y_test_gkf = y_train_dropna.iloc[train_index], y_train_dropna.iloc[test_index]\n",
        "\n",
        "    # 学習、推論\n",
        "    lgb_train = opt_lgb.Dataset(X_train_gkf, y_train_gkf)\n",
        "    lgb_test = opt_lgb.Dataset(X_test_gkf, y_test_gkf, reference=lgb_train)\n",
        "\n",
        "    lgb_results = {}                                    # 学習の履歴を入れる入物\n",
        "\n",
        "    model = opt_lgb.LightGBMTuner(\n",
        "                    params,                    # ハイパーパラメータをセット\n",
        "                    train_set = lgb_train,              # 訓練データを訓練用にセット\n",
        "                    valid_sets=[lgb_train, lgb_test], # 訓練データとテストデータをセット\n",
        "                    valid_names=['Train', 'Test'],    # データセットの名前をそれぞれ設定\n",
        "                    num_boost_round=100,              # 計算回数\n",
        "                    early_stopping_rounds=50,         # アーリーストッピング設定\n",
        "                    evals_result=lgb_results,\n",
        "                    show_progress_bar = False,        # プログレスバーの非表示\n",
        "                    verbose_eval=-1,                  # ログを最後の1つだけ表示\n",
        "                    )  \n",
        "    \n",
        "    # 訓練の実施\n",
        "    model.run()\n",
        "\n",
        "    best_params = model.best_params\n",
        "    best_model = model.get_best_booster()\n",
        "\n",
        "    # 損失推移を表示\n",
        "    loss_train = lgb_results['Train']['rmse']\n",
        "    loss_test = lgb_results['Test']['rmse']   \n",
        "    \n",
        "    fig = plt.figure()\n",
        "    \n",
        "    plt.xlabel('Iteration')\n",
        "    plt.ylabel('logloss')\n",
        "\n",
        "    plt.title(f\"fold:{fold}\")\n",
        "    plt.plot(loss_train, label='train loss')\n",
        "    plt.plot(loss_test, label='test loss')\n",
        "    \n",
        "    plt.legend()\n",
        "    plt.show()\n",
        "\n",
        "    # 推論\n",
        "    y_pred = best_model.predict(X_test_gkf)\n",
        "\n",
        "    # 評価\n",
        "    rmse = mean_squared_error(y_test_gkf, y_pred, squared=False)\n",
        "    cv_result.append(rmse)\n",
        "\n",
        "print(\"RMSE:\", cv_result)\n",
        "print(\"RMSE:\", np.mean(cv_result))"
      ],
      "execution_count": null,
      "outputs": [
        {
          "output_type": "stream",
          "name": "stderr",
          "text": [
            "\u001b[32m[I 2021-12-14 10:59:39,140]\u001b[0m A new study created in memory with name: no-name-2ccf542d-06f6-4966-b975-c32826053a5c\u001b[0m\n"
          ]
        },
        {
          "output_type": "stream",
          "name": "stdout",
          "text": [
            "Training until validation scores don't improve for 50 rounds.\n"
          ]
        },
        {
          "output_type": "stream",
          "name": "stderr",
          "text": [
            "\u001b[32m[I 2021-12-14 10:59:39,503]\u001b[0m Trial 0 finished with value: 0.3587247613360196 and parameters: {'feature_fraction': 0.4}. Best is trial 0 with value: 0.3587247613360196.\u001b[0m\n"
          ]
        },
        {
          "output_type": "stream",
          "name": "stdout",
          "text": [
            "Did not meet early stopping. Best iteration is:\n",
            "[100]\tTrain's rmse: 0.12183\tTest's rmse: 0.358725\n",
            "Training until validation scores don't improve for 50 rounds.\n"
          ]
        },
        {
          "output_type": "stream",
          "name": "stderr",
          "text": [
            "\u001b[32m[I 2021-12-14 10:59:39,929]\u001b[0m Trial 1 finished with value: 0.3711351653613576 and parameters: {'feature_fraction': 0.6}. Best is trial 0 with value: 0.3587247613360196.\u001b[0m\n"
          ]
        },
        {
          "output_type": "stream",
          "name": "stdout",
          "text": [
            "Did not meet early stopping. Best iteration is:\n",
            "[100]\tTrain's rmse: 0.110668\tTest's rmse: 0.371135\n",
            "Training until validation scores don't improve for 50 rounds.\n"
          ]
        },
        {
          "output_type": "stream",
          "name": "stderr",
          "text": [
            "\u001b[32m[I 2021-12-14 10:59:40,320]\u001b[0m Trial 2 finished with value: 0.35951674463088273 and parameters: {'feature_fraction': 0.5}. Best is trial 0 with value: 0.3587247613360196.\u001b[0m\n"
          ]
        },
        {
          "output_type": "stream",
          "name": "stdout",
          "text": [
            "Did not meet early stopping. Best iteration is:\n",
            "[100]\tTrain's rmse: 0.119178\tTest's rmse: 0.359517\n",
            "Training until validation scores don't improve for 50 rounds.\n"
          ]
        },
        {
          "output_type": "stream",
          "name": "stderr",
          "text": [
            "\u001b[32m[I 2021-12-14 10:59:40,763]\u001b[0m Trial 3 finished with value: 0.34548637147095995 and parameters: {'feature_fraction': 1.0}. Best is trial 3 with value: 0.34548637147095995.\u001b[0m\n"
          ]
        },
        {
          "output_type": "stream",
          "name": "stdout",
          "text": [
            "Early stopping, best iteration is:\n",
            "[34]\tTrain's rmse: 0.153648\tTest's rmse: 0.345486\n",
            "Training until validation scores don't improve for 50 rounds.\n"
          ]
        },
        {
          "output_type": "stream",
          "name": "stderr",
          "text": [
            "\u001b[32m[I 2021-12-14 10:59:41,261]\u001b[0m Trial 4 finished with value: 0.347242655144157 and parameters: {'feature_fraction': 0.8}. Best is trial 3 with value: 0.34548637147095995.\u001b[0m\n"
          ]
        },
        {
          "output_type": "stream",
          "name": "stdout",
          "text": [
            "Did not meet early stopping. Best iteration is:\n",
            "[100]\tTrain's rmse: 0.109017\tTest's rmse: 0.347243\n",
            "Training until validation scores don't improve for 50 rounds.\n"
          ]
        },
        {
          "output_type": "stream",
          "name": "stderr",
          "text": [
            "\u001b[32m[I 2021-12-14 10:59:41,767]\u001b[0m Trial 5 finished with value: 0.3435388009864898 and parameters: {'feature_fraction': 0.8999999999999999}. Best is trial 5 with value: 0.3435388009864898.\u001b[0m\n"
          ]
        },
        {
          "output_type": "stream",
          "name": "stdout",
          "text": [
            "Early stopping, best iteration is:\n",
            "[48]\tTrain's rmse: 0.144723\tTest's rmse: 0.343539\n",
            "Training until validation scores don't improve for 50 rounds.\n"
          ]
        },
        {
          "output_type": "stream",
          "name": "stderr",
          "text": [
            "\u001b[32m[I 2021-12-14 10:59:42,224]\u001b[0m Trial 6 finished with value: 0.34915433825457787 and parameters: {'feature_fraction': 0.7}. Best is trial 5 with value: 0.3435388009864898.\u001b[0m\n"
          ]
        },
        {
          "output_type": "stream",
          "name": "stdout",
          "text": [
            "Did not meet early stopping. Best iteration is:\n",
            "[100]\tTrain's rmse: 0.111333\tTest's rmse: 0.349154\n",
            "Training until validation scores don't improve for 50 rounds.\n"
          ]
        },
        {
          "output_type": "stream",
          "name": "stderr",
          "text": [
            "\u001b[32m[I 2021-12-14 10:59:44,179]\u001b[0m Trial 7 finished with value: 0.345164673435752 and parameters: {'num_leaves': 231}. Best is trial 7 with value: 0.345164673435752.\u001b[0m\n"
          ]
        },
        {
          "output_type": "stream",
          "name": "stdout",
          "text": [
            "Did not meet early stopping. Best iteration is:\n",
            "[100]\tTrain's rmse: 0.123623\tTest's rmse: 0.345165\n",
            "Training until validation scores don't improve for 50 rounds.\n"
          ]
        },
        {
          "output_type": "stream",
          "name": "stderr",
          "text": [
            "\u001b[32m[I 2021-12-14 10:59:46,287]\u001b[0m Trial 8 finished with value: 0.34310808492372175 and parameters: {'num_leaves': 255}. Best is trial 8 with value: 0.34310808492372175.\u001b[0m\n"
          ]
        },
        {
          "output_type": "stream",
          "name": "stdout",
          "text": [
            "Did not meet early stopping. Best iteration is:\n",
            "[100]\tTrain's rmse: 0.123931\tTest's rmse: 0.343108\n",
            "Training until validation scores don't improve for 50 rounds.\n"
          ]
        },
        {
          "output_type": "stream",
          "name": "stderr",
          "text": [
            "\u001b[32m[I 2021-12-14 10:59:46,909]\u001b[0m Trial 9 finished with value: 0.34561132581267573 and parameters: {'num_leaves': 41}. Best is trial 8 with value: 0.34310808492372175.\u001b[0m\n"
          ]
        },
        {
          "output_type": "stream",
          "name": "stdout",
          "text": [
            "Did not meet early stopping. Best iteration is:\n",
            "[100]\tTrain's rmse: 0.122988\tTest's rmse: 0.345611\n",
            "Training until validation scores don't improve for 50 rounds.\n"
          ]
        },
        {
          "output_type": "stream",
          "name": "stderr",
          "text": [
            "\u001b[32m[I 2021-12-14 10:59:47,903]\u001b[0m Trial 10 finished with value: 0.34209590635766196 and parameters: {'num_leaves': 90}. Best is trial 10 with value: 0.34209590635766196.\u001b[0m\n"
          ]
        },
        {
          "output_type": "stream",
          "name": "stdout",
          "text": [
            "Did not meet early stopping. Best iteration is:\n",
            "[100]\tTrain's rmse: 0.126943\tTest's rmse: 0.342096\n",
            "Training until validation scores don't improve for 50 rounds.\n"
          ]
        },
        {
          "output_type": "stream",
          "name": "stderr",
          "text": [
            "\u001b[32m[I 2021-12-14 10:59:49,382]\u001b[0m Trial 11 finished with value: 0.3419585938348256 and parameters: {'num_leaves': 159}. Best is trial 11 with value: 0.3419585938348256.\u001b[0m\n"
          ]
        },
        {
          "output_type": "stream",
          "name": "stdout",
          "text": [
            "Did not meet early stopping. Best iteration is:\n",
            "[100]\tTrain's rmse: 0.126608\tTest's rmse: 0.341959\n",
            "Training until validation scores don't improve for 50 rounds.\n"
          ]
        },
        {
          "output_type": "stream",
          "name": "stderr",
          "text": [
            "\u001b[32m[I 2021-12-14 10:59:51,076]\u001b[0m Trial 12 finished with value: 0.3422569215272443 and parameters: {'num_leaves': 192}. Best is trial 11 with value: 0.3419585938348256.\u001b[0m\n"
          ]
        },
        {
          "output_type": "stream",
          "name": "stdout",
          "text": [
            "Did not meet early stopping. Best iteration is:\n",
            "[100]\tTrain's rmse: 0.125374\tTest's rmse: 0.342257\n",
            "Training until validation scores don't improve for 50 rounds.\n"
          ]
        },
        {
          "output_type": "stream",
          "name": "stderr",
          "text": [
            "\u001b[32m[I 2021-12-14 10:59:52,784]\u001b[0m Trial 13 finished with value: 0.34286504507607846 and parameters: {'num_leaves': 195}. Best is trial 11 with value: 0.3419585938348256.\u001b[0m\n"
          ]
        },
        {
          "output_type": "stream",
          "name": "stdout",
          "text": [
            "Did not meet early stopping. Best iteration is:\n",
            "[100]\tTrain's rmse: 0.125708\tTest's rmse: 0.342865\n",
            "Training until validation scores don't improve for 50 rounds.\n"
          ]
        },
        {
          "output_type": "stream",
          "name": "stderr",
          "text": [
            "\u001b[32m[I 2021-12-14 10:59:53,633]\u001b[0m Trial 14 finished with value: 0.34129587326724287 and parameters: {'num_leaves': 73}. Best is trial 14 with value: 0.34129587326724287.\u001b[0m\n"
          ]
        },
        {
          "output_type": "stream",
          "name": "stdout",
          "text": [
            "Did not meet early stopping. Best iteration is:\n",
            "[100]\tTrain's rmse: 0.126383\tTest's rmse: 0.341296\n",
            "Training until validation scores don't improve for 50 rounds.\n"
          ]
        },
        {
          "output_type": "stream",
          "name": "stderr",
          "text": [
            "\u001b[32m[I 2021-12-14 10:59:55,716]\u001b[0m Trial 15 finished with value: 0.34425538384172283 and parameters: {'num_leaves': 253}. Best is trial 14 with value: 0.34129587326724287.\u001b[0m\n"
          ]
        },
        {
          "output_type": "stream",
          "name": "stdout",
          "text": [
            "Did not meet early stopping. Best iteration is:\n",
            "[100]\tTrain's rmse: 0.126862\tTest's rmse: 0.344255\n",
            "Training until validation scores don't improve for 50 rounds.\n"
          ]
        },
        {
          "output_type": "stream",
          "name": "stderr",
          "text": [
            "\u001b[32m[I 2021-12-14 10:59:56,770]\u001b[0m Trial 16 finished with value: 0.3419195792732364 and parameters: {'num_leaves': 97}. Best is trial 14 with value: 0.34129587326724287.\u001b[0m\n"
          ]
        },
        {
          "output_type": "stream",
          "name": "stdout",
          "text": [
            "Did not meet early stopping. Best iteration is:\n",
            "[100]\tTrain's rmse: 0.127668\tTest's rmse: 0.34192\n",
            "Training until validation scores don't improve for 50 rounds.\n"
          ]
        },
        {
          "output_type": "stream",
          "name": "stderr",
          "text": [
            "\u001b[32m[I 2021-12-14 10:59:57,166]\u001b[0m Trial 17 finished with value: 0.34262185800760153 and parameters: {'num_leaves': 20}. Best is trial 14 with value: 0.34129587326724287.\u001b[0m\n"
          ]
        },
        {
          "output_type": "stream",
          "name": "stdout",
          "text": [
            "Early stopping, best iteration is:\n",
            "[42]\tTrain's rmse: 0.150693\tTest's rmse: 0.342622\n",
            "Training until validation scores don't improve for 50 rounds.\n"
          ]
        },
        {
          "output_type": "stream",
          "name": "stderr",
          "text": [
            "\u001b[32m[I 2021-12-14 10:59:58,184]\u001b[0m Trial 18 finished with value: 0.34332813460137884 and parameters: {'num_leaves': 92}. Best is trial 14 with value: 0.34129587326724287.\u001b[0m\n"
          ]
        },
        {
          "output_type": "stream",
          "name": "stdout",
          "text": [
            "Did not meet early stopping. Best iteration is:\n",
            "[100]\tTrain's rmse: 0.125233\tTest's rmse: 0.343328\n",
            "Training until validation scores don't improve for 50 rounds.\n"
          ]
        },
        {
          "output_type": "stream",
          "name": "stderr",
          "text": [
            "\u001b[32m[I 2021-12-14 10:59:59,132]\u001b[0m Trial 19 finished with value: 0.34321903764053296 and parameters: {'num_leaves': 85}. Best is trial 14 with value: 0.34129587326724287.\u001b[0m\n"
          ]
        },
        {
          "output_type": "stream",
          "name": "stdout",
          "text": [
            "Did not meet early stopping. Best iteration is:\n",
            "[100]\tTrain's rmse: 0.12524\tTest's rmse: 0.343219\n",
            "Training until validation scores don't improve for 50 rounds.\n"
          ]
        },
        {
          "output_type": "stream",
          "name": "stderr",
          "text": [
            "\u001b[32m[I 2021-12-14 11:00:00,399]\u001b[0m Trial 20 finished with value: 0.3436795614482001 and parameters: {'num_leaves': 127}. Best is trial 14 with value: 0.34129587326724287.\u001b[0m\n"
          ]
        },
        {
          "output_type": "stream",
          "name": "stdout",
          "text": [
            "Did not meet early stopping. Best iteration is:\n",
            "[100]\tTrain's rmse: 0.125557\tTest's rmse: 0.34368\n",
            "Training until validation scores don't improve for 50 rounds.\n"
          ]
        },
        {
          "output_type": "stream",
          "name": "stderr",
          "text": [
            "\u001b[32m[I 2021-12-14 11:00:01,152]\u001b[0m Trial 21 finished with value: 0.34820617630713147 and parameters: {'num_leaves': 56}. Best is trial 14 with value: 0.34129587326724287.\u001b[0m\n",
            "\u001b[32m[I 2021-12-14 11:00:01,307]\u001b[0m Trial 22 finished with value: 0.33212833202190495 and parameters: {'num_leaves': 2}. Best is trial 22 with value: 0.33212833202190495.\u001b[0m\n"
          ]
        },
        {
          "output_type": "stream",
          "name": "stdout",
          "text": [
            "Did not meet early stopping. Best iteration is:\n",
            "[100]\tTrain's rmse: 0.122305\tTest's rmse: 0.348206\n",
            "Training until validation scores don't improve for 50 rounds.\n",
            "Did not meet early stopping. Best iteration is:\n",
            "[100]\tTrain's rmse: 0.184244\tTest's rmse: 0.332128\n"
          ]
        },
        {
          "output_type": "stream",
          "name": "stderr",
          "text": [
            "\u001b[32m[I 2021-12-14 11:00:01,529]\u001b[0m Trial 23 finished with value: 0.33541830081071955 and parameters: {'num_leaves': 5}. Best is trial 22 with value: 0.33212833202190495.\u001b[0m\n"
          ]
        },
        {
          "output_type": "stream",
          "name": "stdout",
          "text": [
            "Training until validation scores don't improve for 50 rounds.\n",
            "Did not meet early stopping. Best iteration is:\n",
            "[100]\tTrain's rmse: 0.136588\tTest's rmse: 0.335418\n"
          ]
        },
        {
          "output_type": "stream",
          "name": "stderr",
          "text": [
            "\u001b[32m[I 2021-12-14 11:00:01,796]\u001b[0m Trial 24 finished with value: 0.34108356653216954 and parameters: {'num_leaves': 9}. Best is trial 22 with value: 0.33212833202190495.\u001b[0m\n"
          ]
        },
        {
          "output_type": "stream",
          "name": "stdout",
          "text": [
            "Training until validation scores don't improve for 50 rounds.\n",
            "Early stopping, best iteration is:\n",
            "[48]\tTrain's rmse: 0.142808\tTest's rmse: 0.341084\n",
            "Training until validation scores don't improve for 50 rounds.\n"
          ]
        },
        {
          "output_type": "stream",
          "name": "stderr",
          "text": [
            "\u001b[32m[I 2021-12-14 11:00:02,348]\u001b[0m Trial 25 finished with value: 0.34249478337680533 and parameters: {'num_leaves': 33}. Best is trial 22 with value: 0.33212833202190495.\u001b[0m\n",
            "\u001b[32m[I 2021-12-14 11:00:02,539]\u001b[0m Trial 26 finished with value: 0.3297415931189004 and parameters: {'num_leaves': 3}. Best is trial 26 with value: 0.3297415931189004.\u001b[0m\n"
          ]
        },
        {
          "output_type": "stream",
          "name": "stdout",
          "text": [
            "Early stopping, best iteration is:\n",
            "[49]\tTrain's rmse: 0.143685\tTest's rmse: 0.342495\n",
            "Training until validation scores don't improve for 50 rounds.\n",
            "Did not meet early stopping. Best iteration is:\n",
            "[100]\tTrain's rmse: 0.174149\tTest's rmse: 0.329742\n"
          ]
        },
        {
          "output_type": "stream",
          "name": "stderr",
          "text": [
            "\u001b[32m[I 2021-12-14 11:00:02,752]\u001b[0m Trial 27 finished with value: 0.33438998027274197 and parameters: {'bagging_fraction': 0.959527830606524, 'bagging_freq': 3}. Best is trial 27 with value: 0.33438998027274197.\u001b[0m\n"
          ]
        },
        {
          "output_type": "stream",
          "name": "stdout",
          "text": [
            "Training until validation scores don't improve for 50 rounds.\n",
            "Did not meet early stopping. Best iteration is:\n",
            "[100]\tTrain's rmse: 0.168811\tTest's rmse: 0.33439\n"
          ]
        },
        {
          "output_type": "stream",
          "name": "stderr",
          "text": [
            "\u001b[32m[I 2021-12-14 11:00:02,949]\u001b[0m Trial 28 finished with value: 0.3265410904979936 and parameters: {'bagging_fraction': 0.7625874918520994, 'bagging_freq': 6}. Best is trial 28 with value: 0.3265410904979936.\u001b[0m\n"
          ]
        },
        {
          "output_type": "stream",
          "name": "stdout",
          "text": [
            "Training until validation scores don't improve for 50 rounds.\n",
            "Did not meet early stopping. Best iteration is:\n",
            "[100]\tTrain's rmse: 0.174986\tTest's rmse: 0.326541\n",
            "Training until validation scores don't improve for 50 rounds.\n"
          ]
        },
        {
          "output_type": "stream",
          "name": "stderr",
          "text": [
            "\u001b[32m[I 2021-12-14 11:00:03,141]\u001b[0m Trial 29 finished with value: 0.32892478704643324 and parameters: {'bagging_fraction': 0.6001440729806908, 'bagging_freq': 3}. Best is trial 28 with value: 0.3265410904979936.\u001b[0m\n"
          ]
        },
        {
          "output_type": "stream",
          "name": "stdout",
          "text": [
            "Did not meet early stopping. Best iteration is:\n",
            "[99]\tTrain's rmse: 0.171413\tTest's rmse: 0.328925\n",
            "Training until validation scores don't improve for 50 rounds.\n"
          ]
        },
        {
          "output_type": "stream",
          "name": "stderr",
          "text": [
            "\u001b[32m[I 2021-12-14 11:00:03,349]\u001b[0m Trial 30 finished with value: 0.3328211559935589 and parameters: {'bagging_fraction': 0.865687287629858, 'bagging_freq': 2}. Best is trial 28 with value: 0.3265410904979936.\u001b[0m\n",
            "\u001b[32m[I 2021-12-14 11:00:03,538]\u001b[0m Trial 31 finished with value: 0.33306508428389514 and parameters: {'bagging_fraction': 0.7204249070511699, 'bagging_freq': 7}. Best is trial 28 with value: 0.3265410904979936.\u001b[0m\n"
          ]
        },
        {
          "output_type": "stream",
          "name": "stdout",
          "text": [
            "Did not meet early stopping. Best iteration is:\n",
            "[100]\tTrain's rmse: 0.169925\tTest's rmse: 0.332821\n",
            "Training until validation scores don't improve for 50 rounds.\n",
            "Did not meet early stopping. Best iteration is:\n",
            "[100]\tTrain's rmse: 0.169746\tTest's rmse: 0.333065\n"
          ]
        },
        {
          "output_type": "stream",
          "name": "stderr",
          "text": [
            "\u001b[32m[I 2021-12-14 11:00:03,740]\u001b[0m Trial 32 finished with value: 0.3277097228664883 and parameters: {'bagging_fraction': 0.8703395240477553, 'bagging_freq': 6}. Best is trial 28 with value: 0.3265410904979936.\u001b[0m\n"
          ]
        },
        {
          "output_type": "stream",
          "name": "stdout",
          "text": [
            "Training until validation scores don't improve for 50 rounds.\n",
            "Did not meet early stopping. Best iteration is:\n",
            "[100]\tTrain's rmse: 0.175227\tTest's rmse: 0.32771\n"
          ]
        },
        {
          "output_type": "stream",
          "name": "stderr",
          "text": [
            "\u001b[32m[I 2021-12-14 11:00:03,927]\u001b[0m Trial 33 finished with value: 0.33341581056814734 and parameters: {'bagging_fraction': 0.6087144771771188, 'bagging_freq': 5}. Best is trial 28 with value: 0.3265410904979936.\u001b[0m\n"
          ]
        },
        {
          "output_type": "stream",
          "name": "stdout",
          "text": [
            "Training until validation scores don't improve for 50 rounds.\n",
            "Did not meet early stopping. Best iteration is:\n",
            "[98]\tTrain's rmse: 0.175247\tTest's rmse: 0.333416\n",
            "Training until validation scores don't improve for 50 rounds.\n"
          ]
        },
        {
          "output_type": "stream",
          "name": "stderr",
          "text": [
            "\u001b[32m[I 2021-12-14 11:00:04,126]\u001b[0m Trial 34 finished with value: 0.3287599051091752 and parameters: {'bagging_fraction': 0.5276839663054722, 'bagging_freq': 6}. Best is trial 28 with value: 0.3265410904979936.\u001b[0m\n",
            "\u001b[32m[I 2021-12-14 11:00:04,321]\u001b[0m Trial 35 finished with value: 0.3310567023655454 and parameters: {'bagging_fraction': 0.7091804327843617, 'bagging_freq': 4}. Best is trial 28 with value: 0.3265410904979936.\u001b[0m\n"
          ]
        },
        {
          "output_type": "stream",
          "name": "stdout",
          "text": [
            "Did not meet early stopping. Best iteration is:\n",
            "[100]\tTrain's rmse: 0.174051\tTest's rmse: 0.32876\n",
            "Training until validation scores don't improve for 50 rounds.\n",
            "Did not meet early stopping. Best iteration is:\n",
            "[100]\tTrain's rmse: 0.175716\tTest's rmse: 0.331057\n"
          ]
        },
        {
          "output_type": "stream",
          "name": "stderr",
          "text": [
            "\u001b[32m[I 2021-12-14 11:00:04,504]\u001b[0m Trial 36 finished with value: 0.32931145354559527 and parameters: {'bagging_fraction': 0.6203587039539284, 'bagging_freq': 4}. Best is trial 28 with value: 0.3265410904979936.\u001b[0m\n"
          ]
        },
        {
          "output_type": "stream",
          "name": "stdout",
          "text": [
            "Training until validation scores don't improve for 50 rounds.\n",
            "Did not meet early stopping. Best iteration is:\n",
            "[100]\tTrain's rmse: 0.175239\tTest's rmse: 0.329311\n",
            "Training until validation scores don't improve for 50 rounds.\n"
          ]
        },
        {
          "output_type": "stream",
          "name": "stderr",
          "text": [
            "\u001b[32m[I 2021-12-14 11:00:04,705]\u001b[0m Trial 37 finished with value: 0.3298350696841916 and parameters: {'feature_fraction': 0.852}. Best is trial 37 with value: 0.3298350696841916.\u001b[0m\n",
            "\u001b[32m[I 2021-12-14 11:00:04,895]\u001b[0m Trial 38 finished with value: 0.3265410904979936 and parameters: {'feature_fraction': 0.9159999999999999}. Best is trial 38 with value: 0.3265410904979936.\u001b[0m\n"
          ]
        },
        {
          "output_type": "stream",
          "name": "stdout",
          "text": [
            "Did not meet early stopping. Best iteration is:\n",
            "[100]\tTrain's rmse: 0.175885\tTest's rmse: 0.329835\n",
            "Training until validation scores don't improve for 50 rounds.\n",
            "Did not meet early stopping. Best iteration is:\n",
            "[100]\tTrain's rmse: 0.174986\tTest's rmse: 0.326541\n"
          ]
        },
        {
          "output_type": "stream",
          "name": "stderr",
          "text": [
            "\u001b[32m[I 2021-12-14 11:00:05,098]\u001b[0m Trial 39 finished with value: 0.3265410904979936 and parameters: {'feature_fraction': 0.948}. Best is trial 38 with value: 0.3265410904979936.\u001b[0m\n"
          ]
        },
        {
          "output_type": "stream",
          "name": "stdout",
          "text": [
            "Training until validation scores don't improve for 50 rounds.\n",
            "Did not meet early stopping. Best iteration is:\n",
            "[100]\tTrain's rmse: 0.174986\tTest's rmse: 0.326541\n",
            "Training until validation scores don't improve for 50 rounds.\n"
          ]
        },
        {
          "output_type": "stream",
          "name": "stderr",
          "text": [
            "\u001b[32m[I 2021-12-14 11:00:05,288]\u001b[0m Trial 40 finished with value: 0.3255705220210477 and parameters: {'feature_fraction': 0.82}. Best is trial 40 with value: 0.3255705220210477.\u001b[0m\n",
            "\u001b[32m[I 2021-12-14 11:00:05,477]\u001b[0m Trial 41 finished with value: 0.3287531132365613 and parameters: {'feature_fraction': 0.9799999999999999}. Best is trial 40 with value: 0.3255705220210477.\u001b[0m\n"
          ]
        },
        {
          "output_type": "stream",
          "name": "stdout",
          "text": [
            "Did not meet early stopping. Best iteration is:\n",
            "[100]\tTrain's rmse: 0.175708\tTest's rmse: 0.325571\n",
            "Training until validation scores don't improve for 50 rounds.\n",
            "Did not meet early stopping. Best iteration is:\n",
            "[100]\tTrain's rmse: 0.174066\tTest's rmse: 0.328753\n"
          ]
        },
        {
          "output_type": "stream",
          "name": "stderr",
          "text": [
            "\u001b[32m[I 2021-12-14 11:00:05,668]\u001b[0m Trial 42 finished with value: 0.3298350696841916 and parameters: {'feature_fraction': 0.8839999999999999}. Best is trial 40 with value: 0.3255705220210477.\u001b[0m\n"
          ]
        },
        {
          "output_type": "stream",
          "name": "stdout",
          "text": [
            "Training until validation scores don't improve for 50 rounds.\n",
            "Did not meet early stopping. Best iteration is:\n",
            "[100]\tTrain's rmse: 0.175885\tTest's rmse: 0.329835\n",
            "Training until validation scores don't improve for 50 rounds.\n"
          ]
        },
        {
          "output_type": "stream",
          "name": "stderr",
          "text": [
            "\u001b[32m[I 2021-12-14 11:00:05,862]\u001b[0m Trial 43 finished with value: 0.32557055971617305 and parameters: {'lambda_l1': 6.883596059862663e-05, 'lambda_l2': 2.5855950299006472e-08}. Best is trial 43 with value: 0.32557055971617305.\u001b[0m\n"
          ]
        },
        {
          "output_type": "stream",
          "name": "stdout",
          "text": [
            "Did not meet early stopping. Best iteration is:\n",
            "[100]\tTrain's rmse: 0.175708\tTest's rmse: 0.325571\n",
            "Training until validation scores don't improve for 50 rounds.\n"
          ]
        },
        {
          "output_type": "stream",
          "name": "stderr",
          "text": [
            "\u001b[32m[I 2021-12-14 11:00:06,073]\u001b[0m Trial 44 finished with value: 0.3255705249107235 and parameters: {'lambda_l1': 5.707667342339108e-07, 'lambda_l2': 1.98905953908926e-05}. Best is trial 44 with value: 0.3255705249107235.\u001b[0m\n",
            "\u001b[32m[I 2021-12-14 11:00:06,261]\u001b[0m Trial 45 finished with value: 0.32557119296475595 and parameters: {'lambda_l1': 0.0007550094114354345, 'lambda_l2': 0.0019728377242883553}. Best is trial 44 with value: 0.3255705249107235.\u001b[0m\n"
          ]
        },
        {
          "output_type": "stream",
          "name": "stdout",
          "text": [
            "Did not meet early stopping. Best iteration is:\n",
            "[100]\tTrain's rmse: 0.175708\tTest's rmse: 0.325571\n",
            "Training until validation scores don't improve for 50 rounds.\n",
            "Did not meet early stopping. Best iteration is:\n",
            "[100]\tTrain's rmse: 0.175708\tTest's rmse: 0.325571\n"
          ]
        },
        {
          "output_type": "stream",
          "name": "stderr",
          "text": [
            "\u001b[32m[I 2021-12-14 11:00:06,453]\u001b[0m Trial 46 finished with value: 0.32558619041895626 and parameters: {'lambda_l1': 0.028532583778928318, 'lambda_l2': 0.00027032801060921583}. Best is trial 44 with value: 0.3255705249107235.\u001b[0m\n"
          ]
        },
        {
          "output_type": "stream",
          "name": "stdout",
          "text": [
            "Training until validation scores don't improve for 50 rounds.\n",
            "Did not meet early stopping. Best iteration is:\n",
            "[100]\tTrain's rmse: 0.175719\tTest's rmse: 0.325586\n",
            "Training until validation scores don't improve for 50 rounds.\n"
          ]
        },
        {
          "output_type": "stream",
          "name": "stderr",
          "text": [
            "\u001b[32m[I 2021-12-14 11:00:06,647]\u001b[0m Trial 47 finished with value: 0.332283614753281 and parameters: {'lambda_l1': 0.011714190463353192, 'lambda_l2': 0.7829708184828689}. Best is trial 44 with value: 0.3255705249107235.\u001b[0m\n",
            "\u001b[32m[I 2021-12-14 11:00:06,834]\u001b[0m Trial 48 finished with value: 0.3267339627932038 and parameters: {'lambda_l1': 0.0003410671573904537, 'lambda_l2': 0.00835943561824682}. Best is trial 44 with value: 0.3255705249107235.\u001b[0m\n"
          ]
        },
        {
          "output_type": "stream",
          "name": "stdout",
          "text": [
            "Did not meet early stopping. Best iteration is:\n",
            "[100]\tTrain's rmse: 0.176796\tTest's rmse: 0.332284\n",
            "Training until validation scores don't improve for 50 rounds.\n",
            "Did not meet early stopping. Best iteration is:\n",
            "[100]\tTrain's rmse: 0.175623\tTest's rmse: 0.326734\n"
          ]
        },
        {
          "output_type": "stream",
          "name": "stderr",
          "text": [
            "\u001b[32m[I 2021-12-14 11:00:07,030]\u001b[0m Trial 49 finished with value: 0.32557448336728295 and parameters: {'lambda_l1': 0.007227039604624107, 'lambda_l2': 2.975251028045442e-05}. Best is trial 44 with value: 0.3255705249107235.\u001b[0m\n"
          ]
        },
        {
          "output_type": "stream",
          "name": "stdout",
          "text": [
            "Training until validation scores don't improve for 50 rounds.\n",
            "Did not meet early stopping. Best iteration is:\n",
            "[100]\tTrain's rmse: 0.17571\tTest's rmse: 0.325574\n",
            "Training until validation scores don't improve for 50 rounds.\n"
          ]
        },
        {
          "output_type": "stream",
          "name": "stderr",
          "text": [
            "\u001b[32m[I 2021-12-14 11:00:07,230]\u001b[0m Trial 50 finished with value: 0.3314310033503378 and parameters: {'lambda_l1': 3.3774991716076834, 'lambda_l2': 9.529199235886427e-06}. Best is trial 44 with value: 0.3255705249107235.\u001b[0m\n"
          ]
        },
        {
          "output_type": "stream",
          "name": "stdout",
          "text": [
            "Did not meet early stopping. Best iteration is:\n",
            "[100]\tTrain's rmse: 0.177784\tTest's rmse: 0.331431\n",
            "Training until validation scores don't improve for 50 rounds.\n",
            "Did not meet early stopping. Best iteration is:\n",
            "[100]\tTrain's rmse: 0.175632\tTest's rmse: 0.326744\n"
          ]
        },
        {
          "output_type": "stream",
          "name": "stderr",
          "text": [
            "\u001b[32m[I 2021-12-14 11:00:07,426]\u001b[0m Trial 51 finished with value: 0.3267441423503674 and parameters: {'lambda_l1': 0.02111935666658555, 'lambda_l2': 0.008923749882858704}. Best is trial 44 with value: 0.3255705249107235.\u001b[0m\n",
            "\u001b[32m[I 2021-12-14 11:00:07,618]\u001b[0m Trial 52 finished with value: 0.32924364746045515 and parameters: {'lambda_l1': 1.5822861992449504e-06, 'lambda_l2': 0.162456367434217}. Best is trial 44 with value: 0.3255705249107235.\u001b[0m\n"
          ]
        },
        {
          "output_type": "stream",
          "name": "stdout",
          "text": [
            "Training until validation scores don't improve for 50 rounds.\n",
            "Did not meet early stopping. Best iteration is:\n",
            "[100]\tTrain's rmse: 0.17512\tTest's rmse: 0.329244\n",
            "Training until validation scores don't improve for 50 rounds.\n"
          ]
        },
        {
          "output_type": "stream",
          "name": "stderr",
          "text": [
            "\u001b[32m[I 2021-12-14 11:00:07,822]\u001b[0m Trial 53 finished with value: 0.3255705220595355 and parameters: {'lambda_l1': 1.0121539507692063e-08, 'lambda_l2': 1.6392463635936565e-07}. Best is trial 53 with value: 0.3255705220595355.\u001b[0m\n",
            "\u001b[32m[I 2021-12-14 11:00:08,013]\u001b[0m Trial 54 finished with value: 0.325570522041175 and parameters: {'lambda_l1': 1.124159976707757e-08, 'lambda_l2': 8.43194962719407e-08}. Best is trial 54 with value: 0.325570522041175.\u001b[0m\n"
          ]
        },
        {
          "output_type": "stream",
          "name": "stdout",
          "text": [
            "Did not meet early stopping. Best iteration is:\n",
            "[100]\tTrain's rmse: 0.175708\tTest's rmse: 0.325571\n",
            "Training until validation scores don't improve for 50 rounds.\n",
            "Did not meet early stopping. Best iteration is:\n",
            "[100]\tTrain's rmse: 0.175708\tTest's rmse: 0.325571\n"
          ]
        },
        {
          "output_type": "stream",
          "name": "stderr",
          "text": [
            "\u001b[32m[I 2021-12-14 11:00:08,225]\u001b[0m Trial 55 finished with value: 0.3255705220243514 and parameters: {'lambda_l1': 1.33758379528331e-08, 'lambda_l2': 1.1350226984803164e-08}. Best is trial 55 with value: 0.3255705220243514.\u001b[0m\n"
          ]
        },
        {
          "output_type": "stream",
          "name": "stdout",
          "text": [
            "Training until validation scores don't improve for 50 rounds.\n",
            "Did not meet early stopping. Best iteration is:\n",
            "[100]\tTrain's rmse: 0.175708\tTest's rmse: 0.325571\n",
            "Training until validation scores don't improve for 50 rounds.\n"
          ]
        },
        {
          "output_type": "stream",
          "name": "stderr",
          "text": [
            "\u001b[32m[I 2021-12-14 11:00:08,419]\u001b[0m Trial 56 finished with value: 0.3255705221201721 and parameters: {'lambda_l1': 1.4105656820457113e-08, 'lambda_l2': 4.316830614168529e-07}. Best is trial 55 with value: 0.3255705220243514.\u001b[0m\n"
          ]
        },
        {
          "output_type": "stream",
          "name": "stdout",
          "text": [
            "Did not meet early stopping. Best iteration is:\n",
            "[100]\tTrain's rmse: 0.175708\tTest's rmse: 0.325571\n",
            "Training until validation scores don't improve for 50 rounds.\n",
            "Did not meet early stopping. Best iteration is:\n",
            "[100]\tTrain's rmse: 0.175708\tTest's rmse: 0.325571"
          ]
        },
        {
          "output_type": "stream",
          "name": "stderr",
          "text": [
            "\u001b[32m[I 2021-12-14 11:00:08,624]\u001b[0m Trial 57 finished with value: 0.32557052225796146 and parameters: {'lambda_l1': 3.9787787748000207e-07, 'lambda_l2': 1.1950723977665192e-08}. Best is trial 55 with value: 0.3255705220243514.\u001b[0m\n"
          ]
        },
        {
          "output_type": "stream",
          "name": "stdout",
          "text": [
            "\n",
            "Training until validation scores don't improve for 50 rounds.\n",
            "Did not meet early stopping. Best iteration is:\n",
            "[100]\tTrain's rmse: 0.175708\tTest's rmse: 0.325571\n"
          ]
        },
        {
          "output_type": "stream",
          "name": "stderr",
          "text": [
            "\u001b[32m[I 2021-12-14 11:00:08,818]\u001b[0m Trial 58 finished with value: 0.32557052558965377 and parameters: {'lambda_l1': 6.166305312664081e-06, 'lambda_l2': 9.224913788938908e-07}. Best is trial 55 with value: 0.3255705220243514.\u001b[0m\n",
            "\u001b[32m[I 2021-12-14 11:00:09,012]\u001b[0m Trial 59 finished with value: 0.3255705220954055 and parameters: {'lambda_l1': 8.725903736922738e-08, 'lambda_l2': 9.457252905712227e-08}. Best is trial 55 with value: 0.3255705220243514.\u001b[0m\n"
          ]
        },
        {
          "output_type": "stream",
          "name": "stdout",
          "text": [
            "Training until validation scores don't improve for 50 rounds.\n",
            "Did not meet early stopping. Best iteration is:\n",
            "[100]\tTrain's rmse: 0.175708\tTest's rmse: 0.325571\n",
            "Training until validation scores don't improve for 50 rounds.\n"
          ]
        },
        {
          "output_type": "stream",
          "name": "stderr",
          "text": [
            "\u001b[32m[I 2021-12-14 11:00:09,218]\u001b[0m Trial 60 finished with value: 0.3255705326703504 and parameters: {'lambda_l1': 1.8603543890713145e-05, 'lambda_l2': 3.712478528258696e-06}. Best is trial 55 with value: 0.3255705220243514.\u001b[0m\n",
            "\u001b[32m[I 2021-12-14 11:00:09,415]\u001b[0m Trial 61 finished with value: 0.3255705221185135 and parameters: {'lambda_l1': 1.48876664113532e-07, 'lambda_l2': 2.936402572489528e-08}. Best is trial 55 with value: 0.3255705220243514.\u001b[0m\n"
          ]
        },
        {
          "output_type": "stream",
          "name": "stdout",
          "text": [
            "Did not meet early stopping. Best iteration is:\n",
            "[100]\tTrain's rmse: 0.175708\tTest's rmse: 0.325571\n",
            "Training until validation scores don't improve for 50 rounds.\n",
            "Did not meet early stopping. Best iteration is:\n",
            "[100]\tTrain's rmse: 0.175708\tTest's rmse: 0.325571\n"
          ]
        },
        {
          "output_type": "stream",
          "name": "stderr",
          "text": [
            "\u001b[32m[I 2021-12-14 11:00:09,615]\u001b[0m Trial 62 finished with value: 0.33506827321020655 and parameters: {'lambda_l1': 6.475547392453957, 'lambda_l2': 9.504273554706192}. Best is trial 55 with value: 0.3255705220243514.\u001b[0m\n"
          ]
        },
        {
          "output_type": "stream",
          "name": "stdout",
          "text": [
            "Training until validation scores don't improve for 50 rounds.\n",
            "Did not meet early stopping. Best iteration is:\n",
            "[100]\tTrain's rmse: 0.181309\tTest's rmse: 0.335068\n",
            "Training until validation scores don't improve for 50 rounds."
          ]
        },
        {
          "output_type": "stream",
          "name": "stderr",
          "text": [
            "\u001b[32m[I 2021-12-14 11:00:09,810]\u001b[0m Trial 63 finished with value: 0.41731255305379844 and parameters: {'min_child_samples': 100}. Best is trial 63 with value: 0.41731255305379844.\u001b[0m\n"
          ]
        },
        {
          "output_type": "stream",
          "name": "stdout",
          "text": [
            "\n",
            "Did not meet early stopping. Best iteration is:\n",
            "[100]\tTrain's rmse: 0.270007\tTest's rmse: 0.417313\n",
            "Training until validation scores don't improve for 50 rounds.\n"
          ]
        },
        {
          "output_type": "stream",
          "name": "stderr",
          "text": [
            "\u001b[32m[I 2021-12-14 11:00:10,008]\u001b[0m Trial 64 finished with value: 0.3270719819338346 and parameters: {'min_child_samples': 10}. Best is trial 64 with value: 0.3270719819338346.\u001b[0m\n",
            "\u001b[32m[I 2021-12-14 11:00:10,201]\u001b[0m Trial 65 finished with value: 0.3833471728492513 and parameters: {'min_child_samples': 50}. Best is trial 64 with value: 0.3270719819338346.\u001b[0m\n"
          ]
        },
        {
          "output_type": "stream",
          "name": "stdout",
          "text": [
            "Did not meet early stopping. Best iteration is:\n",
            "[100]\tTrain's rmse: 0.161185\tTest's rmse: 0.327072\n",
            "Training until validation scores don't improve for 50 rounds.\n",
            "Did not meet early stopping. Best iteration is:\n",
            "[99]\tTrain's rmse: 0.235348\tTest's rmse: 0.383347\n"
          ]
        },
        {
          "output_type": "stream",
          "name": "stderr",
          "text": [
            "\u001b[32m[I 2021-12-14 11:00:10,387]\u001b[0m Trial 66 finished with value: 0.33093177640916516 and parameters: {'min_child_samples': 5}. Best is trial 64 with value: 0.3270719819338346.\u001b[0m\n"
          ]
        },
        {
          "output_type": "stream",
          "name": "stdout",
          "text": [
            "Training until validation scores don't improve for 50 rounds.\n",
            "Did not meet early stopping. Best iteration is:\n",
            "[100]\tTrain's rmse: 0.158561\tTest's rmse: 0.330932\n",
            "Training until validation scores don't improve for 50 rounds.\n"
          ]
        },
        {
          "output_type": "stream",
          "name": "stderr",
          "text": [
            "\u001b[32m[I 2021-12-14 11:00:10,576]\u001b[0m Trial 67 finished with value: 0.33316626870796356 and parameters: {'min_child_samples': 25}. Best is trial 64 with value: 0.3270719819338346.\u001b[0m\n"
          ]
        },
        {
          "output_type": "stream",
          "name": "stdout",
          "text": [
            "Did not meet early stopping. Best iteration is:\n",
            "[100]\tTrain's rmse: 0.177636\tTest's rmse: 0.333166\n"
          ]
        },
        {
          "output_type": "display_data",
          "data": {
            "image/png": "[encoded data removed]",
            "text/plain": [
              "<Figure size 432x288 with 1 Axes>"
            ]
          },
          "metadata": {
            "needs_background": "light"
          }
        },
        {
          "output_type": "stream",
          "name": "stderr",
          "text": [
            "\u001b[32m[I 2021-12-14 11:00:10,780]\u001b[0m A new study created in memory with name: no-name-81599aeb-ed95-43a8-93c7-526131988a24\u001b[0m\n"
          ]
        },
        {
          "output_type": "stream",
          "name": "stdout",
          "text": [
            "Training until validation scores don't improve for 50 rounds.\n"
          ]
        },
        {
          "output_type": "stream",
          "name": "stderr",
          "text": [
            "\u001b[32m[I 2021-12-14 11:00:11,236]\u001b[0m Trial 0 finished with value: 0.1120569964401173 and parameters: {'feature_fraction': 0.7}. Best is trial 0 with value: 0.1120569964401173.\u001b[0m\n"
          ]
        },
        {
          "output_type": "stream",
          "name": "stdout",
          "text": [
            "Did not meet early stopping. Best iteration is:\n",
            "[100]\tTrain's rmse: 0.131906\tTest's rmse: 0.112057\n",
            "Training until validation scores don't improve for 50 rounds.\n"
          ]
        },
        {
          "output_type": "stream",
          "name": "stderr",
          "text": [
            "\u001b[32m[I 2021-12-14 11:00:11,721]\u001b[0m Trial 1 finished with value: 0.10834965404569909 and parameters: {'feature_fraction': 0.8}. Best is trial 1 with value: 0.10834965404569909.\u001b[0m\n"
          ]
        },
        {
          "output_type": "stream",
          "name": "stdout",
          "text": [
            "Did not meet early stopping. Best iteration is:\n",
            "[100]\tTrain's rmse: 0.130029\tTest's rmse: 0.10835\n",
            "Training until validation scores don't improve for 50 rounds.\n"
          ]
        },
        {
          "output_type": "stream",
          "name": "stderr",
          "text": [
            "\u001b[32m[I 2021-12-14 11:00:12,137]\u001b[0m Trial 2 finished with value: 0.12344140666902119 and parameters: {'feature_fraction': 0.6}. Best is trial 1 with value: 0.10834965404569909.\u001b[0m\n"
          ]
        },
        {
          "output_type": "stream",
          "name": "stdout",
          "text": [
            "Did not meet early stopping. Best iteration is:\n",
            "[100]\tTrain's rmse: 0.131736\tTest's rmse: 0.123441\n",
            "Training until validation scores don't improve for 50 rounds.\n"
          ]
        },
        {
          "output_type": "stream",
          "name": "stderr",
          "text": [
            "\u001b[32m[I 2021-12-14 11:00:12,521]\u001b[0m Trial 3 finished with value: 0.14563888242682213 and parameters: {'feature_fraction': 0.5}. Best is trial 1 with value: 0.10834965404569909.\u001b[0m\n"
          ]
        },
        {
          "output_type": "stream",
          "name": "stdout",
          "text": [
            "Did not meet early stopping. Best iteration is:\n",
            "[100]\tTrain's rmse: 0.137295\tTest's rmse: 0.145639\n",
            "Training until validation scores don't improve for 50 rounds.\n"
          ]
        },
        {
          "output_type": "stream",
          "name": "stderr",
          "text": [
            "\u001b[32m[I 2021-12-14 11:00:13,060]\u001b[0m Trial 4 finished with value: 0.11256295527908217 and parameters: {'feature_fraction': 1.0}. Best is trial 1 with value: 0.10834965404569909.\u001b[0m\n"
          ]
        },
        {
          "output_type": "stream",
          "name": "stdout",
          "text": [
            "Did not meet early stopping. Best iteration is:\n",
            "[100]\tTrain's rmse: 0.15304\tTest's rmse: 0.112563\n",
            "Training until validation scores don't improve for 50 rounds.\n"
          ]
        },
        {
          "output_type": "stream",
          "name": "stderr",
          "text": [
            "\u001b[32m[I 2021-12-14 11:00:13,585]\u001b[0m Trial 5 finished with value: 0.11178605491776616 and parameters: {'feature_fraction': 0.8999999999999999}. Best is trial 1 with value: 0.10834965404569909.\u001b[0m\n"
          ]
        },
        {
          "output_type": "stream",
          "name": "stdout",
          "text": [
            "Did not meet early stopping. Best iteration is:\n",
            "[100]\tTrain's rmse: 0.147057\tTest's rmse: 0.111786\n",
            "Training until validation scores don't improve for 50 rounds.\n"
          ]
        },
        {
          "output_type": "stream",
          "name": "stderr",
          "text": [
            "\u001b[32m[I 2021-12-14 11:00:13,934]\u001b[0m Trial 6 finished with value: 0.13870240145354 and parameters: {'feature_fraction': 0.4}. Best is trial 1 with value: 0.10834965404569909.\u001b[0m\n"
          ]
        },
        {
          "output_type": "stream",
          "name": "stdout",
          "text": [
            "Did not meet early stopping. Best iteration is:\n",
            "[100]\tTrain's rmse: 0.137253\tTest's rmse: 0.138702\n",
            "Training until validation scores don't improve for 50 rounds.\n"
          ]
        },
        {
          "output_type": "stream",
          "name": "stderr",
          "text": [
            "\u001b[32m[I 2021-12-14 11:00:14,644]\u001b[0m Trial 7 finished with value: 0.10749979406136366 and parameters: {'num_leaves': 57}. Best is trial 7 with value: 0.10749979406136366.\u001b[0m\n"
          ]
        },
        {
          "output_type": "stream",
          "name": "stdout",
          "text": [
            "Did not meet early stopping. Best iteration is:\n",
            "[100]\tTrain's rmse: 0.13207\tTest's rmse: 0.1075\n",
            "Training until validation scores don't improve for 50 rounds.\n"
          ]
        },
        {
          "output_type": "stream",
          "name": "stderr",
          "text": [
            "\u001b[32m[I 2021-12-14 11:00:14,953]\u001b[0m Trial 8 finished with value: 0.10467924186520333 and parameters: {'num_leaves': 12}. Best is trial 8 with value: 0.10467924186520333.\u001b[0m\n"
          ]
        },
        {
          "output_type": "stream",
          "name": "stdout",
          "text": [
            "Did not meet early stopping. Best iteration is:\n",
            "[100]\tTrain's rmse: 0.136148\tTest's rmse: 0.104679\n",
            "Training until validation scores don't improve for 50 rounds.\n"
          ]
        },
        {
          "output_type": "stream",
          "name": "stderr",
          "text": [
            "\u001b[32m[I 2021-12-14 11:00:15,515]\u001b[0m Trial 9 finished with value: 0.1060131325862426 and parameters: {'num_leaves': 39}. Best is trial 8 with value: 0.10467924186520333.\u001b[0m\n"
          ]
        },
        {
          "output_type": "stream",
          "name": "stdout",
          "text": [
            "Did not meet early stopping. Best iteration is:\n",
            "[100]\tTrain's rmse: 0.131967\tTest's rmse: 0.106013\n",
            "Training until validation scores don't improve for 50 rounds.\n"
          ]
        },
        {
          "output_type": "stream",
          "name": "stderr",
          "text": [
            "\u001b[32m[I 2021-12-14 11:00:16,111]\u001b[0m Trial 10 finished with value: 0.10239900242520011 and parameters: {'num_leaves': 45}. Best is trial 10 with value: 0.10239900242520011.\u001b[0m\n"
          ]
        },
        {
          "output_type": "stream",
          "name": "stdout",
          "text": [
            "Did not meet early stopping. Best iteration is:\n",
            "[100]\tTrain's rmse: 0.133032\tTest's rmse: 0.102399\n",
            "Training until validation scores don't improve for 50 rounds.\n"
          ]
        },
        {
          "output_type": "stream",
          "name": "stderr",
          "text": [
            "\u001b[32m[I 2021-12-14 11:00:17,845]\u001b[0m Trial 11 finished with value: 0.11642464691557643 and parameters: {'num_leaves': 222}. Best is trial 10 with value: 0.10239900242520011.\u001b[0m\n"
          ]
        },
        {
          "output_type": "stream",
          "name": "stdout",
          "text": [
            "Did not meet early stopping. Best iteration is:\n",
            "[100]\tTrain's rmse: 0.133095\tTest's rmse: 0.116425\n",
            "Training until validation scores don't improve for 50 rounds.\n"
          ]
        },
        {
          "output_type": "stream",
          "name": "stderr",
          "text": [
            "\u001b[32m[I 2021-12-14 11:00:19,256]\u001b[0m Trial 12 finished with value: 0.11504884214721363 and parameters: {'num_leaves': 161}. Best is trial 10 with value: 0.10239900242520011.\u001b[0m\n"
          ]
        },
        {
          "output_type": "stream",
          "name": "stdout",
          "text": [
            "Did not meet early stopping. Best iteration is:\n",
            "[100]\tTrain's rmse: 0.135628\tTest's rmse: 0.115049\n",
            "Training until validation scores don't improve for 50 rounds.\n"
          ]
        },
        {
          "output_type": "stream",
          "name": "stderr",
          "text": [
            "\u001b[32m[I 2021-12-14 11:00:20,192]\u001b[0m Trial 13 finished with value: 0.10956880000082544 and parameters: {'num_leaves': 91}. Best is trial 10 with value: 0.10239900242520011.\u001b[0m\n"
          ]
        },
        {
          "output_type": "stream",
          "name": "stdout",
          "text": [
            "Did not meet early stopping. Best iteration is:\n",
            "[100]\tTrain's rmse: 0.134908\tTest's rmse: 0.109569\n",
            "Training until validation scores don't improve for 50 rounds.\n"
          ]
        },
        {
          "output_type": "stream",
          "name": "stderr",
          "text": [
            "\u001b[32m[I 2021-12-14 11:00:20,670]\u001b[0m Trial 14 finished with value: 0.1025897801019396 and parameters: {'num_leaves': 30}. Best is trial 10 with value: 0.10239900242520011.\u001b[0m\n"
          ]
        },
        {
          "output_type": "stream",
          "name": "stdout",
          "text": [
            "Did not meet early stopping. Best iteration is:\n",
            "[100]\tTrain's rmse: 0.132575\tTest's rmse: 0.10259\n",
            "Training until validation scores don't improve for 50 rounds.\n"
          ]
        },
        {
          "output_type": "stream",
          "name": "stderr",
          "text": [
            "\u001b[32m[I 2021-12-14 11:00:21,814]\u001b[0m Trial 15 finished with value: 0.11247953865750078 and parameters: {'num_leaves': 125}. Best is trial 10 with value: 0.10239900242520011.\u001b[0m\n"
          ]
        },
        {
          "output_type": "stream",
          "name": "stdout",
          "text": [
            "Did not meet early stopping. Best iteration is:\n",
            "[100]\tTrain's rmse: 0.131874\tTest's rmse: 0.11248\n",
            "Training until validation scores don't improve for 50 rounds.\n"
          ]
        },
        {
          "output_type": "stream",
          "name": "stderr",
          "text": [
            "\u001b[32m[I 2021-12-14 11:00:22,823]\u001b[0m Trial 16 finished with value: 0.1136916955004557 and parameters: {'num_leaves': 103}. Best is trial 10 with value: 0.10239900242520011.\u001b[0m\n"
          ]
        },
        {
          "output_type": "stream",
          "name": "stdout",
          "text": [
            "Did not meet early stopping. Best iteration is:\n",
            "[100]\tTrain's rmse: 0.137555\tTest's rmse: 0.113692\n",
            "Training until validation scores don't improve for 50 rounds.\n"
          ]
        },
        {
          "output_type": "stream",
          "name": "stderr",
          "text": [
            "\u001b[32m[I 2021-12-14 11:00:24,735]\u001b[0m Trial 17 finished with value: 0.11707817099530335 and parameters: {'num_leaves': 254}. Best is trial 10 with value: 0.10239900242520011.\u001b[0m\n"
          ]
        },
        {
          "output_type": "stream",
          "name": "stdout",
          "text": [
            "Did not meet early stopping. Best iteration is:\n",
            "[100]\tTrain's rmse: 0.133411\tTest's rmse: 0.117078\n"
          ]
        },
        {
          "output_type": "stream",
          "name": "stderr",
          "text": [
            "\u001b[32m[I 2021-12-14 11:00:25,010]\u001b[0m Trial 18 finished with value: 0.11082807016139735 and parameters: {'num_leaves': 10}. Best is trial 10 with value: 0.10239900242520011.\u001b[0m\n"
          ]
        },
        {
          "output_type": "stream",
          "name": "stdout",
          "text": [
            "Training until validation scores don't improve for 50 rounds.\n",
            "Did not meet early stopping. Best iteration is:\n",
            "[100]\tTrain's rmse: 0.134336\tTest's rmse: 0.110828\n",
            "Training until validation scores don't improve for 50 rounds.\n"
          ]
        },
        {
          "output_type": "stream",
          "name": "stderr",
          "text": [
            "\u001b[32m[I 2021-12-14 11:00:25,783]\u001b[0m Trial 19 finished with value: 0.109502676971808 and parameters: {'num_leaves': 68}. Best is trial 10 with value: 0.10239900242520011.\u001b[0m\n"
          ]
        },
        {
          "output_type": "stream",
          "name": "stdout",
          "text": [
            "Did not meet early stopping. Best iteration is:\n",
            "[100]\tTrain's rmse: 0.132353\tTest's rmse: 0.109503\n",
            "Training until validation scores don't improve for 50 rounds.\n"
          ]
        },
        {
          "output_type": "stream",
          "name": "stderr",
          "text": [
            "\u001b[32m[I 2021-12-14 11:00:27,238]\u001b[0m Trial 20 finished with value: 0.11539963530018137 and parameters: {'num_leaves': 176}. Best is trial 10 with value: 0.10239900242520011.\u001b[0m\n"
          ]
        },
        {
          "output_type": "stream",
          "name": "stdout",
          "text": [
            "Did not meet early stopping. Best iteration is:\n",
            "[100]\tTrain's rmse: 0.130777\tTest's rmse: 0.1154\n",
            "Training until validation scores don't improve for 50 rounds.\n"
          ]
        },
        {
          "output_type": "stream",
          "name": "stderr",
          "text": [
            "\u001b[32m[I 2021-12-14 11:00:27,850]\u001b[0m Trial 21 finished with value: 0.10449495581354348 and parameters: {'num_leaves': 47}. Best is trial 10 with value: 0.10239900242520011.\u001b[0m\n"
          ]
        },
        {
          "output_type": "stream",
          "name": "stdout",
          "text": [
            "Did not meet early stopping. Best iteration is:\n",
            "[100]\tTrain's rmse: 0.131264\tTest's rmse: 0.104495\n",
            "Training until validation scores don't improve for 50 rounds.\n"
          ]
        },
        {
          "output_type": "stream",
          "name": "stderr",
          "text": [
            "\u001b[32m[I 2021-12-14 11:00:28,108]\u001b[0m Trial 22 finished with value: 0.11377895254751762 and parameters: {'num_leaves': 9}. Best is trial 10 with value: 0.10239900242520011.\u001b[0m\n"
          ]
        },
        {
          "output_type": "stream",
          "name": "stdout",
          "text": [
            "Did not meet early stopping. Best iteration is:\n",
            "[100]\tTrain's rmse: 0.135152\tTest's rmse: 0.113779\n",
            "Training until validation scores don't improve for 50 rounds.\n"
          ]
        },
        {
          "output_type": "stream",
          "name": "stderr",
          "text": [
            "\u001b[32m[I 2021-12-14 11:00:29,013]\u001b[0m Trial 23 finished with value: 0.10627406656326316 and parameters: {'num_leaves': 86}. Best is trial 10 with value: 0.10239900242520011.\u001b[0m\n"
          ]
        },
        {
          "output_type": "stream",
          "name": "stdout",
          "text": [
            "Did not meet early stopping. Best iteration is:\n",
            "[100]\tTrain's rmse: 0.133148\tTest's rmse: 0.106274\n",
            "Training until validation scores don't improve for 50 rounds.\n"
          ]
        },
        {
          "output_type": "stream",
          "name": "stderr",
          "text": [
            "\u001b[32m[I 2021-12-14 11:00:30,213]\u001b[0m Trial 24 finished with value: 0.11552064170062165 and parameters: {'num_leaves': 128}. Best is trial 10 with value: 0.10239900242520011.\u001b[0m\n"
          ]
        },
        {
          "output_type": "stream",
          "name": "stdout",
          "text": [
            "Did not meet early stopping. Best iteration is:\n",
            "[100]\tTrain's rmse: 0.134996\tTest's rmse: 0.115521\n",
            "Training until validation scores don't improve for 50 rounds.\n"
          ]
        },
        {
          "output_type": "stream",
          "name": "stderr",
          "text": [
            "\u001b[32m[I 2021-12-14 11:00:30,774]\u001b[0m Trial 25 finished with value: 0.10376485494180666 and parameters: {'num_leaves': 38}. Best is trial 10 with value: 0.10239900242520011.\u001b[0m\n"
          ]
        },
        {
          "output_type": "stream",
          "name": "stdout",
          "text": [
            "Did not meet early stopping. Best iteration is:\n",
            "[100]\tTrain's rmse: 0.13259\tTest's rmse: 0.103765\n",
            "Training until validation scores don't improve for 50 rounds.\n"
          ]
        },
        {
          "output_type": "stream",
          "name": "stderr",
          "text": [
            "\u001b[32m[I 2021-12-14 11:00:32,158]\u001b[0m Trial 26 finished with value: 0.11537602938664267 and parameters: {'num_leaves': 158}. Best is trial 10 with value: 0.10239900242520011.\u001b[0m\n"
          ]
        },
        {
          "output_type": "stream",
          "name": "stdout",
          "text": [
            "Did not meet early stopping. Best iteration is:\n",
            "[100]\tTrain's rmse: 0.137074\tTest's rmse: 0.115376\n",
            "Training until validation scores don't improve for 50 rounds.\n"
          ]
        },
        {
          "output_type": "stream",
          "name": "stderr",
          "text": [
            "\u001b[32m[I 2021-12-14 11:00:32,771]\u001b[0m Trial 27 finished with value: 0.11740495203007326 and parameters: {'bagging_fraction': 0.50997301304924, 'bagging_freq': 1}. Best is trial 27 with value: 0.11740495203007326.\u001b[0m\n"
          ]
        },
        {
          "output_type": "stream",
          "name": "stdout",
          "text": [
            "Did not meet early stopping. Best iteration is:\n",
            "[100]\tTrain's rmse: 0.188228\tTest's rmse: 0.117405\n",
            "Training until validation scores don't improve for 50 rounds.\n"
          ]
        },
        {
          "output_type": "stream",
          "name": "stderr",
          "text": [
            "\u001b[32m[I 2021-12-14 11:00:33,448]\u001b[0m Trial 28 finished with value: 0.11984112626613194 and parameters: {'bagging_fraction': 0.8579069390004377, 'bagging_freq': 6}. Best is trial 27 with value: 0.11740495203007326.\u001b[0m\n"
          ]
        },
        {
          "output_type": "stream",
          "name": "stdout",
          "text": [
            "Did not meet early stopping. Best iteration is:\n",
            "[100]\tTrain's rmse: 0.164809\tTest's rmse: 0.119841\n",
            "Training until validation scores don't improve for 50 rounds.\n"
          ]
        },
        {
          "output_type": "stream",
          "name": "stderr",
          "text": [
            "\u001b[32m[I 2021-12-14 11:00:34,066]\u001b[0m Trial 29 finished with value: 0.10120361752967148 and parameters: {'bagging_fraction': 0.9886608649666221, 'bagging_freq': 1}. Best is trial 29 with value: 0.10120361752967148.\u001b[0m\n"
          ]
        },
        {
          "output_type": "stream",
          "name": "stdout",
          "text": [
            "Did not meet early stopping. Best iteration is:\n",
            "[100]\tTrain's rmse: 0.131085\tTest's rmse: 0.101204\n",
            "Training until validation scores don't improve for 50 rounds.\n"
          ]
        },
        {
          "output_type": "stream",
          "name": "stderr",
          "text": [
            "\u001b[32m[I 2021-12-14 11:00:34,734]\u001b[0m Trial 30 finished with value: 0.11242503518435672 and parameters: {'bagging_fraction': 0.8272797230529718, 'bagging_freq': 7}. Best is trial 29 with value: 0.10120361752967148.\u001b[0m\n"
          ]
        },
        {
          "output_type": "stream",
          "name": "stdout",
          "text": [
            "Did not meet early stopping. Best iteration is:\n",
            "[100]\tTrain's rmse: 0.170775\tTest's rmse: 0.112425\n",
            "Training until validation scores don't improve for 50 rounds.\n"
          ]
        },
        {
          "output_type": "stream",
          "name": "stderr",
          "text": [
            "\u001b[32m[I 2021-12-14 11:00:35,404]\u001b[0m Trial 31 finished with value: 0.11841068783150219 and parameters: {'bagging_fraction': 0.763581576888949, 'bagging_freq': 6}. Best is trial 29 with value: 0.10120361752967148.\u001b[0m\n"
          ]
        },
        {
          "output_type": "stream",
          "name": "stdout",
          "text": [
            "Did not meet early stopping. Best iteration is:\n",
            "[100]\tTrain's rmse: 0.177692\tTest's rmse: 0.118411\n",
            "Training until validation scores don't improve for 50 rounds.\n"
          ]
        },
        {
          "output_type": "stream",
          "name": "stderr",
          "text": [
            "\u001b[32m[I 2021-12-14 11:00:36,088]\u001b[0m Trial 32 finished with value: 0.11420208868306618 and parameters: {'bagging_fraction': 0.8822931749844816, 'bagging_freq': 3}. Best is trial 29 with value: 0.10120361752967148.\u001b[0m\n"
          ]
        },
        {
          "output_type": "stream",
          "name": "stdout",
          "text": [
            "Did not meet early stopping. Best iteration is:\n",
            "[100]\tTrain's rmse: 0.159356\tTest's rmse: 0.114202\n",
            "Training until validation scores don't improve for 50 rounds.\n"
          ]
        },
        {
          "output_type": "stream",
          "name": "stderr",
          "text": [
            "\u001b[32m[I 2021-12-14 11:00:36,739]\u001b[0m Trial 33 finished with value: 0.11556666085133042 and parameters: {'bagging_fraction': 0.5887073510525905, 'bagging_freq': 7}. Best is trial 29 with value: 0.10120361752967148.\u001b[0m\n"
          ]
        },
        {
          "output_type": "stream",
          "name": "stdout",
          "text": [
            "Did not meet early stopping. Best iteration is:\n",
            "[100]\tTrain's rmse: 0.181956\tTest's rmse: 0.115567\n",
            "Training until validation scores don't improve for 50 rounds.\n"
          ]
        },
        {
          "output_type": "stream",
          "name": "stderr",
          "text": [
            "\u001b[32m[I 2021-12-14 11:00:37,371]\u001b[0m Trial 34 finished with value: 0.11821083339955193 and parameters: {'bagging_fraction': 0.4358105918182729, 'bagging_freq': 7}. Best is trial 29 with value: 0.10120361752967148.\u001b[0m\n"
          ]
        },
        {
          "output_type": "stream",
          "name": "stdout",
          "text": [
            "Did not meet early stopping. Best iteration is:\n",
            "[100]\tTrain's rmse: 0.191141\tTest's rmse: 0.118211\n",
            "Training until validation scores don't improve for 50 rounds.\n"
          ]
        },
        {
          "output_type": "stream",
          "name": "stderr",
          "text": [
            "\u001b[32m[I 2021-12-14 11:00:38,050]\u001b[0m Trial 35 finished with value: 0.11229140780289154 and parameters: {'bagging_fraction': 0.8863515114971008, 'bagging_freq': 5}. Best is trial 29 with value: 0.10120361752967148.\u001b[0m\n"
          ]
        },
        {
          "output_type": "stream",
          "name": "stdout",
          "text": [
            "Did not meet early stopping. Best iteration is:\n",
            "[100]\tTrain's rmse: 0.15482\tTest's rmse: 0.112291\n",
            "Training until validation scores don't improve for 50 rounds.\n"
          ]
        },
        {
          "output_type": "stream",
          "name": "stderr",
          "text": [
            "\u001b[32m[I 2021-12-14 11:00:38,684]\u001b[0m Trial 36 finished with value: 0.1301022625092973 and parameters: {'bagging_fraction': 0.47773135903634933, 'bagging_freq': 7}. Best is trial 29 with value: 0.10120361752967148.\u001b[0m\n"
          ]
        },
        {
          "output_type": "stream",
          "name": "stdout",
          "text": [
            "Did not meet early stopping. Best iteration is:\n",
            "[100]\tTrain's rmse: 0.189278\tTest's rmse: 0.130102\n",
            "Training until validation scores don't improve for 50 rounds.\n"
          ]
        },
        {
          "output_type": "stream",
          "name": "stderr",
          "text": [
            "\u001b[32m[I 2021-12-14 11:00:39,285]\u001b[0m Trial 37 finished with value: 0.10613860072823889 and parameters: {'feature_fraction': 0.7520000000000001}. Best is trial 37 with value: 0.10613860072823889.\u001b[0m\n"
          ]
        },
        {
          "output_type": "stream",
          "name": "stdout",
          "text": [
            "Did not meet early stopping. Best iteration is:\n",
            "[100]\tTrain's rmse: 0.128162\tTest's rmse: 0.106139\n",
            "Training until validation scores don't improve for 50 rounds.\n"
          ]
        },
        {
          "output_type": "stream",
          "name": "stderr",
          "text": [
            "\u001b[32m[I 2021-12-14 11:00:39,855]\u001b[0m Trial 38 finished with value: 0.1144396863110791 and parameters: {'feature_fraction': 0.7200000000000001}. Best is trial 37 with value: 0.10613860072823889.\u001b[0m\n"
          ]
        },
        {
          "output_type": "stream",
          "name": "stdout",
          "text": [
            "Did not meet early stopping. Best iteration is:\n",
            "[100]\tTrain's rmse: 0.129718\tTest's rmse: 0.11444\n",
            "Training until validation scores don't improve for 50 rounds.\n"
          ]
        },
        {
          "output_type": "stream",
          "name": "stderr",
          "text": [
            "\u001b[32m[I 2021-12-14 11:00:40,452]\u001b[0m Trial 39 finished with value: 0.10120361752967148 and parameters: {'feature_fraction': 0.8480000000000001}. Best is trial 39 with value: 0.10120361752967148.\u001b[0m\n"
          ]
        },
        {
          "output_type": "stream",
          "name": "stdout",
          "text": [
            "Did not meet early stopping. Best iteration is:\n",
            "[100]\tTrain's rmse: 0.131085\tTest's rmse: 0.101204\n",
            "Training until validation scores don't improve for 50 rounds.\n"
          ]
        },
        {
          "output_type": "stream",
          "name": "stderr",
          "text": [
            "\u001b[32m[I 2021-12-14 11:00:41,060]\u001b[0m Trial 40 finished with value: 0.10120361752967148 and parameters: {'feature_fraction': 0.8160000000000001}. Best is trial 39 with value: 0.10120361752967148.\u001b[0m\n"
          ]
        },
        {
          "output_type": "stream",
          "name": "stdout",
          "text": [
            "Did not meet early stopping. Best iteration is:\n",
            "[100]\tTrain's rmse: 0.131085\tTest's rmse: 0.101204\n",
            "Training until validation scores don't improve for 50 rounds.\n"
          ]
        },
        {
          "output_type": "stream",
          "name": "stderr",
          "text": [
            "\u001b[32m[I 2021-12-14 11:00:41,693]\u001b[0m Trial 41 finished with value: 0.10502791281878249 and parameters: {'feature_fraction': 0.88}. Best is trial 39 with value: 0.10120361752967148.\u001b[0m\n"
          ]
        },
        {
          "output_type": "stream",
          "name": "stdout",
          "text": [
            "Did not meet early stopping. Best iteration is:\n",
            "[100]\tTrain's rmse: 0.133907\tTest's rmse: 0.105028\n",
            "Training until validation scores don't improve for 50 rounds.\n"
          ]
        },
        {
          "output_type": "stream",
          "name": "stderr",
          "text": [
            "\u001b[32m[I 2021-12-14 11:00:42,288]\u001b[0m Trial 42 finished with value: 0.10613860072823889 and parameters: {'feature_fraction': 0.784}. Best is trial 39 with value: 0.10120361752967148.\u001b[0m\n"
          ]
        },
        {
          "output_type": "stream",
          "name": "stdout",
          "text": [
            "Did not meet early stopping. Best iteration is:\n",
            "[100]\tTrain's rmse: 0.128162\tTest's rmse: 0.106139\n",
            "Training until validation scores don't improve for 50 rounds.\n"
          ]
        },
        {
          "output_type": "stream",
          "name": "stderr",
          "text": [
            "\u001b[32m[I 2021-12-14 11:00:42,839]\u001b[0m Trial 43 finished with value: 0.10459851260599073 and parameters: {'lambda_l1': 0.8633156693734956, 'lambda_l2': 0.06135740206833867}. Best is trial 43 with value: 0.10459851260599073.\u001b[0m\n"
          ]
        },
        {
          "output_type": "stream",
          "name": "stdout",
          "text": [
            "Did not meet early stopping. Best iteration is:\n",
            "[100]\tTrain's rmse: 0.130885\tTest's rmse: 0.104599\n",
            "Training until validation scores don't improve for 50 rounds.\n"
          ]
        },
        {
          "output_type": "stream",
          "name": "stderr",
          "text": [
            "\u001b[32m[I 2021-12-14 11:00:43,451]\u001b[0m Trial 44 finished with value: 0.1036406701879034 and parameters: {'lambda_l1': 1.225964989782541e-07, 'lambda_l2': 0.004609423968616891}. Best is trial 44 with value: 0.1036406701879034.\u001b[0m\n"
          ]
        },
        {
          "output_type": "stream",
          "name": "stdout",
          "text": [
            "Did not meet early stopping. Best iteration is:\n",
            "[100]\tTrain's rmse: 0.132679\tTest's rmse: 0.103641\n",
            "Training until validation scores don't improve for 50 rounds.\n"
          ]
        },
        {
          "output_type": "stream",
          "name": "stderr",
          "text": [
            "\u001b[32m[I 2021-12-14 11:00:44,073]\u001b[0m Trial 45 finished with value: 0.10243901490304616 and parameters: {'lambda_l1': 0.015745846383851375, 'lambda_l2': 0.0030122893370128877}. Best is trial 45 with value: 0.10243901490304616.\u001b[0m\n"
          ]
        },
        {
          "output_type": "stream",
          "name": "stdout",
          "text": [
            "Did not meet early stopping. Best iteration is:\n",
            "[100]\tTrain's rmse: 0.133189\tTest's rmse: 0.102439\n",
            "Training until validation scores don't improve for 50 rounds.\n"
          ]
        },
        {
          "output_type": "stream",
          "name": "stderr",
          "text": [
            "\u001b[32m[I 2021-12-14 11:00:44,654]\u001b[0m Trial 46 finished with value: 0.11418929593076887 and parameters: {'lambda_l1': 0.045339048992364794, 'lambda_l2': 3.929303819234355}. Best is trial 45 with value: 0.10243901490304616.\u001b[0m\n"
          ]
        },
        {
          "output_type": "stream",
          "name": "stdout",
          "text": [
            "Did not meet early stopping. Best iteration is:\n",
            "[100]\tTrain's rmse: 0.139427\tTest's rmse: 0.114189\n",
            "Training until validation scores don't improve for 50 rounds.\n"
          ]
        },
        {
          "output_type": "stream",
          "name": "stderr",
          "text": [
            "\u001b[32m[I 2021-12-14 11:00:45,281]\u001b[0m Trial 47 finished with value: 0.10219995941897993 and parameters: {'lambda_l1': 1.2695596791163623e-05, 'lambda_l2': 0.00012441936953830392}. Best is trial 47 with value: 0.10219995941897993.\u001b[0m\n"
          ]
        },
        {
          "output_type": "stream",
          "name": "stdout",
          "text": [
            "Did not meet early stopping. Best iteration is:\n",
            "[100]\tTrain's rmse: 0.129991\tTest's rmse: 0.1022\n",
            "Training until validation scores don't improve for 50 rounds.\n"
          ]
        },
        {
          "output_type": "stream",
          "name": "stderr",
          "text": [
            "\u001b[32m[I 2021-12-14 11:00:45,920]\u001b[0m Trial 48 finished with value: 0.10102201199970555 and parameters: {'lambda_l1': 2.3074722087018815e-06, 'lambda_l2': 1.8854603862661595e-07}. Best is trial 48 with value: 0.10102201199970555.\u001b[0m\n"
          ]
        },
        {
          "output_type": "stream",
          "name": "stdout",
          "text": [
            "Did not meet early stopping. Best iteration is:\n",
            "[100]\tTrain's rmse: 0.131642\tTest's rmse: 0.101022\n",
            "Training until validation scores don't improve for 50 rounds.\n"
          ]
        },
        {
          "output_type": "stream",
          "name": "stderr",
          "text": [
            "\u001b[32m[I 2021-12-14 11:00:46,536]\u001b[0m Trial 49 finished with value: 0.10782253426532676 and parameters: {'lambda_l1': 4.673122153793461e-07, 'lambda_l2': 0.020641821391102322}. Best is trial 48 with value: 0.10102201199970555.\u001b[0m\n"
          ]
        },
        {
          "output_type": "stream",
          "name": "stdout",
          "text": [
            "Did not meet early stopping. Best iteration is:\n",
            "[100]\tTrain's rmse: 0.133786\tTest's rmse: 0.107823\n",
            "Training until validation scores don't improve for 50 rounds.\n"
          ]
        },
        {
          "output_type": "stream",
          "name": "stderr",
          "text": [
            "\u001b[32m[I 2021-12-14 11:00:47,159]\u001b[0m Trial 50 finished with value: 0.10102201172429456 and parameters: {'lambda_l1': 1.9524315497814376e-06, 'lambda_l2': 1.0936346775619673e-07}. Best is trial 50 with value: 0.10102201172429456.\u001b[0m\n"
          ]
        },
        {
          "output_type": "stream",
          "name": "stdout",
          "text": [
            "Did not meet early stopping. Best iteration is:\n",
            "[100]\tTrain's rmse: 0.131642\tTest's rmse: 0.101022\n",
            "Training until validation scores don't improve for 50 rounds.\n"
          ]
        },
        {
          "output_type": "stream",
          "name": "stderr",
          "text": [
            "\u001b[32m[I 2021-12-14 11:00:47,778]\u001b[0m Trial 51 finished with value: 0.1064704389389843 and parameters: {'lambda_l1': 7.231354486191262e-06, 'lambda_l2': 0.01566939341917563}. Best is trial 50 with value: 0.10102201172429456.\u001b[0m\n"
          ]
        },
        {
          "output_type": "stream",
          "name": "stdout",
          "text": [
            "Did not meet early stopping. Best iteration is:\n",
            "[100]\tTrain's rmse: 0.132045\tTest's rmse: 0.10647\n",
            "Training until validation scores don't improve for 50 rounds.\n"
          ]
        },
        {
          "output_type": "stream",
          "name": "stderr",
          "text": [
            "\u001b[32m[I 2021-12-14 11:00:48,381]\u001b[0m Trial 52 finished with value: 0.10438424059540356 and parameters: {'lambda_l1': 0.04190581014225153, 'lambda_l2': 2.873388479560053e-06}. Best is trial 50 with value: 0.10102201172429456.\u001b[0m\n"
          ]
        },
        {
          "output_type": "stream",
          "name": "stdout",
          "text": [
            "Did not meet early stopping. Best iteration is:\n",
            "[100]\tTrain's rmse: 0.128688\tTest's rmse: 0.104384\n",
            "Training until validation scores don't improve for 50 rounds.\n"
          ]
        },
        {
          "output_type": "stream",
          "name": "stderr",
          "text": [
            "\u001b[32m[I 2021-12-14 11:00:49,003]\u001b[0m Trial 53 finished with value: 0.1024389557772626 and parameters: {'lambda_l1': 0.000715751402967932, 'lambda_l2': 3.4390310509757965e-08}. Best is trial 50 with value: 0.10102201172429456.\u001b[0m\n"
          ]
        },
        {
          "output_type": "stream",
          "name": "stdout",
          "text": [
            "Did not meet early stopping. Best iteration is:\n",
            "[100]\tTrain's rmse: 0.130989\tTest's rmse: 0.102439\n",
            "Training until validation scores don't improve for 50 rounds.\n"
          ]
        },
        {
          "output_type": "stream",
          "name": "stderr",
          "text": [
            "\u001b[32m[I 2021-12-14 11:00:49,602]\u001b[0m Trial 54 finished with value: 0.10120361756291824 and parameters: {'lambda_l1': 1.9713966401172932e-08, 'lambda_l2': 1.209429590100546e-08}. Best is trial 50 with value: 0.10102201172429456.\u001b[0m\n"
          ]
        },
        {
          "output_type": "stream",
          "name": "stdout",
          "text": [
            "Did not meet early stopping. Best iteration is:\n",
            "[100]\tTrain's rmse: 0.131085\tTest's rmse: 0.101204\n",
            "Training until validation scores don't improve for 50 rounds.\n"
          ]
        },
        {
          "output_type": "stream",
          "name": "stderr",
          "text": [
            "\u001b[32m[I 2021-12-14 11:00:50,214]\u001b[0m Trial 55 finished with value: 0.10102202188713184 and parameters: {'lambda_l1': 1.5169756795713016e-05, 'lambda_l2': 1.0244129403118579e-06}. Best is trial 50 with value: 0.10102201172429456.\u001b[0m\n"
          ]
        },
        {
          "output_type": "stream",
          "name": "stdout",
          "text": [
            "Did not meet early stopping. Best iteration is:\n",
            "[100]\tTrain's rmse: 0.131642\tTest's rmse: 0.101022\n",
            "Training until validation scores don't improve for 50 rounds.\n"
          ]
        },
        {
          "output_type": "stream",
          "name": "stderr",
          "text": [
            "\u001b[32m[I 2021-12-14 11:00:50,817]\u001b[0m Trial 56 finished with value: 0.10120361807262734 and parameters: {'lambda_l1': 8.754761087470014e-07, 'lambda_l2': 1.624913865716877e-06}. Best is trial 50 with value: 0.10102201172429456.\u001b[0m\n"
          ]
        },
        {
          "output_type": "stream",
          "name": "stdout",
          "text": [
            "Did not meet early stopping. Best iteration is:\n",
            "[100]\tTrain's rmse: 0.131085\tTest's rmse: 0.101204\n",
            "Training until validation scores don't improve for 50 rounds.\n"
          ]
        },
        {
          "output_type": "stream",
          "name": "stderr",
          "text": [
            "\u001b[32m[I 2021-12-14 11:00:51,441]\u001b[0m Trial 57 finished with value: 0.10130033569358206 and parameters: {'lambda_l1': 0.0002077367731071963, 'lambda_l2': 7.187795105819439e-05}. Best is trial 50 with value: 0.10102201172429456.\u001b[0m\n"
          ]
        },
        {
          "output_type": "stream",
          "name": "stdout",
          "text": [
            "Did not meet early stopping. Best iteration is:\n",
            "[100]\tTrain's rmse: 0.132413\tTest's rmse: 0.1013\n",
            "Training until validation scores don't improve for 50 rounds.\n"
          ]
        },
        {
          "output_type": "stream",
          "name": "stderr",
          "text": [
            "\u001b[32m[I 2021-12-14 11:00:52,063]\u001b[0m Trial 58 finished with value: 0.10120361765936897 and parameters: {'lambda_l1': 1.135403178398509e-08, 'lambda_l2': 1.6580994332638335e-07}. Best is trial 50 with value: 0.10102201172429456.\u001b[0m\n"
          ]
        },
        {
          "output_type": "stream",
          "name": "stdout",
          "text": [
            "Did not meet early stopping. Best iteration is:\n",
            "[100]\tTrain's rmse: 0.131085\tTest's rmse: 0.101204\n",
            "Training until validation scores don't improve for 50 rounds.\n"
          ]
        },
        {
          "output_type": "stream",
          "name": "stderr",
          "text": [
            "\u001b[32m[I 2021-12-14 11:00:52,669]\u001b[0m Trial 59 finished with value: 0.10067613104097398 and parameters: {'lambda_l1': 0.0001315908632227867, 'lambda_l2': 1.00621801707644e-05}. Best is trial 59 with value: 0.10067613104097398.\u001b[0m\n"
          ]
        },
        {
          "output_type": "stream",
          "name": "stdout",
          "text": [
            "Did not meet early stopping. Best iteration is:\n",
            "[100]\tTrain's rmse: 0.13116\tTest's rmse: 0.100676\n",
            "Training until validation scores don't improve for 50 rounds.\n"
          ]
        },
        {
          "output_type": "stream",
          "name": "stderr",
          "text": [
            "\u001b[32m[I 2021-12-14 11:00:53,301]\u001b[0m Trial 60 finished with value: 0.10130036363451722 and parameters: {'lambda_l1': 0.0002244403472680683, 'lambda_l2': 9.69576248039394e-06}. Best is trial 59 with value: 0.10067613104097398.\u001b[0m\n"
          ]
        },
        {
          "output_type": "stream",
          "name": "stdout",
          "text": [
            "Did not meet early stopping. Best iteration is:\n",
            "[100]\tTrain's rmse: 0.132413\tTest's rmse: 0.1013\n",
            "Training until validation scores don't improve for 50 rounds.\n"
          ]
        },
        {
          "output_type": "stream",
          "name": "stderr",
          "text": [
            "\u001b[32m[I 2021-12-14 11:00:53,921]\u001b[0m Trial 61 finished with value: 0.10451663757895666 and parameters: {'lambda_l1': 0.0023958800757911975, 'lambda_l2': 3.808122085419346e-05}. Best is trial 59 with value: 0.10067613104097398.\u001b[0m\n"
          ]
        },
        {
          "output_type": "stream",
          "name": "stdout",
          "text": [
            "Did not meet early stopping. Best iteration is:\n",
            "[100]\tTrain's rmse: 0.133954\tTest's rmse: 0.104517\n",
            "Training until validation scores don't improve for 50 rounds.\n"
          ]
        },
        {
          "output_type": "stream",
          "name": "stderr",
          "text": [
            "\u001b[32m[I 2021-12-14 11:00:54,533]\u001b[0m Trial 62 finished with value: 0.10220101069401409 and parameters: {'lambda_l1': 6.170974733958616e-05, 'lambda_l2': 0.00046695310974230177}. Best is trial 59 with value: 0.10067613104097398.\u001b[0m\n"
          ]
        },
        {
          "output_type": "stream",
          "name": "stdout",
          "text": [
            "Did not meet early stopping. Best iteration is:\n",
            "[100]\tTrain's rmse: 0.129992\tTest's rmse: 0.102201\n",
            "Training until validation scores don't improve for 50 rounds.\n"
          ]
        },
        {
          "output_type": "stream",
          "name": "stderr",
          "text": [
            "\u001b[32m[I 2021-12-14 11:00:55,142]\u001b[0m Trial 63 finished with value: 0.10446994861363532 and parameters: {'min_child_samples': 10}. Best is trial 63 with value: 0.10446994861363532.\u001b[0m\n"
          ]
        },
        {
          "output_type": "stream",
          "name": "stdout",
          "text": [
            "Did not meet early stopping. Best iteration is:\n",
            "[100]\tTrain's rmse: 0.0707734\tTest's rmse: 0.10447\n",
            "Training until validation scores don't improve for 50 rounds.\n"
          ]
        },
        {
          "output_type": "stream",
          "name": "stderr",
          "text": [
            "\u001b[32m[I 2021-12-14 11:00:55,761]\u001b[0m Trial 64 finished with value: 0.1907907224662179 and parameters: {'min_child_samples': 50}. Best is trial 63 with value: 0.10446994861363532.\u001b[0m\n"
          ]
        },
        {
          "output_type": "stream",
          "name": "stdout",
          "text": [
            "Did not meet early stopping. Best iteration is:\n",
            "[100]\tTrain's rmse: 0.239623\tTest's rmse: 0.190791\n",
            "Training until validation scores don't improve for 50 rounds.\n"
          ]
        },
        {
          "output_type": "stream",
          "name": "stderr",
          "text": [
            "\u001b[32m[I 2021-12-14 11:00:56,325]\u001b[0m Trial 65 finished with value: 0.11695962660068132 and parameters: {'min_child_samples': 5}. Best is trial 63 with value: 0.10446994861363532.\u001b[0m\n"
          ]
        },
        {
          "output_type": "stream",
          "name": "stdout",
          "text": [
            "Early stopping, best iteration is:\n",
            "[44]\tTrain's rmse: 0.0694105\tTest's rmse: 0.11696\n",
            "Training until validation scores don't improve for 50 rounds.\n"
          ]
        },
        {
          "output_type": "stream",
          "name": "stderr",
          "text": [
            "\u001b[32m[I 2021-12-14 11:00:56,802]\u001b[0m Trial 66 finished with value: 0.2316921529246808 and parameters: {'min_child_samples': 100}. Best is trial 63 with value: 0.10446994861363532.\u001b[0m\n"
          ]
        },
        {
          "output_type": "stream",
          "name": "stdout",
          "text": [
            "Early stopping, best iteration is:\n",
            "[24]\tTrain's rmse: 0.336815\tTest's rmse: 0.231692\n",
            "Training until validation scores don't improve for 50 rounds.\n"
          ]
        },
        {
          "output_type": "stream",
          "name": "stderr",
          "text": [
            "\u001b[32m[I 2021-12-14 11:00:57,421]\u001b[0m Trial 67 finished with value: 0.1159986751478429 and parameters: {'min_child_samples': 25}. Best is trial 63 with value: 0.10446994861363532.\u001b[0m\n"
          ]
        },
        {
          "output_type": "stream",
          "name": "stdout",
          "text": [
            "Did not meet early stopping. Best iteration is:\n",
            "[100]\tTrain's rmse: 0.153558\tTest's rmse: 0.115999\n"
          ]
        },
        {
          "output_type": "display_data",
          "data": {
            "image/png": "[encoded data removed]",
            "text/plain": [
              "<Figure size 432x288 with 1 Axes>"
            ]
          },
          "metadata": {
            "needs_background": "light"
          }
        },
        {
          "output_type": "stream",
          "name": "stderr",
          "text": [
            "\u001b[32m[I 2021-12-14 11:00:57,663]\u001b[0m A new study created in memory with name: no-name-d7c22d01-ce61-4d9d-9e14-6796a227167b\u001b[0m\n"
          ]
        },
        {
          "output_type": "stream",
          "name": "stdout",
          "text": [
            "Training until validation scores don't improve for 50 rounds.\n"
          ]
        },
        {
          "output_type": "stream",
          "name": "stderr",
          "text": [
            "\u001b[32m[I 2021-12-14 11:00:58,191]\u001b[0m Trial 0 finished with value: 0.13994418704103495 and parameters: {'feature_fraction': 0.8999999999999999}. Best is trial 0 with value: 0.13994418704103495.\u001b[0m\n"
          ]
        },
        {
          "output_type": "stream",
          "name": "stdout",
          "text": [
            "Did not meet early stopping. Best iteration is:\n",
            "[100]\tTrain's rmse: 0.13843\tTest's rmse: 0.139944\n",
            "Training until validation scores don't improve for 50 rounds.\n"
          ]
        },
        {
          "output_type": "stream",
          "name": "stderr",
          "text": [
            "\u001b[32m[I 2021-12-14 11:00:58,650]\u001b[0m Trial 1 finished with value: 0.14710635110074297 and parameters: {'feature_fraction': 0.7}. Best is trial 0 with value: 0.13994418704103495.\u001b[0m\n"
          ]
        },
        {
          "output_type": "stream",
          "name": "stdout",
          "text": [
            "Did not meet early stopping. Best iteration is:\n",
            "[100]\tTrain's rmse: 0.125099\tTest's rmse: 0.147106\n",
            "Training until validation scores don't improve for 50 rounds.\n"
          ]
        },
        {
          "output_type": "stream",
          "name": "stderr",
          "text": [
            "\u001b[32m[I 2021-12-14 11:00:59,029]\u001b[0m Trial 2 finished with value: 0.15724019798427236 and parameters: {'feature_fraction': 0.5}. Best is trial 0 with value: 0.13994418704103495.\u001b[0m\n"
          ]
        },
        {
          "output_type": "stream",
          "name": "stdout",
          "text": [
            "Did not meet early stopping. Best iteration is:\n",
            "[100]\tTrain's rmse: 0.131589\tTest's rmse: 0.15724\n",
            "Training until validation scores don't improve for 50 rounds.\n"
          ]
        },
        {
          "output_type": "stream",
          "name": "stderr",
          "text": [
            "\u001b[32m[I 2021-12-14 11:00:59,507]\u001b[0m Trial 3 finished with value: 0.14330992029027448 and parameters: {'feature_fraction': 0.8}. Best is trial 0 with value: 0.13994418704103495.\u001b[0m\n"
          ]
        },
        {
          "output_type": "stream",
          "name": "stdout",
          "text": [
            "Did not meet early stopping. Best iteration is:\n",
            "[100]\tTrain's rmse: 0.125483\tTest's rmse: 0.14331\n",
            "Training until validation scores don't improve for 50 rounds.\n"
          ]
        },
        {
          "output_type": "stream",
          "name": "stderr",
          "text": [
            "\u001b[32m[I 2021-12-14 11:00:59,855]\u001b[0m Trial 4 finished with value: 0.16857209965860429 and parameters: {'feature_fraction': 0.4}. Best is trial 0 with value: 0.13994418704103495.\u001b[0m\n"
          ]
        },
        {
          "output_type": "stream",
          "name": "stdout",
          "text": [
            "Did not meet early stopping. Best iteration is:\n",
            "[100]\tTrain's rmse: 0.142131\tTest's rmse: 0.168572\n",
            "Training until validation scores don't improve for 50 rounds.\n"
          ]
        },
        {
          "output_type": "stream",
          "name": "stderr",
          "text": [
            "\u001b[32m[I 2021-12-14 11:01:00,284]\u001b[0m Trial 5 finished with value: 0.14602074210330948 and parameters: {'feature_fraction': 0.6}. Best is trial 0 with value: 0.13994418704103495.\u001b[0m\n"
          ]
        },
        {
          "output_type": "stream",
          "name": "stdout",
          "text": [
            "Did not meet early stopping. Best iteration is:\n",
            "[100]\tTrain's rmse: 0.126301\tTest's rmse: 0.146021\n",
            "Training until validation scores don't improve for 50 rounds.\n"
          ]
        },
        {
          "output_type": "stream",
          "name": "stderr",
          "text": [
            "\u001b[32m[I 2021-12-14 11:01:00,803]\u001b[0m Trial 6 finished with value: 0.14255042142700242 and parameters: {'feature_fraction': 1.0}. Best is trial 0 with value: 0.13994418704103495.\u001b[0m\n"
          ]
        },
        {
          "output_type": "stream",
          "name": "stdout",
          "text": [
            "Did not meet early stopping. Best iteration is:\n",
            "[100]\tTrain's rmse: 0.14364\tTest's rmse: 0.14255\n",
            "Training until validation scores don't improve for 50 rounds.\n"
          ]
        },
        {
          "output_type": "stream",
          "name": "stderr",
          "text": [
            "\u001b[32m[I 2021-12-14 11:01:02,581]\u001b[0m Trial 7 finished with value: 0.14272867853456458 and parameters: {'num_leaves': 212}. Best is trial 7 with value: 0.14272867853456458.\u001b[0m\n"
          ]
        },
        {
          "output_type": "stream",
          "name": "stdout",
          "text": [
            "Did not meet early stopping. Best iteration is:\n",
            "[100]\tTrain's rmse: 0.137439\tTest's rmse: 0.142729\n",
            "Training until validation scores don't improve for 50 rounds.\n"
          ]
        },
        {
          "output_type": "stream",
          "name": "stderr",
          "text": [
            "\u001b[32m[I 2021-12-14 11:01:04,144]\u001b[0m Trial 8 finished with value: 0.1435797765216618 and parameters: {'num_leaves': 175}. Best is trial 7 with value: 0.14272867853456458.\u001b[0m\n"
          ]
        },
        {
          "output_type": "stream",
          "name": "stdout",
          "text": [
            "Did not meet early stopping. Best iteration is:\n",
            "[100]\tTrain's rmse: 0.137164\tTest's rmse: 0.14358\n",
            "Training until validation scores don't improve for 50 rounds.\n"
          ]
        },
        {
          "output_type": "stream",
          "name": "stderr",
          "text": [
            "\u001b[32m[I 2021-12-14 11:01:05,937]\u001b[0m Trial 9 finished with value: 0.14401603505702623 and parameters: {'num_leaves': 217}. Best is trial 7 with value: 0.14272867853456458.\u001b[0m\n"
          ]
        },
        {
          "output_type": "stream",
          "name": "stdout",
          "text": [
            "Did not meet early stopping. Best iteration is:\n",
            "[100]\tTrain's rmse: 0.135651\tTest's rmse: 0.144016\n",
            "Training until validation scores don't improve for 50 rounds.\n"
          ]
        },
        {
          "output_type": "stream",
          "name": "stderr",
          "text": [
            "\u001b[32m[I 2021-12-14 11:01:06,523]\u001b[0m Trial 10 finished with value: 0.1407716750224107 and parameters: {'num_leaves': 38}. Best is trial 10 with value: 0.1407716750224107.\u001b[0m\n"
          ]
        },
        {
          "output_type": "stream",
          "name": "stdout",
          "text": [
            "Did not meet early stopping. Best iteration is:\n",
            "[100]\tTrain's rmse: 0.138045\tTest's rmse: 0.140772\n",
            "Training until validation scores don't improve for 50 rounds.\n"
          ]
        },
        {
          "output_type": "stream",
          "name": "stderr",
          "text": [
            "\u001b[32m[I 2021-12-14 11:01:07,121]\u001b[0m Trial 11 finished with value: 0.13988802562625374 and parameters: {'num_leaves': 41}. Best is trial 11 with value: 0.13988802562625374.\u001b[0m\n"
          ]
        },
        {
          "output_type": "stream",
          "name": "stdout",
          "text": [
            "Did not meet early stopping. Best iteration is:\n",
            "[100]\tTrain's rmse: 0.136506\tTest's rmse: 0.139888\n",
            "Training until validation scores don't improve for 50 rounds.\n"
          ]
        },
        {
          "output_type": "stream",
          "name": "stderr",
          "text": [
            "\u001b[32m[I 2021-12-14 11:01:08,283]\u001b[0m Trial 12 finished with value: 0.1430615903235442 and parameters: {'num_leaves': 116}. Best is trial 11 with value: 0.13988802562625374.\u001b[0m\n"
          ]
        },
        {
          "output_type": "stream",
          "name": "stdout",
          "text": [
            "Did not meet early stopping. Best iteration is:\n",
            "[100]\tTrain's rmse: 0.137451\tTest's rmse: 0.143062\n",
            "Training until validation scores don't improve for 50 rounds.\n"
          ]
        },
        {
          "output_type": "stream",
          "name": "stderr",
          "text": [
            "\u001b[32m[I 2021-12-14 11:01:09,339]\u001b[0m Trial 13 finished with value: 0.14294159283058488 and parameters: {'num_leaves': 102}. Best is trial 11 with value: 0.13988802562625374.\u001b[0m\n"
          ]
        },
        {
          "output_type": "stream",
          "name": "stdout",
          "text": [
            "Did not meet early stopping. Best iteration is:\n",
            "[100]\tTrain's rmse: 0.138057\tTest's rmse: 0.142942\n",
            "Training until validation scores don't improve for 50 rounds.\n"
          ]
        },
        {
          "output_type": "stream",
          "name": "stderr",
          "text": [
            "\u001b[32m[I 2021-12-14 11:01:10,435]\u001b[0m Trial 14 finished with value: 0.1416833178930542 and parameters: {'num_leaves': 109}. Best is trial 11 with value: 0.13988802562625374.\u001b[0m\n"
          ]
        },
        {
          "output_type": "stream",
          "name": "stdout",
          "text": [
            "Did not meet early stopping. Best iteration is:\n",
            "[100]\tTrain's rmse: 0.139017\tTest's rmse: 0.141683\n",
            "Training until validation scores don't improve for 50 rounds.\n"
          ]
        },
        {
          "output_type": "stream",
          "name": "stderr",
          "text": [
            "\u001b[32m[I 2021-12-14 11:01:12,048]\u001b[0m Trial 15 finished with value: 0.14304070978932942 and parameters: {'num_leaves': 185}. Best is trial 11 with value: 0.13988802562625374.\u001b[0m\n"
          ]
        },
        {
          "output_type": "stream",
          "name": "stdout",
          "text": [
            "Did not meet early stopping. Best iteration is:\n",
            "[100]\tTrain's rmse: 0.142753\tTest's rmse: 0.143041\n",
            "Training until validation scores don't improve for 50 rounds.\n"
          ]
        },
        {
          "output_type": "stream",
          "name": "stderr",
          "text": [
            "\u001b[32m[I 2021-12-14 11:01:13,440]\u001b[0m Trial 16 finished with value: 0.14408920424202584 and parameters: {'num_leaves': 152}. Best is trial 11 with value: 0.13988802562625374.\u001b[0m\n"
          ]
        },
        {
          "output_type": "stream",
          "name": "stdout",
          "text": [
            "Did not meet early stopping. Best iteration is:\n",
            "[100]\tTrain's rmse: 0.137914\tTest's rmse: 0.144089\n",
            "Training until validation scores don't improve for 50 rounds.\n"
          ]
        },
        {
          "output_type": "stream",
          "name": "stderr",
          "text": [
            "\u001b[32m[I 2021-12-14 11:01:13,863]\u001b[0m Trial 17 finished with value: 0.1401816355510974 and parameters: {'num_leaves': 21}. Best is trial 11 with value: 0.13988802562625374.\u001b[0m\n"
          ]
        },
        {
          "output_type": "stream",
          "name": "stdout",
          "text": [
            "Did not meet early stopping. Best iteration is:\n",
            "[100]\tTrain's rmse: 0.138644\tTest's rmse: 0.140182\n",
            "Training until validation scores don't improve for 50 rounds.\n"
          ]
        },
        {
          "output_type": "stream",
          "name": "stderr",
          "text": [
            "\u001b[32m[I 2021-12-14 11:01:14,085]\u001b[0m Trial 18 finished with value: 0.15044270532622725 and parameters: {'num_leaves': 5}. Best is trial 11 with value: 0.13988802562625374.\u001b[0m\n"
          ]
        },
        {
          "output_type": "stream",
          "name": "stdout",
          "text": [
            "Did not meet early stopping. Best iteration is:\n",
            "[100]\tTrain's rmse: 0.159071\tTest's rmse: 0.150443\n",
            "Training until validation scores don't improve for 50 rounds.\n"
          ]
        },
        {
          "output_type": "stream",
          "name": "stderr",
          "text": [
            "\u001b[32m[I 2021-12-14 11:01:14,825]\u001b[0m Trial 19 finished with value: 0.1399623353881028 and parameters: {'num_leaves': 59}. Best is trial 11 with value: 0.13988802562625374.\u001b[0m\n"
          ]
        },
        {
          "output_type": "stream",
          "name": "stdout",
          "text": [
            "Did not meet early stopping. Best iteration is:\n",
            "[100]\tTrain's rmse: 0.13937\tTest's rmse: 0.139962\n",
            "Training until validation scores don't improve for 50 rounds.\n"
          ]
        },
        {
          "output_type": "stream",
          "name": "stderr",
          "text": [
            "\u001b[32m[I 2021-12-14 11:01:15,601]\u001b[0m Trial 20 finished with value: 0.14005936222139903 and parameters: {'num_leaves': 63}. Best is trial 11 with value: 0.13988802562625374.\u001b[0m\n"
          ]
        },
        {
          "output_type": "stream",
          "name": "stdout",
          "text": [
            "Did not meet early stopping. Best iteration is:\n",
            "[100]\tTrain's rmse: 0.136584\tTest's rmse: 0.140059\n",
            "Training until validation scores don't improve for 50 rounds.\n"
          ]
        },
        {
          "output_type": "stream",
          "name": "stderr",
          "text": [
            "\u001b[32m[I 2021-12-14 11:01:16,401]\u001b[0m Trial 21 finished with value: 0.13934517205197094 and parameters: {'num_leaves': 69}. Best is trial 21 with value: 0.13934517205197094.\u001b[0m\n"
          ]
        },
        {
          "output_type": "stream",
          "name": "stdout",
          "text": [
            "Did not meet early stopping. Best iteration is:\n",
            "[100]\tTrain's rmse: 0.138414\tTest's rmse: 0.139345\n",
            "Training until validation scores don't improve for 50 rounds.\n"
          ]
        },
        {
          "output_type": "stream",
          "name": "stderr",
          "text": [
            "\u001b[32m[I 2021-12-14 11:01:17,252]\u001b[0m Trial 22 finished with value: 0.14197581237145665 and parameters: {'num_leaves': 73}. Best is trial 21 with value: 0.13934517205197094.\u001b[0m\n"
          ]
        },
        {
          "output_type": "stream",
          "name": "stdout",
          "text": [
            "Did not meet early stopping. Best iteration is:\n",
            "[100]\tTrain's rmse: 0.137145\tTest's rmse: 0.141976\n",
            "Training until validation scores don't improve for 50 rounds.\n"
          ]
        },
        {
          "output_type": "stream",
          "name": "stderr",
          "text": [
            "\u001b[32m[I 2021-12-14 11:01:17,822]\u001b[0m Trial 23 finished with value: 0.140302484815593 and parameters: {'num_leaves': 37}. Best is trial 21 with value: 0.13934517205197094.\u001b[0m\n"
          ]
        },
        {
          "output_type": "stream",
          "name": "stdout",
          "text": [
            "Did not meet early stopping. Best iteration is:\n",
            "[100]\tTrain's rmse: 0.138437\tTest's rmse: 0.140302\n",
            "Training until validation scores don't improve for 50 rounds.\n"
          ]
        },
        {
          "output_type": "stream",
          "name": "stderr",
          "text": [
            "\u001b[32m[I 2021-12-14 11:01:18,758]\u001b[0m Trial 24 finished with value: 0.14394692851849758 and parameters: {'num_leaves': 86}. Best is trial 21 with value: 0.13934517205197094.\u001b[0m\n"
          ]
        },
        {
          "output_type": "stream",
          "name": "stdout",
          "text": [
            "Did not meet early stopping. Best iteration is:\n",
            "[100]\tTrain's rmse: 0.137936\tTest's rmse: 0.143947\n",
            "Training until validation scores don't improve for 50 rounds.\n"
          ]
        },
        {
          "output_type": "stream",
          "name": "stderr",
          "text": [
            "\u001b[32m[I 2021-12-14 11:01:20,754]\u001b[0m Trial 25 finished with value: 0.14450466569978213 and parameters: {'num_leaves': 251}. Best is trial 21 with value: 0.13934517205197094.\u001b[0m\n"
          ]
        },
        {
          "output_type": "stream",
          "name": "stdout",
          "text": [
            "Did not meet early stopping. Best iteration is:\n",
            "[100]\tTrain's rmse: 0.141606\tTest's rmse: 0.144505\n",
            "Training until validation scores don't improve for 50 rounds.\n"
          ]
        },
        {
          "output_type": "stream",
          "name": "stderr",
          "text": [
            "\u001b[32m[I 2021-12-14 11:01:22,070]\u001b[0m Trial 26 finished with value: 0.14417503955486077 and parameters: {'num_leaves': 139}. Best is trial 21 with value: 0.13934517205197094.\u001b[0m\n"
          ]
        },
        {
          "output_type": "stream",
          "name": "stdout",
          "text": [
            "Did not meet early stopping. Best iteration is:\n",
            "[100]\tTrain's rmse: 0.137515\tTest's rmse: 0.144175\n",
            "Training until validation scores don't improve for 50 rounds.\n"
          ]
        },
        {
          "output_type": "stream",
          "name": "stderr",
          "text": [
            "\u001b[32m[I 2021-12-14 11:01:22,922]\u001b[0m Trial 27 finished with value: 0.16934617171858898 and parameters: {'bagging_fraction': 0.43259283930372, 'bagging_freq': 5}. Best is trial 27 with value: 0.16934617171858898.\u001b[0m\n"
          ]
        },
        {
          "output_type": "stream",
          "name": "stdout",
          "text": [
            "Did not meet early stopping. Best iteration is:\n",
            "[100]\tTrain's rmse: 0.185594\tTest's rmse: 0.169346\n",
            "Training until validation scores don't improve for 50 rounds.\n"
          ]
        },
        {
          "output_type": "stream",
          "name": "stderr",
          "text": [
            "\u001b[32m[I 2021-12-14 11:01:23,772]\u001b[0m Trial 28 finished with value: 0.15704081720148705 and parameters: {'bagging_fraction': 0.4078971352446612, 'bagging_freq': 7}. Best is trial 28 with value: 0.15704081720148705.\u001b[0m\n"
          ]
        },
        {
          "output_type": "stream",
          "name": "stdout",
          "text": [
            "Did not meet early stopping. Best iteration is:\n",
            "[100]\tTrain's rmse: 0.191186\tTest's rmse: 0.157041\n",
            "Training until validation scores don't improve for 50 rounds.\n"
          ]
        },
        {
          "output_type": "stream",
          "name": "stderr",
          "text": [
            "\u001b[32m[I 2021-12-14 11:01:24,674]\u001b[0m Trial 29 finished with value: 0.14216836920582634 and parameters: {'bagging_fraction': 0.9872990258314618, 'bagging_freq': 4}. Best is trial 29 with value: 0.14216836920582634.\u001b[0m\n"
          ]
        },
        {
          "output_type": "stream",
          "name": "stdout",
          "text": [
            "Did not meet early stopping. Best iteration is:\n",
            "[100]\tTrain's rmse: 0.139039\tTest's rmse: 0.142168\n",
            "Training until validation scores don't improve for 50 rounds.\n"
          ]
        },
        {
          "output_type": "stream",
          "name": "stderr",
          "text": [
            "\u001b[32m[I 2021-12-14 11:01:25,484]\u001b[0m Trial 30 finished with value: 0.1448230152251002 and parameters: {'bagging_fraction': 0.9619197597991193, 'bagging_freq': 1}. Best is trial 29 with value: 0.14216836920582634.\u001b[0m\n"
          ]
        },
        {
          "output_type": "stream",
          "name": "stdout",
          "text": [
            "Did not meet early stopping. Best iteration is:\n",
            "[100]\tTrain's rmse: 0.137834\tTest's rmse: 0.144823\n",
            "Training until validation scores don't improve for 50 rounds.\n"
          ]
        },
        {
          "output_type": "stream",
          "name": "stderr",
          "text": [
            "\u001b[32m[I 2021-12-14 11:01:26,389]\u001b[0m Trial 31 finished with value: 0.15414762499781032 and parameters: {'bagging_fraction': 0.8170515903572853, 'bagging_freq': 2}. Best is trial 29 with value: 0.14216836920582634.\u001b[0m\n"
          ]
        },
        {
          "output_type": "stream",
          "name": "stdout",
          "text": [
            "Did not meet early stopping. Best iteration is:\n",
            "[100]\tTrain's rmse: 0.157791\tTest's rmse: 0.154148\n",
            "Training until validation scores don't improve for 50 rounds.\n"
          ]
        },
        {
          "output_type": "stream",
          "name": "stderr",
          "text": [
            "\u001b[32m[I 2021-12-14 11:01:27,265]\u001b[0m Trial 32 finished with value: 0.16286526628254488 and parameters: {'bagging_fraction': 0.6207147071444378, 'bagging_freq': 7}. Best is trial 29 with value: 0.14216836920582634.\u001b[0m\n"
          ]
        },
        {
          "output_type": "stream",
          "name": "stdout",
          "text": [
            "Did not meet early stopping. Best iteration is:\n",
            "[100]\tTrain's rmse: 0.171802\tTest's rmse: 0.162865\n",
            "Training until validation scores don't improve for 50 rounds.\n"
          ]
        },
        {
          "output_type": "stream",
          "name": "stderr",
          "text": [
            "\u001b[32m[I 2021-12-14 11:01:28,142]\u001b[0m Trial 33 finished with value: 0.14934141528639852 and parameters: {'bagging_fraction': 0.7766694354791562, 'bagging_freq': 7}. Best is trial 29 with value: 0.14216836920582634.\u001b[0m\n"
          ]
        },
        {
          "output_type": "stream",
          "name": "stdout",
          "text": [
            "Did not meet early stopping. Best iteration is:\n",
            "[100]\tTrain's rmse: 0.165394\tTest's rmse: 0.149341\n",
            "Training until validation scores don't improve for 50 rounds.\n"
          ]
        },
        {
          "output_type": "stream",
          "name": "stderr",
          "text": [
            "\u001b[32m[I 2021-12-14 11:01:29,020]\u001b[0m Trial 34 finished with value: 0.15521728602826812 and parameters: {'bagging_fraction': 0.6909817961210448, 'bagging_freq': 5}. Best is trial 29 with value: 0.14216836920582634.\u001b[0m\n"
          ]
        },
        {
          "output_type": "stream",
          "name": "stdout",
          "text": [
            "Did not meet early stopping. Best iteration is:\n",
            "[100]\tTrain's rmse: 0.166825\tTest's rmse: 0.155217\n",
            "Training until validation scores don't improve for 50 rounds.\n"
          ]
        },
        {
          "output_type": "stream",
          "name": "stderr",
          "text": [
            "\u001b[32m[I 2021-12-14 11:01:29,910]\u001b[0m Trial 35 finished with value: 0.15940736089249524 and parameters: {'bagging_fraction': 0.7244683876966307, 'bagging_freq': 2}. Best is trial 29 with value: 0.14216836920582634.\u001b[0m\n"
          ]
        },
        {
          "output_type": "stream",
          "name": "stdout",
          "text": [
            "Did not meet early stopping. Best iteration is:\n",
            "[100]\tTrain's rmse: 0.162604\tTest's rmse: 0.159407\n",
            "Training until validation scores don't improve for 50 rounds.\n"
          ]
        },
        {
          "output_type": "stream",
          "name": "stderr",
          "text": [
            "\u001b[32m[I 2021-12-14 11:01:30,790]\u001b[0m Trial 36 finished with value: 0.15665017782321122 and parameters: {'bagging_fraction': 0.7455406368527099, 'bagging_freq': 6}. Best is trial 29 with value: 0.14216836920582634.\u001b[0m\n"
          ]
        },
        {
          "output_type": "stream",
          "name": "stdout",
          "text": [
            "Did not meet early stopping. Best iteration is:\n",
            "[100]\tTrain's rmse: 0.16387\tTest's rmse: 0.15665\n",
            "Training until validation scores don't improve for 50 rounds.\n"
          ]
        },
        {
          "output_type": "stream",
          "name": "stderr",
          "text": [
            "\u001b[32m[I 2021-12-14 11:01:31,634]\u001b[0m Trial 37 finished with value: 0.14000801608415409 and parameters: {'feature_fraction': 0.9799999999999999}. Best is trial 37 with value: 0.14000801608415409.\u001b[0m\n"
          ]
        },
        {
          "output_type": "stream",
          "name": "stdout",
          "text": [
            "Did not meet early stopping. Best iteration is:\n",
            "[100]\tTrain's rmse: 0.141846\tTest's rmse: 0.140008\n",
            "Training until validation scores don't improve for 50 rounds.\n"
          ]
        },
        {
          "output_type": "stream",
          "name": "stderr",
          "text": [
            "\u001b[32m[I 2021-12-14 11:01:32,479]\u001b[0m Trial 38 finished with value: 0.14000801608415409 and parameters: {'feature_fraction': 0.948}. Best is trial 37 with value: 0.14000801608415409.\u001b[0m\n"
          ]
        },
        {
          "output_type": "stream",
          "name": "stdout",
          "text": [
            "Did not meet early stopping. Best iteration is:\n",
            "[100]\tTrain's rmse: 0.141846\tTest's rmse: 0.140008\n",
            "Training until validation scores don't improve for 50 rounds.\n"
          ]
        },
        {
          "output_type": "stream",
          "name": "stderr",
          "text": [
            "\u001b[32m[I 2021-12-14 11:01:33,300]\u001b[0m Trial 39 finished with value: 0.13934517205197094 and parameters: {'feature_fraction': 0.9159999999999999}. Best is trial 39 with value: 0.13934517205197094.\u001b[0m\n"
          ]
        },
        {
          "output_type": "stream",
          "name": "stdout",
          "text": [
            "Did not meet early stopping. Best iteration is:\n",
            "[100]\tTrain's rmse: 0.138414\tTest's rmse: 0.139345\n",
            "Training until validation scores don't improve for 50 rounds.\n"
          ]
        },
        {
          "output_type": "stream",
          "name": "stderr",
          "text": [
            "\u001b[32m[I 2021-12-14 11:01:34,096]\u001b[0m Trial 40 finished with value: 0.14344051853492507 and parameters: {'feature_fraction': 0.8839999999999999}. Best is trial 39 with value: 0.13934517205197094.\u001b[0m\n"
          ]
        },
        {
          "output_type": "stream",
          "name": "stdout",
          "text": [
            "Did not meet early stopping. Best iteration is:\n",
            "[100]\tTrain's rmse: 0.131724\tTest's rmse: 0.143441\n",
            "Training until validation scores don't improve for 50 rounds.\n"
          ]
        },
        {
          "output_type": "stream",
          "name": "stderr",
          "text": [
            "\u001b[32m[I 2021-12-14 11:01:34,882]\u001b[0m Trial 41 finished with value: 0.14344051853492507 and parameters: {'feature_fraction': 0.852}. Best is trial 39 with value: 0.13934517205197094.\u001b[0m\n"
          ]
        },
        {
          "output_type": "stream",
          "name": "stdout",
          "text": [
            "Did not meet early stopping. Best iteration is:\n",
            "[100]\tTrain's rmse: 0.131724\tTest's rmse: 0.143441\n",
            "Training until validation scores don't improve for 50 rounds.\n"
          ]
        },
        {
          "output_type": "stream",
          "name": "stderr",
          "text": [
            "\u001b[32m[I 2021-12-14 11:01:35,644]\u001b[0m Trial 42 finished with value: 0.1456138110891818 and parameters: {'feature_fraction': 0.82}. Best is trial 39 with value: 0.13934517205197094.\u001b[0m\n"
          ]
        },
        {
          "output_type": "stream",
          "name": "stdout",
          "text": [
            "Did not meet early stopping. Best iteration is:\n",
            "[100]\tTrain's rmse: 0.126083\tTest's rmse: 0.145614\n",
            "Training until validation scores don't improve for 50 rounds.\n"
          ]
        },
        {
          "output_type": "stream",
          "name": "stderr",
          "text": [
            "\u001b[32m[I 2021-12-14 11:01:36,165]\u001b[0m Trial 43 finished with value: 0.1442663356242865 and parameters: {'lambda_l1': 3.5163266406072484, 'lambda_l2': 3.7914534288777316e-06}. Best is trial 43 with value: 0.1442663356242865.\u001b[0m\n"
          ]
        },
        {
          "output_type": "stream",
          "name": "stdout",
          "text": [
            "Did not meet early stopping. Best iteration is:\n",
            "[100]\tTrain's rmse: 0.13171\tTest's rmse: 0.144266\n",
            "Training until validation scores don't improve for 50 rounds.\n"
          ]
        },
        {
          "output_type": "stream",
          "name": "stderr",
          "text": [
            "\u001b[32m[I 2021-12-14 11:01:36,967]\u001b[0m Trial 44 finished with value: 0.14358654631212844 and parameters: {'lambda_l1': 7.789938172107839e-06, 'lambda_l2': 8.746272741386271e-07}. Best is trial 44 with value: 0.14358654631212844.\u001b[0m\n"
          ]
        },
        {
          "output_type": "stream",
          "name": "stdout",
          "text": [
            "Did not meet early stopping. Best iteration is:\n",
            "[100]\tTrain's rmse: 0.13714\tTest's rmse: 0.143587\n",
            "Training until validation scores don't improve for 50 rounds.\n"
          ]
        },
        {
          "output_type": "stream",
          "name": "stderr",
          "text": [
            "\u001b[32m[I 2021-12-14 11:01:37,734]\u001b[0m Trial 45 finished with value: 0.1411797689012884 and parameters: {'lambda_l1': 4.039258806470594e-06, 'lambda_l2': 2.485931016277889}. Best is trial 45 with value: 0.1411797689012884.\u001b[0m\n"
          ]
        },
        {
          "output_type": "stream",
          "name": "stdout",
          "text": [
            "Did not meet early stopping. Best iteration is:\n",
            "[100]\tTrain's rmse: 0.139662\tTest's rmse: 0.14118\n",
            "Training until validation scores don't improve for 50 rounds.\n"
          ]
        },
        {
          "output_type": "stream",
          "name": "stderr",
          "text": [
            "\u001b[32m[I 2021-12-14 11:01:38,548]\u001b[0m Trial 46 finished with value: 0.1400770937839058 and parameters: {'lambda_l1': 2.7704112684504507e-07, 'lambda_l2': 0.00020228283621906082}. Best is trial 46 with value: 0.1400770937839058.\u001b[0m\n"
          ]
        },
        {
          "output_type": "stream",
          "name": "stdout",
          "text": [
            "Did not meet early stopping. Best iteration is:\n",
            "[100]\tTrain's rmse: 0.138034\tTest's rmse: 0.140077\n",
            "Training until validation scores don't improve for 50 rounds.\n"
          ]
        },
        {
          "output_type": "stream",
          "name": "stderr",
          "text": [
            "\u001b[32m[I 2021-12-14 11:01:39,045]\u001b[0m Trial 47 finished with value: 0.15063846408725262 and parameters: {'lambda_l1': 3.316812611334454, 'lambda_l2': 3.446129089519841e-07}. Best is trial 46 with value: 0.1400770937839058.\u001b[0m\n"
          ]
        },
        {
          "output_type": "stream",
          "name": "stdout",
          "text": [
            "Did not meet early stopping. Best iteration is:\n",
            "[100]\tTrain's rmse: 0.136401\tTest's rmse: 0.150638\n",
            "Training until validation scores don't improve for 50 rounds.\n"
          ]
        },
        {
          "output_type": "stream",
          "name": "stderr",
          "text": [
            "\u001b[32m[I 2021-12-14 11:01:39,443]\u001b[0m Trial 48 finished with value: 0.1588448027506526 and parameters: {'lambda_l1': 7.99796739672694, 'lambda_l2': 1.4771525698706692e-07}. Best is trial 46 with value: 0.1400770937839058.\u001b[0m\n"
          ]
        },
        {
          "output_type": "stream",
          "name": "stdout",
          "text": [
            "Did not meet early stopping. Best iteration is:\n",
            "[100]\tTrain's rmse: 0.152222\tTest's rmse: 0.158845\n",
            "Training until validation scores don't improve for 50 rounds.\n"
          ]
        },
        {
          "output_type": "stream",
          "name": "stderr",
          "text": [
            "\u001b[32m[I 2021-12-14 11:01:40,185]\u001b[0m Trial 49 finished with value: 0.14358141440231986 and parameters: {'lambda_l1': 0.1836807480094503, 'lambda_l2': 3.0007571442193338e-06}. Best is trial 46 with value: 0.1400770937839058.\u001b[0m\n"
          ]
        },
        {
          "output_type": "stream",
          "name": "stdout",
          "text": [
            "Did not meet early stopping. Best iteration is:\n",
            "[100]\tTrain's rmse: 0.139916\tTest's rmse: 0.143581\n",
            "Training until validation scores don't improve for 50 rounds.\n"
          ]
        },
        {
          "output_type": "stream",
          "name": "stderr",
          "text": [
            "\u001b[32m[I 2021-12-14 11:01:40,936]\u001b[0m Trial 50 finished with value: 0.14245841194342818 and parameters: {'lambda_l1': 0.1344429703270153, 'lambda_l2': 0.000871428453077929}. Best is trial 46 with value: 0.1400770937839058.\u001b[0m\n"
          ]
        },
        {
          "output_type": "stream",
          "name": "stdout",
          "text": [
            "Did not meet early stopping. Best iteration is:\n",
            "[100]\tTrain's rmse: 0.138627\tTest's rmse: 0.142458\n",
            "Training until validation scores don't improve for 50 rounds.\n"
          ]
        },
        {
          "output_type": "stream",
          "name": "stderr",
          "text": [
            "\u001b[32m[I 2021-12-14 11:01:41,751]\u001b[0m Trial 51 finished with value: 0.14182735983481512 and parameters: {'lambda_l1': 4.9403967453658906e-05, 'lambda_l2': 0.08525389120666373}. Best is trial 46 with value: 0.1400770937839058.\u001b[0m\n"
          ]
        },
        {
          "output_type": "stream",
          "name": "stdout",
          "text": [
            "Did not meet early stopping. Best iteration is:\n",
            "[100]\tTrain's rmse: 0.139436\tTest's rmse: 0.141827\n",
            "Training until validation scores don't improve for 50 rounds.\n"
          ]
        },
        {
          "output_type": "stream",
          "name": "stderr",
          "text": [
            "\u001b[32m[I 2021-12-14 11:01:42,585]\u001b[0m Trial 52 finished with value: 0.14260072631123583 and parameters: {'lambda_l1': 0.0002717935858543392, 'lambda_l2': 1.5826299451215208e-06}. Best is trial 46 with value: 0.1400770937839058.\u001b[0m\n"
          ]
        },
        {
          "output_type": "stream",
          "name": "stdout",
          "text": [
            "Did not meet early stopping. Best iteration is:\n",
            "[100]\tTrain's rmse: 0.138249\tTest's rmse: 0.142601\n",
            "Training until validation scores don't improve for 50 rounds.\n"
          ]
        },
        {
          "output_type": "stream",
          "name": "stderr",
          "text": [
            "\u001b[32m[I 2021-12-14 11:01:43,423]\u001b[0m Trial 53 finished with value: 0.13926055967111617 and parameters: {'lambda_l1': 1.5652133104560802e-07, 'lambda_l2': 0.0029345179324329253}. Best is trial 53 with value: 0.13926055967111617.\u001b[0m\n"
          ]
        },
        {
          "output_type": "stream",
          "name": "stdout",
          "text": [
            "Did not meet early stopping. Best iteration is:\n",
            "[100]\tTrain's rmse: 0.13693\tTest's rmse: 0.139261\n",
            "Training until validation scores don't improve for 50 rounds.\n"
          ]
        },
        {
          "output_type": "stream",
          "name": "stderr",
          "text": [
            "\u001b[32m[I 2021-12-14 11:01:44,253]\u001b[0m Trial 54 finished with value: 0.14105137243131902 and parameters: {'lambda_l1': 1.424044161086113e-08, 'lambda_l2': 0.000898176434986419}. Best is trial 53 with value: 0.13926055967111617.\u001b[0m\n"
          ]
        },
        {
          "output_type": "stream",
          "name": "stdout",
          "text": [
            "Did not meet early stopping. Best iteration is:\n",
            "[100]\tTrain's rmse: 0.139206\tTest's rmse: 0.141051\n",
            "Training until validation scores don't improve for 50 rounds.\n"
          ]
        },
        {
          "output_type": "stream",
          "name": "stderr",
          "text": [
            "\u001b[32m[I 2021-12-14 11:01:45,065]\u001b[0m Trial 55 finished with value: 0.13966336867448878 and parameters: {'lambda_l1': 4.374457982722596e-08, 'lambda_l2': 0.033071618471077965}. Best is trial 53 with value: 0.13926055967111617.\u001b[0m\n"
          ]
        },
        {
          "output_type": "stream",
          "name": "stdout",
          "text": [
            "Did not meet early stopping. Best iteration is:\n",
            "[100]\tTrain's rmse: 0.136179\tTest's rmse: 0.139663\n",
            "Training until validation scores don't improve for 50 rounds.\n"
          ]
        },
        {
          "output_type": "stream",
          "name": "stderr",
          "text": [
            "\u001b[32m[I 2021-12-14 11:01:45,897]\u001b[0m Trial 56 finished with value: 0.1408976629315883 and parameters: {'lambda_l1': 1.010230687746968e-08, 'lambda_l2': 0.03428703218617973}. Best is trial 53 with value: 0.13926055967111617.\u001b[0m\n"
          ]
        },
        {
          "output_type": "stream",
          "name": "stdout",
          "text": [
            "Did not meet early stopping. Best iteration is:\n",
            "[100]\tTrain's rmse: 0.142281\tTest's rmse: 0.140898\n",
            "Training until validation scores don't improve for 50 rounds.\n"
          ]
        },
        {
          "output_type": "stream",
          "name": "stderr",
          "text": [
            "\u001b[32m[I 2021-12-14 11:01:46,719]\u001b[0m Trial 57 finished with value: 0.14157962154565468 and parameters: {'lambda_l1': 2.941515402091924e-07, 'lambda_l2': 0.03081955902059169}. Best is trial 53 with value: 0.13926055967111617.\u001b[0m\n"
          ]
        },
        {
          "output_type": "stream",
          "name": "stdout",
          "text": [
            "Did not meet early stopping. Best iteration is:\n",
            "[100]\tTrain's rmse: 0.143405\tTest's rmse: 0.14158\n",
            "Training until validation scores don't improve for 50 rounds.\n"
          ]
        },
        {
          "output_type": "stream",
          "name": "stderr",
          "text": [
            "\u001b[32m[I 2021-12-14 11:01:47,520]\u001b[0m Trial 58 finished with value: 0.1448905271351322 and parameters: {'lambda_l1': 2.1947649269672696e-07, 'lambda_l2': 2.7226292204120415}. Best is trial 53 with value: 0.13926055967111617.\u001b[0m\n"
          ]
        },
        {
          "output_type": "stream",
          "name": "stdout",
          "text": [
            "Did not meet early stopping. Best iteration is:\n",
            "[100]\tTrain's rmse: 0.139073\tTest's rmse: 0.144891\n",
            "Training until validation scores don't improve for 50 rounds.\n"
          ]
        },
        {
          "output_type": "stream",
          "name": "stderr",
          "text": [
            "\u001b[32m[I 2021-12-14 11:01:48,356]\u001b[0m Trial 59 finished with value: 0.14236261690441598 and parameters: {'lambda_l1': 0.002273351598441009, 'lambda_l2': 0.00011143893034960858}. Best is trial 53 with value: 0.13926055967111617.\u001b[0m\n"
          ]
        },
        {
          "output_type": "stream",
          "name": "stdout",
          "text": [
            "Did not meet early stopping. Best iteration is:\n",
            "[100]\tTrain's rmse: 0.136822\tTest's rmse: 0.142363\n",
            "Training until validation scores don't improve for 50 rounds.\n"
          ]
        },
        {
          "output_type": "stream",
          "name": "stderr",
          "text": [
            "\u001b[32m[I 2021-12-14 11:01:49,177]\u001b[0m Trial 60 finished with value: 0.14057802542878395 and parameters: {'lambda_l1': 2.118423103837069e-06, 'lambda_l2': 0.18479267814576233}. Best is trial 53 with value: 0.13926055967111617.\u001b[0m\n"
          ]
        },
        {
          "output_type": "stream",
          "name": "stdout",
          "text": [
            "Did not meet early stopping. Best iteration is:\n",
            "[100]\tTrain's rmse: 0.138325\tTest's rmse: 0.140578\n",
            "Training until validation scores don't improve for 50 rounds.\n"
          ]
        },
        {
          "output_type": "stream",
          "name": "stderr",
          "text": [
            "\u001b[32m[I 2021-12-14 11:01:49,983]\u001b[0m Trial 61 finished with value: 0.13934517216618741 and parameters: {'lambda_l1': 6.999118689839693e-08, 'lambda_l2': 1.280416831664622e-08}. Best is trial 53 with value: 0.13926055967111617.\u001b[0m\n"
          ]
        },
        {
          "output_type": "stream",
          "name": "stdout",
          "text": [
            "Did not meet early stopping. Best iteration is:\n",
            "[100]\tTrain's rmse: 0.138414\tTest's rmse: 0.139345\n",
            "Training until validation scores don't improve for 50 rounds.\n"
          ]
        },
        {
          "output_type": "stream",
          "name": "stderr",
          "text": [
            "\u001b[32m[I 2021-12-14 11:01:50,799]\u001b[0m Trial 62 finished with value: 0.14281462769522776 and parameters: {'lambda_l1': 0.007839893215079333, 'lambda_l2': 1.7247114327952388e-05}. Best is trial 53 with value: 0.13926055967111617.\u001b[0m\n"
          ]
        },
        {
          "output_type": "stream",
          "name": "stdout",
          "text": [
            "Did not meet early stopping. Best iteration is:\n",
            "[100]\tTrain's rmse: 0.142471\tTest's rmse: 0.142815\n",
            "Training until validation scores don't improve for 50 rounds.\n"
          ]
        },
        {
          "output_type": "stream",
          "name": "stderr",
          "text": [
            "\u001b[32m[I 2021-12-14 11:01:51,629]\u001b[0m Trial 63 finished with value: 0.14819879331946642 and parameters: {'min_child_samples': 10}. Best is trial 63 with value: 0.14819879331946642.\u001b[0m\n"
          ]
        },
        {
          "output_type": "stream",
          "name": "stdout",
          "text": [
            "Did not meet early stopping. Best iteration is:\n",
            "[100]\tTrain's rmse: 0.0633685\tTest's rmse: 0.148199\n",
            "Training until validation scores don't improve for 50 rounds.\n"
          ]
        },
        {
          "output_type": "stream",
          "name": "stderr",
          "text": [
            "\u001b[32m[I 2021-12-14 11:01:52,460]\u001b[0m Trial 64 finished with value: 0.15234014821483 and parameters: {'min_child_samples': 25}. Best is trial 63 with value: 0.14819879331946642.\u001b[0m\n"
          ]
        },
        {
          "output_type": "stream",
          "name": "stdout",
          "text": [
            "Did not meet early stopping. Best iteration is:\n",
            "[100]\tTrain's rmse: 0.156148\tTest's rmse: 0.15234\n",
            "Training until validation scores don't improve for 50 rounds.\n"
          ]
        },
        {
          "output_type": "stream",
          "name": "stderr",
          "text": [
            "\u001b[32m[I 2021-12-14 11:01:53,244]\u001b[0m Trial 65 finished with value: 0.1934609209992296 and parameters: {'min_child_samples': 100}. Best is trial 63 with value: 0.14819879331946642.\u001b[0m\n"
          ]
        },
        {
          "output_type": "stream",
          "name": "stdout",
          "text": [
            "Did not meet early stopping. Best iteration is:\n",
            "[100]\tTrain's rmse: 0.288653\tTest's rmse: 0.193461\n",
            "Training until validation scores don't improve for 50 rounds.\n"
          ]
        },
        {
          "output_type": "stream",
          "name": "stderr",
          "text": [
            "\u001b[32m[I 2021-12-14 11:01:54,076]\u001b[0m Trial 66 finished with value: 0.17244715213681622 and parameters: {'min_child_samples': 50}. Best is trial 63 with value: 0.14819879331946642.\u001b[0m\n"
          ]
        },
        {
          "output_type": "stream",
          "name": "stdout",
          "text": [
            "Did not meet early stopping. Best iteration is:\n",
            "[100]\tTrain's rmse: 0.23722\tTest's rmse: 0.172447\n",
            "Training until validation scores don't improve for 50 rounds.\n"
          ]
        },
        {
          "output_type": "stream",
          "name": "stderr",
          "text": [
            "\u001b[32m[I 2021-12-14 11:01:54,753]\u001b[0m Trial 67 finished with value: 0.15071308902569464 and parameters: {'min_child_samples': 5}. Best is trial 63 with value: 0.14819879331946642.\u001b[0m\n"
          ]
        },
        {
          "output_type": "stream",
          "name": "stdout",
          "text": [
            "Early stopping, best iteration is:\n",
            "[32]\tTrain's rmse: 0.0770644\tTest's rmse: 0.150713\n"
          ]
        },
        {
          "output_type": "display_data",
          "data": {
            "image/png": "[encoded data removed]",
            "text/plain": [
              "<Figure size 432x288 with 1 Axes>"
            ]
          },
          "metadata": {
            "needs_background": "light"
          }
        },
        {
          "output_type": "stream",
          "name": "stderr",
          "text": [
            "\u001b[32m[I 2021-12-14 11:01:55,024]\u001b[0m A new study created in memory with name: no-name-a5dc0214-2e90-47b1-b4f8-c281fd96d830\u001b[0m\n"
          ]
        },
        {
          "output_type": "stream",
          "name": "stdout",
          "text": [
            "Training until validation scores don't improve for 50 rounds.\n"
          ]
        },
        {
          "output_type": "stream",
          "name": "stderr",
          "text": [
            "\u001b[32m[I 2021-12-14 11:01:55,520]\u001b[0m Trial 0 finished with value: 0.021515966371072746 and parameters: {'feature_fraction': 1.0}. Best is trial 0 with value: 0.021515966371072746.\u001b[0m\n"
          ]
        },
        {
          "output_type": "stream",
          "name": "stdout",
          "text": [
            "Early stopping, best iteration is:\n",
            "[45]\tTrain's rmse: 0.171356\tTest's rmse: 0.021516\n",
            "Training until validation scores don't improve for 50 rounds.\n"
          ]
        },
        {
          "output_type": "stream",
          "name": "stderr",
          "text": [
            "\u001b[32m[I 2021-12-14 11:01:55,877]\u001b[0m Trial 1 finished with value: 0.10710132456308936 and parameters: {'feature_fraction': 0.4}. Best is trial 0 with value: 0.021515966371072746.\u001b[0m\n"
          ]
        },
        {
          "output_type": "stream",
          "name": "stdout",
          "text": [
            "Did not meet early stopping. Best iteration is:\n",
            "[100]\tTrain's rmse: 0.143185\tTest's rmse: 0.107101\n",
            "Training until validation scores don't improve for 50 rounds.\n"
          ]
        },
        {
          "output_type": "stream",
          "name": "stderr",
          "text": [
            "\u001b[32m[I 2021-12-14 11:01:56,270]\u001b[0m Trial 2 finished with value: 0.10076973216274258 and parameters: {'feature_fraction': 0.5}. Best is trial 0 with value: 0.021515966371072746.\u001b[0m\n"
          ]
        },
        {
          "output_type": "stream",
          "name": "stdout",
          "text": [
            "Did not meet early stopping. Best iteration is:\n",
            "[100]\tTrain's rmse: 0.140062\tTest's rmse: 0.10077\n",
            "Training until validation scores don't improve for 50 rounds.\n"
          ]
        },
        {
          "output_type": "stream",
          "name": "stderr",
          "text": [
            "\u001b[32m[I 2021-12-14 11:01:56,736]\u001b[0m Trial 3 finished with value: 0.07108500991777447 and parameters: {'feature_fraction': 0.7}. Best is trial 0 with value: 0.021515966371072746.\u001b[0m\n"
          ]
        },
        {
          "output_type": "stream",
          "name": "stdout",
          "text": [
            "Did not meet early stopping. Best iteration is:\n",
            "[100]\tTrain's rmse: 0.13262\tTest's rmse: 0.071085\n",
            "Training until validation scores don't improve for 50 rounds.\n"
          ]
        },
        {
          "output_type": "stream",
          "name": "stderr",
          "text": [
            "\u001b[32m[I 2021-12-14 11:01:57,230]\u001b[0m Trial 4 finished with value: 0.03336565499225528 and parameters: {'feature_fraction': 0.8999999999999999}. Best is trial 0 with value: 0.021515966371072746.\u001b[0m\n"
          ]
        },
        {
          "output_type": "stream",
          "name": "stdout",
          "text": [
            "Early stopping, best iteration is:\n",
            "[45]\tTrain's rmse: 0.167152\tTest's rmse: 0.0333657\n",
            "Training until validation scores don't improve for 50 rounds.\n"
          ]
        },
        {
          "output_type": "stream",
          "name": "stderr",
          "text": [
            "\u001b[32m[I 2021-12-14 11:01:57,658]\u001b[0m Trial 5 finished with value: 0.08180852421154645 and parameters: {'feature_fraction': 0.6}. Best is trial 0 with value: 0.021515966371072746.\u001b[0m\n"
          ]
        },
        {
          "output_type": "stream",
          "name": "stdout",
          "text": [
            "Did not meet early stopping. Best iteration is:\n",
            "[100]\tTrain's rmse: 0.13093\tTest's rmse: 0.0818085\n",
            "Training until validation scores don't improve for 50 rounds.\n"
          ]
        },
        {
          "output_type": "stream",
          "name": "stderr",
          "text": [
            "\u001b[32m[I 2021-12-14 11:01:58,150]\u001b[0m Trial 6 finished with value: 0.0523820520220319 and parameters: {'feature_fraction': 0.8}. Best is trial 0 with value: 0.021515966371072746.\u001b[0m\n"
          ]
        },
        {
          "output_type": "stream",
          "name": "stdout",
          "text": [
            "Did not meet early stopping. Best iteration is:\n",
            "[100]\tTrain's rmse: 0.133649\tTest's rmse: 0.0523821\n",
            "Training until validation scores don't improve for 50 rounds.\n"
          ]
        },
        {
          "output_type": "stream",
          "name": "stderr",
          "text": [
            "\u001b[32m[I 2021-12-14 11:01:59,758]\u001b[0m Trial 7 finished with value: 0.029893124052637818 and parameters: {'num_leaves': 172}. Best is trial 7 with value: 0.029893124052637818.\u001b[0m\n"
          ]
        },
        {
          "output_type": "stream",
          "name": "stdout",
          "text": [
            "Did not meet early stopping. Best iteration is:\n",
            "[100]\tTrain's rmse: 0.154232\tTest's rmse: 0.0298931\n",
            "Training until validation scores don't improve for 50 rounds.\n"
          ]
        },
        {
          "output_type": "stream",
          "name": "stderr",
          "text": [
            "\u001b[32m[I 2021-12-14 11:02:01,813]\u001b[0m Trial 8 finished with value: 0.030677732331890372 and parameters: {'num_leaves': 245}. Best is trial 7 with value: 0.029893124052637818.\u001b[0m\n"
          ]
        },
        {
          "output_type": "stream",
          "name": "stdout",
          "text": [
            "Did not meet early stopping. Best iteration is:\n",
            "[100]\tTrain's rmse: 0.15417\tTest's rmse: 0.0306777\n",
            "Training until validation scores don't improve for 50 rounds.\n"
          ]
        },
        {
          "output_type": "stream",
          "name": "stderr",
          "text": [
            "\u001b[32m[I 2021-12-14 11:02:03,327]\u001b[0m Trial 9 finished with value: 0.030220990868136927 and parameters: {'num_leaves': 155}. Best is trial 7 with value: 0.029893124052637818.\u001b[0m\n"
          ]
        },
        {
          "output_type": "stream",
          "name": "stdout",
          "text": [
            "Did not meet early stopping. Best iteration is:\n",
            "[100]\tTrain's rmse: 0.15439\tTest's rmse: 0.030221\n",
            "Training until validation scores don't improve for 50 rounds.\n"
          ]
        },
        {
          "output_type": "stream",
          "name": "stderr",
          "text": [
            "\u001b[32m[I 2021-12-14 11:02:04,657]\u001b[0m Trial 10 finished with value: 0.030486692600348187 and parameters: {'num_leaves': 128}. Best is trial 7 with value: 0.029893124052637818.\u001b[0m\n"
          ]
        },
        {
          "output_type": "stream",
          "name": "stdout",
          "text": [
            "Did not meet early stopping. Best iteration is:\n",
            "[100]\tTrain's rmse: 0.15432\tTest's rmse: 0.0304867\n",
            "Training until validation scores don't improve for 50 rounds.\n"
          ]
        },
        {
          "output_type": "stream",
          "name": "stderr",
          "text": [
            "\u001b[32m[I 2021-12-14 11:02:06,502]\u001b[0m Trial 11 finished with value: 0.029039850060515293 and parameters: {'num_leaves': 211}. Best is trial 11 with value: 0.029039850060515293.\u001b[0m\n"
          ]
        },
        {
          "output_type": "stream",
          "name": "stdout",
          "text": [
            "Did not meet early stopping. Best iteration is:\n",
            "[100]\tTrain's rmse: 0.154276\tTest's rmse: 0.0290399\n",
            "Training until validation scores don't improve for 50 rounds.\n"
          ]
        },
        {
          "output_type": "stream",
          "name": "stderr",
          "text": [
            "\u001b[32m[I 2021-12-14 11:02:06,808]\u001b[0m Trial 12 finished with value: 0.02076744258643258 and parameters: {'num_leaves': 12}. Best is trial 12 with value: 0.02076744258643258.\u001b[0m\n"
          ]
        },
        {
          "output_type": "stream",
          "name": "stdout",
          "text": [
            "Early stopping, best iteration is:\n",
            "[44]\tTrain's rmse: 0.175084\tTest's rmse: 0.0207674\n",
            "Training until validation scores don't improve for 50 rounds.\n"
          ]
        },
        {
          "output_type": "stream",
          "name": "stderr",
          "text": [
            "\u001b[32m[I 2021-12-14 11:02:07,862]\u001b[0m Trial 13 finished with value: 0.030356318320230016 and parameters: {'num_leaves': 95}. Best is trial 12 with value: 0.02076744258643258.\u001b[0m\n"
          ]
        },
        {
          "output_type": "stream",
          "name": "stdout",
          "text": [
            "Did not meet early stopping. Best iteration is:\n",
            "[100]\tTrain's rmse: 0.154243\tTest's rmse: 0.0303563\n",
            "Training until validation scores don't improve for 50 rounds.\n"
          ]
        },
        {
          "output_type": "stream",
          "name": "stderr",
          "text": [
            "\u001b[32m[I 2021-12-14 11:02:09,952]\u001b[0m Trial 14 finished with value: 0.029979099740833726 and parameters: {'num_leaves': 248}. Best is trial 12 with value: 0.02076744258643258.\u001b[0m\n"
          ]
        },
        {
          "output_type": "stream",
          "name": "stdout",
          "text": [
            "Did not meet early stopping. Best iteration is:\n",
            "[100]\tTrain's rmse: 0.154155\tTest's rmse: 0.0299791\n",
            "Training until validation scores don't improve for 50 rounds.\n"
          ]
        },
        {
          "output_type": "stream",
          "name": "stderr",
          "text": [
            "\u001b[32m[I 2021-12-14 11:02:11,964]\u001b[0m Trial 15 finished with value: 0.03040868059909776 and parameters: {'num_leaves': 241}. Best is trial 12 with value: 0.02076744258643258.\u001b[0m\n"
          ]
        },
        {
          "output_type": "stream",
          "name": "stdout",
          "text": [
            "Did not meet early stopping. Best iteration is:\n",
            "[100]\tTrain's rmse: 0.154176\tTest's rmse: 0.0304087\n",
            "Training until validation scores don't improve for 50 rounds.\n"
          ]
        },
        {
          "output_type": "stream",
          "name": "stderr",
          "text": [
            "\u001b[32m[I 2021-12-14 11:02:12,631]\u001b[0m Trial 16 finished with value: 0.020148371062667043 and parameters: {'num_leaves': 52}. Best is trial 16 with value: 0.020148371062667043.\u001b[0m\n"
          ]
        },
        {
          "output_type": "stream",
          "name": "stdout",
          "text": [
            "Early stopping, best iteration is:\n",
            "[42]\tTrain's rmse: 0.171693\tTest's rmse: 0.0201484\n",
            "Training until validation scores don't improve for 50 rounds.\n"
          ]
        },
        {
          "output_type": "stream",
          "name": "stderr",
          "text": [
            "\u001b[32m[I 2021-12-14 11:02:13,168]\u001b[0m Trial 17 finished with value: 0.020707617894301866 and parameters: {'num_leaves': 33}. Best is trial 16 with value: 0.020148371062667043.\u001b[0m\n"
          ]
        },
        {
          "output_type": "stream",
          "name": "stdout",
          "text": [
            "Early stopping, best iteration is:\n",
            "[46]\tTrain's rmse: 0.169784\tTest's rmse: 0.0207076\n",
            "Training until validation scores don't improve for 50 rounds.\n"
          ]
        },
        {
          "output_type": "stream",
          "name": "stderr",
          "text": [
            "\u001b[32m[I 2021-12-14 11:02:13,644]\u001b[0m Trial 18 finished with value: 0.022199706154197228 and parameters: {'num_leaves': 27}. Best is trial 16 with value: 0.020148371062667043.\u001b[0m\n"
          ]
        },
        {
          "output_type": "stream",
          "name": "stdout",
          "text": [
            "Early stopping, best iteration is:\n",
            "[47]\tTrain's rmse: 0.167305\tTest's rmse: 0.0221997\n",
            "Training until validation scores don't improve for 50 rounds.\n"
          ]
        },
        {
          "output_type": "stream",
          "name": "stderr",
          "text": [
            "\u001b[32m[I 2021-12-14 11:02:14,438]\u001b[0m Trial 19 finished with value: 0.021272099249574475 and parameters: {'num_leaves': 64}. Best is trial 16 with value: 0.020148371062667043.\u001b[0m\n"
          ]
        },
        {
          "output_type": "stream",
          "name": "stdout",
          "text": [
            "Early stopping, best iteration is:\n",
            "[48]\tTrain's rmse: 0.170716\tTest's rmse: 0.0212721\n",
            "Training until validation scores don't improve for 50 rounds.\n"
          ]
        },
        {
          "output_type": "stream",
          "name": "stderr",
          "text": [
            "\u001b[32m[I 2021-12-14 11:02:15,211]\u001b[0m Trial 20 finished with value: 0.02182813508212381 and parameters: {'num_leaves': 60}. Best is trial 16 with value: 0.020148371062667043.\u001b[0m\n"
          ]
        },
        {
          "output_type": "stream",
          "name": "stdout",
          "text": [
            "Early stopping, best iteration is:\n",
            "[48]\tTrain's rmse: 0.170715\tTest's rmse: 0.0218281\n",
            "Training until validation scores don't improve for 50 rounds.\n"
          ]
        },
        {
          "output_type": "stream",
          "name": "stderr",
          "text": [
            "\u001b[32m[I 2021-12-14 11:02:15,885]\u001b[0m Trial 21 finished with value: 0.019478195384959915 and parameters: {'num_leaves': 54}. Best is trial 21 with value: 0.019478195384959915.\u001b[0m\n"
          ]
        },
        {
          "output_type": "stream",
          "name": "stdout",
          "text": [
            "Early stopping, best iteration is:\n",
            "[44]\tTrain's rmse: 0.170422\tTest's rmse: 0.0194782\n",
            "Training until validation scores don't improve for 50 rounds.\n"
          ]
        },
        {
          "output_type": "stream",
          "name": "stderr",
          "text": [
            "\u001b[32m[I 2021-12-14 11:02:16,895]\u001b[0m Trial 22 finished with value: 0.03056117904766165 and parameters: {'num_leaves': 89}. Best is trial 21 with value: 0.019478195384959915.\u001b[0m\n"
          ]
        },
        {
          "output_type": "stream",
          "name": "stdout",
          "text": [
            "Did not meet early stopping. Best iteration is:\n",
            "[100]\tTrain's rmse: 0.154152\tTest's rmse: 0.0305612\n",
            "Training until validation scores don't improve for 50 rounds.\n"
          ]
        },
        {
          "output_type": "stream",
          "name": "stderr",
          "text": [
            "\u001b[32m[I 2021-12-14 11:02:18,040]\u001b[0m Trial 23 finished with value: 0.029274865204572845 and parameters: {'num_leaves': 105}. Best is trial 21 with value: 0.019478195384959915.\u001b[0m\n"
          ]
        },
        {
          "output_type": "stream",
          "name": "stdout",
          "text": [
            "Did not meet early stopping. Best iteration is:\n",
            "[100]\tTrain's rmse: 0.154256\tTest's rmse: 0.0292749\n",
            "Training until validation scores don't improve for 50 rounds.\n"
          ]
        },
        {
          "output_type": "stream",
          "name": "stderr",
          "text": [
            "\u001b[32m[I 2021-12-14 11:02:18,719]\u001b[0m Trial 24 finished with value: 0.01983916042335935 and parameters: {'num_leaves': 53}. Best is trial 21 with value: 0.019478195384959915.\u001b[0m\n"
          ]
        },
        {
          "output_type": "stream",
          "name": "stdout",
          "text": [
            "Early stopping, best iteration is:\n",
            "[46]\tTrain's rmse: 0.169874\tTest's rmse: 0.0198392\n",
            "Training until validation scores don't improve for 50 rounds.\n"
          ]
        },
        {
          "output_type": "stream",
          "name": "stderr",
          "text": [
            "\u001b[32m[I 2021-12-14 11:02:19,028]\u001b[0m Trial 25 finished with value: 0.029531973046604054 and parameters: {'num_leaves': 10}. Best is trial 21 with value: 0.019478195384959915.\u001b[0m\n"
          ]
        },
        {
          "output_type": "stream",
          "name": "stdout",
          "text": [
            "Did not meet early stopping. Best iteration is:\n",
            "[100]\tTrain's rmse: 0.160558\tTest's rmse: 0.029532\n",
            "Training until validation scores don't improve for 50 rounds.\n"
          ]
        },
        {
          "output_type": "stream",
          "name": "stderr",
          "text": [
            "\u001b[32m[I 2021-12-14 11:02:19,874]\u001b[0m Trial 26 finished with value: 0.021725509859623793 and parameters: {'num_leaves': 74}. Best is trial 21 with value: 0.019478195384959915.\u001b[0m\n"
          ]
        },
        {
          "output_type": "stream",
          "name": "stdout",
          "text": [
            "Early stopping, best iteration is:\n",
            "[46]\tTrain's rmse: 0.169072\tTest's rmse: 0.0217255\n",
            "Training until validation scores don't improve for 50 rounds.\n"
          ]
        },
        {
          "output_type": "stream",
          "name": "stderr",
          "text": [
            "\u001b[32m[I 2021-12-14 11:02:20,673]\u001b[0m Trial 27 finished with value: 0.027410302491205157 and parameters: {'bagging_fraction': 0.5326366846530342, 'bagging_freq': 5}. Best is trial 27 with value: 0.027410302491205157.\u001b[0m\n"
          ]
        },
        {
          "output_type": "stream",
          "name": "stdout",
          "text": [
            "Did not meet early stopping. Best iteration is:\n",
            "[99]\tTrain's rmse: 0.184259\tTest's rmse: 0.0274103\n",
            "Training until validation scores don't improve for 50 rounds.\n"
          ]
        },
        {
          "output_type": "stream",
          "name": "stderr",
          "text": [
            "\u001b[32m[I 2021-12-14 11:02:21,360]\u001b[0m Trial 28 finished with value: 0.024056904247341995 and parameters: {'bagging_fraction': 0.6424530355917678, 'bagging_freq': 4}. Best is trial 28 with value: 0.024056904247341995.\u001b[0m\n"
          ]
        },
        {
          "output_type": "stream",
          "name": "stdout",
          "text": [
            "Early stopping, best iteration is:\n",
            "[37]\tTrain's rmse: 0.195926\tTest's rmse: 0.0240569\n",
            "Training until validation scores don't improve for 50 rounds.\n"
          ]
        },
        {
          "output_type": "stream",
          "name": "stderr",
          "text": [
            "\u001b[32m[I 2021-12-14 11:02:22,137]\u001b[0m Trial 29 finished with value: 0.027296814931795407 and parameters: {'bagging_fraction': 0.5394778026552891, 'bagging_freq': 6}. Best is trial 28 with value: 0.024056904247341995.\u001b[0m\n"
          ]
        },
        {
          "output_type": "stream",
          "name": "stdout",
          "text": [
            "Did not meet early stopping. Best iteration is:\n",
            "[100]\tTrain's rmse: 0.179064\tTest's rmse: 0.0272968\n",
            "Training until validation scores don't improve for 50 rounds.\n"
          ]
        },
        {
          "output_type": "stream",
          "name": "stderr",
          "text": [
            "\u001b[32m[I 2021-12-14 11:02:22,915]\u001b[0m Trial 30 finished with value: 0.027228264174608385 and parameters: {'bagging_fraction': 0.49277027467962425, 'bagging_freq': 5}. Best is trial 28 with value: 0.024056904247341995.\u001b[0m\n"
          ]
        },
        {
          "output_type": "stream",
          "name": "stdout",
          "text": [
            "Did not meet early stopping. Best iteration is:\n",
            "[99]\tTrain's rmse: 0.183192\tTest's rmse: 0.0272283\n",
            "Training until validation scores don't improve for 50 rounds.\n"
          ]
        },
        {
          "output_type": "stream",
          "name": "stderr",
          "text": [
            "\u001b[32m[I 2021-12-14 11:02:23,715]\u001b[0m Trial 31 finished with value: 0.02681337127950329 and parameters: {'bagging_fraction': 0.6451434974533591, 'bagging_freq': 5}. Best is trial 28 with value: 0.024056904247341995.\u001b[0m\n"
          ]
        },
        {
          "output_type": "stream",
          "name": "stdout",
          "text": [
            "Did not meet early stopping. Best iteration is:\n",
            "[95]\tTrain's rmse: 0.173152\tTest's rmse: 0.0268134\n",
            "Training until validation scores don't improve for 50 rounds.\n"
          ]
        },
        {
          "output_type": "stream",
          "name": "stderr",
          "text": [
            "\u001b[32m[I 2021-12-14 11:02:24,529]\u001b[0m Trial 32 finished with value: 0.02656103330611082 and parameters: {'bagging_fraction': 0.9418356550856173, 'bagging_freq': 6}. Best is trial 28 with value: 0.024056904247341995.\u001b[0m\n"
          ]
        },
        {
          "output_type": "stream",
          "name": "stdout",
          "text": [
            "Did not meet early stopping. Best iteration is:\n",
            "[100]\tTrain's rmse: 0.159412\tTest's rmse: 0.026561\n",
            "Training until validation scores don't improve for 50 rounds.\n"
          ]
        },
        {
          "output_type": "stream",
          "name": "stderr",
          "text": [
            "\u001b[32m[I 2021-12-14 11:02:25,283]\u001b[0m Trial 33 finished with value: 0.021113225396545386 and parameters: {'bagging_fraction': 0.9892103529622615, 'bagging_freq': 3}. Best is trial 33 with value: 0.021113225396545386.\u001b[0m\n"
          ]
        },
        {
          "output_type": "stream",
          "name": "stdout",
          "text": [
            "Early stopping, best iteration is:\n",
            "[42]\tTrain's rmse: 0.170922\tTest's rmse: 0.0211132\n",
            "Training until validation scores don't improve for 50 rounds.\n"
          ]
        },
        {
          "output_type": "stream",
          "name": "stderr",
          "text": [
            "\u001b[32m[I 2021-12-14 11:02:26,079]\u001b[0m Trial 34 finished with value: 0.029120336680089082 and parameters: {'bagging_fraction': 0.638067380009519, 'bagging_freq': 5}. Best is trial 33 with value: 0.021113225396545386.\u001b[0m\n"
          ]
        },
        {
          "output_type": "stream",
          "name": "stdout",
          "text": [
            "Did not meet early stopping. Best iteration is:\n",
            "[95]\tTrain's rmse: 0.174825\tTest's rmse: 0.0291203\n",
            "Training until validation scores don't improve for 50 rounds.\n"
          ]
        },
        {
          "output_type": "stream",
          "name": "stderr",
          "text": [
            "\u001b[32m[I 2021-12-14 11:02:26,813]\u001b[0m Trial 35 finished with value: 0.02516529802698521 and parameters: {'bagging_fraction': 0.944926105503046, 'bagging_freq': 1}. Best is trial 33 with value: 0.021113225396545386.\u001b[0m\n"
          ]
        },
        {
          "output_type": "stream",
          "name": "stdout",
          "text": [
            "Did not meet early stopping. Best iteration is:\n",
            "[100]\tTrain's rmse: 0.164336\tTest's rmse: 0.0251653\n",
            "Training until validation scores don't improve for 50 rounds.\n"
          ]
        },
        {
          "output_type": "stream",
          "name": "stderr",
          "text": [
            "\u001b[32m[I 2021-12-14 11:02:27,537]\u001b[0m Trial 36 finished with value: 0.026060951171749017 and parameters: {'bagging_fraction': 0.6747649561116082, 'bagging_freq': 1}. Best is trial 33 with value: 0.021113225396545386.\u001b[0m\n"
          ]
        },
        {
          "output_type": "stream",
          "name": "stdout",
          "text": [
            "Early stopping, best iteration is:\n",
            "[48]\tTrain's rmse: 0.188971\tTest's rmse: 0.026061\n",
            "Training until validation scores don't improve for 50 rounds.\n"
          ]
        },
        {
          "output_type": "stream",
          "name": "stderr",
          "text": [
            "\u001b[32m[I 2021-12-14 11:02:28,231]\u001b[0m Trial 37 finished with value: 0.035537681657503706 and parameters: {'feature_fraction': 0.9840000000000001}. Best is trial 37 with value: 0.035537681657503706.\u001b[0m\n"
          ]
        },
        {
          "output_type": "stream",
          "name": "stdout",
          "text": [
            "Early stopping, best iteration is:\n",
            "[46]\tTrain's rmse: 0.167953\tTest's rmse: 0.0355377\n",
            "Training until validation scores don't improve for 50 rounds.\n"
          ]
        },
        {
          "output_type": "stream",
          "name": "stderr",
          "text": [
            "\u001b[32m[I 2021-12-14 11:02:28,897]\u001b[0m Trial 38 finished with value: 0.03751919616002363 and parameters: {'feature_fraction': 0.92}. Best is trial 37 with value: 0.035537681657503706.\u001b[0m\n"
          ]
        },
        {
          "output_type": "stream",
          "name": "stdout",
          "text": [
            "Early stopping, best iteration is:\n",
            "[45]\tTrain's rmse: 0.174939\tTest's rmse: 0.0375192\n",
            "Training until validation scores don't improve for 50 rounds.\n"
          ]
        },
        {
          "output_type": "stream",
          "name": "stderr",
          "text": [
            "\u001b[32m[I 2021-12-14 11:02:29,591]\u001b[0m Trial 39 finished with value: 0.035537681657503706 and parameters: {'feature_fraction': 0.9520000000000001}. Best is trial 37 with value: 0.035537681657503706.\u001b[0m\n"
          ]
        },
        {
          "output_type": "stream",
          "name": "stdout",
          "text": [
            "Early stopping, best iteration is:\n",
            "[46]\tTrain's rmse: 0.167953\tTest's rmse: 0.0355377\n",
            "Training until validation scores don't improve for 50 rounds.\n"
          ]
        },
        {
          "output_type": "stream",
          "name": "stderr",
          "text": [
            "\u001b[32m[I 2021-12-14 11:02:30,102]\u001b[0m Trial 40 finished with value: 0.021331900891008098 and parameters: {'lambda_l1': 0.10694188139837427, 'lambda_l2': 0.001153408666098998}. Best is trial 40 with value: 0.021331900891008098.\u001b[0m\n"
          ]
        },
        {
          "output_type": "stream",
          "name": "stdout",
          "text": [
            "Early stopping, best iteration is:\n",
            "[44]\tTrain's rmse: 0.17027\tTest's rmse: 0.0213319\n",
            "Training until validation scores don't improve for 50 rounds.\n"
          ]
        },
        {
          "output_type": "stream",
          "name": "stderr",
          "text": [
            "\u001b[32m[I 2021-12-14 11:02:30,803]\u001b[0m Trial 41 finished with value: 0.020096614830623912 and parameters: {'lambda_l1': 8.549708148104767e-05, 'lambda_l2': 3.8494978444673e-06}. Best is trial 41 with value: 0.020096614830623912.\u001b[0m\n"
          ]
        },
        {
          "output_type": "stream",
          "name": "stdout",
          "text": [
            "Early stopping, best iteration is:\n",
            "[46]\tTrain's rmse: 0.169831\tTest's rmse: 0.0200966\n",
            "Training until validation scores don't improve for 50 rounds.\n"
          ]
        },
        {
          "output_type": "stream",
          "name": "stderr",
          "text": [
            "\u001b[32m[I 2021-12-14 11:02:31,460]\u001b[0m Trial 42 finished with value: 0.020853181510221863 and parameters: {'lambda_l1': 2.2029504543942243e-06, 'lambda_l2': 0.10069953684709287}. Best is trial 41 with value: 0.020096614830623912.\u001b[0m\n"
          ]
        },
        {
          "output_type": "stream",
          "name": "stdout",
          "text": [
            "Early stopping, best iteration is:\n",
            "[45]\tTrain's rmse: 0.171746\tTest's rmse: 0.0208532\n",
            "Training until validation scores don't improve for 50 rounds.\n"
          ]
        },
        {
          "output_type": "stream",
          "name": "stderr",
          "text": [
            "\u001b[32m[I 2021-12-14 11:02:32,030]\u001b[0m Trial 43 finished with value: 0.020633220602642596 and parameters: {'lambda_l1': 0.0019257434190061958, 'lambda_l2': 2.5172442598529696}. Best is trial 41 with value: 0.020096614830623912.\u001b[0m\n"
          ]
        },
        {
          "output_type": "stream",
          "name": "stdout",
          "text": [
            "Early stopping, best iteration is:\n",
            "[44]\tTrain's rmse: 0.172774\tTest's rmse: 0.0206332\n",
            "Training until validation scores don't improve for 50 rounds.\n"
          ]
        },
        {
          "output_type": "stream",
          "name": "stderr",
          "text": [
            "\u001b[32m[I 2021-12-14 11:02:32,681]\u001b[0m Trial 44 finished with value: 0.028244053584749632 and parameters: {'lambda_l1': 4.9449660963757556e-05, 'lambda_l2': 1.8076461549738863}. Best is trial 41 with value: 0.020096614830623912.\u001b[0m\n"
          ]
        },
        {
          "output_type": "stream",
          "name": "stdout",
          "text": [
            "Did not meet early stopping. Best iteration is:\n",
            "[100]\tTrain's rmse: 0.156084\tTest's rmse: 0.0282441\n",
            "Training until validation scores don't improve for 50 rounds.\n"
          ]
        },
        {
          "output_type": "stream",
          "name": "stderr",
          "text": [
            "\u001b[32m[I 2021-12-14 11:02:33,159]\u001b[0m Trial 45 finished with value: 0.02135342326987875 and parameters: {'lambda_l1': 0.15494903789216313, 'lambda_l2': 1.4213596297754526e-06}. Best is trial 41 with value: 0.020096614830623912.\u001b[0m\n"
          ]
        },
        {
          "output_type": "stream",
          "name": "stdout",
          "text": [
            "Early stopping, best iteration is:\n",
            "[42]\tTrain's rmse: 0.170446\tTest's rmse: 0.0213534\n",
            "Training until validation scores don't improve for 50 rounds.\n"
          ]
        },
        {
          "output_type": "stream",
          "name": "stderr",
          "text": [
            "\u001b[32m[I 2021-12-14 11:02:33,860]\u001b[0m Trial 46 finished with value: 0.020179148928803077 and parameters: {'lambda_l1': 1.5352302036713485e-05, 'lambda_l2': 2.469606276493416e-07}. Best is trial 41 with value: 0.020096614830623912.\u001b[0m\n"
          ]
        },
        {
          "output_type": "stream",
          "name": "stdout",
          "text": [
            "Early stopping, best iteration is:\n",
            "[46]\tTrain's rmse: 0.169804\tTest's rmse: 0.0201791\n",
            "Training until validation scores don't improve for 50 rounds.\n"
          ]
        },
        {
          "output_type": "stream",
          "name": "stderr",
          "text": [
            "\u001b[32m[I 2021-12-14 11:02:34,485]\u001b[0m Trial 47 finished with value: 0.02719865055163587 and parameters: {'lambda_l1': 1.54891762365708e-08, 'lambda_l2': 3.757266937011973}. Best is trial 41 with value: 0.020096614830623912.\u001b[0m\n"
          ]
        },
        {
          "output_type": "stream",
          "name": "stdout",
          "text": [
            "Did not meet early stopping. Best iteration is:\n",
            "[100]\tTrain's rmse: 0.155113\tTest's rmse: 0.0271987\n",
            "Training until validation scores don't improve for 50 rounds.\n"
          ]
        },
        {
          "output_type": "stream",
          "name": "stderr",
          "text": [
            "\u001b[32m[I 2021-12-14 11:02:35,174]\u001b[0m Trial 48 finished with value: 0.020065428403959796 and parameters: {'lambda_l1': 1.9511331726937222e-07, 'lambda_l2': 0.00039984717708864713}. Best is trial 48 with value: 0.020065428403959796.\u001b[0m\n"
          ]
        },
        {
          "output_type": "stream",
          "name": "stdout",
          "text": [
            "Early stopping, best iteration is:\n",
            "[44]\tTrain's rmse: 0.170137\tTest's rmse: 0.0200654\n",
            "Training until validation scores don't improve for 50 rounds.\n"
          ]
        },
        {
          "output_type": "stream",
          "name": "stderr",
          "text": [
            "\u001b[32m[I 2021-12-14 11:02:35,811]\u001b[0m Trial 49 finished with value: 0.021082494463979706 and parameters: {'lambda_l1': 0.0007031179415194036, 'lambda_l2': 0.119905258789204}. Best is trial 48 with value: 0.020065428403959796.\u001b[0m\n"
          ]
        },
        {
          "output_type": "stream",
          "name": "stdout",
          "text": [
            "Early stopping, best iteration is:\n",
            "[44]\tTrain's rmse: 0.171431\tTest's rmse: 0.0210825\n",
            "Training until validation scores don't improve for 50 rounds.\n"
          ]
        },
        {
          "output_type": "stream",
          "name": "stderr",
          "text": [
            "\u001b[32m[I 2021-12-14 11:02:36,515]\u001b[0m Trial 50 finished with value: 0.020177051524026775 and parameters: {'lambda_l1': 2.0556690502289357e-08, 'lambda_l2': 6.360273675028023e-05}. Best is trial 48 with value: 0.020065428403959796.\u001b[0m\n"
          ]
        },
        {
          "output_type": "stream",
          "name": "stdout",
          "text": [
            "Early stopping, best iteration is:\n",
            "[46]\tTrain's rmse: 0.169804\tTest's rmse: 0.0201771\n",
            "Training until validation scores don't improve for 50 rounds.\n"
          ]
        },
        {
          "output_type": "stream",
          "name": "stderr",
          "text": [
            "\u001b[32m[I 2021-12-14 11:02:37,202]\u001b[0m Trial 51 finished with value: 0.019461151091333246 and parameters: {'lambda_l1': 7.308974185040535e-07, 'lambda_l2': 4.160555086603356e-05}. Best is trial 51 with value: 0.019461151091333246.\u001b[0m\n"
          ]
        },
        {
          "output_type": "stream",
          "name": "stdout",
          "text": [
            "Early stopping, best iteration is:\n",
            "[44]\tTrain's rmse: 0.170423\tTest's rmse: 0.0194612\n",
            "Training until validation scores don't improve for 50 rounds.\n"
          ]
        },
        {
          "output_type": "stream",
          "name": "stderr",
          "text": [
            "\u001b[32m[I 2021-12-14 11:02:37,885]\u001b[0m Trial 52 finished with value: 0.019478196210858462 and parameters: {'lambda_l1': 7.939646029266992e-07, 'lambda_l2': 1.1407498050224484e-08}. Best is trial 51 with value: 0.019461151091333246.\u001b[0m\n"
          ]
        },
        {
          "output_type": "stream",
          "name": "stdout",
          "text": [
            "Early stopping, best iteration is:\n",
            "[44]\tTrain's rmse: 0.170422\tTest's rmse: 0.0194782\n",
            "Training until validation scores don't improve for 50 rounds.\n"
          ]
        },
        {
          "output_type": "stream",
          "name": "stderr",
          "text": [
            "\u001b[32m[I 2021-12-14 11:02:38,578]\u001b[0m Trial 53 finished with value: 0.01946115901100107 and parameters: {'lambda_l1': 1.4227204443090732e-06, 'lambda_l2': 1.8389125438448738e-08}. Best is trial 51 with value: 0.019461151091333246.\u001b[0m\n"
          ]
        },
        {
          "output_type": "stream",
          "name": "stdout",
          "text": [
            "Early stopping, best iteration is:\n",
            "[44]\tTrain's rmse: 0.170422\tTest's rmse: 0.0194612\n",
            "Training until validation scores don't improve for 50 rounds.\n"
          ]
        },
        {
          "output_type": "stream",
          "name": "stderr",
          "text": [
            "\u001b[32m[I 2021-12-14 11:02:39,267]\u001b[0m Trial 54 finished with value: 0.019461160290186005 and parameters: {'lambda_l1': 2.635958261753233e-06, 'lambda_l2': 1.427741446076789e-08}. Best is trial 51 with value: 0.019461151091333246.\u001b[0m\n"
          ]
        },
        {
          "output_type": "stream",
          "name": "stdout",
          "text": [
            "Early stopping, best iteration is:\n",
            "[44]\tTrain's rmse: 0.170422\tTest's rmse: 0.0194612\n",
            "Training until validation scores don't improve for 50 rounds.\n"
          ]
        },
        {
          "output_type": "stream",
          "name": "stderr",
          "text": [
            "\u001b[32m[I 2021-12-14 11:02:39,559]\u001b[0m Trial 55 finished with value: 0.028005238066850666 and parameters: {'lambda_l1': 8.987528473020232, 'lambda_l2': 8.026162296058577e-06}. Best is trial 51 with value: 0.019461151091333246.\u001b[0m\n"
          ]
        },
        {
          "output_type": "stream",
          "name": "stdout",
          "text": [
            "Did not meet early stopping. Best iteration is:\n",
            "[100]\tTrain's rmse: 0.156311\tTest's rmse: 0.0280052\n",
            "Training until validation scores don't improve for 50 rounds.\n"
          ]
        },
        {
          "output_type": "stream",
          "name": "stderr",
          "text": [
            "\u001b[32m[I 2021-12-14 11:02:40,240]\u001b[0m Trial 56 finished with value: 0.019989780174585373 and parameters: {'lambda_l1': 1.226934014254668e-07, 'lambda_l2': 0.005846401460257242}. Best is trial 51 with value: 0.019461151091333246.\u001b[0m\n"
          ]
        },
        {
          "output_type": "stream",
          "name": "stdout",
          "text": [
            "Early stopping, best iteration is:\n",
            "[44]\tTrain's rmse: 0.170489\tTest's rmse: 0.0199898\n",
            "Training until validation scores don't improve for 50 rounds.\n"
          ]
        },
        {
          "output_type": "stream",
          "name": "stderr",
          "text": [
            "\u001b[32m[I 2021-12-14 11:02:40,935]\u001b[0m Trial 57 finished with value: 0.020179146783274742 and parameters: {'lambda_l1': 5.887864014356469e-06, 'lambda_l2': 3.115678478985826e-07}. Best is trial 51 with value: 0.019461151091333246.\u001b[0m\n"
          ]
        },
        {
          "output_type": "stream",
          "name": "stdout",
          "text": [
            "Early stopping, best iteration is:\n",
            "[46]\tTrain's rmse: 0.169804\tTest's rmse: 0.0201791\n",
            "Training until validation scores don't improve for 50 rounds.\n"
          ]
        },
        {
          "output_type": "stream",
          "name": "stderr",
          "text": [
            "\u001b[32m[I 2021-12-14 11:02:41,564]\u001b[0m Trial 58 finished with value: 0.02013952334786432 and parameters: {'lambda_l1': 0.00813472201469597, 'lambda_l2': 4.2790274565298444e-05}. Best is trial 51 with value: 0.019461151091333246.\u001b[0m\n"
          ]
        },
        {
          "output_type": "stream",
          "name": "stdout",
          "text": [
            "Early stopping, best iteration is:\n",
            "[44]\tTrain's rmse: 0.17046\tTest's rmse: 0.0201395\n",
            "Training until validation scores don't improve for 50 rounds.\n"
          ]
        },
        {
          "output_type": "stream",
          "name": "stderr",
          "text": [
            "\u001b[32m[I 2021-12-14 11:02:42,267]\u001b[0m Trial 59 finished with value: 0.019478195564853907 and parameters: {'lambda_l1': 2.2460414179823803e-07, 'lambda_l2': 1.5843456169738218e-07}. Best is trial 51 with value: 0.019461151091333246.\u001b[0m\n"
          ]
        },
        {
          "output_type": "stream",
          "name": "stdout",
          "text": [
            "Early stopping, best iteration is:\n",
            "[44]\tTrain's rmse: 0.170422\tTest's rmse: 0.0194782\n",
            "Training until validation scores don't improve for 50 rounds.\n"
          ]
        },
        {
          "output_type": "stream",
          "name": "stderr",
          "text": [
            "\u001b[32m[I 2021-12-14 11:02:42,971]\u001b[0m Trial 60 finished with value: 0.05652299194768678 and parameters: {'min_child_samples': 50}. Best is trial 60 with value: 0.05652299194768678.\u001b[0m\n"
          ]
        },
        {
          "output_type": "stream",
          "name": "stdout",
          "text": [
            "Early stopping, best iteration is:\n",
            "[39]\tTrain's rmse: 0.260116\tTest's rmse: 0.056523\n",
            "Training until validation scores don't improve for 50 rounds.\n"
          ]
        },
        {
          "output_type": "stream",
          "name": "stderr",
          "text": [
            "\u001b[32m[I 2021-12-14 11:02:43,541]\u001b[0m Trial 61 finished with value: 0.09210194193512578 and parameters: {'min_child_samples': 100}. Best is trial 60 with value: 0.05652299194768678.\u001b[0m\n"
          ]
        },
        {
          "output_type": "stream",
          "name": "stdout",
          "text": [
            "Early stopping, best iteration is:\n",
            "[27]\tTrain's rmse: 0.320858\tTest's rmse: 0.0921019\n",
            "Training until validation scores don't improve for 50 rounds.\n"
          ]
        },
        {
          "output_type": "stream",
          "name": "stderr",
          "text": [
            "\u001b[32m[I 2021-12-14 11:02:44,282]\u001b[0m Trial 62 finished with value: 0.027595972137346922 and parameters: {'min_child_samples': 25}. Best is trial 62 with value: 0.027595972137346922.\u001b[0m\n"
          ]
        },
        {
          "output_type": "stream",
          "name": "stdout",
          "text": [
            "Early stopping, best iteration is:\n",
            "[47]\tTrain's rmse: 0.176661\tTest's rmse: 0.027596\n",
            "Training until validation scores don't improve for 50 rounds.\n"
          ]
        },
        {
          "output_type": "stream",
          "name": "stderr",
          "text": [
            "\u001b[32m[I 2021-12-14 11:02:44,936]\u001b[0m Trial 63 finished with value: 0.026945775405204507 and parameters: {'min_child_samples': 10}. Best is trial 63 with value: 0.026945775405204507.\u001b[0m\n"
          ]
        },
        {
          "output_type": "stream",
          "name": "stdout",
          "text": [
            "Early stopping, best iteration is:\n",
            "[42]\tTrain's rmse: 0.108142\tTest's rmse: 0.0269458\n",
            "Training until validation scores don't improve for 50 rounds.\n"
          ]
        },
        {
          "output_type": "stream",
          "name": "stderr",
          "text": [
            "\u001b[32m[I 2021-12-14 11:02:45,536]\u001b[0m Trial 64 finished with value: 0.027446256532654596 and parameters: {'min_child_samples': 5}. Best is trial 63 with value: 0.026945775405204507.\u001b[0m\n"
          ]
        },
        {
          "output_type": "stream",
          "name": "stdout",
          "text": [
            "Early stopping, best iteration is:\n",
            "[39]\tTrain's rmse: 0.0538572\tTest's rmse: 0.0274463\n"
          ]
        },
        {
          "output_type": "display_data",
          "data": {
            "image/png": "[encoded data removed]",
            "text/plain": [
              "<Figure size 432x288 with 1 Axes>"
            ]
          },
          "metadata": {
            "needs_background": "light"
          }
        },
        {
          "output_type": "stream",
          "name": "stderr",
          "text": [
            "\u001b[32m[I 2021-12-14 11:02:45,747]\u001b[0m A new study created in memory with name: no-name-2b185262-1a3a-407c-bfc6-3e0b180dd6d0\u001b[0m\n"
          ]
        },
        {
          "output_type": "stream",
          "name": "stdout",
          "text": [
            "Training until validation scores don't improve for 50 rounds.\n"
          ]
        },
        {
          "output_type": "stream",
          "name": "stderr",
          "text": [
            "\u001b[32m[I 2021-12-14 11:02:46,199]\u001b[0m Trial 0 finished with value: 0.3677959708674583 and parameters: {'feature_fraction': 0.8999999999999999}. Best is trial 0 with value: 0.3677959708674583.\u001b[0m\n"
          ]
        },
        {
          "output_type": "stream",
          "name": "stdout",
          "text": [
            "Early stopping, best iteration is:\n",
            "[35]\tTrain's rmse: 0.160637\tTest's rmse: 0.367796\n",
            "Training until validation scores don't improve for 50 rounds.\n"
          ]
        },
        {
          "output_type": "stream",
          "name": "stderr",
          "text": [
            "\u001b[32m[I 2021-12-14 11:02:46,663]\u001b[0m Trial 1 finished with value: 0.3616610314432225 and parameters: {'feature_fraction': 1.0}. Best is trial 1 with value: 0.3616610314432225.\u001b[0m\n"
          ]
        },
        {
          "output_type": "stream",
          "name": "stdout",
          "text": [
            "Early stopping, best iteration is:\n",
            "[37]\tTrain's rmse: 0.155527\tTest's rmse: 0.361661\n",
            "Training until validation scores don't improve for 50 rounds.\n"
          ]
        },
        {
          "output_type": "stream",
          "name": "stderr",
          "text": [
            "\u001b[32m[I 2021-12-14 11:02:47,014]\u001b[0m Trial 2 finished with value: 0.4099308941595869 and parameters: {'feature_fraction': 0.4}. Best is trial 1 with value: 0.3616610314432225.\u001b[0m\n"
          ]
        },
        {
          "output_type": "stream",
          "name": "stdout",
          "text": [
            "Did not meet early stopping. Best iteration is:\n",
            "[100]\tTrain's rmse: 0.125349\tTest's rmse: 0.409931\n",
            "Training until validation scores don't improve for 50 rounds.\n"
          ]
        },
        {
          "output_type": "stream",
          "name": "stderr",
          "text": [
            "\u001b[32m[I 2021-12-14 11:02:47,484]\u001b[0m Trial 3 finished with value: 0.3896414290345304 and parameters: {'feature_fraction': 0.7}. Best is trial 1 with value: 0.3616610314432225.\u001b[0m\n"
          ]
        },
        {
          "output_type": "stream",
          "name": "stdout",
          "text": [
            "Did not meet early stopping. Best iteration is:\n",
            "[100]\tTrain's rmse: 0.123143\tTest's rmse: 0.389641\n",
            "Training until validation scores don't improve for 50 rounds.\n"
          ]
        },
        {
          "output_type": "stream",
          "name": "stderr",
          "text": [
            "\u001b[32m[I 2021-12-14 11:02:47,956]\u001b[0m Trial 4 finished with value: 0.37862690099873014 and parameters: {'feature_fraction': 0.8}. Best is trial 1 with value: 0.3616610314432225.\u001b[0m\n"
          ]
        },
        {
          "output_type": "stream",
          "name": "stdout",
          "text": [
            "Early stopping, best iteration is:\n",
            "[43]\tTrain's rmse: 0.156697\tTest's rmse: 0.378627\n",
            "Training until validation scores don't improve for 50 rounds.\n"
          ]
        },
        {
          "output_type": "stream",
          "name": "stderr",
          "text": [
            "\u001b[32m[I 2021-12-14 11:02:48,384]\u001b[0m Trial 5 finished with value: 0.39024057899691666 and parameters: {'feature_fraction': 0.6}. Best is trial 1 with value: 0.3616610314432225.\u001b[0m\n"
          ]
        },
        {
          "output_type": "stream",
          "name": "stdout",
          "text": [
            "Did not meet early stopping. Best iteration is:\n",
            "[100]\tTrain's rmse: 0.118338\tTest's rmse: 0.390241\n",
            "Training until validation scores don't improve for 50 rounds.\n"
          ]
        },
        {
          "output_type": "stream",
          "name": "stderr",
          "text": [
            "\u001b[32m[I 2021-12-14 11:02:48,786]\u001b[0m Trial 6 finished with value: 0.4079148478437691 and parameters: {'feature_fraction': 0.5}. Best is trial 1 with value: 0.3616610314432225.\u001b[0m\n"
          ]
        },
        {
          "output_type": "stream",
          "name": "stdout",
          "text": [
            "Did not meet early stopping. Best iteration is:\n",
            "[100]\tTrain's rmse: 0.124112\tTest's rmse: 0.407915\n",
            "Training until validation scores don't improve for 50 rounds.\n"
          ]
        },
        {
          "output_type": "stream",
          "name": "stderr",
          "text": [
            "\u001b[32m[I 2021-12-14 11:02:49,107]\u001b[0m Trial 7 finished with value: 0.3621460945492203 and parameters: {'num_leaves': 15}. Best is trial 7 with value: 0.3621460945492203.\u001b[0m\n"
          ]
        },
        {
          "output_type": "stream",
          "name": "stdout",
          "text": [
            "Early stopping, best iteration is:\n",
            "[32]\tTrain's rmse: 0.161209\tTest's rmse: 0.362146\n",
            "Training until validation scores don't improve for 50 rounds.\n"
          ]
        },
        {
          "output_type": "stream",
          "name": "stderr",
          "text": [
            "\u001b[32m[I 2021-12-14 11:02:50,296]\u001b[0m Trial 8 finished with value: 0.35810173509199505 and parameters: {'num_leaves': 158}. Best is trial 8 with value: 0.35810173509199505.\u001b[0m\n"
          ]
        },
        {
          "output_type": "stream",
          "name": "stdout",
          "text": [
            "Early stopping, best iteration is:\n",
            "[34]\tTrain's rmse: 0.158495\tTest's rmse: 0.358102\n",
            "Training until validation scores don't improve for 50 rounds.\n"
          ]
        },
        {
          "output_type": "stream",
          "name": "stderr",
          "text": [
            "\u001b[32m[I 2021-12-14 11:02:51,824]\u001b[0m Trial 9 finished with value: 0.358101949623936 and parameters: {'num_leaves': 228}. Best is trial 8 with value: 0.35810173509199505.\u001b[0m\n"
          ]
        },
        {
          "output_type": "stream",
          "name": "stdout",
          "text": [
            "Early stopping, best iteration is:\n",
            "[34]\tTrain's rmse: 0.158493\tTest's rmse: 0.358102\n",
            "Training until validation scores don't improve for 50 rounds.\n"
          ]
        },
        {
          "output_type": "stream",
          "name": "stderr",
          "text": [
            "\u001b[32m[I 2021-12-14 11:02:53,190]\u001b[0m Trial 10 finished with value: 0.35810184653732186 and parameters: {'num_leaves': 197}. Best is trial 8 with value: 0.35810173509199505.\u001b[0m\n"
          ]
        },
        {
          "output_type": "stream",
          "name": "stdout",
          "text": [
            "Early stopping, best iteration is:\n",
            "[34]\tTrain's rmse: 0.158493\tTest's rmse: 0.358102\n",
            "Training until validation scores don't improve for 50 rounds.\n"
          ]
        },
        {
          "output_type": "stream",
          "name": "stderr",
          "text": [
            "\u001b[32m[I 2021-12-14 11:02:53,996]\u001b[0m Trial 11 finished with value: 0.3584898866476675 and parameters: {'num_leaves': 80}. Best is trial 8 with value: 0.35810173509199505.\u001b[0m\n"
          ]
        },
        {
          "output_type": "stream",
          "name": "stdout",
          "text": [
            "Early stopping, best iteration is:\n",
            "[34]\tTrain's rmse: 0.158676\tTest's rmse: 0.35849\n",
            "Training until validation scores don't improve for 50 rounds.\n"
          ]
        },
        {
          "output_type": "stream",
          "name": "stderr",
          "text": [
            "\u001b[32m[I 2021-12-14 11:02:54,280]\u001b[0m Trial 12 finished with value: 0.35489006136081336 and parameters: {'num_leaves': 11}. Best is trial 12 with value: 0.35489006136081336.\u001b[0m\n"
          ]
        },
        {
          "output_type": "stream",
          "name": "stdout",
          "text": [
            "Early stopping, best iteration is:\n",
            "[38]\tTrain's rmse: 0.153231\tTest's rmse: 0.35489\n",
            "Training until validation scores don't improve for 50 rounds.\n"
          ]
        },
        {
          "output_type": "stream",
          "name": "stderr",
          "text": [
            "\u001b[32m[I 2021-12-14 11:02:54,532]\u001b[0m Trial 13 finished with value: 0.3458879680613858 and parameters: {'num_leaves': 8}. Best is trial 13 with value: 0.3458879680613858.\u001b[0m\n"
          ]
        },
        {
          "output_type": "stream",
          "name": "stdout",
          "text": [
            "Early stopping, best iteration is:\n",
            "[38]\tTrain's rmse: 0.155992\tTest's rmse: 0.345888\n",
            "Training until validation scores don't improve for 50 rounds.\n"
          ]
        },
        {
          "output_type": "stream",
          "name": "stderr",
          "text": [
            "\u001b[32m[I 2021-12-14 11:02:54,767]\u001b[0m Trial 14 finished with value: 0.35106578615243067 and parameters: {'num_leaves': 7}. Best is trial 13 with value: 0.3458879680613858.\u001b[0m\n"
          ]
        },
        {
          "output_type": "stream",
          "name": "stdout",
          "text": [
            "Early stopping, best iteration is:\n",
            "[36]\tTrain's rmse: 0.159811\tTest's rmse: 0.351066\n",
            "Training until validation scores don't improve for 50 rounds.\n"
          ]
        },
        {
          "output_type": "stream",
          "name": "stderr",
          "text": [
            "\u001b[32m[I 2021-12-14 11:02:56,427]\u001b[0m Trial 15 finished with value: 0.35810191370706407 and parameters: {'num_leaves': 254}. Best is trial 13 with value: 0.3458879680613858.\u001b[0m\n"
          ]
        },
        {
          "output_type": "stream",
          "name": "stdout",
          "text": [
            "Early stopping, best iteration is:\n",
            "[34]\tTrain's rmse: 0.158493\tTest's rmse: 0.358102\n",
            "Training until validation scores don't improve for 50 rounds.\n"
          ]
        },
        {
          "output_type": "stream",
          "name": "stderr",
          "text": [
            "\u001b[32m[I 2021-12-14 11:02:57,258]\u001b[0m Trial 16 finished with value: 0.35809745452846126 and parameters: {'num_leaves': 86}. Best is trial 13 with value: 0.3458879680613858.\u001b[0m\n"
          ]
        },
        {
          "output_type": "stream",
          "name": "stdout",
          "text": [
            "Early stopping, best iteration is:\n",
            "[34]\tTrain's rmse: 0.15851\tTest's rmse: 0.358097\n",
            "Training until validation scores don't improve for 50 rounds.\n"
          ]
        },
        {
          "output_type": "stream",
          "name": "stderr",
          "text": [
            "\u001b[32m[I 2021-12-14 11:02:57,958]\u001b[0m Trial 17 finished with value: 0.3581000825429911 and parameters: {'num_leaves': 67}. Best is trial 13 with value: 0.3458879680613858.\u001b[0m\n"
          ]
        },
        {
          "output_type": "stream",
          "name": "stdout",
          "text": [
            "Early stopping, best iteration is:\n",
            "[34]\tTrain's rmse: 0.158498\tTest's rmse: 0.3581\n",
            "Training until validation scores don't improve for 50 rounds.\n"
          ]
        },
        {
          "output_type": "stream",
          "name": "stderr",
          "text": [
            "\u001b[32m[I 2021-12-14 11:02:58,155]\u001b[0m Trial 18 finished with value: 0.33969959921001297 and parameters: {'num_leaves': 4}. Best is trial 18 with value: 0.33969959921001297.\u001b[0m\n"
          ]
        },
        {
          "output_type": "stream",
          "name": "stdout",
          "text": [
            "Early stopping, best iteration is:\n",
            "[44]\tTrain's rmse: 0.171045\tTest's rmse: 0.3397\n",
            "Training until validation scores don't improve for 50 rounds.\n"
          ]
        },
        {
          "output_type": "stream",
          "name": "stderr",
          "text": [
            "\u001b[32m[I 2021-12-14 11:02:58,726]\u001b[0m Trial 19 finished with value: 0.35468036538324604 and parameters: {'num_leaves': 45}. Best is trial 18 with value: 0.33969959921001297.\u001b[0m\n"
          ]
        },
        {
          "output_type": "stream",
          "name": "stdout",
          "text": [
            "Early stopping, best iteration is:\n",
            "[35]\tTrain's rmse: 0.156291\tTest's rmse: 0.35468\n",
            "Training until validation scores don't improve for 50 rounds.\n"
          ]
        },
        {
          "output_type": "stream",
          "name": "stderr",
          "text": [
            "\u001b[32m[I 2021-12-14 11:02:59,763]\u001b[0m Trial 20 finished with value: 0.35810185356036145 and parameters: {'num_leaves': 124}. Best is trial 18 with value: 0.33969959921001297.\u001b[0m\n"
          ]
        },
        {
          "output_type": "stream",
          "name": "stdout",
          "text": [
            "Early stopping, best iteration is:\n",
            "[34]\tTrain's rmse: 0.1585\tTest's rmse: 0.358102\n",
            "Training until validation scores don't improve for 50 rounds.\n"
          ]
        },
        {
          "output_type": "stream",
          "name": "stderr",
          "text": [
            "\u001b[32m[I 2021-12-14 11:03:00,888]\u001b[0m Trial 21 finished with value: 0.35849633237021794 and parameters: {'num_leaves': 141}. Best is trial 18 with value: 0.33969959921001297.\u001b[0m\n"
          ]
        },
        {
          "output_type": "stream",
          "name": "stdout",
          "text": [
            "Early stopping, best iteration is:\n",
            "[34]\tTrain's rmse: 0.15867\tTest's rmse: 0.358496\n",
            "Training until validation scores don't improve for 50 rounds.\n"
          ]
        },
        {
          "output_type": "stream",
          "name": "stderr",
          "text": [
            "\u001b[32m[I 2021-12-14 11:03:01,498]\u001b[0m Trial 22 finished with value: 0.35847105675979174 and parameters: {'num_leaves': 50}. Best is trial 18 with value: 0.33969959921001297.\u001b[0m\n"
          ]
        },
        {
          "output_type": "stream",
          "name": "stdout",
          "text": [
            "Early stopping, best iteration is:\n",
            "[34]\tTrain's rmse: 0.158699\tTest's rmse: 0.358471\n",
            "Training until validation scores don't improve for 50 rounds.\n"
          ]
        },
        {
          "output_type": "stream",
          "name": "stderr",
          "text": [
            "\u001b[32m[I 2021-12-14 11:03:02,407]\u001b[0m Trial 23 finished with value: 0.35809911921385346 and parameters: {'num_leaves': 98}. Best is trial 18 with value: 0.33969959921001297.\u001b[0m\n"
          ]
        },
        {
          "output_type": "stream",
          "name": "stdout",
          "text": [
            "Early stopping, best iteration is:\n",
            "[34]\tTrain's rmse: 0.158498\tTest's rmse: 0.358099\n",
            "Training until validation scores don't improve for 50 rounds.\n"
          ]
        },
        {
          "output_type": "stream",
          "name": "stderr",
          "text": [
            "\u001b[32m[I 2021-12-14 11:03:02,944]\u001b[0m Trial 24 finished with value: 0.359270361425411 and parameters: {'num_leaves': 42}. Best is trial 18 with value: 0.33969959921001297.\u001b[0m\n"
          ]
        },
        {
          "output_type": "stream",
          "name": "stdout",
          "text": [
            "Early stopping, best iteration is:\n",
            "[34]\tTrain's rmse: 0.158175\tTest's rmse: 0.35927\n",
            "Training until validation scores don't improve for 50 rounds.\n"
          ]
        },
        {
          "output_type": "stream",
          "name": "stderr",
          "text": [
            "\u001b[32m[I 2021-12-14 11:03:03,396]\u001b[0m Trial 25 finished with value: 0.3606182473727808 and parameters: {'num_leaves': 29}. Best is trial 18 with value: 0.33969959921001297.\u001b[0m\n"
          ]
        },
        {
          "output_type": "stream",
          "name": "stdout",
          "text": [
            "Early stopping, best iteration is:\n",
            "[34]\tTrain's rmse: 0.158677\tTest's rmse: 0.360618\n",
            "Training until validation scores don't improve for 50 rounds.\n"
          ]
        },
        {
          "output_type": "stream",
          "name": "stderr",
          "text": [
            "\u001b[32m[I 2021-12-14 11:03:04,353]\u001b[0m Trial 26 finished with value: 0.35848610621687477 and parameters: {'num_leaves': 111}. Best is trial 18 with value: 0.33969959921001297.\u001b[0m\n"
          ]
        },
        {
          "output_type": "stream",
          "name": "stdout",
          "text": [
            "Early stopping, best iteration is:\n",
            "[34]\tTrain's rmse: 0.158688\tTest's rmse: 0.358486\n",
            "Training until validation scores don't improve for 50 rounds.\n"
          ]
        },
        {
          "output_type": "stream",
          "name": "stderr",
          "text": [
            "\u001b[32m[I 2021-12-14 11:03:04,592]\u001b[0m Trial 27 finished with value: 0.35035991274926764 and parameters: {'bagging_fraction': 0.9175564445121823, 'bagging_freq': 2}. Best is trial 27 with value: 0.35035991274926764.\u001b[0m\n"
          ]
        },
        {
          "output_type": "stream",
          "name": "stdout",
          "text": [
            "Did not meet early stopping. Best iteration is:\n",
            "[100]\tTrain's rmse: 0.152585\tTest's rmse: 0.35036\n",
            "Training until validation scores don't improve for 50 rounds.\n"
          ]
        },
        {
          "output_type": "stream",
          "name": "stderr",
          "text": [
            "\u001b[32m[I 2021-12-14 11:03:04,797]\u001b[0m Trial 28 finished with value: 0.3263701873042438 and parameters: {'bagging_fraction': 0.5453608968859275, 'bagging_freq': 7}. Best is trial 28 with value: 0.3263701873042438.\u001b[0m\n"
          ]
        },
        {
          "output_type": "stream",
          "name": "stdout",
          "text": [
            "Did not meet early stopping. Best iteration is:\n",
            "[84]\tTrain's rmse: 0.176852\tTest's rmse: 0.32637\n",
            "Training until validation scores don't improve for 50 rounds.\n"
          ]
        },
        {
          "output_type": "stream",
          "name": "stderr",
          "text": [
            "\u001b[32m[I 2021-12-14 11:03:05,011]\u001b[0m Trial 29 finished with value: 0.3468986000957785 and parameters: {'bagging_fraction': 0.7109966065633015, 'bagging_freq': 6}. Best is trial 28 with value: 0.3263701873042438.\u001b[0m\n",
            "\u001b[32m[I 2021-12-14 11:03:05,206]\u001b[0m Trial 30 finished with value: 0.3282669590622494 and parameters: {'bagging_fraction': 0.7018861246825039, 'bagging_freq': 7}. Best is trial 28 with value: 0.3263701873042438.\u001b[0m\n"
          ]
        },
        {
          "output_type": "stream",
          "name": "stdout",
          "text": [
            "Did not meet early stopping. Best iteration is:\n",
            "[100]\tTrain's rmse: 0.164817\tTest's rmse: 0.346899\n",
            "Training until validation scores don't improve for 50 rounds.\n",
            "Early stopping, best iteration is:\n",
            "[35]\tTrain's rmse: 0.190685\tTest's rmse: 0.328267\n"
          ]
        },
        {
          "output_type": "stream",
          "name": "stderr",
          "text": [
            "\u001b[32m[I 2021-12-14 11:03:05,418]\u001b[0m Trial 31 finished with value: 0.3367580063748093 and parameters: {'bagging_fraction': 0.7706088116415851, 'bagging_freq': 5}. Best is trial 28 with value: 0.3263701873042438.\u001b[0m\n"
          ]
        },
        {
          "output_type": "stream",
          "name": "stdout",
          "text": [
            "Training until validation scores don't improve for 50 rounds.\n",
            "Did not meet early stopping. Best iteration is:\n",
            "[100]\tTrain's rmse: 0.155609\tTest's rmse: 0.336758\n"
          ]
        },
        {
          "output_type": "stream",
          "name": "stderr",
          "text": [
            "\u001b[32m[I 2021-12-14 11:03:05,640]\u001b[0m Trial 32 finished with value: 0.3406918378627573 and parameters: {'bagging_fraction': 0.7962319584696891, 'bagging_freq': 6}. Best is trial 28 with value: 0.3263701873042438.\u001b[0m\n"
          ]
        },
        {
          "output_type": "stream",
          "name": "stdout",
          "text": [
            "Training until validation scores don't improve for 50 rounds.\n",
            "Did not meet early stopping. Best iteration is:\n",
            "[100]\tTrain's rmse: 0.161073\tTest's rmse: 0.340692\n"
          ]
        },
        {
          "output_type": "stream",
          "name": "stderr",
          "text": [
            "\u001b[32m[I 2021-12-14 11:03:05,830]\u001b[0m Trial 33 finished with value: 0.32937313934030227 and parameters: {'bagging_fraction': 0.567106880583063, 'bagging_freq': 5}. Best is trial 28 with value: 0.3263701873042438.\u001b[0m\n"
          ]
        },
        {
          "output_type": "stream",
          "name": "stdout",
          "text": [
            "Training until validation scores don't improve for 50 rounds.\n",
            "Early stopping, best iteration is:\n",
            "[40]\tTrain's rmse: 0.189089\tTest's rmse: 0.329373\n",
            "Training until validation scores don't improve for 50 rounds.\n"
          ]
        },
        {
          "output_type": "stream",
          "name": "stderr",
          "text": [
            "\u001b[32m[I 2021-12-14 11:03:06,044]\u001b[0m Trial 34 finished with value: 0.3441258013712974 and parameters: {'bagging_fraction': 0.6487862892611885, 'bagging_freq': 5}. Best is trial 28 with value: 0.3263701873042438.\u001b[0m\n"
          ]
        },
        {
          "output_type": "stream",
          "name": "stdout",
          "text": [
            "Did not meet early stopping. Best iteration is:\n",
            "[100]\tTrain's rmse: 0.169615\tTest's rmse: 0.344126\n",
            "Training until validation scores don't improve for 50 rounds.\n"
          ]
        },
        {
          "output_type": "stream",
          "name": "stderr",
          "text": [
            "\u001b[32m[I 2021-12-14 11:03:06,252]\u001b[0m Trial 35 finished with value: 0.3284654949332423 and parameters: {'bagging_fraction': 0.6008127738400256, 'bagging_freq': 3}. Best is trial 28 with value: 0.3263701873042438.\u001b[0m\n"
          ]
        },
        {
          "output_type": "stream",
          "name": "stdout",
          "text": [
            "Early stopping, best iteration is:\n",
            "[44]\tTrain's rmse: 0.183436\tTest's rmse: 0.328465\n",
            "Training until validation scores don't improve for 50 rounds.\n"
          ]
        },
        {
          "output_type": "stream",
          "name": "stderr",
          "text": [
            "\u001b[32m[I 2021-12-14 11:03:06,466]\u001b[0m Trial 36 finished with value: 0.34139665793280477 and parameters: {'bagging_fraction': 0.5642353221135767, 'bagging_freq': 2}. Best is trial 28 with value: 0.3263701873042438.\u001b[0m\n"
          ]
        },
        {
          "output_type": "stream",
          "name": "stdout",
          "text": [
            "Did not meet early stopping. Best iteration is:\n",
            "[100]\tTrain's rmse: 0.164726\tTest's rmse: 0.341397\n",
            "Training until validation scores don't improve for 50 rounds.\n"
          ]
        },
        {
          "output_type": "stream",
          "name": "stderr",
          "text": [
            "\u001b[32m[I 2021-12-14 11:03:06,676]\u001b[0m Trial 37 finished with value: 0.3185772605039488 and parameters: {'feature_fraction': 0.9520000000000001}. Best is trial 37 with value: 0.3185772605039488.\u001b[0m\n"
          ]
        },
        {
          "output_type": "stream",
          "name": "stdout",
          "text": [
            "Did not meet early stopping. Best iteration is:\n",
            "[84]\tTrain's rmse: 0.174604\tTest's rmse: 0.318577\n",
            "Training until validation scores don't improve for 50 rounds.\n",
            "Did not meet early stopping. Best iteration is:\n",
            "[84]\tTrain's rmse: 0.174604\tTest's rmse: 0.318577\n"
          ]
        },
        {
          "output_type": "stream",
          "name": "stderr",
          "text": [
            "\u001b[32m[I 2021-12-14 11:03:06,872]\u001b[0m Trial 38 finished with value: 0.3185772605039488 and parameters: {'feature_fraction': 0.9840000000000001}. Best is trial 37 with value: 0.3185772605039488.\u001b[0m\n",
            "\u001b[32m[I 2021-12-14 11:03:07,073]\u001b[0m Trial 39 finished with value: 0.3174244178679498 and parameters: {'feature_fraction': 0.92}. Best is trial 39 with value: 0.3174244178679498.\u001b[0m\n"
          ]
        },
        {
          "output_type": "stream",
          "name": "stdout",
          "text": [
            "Training until validation scores don't improve for 50 rounds.\n",
            "Did not meet early stopping. Best iteration is:\n",
            "[84]\tTrain's rmse: 0.174627\tTest's rmse: 0.317424\n"
          ]
        },
        {
          "output_type": "stream",
          "name": "stderr",
          "text": [
            "\u001b[32m[I 2021-12-14 11:03:07,291]\u001b[0m Trial 40 finished with value: 0.32134878998816574 and parameters: {'lambda_l1': 8.59307809353407, 'lambda_l2': 3.098794901977854e-06}. Best is trial 40 with value: 0.32134878998816574.\u001b[0m\n"
          ]
        },
        {
          "output_type": "stream",
          "name": "stdout",
          "text": [
            "Training until validation scores don't improve for 50 rounds.\n",
            "Did not meet early stopping. Best iteration is:\n",
            "[93]\tTrain's rmse: 0.184858\tTest's rmse: 0.321349\n"
          ]
        },
        {
          "output_type": "stream",
          "name": "stderr",
          "text": [
            "\u001b[32m[I 2021-12-14 11:03:07,491]\u001b[0m Trial 41 finished with value: 0.31742123884391743 and parameters: {'lambda_l1': 0.0006457201810366651, 'lambda_l2': 0.01855777607120058}. Best is trial 41 with value: 0.31742123884391743.\u001b[0m\n"
          ]
        },
        {
          "output_type": "stream",
          "name": "stdout",
          "text": [
            "Training until validation scores don't improve for 50 rounds.\n",
            "Did not meet early stopping. Best iteration is:\n",
            "[84]\tTrain's rmse: 0.174638\tTest's rmse: 0.317421\n",
            "Training until validation scores don't improve for 50 rounds.\n"
          ]
        },
        {
          "output_type": "stream",
          "name": "stderr",
          "text": [
            "\u001b[32m[I 2021-12-14 11:03:07,691]\u001b[0m Trial 42 finished with value: 0.3144668450881832 and parameters: {'lambda_l1': 1.7849838318770808, 'lambda_l2': 2.707076882693587e-07}. Best is trial 42 with value: 0.3144668450881832.\u001b[0m\n"
          ]
        },
        {
          "output_type": "stream",
          "name": "stdout",
          "text": [
            "Did not meet early stopping. Best iteration is:\n",
            "[86]\tTrain's rmse: 0.177459\tTest's rmse: 0.314467\n",
            "Training until validation scores don't improve for 50 rounds.\n",
            "Did not meet early stopping. Best iteration is:\n",
            "[84]\tTrain's rmse: 0.174627\tTest's rmse: 0.317424\n"
          ]
        },
        {
          "output_type": "stream",
          "name": "stderr",
          "text": [
            "\u001b[32m[I 2021-12-14 11:03:07,890]\u001b[0m Trial 43 finished with value: 0.3174244194641567 and parameters: {'lambda_l1': 3.507853137793396e-05, 'lambda_l2': 3.6175881604899697e-06}. Best is trial 42 with value: 0.3144668450881832.\u001b[0m\n",
            "\u001b[32m[I 2021-12-14 11:03:08,106]\u001b[0m Trial 44 finished with value: 0.31741676194446894 and parameters: {'lambda_l1': 0.0028159913663462085, 'lambda_l2': 0.004789187484455795}. Best is trial 42 with value: 0.3144668450881832.\u001b[0m\n"
          ]
        },
        {
          "output_type": "stream",
          "name": "stdout",
          "text": [
            "Training until validation scores don't improve for 50 rounds.\n",
            "Did not meet early stopping. Best iteration is:\n",
            "[84]\tTrain's rmse: 0.174632\tTest's rmse: 0.317417\n"
          ]
        },
        {
          "output_type": "stream",
          "name": "stderr",
          "text": [
            "\u001b[32m[I 2021-12-14 11:03:08,313]\u001b[0m Trial 45 finished with value: 0.3164644959955859 and parameters: {'lambda_l1': 0.5968686279145695, 'lambda_l2': 0.00012001618872726447}. Best is trial 42 with value: 0.3144668450881832.\u001b[0m\n"
          ]
        },
        {
          "output_type": "stream",
          "name": "stdout",
          "text": [
            "Training until validation scores don't improve for 50 rounds.\n",
            "Did not meet early stopping. Best iteration is:\n",
            "[85]\tTrain's rmse: 0.175996\tTest's rmse: 0.316464\n"
          ]
        },
        {
          "output_type": "stream",
          "name": "stderr",
          "text": [
            "\u001b[32m[I 2021-12-14 11:03:08,523]\u001b[0m Trial 46 finished with value: 0.31743291373003835 and parameters: {'lambda_l1': 1.0195264648216868e-06, 'lambda_l2': 0.06413620866962559}. Best is trial 42 with value: 0.3144668450881832.\u001b[0m\n"
          ]
        },
        {
          "output_type": "stream",
          "name": "stdout",
          "text": [
            "Training until validation scores don't improve for 50 rounds.\n",
            "Did not meet early stopping. Best iteration is:\n",
            "[84]\tTrain's rmse: 0.174672\tTest's rmse: 0.317433\n"
          ]
        },
        {
          "output_type": "stream",
          "name": "stderr",
          "text": [
            "\u001b[32m[I 2021-12-14 11:03:08,734]\u001b[0m Trial 47 finished with value: 0.32095425874789046 and parameters: {'lambda_l1': 0.0005712142605686836, 'lambda_l2': 8.724799653496925}. Best is trial 42 with value: 0.3144668450881832.\u001b[0m\n"
          ]
        },
        {
          "output_type": "stream",
          "name": "stdout",
          "text": [
            "Training until validation scores don't improve for 50 rounds.\n",
            "Did not meet early stopping. Best iteration is:\n",
            "[84]\tTrain's rmse: 0.181984\tTest's rmse: 0.320954\n"
          ]
        },
        {
          "output_type": "stream",
          "name": "stderr",
          "text": [
            "\u001b[32m[I 2021-12-14 11:03:08,945]\u001b[0m Trial 48 finished with value: 0.31742442941049914 and parameters: {'lambda_l1': 9.08264096761827e-06, 'lambda_l2': 3.54306744566971e-05}. Best is trial 42 with value: 0.3144668450881832.\u001b[0m\n"
          ]
        },
        {
          "output_type": "stream",
          "name": "stdout",
          "text": [
            "Training until validation scores don't improve for 50 rounds.\n",
            "Did not meet early stopping. Best iteration is:\n",
            "[84]\tTrain's rmse: 0.174627\tTest's rmse: 0.317424\n"
          ]
        },
        {
          "output_type": "stream",
          "name": "stderr",
          "text": [
            "\u001b[32m[I 2021-12-14 11:03:09,146]\u001b[0m Trial 49 finished with value: 0.31743241818056933 and parameters: {'lambda_l1': 0.019348668161302072, 'lambda_l2': 4.283786772344364e-08}. Best is trial 42 with value: 0.3144668450881832.\u001b[0m\n"
          ]
        },
        {
          "output_type": "stream",
          "name": "stdout",
          "text": [
            "Training until validation scores don't improve for 50 rounds.\n",
            "Did not meet early stopping. Best iteration is:\n",
            "[84]\tTrain's rmse: 0.17466\tTest's rmse: 0.317432\n"
          ]
        },
        {
          "output_type": "stream",
          "name": "stderr",
          "text": [
            "\u001b[32m[I 2021-12-14 11:03:09,372]\u001b[0m Trial 50 finished with value: 0.31742441786113007 and parameters: {'lambda_l1': 5.8967205668628125e-08, 'lambda_l2': 2.552722031835817e-08}. Best is trial 42 with value: 0.3144668450881832.\u001b[0m\n"
          ]
        },
        {
          "output_type": "stream",
          "name": "stdout",
          "text": [
            "Training until validation scores don't improve for 50 rounds.\n",
            "Did not meet early stopping. Best iteration is:\n",
            "[84]\tTrain's rmse: 0.174627\tTest's rmse: 0.317424\n"
          ]
        },
        {
          "output_type": "stream",
          "name": "stderr",
          "text": [
            "\u001b[32m[I 2021-12-14 11:03:09,581]\u001b[0m Trial 51 finished with value: 0.31445742600211585 and parameters: {'lambda_l1': 1.8687039687618967, 'lambda_l2': 0.00011020922875474377}. Best is trial 51 with value: 0.31445742600211585.\u001b[0m\n"
          ]
        },
        {
          "output_type": "stream",
          "name": "stdout",
          "text": [
            "Training until validation scores don't improve for 50 rounds.\n",
            "Did not meet early stopping. Best iteration is:\n",
            "[86]\tTrain's rmse: 0.177572\tTest's rmse: 0.314457\n"
          ]
        },
        {
          "output_type": "stream",
          "name": "stderr",
          "text": [
            "\u001b[32m[I 2021-12-14 11:03:09,787]\u001b[0m Trial 52 finished with value: 0.31546654138650376 and parameters: {'lambda_l1': 0.1988996185545145, 'lambda_l2': 2.437998938691433e-06}. Best is trial 51 with value: 0.31445742600211585.\u001b[0m\n"
          ]
        },
        {
          "output_type": "stream",
          "name": "stdout",
          "text": [
            "Training until validation scores don't improve for 50 rounds.\n",
            "Did not meet early stopping. Best iteration is:\n",
            "[87]\tTrain's rmse: 0.174599\tTest's rmse: 0.315467\n"
          ]
        },
        {
          "output_type": "stream",
          "name": "stderr",
          "text": [
            "\u001b[32m[I 2021-12-14 11:03:09,997]\u001b[0m Trial 53 finished with value: 0.32219854439070345 and parameters: {'lambda_l1': 9.228077019353305, 'lambda_l2': 2.525689457895361e-07}. Best is trial 51 with value: 0.31445742600211585.\u001b[0m\n"
          ]
        },
        {
          "output_type": "stream",
          "name": "stdout",
          "text": [
            "Training until validation scores don't improve for 50 rounds.\n",
            "Did not meet early stopping. Best iteration is:\n",
            "[93]\tTrain's rmse: 0.183654\tTest's rmse: 0.322199\n"
          ]
        },
        {
          "output_type": "stream",
          "name": "stderr",
          "text": [
            "\u001b[32m[I 2021-12-14 11:03:10,209]\u001b[0m Trial 54 finished with value: 0.3155648904332181 and parameters: {'lambda_l1': 0.1576171372036404, 'lambda_l2': 0.0015100388177403579}. Best is trial 51 with value: 0.31445742600211585.\u001b[0m\n"
          ]
        },
        {
          "output_type": "stream",
          "name": "stdout",
          "text": [
            "Training until validation scores don't improve for 50 rounds.\n",
            "Did not meet early stopping. Best iteration is:\n",
            "[86]\tTrain's rmse: 0.17453\tTest's rmse: 0.315565\n"
          ]
        },
        {
          "output_type": "stream",
          "name": "stderr",
          "text": [
            "\u001b[32m[I 2021-12-14 11:03:10,429]\u001b[0m Trial 55 finished with value: 0.31809938288283657 and parameters: {'lambda_l1': 0.025531534330398245, 'lambda_l2': 0.48130581564222596}. Best is trial 51 with value: 0.31445742600211585.\u001b[0m\n"
          ]
        },
        {
          "output_type": "stream",
          "name": "stdout",
          "text": [
            "Training until validation scores don't improve for 50 rounds.\n",
            "Did not meet early stopping. Best iteration is:\n",
            "[84]\tTrain's rmse: 0.175862\tTest's rmse: 0.318099\n"
          ]
        },
        {
          "output_type": "stream",
          "name": "stderr",
          "text": [
            "\u001b[32m[I 2021-12-14 11:03:10,635]\u001b[0m Trial 56 finished with value: 0.3164681087111503 and parameters: {'lambda_l1': 1.1246293842254114, 'lambda_l2': 3.866647353132115e-05}. Best is trial 51 with value: 0.31445742600211585.\u001b[0m\n"
          ]
        },
        {
          "output_type": "stream",
          "name": "stdout",
          "text": [
            "Training until validation scores don't improve for 50 rounds.\n",
            "Did not meet early stopping. Best iteration is:\n",
            "[84]\tTrain's rmse: 0.175721\tTest's rmse: 0.316468\n"
          ]
        },
        {
          "output_type": "stream",
          "name": "stderr",
          "text": [
            "\u001b[32m[I 2021-12-14 11:03:10,846]\u001b[0m Trial 57 finished with value: 0.3174324098478516 and parameters: {'lambda_l1': 0.018609055176647675, 'lambda_l2': 3.8439362797554933e-07}. Best is trial 51 with value: 0.31445742600211585.\u001b[0m\n"
          ]
        },
        {
          "output_type": "stream",
          "name": "stdout",
          "text": [
            "Training until validation scores don't improve for 50 rounds.\n",
            "Did not meet early stopping. Best iteration is:\n",
            "[84]\tTrain's rmse: 0.174659\tTest's rmse: 0.317432\n"
          ]
        },
        {
          "output_type": "stream",
          "name": "stderr",
          "text": [
            "\u001b[32m[I 2021-12-14 11:03:11,055]\u001b[0m Trial 58 finished with value: 0.31582594753378657 and parameters: {'lambda_l1': 2.125181400210804, 'lambda_l2': 0.0008207638159020803}. Best is trial 51 with value: 0.31445742600211585.\u001b[0m\n"
          ]
        },
        {
          "output_type": "stream",
          "name": "stdout",
          "text": [
            "Training until validation scores don't improve for 50 rounds.\n",
            "Did not meet early stopping. Best iteration is:\n",
            "[86]\tTrain's rmse: 0.178486\tTest's rmse: 0.315826\n"
          ]
        },
        {
          "output_type": "stream",
          "name": "stderr",
          "text": [
            "\u001b[32m[I 2021-12-14 11:03:11,275]\u001b[0m Trial 59 finished with value: 0.31742442350530886 and parameters: {'lambda_l1': 1.609905833362855e-08, 'lambda_l2': 1.776152363154733e-05}. Best is trial 51 with value: 0.31445742600211585.\u001b[0m\n"
          ]
        },
        {
          "output_type": "stream",
          "name": "stdout",
          "text": [
            "Training until validation scores don't improve for 50 rounds.\n",
            "Did not meet early stopping. Best iteration is:\n",
            "[84]\tTrain's rmse: 0.174627\tTest's rmse: 0.317424\n"
          ]
        },
        {
          "output_type": "stream",
          "name": "stderr",
          "text": [
            "\u001b[32m[I 2021-12-14 11:03:11,493]\u001b[0m Trial 60 finished with value: 0.42266277310322614 and parameters: {'min_child_samples': 50}. Best is trial 60 with value: 0.42266277310322614.\u001b[0m\n"
          ]
        },
        {
          "output_type": "stream",
          "name": "stdout",
          "text": [
            "Training until validation scores don't improve for 50 rounds.\n",
            "Did not meet early stopping. Best iteration is:\n",
            "[84]\tTrain's rmse: 0.221442\tTest's rmse: 0.422663\n"
          ]
        },
        {
          "output_type": "stream",
          "name": "stderr",
          "text": [
            "\u001b[32m[I 2021-12-14 11:03:11,684]\u001b[0m Trial 61 finished with value: 0.35533299498687626 and parameters: {'min_child_samples': 5}. Best is trial 61 with value: 0.35533299498687626.\u001b[0m\n"
          ]
        },
        {
          "output_type": "stream",
          "name": "stdout",
          "text": [
            "Training until validation scores don't improve for 50 rounds.\n",
            "Did not meet early stopping. Best iteration is:\n",
            "[98]\tTrain's rmse: 0.112251\tTest's rmse: 0.355333\n",
            "Training until validation scores don't improve for 50 rounds.\n"
          ]
        },
        {
          "output_type": "stream",
          "name": "stderr",
          "text": [
            "\u001b[32m[I 2021-12-14 11:03:11,890]\u001b[0m Trial 62 finished with value: 0.5220687689847513 and parameters: {'min_child_samples': 100}. Best is trial 61 with value: 0.35533299498687626.\u001b[0m\n"
          ]
        },
        {
          "output_type": "stream",
          "name": "stdout",
          "text": [
            "Did not meet early stopping. Best iteration is:\n",
            "[85]\tTrain's rmse: 0.279376\tTest's rmse: 0.522069\n",
            "Training until validation scores don't improve for 50 rounds.\n",
            "Did not meet early stopping. Best iteration is:\n",
            "[91]\tTrain's rmse: 0.181946\tTest's rmse: 0.342844\n"
          ]
        },
        {
          "output_type": "stream",
          "name": "stderr",
          "text": [
            "\u001b[32m[I 2021-12-14 11:03:12,094]\u001b[0m Trial 63 finished with value: 0.34284413389131335 and parameters: {'min_child_samples': 25}. Best is trial 63 with value: 0.34284413389131335.\u001b[0m\n",
            "\u001b[32m[I 2021-12-14 11:03:12,288]\u001b[0m Trial 64 finished with value: 0.3299052263832728 and parameters: {'min_child_samples': 10}. Best is trial 64 with value: 0.3299052263832728.\u001b[0m\n"
          ]
        },
        {
          "output_type": "stream",
          "name": "stdout",
          "text": [
            "Training until validation scores don't improve for 50 rounds.\n",
            "Did not meet early stopping. Best iteration is:\n",
            "[87]\tTrain's rmse: 0.139678\tTest's rmse: 0.329905\n"
          ]
        },
        {
          "output_type": "display_data",
          "data": {
            "image/png": "[encoded data removed]",
            "text/plain": [
              "<Figure size 432x288 with 1 Axes>"
            ]
          },
          "metadata": {
            "needs_background": "light"
          }
        },
        {
          "output_type": "stream",
          "name": "stdout",
          "text": [
            "RMSE: [0.3255705321588003, 0.10067613248349422, 0.13926056239176185, 0.01946115135881871, 0.3144574249010471]\n",
            "RMSE: 0.17988516065878443\n"
          ]
        }
      ]
    },
    {
      "cell_type": "markdown",
      "metadata": {
        "id": "XIgv73PfHhsT"
      },
      "source": [
        "## Stacking"
      ]
    },
    {
      "cell_type": "markdown",
      "metadata": {
        "id": "WIOrVm7Wg6wi"
      },
      "source": [
        "### 1層目 各モデルの予測結果を集計"
      ]
    },
    {
      "cell_type": "code",
      "metadata": {
        "id": "2mMq1ngaQ9lX"
      },
      "source": [
        "from sklearn.linear_model import Ridge\n",
        "from sklearn.linear_model import Lasso\n",
        "from sklearn.linear_model import LinearRegression\n",
        "from sklearn.linear_model import ElasticNet\n",
        "from sklearn.svm import SVR\n",
        "from sklearn.ensemble import GradientBoostingRegressor\n",
        "from sklearn.ensemble import RandomForestRegressor\n",
        "import xgboost as xgb\n",
        "from catboost import CatBoostRegressor"
      ],
      "execution_count": null,
      "outputs": []
    },
    {
      "cell_type": "code",
      "metadata": {
        "id": "ojQLFzh6Rex2"
      },
      "source": [
        "models = {\n",
        "    \"ridge\":Ridge(random_state=SEED),\n",
        "    \"lasso\":Lasso(random_state=SEED),\n",
        "    \"linear\":LinearRegression(),\n",
        "    \"elastic_net\":ElasticNet(random_state=SEED),\n",
        "    \"svm\":SVR(),\n",
        "    \"random_forest\":RandomForestRegressor(random_state=SEED),\n",
        "    \"gradient\":GradientBoostingRegressor(random_state=SEED),\n",
        "    \"catboost\":CatBoostRegressor(random_state=SEED, \n",
        "                                 silent=True, # ログを非表示\n",
        "                                 ),\n",
        "    \"xgboost\":xgb.XGBRegressor(\n",
        "        random_state=SEED,\n",
        "        objective='reg:squarederror'\n",
        "        ),\n",
        "    \"lightgbm\":lgb.LGBMRegressor(random_state=SEED),\n",
        "}"
      ],
      "execution_count": null,
      "outputs": []
    },
    {
      "cell_type": "code",
      "metadata": {
        "colab": {
          "base_uri": "https://localhost:8080/"
        },
        "id": "hXfFEXc8YVrP",
        "outputId": "a22b6ab7-fa2f-40dd-a575-8b21eb3ca8dc"
      },
      "source": [
        "gkf = GroupKFold(n_splits=5)\n",
        "groups = X_train_dropna[\"Genre\"]\n",
        "\n",
        "cv_result_stck = {}\n",
        "pred_df = pd.DataFrame()\n",
        "\n",
        "for i, (model_name, model) in enumerate(models.items()):\n",
        "\n",
        "    print(i, model)\n",
        "\n",
        "    each_model_df = pd.DataFrame()\n",
        "    each_model_result = []\n",
        "\n",
        "    for train_index, test_index in gkf.split(X_train_dropna, y_train_dropna, groups):\n",
        "\n",
        "        X_train_gkf, X_test_gkf = X_train_dropna.iloc[train_index], X_train_dropna.iloc[test_index]\n",
        "        y_train_gkf, y_test_gkf = y_train_dropna.iloc[train_index], y_train_dropna.iloc[test_index]\n",
        "\n",
        "        model.fit(X_train_gkf, y_train_gkf)\n",
        "        y_pred = model.predict(X_test_gkf)\n",
        "\n",
        "        tmp_df = pd.DataFrame(\n",
        "                        [y_pred],\n",
        "                        columns=test_index\n",
        "                    )\n",
        "\n",
        "        rmse = mean_squared_error(y_test_gkf, y_pred, squared=False)\n",
        "        each_model_result.append(rmse)\n",
        "        each_model_df = pd.concat([each_model_df , tmp_df.T]) # 各KFold ごとの予測結果をDataFrameに縦に並べる\n",
        "\n",
        "    cv_result_stck[model_name] = each_model_result # 各モデルのRMSEを集計\n",
        "    each_model_df.columns = [model_name] # カラム名をモデル名に変更\n",
        "    pred_df = pd.concat([pred_df, each_model_df.sort_index()], axis=1) # 予測結果集計用DataFrameに各モデルの予測結果をくっつける"
      ],
      "execution_count": null,
      "outputs": [
        {
          "output_type": "stream",
          "name": "stdout",
          "text": [
            "0 Ridge(random_state=42)\n",
            "1 Lasso(random_state=42)\n",
            "2 LinearRegression()\n",
            "3 ElasticNet(random_state=42)\n",
            "4 SVR()\n",
            "5 RandomForestRegressor(random_state=42)\n",
            "6 GradientBoostingRegressor(random_state=42)\n",
            "7 <catboost.core.CatBoostRegressor object at 0x7fb56b67b990>\n",
            "8 XGBRegressor(objective='reg:squarederror', random_state=42)\n",
            "9 LGBMRegressor(random_state=42)\n"
          ]
        }
      ]
    },
    {
      "cell_type": "code",
      "metadata": {
        "colab": {
          "base_uri": "https://localhost:8080/",
          "height": 224
        },
        "id": "MjOfoMvEaHmP",
        "outputId": "9bff863a-6e33-43c3-9140-4b41a95bab49"
      },
      "source": [
        "print(len(pred_df))\n",
        "\n",
        "pred_df.head()"
      ],
      "execution_count": null,
      "outputs": [
        {
          "output_type": "stream",
          "name": "stdout",
          "text": [
            "13294\n"
          ]
        },
        {
          "output_type": "execute_result",
          "data": {
            "text/html": [
              "<div>\n",
              "<style scoped>\n",
              "    .dataframe tbody tr th:only-of-type {\n",
              "        vertical-align: middle;\n",
              "    }\n",
              "\n",
              "    .dataframe tbody tr th {\n",
              "        vertical-align: top;\n",
              "    }\n",
              "\n",
              "    .dataframe thead th {\n",
              "        text-align: right;\n",
              "    }\n",
              "</style>\n",
              "<table border=\"1\" class=\"dataframe\">\n",
              "  <thead>\n",
              "    <tr style=\"text-align: right;\">\n",
              "      <th></th>\n",
              "      <th>ridge</th>\n",
              "      <th>lasso</th>\n",
              "      <th>linear</th>\n",
              "      <th>elastic_net</th>\n",
              "      <th>svm</th>\n",
              "      <th>random_forest</th>\n",
              "      <th>gradient</th>\n",
              "      <th>catboost</th>\n",
              "      <th>xgboost</th>\n",
              "      <th>lightgbm</th>\n",
              "    </tr>\n",
              "  </thead>\n",
              "  <tbody>\n",
              "    <tr>\n",
              "      <th>0</th>\n",
              "      <td>1.234173</td>\n",
              "      <td>0.354651</td>\n",
              "      <td>1.234278</td>\n",
              "      <td>0.354651</td>\n",
              "      <td>1.071052</td>\n",
              "      <td>1.1576</td>\n",
              "      <td>1.164830</td>\n",
              "      <td>1.199401</td>\n",
              "      <td>1.153994</td>\n",
              "      <td>1.161167</td>\n",
              "    </tr>\n",
              "    <tr>\n",
              "      <th>1</th>\n",
              "      <td>1.188873</td>\n",
              "      <td>0.358120</td>\n",
              "      <td>1.188951</td>\n",
              "      <td>0.358120</td>\n",
              "      <td>1.388058</td>\n",
              "      <td>6.3483</td>\n",
              "      <td>6.263937</td>\n",
              "      <td>6.303971</td>\n",
              "      <td>6.239638</td>\n",
              "      <td>6.003582</td>\n",
              "    </tr>\n",
              "    <tr>\n",
              "      <th>2</th>\n",
              "      <td>0.342531</td>\n",
              "      <td>0.387056</td>\n",
              "      <td>0.343087</td>\n",
              "      <td>0.387056</td>\n",
              "      <td>-0.023036</td>\n",
              "      <td>0.1100</td>\n",
              "      <td>0.110108</td>\n",
              "      <td>0.102123</td>\n",
              "      <td>0.112522</td>\n",
              "      <td>0.104825</td>\n",
              "    </tr>\n",
              "    <tr>\n",
              "      <th>3</th>\n",
              "      <td>-0.168588</td>\n",
              "      <td>0.397084</td>\n",
              "      <td>-0.167732</td>\n",
              "      <td>0.397084</td>\n",
              "      <td>0.052644</td>\n",
              "      <td>0.0200</td>\n",
              "      <td>0.020165</td>\n",
              "      <td>0.026559</td>\n",
              "      <td>0.020201</td>\n",
              "      <td>0.020066</td>\n",
              "    </tr>\n",
              "    <tr>\n",
              "      <th>4</th>\n",
              "      <td>-0.119594</td>\n",
              "      <td>0.387056</td>\n",
              "      <td>-0.121638</td>\n",
              "      <td>0.387056</td>\n",
              "      <td>0.058346</td>\n",
              "      <td>0.0100</td>\n",
              "      <td>0.010248</td>\n",
              "      <td>0.013421</td>\n",
              "      <td>0.010376</td>\n",
              "      <td>0.010143</td>\n",
              "    </tr>\n",
              "  </tbody>\n",
              "</table>\n",
              "</div>"
            ],
            "text/plain": [
              "      ridge     lasso    linear  ...  catboost   xgboost  lightgbm\n",
              "0  1.234173  0.354651  1.234278  ...  1.199401  1.153994  1.161167\n",
              "1  1.188873  0.358120  1.188951  ...  6.303971  6.239638  6.003582\n",
              "2  0.342531  0.387056  0.343087  ...  0.102123  0.112522  0.104825\n",
              "3 -0.168588  0.397084 -0.167732  ...  0.026559  0.020201  0.020066\n",
              "4 -0.119594  0.387056 -0.121638  ...  0.013421  0.010376  0.010143\n",
              "\n",
              "[5 rows x 10 columns]"
            ]
          },
          "metadata": {},
          "execution_count": 46
        }
      ]
    },
    {
      "cell_type": "code",
      "metadata": {
        "colab": {
          "base_uri": "https://localhost:8080/"
        },
        "id": "jjnqK86PdbsA",
        "outputId": "16630cc2-e624-473e-ee3c-7b3ced70dca5"
      },
      "source": [
        "# 最も精度のよいモデルの名前を取得\n",
        "best_model_name = \"\"\n",
        "best_rmse = 9999.9999\n",
        "\n",
        "for model_name, rmse in cv_result_stck.items():\n",
        "    print(model_name, np.mean(rmse))\n",
        "    if best_rmse > np.mean(rmse):\n",
        "        best_rmse = np.mean(rmse)\n",
        "        best_model_name = model_name\n",
        "\n",
        "print()\n",
        "print(f\"Best model is {best_model_name}. Score is {best_rmse}\")"
      ],
      "execution_count": null,
      "outputs": [
        {
          "output_type": "stream",
          "name": "stdout",
          "text": [
            "ridge 0.6489204333565309\n",
            "lasso 0.8005537342957698\n",
            "linear 0.6488392612926843\n",
            "elastic_net 0.8005537342957698\n",
            "svm 0.5663063344963282\n",
            "random_forest 0.04818682478759999\n",
            "gradient 0.03310330843501304\n",
            "catboost 0.21740859618848302\n",
            "xgboost 0.03133802749741507\n",
            "lightgbm 0.2028049151839622\n",
            "\n",
            "Best model is xgboost. Score is 0.03133802749741507\n"
          ]
        }
      ]
    },
    {
      "cell_type": "markdown",
      "metadata": {
        "id": "ZDV9G2bLg0NG"
      },
      "source": [
        "### 2階層目 各モデルの予測結果をもとに予測"
      ]
    },
    {
      "cell_type": "markdown",
      "source": [
        "#### 最も良い精度の出たモデルを使う"
      ],
      "metadata": {
        "id": "iUpSjgRe7C_m"
      }
    },
    {
      "cell_type": "code",
      "source": [
        "# 学習・推論\n",
        "gkf = GroupKFold(n_splits=5)\n",
        "\n",
        "groups = pred_df[best_model_name]\n",
        "\n",
        "cv_result_stck_best_model = []\n",
        "\n",
        "for train_index, test_index in gkf.split(pred_df, y_train_dropna, groups):\n",
        "\n",
        "    X_train_gkf, X_test_gkf = pred_df.iloc[train_index], pred_df.iloc[test_index]\n",
        "    y_train_gkf, y_test_gkf = y_train_dropna.iloc[train_index], y_train_dropna.iloc[test_index]\n",
        "\n",
        "    # 学習、推論\n",
        "\n",
        "    best_model = models[best_model_name]\n",
        "\n",
        "    best_model.fit(X_train_gkf, y_train_gkf)\n",
        "  \n",
        "    y_pred = models[best_model_name].predict(X_test_gkf)\n",
        "\n",
        "    rmse = mean_squared_error(y_test_gkf, y_pred, squared=False)\n",
        "    cv_result_stck_best_model.append(rmse)\n",
        "\n",
        "print(\"RMSE:\", cv_result_stck_best_model)\n",
        "print(\"RMSE:\", np.mean(cv_result_stck_best_model))"
      ],
      "metadata": {
        "colab": {
          "base_uri": "https://localhost:8080/"
        },
        "id": "McF-OxeS0qjO",
        "outputId": "faedb816-a588-4ac5-e6b7-9c97257151ef"
      },
      "execution_count": null,
      "outputs": [
        {
          "output_type": "stream",
          "name": "stdout",
          "text": [
            "RMSE: [0.022684878211879107, 0.026195677643439347, 0.030031824905656715, 0.12628271844012434, 0.12488076559025357]\n",
            "RMSE: 0.06601517295827061\n"
          ]
        }
      ]
    },
    {
      "cell_type": "markdown",
      "source": [
        "#### Optuna + LightGBM を使う"
      ],
      "metadata": {
        "id": "4QYAyBJE7HLi"
      }
    },
    {
      "cell_type": "code",
      "metadata": {
        "colab": {
          "base_uri": "https://localhost:8080/",
          "height": 1000
        },
        "id": "Ug6fsAniHhxC",
        "outputId": "d45ffde3-950a-4f59-ed38-1957130aeb63"
      },
      "source": [
        "# 学習・推論\n",
        "gkf = GroupKFold(n_splits=5)\n",
        "\n",
        "params = {\n",
        "          'task': 'train',              # タスクを訓練に設定\n",
        "          'boosting_type': 'gbdt',      # GBDTを指定\n",
        "          'objective': 'regression',    # 回帰を指定\n",
        "          'metric': 'rmse',             # 回帰の損失（誤差）\n",
        "          'learning_rate': 0.1,         # 学習率\n",
        "          'deterministic':True,         # 再現性確保用のパラメータ\n",
        "          'force_row_wise':True,        # 再現性確保用のパラメータ\n",
        "          'seed': SEED                  # シード値\n",
        "          }\n",
        "\n",
        "groups = pred_df[best_model_name]\n",
        "\n",
        "cv_result_stck_lgbm = []\n",
        "\n",
        "for train_index, test_index in gkf.split(pred_df, y_train_dropna, groups):\n",
        "\n",
        "    X_train_gkf, X_test_gkf = pred_df.iloc[train_index], pred_df.iloc[test_index]\n",
        "    y_train_gkf, y_test_gkf = y_train_dropna.iloc[train_index], y_train_dropna.iloc[test_index]\n",
        "\n",
        "    # 学習、推論\n",
        "    lgb_train = opt_lgb.Dataset(X_train_gkf, y_train_gkf)\n",
        "    lgb_test = opt_lgb.Dataset(X_test_gkf, y_test_gkf, reference=lgb_train)\n",
        "\n",
        "    model = opt_lgb.LightGBMTuner(\n",
        "                    params,                    # ハイパーパラメータをセット\n",
        "                    lgb_train,              # 訓練データを訓練用にセット\n",
        "                    valid_sets=[lgb_train, lgb_test], # 訓練データとテストデータをセット\n",
        "                    valid_names=['Train', 'Test'],    # データセットの名前をそれぞれ設定\n",
        "                    num_boost_round=100,              # 計算回数\n",
        "                    early_stopping_rounds=50,         # アーリーストッピング設定\n",
        "                    evals_result=lgb_results,\n",
        "                    verbose_eval=-1,                  # ログを最後の1つだけ表示\n",
        "                    show_progress_bar = False,        # ログの非表示\n",
        "                    optuna_seed=SEED,\n",
        "                    )\n",
        "    \n",
        "    # 訓練の実施\n",
        "    model.run()\n",
        "    \n",
        "    best_params = model.best_params\n",
        "    \n",
        "\n",
        "   # 損失推移を表示\n",
        "    loss_train = lgb_results['Train']['rmse']\n",
        "    loss_test = lgb_results['Test']['rmse']   \n",
        "    \n",
        "    fig = plt.figure()\n",
        "    \n",
        "    plt.xlabel('Iteration')\n",
        "    plt.ylabel('logloss')\n",
        "\n",
        "    plt.title(f\"fold:{fold}\")\n",
        "    plt.plot(loss_train, label='train loss')\n",
        "    plt.plot(loss_test, label='test loss')\n",
        "    \n",
        "    plt.legend()\n",
        "    plt.show()\n",
        "\n",
        "    # 推論\n",
        "    best_model = model.get_best_booster()\n",
        "\n",
        "    y_pred = best_model.predict(X_test_gkf)\n",
        "\n",
        "    # 評価\n",
        "    rmse = mean_squared_error(y_test_gkf, y_pred, squared=False)\n",
        "    cv_result_stck_lgbm.append(rmse)\n",
        "\n",
        "print(\"RMSE:\", cv_result_stck_lgbm)\n",
        "print(\"RMSE:\", np.mean(cv_result_stck_lgbm))"
      ],
      "execution_count": null,
      "outputs": [
        {
          "output_type": "stream",
          "name": "stderr",
          "text": [
            "\u001b[32m[I 2021-12-14 12:11:19,087]\u001b[0m A new study created in memory with name: no-name-dd0efd4e-7db3-4752-aa50-fbec0a2e5ae7\u001b[0m\n"
          ]
        },
        {
          "output_type": "stream",
          "name": "stdout",
          "text": [
            "Training until validation scores don't improve for 50 rounds.\n"
          ]
        },
        {
          "output_type": "stream",
          "name": "stderr",
          "text": [
            "\u001b[32m[I 2021-12-14 12:11:19,355]\u001b[0m Trial 0 finished with value: 0.05906909811006046 and parameters: {'feature_fraction': 0.5}. Best is trial 0 with value: 0.05906909811006046.\u001b[0m\n"
          ]
        },
        {
          "output_type": "stream",
          "name": "stdout",
          "text": [
            "Early stopping, best iteration is:\n",
            "[35]\tTrain's rmse: 0.134461\tTest's rmse: 0.0590691\n",
            "Training until validation scores don't improve for 50 rounds.\n"
          ]
        },
        {
          "output_type": "stream",
          "name": "stderr",
          "text": [
            "\u001b[32m[I 2021-12-14 12:11:19,620]\u001b[0m Trial 1 finished with value: 0.06126552454067979 and parameters: {'feature_fraction': 0.6}. Best is trial 0 with value: 0.05906909811006046.\u001b[0m\n"
          ]
        },
        {
          "output_type": "stream",
          "name": "stdout",
          "text": [
            "Early stopping, best iteration is:\n",
            "[33]\tTrain's rmse: 0.13429\tTest's rmse: 0.0612655\n",
            "Training until validation scores don't improve for 50 rounds.\n"
          ]
        },
        {
          "output_type": "stream",
          "name": "stderr",
          "text": [
            "\u001b[32m[I 2021-12-14 12:11:19,909]\u001b[0m Trial 2 finished with value: 0.060104857480787865 and parameters: {'feature_fraction': 0.7}. Best is trial 0 with value: 0.05906909811006046.\u001b[0m\n"
          ]
        },
        {
          "output_type": "stream",
          "name": "stdout",
          "text": [
            "Early stopping, best iteration is:\n",
            "[33]\tTrain's rmse: 0.134508\tTest's rmse: 0.0601049\n",
            "Training until validation scores don't improve for 50 rounds.\n"
          ]
        },
        {
          "output_type": "stream",
          "name": "stderr",
          "text": [
            "\u001b[32m[I 2021-12-14 12:11:20,218]\u001b[0m Trial 3 finished with value: 0.0612337586775578 and parameters: {'feature_fraction': 1.0}. Best is trial 0 with value: 0.05906909811006046.\u001b[0m\n"
          ]
        },
        {
          "output_type": "stream",
          "name": "stdout",
          "text": [
            "Early stopping, best iteration is:\n",
            "[32]\tTrain's rmse: 0.13406\tTest's rmse: 0.0612338\n",
            "Training until validation scores don't improve for 50 rounds.\n"
          ]
        },
        {
          "output_type": "stream",
          "name": "stderr",
          "text": [
            "\u001b[32m[I 2021-12-14 12:11:20,475]\u001b[0m Trial 4 finished with value: 0.059975117035573206 and parameters: {'feature_fraction': 0.4}. Best is trial 0 with value: 0.05906909811006046.\u001b[0m\n"
          ]
        },
        {
          "output_type": "stream",
          "name": "stdout",
          "text": [
            "Early stopping, best iteration is:\n",
            "[36]\tTrain's rmse: 0.13391\tTest's rmse: 0.0599751\n",
            "Training until validation scores don't improve for 50 rounds.\n"
          ]
        },
        {
          "output_type": "stream",
          "name": "stderr",
          "text": [
            "\u001b[32m[I 2021-12-14 12:11:20,771]\u001b[0m Trial 5 finished with value: 0.06148709366527587 and parameters: {'feature_fraction': 0.8999999999999999}. Best is trial 0 with value: 0.05906909811006046.\u001b[0m\n"
          ]
        },
        {
          "output_type": "stream",
          "name": "stdout",
          "text": [
            "Early stopping, best iteration is:\n",
            "[32]\tTrain's rmse: 0.134249\tTest's rmse: 0.0614871\n",
            "Training until validation scores don't improve for 50 rounds.\n"
          ]
        },
        {
          "output_type": "stream",
          "name": "stderr",
          "text": [
            "\u001b[32m[I 2021-12-14 12:11:21,063]\u001b[0m Trial 6 finished with value: 0.06097519640690137 and parameters: {'feature_fraction': 0.8}. Best is trial 0 with value: 0.05906909811006046.\u001b[0m\n"
          ]
        },
        {
          "output_type": "stream",
          "name": "stdout",
          "text": [
            "Early stopping, best iteration is:\n",
            "[32]\tTrain's rmse: 0.134519\tTest's rmse: 0.0609752\n",
            "Training until validation scores don't improve for 50 rounds.\n"
          ]
        },
        {
          "output_type": "stream",
          "name": "stderr",
          "text": [
            "\u001b[32m[I 2021-12-14 12:11:21,510]\u001b[0m Trial 7 finished with value: 0.05911865724814318 and parameters: {'num_leaves': 97}. Best is trial 7 with value: 0.05911865724814318.\u001b[0m\n"
          ]
        },
        {
          "output_type": "stream",
          "name": "stdout",
          "text": [
            "Early stopping, best iteration is:\n",
            "[35]\tTrain's rmse: 0.134466\tTest's rmse: 0.0591187\n",
            "Training until validation scores don't improve for 50 rounds.\n"
          ]
        },
        {
          "output_type": "stream",
          "name": "stderr",
          "text": [
            "\u001b[32m[I 2021-12-14 12:11:22,245]\u001b[0m Trial 8 finished with value: 0.059112399359361065 and parameters: {'num_leaves': 244}. Best is trial 8 with value: 0.059112399359361065.\u001b[0m\n"
          ]
        },
        {
          "output_type": "stream",
          "name": "stdout",
          "text": [
            "Early stopping, best iteration is:\n",
            "[35]\tTrain's rmse: 0.134465\tTest's rmse: 0.0591124\n",
            "Training until validation scores don't improve for 50 rounds.\n"
          ]
        },
        {
          "output_type": "stream",
          "name": "stderr",
          "text": [
            "\u001b[32m[I 2021-12-14 12:11:22,873]\u001b[0m Trial 9 finished with value: 0.059114674054538525 and parameters: {'num_leaves': 188}. Best is trial 8 with value: 0.059112399359361065.\u001b[0m\n"
          ]
        },
        {
          "output_type": "stream",
          "name": "stdout",
          "text": [
            "Early stopping, best iteration is:\n",
            "[35]\tTrain's rmse: 0.134465\tTest's rmse: 0.0591147\n",
            "Training until validation scores don't improve for 50 rounds.\n"
          ]
        },
        {
          "output_type": "stream",
          "name": "stderr",
          "text": [
            "\u001b[32m[I 2021-12-14 12:11:23,434]\u001b[0m Trial 10 finished with value: 0.05911524799124656 and parameters: {'num_leaves': 154}. Best is trial 8 with value: 0.059112399359361065.\u001b[0m\n"
          ]
        },
        {
          "output_type": "stream",
          "name": "stdout",
          "text": [
            "Early stopping, best iteration is:\n",
            "[35]\tTrain's rmse: 0.134465\tTest's rmse: 0.0591152\n",
            "Training until validation scores don't improve for 50 rounds.\n"
          ]
        },
        {
          "output_type": "stream",
          "name": "stderr",
          "text": [
            "\u001b[32m[I 2021-12-14 12:11:23,730]\u001b[0m Trial 11 finished with value: 0.05902047205110994 and parameters: {'num_leaves': 41}. Best is trial 11 with value: 0.05902047205110994.\u001b[0m\n"
          ]
        },
        {
          "output_type": "stream",
          "name": "stdout",
          "text": [
            "Early stopping, best iteration is:\n",
            "[35]\tTrain's rmse: 0.134443\tTest's rmse: 0.0590205\n",
            "Training until validation scores don't improve for 50 rounds.\n"
          ]
        },
        {
          "output_type": "stream",
          "name": "stderr",
          "text": [
            "\u001b[32m[I 2021-12-14 12:11:24,023]\u001b[0m Trial 12 finished with value: 0.05902047205110994 and parameters: {'num_leaves': 41}. Best is trial 11 with value: 0.05902047205110994.\u001b[0m\n"
          ]
        },
        {
          "output_type": "stream",
          "name": "stdout",
          "text": [
            "Early stopping, best iteration is:\n",
            "[35]\tTrain's rmse: 0.134443\tTest's rmse: 0.0590205\n",
            "Training until validation scores don't improve for 50 rounds.\n"
          ]
        },
        {
          "output_type": "stream",
          "name": "stderr",
          "text": [
            "\u001b[32m[I 2021-12-14 12:11:24,230]\u001b[0m Trial 13 finished with value: 0.059220692178014185 and parameters: {'num_leaves': 16}. Best is trial 11 with value: 0.05902047205110994.\u001b[0m\n"
          ]
        },
        {
          "output_type": "stream",
          "name": "stdout",
          "text": [
            "Early stopping, best iteration is:\n",
            "[35]\tTrain's rmse: 0.134599\tTest's rmse: 0.0592207\n",
            "Training until validation scores don't improve for 50 rounds.\n"
          ]
        },
        {
          "output_type": "stream",
          "name": "stderr",
          "text": [
            "\u001b[32m[I 2021-12-14 12:11:24,941]\u001b[0m Trial 14 finished with value: 0.059112296241644074 and parameters: {'num_leaves': 222}. Best is trial 11 with value: 0.05902047205110994.\u001b[0m\n"
          ]
        },
        {
          "output_type": "stream",
          "name": "stdout",
          "text": [
            "Early stopping, best iteration is:\n",
            "[35]\tTrain's rmse: 0.134465\tTest's rmse: 0.0591123\n",
            "Training until validation scores don't improve for 50 rounds.\n"
          ]
        },
        {
          "output_type": "stream",
          "name": "stderr",
          "text": [
            "\u001b[32m[I 2021-12-14 12:11:25,488]\u001b[0m Trial 15 finished with value: 0.059115043155357455 and parameters: {'num_leaves': 155}. Best is trial 11 with value: 0.05902047205110994.\u001b[0m\n"
          ]
        },
        {
          "output_type": "stream",
          "name": "stdout",
          "text": [
            "Early stopping, best iteration is:\n",
            "[35]\tTrain's rmse: 0.134465\tTest's rmse: 0.059115\n",
            "Training until validation scores don't improve for 50 rounds.\n"
          ]
        },
        {
          "output_type": "stream",
          "name": "stderr",
          "text": [
            "\u001b[32m[I 2021-12-14 12:11:26,089]\u001b[0m Trial 16 finished with value: 0.05911376550465192 and parameters: {'num_leaves': 182}. Best is trial 11 with value: 0.05902047205110994.\u001b[0m\n"
          ]
        },
        {
          "output_type": "stream",
          "name": "stdout",
          "text": [
            "Early stopping, best iteration is:\n",
            "[35]\tTrain's rmse: 0.134465\tTest's rmse: 0.0591138\n",
            "Training until validation scores don't improve for 50 rounds.\n"
          ]
        },
        {
          "output_type": "stream",
          "name": "stderr",
          "text": [
            "\u001b[32m[I 2021-12-14 12:11:26,494]\u001b[0m Trial 17 finished with value: 0.05905837400450191 and parameters: {'num_leaves': 81}. Best is trial 11 with value: 0.05902047205110994.\u001b[0m\n",
            "\u001b[32m[I 2021-12-14 12:11:26,594]\u001b[0m Trial 18 finished with value: 0.06044941836487826 and parameters: {'num_leaves': 2}. Best is trial 11 with value: 0.05902047205110994.\u001b[0m\n"
          ]
        },
        {
          "output_type": "stream",
          "name": "stdout",
          "text": [
            "Early stopping, best iteration is:\n",
            "[35]\tTrain's rmse: 0.134467\tTest's rmse: 0.0590584\n",
            "Training until validation scores don't improve for 50 rounds.\n",
            "Did not meet early stopping. Best iteration is:\n",
            "[100]\tTrain's rmse: 0.136801\tTest's rmse: 0.0604494\n",
            "Training until validation scores don't improve for 50 rounds.\n"
          ]
        },
        {
          "output_type": "stream",
          "name": "stderr",
          "text": [
            "\u001b[32m[I 2021-12-14 12:11:26,928]\u001b[0m Trial 19 finished with value: 0.059002317923807376 and parameters: {'num_leaves': 56}. Best is trial 19 with value: 0.059002317923807376.\u001b[0m\n"
          ]
        },
        {
          "output_type": "stream",
          "name": "stdout",
          "text": [
            "Early stopping, best iteration is:\n",
            "[35]\tTrain's rmse: 0.134443\tTest's rmse: 0.0590023\n",
            "Training until validation scores don't improve for 50 rounds.\n"
          ]
        },
        {
          "output_type": "stream",
          "name": "stderr",
          "text": [
            "\u001b[32m[I 2021-12-14 12:11:27,292]\u001b[0m Trial 20 finished with value: 0.05904861519560888 and parameters: {'num_leaves': 65}. Best is trial 19 with value: 0.059002317923807376.\u001b[0m\n"
          ]
        },
        {
          "output_type": "stream",
          "name": "stdout",
          "text": [
            "Early stopping, best iteration is:\n",
            "[35]\tTrain's rmse: 0.134468\tTest's rmse: 0.0590486\n",
            "Training until validation scores don't improve for 50 rounds.\n"
          ]
        },
        {
          "output_type": "stream",
          "name": "stderr",
          "text": [
            "\u001b[32m[I 2021-12-14 12:11:27,746]\u001b[0m Trial 21 finished with value: 0.059121909245259285 and parameters: {'num_leaves': 107}. Best is trial 19 with value: 0.059002317923807376.\u001b[0m\n"
          ]
        },
        {
          "output_type": "stream",
          "name": "stdout",
          "text": [
            "Early stopping, best iteration is:\n",
            "[35]\tTrain's rmse: 0.134465\tTest's rmse: 0.0591219\n",
            "Training until validation scores don't improve for 50 rounds.\n"
          ]
        },
        {
          "output_type": "stream",
          "name": "stderr",
          "text": [
            "\u001b[32m[I 2021-12-14 12:11:28,062]\u001b[0m Trial 22 finished with value: 0.05901997337685213 and parameters: {'num_leaves': 46}. Best is trial 19 with value: 0.059002317923807376.\u001b[0m\n"
          ]
        },
        {
          "output_type": "stream",
          "name": "stdout",
          "text": [
            "Early stopping, best iteration is:\n",
            "[35]\tTrain's rmse: 0.134463\tTest's rmse: 0.05902\n",
            "Training until validation scores don't improve for 50 rounds.\n"
          ]
        },
        {
          "output_type": "stream",
          "name": "stderr",
          "text": [
            "\u001b[32m[I 2021-12-14 12:11:28,378]\u001b[0m Trial 23 finished with value: 0.05902182749041818 and parameters: {'num_leaves': 48}. Best is trial 19 with value: 0.059002317923807376.\u001b[0m\n"
          ]
        },
        {
          "output_type": "stream",
          "name": "stdout",
          "text": [
            "Early stopping, best iteration is:\n",
            "[35]\tTrain's rmse: 0.134461\tTest's rmse: 0.0590218\n",
            "Training until validation scores don't improve for 50 rounds.\n"
          ]
        },
        {
          "output_type": "stream",
          "name": "stderr",
          "text": [
            "\u001b[32m[I 2021-12-14 12:11:28,873]\u001b[0m Trial 24 finished with value: 0.05911159152697513 and parameters: {'num_leaves': 122}. Best is trial 19 with value: 0.059002317923807376.\u001b[0m\n"
          ]
        },
        {
          "output_type": "stream",
          "name": "stdout",
          "text": [
            "Early stopping, best iteration is:\n",
            "[35]\tTrain's rmse: 0.134465\tTest's rmse: 0.0591116\n",
            "Training until validation scores don't improve for 50 rounds.\n"
          ]
        },
        {
          "output_type": "stream",
          "name": "stderr",
          "text": [
            "\u001b[32m[I 2021-12-14 12:11:29,125]\u001b[0m Trial 25 finished with value: 0.05908274990263757 and parameters: {'num_leaves': 26}. Best is trial 19 with value: 0.059002317923807376.\u001b[0m\n"
          ]
        },
        {
          "output_type": "stream",
          "name": "stdout",
          "text": [
            "Early stopping, best iteration is:\n",
            "[35]\tTrain's rmse: 0.134464\tTest's rmse: 0.0590827\n",
            "Training until validation scores don't improve for 50 rounds.\n"
          ]
        },
        {
          "output_type": "stream",
          "name": "stderr",
          "text": [
            "\u001b[32m[I 2021-12-14 12:11:29,504]\u001b[0m Trial 26 finished with value: 0.05905386444954572 and parameters: {'num_leaves': 72}. Best is trial 19 with value: 0.059002317923807376.\u001b[0m\n"
          ]
        },
        {
          "output_type": "stream",
          "name": "stdout",
          "text": [
            "Early stopping, best iteration is:\n",
            "[35]\tTrain's rmse: 0.134468\tTest's rmse: 0.0590539\n",
            "Training until validation scores don't improve for 50 rounds.\n"
          ]
        },
        {
          "output_type": "stream",
          "name": "stderr",
          "text": [
            "\u001b[32m[I 2021-12-14 12:11:30,028]\u001b[0m Trial 27 finished with value: 0.1005837109923725 and parameters: {'bagging_fraction': 0.624724071308792, 'bagging_freq': 7}. Best is trial 27 with value: 0.1005837109923725.\u001b[0m\n"
          ]
        },
        {
          "output_type": "stream",
          "name": "stdout",
          "text": [
            "Did not meet early stopping. Best iteration is:\n",
            "[99]\tTrain's rmse: 0.164789\tTest's rmse: 0.100584\n",
            "Training until validation scores don't improve for 50 rounds.\n"
          ]
        },
        {
          "output_type": "stream",
          "name": "stderr",
          "text": [
            "\u001b[32m[I 2021-12-14 12:11:30,540]\u001b[0m Trial 28 finished with value: 0.07434364987503195 and parameters: {'bagging_fraction': 0.8391963650875751, 'bagging_freq': 5}. Best is trial 28 with value: 0.07434364987503195.\u001b[0m\n"
          ]
        },
        {
          "output_type": "stream",
          "name": "stdout",
          "text": [
            "Did not meet early stopping. Best iteration is:\n",
            "[100]\tTrain's rmse: 0.135826\tTest's rmse: 0.0743436\n",
            "Training until validation scores don't improve for 50 rounds.\n"
          ]
        },
        {
          "output_type": "stream",
          "name": "stderr",
          "text": [
            "\u001b[32m[I 2021-12-14 12:11:31,045]\u001b[0m Trial 29 finished with value: 0.13543931184337907 and parameters: {'bagging_fraction': 0.49361118426561795, 'bagging_freq': 2}. Best is trial 28 with value: 0.07434364987503195.\u001b[0m\n"
          ]
        },
        {
          "output_type": "stream",
          "name": "stdout",
          "text": [
            "Did not meet early stopping. Best iteration is:\n",
            "[100]\tTrain's rmse: 0.183985\tTest's rmse: 0.135439\n",
            "Training until validation scores don't improve for 50 rounds.\n"
          ]
        },
        {
          "output_type": "stream",
          "name": "stderr",
          "text": [
            "\u001b[32m[I 2021-12-14 12:11:31,561]\u001b[0m Trial 30 finished with value: 0.14362069910982578 and parameters: {'bagging_fraction': 0.4348501673009778, 'bagging_freq': 7}. Best is trial 28 with value: 0.07434364987503195.\u001b[0m\n"
          ]
        },
        {
          "output_type": "stream",
          "name": "stdout",
          "text": [
            "Did not meet early stopping. Best iteration is:\n",
            "[100]\tTrain's rmse: 0.189636\tTest's rmse: 0.143621\n",
            "Training until validation scores don't improve for 50 rounds.\n"
          ]
        },
        {
          "output_type": "stream",
          "name": "stderr",
          "text": [
            "\u001b[32m[I 2021-12-14 12:11:32,077]\u001b[0m Trial 31 finished with value: 0.08046124388831864 and parameters: {'bagging_fraction': 0.7606690070465265, 'bagging_freq': 5}. Best is trial 28 with value: 0.07434364987503195.\u001b[0m\n"
          ]
        },
        {
          "output_type": "stream",
          "name": "stdout",
          "text": [
            "Did not meet early stopping. Best iteration is:\n",
            "[100]\tTrain's rmse: 0.14389\tTest's rmse: 0.0804612\n",
            "Training until validation scores don't improve for 50 rounds.\n"
          ]
        },
        {
          "output_type": "stream",
          "name": "stderr",
          "text": [
            "\u001b[32m[I 2021-12-14 12:11:32,584]\u001b[0m Trial 32 finished with value: 0.1475867798632325 and parameters: {'bagging_fraction': 0.41235069657750206, 'bagging_freq': 7}. Best is trial 28 with value: 0.07434364987503195.\u001b[0m\n"
          ]
        },
        {
          "output_type": "stream",
          "name": "stdout",
          "text": [
            "Did not meet early stopping. Best iteration is:\n",
            "[100]\tTrain's rmse: 0.198283\tTest's rmse: 0.147587\n",
            "Training until validation scores don't improve for 50 rounds.\n"
          ]
        },
        {
          "output_type": "stream",
          "name": "stderr",
          "text": [
            "\u001b[32m[I 2021-12-14 12:11:33,017]\u001b[0m Trial 33 finished with value: 0.05862979458232921 and parameters: {'bagging_fraction': 0.8994655844810855, 'bagging_freq': 2}. Best is trial 33 with value: 0.05862979458232921.\u001b[0m\n"
          ]
        },
        {
          "output_type": "stream",
          "name": "stdout",
          "text": [
            "Early stopping, best iteration is:\n",
            "[37]\tTrain's rmse: 0.136279\tTest's rmse: 0.0586298\n",
            "Training until validation scores don't improve for 50 rounds.\n"
          ]
        },
        {
          "output_type": "stream",
          "name": "stderr",
          "text": [
            "\u001b[32m[I 2021-12-14 12:11:33,533]\u001b[0m Trial 34 finished with value: 0.135289045828673 and parameters: {'bagging_fraction': 0.5090949803244422, 'bagging_freq': 2}. Best is trial 33 with value: 0.05862979458232921.\u001b[0m\n"
          ]
        },
        {
          "output_type": "stream",
          "name": "stdout",
          "text": [
            "Did not meet early stopping. Best iteration is:\n",
            "[100]\tTrain's rmse: 0.182265\tTest's rmse: 0.135289\n",
            "Training until validation scores don't improve for 50 rounds.\n"
          ]
        },
        {
          "output_type": "stream",
          "name": "stderr",
          "text": [
            "\u001b[32m[I 2021-12-14 12:11:34,032]\u001b[0m Trial 35 finished with value: 0.1110556257157886 and parameters: {'bagging_fraction': 0.5825453457760269, 'bagging_freq': 4}. Best is trial 33 with value: 0.05862979458232921.\u001b[0m\n"
          ]
        },
        {
          "output_type": "stream",
          "name": "stdout",
          "text": [
            "Did not meet early stopping. Best iteration is:\n",
            "[100]\tTrain's rmse: 0.171372\tTest's rmse: 0.111056\n",
            "Training until validation scores don't improve for 50 rounds.\n"
          ]
        },
        {
          "output_type": "stream",
          "name": "stderr",
          "text": [
            "\u001b[32m[I 2021-12-14 12:11:34,531]\u001b[0m Trial 36 finished with value: 0.08552490478880495 and parameters: {'bagging_fraction': 0.6591670111857015, 'bagging_freq': 3}. Best is trial 33 with value: 0.05862979458232921.\u001b[0m\n"
          ]
        },
        {
          "output_type": "stream",
          "name": "stdout",
          "text": [
            "Did not meet early stopping. Best iteration is:\n",
            "[100]\tTrain's rmse: 0.155486\tTest's rmse: 0.0855249\n",
            "Training until validation scores don't improve for 50 rounds.\n"
          ]
        },
        {
          "output_type": "stream",
          "name": "stderr",
          "text": [
            "\u001b[32m[I 2021-12-14 12:11:34,956]\u001b[0m Trial 37 finished with value: 0.05805711485632808 and parameters: {'feature_fraction': 0.484}. Best is trial 37 with value: 0.05805711485632808.\u001b[0m\n"
          ]
        },
        {
          "output_type": "stream",
          "name": "stdout",
          "text": [
            "Early stopping, best iteration is:\n",
            "[37]\tTrain's rmse: 0.138332\tTest's rmse: 0.0580571\n",
            "Training until validation scores don't improve for 50 rounds.\n"
          ]
        },
        {
          "output_type": "stream",
          "name": "stderr",
          "text": [
            "\u001b[32m[I 2021-12-14 12:11:35,406]\u001b[0m Trial 38 finished with value: 0.05862979458232921 and parameters: {'feature_fraction': 0.5479999999999999}. Best is trial 37 with value: 0.05805711485632808.\u001b[0m\n"
          ]
        },
        {
          "output_type": "stream",
          "name": "stdout",
          "text": [
            "Early stopping, best iteration is:\n",
            "[37]\tTrain's rmse: 0.136279\tTest's rmse: 0.0586298\n",
            "Training until validation scores don't improve for 50 rounds.\n"
          ]
        },
        {
          "output_type": "stream",
          "name": "stderr",
          "text": [
            "\u001b[32m[I 2021-12-14 12:11:35,825]\u001b[0m Trial 39 finished with value: 0.05805711485632808 and parameters: {'feature_fraction': 0.45199999999999996}. Best is trial 37 with value: 0.05805711485632808.\u001b[0m\n"
          ]
        },
        {
          "output_type": "stream",
          "name": "stdout",
          "text": [
            "Early stopping, best iteration is:\n",
            "[37]\tTrain's rmse: 0.138332\tTest's rmse: 0.0580571\n",
            "Training until validation scores don't improve for 50 rounds.\n"
          ]
        },
        {
          "output_type": "stream",
          "name": "stderr",
          "text": [
            "\u001b[32m[I 2021-12-14 12:11:36,239]\u001b[0m Trial 40 finished with value: 0.05805711485632808 and parameters: {'feature_fraction': 0.42}. Best is trial 37 with value: 0.05805711485632808.\u001b[0m\n"
          ]
        },
        {
          "output_type": "stream",
          "name": "stdout",
          "text": [
            "Early stopping, best iteration is:\n",
            "[37]\tTrain's rmse: 0.138332\tTest's rmse: 0.0580571\n",
            "Training until validation scores don't improve for 50 rounds.\n"
          ]
        },
        {
          "output_type": "stream",
          "name": "stderr",
          "text": [
            "\u001b[32m[I 2021-12-14 12:11:36,677]\u001b[0m Trial 41 finished with value: 0.05862979458232921 and parameters: {'feature_fraction': 0.58}. Best is trial 37 with value: 0.05805711485632808.\u001b[0m\n"
          ]
        },
        {
          "output_type": "stream",
          "name": "stdout",
          "text": [
            "Early stopping, best iteration is:\n",
            "[37]\tTrain's rmse: 0.136279\tTest's rmse: 0.0586298\n",
            "Training until validation scores don't improve for 50 rounds.\n"
          ]
        },
        {
          "output_type": "stream",
          "name": "stderr",
          "text": [
            "\u001b[32m[I 2021-12-14 12:11:37,104]\u001b[0m Trial 42 finished with value: 0.05862979458232921 and parameters: {'feature_fraction': 0.516}. Best is trial 37 with value: 0.05805711485632808.\u001b[0m\n"
          ]
        },
        {
          "output_type": "stream",
          "name": "stdout",
          "text": [
            "Early stopping, best iteration is:\n",
            "[37]\tTrain's rmse: 0.136279\tTest's rmse: 0.0586298\n",
            "Training until validation scores don't improve for 50 rounds.\n"
          ]
        },
        {
          "output_type": "stream",
          "name": "stderr",
          "text": [
            "\u001b[32m[I 2021-12-14 12:11:37,575]\u001b[0m Trial 43 finished with value: 0.06122954130908556 and parameters: {'lambda_l1': 2.348881295853308e-05, 'lambda_l2': 3.6010467344475403}. Best is trial 43 with value: 0.06122954130908556.\u001b[0m\n"
          ]
        },
        {
          "output_type": "stream",
          "name": "stdout",
          "text": [
            "Early stopping, best iteration is:\n",
            "[48]\tTrain's rmse: 0.139001\tTest's rmse: 0.0612295\n",
            "Training until validation scores don't improve for 50 rounds.\n"
          ]
        },
        {
          "output_type": "stream",
          "name": "stderr",
          "text": [
            "\u001b[32m[I 2021-12-14 12:11:37,969]\u001b[0m Trial 44 finished with value: 0.058088605883033134 and parameters: {'lambda_l1': 0.038720902953704193, 'lambda_l2': 0.0024430162614261413}. Best is trial 44 with value: 0.058088605883033134.\u001b[0m\n"
          ]
        },
        {
          "output_type": "stream",
          "name": "stdout",
          "text": [
            "Early stopping, best iteration is:\n",
            "[37]\tTrain's rmse: 0.138386\tTest's rmse: 0.0580886\n",
            "Training until validation scores don't improve for 50 rounds.\n"
          ]
        },
        {
          "output_type": "stream",
          "name": "stderr",
          "text": [
            "\u001b[32m[I 2021-12-14 12:11:38,379]\u001b[0m Trial 45 finished with value: 0.05805711576148707 and parameters: {'lambda_l1': 2.5361081166471375e-07, 'lambda_l2': 2.5348407664333426e-07}. Best is trial 45 with value: 0.05805711576148707.\u001b[0m\n"
          ]
        },
        {
          "output_type": "stream",
          "name": "stdout",
          "text": [
            "Early stopping, best iteration is:\n",
            "[37]\tTrain's rmse: 0.138332\tTest's rmse: 0.0580571\n",
            "Training until validation scores don't improve for 50 rounds.\n"
          ]
        },
        {
          "output_type": "stream",
          "name": "stderr",
          "text": [
            "\u001b[32m[I 2021-12-14 12:11:38,812]\u001b[0m Trial 46 finished with value: 0.05834190280691217 and parameters: {'lambda_l1': 3.3323645788192616e-08, 'lambda_l2': 0.6245760287469893}. Best is trial 45 with value: 0.05805711576148707.\u001b[0m\n"
          ]
        },
        {
          "output_type": "stream",
          "name": "stdout",
          "text": [
            "Early stopping, best iteration is:\n",
            "[39]\tTrain's rmse: 0.13779\tTest's rmse: 0.0583419\n",
            "Training until validation scores don't improve for 50 rounds.\n"
          ]
        },
        {
          "output_type": "stream",
          "name": "stderr",
          "text": [
            "\u001b[32m[I 2021-12-14 12:11:39,221]\u001b[0m Trial 47 finished with value: 0.05807271336437878 and parameters: {'lambda_l1': 0.002570603566117598, 'lambda_l2': 0.023585940584142682}. Best is trial 45 with value: 0.05805711576148707.\u001b[0m\n"
          ]
        },
        {
          "output_type": "stream",
          "name": "stdout",
          "text": [
            "Early stopping, best iteration is:\n",
            "[37]\tTrain's rmse: 0.138354\tTest's rmse: 0.0580727\n",
            "Training until validation scores don't improve for 50 rounds.\n"
          ]
        },
        {
          "output_type": "stream",
          "name": "stderr",
          "text": [
            "\u001b[32m[I 2021-12-14 12:11:39,688]\u001b[0m Trial 48 finished with value: 0.06006476719496065 and parameters: {'lambda_l1': 1.5320059381854043e-08, 'lambda_l2': 5.360294728728285}. Best is trial 45 with value: 0.05805711576148707.\u001b[0m\n"
          ]
        },
        {
          "output_type": "stream",
          "name": "stdout",
          "text": [
            "Early stopping, best iteration is:\n",
            "[48]\tTrain's rmse: 0.141255\tTest's rmse: 0.0600648\n",
            "Training until validation scores don't improve for 50 rounds.\n"
          ]
        },
        {
          "output_type": "stream",
          "name": "stderr",
          "text": [
            "\u001b[32m[I 2021-12-14 12:11:39,977]\u001b[0m Trial 49 finished with value: 0.05836293310605148 and parameters: {'lambda_l1': 0.31044435499483225, 'lambda_l2': 8.148018307012941e-07}. Best is trial 45 with value: 0.05805711576148707.\u001b[0m\n"
          ]
        },
        {
          "output_type": "stream",
          "name": "stdout",
          "text": [
            "Early stopping, best iteration is:\n",
            "[37]\tTrain's rmse: 0.138593\tTest's rmse: 0.0583629\n",
            "Training until validation scores don't improve for 50 rounds.\n"
          ]
        },
        {
          "output_type": "stream",
          "name": "stderr",
          "text": [
            "\u001b[32m[I 2021-12-14 12:11:40,392]\u001b[0m Trial 50 finished with value: 0.058057116399531226 and parameters: {'lambda_l1': 4.329370014459266e-07, 'lambda_l2': 4.4734294104626844e-07}. Best is trial 45 with value: 0.05805711576148707.\u001b[0m\n"
          ]
        },
        {
          "output_type": "stream",
          "name": "stdout",
          "text": [
            "Early stopping, best iteration is:\n",
            "[37]\tTrain's rmse: 0.138332\tTest's rmse: 0.0580571\n",
            "Training until validation scores don't improve for 50 rounds.\n"
          ]
        },
        {
          "output_type": "stream",
          "name": "stderr",
          "text": [
            "\u001b[32m[I 2021-12-14 12:11:40,819]\u001b[0m Trial 51 finished with value: 0.058063885500373044 and parameters: {'lambda_l1': 5.472429642032198e-06, 'lambda_l2': 0.00052821153945323}. Best is trial 45 with value: 0.05805711576148707.\u001b[0m\n"
          ]
        },
        {
          "output_type": "stream",
          "name": "stdout",
          "text": [
            "Early stopping, best iteration is:\n",
            "[37]\tTrain's rmse: 0.138333\tTest's rmse: 0.0580639\n",
            "Training until validation scores don't improve for 50 rounds.\n"
          ]
        },
        {
          "output_type": "stream",
          "name": "stderr",
          "text": [
            "\u001b[32m[I 2021-12-14 12:11:41,238]\u001b[0m Trial 52 finished with value: 0.058062845017523575 and parameters: {'lambda_l1': 7.71800699380605e-05, 'lambda_l2': 4.17890272377219e-06}. Best is trial 45 with value: 0.05805711576148707.\u001b[0m\n"
          ]
        },
        {
          "output_type": "stream",
          "name": "stdout",
          "text": [
            "Early stopping, best iteration is:\n",
            "[37]\tTrain's rmse: 0.138333\tTest's rmse: 0.0580628\n",
            "Training until validation scores don't improve for 50 rounds.\n"
          ]
        },
        {
          "output_type": "stream",
          "name": "stderr",
          "text": [
            "\u001b[32m[I 2021-12-14 12:11:41,466]\u001b[0m Trial 53 finished with value: 0.06090423495134412 and parameters: {'lambda_l1': 3.207959657544482, 'lambda_l2': 1.1323342574941946e-08}. Best is trial 45 with value: 0.05805711576148707.\u001b[0m\n"
          ]
        },
        {
          "output_type": "stream",
          "name": "stdout",
          "text": [
            "Early stopping, best iteration is:\n",
            "[40]\tTrain's rmse: 0.137805\tTest's rmse: 0.0609042\n",
            "Training until validation scores don't improve for 50 rounds.\n"
          ]
        },
        {
          "output_type": "stream",
          "name": "stderr",
          "text": [
            "\u001b[32m[I 2021-12-14 12:11:41,881]\u001b[0m Trial 54 finished with value: 0.058062514957249504 and parameters: {'lambda_l1': 8.739208840790941e-07, 'lambda_l2': 1.99371629285331e-06}. Best is trial 45 with value: 0.05805711576148707.\u001b[0m\n"
          ]
        },
        {
          "output_type": "stream",
          "name": "stdout",
          "text": [
            "Early stopping, best iteration is:\n",
            "[37]\tTrain's rmse: 0.138333\tTest's rmse: 0.0580625\n",
            "Training until validation scores don't improve for 50 rounds.\n"
          ]
        },
        {
          "output_type": "stream",
          "name": "stderr",
          "text": [
            "\u001b[32m[I 2021-12-14 12:11:42,300]\u001b[0m Trial 55 finished with value: 0.058057115707643644 and parameters: {'lambda_l1': 3.2956792945849545e-07, 'lambda_l2': 2.2311398834761413e-08}. Best is trial 55 with value: 0.058057115707643644.\u001b[0m\n"
          ]
        },
        {
          "output_type": "stream",
          "name": "stdout",
          "text": [
            "Early stopping, best iteration is:\n",
            "[37]\tTrain's rmse: 0.138332\tTest's rmse: 0.0580571\n",
            "Training until validation scores don't improve for 50 rounds.\n"
          ]
        },
        {
          "output_type": "stream",
          "name": "stderr",
          "text": [
            "\u001b[32m[I 2021-12-14 12:11:42,714]\u001b[0m Trial 56 finished with value: 0.05805858934716006 and parameters: {'lambda_l1': 0.0008421907750901968, 'lambda_l2': 1.2702524155028834e-08}. Best is trial 55 with value: 0.058057115707643644.\u001b[0m\n"
          ]
        },
        {
          "output_type": "stream",
          "name": "stdout",
          "text": [
            "Early stopping, best iteration is:\n",
            "[37]\tTrain's rmse: 0.138334\tTest's rmse: 0.0580586\n",
            "Training until validation scores don't improve for 50 rounds.\n"
          ]
        },
        {
          "output_type": "stream",
          "name": "stderr",
          "text": [
            "\u001b[32m[I 2021-12-14 12:11:43,138]\u001b[0m Trial 57 finished with value: 0.05806253856152234 and parameters: {'lambda_l1': 3.447615183683311e-07, 'lambda_l2': 2.6087844118276602e-05}. Best is trial 55 with value: 0.058057115707643644.\u001b[0m\n"
          ]
        },
        {
          "output_type": "stream",
          "name": "stdout",
          "text": [
            "Early stopping, best iteration is:\n",
            "[37]\tTrain's rmse: 0.138333\tTest's rmse: 0.0580625\n",
            "Training until validation scores don't improve for 50 rounds.\n"
          ]
        },
        {
          "output_type": "stream",
          "name": "stderr",
          "text": [
            "\u001b[32m[I 2021-12-14 12:11:43,557]\u001b[0m Trial 58 finished with value: 0.058062522570242525 and parameters: {'lambda_l1': 4.895525573655169e-06, 'lambda_l2': 1.3153049473274364e-07}. Best is trial 55 with value: 0.058057115707643644.\u001b[0m\n"
          ]
        },
        {
          "output_type": "stream",
          "name": "stdout",
          "text": [
            "Early stopping, best iteration is:\n",
            "[37]\tTrain's rmse: 0.138333\tTest's rmse: 0.0580625\n",
            "Training until validation scores don't improve for 50 rounds.\n"
          ]
        },
        {
          "output_type": "stream",
          "name": "stderr",
          "text": [
            "\u001b[32m[I 2021-12-14 12:11:43,977]\u001b[0m Trial 59 finished with value: 0.05806254806941871 and parameters: {'lambda_l1': 8.888685965689552e-08, 'lambda_l2': 3.59424753355417e-05}. Best is trial 55 with value: 0.058057115707643644.\u001b[0m\n"
          ]
        },
        {
          "output_type": "stream",
          "name": "stdout",
          "text": [
            "Early stopping, best iteration is:\n",
            "[37]\tTrain's rmse: 0.138333\tTest's rmse: 0.0580625\n",
            "Training until validation scores don't improve for 50 rounds.\n"
          ]
        },
        {
          "output_type": "stream",
          "name": "stderr",
          "text": [
            "\u001b[32m[I 2021-12-14 12:11:44,400]\u001b[0m Trial 60 finished with value: 0.05805385016480083 and parameters: {'lambda_l1': 0.00013207817698280088, 'lambda_l2': 6.182028633393764e-08}. Best is trial 60 with value: 0.05805385016480083.\u001b[0m\n"
          ]
        },
        {
          "output_type": "stream",
          "name": "stdout",
          "text": [
            "Early stopping, best iteration is:\n",
            "[37]\tTrain's rmse: 0.138335\tTest's rmse: 0.0580539\n",
            "Training until validation scores don't improve for 50 rounds.\n"
          ]
        },
        {
          "output_type": "stream",
          "name": "stderr",
          "text": [
            "\u001b[32m[I 2021-12-14 12:11:44,825]\u001b[0m Trial 61 finished with value: 0.058074603668521955 and parameters: {'lambda_l1': 0.006619403883408229, 'lambda_l2': 4.4867592289699433e-08}. Best is trial 60 with value: 0.05805385016480083.\u001b[0m\n"
          ]
        },
        {
          "output_type": "stream",
          "name": "stdout",
          "text": [
            "Early stopping, best iteration is:\n",
            "[37]\tTrain's rmse: 0.138355\tTest's rmse: 0.0580746\n",
            "Training until validation scores don't improve for 50 rounds.\n"
          ]
        },
        {
          "output_type": "stream",
          "name": "stderr",
          "text": [
            "\u001b[32m[I 2021-12-14 12:11:45,252]\u001b[0m Trial 62 finished with value: 0.058054314557217254 and parameters: {'lambda_l1': 0.00025810516640876845, 'lambda_l2': 1.7050148532160947e-05}. Best is trial 60 with value: 0.05805385016480083.\u001b[0m\n"
          ]
        },
        {
          "output_type": "stream",
          "name": "stdout",
          "text": [
            "Early stopping, best iteration is:\n",
            "[37]\tTrain's rmse: 0.138336\tTest's rmse: 0.0580543\n",
            "Training until validation scores don't improve for 50 rounds.\n"
          ]
        },
        {
          "output_type": "stream",
          "name": "stderr",
          "text": [
            "\u001b[32m[I 2021-12-14 12:11:45,635]\u001b[0m Trial 63 finished with value: 0.052679342271553596 and parameters: {'min_child_samples': 5}. Best is trial 63 with value: 0.052679342271553596.\u001b[0m\n"
          ]
        },
        {
          "output_type": "stream",
          "name": "stdout",
          "text": [
            "Early stopping, best iteration is:\n",
            "[36]\tTrain's rmse: 0.0567964\tTest's rmse: 0.0526793\n",
            "Training until validation scores don't improve for 50 rounds.\n"
          ]
        },
        {
          "output_type": "stream",
          "name": "stderr",
          "text": [
            "\u001b[32m[I 2021-12-14 12:11:45,994]\u001b[0m Trial 64 finished with value: 0.05305393904272182 and parameters: {'min_child_samples': 10}. Best is trial 63 with value: 0.052679342271553596.\u001b[0m\n"
          ]
        },
        {
          "output_type": "stream",
          "name": "stdout",
          "text": [
            "Early stopping, best iteration is:\n",
            "[30]\tTrain's rmse: 0.090535\tTest's rmse: 0.0530539\n",
            "Training until validation scores don't improve for 50 rounds.\n"
          ]
        },
        {
          "output_type": "stream",
          "name": "stderr",
          "text": [
            "\u001b[32m[I 2021-12-14 12:11:46,511]\u001b[0m Trial 65 finished with value: 0.08214753461495505 and parameters: {'min_child_samples': 25}. Best is trial 63 with value: 0.052679342271553596.\u001b[0m\n"
          ]
        },
        {
          "output_type": "stream",
          "name": "stdout",
          "text": [
            "Did not meet early stopping. Best iteration is:\n",
            "[100]\tTrain's rmse: 0.151381\tTest's rmse: 0.0821475\n",
            "Training until validation scores don't improve for 50 rounds.\n"
          ]
        },
        {
          "output_type": "stream",
          "name": "stderr",
          "text": [
            "\u001b[32m[I 2021-12-14 12:11:47,057]\u001b[0m Trial 66 finished with value: 0.15472880029174355 and parameters: {'min_child_samples': 50}. Best is trial 63 with value: 0.052679342271553596.\u001b[0m\n"
          ]
        },
        {
          "output_type": "stream",
          "name": "stdout",
          "text": [
            "Did not meet early stopping. Best iteration is:\n",
            "[100]\tTrain's rmse: 0.221904\tTest's rmse: 0.154729\n",
            "Training until validation scores don't improve for 50 rounds.\n"
          ]
        },
        {
          "output_type": "stream",
          "name": "stderr",
          "text": [
            "\u001b[32m[I 2021-12-14 12:11:47,620]\u001b[0m Trial 67 finished with value: 0.22513712350277576 and parameters: {'min_child_samples': 100}. Best is trial 63 with value: 0.052679342271553596.\u001b[0m\n"
          ]
        },
        {
          "output_type": "stream",
          "name": "stdout",
          "text": [
            "Did not meet early stopping. Best iteration is:\n",
            "[100]\tTrain's rmse: 0.282398\tTest's rmse: 0.225137\n"
          ]
        },
        {
          "output_type": "display_data",
          "data": {
            "image/png": "[encoded data removed]",
            "text/plain": [
              "<Figure size 432x288 with 1 Axes>"
            ]
          },
          "metadata": {
            "needs_background": "light"
          }
        },
        {
          "output_type": "stream",
          "name": "stderr",
          "text": [
            "\u001b[32m[I 2021-12-14 12:11:47,804]\u001b[0m A new study created in memory with name: no-name-6e70cf41-91fb-4d8e-8c24-a83eab003721\u001b[0m\n"
          ]
        },
        {
          "output_type": "stream",
          "name": "stdout",
          "text": [
            "Training until validation scores don't improve for 50 rounds.\n"
          ]
        },
        {
          "output_type": "stream",
          "name": "stderr",
          "text": [
            "\u001b[32m[I 2021-12-14 12:11:48,139]\u001b[0m Trial 0 finished with value: 0.025040268390335334 and parameters: {'feature_fraction': 0.7}. Best is trial 0 with value: 0.025040268390335334.\u001b[0m\n"
          ]
        },
        {
          "output_type": "stream",
          "name": "stdout",
          "text": [
            "Early stopping, best iteration is:\n",
            "[46]\tTrain's rmse: 0.12506\tTest's rmse: 0.0250403\n",
            "Training until validation scores don't improve for 50 rounds.\n"
          ]
        },
        {
          "output_type": "stream",
          "name": "stderr",
          "text": [
            "\u001b[32m[I 2021-12-14 12:11:48,441]\u001b[0m Trial 1 finished with value: 0.02229233698830732 and parameters: {'feature_fraction': 0.8}. Best is trial 1 with value: 0.02229233698830732.\u001b[0m\n"
          ]
        },
        {
          "output_type": "stream",
          "name": "stdout",
          "text": [
            "Early stopping, best iteration is:\n",
            "[38]\tTrain's rmse: 0.126555\tTest's rmse: 0.0222923\n",
            "Training until validation scores don't improve for 50 rounds.\n"
          ]
        },
        {
          "output_type": "stream",
          "name": "stderr",
          "text": [
            "\u001b[32m[I 2021-12-14 12:11:48,756]\u001b[0m Trial 2 finished with value: 0.023489889546843112 and parameters: {'feature_fraction': 0.8999999999999999}. Best is trial 1 with value: 0.02229233698830732.\u001b[0m\n"
          ]
        },
        {
          "output_type": "stream",
          "name": "stdout",
          "text": [
            "Early stopping, best iteration is:\n",
            "[38]\tTrain's rmse: 0.125938\tTest's rmse: 0.0234899\n",
            "Training until validation scores don't improve for 50 rounds.\n"
          ]
        },
        {
          "output_type": "stream",
          "name": "stderr",
          "text": [
            "\u001b[32m[I 2021-12-14 12:11:49,054]\u001b[0m Trial 3 finished with value: 0.024061342040078457 and parameters: {'feature_fraction': 0.5}. Best is trial 1 with value: 0.02229233698830732.\u001b[0m\n"
          ]
        },
        {
          "output_type": "stream",
          "name": "stdout",
          "text": [
            "Early stopping, best iteration is:\n",
            "[43]\tTrain's rmse: 0.128515\tTest's rmse: 0.0240613\n",
            "Training until validation scores don't improve for 50 rounds.\n"
          ]
        },
        {
          "output_type": "stream",
          "name": "stderr",
          "text": [
            "\u001b[32m[I 2021-12-14 12:11:49,359]\u001b[0m Trial 4 finished with value: 0.023645218559607106 and parameters: {'feature_fraction': 0.6}. Best is trial 1 with value: 0.02229233698830732.\u001b[0m\n"
          ]
        },
        {
          "output_type": "stream",
          "name": "stdout",
          "text": [
            "Early stopping, best iteration is:\n",
            "[46]\tTrain's rmse: 0.125728\tTest's rmse: 0.0236452\n",
            "Training until validation scores don't improve for 50 rounds.\n"
          ]
        },
        {
          "output_type": "stream",
          "name": "stderr",
          "text": [
            "\u001b[32m[I 2021-12-14 12:11:49,663]\u001b[0m Trial 5 finished with value: 0.03201789190664106 and parameters: {'feature_fraction': 0.4}. Best is trial 1 with value: 0.02229233698830732.\u001b[0m\n"
          ]
        },
        {
          "output_type": "stream",
          "name": "stdout",
          "text": [
            "Did not meet early stopping. Best iteration is:\n",
            "[100]\tTrain's rmse: 0.122171\tTest's rmse: 0.0320179\n",
            "Training until validation scores don't improve for 50 rounds.\n"
          ]
        },
        {
          "output_type": "stream",
          "name": "stderr",
          "text": [
            "\u001b[32m[I 2021-12-14 12:11:49,999]\u001b[0m Trial 6 finished with value: 0.02394556891971973 and parameters: {'feature_fraction': 1.0}. Best is trial 1 with value: 0.02229233698830732.\u001b[0m\n"
          ]
        },
        {
          "output_type": "stream",
          "name": "stdout",
          "text": [
            "Early stopping, best iteration is:\n",
            "[38]\tTrain's rmse: 0.125631\tTest's rmse: 0.0239456\n",
            "Training until validation scores don't improve for 50 rounds.\n"
          ]
        },
        {
          "output_type": "stream",
          "name": "stderr",
          "text": [
            "\u001b[32m[I 2021-12-14 12:11:50,529]\u001b[0m Trial 7 finished with value: 0.023662045648052483 and parameters: {'num_leaves': 97}. Best is trial 7 with value: 0.023662045648052483.\u001b[0m\n"
          ]
        },
        {
          "output_type": "stream",
          "name": "stdout",
          "text": [
            "Early stopping, best iteration is:\n",
            "[38]\tTrain's rmse: 0.126002\tTest's rmse: 0.023662\n",
            "Training until validation scores don't improve for 50 rounds.\n"
          ]
        },
        {
          "output_type": "stream",
          "name": "stderr",
          "text": [
            "\u001b[32m[I 2021-12-14 12:11:51,470]\u001b[0m Trial 8 finished with value: 0.02365852276287867 and parameters: {'num_leaves': 244}. Best is trial 8 with value: 0.02365852276287867.\u001b[0m\n"
          ]
        },
        {
          "output_type": "stream",
          "name": "stdout",
          "text": [
            "Early stopping, best iteration is:\n",
            "[38]\tTrain's rmse: 0.126045\tTest's rmse: 0.0236585\n",
            "Training until validation scores don't improve for 50 rounds.\n"
          ]
        },
        {
          "output_type": "stream",
          "name": "stderr",
          "text": [
            "\u001b[32m[I 2021-12-14 12:11:52,257]\u001b[0m Trial 9 finished with value: 0.02365441779652095 and parameters: {'num_leaves': 188}. Best is trial 9 with value: 0.02365441779652095.\u001b[0m\n"
          ]
        },
        {
          "output_type": "stream",
          "name": "stdout",
          "text": [
            "Early stopping, best iteration is:\n",
            "[38]\tTrain's rmse: 0.126045\tTest's rmse: 0.0236544\n",
            "Training until validation scores don't improve for 50 rounds.\n"
          ]
        },
        {
          "output_type": "stream",
          "name": "stderr",
          "text": [
            "\u001b[32m[I 2021-12-14 12:11:52,927]\u001b[0m Trial 10 finished with value: 0.023645552533202167 and parameters: {'num_leaves': 154}. Best is trial 10 with value: 0.023645552533202167.\u001b[0m\n"
          ]
        },
        {
          "output_type": "stream",
          "name": "stdout",
          "text": [
            "Early stopping, best iteration is:\n",
            "[38]\tTrain's rmse: 0.126048\tTest's rmse: 0.0236456\n",
            "Training until validation scores don't improve for 50 rounds.\n"
          ]
        },
        {
          "output_type": "stream",
          "name": "stderr",
          "text": [
            "\u001b[32m[I 2021-12-14 12:11:53,271]\u001b[0m Trial 11 finished with value: 0.023649714052866325 and parameters: {'num_leaves': 41}. Best is trial 10 with value: 0.023645552533202167.\u001b[0m\n"
          ]
        },
        {
          "output_type": "stream",
          "name": "stdout",
          "text": [
            "Early stopping, best iteration is:\n",
            "[38]\tTrain's rmse: 0.126029\tTest's rmse: 0.0236497\n",
            "Training until validation scores don't improve for 50 rounds.\n"
          ]
        },
        {
          "output_type": "stream",
          "name": "stderr",
          "text": [
            "\u001b[32m[I 2021-12-14 12:11:53,606]\u001b[0m Trial 12 finished with value: 0.023649714052866325 and parameters: {'num_leaves': 41}. Best is trial 10 with value: 0.023645552533202167.\u001b[0m\n"
          ]
        },
        {
          "output_type": "stream",
          "name": "stdout",
          "text": [
            "Early stopping, best iteration is:\n",
            "[38]\tTrain's rmse: 0.126029\tTest's rmse: 0.0236497\n",
            "Training until validation scores don't improve for 50 rounds.\n"
          ]
        },
        {
          "output_type": "stream",
          "name": "stderr",
          "text": [
            "\u001b[32m[I 2021-12-14 12:11:53,834]\u001b[0m Trial 13 finished with value: 0.022685778923661942 and parameters: {'num_leaves': 16}. Best is trial 13 with value: 0.022685778923661942.\u001b[0m\n"
          ]
        },
        {
          "output_type": "stream",
          "name": "stdout",
          "text": [
            "Early stopping, best iteration is:\n",
            "[38]\tTrain's rmse: 0.126343\tTest's rmse: 0.0226858\n",
            "Training until validation scores don't improve for 50 rounds.\n"
          ]
        },
        {
          "output_type": "stream",
          "name": "stderr",
          "text": [
            "\u001b[32m[I 2021-12-14 12:11:54,708]\u001b[0m Trial 14 finished with value: 0.02365775426564423 and parameters: {'num_leaves': 222}. Best is trial 13 with value: 0.022685778923661942.\u001b[0m\n"
          ]
        },
        {
          "output_type": "stream",
          "name": "stdout",
          "text": [
            "Early stopping, best iteration is:\n",
            "[38]\tTrain's rmse: 0.126045\tTest's rmse: 0.0236578\n",
            "Training until validation scores don't improve for 50 rounds.\n"
          ]
        },
        {
          "output_type": "stream",
          "name": "stderr",
          "text": [
            "\u001b[32m[I 2021-12-14 12:11:55,401]\u001b[0m Trial 15 finished with value: 0.02364226845037065 and parameters: {'num_leaves': 155}. Best is trial 13 with value: 0.022685778923661942.\u001b[0m\n"
          ]
        },
        {
          "output_type": "stream",
          "name": "stdout",
          "text": [
            "Early stopping, best iteration is:\n",
            "[38]\tTrain's rmse: 0.126048\tTest's rmse: 0.0236423\n",
            "Training until validation scores don't improve for 50 rounds.\n"
          ]
        },
        {
          "output_type": "stream",
          "name": "stderr",
          "text": [
            "\u001b[32m[I 2021-12-14 12:11:56,184]\u001b[0m Trial 16 finished with value: 0.023653624619276257 and parameters: {'num_leaves': 182}. Best is trial 13 with value: 0.022685778923661942.\u001b[0m\n",
            "\u001b[32m[I 2021-12-14 12:11:56,343]\u001b[0m Trial 17 finished with value: 0.023696683602042724 and parameters: {'num_leaves': 7}. Best is trial 13 with value: 0.022685778923661942.\u001b[0m\n"
          ]
        },
        {
          "output_type": "stream",
          "name": "stdout",
          "text": [
            "Early stopping, best iteration is:\n",
            "[38]\tTrain's rmse: 0.126045\tTest's rmse: 0.0236536\n",
            "Training until validation scores don't improve for 50 rounds.\n",
            "Early stopping, best iteration is:\n",
            "[44]\tTrain's rmse: 0.125051\tTest's rmse: 0.0236967\n",
            "Training until validation scores don't improve for 50 rounds.\n"
          ]
        },
        {
          "output_type": "stream",
          "name": "stderr",
          "text": [
            "\u001b[32m[I 2021-12-14 12:11:56,896]\u001b[0m Trial 18 finished with value: 0.02366037848657745 and parameters: {'num_leaves': 104}. Best is trial 13 with value: 0.022685778923661942.\u001b[0m\n"
          ]
        },
        {
          "output_type": "stream",
          "name": "stdout",
          "text": [
            "Early stopping, best iteration is:\n",
            "[38]\tTrain's rmse: 0.126045\tTest's rmse: 0.0236604\n",
            "Training until validation scores don't improve for 50 rounds.\n"
          ]
        },
        {
          "output_type": "stream",
          "name": "stderr",
          "text": [
            "\u001b[32m[I 2021-12-14 12:11:57,509]\u001b[0m Trial 19 finished with value: 0.023637071541185165 and parameters: {'num_leaves': 128}. Best is trial 13 with value: 0.022685778923661942.\u001b[0m\n"
          ]
        },
        {
          "output_type": "stream",
          "name": "stdout",
          "text": [
            "Early stopping, best iteration is:\n",
            "[38]\tTrain's rmse: 0.126048\tTest's rmse: 0.0236371\n",
            "Training until validation scores don't improve for 50 rounds.\n"
          ]
        },
        {
          "output_type": "stream",
          "name": "stderr",
          "text": [
            "\u001b[32m[I 2021-12-14 12:11:57,964]\u001b[0m Trial 20 finished with value: 0.023653883343965162 and parameters: {'num_leaves': 76}. Best is trial 13 with value: 0.022685778923661942.\u001b[0m\n",
            "\u001b[32m[I 2021-12-14 12:11:58,113]\u001b[0m Trial 21 finished with value: 0.024560459325906187 and parameters: {'num_leaves': 5}. Best is trial 13 with value: 0.022685778923661942.\u001b[0m\n"
          ]
        },
        {
          "output_type": "stream",
          "name": "stdout",
          "text": [
            "Early stopping, best iteration is:\n",
            "[38]\tTrain's rmse: 0.126002\tTest's rmse: 0.0236539\n",
            "Training until validation scores don't improve for 50 rounds.\n",
            "Early stopping, best iteration is:\n",
            "[47]\tTrain's rmse: 0.126753\tTest's rmse: 0.0245605\n",
            "Training until validation scores don't improve for 50 rounds.\n"
          ]
        },
        {
          "output_type": "stream",
          "name": "stderr",
          "text": [
            "\u001b[32m[I 2021-12-14 12:11:58,510]\u001b[0m Trial 22 finished with value: 0.02355000480992408 and parameters: {'num_leaves': 56}. Best is trial 13 with value: 0.022685778923661942.\u001b[0m\n"
          ]
        },
        {
          "output_type": "stream",
          "name": "stdout",
          "text": [
            "Early stopping, best iteration is:\n",
            "[38]\tTrain's rmse: 0.126004\tTest's rmse: 0.02355\n",
            "Training until validation scores don't improve for 50 rounds.\n"
          ]
        },
        {
          "output_type": "stream",
          "name": "stderr",
          "text": [
            "\u001b[32m[I 2021-12-14 12:11:58,901]\u001b[0m Trial 23 finished with value: 0.02355000480992408 and parameters: {'num_leaves': 56}. Best is trial 13 with value: 0.022685778923661942.\u001b[0m\n"
          ]
        },
        {
          "output_type": "stream",
          "name": "stdout",
          "text": [
            "Early stopping, best iteration is:\n",
            "[38]\tTrain's rmse: 0.126004\tTest's rmse: 0.02355\n",
            "Training until validation scores don't improve for 50 rounds.\n"
          ]
        },
        {
          "output_type": "stream",
          "name": "stderr",
          "text": [
            "\u001b[32m[I 2021-12-14 12:11:59,225]\u001b[0m Trial 24 finished with value: 0.023642459544842814 and parameters: {'num_leaves': 33}. Best is trial 13 with value: 0.022685778923661942.\u001b[0m\n"
          ]
        },
        {
          "output_type": "stream",
          "name": "stdout",
          "text": [
            "Early stopping, best iteration is:\n",
            "[38]\tTrain's rmse: 0.126012\tTest's rmse: 0.0236425\n",
            "Training until validation scores don't improve for 50 rounds.\n"
          ]
        },
        {
          "output_type": "stream",
          "name": "stderr",
          "text": [
            "\u001b[32m[I 2021-12-14 12:11:59,664]\u001b[0m Trial 25 finished with value: 0.023664242177358342 and parameters: {'num_leaves': 69}. Best is trial 13 with value: 0.022685778923661942.\u001b[0m\n"
          ]
        },
        {
          "output_type": "stream",
          "name": "stdout",
          "text": [
            "Early stopping, best iteration is:\n",
            "[38]\tTrain's rmse: 0.125998\tTest's rmse: 0.0236642\n",
            "Training until validation scores don't improve for 50 rounds.\n"
          ]
        },
        {
          "output_type": "stream",
          "name": "stderr",
          "text": [
            "\u001b[32m[I 2021-12-14 12:12:00,226]\u001b[0m Trial 26 finished with value: 0.023645484508515103 and parameters: {'num_leaves': 98}. Best is trial 13 with value: 0.022685778923661942.\u001b[0m\n"
          ]
        },
        {
          "output_type": "stream",
          "name": "stdout",
          "text": [
            "Early stopping, best iteration is:\n",
            "[38]\tTrain's rmse: 0.126002\tTest's rmse: 0.0236455\n",
            "Training until validation scores don't improve for 50 rounds.\n"
          ]
        },
        {
          "output_type": "stream",
          "name": "stderr",
          "text": [
            "\u001b[32m[I 2021-12-14 12:12:00,662]\u001b[0m Trial 27 finished with value: 0.06928488065870866 and parameters: {'bagging_fraction': 0.624724071308792, 'bagging_freq': 7}. Best is trial 27 with value: 0.06928488065870866.\u001b[0m\n"
          ]
        },
        {
          "output_type": "stream",
          "name": "stdout",
          "text": [
            "Did not meet early stopping. Best iteration is:\n",
            "[100]\tTrain's rmse: 0.151942\tTest's rmse: 0.0692849\n",
            "Training until validation scores don't improve for 50 rounds.\n"
          ]
        },
        {
          "output_type": "stream",
          "name": "stderr",
          "text": [
            "\u001b[32m[I 2021-12-14 12:12:01,097]\u001b[0m Trial 28 finished with value: 0.050195879023263806 and parameters: {'bagging_fraction': 0.8391963650875751, 'bagging_freq': 5}. Best is trial 28 with value: 0.050195879023263806.\u001b[0m\n"
          ]
        },
        {
          "output_type": "stream",
          "name": "stdout",
          "text": [
            "Did not meet early stopping. Best iteration is:\n",
            "[96]\tTrain's rmse: 0.128854\tTest's rmse: 0.0501959\n",
            "Training until validation scores don't improve for 50 rounds.\n"
          ]
        },
        {
          "output_type": "stream",
          "name": "stderr",
          "text": [
            "\u001b[32m[I 2021-12-14 12:12:01,453]\u001b[0m Trial 29 finished with value: 0.08757269334605308 and parameters: {'bagging_fraction': 0.49361118426561795, 'bagging_freq': 2}. Best is trial 28 with value: 0.050195879023263806.\u001b[0m\n"
          ]
        },
        {
          "output_type": "stream",
          "name": "stdout",
          "text": [
            "Early stopping, best iteration is:\n",
            "[36]\tTrain's rmse: 0.19187\tTest's rmse: 0.0875727\n",
            "Training until validation scores don't improve for 50 rounds.\n"
          ]
        },
        {
          "output_type": "stream",
          "name": "stderr",
          "text": [
            "\u001b[32m[I 2021-12-14 12:12:01,842]\u001b[0m Trial 30 finished with value: 0.10786810988504812 and parameters: {'bagging_fraction': 0.4348501673009778, 'bagging_freq': 7}. Best is trial 28 with value: 0.050195879023263806.\u001b[0m\n"
          ]
        },
        {
          "output_type": "stream",
          "name": "stdout",
          "text": [
            "Early stopping, best iteration is:\n",
            "[43]\tTrain's rmse: 0.209974\tTest's rmse: 0.107868\n",
            "Training until validation scores don't improve for 50 rounds.\n"
          ]
        },
        {
          "output_type": "stream",
          "name": "stderr",
          "text": [
            "\u001b[32m[I 2021-12-14 12:12:02,302]\u001b[0m Trial 31 finished with value: 0.05169930830281689 and parameters: {'bagging_fraction': 0.7606690070465265, 'bagging_freq': 5}. Best is trial 28 with value: 0.050195879023263806.\u001b[0m\n"
          ]
        },
        {
          "output_type": "stream",
          "name": "stdout",
          "text": [
            "Did not meet early stopping. Best iteration is:\n",
            "[100]\tTrain's rmse: 0.137115\tTest's rmse: 0.0516993\n",
            "Training until validation scores don't improve for 50 rounds.\n"
          ]
        },
        {
          "output_type": "stream",
          "name": "stderr",
          "text": [
            "\u001b[32m[I 2021-12-14 12:12:02,687]\u001b[0m Trial 32 finished with value: 0.10526160143742253 and parameters: {'bagging_fraction': 0.41235069657750206, 'bagging_freq': 7}. Best is trial 28 with value: 0.050195879023263806.\u001b[0m\n"
          ]
        },
        {
          "output_type": "stream",
          "name": "stdout",
          "text": [
            "Early stopping, best iteration is:\n",
            "[42]\tTrain's rmse: 0.210979\tTest's rmse: 0.105262\n",
            "Training until validation scores don't improve for 50 rounds.\n"
          ]
        },
        {
          "output_type": "stream",
          "name": "stderr",
          "text": [
            "\u001b[32m[I 2021-12-14 12:12:03,145]\u001b[0m Trial 33 finished with value: 0.04128946827171088 and parameters: {'bagging_fraction': 0.8994655844810855, 'bagging_freq': 2}. Best is trial 33 with value: 0.04128946827171088.\u001b[0m\n"
          ]
        },
        {
          "output_type": "stream",
          "name": "stdout",
          "text": [
            "Did not meet early stopping. Best iteration is:\n",
            "[100]\tTrain's rmse: 0.12332\tTest's rmse: 0.0412895\n",
            "Training until validation scores don't improve for 50 rounds.\n"
          ]
        },
        {
          "output_type": "stream",
          "name": "stderr",
          "text": [
            "\u001b[32m[I 2021-12-14 12:12:03,500]\u001b[0m Trial 34 finished with value: 0.0838798790394459 and parameters: {'bagging_fraction': 0.5090949803244422, 'bagging_freq': 2}. Best is trial 33 with value: 0.04128946827171088.\u001b[0m\n"
          ]
        },
        {
          "output_type": "stream",
          "name": "stdout",
          "text": [
            "Early stopping, best iteration is:\n",
            "[36]\tTrain's rmse: 0.186016\tTest's rmse: 0.0838799\n",
            "Training until validation scores don't improve for 50 rounds.\n"
          ]
        },
        {
          "output_type": "stream",
          "name": "stderr",
          "text": [
            "\u001b[32m[I 2021-12-14 12:12:03,933]\u001b[0m Trial 35 finished with value: 0.0668364724713338 and parameters: {'bagging_fraction': 0.5825453457760269, 'bagging_freq': 4}. Best is trial 33 with value: 0.04128946827171088.\u001b[0m\n"
          ]
        },
        {
          "output_type": "stream",
          "name": "stdout",
          "text": [
            "Did not meet early stopping. Best iteration is:\n",
            "[96]\tTrain's rmse: 0.164164\tTest's rmse: 0.0668365\n",
            "Training until validation scores don't improve for 50 rounds.\n"
          ]
        },
        {
          "output_type": "stream",
          "name": "stderr",
          "text": [
            "\u001b[32m[I 2021-12-14 12:12:04,375]\u001b[0m Trial 36 finished with value: 0.0711876931965441 and parameters: {'bagging_fraction': 0.6591670111857015, 'bagging_freq': 3}. Best is trial 33 with value: 0.04128946827171088.\u001b[0m\n"
          ]
        },
        {
          "output_type": "stream",
          "name": "stdout",
          "text": [
            "Did not meet early stopping. Best iteration is:\n",
            "[100]\tTrain's rmse: 0.141705\tTest's rmse: 0.0711877\n",
            "Training until validation scores don't improve for 50 rounds.\n"
          ]
        },
        {
          "output_type": "stream",
          "name": "stderr",
          "text": [
            "\u001b[32m[I 2021-12-14 12:12:04,686]\u001b[0m Trial 37 finished with value: 0.02229233698830732 and parameters: {'feature_fraction': 0.8160000000000001}. Best is trial 37 with value: 0.02229233698830732.\u001b[0m\n"
          ]
        },
        {
          "output_type": "stream",
          "name": "stdout",
          "text": [
            "Early stopping, best iteration is:\n",
            "[38]\tTrain's rmse: 0.126555\tTest's rmse: 0.0222923\n",
            "Training until validation scores don't improve for 50 rounds.\n"
          ]
        },
        {
          "output_type": "stream",
          "name": "stderr",
          "text": [
            "\u001b[32m[I 2021-12-14 12:12:05,003]\u001b[0m Trial 38 finished with value: 0.025040268390335334 and parameters: {'feature_fraction': 0.7200000000000001}. Best is trial 37 with value: 0.02229233698830732.\u001b[0m\n"
          ]
        },
        {
          "output_type": "stream",
          "name": "stdout",
          "text": [
            "Early stopping, best iteration is:\n",
            "[46]\tTrain's rmse: 0.12506\tTest's rmse: 0.0250403\n",
            "Training until validation scores don't improve for 50 rounds.\n"
          ]
        },
        {
          "output_type": "stream",
          "name": "stderr",
          "text": [
            "\u001b[32m[I 2021-12-14 12:12:05,313]\u001b[0m Trial 39 finished with value: 0.02229233698830732 and parameters: {'feature_fraction': 0.88}. Best is trial 37 with value: 0.02229233698830732.\u001b[0m\n"
          ]
        },
        {
          "output_type": "stream",
          "name": "stdout",
          "text": [
            "Early stopping, best iteration is:\n",
            "[38]\tTrain's rmse: 0.126555\tTest's rmse: 0.0222923\n",
            "Training until validation scores don't improve for 50 rounds.\n"
          ]
        },
        {
          "output_type": "stream",
          "name": "stderr",
          "text": [
            "\u001b[32m[I 2021-12-14 12:12:05,629]\u001b[0m Trial 40 finished with value: 0.025040268390335334 and parameters: {'feature_fraction': 0.784}. Best is trial 37 with value: 0.02229233698830732.\u001b[0m\n"
          ]
        },
        {
          "output_type": "stream",
          "name": "stdout",
          "text": [
            "Early stopping, best iteration is:\n",
            "[46]\tTrain's rmse: 0.12506\tTest's rmse: 0.0250403\n",
            "Training until validation scores don't improve for 50 rounds.\n"
          ]
        },
        {
          "output_type": "stream",
          "name": "stderr",
          "text": [
            "\u001b[32m[I 2021-12-14 12:12:05,931]\u001b[0m Trial 41 finished with value: 0.02229233698830732 and parameters: {'feature_fraction': 0.8480000000000001}. Best is trial 37 with value: 0.02229233698830732.\u001b[0m\n"
          ]
        },
        {
          "output_type": "stream",
          "name": "stdout",
          "text": [
            "Early stopping, best iteration is:\n",
            "[38]\tTrain's rmse: 0.126555\tTest's rmse: 0.0222923\n",
            "Training until validation scores don't improve for 50 rounds.\n"
          ]
        },
        {
          "output_type": "stream",
          "name": "stderr",
          "text": [
            "\u001b[32m[I 2021-12-14 12:12:06,263]\u001b[0m Trial 42 finished with value: 0.025040268390335334 and parameters: {'feature_fraction': 0.7520000000000001}. Best is trial 37 with value: 0.02229233698830732.\u001b[0m\n"
          ]
        },
        {
          "output_type": "stream",
          "name": "stdout",
          "text": [
            "Early stopping, best iteration is:\n",
            "[46]\tTrain's rmse: 0.12506\tTest's rmse: 0.0250403\n",
            "Training until validation scores don't improve for 50 rounds.\n"
          ]
        },
        {
          "output_type": "stream",
          "name": "stderr",
          "text": [
            "\u001b[32m[I 2021-12-14 12:12:06,607]\u001b[0m Trial 43 finished with value: 0.019083936606909567 and parameters: {'lambda_l1': 2.348881295853308e-05, 'lambda_l2': 3.6010467344475403}. Best is trial 43 with value: 0.019083936606909567.\u001b[0m\n"
          ]
        },
        {
          "output_type": "stream",
          "name": "stdout",
          "text": [
            "Early stopping, best iteration is:\n",
            "[43]\tTrain's rmse: 0.128394\tTest's rmse: 0.0190839\n",
            "Training until validation scores don't improve for 50 rounds.\n"
          ]
        },
        {
          "output_type": "stream",
          "name": "stderr",
          "text": [
            "\u001b[32m[I 2021-12-14 12:12:06,911]\u001b[0m Trial 44 finished with value: 0.0226252142771108 and parameters: {'lambda_l1': 0.038720902953704193, 'lambda_l2': 0.0024430162614261413}. Best is trial 43 with value: 0.019083936606909567.\u001b[0m\n"
          ]
        },
        {
          "output_type": "stream",
          "name": "stdout",
          "text": [
            "Early stopping, best iteration is:\n",
            "[38]\tTrain's rmse: 0.126353\tTest's rmse: 0.0226252\n",
            "Training until validation scores don't improve for 50 rounds.\n"
          ]
        },
        {
          "output_type": "stream",
          "name": "stderr",
          "text": [
            "\u001b[32m[I 2021-12-14 12:12:07,214]\u001b[0m Trial 45 finished with value: 0.022292337684753007 and parameters: {'lambda_l1': 2.5361081166471375e-07, 'lambda_l2': 2.5348407664333426e-07}. Best is trial 43 with value: 0.019083936606909567.\u001b[0m\n"
          ]
        },
        {
          "output_type": "stream",
          "name": "stdout",
          "text": [
            "Early stopping, best iteration is:\n",
            "[38]\tTrain's rmse: 0.126555\tTest's rmse: 0.0222923\n",
            "Training until validation scores don't improve for 50 rounds.\n"
          ]
        },
        {
          "output_type": "stream",
          "name": "stderr",
          "text": [
            "\u001b[32m[I 2021-12-14 12:12:07,532]\u001b[0m Trial 46 finished with value: 0.02212846565891091 and parameters: {'lambda_l1': 3.3323645788192616e-08, 'lambda_l2': 0.6245760287469893}. Best is trial 43 with value: 0.019083936606909567.\u001b[0m\n"
          ]
        },
        {
          "output_type": "stream",
          "name": "stdout",
          "text": [
            "Early stopping, best iteration is:\n",
            "[38]\tTrain's rmse: 0.126944\tTest's rmse: 0.0221285\n",
            "Training until validation scores don't improve for 50 rounds.\n"
          ]
        },
        {
          "output_type": "stream",
          "name": "stderr",
          "text": [
            "\u001b[32m[I 2021-12-14 12:12:07,834]\u001b[0m Trial 47 finished with value: 0.02366341686799767 and parameters: {'lambda_l1': 0.002570603566117598, 'lambda_l2': 0.023585940584142682}. Best is trial 43 with value: 0.019083936606909567.\u001b[0m\n"
          ]
        },
        {
          "output_type": "stream",
          "name": "stdout",
          "text": [
            "Early stopping, best iteration is:\n",
            "[38]\tTrain's rmse: 0.126061\tTest's rmse: 0.0236634\n",
            "Training until validation scores don't improve for 50 rounds.\n"
          ]
        },
        {
          "output_type": "stream",
          "name": "stderr",
          "text": [
            "\u001b[32m[I 2021-12-14 12:12:08,168]\u001b[0m Trial 48 finished with value: 0.0215011431400123 and parameters: {'lambda_l1': 1.5320059381854043e-08, 'lambda_l2': 5.360294728728285}. Best is trial 43 with value: 0.019083936606909567.\u001b[0m\n"
          ]
        },
        {
          "output_type": "stream",
          "name": "stdout",
          "text": [
            "Early stopping, best iteration is:\n",
            "[43]\tTrain's rmse: 0.130069\tTest's rmse: 0.0215011\n",
            "Training until validation scores don't improve for 50 rounds.\n"
          ]
        },
        {
          "output_type": "stream",
          "name": "stderr",
          "text": [
            "\u001b[32m[I 2021-12-14 12:12:08,440]\u001b[0m Trial 49 finished with value: 0.023224701766303892 and parameters: {'lambda_l1': 0.31044435499483225, 'lambda_l2': 8.148018307012941e-07}. Best is trial 43 with value: 0.019083936606909567.\u001b[0m\n"
          ]
        },
        {
          "output_type": "stream",
          "name": "stdout",
          "text": [
            "Early stopping, best iteration is:\n",
            "[38]\tTrain's rmse: 0.12658\tTest's rmse: 0.0232247\n",
            "Training until validation scores don't improve for 50 rounds.\n"
          ]
        },
        {
          "output_type": "stream",
          "name": "stderr",
          "text": [
            "\u001b[32m[I 2021-12-14 12:12:08,752]\u001b[0m Trial 50 finished with value: 0.02229233809169045 and parameters: {'lambda_l1': 4.329370014459266e-07, 'lambda_l2': 4.4734294104626844e-07}. Best is trial 43 with value: 0.019083936606909567.\u001b[0m\n"
          ]
        },
        {
          "output_type": "stream",
          "name": "stdout",
          "text": [
            "Early stopping, best iteration is:\n",
            "[38]\tTrain's rmse: 0.126555\tTest's rmse: 0.0222923\n",
            "Training until validation scores don't improve for 50 rounds.\n"
          ]
        },
        {
          "output_type": "stream",
          "name": "stderr",
          "text": [
            "\u001b[32m[I 2021-12-14 12:12:09,065]\u001b[0m Trial 51 finished with value: 0.02229277604555763 and parameters: {'lambda_l1': 5.472429642032198e-06, 'lambda_l2': 0.00052821153945323}. Best is trial 43 with value: 0.019083936606909567.\u001b[0m\n"
          ]
        },
        {
          "output_type": "stream",
          "name": "stdout",
          "text": [
            "Early stopping, best iteration is:\n",
            "[38]\tTrain's rmse: 0.126555\tTest's rmse: 0.0222928\n",
            "Training until validation scores don't improve for 50 rounds.\n"
          ]
        },
        {
          "output_type": "stream",
          "name": "stderr",
          "text": [
            "\u001b[32m[I 2021-12-14 12:12:09,380]\u001b[0m Trial 52 finished with value: 0.022292481434566323 and parameters: {'lambda_l1': 7.71800699380605e-05, 'lambda_l2': 4.17890272377219e-06}. Best is trial 43 with value: 0.019083936606909567.\u001b[0m\n"
          ]
        },
        {
          "output_type": "stream",
          "name": "stdout",
          "text": [
            "Early stopping, best iteration is:\n",
            "[38]\tTrain's rmse: 0.126555\tTest's rmse: 0.0222925\n",
            "Training until validation scores don't improve for 50 rounds.\n"
          ]
        },
        {
          "output_type": "stream",
          "name": "stderr",
          "text": [
            "\u001b[32m[I 2021-12-14 12:12:09,608]\u001b[0m Trial 53 finished with value: 0.02333607730178136 and parameters: {'lambda_l1': 3.207959657544482, 'lambda_l2': 0.08759673038878969}. Best is trial 43 with value: 0.019083936606909567.\u001b[0m\n"
          ]
        },
        {
          "output_type": "stream",
          "name": "stdout",
          "text": [
            "Early stopping, best iteration is:\n",
            "[49]\tTrain's rmse: 0.126059\tTest's rmse: 0.0233361\n",
            "Training until validation scores don't improve for 50 rounds.\n"
          ]
        },
        {
          "output_type": "stream",
          "name": "stderr",
          "text": [
            "\u001b[32m[I 2021-12-14 12:12:09,925]\u001b[0m Trial 54 finished with value: 0.020012804159074304 and parameters: {'lambda_l1': 1.1692997958212103e-08, 'lambda_l2': 3.9472261531899844}. Best is trial 43 with value: 0.019083936606909567.\u001b[0m\n"
          ]
        },
        {
          "output_type": "stream",
          "name": "stdout",
          "text": [
            "Early stopping, best iteration is:\n",
            "[41]\tTrain's rmse: 0.129768\tTest's rmse: 0.0200128\n",
            "Training until validation scores don't improve for 50 rounds.\n"
          ]
        },
        {
          "output_type": "stream",
          "name": "stderr",
          "text": [
            "\u001b[32m[I 2021-12-14 12:12:10,247]\u001b[0m Trial 55 finished with value: 0.02106353422817382 and parameters: {'lambda_l1': 5.844078044738684e-05, 'lambda_l2': 2.417987765356211}. Best is trial 43 with value: 0.019083936606909567.\u001b[0m\n"
          ]
        },
        {
          "output_type": "stream",
          "name": "stdout",
          "text": [
            "Early stopping, best iteration is:\n",
            "[39]\tTrain's rmse: 0.128404\tTest's rmse: 0.0210635\n",
            "Training until validation scores don't improve for 50 rounds.\n"
          ]
        },
        {
          "output_type": "stream",
          "name": "stderr",
          "text": [
            "\u001b[32m[I 2021-12-14 12:12:10,560]\u001b[0m Trial 56 finished with value: 0.023571311363372194 and parameters: {'lambda_l1': 0.0016509874021187025, 'lambda_l2': 3.404677878190547e-05}. Best is trial 43 with value: 0.019083936606909567.\u001b[0m\n"
          ]
        },
        {
          "output_type": "stream",
          "name": "stdout",
          "text": [
            "Early stopping, best iteration is:\n",
            "[38]\tTrain's rmse: 0.126005\tTest's rmse: 0.0235713\n",
            "Training until validation scores don't improve for 50 rounds.\n"
          ]
        },
        {
          "output_type": "stream",
          "name": "stderr",
          "text": [
            "\u001b[32m[I 2021-12-14 12:12:10,864]\u001b[0m Trial 57 finished with value: 0.02229234449548435 and parameters: {'lambda_l1': 4.150019626406837e-06, 'lambda_l2': 1.3139855587432983e-08}. Best is trial 43 with value: 0.019083936606909567.\u001b[0m\n"
          ]
        },
        {
          "output_type": "stream",
          "name": "stdout",
          "text": [
            "Early stopping, best iteration is:\n",
            "[38]\tTrain's rmse: 0.126555\tTest's rmse: 0.0222923\n",
            "Training until validation scores don't improve for 50 rounds.\n"
          ]
        },
        {
          "output_type": "stream",
          "name": "stderr",
          "text": [
            "\u001b[32m[I 2021-12-14 12:12:11,180]\u001b[0m Trial 58 finished with value: 0.023541048139881504 and parameters: {'lambda_l1': 3.3639426888455315e-06, 'lambda_l2': 0.09582202435248795}. Best is trial 43 with value: 0.019083936606909567.\u001b[0m\n"
          ]
        },
        {
          "output_type": "stream",
          "name": "stdout",
          "text": [
            "Early stopping, best iteration is:\n",
            "[38]\tTrain's rmse: 0.126027\tTest's rmse: 0.023541\n",
            "Training until validation scores don't improve for 50 rounds.\n"
          ]
        },
        {
          "output_type": "stream",
          "name": "stderr",
          "text": [
            "\u001b[32m[I 2021-12-14 12:12:11,526]\u001b[0m Trial 59 finished with value: 0.017518370105894306 and parameters: {'lambda_l1': 1.505434741802647e-07, 'lambda_l2': 8.462570930314385}. Best is trial 59 with value: 0.017518370105894306.\u001b[0m\n"
          ]
        },
        {
          "output_type": "stream",
          "name": "stdout",
          "text": [
            "Early stopping, best iteration is:\n",
            "[47]\tTrain's rmse: 0.130489\tTest's rmse: 0.0175184\n",
            "Training until validation scores don't improve for 50 rounds.\n"
          ]
        },
        {
          "output_type": "stream",
          "name": "stderr",
          "text": [
            "\u001b[32m[I 2021-12-14 12:12:11,833]\u001b[0m Trial 60 finished with value: 0.02355217663667245 and parameters: {'lambda_l1': 2.1401082380677553e-07, 'lambda_l2': 0.005403988423797122}. Best is trial 59 with value: 0.017518370105894306.\u001b[0m\n"
          ]
        },
        {
          "output_type": "stream",
          "name": "stdout",
          "text": [
            "Early stopping, best iteration is:\n",
            "[38]\tTrain's rmse: 0.126035\tTest's rmse: 0.0235522\n",
            "Training until validation scores don't improve for 50 rounds.\n"
          ]
        },
        {
          "output_type": "stream",
          "name": "stderr",
          "text": [
            "\u001b[32m[I 2021-12-14 12:12:12,167]\u001b[0m Trial 61 finished with value: 0.02372780278696055 and parameters: {'lambda_l1': 6.982496886163923e-05, 'lambda_l2': 0.34796393293612976}. Best is trial 59 with value: 0.017518370105894306.\u001b[0m\n"
          ]
        },
        {
          "output_type": "stream",
          "name": "stdout",
          "text": [
            "Early stopping, best iteration is:\n",
            "[43]\tTrain's rmse: 0.124164\tTest's rmse: 0.0237278\n",
            "Training until validation scores don't improve for 50 rounds.\n"
          ]
        },
        {
          "output_type": "stream",
          "name": "stderr",
          "text": [
            "\u001b[32m[I 2021-12-14 12:12:12,475]\u001b[0m Trial 62 finished with value: 0.02352654530734544 and parameters: {'lambda_l1': 0.0006218468346558032, 'lambda_l2': 4.437788155166033e-05}. Best is trial 59 with value: 0.017518370105894306.\u001b[0m\n"
          ]
        },
        {
          "output_type": "stream",
          "name": "stdout",
          "text": [
            "Early stopping, best iteration is:\n",
            "[38]\tTrain's rmse: 0.126047\tTest's rmse: 0.0235265\n",
            "Training until validation scores don't improve for 50 rounds.\n"
          ]
        },
        {
          "output_type": "stream",
          "name": "stderr",
          "text": [
            "\u001b[32m[I 2021-12-14 12:12:12,767]\u001b[0m Trial 63 finished with value: 0.11616007670061468 and parameters: {'min_child_samples': 50}. Best is trial 63 with value: 0.11616007670061468.\u001b[0m\n"
          ]
        },
        {
          "output_type": "stream",
          "name": "stdout",
          "text": [
            "Early stopping, best iteration is:\n",
            "[28]\tTrain's rmse: 0.235736\tTest's rmse: 0.11616\n",
            "Training until validation scores don't improve for 50 rounds.\n"
          ]
        },
        {
          "output_type": "stream",
          "name": "stderr",
          "text": [
            "\u001b[32m[I 2021-12-14 12:12:13,053]\u001b[0m Trial 64 finished with value: 0.14936721144467416 and parameters: {'min_child_samples': 100}. Best is trial 63 with value: 0.11616007670061468.\u001b[0m\n"
          ]
        },
        {
          "output_type": "stream",
          "name": "stdout",
          "text": [
            "Early stopping, best iteration is:\n",
            "[26]\tTrain's rmse: 0.303267\tTest's rmse: 0.149367\n",
            "Training until validation scores don't improve for 50 rounds.\n"
          ]
        },
        {
          "output_type": "stream",
          "name": "stderr",
          "text": [
            "\u001b[32m[I 2021-12-14 12:12:13,391]\u001b[0m Trial 65 finished with value: 0.013128277345649007 and parameters: {'min_child_samples': 5}. Best is trial 65 with value: 0.013128277345649007.\u001b[0m\n"
          ]
        },
        {
          "output_type": "stream",
          "name": "stdout",
          "text": [
            "Did not meet early stopping. Best iteration is:\n",
            "[100]\tTrain's rmse: 0.0488586\tTest's rmse: 0.0131283\n",
            "Training until validation scores don't improve for 50 rounds.\n"
          ]
        },
        {
          "output_type": "stream",
          "name": "stderr",
          "text": [
            "\u001b[32m[I 2021-12-14 12:12:13,714]\u001b[0m Trial 66 finished with value: 0.01099759137638774 and parameters: {'min_child_samples': 10}. Best is trial 66 with value: 0.01099759137638774.\u001b[0m\n"
          ]
        },
        {
          "output_type": "stream",
          "name": "stdout",
          "text": [
            "Early stopping, best iteration is:\n",
            "[45]\tTrain's rmse: 0.0744105\tTest's rmse: 0.0109976\n",
            "Training until validation scores don't improve for 50 rounds.\n"
          ]
        },
        {
          "output_type": "stream",
          "name": "stderr",
          "text": [
            "\u001b[32m[I 2021-12-14 12:12:14,035]\u001b[0m Trial 67 finished with value: 0.059730490691281224 and parameters: {'min_child_samples': 25}. Best is trial 66 with value: 0.01099759137638774.\u001b[0m\n"
          ]
        },
        {
          "output_type": "stream",
          "name": "stdout",
          "text": [
            "Early stopping, best iteration is:\n",
            "[42]\tTrain's rmse: 0.154544\tTest's rmse: 0.0597305\n"
          ]
        },
        {
          "output_type": "display_data",
          "data": {
            "image/png": "[encoded data removed]",
            "text/plain": [
              "<Figure size 432x288 with 1 Axes>"
            ]
          },
          "metadata": {
            "needs_background": "light"
          }
        },
        {
          "output_type": "stream",
          "name": "stderr",
          "text": [
            "\u001b[32m[I 2021-12-14 12:12:14,239]\u001b[0m A new study created in memory with name: no-name-a6ae3b70-e1b1-4a3d-a194-934c2f503250\u001b[0m\n",
            "\u001b[32m[I 2021-12-14 12:12:14,489]\u001b[0m Trial 0 finished with value: 0.12031787105786197 and parameters: {'feature_fraction': 0.5}. Best is trial 0 with value: 0.12031787105786197.\u001b[0m\n"
          ]
        },
        {
          "output_type": "stream",
          "name": "stdout",
          "text": [
            "Training until validation scores don't improve for 50 rounds.\n",
            "Early stopping, best iteration is:\n",
            "[30]\tTrain's rmse: 0.148904\tTest's rmse: 0.120318\n"
          ]
        },
        {
          "output_type": "stream",
          "name": "stderr",
          "text": [
            "\u001b[32m[I 2021-12-14 12:12:14,720]\u001b[0m Trial 1 finished with value: 0.1195119143449104 and parameters: {'feature_fraction': 0.4}. Best is trial 1 with value: 0.1195119143449104.\u001b[0m\n"
          ]
        },
        {
          "output_type": "stream",
          "name": "stdout",
          "text": [
            "Training until validation scores don't improve for 50 rounds.\n",
            "Early stopping, best iteration is:\n",
            "[29]\tTrain's rmse: 0.150466\tTest's rmse: 0.119512\n",
            "Training until validation scores don't improve for 50 rounds.\n"
          ]
        },
        {
          "output_type": "stream",
          "name": "stderr",
          "text": [
            "\u001b[32m[I 2021-12-14 12:12:15,023]\u001b[0m Trial 2 finished with value: 0.11863941164149543 and parameters: {'feature_fraction': 1.0}. Best is trial 2 with value: 0.11863941164149543.\u001b[0m\n"
          ]
        },
        {
          "output_type": "stream",
          "name": "stdout",
          "text": [
            "Early stopping, best iteration is:\n",
            "[30]\tTrain's rmse: 0.147125\tTest's rmse: 0.118639\n",
            "Training until validation scores don't improve for 50 rounds.\n"
          ]
        },
        {
          "output_type": "stream",
          "name": "stderr",
          "text": [
            "\u001b[32m[I 2021-12-14 12:12:15,279]\u001b[0m Trial 3 finished with value: 0.11950412087754687 and parameters: {'feature_fraction': 0.6}. Best is trial 2 with value: 0.11863941164149543.\u001b[0m\n"
          ]
        },
        {
          "output_type": "stream",
          "name": "stdout",
          "text": [
            "Early stopping, best iteration is:\n",
            "[29]\tTrain's rmse: 0.149578\tTest's rmse: 0.119504\n",
            "Training until validation scores don't improve for 50 rounds.\n"
          ]
        },
        {
          "output_type": "stream",
          "name": "stderr",
          "text": [
            "\u001b[32m[I 2021-12-14 12:12:15,574]\u001b[0m Trial 4 finished with value: 0.11848884178690959 and parameters: {'feature_fraction': 0.8999999999999999}. Best is trial 4 with value: 0.11848884178690959.\u001b[0m\n"
          ]
        },
        {
          "output_type": "stream",
          "name": "stdout",
          "text": [
            "Early stopping, best iteration is:\n",
            "[30]\tTrain's rmse: 0.147202\tTest's rmse: 0.118489\n",
            "Training until validation scores don't improve for 50 rounds.\n"
          ]
        },
        {
          "output_type": "stream",
          "name": "stderr",
          "text": [
            "\u001b[32m[I 2021-12-14 12:12:15,845]\u001b[0m Trial 5 finished with value: 0.11958811098538713 and parameters: {'feature_fraction': 0.8}. Best is trial 4 with value: 0.11848884178690959.\u001b[0m\n"
          ]
        },
        {
          "output_type": "stream",
          "name": "stdout",
          "text": [
            "Early stopping, best iteration is:\n",
            "[30]\tTrain's rmse: 0.14629\tTest's rmse: 0.119588\n",
            "Training until validation scores don't improve for 50 rounds.\n"
          ]
        },
        {
          "output_type": "stream",
          "name": "stderr",
          "text": [
            "\u001b[32m[I 2021-12-14 12:12:16,114]\u001b[0m Trial 6 finished with value: 0.11912103958538152 and parameters: {'feature_fraction': 0.7}. Best is trial 4 with value: 0.11848884178690959.\u001b[0m\n"
          ]
        },
        {
          "output_type": "stream",
          "name": "stdout",
          "text": [
            "Early stopping, best iteration is:\n",
            "[29]\tTrain's rmse: 0.14951\tTest's rmse: 0.119121\n",
            "Training until validation scores don't improve for 50 rounds.\n"
          ]
        },
        {
          "output_type": "stream",
          "name": "stderr",
          "text": [
            "\u001b[32m[I 2021-12-14 12:12:16,627]\u001b[0m Trial 7 finished with value: 0.11845382478152942 and parameters: {'num_leaves': 97}. Best is trial 7 with value: 0.11845382478152942.\u001b[0m\n"
          ]
        },
        {
          "output_type": "stream",
          "name": "stdout",
          "text": [
            "Early stopping, best iteration is:\n",
            "[30]\tTrain's rmse: 0.147069\tTest's rmse: 0.118454\n",
            "Training until validation scores don't improve for 50 rounds.\n"
          ]
        },
        {
          "output_type": "stream",
          "name": "stderr",
          "text": [
            "\u001b[32m[I 2021-12-14 12:12:17,524]\u001b[0m Trial 8 finished with value: 0.11851314894047031 and parameters: {'num_leaves': 244}. Best is trial 7 with value: 0.11845382478152942.\u001b[0m\n"
          ]
        },
        {
          "output_type": "stream",
          "name": "stdout",
          "text": [
            "Early stopping, best iteration is:\n",
            "[30]\tTrain's rmse: 0.147026\tTest's rmse: 0.118513\n",
            "Training until validation scores don't improve for 50 rounds.\n"
          ]
        },
        {
          "output_type": "stream",
          "name": "stderr",
          "text": [
            "\u001b[32m[I 2021-12-14 12:12:18,280]\u001b[0m Trial 9 finished with value: 0.11851381666761432 and parameters: {'num_leaves': 188}. Best is trial 7 with value: 0.11845382478152942.\u001b[0m\n"
          ]
        },
        {
          "output_type": "stream",
          "name": "stdout",
          "text": [
            "Early stopping, best iteration is:\n",
            "[30]\tTrain's rmse: 0.147026\tTest's rmse: 0.118514\n",
            "Training until validation scores don't improve for 50 rounds.\n"
          ]
        },
        {
          "output_type": "stream",
          "name": "stderr",
          "text": [
            "\u001b[32m[I 2021-12-14 12:12:18,942]\u001b[0m Trial 10 finished with value: 0.11851362136403673 and parameters: {'num_leaves': 154}. Best is trial 7 with value: 0.11845382478152942.\u001b[0m\n"
          ]
        },
        {
          "output_type": "stream",
          "name": "stdout",
          "text": [
            "Early stopping, best iteration is:\n",
            "[30]\tTrain's rmse: 0.147026\tTest's rmse: 0.118514\n",
            "Training until validation scores don't improve for 50 rounds.\n"
          ]
        },
        {
          "output_type": "stream",
          "name": "stderr",
          "text": [
            "\u001b[32m[I 2021-12-14 12:12:19,272]\u001b[0m Trial 11 finished with value: 0.11860111666401961 and parameters: {'num_leaves': 41}. Best is trial 7 with value: 0.11845382478152942.\u001b[0m\n"
          ]
        },
        {
          "output_type": "stream",
          "name": "stdout",
          "text": [
            "Early stopping, best iteration is:\n",
            "[30]\tTrain's rmse: 0.147115\tTest's rmse: 0.118601\n",
            "Training until validation scores don't improve for 50 rounds.\n"
          ]
        },
        {
          "output_type": "stream",
          "name": "stderr",
          "text": [
            "\u001b[32m[I 2021-12-14 12:12:19,606]\u001b[0m Trial 12 finished with value: 0.11860111666401961 and parameters: {'num_leaves': 41}. Best is trial 7 with value: 0.11845382478152942.\u001b[0m\n"
          ]
        },
        {
          "output_type": "stream",
          "name": "stdout",
          "text": [
            "Early stopping, best iteration is:\n",
            "[30]\tTrain's rmse: 0.147115\tTest's rmse: 0.118601\n",
            "Training until validation scores don't improve for 50 rounds.\n"
          ]
        },
        {
          "output_type": "stream",
          "name": "stderr",
          "text": [
            "\u001b[32m[I 2021-12-14 12:12:19,833]\u001b[0m Trial 13 finished with value: 0.11873156244116248 and parameters: {'num_leaves': 16}. Best is trial 7 with value: 0.11845382478152942.\u001b[0m\n"
          ]
        },
        {
          "output_type": "stream",
          "name": "stdout",
          "text": [
            "Early stopping, best iteration is:\n",
            "[29]\tTrain's rmse: 0.148103\tTest's rmse: 0.118732\n",
            "Training until validation scores don't improve for 50 rounds.\n"
          ]
        },
        {
          "output_type": "stream",
          "name": "stderr",
          "text": [
            "\u001b[32m[I 2021-12-14 12:12:20,682]\u001b[0m Trial 14 finished with value: 0.11851301267724572 and parameters: {'num_leaves': 222}. Best is trial 7 with value: 0.11845382478152942.\u001b[0m\n"
          ]
        },
        {
          "output_type": "stream",
          "name": "stdout",
          "text": [
            "Early stopping, best iteration is:\n",
            "[30]\tTrain's rmse: 0.147026\tTest's rmse: 0.118513\n",
            "Training until validation scores don't improve for 50 rounds.\n"
          ]
        },
        {
          "output_type": "stream",
          "name": "stderr",
          "text": [
            "\u001b[32m[I 2021-12-14 12:12:21,330]\u001b[0m Trial 15 finished with value: 0.11851371696657445 and parameters: {'num_leaves': 155}. Best is trial 7 with value: 0.11845382478152942.\u001b[0m\n"
          ]
        },
        {
          "output_type": "stream",
          "name": "stdout",
          "text": [
            "Early stopping, best iteration is:\n",
            "[30]\tTrain's rmse: 0.147026\tTest's rmse: 0.118514\n",
            "Training until validation scores don't improve for 50 rounds.\n"
          ]
        },
        {
          "output_type": "stream",
          "name": "stderr",
          "text": [
            "\u001b[32m[I 2021-12-14 12:12:22,063]\u001b[0m Trial 16 finished with value: 0.11851365768515414 and parameters: {'num_leaves': 182}. Best is trial 7 with value: 0.11845382478152942.\u001b[0m\n"
          ]
        },
        {
          "output_type": "stream",
          "name": "stdout",
          "text": [
            "Early stopping, best iteration is:\n",
            "[30]\tTrain's rmse: 0.147026\tTest's rmse: 0.118514\n",
            "Training until validation scores don't improve for 50 rounds.\n"
          ]
        },
        {
          "output_type": "stream",
          "name": "stderr",
          "text": [
            "\u001b[32m[I 2021-12-14 12:12:22,559]\u001b[0m Trial 17 finished with value: 0.11845382478152942 and parameters: {'num_leaves': 97}. Best is trial 7 with value: 0.11845382478152942.\u001b[0m\n"
          ]
        },
        {
          "output_type": "stream",
          "name": "stdout",
          "text": [
            "Early stopping, best iteration is:\n",
            "[30]\tTrain's rmse: 0.147069\tTest's rmse: 0.118454\n",
            "Training until validation scores don't improve for 50 rounds.\n"
          ]
        },
        {
          "output_type": "stream",
          "name": "stderr",
          "text": [
            "\u001b[32m[I 2021-12-14 12:12:23,074]\u001b[0m Trial 18 finished with value: 0.11845447491853525 and parameters: {'num_leaves': 98}. Best is trial 7 with value: 0.11845382478152942.\u001b[0m\n"
          ]
        },
        {
          "output_type": "stream",
          "name": "stdout",
          "text": [
            "Early stopping, best iteration is:\n",
            "[30]\tTrain's rmse: 0.147069\tTest's rmse: 0.118454\n",
            "Training until validation scores don't improve for 50 rounds.\n"
          ]
        },
        {
          "output_type": "stream",
          "name": "stderr",
          "text": [
            "\u001b[32m[I 2021-12-14 12:12:23,563]\u001b[0m Trial 19 finished with value: 0.11845575247746873 and parameters: {'num_leaves': 91}. Best is trial 7 with value: 0.11845382478152942.\u001b[0m\n"
          ]
        },
        {
          "output_type": "stream",
          "name": "stdout",
          "text": [
            "Early stopping, best iteration is:\n",
            "[30]\tTrain's rmse: 0.147068\tTest's rmse: 0.118456\n",
            "Training until validation scores don't improve for 50 rounds.\n"
          ]
        },
        {
          "output_type": "stream",
          "name": "stderr",
          "text": [
            "\u001b[32m[I 2021-12-14 12:12:24,099]\u001b[0m Trial 20 finished with value: 0.11845633222913649 and parameters: {'num_leaves': 104}. Best is trial 7 with value: 0.11845382478152942.\u001b[0m\n"
          ]
        },
        {
          "output_type": "stream",
          "name": "stdout",
          "text": [
            "Early stopping, best iteration is:\n",
            "[30]\tTrain's rmse: 0.147069\tTest's rmse: 0.118456\n",
            "Training until validation scores don't improve for 50 rounds.\n"
          ]
        },
        {
          "output_type": "stream",
          "name": "stderr",
          "text": [
            "\u001b[32m[I 2021-12-14 12:12:24,506]\u001b[0m Trial 21 finished with value: 0.11850484300377546 and parameters: {'num_leaves': 68}. Best is trial 7 with value: 0.11845382478152942.\u001b[0m\n"
          ]
        },
        {
          "output_type": "stream",
          "name": "stdout",
          "text": [
            "Early stopping, best iteration is:\n",
            "[30]\tTrain's rmse: 0.147028\tTest's rmse: 0.118505\n",
            "Training until validation scores don't improve for 50 rounds.\n"
          ]
        },
        {
          "output_type": "stream",
          "name": "stderr",
          "text": [
            "\u001b[32m[I 2021-12-14 12:12:25,099]\u001b[0m Trial 22 finished with value: 0.1185052299970542 and parameters: {'num_leaves': 125}. Best is trial 7 with value: 0.11845382478152942.\u001b[0m\n"
          ]
        },
        {
          "output_type": "stream",
          "name": "stdout",
          "text": [
            "Early stopping, best iteration is:\n",
            "[30]\tTrain's rmse: 0.147027\tTest's rmse: 0.118505\n",
            "Training until validation scores don't improve for 50 rounds.\n"
          ]
        },
        {
          "output_type": "stream",
          "name": "stderr",
          "text": [
            "\u001b[32m[I 2021-12-14 12:12:25,500]\u001b[0m Trial 23 finished with value: 0.1185142343554444 and parameters: {'num_leaves': 67}. Best is trial 7 with value: 0.11845382478152942.\u001b[0m\n"
          ]
        },
        {
          "output_type": "stream",
          "name": "stdout",
          "text": [
            "Early stopping, best iteration is:\n",
            "[30]\tTrain's rmse: 0.147029\tTest's rmse: 0.118514\n",
            "Training until validation scores don't improve for 50 rounds.\n"
          ]
        },
        {
          "output_type": "stream",
          "name": "stderr",
          "text": [
            "\u001b[32m[I 2021-12-14 12:12:26,097]\u001b[0m Trial 24 finished with value: 0.11850519268406165 and parameters: {'num_leaves': 133}. Best is trial 7 with value: 0.11845382478152942.\u001b[0m\n"
          ]
        },
        {
          "output_type": "stream",
          "name": "stdout",
          "text": [
            "Early stopping, best iteration is:\n",
            "[30]\tTrain's rmse: 0.147027\tTest's rmse: 0.118505\n",
            "Training until validation scores don't improve for 50 rounds.\n"
          ]
        },
        {
          "output_type": "stream",
          "name": "stderr",
          "text": [
            "\u001b[32m[I 2021-12-14 12:12:26,513]\u001b[0m Trial 25 finished with value: 0.11850159443009745 and parameters: {'num_leaves': 70}. Best is trial 7 with value: 0.11845382478152942.\u001b[0m\n",
            "\u001b[32m[I 2021-12-14 12:12:26,640]\u001b[0m Trial 26 finished with value: 0.1247538881322795 and parameters: {'num_leaves': 5}. Best is trial 7 with value: 0.11845382478152942.\u001b[0m\n"
          ]
        },
        {
          "output_type": "stream",
          "name": "stdout",
          "text": [
            "Early stopping, best iteration is:\n",
            "[30]\tTrain's rmse: 0.147028\tTest's rmse: 0.118502\n",
            "Training until validation scores don't improve for 50 rounds.\n",
            "Early stopping, best iteration is:\n",
            "[31]\tTrain's rmse: 0.151014\tTest's rmse: 0.124754\n",
            "Training until validation scores don't improve for 50 rounds.\n"
          ]
        },
        {
          "output_type": "stream",
          "name": "stderr",
          "text": [
            "\u001b[32m[I 2021-12-14 12:12:27,229]\u001b[0m Trial 27 finished with value: 0.1435953279091283 and parameters: {'bagging_fraction': 0.624724071308792, 'bagging_freq': 7}. Best is trial 27 with value: 0.1435953279091283.\u001b[0m\n"
          ]
        },
        {
          "output_type": "stream",
          "name": "stdout",
          "text": [
            "Early stopping, best iteration is:\n",
            "[31]\tTrain's rmse: 0.169424\tTest's rmse: 0.143595\n",
            "Training until validation scores don't improve for 50 rounds.\n"
          ]
        },
        {
          "output_type": "stream",
          "name": "stderr",
          "text": [
            "\u001b[32m[I 2021-12-14 12:12:27,804]\u001b[0m Trial 28 finished with value: 0.1361567876128906 and parameters: {'bagging_fraction': 0.8391963650875751, 'bagging_freq': 5}. Best is trial 28 with value: 0.1361567876128906.\u001b[0m\n"
          ]
        },
        {
          "output_type": "stream",
          "name": "stdout",
          "text": [
            "Early stopping, best iteration is:\n",
            "[30]\tTrain's rmse: 0.165205\tTest's rmse: 0.136157\n",
            "Training until validation scores don't improve for 50 rounds.\n"
          ]
        },
        {
          "output_type": "stream",
          "name": "stderr",
          "text": [
            "\u001b[32m[I 2021-12-14 12:12:28,592]\u001b[0m Trial 29 finished with value: 0.1523606353498988 and parameters: {'bagging_fraction': 0.49361118426561795, 'bagging_freq': 2}. Best is trial 28 with value: 0.1361567876128906.\u001b[0m\n"
          ]
        },
        {
          "output_type": "stream",
          "name": "stdout",
          "text": [
            "Did not meet early stopping. Best iteration is:\n",
            "[99]\tTrain's rmse: 0.187144\tTest's rmse: 0.152361\n",
            "Training until validation scores don't improve for 50 rounds.\n"
          ]
        },
        {
          "output_type": "stream",
          "name": "stderr",
          "text": [
            "\u001b[32m[I 2021-12-14 12:12:29,369]\u001b[0m Trial 30 finished with value: 0.19850385372784157 and parameters: {'bagging_fraction': 0.4348501673009778, 'bagging_freq': 7}. Best is trial 28 with value: 0.1361567876128906.\u001b[0m\n"
          ]
        },
        {
          "output_type": "stream",
          "name": "stdout",
          "text": [
            "Did not meet early stopping. Best iteration is:\n",
            "[98]\tTrain's rmse: 0.211245\tTest's rmse: 0.198504\n",
            "Training until validation scores don't improve for 50 rounds.\n"
          ]
        },
        {
          "output_type": "stream",
          "name": "stderr",
          "text": [
            "\u001b[32m[I 2021-12-14 12:12:30,186]\u001b[0m Trial 31 finished with value: 0.13875643914037325 and parameters: {'bagging_fraction': 0.7606690070465265, 'bagging_freq': 5}. Best is trial 28 with value: 0.1361567876128906.\u001b[0m\n"
          ]
        },
        {
          "output_type": "stream",
          "name": "stdout",
          "text": [
            "Did not meet early stopping. Best iteration is:\n",
            "[100]\tTrain's rmse: 0.150026\tTest's rmse: 0.138756\n",
            "Training until validation scores don't improve for 50 rounds.\n"
          ]
        },
        {
          "output_type": "stream",
          "name": "stderr",
          "text": [
            "\u001b[32m[I 2021-12-14 12:12:30,985]\u001b[0m Trial 32 finished with value: 0.19752043631634683 and parameters: {'bagging_fraction': 0.41235069657750206, 'bagging_freq': 7}. Best is trial 28 with value: 0.1361567876128906.\u001b[0m\n"
          ]
        },
        {
          "output_type": "stream",
          "name": "stdout",
          "text": [
            "Did not meet early stopping. Best iteration is:\n",
            "[99]\tTrain's rmse: 0.210223\tTest's rmse: 0.19752\n",
            "Training until validation scores don't improve for 50 rounds.\n"
          ]
        },
        {
          "output_type": "stream",
          "name": "stderr",
          "text": [
            "\u001b[32m[I 2021-12-14 12:12:31,634]\u001b[0m Trial 33 finished with value: 0.12410835744535274 and parameters: {'bagging_fraction': 0.8994655844810855, 'bagging_freq': 2}. Best is trial 33 with value: 0.12410835744535274.\u001b[0m\n"
          ]
        },
        {
          "output_type": "stream",
          "name": "stdout",
          "text": [
            "Early stopping, best iteration is:\n",
            "[35]\tTrain's rmse: 0.151808\tTest's rmse: 0.124108\n",
            "Training until validation scores don't improve for 50 rounds.\n"
          ]
        },
        {
          "output_type": "stream",
          "name": "stderr",
          "text": [
            "\u001b[32m[I 2021-12-14 12:12:32,438]\u001b[0m Trial 34 finished with value: 0.1478804057863593 and parameters: {'bagging_fraction': 0.5090949803244422, 'bagging_freq': 2}. Best is trial 33 with value: 0.12410835744535274.\u001b[0m\n"
          ]
        },
        {
          "output_type": "stream",
          "name": "stdout",
          "text": [
            "Did not meet early stopping. Best iteration is:\n",
            "[100]\tTrain's rmse: 0.181908\tTest's rmse: 0.14788\n",
            "Training until validation scores don't improve for 50 rounds.\n"
          ]
        },
        {
          "output_type": "stream",
          "name": "stderr",
          "text": [
            "\u001b[32m[I 2021-12-14 12:12:33,241]\u001b[0m Trial 35 finished with value: 0.1403032437688641 and parameters: {'bagging_fraction': 0.5825453457760269, 'bagging_freq': 4}. Best is trial 33 with value: 0.12410835744535274.\u001b[0m\n"
          ]
        },
        {
          "output_type": "stream",
          "name": "stdout",
          "text": [
            "Did not meet early stopping. Best iteration is:\n",
            "[100]\tTrain's rmse: 0.176387\tTest's rmse: 0.140303\n",
            "Training until validation scores don't improve for 50 rounds.\n"
          ]
        },
        {
          "output_type": "stream",
          "name": "stderr",
          "text": [
            "\u001b[32m[I 2021-12-14 12:12:34,035]\u001b[0m Trial 36 finished with value: 0.14015234811029914 and parameters: {'bagging_fraction': 0.6591670111857015, 'bagging_freq': 3}. Best is trial 33 with value: 0.12410835744535274.\u001b[0m\n"
          ]
        },
        {
          "output_type": "stream",
          "name": "stdout",
          "text": [
            "Did not meet early stopping. Best iteration is:\n",
            "[100]\tTrain's rmse: 0.161878\tTest's rmse: 0.140152\n",
            "Training until validation scores don't improve for 50 rounds.\n"
          ]
        },
        {
          "output_type": "stream",
          "name": "stderr",
          "text": [
            "\u001b[32m[I 2021-12-14 12:12:34,524]\u001b[0m Trial 37 finished with value: 0.1196104441031124 and parameters: {'feature_fraction': 0.82}. Best is trial 37 with value: 0.1196104441031124.\u001b[0m\n"
          ]
        },
        {
          "output_type": "stream",
          "name": "stdout",
          "text": [
            "Early stopping, best iteration is:\n",
            "[30]\tTrain's rmse: 0.146183\tTest's rmse: 0.11961\n",
            "Training until validation scores don't improve for 50 rounds.\n"
          ]
        },
        {
          "output_type": "stream",
          "name": "stderr",
          "text": [
            "\u001b[32m[I 2021-12-14 12:12:35,033]\u001b[0m Trial 38 finished with value: 0.11845382478152942 and parameters: {'feature_fraction': 0.9799999999999999}. Best is trial 38 with value: 0.11845382478152942.\u001b[0m\n"
          ]
        },
        {
          "output_type": "stream",
          "name": "stdout",
          "text": [
            "Early stopping, best iteration is:\n",
            "[30]\tTrain's rmse: 0.147069\tTest's rmse: 0.118454\n",
            "Training until validation scores don't improve for 50 rounds.\n"
          ]
        },
        {
          "output_type": "stream",
          "name": "stderr",
          "text": [
            "\u001b[32m[I 2021-12-14 12:12:35,544]\u001b[0m Trial 39 finished with value: 0.11845382478152942 and parameters: {'feature_fraction': 0.948}. Best is trial 38 with value: 0.11845382478152942.\u001b[0m\n"
          ]
        },
        {
          "output_type": "stream",
          "name": "stdout",
          "text": [
            "Early stopping, best iteration is:\n",
            "[30]\tTrain's rmse: 0.147069\tTest's rmse: 0.118454\n",
            "Training until validation scores don't improve for 50 rounds.\n"
          ]
        },
        {
          "output_type": "stream",
          "name": "stderr",
          "text": [
            "\u001b[32m[I 2021-12-14 12:12:36,055]\u001b[0m Trial 40 finished with value: 0.11845382478152942 and parameters: {'feature_fraction': 0.9159999999999999}. Best is trial 38 with value: 0.11845382478152942.\u001b[0m\n"
          ]
        },
        {
          "output_type": "stream",
          "name": "stdout",
          "text": [
            "Early stopping, best iteration is:\n",
            "[30]\tTrain's rmse: 0.147069\tTest's rmse: 0.118454\n",
            "Training until validation scores don't improve for 50 rounds.\n"
          ]
        },
        {
          "output_type": "stream",
          "name": "stderr",
          "text": [
            "\u001b[32m[I 2021-12-14 12:12:36,534]\u001b[0m Trial 41 finished with value: 0.1196104441031124 and parameters: {'feature_fraction': 0.852}. Best is trial 38 with value: 0.11845382478152942.\u001b[0m\n"
          ]
        },
        {
          "output_type": "stream",
          "name": "stdout",
          "text": [
            "Early stopping, best iteration is:\n",
            "[30]\tTrain's rmse: 0.146183\tTest's rmse: 0.11961\n",
            "Training until validation scores don't improve for 50 rounds.\n"
          ]
        },
        {
          "output_type": "stream",
          "name": "stderr",
          "text": [
            "\u001b[32m[I 2021-12-14 12:12:37,029]\u001b[0m Trial 42 finished with value: 0.1196104441031124 and parameters: {'feature_fraction': 0.8839999999999999}. Best is trial 38 with value: 0.11845382478152942.\u001b[0m\n"
          ]
        },
        {
          "output_type": "stream",
          "name": "stdout",
          "text": [
            "Early stopping, best iteration is:\n",
            "[30]\tTrain's rmse: 0.146183\tTest's rmse: 0.11961\n",
            "Training until validation scores don't improve for 50 rounds.\n"
          ]
        },
        {
          "output_type": "stream",
          "name": "stderr",
          "text": [
            "\u001b[32m[I 2021-12-14 12:12:37,450]\u001b[0m Trial 43 finished with value: 0.11746373609591419 and parameters: {'lambda_l1': 2.348881295853308e-05, 'lambda_l2': 3.6010467344475403}. Best is trial 43 with value: 0.11746373609591419.\u001b[0m\n"
          ]
        },
        {
          "output_type": "stream",
          "name": "stdout",
          "text": [
            "Early stopping, best iteration is:\n",
            "[34]\tTrain's rmse: 0.148899\tTest's rmse: 0.117464\n",
            "Training until validation scores don't improve for 50 rounds.\n"
          ]
        },
        {
          "output_type": "stream",
          "name": "stderr",
          "text": [
            "\u001b[32m[I 2021-12-14 12:12:37,775]\u001b[0m Trial 44 finished with value: 0.11868413308520552 and parameters: {'lambda_l1': 0.038720902953704193, 'lambda_l2': 0.0024430162614261413}. Best is trial 43 with value: 0.11746373609591419.\u001b[0m\n"
          ]
        },
        {
          "output_type": "stream",
          "name": "stdout",
          "text": [
            "Early stopping, best iteration is:\n",
            "[30]\tTrain's rmse: 0.147231\tTest's rmse: 0.118684\n",
            "Training until validation scores don't improve for 50 rounds.\n"
          ]
        },
        {
          "output_type": "stream",
          "name": "stderr",
          "text": [
            "\u001b[32m[I 2021-12-14 12:12:38,297]\u001b[0m Trial 45 finished with value: 0.11845382496779569 and parameters: {'lambda_l1': 2.5361081166471375e-07, 'lambda_l2': 2.5348407664333426e-07}. Best is trial 43 with value: 0.11746373609591419.\u001b[0m\n"
          ]
        },
        {
          "output_type": "stream",
          "name": "stdout",
          "text": [
            "Early stopping, best iteration is:\n",
            "[30]\tTrain's rmse: 0.147069\tTest's rmse: 0.118454\n",
            "Training until validation scores don't improve for 50 rounds.\n"
          ]
        },
        {
          "output_type": "stream",
          "name": "stderr",
          "text": [
            "\u001b[32m[I 2021-12-14 12:12:38,738]\u001b[0m Trial 46 finished with value: 0.11924280155813545 and parameters: {'lambda_l1': 3.3323645788192616e-08, 'lambda_l2': 0.6245760287469893}. Best is trial 43 with value: 0.11746373609591419.\u001b[0m\n"
          ]
        },
        {
          "output_type": "stream",
          "name": "stdout",
          "text": [
            "Early stopping, best iteration is:\n",
            "[29]\tTrain's rmse: 0.148745\tTest's rmse: 0.119243\n",
            "Training until validation scores don't improve for 50 rounds.\n"
          ]
        },
        {
          "output_type": "stream",
          "name": "stderr",
          "text": [
            "\u001b[32m[I 2021-12-14 12:12:39,200]\u001b[0m Trial 47 finished with value: 0.11851935078410476 and parameters: {'lambda_l1': 0.002570603566117598, 'lambda_l2': 0.023585940584142682}. Best is trial 43 with value: 0.11746373609591419.\u001b[0m\n"
          ]
        },
        {
          "output_type": "stream",
          "name": "stdout",
          "text": [
            "Early stopping, best iteration is:\n",
            "[30]\tTrain's rmse: 0.147131\tTest's rmse: 0.118519\n",
            "Training until validation scores don't improve for 50 rounds.\n"
          ]
        },
        {
          "output_type": "stream",
          "name": "stderr",
          "text": [
            "\u001b[32m[I 2021-12-14 12:12:39,625]\u001b[0m Trial 48 finished with value: 0.11797293643113568 and parameters: {'lambda_l1': 1.5320059381854043e-08, 'lambda_l2': 5.360294728728285}. Best is trial 43 with value: 0.11746373609591419.\u001b[0m\n"
          ]
        },
        {
          "output_type": "stream",
          "name": "stdout",
          "text": [
            "Early stopping, best iteration is:\n",
            "[36]\tTrain's rmse: 0.149078\tTest's rmse: 0.117973\n",
            "Training until validation scores don't improve for 50 rounds.\n"
          ]
        },
        {
          "output_type": "stream",
          "name": "stderr",
          "text": [
            "\u001b[32m[I 2021-12-14 12:12:39,886]\u001b[0m Trial 49 finished with value: 0.11965393713796203 and parameters: {'lambda_l1': 0.31044435499483225, 'lambda_l2': 8.148018307012941e-07}. Best is trial 43 with value: 0.11746373609591419.\u001b[0m\n"
          ]
        },
        {
          "output_type": "stream",
          "name": "stdout",
          "text": [
            "Early stopping, best iteration is:\n",
            "[30]\tTrain's rmse: 0.146557\tTest's rmse: 0.119654\n",
            "Training until validation scores don't improve for 50 rounds.\n"
          ]
        },
        {
          "output_type": "stream",
          "name": "stderr",
          "text": [
            "\u001b[32m[I 2021-12-14 12:12:40,395]\u001b[0m Trial 50 finished with value: 0.11845382507555965 and parameters: {'lambda_l1': 4.329370014459266e-07, 'lambda_l2': 4.4734294104626844e-07}. Best is trial 43 with value: 0.11746373609591419.\u001b[0m\n"
          ]
        },
        {
          "output_type": "stream",
          "name": "stdout",
          "text": [
            "Early stopping, best iteration is:\n",
            "[30]\tTrain's rmse: 0.147069\tTest's rmse: 0.118454\n",
            "Training until validation scores don't improve for 50 rounds.\n"
          ]
        },
        {
          "output_type": "stream",
          "name": "stderr",
          "text": [
            "\u001b[32m[I 2021-12-14 12:12:40,902]\u001b[0m Trial 51 finished with value: 0.11845534636386508 and parameters: {'lambda_l1': 5.472429642032198e-06, 'lambda_l2': 0.00052821153945323}. Best is trial 43 with value: 0.11746373609591419.\u001b[0m\n"
          ]
        },
        {
          "output_type": "stream",
          "name": "stdout",
          "text": [
            "Early stopping, best iteration is:\n",
            "[30]\tTrain's rmse: 0.14707\tTest's rmse: 0.118455\n",
            "Training until validation scores don't improve for 50 rounds.\n"
          ]
        },
        {
          "output_type": "stream",
          "name": "stderr",
          "text": [
            "\u001b[32m[I 2021-12-14 12:12:41,424]\u001b[0m Trial 52 finished with value: 0.11845264719263424 and parameters: {'lambda_l1': 7.71800699380605e-05, 'lambda_l2': 4.17890272377219e-06}. Best is trial 43 with value: 0.11746373609591419.\u001b[0m\n"
          ]
        },
        {
          "output_type": "stream",
          "name": "stdout",
          "text": [
            "Early stopping, best iteration is:\n",
            "[30]\tTrain's rmse: 0.147068\tTest's rmse: 0.118453\n",
            "Training until validation scores don't improve for 50 rounds.\n"
          ]
        },
        {
          "output_type": "stream",
          "name": "stderr",
          "text": [
            "\u001b[32m[I 2021-12-14 12:12:41,642]\u001b[0m Trial 53 finished with value: 0.11900262686471114 and parameters: {'lambda_l1': 3.207959657544482, 'lambda_l2': 0.08759673038878969}. Best is trial 43 with value: 0.11746373609591419.\u001b[0m\n"
          ]
        },
        {
          "output_type": "stream",
          "name": "stdout",
          "text": [
            "Early stopping, best iteration is:\n",
            "[30]\tTrain's rmse: 0.148764\tTest's rmse: 0.119003\n",
            "Training until validation scores don't improve for 50 rounds.\n"
          ]
        },
        {
          "output_type": "stream",
          "name": "stderr",
          "text": [
            "\u001b[32m[I 2021-12-14 12:12:42,087]\u001b[0m Trial 54 finished with value: 0.11688497357485146 and parameters: {'lambda_l1': 1.1692997958212103e-08, 'lambda_l2': 3.9472261531899844}. Best is trial 54 with value: 0.11688497357485146.\u001b[0m\n"
          ]
        },
        {
          "output_type": "stream",
          "name": "stdout",
          "text": [
            "Early stopping, best iteration is:\n",
            "[35]\tTrain's rmse: 0.148777\tTest's rmse: 0.116885\n",
            "Training until validation scores don't improve for 50 rounds.\n"
          ]
        },
        {
          "output_type": "stream",
          "name": "stderr",
          "text": [
            "\u001b[32m[I 2021-12-14 12:12:42,513]\u001b[0m Trial 55 finished with value: 0.11728165880340674 and parameters: {'lambda_l1': 5.844078044738684e-05, 'lambda_l2': 2.417987765356211}. Best is trial 54 with value: 0.11688497357485146.\u001b[0m\n"
          ]
        },
        {
          "output_type": "stream",
          "name": "stdout",
          "text": [
            "Early stopping, best iteration is:\n",
            "[33]\tTrain's rmse: 0.147504\tTest's rmse: 0.117282\n",
            "Training until validation scores don't improve for 50 rounds.\n"
          ]
        },
        {
          "output_type": "stream",
          "name": "stderr",
          "text": [
            "\u001b[32m[I 2021-12-14 12:12:42,977]\u001b[0m Trial 56 finished with value: 0.11850849695126342 and parameters: {'lambda_l1': 0.0019948925028445063, 'lambda_l2': 3.404677878190547e-05}. Best is trial 54 with value: 0.11688497357485146.\u001b[0m\n"
          ]
        },
        {
          "output_type": "stream",
          "name": "stdout",
          "text": [
            "Early stopping, best iteration is:\n",
            "[30]\tTrain's rmse: 0.147031\tTest's rmse: 0.118508\n",
            "Training until validation scores don't improve for 50 rounds.\n"
          ]
        },
        {
          "output_type": "stream",
          "name": "stderr",
          "text": [
            "\u001b[32m[I 2021-12-14 12:12:43,497]\u001b[0m Trial 57 finished with value: 0.1184537739339418 and parameters: {'lambda_l1': 4.2564736815973255e-06, 'lambda_l2': 1.3139855587432983e-08}. Best is trial 54 with value: 0.11688497357485146.\u001b[0m\n"
          ]
        },
        {
          "output_type": "stream",
          "name": "stdout",
          "text": [
            "Early stopping, best iteration is:\n",
            "[30]\tTrain's rmse: 0.147069\tTest's rmse: 0.118454\n",
            "Training until validation scores don't improve for 50 rounds.\n"
          ]
        },
        {
          "output_type": "stream",
          "name": "stderr",
          "text": [
            "\u001b[32m[I 2021-12-14 12:12:43,988]\u001b[0m Trial 58 finished with value: 0.1186169517850479 and parameters: {'lambda_l1': 0.0006316703338435306, 'lambda_l2': 0.09582202435248795}. Best is trial 54 with value: 0.11688497357485146.\u001b[0m\n"
          ]
        },
        {
          "output_type": "stream",
          "name": "stdout",
          "text": [
            "Early stopping, best iteration is:\n",
            "[30]\tTrain's rmse: 0.147302\tTest's rmse: 0.118617\n",
            "Training until validation scores don't improve for 50 rounds.\n"
          ]
        },
        {
          "output_type": "stream",
          "name": "stderr",
          "text": [
            "\u001b[32m[I 2021-12-14 12:12:44,497]\u001b[0m Trial 59 finished with value: 0.11859745679194914 and parameters: {'lambda_l1': 5.253420316894776e-07, 'lambda_l2': 0.006247636118178056}. Best is trial 54 with value: 0.11688497357485146.\u001b[0m\n"
          ]
        },
        {
          "output_type": "stream",
          "name": "stdout",
          "text": [
            "Early stopping, best iteration is:\n",
            "[30]\tTrain's rmse: 0.147063\tTest's rmse: 0.118597\n",
            "Training until validation scores don't improve for 50 rounds.\n"
          ]
        },
        {
          "output_type": "stream",
          "name": "stderr",
          "text": [
            "\u001b[32m[I 2021-12-14 12:12:44,885]\u001b[0m Trial 60 finished with value: 0.11915314490878862 and parameters: {'lambda_l1': 0.013116315651744466, 'lambda_l2': 0.6041669049600772}. Best is trial 54 with value: 0.11688497357485146.\u001b[0m\n"
          ]
        },
        {
          "output_type": "stream",
          "name": "stdout",
          "text": [
            "Early stopping, best iteration is:\n",
            "[31]\tTrain's rmse: 0.145794\tTest's rmse: 0.119153\n",
            "Training until validation scores don't improve for 50 rounds.\n"
          ]
        },
        {
          "output_type": "stream",
          "name": "stderr",
          "text": [
            "\u001b[32m[I 2021-12-14 12:12:45,348]\u001b[0m Trial 61 finished with value: 0.11648330304752545 and parameters: {'lambda_l1': 0.0001446309350599714, 'lambda_l2': 9.61903163338367}. Best is trial 61 with value: 0.11648330304752545.\u001b[0m\n"
          ]
        },
        {
          "output_type": "stream",
          "name": "stdout",
          "text": [
            "Early stopping, best iteration is:\n",
            "[41]\tTrain's rmse: 0.150176\tTest's rmse: 0.116483\n",
            "Training until validation scores don't improve for 50 rounds.\n"
          ]
        },
        {
          "output_type": "stream",
          "name": "stderr",
          "text": [
            "\u001b[32m[I 2021-12-14 12:12:45,586]\u001b[0m Trial 62 finished with value: 0.11884978149667166 and parameters: {'lambda_l1': 0.9478184390242341, 'lambda_l2': 0.3863160367265547}. Best is trial 61 with value: 0.11648330304752545.\u001b[0m\n"
          ]
        },
        {
          "output_type": "stream",
          "name": "stdout",
          "text": [
            "Early stopping, best iteration is:\n",
            "[30]\tTrain's rmse: 0.147347\tTest's rmse: 0.11885\n",
            "Training until validation scores don't improve for 50 rounds.\n"
          ]
        },
        {
          "output_type": "stream",
          "name": "stderr",
          "text": [
            "\u001b[32m[I 2021-12-14 12:12:46,091]\u001b[0m Trial 63 finished with value: 0.25978212010374 and parameters: {'min_child_samples': 100}. Best is trial 63 with value: 0.25978212010374.\u001b[0m\n"
          ]
        },
        {
          "output_type": "stream",
          "name": "stdout",
          "text": [
            "Did not meet early stopping. Best iteration is:\n",
            "[100]\tTrain's rmse: 0.276225\tTest's rmse: 0.259782\n",
            "Training until validation scores don't improve for 50 rounds.\n"
          ]
        },
        {
          "output_type": "stream",
          "name": "stderr",
          "text": [
            "\u001b[32m[I 2021-12-14 12:12:46,564]\u001b[0m Trial 64 finished with value: 0.032071412464032015 and parameters: {'min_child_samples': 5}. Best is trial 64 with value: 0.032071412464032015.\u001b[0m\n"
          ]
        },
        {
          "output_type": "stream",
          "name": "stdout",
          "text": [
            "Early stopping, best iteration is:\n",
            "[49]\tTrain's rmse: 0.0735849\tTest's rmse: 0.0320714\n",
            "Training until validation scores don't improve for 50 rounds.\n"
          ]
        },
        {
          "output_type": "stream",
          "name": "stderr",
          "text": [
            "\u001b[32m[I 2021-12-14 12:12:46,959]\u001b[0m Trial 65 finished with value: 0.07759061611283623 and parameters: {'min_child_samples': 10}. Best is trial 64 with value: 0.032071412464032015.\u001b[0m\n"
          ]
        },
        {
          "output_type": "stream",
          "name": "stdout",
          "text": [
            "Early stopping, best iteration is:\n",
            "[37]\tTrain's rmse: 0.107382\tTest's rmse: 0.0775906\n",
            "Training until validation scores don't improve for 50 rounds.\n"
          ]
        },
        {
          "output_type": "stream",
          "name": "stderr",
          "text": [
            "\u001b[32m[I 2021-12-14 12:12:47,466]\u001b[0m Trial 66 finished with value: 0.13508931395027152 and parameters: {'min_child_samples': 25}. Best is trial 64 with value: 0.032071412464032015.\u001b[0m\n"
          ]
        },
        {
          "output_type": "stream",
          "name": "stdout",
          "text": [
            "Early stopping, best iteration is:\n",
            "[44]\tTrain's rmse: 0.172844\tTest's rmse: 0.135089\n",
            "Training until validation scores don't improve for 50 rounds.\n"
          ]
        },
        {
          "output_type": "stream",
          "name": "stderr",
          "text": [
            "\u001b[32m[I 2021-12-14 12:12:48,044]\u001b[0m Trial 67 finished with value: 0.21531259695650073 and parameters: {'min_child_samples': 50}. Best is trial 64 with value: 0.032071412464032015.\u001b[0m\n"
          ]
        },
        {
          "output_type": "stream",
          "name": "stdout",
          "text": [
            "Did not meet early stopping. Best iteration is:\n",
            "[100]\tTrain's rmse: 0.22375\tTest's rmse: 0.215313\n"
          ]
        },
        {
          "output_type": "display_data",
          "data": {
            "image/png": "[encoded data removed]",
            "text/plain": [
              "<Figure size 432x288 with 1 Axes>"
            ]
          },
          "metadata": {
            "needs_background": "light"
          }
        },
        {
          "output_type": "stream",
          "name": "stderr",
          "text": [
            "\u001b[32m[I 2021-12-14 12:12:48,240]\u001b[0m A new study created in memory with name: no-name-99786aba-2343-439d-9e92-58c9dafa68b6\u001b[0m\n"
          ]
        },
        {
          "output_type": "stream",
          "name": "stdout",
          "text": [
            "Training until validation scores don't improve for 50 rounds.\n"
          ]
        },
        {
          "output_type": "stream",
          "name": "stderr",
          "text": [
            "\u001b[32m[I 2021-12-14 12:12:48,605]\u001b[0m Trial 0 finished with value: 0.11062713524749547 and parameters: {'feature_fraction': 0.8999999999999999}. Best is trial 0 with value: 0.11062713524749547.\u001b[0m\n"
          ]
        },
        {
          "output_type": "stream",
          "name": "stdout",
          "text": [
            "Did not meet early stopping. Best iteration is:\n",
            "[100]\tTrain's rmse: 0.119853\tTest's rmse: 0.110627\n",
            "Training until validation scores don't improve for 50 rounds.\n"
          ]
        },
        {
          "output_type": "stream",
          "name": "stderr",
          "text": [
            "\u001b[32m[I 2021-12-14 12:12:48,917]\u001b[0m Trial 1 finished with value: 0.11295003048614073 and parameters: {'feature_fraction': 0.5}. Best is trial 0 with value: 0.11062713524749547.\u001b[0m\n"
          ]
        },
        {
          "output_type": "stream",
          "name": "stdout",
          "text": [
            "Did not meet early stopping. Best iteration is:\n",
            "[100]\tTrain's rmse: 0.120963\tTest's rmse: 0.11295\n",
            "Training until validation scores don't improve for 50 rounds.\n"
          ]
        },
        {
          "output_type": "stream",
          "name": "stderr",
          "text": [
            "\u001b[32m[I 2021-12-14 12:12:49,280]\u001b[0m Trial 2 finished with value: 0.10923031483252058 and parameters: {'feature_fraction': 0.8}. Best is trial 2 with value: 0.10923031483252058.\u001b[0m\n"
          ]
        },
        {
          "output_type": "stream",
          "name": "stdout",
          "text": [
            "Did not meet early stopping. Best iteration is:\n",
            "[100]\tTrain's rmse: 0.120391\tTest's rmse: 0.10923\n",
            "Training until validation scores don't improve for 50 rounds.\n"
          ]
        },
        {
          "output_type": "stream",
          "name": "stderr",
          "text": [
            "\u001b[32m[I 2021-12-14 12:12:49,573]\u001b[0m Trial 3 finished with value: 0.11436617282716514 and parameters: {'feature_fraction': 0.4}. Best is trial 2 with value: 0.10923031483252058.\u001b[0m\n"
          ]
        },
        {
          "output_type": "stream",
          "name": "stdout",
          "text": [
            "Did not meet early stopping. Best iteration is:\n",
            "[100]\tTrain's rmse: 0.121522\tTest's rmse: 0.114366\n",
            "Training until validation scores don't improve for 50 rounds.\n"
          ]
        },
        {
          "output_type": "stream",
          "name": "stderr",
          "text": [
            "\u001b[32m[I 2021-12-14 12:12:49,947]\u001b[0m Trial 4 finished with value: 0.10836537284176956 and parameters: {'feature_fraction': 1.0}. Best is trial 4 with value: 0.10836537284176956.\u001b[0m\n"
          ]
        },
        {
          "output_type": "stream",
          "name": "stdout",
          "text": [
            "Did not meet early stopping. Best iteration is:\n",
            "[100]\tTrain's rmse: 0.119899\tTest's rmse: 0.108365\n",
            "Training until validation scores don't improve for 50 rounds.\n"
          ]
        },
        {
          "output_type": "stream",
          "name": "stderr",
          "text": [
            "\u001b[32m[I 2021-12-14 12:12:50,276]\u001b[0m Trial 5 finished with value: 0.1107387383859799 and parameters: {'feature_fraction': 0.6}. Best is trial 4 with value: 0.10836537284176956.\u001b[0m\n"
          ]
        },
        {
          "output_type": "stream",
          "name": "stdout",
          "text": [
            "Did not meet early stopping. Best iteration is:\n",
            "[100]\tTrain's rmse: 0.120773\tTest's rmse: 0.110739\n",
            "Training until validation scores don't improve for 50 rounds.\n"
          ]
        },
        {
          "output_type": "stream",
          "name": "stderr",
          "text": [
            "\u001b[32m[I 2021-12-14 12:12:50,612]\u001b[0m Trial 6 finished with value: 0.11288479607126256 and parameters: {'feature_fraction': 0.7}. Best is trial 4 with value: 0.10836537284176956.\u001b[0m\n"
          ]
        },
        {
          "output_type": "stream",
          "name": "stdout",
          "text": [
            "Did not meet early stopping. Best iteration is:\n",
            "[100]\tTrain's rmse: 0.120198\tTest's rmse: 0.112885\n",
            "Training until validation scores don't improve for 50 rounds.\n"
          ]
        },
        {
          "output_type": "stream",
          "name": "stderr",
          "text": [
            "\u001b[32m[I 2021-12-14 12:12:51,333]\u001b[0m Trial 7 finished with value: 0.11064090871126132 and parameters: {'num_leaves': 97}. Best is trial 7 with value: 0.11064090871126132.\u001b[0m\n"
          ]
        },
        {
          "output_type": "stream",
          "name": "stdout",
          "text": [
            "Did not meet early stopping. Best iteration is:\n",
            "[100]\tTrain's rmse: 0.119711\tTest's rmse: 0.110641\n",
            "Training until validation scores don't improve for 50 rounds.\n"
          ]
        },
        {
          "output_type": "stream",
          "name": "stderr",
          "text": [
            "\u001b[32m[I 2021-12-14 12:12:52,701]\u001b[0m Trial 8 finished with value: 0.10907835817708714 and parameters: {'num_leaves': 244}. Best is trial 8 with value: 0.10907835817708714.\u001b[0m\n"
          ]
        },
        {
          "output_type": "stream",
          "name": "stdout",
          "text": [
            "Did not meet early stopping. Best iteration is:\n",
            "[100]\tTrain's rmse: 0.119918\tTest's rmse: 0.109078\n",
            "Training until validation scores don't improve for 50 rounds.\n"
          ]
        },
        {
          "output_type": "stream",
          "name": "stderr",
          "text": [
            "\u001b[32m[I 2021-12-14 12:12:53,818]\u001b[0m Trial 9 finished with value: 0.1104864025891607 and parameters: {'num_leaves': 188}. Best is trial 8 with value: 0.10907835817708714.\u001b[0m\n"
          ]
        },
        {
          "output_type": "stream",
          "name": "stdout",
          "text": [
            "Did not meet early stopping. Best iteration is:\n",
            "[100]\tTrain's rmse: 0.119509\tTest's rmse: 0.110486\n",
            "Training until validation scores don't improve for 50 rounds.\n"
          ]
        },
        {
          "output_type": "stream",
          "name": "stderr",
          "text": [
            "\u001b[32m[I 2021-12-14 12:12:54,806]\u001b[0m Trial 10 finished with value: 0.10966351049175349 and parameters: {'num_leaves': 154}. Best is trial 8 with value: 0.10907835817708714.\u001b[0m\n"
          ]
        },
        {
          "output_type": "stream",
          "name": "stdout",
          "text": [
            "Did not meet early stopping. Best iteration is:\n",
            "[100]\tTrain's rmse: 0.119861\tTest's rmse: 0.109664\n",
            "Training until validation scores don't improve for 50 rounds.\n"
          ]
        },
        {
          "output_type": "stream",
          "name": "stderr",
          "text": [
            "\u001b[32m[I 2021-12-14 12:12:55,246]\u001b[0m Trial 11 finished with value: 0.10845233361511128 and parameters: {'num_leaves': 41}. Best is trial 11 with value: 0.10845233361511128.\u001b[0m\n"
          ]
        },
        {
          "output_type": "stream",
          "name": "stdout",
          "text": [
            "Did not meet early stopping. Best iteration is:\n",
            "[100]\tTrain's rmse: 0.120128\tTest's rmse: 0.108452\n",
            "Training until validation scores don't improve for 50 rounds.\n"
          ]
        },
        {
          "output_type": "stream",
          "name": "stderr",
          "text": [
            "\u001b[32m[I 2021-12-14 12:12:55,690]\u001b[0m Trial 12 finished with value: 0.10845233361511128 and parameters: {'num_leaves': 41}. Best is trial 11 with value: 0.10845233361511128.\u001b[0m\n"
          ]
        },
        {
          "output_type": "stream",
          "name": "stdout",
          "text": [
            "Did not meet early stopping. Best iteration is:\n",
            "[100]\tTrain's rmse: 0.120128\tTest's rmse: 0.108452\n",
            "Training until validation scores don't improve for 50 rounds.\n"
          ]
        },
        {
          "output_type": "stream",
          "name": "stderr",
          "text": [
            "\u001b[32m[I 2021-12-14 12:12:55,968]\u001b[0m Trial 13 finished with value: 0.11000109583563866 and parameters: {'num_leaves': 16}. Best is trial 11 with value: 0.10845233361511128.\u001b[0m\n"
          ]
        },
        {
          "output_type": "stream",
          "name": "stdout",
          "text": [
            "Did not meet early stopping. Best iteration is:\n",
            "[100]\tTrain's rmse: 0.120092\tTest's rmse: 0.110001\n",
            "Training until validation scores don't improve for 50 rounds.\n"
          ]
        },
        {
          "output_type": "stream",
          "name": "stderr",
          "text": [
            "\u001b[32m[I 2021-12-14 12:12:57,244]\u001b[0m Trial 14 finished with value: 0.10946633641999488 and parameters: {'num_leaves': 222}. Best is trial 11 with value: 0.10845233361511128.\u001b[0m\n"
          ]
        },
        {
          "output_type": "stream",
          "name": "stdout",
          "text": [
            "Did not meet early stopping. Best iteration is:\n",
            "[100]\tTrain's rmse: 0.119644\tTest's rmse: 0.109466\n",
            "Training until validation scores don't improve for 50 rounds.\n"
          ]
        },
        {
          "output_type": "stream",
          "name": "stderr",
          "text": [
            "\u001b[32m[I 2021-12-14 12:12:58,238]\u001b[0m Trial 15 finished with value: 0.10938556156403392 and parameters: {'num_leaves': 155}. Best is trial 11 with value: 0.10845233361511128.\u001b[0m\n"
          ]
        },
        {
          "output_type": "stream",
          "name": "stdout",
          "text": [
            "Did not meet early stopping. Best iteration is:\n",
            "[100]\tTrain's rmse: 0.119928\tTest's rmse: 0.109386\n",
            "Training until validation scores don't improve for 50 rounds.\n"
          ]
        },
        {
          "output_type": "stream",
          "name": "stderr",
          "text": [
            "\u001b[32m[I 2021-12-14 12:12:59,323]\u001b[0m Trial 16 finished with value: 0.10945196354163261 and parameters: {'num_leaves': 182}. Best is trial 11 with value: 0.10845233361511128.\u001b[0m\n"
          ]
        },
        {
          "output_type": "stream",
          "name": "stdout",
          "text": [
            "Did not meet early stopping. Best iteration is:\n",
            "[100]\tTrain's rmse: 0.11973\tTest's rmse: 0.109452\n",
            "Training until validation scores don't improve for 50 rounds.\n"
          ]
        },
        {
          "output_type": "stream",
          "name": "stderr",
          "text": [
            "\u001b[32m[I 2021-12-14 12:12:59,968]\u001b[0m Trial 17 finished with value: 0.1085243788344058 and parameters: {'num_leaves': 81}. Best is trial 11 with value: 0.10845233361511128.\u001b[0m\n",
            "\u001b[32m[I 2021-12-14 12:13:00,080]\u001b[0m Trial 18 finished with value: 0.12499450386701547 and parameters: {'num_leaves': 2}. Best is trial 11 with value: 0.10845233361511128.\u001b[0m\n"
          ]
        },
        {
          "output_type": "stream",
          "name": "stdout",
          "text": [
            "Did not meet early stopping. Best iteration is:\n",
            "[100]\tTrain's rmse: 0.11989\tTest's rmse: 0.108524\n",
            "Training until validation scores don't improve for 50 rounds.\n",
            "Did not meet early stopping. Best iteration is:\n",
            "[100]\tTrain's rmse: 0.132482\tTest's rmse: 0.124995\n",
            "Training until validation scores don't improve for 50 rounds.\n"
          ]
        },
        {
          "output_type": "stream",
          "name": "stderr",
          "text": [
            "\u001b[32m[I 2021-12-14 12:13:00,618]\u001b[0m Trial 19 finished with value: 0.10895041379087574 and parameters: {'num_leaves': 56}. Best is trial 11 with value: 0.10845233361511128.\u001b[0m\n"
          ]
        },
        {
          "output_type": "stream",
          "name": "stdout",
          "text": [
            "Did not meet early stopping. Best iteration is:\n",
            "[100]\tTrain's rmse: 0.120193\tTest's rmse: 0.10895\n",
            "Training until validation scores don't improve for 50 rounds.\n"
          ]
        },
        {
          "output_type": "stream",
          "name": "stderr",
          "text": [
            "\u001b[32m[I 2021-12-14 12:13:01,072]\u001b[0m Trial 20 finished with value: 0.10845233361511128 and parameters: {'num_leaves': 41}. Best is trial 11 with value: 0.10845233361511128.\u001b[0m\n"
          ]
        },
        {
          "output_type": "stream",
          "name": "stdout",
          "text": [
            "Did not meet early stopping. Best iteration is:\n",
            "[100]\tTrain's rmse: 0.120128\tTest's rmse: 0.108452\n",
            "Training until validation scores don't improve for 50 rounds.\n"
          ]
        },
        {
          "output_type": "stream",
          "name": "stderr",
          "text": [
            "\u001b[32m[I 2021-12-14 12:13:01,813]\u001b[0m Trial 21 finished with value: 0.10887717359165289 and parameters: {'num_leaves': 103}. Best is trial 11 with value: 0.10845233361511128.\u001b[0m\n"
          ]
        },
        {
          "output_type": "stream",
          "name": "stdout",
          "text": [
            "Did not meet early stopping. Best iteration is:\n",
            "[100]\tTrain's rmse: 0.119905\tTest's rmse: 0.108877\n",
            "Training until validation scores don't improve for 50 rounds.\n"
          ]
        },
        {
          "output_type": "stream",
          "name": "stderr",
          "text": [
            "\u001b[32m[I 2021-12-14 12:13:02,289]\u001b[0m Trial 22 finished with value: 0.10858734763886667 and parameters: {'num_leaves': 46}. Best is trial 11 with value: 0.10845233361511128.\u001b[0m\n"
          ]
        },
        {
          "output_type": "stream",
          "name": "stdout",
          "text": [
            "Did not meet early stopping. Best iteration is:\n",
            "[100]\tTrain's rmse: 0.120244\tTest's rmse: 0.108587\n",
            "Training until validation scores don't improve for 50 rounds.\n"
          ]
        },
        {
          "output_type": "stream",
          "name": "stderr",
          "text": [
            "\u001b[32m[I 2021-12-14 12:13:02,874]\u001b[0m Trial 23 finished with value: 0.10924361041574876 and parameters: {'num_leaves': 67}. Best is trial 11 with value: 0.10845233361511128.\u001b[0m\n"
          ]
        },
        {
          "output_type": "stream",
          "name": "stdout",
          "text": [
            "Did not meet early stopping. Best iteration is:\n",
            "[100]\tTrain's rmse: 0.119931\tTest's rmse: 0.109244\n",
            "Training until validation scores don't improve for 50 rounds.\n"
          ]
        },
        {
          "output_type": "stream",
          "name": "stderr",
          "text": [
            "\u001b[32m[I 2021-12-14 12:13:03,661]\u001b[0m Trial 24 finished with value: 0.1093466867570444 and parameters: {'num_leaves': 112}. Best is trial 11 with value: 0.10845233361511128.\u001b[0m\n"
          ]
        },
        {
          "output_type": "stream",
          "name": "stdout",
          "text": [
            "Did not meet early stopping. Best iteration is:\n",
            "[100]\tTrain's rmse: 0.120068\tTest's rmse: 0.109347\n",
            "Training until validation scores don't improve for 50 rounds.\n"
          ]
        },
        {
          "output_type": "stream",
          "name": "stderr",
          "text": [
            "\u001b[32m[I 2021-12-14 12:13:04,011]\u001b[0m Trial 25 finished with value: 0.10913510212960979 and parameters: {'num_leaves': 26}. Best is trial 11 with value: 0.10845233361511128.\u001b[0m\n"
          ]
        },
        {
          "output_type": "stream",
          "name": "stdout",
          "text": [
            "Did not meet early stopping. Best iteration is:\n",
            "[100]\tTrain's rmse: 0.119901\tTest's rmse: 0.109135\n",
            "Training until validation scores don't improve for 50 rounds.\n"
          ]
        },
        {
          "output_type": "stream",
          "name": "stderr",
          "text": [
            "\u001b[32m[I 2021-12-14 12:13:04,912]\u001b[0m Trial 26 finished with value: 0.10949546141126174 and parameters: {'num_leaves': 131}. Best is trial 11 with value: 0.10845233361511128.\u001b[0m\n"
          ]
        },
        {
          "output_type": "stream",
          "name": "stdout",
          "text": [
            "Did not meet early stopping. Best iteration is:\n",
            "[100]\tTrain's rmse: 0.119619\tTest's rmse: 0.109495\n",
            "Training until validation scores don't improve for 50 rounds.\n"
          ]
        },
        {
          "output_type": "stream",
          "name": "stderr",
          "text": [
            "\u001b[32m[I 2021-12-14 12:13:05,386]\u001b[0m Trial 27 finished with value: 0.1787193755907502 and parameters: {'bagging_fraction': 0.624724071308792, 'bagging_freq': 7}. Best is trial 27 with value: 0.1787193755907502.\u001b[0m\n"
          ]
        },
        {
          "output_type": "stream",
          "name": "stdout",
          "text": [
            "Did not meet early stopping. Best iteration is:\n",
            "[100]\tTrain's rmse: 0.149482\tTest's rmse: 0.178719\n",
            "Training until validation scores don't improve for 50 rounds.\n"
          ]
        },
        {
          "output_type": "stream",
          "name": "stderr",
          "text": [
            "\u001b[32m[I 2021-12-14 12:13:05,862]\u001b[0m Trial 28 finished with value: 0.1607825801058813 and parameters: {'bagging_fraction': 0.8391963650875751, 'bagging_freq': 5}. Best is trial 28 with value: 0.1607825801058813.\u001b[0m\n"
          ]
        },
        {
          "output_type": "stream",
          "name": "stdout",
          "text": [
            "Did not meet early stopping. Best iteration is:\n",
            "[100]\tTrain's rmse: 0.1299\tTest's rmse: 0.160783\n",
            "Training until validation scores don't improve for 50 rounds.\n"
          ]
        },
        {
          "output_type": "stream",
          "name": "stderr",
          "text": [
            "\u001b[32m[I 2021-12-14 12:13:06,320]\u001b[0m Trial 29 finished with value: 0.20118012304012337 and parameters: {'bagging_fraction': 0.49361118426561795, 'bagging_freq': 2}. Best is trial 28 with value: 0.1607825801058813.\u001b[0m\n"
          ]
        },
        {
          "output_type": "stream",
          "name": "stdout",
          "text": [
            "Did not meet early stopping. Best iteration is:\n",
            "[100]\tTrain's rmse: 0.173047\tTest's rmse: 0.20118\n",
            "Training until validation scores don't improve for 50 rounds.\n"
          ]
        },
        {
          "output_type": "stream",
          "name": "stderr",
          "text": [
            "\u001b[32m[I 2021-12-14 12:13:06,780]\u001b[0m Trial 30 finished with value: 0.21803967846472463 and parameters: {'bagging_fraction': 0.4348501673009778, 'bagging_freq': 7}. Best is trial 28 with value: 0.1607825801058813.\u001b[0m\n"
          ]
        },
        {
          "output_type": "stream",
          "name": "stdout",
          "text": [
            "Did not meet early stopping. Best iteration is:\n",
            "[93]\tTrain's rmse: 0.184899\tTest's rmse: 0.21804\n",
            "Training until validation scores don't improve for 50 rounds.\n"
          ]
        },
        {
          "output_type": "stream",
          "name": "stderr",
          "text": [
            "\u001b[32m[I 2021-12-14 12:13:07,247]\u001b[0m Trial 31 finished with value: 0.16111602169468814 and parameters: {'bagging_fraction': 0.7606690070465265, 'bagging_freq': 5}. Best is trial 28 with value: 0.1607825801058813.\u001b[0m\n"
          ]
        },
        {
          "output_type": "stream",
          "name": "stdout",
          "text": [
            "Did not meet early stopping. Best iteration is:\n",
            "[100]\tTrain's rmse: 0.135615\tTest's rmse: 0.161116\n",
            "Training until validation scores don't improve for 50 rounds.\n"
          ]
        },
        {
          "output_type": "stream",
          "name": "stderr",
          "text": [
            "\u001b[32m[I 2021-12-14 12:13:07,700]\u001b[0m Trial 32 finished with value: 0.22481004185749903 and parameters: {'bagging_fraction': 0.41235069657750206, 'bagging_freq': 7}. Best is trial 28 with value: 0.1607825801058813.\u001b[0m\n"
          ]
        },
        {
          "output_type": "stream",
          "name": "stdout",
          "text": [
            "Did not meet early stopping. Best iteration is:\n",
            "[93]\tTrain's rmse: 0.188641\tTest's rmse: 0.22481\n",
            "Training until validation scores don't improve for 50 rounds.\n"
          ]
        },
        {
          "output_type": "stream",
          "name": "stderr",
          "text": [
            "\u001b[32m[I 2021-12-14 12:13:08,199]\u001b[0m Trial 33 finished with value: 0.13379421248739226 and parameters: {'bagging_fraction': 0.8994655844810855, 'bagging_freq': 2}. Best is trial 33 with value: 0.13379421248739226.\u001b[0m\n"
          ]
        },
        {
          "output_type": "stream",
          "name": "stdout",
          "text": [
            "Did not meet early stopping. Best iteration is:\n",
            "[94]\tTrain's rmse: 0.126058\tTest's rmse: 0.133794\n",
            "Training until validation scores don't improve for 50 rounds.\n"
          ]
        },
        {
          "output_type": "stream",
          "name": "stderr",
          "text": [
            "\u001b[32m[I 2021-12-14 12:13:08,658]\u001b[0m Trial 34 finished with value: 0.20256896949264305 and parameters: {'bagging_fraction': 0.5090949803244422, 'bagging_freq': 2}. Best is trial 33 with value: 0.13379421248739226.\u001b[0m\n"
          ]
        },
        {
          "output_type": "stream",
          "name": "stdout",
          "text": [
            "Did not meet early stopping. Best iteration is:\n",
            "[100]\tTrain's rmse: 0.172456\tTest's rmse: 0.202569\n",
            "Training until validation scores don't improve for 50 rounds.\n"
          ]
        },
        {
          "output_type": "stream",
          "name": "stderr",
          "text": [
            "\u001b[32m[I 2021-12-14 12:13:09,116]\u001b[0m Trial 35 finished with value: 0.1851069996525503 and parameters: {'bagging_fraction': 0.5825453457760269, 'bagging_freq': 4}. Best is trial 33 with value: 0.13379421248739226.\u001b[0m\n"
          ]
        },
        {
          "output_type": "stream",
          "name": "stdout",
          "text": [
            "Did not meet early stopping. Best iteration is:\n",
            "[100]\tTrain's rmse: 0.164407\tTest's rmse: 0.185107\n",
            "Training until validation scores don't improve for 50 rounds.\n"
          ]
        },
        {
          "output_type": "stream",
          "name": "stderr",
          "text": [
            "\u001b[32m[I 2021-12-14 12:13:09,558]\u001b[0m Trial 36 finished with value: 0.17904438939270942 and parameters: {'bagging_fraction': 0.6591670111857015, 'bagging_freq': 3}. Best is trial 33 with value: 0.13379421248739226.\u001b[0m\n"
          ]
        },
        {
          "output_type": "stream",
          "name": "stdout",
          "text": [
            "Did not meet early stopping. Best iteration is:\n",
            "[100]\tTrain's rmse: 0.144857\tTest's rmse: 0.179044\n",
            "Training until validation scores don't improve for 50 rounds.\n"
          ]
        },
        {
          "output_type": "stream",
          "name": "stderr",
          "text": [
            "\u001b[32m[I 2021-12-14 12:13:09,927]\u001b[0m Trial 37 finished with value: 0.11062713524749547 and parameters: {'feature_fraction': 0.9840000000000001}. Best is trial 37 with value: 0.11062713524749547.\u001b[0m\n"
          ]
        },
        {
          "output_type": "stream",
          "name": "stdout",
          "text": [
            "Did not meet early stopping. Best iteration is:\n",
            "[100]\tTrain's rmse: 0.119853\tTest's rmse: 0.110627\n",
            "Training until validation scores don't improve for 50 rounds.\n"
          ]
        },
        {
          "output_type": "stream",
          "name": "stderr",
          "text": [
            "\u001b[32m[I 2021-12-14 12:13:10,292]\u001b[0m Trial 38 finished with value: 0.11062713524749547 and parameters: {'feature_fraction': 0.92}. Best is trial 37 with value: 0.11062713524749547.\u001b[0m\n"
          ]
        },
        {
          "output_type": "stream",
          "name": "stdout",
          "text": [
            "Did not meet early stopping. Best iteration is:\n",
            "[100]\tTrain's rmse: 0.119853\tTest's rmse: 0.110627\n",
            "Training until validation scores don't improve for 50 rounds.\n"
          ]
        },
        {
          "output_type": "stream",
          "name": "stderr",
          "text": [
            "\u001b[32m[I 2021-12-14 12:13:10,654]\u001b[0m Trial 39 finished with value: 0.11062713524749547 and parameters: {'feature_fraction': 0.9520000000000001}. Best is trial 37 with value: 0.11062713524749547.\u001b[0m\n"
          ]
        },
        {
          "output_type": "stream",
          "name": "stdout",
          "text": [
            "Did not meet early stopping. Best iteration is:\n",
            "[100]\tTrain's rmse: 0.119853\tTest's rmse: 0.110627\n",
            "Training until validation scores don't improve for 50 rounds.\n"
          ]
        },
        {
          "output_type": "stream",
          "name": "stderr",
          "text": [
            "\u001b[32m[I 2021-12-14 12:13:11,049]\u001b[0m Trial 40 finished with value: 0.11075938997750051 and parameters: {'lambda_l1': 2.348881295853308e-05, 'lambda_l2': 3.6010467344475403}. Best is trial 40 with value: 0.11075938997750051.\u001b[0m\n"
          ]
        },
        {
          "output_type": "stream",
          "name": "stdout",
          "text": [
            "Did not meet early stopping. Best iteration is:\n",
            "[100]\tTrain's rmse: 0.121443\tTest's rmse: 0.110759\n",
            "Training until validation scores don't improve for 50 rounds.\n"
          ]
        },
        {
          "output_type": "stream",
          "name": "stderr",
          "text": [
            "\u001b[32m[I 2021-12-14 12:13:11,420]\u001b[0m Trial 41 finished with value: 0.11041777816111051 and parameters: {'lambda_l1': 0.038720902953704193, 'lambda_l2': 0.0024430162614261413}. Best is trial 41 with value: 0.11041777816111051.\u001b[0m\n"
          ]
        },
        {
          "output_type": "stream",
          "name": "stdout",
          "text": [
            "Did not meet early stopping. Best iteration is:\n",
            "[100]\tTrain's rmse: 0.119872\tTest's rmse: 0.110418\n",
            "Training until validation scores don't improve for 50 rounds.\n"
          ]
        },
        {
          "output_type": "stream",
          "name": "stderr",
          "text": [
            "\u001b[32m[I 2021-12-14 12:13:11,803]\u001b[0m Trial 42 finished with value: 0.10836537319991764 and parameters: {'lambda_l1': 2.5361081166471375e-07, 'lambda_l2': 2.5348407664333426e-07}. Best is trial 42 with value: 0.10836537319991764.\u001b[0m\n"
          ]
        },
        {
          "output_type": "stream",
          "name": "stdout",
          "text": [
            "Did not meet early stopping. Best iteration is:\n",
            "[100]\tTrain's rmse: 0.119899\tTest's rmse: 0.108365\n",
            "Training until validation scores don't improve for 50 rounds.\n"
          ]
        },
        {
          "output_type": "stream",
          "name": "stderr",
          "text": [
            "\u001b[32m[I 2021-12-14 12:13:12,192]\u001b[0m Trial 43 finished with value: 0.10902386546850693 and parameters: {'lambda_l1': 3.3323645788192616e-08, 'lambda_l2': 0.6245760287469893}. Best is trial 42 with value: 0.10836537319991764.\u001b[0m\n"
          ]
        },
        {
          "output_type": "stream",
          "name": "stdout",
          "text": [
            "Did not meet early stopping. Best iteration is:\n",
            "[100]\tTrain's rmse: 0.119841\tTest's rmse: 0.109024\n",
            "Training until validation scores don't improve for 50 rounds.\n"
          ]
        },
        {
          "output_type": "stream",
          "name": "stderr",
          "text": [
            "\u001b[32m[I 2021-12-14 12:13:12,573]\u001b[0m Trial 44 finished with value: 0.10886990252250812 and parameters: {'lambda_l1': 0.002570603566117598, 'lambda_l2': 0.023585940584142682}. Best is trial 42 with value: 0.10836537319991764.\u001b[0m\n"
          ]
        },
        {
          "output_type": "stream",
          "name": "stdout",
          "text": [
            "Did not meet early stopping. Best iteration is:\n",
            "[100]\tTrain's rmse: 0.11977\tTest's rmse: 0.10887\n",
            "Training until validation scores don't improve for 50 rounds.\n"
          ]
        },
        {
          "output_type": "stream",
          "name": "stderr",
          "text": [
            "\u001b[32m[I 2021-12-14 12:13:12,967]\u001b[0m Trial 45 finished with value: 0.11079247011210834 and parameters: {'lambda_l1': 1.5320059381854043e-08, 'lambda_l2': 5.360294728728285}. Best is trial 42 with value: 0.10836537319991764.\u001b[0m\n"
          ]
        },
        {
          "output_type": "stream",
          "name": "stdout",
          "text": [
            "Did not meet early stopping. Best iteration is:\n",
            "[100]\tTrain's rmse: 0.121373\tTest's rmse: 0.110792\n",
            "Training until validation scores don't improve for 50 rounds.\n"
          ]
        },
        {
          "output_type": "stream",
          "name": "stderr",
          "text": [
            "\u001b[32m[I 2021-12-14 12:13:13,286]\u001b[0m Trial 46 finished with value: 0.11151862997377805 and parameters: {'lambda_l1': 0.31044435499483225, 'lambda_l2': 8.148018307012941e-07}. Best is trial 42 with value: 0.10836537319991764.\u001b[0m\n"
          ]
        },
        {
          "output_type": "stream",
          "name": "stdout",
          "text": [
            "Did not meet early stopping. Best iteration is:\n",
            "[100]\tTrain's rmse: 0.119726\tTest's rmse: 0.111519\n",
            "Training until validation scores don't improve for 50 rounds.\n"
          ]
        },
        {
          "output_type": "stream",
          "name": "stderr",
          "text": [
            "\u001b[32m[I 2021-12-14 12:13:13,654]\u001b[0m Trial 47 finished with value: 0.10836537334275193 and parameters: {'lambda_l1': 4.329370014459266e-07, 'lambda_l2': 4.4734294104626844e-07}. Best is trial 42 with value: 0.10836537319991764.\u001b[0m\n"
          ]
        },
        {
          "output_type": "stream",
          "name": "stdout",
          "text": [
            "Did not meet early stopping. Best iteration is:\n",
            "[100]\tTrain's rmse: 0.119899\tTest's rmse: 0.108365\n",
            "Training until validation scores don't improve for 50 rounds.\n"
          ]
        },
        {
          "output_type": "stream",
          "name": "stderr",
          "text": [
            "\u001b[32m[I 2021-12-14 12:13:14,044]\u001b[0m Trial 48 finished with value: 0.10870443185086161 and parameters: {'lambda_l1': 5.472429642032198e-06, 'lambda_l2': 0.00052821153945323}. Best is trial 42 with value: 0.10836537319991764.\u001b[0m\n"
          ]
        },
        {
          "output_type": "stream",
          "name": "stdout",
          "text": [
            "Did not meet early stopping. Best iteration is:\n",
            "[100]\tTrain's rmse: 0.119693\tTest's rmse: 0.108704\n",
            "Training until validation scores don't improve for 50 rounds.\n"
          ]
        },
        {
          "output_type": "stream",
          "name": "stderr",
          "text": [
            "\u001b[32m[I 2021-12-14 12:13:14,428]\u001b[0m Trial 49 finished with value: 0.10879924120737158 and parameters: {'lambda_l1': 7.71800699380605e-05, 'lambda_l2': 4.17890272377219e-06}. Best is trial 42 with value: 0.10836537319991764.\u001b[0m\n"
          ]
        },
        {
          "output_type": "stream",
          "name": "stdout",
          "text": [
            "Did not meet early stopping. Best iteration is:\n",
            "[100]\tTrain's rmse: 0.119645\tTest's rmse: 0.108799\n",
            "Training until validation scores don't improve for 50 rounds.\n"
          ]
        },
        {
          "output_type": "stream",
          "name": "stderr",
          "text": [
            "\u001b[32m[I 2021-12-14 12:13:14,669]\u001b[0m Trial 50 finished with value: 0.11303003851443157 and parameters: {'lambda_l1': 3.207959657544482, 'lambda_l2': 1.1323342574941946e-08}. Best is trial 42 with value: 0.10836537319991764.\u001b[0m\n"
          ]
        },
        {
          "output_type": "stream",
          "name": "stdout",
          "text": [
            "Did not meet early stopping. Best iteration is:\n",
            "[100]\tTrain's rmse: 0.122627\tTest's rmse: 0.11303\n",
            "Training until validation scores don't improve for 50 rounds.\n"
          ]
        },
        {
          "output_type": "stream",
          "name": "stderr",
          "text": [
            "\u001b[32m[I 2021-12-14 12:13:15,060]\u001b[0m Trial 51 finished with value: 0.10836537449661304 and parameters: {'lambda_l1': 8.739208840790941e-07, 'lambda_l2': 1.99371629285331e-06}. Best is trial 42 with value: 0.10836537319991764.\u001b[0m\n"
          ]
        },
        {
          "output_type": "stream",
          "name": "stdout",
          "text": [
            "Did not meet early stopping. Best iteration is:\n",
            "[100]\tTrain's rmse: 0.119899\tTest's rmse: 0.108365\n",
            "Training until validation scores don't improve for 50 rounds.\n"
          ]
        },
        {
          "output_type": "stream",
          "name": "stderr",
          "text": [
            "\u001b[32m[I 2021-12-14 12:13:15,449]\u001b[0m Trial 52 finished with value: 0.10836537304309803 and parameters: {'lambda_l1': 3.2956792945849545e-07, 'lambda_l2': 2.2311398834761413e-08}. Best is trial 52 with value: 0.10836537304309803.\u001b[0m\n"
          ]
        },
        {
          "output_type": "stream",
          "name": "stdout",
          "text": [
            "Did not meet early stopping. Best iteration is:\n",
            "[100]\tTrain's rmse: 0.119899\tTest's rmse: 0.108365\n",
            "Training until validation scores don't improve for 50 rounds.\n"
          ]
        },
        {
          "output_type": "stream",
          "name": "stderr",
          "text": [
            "\u001b[32m[I 2021-12-14 12:13:15,841]\u001b[0m Trial 53 finished with value: 0.10900785593719893 and parameters: {'lambda_l1': 0.0008421907750901968, 'lambda_l2': 1.2702524155028834e-08}. Best is trial 52 with value: 0.10836537304309803.\u001b[0m\n"
          ]
        },
        {
          "output_type": "stream",
          "name": "stdout",
          "text": [
            "Did not meet early stopping. Best iteration is:\n",
            "[100]\tTrain's rmse: 0.120231\tTest's rmse: 0.109008\n",
            "Training until validation scores don't improve for 50 rounds.\n"
          ]
        },
        {
          "output_type": "stream",
          "name": "stderr",
          "text": [
            "\u001b[32m[I 2021-12-14 12:13:16,227]\u001b[0m Trial 54 finished with value: 0.10836538581356828 and parameters: {'lambda_l1': 3.447615183683311e-07, 'lambda_l2': 2.6087844118276602e-05}. Best is trial 52 with value: 0.10836537304309803.\u001b[0m\n"
          ]
        },
        {
          "output_type": "stream",
          "name": "stdout",
          "text": [
            "Did not meet early stopping. Best iteration is:\n",
            "[100]\tTrain's rmse: 0.119899\tTest's rmse: 0.108365\n",
            "Training until validation scores don't improve for 50 rounds.\n"
          ]
        },
        {
          "output_type": "stream",
          "name": "stderr",
          "text": [
            "\u001b[32m[I 2021-12-14 12:13:16,604]\u001b[0m Trial 55 finished with value: 0.10836537679288215 and parameters: {'lambda_l1': 4.895525573655169e-06, 'lambda_l2': 1.3153049473274364e-07}. Best is trial 52 with value: 0.10836537304309803.\u001b[0m\n"
          ]
        },
        {
          "output_type": "stream",
          "name": "stdout",
          "text": [
            "Did not meet early stopping. Best iteration is:\n",
            "[100]\tTrain's rmse: 0.119899\tTest's rmse: 0.108365\n",
            "Training until validation scores don't improve for 50 rounds.\n"
          ]
        },
        {
          "output_type": "stream",
          "name": "stderr",
          "text": [
            "\u001b[32m[I 2021-12-14 12:13:16,991]\u001b[0m Trial 56 finished with value: 0.10836539021691152 and parameters: {'lambda_l1': 8.888685965689552e-08, 'lambda_l2': 3.59424753355417e-05}. Best is trial 52 with value: 0.10836537304309803.\u001b[0m\n"
          ]
        },
        {
          "output_type": "stream",
          "name": "stdout",
          "text": [
            "Did not meet early stopping. Best iteration is:\n",
            "[100]\tTrain's rmse: 0.119899\tTest's rmse: 0.108365\n",
            "Training until validation scores don't improve for 50 rounds.\n"
          ]
        },
        {
          "output_type": "stream",
          "name": "stderr",
          "text": [
            "\u001b[32m[I 2021-12-14 12:13:17,375]\u001b[0m Trial 57 finished with value: 0.10906227367916153 and parameters: {'lambda_l1': 0.00013207817698280088, 'lambda_l2': 6.182028633393764e-08}. Best is trial 52 with value: 0.10836537304309803.\u001b[0m\n"
          ]
        },
        {
          "output_type": "stream",
          "name": "stdout",
          "text": [
            "Did not meet early stopping. Best iteration is:\n",
            "[100]\tTrain's rmse: 0.11997\tTest's rmse: 0.109062\n",
            "Training until validation scores don't improve for 50 rounds.\n"
          ]
        },
        {
          "output_type": "stream",
          "name": "stderr",
          "text": [
            "\u001b[32m[I 2021-12-14 12:13:17,763]\u001b[0m Trial 58 finished with value: 0.10870423169876307 and parameters: {'lambda_l1': 4.976594151195463e-06, 'lambda_l2': 7.918734875085908e-05}. Best is trial 52 with value: 0.10836537304309803.\u001b[0m\n"
          ]
        },
        {
          "output_type": "stream",
          "name": "stdout",
          "text": [
            "Did not meet early stopping. Best iteration is:\n",
            "[100]\tTrain's rmse: 0.119693\tTest's rmse: 0.108704\n",
            "Training until validation scores don't improve for 50 rounds.\n"
          ]
        },
        {
          "output_type": "stream",
          "name": "stderr",
          "text": [
            "\u001b[32m[I 2021-12-14 12:13:18,157]\u001b[0m Trial 59 finished with value: 0.108538155253421 and parameters: {'lambda_l1': 0.0057550268638067925, 'lambda_l2': 8.059918212278755e-08}. Best is trial 52 with value: 0.10836537304309803.\u001b[0m\n"
          ]
        },
        {
          "output_type": "stream",
          "name": "stdout",
          "text": [
            "Did not meet early stopping. Best iteration is:\n",
            "[100]\tTrain's rmse: 0.119757\tTest's rmse: 0.108538\n",
            "Training until validation scores don't improve for 50 rounds.\n"
          ]
        },
        {
          "output_type": "stream",
          "name": "stderr",
          "text": [
            "\u001b[32m[I 2021-12-14 12:13:18,574]\u001b[0m Trial 60 finished with value: 0.3087236275460268 and parameters: {'min_child_samples': 100}. Best is trial 60 with value: 0.3087236275460268.\u001b[0m\n"
          ]
        },
        {
          "output_type": "stream",
          "name": "stdout",
          "text": [
            "Did not meet early stopping. Best iteration is:\n",
            "[100]\tTrain's rmse: 0.253977\tTest's rmse: 0.308724\n",
            "Training until validation scores don't improve for 50 rounds.\n"
          ]
        },
        {
          "output_type": "stream",
          "name": "stderr",
          "text": [
            "\u001b[32m[I 2021-12-14 12:13:18,969]\u001b[0m Trial 61 finished with value: 0.17036349629901537 and parameters: {'min_child_samples': 25}. Best is trial 61 with value: 0.17036349629901537.\u001b[0m\n"
          ]
        },
        {
          "output_type": "stream",
          "name": "stdout",
          "text": [
            "Did not meet early stopping. Best iteration is:\n",
            "[100]\tTrain's rmse: 0.133303\tTest's rmse: 0.170363\n",
            "Training until validation scores don't improve for 50 rounds.\n"
          ]
        },
        {
          "output_type": "stream",
          "name": "stderr",
          "text": [
            "\u001b[32m[I 2021-12-14 12:13:19,328]\u001b[0m Trial 62 finished with value: 0.06261029543620436 and parameters: {'min_child_samples': 10}. Best is trial 62 with value: 0.06261029543620436.\u001b[0m\n"
          ]
        },
        {
          "output_type": "stream",
          "name": "stdout",
          "text": [
            "Did not meet early stopping. Best iteration is:\n",
            "[100]\tTrain's rmse: 0.0730358\tTest's rmse: 0.0626103\n",
            "Training until validation scores don't improve for 50 rounds.\n"
          ]
        },
        {
          "output_type": "stream",
          "name": "stderr",
          "text": [
            "\u001b[32m[I 2021-12-14 12:13:19,634]\u001b[0m Trial 63 finished with value: 0.03463908756503014 and parameters: {'min_child_samples': 5}. Best is trial 63 with value: 0.03463908756503014.\u001b[0m\n"
          ]
        },
        {
          "output_type": "stream",
          "name": "stdout",
          "text": [
            "Early stopping, best iteration is:\n",
            "[41]\tTrain's rmse: 0.0524245\tTest's rmse: 0.0346391\n",
            "Training until validation scores don't improve for 50 rounds.\n"
          ]
        },
        {
          "output_type": "stream",
          "name": "stderr",
          "text": [
            "\u001b[32m[I 2021-12-14 12:13:20,033]\u001b[0m Trial 64 finished with value: 0.24052541114732584 and parameters: {'min_child_samples': 50}. Best is trial 63 with value: 0.03463908756503014.\u001b[0m\n"
          ]
        },
        {
          "output_type": "stream",
          "name": "stdout",
          "text": [
            "Early stopping, best iteration is:\n",
            "[49]\tTrain's rmse: 0.208333\tTest's rmse: 0.240525\n"
          ]
        },
        {
          "output_type": "display_data",
          "data": {
            "image/png": "[encoded data removed]",
            "text/plain": [
              "<Figure size 432x288 with 1 Axes>"
            ]
          },
          "metadata": {
            "needs_background": "light"
          }
        },
        {
          "output_type": "stream",
          "name": "stderr",
          "text": [
            "\u001b[32m[I 2021-12-14 12:13:20,224]\u001b[0m A new study created in memory with name: no-name-5f97d34f-28aa-47d6-a0d1-85adb70a0a4d\u001b[0m\n"
          ]
        },
        {
          "output_type": "stream",
          "name": "stdout",
          "text": [
            "Training until validation scores don't improve for 50 rounds.\n"
          ]
        },
        {
          "output_type": "stream",
          "name": "stderr",
          "text": [
            "\u001b[32m[I 2021-12-14 12:13:20,519]\u001b[0m Trial 0 finished with value: 0.22890429630380113 and parameters: {'feature_fraction': 0.5}. Best is trial 0 with value: 0.22890429630380113.\u001b[0m\n"
          ]
        },
        {
          "output_type": "stream",
          "name": "stdout",
          "text": [
            "Early stopping, best iteration is:\n",
            "[45]\tTrain's rmse: 0.10416\tTest's rmse: 0.228904\n",
            "Training until validation scores don't improve for 50 rounds.\n"
          ]
        },
        {
          "output_type": "stream",
          "name": "stderr",
          "text": [
            "\u001b[32m[I 2021-12-14 12:13:20,829]\u001b[0m Trial 1 finished with value: 0.22892449373968266 and parameters: {'feature_fraction': 0.7}. Best is trial 0 with value: 0.22890429630380113.\u001b[0m\n"
          ]
        },
        {
          "output_type": "stream",
          "name": "stdout",
          "text": [
            "Early stopping, best iteration is:\n",
            "[45]\tTrain's rmse: 0.10374\tTest's rmse: 0.228924\n",
            "Training until validation scores don't improve for 50 rounds.\n"
          ]
        },
        {
          "output_type": "stream",
          "name": "stderr",
          "text": [
            "\u001b[32m[I 2021-12-14 12:13:21,183]\u001b[0m Trial 2 finished with value: 0.22859300651120093 and parameters: {'feature_fraction': 0.8999999999999999}. Best is trial 2 with value: 0.22859300651120093.\u001b[0m\n"
          ]
        },
        {
          "output_type": "stream",
          "name": "stdout",
          "text": [
            "Early stopping, best iteration is:\n",
            "[46]\tTrain's rmse: 0.102078\tTest's rmse: 0.228593\n",
            "Training until validation scores don't improve for 50 rounds.\n"
          ]
        },
        {
          "output_type": "stream",
          "name": "stderr",
          "text": [
            "\u001b[32m[I 2021-12-14 12:13:21,473]\u001b[0m Trial 3 finished with value: 0.22973119822717084 and parameters: {'feature_fraction': 0.6}. Best is trial 2 with value: 0.22859300651120093.\u001b[0m\n"
          ]
        },
        {
          "output_type": "stream",
          "name": "stdout",
          "text": [
            "Early stopping, best iteration is:\n",
            "[45]\tTrain's rmse: 0.104205\tTest's rmse: 0.229731\n",
            "Training until validation scores don't improve for 50 rounds.\n"
          ]
        },
        {
          "output_type": "stream",
          "name": "stderr",
          "text": [
            "\u001b[32m[I 2021-12-14 12:13:21,819]\u001b[0m Trial 4 finished with value: 0.22920891162849005 and parameters: {'feature_fraction': 1.0}. Best is trial 2 with value: 0.22859300651120093.\u001b[0m\n"
          ]
        },
        {
          "output_type": "stream",
          "name": "stdout",
          "text": [
            "Early stopping, best iteration is:\n",
            "[44]\tTrain's rmse: 0.102601\tTest's rmse: 0.229209\n",
            "Training until validation scores don't improve for 50 rounds.\n"
          ]
        },
        {
          "output_type": "stream",
          "name": "stderr",
          "text": [
            "\u001b[32m[I 2021-12-14 12:13:22,160]\u001b[0m Trial 5 finished with value: 0.2287679089774151 and parameters: {'feature_fraction': 0.8}. Best is trial 2 with value: 0.22859300651120093.\u001b[0m\n"
          ]
        },
        {
          "output_type": "stream",
          "name": "stdout",
          "text": [
            "Early stopping, best iteration is:\n",
            "[48]\tTrain's rmse: 0.102174\tTest's rmse: 0.228768\n",
            "Training until validation scores don't improve for 50 rounds.\n"
          ]
        },
        {
          "output_type": "stream",
          "name": "stderr",
          "text": [
            "\u001b[32m[I 2021-12-14 12:13:22,452]\u001b[0m Trial 6 finished with value: 0.23286136875146357 and parameters: {'feature_fraction': 0.4}. Best is trial 2 with value: 0.22859300651120093.\u001b[0m\n"
          ]
        },
        {
          "output_type": "stream",
          "name": "stdout",
          "text": [
            "Did not meet early stopping. Best iteration is:\n",
            "[100]\tTrain's rmse: 0.0976384\tTest's rmse: 0.232861\n",
            "Training until validation scores don't improve for 50 rounds.\n"
          ]
        },
        {
          "output_type": "stream",
          "name": "stderr",
          "text": [
            "\u001b[32m[I 2021-12-14 12:13:23,078]\u001b[0m Trial 7 finished with value: 0.2286993529443253 and parameters: {'num_leaves': 97}. Best is trial 7 with value: 0.2286993529443253.\u001b[0m\n"
          ]
        },
        {
          "output_type": "stream",
          "name": "stdout",
          "text": [
            "Early stopping, best iteration is:\n",
            "[45]\tTrain's rmse: 0.102324\tTest's rmse: 0.228699\n",
            "Training until validation scores don't improve for 50 rounds.\n"
          ]
        },
        {
          "output_type": "stream",
          "name": "stderr",
          "text": [
            "\u001b[32m[I 2021-12-14 12:13:24,194]\u001b[0m Trial 8 finished with value: 0.22884439124741868 and parameters: {'num_leaves': 244}. Best is trial 7 with value: 0.2286993529443253.\u001b[0m\n"
          ]
        },
        {
          "output_type": "stream",
          "name": "stdout",
          "text": [
            "Early stopping, best iteration is:\n",
            "[44]\tTrain's rmse: 0.102691\tTest's rmse: 0.228844\n",
            "Training until validation scores don't improve for 50 rounds.\n"
          ]
        },
        {
          "output_type": "stream",
          "name": "stderr",
          "text": [
            "\u001b[32m[I 2021-12-14 12:13:25,097]\u001b[0m Trial 9 finished with value: 0.22884470811667207 and parameters: {'num_leaves': 188}. Best is trial 7 with value: 0.2286993529443253.\u001b[0m\n"
          ]
        },
        {
          "output_type": "stream",
          "name": "stdout",
          "text": [
            "Early stopping, best iteration is:\n",
            "[44]\tTrain's rmse: 0.102692\tTest's rmse: 0.228845\n",
            "Training until validation scores don't improve for 50 rounds.\n"
          ]
        },
        {
          "output_type": "stream",
          "name": "stderr",
          "text": [
            "\u001b[32m[I 2021-12-14 12:13:25,860]\u001b[0m Trial 10 finished with value: 0.22884457897370522 and parameters: {'num_leaves': 154}. Best is trial 7 with value: 0.2286993529443253.\u001b[0m\n"
          ]
        },
        {
          "output_type": "stream",
          "name": "stdout",
          "text": [
            "Early stopping, best iteration is:\n",
            "[44]\tTrain's rmse: 0.102692\tTest's rmse: 0.228845\n",
            "Training until validation scores don't improve for 50 rounds.\n"
          ]
        },
        {
          "output_type": "stream",
          "name": "stderr",
          "text": [
            "\u001b[32m[I 2021-12-14 12:13:26,285]\u001b[0m Trial 11 finished with value: 0.2294263975227196 and parameters: {'num_leaves': 41}. Best is trial 7 with value: 0.2286993529443253.\u001b[0m\n"
          ]
        },
        {
          "output_type": "stream",
          "name": "stdout",
          "text": [
            "Early stopping, best iteration is:\n",
            "[49]\tTrain's rmse: 0.101483\tTest's rmse: 0.229426\n",
            "Training until validation scores don't improve for 50 rounds.\n"
          ]
        },
        {
          "output_type": "stream",
          "name": "stderr",
          "text": [
            "\u001b[32m[I 2021-12-14 12:13:26,714]\u001b[0m Trial 12 finished with value: 0.2294263975227196 and parameters: {'num_leaves': 41}. Best is trial 7 with value: 0.2286993529443253.\u001b[0m\n"
          ]
        },
        {
          "output_type": "stream",
          "name": "stdout",
          "text": [
            "Early stopping, best iteration is:\n",
            "[49]\tTrain's rmse: 0.101483\tTest's rmse: 0.229426\n",
            "Training until validation scores don't improve for 50 rounds.\n"
          ]
        },
        {
          "output_type": "stream",
          "name": "stderr",
          "text": [
            "\u001b[32m[I 2021-12-14 12:13:26,967]\u001b[0m Trial 13 finished with value: 0.22854994443229862 and parameters: {'num_leaves': 16}. Best is trial 13 with value: 0.22854994443229862.\u001b[0m\n"
          ]
        },
        {
          "output_type": "stream",
          "name": "stdout",
          "text": [
            "Early stopping, best iteration is:\n",
            "[46]\tTrain's rmse: 0.102105\tTest's rmse: 0.22855\n",
            "Training until validation scores don't improve for 50 rounds.\n"
          ]
        },
        {
          "output_type": "stream",
          "name": "stderr",
          "text": [
            "\u001b[32m[I 2021-12-14 12:13:27,995]\u001b[0m Trial 14 finished with value: 0.2288444009514304 and parameters: {'num_leaves': 222}. Best is trial 13 with value: 0.22854994443229862.\u001b[0m\n"
          ]
        },
        {
          "output_type": "stream",
          "name": "stdout",
          "text": [
            "Early stopping, best iteration is:\n",
            "[44]\tTrain's rmse: 0.102691\tTest's rmse: 0.228844\n",
            "Training until validation scores don't improve for 50 rounds.\n"
          ]
        },
        {
          "output_type": "stream",
          "name": "stderr",
          "text": [
            "\u001b[32m[I 2021-12-14 12:13:28,791]\u001b[0m Trial 15 finished with value: 0.22884457291462793 and parameters: {'num_leaves': 155}. Best is trial 13 with value: 0.22854994443229862.\u001b[0m\n"
          ]
        },
        {
          "output_type": "stream",
          "name": "stdout",
          "text": [
            "Early stopping, best iteration is:\n",
            "[44]\tTrain's rmse: 0.102692\tTest's rmse: 0.228845\n",
            "Training until validation scores don't improve for 50 rounds.\n"
          ]
        },
        {
          "output_type": "stream",
          "name": "stderr",
          "text": [
            "\u001b[32m[I 2021-12-14 12:13:29,682]\u001b[0m Trial 16 finished with value: 0.22884473399991054 and parameters: {'num_leaves': 182}. Best is trial 13 with value: 0.22854994443229862.\u001b[0m\n"
          ]
        },
        {
          "output_type": "stream",
          "name": "stdout",
          "text": [
            "Early stopping, best iteration is:\n",
            "[44]\tTrain's rmse: 0.102692\tTest's rmse: 0.228845\n",
            "Training until validation scores don't improve for 50 rounds.\n"
          ]
        },
        {
          "output_type": "stream",
          "name": "stderr",
          "text": [
            "\u001b[32m[I 2021-12-14 12:13:29,870]\u001b[0m Trial 17 finished with value: 0.23236064883636542 and parameters: {'num_leaves': 7}. Best is trial 13 with value: 0.22854994443229862.\u001b[0m\n"
          ]
        },
        {
          "output_type": "stream",
          "name": "stdout",
          "text": [
            "Did not meet early stopping. Best iteration is:\n",
            "[100]\tTrain's rmse: 0.0975532\tTest's rmse: 0.232361\n",
            "Training until validation scores don't improve for 50 rounds.\n"
          ]
        },
        {
          "output_type": "stream",
          "name": "stderr",
          "text": [
            "\u001b[32m[I 2021-12-14 12:13:30,445]\u001b[0m Trial 18 finished with value: 0.22869958558027126 and parameters: {'num_leaves': 82}. Best is trial 13 with value: 0.22854994443229862.\u001b[0m\n"
          ]
        },
        {
          "output_type": "stream",
          "name": "stdout",
          "text": [
            "Early stopping, best iteration is:\n",
            "[45]\tTrain's rmse: 0.102301\tTest's rmse: 0.2287\n",
            "Training until validation scores don't improve for 50 rounds.\n"
          ]
        },
        {
          "output_type": "stream",
          "name": "stderr",
          "text": [
            "\u001b[32m[I 2021-12-14 12:13:31,099]\u001b[0m Trial 19 finished with value: 0.22896825103481566 and parameters: {'num_leaves': 109}. Best is trial 13 with value: 0.22854994443229862.\u001b[0m\n"
          ]
        },
        {
          "output_type": "stream",
          "name": "stdout",
          "text": [
            "Early stopping, best iteration is:\n",
            "[44]\tTrain's rmse: 0.102554\tTest's rmse: 0.228968\n",
            "Training until validation scores don't improve for 50 rounds.\n"
          ]
        },
        {
          "output_type": "stream",
          "name": "stderr",
          "text": [
            "\u001b[32m[I 2021-12-14 12:13:31,677]\u001b[0m Trial 20 finished with value: 0.22871378300150833 and parameters: {'num_leaves': 86}. Best is trial 13 with value: 0.22854994443229862.\u001b[0m\n"
          ]
        },
        {
          "output_type": "stream",
          "name": "stdout",
          "text": [
            "Early stopping, best iteration is:\n",
            "[45]\tTrain's rmse: 0.102313\tTest's rmse: 0.228714\n",
            "Training until validation scores don't improve for 50 rounds.\n"
          ]
        },
        {
          "output_type": "stream",
          "name": "stderr",
          "text": [
            "\u001b[32m[I 2021-12-14 12:13:31,880]\u001b[0m Trial 21 finished with value: 0.22940587915797422 and parameters: {'num_leaves': 10}. Best is trial 13 with value: 0.22854994443229862.\u001b[0m\n"
          ]
        },
        {
          "output_type": "stream",
          "name": "stdout",
          "text": [
            "Early stopping, best iteration is:\n",
            "[43]\tTrain's rmse: 0.103818\tTest's rmse: 0.229406\n",
            "Training until validation scores don't improve for 50 rounds.\n"
          ]
        },
        {
          "output_type": "stream",
          "name": "stderr",
          "text": [
            "\u001b[32m[I 2021-12-14 12:13:32,335]\u001b[0m Trial 22 finished with value: 0.229843660125245 and parameters: {'num_leaves': 62}. Best is trial 13 with value: 0.22854994443229862.\u001b[0m\n"
          ]
        },
        {
          "output_type": "stream",
          "name": "stdout",
          "text": [
            "Early stopping, best iteration is:\n",
            "[40]\tTrain's rmse: 0.103777\tTest's rmse: 0.229844\n",
            "Training until validation scores don't improve for 50 rounds.\n"
          ]
        },
        {
          "output_type": "stream",
          "name": "stderr",
          "text": [
            "\u001b[32m[I 2021-12-14 12:13:32,997]\u001b[0m Trial 23 finished with value: 0.22896825103481566 and parameters: {'num_leaves': 109}. Best is trial 13 with value: 0.22854994443229862.\u001b[0m\n"
          ]
        },
        {
          "output_type": "stream",
          "name": "stdout",
          "text": [
            "Early stopping, best iteration is:\n",
            "[44]\tTrain's rmse: 0.102554\tTest's rmse: 0.228968\n",
            "Training until validation scores don't improve for 50 rounds.\n"
          ]
        },
        {
          "output_type": "stream",
          "name": "stderr",
          "text": [
            "\u001b[32m[I 2021-12-14 12:13:33,383]\u001b[0m Trial 24 finished with value: 0.22932223359305814 and parameters: {'num_leaves': 35}. Best is trial 13 with value: 0.22854994443229862.\u001b[0m\n"
          ]
        },
        {
          "output_type": "stream",
          "name": "stdout",
          "text": [
            "Early stopping, best iteration is:\n",
            "[49]\tTrain's rmse: 0.101331\tTest's rmse: 0.229322\n",
            "Training until validation scores don't improve for 50 rounds.\n"
          ]
        },
        {
          "output_type": "stream",
          "name": "stderr",
          "text": [
            "\u001b[32m[I 2021-12-14 12:13:34,126]\u001b[0m Trial 25 finished with value: 0.22918543270140718 and parameters: {'num_leaves': 128}. Best is trial 13 with value: 0.22854994443229862.\u001b[0m\n"
          ]
        },
        {
          "output_type": "stream",
          "name": "stdout",
          "text": [
            "Early stopping, best iteration is:\n",
            "[46]\tTrain's rmse: 0.10229\tTest's rmse: 0.229185\n",
            "Training until validation scores don't improve for 50 rounds.\n"
          ]
        },
        {
          "output_type": "stream",
          "name": "stderr",
          "text": [
            "\u001b[32m[I 2021-12-14 12:13:34,620]\u001b[0m Trial 26 finished with value: 0.228708515622166 and parameters: {'num_leaves': 65}. Best is trial 13 with value: 0.22854994443229862.\u001b[0m\n"
          ]
        },
        {
          "output_type": "stream",
          "name": "stdout",
          "text": [
            "Early stopping, best iteration is:\n",
            "[45]\tTrain's rmse: 0.102322\tTest's rmse: 0.228709\n",
            "Training until validation scores don't improve for 50 rounds.\n"
          ]
        },
        {
          "output_type": "stream",
          "name": "stderr",
          "text": [
            "\u001b[32m[I 2021-12-14 12:13:34,953]\u001b[0m Trial 27 finished with value: 0.2779719502333258 and parameters: {'bagging_fraction': 0.624724071308792, 'bagging_freq': 7}. Best is trial 27 with value: 0.2779719502333258.\u001b[0m\n"
          ]
        },
        {
          "output_type": "stream",
          "name": "stdout",
          "text": [
            "Did not meet early stopping. Best iteration is:\n",
            "[89]\tTrain's rmse: 0.143085\tTest's rmse: 0.277972\n",
            "Training until validation scores don't improve for 50 rounds.\n"
          ]
        },
        {
          "output_type": "stream",
          "name": "stderr",
          "text": [
            "\u001b[32m[I 2021-12-14 12:13:35,293]\u001b[0m Trial 28 finished with value: 0.238833854531983 and parameters: {'bagging_fraction': 0.8391963650875751, 'bagging_freq': 5}. Best is trial 28 with value: 0.238833854531983.\u001b[0m\n"
          ]
        },
        {
          "output_type": "stream",
          "name": "stdout",
          "text": [
            "Did not meet early stopping. Best iteration is:\n",
            "[100]\tTrain's rmse: 0.110425\tTest's rmse: 0.238834\n",
            "Training until validation scores don't improve for 50 rounds.\n"
          ]
        },
        {
          "output_type": "stream",
          "name": "stderr",
          "text": [
            "\u001b[32m[I 2021-12-14 12:13:35,616]\u001b[0m Trial 29 finished with value: 0.2864592312854203 and parameters: {'bagging_fraction': 0.49361118426561795, 'bagging_freq': 2}. Best is trial 28 with value: 0.238833854531983.\u001b[0m\n"
          ]
        },
        {
          "output_type": "stream",
          "name": "stdout",
          "text": [
            "Did not meet early stopping. Best iteration is:\n",
            "[100]\tTrain's rmse: 0.151475\tTest's rmse: 0.286459\n",
            "Training until validation scores don't improve for 50 rounds.\n"
          ]
        },
        {
          "output_type": "stream",
          "name": "stderr",
          "text": [
            "\u001b[32m[I 2021-12-14 12:13:35,938]\u001b[0m Trial 30 finished with value: 0.29769305108182414 and parameters: {'bagging_fraction': 0.4348501673009778, 'bagging_freq': 7}. Best is trial 28 with value: 0.238833854531983.\u001b[0m\n"
          ]
        },
        {
          "output_type": "stream",
          "name": "stdout",
          "text": [
            "Did not meet early stopping. Best iteration is:\n",
            "[100]\tTrain's rmse: 0.169783\tTest's rmse: 0.297693\n",
            "Training until validation scores don't improve for 50 rounds.\n"
          ]
        },
        {
          "output_type": "stream",
          "name": "stderr",
          "text": [
            "\u001b[32m[I 2021-12-14 12:13:36,267]\u001b[0m Trial 31 finished with value: 0.23872515461780883 and parameters: {'bagging_fraction': 0.7606690070465265, 'bagging_freq': 5}. Best is trial 31 with value: 0.23872515461780883.\u001b[0m\n"
          ]
        },
        {
          "output_type": "stream",
          "name": "stdout",
          "text": [
            "Did not meet early stopping. Best iteration is:\n",
            "[100]\tTrain's rmse: 0.11096\tTest's rmse: 0.238725\n",
            "Training until validation scores don't improve for 50 rounds.\n"
          ]
        },
        {
          "output_type": "stream",
          "name": "stderr",
          "text": [
            "\u001b[32m[I 2021-12-14 12:13:36,600]\u001b[0m Trial 32 finished with value: 0.2982040716199606 and parameters: {'bagging_fraction': 0.41235069657750206, 'bagging_freq': 7}. Best is trial 31 with value: 0.23872515461780883.\u001b[0m\n"
          ]
        },
        {
          "output_type": "stream",
          "name": "stdout",
          "text": [
            "Did not meet early stopping. Best iteration is:\n",
            "[100]\tTrain's rmse: 0.177299\tTest's rmse: 0.298204\n",
            "Training until validation scores don't improve for 50 rounds.\n"
          ]
        },
        {
          "output_type": "stream",
          "name": "stderr",
          "text": [
            "\u001b[32m[I 2021-12-14 12:13:36,941]\u001b[0m Trial 33 finished with value: 0.23667639174621805 and parameters: {'bagging_fraction': 0.8994655844810855, 'bagging_freq': 2}. Best is trial 33 with value: 0.23667639174621805.\u001b[0m\n"
          ]
        },
        {
          "output_type": "stream",
          "name": "stdout",
          "text": [
            "Did not meet early stopping. Best iteration is:\n",
            "[100]\tTrain's rmse: 0.104369\tTest's rmse: 0.236676\n",
            "Training until validation scores don't improve for 50 rounds.\n"
          ]
        },
        {
          "output_type": "stream",
          "name": "stderr",
          "text": [
            "\u001b[32m[I 2021-12-14 12:13:37,263]\u001b[0m Trial 34 finished with value: 0.28648540031100406 and parameters: {'bagging_fraction': 0.5090949803244422, 'bagging_freq': 2}. Best is trial 33 with value: 0.23667639174621805.\u001b[0m\n"
          ]
        },
        {
          "output_type": "stream",
          "name": "stdout",
          "text": [
            "Did not meet early stopping. Best iteration is:\n",
            "[100]\tTrain's rmse: 0.147981\tTest's rmse: 0.286485\n",
            "Training until validation scores don't improve for 50 rounds.\n"
          ]
        },
        {
          "output_type": "stream",
          "name": "stderr",
          "text": [
            "\u001b[32m[I 2021-12-14 12:13:37,584]\u001b[0m Trial 35 finished with value: 0.28014612917324144 and parameters: {'bagging_fraction': 0.5825453457760269, 'bagging_freq': 4}. Best is trial 33 with value: 0.23667639174621805.\u001b[0m\n"
          ]
        },
        {
          "output_type": "stream",
          "name": "stdout",
          "text": [
            "Did not meet early stopping. Best iteration is:\n",
            "[100]\tTrain's rmse: 0.140572\tTest's rmse: 0.280146\n",
            "Training until validation scores don't improve for 50 rounds.\n"
          ]
        },
        {
          "output_type": "stream",
          "name": "stderr",
          "text": [
            "\u001b[32m[I 2021-12-14 12:13:37,914]\u001b[0m Trial 36 finished with value: 0.2611814791515555 and parameters: {'bagging_fraction': 0.6591670111857015, 'bagging_freq': 3}. Best is trial 33 with value: 0.23667639174621805.\u001b[0m\n"
          ]
        },
        {
          "output_type": "stream",
          "name": "stdout",
          "text": [
            "Did not meet early stopping. Best iteration is:\n",
            "[100]\tTrain's rmse: 0.126962\tTest's rmse: 0.261181\n",
            "Training until validation scores don't improve for 50 rounds.\n"
          ]
        },
        {
          "output_type": "stream",
          "name": "stderr",
          "text": [
            "\u001b[32m[I 2021-12-14 12:13:38,165]\u001b[0m Trial 37 finished with value: 0.22845441571450187 and parameters: {'feature_fraction': 0.8839999999999999}. Best is trial 37 with value: 0.22845441571450187.\u001b[0m\n"
          ]
        },
        {
          "output_type": "stream",
          "name": "stdout",
          "text": [
            "Early stopping, best iteration is:\n",
            "[46]\tTrain's rmse: 0.102263\tTest's rmse: 0.228454\n",
            "Training until validation scores don't improve for 50 rounds.\n"
          ]
        },
        {
          "output_type": "stream",
          "name": "stderr",
          "text": [
            "\u001b[32m[I 2021-12-14 12:13:38,427]\u001b[0m Trial 38 finished with value: 0.22845441571450187 and parameters: {'feature_fraction': 0.82}. Best is trial 37 with value: 0.22845441571450187.\u001b[0m\n"
          ]
        },
        {
          "output_type": "stream",
          "name": "stdout",
          "text": [
            "Early stopping, best iteration is:\n",
            "[46]\tTrain's rmse: 0.102263\tTest's rmse: 0.228454\n",
            "Training until validation scores don't improve for 50 rounds.\n"
          ]
        },
        {
          "output_type": "stream",
          "name": "stderr",
          "text": [
            "\u001b[32m[I 2021-12-14 12:13:38,682]\u001b[0m Trial 39 finished with value: 0.22845441571450187 and parameters: {'feature_fraction': 0.852}. Best is trial 37 with value: 0.22845441571450187.\u001b[0m\n"
          ]
        },
        {
          "output_type": "stream",
          "name": "stdout",
          "text": [
            "Early stopping, best iteration is:\n",
            "[46]\tTrain's rmse: 0.102263\tTest's rmse: 0.228454\n",
            "Training until validation scores don't improve for 50 rounds.\n"
          ]
        },
        {
          "output_type": "stream",
          "name": "stderr",
          "text": [
            "\u001b[32m[I 2021-12-14 12:13:38,941]\u001b[0m Trial 40 finished with value: 0.22854994443229862 and parameters: {'feature_fraction': 0.948}. Best is trial 37 with value: 0.22845441571450187.\u001b[0m\n"
          ]
        },
        {
          "output_type": "stream",
          "name": "stdout",
          "text": [
            "Early stopping, best iteration is:\n",
            "[46]\tTrain's rmse: 0.102105\tTest's rmse: 0.22855\n",
            "Training until validation scores don't improve for 50 rounds.\n"
          ]
        },
        {
          "output_type": "stream",
          "name": "stderr",
          "text": [
            "\u001b[32m[I 2021-12-14 12:13:39,199]\u001b[0m Trial 41 finished with value: 0.22854994443229862 and parameters: {'feature_fraction': 0.9159999999999999}. Best is trial 37 with value: 0.22845441571450187.\u001b[0m\n"
          ]
        },
        {
          "output_type": "stream",
          "name": "stdout",
          "text": [
            "Early stopping, best iteration is:\n",
            "[46]\tTrain's rmse: 0.102105\tTest's rmse: 0.22855\n",
            "Training until validation scores don't improve for 50 rounds.\n"
          ]
        },
        {
          "output_type": "stream",
          "name": "stderr",
          "text": [
            "\u001b[32m[I 2021-12-14 12:13:39,467]\u001b[0m Trial 42 finished with value: 0.22854994443229862 and parameters: {'feature_fraction': 0.9799999999999999}. Best is trial 37 with value: 0.22845441571450187.\u001b[0m\n"
          ]
        },
        {
          "output_type": "stream",
          "name": "stdout",
          "text": [
            "Early stopping, best iteration is:\n",
            "[46]\tTrain's rmse: 0.102105\tTest's rmse: 0.22855\n",
            "Training until validation scores don't improve for 50 rounds.\n"
          ]
        },
        {
          "output_type": "stream",
          "name": "stderr",
          "text": [
            "\u001b[32m[I 2021-12-14 12:13:39,750]\u001b[0m Trial 43 finished with value: 0.23171693089057974 and parameters: {'lambda_l1': 2.348881295853308e-05, 'lambda_l2': 3.6010467344475403}. Best is trial 43 with value: 0.23171693089057974.\u001b[0m\n"
          ]
        },
        {
          "output_type": "stream",
          "name": "stdout",
          "text": [
            "Did not meet early stopping. Best iteration is:\n",
            "[100]\tTrain's rmse: 0.0965253\tTest's rmse: 0.231717\n",
            "Training until validation scores don't improve for 50 rounds.\n"
          ]
        },
        {
          "output_type": "stream",
          "name": "stderr",
          "text": [
            "\u001b[32m[I 2021-12-14 12:13:40,014]\u001b[0m Trial 44 finished with value: 0.22922921235058935 and parameters: {'lambda_l1': 0.038720902953704193, 'lambda_l2': 0.0024430162614261413}. Best is trial 44 with value: 0.22922921235058935.\u001b[0m\n"
          ]
        },
        {
          "output_type": "stream",
          "name": "stdout",
          "text": [
            "Early stopping, best iteration is:\n",
            "[49]\tTrain's rmse: 0.101856\tTest's rmse: 0.229229\n",
            "Training until validation scores don't improve for 50 rounds.\n"
          ]
        },
        {
          "output_type": "stream",
          "name": "stderr",
          "text": [
            "\u001b[32m[I 2021-12-14 12:13:40,270]\u001b[0m Trial 45 finished with value: 0.22845441599728816 and parameters: {'lambda_l1': 2.5361081166471375e-07, 'lambda_l2': 2.5348407664333426e-07}. Best is trial 45 with value: 0.22845441599728816.\u001b[0m\n"
          ]
        },
        {
          "output_type": "stream",
          "name": "stdout",
          "text": [
            "Early stopping, best iteration is:\n",
            "[46]\tTrain's rmse: 0.102263\tTest's rmse: 0.228454\n",
            "Training until validation scores don't improve for 50 rounds.\n"
          ]
        },
        {
          "output_type": "stream",
          "name": "stderr",
          "text": [
            "\u001b[32m[I 2021-12-14 12:13:40,537]\u001b[0m Trial 46 finished with value: 0.2293416058688638 and parameters: {'lambda_l1': 3.3323645788192616e-08, 'lambda_l2': 0.6245760287469893}. Best is trial 45 with value: 0.22845441599728816.\u001b[0m\n"
          ]
        },
        {
          "output_type": "stream",
          "name": "stdout",
          "text": [
            "Early stopping, best iteration is:\n",
            "[48]\tTrain's rmse: 0.102438\tTest's rmse: 0.229342\n",
            "Training until validation scores don't improve for 50 rounds.\n"
          ]
        },
        {
          "output_type": "stream",
          "name": "stderr",
          "text": [
            "\u001b[32m[I 2021-12-14 12:13:40,789]\u001b[0m Trial 47 finished with value: 0.2284561020161026 and parameters: {'lambda_l1': 0.002570603566117598, 'lambda_l2': 0.023585940584142682}. Best is trial 45 with value: 0.22845441599728816.\u001b[0m\n"
          ]
        },
        {
          "output_type": "stream",
          "name": "stdout",
          "text": [
            "Early stopping, best iteration is:\n",
            "[46]\tTrain's rmse: 0.102059\tTest's rmse: 0.228456\n",
            "Training until validation scores don't improve for 50 rounds.\n"
          ]
        },
        {
          "output_type": "stream",
          "name": "stderr",
          "text": [
            "\u001b[32m[I 2021-12-14 12:13:41,065]\u001b[0m Trial 48 finished with value: 0.23180163935254505 and parameters: {'lambda_l1': 1.5320059381854043e-08, 'lambda_l2': 5.360294728728285}. Best is trial 45 with value: 0.22845441599728816.\u001b[0m\n"
          ]
        },
        {
          "output_type": "stream",
          "name": "stdout",
          "text": [
            "Did not meet early stopping. Best iteration is:\n",
            "[100]\tTrain's rmse: 0.0986543\tTest's rmse: 0.231802\n",
            "Training until validation scores don't improve for 50 rounds.\n"
          ]
        },
        {
          "output_type": "stream",
          "name": "stderr",
          "text": [
            "\u001b[32m[I 2021-12-14 12:13:41,323]\u001b[0m Trial 49 finished with value: 0.2293543793754877 and parameters: {'lambda_l1': 0.31044435499483225, 'lambda_l2': 8.148018307012941e-07}. Best is trial 45 with value: 0.22845441599728816.\u001b[0m\n"
          ]
        },
        {
          "output_type": "stream",
          "name": "stdout",
          "text": [
            "Early stopping, best iteration is:\n",
            "[48]\tTrain's rmse: 0.102252\tTest's rmse: 0.229354\n",
            "Training until validation scores don't improve for 50 rounds.\n"
          ]
        },
        {
          "output_type": "stream",
          "name": "stderr",
          "text": [
            "\u001b[32m[I 2021-12-14 12:13:41,581]\u001b[0m Trial 50 finished with value: 0.22845441617608692 and parameters: {'lambda_l1': 4.329370014459266e-07, 'lambda_l2': 4.4734294104626844e-07}. Best is trial 45 with value: 0.22845441599728816.\u001b[0m\n"
          ]
        },
        {
          "output_type": "stream",
          "name": "stdout",
          "text": [
            "Early stopping, best iteration is:\n",
            "[46]\tTrain's rmse: 0.102263\tTest's rmse: 0.228454\n",
            "Training until validation scores don't improve for 50 rounds.\n"
          ]
        },
        {
          "output_type": "stream",
          "name": "stderr",
          "text": [
            "\u001b[32m[I 2021-12-14 12:13:41,832]\u001b[0m Trial 51 finished with value: 0.228454677548191 and parameters: {'lambda_l1': 5.472429642032198e-06, 'lambda_l2': 0.00052821153945323}. Best is trial 45 with value: 0.22845441599728816.\u001b[0m\n"
          ]
        },
        {
          "output_type": "stream",
          "name": "stdout",
          "text": [
            "Early stopping, best iteration is:\n",
            "[46]\tTrain's rmse: 0.102263\tTest's rmse: 0.228455\n",
            "Training until validation scores don't improve for 50 rounds.\n"
          ]
        },
        {
          "output_type": "stream",
          "name": "stderr",
          "text": [
            "\u001b[32m[I 2021-12-14 12:13:42,080]\u001b[0m Trial 52 finished with value: 0.22845445995885671 and parameters: {'lambda_l1': 7.71800699380605e-05, 'lambda_l2': 4.17890272377219e-06}. Best is trial 45 with value: 0.22845441599728816.\u001b[0m\n"
          ]
        },
        {
          "output_type": "stream",
          "name": "stdout",
          "text": [
            "Early stopping, best iteration is:\n",
            "[46]\tTrain's rmse: 0.102263\tTest's rmse: 0.228454\n",
            "Training until validation scores don't improve for 50 rounds.\n"
          ]
        },
        {
          "output_type": "stream",
          "name": "stderr",
          "text": [
            "\u001b[32m[I 2021-12-14 12:13:42,298]\u001b[0m Trial 53 finished with value: 0.23641345528365418 and parameters: {'lambda_l1': 3.207959657544482, 'lambda_l2': 1.1323342574941946e-08}. Best is trial 45 with value: 0.22845441599728816.\u001b[0m\n"
          ]
        },
        {
          "output_type": "stream",
          "name": "stdout",
          "text": [
            "Did not meet early stopping. Best iteration is:\n",
            "[100]\tTrain's rmse: 0.101394\tTest's rmse: 0.236413\n",
            "Training until validation scores don't improve for 50 rounds.\n"
          ]
        },
        {
          "output_type": "stream",
          "name": "stderr",
          "text": [
            "\u001b[32m[I 2021-12-14 12:13:42,553]\u001b[0m Trial 54 finished with value: 0.2284544170744317 and parameters: {'lambda_l1': 8.739208840790941e-07, 'lambda_l2': 1.99371629285331e-06}. Best is trial 45 with value: 0.22845441599728816.\u001b[0m\n"
          ]
        },
        {
          "output_type": "stream",
          "name": "stdout",
          "text": [
            "Early stopping, best iteration is:\n",
            "[46]\tTrain's rmse: 0.102263\tTest's rmse: 0.228454\n",
            "Training until validation scores don't improve for 50 rounds.\n"
          ]
        },
        {
          "output_type": "stream",
          "name": "stderr",
          "text": [
            "\u001b[32m[I 2021-12-14 12:13:42,803]\u001b[0m Trial 55 finished with value: 0.22845441595574062 and parameters: {'lambda_l1': 3.2956792945849545e-07, 'lambda_l2': 2.2311398834761413e-08}. Best is trial 55 with value: 0.22845441595574062.\u001b[0m\n"
          ]
        },
        {
          "output_type": "stream",
          "name": "stdout",
          "text": [
            "Early stopping, best iteration is:\n",
            "[46]\tTrain's rmse: 0.102263\tTest's rmse: 0.228454\n",
            "Training until validation scores don't improve for 50 rounds.\n"
          ]
        },
        {
          "output_type": "stream",
          "name": "stderr",
          "text": [
            "\u001b[32m[I 2021-12-14 12:13:43,058]\u001b[0m Trial 56 finished with value: 0.2284543463059313 and parameters: {'lambda_l1': 0.0008421907750901968, 'lambda_l2': 1.2702524155028834e-08}. Best is trial 56 with value: 0.2284543463059313.\u001b[0m\n"
          ]
        },
        {
          "output_type": "stream",
          "name": "stdout",
          "text": [
            "Early stopping, best iteration is:\n",
            "[46]\tTrain's rmse: 0.102263\tTest's rmse: 0.228454\n",
            "Training until validation scores don't improve for 50 rounds.\n"
          ]
        },
        {
          "output_type": "stream",
          "name": "stderr",
          "text": [
            "\u001b[32m[I 2021-12-14 12:13:43,316]\u001b[0m Trial 57 finished with value: 0.22845425489156085 and parameters: {'lambda_l1': 0.0013643656722816411, 'lambda_l2': 1.079490244377404e-08}. Best is trial 57 with value: 0.22845425489156085.\u001b[0m\n"
          ]
        },
        {
          "output_type": "stream",
          "name": "stdout",
          "text": [
            "Early stopping, best iteration is:\n",
            "[46]\tTrain's rmse: 0.102264\tTest's rmse: 0.228454\n",
            "Training until validation scores don't improve for 50 rounds.\n"
          ]
        },
        {
          "output_type": "stream",
          "name": "stderr",
          "text": [
            "\u001b[32m[I 2021-12-14 12:13:43,575]\u001b[0m Trial 58 finished with value: 0.22845620577395578 and parameters: {'lambda_l1': 0.003023160733725813, 'lambda_l2': 2.2881943301070796e-05}. Best is trial 57 with value: 0.22845425489156085.\u001b[0m\n"
          ]
        },
        {
          "output_type": "stream",
          "name": "stdout",
          "text": [
            "Early stopping, best iteration is:\n",
            "[46]\tTrain's rmse: 0.102265\tTest's rmse: 0.228456\n",
            "Training until validation scores don't improve for 50 rounds.\n"
          ]
        },
        {
          "output_type": "stream",
          "name": "stderr",
          "text": [
            "\u001b[32m[I 2021-12-14 12:13:43,825]\u001b[0m Trial 59 finished with value: 0.2284543737795931 and parameters: {'lambda_l1': 0.0011583005335620482, 'lambda_l2': 3.895011696762577e-05}. Best is trial 57 with value: 0.22845425489156085.\u001b[0m\n"
          ]
        },
        {
          "output_type": "stream",
          "name": "stdout",
          "text": [
            "Early stopping, best iteration is:\n",
            "[46]\tTrain's rmse: 0.102264\tTest's rmse: 0.228454\n",
            "Training until validation scores don't improve for 50 rounds.\n"
          ]
        },
        {
          "output_type": "stream",
          "name": "stderr",
          "text": [
            "\u001b[32m[I 2021-12-14 12:13:44,081]\u001b[0m Trial 60 finished with value: 0.2285262238772627 and parameters: {'lambda_l1': 0.03279298313076472, 'lambda_l2': 5.638381896970737e-08}. Best is trial 57 with value: 0.22845425489156085.\u001b[0m\n"
          ]
        },
        {
          "output_type": "stream",
          "name": "stdout",
          "text": [
            "Early stopping, best iteration is:\n",
            "[46]\tTrain's rmse: 0.102238\tTest's rmse: 0.228526\n",
            "Training until validation scores don't improve for 50 rounds.\n"
          ]
        },
        {
          "output_type": "stream",
          "name": "stderr",
          "text": [
            "\u001b[32m[I 2021-12-14 12:13:44,331]\u001b[0m Trial 61 finished with value: 0.22845463456425957 and parameters: {'lambda_l1': 0.0004000642832347162, 'lambda_l2': 9.176423048893653e-08}. Best is trial 57 with value: 0.22845425489156085.\u001b[0m\n"
          ]
        },
        {
          "output_type": "stream",
          "name": "stdout",
          "text": [
            "Early stopping, best iteration is:\n",
            "[46]\tTrain's rmse: 0.102263\tTest's rmse: 0.228455\n",
            "Training until validation scores don't improve for 50 rounds.\n"
          ]
        },
        {
          "output_type": "stream",
          "name": "stderr",
          "text": [
            "\u001b[32m[I 2021-12-14 12:13:44,586]\u001b[0m Trial 62 finished with value: 0.228584852066241 and parameters: {'lambda_l1': 0.012916956058769335, 'lambda_l2': 2.890065127190206e-05}. Best is trial 57 with value: 0.22845425489156085.\u001b[0m\n"
          ]
        },
        {
          "output_type": "stream",
          "name": "stdout",
          "text": [
            "Early stopping, best iteration is:\n",
            "[45]\tTrain's rmse: 0.102346\tTest's rmse: 0.228585\n",
            "Training until validation scores don't improve for 50 rounds.\n"
          ]
        },
        {
          "output_type": "stream",
          "name": "stderr",
          "text": [
            "\u001b[32m[I 2021-12-14 12:13:44,881]\u001b[0m Trial 63 finished with value: 0.3629468453850555 and parameters: {'min_child_samples': 100}. Best is trial 63 with value: 0.3629468453850555.\u001b[0m\n"
          ]
        },
        {
          "output_type": "stream",
          "name": "stdout",
          "text": [
            "Did not meet early stopping. Best iteration is:\n",
            "[100]\tTrain's rmse: 0.236063\tTest's rmse: 0.362947\n",
            "Training until validation scores don't improve for 50 rounds.\n"
          ]
        },
        {
          "output_type": "stream",
          "name": "stderr",
          "text": [
            "\u001b[32m[I 2021-12-14 12:13:45,115]\u001b[0m Trial 64 finished with value: 0.16175086604315964 and parameters: {'min_child_samples': 10}. Best is trial 64 with value: 0.16175086604315964.\u001b[0m\n"
          ]
        },
        {
          "output_type": "stream",
          "name": "stdout",
          "text": [
            "Early stopping, best iteration is:\n",
            "[45]\tTrain's rmse: 0.055376\tTest's rmse: 0.161751\n",
            "Training until validation scores don't improve for 50 rounds.\n"
          ]
        },
        {
          "output_type": "stream",
          "name": "stderr",
          "text": [
            "\u001b[32m[I 2021-12-14 12:13:45,399]\u001b[0m Trial 65 finished with value: 0.31487913081688784 and parameters: {'min_child_samples': 50}. Best is trial 64 with value: 0.16175086604315964.\u001b[0m\n"
          ]
        },
        {
          "output_type": "stream",
          "name": "stdout",
          "text": [
            "Did not meet early stopping. Best iteration is:\n",
            "[100]\tTrain's rmse: 0.178446\tTest's rmse: 0.314879\n",
            "Training until validation scores don't improve for 50 rounds.\n"
          ]
        },
        {
          "output_type": "stream",
          "name": "stderr",
          "text": [
            "\u001b[32m[I 2021-12-14 12:13:45,667]\u001b[0m Trial 66 finished with value: 0.27390740466731495 and parameters: {'min_child_samples': 25}. Best is trial 64 with value: 0.16175086604315964.\u001b[0m\n"
          ]
        },
        {
          "output_type": "stream",
          "name": "stdout",
          "text": [
            "Did not meet early stopping. Best iteration is:\n",
            "[100]\tTrain's rmse: 0.132361\tTest's rmse: 0.273907\n",
            "Training until validation scores don't improve for 50 rounds.\n"
          ]
        },
        {
          "output_type": "stream",
          "name": "stderr",
          "text": [
            "\u001b[32m[I 2021-12-14 12:13:45,902]\u001b[0m Trial 67 finished with value: 0.11998871989525714 and parameters: {'min_child_samples': 5}. Best is trial 67 with value: 0.11998871989525714.\u001b[0m\n"
          ]
        },
        {
          "output_type": "stream",
          "name": "stdout",
          "text": [
            "Did not meet early stopping. Best iteration is:\n",
            "[100]\tTrain's rmse: 0.0118842\tTest's rmse: 0.119989\n"
          ]
        },
        {
          "output_type": "display_data",
          "data": {
            "image/png": "[encoded data removed]",
            "text/plain": [
              "<Figure size 432x288 with 1 Axes>"
            ]
          },
          "metadata": {
            "needs_background": "light"
          }
        },
        {
          "output_type": "stream",
          "name": "stdout",
          "text": [
            "RMSE: [0.05267933998492862, 0.010997591531314964, 0.03207141692427357, 0.0346390808186331, 0.1199887329911365]\n",
            "RMSE: 0.05007523245005735\n"
          ]
        }
      ]
    },
    {
      "cell_type": "code",
      "metadata": {
        "colab": {
          "base_uri": "https://localhost:8080/"
        },
        "id": "0QBwWs6cPR6b",
        "outputId": "1ed01cc0-6ce3-427d-824d-3fd16cc8e07e"
      },
      "source": [
        "print(\"RMSE:\", round(np.mean(cv_result), 4))\n",
        "print(f\"Best Model {best_model_name} Stacking RMSE:\", round(np.mean(cv_result_stck_best_model), 4))\n",
        "print(\"Optuna LightGBM Stacking RMSE:\", round(np.mean(cv_result_stck_lgbm), 4))"
      ],
      "execution_count": null,
      "outputs": [
        {
          "output_type": "stream",
          "name": "stdout",
          "text": [
            "RMSE: 0.1799\n",
            "Best Model xgboost Stacking RMSE: 0.066\n",
            "Optuna LightGBM Stacking RMSE: 0.0501\n"
          ]
        }
      ]
    },
    {
      "cell_type": "code",
      "source": [
        ""
      ],
      "metadata": {
        "id": "pOcPNOi37jB3"
      },
      "execution_count": null,
      "outputs": []
    }
  ]
}