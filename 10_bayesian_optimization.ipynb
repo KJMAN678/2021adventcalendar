{
  "nbformat": 4,
  "nbformat_minor": 0,
  "metadata": {
    "colab": {
      "name": "10_bayesian_optimization.ipynb",
      "provenance": [],
      "collapsed_sections": []
    },
    "kernelspec": {
      "name": "python3",
      "display_name": "Python 3"
    },
    "language_info": {
      "name": "python"
    }
  },
  "cells": [
    {
      "cell_type": "markdown",
      "metadata": {
        "id": "RA_zd5BvsXyk"
      },
      "source": [
        "## Google Driveのマウント"
      ]
    },
    {
      "cell_type": "code",
      "metadata": {
        "colab": {
          "base_uri": "https://localhost:8080/"
        },
        "id": "ARmR6Kdbsayr",
        "outputId": "ed7a4f16-0b5f-4a8d-ee42-54235dd218a8"
      },
      "source": [
        "from google.colab import drive\n",
        "drive.mount('/content/drive')"
      ],
      "execution_count": null,
      "outputs": [
        {
          "output_type": "stream",
          "name": "stdout",
          "text": [
            "Drive already mounted at /content/drive; to attempt to forcibly remount, call drive.mount(\"/content/drive\", force_remount=True).\n"
          ]
        }
      ]
    },
    {
      "cell_type": "markdown",
      "metadata": {
        "id": "TCEUaFVvsc6a"
      },
      "source": [
        "## データセットの準備"
      ]
    },
    {
      "cell_type": "code",
      "metadata": {
        "id": "yFYRlGskoctf",
        "colab": {
          "base_uri": "https://localhost:8080/"
        },
        "outputId": "3807a6bf-03f3-497d-9369-10c3894f983e"
      },
      "source": [
        "# kaggle ライブラリのインストール\n",
        "!pip install kaggle\n",
        "\n",
        "# 一時フォルダに .kaggleフォルダを作成\n",
        "!mkdir ~/.kaggle\n",
        "\n",
        "# MyDrive の kaggle.json を一時フォルダ内の .kaggleフォルダにコピー\n",
        "!cp /content/drive/MyDrive/kaggle/kaggle.json ~/.kaggle/\n",
        "\n",
        "# アクセス権限の設定\n",
        "!chmod 600 ~/.kaggle/kaggle.json\n",
        "\n",
        "!mkdir ~/.kaggle\n",
        "\n",
        "# zipファイルのダウンロード\n",
        "!kaggle datasets download -d ashaheedq/video-games-sales-2019 -p /content/drive/MyDrive/kaggle\n",
        "\n",
        "# 解凍\n",
        "!unzip /content/drive/MyDrive/kaggle/video-games-sales-2019.zip -d /content/drive/MyDrive/kaggle\n",
        "\n",
        "!rm /content/drive/MyDrive/kaggle/video-games-sales-2019.zip"
      ],
      "execution_count": null,
      "outputs": [
        {
          "output_type": "stream",
          "name": "stdout",
          "text": [
            "Requirement already satisfied: kaggle in /usr/local/lib/python3.7/dist-packages (1.5.12)\n",
            "Requirement already satisfied: urllib3 in /usr/local/lib/python3.7/dist-packages (from kaggle) (1.24.3)\n",
            "Requirement already satisfied: six>=1.10 in /usr/local/lib/python3.7/dist-packages (from kaggle) (1.15.0)\n",
            "Requirement already satisfied: python-slugify in /usr/local/lib/python3.7/dist-packages (from kaggle) (5.0.2)\n",
            "Requirement already satisfied: tqdm in /usr/local/lib/python3.7/dist-packages (from kaggle) (4.62.3)\n",
            "Requirement already satisfied: certifi in /usr/local/lib/python3.7/dist-packages (from kaggle) (2021.10.8)\n",
            "Requirement already satisfied: requests in /usr/local/lib/python3.7/dist-packages (from kaggle) (2.23.0)\n",
            "Requirement already satisfied: python-dateutil in /usr/local/lib/python3.7/dist-packages (from kaggle) (2.8.2)\n",
            "Requirement already satisfied: text-unidecode>=1.3 in /usr/local/lib/python3.7/dist-packages (from python-slugify->kaggle) (1.3)\n",
            "Requirement already satisfied: chardet<4,>=3.0.2 in /usr/local/lib/python3.7/dist-packages (from requests->kaggle) (3.0.4)\n",
            "Requirement already satisfied: idna<3,>=2.5 in /usr/local/lib/python3.7/dist-packages (from requests->kaggle) (2.10)\n",
            "mkdir: cannot create directory ‘/root/.kaggle’: File exists\n",
            "mkdir: cannot create directory ‘/root/.kaggle’: File exists\n",
            "Downloading video-games-sales-2019.zip to /content/drive/MyDrive/kaggle\n",
            "  0% 0.00/3.98M [00:00<?, ?B/s]\n",
            "100% 3.98M/3.98M [00:00<00:00, 65.3MB/s]\n",
            "Archive:  /content/drive/MyDrive/kaggle/video-games-sales-2019.zip\n",
            "replace /content/drive/MyDrive/kaggle/vgsales-12-4-2019-short.csv? [y]es, [n]o, [A]ll, [N]one, [r]ename: None\n"
          ]
        }
      ]
    },
    {
      "cell_type": "markdown",
      "metadata": {
        "id": "PBqKPKFtsiKi"
      },
      "source": [
        "## データの読込"
      ]
    },
    {
      "cell_type": "code",
      "metadata": {
        "colab": {
          "base_uri": "https://localhost:8080/",
          "height": 250
        },
        "id": "TSY5GPLirTwt",
        "outputId": "31c6f44b-8109-482c-8ab7-97873325be33"
      },
      "source": [
        "import pandas as pd\n",
        "df = pd.read_csv(\"/content/drive/MyDrive/kaggle/vgsales-12-4-2019.csv\")\n",
        "df.head(3)"
      ],
      "execution_count": null,
      "outputs": [
        {
          "output_type": "execute_result",
          "data": {
            "text/html": [
              "<div>\n",
              "<style scoped>\n",
              "    .dataframe tbody tr th:only-of-type {\n",
              "        vertical-align: middle;\n",
              "    }\n",
              "\n",
              "    .dataframe tbody tr th {\n",
              "        vertical-align: top;\n",
              "    }\n",
              "\n",
              "    .dataframe thead th {\n",
              "        text-align: right;\n",
              "    }\n",
              "</style>\n",
              "<table border=\"1\" class=\"dataframe\">\n",
              "  <thead>\n",
              "    <tr style=\"text-align: right;\">\n",
              "      <th></th>\n",
              "      <th>Rank</th>\n",
              "      <th>Name</th>\n",
              "      <th>basename</th>\n",
              "      <th>Genre</th>\n",
              "      <th>ESRB_Rating</th>\n",
              "      <th>Platform</th>\n",
              "      <th>Publisher</th>\n",
              "      <th>Developer</th>\n",
              "      <th>VGChartz_Score</th>\n",
              "      <th>Critic_Score</th>\n",
              "      <th>User_Score</th>\n",
              "      <th>Total_Shipped</th>\n",
              "      <th>Global_Sales</th>\n",
              "      <th>NA_Sales</th>\n",
              "      <th>PAL_Sales</th>\n",
              "      <th>JP_Sales</th>\n",
              "      <th>Other_Sales</th>\n",
              "      <th>Year</th>\n",
              "      <th>Last_Update</th>\n",
              "      <th>url</th>\n",
              "      <th>status</th>\n",
              "      <th>Vgchartzscore</th>\n",
              "      <th>img_url</th>\n",
              "    </tr>\n",
              "  </thead>\n",
              "  <tbody>\n",
              "    <tr>\n",
              "      <th>0</th>\n",
              "      <td>1</td>\n",
              "      <td>Wii Sports</td>\n",
              "      <td>wii-sports</td>\n",
              "      <td>Sports</td>\n",
              "      <td>E</td>\n",
              "      <td>Wii</td>\n",
              "      <td>Nintendo</td>\n",
              "      <td>Nintendo EAD</td>\n",
              "      <td>NaN</td>\n",
              "      <td>7.7</td>\n",
              "      <td>NaN</td>\n",
              "      <td>82.86</td>\n",
              "      <td>NaN</td>\n",
              "      <td>NaN</td>\n",
              "      <td>NaN</td>\n",
              "      <td>NaN</td>\n",
              "      <td>NaN</td>\n",
              "      <td>2006.0</td>\n",
              "      <td>NaN</td>\n",
              "      <td>http://www.vgchartz.com/game/2667/wii-sports/?...</td>\n",
              "      <td>1</td>\n",
              "      <td>NaN</td>\n",
              "      <td>/games/boxart/full_2258645AmericaFrontccc.jpg</td>\n",
              "    </tr>\n",
              "    <tr>\n",
              "      <th>1</th>\n",
              "      <td>2</td>\n",
              "      <td>Super Mario Bros.</td>\n",
              "      <td>super-mario-bros</td>\n",
              "      <td>Platform</td>\n",
              "      <td>NaN</td>\n",
              "      <td>NES</td>\n",
              "      <td>Nintendo</td>\n",
              "      <td>Nintendo EAD</td>\n",
              "      <td>NaN</td>\n",
              "      <td>10.0</td>\n",
              "      <td>NaN</td>\n",
              "      <td>40.24</td>\n",
              "      <td>NaN</td>\n",
              "      <td>NaN</td>\n",
              "      <td>NaN</td>\n",
              "      <td>NaN</td>\n",
              "      <td>NaN</td>\n",
              "      <td>1985.0</td>\n",
              "      <td>NaN</td>\n",
              "      <td>http://www.vgchartz.com/game/6455/super-mario-...</td>\n",
              "      <td>1</td>\n",
              "      <td>NaN</td>\n",
              "      <td>/games/boxart/8972270ccc.jpg</td>\n",
              "    </tr>\n",
              "    <tr>\n",
              "      <th>2</th>\n",
              "      <td>3</td>\n",
              "      <td>Mario Kart Wii</td>\n",
              "      <td>mario-kart-wii</td>\n",
              "      <td>Racing</td>\n",
              "      <td>E</td>\n",
              "      <td>Wii</td>\n",
              "      <td>Nintendo</td>\n",
              "      <td>Nintendo EAD</td>\n",
              "      <td>NaN</td>\n",
              "      <td>8.2</td>\n",
              "      <td>9.1</td>\n",
              "      <td>37.14</td>\n",
              "      <td>NaN</td>\n",
              "      <td>NaN</td>\n",
              "      <td>NaN</td>\n",
              "      <td>NaN</td>\n",
              "      <td>NaN</td>\n",
              "      <td>2008.0</td>\n",
              "      <td>11th Apr 18</td>\n",
              "      <td>http://www.vgchartz.com/game/6968/mario-kart-w...</td>\n",
              "      <td>1</td>\n",
              "      <td>8.7</td>\n",
              "      <td>/games/boxart/full_8932480AmericaFrontccc.jpg</td>\n",
              "    </tr>\n",
              "  </tbody>\n",
              "</table>\n",
              "</div>"
            ],
            "text/plain": [
              "   Rank  ...                                        img_url\n",
              "0     1  ...  /games/boxart/full_2258645AmericaFrontccc.jpg\n",
              "1     2  ...                   /games/boxart/8972270ccc.jpg\n",
              "2     3  ...  /games/boxart/full_8932480AmericaFrontccc.jpg\n",
              "\n",
              "[3 rows x 23 columns]"
            ]
          },
          "metadata": {},
          "execution_count": 20
        }
      ]
    },
    {
      "cell_type": "markdown",
      "metadata": {
        "id": "BtozUja4NYvB"
      },
      "source": [
        "## ベイズ最適化"
      ]
    },
    {
      "cell_type": "code",
      "metadata": {
        "colab": {
          "base_uri": "https://localhost:8080/"
        },
        "id": "JRLhoj0aq4cf",
        "outputId": "02807dcf-d2aa-4ccf-e9fb-88f6eda3482d"
      },
      "source": [
        "!pip install category_encoders\n",
        "!pip install bayesian-optimization\n",
        "!pip install optuna\n",
        "!pip install pandas"
      ],
      "execution_count": null,
      "outputs": [
        {
          "output_type": "stream",
          "name": "stdout",
          "text": [
            "Requirement already satisfied: category_encoders in /usr/local/lib/python3.7/dist-packages (2.3.0)\n",
            "Requirement already satisfied: statsmodels>=0.9.0 in /usr/local/lib/python3.7/dist-packages (from category_encoders) (0.10.2)\n",
            "Requirement already satisfied: patsy>=0.5.1 in /usr/local/lib/python3.7/dist-packages (from category_encoders) (0.5.2)\n",
            "Requirement already satisfied: numpy>=1.14.0 in /usr/local/lib/python3.7/dist-packages (from category_encoders) (1.19.5)\n",
            "Requirement already satisfied: pandas>=0.21.1 in /usr/local/lib/python3.7/dist-packages (from category_encoders) (1.1.5)\n",
            "Requirement already satisfied: scipy>=1.0.0 in /usr/local/lib/python3.7/dist-packages (from category_encoders) (1.4.1)\n",
            "Requirement already satisfied: scikit-learn>=0.20.0 in /usr/local/lib/python3.7/dist-packages (from category_encoders) (1.0.1)\n",
            "Requirement already satisfied: pytz>=2017.2 in /usr/local/lib/python3.7/dist-packages (from pandas>=0.21.1->category_encoders) (2018.9)\n",
            "Requirement already satisfied: python-dateutil>=2.7.3 in /usr/local/lib/python3.7/dist-packages (from pandas>=0.21.1->category_encoders) (2.8.2)\n",
            "Requirement already satisfied: six in /usr/local/lib/python3.7/dist-packages (from patsy>=0.5.1->category_encoders) (1.15.0)\n",
            "Requirement already satisfied: threadpoolctl>=2.0.0 in /usr/local/lib/python3.7/dist-packages (from scikit-learn>=0.20.0->category_encoders) (3.0.0)\n",
            "Requirement already satisfied: joblib>=0.11 in /usr/local/lib/python3.7/dist-packages (from scikit-learn>=0.20.0->category_encoders) (1.1.0)\n",
            "Requirement already satisfied: bayesian-optimization in /usr/local/lib/python3.7/dist-packages (1.2.0)\n",
            "Requirement already satisfied: scipy>=0.14.0 in /usr/local/lib/python3.7/dist-packages (from bayesian-optimization) (1.4.1)\n",
            "Requirement already satisfied: scikit-learn>=0.18.0 in /usr/local/lib/python3.7/dist-packages (from bayesian-optimization) (1.0.1)\n",
            "Requirement already satisfied: numpy>=1.9.0 in /usr/local/lib/python3.7/dist-packages (from bayesian-optimization) (1.19.5)\n",
            "Requirement already satisfied: threadpoolctl>=2.0.0 in /usr/local/lib/python3.7/dist-packages (from scikit-learn>=0.18.0->bayesian-optimization) (3.0.0)\n",
            "Requirement already satisfied: joblib>=0.11 in /usr/local/lib/python3.7/dist-packages (from scikit-learn>=0.18.0->bayesian-optimization) (1.1.0)\n",
            "Requirement already satisfied: optuna in /usr/local/lib/python3.7/dist-packages (2.10.0)\n",
            "Requirement already satisfied: tqdm in /usr/local/lib/python3.7/dist-packages (from optuna) (4.62.3)\n",
            "Requirement already satisfied: cliff in /usr/local/lib/python3.7/dist-packages (from optuna) (3.10.0)\n",
            "Requirement already satisfied: PyYAML in /usr/local/lib/python3.7/dist-packages (from optuna) (3.13)\n",
            "Requirement already satisfied: colorlog in /usr/local/lib/python3.7/dist-packages (from optuna) (6.6.0)\n",
            "Requirement already satisfied: alembic in /usr/local/lib/python3.7/dist-packages (from optuna) (1.7.5)\n",
            "Requirement already satisfied: cmaes>=0.8.2 in /usr/local/lib/python3.7/dist-packages (from optuna) (0.8.2)\n",
            "Requirement already satisfied: scipy!=1.4.0 in /usr/local/lib/python3.7/dist-packages (from optuna) (1.4.1)\n",
            "Requirement already satisfied: packaging>=20.0 in /usr/local/lib/python3.7/dist-packages (from optuna) (21.3)\n",
            "Requirement already satisfied: numpy in /usr/local/lib/python3.7/dist-packages (from optuna) (1.19.5)\n",
            "Requirement already satisfied: sqlalchemy>=1.1.0 in /usr/local/lib/python3.7/dist-packages (from optuna) (1.4.27)\n",
            "Requirement already satisfied: pyparsing!=3.0.5,>=2.0.2 in /usr/local/lib/python3.7/dist-packages (from packaging>=20.0->optuna) (3.0.6)\n",
            "Requirement already satisfied: importlib-metadata in /usr/local/lib/python3.7/dist-packages (from sqlalchemy>=1.1.0->optuna) (4.8.2)\n",
            "Requirement already satisfied: greenlet!=0.4.17 in /usr/local/lib/python3.7/dist-packages (from sqlalchemy>=1.1.0->optuna) (1.1.2)\n",
            "Requirement already satisfied: importlib-resources in /usr/local/lib/python3.7/dist-packages (from alembic->optuna) (5.4.0)\n",
            "Requirement already satisfied: Mako in /usr/local/lib/python3.7/dist-packages (from alembic->optuna) (1.1.6)\n",
            "Requirement already satisfied: autopage>=0.4.0 in /usr/local/lib/python3.7/dist-packages (from cliff->optuna) (0.4.0)\n",
            "Requirement already satisfied: cmd2>=1.0.0 in /usr/local/lib/python3.7/dist-packages (from cliff->optuna) (2.3.3)\n",
            "Requirement already satisfied: pbr!=2.1.0,>=2.0.0 in /usr/local/lib/python3.7/dist-packages (from cliff->optuna) (5.8.0)\n",
            "Requirement already satisfied: stevedore>=2.0.1 in /usr/local/lib/python3.7/dist-packages (from cliff->optuna) (3.5.0)\n",
            "Requirement already satisfied: PrettyTable>=0.7.2 in /usr/local/lib/python3.7/dist-packages (from cliff->optuna) (2.4.0)\n",
            "Requirement already satisfied: wcwidth>=0.1.7 in /usr/local/lib/python3.7/dist-packages (from cmd2>=1.0.0->cliff->optuna) (0.2.5)\n",
            "Requirement already satisfied: pyperclip>=1.6 in /usr/local/lib/python3.7/dist-packages (from cmd2>=1.0.0->cliff->optuna) (1.8.2)\n",
            "Requirement already satisfied: attrs>=16.3.0 in /usr/local/lib/python3.7/dist-packages (from cmd2>=1.0.0->cliff->optuna) (21.2.0)\n",
            "Requirement already satisfied: typing-extensions in /usr/local/lib/python3.7/dist-packages (from cmd2>=1.0.0->cliff->optuna) (3.10.0.2)\n",
            "Requirement already satisfied: zipp>=0.5 in /usr/local/lib/python3.7/dist-packages (from importlib-metadata->sqlalchemy>=1.1.0->optuna) (3.6.0)\n",
            "Requirement already satisfied: MarkupSafe>=0.9.2 in /usr/local/lib/python3.7/dist-packages (from Mako->alembic->optuna) (2.0.1)\n",
            "Requirement already satisfied: pandas in /usr/local/lib/python3.7/dist-packages (1.1.5)\n",
            "Requirement already satisfied: pytz>=2017.2 in /usr/local/lib/python3.7/dist-packages (from pandas) (2018.9)\n",
            "Requirement already satisfied: python-dateutil>=2.7.3 in /usr/local/lib/python3.7/dist-packages (from pandas) (2.8.2)\n",
            "Requirement already satisfied: numpy>=1.15.4 in /usr/local/lib/python3.7/dist-packages (from pandas) (1.19.5)\n",
            "Requirement already satisfied: six>=1.5 in /usr/local/lib/python3.7/dist-packages (from python-dateutil>=2.7.3->pandas) (1.15.0)\n"
          ]
        }
      ]
    },
    {
      "cell_type": "code",
      "metadata": {
        "id": "CIz3b78iOCdi"
      },
      "source": [
        "import os\n",
        "import random\n",
        "import pandas as pd\n",
        "import numpy as np\n",
        "import time\n",
        "from matplotlib import pyplot as plt\n",
        "from natsort import natsorted \n",
        "import time\n",
        "import lightgbm as lgb\n",
        "import optuna.integration.lightgbm as opt_lgb\n",
        "from sklearn.model_selection import GroupKFold\n",
        "import category_encoders as ce\n",
        "from sklearn.model_selection import train_test_split\n",
        "from sklearn.metrics import mean_squared_error\n",
        "from sklearn.preprocessing import StandardScaler\n",
        "\n",
        "from bayes_opt import BayesianOptimization\n",
        "\n",
        "import warnings\n",
        "warnings.simplefilter('ignore')"
      ],
      "execution_count": null,
      "outputs": []
    },
    {
      "cell_type": "code",
      "metadata": {
        "id": "NX3wmt4wqnPo"
      },
      "source": [
        "# シード値の固定\n",
        "SEED = 42\n",
        "\n",
        "random.seed(SEED)\n",
        "os.environ['PYTHONHASHSEED'] = str(SEED)\n",
        "np.random.seed(SEED)"
      ],
      "execution_count": null,
      "outputs": []
    },
    {
      "cell_type": "code",
      "metadata": {
        "id": "UDuDA6ePout-"
      },
      "source": [
        "X_train, X_test, y_train, y_test = train_test_split(\n",
        "                                                    df.dropna(subset=[\"Global_Sales\"]).drop([\"Global_Sales\",  \"NA_Sales\", \"PAL_Sales\", \"JP_Sales\", \"Other_Sales\"], axis=1), \n",
        "                                                    df.dropna(subset=[\"Global_Sales\"])[\"Global_Sales\"],  \n",
        "                                                    test_size=0.3,\n",
        "                                                    shuffle=True, \n",
        "                                                    random_state=SEED\n",
        "                                                    ) "
      ],
      "execution_count": null,
      "outputs": []
    },
    {
      "cell_type": "code",
      "metadata": {
        "id": "Dj7YUcQtjSar"
      },
      "source": [
        "### 欠損値補完\n",
        "X_train_ff = X_train.fillna(method='ffill')\n",
        "X_test_ff = X_test.fillna(method='ffill')\n",
        "\n",
        "#### カテゴリーエンコーディング\n",
        "\n",
        "# ユニーク数に応じてカラムを分割する\n",
        "category_unique_num = X_train_ff.select_dtypes(include=\"object\").nunique()\n",
        "\n",
        "few_kinds_category_columns = category_unique_num[category_unique_num < 10].index\n",
        "many_kinds_category_columns = category_unique_num[category_unique_num >= 10].index\n",
        "\n",
        "\n",
        "# カテゴリーのエンコーディング法則を指定する\n",
        "ordinal_all_cols_mapping_ce = []\n",
        "\n",
        "for i, column in enumerate(many_kinds_category_columns):\n",
        "    ordinal_one_cols_mapping = {}\n",
        "    ordinal_one_cols_mapping_breakdown = {}\n",
        "    for j, category in enumerate(natsorted(X_train_ff[column].unique())):\n",
        "        ordinal_one_cols_mapping_breakdown[category] = j\n",
        "\n",
        "    ordinal_one_cols_mapping[\"col\"] = column\n",
        "    ordinal_one_cols_mapping[\"mapping\"] = ordinal_one_cols_mapping_breakdown\n",
        "    ordinal_all_cols_mapping_ce.append(ordinal_one_cols_mapping)\n",
        "\n",
        "\n",
        "# エンコーディング設定\n",
        "ode = ce.OrdinalEncoder(\n",
        "    mapping = ordinal_all_cols_mapping_ce,\n",
        "    cols = many_kinds_category_columns\n",
        ")\n",
        "\n",
        "ohe = ce.OneHotEncoder(\n",
        "    use_cat_names=True,\n",
        "    cols = few_kinds_category_columns\n",
        ")\n",
        "\n",
        "# 元データをコピー\n",
        "X_train_ce = X_train_ff.copy()\n",
        "X_test_ce = X_test_ff.copy()\n",
        "\n",
        "# OneHotEncoder\n",
        "X_train_ce = ohe.fit_transform(X_train_ce)\n",
        "X_test_ce = ohe.transform(X_test_ce)\n",
        "\n",
        "# OrdinalHotEncoder\n",
        "X_train_ce = ode.fit_transform(X_train_ce)\n",
        "X_test_ce = ode.transform(X_test_ce)\n",
        "\n",
        "# 正規化\n",
        "sc = StandardScaler()\n",
        "X_train_ce = pd.DataFrame(\n",
        "                            sc.fit_transform(X_train_ce),\n",
        "                            columns=X_train_ce.columns\n",
        "                            )\n",
        "\n",
        "X_test_ce = pd.DataFrame(\n",
        "                            sc.transform(X_test_ce),\n",
        "                            columns=X_test_ce.columns\n",
        "                            )"
      ],
      "execution_count": null,
      "outputs": []
    },
    {
      "cell_type": "markdown",
      "source": [
        "### optuna.integration.lightgbm によるハイパーパラメーター調整実施"
      ],
      "metadata": {
        "id": "_7fE8clKKmzT"
      }
    },
    {
      "cell_type": "code",
      "source": [
        "start_opt = time.time()\n",
        "\n",
        "y_train = y_train.reset_index(drop=True)\n",
        "\n",
        "gkf = GroupKFold(n_splits=5)\n",
        "\n",
        "groups = X_train_ce[\"Genre\"]\n",
        "\n",
        "params = {\n",
        "          'task': 'train',              # タスクを訓練に設定\n",
        "          'boosting_type': 'gbdt',      # GBDTを指定\n",
        "          'objective': 'regression',    # 回帰を指定\n",
        "          'metric': 'rmse',             # 回帰の損失（誤差）\n",
        "          'learning_rate': 0.1,         # 学習率\n",
        "          'seed': SEED                   # シード値\n",
        "          }\n",
        "\n",
        "best_params, history = {}, []\n",
        "\n",
        "cv_result_opt = []\n",
        "\n",
        "for fold, (train_index, test_index) in enumerate(gkf.split(X_train_ce, y_train, groups)):\n",
        "    X_train_gkf, X_test_gkf = X_train_ce.iloc[train_index], X_train_ce.iloc[test_index]\n",
        "    y_train_gkf, y_test_gkf = y_train.iloc[train_index], y_train.iloc[test_index]\n",
        "\n",
        "    # 学習、推論\n",
        "    lgb_train = opt_lgb.Dataset(X_train_gkf, y_train_gkf)\n",
        "    lgb_test = opt_lgb.Dataset(X_test_gkf, y_test_gkf, reference=lgb_train)\n",
        "\n",
        "    lgb_results = {}                                    # 学習の履歴を入れる入物\n",
        "\n",
        "    model = opt_lgb.train(\n",
        "                    params,                    # ハイパーパラメータをセット\n",
        "                    lgb_train,              # 訓練データを訓練用にセット\n",
        "                    valid_sets=[lgb_train, lgb_test], # 訓練データとテストデータをセット\n",
        "                    valid_names=['Train', 'Test'],    # データセットの名前をそれぞれ設定\n",
        "                    num_boost_round=100,              # 計算回数\n",
        "                    early_stopping_rounds=50,         # アーリーストッピング設定\n",
        "                    evals_result=lgb_results,\n",
        "                    verbose_eval=-1,                  # ログを最後の1つだけ表示\n",
        "                    )  \n",
        "    \n",
        "    best_params = model.params\n",
        "\n",
        "    # 損失推移を表示\n",
        "    loss_train = lgb_results['Train']['rmse']\n",
        "    loss_test = lgb_results['Test']['rmse']   \n",
        "    \n",
        "    fig = plt.figure()\n",
        "    \n",
        "    plt.xlabel('Iteration')\n",
        "    plt.ylabel('logloss')\n",
        "\n",
        "    plt.title(f\"fold:{fold}\")\n",
        "    plt.plot(loss_train, label='train loss')\n",
        "    plt.plot(loss_test, label='test loss')\n",
        "    \n",
        "    plt.legend()\n",
        "    plt.show()\n",
        "\n",
        "    # 推論\n",
        "    y_pred = model.predict(X_test_gkf, num_iteration=model.best_iteration)\n",
        "\n",
        "    # 評価\n",
        "    rmse = mean_squared_error(y_test_gkf, y_pred, squared=False)\n",
        "    cv_result_opt.append(rmse)\n",
        "\n",
        "print(\"RMSE:\", cv_result_opt)\n",
        "print(\"RMSE:\", np.mean(cv_result_opt))\n",
        "\n",
        "elasp_time_opt = round((time.time() - start_opt), 1)"
      ],
      "metadata": {
        "colab": {
          "base_uri": "https://localhost:8080/",
          "height": 1000
        },
        "id": "OnW91TmEKm5z",
        "outputId": "18cf8d8a-e79b-4ffb-9af4-59eecd9a913e"
      },
      "execution_count": null,
      "outputs": [
        {
          "output_type": "stream",
          "name": "stderr",
          "text": [
            "\u001b[32m[I 2021-12-10 12:05:00,458]\u001b[0m A new study created in memory with name: no-name-a0179bce-4052-45aa-bdcf-b3b25aa44c42\u001b[0m\n",
            "feature_fraction, val_score: inf:   0%|          | 0/7 [00:00<?, ?it/s]"
          ]
        },
        {
          "output_type": "stream",
          "name": "stdout",
          "text": [
            "Training until validation scores don't improve for 50 rounds.\n"
          ]
        },
        {
          "output_type": "stream",
          "name": "stderr",
          "text": [
            "feature_fraction, val_score: 0.345643:  14%|#4        | 1/7 [00:00<00:03,  1.90it/s]\u001b[32m[I 2021-12-10 12:05:01,001]\u001b[0m Trial 0 finished with value: 0.34564286351667656 and parameters: {'feature_fraction': 0.8999999999999999}. Best is trial 0 with value: 0.34564286351667656.\u001b[0m\n",
            "feature_fraction, val_score: 0.345643:  14%|#4        | 1/7 [00:00<00:03,  1.90it/s]"
          ]
        },
        {
          "output_type": "stream",
          "name": "stdout",
          "text": [
            "Early stopping, best iteration is:\n",
            "[47]\tTrain's rmse: 0.142844\tTest's rmse: 0.345643\n",
            "Training until validation scores don't improve for 50 rounds.\n"
          ]
        },
        {
          "output_type": "stream",
          "name": "stderr",
          "text": [
            "feature_fraction, val_score: 0.345643:  29%|##8       | 2/7 [00:00<00:02,  2.35it/s]\u001b[32m[I 2021-12-10 12:05:01,355]\u001b[0m Trial 1 finished with value: 0.3573903807852102 and parameters: {'feature_fraction': 0.4}. Best is trial 0 with value: 0.34564286351667656.\u001b[0m\n",
            "feature_fraction, val_score: 0.345643:  29%|##8       | 2/7 [00:00<00:02,  2.35it/s]"
          ]
        },
        {
          "output_type": "stream",
          "name": "stdout",
          "text": [
            "Did not meet early stopping. Best iteration is:\n",
            "[100]\tTrain's rmse: 0.121108\tTest's rmse: 0.35739\n",
            "Training until validation scores don't improve for 50 rounds.\n"
          ]
        },
        {
          "output_type": "stream",
          "name": "stderr",
          "text": [
            "feature_fraction, val_score: 0.345643:  43%|####2     | 3/7 [00:01<00:01,  2.40it/s]\u001b[32m[I 2021-12-10 12:05:01,761]\u001b[0m Trial 2 finished with value: 0.35741087866232285 and parameters: {'feature_fraction': 0.5}. Best is trial 0 with value: 0.34564286351667656.\u001b[0m\n",
            "feature_fraction, val_score: 0.345643:  43%|####2     | 3/7 [00:01<00:01,  2.40it/s]"
          ]
        },
        {
          "output_type": "stream",
          "name": "stdout",
          "text": [
            "Did not meet early stopping. Best iteration is:\n",
            "[100]\tTrain's rmse: 0.116552\tTest's rmse: 0.357411\n",
            "Training until validation scores don't improve for 50 rounds.\n"
          ]
        },
        {
          "output_type": "stream",
          "name": "stderr",
          "text": [
            "feature_fraction, val_score: 0.340763:  57%|#####7    | 4/7 [00:01<00:01,  2.28it/s]\u001b[32m[I 2021-12-10 12:05:02,232]\u001b[0m Trial 3 finished with value: 0.3407631315214147 and parameters: {'feature_fraction': 0.8}. Best is trial 3 with value: 0.3407631315214147.\u001b[0m\n",
            "feature_fraction, val_score: 0.340763:  57%|#####7    | 4/7 [00:01<00:01,  2.28it/s]"
          ]
        },
        {
          "output_type": "stream",
          "name": "stdout",
          "text": [
            "Did not meet early stopping. Best iteration is:\n",
            "[100]\tTrain's rmse: 0.108445\tTest's rmse: 0.340763\n",
            "Training until validation scores don't improve for 50 rounds.\n"
          ]
        },
        {
          "output_type": "stream",
          "name": "stderr",
          "text": [
            "feature_fraction, val_score: 0.340763:  71%|#######1  | 5/7 [00:02<00:00,  2.29it/s]\u001b[32m[I 2021-12-10 12:05:02,664]\u001b[0m Trial 4 finished with value: 0.3641209844575373 and parameters: {'feature_fraction': 0.6}. Best is trial 3 with value: 0.3407631315214147.\u001b[0m\n",
            "feature_fraction, val_score: 0.340763:  71%|#######1  | 5/7 [00:02<00:00,  2.29it/s]"
          ]
        },
        {
          "output_type": "stream",
          "name": "stdout",
          "text": [
            "Did not meet early stopping. Best iteration is:\n",
            "[100]\tTrain's rmse: 0.108089\tTest's rmse: 0.364121\n",
            "Training until validation scores don't improve for 50 rounds.\n"
          ]
        },
        {
          "output_type": "stream",
          "name": "stderr",
          "text": [
            "feature_fraction, val_score: 0.340763:  86%|########5 | 6/7 [00:02<00:00,  2.22it/s]\u001b[32m[I 2021-12-10 12:05:03,140]\u001b[0m Trial 5 finished with value: 0.35225673206710856 and parameters: {'feature_fraction': 0.7}. Best is trial 3 with value: 0.3407631315214147.\u001b[0m\n",
            "feature_fraction, val_score: 0.340763:  86%|########5 | 6/7 [00:02<00:00,  2.22it/s]"
          ]
        },
        {
          "output_type": "stream",
          "name": "stdout",
          "text": [
            "Did not meet early stopping. Best iteration is:\n",
            "[100]\tTrain's rmse: 0.104324\tTest's rmse: 0.352257\n",
            "Training until validation scores don't improve for 50 rounds.\n"
          ]
        },
        {
          "output_type": "stream",
          "name": "stderr",
          "text": [
            "feature_fraction, val_score: 0.340763: 100%|##########| 7/7 [00:03<00:00,  2.14it/s]\u001b[32m[I 2021-12-10 12:05:03,645]\u001b[0m Trial 6 finished with value: 0.34507429978353893 and parameters: {'feature_fraction': 1.0}. Best is trial 3 with value: 0.3407631315214147.\u001b[0m\n",
            "feature_fraction, val_score: 0.340763: 100%|##########| 7/7 [00:03<00:00,  2.20it/s]\n"
          ]
        },
        {
          "output_type": "stream",
          "name": "stdout",
          "text": [
            "Early stopping, best iteration is:\n",
            "[46]\tTrain's rmse: 0.145024\tTest's rmse: 0.345074\n"
          ]
        },
        {
          "output_type": "stream",
          "name": "stderr",
          "text": [
            "num_leaves, val_score: 0.340763:   0%|          | 0/20 [00:00<?, ?it/s]"
          ]
        },
        {
          "output_type": "stream",
          "name": "stdout",
          "text": [
            "Training until validation scores don't improve for 50 rounds.\n"
          ]
        },
        {
          "output_type": "stream",
          "name": "stderr",
          "text": [
            "num_leaves, val_score: 0.340763:   5%|5         | 1/20 [00:01<00:24,  1.29s/it]\u001b[32m[I 2021-12-10 12:05:04,954]\u001b[0m Trial 7 finished with value: 0.3473965747158899 and parameters: {'num_leaves': 144}. Best is trial 7 with value: 0.3473965747158899.\u001b[0m\n",
            "num_leaves, val_score: 0.340763:   5%|5         | 1/20 [00:01<00:24,  1.29s/it]"
          ]
        },
        {
          "output_type": "stream",
          "name": "stdout",
          "text": [
            "Did not meet early stopping. Best iteration is:\n",
            "[100]\tTrain's rmse: 0.11313\tTest's rmse: 0.347397\n",
            "Training until validation scores don't improve for 50 rounds.\n"
          ]
        },
        {
          "output_type": "stream",
          "name": "stderr",
          "text": [
            "num_leaves, val_score: 0.340763:  10%|#         | 2/20 [00:02<00:26,  1.49s/it]\u001b[32m[I 2021-12-10 12:05:06,577]\u001b[0m Trial 8 finished with value: 0.34663773170911777 and parameters: {'num_leaves': 213}. Best is trial 8 with value: 0.34663773170911777.\u001b[0m\n",
            "num_leaves, val_score: 0.340763:  10%|#         | 2/20 [00:02<00:26,  1.49s/it]"
          ]
        },
        {
          "output_type": "stream",
          "name": "stdout",
          "text": [
            "Did not meet early stopping. Best iteration is:\n",
            "[100]\tTrain's rmse: 0.112961\tTest's rmse: 0.346638\n",
            "Training until validation scores don't improve for 50 rounds.\n"
          ]
        },
        {
          "output_type": "stream",
          "name": "stderr",
          "text": [
            "num_leaves, val_score: 0.340763:  15%|#5        | 3/20 [00:03<00:20,  1.19s/it]\u001b[32m[I 2021-12-10 12:05:07,405]\u001b[0m Trial 9 finished with value: 0.34417263778455554 and parameters: {'num_leaves': 77}. Best is trial 9 with value: 0.34417263778455554.\u001b[0m\n",
            "num_leaves, val_score: 0.340763:  15%|#5        | 3/20 [00:03<00:20,  1.19s/it]"
          ]
        },
        {
          "output_type": "stream",
          "name": "stdout",
          "text": [
            "Did not meet early stopping. Best iteration is:\n",
            "[100]\tTrain's rmse: 0.109684\tTest's rmse: 0.344173\n",
            "Training until validation scores don't improve for 50 rounds.\n"
          ]
        },
        {
          "output_type": "stream",
          "name": "stderr",
          "text": [
            "num_leaves, val_score: 0.340763:  20%|##        | 4/20 [00:04<00:18,  1.17s/it]\u001b[32m[I 2021-12-10 12:05:08,549]\u001b[0m Trial 10 finished with value: 0.34715424340200435 and parameters: {'num_leaves': 128}. Best is trial 9 with value: 0.34417263778455554.\u001b[0m\n",
            "num_leaves, val_score: 0.340763:  20%|##        | 4/20 [00:04<00:18,  1.17s/it]"
          ]
        },
        {
          "output_type": "stream",
          "name": "stdout",
          "text": [
            "Did not meet early stopping. Best iteration is:\n",
            "[100]\tTrain's rmse: 0.107691\tTest's rmse: 0.347154\n",
            "Training until validation scores don't improve for 50 rounds.\n"
          ]
        },
        {
          "output_type": "stream",
          "name": "stderr",
          "text": [
            "num_leaves, val_score: 0.340763:  25%|##5       | 5/20 [00:05<00:14,  1.03it/s]\u001b[32m[I 2021-12-10 12:05:09,168]\u001b[0m Trial 11 finished with value: 0.3449930513775044 and parameters: {'num_leaves': 49}. Best is trial 9 with value: 0.34417263778455554.\u001b[0m\n",
            "num_leaves, val_score: 0.340763:  25%|##5       | 5/20 [00:05<00:14,  1.03it/s]"
          ]
        },
        {
          "output_type": "stream",
          "name": "stdout",
          "text": [
            "Did not meet early stopping. Best iteration is:\n",
            "[100]\tTrain's rmse: 0.107261\tTest's rmse: 0.344993\n",
            "Training until validation scores don't improve for 50 rounds.\n"
          ]
        },
        {
          "output_type": "stream",
          "name": "stderr",
          "text": [
            "num_leaves, val_score: 0.340763:  30%|###       | 6/20 [00:06<00:13,  1.07it/s]\u001b[32m[I 2021-12-10 12:05:10,044]\u001b[0m Trial 12 finished with value: 0.3487750276422814 and parameters: {'num_leaves': 86}. Best is trial 9 with value: 0.34417263778455554.\u001b[0m\n",
            "num_leaves, val_score: 0.340763:  30%|###       | 6/20 [00:06<00:13,  1.07it/s]"
          ]
        },
        {
          "output_type": "stream",
          "name": "stdout",
          "text": [
            "Did not meet early stopping. Best iteration is:\n",
            "[100]\tTrain's rmse: 0.108574\tTest's rmse: 0.348775\n",
            "Training until validation scores don't improve for 50 rounds.\n"
          ]
        },
        {
          "output_type": "stream",
          "name": "stderr",
          "text": [
            "num_leaves, val_score: 0.340763:  35%|###5      | 7/20 [00:07<00:11,  1.09it/s]\u001b[32m[I 2021-12-10 12:05:10,910]\u001b[0m Trial 13 finished with value: 0.35007956436097 and parameters: {'num_leaves': 89}. Best is trial 9 with value: 0.34417263778455554.\u001b[0m\n",
            "num_leaves, val_score: 0.340763:  35%|###5      | 7/20 [00:07<00:11,  1.09it/s]"
          ]
        },
        {
          "output_type": "stream",
          "name": "stdout",
          "text": [
            "Did not meet early stopping. Best iteration is:\n",
            "[100]\tTrain's rmse: 0.109121\tTest's rmse: 0.35008\n",
            "Training until validation scores don't improve for 50 rounds.\n"
          ]
        },
        {
          "output_type": "stream",
          "name": "stderr",
          "text": [
            "num_leaves, val_score: 0.340763:  40%|####      | 8/20 [00:08<00:13,  1.09s/it]\u001b[32m[I 2021-12-10 12:05:12,388]\u001b[0m Trial 14 finished with value: 0.34730411179370735 and parameters: {'num_leaves': 186}. Best is trial 9 with value: 0.34417263778455554.\u001b[0m\n",
            "num_leaves, val_score: 0.340763:  40%|####      | 8/20 [00:08<00:13,  1.09s/it]"
          ]
        },
        {
          "output_type": "stream",
          "name": "stdout",
          "text": [
            "Did not meet early stopping. Best iteration is:\n",
            "[100]\tTrain's rmse: 0.112019\tTest's rmse: 0.347304\n",
            "Training until validation scores don't improve for 50 rounds.\n"
          ]
        },
        {
          "output_type": "stream",
          "name": "stderr",
          "text": [
            "num_leaves, val_score: 0.327161:  45%|####5     | 9/20 [00:08<00:08,  1.24it/s]\u001b[32m[I 2021-12-10 12:05:12,559]\u001b[0m Trial 15 finished with value: 0.3271613480718681 and parameters: {'num_leaves': 3}. Best is trial 15 with value: 0.3271613480718681.\u001b[0m\n",
            "num_leaves, val_score: 0.327161:  45%|####5     | 9/20 [00:08<00:08,  1.24it/s]"
          ]
        },
        {
          "output_type": "stream",
          "name": "stdout",
          "text": [
            "Did not meet early stopping. Best iteration is:\n",
            "[100]\tTrain's rmse: 0.174053\tTest's rmse: 0.327161\n",
            "Training until validation scores don't improve for 50 rounds.\n"
          ]
        },
        {
          "output_type": "stream",
          "name": "stderr",
          "text": [
            "num_leaves, val_score: 0.327161:  50%|#####     | 10/20 [00:10<00:09,  1.08it/s]\u001b[32m[I 2021-12-10 12:05:13,751]\u001b[0m Trial 16 finished with value: 0.34879871585284206 and parameters: {'num_leaves': 136}. Best is trial 15 with value: 0.3271613480718681.\u001b[0m\n",
            "num_leaves, val_score: 0.327161:  50%|#####     | 10/20 [00:10<00:09,  1.08it/s]"
          ]
        },
        {
          "output_type": "stream",
          "name": "stdout",
          "text": [
            "Did not meet early stopping. Best iteration is:\n",
            "[100]\tTrain's rmse: 0.107687\tTest's rmse: 0.348799\n",
            "Training until validation scores don't improve for 50 rounds.\n"
          ]
        },
        {
          "output_type": "stream",
          "name": "stderr",
          "text": [
            "num_leaves, val_score: 0.327161:  55%|#####5    | 11/20 [00:10<00:06,  1.41it/s]\u001b[32m[I 2021-12-10 12:05:13,975]\u001b[0m Trial 17 finished with value: 0.3330480820640655 and parameters: {'num_leaves': 5}. Best is trial 15 with value: 0.3271613480718681.\u001b[0m\n",
            "num_leaves, val_score: 0.327161:  55%|#####5    | 11/20 [00:10<00:06,  1.41it/s]"
          ]
        },
        {
          "output_type": "stream",
          "name": "stdout",
          "text": [
            "Did not meet early stopping. Best iteration is:\n",
            "[100]\tTrain's rmse: 0.140733\tTest's rmse: 0.333048\n",
            "Training until validation scores don't improve for 50 rounds.\n"
          ]
        },
        {
          "output_type": "stream",
          "name": "stderr",
          "text": [
            "num_leaves, val_score: 0.327161:  60%|######    | 12/20 [00:10<00:04,  1.72it/s]\u001b[32m[I 2021-12-10 12:05:14,258]\u001b[0m Trial 18 finished with value: 0.3500089342463712 and parameters: {'num_leaves': 12}. Best is trial 15 with value: 0.3271613480718681.\u001b[0m\n",
            "num_leaves, val_score: 0.327161:  60%|######    | 12/20 [00:10<00:04,  1.72it/s]"
          ]
        },
        {
          "output_type": "stream",
          "name": "stdout",
          "text": [
            "Did not meet early stopping. Best iteration is:\n",
            "[100]\tTrain's rmse: 0.112481\tTest's rmse: 0.350009\n",
            "Training until validation scores don't improve for 50 rounds.\n"
          ]
        },
        {
          "output_type": "stream",
          "name": "stderr",
          "text": [
            "num_leaves, val_score: 0.327161:  65%|######5   | 13/20 [00:10<00:03,  2.12it/s]\u001b[32m[I 2021-12-10 12:05:14,476]\u001b[0m Trial 19 finished with value: 0.3430351570666355 and parameters: {'num_leaves': 6}. Best is trial 15 with value: 0.3271613480718681.\u001b[0m\n",
            "num_leaves, val_score: 0.327161:  65%|######5   | 13/20 [00:10<00:03,  2.12it/s]"
          ]
        },
        {
          "output_type": "stream",
          "name": "stdout",
          "text": [
            "Did not meet early stopping. Best iteration is:\n",
            "[100]\tTrain's rmse: 0.12525\tTest's rmse: 0.343035\n",
            "Training until validation scores don't improve for 50 rounds.\n"
          ]
        },
        {
          "output_type": "stream",
          "name": "stderr",
          "text": [
            "num_leaves, val_score: 0.327161:  70%|#######   | 14/20 [00:11<00:02,  2.04it/s]\u001b[32m[I 2021-12-10 12:05:15,010]\u001b[0m Trial 20 finished with value: 0.34796484528646876 and parameters: {'num_leaves': 38}. Best is trial 15 with value: 0.3271613480718681.\u001b[0m\n",
            "num_leaves, val_score: 0.327161:  70%|#######   | 14/20 [00:11<00:02,  2.04it/s]"
          ]
        },
        {
          "output_type": "stream",
          "name": "stdout",
          "text": [
            "Did not meet early stopping. Best iteration is:\n",
            "[100]\tTrain's rmse: 0.105544\tTest's rmse: 0.347965\n",
            "Training until validation scores don't improve for 50 rounds.\n"
          ]
        },
        {
          "output_type": "stream",
          "name": "stderr",
          "text": [
            "num_leaves, val_score: 0.327161:  75%|#######5  | 15/20 [00:13<00:04,  1.13it/s]\u001b[32m[I 2021-12-10 12:05:16,803]\u001b[0m Trial 21 finished with value: 0.34817230156144857 and parameters: {'num_leaves': 251}. Best is trial 15 with value: 0.3271613480718681.\u001b[0m\n",
            "num_leaves, val_score: 0.327161:  75%|#######5  | 15/20 [00:13<00:04,  1.13it/s]"
          ]
        },
        {
          "output_type": "stream",
          "name": "stdout",
          "text": [
            "Did not meet early stopping. Best iteration is:\n",
            "[100]\tTrain's rmse: 0.114768\tTest's rmse: 0.348172\n",
            "Training until validation scores don't improve for 50 rounds.\n"
          ]
        },
        {
          "output_type": "stream",
          "name": "stderr",
          "text": [
            "num_leaves, val_score: 0.327161:  80%|########  | 16/20 [00:13<00:03,  1.26it/s]\u001b[32m[I 2021-12-10 12:05:17,398]\u001b[0m Trial 22 finished with value: 0.34550276681256864 and parameters: {'num_leaves': 46}. Best is trial 15 with value: 0.3271613480718681.\u001b[0m\n",
            "num_leaves, val_score: 0.327161:  80%|########  | 16/20 [00:13<00:03,  1.26it/s]"
          ]
        },
        {
          "output_type": "stream",
          "name": "stdout",
          "text": [
            "Did not meet early stopping. Best iteration is:\n",
            "[100]\tTrain's rmse: 0.110571\tTest's rmse: 0.345503\n",
            "Training until validation scores don't improve for 50 rounds.\n",
            "Did not meet early stopping. Best iteration is:\n",
            "[100]\tTrain's rmse: 0.174053\tTest's rmse: 0.327161\n"
          ]
        },
        {
          "output_type": "stream",
          "name": "stderr",
          "text": [
            "num_leaves, val_score: 0.327161:  85%|########5 | 17/20 [00:13<00:01,  1.64it/s]\u001b[32m[I 2021-12-10 12:05:17,576]\u001b[0m Trial 23 finished with value: 0.3271613480718681 and parameters: {'num_leaves': 3}. Best is trial 15 with value: 0.3271613480718681.\u001b[0m\n",
            "num_leaves, val_score: 0.327161:  85%|########5 | 17/20 [00:13<00:01,  1.64it/s]"
          ]
        },
        {
          "output_type": "stream",
          "name": "stdout",
          "text": [
            "Training until validation scores don't improve for 50 rounds.\n"
          ]
        },
        {
          "output_type": "stream",
          "name": "stderr",
          "text": [
            "num_leaves, val_score: 0.327161:  90%|######### | 18/20 [00:14<00:01,  1.75it/s]\u001b[32m[I 2021-12-10 12:05:18,061]\u001b[0m Trial 24 finished with value: 0.3417263605547353 and parameters: {'num_leaves': 33}. Best is trial 15 with value: 0.3271613480718681.\u001b[0m\n",
            "num_leaves, val_score: 0.327161:  90%|######### | 18/20 [00:14<00:01,  1.75it/s]"
          ]
        },
        {
          "output_type": "stream",
          "name": "stdout",
          "text": [
            "Did not meet early stopping. Best iteration is:\n",
            "[100]\tTrain's rmse: 0.108467\tTest's rmse: 0.341726\n",
            "Training until validation scores don't improve for 50 rounds.\n"
          ]
        },
        {
          "output_type": "stream",
          "name": "stderr",
          "text": [
            "num_leaves, val_score: 0.327161:  95%|#########5| 19/20 [00:15<00:00,  1.62it/s]\u001b[32m[I 2021-12-10 12:05:18,786]\u001b[0m Trial 25 finished with value: 0.34461082231010626 and parameters: {'num_leaves': 65}. Best is trial 15 with value: 0.3271613480718681.\u001b[0m\n",
            "num_leaves, val_score: 0.327161:  95%|#########5| 19/20 [00:15<00:00,  1.62it/s]"
          ]
        },
        {
          "output_type": "stream",
          "name": "stdout",
          "text": [
            "Did not meet early stopping. Best iteration is:\n",
            "[100]\tTrain's rmse: 0.109634\tTest's rmse: 0.344611\n",
            "Training until validation scores don't improve for 50 rounds.\n"
          ]
        },
        {
          "output_type": "stream",
          "name": "stderr",
          "text": [
            "num_leaves, val_score: 0.327161: 100%|##########| 20/20 [00:16<00:00,  1.35it/s]\u001b[32m[I 2021-12-10 12:05:19,805]\u001b[0m Trial 26 finished with value: 0.3463556091888864 and parameters: {'num_leaves': 111}. Best is trial 15 with value: 0.3271613480718681.\u001b[0m\n",
            "num_leaves, val_score: 0.327161: 100%|##########| 20/20 [00:16<00:00,  1.24it/s]\n"
          ]
        },
        {
          "output_type": "stream",
          "name": "stdout",
          "text": [
            "Did not meet early stopping. Best iteration is:\n",
            "[100]\tTrain's rmse: 0.111989\tTest's rmse: 0.346356\n"
          ]
        },
        {
          "output_type": "stream",
          "name": "stderr",
          "text": [
            "bagging, val_score: 0.327161:   0%|          | 0/10 [00:00<?, ?it/s]"
          ]
        },
        {
          "output_type": "stream",
          "name": "stdout",
          "text": [
            "Training until validation scores don't improve for 50 rounds.\n"
          ]
        },
        {
          "output_type": "stream",
          "name": "stderr",
          "text": [
            "bagging, val_score: 0.327161:  10%|#         | 1/10 [00:00<00:01,  5.54it/s]\u001b[32m[I 2021-12-10 12:05:20,010]\u001b[0m Trial 27 finished with value: 0.32983554698159423 and parameters: {'bagging_fraction': 0.8244314845881997, 'bagging_freq': 6}. Best is trial 27 with value: 0.32983554698159423.\u001b[0m\n",
            "bagging, val_score: 0.327161:  10%|#         | 1/10 [00:00<00:01,  5.54it/s]"
          ]
        },
        {
          "output_type": "stream",
          "name": "stdout",
          "text": [
            "Did not meet early stopping. Best iteration is:\n",
            "[100]\tTrain's rmse: 0.173041\tTest's rmse: 0.329836\n",
            "Training until validation scores don't improve for 50 rounds.\n"
          ]
        },
        {
          "output_type": "stream",
          "name": "stderr",
          "text": [
            "bagging, val_score: 0.327161:  20%|##        | 2/10 [00:00<00:01,  4.99it/s]\u001b[32m[I 2021-12-10 12:05:20,223]\u001b[0m Trial 28 finished with value: 0.3307641223059059 and parameters: {'bagging_fraction': 0.9175937112880334, 'bagging_freq': 2}. Best is trial 27 with value: 0.32983554698159423.\u001b[0m\n",
            "bagging, val_score: 0.327161:  30%|###       | 3/10 [00:00<00:01,  5.28it/s]\u001b[32m[I 2021-12-10 12:05:20,400]\u001b[0m Trial 29 finished with value: 0.32837393121934916 and parameters: {'bagging_fraction': 0.8249448352772863, 'bagging_freq': 4}. Best is trial 29 with value: 0.32837393121934916.\u001b[0m\n",
            "bagging, val_score: 0.327161:  30%|###       | 3/10 [00:00<00:01,  5.28it/s]"
          ]
        },
        {
          "output_type": "stream",
          "name": "stdout",
          "text": [
            "Did not meet early stopping. Best iteration is:\n",
            "[100]\tTrain's rmse: 0.169882\tTest's rmse: 0.330764\n",
            "Training until validation scores don't improve for 50 rounds.\n",
            "Did not meet early stopping. Best iteration is:\n",
            "[100]\tTrain's rmse: 0.173475\tTest's rmse: 0.328374\n"
          ]
        },
        {
          "output_type": "stream",
          "name": "stderr",
          "text": [
            "bagging, val_score: 0.327161:  40%|####      | 4/10 [00:00<00:01,  5.31it/s]\u001b[32m[I 2021-12-10 12:05:20,587]\u001b[0m Trial 30 finished with value: 0.33374865956686073 and parameters: {'bagging_fraction': 0.6990169149532632, 'bagging_freq': 2}. Best is trial 29 with value: 0.32837393121934916.\u001b[0m\n",
            "bagging, val_score: 0.327161:  40%|####      | 4/10 [00:00<00:01,  5.31it/s]"
          ]
        },
        {
          "output_type": "stream",
          "name": "stdout",
          "text": [
            "Training until validation scores don't improve for 50 rounds.\n",
            "Did not meet early stopping. Best iteration is:\n",
            "[100]\tTrain's rmse: 0.170074\tTest's rmse: 0.333749\n",
            "Training until validation scores don't improve for 50 rounds.\n"
          ]
        },
        {
          "output_type": "stream",
          "name": "stderr",
          "text": [
            "bagging, val_score: 0.325747:  50%|#####     | 5/10 [00:00<00:00,  5.42it/s]\u001b[32m[I 2021-12-10 12:05:20,768]\u001b[0m Trial 31 finished with value: 0.3257469033215016 and parameters: {'bagging_fraction': 0.5361991665044024, 'bagging_freq': 7}. Best is trial 31 with value: 0.3257469033215016.\u001b[0m\n",
            "bagging, val_score: 0.325747:  60%|######    | 6/10 [00:01<00:00,  5.58it/s]\u001b[32m[I 2021-12-10 12:05:20,936]\u001b[0m Trial 32 finished with value: 0.33257874530762455 and parameters: {'bagging_fraction': 0.525449317704792, 'bagging_freq': 4}. Best is trial 31 with value: 0.3257469033215016.\u001b[0m\n",
            "bagging, val_score: 0.325747:  60%|######    | 6/10 [00:01<00:00,  5.58it/s]"
          ]
        },
        {
          "output_type": "stream",
          "name": "stdout",
          "text": [
            "Did not meet early stopping. Best iteration is:\n",
            "[98]\tTrain's rmse: 0.173455\tTest's rmse: 0.325747\n",
            "Training until validation scores don't improve for 50 rounds.\n",
            "Did not meet early stopping. Best iteration is:\n",
            "[100]\tTrain's rmse: 0.173889\tTest's rmse: 0.332579\n"
          ]
        },
        {
          "output_type": "stream",
          "name": "stderr",
          "text": [
            "bagging, val_score: 0.325747:  70%|#######   | 7/10 [00:01<00:00,  5.39it/s]\u001b[32m[I 2021-12-10 12:05:21,135]\u001b[0m Trial 33 finished with value: 0.3284841840001164 and parameters: {'bagging_fraction': 0.8678581735556978, 'bagging_freq': 3}. Best is trial 31 with value: 0.3257469033215016.\u001b[0m\n",
            "bagging, val_score: 0.325747:  70%|#######   | 7/10 [00:01<00:00,  5.39it/s]"
          ]
        },
        {
          "output_type": "stream",
          "name": "stdout",
          "text": [
            "Training until validation scores don't improve for 50 rounds.\n",
            "Did not meet early stopping. Best iteration is:\n",
            "[100]\tTrain's rmse: 0.169029\tTest's rmse: 0.328484\n",
            "Training until validation scores don't improve for 50 rounds.\n"
          ]
        },
        {
          "output_type": "stream",
          "name": "stderr",
          "text": [
            "bagging, val_score: 0.323839:  80%|########  | 8/10 [00:01<00:00,  5.36it/s]\u001b[32m[I 2021-12-10 12:05:21,323]\u001b[0m Trial 34 finished with value: 0.32383901424089667 and parameters: {'bagging_fraction': 0.5829217693623099, 'bagging_freq': 2}. Best is trial 34 with value: 0.32383901424089667.\u001b[0m\n",
            "bagging, val_score: 0.323839:  90%|######### | 9/10 [00:01<00:00,  5.33it/s]"
          ]
        },
        {
          "output_type": "stream",
          "name": "stdout",
          "text": [
            "Did not meet early stopping. Best iteration is:\n",
            "[100]\tTrain's rmse: 0.172516\tTest's rmse: 0.323839\n",
            "Training until validation scores don't improve for 50 rounds.\n",
            "Did not meet early stopping. Best iteration is:\n",
            "[100]\tTrain's rmse: 0.170218\tTest's rmse: 0.33135\n"
          ]
        },
        {
          "output_type": "stream",
          "name": "stderr",
          "text": [
            "\u001b[32m[I 2021-12-10 12:05:21,509]\u001b[0m Trial 35 finished with value: 0.331349808105967 and parameters: {'bagging_fraction': 0.7489985082995396, 'bagging_freq': 3}. Best is trial 34 with value: 0.32383901424089667.\u001b[0m\n",
            "bagging, val_score: 0.323839: 100%|##########| 10/10 [00:01<00:00,  5.40it/s]\u001b[32m[I 2021-12-10 12:05:21,694]\u001b[0m Trial 36 finished with value: 0.32651505500120137 and parameters: {'bagging_fraction': 0.7296105186991728, 'bagging_freq': 5}. Best is trial 34 with value: 0.32383901424089667.\u001b[0m\n",
            "bagging, val_score: 0.323839: 100%|##########| 10/10 [00:01<00:00,  5.33it/s]\n"
          ]
        },
        {
          "output_type": "stream",
          "name": "stdout",
          "text": [
            "Training until validation scores don't improve for 50 rounds.\n",
            "Did not meet early stopping. Best iteration is:\n",
            "[100]\tTrain's rmse: 0.170422\tTest's rmse: 0.326515\n"
          ]
        },
        {
          "output_type": "stream",
          "name": "stderr",
          "text": [
            "feature_fraction_stage2, val_score: 0.323839:  17%|#6        | 1/6 [00:00<00:00,  5.79it/s]\u001b[32m[I 2021-12-10 12:05:21,897]\u001b[0m Trial 37 finished with value: 0.3250338541831725 and parameters: {'feature_fraction': 0.88}. Best is trial 37 with value: 0.3250338541831725.\u001b[0m\n",
            "feature_fraction_stage2, val_score: 0.323839:  17%|#6        | 1/6 [00:00<00:00,  5.79it/s]"
          ]
        },
        {
          "output_type": "stream",
          "name": "stdout",
          "text": [
            "Training until validation scores don't improve for 50 rounds.\n",
            "Did not meet early stopping. Best iteration is:\n",
            "[100]\tTrain's rmse: 0.173266\tTest's rmse: 0.325034\n",
            "Training until validation scores don't improve for 50 rounds.\n"
          ]
        },
        {
          "output_type": "stream",
          "name": "stderr",
          "text": [
            "feature_fraction_stage2, val_score: 0.323839:  33%|###3      | 2/6 [00:00<00:00,  5.75it/s]\u001b[32m[I 2021-12-10 12:05:22,071]\u001b[0m Trial 38 finished with value: 0.3288273781391836 and parameters: {'feature_fraction': 0.7200000000000001}. Best is trial 37 with value: 0.3250338541831725.\u001b[0m\n",
            "feature_fraction_stage2, val_score: 0.323839:  50%|#####     | 3/6 [00:00<00:00,  5.51it/s]"
          ]
        },
        {
          "output_type": "stream",
          "name": "stdout",
          "text": [
            "Did not meet early stopping. Best iteration is:\n",
            "[100]\tTrain's rmse: 0.17385\tTest's rmse: 0.328827\n",
            "Training until validation scores don't improve for 50 rounds.\n",
            "Did not meet early stopping. Best iteration is:\n",
            "[100]\tTrain's rmse: 0.174406\tTest's rmse: 0.327976\n"
          ]
        },
        {
          "output_type": "stream",
          "name": "stderr",
          "text": [
            "\u001b[32m[I 2021-12-10 12:05:22,264]\u001b[0m Trial 39 finished with value: 0.3279763309626427 and parameters: {'feature_fraction': 0.7520000000000001}. Best is trial 37 with value: 0.3250338541831725.\u001b[0m\n",
            "feature_fraction_stage2, val_score: 0.323839:  67%|######6   | 4/6 [00:00<00:00,  5.59it/s]\u001b[32m[I 2021-12-10 12:05:22,439]\u001b[0m Trial 40 finished with value: 0.32383901424089667 and parameters: {'feature_fraction': 0.8480000000000001}. Best is trial 40 with value: 0.32383901424089667.\u001b[0m\n",
            "feature_fraction_stage2, val_score: 0.323839:  67%|######6   | 4/6 [00:00<00:00,  5.59it/s]"
          ]
        },
        {
          "output_type": "stream",
          "name": "stdout",
          "text": [
            "Training until validation scores don't improve for 50 rounds.\n",
            "Did not meet early stopping. Best iteration is:\n",
            "[100]\tTrain's rmse: 0.172516\tTest's rmse: 0.323839\n",
            "Training until validation scores don't improve for 50 rounds.\n"
          ]
        },
        {
          "output_type": "stream",
          "name": "stderr",
          "text": [
            "feature_fraction_stage2, val_score: 0.323839:  83%|########3 | 5/6 [00:00<00:00,  5.57it/s]\u001b[32m[I 2021-12-10 12:05:22,618]\u001b[0m Trial 41 finished with value: 0.32383901424089667 and parameters: {'feature_fraction': 0.8160000000000001}. Best is trial 40 with value: 0.32383901424089667.\u001b[0m\n",
            "feature_fraction_stage2, val_score: 0.323839: 100%|##########| 6/6 [00:01<00:00,  5.62it/s]\u001b[32m[I 2021-12-10 12:05:22,793]\u001b[0m Trial 42 finished with value: 0.3279763309626427 and parameters: {'feature_fraction': 0.784}. Best is trial 40 with value: 0.32383901424089667.\u001b[0m\n",
            "feature_fraction_stage2, val_score: 0.323839: 100%|##########| 6/6 [00:01<00:00,  5.56it/s]\n"
          ]
        },
        {
          "output_type": "stream",
          "name": "stdout",
          "text": [
            "Did not meet early stopping. Best iteration is:\n",
            "[100]\tTrain's rmse: 0.172516\tTest's rmse: 0.323839\n",
            "Training until validation scores don't improve for 50 rounds.\n",
            "Did not meet early stopping. Best iteration is:\n",
            "[100]\tTrain's rmse: 0.174406\tTest's rmse: 0.327976\n"
          ]
        },
        {
          "output_type": "stream",
          "name": "stderr",
          "text": [
            "regularization_factors, val_score: 0.323839:   5%|5         | 1/20 [00:00<00:03,  5.57it/s]\u001b[32m[I 2021-12-10 12:05:22,993]\u001b[0m Trial 43 finished with value: 0.32383900870569265 and parameters: {'lambda_l1': 8.205393351794076e-06, 'lambda_l2': 8.46945629599782e-05}. Best is trial 43 with value: 0.32383900870569265.\u001b[0m\n",
            "regularization_factors, val_score: 0.323839:   5%|5         | 1/20 [00:00<00:03,  5.57it/s]"
          ]
        },
        {
          "output_type": "stream",
          "name": "stdout",
          "text": [
            "Training until validation scores don't improve for 50 rounds.\n",
            "Did not meet early stopping. Best iteration is:\n",
            "[100]\tTrain's rmse: 0.172516\tTest's rmse: 0.323839\n",
            "Training until validation scores don't improve for 50 rounds.\n"
          ]
        },
        {
          "output_type": "stream",
          "name": "stderr",
          "text": [
            "regularization_factors, val_score: 0.323839:  10%|#         | 2/20 [00:00<00:03,  5.48it/s]\u001b[32m[I 2021-12-10 12:05:23,176]\u001b[0m Trial 44 finished with value: 0.32383901576083435 and parameters: {'lambda_l1': 7.832546249047149e-06, 'lambda_l2': 3.892649436197598e-06}. Best is trial 43 with value: 0.32383900870569265.\u001b[0m\n",
            "regularization_factors, val_score: 0.323839:  15%|#5        | 3/20 [00:00<00:03,  5.37it/s]"
          ]
        },
        {
          "output_type": "stream",
          "name": "stdout",
          "text": [
            "Did not meet early stopping. Best iteration is:\n",
            "[100]\tTrain's rmse: 0.172516\tTest's rmse: 0.323839\n",
            "Training until validation scores don't improve for 50 rounds.\n",
            "Did not meet early stopping. Best iteration is:\n",
            "[100]\tTrain's rmse: 0.172516\tTest's rmse: 0.323839\n"
          ]
        },
        {
          "output_type": "stream",
          "name": "stderr",
          "text": [
            "\u001b[32m[I 2021-12-10 12:05:23,365]\u001b[0m Trial 45 finished with value: 0.3238390088653721 and parameters: {'lambda_l1': 0.00011364463485096112, 'lambda_l2': 0.00037077020564552565}. Best is trial 43 with value: 0.32383900870569265.\u001b[0m\n",
            "regularization_factors, val_score: 0.323839:  20%|##        | 4/20 [00:00<00:03,  5.33it/s]\u001b[32m[I 2021-12-10 12:05:23,555]\u001b[0m Trial 46 finished with value: 0.32383898242775033 and parameters: {'lambda_l1': 3.1330404235112384e-05, 'lambda_l2': 0.0004435960887819453}. Best is trial 46 with value: 0.32383898242775033.\u001b[0m\n",
            "regularization_factors, val_score: 0.323839:  20%|##        | 4/20 [00:00<00:03,  5.33it/s]"
          ]
        },
        {
          "output_type": "stream",
          "name": "stdout",
          "text": [
            "Training until validation scores don't improve for 50 rounds.\n",
            "Did not meet early stopping. Best iteration is:\n",
            "[100]\tTrain's rmse: 0.172516\tTest's rmse: 0.323839\n",
            "Training until validation scores don't improve for 50 rounds.\n"
          ]
        },
        {
          "output_type": "stream",
          "name": "stderr",
          "text": [
            "regularization_factors, val_score: 0.323839:  25%|##5       | 5/20 [00:00<00:02,  5.29it/s]\u001b[32m[I 2021-12-10 12:05:23,747]\u001b[0m Trial 47 finished with value: 0.3238417111293816 and parameters: {'lambda_l1': 0.01113219232356974, 'lambda_l2': 8.120860038447486e-08}. Best is trial 46 with value: 0.32383898242775033.\u001b[0m\n",
            "regularization_factors, val_score: 0.323839:  30%|###       | 6/20 [00:01<00:02,  5.33it/s]\u001b[32m[I 2021-12-10 12:05:23,933]\u001b[0m Trial 48 finished with value: 0.32383900533469023 and parameters: {'lambda_l1': 8.549985286609241e-05, 'lambda_l2': 0.00033299527469886223}. Best is trial 46 with value: 0.32383898242775033.\u001b[0m\n",
            "regularization_factors, val_score: 0.323839:  30%|###       | 6/20 [00:01<00:02,  5.33it/s]"
          ]
        },
        {
          "output_type": "stream",
          "name": "stdout",
          "text": [
            "Did not meet early stopping. Best iteration is:\n",
            "[100]\tTrain's rmse: 0.172521\tTest's rmse: 0.323842\n",
            "Training until validation scores don't improve for 50 rounds.\n",
            "Did not meet early stopping. Best iteration is:\n",
            "[100]\tTrain's rmse: 0.172516\tTest's rmse: 0.323839\n"
          ]
        },
        {
          "output_type": "stream",
          "name": "stderr",
          "text": [
            "regularization_factors, val_score: 0.323839:  35%|###5      | 7/20 [00:01<00:02,  5.38it/s]\u001b[32m[I 2021-12-10 12:05:24,114]\u001b[0m Trial 49 finished with value: 0.3238390251744457 and parameters: {'lambda_l1': 4.4973491747609956e-05, 'lambda_l2': 1.8881804940906134e-07}. Best is trial 46 with value: 0.32383898242775033.\u001b[0m\n",
            "regularization_factors, val_score: 0.323839:  35%|###5      | 7/20 [00:01<00:02,  5.38it/s]"
          ]
        },
        {
          "output_type": "stream",
          "name": "stdout",
          "text": [
            "Training until validation scores don't improve for 50 rounds.\n",
            "Did not meet early stopping. Best iteration is:\n",
            "[100]\tTrain's rmse: 0.172516\tTest's rmse: 0.323839\n",
            "Training until validation scores don't improve for 50 rounds.\n"
          ]
        },
        {
          "output_type": "stream",
          "name": "stderr",
          "text": [
            "regularization_factors, val_score: 0.323839:  40%|####      | 8/20 [00:01<00:02,  5.28it/s]\u001b[32m[I 2021-12-10 12:05:24,313]\u001b[0m Trial 50 finished with value: 0.3238600470458861 and parameters: {'lambda_l1': 0.0997329973891626, 'lambda_l2': 0.0004412277852262617}. Best is trial 46 with value: 0.32383898242775033.\u001b[0m\n",
            "regularization_factors, val_score: 0.323839:  45%|####5     | 9/20 [00:01<00:02,  5.32it/s]\u001b[32m[I 2021-12-10 12:05:24,496]\u001b[0m Trial 51 finished with value: 0.32383901427456513 and parameters: {'lambda_l1': 3.304174423257405e-08, 'lambda_l2': 1.668081827780873e-07}. Best is trial 46 with value: 0.32383898242775033.\u001b[0m\n",
            "regularization_factors, val_score: 0.323839:  45%|####5     | 9/20 [00:01<00:02,  5.32it/s]"
          ]
        },
        {
          "output_type": "stream",
          "name": "stdout",
          "text": [
            "Did not meet early stopping. Best iteration is:\n",
            "[100]\tTrain's rmse: 0.17255\tTest's rmse: 0.32386\n",
            "Training until validation scores don't improve for 50 rounds.\n",
            "Did not meet early stopping. Best iteration is:\n",
            "[100]\tTrain's rmse: 0.172516\tTest's rmse: 0.323839\n"
          ]
        },
        {
          "output_type": "stream",
          "name": "stderr",
          "text": [
            "regularization_factors, val_score: 0.323839:  50%|#####     | 10/20 [00:01<00:01,  5.40it/s]\u001b[32m[I 2021-12-10 12:05:24,679]\u001b[0m Trial 52 finished with value: 0.32383900226484985 and parameters: {'lambda_l1': 1.2109369625127732e-06, 'lambda_l2': 0.0001381041433160105}. Best is trial 46 with value: 0.32383898242775033.\u001b[0m\n",
            "regularization_factors, val_score: 0.323839:  50%|#####     | 10/20 [00:01<00:01,  5.40it/s]"
          ]
        },
        {
          "output_type": "stream",
          "name": "stdout",
          "text": [
            "Training until validation scores don't improve for 50 rounds.\n",
            "Did not meet early stopping. Best iteration is:\n",
            "[100]\tTrain's rmse: 0.172516\tTest's rmse: 0.323839\n",
            "Training until validation scores don't improve for 50 rounds.\n"
          ]
        },
        {
          "output_type": "stream",
          "name": "stderr",
          "text": [
            "regularization_factors, val_score: 0.323839:  55%|#####5    | 11/20 [00:02<00:01,  5.25it/s]\u001b[32m[I 2021-12-10 12:05:24,877]\u001b[0m Trial 53 finished with value: 0.3301982419124359 and parameters: {'lambda_l1': 5.422525124474764, 'lambda_l2': 0.34470549356542185}. Best is trial 46 with value: 0.32383898242775033.\u001b[0m\n",
            "regularization_factors, val_score: 0.323839:  60%|######    | 12/20 [00:02<00:01,  5.33it/s]\u001b[32m[I 2021-12-10 12:05:25,058]\u001b[0m Trial 54 finished with value: 0.3268908656781183 and parameters: {'lambda_l1': 8.129955636064373e-08, 'lambda_l2': 0.19096870520188297}. Best is trial 46 with value: 0.32383898242775033.\u001b[0m\n",
            "regularization_factors, val_score: 0.323839:  60%|######    | 12/20 [00:02<00:01,  5.33it/s]"
          ]
        },
        {
          "output_type": "stream",
          "name": "stdout",
          "text": [
            "Did not meet early stopping. Best iteration is:\n",
            "[100]\tTrain's rmse: 0.174831\tTest's rmse: 0.330198\n",
            "Training until validation scores don't improve for 50 rounds.\n",
            "Did not meet early stopping. Best iteration is:\n",
            "[99]\tTrain's rmse: 0.174347\tTest's rmse: 0.326891\n"
          ]
        },
        {
          "output_type": "stream",
          "name": "stderr",
          "text": [
            "regularization_factors, val_score: 0.323838:  65%|######5   | 13/20 [00:02<00:01,  5.14it/s]\u001b[32m[I 2021-12-10 12:05:25,271]\u001b[0m Trial 55 finished with value: 0.3238376077925274 and parameters: {'lambda_l1': 5.932653147388231e-07, 'lambda_l2': 0.015845540951647284}. Best is trial 55 with value: 0.3238376077925274.\u001b[0m\n",
            "regularization_factors, val_score: 0.323838:  65%|######5   | 13/20 [00:02<00:01,  5.14it/s]"
          ]
        },
        {
          "output_type": "stream",
          "name": "stdout",
          "text": [
            "Training until validation scores don't improve for 50 rounds.\n",
            "Did not meet early stopping. Best iteration is:\n",
            "[100]\tTrain's rmse: 0.172518\tTest's rmse: 0.323838\n"
          ]
        },
        {
          "output_type": "stream",
          "name": "stderr",
          "text": [
            "regularization_factors, val_score: 0.323838:  70%|#######   | 14/20 [00:02<00:01,  5.19it/s]\u001b[32m[I 2021-12-10 12:05:25,460]\u001b[0m Trial 56 finished with value: 0.32795271581030705 and parameters: {'lambda_l1': 0.0023596636648754023, 'lambda_l2': 8.084574745890416}. Best is trial 55 with value: 0.3238376077925274.\u001b[0m\n",
            "regularization_factors, val_score: 0.323838:  70%|#######   | 14/20 [00:02<00:01,  5.19it/s]"
          ]
        },
        {
          "output_type": "stream",
          "name": "stdout",
          "text": [
            "Training until validation scores don't improve for 50 rounds.\n",
            "Did not meet early stopping. Best iteration is:\n",
            "[100]\tTrain's rmse: 0.173092\tTest's rmse: 0.327953\n",
            "Training until validation scores don't improve for 50 rounds.\n"
          ]
        },
        {
          "output_type": "stream",
          "name": "stderr",
          "text": [
            "regularization_factors, val_score: 0.323838:  75%|#######5  | 15/20 [00:02<00:00,  5.23it/s]\u001b[32m[I 2021-12-10 12:05:25,648]\u001b[0m Trial 57 finished with value: 0.32383824201046507 and parameters: {'lambda_l1': 4.442644749638095e-07, 'lambda_l2': 0.008698411220373554}. Best is trial 55 with value: 0.3238376077925274.\u001b[0m\n",
            "regularization_factors, val_score: 0.323838:  75%|#######5  | 15/20 [00:02<00:00,  5.23it/s]"
          ]
        },
        {
          "output_type": "stream",
          "name": "stdout",
          "text": [
            "Did not meet early stopping. Best iteration is:\n",
            "[100]\tTrain's rmse: 0.172517\tTest's rmse: 0.323838\n",
            "Training until validation scores don't improve for 50 rounds.\n"
          ]
        },
        {
          "output_type": "stream",
          "name": "stderr",
          "text": [
            "regularization_factors, val_score: 0.323837:  80%|########  | 16/20 [00:03<00:00,  5.09it/s]\u001b[32m[I 2021-12-10 12:05:25,855]\u001b[0m Trial 58 finished with value: 0.3238374653483406 and parameters: {'lambda_l1': 8.421492012715668e-07, 'lambda_l2': 0.01745297520108708}. Best is trial 58 with value: 0.3238374653483406.\u001b[0m\n",
            "regularization_factors, val_score: 0.323837:  85%|########5 | 17/20 [00:03<00:00,  5.16it/s]"
          ]
        },
        {
          "output_type": "stream",
          "name": "stdout",
          "text": [
            "Did not meet early stopping. Best iteration is:\n",
            "[100]\tTrain's rmse: 0.172518\tTest's rmse: 0.323837\n",
            "Training until validation scores don't improve for 50 rounds.\n",
            "Did not meet early stopping. Best iteration is:\n",
            "[100]\tTrain's rmse: 0.172517\tTest's rmse: 0.323838\n"
          ]
        },
        {
          "output_type": "stream",
          "name": "stderr",
          "text": [
            "\u001b[32m[I 2021-12-10 12:05:26,043]\u001b[0m Trial 59 finished with value: 0.32383812814168544 and parameters: {'lambda_l1': 1.613433682511789e-08, 'lambda_l2': 0.009979837516815087}. Best is trial 58 with value: 0.3238374653483406.\u001b[0m\n",
            "regularization_factors, val_score: 0.323837:  90%|######### | 18/20 [00:03<00:00,  5.23it/s]\u001b[32m[I 2021-12-10 12:05:26,228]\u001b[0m Trial 60 finished with value: 0.3238369546543461 and parameters: {'lambda_l1': 4.7670239658417717e-07, 'lambda_l2': 0.02320998583926585}. Best is trial 60 with value: 0.3238369546543461.\u001b[0m\n",
            "regularization_factors, val_score: 0.323837:  90%|######### | 18/20 [00:03<00:00,  5.23it/s]"
          ]
        },
        {
          "output_type": "stream",
          "name": "stdout",
          "text": [
            "Training until validation scores don't improve for 50 rounds.\n",
            "Did not meet early stopping. Best iteration is:\n",
            "[100]\tTrain's rmse: 0.172518\tTest's rmse: 0.323837\n",
            "Training until validation scores don't improve for 50 rounds.\n"
          ]
        },
        {
          "output_type": "stream",
          "name": "stderr",
          "text": [
            "regularization_factors, val_score: 0.323837:  95%|#########5| 19/20 [00:03<00:00,  5.24it/s]\u001b[32m[I 2021-12-10 12:05:26,419]\u001b[0m Trial 61 finished with value: 0.3269474656505234 and parameters: {'lambda_l1': 0.0008562342176430672, 'lambda_l2': 0.31483856534901156}. Best is trial 60 with value: 0.3238369546543461.\u001b[0m\n",
            "regularization_factors, val_score: 0.323837: 100%|##########| 20/20 [00:03<00:00,  5.24it/s]"
          ]
        },
        {
          "output_type": "stream",
          "name": "stdout",
          "text": [
            "Did not meet early stopping. Best iteration is:\n",
            "[99]\tTrain's rmse: 0.174371\tTest's rmse: 0.326947\n",
            "Training until validation scores don't improve for 50 rounds.\n",
            "Did not meet early stopping. Best iteration is:\n",
            "[100]\tTrain's rmse: 0.17306\tTest's rmse: 0.325375\n"
          ]
        },
        {
          "output_type": "stream",
          "name": "stderr",
          "text": [
            "\u001b[32m[I 2021-12-10 12:05:26,614]\u001b[0m Trial 62 finished with value: 0.3253753690563886 and parameters: {'lambda_l1': 2.340540676000211e-06, 'lambda_l2': 4.737933404470059}. Best is trial 60 with value: 0.3238369546543461.\u001b[0m\n",
            "regularization_factors, val_score: 0.323837: 100%|##########| 20/20 [00:03<00:00,  5.25it/s]\n",
            "min_data_in_leaf, val_score: 0.323837:  20%|##        | 1/5 [00:00<00:00,  5.68it/s]\u001b[32m[I 2021-12-10 12:05:26,815]\u001b[0m Trial 63 finished with value: 0.3365041028194362 and parameters: {'min_child_samples': 5}. Best is trial 63 with value: 0.3365041028194362.\u001b[0m\n",
            "min_data_in_leaf, val_score: 0.323837:  20%|##        | 1/5 [00:00<00:00,  5.68it/s]"
          ]
        },
        {
          "output_type": "stream",
          "name": "stdout",
          "text": [
            "Training until validation scores don't improve for 50 rounds.\n",
            "Did not meet early stopping. Best iteration is:\n",
            "[100]\tTrain's rmse: 0.148529\tTest's rmse: 0.336504\n",
            "Training until validation scores don't improve for 50 rounds.\n"
          ]
        },
        {
          "output_type": "stream",
          "name": "stderr",
          "text": [
            "min_data_in_leaf, val_score: 0.323837:  40%|####      | 2/5 [00:00<00:00,  5.37it/s]\u001b[32m[I 2021-12-10 12:05:27,009]\u001b[0m Trial 64 finished with value: 0.32974266615794057 and parameters: {'min_child_samples': 10}. Best is trial 64 with value: 0.32974266615794057.\u001b[0m\n",
            "min_data_in_leaf, val_score: 0.323837:  60%|######    | 3/5 [00:00<00:00,  5.52it/s]\u001b[32m[I 2021-12-10 12:05:27,183]\u001b[0m Trial 65 finished with value: 0.32871611688933733 and parameters: {'min_child_samples': 25}. Best is trial 65 with value: 0.32871611688933733.\u001b[0m\n",
            "min_data_in_leaf, val_score: 0.323837:  60%|######    | 3/5 [00:00<00:00,  5.52it/s]"
          ]
        },
        {
          "output_type": "stream",
          "name": "stdout",
          "text": [
            "Did not meet early stopping. Best iteration is:\n",
            "[100]\tTrain's rmse: 0.156076\tTest's rmse: 0.329743\n",
            "Training until validation scores don't improve for 50 rounds.\n",
            "Did not meet early stopping. Best iteration is:\n",
            "[100]\tTrain's rmse: 0.173186\tTest's rmse: 0.328716\n"
          ]
        },
        {
          "output_type": "stream",
          "name": "stderr",
          "text": [
            "min_data_in_leaf, val_score: 0.323837:  80%|########  | 4/5 [00:00<00:00,  5.44it/s]\u001b[32m[I 2021-12-10 12:05:27,377]\u001b[0m Trial 66 finished with value: 0.38043336647665543 and parameters: {'min_child_samples': 50}. Best is trial 65 with value: 0.32871611688933733.\u001b[0m\n",
            "min_data_in_leaf, val_score: 0.323837:  80%|########  | 4/5 [00:00<00:00,  5.44it/s]"
          ]
        },
        {
          "output_type": "stream",
          "name": "stdout",
          "text": [
            "Training until validation scores don't improve for 50 rounds.\n",
            "Did not meet early stopping. Best iteration is:\n",
            "[99]\tTrain's rmse: 0.23171\tTest's rmse: 0.380433\n",
            "Training until validation scores don't improve for 50 rounds.\n"
          ]
        },
        {
          "output_type": "stream",
          "name": "stderr",
          "text": [
            "min_data_in_leaf, val_score: 0.323837: 100%|##########| 5/5 [00:00<00:00,  5.42it/s]\u001b[32m[I 2021-12-10 12:05:27,557]\u001b[0m Trial 67 finished with value: 0.44555688912418356 and parameters: {'min_child_samples': 100}. Best is trial 65 with value: 0.32871611688933733.\u001b[0m\n",
            "min_data_in_leaf, val_score: 0.323837: 100%|##########| 5/5 [00:00<00:00,  5.40it/s]\n"
          ]
        },
        {
          "output_type": "stream",
          "name": "stdout",
          "text": [
            "Did not meet early stopping. Best iteration is:\n",
            "[100]\tTrain's rmse: 0.293306\tTest's rmse: 0.445557\n"
          ]
        },
        {
          "output_type": "display_data",
          "data": {
            "image/png": "[encoded data removed]",
            "text/plain": [
              "<Figure size 432x288 with 1 Axes>"
            ]
          },
          "metadata": {
            "needs_background": "light"
          }
        },
        {
          "output_type": "stream",
          "name": "stderr",
          "text": [
            "\u001b[32m[I 2021-12-10 12:05:27,784]\u001b[0m A new study created in memory with name: no-name-6819e9b1-4952-48a7-b899-759d541683ab\u001b[0m\n",
            "feature_fraction, val_score: inf:   0%|          | 0/7 [00:00<?, ?it/s]"
          ]
        },
        {
          "output_type": "stream",
          "name": "stdout",
          "text": [
            "Training until validation scores don't improve for 50 rounds.\n"
          ]
        },
        {
          "output_type": "stream",
          "name": "stderr",
          "text": [
            "feature_fraction, val_score: 0.107196:  14%|#4        | 1/7 [00:00<00:02,  2.13it/s]\u001b[32m[I 2021-12-10 12:05:28,265]\u001b[0m Trial 0 finished with value: 0.10719557951928363 and parameters: {'feature_fraction': 0.8}. Best is trial 0 with value: 0.10719557951928363.\u001b[0m\n",
            "feature_fraction, val_score: 0.107196:  14%|#4        | 1/7 [00:00<00:02,  2.13it/s]"
          ]
        },
        {
          "output_type": "stream",
          "name": "stdout",
          "text": [
            "Did not meet early stopping. Best iteration is:\n",
            "[100]\tTrain's rmse: 0.131381\tTest's rmse: 0.107196\n",
            "Training until validation scores don't improve for 50 rounds.\n"
          ]
        },
        {
          "output_type": "stream",
          "name": "stderr",
          "text": [
            "feature_fraction, val_score: 0.107196:  29%|##8       | 2/7 [00:00<00:02,  2.35it/s]\u001b[32m[I 2021-12-10 12:05:28,662]\u001b[0m Trial 1 finished with value: 0.13610145954023592 and parameters: {'feature_fraction': 0.5}. Best is trial 0 with value: 0.10719557951928363.\u001b[0m\n",
            "feature_fraction, val_score: 0.107196:  29%|##8       | 2/7 [00:00<00:02,  2.35it/s]"
          ]
        },
        {
          "output_type": "stream",
          "name": "stdout",
          "text": [
            "Did not meet early stopping. Best iteration is:\n",
            "[100]\tTrain's rmse: 0.133052\tTest's rmse: 0.136101\n",
            "Training until validation scores don't improve for 50 rounds.\n"
          ]
        },
        {
          "output_type": "stream",
          "name": "stderr",
          "text": [
            "feature_fraction, val_score: 0.107196:  43%|####2     | 3/7 [00:01<00:01,  2.17it/s]\u001b[32m[I 2021-12-10 12:05:29,167]\u001b[0m Trial 2 finished with value: 0.11199663372018694 and parameters: {'feature_fraction': 1.0}. Best is trial 0 with value: 0.10719557951928363.\u001b[0m\n",
            "feature_fraction, val_score: 0.107196:  43%|####2     | 3/7 [00:01<00:01,  2.17it/s]"
          ]
        },
        {
          "output_type": "stream",
          "name": "stdout",
          "text": [
            "Did not meet early stopping. Best iteration is:\n",
            "[100]\tTrain's rmse: 0.148628\tTest's rmse: 0.111997\n",
            "Training until validation scores don't improve for 50 rounds.\n"
          ]
        },
        {
          "output_type": "stream",
          "name": "stderr",
          "text": [
            "feature_fraction, val_score: 0.107196:  57%|#####7    | 4/7 [00:01<00:01,  2.12it/s]\u001b[32m[I 2021-12-10 12:05:29,651]\u001b[0m Trial 3 finished with value: 0.11007959705896872 and parameters: {'feature_fraction': 0.8999999999999999}. Best is trial 0 with value: 0.10719557951928363.\u001b[0m\n",
            "feature_fraction, val_score: 0.107196:  57%|#####7    | 4/7 [00:01<00:01,  2.12it/s]"
          ]
        },
        {
          "output_type": "stream",
          "name": "stdout",
          "text": [
            "Did not meet early stopping. Best iteration is:\n",
            "[100]\tTrain's rmse: 0.146464\tTest's rmse: 0.11008\n",
            "Training until validation scores don't improve for 50 rounds.\n"
          ]
        },
        {
          "output_type": "stream",
          "name": "stderr",
          "text": [
            "feature_fraction, val_score: 0.107196:  71%|#######1  | 5/7 [00:02<00:00,  2.34it/s]\u001b[32m[I 2021-12-10 12:05:30,004]\u001b[0m Trial 4 finished with value: 0.13951428268921193 and parameters: {'feature_fraction': 0.4}. Best is trial 0 with value: 0.10719557951928363.\u001b[0m\n",
            "feature_fraction, val_score: 0.107196:  71%|#######1  | 5/7 [00:02<00:00,  2.34it/s]"
          ]
        },
        {
          "output_type": "stream",
          "name": "stdout",
          "text": [
            "Did not meet early stopping. Best iteration is:\n",
            "[100]\tTrain's rmse: 0.140926\tTest's rmse: 0.139514\n",
            "Training until validation scores don't improve for 50 rounds.\n"
          ]
        },
        {
          "output_type": "stream",
          "name": "stderr",
          "text": [
            "feature_fraction, val_score: 0.107196:  86%|########5 | 6/7 [00:02<00:00,  2.27it/s]\u001b[32m[I 2021-12-10 12:05:30,465]\u001b[0m Trial 5 finished with value: 0.10971220492343477 and parameters: {'feature_fraction': 0.7}. Best is trial 0 with value: 0.10719557951928363.\u001b[0m\n",
            "feature_fraction, val_score: 0.107196:  86%|########5 | 6/7 [00:02<00:00,  2.27it/s]"
          ]
        },
        {
          "output_type": "stream",
          "name": "stdout",
          "text": [
            "Did not meet early stopping. Best iteration is:\n",
            "[100]\tTrain's rmse: 0.128728\tTest's rmse: 0.109712\n",
            "Training until validation scores don't improve for 50 rounds.\n"
          ]
        },
        {
          "output_type": "stream",
          "name": "stderr",
          "text": [
            "feature_fraction, val_score: 0.107196: 100%|##########| 7/7 [00:03<00:00,  2.32it/s]\u001b[32m[I 2021-12-10 12:05:30,881]\u001b[0m Trial 6 finished with value: 0.12471472614397411 and parameters: {'feature_fraction': 0.6}. Best is trial 0 with value: 0.10719557951928363.\u001b[0m\n",
            "feature_fraction, val_score: 0.107196: 100%|##########| 7/7 [00:03<00:00,  2.26it/s]\n"
          ]
        },
        {
          "output_type": "stream",
          "name": "stdout",
          "text": [
            "Did not meet early stopping. Best iteration is:\n",
            "[100]\tTrain's rmse: 0.131213\tTest's rmse: 0.124715\n"
          ]
        },
        {
          "output_type": "stream",
          "name": "stderr",
          "text": [
            "num_leaves, val_score: 0.107196:   0%|          | 0/20 [00:00<?, ?it/s]"
          ]
        },
        {
          "output_type": "stream",
          "name": "stdout",
          "text": [
            "Training until validation scores don't improve for 50 rounds.\n"
          ]
        },
        {
          "output_type": "stream",
          "name": "stderr",
          "text": [
            "num_leaves, val_score: 0.107196:   5%|5         | 1/20 [00:00<00:17,  1.08it/s]\u001b[32m[I 2021-12-10 12:05:31,826]\u001b[0m Trial 7 finished with value: 0.11194134969537957 and parameters: {'num_leaves': 94}. Best is trial 7 with value: 0.11194134969537957.\u001b[0m\n",
            "num_leaves, val_score: 0.107196:   5%|5         | 1/20 [00:00<00:17,  1.08it/s]"
          ]
        },
        {
          "output_type": "stream",
          "name": "stdout",
          "text": [
            "Did not meet early stopping. Best iteration is:\n",
            "[100]\tTrain's rmse: 0.135652\tTest's rmse: 0.111941\n",
            "Training until validation scores don't improve for 50 rounds.\n"
          ]
        },
        {
          "output_type": "stream",
          "name": "stderr",
          "text": [
            "num_leaves, val_score: 0.107196:  10%|#         | 2/20 [00:02<00:23,  1.29s/it]\u001b[32m[I 2021-12-10 12:05:33,373]\u001b[0m Trial 8 finished with value: 0.11288293271889294 and parameters: {'num_leaves': 197}. Best is trial 7 with value: 0.11194134969537957.\u001b[0m\n",
            "num_leaves, val_score: 0.107196:  10%|#         | 2/20 [00:02<00:23,  1.29s/it]"
          ]
        },
        {
          "output_type": "stream",
          "name": "stdout",
          "text": [
            "Did not meet early stopping. Best iteration is:\n",
            "[100]\tTrain's rmse: 0.129382\tTest's rmse: 0.112883\n",
            "Training until validation scores don't improve for 50 rounds.\n"
          ]
        },
        {
          "output_type": "stream",
          "name": "stderr",
          "text": [
            "num_leaves, val_score: 0.107196:  15%|#5        | 3/20 [00:03<00:21,  1.26s/it]\u001b[32m[I 2021-12-10 12:05:34,593]\u001b[0m Trial 9 finished with value: 0.11812515578989273 and parameters: {'num_leaves': 135}. Best is trial 7 with value: 0.11194134969537957.\u001b[0m\n",
            "num_leaves, val_score: 0.107196:  15%|#5        | 3/20 [00:03<00:21,  1.26s/it]"
          ]
        },
        {
          "output_type": "stream",
          "name": "stdout",
          "text": [
            "Did not meet early stopping. Best iteration is:\n",
            "[100]\tTrain's rmse: 0.128421\tTest's rmse: 0.118125\n",
            "Training until validation scores don't improve for 50 rounds.\n"
          ]
        },
        {
          "output_type": "stream",
          "name": "stderr",
          "text": [
            "num_leaves, val_score: 0.107196:  20%|##        | 4/20 [00:05<00:22,  1.39s/it]\u001b[32m[I 2021-12-10 12:05:36,174]\u001b[0m Trial 10 finished with value: 0.11573609575438225 and parameters: {'num_leaves': 206}. Best is trial 7 with value: 0.11194134969537957.\u001b[0m\n",
            "num_leaves, val_score: 0.107196:  20%|##        | 4/20 [00:05<00:22,  1.39s/it]"
          ]
        },
        {
          "output_type": "stream",
          "name": "stdout",
          "text": [
            "Did not meet early stopping. Best iteration is:\n",
            "[100]\tTrain's rmse: 0.136665\tTest's rmse: 0.115736\n",
            "Training until validation scores don't improve for 50 rounds.\n"
          ]
        },
        {
          "output_type": "stream",
          "name": "stderr",
          "text": [
            "num_leaves, val_score: 0.107196:  25%|##5       | 5/20 [00:05<00:17,  1.14s/it]\u001b[32m[I 2021-12-10 12:05:36,885]\u001b[0m Trial 11 finished with value: 0.11265179651536275 and parameters: {'num_leaves': 62}. Best is trial 7 with value: 0.11194134969537957.\u001b[0m\n",
            "num_leaves, val_score: 0.107196:  25%|##5       | 5/20 [00:05<00:17,  1.14s/it]"
          ]
        },
        {
          "output_type": "stream",
          "name": "stdout",
          "text": [
            "Did not meet early stopping. Best iteration is:\n",
            "[100]\tTrain's rmse: 0.13064\tTest's rmse: 0.112652\n",
            "Training until validation scores don't improve for 50 rounds.\n"
          ]
        },
        {
          "output_type": "stream",
          "name": "stderr",
          "text": [
            "num_leaves, val_score: 0.107196:  30%|###       | 6/20 [00:06<00:13,  1.00it/s]\u001b[32m[I 2021-12-10 12:05:37,596]\u001b[0m Trial 12 finished with value: 0.11265179651536275 and parameters: {'num_leaves': 62}. Best is trial 7 with value: 0.11194134969537957.\u001b[0m\n",
            "num_leaves, val_score: 0.107196:  30%|###       | 6/20 [00:06<00:13,  1.00it/s]"
          ]
        },
        {
          "output_type": "stream",
          "name": "stdout",
          "text": [
            "Did not meet early stopping. Best iteration is:\n",
            "[100]\tTrain's rmse: 0.13064\tTest's rmse: 0.112652\n",
            "Training until validation scores don't improve for 50 rounds.\n"
          ]
        },
        {
          "output_type": "stream",
          "name": "stderr",
          "text": [
            "num_leaves, val_score: 0.106676:  35%|###5      | 7/20 [00:07<00:10,  1.19it/s]\u001b[32m[I 2021-12-10 12:05:38,113]\u001b[0m Trial 13 finished with value: 0.10667559381339069 and parameters: {'num_leaves': 39}. Best is trial 13 with value: 0.10667559381339069.\u001b[0m\n",
            "num_leaves, val_score: 0.106676:  35%|###5      | 7/20 [00:07<00:10,  1.19it/s]"
          ]
        },
        {
          "output_type": "stream",
          "name": "stdout",
          "text": [
            "Did not meet early stopping. Best iteration is:\n",
            "[100]\tTrain's rmse: 0.131066\tTest's rmse: 0.106676\n",
            "Training until validation scores don't improve for 50 rounds.\n"
          ]
        },
        {
          "output_type": "stream",
          "name": "stderr",
          "text": [
            "num_leaves, val_score: 0.106676:  40%|####      | 8/20 [00:08<00:13,  1.11s/it]\u001b[32m[I 2021-12-10 12:05:39,801]\u001b[0m Trial 14 finished with value: 0.11520343401506149 and parameters: {'num_leaves': 222}. Best is trial 13 with value: 0.10667559381339069.\u001b[0m\n",
            "num_leaves, val_score: 0.106676:  40%|####      | 8/20 [00:08<00:13,  1.11s/it]"
          ]
        },
        {
          "output_type": "stream",
          "name": "stdout",
          "text": [
            "Did not meet early stopping. Best iteration is:\n",
            "[100]\tTrain's rmse: 0.136528\tTest's rmse: 0.115203\n",
            "Training until validation scores don't improve for 50 rounds.\n"
          ]
        },
        {
          "output_type": "stream",
          "name": "stderr",
          "text": [
            "num_leaves, val_score: 0.106676:  45%|####5     | 9/20 [00:10<00:14,  1.34s/it]\u001b[32m[I 2021-12-10 12:05:41,646]\u001b[0m Trial 15 finished with value: 0.1174744784365156 and parameters: {'num_leaves': 253}. Best is trial 13 with value: 0.10667559381339069.\u001b[0m\n",
            "num_leaves, val_score: 0.106676:  45%|####5     | 9/20 [00:10<00:14,  1.34s/it]"
          ]
        },
        {
          "output_type": "stream",
          "name": "stdout",
          "text": [
            "Did not meet early stopping. Best iteration is:\n",
            "[100]\tTrain's rmse: 0.136922\tTest's rmse: 0.117474\n",
            "Training until validation scores don't improve for 50 rounds.\n"
          ]
        },
        {
          "output_type": "stream",
          "name": "stderr",
          "text": [
            "num_leaves, val_score: 0.106676:  50%|#####     | 10/20 [00:12<00:13,  1.35s/it]\u001b[32m[I 2021-12-10 12:05:43,024]\u001b[0m Trial 16 finished with value: 0.11332648701511704 and parameters: {'num_leaves': 166}. Best is trial 13 with value: 0.10667559381339069.\u001b[0m\n",
            "num_leaves, val_score: 0.106676:  50%|#####     | 10/20 [00:12<00:13,  1.35s/it]"
          ]
        },
        {
          "output_type": "stream",
          "name": "stdout",
          "text": [
            "Did not meet early stopping. Best iteration is:\n",
            "[100]\tTrain's rmse: 0.13102\tTest's rmse: 0.113326\n",
            "Training until validation scores don't improve for 50 rounds.\n"
          ]
        },
        {
          "output_type": "stream",
          "name": "stderr",
          "text": [
            "num_leaves, val_score: 0.106676:  55%|#####5    | 11/20 [00:12<00:09,  1.01s/it]\u001b[32m[I 2021-12-10 12:05:43,261]\u001b[0m Trial 17 finished with value: 0.10955751390307453 and parameters: {'num_leaves': 8}. Best is trial 13 with value: 0.10667559381339069.\u001b[0m\n",
            "num_leaves, val_score: 0.106676:  55%|#####5    | 11/20 [00:12<00:09,  1.01s/it]"
          ]
        },
        {
          "output_type": "stream",
          "name": "stdout",
          "text": [
            "Did not meet early stopping. Best iteration is:\n",
            "[100]\tTrain's rmse: 0.137528\tTest's rmse: 0.109558\n",
            "Training until validation scores don't improve for 50 rounds.\n"
          ]
        },
        {
          "output_type": "stream",
          "name": "stderr",
          "text": [
            "num_leaves, val_score: 0.106676:  60%|######    | 12/20 [00:12<00:06,  1.28it/s]\u001b[32m[I 2021-12-10 12:05:43,518]\u001b[0m Trial 18 finished with value: 0.11308222184900267 and parameters: {'num_leaves': 9}. Best is trial 13 with value: 0.10667559381339069.\u001b[0m\n",
            "num_leaves, val_score: 0.106676:  60%|######    | 12/20 [00:12<00:06,  1.28it/s]"
          ]
        },
        {
          "output_type": "stream",
          "name": "stdout",
          "text": [
            "Did not meet early stopping. Best iteration is:\n",
            "[100]\tTrain's rmse: 0.133801\tTest's rmse: 0.113082\n",
            "Training until validation scores don't improve for 50 rounds.\n"
          ]
        },
        {
          "output_type": "stream",
          "name": "stderr",
          "text": [
            "num_leaves, val_score: 0.106676:  65%|######5   | 13/20 [00:12<00:04,  1.65it/s]\u001b[32m[I 2021-12-10 12:05:43,724]\u001b[0m Trial 19 finished with value: 0.11627668577653559 and parameters: {'num_leaves': 4}. Best is trial 13 with value: 0.10667559381339069.\u001b[0m\n",
            "num_leaves, val_score: 0.106676:  65%|######5   | 13/20 [00:12<00:04,  1.65it/s]"
          ]
        },
        {
          "output_type": "stream",
          "name": "stdout",
          "text": [
            "Did not meet early stopping. Best iteration is:\n",
            "[100]\tTrain's rmse: 0.180307\tTest's rmse: 0.116277\n",
            "Training until validation scores don't improve for 50 rounds.\n"
          ]
        },
        {
          "output_type": "stream",
          "name": "stderr",
          "text": [
            "num_leaves, val_score: 0.106676:  70%|#######   | 14/20 [00:13<00:03,  1.66it/s]\u001b[32m[I 2021-12-10 12:05:44,313]\u001b[0m Trial 20 finished with value: 0.11144286506999754 and parameters: {'num_leaves': 47}. Best is trial 13 with value: 0.10667559381339069.\u001b[0m\n",
            "num_leaves, val_score: 0.106676:  70%|#######   | 14/20 [00:13<00:03,  1.66it/s]"
          ]
        },
        {
          "output_type": "stream",
          "name": "stdout",
          "text": [
            "Did not meet early stopping. Best iteration is:\n",
            "[100]\tTrain's rmse: 0.127994\tTest's rmse: 0.111443\n",
            "Training until validation scores don't improve for 50 rounds.\n"
          ]
        },
        {
          "output_type": "stream",
          "name": "stderr",
          "text": [
            "num_leaves, val_score: 0.101216:  75%|#######5  | 15/20 [00:13<00:02,  1.74it/s]\u001b[32m[I 2021-12-10 12:05:44,826]\u001b[0m Trial 21 finished with value: 0.10121648881087845 and parameters: {'num_leaves': 34}. Best is trial 21 with value: 0.10121648881087845.\u001b[0m\n",
            "num_leaves, val_score: 0.101216:  75%|#######5  | 15/20 [00:13<00:02,  1.74it/s]"
          ]
        },
        {
          "output_type": "stream",
          "name": "stdout",
          "text": [
            "Did not meet early stopping. Best iteration is:\n",
            "[100]\tTrain's rmse: 0.131004\tTest's rmse: 0.101216\n",
            "Training until validation scores don't improve for 50 rounds.\n"
          ]
        },
        {
          "output_type": "stream",
          "name": "stderr",
          "text": [
            "num_leaves, val_score: 0.101216:  80%|########  | 16/20 [00:14<00:02,  1.43it/s]\u001b[32m[I 2021-12-10 12:05:45,817]\u001b[0m Trial 22 finished with value: 0.11213485257708249 and parameters: {'num_leaves': 103}. Best is trial 21 with value: 0.10121648881087845.\u001b[0m\n",
            "num_leaves, val_score: 0.101216:  80%|########  | 16/20 [00:14<00:02,  1.43it/s]"
          ]
        },
        {
          "output_type": "stream",
          "name": "stdout",
          "text": [
            "Did not meet early stopping. Best iteration is:\n",
            "[100]\tTrain's rmse: 0.129507\tTest's rmse: 0.112135\n",
            "Training until validation scores don't improve for 50 rounds.\n"
          ]
        },
        {
          "output_type": "stream",
          "name": "stderr",
          "text": [
            "num_leaves, val_score: 0.101216:  85%|########5 | 17/20 [00:15<00:01,  1.53it/s]\u001b[32m[I 2021-12-10 12:05:46,371]\u001b[0m Trial 23 finished with value: 0.10893527067107331 and parameters: {'num_leaves': 40}. Best is trial 21 with value: 0.10121648881087845.\u001b[0m\n",
            "num_leaves, val_score: 0.101216:  85%|########5 | 17/20 [00:15<00:01,  1.53it/s]"
          ]
        },
        {
          "output_type": "stream",
          "name": "stdout",
          "text": [
            "Did not meet early stopping. Best iteration is:\n",
            "[100]\tTrain's rmse: 0.12741\tTest's rmse: 0.108935\n",
            "Training until validation scores don't improve for 50 rounds.\n"
          ]
        },
        {
          "output_type": "stream",
          "name": "stderr",
          "text": [
            "num_leaves, val_score: 0.101216:  90%|######### | 18/20 [00:16<00:01,  1.32it/s]\u001b[32m[I 2021-12-10 12:05:47,374]\u001b[0m Trial 24 finished with value: 0.10704816301872543 and parameters: {'num_leaves': 98}. Best is trial 21 with value: 0.10121648881087845.\u001b[0m\n",
            "num_leaves, val_score: 0.101216:  90%|######### | 18/20 [00:16<00:01,  1.32it/s]"
          ]
        },
        {
          "output_type": "stream",
          "name": "stdout",
          "text": [
            "Did not meet early stopping. Best iteration is:\n",
            "[100]\tTrain's rmse: 0.130478\tTest's rmse: 0.107048\n",
            "Training until validation scores don't improve for 50 rounds.\n"
          ]
        },
        {
          "output_type": "stream",
          "name": "stderr",
          "text": [
            "num_leaves, val_score: 0.101216:  95%|#########5| 19/20 [00:17<00:00,  1.44it/s]\u001b[32m[I 2021-12-10 12:05:47,911]\u001b[0m Trial 25 finished with value: 0.10676335269183992 and parameters: {'num_leaves': 36}. Best is trial 21 with value: 0.10121648881087845.\u001b[0m\n",
            "num_leaves, val_score: 0.101216:  95%|#########5| 19/20 [00:17<00:00,  1.44it/s]"
          ]
        },
        {
          "output_type": "stream",
          "name": "stdout",
          "text": [
            "Did not meet early stopping. Best iteration is:\n",
            "[100]\tTrain's rmse: 0.130188\tTest's rmse: 0.106763\n",
            "Training until validation scores don't improve for 50 rounds.\n"
          ]
        },
        {
          "output_type": "stream",
          "name": "stderr",
          "text": [
            "num_leaves, val_score: 0.101216: 100%|##########| 20/20 [00:18<00:00,  1.14it/s]\u001b[32m[I 2021-12-10 12:05:49,214]\u001b[0m Trial 26 finished with value: 0.1150499470061745 and parameters: {'num_leaves': 145}. Best is trial 21 with value: 0.10121648881087845.\u001b[0m\n",
            "num_leaves, val_score: 0.101216: 100%|##########| 20/20 [00:18<00:00,  1.09it/s]\n"
          ]
        },
        {
          "output_type": "stream",
          "name": "stdout",
          "text": [
            "Did not meet early stopping. Best iteration is:\n",
            "[100]\tTrain's rmse: 0.129581\tTest's rmse: 0.11505\n"
          ]
        },
        {
          "output_type": "stream",
          "name": "stderr",
          "text": [
            "bagging, val_score: 0.101216:   0%|          | 0/10 [00:00<?, ?it/s]"
          ]
        },
        {
          "output_type": "stream",
          "name": "stdout",
          "text": [
            "Training until validation scores don't improve for 50 rounds.\n"
          ]
        },
        {
          "output_type": "stream",
          "name": "stderr",
          "text": [
            "bagging, val_score: 0.101216:  10%|#         | 1/10 [00:00<00:04,  1.96it/s]\u001b[32m[I 2021-12-10 12:05:49,754]\u001b[0m Trial 27 finished with value: 0.11376588024281022 and parameters: {'bagging_fraction': 0.7987975482061389, 'bagging_freq': 1}. Best is trial 27 with value: 0.11376588024281022.\u001b[0m\n",
            "bagging, val_score: 0.101216:  10%|#         | 1/10 [00:00<00:04,  1.96it/s]"
          ]
        },
        {
          "output_type": "stream",
          "name": "stdout",
          "text": [
            "Did not meet early stopping. Best iteration is:\n",
            "[100]\tTrain's rmse: 0.157226\tTest's rmse: 0.113766\n",
            "Training until validation scores don't improve for 50 rounds.\n"
          ]
        },
        {
          "output_type": "stream",
          "name": "stderr",
          "text": [
            "bagging, val_score: 0.101216:  20%|##        | 2/10 [00:01<00:04,  1.85it/s]\u001b[32m[I 2021-12-10 12:05:50,329]\u001b[0m Trial 28 finished with value: 0.11585696190138754 and parameters: {'bagging_fraction': 0.7677484880478538, 'bagging_freq': 3}. Best is trial 27 with value: 0.11376588024281022.\u001b[0m\n",
            "bagging, val_score: 0.101216:  20%|##        | 2/10 [00:01<00:04,  1.85it/s]"
          ]
        },
        {
          "output_type": "stream",
          "name": "stdout",
          "text": [
            "Did not meet early stopping. Best iteration is:\n",
            "[100]\tTrain's rmse: 0.161627\tTest's rmse: 0.115857\n",
            "Training until validation scores don't improve for 50 rounds.\n"
          ]
        },
        {
          "output_type": "stream",
          "name": "stderr",
          "text": [
            "bagging, val_score: 0.101216:  30%|###       | 3/10 [00:01<00:03,  1.87it/s]\u001b[32m[I 2021-12-10 12:05:50,847]\u001b[0m Trial 29 finished with value: 0.11498103366456207 and parameters: {'bagging_fraction': 0.5929658220298406, 'bagging_freq': 1}. Best is trial 27 with value: 0.11376588024281022.\u001b[0m\n",
            "bagging, val_score: 0.101216:  30%|###       | 3/10 [00:01<00:03,  1.87it/s]"
          ]
        },
        {
          "output_type": "stream",
          "name": "stdout",
          "text": [
            "Did not meet early stopping. Best iteration is:\n",
            "[100]\tTrain's rmse: 0.173792\tTest's rmse: 0.114981\n",
            "Training until validation scores don't improve for 50 rounds.\n"
          ]
        },
        {
          "output_type": "stream",
          "name": "stderr",
          "text": [
            "bagging, val_score: 0.101216:  40%|####      | 4/10 [00:02<00:03,  1.90it/s]\u001b[32m[I 2021-12-10 12:05:51,358]\u001b[0m Trial 30 finished with value: 0.11358818948323342 and parameters: {'bagging_fraction': 0.9998616048983319, 'bagging_freq': 1}. Best is trial 30 with value: 0.11358818948323342.\u001b[0m\n",
            "bagging, val_score: 0.101216:  40%|####      | 4/10 [00:02<00:03,  1.90it/s]"
          ]
        },
        {
          "output_type": "stream",
          "name": "stdout",
          "text": [
            "Did not meet early stopping. Best iteration is:\n",
            "[100]\tTrain's rmse: 0.132901\tTest's rmse: 0.113588\n",
            "Training until validation scores don't improve for 50 rounds.\n"
          ]
        },
        {
          "output_type": "stream",
          "name": "stderr",
          "text": [
            "bagging, val_score: 0.101216:  50%|#####     | 5/10 [00:02<00:02,  1.91it/s]\u001b[32m[I 2021-12-10 12:05:51,879]\u001b[0m Trial 31 finished with value: 0.11584614472812002 and parameters: {'bagging_fraction': 0.7586929137969405, 'bagging_freq': 1}. Best is trial 30 with value: 0.11358818948323342.\u001b[0m\n",
            "bagging, val_score: 0.101216:  50%|#####     | 5/10 [00:02<00:02,  1.91it/s]"
          ]
        },
        {
          "output_type": "stream",
          "name": "stdout",
          "text": [
            "Did not meet early stopping. Best iteration is:\n",
            "[100]\tTrain's rmse: 0.1585\tTest's rmse: 0.115846\n",
            "Training until validation scores don't improve for 50 rounds.\n"
          ]
        },
        {
          "output_type": "stream",
          "name": "stderr",
          "text": [
            "bagging, val_score: 0.101216:  60%|######    | 6/10 [00:03<00:02,  1.88it/s]\u001b[32m[I 2021-12-10 12:05:52,422]\u001b[0m Trial 32 finished with value: 0.11066697709750964 and parameters: {'bagging_fraction': 0.9434268119081751, 'bagging_freq': 5}. Best is trial 32 with value: 0.11066697709750964.\u001b[0m\n",
            "bagging, val_score: 0.101216:  60%|######    | 6/10 [00:03<00:02,  1.88it/s]"
          ]
        },
        {
          "output_type": "stream",
          "name": "stdout",
          "text": [
            "Did not meet early stopping. Best iteration is:\n",
            "[100]\tTrain's rmse: 0.144787\tTest's rmse: 0.110667\n",
            "Training until validation scores don't improve for 50 rounds.\n"
          ]
        },
        {
          "output_type": "stream",
          "name": "stderr",
          "text": [
            "bagging, val_score: 0.101216:  70%|#######   | 7/10 [00:03<00:01,  1.84it/s]\u001b[32m[I 2021-12-10 12:05:52,988]\u001b[0m Trial 33 finished with value: 0.109627706261407 and parameters: {'bagging_fraction': 0.9519866591183616, 'bagging_freq': 7}. Best is trial 33 with value: 0.109627706261407.\u001b[0m\n",
            "bagging, val_score: 0.101216:  70%|#######   | 7/10 [00:03<00:01,  1.84it/s]"
          ]
        },
        {
          "output_type": "stream",
          "name": "stdout",
          "text": [
            "Did not meet early stopping. Best iteration is:\n",
            "[100]\tTrain's rmse: 0.140844\tTest's rmse: 0.109628\n",
            "Training until validation scores don't improve for 50 rounds.\n"
          ]
        },
        {
          "output_type": "stream",
          "name": "stderr",
          "text": [
            "bagging, val_score: 0.101216:  80%|########  | 8/10 [00:04<00:01,  1.83it/s]\u001b[32m[I 2021-12-10 12:05:53,543]\u001b[0m Trial 34 finished with value: 0.1232425628671792 and parameters: {'bagging_fraction': 0.6871294310354634, 'bagging_freq': 7}. Best is trial 33 with value: 0.109627706261407.\u001b[0m\n",
            "bagging, val_score: 0.101216:  80%|########  | 8/10 [00:04<00:01,  1.83it/s]"
          ]
        },
        {
          "output_type": "stream",
          "name": "stdout",
          "text": [
            "Did not meet early stopping. Best iteration is:\n",
            "[100]\tTrain's rmse: 0.17064\tTest's rmse: 0.123243\n",
            "Training until validation scores don't improve for 50 rounds.\n"
          ]
        },
        {
          "output_type": "stream",
          "name": "stderr",
          "text": [
            "bagging, val_score: 0.101216:  90%|######### | 9/10 [00:04<00:00,  1.82it/s]\u001b[32m[I 2021-12-10 12:05:54,102]\u001b[0m Trial 35 finished with value: 0.12180348382133617 and parameters: {'bagging_fraction': 0.6243371179812971, 'bagging_freq': 2}. Best is trial 33 with value: 0.109627706261407.\u001b[0m\n",
            "bagging, val_score: 0.101216:  90%|######### | 9/10 [00:04<00:00,  1.82it/s]"
          ]
        },
        {
          "output_type": "stream",
          "name": "stdout",
          "text": [
            "Did not meet early stopping. Best iteration is:\n",
            "[100]\tTrain's rmse: 0.172749\tTest's rmse: 0.121803\n",
            "Training until validation scores don't improve for 50 rounds.\n"
          ]
        },
        {
          "output_type": "stream",
          "name": "stderr",
          "text": [
            "bagging, val_score: 0.101216: 100%|##########| 10/10 [00:05<00:00,  1.87it/s]\u001b[32m[I 2021-12-10 12:05:54,606]\u001b[0m Trial 36 finished with value: 0.1142848209064688 and parameters: {'bagging_fraction': 0.47239453290970457, 'bagging_freq': 1}. Best is trial 33 with value: 0.109627706261407.\u001b[0m\n",
            "bagging, val_score: 0.101216: 100%|##########| 10/10 [00:05<00:00,  1.86it/s]\n"
          ]
        },
        {
          "output_type": "stream",
          "name": "stdout",
          "text": [
            "Early stopping, best iteration is:\n",
            "[44]\tTrain's rmse: 0.203509\tTest's rmse: 0.114285\n"
          ]
        },
        {
          "output_type": "stream",
          "name": "stderr",
          "text": [
            "feature_fraction_stage2, val_score: 0.101216:   0%|          | 0/6 [00:00<?, ?it/s]"
          ]
        },
        {
          "output_type": "stream",
          "name": "stdout",
          "text": [
            "Training until validation scores don't improve for 50 rounds.\n"
          ]
        },
        {
          "output_type": "stream",
          "name": "stderr",
          "text": [
            "feature_fraction_stage2, val_score: 0.101216:  17%|#6        | 1/6 [00:00<00:02,  2.13it/s]\u001b[32m[I 2021-12-10 12:05:55,102]\u001b[0m Trial 37 finished with value: 0.11111901910983236 and parameters: {'feature_fraction': 0.7200000000000001}. Best is trial 37 with value: 0.11111901910983236.\u001b[0m\n",
            "feature_fraction_stage2, val_score: 0.101216:  17%|#6        | 1/6 [00:00<00:02,  2.13it/s]"
          ]
        },
        {
          "output_type": "stream",
          "name": "stdout",
          "text": [
            "Did not meet early stopping. Best iteration is:\n",
            "[100]\tTrain's rmse: 0.128516\tTest's rmse: 0.111119\n",
            "Training until validation scores don't improve for 50 rounds.\n"
          ]
        },
        {
          "output_type": "stream",
          "name": "stderr",
          "text": [
            "feature_fraction_stage2, val_score: 0.101216:  33%|###3      | 2/6 [00:00<00:01,  2.11it/s]\u001b[32m[I 2021-12-10 12:05:55,582]\u001b[0m Trial 38 finished with value: 0.1025918027595599 and parameters: {'feature_fraction': 0.784}. Best is trial 38 with value: 0.1025918027595599.\u001b[0m\n",
            "feature_fraction_stage2, val_score: 0.101216:  33%|###3      | 2/6 [00:00<00:01,  2.11it/s]"
          ]
        },
        {
          "output_type": "stream",
          "name": "stdout",
          "text": [
            "Did not meet early stopping. Best iteration is:\n",
            "[100]\tTrain's rmse: 0.128475\tTest's rmse: 0.102592\n",
            "Training until validation scores don't improve for 50 rounds.\n"
          ]
        },
        {
          "output_type": "stream",
          "name": "stderr",
          "text": [
            "feature_fraction_stage2, val_score: 0.101216:  50%|#####     | 3/6 [00:01<00:01,  1.98it/s]\u001b[32m[I 2021-12-10 12:05:56,122]\u001b[0m Trial 39 finished with value: 0.10248079103151043 and parameters: {'feature_fraction': 0.88}. Best is trial 39 with value: 0.10248079103151043.\u001b[0m\n",
            "feature_fraction_stage2, val_score: 0.101216:  50%|#####     | 3/6 [00:01<00:01,  1.98it/s]"
          ]
        },
        {
          "output_type": "stream",
          "name": "stdout",
          "text": [
            "Did not meet early stopping. Best iteration is:\n",
            "[100]\tTrain's rmse: 0.133595\tTest's rmse: 0.102481\n",
            "Training until validation scores don't improve for 50 rounds.\n"
          ]
        },
        {
          "output_type": "stream",
          "name": "stderr",
          "text": [
            "feature_fraction_stage2, val_score: 0.101216:  67%|######6   | 4/6 [00:01<00:01,  1.97it/s]\u001b[32m[I 2021-12-10 12:05:56,630]\u001b[0m Trial 40 finished with value: 0.10121648881087845 and parameters: {'feature_fraction': 0.8160000000000001}. Best is trial 40 with value: 0.10121648881087845.\u001b[0m\n",
            "feature_fraction_stage2, val_score: 0.101216:  67%|######6   | 4/6 [00:02<00:01,  1.97it/s]"
          ]
        },
        {
          "output_type": "stream",
          "name": "stdout",
          "text": [
            "Did not meet early stopping. Best iteration is:\n",
            "[100]\tTrain's rmse: 0.131004\tTest's rmse: 0.101216\n",
            "Training until validation scores don't improve for 50 rounds.\n"
          ]
        },
        {
          "output_type": "stream",
          "name": "stderr",
          "text": [
            "feature_fraction_stage2, val_score: 0.101216:  83%|########3 | 5/6 [00:02<00:00,  1.96it/s]\u001b[32m[I 2021-12-10 12:05:57,150]\u001b[0m Trial 41 finished with value: 0.10121648881087845 and parameters: {'feature_fraction': 0.8480000000000001}. Best is trial 40 with value: 0.10121648881087845.\u001b[0m\n",
            "feature_fraction_stage2, val_score: 0.101216:  83%|########3 | 5/6 [00:02<00:00,  1.96it/s]"
          ]
        },
        {
          "output_type": "stream",
          "name": "stdout",
          "text": [
            "Did not meet early stopping. Best iteration is:\n",
            "[100]\tTrain's rmse: 0.131004\tTest's rmse: 0.101216\n",
            "Training until validation scores don't improve for 50 rounds.\n"
          ]
        },
        {
          "output_type": "stream",
          "name": "stderr",
          "text": [
            "feature_fraction_stage2, val_score: 0.101216: 100%|##########| 6/6 [00:02<00:00,  2.00it/s]\u001b[32m[I 2021-12-10 12:05:57,620]\u001b[0m Trial 42 finished with value: 0.1025918027595599 and parameters: {'feature_fraction': 0.7520000000000001}. Best is trial 40 with value: 0.10121648881087845.\u001b[0m\n",
            "feature_fraction_stage2, val_score: 0.101216: 100%|##########| 6/6 [00:03<00:00,  2.00it/s]\n"
          ]
        },
        {
          "output_type": "stream",
          "name": "stdout",
          "text": [
            "Did not meet early stopping. Best iteration is:\n",
            "[100]\tTrain's rmse: 0.128475\tTest's rmse: 0.102592\n"
          ]
        },
        {
          "output_type": "stream",
          "name": "stderr",
          "text": [
            "regularization_factors, val_score: 0.101216:   0%|          | 0/20 [00:00<?, ?it/s]"
          ]
        },
        {
          "output_type": "stream",
          "name": "stdout",
          "text": [
            "Training until validation scores don't improve for 50 rounds.\n"
          ]
        },
        {
          "output_type": "stream",
          "name": "stderr",
          "text": [
            "regularization_factors, val_score: 0.101216:   5%|5         | 1/20 [00:00<00:10,  1.89it/s]\u001b[32m[I 2021-12-10 12:05:58,172]\u001b[0m Trial 43 finished with value: 0.101216489058805 and parameters: {'lambda_l1': 3.6697539140524526e-07, 'lambda_l2': 6.088856393413117e-07}. Best is trial 43 with value: 0.101216489058805.\u001b[0m\n",
            "regularization_factors, val_score: 0.101216:   5%|5         | 1/20 [00:00<00:10,  1.89it/s]"
          ]
        },
        {
          "output_type": "stream",
          "name": "stdout",
          "text": [
            "Did not meet early stopping. Best iteration is:\n",
            "[100]\tTrain's rmse: 0.131004\tTest's rmse: 0.101216\n",
            "Training until validation scores don't improve for 50 rounds.\n"
          ]
        },
        {
          "output_type": "stream",
          "name": "stderr",
          "text": [
            "regularization_factors, val_score: 0.101216:  10%|#         | 2/20 [00:01<00:09,  1.96it/s]\u001b[32m[I 2021-12-10 12:05:58,677]\u001b[0m Trial 44 finished with value: 0.1064375398695191 and parameters: {'lambda_l1': 3.8204616762197796e-07, 'lambda_l2': 0.00027735043937983427}. Best is trial 43 with value: 0.101216489058805.\u001b[0m\n",
            "regularization_factors, val_score: 0.101216:  10%|#         | 2/20 [00:01<00:09,  1.96it/s]"
          ]
        },
        {
          "output_type": "stream",
          "name": "stdout",
          "text": [
            "Did not meet early stopping. Best iteration is:\n",
            "[100]\tTrain's rmse: 0.131443\tTest's rmse: 0.106438\n",
            "Training until validation scores don't improve for 50 rounds.\n"
          ]
        },
        {
          "output_type": "stream",
          "name": "stderr",
          "text": [
            "regularization_factors, val_score: 0.101216:  15%|#5        | 3/20 [00:01<00:08,  1.91it/s]\u001b[32m[I 2021-12-10 12:05:59,209]\u001b[0m Trial 45 finished with value: 0.10121649005874755 and parameters: {'lambda_l1': 1.1055847541937097e-08, 'lambda_l2': 2.4996660121493796e-05}. Best is trial 43 with value: 0.101216489058805.\u001b[0m\n",
            "regularization_factors, val_score: 0.101216:  15%|#5        | 3/20 [00:01<00:08,  1.91it/s]"
          ]
        },
        {
          "output_type": "stream",
          "name": "stdout",
          "text": [
            "Did not meet early stopping. Best iteration is:\n",
            "[100]\tTrain's rmse: 0.131004\tTest's rmse: 0.101216\n",
            "Training until validation scores don't improve for 50 rounds.\n"
          ]
        },
        {
          "output_type": "stream",
          "name": "stderr",
          "text": [
            "regularization_factors, val_score: 0.101216:  20%|##        | 4/20 [00:02<00:08,  1.93it/s]\u001b[32m[I 2021-12-10 12:05:59,719]\u001b[0m Trial 46 finished with value: 0.10683932977384737 and parameters: {'lambda_l1': 0.0004217524997172959, 'lambda_l2': 0.0005253969298592222}. Best is trial 43 with value: 0.101216489058805.\u001b[0m\n",
            "regularization_factors, val_score: 0.101216:  20%|##        | 4/20 [00:02<00:08,  1.93it/s]"
          ]
        },
        {
          "output_type": "stream",
          "name": "stdout",
          "text": [
            "Did not meet early stopping. Best iteration is:\n",
            "[100]\tTrain's rmse: 0.131829\tTest's rmse: 0.106839\n",
            "Training until validation scores don't improve for 50 rounds.\n"
          ]
        },
        {
          "output_type": "stream",
          "name": "stderr",
          "text": [
            "regularization_factors, val_score: 0.101216:  25%|##5       | 5/20 [00:02<00:07,  1.96it/s]\u001b[32m[I 2021-12-10 12:06:00,217]\u001b[0m Trial 47 finished with value: 0.11154302252593126 and parameters: {'lambda_l1': 3.4184763328604324e-07, 'lambda_l2': 2.2768356853004614}. Best is trial 43 with value: 0.101216489058805.\u001b[0m\n",
            "regularization_factors, val_score: 0.101216:  25%|##5       | 5/20 [00:02<00:07,  1.96it/s]"
          ]
        },
        {
          "output_type": "stream",
          "name": "stdout",
          "text": [
            "Did not meet early stopping. Best iteration is:\n",
            "[100]\tTrain's rmse: 0.132247\tTest's rmse: 0.111543\n",
            "Training until validation scores don't improve for 50 rounds.\n"
          ]
        },
        {
          "output_type": "stream",
          "name": "stderr",
          "text": [
            "regularization_factors, val_score: 0.101216:  30%|###       | 6/20 [00:03<00:07,  1.97it/s]\u001b[32m[I 2021-12-10 12:06:00,720]\u001b[0m Trial 48 finished with value: 0.10683923115792927 and parameters: {'lambda_l1': 9.392237038321321e-07, 'lambda_l2': 0.0007008204816740765}. Best is trial 43 with value: 0.101216489058805.\u001b[0m\n",
            "regularization_factors, val_score: 0.101216:  30%|###       | 6/20 [00:03<00:07,  1.97it/s]"
          ]
        },
        {
          "output_type": "stream",
          "name": "stdout",
          "text": [
            "Did not meet early stopping. Best iteration is:\n",
            "[100]\tTrain's rmse: 0.131826\tTest's rmse: 0.106839\n",
            "Training until validation scores don't improve for 50 rounds.\n"
          ]
        },
        {
          "output_type": "stream",
          "name": "stderr",
          "text": [
            "regularization_factors, val_score: 0.101216:  35%|###5      | 7/20 [00:03<00:06,  1.97it/s]\u001b[32m[I 2021-12-10 12:06:01,227]\u001b[0m Trial 49 finished with value: 0.10908630610879615 and parameters: {'lambda_l1': 0.005305994649178246, 'lambda_l2': 0.004852530728872126}. Best is trial 43 with value: 0.101216489058805.\u001b[0m\n",
            "regularization_factors, val_score: 0.101216:  35%|###5      | 7/20 [00:03<00:06,  1.97it/s]"
          ]
        },
        {
          "output_type": "stream",
          "name": "stdout",
          "text": [
            "Did not meet early stopping. Best iteration is:\n",
            "[100]\tTrain's rmse: 0.130477\tTest's rmse: 0.109086\n",
            "Training until validation scores don't improve for 50 rounds.\n"
          ]
        },
        {
          "output_type": "stream",
          "name": "stderr",
          "text": [
            "regularization_factors, val_score: 0.101216:  40%|####      | 8/20 [00:04<00:06,  1.96it/s]\u001b[32m[I 2021-12-10 12:06:01,743]\u001b[0m Trial 50 finished with value: 0.1044550464744273 and parameters: {'lambda_l1': 0.0024668032107361968, 'lambda_l2': 9.885747807619616e-08}. Best is trial 43 with value: 0.101216489058805.\u001b[0m\n",
            "regularization_factors, val_score: 0.101216:  40%|####      | 8/20 [00:04<00:06,  1.96it/s]"
          ]
        },
        {
          "output_type": "stream",
          "name": "stdout",
          "text": [
            "Did not meet early stopping. Best iteration is:\n",
            "[100]\tTrain's rmse: 0.132529\tTest's rmse: 0.104455\n",
            "Training until validation scores don't improve for 50 rounds.\n"
          ]
        },
        {
          "output_type": "stream",
          "name": "stderr",
          "text": [
            "regularization_factors, val_score: 0.101216:  45%|####5     | 9/20 [00:04<00:05,  1.97it/s]\u001b[32m[I 2021-12-10 12:06:02,242]\u001b[0m Trial 51 finished with value: 0.10121648883348755 and parameters: {'lambda_l1': 1.1214085526120534e-07, 'lambda_l2': 1.4607535628220004e-08}. Best is trial 51 with value: 0.10121648883348755.\u001b[0m\n",
            "regularization_factors, val_score: 0.101216:  45%|####5     | 9/20 [00:04<00:05,  1.97it/s]"
          ]
        },
        {
          "output_type": "stream",
          "name": "stdout",
          "text": [
            "Did not meet early stopping. Best iteration is:\n",
            "[100]\tTrain's rmse: 0.131004\tTest's rmse: 0.101216\n",
            "Training until validation scores don't improve for 50 rounds.\n"
          ]
        },
        {
          "output_type": "stream",
          "name": "stderr",
          "text": [
            "regularization_factors, val_score: 0.101216:  50%|#####     | 10/20 [00:05<00:05,  1.98it/s]\u001b[32m[I 2021-12-10 12:06:02,744]\u001b[0m Trial 52 finished with value: 0.105924772565077 and parameters: {'lambda_l1': 1.186345070372644e-08, 'lambda_l2': 0.007925903864742335}. Best is trial 51 with value: 0.10121648883348755.\u001b[0m\n",
            "regularization_factors, val_score: 0.101216:  50%|#####     | 10/20 [00:05<00:05,  1.98it/s]"
          ]
        },
        {
          "output_type": "stream",
          "name": "stdout",
          "text": [
            "Did not meet early stopping. Best iteration is:\n",
            "[100]\tTrain's rmse: 0.130428\tTest's rmse: 0.105925\n",
            "Training until validation scores don't improve for 50 rounds.\n"
          ]
        },
        {
          "output_type": "stream",
          "name": "stderr",
          "text": [
            "regularization_factors, val_score: 0.101216:  55%|#####5    | 11/20 [00:05<00:04,  2.03it/s]\u001b[32m[I 2021-12-10 12:06:03,204]\u001b[0m Trial 53 finished with value: 0.11220060907567042 and parameters: {'lambda_l1': 2.0421430595551273, 'lambda_l2': 2.611151592337703e-08}. Best is trial 51 with value: 0.10121648883348755.\u001b[0m\n",
            "regularization_factors, val_score: 0.101216:  55%|#####5    | 11/20 [00:05<00:04,  2.03it/s]"
          ]
        },
        {
          "output_type": "stream",
          "name": "stdout",
          "text": [
            "Did not meet early stopping. Best iteration is:\n",
            "[100]\tTrain's rmse: 0.125671\tTest's rmse: 0.112201\n",
            "Training until validation scores don't improve for 50 rounds.\n"
          ]
        },
        {
          "output_type": "stream",
          "name": "stderr",
          "text": [
            "regularization_factors, val_score: 0.101216:  60%|######    | 12/20 [00:06<00:03,  2.04it/s]\u001b[32m[I 2021-12-10 12:06:03,689]\u001b[0m Trial 54 finished with value: 0.10121649685977788 and parameters: {'lambda_l1': 1.1514901353451268e-05, 'lambda_l2': 2.250964472750618e-06}. Best is trial 51 with value: 0.10121648883348755.\u001b[0m\n",
            "regularization_factors, val_score: 0.101216:  60%|######    | 12/20 [00:06<00:03,  2.04it/s]"
          ]
        },
        {
          "output_type": "stream",
          "name": "stdout",
          "text": [
            "Did not meet early stopping. Best iteration is:\n",
            "[100]\tTrain's rmse: 0.131004\tTest's rmse: 0.101216\n",
            "Training until validation scores don't improve for 50 rounds.\n"
          ]
        },
        {
          "output_type": "stream",
          "name": "stderr",
          "text": [
            "regularization_factors, val_score: 0.101216:  65%|######5   | 13/20 [00:06<00:03,  2.00it/s]\u001b[32m[I 2021-12-10 12:06:04,212]\u001b[0m Trial 55 finished with value: 0.10121650112802358 and parameters: {'lambda_l1': 1.7664646171626533e-05, 'lambda_l2': 3.91584017241132e-07}. Best is trial 51 with value: 0.10121648883348755.\u001b[0m\n",
            "regularization_factors, val_score: 0.101216:  65%|######5   | 13/20 [00:06<00:03,  2.00it/s]"
          ]
        },
        {
          "output_type": "stream",
          "name": "stdout",
          "text": [
            "Did not meet early stopping. Best iteration is:\n",
            "[100]\tTrain's rmse: 0.131004\tTest's rmse: 0.101217\n",
            "Training until validation scores don't improve for 50 rounds.\n"
          ]
        },
        {
          "output_type": "stream",
          "name": "stderr",
          "text": [
            "regularization_factors, val_score: 0.101216:  70%|#######   | 14/20 [00:07<00:02,  2.00it/s]\u001b[32m[I 2021-12-10 12:06:04,712]\u001b[0m Trial 56 finished with value: 0.10121649706509897 and parameters: {'lambda_l1': 1.2069041744288824e-05, 'lambda_l2': 1.0651346370155213e-08}. Best is trial 51 with value: 0.10121648883348755.\u001b[0m\n",
            "regularization_factors, val_score: 0.101216:  70%|#######   | 14/20 [00:07<00:02,  2.00it/s]"
          ]
        },
        {
          "output_type": "stream",
          "name": "stdout",
          "text": [
            "Did not meet early stopping. Best iteration is:\n",
            "[100]\tTrain's rmse: 0.131004\tTest's rmse: 0.101216\n",
            "Training until validation scores don't improve for 50 rounds.\n"
          ]
        },
        {
          "output_type": "stream",
          "name": "stderr",
          "text": [
            "regularization_factors, val_score: 0.101216:  75%|#######5  | 15/20 [00:07<00:02,  1.99it/s]\u001b[32m[I 2021-12-10 12:06:05,218]\u001b[0m Trial 57 finished with value: 0.10121648894161668 and parameters: {'lambda_l1': 1.1044541123959563e-07, 'lambda_l2': 3.3607126136565384e-06}. Best is trial 51 with value: 0.10121648883348755.\u001b[0m\n",
            "regularization_factors, val_score: 0.101216:  75%|#######5  | 15/20 [00:07<00:02,  1.99it/s]"
          ]
        },
        {
          "output_type": "stream",
          "name": "stdout",
          "text": [
            "Did not meet early stopping. Best iteration is:\n",
            "[100]\tTrain's rmse: 0.131004\tTest's rmse: 0.101216\n",
            "Training until validation scores don't improve for 50 rounds.\n"
          ]
        },
        {
          "output_type": "stream",
          "name": "stderr",
          "text": [
            "regularization_factors, val_score: 0.101216:  80%|########  | 16/20 [00:08<00:01,  2.03it/s]\u001b[32m[I 2021-12-10 12:06:05,693]\u001b[0m Trial 58 finished with value: 0.10628877397271538 and parameters: {'lambda_l1': 0.19375736321628562, 'lambda_l2': 9.807702964276373e-06}. Best is trial 51 with value: 0.10121648883348755.\u001b[0m\n",
            "regularization_factors, val_score: 0.101216:  80%|########  | 16/20 [00:08<00:01,  2.03it/s]"
          ]
        },
        {
          "output_type": "stream",
          "name": "stdout",
          "text": [
            "Did not meet early stopping. Best iteration is:\n",
            "[100]\tTrain's rmse: 0.130979\tTest's rmse: 0.106289\n",
            "Training until validation scores don't improve for 50 rounds.\n"
          ]
        },
        {
          "output_type": "stream",
          "name": "stderr",
          "text": [
            "regularization_factors, val_score: 0.101216:  85%|########5 | 17/20 [00:08<00:01,  2.02it/s]\u001b[32m[I 2021-12-10 12:06:06,196]\u001b[0m Trial 59 finished with value: 0.10121648960060989 and parameters: {'lambda_l1': 2.453115575799789e-08, 'lambda_l2': 1.6844469648651353e-05}. Best is trial 51 with value: 0.10121648883348755.\u001b[0m\n",
            "regularization_factors, val_score: 0.101216:  85%|########5 | 17/20 [00:08<00:01,  2.02it/s]"
          ]
        },
        {
          "output_type": "stream",
          "name": "stdout",
          "text": [
            "Did not meet early stopping. Best iteration is:\n",
            "[100]\tTrain's rmse: 0.131004\tTest's rmse: 0.101216\n",
            "Training until validation scores don't improve for 50 rounds.\n"
          ]
        },
        {
          "output_type": "stream",
          "name": "stderr",
          "text": [
            "regularization_factors, val_score: 0.101216:  90%|######### | 18/20 [00:09<00:00,  2.04it/s]\u001b[32m[I 2021-12-10 12:06:06,671]\u001b[0m Trial 60 finished with value: 0.11177985719813936 and parameters: {'lambda_l1': 7.72517454234841e-05, 'lambda_l2': 6.0299410787783305}. Best is trial 51 with value: 0.10121648883348755.\u001b[0m\n",
            "regularization_factors, val_score: 0.101216:  90%|######### | 18/20 [00:09<00:00,  2.04it/s]"
          ]
        },
        {
          "output_type": "stream",
          "name": "stdout",
          "text": [
            "Did not meet early stopping. Best iteration is:\n",
            "[100]\tTrain's rmse: 0.138919\tTest's rmse: 0.11178\n",
            "Training until validation scores don't improve for 50 rounds.\n"
          ]
        },
        {
          "output_type": "stream",
          "name": "stderr",
          "text": [
            "regularization_factors, val_score: 0.101216:  95%|#########5| 19/20 [00:09<00:00,  2.01it/s]\u001b[32m[I 2021-12-10 12:06:07,182]\u001b[0m Trial 61 finished with value: 0.10121648878437005 and parameters: {'lambda_l1': 9.07941217009874e-08, 'lambda_l2': 1.2027654944444485e-07}. Best is trial 61 with value: 0.10121648878437005.\u001b[0m\n",
            "regularization_factors, val_score: 0.101216:  95%|#########5| 19/20 [00:09<00:00,  2.01it/s]"
          ]
        },
        {
          "output_type": "stream",
          "name": "stdout",
          "text": [
            "Did not meet early stopping. Best iteration is:\n",
            "[100]\tTrain's rmse: 0.131004\tTest's rmse: 0.101216\n",
            "Training until validation scores don't improve for 50 rounds.\n"
          ]
        },
        {
          "output_type": "stream",
          "name": "stderr",
          "text": [
            "regularization_factors, val_score: 0.101216: 100%|##########| 20/20 [00:10<00:00,  2.02it/s]\u001b[32m[I 2021-12-10 12:06:07,674]\u001b[0m Trial 62 finished with value: 0.10121649228874331 and parameters: {'lambda_l1': 5.023764594066286e-06, 'lambda_l2': 7.570282614551509e-08}. Best is trial 61 with value: 0.10121648878437005.\u001b[0m\n",
            "regularization_factors, val_score: 0.101216: 100%|##########| 20/20 [00:10<00:00,  1.99it/s]\n"
          ]
        },
        {
          "output_type": "stream",
          "name": "stdout",
          "text": [
            "Did not meet early stopping. Best iteration is:\n",
            "[100]\tTrain's rmse: 0.131004\tTest's rmse: 0.101216\n"
          ]
        },
        {
          "output_type": "stream",
          "name": "stderr",
          "text": [
            "min_data_in_leaf, val_score: 0.101216:   0%|          | 0/5 [00:00<?, ?it/s]"
          ]
        },
        {
          "output_type": "stream",
          "name": "stdout",
          "text": [
            "Training until validation scores don't improve for 50 rounds.\n"
          ]
        },
        {
          "output_type": "stream",
          "name": "stderr",
          "text": [
            "min_data_in_leaf, val_score: 0.101216:  20%|##        | 1/5 [00:00<00:02,  1.92it/s]\u001b[32m[I 2021-12-10 12:06:08,211]\u001b[0m Trial 63 finished with value: 0.10361397921280646 and parameters: {'min_child_samples': 10}. Best is trial 63 with value: 0.10361397921280646.\u001b[0m\n",
            "min_data_in_leaf, val_score: 0.101216:  20%|##        | 1/5 [00:00<00:02,  1.92it/s]"
          ]
        },
        {
          "output_type": "stream",
          "name": "stdout",
          "text": [
            "Did not meet early stopping. Best iteration is:\n",
            "[100]\tTrain's rmse: 0.0670687\tTest's rmse: 0.103614\n",
            "Training until validation scores don't improve for 50 rounds.\n"
          ]
        },
        {
          "output_type": "stream",
          "name": "stderr",
          "text": [
            "min_data_in_leaf, val_score: 0.101216:  40%|####      | 2/5 [00:01<00:01,  1.98it/s]\u001b[32m[I 2021-12-10 12:06:08,709]\u001b[0m Trial 64 finished with value: 0.1885432120878658 and parameters: {'min_child_samples': 50}. Best is trial 63 with value: 0.10361397921280646.\u001b[0m\n",
            "min_data_in_leaf, val_score: 0.101216:  40%|####      | 2/5 [00:01<00:01,  1.98it/s]"
          ]
        },
        {
          "output_type": "stream",
          "name": "stdout",
          "text": [
            "Did not meet early stopping. Best iteration is:\n",
            "[100]\tTrain's rmse: 0.240705\tTest's rmse: 0.188543\n",
            "Training until validation scores don't improve for 50 rounds.\n"
          ]
        },
        {
          "output_type": "stream",
          "name": "stderr",
          "text": [
            "min_data_in_leaf, val_score: 0.101216:  60%|######    | 3/5 [00:01<00:00,  2.05it/s]\u001b[32m[I 2021-12-10 12:06:09,177]\u001b[0m Trial 65 finished with value: 0.12626108036112924 and parameters: {'min_child_samples': 5}. Best is trial 63 with value: 0.10361397921280646.\u001b[0m\n",
            "min_data_in_leaf, val_score: 0.101216:  60%|######    | 3/5 [00:01<00:00,  2.05it/s]"
          ]
        },
        {
          "output_type": "stream",
          "name": "stdout",
          "text": [
            "Early stopping, best iteration is:\n",
            "[43]\tTrain's rmse: 0.0668818\tTest's rmse: 0.126261\n",
            "Training until validation scores don't improve for 50 rounds.\n"
          ]
        },
        {
          "output_type": "stream",
          "name": "stderr",
          "text": [
            "min_data_in_leaf, val_score: 0.101216:  80%|########  | 4/5 [00:01<00:00,  2.03it/s]\u001b[32m[I 2021-12-10 12:06:09,676]\u001b[0m Trial 66 finished with value: 0.11941465699018286 and parameters: {'min_child_samples': 25}. Best is trial 63 with value: 0.10361397921280646.\u001b[0m\n",
            "min_data_in_leaf, val_score: 0.101216:  80%|########  | 4/5 [00:01<00:00,  2.03it/s]"
          ]
        },
        {
          "output_type": "stream",
          "name": "stdout",
          "text": [
            "Did not meet early stopping. Best iteration is:\n",
            "[100]\tTrain's rmse: 0.153887\tTest's rmse: 0.119415\n",
            "Training until validation scores don't improve for 50 rounds.\n"
          ]
        },
        {
          "output_type": "stream",
          "name": "stderr",
          "text": [
            "min_data_in_leaf, val_score: 0.101216: 100%|##########| 5/5 [00:02<00:00,  2.19it/s]\u001b[32m[I 2021-12-10 12:06:10,069]\u001b[0m Trial 67 finished with value: 0.22896388746223095 and parameters: {'min_child_samples': 100}. Best is trial 63 with value: 0.10361397921280646.\u001b[0m\n",
            "min_data_in_leaf, val_score: 0.101216: 100%|##########| 5/5 [00:02<00:00,  2.10it/s]"
          ]
        },
        {
          "output_type": "stream",
          "name": "stdout",
          "text": [
            "Early stopping, best iteration is:\n",
            "[24]\tTrain's rmse: 0.337483\tTest's rmse: 0.228964\n"
          ]
        },
        {
          "output_type": "stream",
          "name": "stderr",
          "text": [
            "\n"
          ]
        },
        {
          "output_type": "display_data",
          "data": {
            "image/png": "[encoded data removed]",
            "text/plain": [
              "<Figure size 432x288 with 1 Axes>"
            ]
          },
          "metadata": {
            "needs_background": "light"
          }
        },
        {
          "output_type": "stream",
          "name": "stderr",
          "text": [
            "\u001b[32m[I 2021-12-10 12:06:10,317]\u001b[0m A new study created in memory with name: no-name-8b0ba9b7-36dd-4a5a-96dd-47eef1bef52d\u001b[0m\n",
            "feature_fraction, val_score: inf:   0%|          | 0/7 [00:00<?, ?it/s]"
          ]
        },
        {
          "output_type": "stream",
          "name": "stdout",
          "text": [
            "Training until validation scores don't improve for 50 rounds.\n"
          ]
        },
        {
          "output_type": "stream",
          "name": "stderr",
          "text": [
            "feature_fraction, val_score: 0.174646:  14%|#4        | 1/7 [00:00<00:02,  2.83it/s]\u001b[32m[I 2021-12-10 12:06:10,685]\u001b[0m Trial 0 finished with value: 0.17464593003271933 and parameters: {'feature_fraction': 0.4}. Best is trial 0 with value: 0.17464593003271933.\u001b[0m\n",
            "feature_fraction, val_score: 0.174646:  14%|#4        | 1/7 [00:00<00:02,  2.83it/s]"
          ]
        },
        {
          "output_type": "stream",
          "name": "stdout",
          "text": [
            "Did not meet early stopping. Best iteration is:\n",
            "[100]\tTrain's rmse: 0.140306\tTest's rmse: 0.174646\n",
            "Training until validation scores don't improve for 50 rounds.\n"
          ]
        },
        {
          "output_type": "stream",
          "name": "stderr",
          "text": [
            "feature_fraction, val_score: 0.142317:  29%|##8       | 2/7 [00:00<00:02,  2.47it/s]\u001b[32m[I 2021-12-10 12:06:11,124]\u001b[0m Trial 1 finished with value: 0.14231731003631473 and parameters: {'feature_fraction': 0.7}. Best is trial 1 with value: 0.14231731003631473.\u001b[0m\n",
            "feature_fraction, val_score: 0.142317:  29%|##8       | 2/7 [00:00<00:02,  2.47it/s]"
          ]
        },
        {
          "output_type": "stream",
          "name": "stdout",
          "text": [
            "Did not meet early stopping. Best iteration is:\n",
            "[100]\tTrain's rmse: 0.124599\tTest's rmse: 0.142317\n",
            "Training until validation scores don't improve for 50 rounds.\n"
          ]
        },
        {
          "output_type": "stream",
          "name": "stderr",
          "text": [
            "feature_fraction, val_score: 0.139256:  43%|####2     | 3/7 [00:01<00:01,  2.28it/s]\u001b[32m[I 2021-12-10 12:06:11,603]\u001b[0m Trial 2 finished with value: 0.13925631595127572 and parameters: {'feature_fraction': 0.8}. Best is trial 2 with value: 0.13925631595127572.\u001b[0m\n",
            "feature_fraction, val_score: 0.139256:  43%|####2     | 3/7 [00:01<00:01,  2.28it/s]"
          ]
        },
        {
          "output_type": "stream",
          "name": "stdout",
          "text": [
            "Did not meet early stopping. Best iteration is:\n",
            "[100]\tTrain's rmse: 0.128875\tTest's rmse: 0.139256\n",
            "Training until validation scores don't improve for 50 rounds.\n"
          ]
        },
        {
          "output_type": "stream",
          "name": "stderr",
          "text": [
            "feature_fraction, val_score: 0.139256:  57%|#####7    | 4/7 [00:01<00:01,  2.15it/s]\u001b[32m[I 2021-12-10 12:06:12,110]\u001b[0m Trial 3 finished with value: 0.139473228921955 and parameters: {'feature_fraction': 0.8999999999999999}. Best is trial 2 with value: 0.13925631595127572.\u001b[0m\n",
            "feature_fraction, val_score: 0.139256:  57%|#####7    | 4/7 [00:01<00:01,  2.15it/s]"
          ]
        },
        {
          "output_type": "stream",
          "name": "stdout",
          "text": [
            "Did not meet early stopping. Best iteration is:\n",
            "[100]\tTrain's rmse: 0.141856\tTest's rmse: 0.139473\n",
            "Training until validation scores don't improve for 50 rounds.\n"
          ]
        },
        {
          "output_type": "stream",
          "name": "stderr",
          "text": [
            "feature_fraction, val_score: 0.139256:  71%|#######1  | 5/7 [00:02<00:00,  2.27it/s]\u001b[32m[I 2021-12-10 12:06:12,503]\u001b[0m Trial 4 finished with value: 0.16167365823684848 and parameters: {'feature_fraction': 0.5}. Best is trial 2 with value: 0.13925631595127572.\u001b[0m\n",
            "feature_fraction, val_score: 0.139256:  71%|#######1  | 5/7 [00:02<00:00,  2.27it/s]"
          ]
        },
        {
          "output_type": "stream",
          "name": "stdout",
          "text": [
            "Did not meet early stopping. Best iteration is:\n",
            "[100]\tTrain's rmse: 0.130492\tTest's rmse: 0.161674\n",
            "Training until validation scores don't improve for 50 rounds.\n"
          ]
        },
        {
          "output_type": "stream",
          "name": "stderr",
          "text": [
            "feature_fraction, val_score: 0.139256:  86%|########5 | 6/7 [00:02<00:00,  2.17it/s]\u001b[32m[I 2021-12-10 12:06:13,003]\u001b[0m Trial 5 finished with value: 0.14150262343439804 and parameters: {'feature_fraction': 1.0}. Best is trial 2 with value: 0.13925631595127572.\u001b[0m\n",
            "feature_fraction, val_score: 0.139256:  86%|########5 | 6/7 [00:02<00:00,  2.17it/s]"
          ]
        },
        {
          "output_type": "stream",
          "name": "stdout",
          "text": [
            "Did not meet early stopping. Best iteration is:\n",
            "[100]\tTrain's rmse: 0.146988\tTest's rmse: 0.141503\n",
            "Training until validation scores don't improve for 50 rounds.\n"
          ]
        },
        {
          "output_type": "stream",
          "name": "stderr",
          "text": [
            "feature_fraction, val_score: 0.139256: 100%|##########| 7/7 [00:03<00:00,  2.24it/s]\u001b[32m[I 2021-12-10 12:06:13,420]\u001b[0m Trial 6 finished with value: 0.1442742824485471 and parameters: {'feature_fraction': 0.6}. Best is trial 2 with value: 0.13925631595127572.\u001b[0m\n",
            "feature_fraction, val_score: 0.139256: 100%|##########| 7/7 [00:03<00:00,  2.25it/s]\n"
          ]
        },
        {
          "output_type": "stream",
          "name": "stdout",
          "text": [
            "Did not meet early stopping. Best iteration is:\n",
            "[100]\tTrain's rmse: 0.123915\tTest's rmse: 0.144274\n"
          ]
        },
        {
          "output_type": "stream",
          "name": "stderr",
          "text": [
            "num_leaves, val_score: 0.139256:   0%|          | 0/20 [00:00<?, ?it/s]"
          ]
        },
        {
          "output_type": "stream",
          "name": "stdout",
          "text": [
            "Training until validation scores don't improve for 50 rounds.\n"
          ]
        },
        {
          "output_type": "stream",
          "name": "stderr",
          "text": [
            "num_leaves, val_score: 0.139256:   5%|5         | 1/20 [00:01<00:36,  1.90s/it]\u001b[32m[I 2021-12-10 12:06:15,337]\u001b[0m Trial 7 finished with value: 0.1479923300882443 and parameters: {'num_leaves': 250}. Best is trial 7 with value: 0.1479923300882443.\u001b[0m\n",
            "num_leaves, val_score: 0.139256:   5%|5         | 1/20 [00:01<00:36,  1.90s/it]"
          ]
        },
        {
          "output_type": "stream",
          "name": "stdout",
          "text": [
            "Did not meet early stopping. Best iteration is:\n",
            "[100]\tTrain's rmse: 0.133348\tTest's rmse: 0.147992\n",
            "Training until validation scores don't improve for 50 rounds.\n"
          ]
        },
        {
          "output_type": "stream",
          "name": "stderr",
          "text": [
            "num_leaves, val_score: 0.139256:  10%|#         | 2/20 [00:02<00:19,  1.10s/it]\u001b[32m[I 2021-12-10 12:06:15,889]\u001b[0m Trial 8 finished with value: 0.14249859946540214 and parameters: {'num_leaves': 39}. Best is trial 8 with value: 0.14249859946540214.\u001b[0m\n",
            "num_leaves, val_score: 0.139256:  10%|#         | 2/20 [00:02<00:19,  1.10s/it]"
          ]
        },
        {
          "output_type": "stream",
          "name": "stdout",
          "text": [
            "Did not meet early stopping. Best iteration is:\n",
            "[100]\tTrain's rmse: 0.131786\tTest's rmse: 0.142499\n",
            "Training until validation scores don't improve for 50 rounds.\n"
          ]
        },
        {
          "output_type": "stream",
          "name": "stderr",
          "text": [
            "num_leaves, val_score: 0.139256:  15%|#5        | 3/20 [00:02<00:13,  1.28it/s]\u001b[32m[I 2021-12-10 12:06:16,293]\u001b[0m Trial 9 finished with value: 0.1405040137695741 and parameters: {'num_leaves': 21}. Best is trial 9 with value: 0.1405040137695741.\u001b[0m\n",
            "num_leaves, val_score: 0.139256:  15%|#5        | 3/20 [00:02<00:13,  1.28it/s]"
          ]
        },
        {
          "output_type": "stream",
          "name": "stdout",
          "text": [
            "Did not meet early stopping. Best iteration is:\n",
            "[100]\tTrain's rmse: 0.122883\tTest's rmse: 0.140504\n",
            "Training until validation scores don't improve for 50 rounds.\n"
          ]
        },
        {
          "output_type": "stream",
          "name": "stderr",
          "text": [
            "num_leaves, val_score: 0.139256:  20%|##        | 4/20 [00:04<00:17,  1.11s/it]\u001b[32m[I 2021-12-10 12:06:17,894]\u001b[0m Trial 10 finished with value: 0.14766783005142498 and parameters: {'num_leaves': 202}. Best is trial 9 with value: 0.1405040137695741.\u001b[0m\n",
            "num_leaves, val_score: 0.139256:  20%|##        | 4/20 [00:04<00:17,  1.11s/it]"
          ]
        },
        {
          "output_type": "stream",
          "name": "stdout",
          "text": [
            "Did not meet early stopping. Best iteration is:\n",
            "[100]\tTrain's rmse: 0.135542\tTest's rmse: 0.147668\n",
            "Training until validation scores don't improve for 50 rounds.\n"
          ]
        },
        {
          "output_type": "stream",
          "name": "stderr",
          "text": [
            "num_leaves, val_score: 0.139256:  25%|##5       | 5/20 [00:05<00:17,  1.17s/it]\u001b[32m[I 2021-12-10 12:06:19,167]\u001b[0m Trial 11 finished with value: 0.147764238205862 and parameters: {'num_leaves': 139}. Best is trial 9 with value: 0.1405040137695741.\u001b[0m\n",
            "num_leaves, val_score: 0.139256:  25%|##5       | 5/20 [00:05<00:17,  1.17s/it]"
          ]
        },
        {
          "output_type": "stream",
          "name": "stdout",
          "text": [
            "Did not meet early stopping. Best iteration is:\n",
            "[100]\tTrain's rmse: 0.13936\tTest's rmse: 0.147764\n",
            "Training until validation scores don't improve for 50 rounds.\n"
          ]
        },
        {
          "output_type": "stream",
          "name": "stderr",
          "text": [
            "num_leaves, val_score: 0.139256:  30%|###       | 6/20 [00:06<00:13,  1.04it/s]\u001b[32m[I 2021-12-10 12:06:19,720]\u001b[0m Trial 12 finished with value: 0.13949163086624503 and parameters: {'num_leaves': 38}. Best is trial 12 with value: 0.13949163086624503.\u001b[0m\n",
            "num_leaves, val_score: 0.139256:  30%|###       | 6/20 [00:06<00:13,  1.04it/s]"
          ]
        },
        {
          "output_type": "stream",
          "name": "stdout",
          "text": [
            "Did not meet early stopping. Best iteration is:\n",
            "[100]\tTrain's rmse: 0.124171\tTest's rmse: 0.139492\n",
            "Training until validation scores don't improve for 50 rounds.\n"
          ]
        },
        {
          "output_type": "stream",
          "name": "stderr",
          "text": [
            "num_leaves, val_score: 0.139256:  35%|###5      | 7/20 [00:07<00:14,  1.09s/it]\u001b[32m[I 2021-12-10 12:06:21,094]\u001b[0m Trial 13 finished with value: 0.14712094114424265 and parameters: {'num_leaves': 166}. Best is trial 12 with value: 0.13949163086624503.\u001b[0m\n",
            "num_leaves, val_score: 0.139256:  35%|###5      | 7/20 [00:07<00:14,  1.09s/it]"
          ]
        },
        {
          "output_type": "stream",
          "name": "stdout",
          "text": [
            "Did not meet early stopping. Best iteration is:\n",
            "[100]\tTrain's rmse: 0.134666\tTest's rmse: 0.147121\n",
            "Training until validation scores don't improve for 50 rounds.\n"
          ]
        },
        {
          "output_type": "stream",
          "name": "stderr",
          "text": [
            "num_leaves, val_score: 0.139256:  40%|####      | 8/20 [00:08<00:10,  1.14it/s]\u001b[32m[I 2021-12-10 12:06:21,507]\u001b[0m Trial 14 finished with value: 0.14018704260937176 and parameters: {'num_leaves': 22}. Best is trial 12 with value: 0.13949163086624503.\u001b[0m\n",
            "num_leaves, val_score: 0.139256:  40%|####      | 8/20 [00:08<00:10,  1.14it/s]"
          ]
        },
        {
          "output_type": "stream",
          "name": "stdout",
          "text": [
            "Did not meet early stopping. Best iteration is:\n",
            "[100]\tTrain's rmse: 0.129964\tTest's rmse: 0.140187\n",
            "Training until validation scores don't improve for 50 rounds.\n"
          ]
        },
        {
          "output_type": "stream",
          "name": "stderr",
          "text": [
            "num_leaves, val_score: 0.139256:  45%|####5     | 9/20 [00:08<00:09,  1.18it/s]\u001b[32m[I 2021-12-10 12:06:22,281]\u001b[0m Trial 15 finished with value: 0.14398819392889756 and parameters: {'num_leaves': 73}. Best is trial 12 with value: 0.13949163086624503.\u001b[0m\n",
            "num_leaves, val_score: 0.139256:  45%|####5     | 9/20 [00:08<00:09,  1.18it/s]"
          ]
        },
        {
          "output_type": "stream",
          "name": "stdout",
          "text": [
            "Did not meet early stopping. Best iteration is:\n",
            "[100]\tTrain's rmse: 0.132801\tTest's rmse: 0.143988\n",
            "Training until validation scores don't improve for 50 rounds.\n"
          ]
        },
        {
          "output_type": "stream",
          "name": "stderr",
          "text": [
            "num_leaves, val_score: 0.139256:  50%|#####     | 10/20 [00:10<00:10,  1.08s/it]\u001b[32m[I 2021-12-10 12:06:23,892]\u001b[0m Trial 16 finished with value: 0.14766783005142498 and parameters: {'num_leaves': 202}. Best is trial 12 with value: 0.13949163086624503.\u001b[0m\n",
            "num_leaves, val_score: 0.139256:  50%|#####     | 10/20 [00:10<00:10,  1.08s/it]"
          ]
        },
        {
          "output_type": "stream",
          "name": "stdout",
          "text": [
            "Did not meet early stopping. Best iteration is:\n",
            "[100]\tTrain's rmse: 0.135542\tTest's rmse: 0.147668\n",
            "Training until validation scores don't improve for 50 rounds.\n"
          ]
        },
        {
          "output_type": "stream",
          "name": "stderr",
          "text": [
            "num_leaves, val_score: 0.139256:  55%|#####5    | 11/20 [00:11<00:09,  1.03s/it]\u001b[32m[I 2021-12-10 12:06:24,798]\u001b[0m Trial 17 finished with value: 0.1445235394216586 and parameters: {'num_leaves': 86}. Best is trial 12 with value: 0.13949163086624503.\u001b[0m\n",
            "num_leaves, val_score: 0.139256:  55%|#####5    | 11/20 [00:11<00:09,  1.03s/it]"
          ]
        },
        {
          "output_type": "stream",
          "name": "stdout",
          "text": [
            "Did not meet early stopping. Best iteration is:\n",
            "[100]\tTrain's rmse: 0.13121\tTest's rmse: 0.144524\n",
            "Training until validation scores don't improve for 50 rounds.\n"
          ]
        },
        {
          "output_type": "stream",
          "name": "stderr",
          "text": [
            "num_leaves, val_score: 0.139256:  60%|######    | 12/20 [00:12<00:07,  1.04it/s]\u001b[32m[I 2021-12-10 12:06:25,597]\u001b[0m Trial 18 finished with value: 0.1421148717667379 and parameters: {'num_leaves': 75}. Best is trial 12 with value: 0.13949163086624503.\u001b[0m\n",
            "num_leaves, val_score: 0.139256:  60%|######    | 12/20 [00:12<00:07,  1.04it/s]"
          ]
        },
        {
          "output_type": "stream",
          "name": "stdout",
          "text": [
            "Did not meet early stopping. Best iteration is:\n",
            "[100]\tTrain's rmse: 0.134335\tTest's rmse: 0.142115\n",
            "Training until validation scores don't improve for 50 rounds.\n"
          ]
        },
        {
          "output_type": "stream",
          "name": "stderr",
          "text": [
            "num_leaves, val_score: 0.139256:  65%|######5   | 13/20 [00:12<00:05,  1.36it/s]\u001b[32m[I 2021-12-10 12:06:25,814]\u001b[0m Trial 19 finished with value: 0.15149879519314452 and parameters: {'num_leaves': 5}. Best is trial 12 with value: 0.13949163086624503.\u001b[0m\n",
            "num_leaves, val_score: 0.139256:  65%|######5   | 13/20 [00:12<00:05,  1.36it/s]"
          ]
        },
        {
          "output_type": "stream",
          "name": "stdout",
          "text": [
            "Did not meet early stopping. Best iteration is:\n",
            "[100]\tTrain's rmse: 0.15729\tTest's rmse: 0.151499\n",
            "Training until validation scores don't improve for 50 rounds.\n"
          ]
        },
        {
          "output_type": "stream",
          "name": "stderr",
          "text": [
            "num_leaves, val_score: 0.139256:  70%|#######   | 14/20 [00:12<00:04,  1.43it/s]\u001b[32m[I 2021-12-10 12:06:26,435]\u001b[0m Trial 20 finished with value: 0.143754033449856 and parameters: {'num_leaves': 48}. Best is trial 12 with value: 0.13949163086624503.\u001b[0m\n",
            "num_leaves, val_score: 0.139256:  70%|#######   | 14/20 [00:13<00:04,  1.43it/s]"
          ]
        },
        {
          "output_type": "stream",
          "name": "stdout",
          "text": [
            "Did not meet early stopping. Best iteration is:\n",
            "[100]\tTrain's rmse: 0.133433\tTest's rmse: 0.143754\n",
            "Training until validation scores don't improve for 50 rounds.\n"
          ]
        },
        {
          "output_type": "stream",
          "name": "stderr",
          "text": [
            "num_leaves, val_score: 0.139256:  75%|#######5  | 15/20 [00:14<00:04,  1.24it/s]\u001b[32m[I 2021-12-10 12:06:27,487]\u001b[0m Trial 21 finished with value: 0.14612292407852656 and parameters: {'num_leaves': 113}. Best is trial 12 with value: 0.13949163086624503.\u001b[0m\n",
            "num_leaves, val_score: 0.139256:  75%|#######5  | 15/20 [00:14<00:04,  1.24it/s]"
          ]
        },
        {
          "output_type": "stream",
          "name": "stdout",
          "text": [
            "Did not meet early stopping. Best iteration is:\n",
            "[100]\tTrain's rmse: 0.136562\tTest's rmse: 0.146123\n",
            "Training until validation scores don't improve for 50 rounds.\n",
            "Did not meet early stopping. Best iteration is:\n",
            "[100]\tTrain's rmse: 0.210938\tTest's rmse: 0.166323\n"
          ]
        },
        {
          "output_type": "stream",
          "name": "stderr",
          "text": [
            "num_leaves, val_score: 0.139256:  80%|########  | 16/20 [00:14<00:02,  1.64it/s]\u001b[32m[I 2021-12-10 12:06:27,646]\u001b[0m Trial 22 finished with value: 0.166323023393736 and parameters: {'num_leaves': 2}. Best is trial 12 with value: 0.13949163086624503.\u001b[0m\n",
            "num_leaves, val_score: 0.139256:  80%|########  | 16/20 [00:14<00:02,  1.64it/s]"
          ]
        },
        {
          "output_type": "stream",
          "name": "stdout",
          "text": [
            "Training until validation scores don't improve for 50 rounds.\n"
          ]
        },
        {
          "output_type": "stream",
          "name": "stderr",
          "text": [
            "num_leaves, val_score: 0.139256:  85%|########5 | 17/20 [00:14<00:01,  1.63it/s]\u001b[32m[I 2021-12-10 12:06:28,263]\u001b[0m Trial 23 finished with value: 0.143754033449856 and parameters: {'num_leaves': 48}. Best is trial 12 with value: 0.13949163086624503.\u001b[0m\n",
            "num_leaves, val_score: 0.139256:  85%|########5 | 17/20 [00:14<00:01,  1.63it/s]"
          ]
        },
        {
          "output_type": "stream",
          "name": "stdout",
          "text": [
            "Did not meet early stopping. Best iteration is:\n",
            "[100]\tTrain's rmse: 0.133433\tTest's rmse: 0.143754\n",
            "Training until validation scores don't improve for 50 rounds.\n"
          ]
        },
        {
          "output_type": "stream",
          "name": "stderr",
          "text": [
            "num_leaves, val_score: 0.139256:  90%|######### | 18/20 [00:15<00:01,  1.37it/s]\u001b[32m[I 2021-12-10 12:06:29,256]\u001b[0m Trial 24 finished with value: 0.14710857950494624 and parameters: {'num_leaves': 106}. Best is trial 12 with value: 0.13949163086624503.\u001b[0m\n",
            "num_leaves, val_score: 0.139256:  90%|######### | 18/20 [00:15<00:01,  1.37it/s]"
          ]
        },
        {
          "output_type": "stream",
          "name": "stdout",
          "text": [
            "Did not meet early stopping. Best iteration is:\n",
            "[100]\tTrain's rmse: 0.135066\tTest's rmse: 0.147109\n",
            "Training until validation scores don't improve for 50 rounds.\n"
          ]
        },
        {
          "output_type": "stream",
          "name": "stderr",
          "text": [
            "num_leaves, val_score: 0.139256:  95%|#########5| 19/20 [00:16<00:00,  1.50it/s]\u001b[32m[I 2021-12-10 12:06:29,778]\u001b[0m Trial 25 finished with value: 0.14206103245027818 and parameters: {'num_leaves': 35}. Best is trial 12 with value: 0.13949163086624503.\u001b[0m\n",
            "num_leaves, val_score: 0.139256:  95%|#########5| 19/20 [00:16<00:00,  1.50it/s]"
          ]
        },
        {
          "output_type": "stream",
          "name": "stdout",
          "text": [
            "Did not meet early stopping. Best iteration is:\n",
            "[100]\tTrain's rmse: 0.132327\tTest's rmse: 0.142061\n",
            "Training until validation scores don't improve for 50 rounds.\n"
          ]
        },
        {
          "output_type": "stream",
          "name": "stderr",
          "text": [
            "num_leaves, val_score: 0.139256: 100%|##########| 20/20 [00:17<00:00,  1.18it/s]\u001b[32m[I 2021-12-10 12:06:31,056]\u001b[0m Trial 26 finished with value: 0.1455005989277952 and parameters: {'num_leaves': 137}. Best is trial 12 with value: 0.13949163086624503.\u001b[0m\n",
            "num_leaves, val_score: 0.139256: 100%|##########| 20/20 [00:17<00:00,  1.13it/s]\n"
          ]
        },
        {
          "output_type": "stream",
          "name": "stdout",
          "text": [
            "Did not meet early stopping. Best iteration is:\n",
            "[100]\tTrain's rmse: 0.136243\tTest's rmse: 0.145501\n"
          ]
        },
        {
          "output_type": "stream",
          "name": "stderr",
          "text": [
            "bagging, val_score: 0.139256:   0%|          | 0/10 [00:00<?, ?it/s]"
          ]
        },
        {
          "output_type": "stream",
          "name": "stdout",
          "text": [
            "Training until validation scores don't improve for 50 rounds.\n"
          ]
        },
        {
          "output_type": "stream",
          "name": "stderr",
          "text": [
            "bagging, val_score: 0.139256:  10%|#         | 1/10 [00:00<00:05,  1.76it/s]\u001b[32m[I 2021-12-10 12:06:31,652]\u001b[0m Trial 27 finished with value: 0.1443510680826395 and parameters: {'bagging_fraction': 0.9854066677387979, 'bagging_freq': 5}. Best is trial 27 with value: 0.1443510680826395.\u001b[0m\n",
            "bagging, val_score: 0.139256:  10%|#         | 1/10 [00:00<00:05,  1.76it/s]"
          ]
        },
        {
          "output_type": "stream",
          "name": "stdout",
          "text": [
            "Did not meet early stopping. Best iteration is:\n",
            "[100]\tTrain's rmse: 0.135035\tTest's rmse: 0.144351\n",
            "Training until validation scores don't improve for 50 rounds.\n"
          ]
        },
        {
          "output_type": "stream",
          "name": "stderr",
          "text": [
            "bagging, val_score: 0.139256:  20%|##        | 2/10 [00:01<00:04,  1.82it/s]\u001b[32m[I 2021-12-10 12:06:32,185]\u001b[0m Trial 28 finished with value: 0.15150207410593253 and parameters: {'bagging_fraction': 0.585509074280572, 'bagging_freq': 2}. Best is trial 27 with value: 0.1443510680826395.\u001b[0m\n",
            "bagging, val_score: 0.139256:  20%|##        | 2/10 [00:01<00:04,  1.82it/s]"
          ]
        },
        {
          "output_type": "stream",
          "name": "stdout",
          "text": [
            "Did not meet early stopping. Best iteration is:\n",
            "[100]\tTrain's rmse: 0.170418\tTest's rmse: 0.151502\n",
            "Training until validation scores don't improve for 50 rounds.\n"
          ]
        },
        {
          "output_type": "stream",
          "name": "stderr",
          "text": [
            "bagging, val_score: 0.139256:  30%|###       | 3/10 [00:01<00:03,  1.80it/s]\u001b[32m[I 2021-12-10 12:06:32,754]\u001b[0m Trial 29 finished with value: 0.14443140649972167 and parameters: {'bagging_fraction': 0.9386628278008546, 'bagging_freq': 2}. Best is trial 27 with value: 0.1443510680826395.\u001b[0m\n",
            "bagging, val_score: 0.139256:  30%|###       | 3/10 [00:01<00:03,  1.80it/s]"
          ]
        },
        {
          "output_type": "stream",
          "name": "stdout",
          "text": [
            "Did not meet early stopping. Best iteration is:\n",
            "[100]\tTrain's rmse: 0.134628\tTest's rmse: 0.144431\n",
            "Training until validation scores don't improve for 50 rounds.\n"
          ]
        },
        {
          "output_type": "stream",
          "name": "stderr",
          "text": [
            "bagging, val_score: 0.139256:  40%|####      | 4/10 [00:02<00:03,  1.79it/s]\u001b[32m[I 2021-12-10 12:06:33,322]\u001b[0m Trial 30 finished with value: 0.14838329665018804 and parameters: {'bagging_fraction': 0.9562835007969989, 'bagging_freq': 5}. Best is trial 27 with value: 0.1443510680826395.\u001b[0m\n",
            "bagging, val_score: 0.139256:  40%|####      | 4/10 [00:02<00:03,  1.79it/s]"
          ]
        },
        {
          "output_type": "stream",
          "name": "stdout",
          "text": [
            "Did not meet early stopping. Best iteration is:\n",
            "[100]\tTrain's rmse: 0.130621\tTest's rmse: 0.148383\n",
            "Training until validation scores don't improve for 50 rounds.\n"
          ]
        },
        {
          "output_type": "stream",
          "name": "stderr",
          "text": [
            "bagging, val_score: 0.139256:  50%|#####     | 5/10 [00:02<00:02,  1.79it/s]\u001b[32m[I 2021-12-10 12:06:33,872]\u001b[0m Trial 31 finished with value: 0.14605499532685476 and parameters: {'bagging_fraction': 0.9556477025895912, 'bagging_freq': 2}. Best is trial 27 with value: 0.1443510680826395.\u001b[0m\n",
            "bagging, val_score: 0.139256:  50%|#####     | 5/10 [00:02<00:02,  1.79it/s]"
          ]
        },
        {
          "output_type": "stream",
          "name": "stdout",
          "text": [
            "Did not meet early stopping. Best iteration is:\n",
            "[100]\tTrain's rmse: 0.139057\tTest's rmse: 0.146055\n",
            "Training until validation scores don't improve for 50 rounds.\n"
          ]
        },
        {
          "output_type": "stream",
          "name": "stderr",
          "text": [
            "bagging, val_score: 0.139256:  60%|######    | 6/10 [00:03<00:02,  1.80it/s]\u001b[32m[I 2021-12-10 12:06:34,427]\u001b[0m Trial 32 finished with value: 0.161291292955771 and parameters: {'bagging_fraction': 0.769823327367429, 'bagging_freq': 6}. Best is trial 27 with value: 0.1443510680826395.\u001b[0m\n",
            "bagging, val_score: 0.139256:  60%|######    | 6/10 [00:03<00:02,  1.80it/s]"
          ]
        },
        {
          "output_type": "stream",
          "name": "stdout",
          "text": [
            "Did not meet early stopping. Best iteration is:\n",
            "[99]\tTrain's rmse: 0.162026\tTest's rmse: 0.161291\n",
            "Training until validation scores don't improve for 50 rounds.\n"
          ]
        },
        {
          "output_type": "stream",
          "name": "stderr",
          "text": [
            "bagging, val_score: 0.139256:  70%|#######   | 7/10 [00:03<00:01,  1.80it/s]\u001b[32m[I 2021-12-10 12:06:34,982]\u001b[0m Trial 33 finished with value: 0.15584369961375624 and parameters: {'bagging_fraction': 0.5953045339600278, 'bagging_freq': 3}. Best is trial 27 with value: 0.1443510680826395.\u001b[0m\n",
            "bagging, val_score: 0.139256:  70%|#######   | 7/10 [00:03<00:01,  1.80it/s]"
          ]
        },
        {
          "output_type": "stream",
          "name": "stdout",
          "text": [
            "Did not meet early stopping. Best iteration is:\n",
            "[96]\tTrain's rmse: 0.168738\tTest's rmse: 0.155844\n",
            "Training until validation scores don't improve for 50 rounds.\n"
          ]
        },
        {
          "output_type": "stream",
          "name": "stderr",
          "text": [
            "bagging, val_score: 0.139256:  80%|########  | 8/10 [00:04<00:01,  1.79it/s]\u001b[32m[I 2021-12-10 12:06:35,546]\u001b[0m Trial 34 finished with value: 0.14679246955998138 and parameters: {'bagging_fraction': 0.9599888309647324, 'bagging_freq': 4}. Best is trial 27 with value: 0.1443510680826395.\u001b[0m\n",
            "bagging, val_score: 0.139256:  80%|########  | 8/10 [00:04<00:01,  1.79it/s]"
          ]
        },
        {
          "output_type": "stream",
          "name": "stdout",
          "text": [
            "Did not meet early stopping. Best iteration is:\n",
            "[100]\tTrain's rmse: 0.136051\tTest's rmse: 0.146792\n",
            "Training until validation scores don't improve for 50 rounds.\n"
          ]
        },
        {
          "output_type": "stream",
          "name": "stderr",
          "text": [
            "bagging, val_score: 0.139256:  90%|######### | 9/10 [00:04<00:00,  1.82it/s]\u001b[32m[I 2021-12-10 12:06:36,080]\u001b[0m Trial 35 finished with value: 0.1499328392693356 and parameters: {'bagging_fraction': 0.607565976016512, 'bagging_freq': 2}. Best is trial 27 with value: 0.1443510680826395.\u001b[0m\n",
            "bagging, val_score: 0.139256:  90%|######### | 9/10 [00:05<00:00,  1.82it/s]"
          ]
        },
        {
          "output_type": "stream",
          "name": "stdout",
          "text": [
            "Did not meet early stopping. Best iteration is:\n",
            "[100]\tTrain's rmse: 0.171134\tTest's rmse: 0.149933\n",
            "Training until validation scores don't improve for 50 rounds.\n"
          ]
        },
        {
          "output_type": "stream",
          "name": "stderr",
          "text": [
            "bagging, val_score: 0.139256: 100%|##########| 10/10 [00:05<00:00,  1.84it/s]\u001b[32m[I 2021-12-10 12:06:36,605]\u001b[0m Trial 36 finished with value: 0.15713753518676343 and parameters: {'bagging_fraction': 0.5848104790245044, 'bagging_freq': 7}. Best is trial 27 with value: 0.1443510680826395.\u001b[0m\n",
            "bagging, val_score: 0.139256: 100%|##########| 10/10 [00:05<00:00,  1.81it/s]\n"
          ]
        },
        {
          "output_type": "stream",
          "name": "stdout",
          "text": [
            "Did not meet early stopping. Best iteration is:\n",
            "[100]\tTrain's rmse: 0.173415\tTest's rmse: 0.157138\n"
          ]
        },
        {
          "output_type": "stream",
          "name": "stderr",
          "text": [
            "feature_fraction_stage2, val_score: 0.139256:   0%|          | 0/6 [00:00<?, ?it/s]"
          ]
        },
        {
          "output_type": "stream",
          "name": "stdout",
          "text": [
            "Training until validation scores don't improve for 50 rounds.\n"
          ]
        },
        {
          "output_type": "stream",
          "name": "stderr",
          "text": [
            "feature_fraction_stage2, val_score: 0.139256:  17%|#6        | 1/6 [00:00<00:02,  2.05it/s]\u001b[32m[I 2021-12-10 12:06:37,125]\u001b[0m Trial 37 finished with value: 0.13925631595127572 and parameters: {'feature_fraction': 0.8160000000000001}. Best is trial 37 with value: 0.13925631595127572.\u001b[0m\n",
            "feature_fraction_stage2, val_score: 0.139256:  17%|#6        | 1/6 [00:00<00:02,  2.05it/s]"
          ]
        },
        {
          "output_type": "stream",
          "name": "stdout",
          "text": [
            "Did not meet early stopping. Best iteration is:\n",
            "[100]\tTrain's rmse: 0.128875\tTest's rmse: 0.139256\n",
            "Training until validation scores don't improve for 50 rounds.\n"
          ]
        },
        {
          "output_type": "stream",
          "name": "stderr",
          "text": [
            "feature_fraction_stage2, val_score: 0.139256:  33%|###3      | 2/6 [00:00<00:01,  2.07it/s]\u001b[32m[I 2021-12-10 12:06:37,603]\u001b[0m Trial 38 finished with value: 0.14231731003631473 and parameters: {'feature_fraction': 0.7200000000000001}. Best is trial 37 with value: 0.13925631595127572.\u001b[0m\n",
            "feature_fraction_stage2, val_score: 0.139256:  33%|###3      | 2/6 [00:00<00:01,  2.07it/s]"
          ]
        },
        {
          "output_type": "stream",
          "name": "stdout",
          "text": [
            "Did not meet early stopping. Best iteration is:\n",
            "[100]\tTrain's rmse: 0.124599\tTest's rmse: 0.142317\n",
            "Training until validation scores don't improve for 50 rounds.\n"
          ]
        },
        {
          "output_type": "stream",
          "name": "stderr",
          "text": [
            "feature_fraction_stage2, val_score: 0.139256:  50%|#####     | 3/6 [00:01<00:01,  2.02it/s]\u001b[32m[I 2021-12-10 12:06:38,118]\u001b[0m Trial 39 finished with value: 0.14161883447338924 and parameters: {'feature_fraction': 0.8480000000000001}. Best is trial 37 with value: 0.13925631595127572.\u001b[0m\n",
            "feature_fraction_stage2, val_score: 0.139256:  50%|#####     | 3/6 [00:01<00:01,  2.02it/s]"
          ]
        },
        {
          "output_type": "stream",
          "name": "stdout",
          "text": [
            "Did not meet early stopping. Best iteration is:\n",
            "[100]\tTrain's rmse: 0.142468\tTest's rmse: 0.141619\n",
            "Training until validation scores don't improve for 50 rounds.\n"
          ]
        },
        {
          "output_type": "stream",
          "name": "stderr",
          "text": [
            "feature_fraction_stage2, val_score: 0.139256:  67%|######6   | 4/6 [00:01<00:00,  2.01it/s]\u001b[32m[I 2021-12-10 12:06:38,616]\u001b[0m Trial 40 finished with value: 0.14161883447338924 and parameters: {'feature_fraction': 0.88}. Best is trial 37 with value: 0.13925631595127572.\u001b[0m\n",
            "feature_fraction_stage2, val_score: 0.139256:  67%|######6   | 4/6 [00:01<00:00,  2.01it/s]"
          ]
        },
        {
          "output_type": "stream",
          "name": "stdout",
          "text": [
            "Did not meet early stopping. Best iteration is:\n",
            "[100]\tTrain's rmse: 0.142468\tTest's rmse: 0.141619\n",
            "Training until validation scores don't improve for 50 rounds.\n"
          ]
        },
        {
          "output_type": "stream",
          "name": "stderr",
          "text": [
            "feature_fraction_stage2, val_score: 0.139256:  83%|########3 | 5/6 [00:02<00:00,  2.04it/s]\u001b[32m[I 2021-12-10 12:06:39,093]\u001b[0m Trial 41 finished with value: 0.14149331685906763 and parameters: {'feature_fraction': 0.784}. Best is trial 37 with value: 0.13925631595127572.\u001b[0m\n",
            "feature_fraction_stage2, val_score: 0.139256:  83%|########3 | 5/6 [00:02<00:00,  2.04it/s]"
          ]
        },
        {
          "output_type": "stream",
          "name": "stdout",
          "text": [
            "Did not meet early stopping. Best iteration is:\n",
            "[100]\tTrain's rmse: 0.122336\tTest's rmse: 0.141493\n",
            "Training until validation scores don't improve for 50 rounds.\n"
          ]
        },
        {
          "output_type": "stream",
          "name": "stderr",
          "text": [
            "feature_fraction_stage2, val_score: 0.139256: 100%|##########| 6/6 [00:02<00:00,  2.07it/s]\u001b[32m[I 2021-12-10 12:06:39,560]\u001b[0m Trial 42 finished with value: 0.14149331685906763 and parameters: {'feature_fraction': 0.7520000000000001}. Best is trial 37 with value: 0.13925631595127572.\u001b[0m\n",
            "feature_fraction_stage2, val_score: 0.139256: 100%|##########| 6/6 [00:02<00:00,  2.04it/s]\n"
          ]
        },
        {
          "output_type": "stream",
          "name": "stdout",
          "text": [
            "Did not meet early stopping. Best iteration is:\n",
            "[100]\tTrain's rmse: 0.122336\tTest's rmse: 0.141493\n"
          ]
        },
        {
          "output_type": "stream",
          "name": "stderr",
          "text": [
            "regularization_factors, val_score: 0.139256:   0%|          | 0/20 [00:00<?, ?it/s]"
          ]
        },
        {
          "output_type": "stream",
          "name": "stdout",
          "text": [
            "Training until validation scores don't improve for 50 rounds.\n"
          ]
        },
        {
          "output_type": "stream",
          "name": "stderr",
          "text": [
            "regularization_factors, val_score: 0.139256:   5%|5         | 1/20 [00:00<00:09,  2.06it/s]\u001b[32m[I 2021-12-10 12:06:40,067]\u001b[0m Trial 43 finished with value: 0.14370925739637547 and parameters: {'lambda_l1': 0.11667285977804918, 'lambda_l2': 1.1294724028670626e-05}. Best is trial 43 with value: 0.14370925739637547.\u001b[0m\n",
            "regularization_factors, val_score: 0.139256:   5%|5         | 1/20 [00:00<00:09,  2.06it/s]"
          ]
        },
        {
          "output_type": "stream",
          "name": "stdout",
          "text": [
            "Did not meet early stopping. Best iteration is:\n",
            "[100]\tTrain's rmse: 0.136524\tTest's rmse: 0.143709\n",
            "Training until validation scores don't improve for 50 rounds.\n"
          ]
        },
        {
          "output_type": "stream",
          "name": "stderr",
          "text": [
            "regularization_factors, val_score: 0.139256:  10%|#         | 2/20 [00:00<00:08,  2.12it/s]\u001b[32m[I 2021-12-10 12:06:40,539]\u001b[0m Trial 44 finished with value: 0.1403287160811118 and parameters: {'lambda_l1': 0.05238741231333215, 'lambda_l2': 1.472369460677198e-07}. Best is trial 44 with value: 0.1403287160811118.\u001b[0m\n",
            "regularization_factors, val_score: 0.139256:  10%|#         | 2/20 [00:00<00:08,  2.12it/s]"
          ]
        },
        {
          "output_type": "stream",
          "name": "stdout",
          "text": [
            "Did not meet early stopping. Best iteration is:\n",
            "[100]\tTrain's rmse: 0.130552\tTest's rmse: 0.140329\n",
            "Training until validation scores don't improve for 50 rounds.\n"
          ]
        },
        {
          "output_type": "stream",
          "name": "stderr",
          "text": [
            "regularization_factors, val_score: 0.139256:  15%|#5        | 3/20 [00:01<00:08,  2.03it/s]\u001b[32m[I 2021-12-10 12:06:41,046]\u001b[0m Trial 45 finished with value: 0.1392563159760085 and parameters: {'lambda_l1': 1.4923892291102232e-08, 'lambda_l2': 4.214088941300795e-08}. Best is trial 45 with value: 0.1392563159760085.\u001b[0m\n",
            "regularization_factors, val_score: 0.139256:  15%|#5        | 3/20 [00:01<00:08,  2.03it/s]"
          ]
        },
        {
          "output_type": "stream",
          "name": "stdout",
          "text": [
            "Did not meet early stopping. Best iteration is:\n",
            "[100]\tTrain's rmse: 0.128875\tTest's rmse: 0.139256\n",
            "Training until validation scores don't improve for 50 rounds.\n"
          ]
        },
        {
          "output_type": "stream",
          "name": "stderr",
          "text": [
            "regularization_factors, val_score: 0.139256:  20%|##        | 4/20 [00:01<00:07,  2.03it/s]\u001b[32m[I 2021-12-10 12:06:41,539]\u001b[0m Trial 46 finished with value: 0.13925632300509555 and parameters: {'lambda_l1': 2.994762147676923e-06, 'lambda_l2': 6.954859694198454e-06}. Best is trial 45 with value: 0.1392563159760085.\u001b[0m\n",
            "regularization_factors, val_score: 0.139256:  20%|##        | 4/20 [00:01<00:07,  2.03it/s]"
          ]
        },
        {
          "output_type": "stream",
          "name": "stdout",
          "text": [
            "Did not meet early stopping. Best iteration is:\n",
            "[100]\tTrain's rmse: 0.128875\tTest's rmse: 0.139256\n",
            "Training until validation scores don't improve for 50 rounds.\n"
          ]
        },
        {
          "output_type": "stream",
          "name": "stderr",
          "text": [
            "regularization_factors, val_score: 0.139256:  25%|##5       | 5/20 [00:02<00:07,  2.03it/s]\u001b[32m[I 2021-12-10 12:06:42,034]\u001b[0m Trial 47 finished with value: 0.1428718006969475 and parameters: {'lambda_l1': 0.005717370928925636, 'lambda_l2': 1.9821507877528984e-07}. Best is trial 45 with value: 0.1392563159760085.\u001b[0m\n",
            "regularization_factors, val_score: 0.139256:  25%|##5       | 5/20 [00:02<00:07,  2.03it/s]"
          ]
        },
        {
          "output_type": "stream",
          "name": "stdout",
          "text": [
            "Did not meet early stopping. Best iteration is:\n",
            "[100]\tTrain's rmse: 0.129265\tTest's rmse: 0.142872\n",
            "Training until validation scores don't improve for 50 rounds.\n"
          ]
        },
        {
          "output_type": "stream",
          "name": "stderr",
          "text": [
            "regularization_factors, val_score: 0.139256:  30%|###       | 6/20 [00:02<00:06,  2.06it/s]\u001b[32m[I 2021-12-10 12:06:42,500]\u001b[0m Trial 48 finished with value: 0.1434738551296399 and parameters: {'lambda_l1': 0.00011909521991209386, 'lambda_l2': 4.475913913460202e-05}. Best is trial 45 with value: 0.1392563159760085.\u001b[0m\n",
            "regularization_factors, val_score: 0.139256:  30%|###       | 6/20 [00:02<00:06,  2.06it/s]"
          ]
        },
        {
          "output_type": "stream",
          "name": "stdout",
          "text": [
            "Did not meet early stopping. Best iteration is:\n",
            "[100]\tTrain's rmse: 0.135955\tTest's rmse: 0.143474\n",
            "Training until validation scores don't improve for 50 rounds.\n"
          ]
        },
        {
          "output_type": "stream",
          "name": "stderr",
          "text": [
            "regularization_factors, val_score: 0.139256:  35%|###5      | 7/20 [00:03<00:06,  2.05it/s]\u001b[32m[I 2021-12-10 12:06:42,992]\u001b[0m Trial 49 finished with value: 0.14184975643856132 and parameters: {'lambda_l1': 0.014965815368040756, 'lambda_l2': 0.12199687741318847}. Best is trial 45 with value: 0.1392563159760085.\u001b[0m\n",
            "regularization_factors, val_score: 0.139256:  35%|###5      | 7/20 [00:03<00:06,  2.05it/s]"
          ]
        },
        {
          "output_type": "stream",
          "name": "stdout",
          "text": [
            "Did not meet early stopping. Best iteration is:\n",
            "[100]\tTrain's rmse: 0.136899\tTest's rmse: 0.14185\n",
            "Training until validation scores don't improve for 50 rounds.\n"
          ]
        },
        {
          "output_type": "stream",
          "name": "stderr",
          "text": [
            "regularization_factors, val_score: 0.139256:  40%|####      | 8/20 [00:03<00:05,  2.05it/s]\u001b[32m[I 2021-12-10 12:06:43,482]\u001b[0m Trial 50 finished with value: 0.1392563257008885 and parameters: {'lambda_l1': 2.8025555953590116e-07, 'lambda_l2': 2.4521739824369987e-05}. Best is trial 45 with value: 0.1392563159760085.\u001b[0m\n",
            "regularization_factors, val_score: 0.139256:  40%|####      | 8/20 [00:03<00:05,  2.05it/s]"
          ]
        },
        {
          "output_type": "stream",
          "name": "stdout",
          "text": [
            "Did not meet early stopping. Best iteration is:\n",
            "[100]\tTrain's rmse: 0.128875\tTest's rmse: 0.139256\n",
            "Training until validation scores don't improve for 50 rounds.\n"
          ]
        },
        {
          "output_type": "stream",
          "name": "stderr",
          "text": [
            "regularization_factors, val_score: 0.139256:  45%|####5     | 9/20 [00:04<00:05,  2.04it/s]\u001b[32m[I 2021-12-10 12:06:43,986]\u001b[0m Trial 51 finished with value: 0.1392563167861052 and parameters: {'lambda_l1': 2.7127276824197037e-07, 'lambda_l2': 6.387993039048727e-07}. Best is trial 45 with value: 0.1392563159760085.\u001b[0m\n",
            "regularization_factors, val_score: 0.139256:  45%|####5     | 9/20 [00:04<00:05,  2.04it/s]"
          ]
        },
        {
          "output_type": "stream",
          "name": "stdout",
          "text": [
            "Did not meet early stopping. Best iteration is:\n",
            "[100]\tTrain's rmse: 0.128875\tTest's rmse: 0.139256\n",
            "Training until validation scores don't improve for 50 rounds.\n"
          ]
        },
        {
          "output_type": "stream",
          "name": "stderr",
          "text": [
            "regularization_factors, val_score: 0.139256:  50%|#####     | 10/20 [00:04<00:04,  2.12it/s]\u001b[32m[I 2021-12-10 12:06:44,410]\u001b[0m Trial 52 finished with value: 0.14854238296606093 and parameters: {'lambda_l1': 1.2263972004773458, 'lambda_l2': 0.24866736140908838}. Best is trial 45 with value: 0.1392563159760085.\u001b[0m\n",
            "regularization_factors, val_score: 0.139256:  50%|#####     | 10/20 [00:04<00:04,  2.12it/s]"
          ]
        },
        {
          "output_type": "stream",
          "name": "stdout",
          "text": [
            "Did not meet early stopping. Best iteration is:\n",
            "[100]\tTrain's rmse: 0.123248\tTest's rmse: 0.148542\n",
            "Training until validation scores don't improve for 50 rounds.\n"
          ]
        },
        {
          "output_type": "stream",
          "name": "stderr",
          "text": [
            "regularization_factors, val_score: 0.139256:  55%|#####5    | 11/20 [00:05<00:04,  2.06it/s]\u001b[32m[I 2021-12-10 12:06:44,925]\u001b[0m Trial 53 finished with value: 0.13925644524842026 and parameters: {'lambda_l1': 1.0376600121936154e-08, 'lambda_l2': 0.0020358518964563857}. Best is trial 45 with value: 0.1392563159760085.\u001b[0m\n",
            "regularization_factors, val_score: 0.139256:  55%|#####5    | 11/20 [00:05<00:04,  2.06it/s]"
          ]
        },
        {
          "output_type": "stream",
          "name": "stdout",
          "text": [
            "Did not meet early stopping. Best iteration is:\n",
            "[100]\tTrain's rmse: 0.128876\tTest's rmse: 0.139256\n",
            "Training until validation scores don't improve for 50 rounds.\n"
          ]
        },
        {
          "output_type": "stream",
          "name": "stderr",
          "text": [
            "regularization_factors, val_score: 0.139256:  60%|######    | 12/20 [00:05<00:03,  2.04it/s]\u001b[32m[I 2021-12-10 12:06:45,431]\u001b[0m Trial 54 finished with value: 0.13925631599241275 and parameters: {'lambda_l1': 1.132776508101385e-08, 'lambda_l2': 2.3133591876175042e-08}. Best is trial 45 with value: 0.1392563159760085.\u001b[0m\n",
            "regularization_factors, val_score: 0.139256:  60%|######    | 12/20 [00:05<00:03,  2.04it/s]"
          ]
        },
        {
          "output_type": "stream",
          "name": "stdout",
          "text": [
            "Did not meet early stopping. Best iteration is:\n",
            "[100]\tTrain's rmse: 0.128875\tTest's rmse: 0.139256\n",
            "Training until validation scores don't improve for 50 rounds.\n"
          ]
        },
        {
          "output_type": "stream",
          "name": "stderr",
          "text": [
            "regularization_factors, val_score: 0.139256:  65%|######5   | 13/20 [00:06<00:03,  2.03it/s]\u001b[32m[I 2021-12-10 12:06:45,922]\u001b[0m Trial 55 finished with value: 0.13925631599902386 and parameters: {'lambda_l1': 1.101045305866402e-08, 'lambda_l2': 1.110456781235974e-08}. Best is trial 45 with value: 0.1392563159760085.\u001b[0m\n",
            "regularization_factors, val_score: 0.139256:  65%|######5   | 13/20 [00:06<00:03,  2.03it/s]"
          ]
        },
        {
          "output_type": "stream",
          "name": "stdout",
          "text": [
            "Did not meet early stopping. Best iteration is:\n",
            "[100]\tTrain's rmse: 0.128875\tTest's rmse: 0.139256\n",
            "Training until validation scores don't improve for 50 rounds.\n"
          ]
        },
        {
          "output_type": "stream",
          "name": "stderr",
          "text": [
            "regularization_factors, val_score: 0.139256:  70%|#######   | 14/20 [00:06<00:02,  2.04it/s]\u001b[32m[I 2021-12-10 12:06:46,410]\u001b[0m Trial 56 finished with value: 0.1392563694892017 and parameters: {'lambda_l1': 3.644479621805577e-05, 'lambda_l2': 1.1841775288691575e-08}. Best is trial 45 with value: 0.1392563159760085.\u001b[0m\n",
            "regularization_factors, val_score: 0.139256:  70%|#######   | 14/20 [00:06<00:02,  2.04it/s]"
          ]
        },
        {
          "output_type": "stream",
          "name": "stdout",
          "text": [
            "Did not meet early stopping. Best iteration is:\n",
            "[100]\tTrain's rmse: 0.128875\tTest's rmse: 0.139256\n",
            "Training until validation scores don't improve for 50 rounds.\n"
          ]
        },
        {
          "output_type": "stream",
          "name": "stderr",
          "text": [
            "regularization_factors, val_score: 0.139256:  75%|#######5  | 15/20 [00:07<00:02,  2.05it/s]\u001b[32m[I 2021-12-10 12:06:46,891]\u001b[0m Trial 57 finished with value: 0.1504845415895073 and parameters: {'lambda_l1': 3.1031377585020653e-07, 'lambda_l2': 6.809335502872937}. Best is trial 45 with value: 0.1392563159760085.\u001b[0m\n",
            "regularization_factors, val_score: 0.139256:  75%|#######5  | 15/20 [00:07<00:02,  2.05it/s]"
          ]
        },
        {
          "output_type": "stream",
          "name": "stdout",
          "text": [
            "Did not meet early stopping. Best iteration is:\n",
            "[100]\tTrain's rmse: 0.141975\tTest's rmse: 0.150485\n",
            "Training until validation scores don't improve for 50 rounds.\n"
          ]
        },
        {
          "output_type": "stream",
          "name": "stderr",
          "text": [
            "regularization_factors, val_score: 0.139256:  80%|########  | 16/20 [00:07<00:01,  2.03it/s]\u001b[32m[I 2021-12-10 12:06:47,398]\u001b[0m Trial 58 finished with value: 0.13925579803905805 and parameters: {'lambda_l1': 5.635855509160601e-06, 'lambda_l2': 0.000329153439059644}. Best is trial 58 with value: 0.13925579803905805.\u001b[0m\n",
            "regularization_factors, val_score: 0.139256:  80%|########  | 16/20 [00:07<00:01,  2.03it/s]"
          ]
        },
        {
          "output_type": "stream",
          "name": "stdout",
          "text": [
            "Did not meet early stopping. Best iteration is:\n",
            "[100]\tTrain's rmse: 0.128874\tTest's rmse: 0.139256\n",
            "Training until validation scores don't improve for 50 rounds.\n"
          ]
        },
        {
          "output_type": "stream",
          "name": "stderr",
          "text": [
            "regularization_factors, val_score: 0.139256:  85%|########5 | 17/20 [00:08<00:01,  2.01it/s]\u001b[32m[I 2021-12-10 12:06:47,909]\u001b[0m Trial 59 finished with value: 0.13925625802489563 and parameters: {'lambda_l1': 9.373709034182949e-06, 'lambda_l2': 0.001512695225905393}. Best is trial 58 with value: 0.13925579803905805.\u001b[0m\n",
            "regularization_factors, val_score: 0.139256:  85%|########5 | 17/20 [00:08<00:01,  2.01it/s]"
          ]
        },
        {
          "output_type": "stream",
          "name": "stdout",
          "text": [
            "Did not meet early stopping. Best iteration is:\n",
            "[100]\tTrain's rmse: 0.128876\tTest's rmse: 0.139256\n",
            "Training until validation scores don't improve for 50 rounds.\n"
          ]
        },
        {
          "output_type": "stream",
          "name": "stderr",
          "text": [
            "regularization_factors, val_score: 0.139256:  90%|######### | 18/20 [00:08<00:00,  2.01it/s]\u001b[32m[I 2021-12-10 12:06:48,399]\u001b[0m Trial 60 finished with value: 0.13925653828235857 and parameters: {'lambda_l1': 2.198916084529542e-05, 'lambda_l2': 0.0021949111124659804}. Best is trial 58 with value: 0.13925579803905805.\u001b[0m\n",
            "regularization_factors, val_score: 0.139256:  90%|######### | 18/20 [00:08<00:00,  2.01it/s]"
          ]
        },
        {
          "output_type": "stream",
          "name": "stdout",
          "text": [
            "Did not meet early stopping. Best iteration is:\n",
            "[100]\tTrain's rmse: 0.128877\tTest's rmse: 0.139257\n",
            "Training until validation scores don't improve for 50 rounds.\n"
          ]
        },
        {
          "output_type": "stream",
          "name": "stderr",
          "text": [
            "regularization_factors, val_score: 0.139256:  95%|#########5| 19/20 [00:09<00:00,  2.03it/s]\u001b[32m[I 2021-12-10 12:06:48,883]\u001b[0m Trial 61 finished with value: 0.14353284977229114 and parameters: {'lambda_l1': 0.0014183703285878006, 'lambda_l2': 0.0006615808836908183}. Best is trial 58 with value: 0.13925579803905805.\u001b[0m\n",
            "regularization_factors, val_score: 0.139256:  95%|#########5| 19/20 [00:09<00:00,  2.03it/s]"
          ]
        },
        {
          "output_type": "stream",
          "name": "stdout",
          "text": [
            "Did not meet early stopping. Best iteration is:\n",
            "[100]\tTrain's rmse: 0.137925\tTest's rmse: 0.143533\n",
            "Training until validation scores don't improve for 50 rounds.\n"
          ]
        },
        {
          "output_type": "stream",
          "name": "stderr",
          "text": [
            "regularization_factors, val_score: 0.137960: 100%|##########| 20/20 [00:09<00:00,  2.02it/s]\u001b[32m[I 2021-12-10 12:06:49,384]\u001b[0m Trial 62 finished with value: 0.13795973992051572 and parameters: {'lambda_l1': 4.465801316511152e-06, 'lambda_l2': 0.01709026874553397}. Best is trial 62 with value: 0.13795973992051572.\u001b[0m\n",
            "regularization_factors, val_score: 0.137960: 100%|##########| 20/20 [00:09<00:00,  2.04it/s]\n"
          ]
        },
        {
          "output_type": "stream",
          "name": "stdout",
          "text": [
            "Did not meet early stopping. Best iteration is:\n",
            "[100]\tTrain's rmse: 0.128977\tTest's rmse: 0.13796\n"
          ]
        },
        {
          "output_type": "stream",
          "name": "stderr",
          "text": [
            "min_data_in_leaf, val_score: 0.137960:   0%|          | 0/5 [00:00<?, ?it/s]"
          ]
        },
        {
          "output_type": "stream",
          "name": "stdout",
          "text": [
            "Training until validation scores don't improve for 50 rounds.\n"
          ]
        },
        {
          "output_type": "stream",
          "name": "stderr",
          "text": [
            "min_data_in_leaf, val_score: 0.137960:  20%|##        | 1/5 [00:00<00:01,  2.19it/s]\u001b[32m[I 2021-12-10 12:06:49,857]\u001b[0m Trial 63 finished with value: 0.15107772109518197 and parameters: {'min_child_samples': 5}. Best is trial 63 with value: 0.15107772109518197.\u001b[0m\n",
            "min_data_in_leaf, val_score: 0.137960:  20%|##        | 1/5 [00:00<00:01,  2.19it/s]"
          ]
        },
        {
          "output_type": "stream",
          "name": "stdout",
          "text": [
            "Early stopping, best iteration is:\n",
            "[42]\tTrain's rmse: 0.0716817\tTest's rmse: 0.151078\n",
            "Training until validation scores don't improve for 50 rounds.\n"
          ]
        },
        {
          "output_type": "stream",
          "name": "stderr",
          "text": [
            "min_data_in_leaf, val_score: 0.137960:  40%|####      | 2/5 [00:00<00:01,  2.15it/s]\u001b[32m[I 2021-12-10 12:06:50,327]\u001b[0m Trial 64 finished with value: 0.1545460602180113 and parameters: {'min_child_samples': 10}. Best is trial 63 with value: 0.15107772109518197.\u001b[0m\n",
            "min_data_in_leaf, val_score: 0.137960:  40%|####      | 2/5 [00:00<00:01,  2.15it/s]"
          ]
        },
        {
          "output_type": "stream",
          "name": "stdout",
          "text": [
            "Did not meet early stopping. Best iteration is:\n",
            "[100]\tTrain's rmse: 0.0675857\tTest's rmse: 0.154546\n",
            "Training until validation scores don't improve for 50 rounds.\n"
          ]
        },
        {
          "output_type": "stream",
          "name": "stderr",
          "text": [
            "min_data_in_leaf, val_score: 0.137960:  60%|######    | 3/5 [00:01<00:00,  2.10it/s]\u001b[32m[I 2021-12-10 12:06:50,818]\u001b[0m Trial 65 finished with value: 0.19613684564693987 and parameters: {'min_child_samples': 100}. Best is trial 63 with value: 0.15107772109518197.\u001b[0m\n",
            "min_data_in_leaf, val_score: 0.137960:  60%|######    | 3/5 [00:01<00:00,  2.10it/s]"
          ]
        },
        {
          "output_type": "stream",
          "name": "stdout",
          "text": [
            "Did not meet early stopping. Best iteration is:\n",
            "[100]\tTrain's rmse: 0.283201\tTest's rmse: 0.196137\n",
            "Training until validation scores don't improve for 50 rounds.\n"
          ]
        },
        {
          "output_type": "stream",
          "name": "stderr",
          "text": [
            "min_data_in_leaf, val_score: 0.137960:  80%|########  | 4/5 [00:01<00:00,  2.05it/s]\u001b[32m[I 2021-12-10 12:06:51,320]\u001b[0m Trial 66 finished with value: 0.15318836527461774 and parameters: {'min_child_samples': 25}. Best is trial 63 with value: 0.15107772109518197.\u001b[0m\n",
            "min_data_in_leaf, val_score: 0.137960:  80%|########  | 4/5 [00:01<00:00,  2.05it/s]"
          ]
        },
        {
          "output_type": "stream",
          "name": "stdout",
          "text": [
            "Did not meet early stopping. Best iteration is:\n",
            "[100]\tTrain's rmse: 0.145115\tTest's rmse: 0.153188\n",
            "Training until validation scores don't improve for 50 rounds.\n"
          ]
        },
        {
          "output_type": "stream",
          "name": "stderr",
          "text": [
            "min_data_in_leaf, val_score: 0.137960: 100%|##########| 5/5 [00:02<00:00,  2.03it/s]\u001b[32m[I 2021-12-10 12:06:51,822]\u001b[0m Trial 67 finished with value: 0.1803238991760396 and parameters: {'min_child_samples': 50}. Best is trial 63 with value: 0.15107772109518197.\u001b[0m\n",
            "min_data_in_leaf, val_score: 0.137960: 100%|##########| 5/5 [00:02<00:00,  2.06it/s]"
          ]
        },
        {
          "output_type": "stream",
          "name": "stdout",
          "text": [
            "Did not meet early stopping. Best iteration is:\n",
            "[100]\tTrain's rmse: 0.228374\tTest's rmse: 0.180324\n"
          ]
        },
        {
          "output_type": "stream",
          "name": "stderr",
          "text": [
            "\n"
          ]
        },
        {
          "output_type": "display_data",
          "data": {
            "image/png": "[encoded data removed]",
            "text/plain": [
              "<Figure size 432x288 with 1 Axes>"
            ]
          },
          "metadata": {
            "needs_background": "light"
          }
        },
        {
          "output_type": "stream",
          "name": "stderr",
          "text": [
            "\u001b[32m[I 2021-12-10 12:06:52,066]\u001b[0m A new study created in memory with name: no-name-9b0b9cdb-1683-43b4-81a0-484bbed81ad7\u001b[0m\n",
            "feature_fraction, val_score: inf:   0%|          | 0/7 [00:00<?, ?it/s]"
          ]
        },
        {
          "output_type": "stream",
          "name": "stdout",
          "text": [
            "Training until validation scores don't improve for 50 rounds.\n"
          ]
        },
        {
          "output_type": "stream",
          "name": "stderr",
          "text": [
            "feature_fraction, val_score: 0.106158:  14%|#4        | 1/7 [00:00<00:02,  2.87it/s]\u001b[32m[I 2021-12-10 12:06:52,425]\u001b[0m Trial 0 finished with value: 0.10615833108191376 and parameters: {'feature_fraction': 0.4}. Best is trial 0 with value: 0.10615833108191376.\u001b[0m\n",
            "feature_fraction, val_score: 0.106158:  14%|#4        | 1/7 [00:00<00:02,  2.87it/s]"
          ]
        },
        {
          "output_type": "stream",
          "name": "stdout",
          "text": [
            "Did not meet early stopping. Best iteration is:\n",
            "[100]\tTrain's rmse: 0.142166\tTest's rmse: 0.106158\n",
            "Training until validation scores don't improve for 50 rounds.\n"
          ]
        },
        {
          "output_type": "stream",
          "name": "stderr",
          "text": [
            "feature_fraction, val_score: 0.083282:  29%|##8       | 2/7 [00:00<00:01,  2.53it/s]\u001b[32m[I 2021-12-10 12:06:52,853]\u001b[0m Trial 1 finished with value: 0.08328249485144172 and parameters: {'feature_fraction': 0.6}. Best is trial 1 with value: 0.08328249485144172.\u001b[0m\n",
            "feature_fraction, val_score: 0.083282:  29%|##8       | 2/7 [00:00<00:01,  2.53it/s]"
          ]
        },
        {
          "output_type": "stream",
          "name": "stdout",
          "text": [
            "Did not meet early stopping. Best iteration is:\n",
            "[100]\tTrain's rmse: 0.13123\tTest's rmse: 0.0832825\n",
            "Training until validation scores don't improve for 50 rounds.\n"
          ]
        },
        {
          "output_type": "stream",
          "name": "stderr",
          "text": [
            "feature_fraction, val_score: 0.083282:  43%|####2     | 3/7 [00:01<00:01,  2.49it/s]\u001b[32m[I 2021-12-10 12:06:53,261]\u001b[0m Trial 2 finished with value: 0.10061889839855907 and parameters: {'feature_fraction': 0.5}. Best is trial 1 with value: 0.08328249485144172.\u001b[0m\n",
            "feature_fraction, val_score: 0.083282:  43%|####2     | 3/7 [00:01<00:01,  2.49it/s]"
          ]
        },
        {
          "output_type": "stream",
          "name": "stdout",
          "text": [
            "Did not meet early stopping. Best iteration is:\n",
            "[100]\tTrain's rmse: 0.137443\tTest's rmse: 0.100619\n",
            "Training until validation scores don't improve for 50 rounds.\n"
          ]
        },
        {
          "output_type": "stream",
          "name": "stderr",
          "text": [
            "feature_fraction, val_score: 0.021773:  57%|#####7    | 4/7 [00:01<00:01,  2.34it/s]\u001b[32m[I 2021-12-10 12:06:53,732]\u001b[0m Trial 3 finished with value: 0.02177254108325357 and parameters: {'feature_fraction': 1.0}. Best is trial 3 with value: 0.02177254108325357.\u001b[0m\n",
            "feature_fraction, val_score: 0.021773:  57%|#####7    | 4/7 [00:01<00:01,  2.34it/s]"
          ]
        },
        {
          "output_type": "stream",
          "name": "stdout",
          "text": [
            "Early stopping, best iteration is:\n",
            "[43]\tTrain's rmse: 0.165773\tTest's rmse: 0.0217725\n",
            "Training until validation scores don't improve for 50 rounds.\n"
          ]
        },
        {
          "output_type": "stream",
          "name": "stderr",
          "text": [
            "feature_fraction, val_score: 0.021773:  71%|#######1  | 5/7 [00:02<00:00,  2.25it/s]\u001b[32m[I 2021-12-10 12:06:54,207]\u001b[0m Trial 4 finished with value: 0.047424802730389466 and parameters: {'feature_fraction': 0.8}. Best is trial 3 with value: 0.02177254108325357.\u001b[0m\n",
            "feature_fraction, val_score: 0.021773:  71%|#######1  | 5/7 [00:02<00:00,  2.25it/s]"
          ]
        },
        {
          "output_type": "stream",
          "name": "stdout",
          "text": [
            "Did not meet early stopping. Best iteration is:\n",
            "[100]\tTrain's rmse: 0.12607\tTest's rmse: 0.0474248\n",
            "Training until validation scores don't improve for 50 rounds.\n"
          ]
        },
        {
          "output_type": "stream",
          "name": "stderr",
          "text": [
            "feature_fraction, val_score: 0.021773:  86%|########5 | 6/7 [00:02<00:00,  2.19it/s]\u001b[32m[I 2021-12-10 12:06:54,685]\u001b[0m Trial 5 finished with value: 0.03958827496350937 and parameters: {'feature_fraction': 0.8999999999999999}. Best is trial 3 with value: 0.02177254108325357.\u001b[0m\n",
            "feature_fraction, val_score: 0.021773:  86%|########5 | 6/7 [00:02<00:00,  2.19it/s]"
          ]
        },
        {
          "output_type": "stream",
          "name": "stdout",
          "text": [
            "Did not meet early stopping. Best iteration is:\n",
            "[100]\tTrain's rmse: 0.153403\tTest's rmse: 0.0395883\n",
            "Training until validation scores don't improve for 50 rounds.\n"
          ]
        },
        {
          "output_type": "stream",
          "name": "stderr",
          "text": [
            "feature_fraction, val_score: 0.021773: 100%|##########| 7/7 [00:03<00:00,  2.21it/s]\u001b[32m[I 2021-12-10 12:06:55,127]\u001b[0m Trial 6 finished with value: 0.06638633431207216 and parameters: {'feature_fraction': 0.7}. Best is trial 3 with value: 0.02177254108325357.\u001b[0m\n",
            "feature_fraction, val_score: 0.021773: 100%|##########| 7/7 [00:03<00:00,  2.29it/s]\n"
          ]
        },
        {
          "output_type": "stream",
          "name": "stdout",
          "text": [
            "Did not meet early stopping. Best iteration is:\n",
            "[100]\tTrain's rmse: 0.132491\tTest's rmse: 0.0663863\n"
          ]
        },
        {
          "output_type": "stream",
          "name": "stderr",
          "text": [
            "num_leaves, val_score: 0.021773:   0%|          | 0/20 [00:00<?, ?it/s]"
          ]
        },
        {
          "output_type": "stream",
          "name": "stdout",
          "text": [
            "Training until validation scores don't improve for 50 rounds.\n"
          ]
        },
        {
          "output_type": "stream",
          "name": "stderr",
          "text": [
            "num_leaves, val_score: 0.020671:   5%|5         | 1/20 [00:00<00:13,  1.44it/s]\u001b[32m[I 2021-12-10 12:06:55,835]\u001b[0m Trial 7 finished with value: 0.020671486971142013 and parameters: {'num_leaves': 56}. Best is trial 7 with value: 0.020671486971142013.\u001b[0m\n",
            "num_leaves, val_score: 0.020671:   5%|5         | 1/20 [00:00<00:13,  1.44it/s]"
          ]
        },
        {
          "output_type": "stream",
          "name": "stdout",
          "text": [
            "Early stopping, best iteration is:\n",
            "[44]\tTrain's rmse: 0.16676\tTest's rmse: 0.0206715\n",
            "Training until validation scores don't improve for 50 rounds.\n"
          ]
        },
        {
          "output_type": "stream",
          "name": "stderr",
          "text": [
            "num_leaves, val_score: 0.020671:  10%|#         | 2/20 [00:01<00:12,  1.39it/s]\u001b[32m[I 2021-12-10 12:06:56,586]\u001b[0m Trial 8 finished with value: 0.02267127016267916 and parameters: {'num_leaves': 64}. Best is trial 7 with value: 0.020671486971142013.\u001b[0m\n",
            "num_leaves, val_score: 0.020671:  10%|#         | 2/20 [00:01<00:12,  1.39it/s]"
          ]
        },
        {
          "output_type": "stream",
          "name": "stdout",
          "text": [
            "Early stopping, best iteration is:\n",
            "[43]\tTrain's rmse: 0.168046\tTest's rmse: 0.0226713\n",
            "Training until validation scores don't improve for 50 rounds.\n"
          ]
        },
        {
          "output_type": "stream",
          "name": "stderr",
          "text": [
            "num_leaves, val_score: 0.020671:  15%|#5        | 3/20 [00:02<00:17,  1.01s/it]\u001b[32m[I 2021-12-10 12:06:57,941]\u001b[0m Trial 9 finished with value: 0.022104404094106436 and parameters: {'num_leaves': 165}. Best is trial 7 with value: 0.020671486971142013.\u001b[0m\n",
            "num_leaves, val_score: 0.020671:  15%|#5        | 3/20 [00:02<00:17,  1.01s/it]"
          ]
        },
        {
          "output_type": "stream",
          "name": "stdout",
          "text": [
            "Early stopping, best iteration is:\n",
            "[45]\tTrain's rmse: 0.165298\tTest's rmse: 0.0221044\n",
            "Training until validation scores don't improve for 50 rounds.\n"
          ]
        },
        {
          "output_type": "stream",
          "name": "stderr",
          "text": [
            "num_leaves, val_score: 0.020671:  20%|##        | 4/20 [00:03<00:13,  1.15it/s]\u001b[32m[I 2021-12-10 12:06:58,593]\u001b[0m Trial 10 finished with value: 0.02160489543024547 and parameters: {'num_leaves': 52}. Best is trial 7 with value: 0.020671486971142013.\u001b[0m\n",
            "num_leaves, val_score: 0.020671:  20%|##        | 4/20 [00:03<00:13,  1.15it/s]"
          ]
        },
        {
          "output_type": "stream",
          "name": "stdout",
          "text": [
            "Early stopping, best iteration is:\n",
            "[43]\tTrain's rmse: 0.165788\tTest's rmse: 0.0216049\n",
            "Training until validation scores don't improve for 50 rounds.\n"
          ]
        },
        {
          "output_type": "stream",
          "name": "stderr",
          "text": [
            "num_leaves, val_score: 0.020671:  25%|##5       | 5/20 [00:04<00:13,  1.11it/s]\u001b[32m[I 2021-12-10 12:06:59,535]\u001b[0m Trial 11 finished with value: 0.021771021063982238 and parameters: {'num_leaves': 93}. Best is trial 7 with value: 0.020671486971142013.\u001b[0m\n",
            "num_leaves, val_score: 0.020671:  25%|##5       | 5/20 [00:04<00:13,  1.11it/s]"
          ]
        },
        {
          "output_type": "stream",
          "name": "stdout",
          "text": [
            "Early stopping, best iteration is:\n",
            "[47]\tTrain's rmse: 0.164257\tTest's rmse: 0.021771\n",
            "Training until validation scores don't improve for 50 rounds.\n"
          ]
        },
        {
          "output_type": "stream",
          "name": "stderr",
          "text": [
            "num_leaves, val_score: 0.020671:  30%|###       | 6/20 [00:05<00:14,  1.00s/it]\u001b[32m[I 2021-12-10 12:07:00,740]\u001b[0m Trial 12 finished with value: 0.022146945111498412 and parameters: {'num_leaves': 136}. Best is trial 7 with value: 0.020671486971142013.\u001b[0m\n",
            "num_leaves, val_score: 0.020671:  30%|###       | 6/20 [00:05<00:14,  1.00s/it]"
          ]
        },
        {
          "output_type": "stream",
          "name": "stdout",
          "text": [
            "Early stopping, best iteration is:\n",
            "[45]\tTrain's rmse: 0.165307\tTest's rmse: 0.0221469\n",
            "Training until validation scores don't improve for 50 rounds.\n"
          ]
        },
        {
          "output_type": "stream",
          "name": "stderr",
          "text": [
            "num_leaves, val_score: 0.020671:  35%|###5      | 7/20 [00:06<00:10,  1.23it/s]\u001b[32m[I 2021-12-10 12:07:01,166]\u001b[0m Trial 13 finished with value: 0.021651712483993224 and parameters: {'num_leaves': 26}. Best is trial 7 with value: 0.020671486971142013.\u001b[0m\n",
            "num_leaves, val_score: 0.020671:  35%|###5      | 7/20 [00:06<00:10,  1.23it/s]"
          ]
        },
        {
          "output_type": "stream",
          "name": "stdout",
          "text": [
            "Early stopping, best iteration is:\n",
            "[43]\tTrain's rmse: 0.165436\tTest's rmse: 0.0216517\n",
            "Training until validation scores don't improve for 50 rounds.\n"
          ]
        },
        {
          "output_type": "stream",
          "name": "stderr",
          "text": [
            "num_leaves, val_score: 0.020671:  40%|####      | 8/20 [00:07<00:11,  1.06it/s]\u001b[32m[I 2021-12-10 12:07:02,384]\u001b[0m Trial 14 finished with value: 0.022138417784372103 and parameters: {'num_leaves': 152}. Best is trial 7 with value: 0.020671486971142013.\u001b[0m\n",
            "num_leaves, val_score: 0.020671:  40%|####      | 8/20 [00:07<00:11,  1.06it/s]"
          ]
        },
        {
          "output_type": "stream",
          "name": "stdout",
          "text": [
            "Early stopping, best iteration is:\n",
            "[42]\tTrain's rmse: 0.167385\tTest's rmse: 0.0221384\n",
            "Training until validation scores don't improve for 50 rounds.\n"
          ]
        },
        {
          "output_type": "stream",
          "name": "stderr",
          "text": [
            "num_leaves, val_score: 0.020671:  45%|####5     | 9/20 [00:09<00:13,  1.20s/it]\u001b[32m[I 2021-12-10 12:07:04,160]\u001b[0m Trial 15 finished with value: 0.022159828520023832 and parameters: {'num_leaves': 248}. Best is trial 7 with value: 0.020671486971142013.\u001b[0m\n",
            "num_leaves, val_score: 0.020671:  45%|####5     | 9/20 [00:09<00:13,  1.20s/it]"
          ]
        },
        {
          "output_type": "stream",
          "name": "stdout",
          "text": [
            "Early stopping, best iteration is:\n",
            "[45]\tTrain's rmse: 0.165303\tTest's rmse: 0.0221598\n",
            "Training until validation scores don't improve for 50 rounds.\n"
          ]
        },
        {
          "output_type": "stream",
          "name": "stderr",
          "text": [
            "num_leaves, val_score: 0.020671:  50%|#####     | 10/20 [00:09<00:10,  1.04s/it]\u001b[32m[I 2021-12-10 12:07:04,836]\u001b[0m Trial 16 finished with value: 0.021332257470692728 and parameters: {'num_leaves': 50}. Best is trial 7 with value: 0.020671486971142013.\u001b[0m\n",
            "num_leaves, val_score: 0.020671:  50%|#####     | 10/20 [00:09<00:10,  1.04s/it]"
          ]
        },
        {
          "output_type": "stream",
          "name": "stdout",
          "text": [
            "Early stopping, best iteration is:\n",
            "[49]\tTrain's rmse: 0.164378\tTest's rmse: 0.0213323\n",
            "Training until validation scores don't improve for 50 rounds.\n"
          ]
        },
        {
          "output_type": "stream",
          "name": "stderr",
          "text": [
            "num_leaves, val_score: 0.020671:  55%|#####5    | 11/20 [00:09<00:07,  1.24it/s]\u001b[32m[I 2021-12-10 12:07:05,128]\u001b[0m Trial 17 finished with value: 0.021353008637956243 and parameters: {'num_leaves': 10}. Best is trial 7 with value: 0.020671486971142013.\u001b[0m\n",
            "num_leaves, val_score: 0.020671:  55%|#####5    | 11/20 [00:09<00:07,  1.24it/s]"
          ]
        },
        {
          "output_type": "stream",
          "name": "stdout",
          "text": [
            "Early stopping, best iteration is:\n",
            "[42]\tTrain's rmse: 0.168897\tTest's rmse: 0.021353\n",
            "Training until validation scores don't improve for 50 rounds.\n"
          ]
        },
        {
          "output_type": "stream",
          "name": "stderr",
          "text": [
            "num_leaves, val_score: 0.020671:  60%|######    | 12/20 [00:10<00:06,  1.17it/s]\u001b[32m[I 2021-12-10 12:07:06,083]\u001b[0m Trial 18 finished with value: 0.02220209888300228 and parameters: {'num_leaves': 95}. Best is trial 7 with value: 0.020671486971142013.\u001b[0m\n",
            "num_leaves, val_score: 0.020671:  60%|######    | 12/20 [00:10<00:06,  1.17it/s]"
          ]
        },
        {
          "output_type": "stream",
          "name": "stdout",
          "text": [
            "Early stopping, best iteration is:\n",
            "[47]\tTrain's rmse: 0.164232\tTest's rmse: 0.0222021\n",
            "Training until validation scores don't improve for 50 rounds.\n"
          ]
        },
        {
          "output_type": "stream",
          "name": "stderr",
          "text": [
            "num_leaves, val_score: 0.020671:  65%|######5   | 13/20 [00:11<00:06,  1.12it/s]\u001b[32m[I 2021-12-10 12:07:07,058]\u001b[0m Trial 19 finished with value: 0.02980344636662241 and parameters: {'num_leaves': 91}. Best is trial 7 with value: 0.020671486971142013.\u001b[0m\n",
            "num_leaves, val_score: 0.020671:  65%|######5   | 13/20 [00:11<00:06,  1.12it/s]"
          ]
        },
        {
          "output_type": "stream",
          "name": "stdout",
          "text": [
            "Did not meet early stopping. Best iteration is:\n",
            "[100]\tTrain's rmse: 0.150385\tTest's rmse: 0.0298034\n",
            "Training until validation scores don't improve for 50 rounds.\n"
          ]
        },
        {
          "output_type": "stream",
          "name": "stderr",
          "text": [
            "num_leaves, val_score: 0.020671:  70%|#######   | 14/20 [00:12<00:04,  1.23it/s]\u001b[32m[I 2021-12-10 12:07:07,693]\u001b[0m Trial 20 finished with value: 0.021178339746091106 and parameters: {'num_leaves': 45}. Best is trial 7 with value: 0.020671486971142013.\u001b[0m\n",
            "num_leaves, val_score: 0.020671:  70%|#######   | 14/20 [00:12<00:04,  1.23it/s]"
          ]
        },
        {
          "output_type": "stream",
          "name": "stdout",
          "text": [
            "Early stopping, best iteration is:\n",
            "[49]\tTrain's rmse: 0.164443\tTest's rmse: 0.0211783\n",
            "Training until validation scores don't improve for 50 rounds.\n"
          ]
        },
        {
          "output_type": "stream",
          "name": "stderr",
          "text": [
            "num_leaves, val_score: 0.020671:  75%|#######5  | 15/20 [00:14<00:05,  1.04s/it]\u001b[32m[I 2021-12-10 12:07:09,254]\u001b[0m Trial 21 finished with value: 0.02215012254655855 and parameters: {'num_leaves': 207}. Best is trial 7 with value: 0.020671486971142013.\u001b[0m\n",
            "num_leaves, val_score: 0.020671:  75%|#######5  | 15/20 [00:14<00:05,  1.04s/it]"
          ]
        },
        {
          "output_type": "stream",
          "name": "stdout",
          "text": [
            "Early stopping, best iteration is:\n",
            "[45]\tTrain's rmse: 0.165304\tTest's rmse: 0.0221501\n",
            "Training until validation scores don't improve for 50 rounds.\n"
          ]
        },
        {
          "output_type": "stream",
          "name": "stderr",
          "text": [
            "num_leaves, val_score: 0.020671:  80%|########  | 16/20 [00:14<00:03,  1.21it/s]\u001b[32m[I 2021-12-10 12:07:09,593]\u001b[0m Trial 22 finished with value: 0.02123761012688943 and parameters: {'num_leaves': 14}. Best is trial 7 with value: 0.020671486971142013.\u001b[0m\n",
            "num_leaves, val_score: 0.020671:  80%|########  | 16/20 [00:14<00:03,  1.21it/s]"
          ]
        },
        {
          "output_type": "stream",
          "name": "stdout",
          "text": [
            "Early stopping, best iteration is:\n",
            "[44]\tTrain's rmse: 0.16651\tTest's rmse: 0.0212376\n",
            "Training until validation scores don't improve for 50 rounds.\n"
          ]
        },
        {
          "output_type": "stream",
          "name": "stderr",
          "text": [
            "num_leaves, val_score: 0.020671:  85%|########5 | 17/20 [00:15<00:02,  1.13it/s]\u001b[32m[I 2021-12-10 12:07:10,612]\u001b[0m Trial 23 finished with value: 0.02195154037431418 and parameters: {'num_leaves': 112}. Best is trial 7 with value: 0.020671486971142013.\u001b[0m\n",
            "num_leaves, val_score: 0.020671:  85%|########5 | 17/20 [00:15<00:02,  1.13it/s]"
          ]
        },
        {
          "output_type": "stream",
          "name": "stdout",
          "text": [
            "Early stopping, best iteration is:\n",
            "[42]\tTrain's rmse: 0.167386\tTest's rmse: 0.0219515\n",
            "Training until validation scores don't improve for 50 rounds.\n"
          ]
        },
        {
          "output_type": "stream",
          "name": "stderr",
          "text": [
            "num_leaves, val_score: 0.020671:  90%|######### | 18/20 [00:16<00:01,  1.17it/s]\u001b[32m[I 2021-12-10 12:07:11,383]\u001b[0m Trial 24 finished with value: 0.022610134573912057 and parameters: {'num_leaves': 62}. Best is trial 7 with value: 0.020671486971142013.\u001b[0m\n",
            "num_leaves, val_score: 0.020671:  90%|######### | 18/20 [00:16<00:01,  1.17it/s]"
          ]
        },
        {
          "output_type": "stream",
          "name": "stdout",
          "text": [
            "Early stopping, best iteration is:\n",
            "[49]\tTrain's rmse: 0.161377\tTest's rmse: 0.0226101\n",
            "Training until validation scores don't improve for 50 rounds.\n"
          ]
        },
        {
          "output_type": "stream",
          "name": "stderr",
          "text": [
            "num_leaves, val_score: 0.020671:  95%|#########5| 19/20 [00:16<00:00,  1.31it/s]\u001b[32m[I 2021-12-10 12:07:11,937]\u001b[0m Trial 25 finished with value: 0.021486528589939574 and parameters: {'num_leaves': 38}. Best is trial 7 with value: 0.020671486971142013.\u001b[0m\n",
            "num_leaves, val_score: 0.020671:  95%|#########5| 19/20 [00:16<00:00,  1.31it/s]"
          ]
        },
        {
          "output_type": "stream",
          "name": "stdout",
          "text": [
            "Early stopping, best iteration is:\n",
            "[45]\tTrain's rmse: 0.164201\tTest's rmse: 0.0214865\n",
            "Training until validation scores don't improve for 50 rounds.\n"
          ]
        },
        {
          "output_type": "stream",
          "name": "stderr",
          "text": [
            "num_leaves, val_score: 0.020671: 100%|##########| 20/20 [00:17<00:00,  1.29it/s]\u001b[32m[I 2021-12-10 12:07:12,751]\u001b[0m Trial 26 finished with value: 0.022136560019266862 and parameters: {'num_leaves': 75}. Best is trial 7 with value: 0.020671486971142013.\u001b[0m\n",
            "num_leaves, val_score: 0.020671: 100%|##########| 20/20 [00:17<00:00,  1.14it/s]\n"
          ]
        },
        {
          "output_type": "stream",
          "name": "stdout",
          "text": [
            "Early stopping, best iteration is:\n",
            "[42]\tTrain's rmse: 0.167402\tTest's rmse: 0.0221366\n"
          ]
        },
        {
          "output_type": "stream",
          "name": "stderr",
          "text": [
            "bagging, val_score: 0.020671:   0%|          | 0/10 [00:00<?, ?it/s]"
          ]
        },
        {
          "output_type": "stream",
          "name": "stdout",
          "text": [
            "Training until validation scores don't improve for 50 rounds.\n"
          ]
        },
        {
          "output_type": "stream",
          "name": "stderr",
          "text": [
            "bagging, val_score: 0.020671:  10%|#         | 1/10 [00:00<00:07,  1.24it/s]\u001b[32m[I 2021-12-10 12:07:13,584]\u001b[0m Trial 27 finished with value: 0.030004091160761283 and parameters: {'bagging_fraction': 0.4527528583245569, 'bagging_freq': 7}. Best is trial 27 with value: 0.030004091160761283.\u001b[0m\n",
            "bagging, val_score: 0.020671:  10%|#         | 1/10 [00:00<00:07,  1.24it/s]"
          ]
        },
        {
          "output_type": "stream",
          "name": "stdout",
          "text": [
            "Did not meet early stopping. Best iteration is:\n",
            "[100]\tTrain's rmse: 0.188481\tTest's rmse: 0.0300041\n",
            "Training until validation scores don't improve for 50 rounds.\n"
          ]
        },
        {
          "output_type": "stream",
          "name": "stderr",
          "text": [
            "bagging, val_score: 0.020671:  20%|##        | 2/10 [00:01<00:06,  1.25it/s]\u001b[32m[I 2021-12-10 12:07:14,376]\u001b[0m Trial 28 finished with value: 0.02467246152155608 and parameters: {'bagging_fraction': 0.7346214877204512, 'bagging_freq': 6}. Best is trial 28 with value: 0.02467246152155608.\u001b[0m\n",
            "bagging, val_score: 0.020671:  20%|##        | 2/10 [00:01<00:06,  1.25it/s]"
          ]
        },
        {
          "output_type": "stream",
          "name": "stdout",
          "text": [
            "Did not meet early stopping. Best iteration is:\n",
            "[100]\tTrain's rmse: 0.16895\tTest's rmse: 0.0246725\n",
            "Training until validation scores don't improve for 50 rounds.\n"
          ]
        },
        {
          "output_type": "stream",
          "name": "stderr",
          "text": [
            "bagging, val_score: 0.020671:  30%|###       | 3/10 [00:02<00:05,  1.25it/s]\u001b[32m[I 2021-12-10 12:07:15,191]\u001b[0m Trial 29 finished with value: 0.02709602514142001 and parameters: {'bagging_fraction': 0.7150981388652815, 'bagging_freq': 4}. Best is trial 28 with value: 0.02467246152155608.\u001b[0m\n",
            "bagging, val_score: 0.020671:  30%|###       | 3/10 [00:02<00:05,  1.25it/s]"
          ]
        },
        {
          "output_type": "stream",
          "name": "stdout",
          "text": [
            "Did not meet early stopping. Best iteration is:\n",
            "[100]\tTrain's rmse: 0.176121\tTest's rmse: 0.027096\n",
            "Training until validation scores don't improve for 50 rounds.\n"
          ]
        },
        {
          "output_type": "stream",
          "name": "stderr",
          "text": [
            "bagging, val_score: 0.020671:  40%|####      | 4/10 [00:03<00:04,  1.26it/s]\u001b[32m[I 2021-12-10 12:07:15,965]\u001b[0m Trial 30 finished with value: 0.0335859096444475 and parameters: {'bagging_fraction': 0.44056762220331824, 'bagging_freq': 3}. Best is trial 28 with value: 0.02467246152155608.\u001b[0m\n",
            "bagging, val_score: 0.020671:  40%|####      | 4/10 [00:03<00:04,  1.26it/s]"
          ]
        },
        {
          "output_type": "stream",
          "name": "stdout",
          "text": [
            "Did not meet early stopping. Best iteration is:\n",
            "[100]\tTrain's rmse: 0.187949\tTest's rmse: 0.0335859\n",
            "Training until validation scores don't improve for 50 rounds.\n"
          ]
        },
        {
          "output_type": "stream",
          "name": "stderr",
          "text": [
            "bagging, val_score: 0.020671:  50%|#####     | 5/10 [00:03<00:03,  1.27it/s]\u001b[32m[I 2021-12-10 12:07:16,752]\u001b[0m Trial 31 finished with value: 0.030900577492299613 and parameters: {'bagging_fraction': 0.5453662603126028, 'bagging_freq': 7}. Best is trial 28 with value: 0.02467246152155608.\u001b[0m\n",
            "bagging, val_score: 0.020671:  50%|#####     | 5/10 [00:03<00:03,  1.27it/s]"
          ]
        },
        {
          "output_type": "stream",
          "name": "stdout",
          "text": [
            "Did not meet early stopping. Best iteration is:\n",
            "[99]\tTrain's rmse: 0.181922\tTest's rmse: 0.0309006\n",
            "Training until validation scores don't improve for 50 rounds.\n"
          ]
        },
        {
          "output_type": "stream",
          "name": "stderr",
          "text": [
            "bagging, val_score: 0.020671:  60%|######    | 6/10 [00:04<00:03,  1.27it/s]\u001b[32m[I 2021-12-10 12:07:17,533]\u001b[0m Trial 32 finished with value: 0.03320783557706008 and parameters: {'bagging_fraction': 0.562599348989442, 'bagging_freq': 3}. Best is trial 28 with value: 0.02467246152155608.\u001b[0m\n",
            "bagging, val_score: 0.020671:  60%|######    | 6/10 [00:04<00:03,  1.27it/s]"
          ]
        },
        {
          "output_type": "stream",
          "name": "stdout",
          "text": [
            "Did not meet early stopping. Best iteration is:\n",
            "[100]\tTrain's rmse: 0.180437\tTest's rmse: 0.0332078\n",
            "Training until validation scores don't improve for 50 rounds.\n"
          ]
        },
        {
          "output_type": "stream",
          "name": "stderr",
          "text": [
            "bagging, val_score: 0.020671:  70%|#######   | 7/10 [00:05<00:02,  1.28it/s]\u001b[32m[I 2021-12-10 12:07:18,293]\u001b[0m Trial 33 finished with value: 0.028454403706256237 and parameters: {'bagging_fraction': 0.4605588254574195, 'bagging_freq': 1}. Best is trial 28 with value: 0.02467246152155608.\u001b[0m\n",
            "bagging, val_score: 0.020671:  70%|#######   | 7/10 [00:05<00:02,  1.28it/s]"
          ]
        },
        {
          "output_type": "stream",
          "name": "stdout",
          "text": [
            "Did not meet early stopping. Best iteration is:\n",
            "[100]\tTrain's rmse: 0.183177\tTest's rmse: 0.0284544\n",
            "Training until validation scores don't improve for 50 rounds.\n"
          ]
        },
        {
          "output_type": "stream",
          "name": "stderr",
          "text": [
            "bagging, val_score: 0.020671:  80%|########  | 8/10 [00:06<00:01,  1.29it/s]\u001b[32m[I 2021-12-10 12:07:19,051]\u001b[0m Trial 34 finished with value: 0.029793619054072323 and parameters: {'bagging_fraction': 0.8834430459634766, 'bagging_freq': 1}. Best is trial 28 with value: 0.02467246152155608.\u001b[0m\n",
            "bagging, val_score: 0.020671:  80%|########  | 8/10 [00:06<00:01,  1.29it/s]"
          ]
        },
        {
          "output_type": "stream",
          "name": "stdout",
          "text": [
            "Did not meet early stopping. Best iteration is:\n",
            "[100]\tTrain's rmse: 0.16429\tTest's rmse: 0.0297936\n",
            "Training until validation scores don't improve for 50 rounds.\n"
          ]
        },
        {
          "output_type": "stream",
          "name": "stderr",
          "text": [
            "bagging, val_score: 0.020671:  90%|######### | 9/10 [00:07<00:00,  1.31it/s]\u001b[32m[I 2021-12-10 12:07:19,797]\u001b[0m Trial 35 finished with value: 0.030237500657190972 and parameters: {'bagging_fraction': 0.8512815016639319, 'bagging_freq': 4}. Best is trial 28 with value: 0.02467246152155608.\u001b[0m\n",
            "bagging, val_score: 0.020671:  90%|######### | 9/10 [00:07<00:00,  1.31it/s]"
          ]
        },
        {
          "output_type": "stream",
          "name": "stdout",
          "text": [
            "Early stopping, best iteration is:\n",
            "[43]\tTrain's rmse: 0.189543\tTest's rmse: 0.0302375\n",
            "Training until validation scores don't improve for 50 rounds.\n"
          ]
        },
        {
          "output_type": "stream",
          "name": "stderr",
          "text": [
            "bagging, val_score: 0.020671: 100%|##########| 10/10 [00:07<00:00,  1.33it/s]\u001b[32m[I 2021-12-10 12:07:20,528]\u001b[0m Trial 36 finished with value: 0.031150467145461755 and parameters: {'bagging_fraction': 0.5261108337257148, 'bagging_freq': 1}. Best is trial 28 with value: 0.02467246152155608.\u001b[0m\n",
            "bagging, val_score: 0.020671: 100%|##########| 10/10 [00:07<00:00,  1.29it/s]\n"
          ]
        },
        {
          "output_type": "stream",
          "name": "stdout",
          "text": [
            "Did not meet early stopping. Best iteration is:\n",
            "[100]\tTrain's rmse: 0.178143\tTest's rmse: 0.0311505\n"
          ]
        },
        {
          "output_type": "stream",
          "name": "stderr",
          "text": [
            "feature_fraction_stage2, val_score: 0.020671:   0%|          | 0/3 [00:00<?, ?it/s]"
          ]
        },
        {
          "output_type": "stream",
          "name": "stdout",
          "text": [
            "Training until validation scores don't improve for 50 rounds.\n"
          ]
        },
        {
          "output_type": "stream",
          "name": "stderr",
          "text": [
            "feature_fraction_stage2, val_score: 0.020671:  33%|###3      | 1/3 [00:00<00:01,  1.38it/s]\u001b[32m[I 2021-12-10 12:07:21,274]\u001b[0m Trial 37 finished with value: 0.04091390299538579 and parameters: {'feature_fraction': 0.92}. Best is trial 37 with value: 0.04091390299538579.\u001b[0m\n",
            "feature_fraction_stage2, val_score: 0.020671:  33%|###3      | 1/3 [00:00<00:01,  1.38it/s]"
          ]
        },
        {
          "output_type": "stream",
          "name": "stdout",
          "text": [
            "Did not meet early stopping. Best iteration is:\n",
            "[100]\tTrain's rmse: 0.146033\tTest's rmse: 0.0409139\n",
            "Training until validation scores don't improve for 50 rounds.\n"
          ]
        },
        {
          "output_type": "stream",
          "name": "stderr",
          "text": [
            "feature_fraction_stage2, val_score: 0.020671:  67%|######6   | 2/3 [00:01<00:00,  1.37it/s]\u001b[32m[I 2021-12-10 12:07:22,006]\u001b[0m Trial 38 finished with value: 0.040304034733015845 and parameters: {'feature_fraction': 0.9840000000000001}. Best is trial 38 with value: 0.040304034733015845.\u001b[0m\n",
            "feature_fraction_stage2, val_score: 0.020671:  67%|######6   | 2/3 [00:01<00:00,  1.37it/s]"
          ]
        },
        {
          "output_type": "stream",
          "name": "stdout",
          "text": [
            "Did not meet early stopping. Best iteration is:\n",
            "[100]\tTrain's rmse: 0.147243\tTest's rmse: 0.040304\n",
            "Training until validation scores don't improve for 50 rounds.\n"
          ]
        },
        {
          "output_type": "stream",
          "name": "stderr",
          "text": [
            "feature_fraction_stage2, val_score: 0.020671: 100%|##########| 3/3 [00:02<00:00,  1.35it/s]\u001b[32m[I 2021-12-10 12:07:22,754]\u001b[0m Trial 39 finished with value: 0.040304034733015845 and parameters: {'feature_fraction': 0.9520000000000001}. Best is trial 38 with value: 0.040304034733015845.\u001b[0m\n",
            "feature_fraction_stage2, val_score: 0.020671: 100%|##########| 3/3 [00:02<00:00,  1.35it/s]\n"
          ]
        },
        {
          "output_type": "stream",
          "name": "stdout",
          "text": [
            "Did not meet early stopping. Best iteration is:\n",
            "[100]\tTrain's rmse: 0.147243\tTest's rmse: 0.040304\n"
          ]
        },
        {
          "output_type": "stream",
          "name": "stderr",
          "text": [
            "regularization_factors, val_score: 0.020671:   0%|          | 0/20 [00:00<?, ?it/s]"
          ]
        },
        {
          "output_type": "stream",
          "name": "stdout",
          "text": [
            "Training until validation scores don't improve for 50 rounds.\n"
          ]
        },
        {
          "output_type": "stream",
          "name": "stderr",
          "text": [
            "regularization_factors, val_score: 0.020671:   5%|5         | 1/20 [00:00<00:06,  2.88it/s]\u001b[32m[I 2021-12-10 12:07:23,132]\u001b[0m Trial 40 finished with value: 0.029915179938213417 and parameters: {'lambda_l1': 5.981174492750244, 'lambda_l2': 2.3621747259969495e-05}. Best is trial 40 with value: 0.029915179938213417.\u001b[0m\n",
            "regularization_factors, val_score: 0.020671:   5%|5         | 1/20 [00:00<00:06,  2.88it/s]"
          ]
        },
        {
          "output_type": "stream",
          "name": "stdout",
          "text": [
            "Did not meet early stopping. Best iteration is:\n",
            "[100]\tTrain's rmse: 0.142808\tTest's rmse: 0.0299152\n",
            "Training until validation scores don't improve for 50 rounds.\n"
          ]
        },
        {
          "output_type": "stream",
          "name": "stderr",
          "text": [
            "regularization_factors, val_score: 0.020671:  10%|#         | 2/20 [00:01<00:10,  1.75it/s]\u001b[32m[I 2021-12-10 12:07:23,863]\u001b[0m Trial 41 finished with value: 0.02067148707618289 and parameters: {'lambda_l1': 5.562006830817608e-08, 'lambda_l2': 1.5973565282249323e-08}. Best is trial 41 with value: 0.02067148707618289.\u001b[0m\n",
            "regularization_factors, val_score: 0.020671:  10%|#         | 2/20 [00:01<00:10,  1.75it/s]"
          ]
        },
        {
          "output_type": "stream",
          "name": "stdout",
          "text": [
            "Early stopping, best iteration is:\n",
            "[44]\tTrain's rmse: 0.16676\tTest's rmse: 0.0206715\n",
            "Training until validation scores don't improve for 50 rounds.\n"
          ]
        },
        {
          "output_type": "stream",
          "name": "stderr",
          "text": [
            "regularization_factors, val_score: 0.020671:  15%|#5        | 3/20 [00:01<00:08,  2.07it/s]\u001b[32m[I 2021-12-10 12:07:24,240]\u001b[0m Trial 42 finished with value: 0.02537939271643169 and parameters: {'lambda_l1': 1.3601130276420632, 'lambda_l2': 1.1837251431978575e-08}. Best is trial 41 with value: 0.02067148707618289.\u001b[0m\n",
            "regularization_factors, val_score: 0.020671:  15%|#5        | 3/20 [00:01<00:08,  2.07it/s]"
          ]
        },
        {
          "output_type": "stream",
          "name": "stdout",
          "text": [
            "Did not meet early stopping. Best iteration is:\n",
            "[100]\tTrain's rmse: 0.145279\tTest's rmse: 0.0253794\n",
            "Training until validation scores don't improve for 50 rounds.\n"
          ]
        },
        {
          "output_type": "stream",
          "name": "stderr",
          "text": [
            "regularization_factors, val_score: 0.020671:  20%|##        | 4/20 [00:02<00:09,  1.75it/s]\u001b[32m[I 2021-12-10 12:07:24,943]\u001b[0m Trial 43 finished with value: 0.020672345891225657 and parameters: {'lambda_l1': 3.394382617757655e-06, 'lambda_l2': 4.4969599446375616e-06}. Best is trial 41 with value: 0.02067148707618289.\u001b[0m\n",
            "regularization_factors, val_score: 0.020671:  20%|##        | 4/20 [00:02<00:09,  1.75it/s]"
          ]
        },
        {
          "output_type": "stream",
          "name": "stdout",
          "text": [
            "Early stopping, best iteration is:\n",
            "[44]\tTrain's rmse: 0.166759\tTest's rmse: 0.0206723\n",
            "Training until validation scores don't improve for 50 rounds.\n"
          ]
        },
        {
          "output_type": "stream",
          "name": "stderr",
          "text": [
            "regularization_factors, val_score: 0.020671:  25%|##5       | 5/20 [00:02<00:08,  1.68it/s]\u001b[32m[I 2021-12-10 12:07:25,591]\u001b[0m Trial 44 finished with value: 0.02230577917000072 and parameters: {'lambda_l1': 2.4951853632879054e-06, 'lambda_l2': 0.015310732407165092}. Best is trial 41 with value: 0.02067148707618289.\u001b[0m\n",
            "regularization_factors, val_score: 0.020671:  25%|##5       | 5/20 [00:02<00:08,  1.68it/s]"
          ]
        },
        {
          "output_type": "stream",
          "name": "stdout",
          "text": [
            "Early stopping, best iteration is:\n",
            "[45]\tTrain's rmse: 0.165055\tTest's rmse: 0.0223058\n",
            "Training until validation scores don't improve for 50 rounds.\n"
          ]
        },
        {
          "output_type": "stream",
          "name": "stderr",
          "text": [
            "regularization_factors, val_score: 0.020671:  30%|###       | 6/20 [00:03<00:08,  1.64it/s]\u001b[32m[I 2021-12-10 12:07:26,223]\u001b[0m Trial 45 finished with value: 0.02172397680073686 and parameters: {'lambda_l1': 0.00012780616664208604, 'lambda_l2': 0.08611056977894166}. Best is trial 41 with value: 0.02067148707618289.\u001b[0m\n",
            "regularization_factors, val_score: 0.020671:  30%|###       | 6/20 [00:03<00:08,  1.64it/s]"
          ]
        },
        {
          "output_type": "stream",
          "name": "stdout",
          "text": [
            "Early stopping, best iteration is:\n",
            "[43]\tTrain's rmse: 0.166382\tTest's rmse: 0.021724\n",
            "Training until validation scores don't improve for 50 rounds.\n"
          ]
        },
        {
          "output_type": "stream",
          "name": "stderr",
          "text": [
            "regularization_factors, val_score: 0.020671:  35%|###5      | 7/20 [00:03<00:07,  1.70it/s]\u001b[32m[I 2021-12-10 12:07:26,763]\u001b[0m Trial 46 finished with value: 0.021157306855670462 and parameters: {'lambda_l1': 0.15101232551676602, 'lambda_l2': 8.964340749766934e-07}. Best is trial 41 with value: 0.02067148707618289.\u001b[0m\n",
            "regularization_factors, val_score: 0.020671:  35%|###5      | 7/20 [00:03<00:07,  1.70it/s]"
          ]
        },
        {
          "output_type": "stream",
          "name": "stdout",
          "text": [
            "Early stopping, best iteration is:\n",
            "[46]\tTrain's rmse: 0.165183\tTest's rmse: 0.0211573\n",
            "Training until validation scores don't improve for 50 rounds.\n"
          ]
        },
        {
          "output_type": "stream",
          "name": "stderr",
          "text": [
            "regularization_factors, val_score: 0.020671:  40%|####      | 8/20 [00:04<00:07,  1.65it/s]\u001b[32m[I 2021-12-10 12:07:27,407]\u001b[0m Trial 47 finished with value: 0.021855527542179388 and parameters: {'lambda_l1': 2.6978841600577284e-06, 'lambda_l2': 0.04289630955470675}. Best is trial 41 with value: 0.02067148707618289.\u001b[0m\n",
            "regularization_factors, val_score: 0.020671:  40%|####      | 8/20 [00:04<00:07,  1.65it/s]"
          ]
        },
        {
          "output_type": "stream",
          "name": "stdout",
          "text": [
            "Early stopping, best iteration is:\n",
            "[44]\tTrain's rmse: 0.166508\tTest's rmse: 0.0218555\n",
            "Training until validation scores don't improve for 50 rounds.\n"
          ]
        },
        {
          "output_type": "stream",
          "name": "stderr",
          "text": [
            "regularization_factors, val_score: 0.020671:  45%|####5     | 9/20 [00:05<00:06,  1.59it/s]\u001b[32m[I 2021-12-10 12:07:28,089]\u001b[0m Trial 48 finished with value: 0.020997483098490338 and parameters: {'lambda_l1': 0.00014954563863383975, 'lambda_l2': 0.011965404864786087}. Best is trial 41 with value: 0.02067148707618289.\u001b[0m\n",
            "regularization_factors, val_score: 0.020671:  45%|####5     | 9/20 [00:05<00:06,  1.59it/s]"
          ]
        },
        {
          "output_type": "stream",
          "name": "stdout",
          "text": [
            "Early stopping, best iteration is:\n",
            "[46]\tTrain's rmse: 0.164205\tTest's rmse: 0.0209975\n",
            "Training until validation scores don't improve for 50 rounds.\n"
          ]
        },
        {
          "output_type": "stream",
          "name": "stderr",
          "text": [
            "regularization_factors, val_score: 0.020371:  50%|#####     | 10/20 [00:05<00:05,  1.74it/s]\u001b[32m[I 2021-12-10 12:07:28,541]\u001b[0m Trial 49 finished with value: 0.02037071057109963 and parameters: {'lambda_l1': 0.45196761892225024, 'lambda_l2': 0.04125029893948236}. Best is trial 49 with value: 0.02037071057109963.\u001b[0m\n",
            "regularization_factors, val_score: 0.020371:  50%|#####     | 10/20 [00:05<00:05,  1.74it/s]"
          ]
        },
        {
          "output_type": "stream",
          "name": "stdout",
          "text": [
            "Early stopping, best iteration is:\n",
            "[43]\tTrain's rmse: 0.165889\tTest's rmse: 0.0203707\n",
            "Training until validation scores don't improve for 50 rounds.\n"
          ]
        },
        {
          "output_type": "stream",
          "name": "stderr",
          "text": [
            "regularization_factors, val_score: 0.020371:  55%|#####5    | 11/20 [00:06<00:05,  1.72it/s]\u001b[32m[I 2021-12-10 12:07:29,137]\u001b[0m Trial 50 finished with value: 0.025317504495604964 and parameters: {'lambda_l1': 0.02255371966427075, 'lambda_l2': 4.879504010600575}. Best is trial 49 with value: 0.02037071057109963.\u001b[0m\n",
            "regularization_factors, val_score: 0.020371:  55%|#####5    | 11/20 [00:06<00:05,  1.72it/s]"
          ]
        },
        {
          "output_type": "stream",
          "name": "stdout",
          "text": [
            "Did not meet early stopping. Best iteration is:\n",
            "[100]\tTrain's rmse: 0.153434\tTest's rmse: 0.0253175\n",
            "Training until validation scores don't improve for 50 rounds.\n"
          ]
        },
        {
          "output_type": "stream",
          "name": "stderr",
          "text": [
            "regularization_factors, val_score: 0.020371:  60%|######    | 12/20 [00:07<00:05,  1.59it/s]\u001b[32m[I 2021-12-10 12:07:29,884]\u001b[0m Trial 51 finished with value: 0.027809895476556264 and parameters: {'lambda_l1': 1.2334742983369484e-08, 'lambda_l2': 0.0004991049045923127}. Best is trial 49 with value: 0.02037071057109963.\u001b[0m\n",
            "regularization_factors, val_score: 0.020371:  60%|######    | 12/20 [00:07<00:05,  1.59it/s]"
          ]
        },
        {
          "output_type": "stream",
          "name": "stdout",
          "text": [
            "Did not meet early stopping. Best iteration is:\n",
            "[100]\tTrain's rmse: 0.152835\tTest's rmse: 0.0278099\n",
            "Training until validation scores don't improve for 50 rounds.\n"
          ]
        },
        {
          "output_type": "stream",
          "name": "stderr",
          "text": [
            "regularization_factors, val_score: 0.020371:  65%|######5   | 13/20 [00:07<00:04,  1.55it/s]\u001b[32m[I 2021-12-10 12:07:30,553]\u001b[0m Trial 52 finished with value: 0.020671487020979193 and parameters: {'lambda_l1': 2.5206758336288218e-08, 'lambda_l2': 1.260664290279945e-08}. Best is trial 49 with value: 0.02037071057109963.\u001b[0m\n",
            "regularization_factors, val_score: 0.020371:  65%|######5   | 13/20 [00:07<00:04,  1.55it/s]"
          ]
        },
        {
          "output_type": "stream",
          "name": "stdout",
          "text": [
            "Early stopping, best iteration is:\n",
            "[44]\tTrain's rmse: 0.16676\tTest's rmse: 0.0206715\n",
            "Training until validation scores don't improve for 50 rounds.\n"
          ]
        },
        {
          "output_type": "stream",
          "name": "stderr",
          "text": [
            "regularization_factors, val_score: 0.020371:  70%|#######   | 14/20 [00:08<00:03,  1.57it/s]\u001b[32m[I 2021-12-10 12:07:31,170]\u001b[0m Trial 53 finished with value: 0.027119357440579438 and parameters: {'lambda_l1': 0.0031971678779614573, 'lambda_l2': 6.707399821511902}. Best is trial 49 with value: 0.02037071057109963.\u001b[0m\n",
            "regularization_factors, val_score: 0.020371:  70%|#######   | 14/20 [00:08<00:03,  1.57it/s]"
          ]
        },
        {
          "output_type": "stream",
          "name": "stdout",
          "text": [
            "Did not meet early stopping. Best iteration is:\n",
            "[100]\tTrain's rmse: 0.155493\tTest's rmse: 0.0271194\n",
            "Training until validation scores don't improve for 50 rounds.\n"
          ]
        },
        {
          "output_type": "stream",
          "name": "stderr",
          "text": [
            "regularization_factors, val_score: 0.020371:  75%|#######5  | 15/20 [00:09<00:03,  1.53it/s]\u001b[32m[I 2021-12-10 12:07:31,871]\u001b[0m Trial 54 finished with value: 0.02779799364402701 and parameters: {'lambda_l1': 0.0021399373792416877, 'lambda_l2': 0.00043683248674738546}. Best is trial 49 with value: 0.02037071057109963.\u001b[0m\n",
            "regularization_factors, val_score: 0.020371:  75%|#######5  | 15/20 [00:09<00:03,  1.53it/s]"
          ]
        },
        {
          "output_type": "stream",
          "name": "stdout",
          "text": [
            "Did not meet early stopping. Best iteration is:\n",
            "[100]\tTrain's rmse: 0.152139\tTest's rmse: 0.027798\n",
            "Training until validation scores don't improve for 50 rounds.\n"
          ]
        },
        {
          "output_type": "stream",
          "name": "stderr",
          "text": [
            "regularization_factors, val_score: 0.020371:  80%|########  | 16/20 [00:09<00:02,  1.64it/s]\u001b[32m[I 2021-12-10 12:07:32,372]\u001b[0m Trial 55 finished with value: 0.020796231642528556 and parameters: {'lambda_l1': 0.25818691169544417, 'lambda_l2': 2.5343665570539206e-07}. Best is trial 49 with value: 0.02037071057109963.\u001b[0m\n",
            "regularization_factors, val_score: 0.020371:  80%|########  | 16/20 [00:09<00:02,  1.64it/s]"
          ]
        },
        {
          "output_type": "stream",
          "name": "stdout",
          "text": [
            "Early stopping, best iteration is:\n",
            "[43]\tTrain's rmse: 0.16597\tTest's rmse: 0.0207962\n",
            "Training until validation scores don't improve for 50 rounds.\n"
          ]
        },
        {
          "output_type": "stream",
          "name": "stderr",
          "text": [
            "regularization_factors, val_score: 0.020163:  85%|########5 | 17/20 [00:10<00:01,  1.62it/s]\u001b[32m[I 2021-12-10 12:07:33,010]\u001b[0m Trial 56 finished with value: 0.020163300519720095 and parameters: {'lambda_l1': 1.599717051729655e-07, 'lambda_l2': 0.6525380341374206}. Best is trial 56 with value: 0.020163300519720095.\u001b[0m\n",
            "regularization_factors, val_score: 0.020163:  85%|########5 | 17/20 [00:10<00:01,  1.62it/s]"
          ]
        },
        {
          "output_type": "stream",
          "name": "stdout",
          "text": [
            "Early stopping, best iteration is:\n",
            "[48]\tTrain's rmse: 0.16619\tTest's rmse: 0.0201633\n",
            "Training until validation scores don't improve for 50 rounds.\n"
          ]
        },
        {
          "output_type": "stream",
          "name": "stderr",
          "text": [
            "regularization_factors, val_score: 0.020163:  90%|######### | 18/20 [00:10<00:01,  1.62it/s]\u001b[32m[I 2021-12-10 12:07:33,626]\u001b[0m Trial 57 finished with value: 0.020655314647947665 and parameters: {'lambda_l1': 3.265495949075845e-07, 'lambda_l2': 0.48714592873460033}. Best is trial 56 with value: 0.020163300519720095.\u001b[0m\n",
            "regularization_factors, val_score: 0.020163:  90%|######### | 18/20 [00:10<00:01,  1.62it/s]"
          ]
        },
        {
          "output_type": "stream",
          "name": "stdout",
          "text": [
            "Early stopping, best iteration is:\n",
            "[43]\tTrain's rmse: 0.167317\tTest's rmse: 0.0206553\n",
            "Training until validation scores don't improve for 50 rounds.\n"
          ]
        },
        {
          "output_type": "stream",
          "name": "stderr",
          "text": [
            "regularization_factors, val_score: 0.020163:  95%|#########5| 19/20 [00:11<00:00,  1.50it/s]\u001b[32m[I 2021-12-10 12:07:34,408]\u001b[0m Trial 58 finished with value: 0.02774241450232232 and parameters: {'lambda_l1': 2.530348894557563e-05, 'lambda_l2': 0.002424975307386326}. Best is trial 56 with value: 0.020163300519720095.\u001b[0m\n",
            "regularization_factors, val_score: 0.020163:  95%|#########5| 19/20 [00:11<00:00,  1.50it/s]"
          ]
        },
        {
          "output_type": "stream",
          "name": "stdout",
          "text": [
            "Did not meet early stopping. Best iteration is:\n",
            "[100]\tTrain's rmse: 0.152109\tTest's rmse: 0.0277424\n",
            "Training until validation scores don't improve for 50 rounds.\n"
          ]
        },
        {
          "output_type": "stream",
          "name": "stderr",
          "text": [
            "regularization_factors, val_score: 0.020163: 100%|##########| 20/20 [00:12<00:00,  1.55it/s]\u001b[32m[I 2021-12-10 12:07:35,003]\u001b[0m Trial 59 finished with value: 0.020735462384876762 and parameters: {'lambda_l1': 0.003277648539973595, 'lambda_l2': 0.5204900863485173}. Best is trial 56 with value: 0.020163300519720095.\u001b[0m\n",
            "regularization_factors, val_score: 0.020163: 100%|##########| 20/20 [00:12<00:00,  1.64it/s]\n"
          ]
        },
        {
          "output_type": "stream",
          "name": "stdout",
          "text": [
            "Early stopping, best iteration is:\n",
            "[43]\tTrain's rmse: 0.169986\tTest's rmse: 0.0207355\n"
          ]
        },
        {
          "output_type": "stream",
          "name": "stderr",
          "text": [
            "min_data_in_leaf, val_score: 0.020163:   0%|          | 0/5 [00:00<?, ?it/s]"
          ]
        },
        {
          "output_type": "stream",
          "name": "stdout",
          "text": [
            "Training until validation scores don't improve for 50 rounds.\n"
          ]
        },
        {
          "output_type": "stream",
          "name": "stderr",
          "text": [
            "min_data_in_leaf, val_score: 0.020163:  20%|##        | 1/5 [00:00<00:02,  1.77it/s]\u001b[32m[I 2021-12-10 12:07:35,591]\u001b[0m Trial 60 finished with value: 0.024453418344920715 and parameters: {'min_child_samples': 10}. Best is trial 60 with value: 0.024453418344920715.\u001b[0m\n",
            "min_data_in_leaf, val_score: 0.020163:  20%|##        | 1/5 [00:00<00:02,  1.77it/s]"
          ]
        },
        {
          "output_type": "stream",
          "name": "stdout",
          "text": [
            "Early stopping, best iteration is:\n",
            "[39]\tTrain's rmse: 0.125299\tTest's rmse: 0.0244534\n",
            "Training until validation scores don't improve for 50 rounds.\n"
          ]
        },
        {
          "output_type": "stream",
          "name": "stderr",
          "text": [
            "min_data_in_leaf, val_score: 0.020163:  40%|####      | 2/5 [00:01<00:01,  1.72it/s]\u001b[32m[I 2021-12-10 12:07:36,180]\u001b[0m Trial 61 finished with value: 0.05555100427128661 and parameters: {'min_child_samples': 50}. Best is trial 60 with value: 0.024453418344920715.\u001b[0m\n",
            "min_data_in_leaf, val_score: 0.020163:  40%|####      | 2/5 [00:01<00:01,  1.72it/s]"
          ]
        },
        {
          "output_type": "stream",
          "name": "stdout",
          "text": [
            "Early stopping, best iteration is:\n",
            "[39]\tTrain's rmse: 0.257474\tTest's rmse: 0.055551\n",
            "Training until validation scores don't improve for 50 rounds.\n"
          ]
        },
        {
          "output_type": "stream",
          "name": "stderr",
          "text": [
            "min_data_in_leaf, val_score: 0.020163:  60%|######    | 3/5 [00:01<00:01,  1.85it/s]\u001b[32m[I 2021-12-10 12:07:36,679]\u001b[0m Trial 62 finished with value: 0.08948929872602226 and parameters: {'min_child_samples': 100}. Best is trial 60 with value: 0.024453418344920715.\u001b[0m\n",
            "min_data_in_leaf, val_score: 0.020163:  60%|######    | 3/5 [00:01<00:01,  1.85it/s]"
          ]
        },
        {
          "output_type": "stream",
          "name": "stdout",
          "text": [
            "Early stopping, best iteration is:\n",
            "[29]\tTrain's rmse: 0.318797\tTest's rmse: 0.0894893\n",
            "Training until validation scores don't improve for 50 rounds.\n"
          ]
        },
        {
          "output_type": "stream",
          "name": "stderr",
          "text": [
            "min_data_in_leaf, val_score: 0.020163:  80%|########  | 4/5 [00:02<00:00,  1.88it/s]\u001b[32m[I 2021-12-10 12:07:37,205]\u001b[0m Trial 63 finished with value: 0.02699102068676698 and parameters: {'min_child_samples': 5}. Best is trial 60 with value: 0.024453418344920715.\u001b[0m\n",
            "min_data_in_leaf, val_score: 0.020163:  80%|########  | 4/5 [00:02<00:00,  1.88it/s]"
          ]
        },
        {
          "output_type": "stream",
          "name": "stdout",
          "text": [
            "Early stopping, best iteration is:\n",
            "[38]\tTrain's rmse: 0.0681943\tTest's rmse: 0.026991\n",
            "Training until validation scores don't improve for 50 rounds.\n"
          ]
        },
        {
          "output_type": "stream",
          "name": "stderr",
          "text": [
            "min_data_in_leaf, val_score: 0.020163: 100%|##########| 5/5 [00:02<00:00,  1.79it/s]\u001b[32m[I 2021-12-10 12:07:37,797]\u001b[0m Trial 64 finished with value: 0.027380104205924585 and parameters: {'min_child_samples': 25}. Best is trial 60 with value: 0.024453418344920715.\u001b[0m\n",
            "min_data_in_leaf, val_score: 0.020163: 100%|##########| 5/5 [00:02<00:00,  1.80it/s]"
          ]
        },
        {
          "output_type": "stream",
          "name": "stdout",
          "text": [
            "Early stopping, best iteration is:\n",
            "[41]\tTrain's rmse: 0.176647\tTest's rmse: 0.0273801\n"
          ]
        },
        {
          "output_type": "stream",
          "name": "stderr",
          "text": [
            "\n"
          ]
        },
        {
          "output_type": "display_data",
          "data": {
            "image/png": "[encoded data removed]",
            "text/plain": [
              "<Figure size 432x288 with 1 Axes>"
            ]
          },
          "metadata": {
            "needs_background": "light"
          }
        },
        {
          "output_type": "stream",
          "name": "stderr",
          "text": [
            "\u001b[32m[I 2021-12-10 12:07:38,050]\u001b[0m A new study created in memory with name: no-name-cd240220-0120-45a3-abe0-0e9ff9fbc488\u001b[0m\n",
            "feature_fraction, val_score: inf:   0%|          | 0/7 [00:00<?, ?it/s]"
          ]
        },
        {
          "output_type": "stream",
          "name": "stdout",
          "text": [
            "Training until validation scores don't improve for 50 rounds.\n"
          ]
        },
        {
          "output_type": "stream",
          "name": "stderr",
          "text": [
            "feature_fraction, val_score: 0.388546:  14%|#4        | 1/7 [00:00<00:02,  2.06it/s]\u001b[32m[I 2021-12-10 12:07:38,546]\u001b[0m Trial 0 finished with value: 0.38854610452293914 and parameters: {'feature_fraction': 0.8}. Best is trial 0 with value: 0.38854610452293914.\u001b[0m\n",
            "feature_fraction, val_score: 0.388546:  14%|#4        | 1/7 [00:00<00:02,  2.06it/s]"
          ]
        },
        {
          "output_type": "stream",
          "name": "stdout",
          "text": [
            "Early stopping, best iteration is:\n",
            "[48]\tTrain's rmse: 0.15319\tTest's rmse: 0.388546\n",
            "Training until validation scores don't improve for 50 rounds.\n"
          ]
        },
        {
          "output_type": "stream",
          "name": "stderr",
          "text": [
            "feature_fraction, val_score: 0.373033:  29%|##8       | 2/7 [00:00<00:02,  2.13it/s]\u001b[32m[I 2021-12-10 12:07:39,005]\u001b[0m Trial 1 finished with value: 0.37303280377763515 and parameters: {'feature_fraction': 1.0}. Best is trial 1 with value: 0.37303280377763515.\u001b[0m\n",
            "feature_fraction, val_score: 0.373033:  29%|##8       | 2/7 [00:00<00:02,  2.13it/s]"
          ]
        },
        {
          "output_type": "stream",
          "name": "stdout",
          "text": [
            "Early stopping, best iteration is:\n",
            "[32]\tTrain's rmse: 0.15906\tTest's rmse: 0.373033\n",
            "Training until validation scores don't improve for 50 rounds.\n"
          ]
        },
        {
          "output_type": "stream",
          "name": "stderr",
          "text": [
            "feature_fraction, val_score: 0.373033:  43%|####2     | 3/7 [00:01<00:01,  2.25it/s]\u001b[32m[I 2021-12-10 12:07:39,423]\u001b[0m Trial 2 finished with value: 0.41325813010412743 and parameters: {'feature_fraction': 0.5}. Best is trial 1 with value: 0.37303280377763515.\u001b[0m\n",
            "feature_fraction, val_score: 0.373033:  43%|####2     | 3/7 [00:01<00:01,  2.25it/s]"
          ]
        },
        {
          "output_type": "stream",
          "name": "stdout",
          "text": [
            "Did not meet early stopping. Best iteration is:\n",
            "[100]\tTrain's rmse: 0.121666\tTest's rmse: 0.413258\n",
            "Training until validation scores don't improve for 50 rounds.\n"
          ]
        },
        {
          "output_type": "stream",
          "name": "stderr",
          "text": [
            "feature_fraction, val_score: 0.373033:  57%|#####7    | 4/7 [00:01<00:01,  2.26it/s]\u001b[32m[I 2021-12-10 12:07:39,863]\u001b[0m Trial 3 finished with value: 0.407667454479844 and parameters: {'feature_fraction': 0.6}. Best is trial 1 with value: 0.37303280377763515.\u001b[0m\n",
            "feature_fraction, val_score: 0.373033:  57%|#####7    | 4/7 [00:01<00:01,  2.26it/s]"
          ]
        },
        {
          "output_type": "stream",
          "name": "stdout",
          "text": [
            "Did not meet early stopping. Best iteration is:\n",
            "[100]\tTrain's rmse: 0.119068\tTest's rmse: 0.407667\n",
            "Training until validation scores don't improve for 50 rounds.\n"
          ]
        },
        {
          "output_type": "stream",
          "name": "stderr",
          "text": [
            "feature_fraction, val_score: 0.373033:  71%|#######1  | 5/7 [00:02<00:00,  2.18it/s]\u001b[32m[I 2021-12-10 12:07:40,346]\u001b[0m Trial 4 finished with value: 0.39792690629008476 and parameters: {'feature_fraction': 0.7}. Best is trial 1 with value: 0.37303280377763515.\u001b[0m\n",
            "feature_fraction, val_score: 0.373033:  71%|#######1  | 5/7 [00:02<00:00,  2.18it/s]"
          ]
        },
        {
          "output_type": "stream",
          "name": "stdout",
          "text": [
            "Did not meet early stopping. Best iteration is:\n",
            "[100]\tTrain's rmse: 0.119956\tTest's rmse: 0.397927\n",
            "Training until validation scores don't improve for 50 rounds.\n"
          ]
        },
        {
          "output_type": "stream",
          "name": "stderr",
          "text": [
            "feature_fraction, val_score: 0.373033:  86%|########5 | 6/7 [00:02<00:00,  2.17it/s]\u001b[32m[I 2021-12-10 12:07:40,817]\u001b[0m Trial 5 finished with value: 0.38020058278906177 and parameters: {'feature_fraction': 0.8999999999999999}. Best is trial 1 with value: 0.37303280377763515.\u001b[0m\n",
            "feature_fraction, val_score: 0.373033:  86%|########5 | 6/7 [00:02<00:00,  2.17it/s]"
          ]
        },
        {
          "output_type": "stream",
          "name": "stdout",
          "text": [
            "Early stopping, best iteration is:\n",
            "[36]\tTrain's rmse: 0.157903\tTest's rmse: 0.380201\n",
            "Training until validation scores don't improve for 50 rounds.\n"
          ]
        },
        {
          "output_type": "stream",
          "name": "stderr",
          "text": [
            "feature_fraction, val_score: 0.373033: 100%|##########| 7/7 [00:03<00:00,  2.25it/s]\u001b[32m[I 2021-12-10 12:07:41,226]\u001b[0m Trial 6 finished with value: 0.41194801855330004 and parameters: {'feature_fraction': 0.4}. Best is trial 1 with value: 0.37303280377763515.\u001b[0m\n",
            "feature_fraction, val_score: 0.373033: 100%|##########| 7/7 [00:03<00:00,  2.20it/s]\n"
          ]
        },
        {
          "output_type": "stream",
          "name": "stdout",
          "text": [
            "Did not meet early stopping. Best iteration is:\n",
            "[100]\tTrain's rmse: 0.127532\tTest's rmse: 0.411948\n"
          ]
        },
        {
          "output_type": "stream",
          "name": "stderr",
          "text": [
            "num_leaves, val_score: 0.373033:   0%|          | 0/20 [00:00<?, ?it/s]"
          ]
        },
        {
          "output_type": "stream",
          "name": "stdout",
          "text": [
            "Training until validation scores don't improve for 50 rounds.\n"
          ]
        },
        {
          "output_type": "stream",
          "name": "stderr",
          "text": [
            "num_leaves, val_score: 0.373033:   5%|5         | 1/20 [00:01<00:27,  1.46s/it]\u001b[32m[I 2021-12-10 12:07:42,704]\u001b[0m Trial 7 finished with value: 0.37606412482775464 and parameters: {'num_leaves': 226}. Best is trial 7 with value: 0.37606412482775464.\u001b[0m\n",
            "num_leaves, val_score: 0.373033:   5%|5         | 1/20 [00:01<00:27,  1.46s/it]"
          ]
        },
        {
          "output_type": "stream",
          "name": "stdout",
          "text": [
            "Early stopping, best iteration is:\n",
            "[32]\tTrain's rmse: 0.15918\tTest's rmse: 0.376064\n",
            "Training until validation scores don't improve for 50 rounds.\n"
          ]
        },
        {
          "output_type": "stream",
          "name": "stderr",
          "text": [
            "num_leaves, val_score: 0.373033:  10%|#         | 2/20 [00:02<00:20,  1.13s/it]\u001b[32m[I 2021-12-10 12:07:43,599]\u001b[0m Trial 8 finished with value: 0.37606542493764594 and parameters: {'num_leaves': 104}. Best is trial 7 with value: 0.37606412482775464.\u001b[0m\n",
            "num_leaves, val_score: 0.373033:  10%|#         | 2/20 [00:02<00:20,  1.13s/it]"
          ]
        },
        {
          "output_type": "stream",
          "name": "stdout",
          "text": [
            "Early stopping, best iteration is:\n",
            "[32]\tTrain's rmse: 0.159187\tTest's rmse: 0.376065\n",
            "Training until validation scores don't improve for 50 rounds.\n"
          ]
        },
        {
          "output_type": "stream",
          "name": "stderr",
          "text": [
            "num_leaves, val_score: 0.373033:  15%|#5        | 3/20 [00:02<00:14,  1.13it/s]\u001b[32m[I 2021-12-10 12:07:44,190]\u001b[0m Trial 9 finished with value: 0.3760765551719972 and parameters: {'num_leaves': 51}. Best is trial 7 with value: 0.37606412482775464.\u001b[0m\n",
            "num_leaves, val_score: 0.373033:  15%|#5        | 3/20 [00:02<00:14,  1.13it/s]"
          ]
        },
        {
          "output_type": "stream",
          "name": "stdout",
          "text": [
            "Early stopping, best iteration is:\n",
            "[32]\tTrain's rmse: 0.159209\tTest's rmse: 0.376077\n",
            "Training until validation scores don't improve for 50 rounds.\n"
          ]
        },
        {
          "output_type": "stream",
          "name": "stderr",
          "text": [
            "num_leaves, val_score: 0.373033:  20%|##        | 4/20 [00:04<00:16,  1.00s/it]\u001b[32m[I 2021-12-10 12:07:45,374]\u001b[0m Trial 10 finished with value: 0.3757655275998465 and parameters: {'num_leaves': 139}. Best is trial 10 with value: 0.3757655275998465.\u001b[0m\n",
            "num_leaves, val_score: 0.373033:  20%|##        | 4/20 [00:04<00:16,  1.00s/it]"
          ]
        },
        {
          "output_type": "stream",
          "name": "stdout",
          "text": [
            "Early stopping, best iteration is:\n",
            "[39]\tTrain's rmse: 0.153042\tTest's rmse: 0.375766\n",
            "Training until validation scores don't improve for 50 rounds.\n"
          ]
        },
        {
          "output_type": "stream",
          "name": "stderr",
          "text": [
            "num_leaves, val_score: 0.373033:  25%|##5       | 5/20 [00:05<00:17,  1.17s/it]\u001b[32m[I 2021-12-10 12:07:46,839]\u001b[0m Trial 11 finished with value: 0.3757680035735625 and parameters: {'num_leaves': 208}. Best is trial 10 with value: 0.3757655275998465.\u001b[0m\n",
            "num_leaves, val_score: 0.373033:  25%|##5       | 5/20 [00:05<00:17,  1.17s/it]"
          ]
        },
        {
          "output_type": "stream",
          "name": "stdout",
          "text": [
            "Early stopping, best iteration is:\n",
            "[39]\tTrain's rmse: 0.153026\tTest's rmse: 0.375768\n",
            "Training until validation scores don't improve for 50 rounds.\n"
          ]
        },
        {
          "output_type": "stream",
          "name": "stderr",
          "text": [
            "num_leaves, val_score: 0.373033:  30%|###       | 6/20 [00:07<00:17,  1.27s/it]\u001b[32m[I 2021-12-10 12:07:48,300]\u001b[0m Trial 12 finished with value: 0.3757681147530447 and parameters: {'num_leaves': 206}. Best is trial 10 with value: 0.3757655275998465.\u001b[0m\n",
            "num_leaves, val_score: 0.373033:  30%|###       | 6/20 [00:07<00:17,  1.27s/it]"
          ]
        },
        {
          "output_type": "stream",
          "name": "stdout",
          "text": [
            "Early stopping, best iteration is:\n",
            "[39]\tTrain's rmse: 0.153026\tTest's rmse: 0.375768\n",
            "Training until validation scores don't improve for 50 rounds.\n"
          ]
        },
        {
          "output_type": "stream",
          "name": "stderr",
          "text": [
            "num_leaves, val_score: 0.373033:  35%|###5      | 7/20 [00:08<00:16,  1.24s/it]\u001b[32m[I 2021-12-10 12:07:49,483]\u001b[0m Trial 13 finished with value: 0.37607050747727105 and parameters: {'num_leaves': 168}. Best is trial 10 with value: 0.3757655275998465.\u001b[0m\n",
            "num_leaves, val_score: 0.373033:  35%|###5      | 7/20 [00:08<00:16,  1.24s/it]"
          ]
        },
        {
          "output_type": "stream",
          "name": "stdout",
          "text": [
            "Early stopping, best iteration is:\n",
            "[32]\tTrain's rmse: 0.159185\tTest's rmse: 0.376071\n",
            "Training until validation scores don't improve for 50 rounds.\n"
          ]
        },
        {
          "output_type": "stream",
          "name": "stderr",
          "text": [
            "num_leaves, val_score: 0.373033:  40%|####      | 8/20 [00:09<00:15,  1.31s/it]\u001b[32m[I 2021-12-10 12:07:50,933]\u001b[0m Trial 14 finished with value: 0.3757680450708494 and parameters: {'num_leaves': 205}. Best is trial 10 with value: 0.3757655275998465.\u001b[0m\n",
            "num_leaves, val_score: 0.373033:  40%|####      | 8/20 [00:09<00:15,  1.31s/it]"
          ]
        },
        {
          "output_type": "stream",
          "name": "stdout",
          "text": [
            "Early stopping, best iteration is:\n",
            "[39]\tTrain's rmse: 0.153026\tTest's rmse: 0.375768\n",
            "Training until validation scores don't improve for 50 rounds.\n"
          ]
        },
        {
          "output_type": "stream",
          "name": "stderr",
          "text": [
            "num_leaves, val_score: 0.373033:  45%|####5     | 9/20 [00:10<00:14,  1.30s/it]\u001b[32m[I 2021-12-10 12:07:52,224]\u001b[0m Trial 15 finished with value: 0.37578052096162373 and parameters: {'num_leaves': 172}. Best is trial 10 with value: 0.3757655275998465.\u001b[0m\n",
            "num_leaves, val_score: 0.373033:  45%|####5     | 9/20 [00:10<00:14,  1.30s/it]"
          ]
        },
        {
          "output_type": "stream",
          "name": "stdout",
          "text": [
            "Early stopping, best iteration is:\n",
            "[39]\tTrain's rmse: 0.153025\tTest's rmse: 0.375781\n",
            "Training until validation scores don't improve for 50 rounds.\n"
          ]
        },
        {
          "output_type": "stream",
          "name": "stderr",
          "text": [
            "num_leaves, val_score: 0.373033:  50%|#####     | 10/20 [00:11<00:10,  1.05s/it]\u001b[32m[I 2021-12-10 12:07:52,697]\u001b[0m Trial 16 finished with value: 0.3744400964440132 and parameters: {'num_leaves': 36}. Best is trial 16 with value: 0.3744400964440132.\u001b[0m\n",
            "num_leaves, val_score: 0.373033:  50%|#####     | 10/20 [00:11<00:10,  1.05s/it]"
          ]
        },
        {
          "output_type": "stream",
          "name": "stdout",
          "text": [
            "Early stopping, best iteration is:\n",
            "[31]\tTrain's rmse: 0.159648\tTest's rmse: 0.37444\n",
            "Training until validation scores don't improve for 50 rounds.\n"
          ]
        },
        {
          "output_type": "stream",
          "name": "stderr",
          "text": [
            "num_leaves, val_score: 0.373033:  55%|#####5    | 11/20 [00:11<00:07,  1.21it/s]\u001b[32m[I 2021-12-10 12:07:53,032]\u001b[0m Trial 17 finished with value: 0.3754118823892168 and parameters: {'num_leaves': 15}. Best is trial 16 with value: 0.3744400964440132.\u001b[0m\n",
            "num_leaves, val_score: 0.373033:  55%|#####5    | 11/20 [00:11<00:07,  1.21it/s]"
          ]
        },
        {
          "output_type": "stream",
          "name": "stdout",
          "text": [
            "Early stopping, best iteration is:\n",
            "[39]\tTrain's rmse: 0.153318\tTest's rmse: 0.375412\n",
            "Training until validation scores don't improve for 50 rounds.\n"
          ]
        },
        {
          "output_type": "stream",
          "name": "stderr",
          "text": [
            "num_leaves, val_score: 0.371375:  60%|######    | 12/20 [00:12<00:05,  1.50it/s]\u001b[32m[I 2021-12-10 12:07:53,326]\u001b[0m Trial 18 finished with value: 0.3713748707011563 and parameters: {'num_leaves': 12}. Best is trial 18 with value: 0.3713748707011563.\u001b[0m\n",
            "num_leaves, val_score: 0.371375:  60%|######    | 12/20 [00:12<00:05,  1.50it/s]"
          ]
        },
        {
          "output_type": "stream",
          "name": "stdout",
          "text": [
            "Early stopping, best iteration is:\n",
            "[32]\tTrain's rmse: 0.158799\tTest's rmse: 0.371375\n",
            "Training until validation scores don't improve for 50 rounds.\n"
          ]
        },
        {
          "output_type": "stream",
          "name": "stderr",
          "text": [
            "num_leaves, val_score: 0.348219:  65%|######5   | 13/20 [00:12<00:03,  1.88it/s]\u001b[32m[I 2021-12-10 12:07:53,553]\u001b[0m Trial 19 finished with value: 0.34821864623888243 and parameters: {'num_leaves': 5}. Best is trial 19 with value: 0.34821864623888243.\u001b[0m\n",
            "num_leaves, val_score: 0.348219:  65%|######5   | 13/20 [00:12<00:03,  1.88it/s]"
          ]
        },
        {
          "output_type": "stream",
          "name": "stdout",
          "text": [
            "Early stopping, best iteration is:\n",
            "[36]\tTrain's rmse: 0.166868\tTest's rmse: 0.348219\n",
            "Training until validation scores don't improve for 50 rounds.\n"
          ]
        },
        {
          "output_type": "stream",
          "name": "stderr",
          "text": [
            "num_leaves, val_score: 0.348219:  70%|#######   | 14/20 [00:13<00:03,  1.61it/s]\u001b[32m[I 2021-12-10 12:07:54,372]\u001b[0m Trial 20 finished with value: 0.37576918786787017 and parameters: {'num_leaves': 79}. Best is trial 19 with value: 0.34821864623888243.\u001b[0m\n",
            "num_leaves, val_score: 0.348219:  70%|#######   | 14/20 [00:13<00:03,  1.61it/s]"
          ]
        },
        {
          "output_type": "stream",
          "name": "stdout",
          "text": [
            "Early stopping, best iteration is:\n",
            "[39]\tTrain's rmse: 0.153035\tTest's rmse: 0.375769\n",
            "Training until validation scores don't improve for 50 rounds.\n"
          ]
        },
        {
          "output_type": "stream",
          "name": "stderr",
          "text": [
            "num_leaves, val_score: 0.348219:  75%|#######5  | 15/20 [00:13<00:02,  2.01it/s]\u001b[32m[I 2021-12-10 12:07:54,587]\u001b[0m Trial 21 finished with value: 0.3645463404681194 and parameters: {'num_leaves': 4}. Best is trial 19 with value: 0.34821864623888243.\u001b[0m\n",
            "num_leaves, val_score: 0.348219:  75%|#######5  | 15/20 [00:13<00:02,  2.01it/s]"
          ]
        },
        {
          "output_type": "stream",
          "name": "stdout",
          "text": [
            "Did not meet early stopping. Best iteration is:\n",
            "[100]\tTrain's rmse: 0.13478\tTest's rmse: 0.364546\n",
            "Training until validation scores don't improve for 50 rounds.\n"
          ]
        },
        {
          "output_type": "stream",
          "name": "stderr",
          "text": [
            "num_leaves, val_score: 0.348219:  80%|########  | 16/20 [00:13<00:02,  1.85it/s]\u001b[32m[I 2021-12-10 12:07:55,228]\u001b[0m Trial 22 finished with value: 0.3760687687376357 and parameters: {'num_leaves': 66}. Best is trial 19 with value: 0.34821864623888243.\u001b[0m\n",
            "num_leaves, val_score: 0.348219:  80%|########  | 16/20 [00:13<00:02,  1.85it/s]"
          ]
        },
        {
          "output_type": "stream",
          "name": "stdout",
          "text": [
            "Early stopping, best iteration is:\n",
            "[32]\tTrain's rmse: 0.159192\tTest's rmse: 0.376069\n",
            "Training until validation scores don't improve for 50 rounds.\n"
          ]
        },
        {
          "output_type": "stream",
          "name": "stderr",
          "text": [
            "num_leaves, val_score: 0.348219:  85%|########5 | 17/20 [00:14<00:01,  2.20it/s]\u001b[32m[I 2021-12-10 12:07:55,482]\u001b[0m Trial 23 finished with value: 0.35428351987857704 and parameters: {'num_leaves': 6}. Best is trial 19 with value: 0.34821864623888243.\u001b[0m\n",
            "num_leaves, val_score: 0.348219:  85%|########5 | 17/20 [00:14<00:01,  2.20it/s]"
          ]
        },
        {
          "output_type": "stream",
          "name": "stdout",
          "text": [
            "Early stopping, best iteration is:\n",
            "[40]\tTrain's rmse: 0.155086\tTest's rmse: 0.354284\n",
            "Training until validation scores don't improve for 50 rounds.\n"
          ]
        },
        {
          "output_type": "stream",
          "name": "stderr",
          "text": [
            "num_leaves, val_score: 0.348219:  90%|######### | 18/20 [00:15<00:01,  1.66it/s]\u001b[32m[I 2021-12-10 12:07:56,429]\u001b[0m Trial 24 finished with value: 0.3760667578701294 and parameters: {'num_leaves': 107}. Best is trial 19 with value: 0.34821864623888243.\u001b[0m\n",
            "num_leaves, val_score: 0.348219:  90%|######### | 18/20 [00:15<00:01,  1.66it/s]"
          ]
        },
        {
          "output_type": "stream",
          "name": "stdout",
          "text": [
            "Early stopping, best iteration is:\n",
            "[32]\tTrain's rmse: 0.159186\tTest's rmse: 0.376067\n",
            "Training until validation scores don't improve for 50 rounds.\n"
          ]
        },
        {
          "output_type": "stream",
          "name": "stderr",
          "text": [
            "num_leaves, val_score: 0.348219:  95%|#########5| 19/20 [00:15<00:00,  1.77it/s]\u001b[32m[I 2021-12-10 12:07:56,903]\u001b[0m Trial 25 finished with value: 0.37370719326633084 and parameters: {'num_leaves': 35}. Best is trial 19 with value: 0.34821864623888243.\u001b[0m\n",
            "num_leaves, val_score: 0.348219:  95%|#########5| 19/20 [00:15<00:00,  1.77it/s]"
          ]
        },
        {
          "output_type": "stream",
          "name": "stdout",
          "text": [
            "Early stopping, best iteration is:\n",
            "[31]\tTrain's rmse: 0.15994\tTest's rmse: 0.373707\n",
            "Training until validation scores don't improve for 50 rounds.\n"
          ]
        },
        {
          "output_type": "stream",
          "name": "stderr",
          "text": [
            "num_leaves, val_score: 0.348219: 100%|##########| 20/20 [00:16<00:00,  1.63it/s]\u001b[32m[I 2021-12-10 12:07:57,629]\u001b[0m Trial 26 finished with value: 0.37610733486180753 and parameters: {'num_leaves': 76}. Best is trial 19 with value: 0.34821864623888243.\u001b[0m\n",
            "num_leaves, val_score: 0.348219: 100%|##########| 20/20 [00:16<00:00,  1.22it/s]\n"
          ]
        },
        {
          "output_type": "stream",
          "name": "stdout",
          "text": [
            "Early stopping, best iteration is:\n",
            "[32]\tTrain's rmse: 0.159223\tTest's rmse: 0.376107\n"
          ]
        },
        {
          "output_type": "stream",
          "name": "stderr",
          "text": [
            "bagging, val_score: 0.348219:   0%|          | 0/10 [00:00<?, ?it/s]"
          ]
        },
        {
          "output_type": "stream",
          "name": "stdout",
          "text": [
            "Training until validation scores don't improve for 50 rounds.\n"
          ]
        },
        {
          "output_type": "stream",
          "name": "stderr",
          "text": [
            "bagging, val_score: 0.348219:  10%|#         | 1/10 [00:00<00:02,  3.51it/s]\u001b[32m[I 2021-12-10 12:07:57,934]\u001b[0m Trial 27 finished with value: 0.360408130589894 and parameters: {'bagging_fraction': 0.9273295978963796, 'bagging_freq': 6}. Best is trial 27 with value: 0.360408130589894.\u001b[0m\n",
            "bagging, val_score: 0.348219:  10%|#         | 1/10 [00:00<00:02,  3.51it/s]"
          ]
        },
        {
          "output_type": "stream",
          "name": "stdout",
          "text": [
            "Did not meet early stopping. Best iteration is:\n",
            "[100]\tTrain's rmse: 0.143698\tTest's rmse: 0.360408\n",
            "Training until validation scores don't improve for 50 rounds.\n"
          ]
        },
        {
          "output_type": "stream",
          "name": "stderr",
          "text": [
            "bagging, val_score: 0.348219:  20%|##        | 2/10 [00:00<00:02,  3.73it/s]\u001b[32m[I 2021-12-10 12:07:58,186]\u001b[0m Trial 28 finished with value: 0.35963821292251746 and parameters: {'bagging_fraction': 0.49180053955540515, 'bagging_freq': 7}. Best is trial 28 with value: 0.35963821292251746.\u001b[0m\n",
            "bagging, val_score: 0.348219:  20%|##        | 2/10 [00:00<00:02,  3.73it/s]"
          ]
        },
        {
          "output_type": "stream",
          "name": "stdout",
          "text": [
            "Did not meet early stopping. Best iteration is:\n",
            "[100]\tTrain's rmse: 0.170589\tTest's rmse: 0.359638\n",
            "Training until validation scores don't improve for 50 rounds.\n"
          ]
        },
        {
          "output_type": "stream",
          "name": "stderr",
          "text": [
            "bagging, val_score: 0.348219:  30%|###       | 3/10 [00:00<00:01,  3.67it/s]\u001b[32m[I 2021-12-10 12:07:58,466]\u001b[0m Trial 29 finished with value: 0.3529949371802952 and parameters: {'bagging_fraction': 0.7843091181260771, 'bagging_freq': 6}. Best is trial 29 with value: 0.3529949371802952.\u001b[0m\n",
            "bagging, val_score: 0.348219:  30%|###       | 3/10 [00:00<00:01,  3.67it/s]"
          ]
        },
        {
          "output_type": "stream",
          "name": "stdout",
          "text": [
            "Did not meet early stopping. Best iteration is:\n",
            "[100]\tTrain's rmse: 0.152879\tTest's rmse: 0.352995\n",
            "Training until validation scores don't improve for 50 rounds.\n"
          ]
        },
        {
          "output_type": "stream",
          "name": "stderr",
          "text": [
            "bagging, val_score: 0.348219:  40%|####      | 4/10 [00:01<00:01,  3.49it/s]\u001b[32m[I 2021-12-10 12:07:58,776]\u001b[0m Trial 30 finished with value: 0.3672120156099598 and parameters: {'bagging_fraction': 0.7486568085993955, 'bagging_freq': 4}. Best is trial 29 with value: 0.3529949371802952.\u001b[0m\n"
          ]
        },
        {
          "output_type": "stream",
          "name": "stdout",
          "text": [
            "Did not meet early stopping. Best iteration is:\n",
            "[100]\tTrain's rmse: 0.156707\tTest's rmse: 0.367212\n"
          ]
        },
        {
          "output_type": "stream",
          "name": "stderr",
          "text": [
            "\rbagging, val_score: 0.348219:  40%|####      | 4/10 [00:01<00:01,  3.49it/s]"
          ]
        },
        {
          "output_type": "stream",
          "name": "stdout",
          "text": [
            "Training until validation scores don't improve for 50 rounds.\n"
          ]
        },
        {
          "output_type": "stream",
          "name": "stderr",
          "text": [
            "bagging, val_score: 0.348219:  50%|#####     | 5/10 [00:01<00:01,  3.60it/s]\u001b[32m[I 2021-12-10 12:07:59,034]\u001b[0m Trial 31 finished with value: 0.34978277526462026 and parameters: {'bagging_fraction': 0.4903266370722346, 'bagging_freq': 2}. Best is trial 31 with value: 0.34978277526462026.\u001b[0m\n",
            "bagging, val_score: 0.348219:  50%|#####     | 5/10 [00:01<00:01,  3.60it/s]"
          ]
        },
        {
          "output_type": "stream",
          "name": "stdout",
          "text": [
            "Did not meet early stopping. Best iteration is:\n",
            "[100]\tTrain's rmse: 0.172864\tTest's rmse: 0.349783\n",
            "Training until validation scores don't improve for 50 rounds.\n"
          ]
        },
        {
          "output_type": "stream",
          "name": "stderr",
          "text": [
            "bagging, val_score: 0.348219:  60%|######    | 6/10 [00:01<00:01,  3.73it/s]\u001b[32m[I 2021-12-10 12:07:59,283]\u001b[0m Trial 32 finished with value: 0.356968468410983 and parameters: {'bagging_fraction': 0.7558891413979163, 'bagging_freq': 1}. Best is trial 31 with value: 0.34978277526462026.\u001b[0m\n",
            "bagging, val_score: 0.348219:  60%|######    | 6/10 [00:01<00:01,  3.73it/s]"
          ]
        },
        {
          "output_type": "stream",
          "name": "stdout",
          "text": [
            "Did not meet early stopping. Best iteration is:\n",
            "[100]\tTrain's rmse: 0.15739\tTest's rmse: 0.356968\n",
            "Training until validation scores don't improve for 50 rounds.\n"
          ]
        },
        {
          "output_type": "stream",
          "name": "stderr",
          "text": [
            "bagging, val_score: 0.348219:  70%|#######   | 7/10 [00:01<00:00,  3.70it/s]\u001b[32m[I 2021-12-10 12:07:59,558]\u001b[0m Trial 33 finished with value: 0.3545097801565229 and parameters: {'bagging_fraction': 0.6848713135929347, 'bagging_freq': 7}. Best is trial 31 with value: 0.34978277526462026.\u001b[0m\n",
            "bagging, val_score: 0.348219:  70%|#######   | 7/10 [00:01<00:00,  3.70it/s]"
          ]
        },
        {
          "output_type": "stream",
          "name": "stdout",
          "text": [
            "Did not meet early stopping. Best iteration is:\n",
            "[91]\tTrain's rmse: 0.155474\tTest's rmse: 0.35451\n",
            "Training until validation scores don't improve for 50 rounds.\n"
          ]
        },
        {
          "output_type": "stream",
          "name": "stderr",
          "text": [
            "bagging, val_score: 0.348219:  80%|########  | 8/10 [00:02<00:00,  3.67it/s]\u001b[32m[I 2021-12-10 12:07:59,842]\u001b[0m Trial 34 finished with value: 0.3493690745858796 and parameters: {'bagging_fraction': 0.44899518571108, 'bagging_freq': 2}. Best is trial 34 with value: 0.3493690745858796.\u001b[0m\n",
            "bagging, val_score: 0.348219:  80%|########  | 8/10 [00:02<00:00,  3.67it/s]"
          ]
        },
        {
          "output_type": "stream",
          "name": "stdout",
          "text": [
            "Did not meet early stopping. Best iteration is:\n",
            "[100]\tTrain's rmse: 0.17246\tTest's rmse: 0.349369\n",
            "Training until validation scores don't improve for 50 rounds.\n"
          ]
        },
        {
          "output_type": "stream",
          "name": "stderr",
          "text": [
            "bagging, val_score: 0.348219:  90%|######### | 9/10 [00:02<00:00,  3.73it/s]\u001b[32m[I 2021-12-10 12:08:00,104]\u001b[0m Trial 35 finished with value: 0.372254920097749 and parameters: {'bagging_fraction': 0.6709294349104045, 'bagging_freq': 6}. Best is trial 34 with value: 0.3493690745858796.\u001b[0m\n",
            "bagging, val_score: 0.348219:  90%|######### | 9/10 [00:02<00:00,  3.73it/s]"
          ]
        },
        {
          "output_type": "stream",
          "name": "stdout",
          "text": [
            "Did not meet early stopping. Best iteration is:\n",
            "[100]\tTrain's rmse: 0.159276\tTest's rmse: 0.372255\n",
            "Training until validation scores don't improve for 50 rounds.\n"
          ]
        },
        {
          "output_type": "stream",
          "name": "stderr",
          "text": [
            "bagging, val_score: 0.348219: 100%|##########| 10/10 [00:02<00:00,  3.75it/s]\u001b[32m[I 2021-12-10 12:08:00,358]\u001b[0m Trial 36 finished with value: 0.3565295750797813 and parameters: {'bagging_fraction': 0.6373639207046644, 'bagging_freq': 7}. Best is trial 34 with value: 0.3493690745858796.\u001b[0m\n",
            "bagging, val_score: 0.348219: 100%|##########| 10/10 [00:02<00:00,  3.67it/s]\n"
          ]
        },
        {
          "output_type": "stream",
          "name": "stdout",
          "text": [
            "Did not meet early stopping. Best iteration is:\n",
            "[91]\tTrain's rmse: 0.160508\tTest's rmse: 0.35653\n"
          ]
        },
        {
          "output_type": "stream",
          "name": "stderr",
          "text": [
            "feature_fraction_stage2, val_score: 0.348219:   0%|          | 0/3 [00:00<?, ?it/s]"
          ]
        },
        {
          "output_type": "stream",
          "name": "stdout",
          "text": [
            "Training until validation scores don't improve for 50 rounds.\n"
          ]
        },
        {
          "output_type": "stream",
          "name": "stderr",
          "text": [
            "feature_fraction_stage2, val_score: 0.348219:  33%|###3      | 1/3 [00:00<00:00,  3.91it/s]\u001b[32m[I 2021-12-10 12:08:00,629]\u001b[0m Trial 37 finished with value: 0.3498174722607146 and parameters: {'feature_fraction': 0.9840000000000001}. Best is trial 37 with value: 0.3498174722607146.\u001b[0m\n",
            "feature_fraction_stage2, val_score: 0.348219:  33%|###3      | 1/3 [00:00<00:00,  3.91it/s]"
          ]
        },
        {
          "output_type": "stream",
          "name": "stdout",
          "text": [
            "Early stopping, best iteration is:\n",
            "[40]\tTrain's rmse: 0.162345\tTest's rmse: 0.349817\n",
            "Training until validation scores don't improve for 50 rounds.\n"
          ]
        },
        {
          "output_type": "stream",
          "name": "stderr",
          "text": [
            "feature_fraction_stage2, val_score: 0.348219:  67%|######6   | 2/3 [00:00<00:00,  4.05it/s]\u001b[32m[I 2021-12-10 12:08:00,876]\u001b[0m Trial 38 finished with value: 0.3716326816733947 and parameters: {'feature_fraction': 0.92}. Best is trial 37 with value: 0.3498174722607146.\u001b[0m\n",
            "feature_fraction_stage2, val_score: 0.348219:  67%|######6   | 2/3 [00:00<00:00,  4.05it/s]"
          ]
        },
        {
          "output_type": "stream",
          "name": "stdout",
          "text": [
            "Did not meet early stopping. Best iteration is:\n",
            "[100]\tTrain's rmse: 0.132647\tTest's rmse: 0.371633\n",
            "Training until validation scores don't improve for 50 rounds.\n"
          ]
        },
        {
          "output_type": "stream",
          "name": "stderr",
          "text": [
            "feature_fraction_stage2, val_score: 0.348219: 100%|##########| 3/3 [00:00<00:00,  4.09it/s]\u001b[32m[I 2021-12-10 12:08:01,120]\u001b[0m Trial 39 finished with value: 0.3498174722607146 and parameters: {'feature_fraction': 0.9520000000000001}. Best is trial 37 with value: 0.3498174722607146.\u001b[0m\n",
            "feature_fraction_stage2, val_score: 0.348219: 100%|##########| 3/3 [00:00<00:00,  3.98it/s]\n"
          ]
        },
        {
          "output_type": "stream",
          "name": "stdout",
          "text": [
            "Early stopping, best iteration is:\n",
            "[40]\tTrain's rmse: 0.162345\tTest's rmse: 0.349817\n"
          ]
        },
        {
          "output_type": "stream",
          "name": "stderr",
          "text": [
            "regularization_factors, val_score: 0.348219:   0%|          | 0/20 [00:00<?, ?it/s]"
          ]
        },
        {
          "output_type": "stream",
          "name": "stdout",
          "text": [
            "Training until validation scores don't improve for 50 rounds.\n"
          ]
        },
        {
          "output_type": "stream",
          "name": "stderr",
          "text": [
            "regularization_factors, val_score: 0.348219:   5%|5         | 1/20 [00:00<00:04,  4.18it/s]\u001b[32m[I 2021-12-10 12:08:01,385]\u001b[0m Trial 40 finished with value: 0.35625731736150124 and parameters: {'lambda_l1': 2.363000615643099e-08, 'lambda_l2': 0.10372311031206743}. Best is trial 40 with value: 0.35625731736150124.\u001b[0m\n",
            "regularization_factors, val_score: 0.348219:   5%|5         | 1/20 [00:00<00:04,  4.18it/s]"
          ]
        },
        {
          "output_type": "stream",
          "name": "stdout",
          "text": [
            "Early stopping, best iteration is:\n",
            "[42]\tTrain's rmse: 0.161106\tTest's rmse: 0.356257\n",
            "Training until validation scores don't improve for 50 rounds.\n"
          ]
        },
        {
          "output_type": "stream",
          "name": "stderr",
          "text": [
            "regularization_factors, val_score: 0.348219:  10%|#         | 2/20 [00:00<00:04,  3.98it/s]\u001b[32m[I 2021-12-10 12:08:01,649]\u001b[0m Trial 41 finished with value: 0.3482189779022944 and parameters: {'lambda_l1': 1.4023968135302038e-07, 'lambda_l2': 0.00017178551308500955}. Best is trial 41 with value: 0.3482189779022944.\u001b[0m\n",
            "regularization_factors, val_score: 0.348219:  10%|#         | 2/20 [00:00<00:04,  3.98it/s]"
          ]
        },
        {
          "output_type": "stream",
          "name": "stdout",
          "text": [
            "Early stopping, best iteration is:\n",
            "[36]\tTrain's rmse: 0.166869\tTest's rmse: 0.348219\n",
            "Training until validation scores don't improve for 50 rounds.\n"
          ]
        },
        {
          "output_type": "stream",
          "name": "stderr",
          "text": [
            "regularization_factors, val_score: 0.348219:  15%|#5        | 3/20 [00:00<00:04,  3.94it/s]\u001b[32m[I 2021-12-10 12:08:01,899]\u001b[0m Trial 42 finished with value: 0.365914761823248 and parameters: {'lambda_l1': 7.803177516311608e-07, 'lambda_l2': 7.14668485027138}. Best is trial 41 with value: 0.3482189779022944.\u001b[0m\n",
            "regularization_factors, val_score: 0.348219:  15%|#5        | 3/20 [00:00<00:04,  3.94it/s]"
          ]
        },
        {
          "output_type": "stream",
          "name": "stdout",
          "text": [
            "Early stopping, best iteration is:\n",
            "[41]\tTrain's rmse: 0.173004\tTest's rmse: 0.365915\n",
            "Training until validation scores don't improve for 50 rounds.\n"
          ]
        },
        {
          "output_type": "stream",
          "name": "stderr",
          "text": [
            "regularization_factors, val_score: 0.348219:  20%|##        | 4/20 [00:00<00:03,  4.03it/s]\u001b[32m[I 2021-12-10 12:08:02,136]\u001b[0m Trial 43 finished with value: 0.3482191110032513 and parameters: {'lambda_l1': 0.0003327295342191718, 'lambda_l2': 2.0624281519180595e-07}. Best is trial 41 with value: 0.3482189779022944.\u001b[0m\n",
            "regularization_factors, val_score: 0.348219:  20%|##        | 4/20 [00:01<00:03,  4.03it/s]"
          ]
        },
        {
          "output_type": "stream",
          "name": "stdout",
          "text": [
            "Early stopping, best iteration is:\n",
            "[36]\tTrain's rmse: 0.166869\tTest's rmse: 0.348219\n",
            "Training until validation scores don't improve for 50 rounds.\n"
          ]
        },
        {
          "output_type": "stream",
          "name": "stderr",
          "text": [
            "regularization_factors, val_score: 0.348219:  25%|##5       | 5/20 [00:01<00:03,  4.12it/s]\u001b[32m[I 2021-12-10 12:08:02,373]\u001b[0m Trial 44 finished with value: 0.3482233279539034 and parameters: {'lambda_l1': 0.0033481736993871167, 'lambda_l2': 1.7382995327038786e-06}. Best is trial 41 with value: 0.3482189779022944.\u001b[0m\n",
            "regularization_factors, val_score: 0.348219:  25%|##5       | 5/20 [00:01<00:03,  4.12it/s]"
          ]
        },
        {
          "output_type": "stream",
          "name": "stdout",
          "text": [
            "Early stopping, best iteration is:\n",
            "[36]\tTrain's rmse: 0.166871\tTest's rmse: 0.348223\n",
            "Training until validation scores don't improve for 50 rounds.\n"
          ]
        },
        {
          "output_type": "stream",
          "name": "stderr",
          "text": [
            "regularization_factors, val_score: 0.348219:  30%|###       | 6/20 [00:01<00:03,  4.06it/s]\u001b[32m[I 2021-12-10 12:08:02,625]\u001b[0m Trial 45 finished with value: 0.3482188789266056 and parameters: {'lambda_l1': 0.00016294060236253765, 'lambda_l2': 2.5954393916191023e-06}. Best is trial 45 with value: 0.3482188789266056.\u001b[0m\n",
            "regularization_factors, val_score: 0.348219:  30%|###       | 6/20 [00:01<00:03,  4.06it/s]"
          ]
        },
        {
          "output_type": "stream",
          "name": "stdout",
          "text": [
            "Early stopping, best iteration is:\n",
            "[36]\tTrain's rmse: 0.166868\tTest's rmse: 0.348219\n",
            "Training until validation scores don't improve for 50 rounds.\n"
          ]
        },
        {
          "output_type": "stream",
          "name": "stderr",
          "text": [
            "regularization_factors, val_score: 0.348219:  35%|###5      | 7/20 [00:01<00:03,  4.11it/s]\u001b[32m[I 2021-12-10 12:08:02,863]\u001b[0m Trial 46 finished with value: 0.35624499098560053 and parameters: {'lambda_l1': 4.323715418029913e-06, 'lambda_l2': 0.09256212321499846}. Best is trial 45 with value: 0.3482188789266056.\u001b[0m\n",
            "regularization_factors, val_score: 0.348219:  35%|###5      | 7/20 [00:01<00:03,  4.11it/s]"
          ]
        },
        {
          "output_type": "stream",
          "name": "stdout",
          "text": [
            "Early stopping, best iteration is:\n",
            "[42]\tTrain's rmse: 0.161093\tTest's rmse: 0.356245\n",
            "Training until validation scores don't improve for 50 rounds.\n"
          ]
        },
        {
          "output_type": "stream",
          "name": "stderr",
          "text": [
            "regularization_factors, val_score: 0.348219:  40%|####      | 8/20 [00:01<00:02,  4.22it/s]\u001b[32m[I 2021-12-10 12:08:03,090]\u001b[0m Trial 47 finished with value: 0.3482217018716029 and parameters: {'lambda_l1': 0.002185462301489722, 'lambda_l2': 1.264754919624928e-06}. Best is trial 45 with value: 0.3482188789266056.\u001b[0m\n",
            "regularization_factors, val_score: 0.348219:  40%|####      | 8/20 [00:01<00:02,  4.22it/s]"
          ]
        },
        {
          "output_type": "stream",
          "name": "stdout",
          "text": [
            "Early stopping, best iteration is:\n",
            "[36]\tTrain's rmse: 0.16687\tTest's rmse: 0.348222\n",
            "Training until validation scores don't improve for 50 rounds.\n"
          ]
        },
        {
          "output_type": "stream",
          "name": "stderr",
          "text": [
            "regularization_factors, val_score: 0.348219:  45%|####5     | 9/20 [00:02<00:02,  4.06it/s]\u001b[32m[I 2021-12-10 12:08:03,362]\u001b[0m Trial 48 finished with value: 0.35376967368165285 and parameters: {'lambda_l1': 0.2279014882386257, 'lambda_l2': 0.5571961638049885}. Best is trial 45 with value: 0.3482188789266056.\u001b[0m\n",
            "regularization_factors, val_score: 0.348219:  45%|####5     | 9/20 [00:02<00:02,  4.06it/s]"
          ]
        },
        {
          "output_type": "stream",
          "name": "stdout",
          "text": [
            "Early stopping, best iteration is:\n",
            "[47]\tTrain's rmse: 0.157625\tTest's rmse: 0.35377\n",
            "Training until validation scores don't improve for 50 rounds.\n"
          ]
        },
        {
          "output_type": "stream",
          "name": "stderr",
          "text": [
            "regularization_factors, val_score: 0.348219:  50%|#####     | 10/20 [00:02<00:02,  3.95it/s]\u001b[32m[I 2021-12-10 12:08:03,635]\u001b[0m Trial 49 finished with value: 0.3515393102232857 and parameters: {'lambda_l1': 4.749164375914839, 'lambda_l2': 1.0225159400495027}. Best is trial 45 with value: 0.3482188789266056.\u001b[0m\n",
            "regularization_factors, val_score: 0.348219:  50%|#####     | 10/20 [00:02<00:02,  3.95it/s]"
          ]
        },
        {
          "output_type": "stream",
          "name": "stdout",
          "text": [
            "Did not meet early stopping. Best iteration is:\n",
            "[100]\tTrain's rmse: 0.139257\tTest's rmse: 0.351539\n",
            "Training until validation scores don't improve for 50 rounds.\n"
          ]
        },
        {
          "output_type": "stream",
          "name": "stderr",
          "text": [
            "regularization_factors, val_score: 0.348219:  55%|#####5    | 11/20 [00:02<00:02,  3.97it/s]\u001b[32m[I 2021-12-10 12:08:03,881]\u001b[0m Trial 50 finished with value: 0.3482186504267899 and parameters: {'lambda_l1': 2.9699028257464072e-06, 'lambda_l2': 1.0799793711029474e-08}. Best is trial 50 with value: 0.3482186504267899.\u001b[0m\n",
            "regularization_factors, val_score: 0.348219:  55%|#####5    | 11/20 [00:02<00:02,  3.97it/s]"
          ]
        },
        {
          "output_type": "stream",
          "name": "stdout",
          "text": [
            "Early stopping, best iteration is:\n",
            "[36]\tTrain's rmse: 0.166868\tTest's rmse: 0.348219\n",
            "Training until validation scores don't improve for 50 rounds.\n"
          ]
        },
        {
          "output_type": "stream",
          "name": "stderr",
          "text": [
            "regularization_factors, val_score: 0.348219:  60%|######    | 12/20 [00:02<00:01,  4.06it/s]\u001b[32m[I 2021-12-10 12:08:04,109]\u001b[0m Trial 51 finished with value: 0.3482186554651787 and parameters: {'lambda_l1': 6.54435552763311e-06, 'lambda_l2': 1.1841650275151824e-08}. Best is trial 50 with value: 0.3482186504267899.\u001b[0m\n",
            "regularization_factors, val_score: 0.348219:  60%|######    | 12/20 [00:02<00:01,  4.06it/s]"
          ]
        },
        {
          "output_type": "stream",
          "name": "stdout",
          "text": [
            "Early stopping, best iteration is:\n",
            "[36]\tTrain's rmse: 0.166868\tTest's rmse: 0.348219\n",
            "Training until validation scores don't improve for 50 rounds.\n"
          ]
        },
        {
          "output_type": "stream",
          "name": "stderr",
          "text": [
            "regularization_factors, val_score: 0.348219:  65%|######5   | 13/20 [00:03<00:01,  4.03it/s]\u001b[32m[I 2021-12-10 12:08:04,357]\u001b[0m Trial 52 finished with value: 0.34821868843020615 and parameters: {'lambda_l1': 3.002576808092024e-05, 'lambda_l2': 1.4895149821323277e-08}. Best is trial 50 with value: 0.3482186504267899.\u001b[0m\n",
            "regularization_factors, val_score: 0.348219:  65%|######5   | 13/20 [00:03<00:01,  4.03it/s]"
          ]
        },
        {
          "output_type": "stream",
          "name": "stdout",
          "text": [
            "Early stopping, best iteration is:\n",
            "[36]\tTrain's rmse: 0.166868\tTest's rmse: 0.348219\n",
            "Training until validation scores don't improve for 50 rounds.\n"
          ]
        },
        {
          "output_type": "stream",
          "name": "stderr",
          "text": [
            "regularization_factors, val_score: 0.348219:  70%|#######   | 14/20 [00:03<00:01,  4.00it/s]\u001b[32m[I 2021-12-10 12:08:04,610]\u001b[0m Trial 53 finished with value: 0.34821865349805026 and parameters: {'lambda_l1': 5.1911363881674885e-06, 'lambda_l2': 1.0449471612796075e-08}. Best is trial 50 with value: 0.3482186504267899.\u001b[0m\n",
            "regularization_factors, val_score: 0.348219:  70%|#######   | 14/20 [00:03<00:01,  4.00it/s]"
          ]
        },
        {
          "output_type": "stream",
          "name": "stdout",
          "text": [
            "Early stopping, best iteration is:\n",
            "[36]\tTrain's rmse: 0.166868\tTest's rmse: 0.348219\n",
            "Training until validation scores don't improve for 50 rounds.\n"
          ]
        },
        {
          "output_type": "stream",
          "name": "stderr",
          "text": [
            "regularization_factors, val_score: 0.348219:  75%|#######5  | 15/20 [00:03<00:01,  4.00it/s]\u001b[32m[I 2021-12-10 12:08:04,862]\u001b[0m Trial 54 finished with value: 0.3482188920095663 and parameters: {'lambda_l1': 3.382560124272762e-07, 'lambda_l2': 0.0001267995581298319}. Best is trial 50 with value: 0.3482186504267899.\u001b[0m\n",
            "regularization_factors, val_score: 0.348219:  75%|#######5  | 15/20 [00:03<00:01,  4.00it/s]"
          ]
        },
        {
          "output_type": "stream",
          "name": "stdout",
          "text": [
            "Early stopping, best iteration is:\n",
            "[36]\tTrain's rmse: 0.166868\tTest's rmse: 0.348219\n",
            "Training until validation scores don't improve for 50 rounds.\n"
          ]
        },
        {
          "output_type": "stream",
          "name": "stderr",
          "text": [
            "regularization_factors, val_score: 0.348219:  80%|########  | 16/20 [00:03<00:00,  4.06it/s]\u001b[32m[I 2021-12-10 12:08:05,099]\u001b[0m Trial 55 finished with value: 0.3482186639071474 and parameters: {'lambda_l1': 1.2336514426470055e-05, 'lambda_l2': 1.4873277284475115e-07}. Best is trial 50 with value: 0.3482186504267899.\u001b[0m\n",
            "regularization_factors, val_score: 0.348219:  80%|########  | 16/20 [00:03<00:00,  4.06it/s]"
          ]
        },
        {
          "output_type": "stream",
          "name": "stdout",
          "text": [
            "Early stopping, best iteration is:\n",
            "[36]\tTrain's rmse: 0.166868\tTest's rmse: 0.348219\n",
            "Training until validation scores don't improve for 50 rounds.\n"
          ]
        },
        {
          "output_type": "stream",
          "name": "stderr",
          "text": [
            "regularization_factors, val_score: 0.348219:  85%|########5 | 17/20 [00:04<00:00,  4.13it/s]\u001b[32m[I 2021-12-10 12:08:05,338]\u001b[0m Trial 56 finished with value: 0.3482368811552192 and parameters: {'lambda_l1': 0.013015866847009032, 'lambda_l2': 2.4176152420797003e-05}. Best is trial 50 with value: 0.3482186504267899.\u001b[0m\n",
            "regularization_factors, val_score: 0.348219:  85%|########5 | 17/20 [00:04<00:00,  4.13it/s]"
          ]
        },
        {
          "output_type": "stream",
          "name": "stdout",
          "text": [
            "Early stopping, best iteration is:\n",
            "[36]\tTrain's rmse: 0.166879\tTest's rmse: 0.348237\n",
            "Training until validation scores don't improve for 50 rounds.\n"
          ]
        },
        {
          "output_type": "stream",
          "name": "stderr",
          "text": [
            "regularization_factors, val_score: 0.348219:  90%|######### | 18/20 [00:04<00:00,  4.06it/s]\u001b[32m[I 2021-12-10 12:08:05,589]\u001b[0m Trial 57 finished with value: 0.34822898305996497 and parameters: {'lambda_l1': 1.633026640903791e-08, 'lambda_l2': 0.005352353552638072}. Best is trial 50 with value: 0.3482186504267899.\u001b[0m\n",
            "regularization_factors, val_score: 0.348219:  90%|######### | 18/20 [00:04<00:00,  4.06it/s]"
          ]
        },
        {
          "output_type": "stream",
          "name": "stdout",
          "text": [
            "Early stopping, best iteration is:\n",
            "[36]\tTrain's rmse: 0.166875\tTest's rmse: 0.348229\n",
            "Training until validation scores don't improve for 50 rounds.\n"
          ]
        },
        {
          "output_type": "stream",
          "name": "stderr",
          "text": [
            "regularization_factors, val_score: 0.348219:  95%|#########5| 19/20 [00:04<00:00,  4.09it/s]\u001b[32m[I 2021-12-10 12:08:05,828]\u001b[0m Trial 58 finished with value: 0.34821864798530794 and parameters: {'lambda_l1': 1.038061355470118e-06, 'lambda_l2': 8.52337351470716e-08}. Best is trial 58 with value: 0.34821864798530794.\u001b[0m\n",
            "regularization_factors, val_score: 0.348219:  95%|#########5| 19/20 [00:04<00:00,  4.09it/s]"
          ]
        },
        {
          "output_type": "stream",
          "name": "stdout",
          "text": [
            "Early stopping, best iteration is:\n",
            "[36]\tTrain's rmse: 0.166868\tTest's rmse: 0.348219\n",
            "Training until validation scores don't improve for 50 rounds.\n"
          ]
        },
        {
          "output_type": "stream",
          "name": "stderr",
          "text": [
            "regularization_factors, val_score: 0.348219: 100%|##########| 20/20 [00:04<00:00,  4.11it/s]\u001b[32m[I 2021-12-10 12:08:06,068]\u001b[0m Trial 59 finished with value: 0.34821864779120704 and parameters: {'lambda_l1': 7.322579546692117e-07, 'lambda_l2': 1.7620580169239737e-07}. Best is trial 59 with value: 0.34821864779120704.\u001b[0m\n",
            "regularization_factors, val_score: 0.348219: 100%|##########| 20/20 [00:04<00:00,  4.05it/s]\n"
          ]
        },
        {
          "output_type": "stream",
          "name": "stdout",
          "text": [
            "Early stopping, best iteration is:\n",
            "[36]\tTrain's rmse: 0.166868\tTest's rmse: 0.348219\n"
          ]
        },
        {
          "output_type": "stream",
          "name": "stderr",
          "text": [
            "min_data_in_leaf, val_score: 0.348219:   0%|          | 0/5 [00:00<?, ?it/s]"
          ]
        },
        {
          "output_type": "stream",
          "name": "stdout",
          "text": [
            "Training until validation scores don't improve for 50 rounds.\n"
          ]
        },
        {
          "output_type": "stream",
          "name": "stderr",
          "text": [
            "min_data_in_leaf, val_score: 0.348219:  20%|##        | 1/5 [00:00<00:01,  3.71it/s]\u001b[32m[I 2021-12-10 12:08:06,350]\u001b[0m Trial 60 finished with value: 0.36754744929063077 and parameters: {'min_child_samples': 5}. Best is trial 60 with value: 0.36754744929063077.\u001b[0m\n",
            "min_data_in_leaf, val_score: 0.348219:  20%|##        | 1/5 [00:00<00:01,  3.71it/s]"
          ]
        },
        {
          "output_type": "stream",
          "name": "stdout",
          "text": [
            "Did not meet early stopping. Best iteration is:\n",
            "[100]\tTrain's rmse: 0.0876453\tTest's rmse: 0.367547\n",
            "Training until validation scores don't improve for 50 rounds.\n"
          ]
        },
        {
          "output_type": "stream",
          "name": "stderr",
          "text": [
            "min_data_in_leaf, val_score: 0.348219:  40%|####      | 2/5 [00:00<00:00,  3.72it/s]\u001b[32m[I 2021-12-10 12:08:06,623]\u001b[0m Trial 61 finished with value: 0.353292571477339 and parameters: {'min_child_samples': 25}. Best is trial 61 with value: 0.353292571477339.\u001b[0m\n",
            "min_data_in_leaf, val_score: 0.348219:  40%|####      | 2/5 [00:00<00:00,  3.72it/s]"
          ]
        },
        {
          "output_type": "stream",
          "name": "stdout",
          "text": [
            "Did not meet early stopping. Best iteration is:\n",
            "[100]\tTrain's rmse: 0.15682\tTest's rmse: 0.353293\n",
            "Training until validation scores don't improve for 50 rounds.\n"
          ]
        },
        {
          "output_type": "stream",
          "name": "stderr",
          "text": [
            "min_data_in_leaf, val_score: 0.348219:  60%|######    | 3/5 [00:00<00:00,  3.58it/s]\u001b[32m[I 2021-12-10 12:08:06,910]\u001b[0m Trial 62 finished with value: 0.3483763713621506 and parameters: {'min_child_samples': 10}. Best is trial 62 with value: 0.3483763713621506.\u001b[0m\n",
            "min_data_in_leaf, val_score: 0.348219:  60%|######    | 3/5 [00:00<00:00,  3.58it/s]"
          ]
        },
        {
          "output_type": "stream",
          "name": "stdout",
          "text": [
            "Did not meet early stopping. Best iteration is:\n",
            "[100]\tTrain's rmse: 0.0994145\tTest's rmse: 0.348376\n",
            "Training until validation scores don't improve for 50 rounds.\n"
          ]
        },
        {
          "output_type": "stream",
          "name": "stderr",
          "text": [
            "min_data_in_leaf, val_score: 0.348219:  80%|########  | 4/5 [00:01<00:00,  3.63it/s]\u001b[32m[I 2021-12-10 12:08:07,181]\u001b[0m Trial 63 finished with value: 0.479194887021654 and parameters: {'min_child_samples': 100}. Best is trial 62 with value: 0.3483763713621506.\u001b[0m\n",
            "min_data_in_leaf, val_score: 0.348219:  80%|########  | 4/5 [00:01<00:00,  3.63it/s]"
          ]
        },
        {
          "output_type": "stream",
          "name": "stdout",
          "text": [
            "Did not meet early stopping. Best iteration is:\n",
            "[100]\tTrain's rmse: 0.239649\tTest's rmse: 0.479195\n",
            "Training until validation scores don't improve for 50 rounds.\n"
          ]
        },
        {
          "output_type": "stream",
          "name": "stderr",
          "text": [
            "min_data_in_leaf, val_score: 0.348219: 100%|##########| 5/5 [00:01<00:00,  3.65it/s]\u001b[32m[I 2021-12-10 12:08:07,452]\u001b[0m Trial 64 finished with value: 0.43399408019400415 and parameters: {'min_child_samples': 50}. Best is trial 62 with value: 0.3483763713621506.\u001b[0m\n",
            "min_data_in_leaf, val_score: 0.348219: 100%|##########| 5/5 [00:01<00:00,  3.63it/s]"
          ]
        },
        {
          "output_type": "stream",
          "name": "stdout",
          "text": [
            "Did not meet early stopping. Best iteration is:\n",
            "[100]\tTrain's rmse: 0.202534\tTest's rmse: 0.433994\n"
          ]
        },
        {
          "output_type": "stream",
          "name": "stderr",
          "text": [
            "\n"
          ]
        },
        {
          "output_type": "display_data",
          "data": {
            "image/png": "[encoded data removed]",
            "text/plain": [
              "<Figure size 432x288 with 1 Axes>"
            ]
          },
          "metadata": {
            "needs_background": "light"
          }
        },
        {
          "output_type": "stream",
          "name": "stdout",
          "text": [
            "RMSE: [0.32383696438327747, 0.10121648967309672, 0.13795974258660068, 0.020163299121346307, 0.3482186449932157]\n",
            "RMSE: 0.18627902815150738\n"
          ]
        }
      ]
    },
    {
      "cell_type": "markdown",
      "source": [
        "## ベイズ最適化"
      ],
      "metadata": {
        "id": "SKskm7XoKin0"
      }
    },
    {
      "cell_type": "code",
      "source": [
        "start_bayes = time.time()"
      ],
      "metadata": {
        "id": "yvibGoq5Oi3N"
      },
      "execution_count": null,
      "outputs": []
    },
    {
      "cell_type": "code",
      "metadata": {
        "id": "hdVPwT-NTP1T"
      },
      "source": [
        "def lgb_eval(num_leaves, feature_fraction, bagging_fraction, max_depth, lambda_l1, lambda_l2, min_split_gain, min_child_weight):\n",
        "    params = {\n",
        "        'application':'regression',\n",
        "        'num_iterations':4000, \n",
        "        'learning_rate':0.05, \n",
        "        'early_stopping_round':100, \n",
        "        'metric':'rmse'\n",
        "        }\n",
        "\n",
        "    params[\"num_leaves\"] = round(num_leaves)\n",
        "    params['feature_fraction'] = max(min(feature_fraction, 1), 0)\n",
        "    params['bagging_fraction'] = max(min(bagging_fraction, 1), 0)\n",
        "    params['max_depth'] = round(max_depth)\n",
        "    params['lambda_l1'] = max(lambda_l1, 0)\n",
        "    params['lambda_l2'] = max(lambda_l2, 0)\n",
        "    params['min_split_gain'] = min_split_gain\n",
        "    params['min_child_weight'] = min_child_weight\n",
        "\n",
        "    cv_result = lgb.cv(\n",
        "        params, \n",
        "        train_data,\n",
        "        nfold=n_folds, \n",
        "        seed=random_seed, \n",
        "        stratified=False, \n",
        "        verbose_eval =200, \n",
        "        metrics=['rmse']\n",
        "        )\n",
        "    \n",
        "    return max(cv_result['rmse-mean'])"
      ],
      "execution_count": null,
      "outputs": []
    },
    {
      "cell_type": "code",
      "metadata": {
        "id": "z6KVJk3eTS-B"
      },
      "source": [
        "lgbBO = BayesianOptimization(\n",
        "                        lgb_eval, \n",
        "                        {\n",
        "                            'num_leaves': (24, 45),\n",
        "                            'feature_fraction': (0.1, 0.9),\n",
        "                            'bagging_fraction': (0.8, 1),\n",
        "                            'max_depth': (5, 8.99),\n",
        "                            'lambda_l1': (0, 5),\n",
        "                            'lambda_l2': (0, 3),\n",
        "                            'min_split_gain': (0.001, 0.1),\n",
        "                            'min_child_weight': (5, 50)\n",
        "                            }, \n",
        "                        random_state=SEED\n",
        ")"
      ],
      "execution_count": null,
      "outputs": []
    },
    {
      "cell_type": "code",
      "metadata": {
        "id": "d3iIe83lTdvr"
      },
      "source": [
        "def bayes_parameter_opt_lgb(X, y, init_round=15, opt_round=25, n_folds=5, random_seed=6, n_estimators=10000, learning_rate=0.05, output_process=False):\n",
        "    \n",
        "    # prepare data\n",
        "    train_data = lgb.Dataset(\n",
        "                            data=X_train_ce,  ### 適宜要修正\n",
        "                            label=y_train,   ### 適宜要修正\n",
        "                            free_raw_data=False\n",
        "                            )\n",
        "\n",
        "    # parameters\n",
        "    def lgb_eval(num_leaves, feature_fraction, bagging_fraction, max_depth, lambda_l1, lambda_l2, min_split_gain, min_child_weight):\n",
        "        \n",
        "        params = {\n",
        "            'application':'regression',\n",
        "            'num_iterations': n_estimators, \n",
        "            'learning_rate':learning_rate, \n",
        "            'early_stopping_round':100, \n",
        "            'metric':'rmse'\n",
        "            }\n",
        "\n",
        "        params[\"num_leaves\"] = int(round(num_leaves))\n",
        "        params['feature_fraction'] = max(min(feature_fraction, 1), 0)\n",
        "        params['bagging_fraction'] = max(min(bagging_fraction, 1), 0)\n",
        "        params['max_depth'] = int(round(max_depth))\n",
        "        params['lambda_l1'] = max(lambda_l1, 0)\n",
        "        params['lambda_l2'] = max(lambda_l2, 0)\n",
        "        params['min_split_gain'] = min_split_gain\n",
        "        params['min_child_weight'] = min_child_weight\n",
        "\n",
        "        cv_result = lgb.cv(\n",
        "            params, train_data, \n",
        "            nfold=n_folds, \n",
        "            seed=random_seed, \n",
        "            stratified=False, \n",
        "            verbose_eval =200, \n",
        "            metrics=['rmse']\n",
        "            )\n",
        "        \n",
        "        return max(cv_result['rmse-mean'])\n",
        "\n",
        "    lgbBO = BayesianOptimization(lgb_eval, \n",
        "                                            {'num_leaves': (24, 45),\n",
        "                                            'feature_fraction': (0.1, 0.9),\n",
        "                                            'bagging_fraction': (0.8, 1),\n",
        "                                            'max_depth': (5, 8.99),\n",
        "                                            'lambda_l1': (0, 5),\n",
        "                                            'lambda_l2': (0, 3),\n",
        "                                            'min_split_gain': (0.001, 0.1),\n",
        "                                            'min_child_weight': (5, 50)}, random_state=0)\n",
        "    # optimize\n",
        "    lgbBO.maximize(init_points=init_round, n_iter=opt_round)\n",
        "    \n",
        "    # output optimization process\n",
        "    if output_process==True: lgbBO.points_to_csv(\"bayes_opt_result.csv\")\n",
        "    \n",
        "    # return best parameters\n",
        "    return lgbBO.res[0][\"params\"]"
      ],
      "execution_count": null,
      "outputs": []
    },
    {
      "cell_type": "code",
      "metadata": {
        "colab": {
          "base_uri": "https://localhost:8080/"
        },
        "id": "pPu5ZkZ1TiJh",
        "outputId": "380739e1-12e9-40cc-f17d-74b40eacb75f"
      },
      "source": [
        "opt_params = bayes_parameter_opt_lgb(\n",
        "                                    X_train_ce, \n",
        "                                    y_train, \n",
        "                                    init_round=5, \n",
        "                                    opt_round=10, \n",
        "                                    n_folds=3, \n",
        "                                    random_seed=SEED, \n",
        "                                    n_estimators=100, \n",
        "                                    learning_rate=0.05\n",
        "                                    )"
      ],
      "execution_count": null,
      "outputs": [
        {
          "output_type": "stream",
          "name": "stdout",
          "text": [
            "|   iter    |  target   | baggin... | featur... | lambda_l1 | lambda_l2 | max_depth | min_ch... | min_sp... | num_le... |\n",
            "-------------------------------------------------------------------------------------------------------------------------\n",
            "| \u001b[0m 1       \u001b[0m | \u001b[0m 0.7795  \u001b[0m | \u001b[0m 0.9098  \u001b[0m | \u001b[0m 0.6722  \u001b[0m | \u001b[0m 3.014   \u001b[0m | \u001b[0m 1.635   \u001b[0m | \u001b[0m 6.69    \u001b[0m | \u001b[0m 34.07   \u001b[0m | \u001b[0m 0.04432 \u001b[0m | \u001b[0m 42.73   \u001b[0m |\n",
            "| \u001b[95m 2       \u001b[0m | \u001b[95m 0.7803  \u001b[0m | \u001b[95m 0.9927  \u001b[0m | \u001b[95m 0.4068  \u001b[0m | \u001b[95m 3.959   \u001b[0m | \u001b[95m 1.587   \u001b[0m | \u001b[95m 7.266   \u001b[0m | \u001b[95m 46.65   \u001b[0m | \u001b[95m 0.008033\u001b[0m | \u001b[95m 25.83   \u001b[0m |\n",
            "| \u001b[95m 3       \u001b[0m | \u001b[95m 0.7807  \u001b[0m | \u001b[95m 0.804   \u001b[0m | \u001b[95m 0.7661  \u001b[0m | \u001b[95m 3.891   \u001b[0m | \u001b[95m 2.61    \u001b[0m | \u001b[95m 8.905   \u001b[0m | \u001b[95m 40.96   \u001b[0m | \u001b[95m 0.04669 \u001b[0m | \u001b[95m 40.39   \u001b[0m |\n",
            "| \u001b[0m 4       \u001b[0m | \u001b[0m 0.7793  \u001b[0m | \u001b[0m 0.8237  \u001b[0m | \u001b[0m 0.6119  \u001b[0m | \u001b[0m 0.7168  \u001b[0m | \u001b[0m 2.834   \u001b[0m | \u001b[0m 7.082   \u001b[0m | \u001b[0m 23.66   \u001b[0m | \u001b[0m 0.02719 \u001b[0m | \u001b[0m 40.26   \u001b[0m |\n",
            "| \u001b[0m 5       \u001b[0m | \u001b[0m 0.7786  \u001b[0m | \u001b[0m 0.8912  \u001b[0m | \u001b[0m 0.5547  \u001b[0m | \u001b[0m 0.09395 \u001b[0m | \u001b[0m 1.853   \u001b[0m | \u001b[0m 7.442   \u001b[0m | \u001b[0m 32.76   \u001b[0m | \u001b[0m 0.09443 \u001b[0m | \u001b[0m 38.32   \u001b[0m |\n",
            "| \u001b[0m 6       \u001b[0m | \u001b[0m 0.7802  \u001b[0m | \u001b[0m 0.8647  \u001b[0m | \u001b[0m 0.5032  \u001b[0m | \u001b[0m 4.33    \u001b[0m | \u001b[0m 1.08    \u001b[0m | \u001b[0m 8.168   \u001b[0m | \u001b[0m 43.55   \u001b[0m | \u001b[0m 0.07678 \u001b[0m | \u001b[0m 40.34   \u001b[0m |\n",
            "| \u001b[95m 7       \u001b[0m | \u001b[95m 0.7808  \u001b[0m | \u001b[95m 0.8038  \u001b[0m | \u001b[95m 0.9     \u001b[0m | \u001b[95m 4.098   \u001b[0m | \u001b[95m 3.0     \u001b[0m | \u001b[95m 8.99    \u001b[0m | \u001b[95m 41.21   \u001b[0m | \u001b[95m 0.001   \u001b[0m | \u001b[95m 44.47   \u001b[0m |\n",
            "| \u001b[0m 8       \u001b[0m | \u001b[0m 0.7804  \u001b[0m | \u001b[0m 0.9059  \u001b[0m | \u001b[0m 0.4951  \u001b[0m | \u001b[0m 0.4635  \u001b[0m | \u001b[0m 2.831   \u001b[0m | \u001b[0m 6.248   \u001b[0m | \u001b[0m 42.32   \u001b[0m | \u001b[0m 0.05515 \u001b[0m | \u001b[0m 44.38   \u001b[0m |\n",
            "| \u001b[95m 9       \u001b[0m | \u001b[95m 0.7809  \u001b[0m | \u001b[95m 0.9328  \u001b[0m | \u001b[95m 0.4039  \u001b[0m | \u001b[95m 5.0     \u001b[0m | \u001b[95m 3.0     \u001b[0m | \u001b[95m 6.215   \u001b[0m | \u001b[95m 38.65   \u001b[0m | \u001b[95m 0.001   \u001b[0m | \u001b[95m 24.0    \u001b[0m |\n",
            "| \u001b[0m 10      \u001b[0m | \u001b[0m 0.7792  \u001b[0m | \u001b[0m 0.8     \u001b[0m | \u001b[0m 0.1     \u001b[0m | \u001b[0m 0.0     \u001b[0m | \u001b[0m 0.0     \u001b[0m | \u001b[0m 8.99    \u001b[0m | \u001b[0m 38.92   \u001b[0m | \u001b[0m 0.07855 \u001b[0m | \u001b[0m 24.0    \u001b[0m |\n",
            "| \u001b[95m 11      \u001b[0m | \u001b[95m 0.7809  \u001b[0m | \u001b[95m 1.0     \u001b[0m | \u001b[95m 0.9     \u001b[0m | \u001b[95m 5.0     \u001b[0m | \u001b[95m 3.0     \u001b[0m | \u001b[95m 5.0     \u001b[0m | \u001b[95m 40.77   \u001b[0m | \u001b[95m 0.001   \u001b[0m | \u001b[95m 28.39   \u001b[0m |\n",
            "| \u001b[0m 12      \u001b[0m | \u001b[0m 0.7799  \u001b[0m | \u001b[0m 1.0     \u001b[0m | \u001b[0m 0.3525  \u001b[0m | \u001b[0m 5.0     \u001b[0m | \u001b[0m 3.0     \u001b[0m | \u001b[0m 5.0     \u001b[0m | \u001b[0m 33.01   \u001b[0m | \u001b[0m 0.001   \u001b[0m | \u001b[0m 25.2    \u001b[0m |\n",
            "| \u001b[0m 13      \u001b[0m | \u001b[0m 0.7808  \u001b[0m | \u001b[0m 0.9131  \u001b[0m | \u001b[0m 0.2221  \u001b[0m | \u001b[0m 4.31    \u001b[0m | \u001b[0m 2.776   \u001b[0m | \u001b[0m 8.839   \u001b[0m | \u001b[0m 44.43   \u001b[0m | \u001b[0m 0.0231  \u001b[0m | \u001b[0m 32.06   \u001b[0m |\n",
            "| \u001b[0m 14      \u001b[0m | \u001b[0m 0.7804  \u001b[0m | \u001b[0m 0.8     \u001b[0m | \u001b[0m 0.9     \u001b[0m | \u001b[0m 0.0     \u001b[0m | \u001b[0m 3.0     \u001b[0m | \u001b[0m 5.0     \u001b[0m | \u001b[0m 45.97   \u001b[0m | \u001b[0m 0.001   \u001b[0m | \u001b[0m 32.88   \u001b[0m |\n",
            "| \u001b[0m 15      \u001b[0m | \u001b[0m 0.7792  \u001b[0m | \u001b[0m 0.8102  \u001b[0m | \u001b[0m 0.1368  \u001b[0m | \u001b[0m 1.697   \u001b[0m | \u001b[0m 2.615   \u001b[0m | \u001b[0m 8.422   \u001b[0m | \u001b[0m 5.011   \u001b[0m | \u001b[0m 0.01229 \u001b[0m | \u001b[0m 24.38   \u001b[0m |\n",
            "=========================================================================================================================\n"
          ]
        }
      ]
    },
    {
      "cell_type": "code",
      "metadata": {
        "colab": {
          "base_uri": "https://localhost:8080/"
        },
        "id": "Ktzaav-hTlfw",
        "outputId": "c698b133-063b-4a2a-ba86-f7972894e0d0"
      },
      "source": [
        "print(opt_params)"
      ],
      "execution_count": null,
      "outputs": [
        {
          "output_type": "stream",
          "name": "stdout",
          "text": [
            "{'bagging_fraction': 0.909762700785465, 'feature_fraction': 0.6721514930979355, 'lambda_l1': 3.0138168803582195, 'lambda_l2': 1.6346495489906907, 'max_depth': 6.690382649362229, 'min_child_weight': 34.065235087999525, 'min_split_gain': 0.04432113391500656, 'num_leaves': 42.727233016423675}\n"
          ]
        }
      ]
    },
    {
      "cell_type": "markdown",
      "metadata": {
        "id": "Wo8GzLQJoYDi"
      },
      "source": [
        "## ベストパラメータで学習・推論"
      ]
    },
    {
      "cell_type": "code",
      "metadata": {
        "colab": {
          "base_uri": "https://localhost:8080/",
          "height": 1000
        },
        "id": "xefoFPE0lBLi",
        "outputId": "34f49f5b-6d67-4c90-966f-ed59a128ad7b"
      },
      "source": [
        "y_train = y_train.reset_index(drop=True)\n",
        "\n",
        "gkf = GroupKFold(n_splits=5)\n",
        "\n",
        "groups = X_train_ce[\"Genre\"]\n",
        "\n",
        "lgb_results = {}                                    # 学習の履歴を入れる入物\n",
        "\n",
        "opt_params[\"application\"] = \"regression\" # 回帰を追加\n",
        "opt_params[\"metrics\"] = \"rmse\" # 評価指標を追加\n",
        "opt_params[\"num_leaves\"] = int(round(opt_params[\"num_leaves\"])) # 整数に変換\n",
        "opt_params[\"max_depth\"] = int(round(opt_params[\"max_depth\"])) # 整数に変換\n",
        "\n",
        "cv_result_bayes = []\n",
        "\n",
        "for train_index, test_index in gkf.split(X_train_ce, y_train, groups):\n",
        "    X_train_gkf, X_test_gkf = X_train_ce.iloc[train_index], X_train_ce.iloc[test_index]\n",
        "    y_train_gkf, y_test_gkf = y_train.iloc[train_index], y_train.iloc[test_index]\n",
        "\n",
        "    # データセットを登録\n",
        "    lgb_train = lgb.Dataset(X_train_gkf, y_train_gkf)\n",
        "    lgb_test = lgb.Dataset(X_test_gkf, y_test_gkf, reference=lgb_train)\n",
        "\n",
        "    lgb_results = {}                                    # 学習の履歴を入れる入物\n",
        "\n",
        "    model = lgb.train(\n",
        "                    params=opt_params,           # ベストパラメータをセット\n",
        "                    train_set=lgb_train,              # 訓練データを訓練用にセット\n",
        "                    valid_sets=[lgb_train, lgb_test], # 訓練データとテストデータをセット\n",
        "                    valid_names=['Train', 'Test'],    # データセットの名前をそれぞれ設定\n",
        "                    num_boost_round=100,              # 計算回数\n",
        "                    early_stopping_rounds=50,         # アーリーストッピング設定\n",
        "                    evals_result=lgb_results,\n",
        "                    verbose_eval=-1,                           # ログを最後の1つだけ表示\n",
        "                    )\n",
        "    \n",
        "    # 損失推移を表示\n",
        "    loss_train = lgb_results['Train']['rmse']\n",
        "    loss_test = lgb_results['Test']['rmse']   \n",
        "    \n",
        "    fig = plt.figure()\n",
        "    \n",
        "    plt.xlabel('Iteration')\n",
        "    plt.ylabel('logloss')\n",
        "\n",
        "    plt.title(f\"fold:{fold}\")\n",
        "    plt.plot(loss_train, label='train loss')\n",
        "    plt.plot(loss_test, label='test loss')\n",
        "    \n",
        "    plt.legend()\n",
        "    plt.show()\n",
        "\n",
        "    # 推論\n",
        "    y_pred = model.predict(X_test_gkf)\n",
        "\n",
        "    # 評価\n",
        "    rmse = mean_squared_error(y_test_gkf, y_pred, squared=False)\n",
        "    cv_result_bayes.append(rmse)\n",
        "\n",
        "print(\"RMSE:\", cv_result_bayes)\n",
        "print(\"RMSE:\", np.mean(cv_result_bayes))\n",
        "\n",
        "elasp_time_bayes = round((time.time() - start_bayes), 1)"
      ],
      "execution_count": null,
      "outputs": [
        {
          "output_type": "stream",
          "name": "stdout",
          "text": [
            "Training until validation scores don't improve for 50 rounds.\n",
            "Did not meet early stopping. Best iteration is:\n",
            "[100]\tTrain's rmse: 0.152566\tTest's rmse: 0.337686\n"
          ]
        },
        {
          "output_type": "display_data",
          "data": {
            "image/png": "[encoded data removed]",
            "text/plain": [
              "<Figure size 432x288 with 1 Axes>"
            ]
          },
          "metadata": {
            "needs_background": "light"
          }
        },
        {
          "output_type": "stream",
          "name": "stdout",
          "text": [
            "Training until validation scores don't improve for 50 rounds.\n",
            "Did not meet early stopping. Best iteration is:\n",
            "[100]\tTrain's rmse: 0.180357\tTest's rmse: 0.115844\n"
          ]
        },
        {
          "output_type": "display_data",
          "data": {
            "image/png": "[encoded data removed]",
            "text/plain": [
              "<Figure size 432x288 with 1 Axes>"
            ]
          },
          "metadata": {
            "needs_background": "light"
          }
        },
        {
          "output_type": "stream",
          "name": "stdout",
          "text": [
            "Training until validation scores don't improve for 50 rounds.\n",
            "Did not meet early stopping. Best iteration is:\n",
            "[100]\tTrain's rmse: 0.170579\tTest's rmse: 0.156687\n"
          ]
        },
        {
          "output_type": "display_data",
          "data": {
            "image/png": "[encoded data removed]",
            "text/plain": [
              "<Figure size 432x288 with 1 Axes>"
            ]
          },
          "metadata": {
            "needs_background": "light"
          }
        },
        {
          "output_type": "stream",
          "name": "stdout",
          "text": [
            "Training until validation scores don't improve for 50 rounds.\n",
            "Did not meet early stopping. Best iteration is:\n",
            "[100]\tTrain's rmse: 0.173589\tTest's rmse: 0.0693091\n"
          ]
        },
        {
          "output_type": "display_data",
          "data": {
            "image/png": "[encoded data removed]",
            "text/plain": [
              "<Figure size 432x288 with 1 Axes>"
            ]
          },
          "metadata": {
            "needs_background": "light"
          }
        },
        {
          "output_type": "stream",
          "name": "stdout",
          "text": [
            "Training until validation scores don't improve for 50 rounds.\n",
            "Did not meet early stopping. Best iteration is:\n",
            "[100]\tTrain's rmse: 0.168029\tTest's rmse: 0.363027\n"
          ]
        },
        {
          "output_type": "display_data",
          "data": {
            "image/png": "[encoded data removed]",
            "text/plain": [
              "<Figure size 432x288 with 1 Axes>"
            ]
          },
          "metadata": {
            "needs_background": "light"
          }
        },
        {
          "output_type": "stream",
          "name": "stdout",
          "text": [
            "RMSE: [0.33768567412974154, 0.1158439742432352, 0.15668746448451032, 0.06930909394305391, 0.36302734001199854]\n",
            "RMSE: 0.2085107093625079\n"
          ]
        }
      ]
    },
    {
      "cell_type": "code",
      "metadata": {
        "colab": {
          "base_uri": "https://localhost:8080/"
        },
        "id": "ykKdL2LfqJDp",
        "outputId": "8ee0c35e-5153-4070-e6e8-a8a7c2ab73dc"
      },
      "source": [
        "print(\"Optuna RMSE:\", round(np.mean(cv_result_opt), 3), \"経過時間:\", elasp_time_opt, \"秒\")\n",
        "print(\"ベイズ最適化 RMSE:\", round(np.mean(cv_result_bayes), 3), \"経過時間:\", elasp_time_bayes, \"秒\")"
      ],
      "execution_count": null,
      "outputs": [
        {
          "output_type": "stream",
          "name": "stdout",
          "text": [
            "Optuna RMSE: 0.186 経過時間: 187.2 秒\n",
            "ベイズ最適化 RMSE: 0.209 経過時間: 13.9 秒\n"
          ]
        }
      ]
    },
    {
      "cell_type": "code",
      "source": [
        ""
      ],
      "metadata": {
        "id": "LV8aKUkiQLXL"
      },
      "execution_count": null,
      "outputs": []
    }
  ]
}